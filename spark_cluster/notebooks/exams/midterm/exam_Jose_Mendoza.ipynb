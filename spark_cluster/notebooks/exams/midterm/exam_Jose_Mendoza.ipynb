{
 "cells": [
  {
   "cell_type": "markdown",
   "metadata": {},
   "source": [
    "# <center> <img src=\"../../labs/img/ITESOLogo.png\" alt=\"ITESO\" width=\"480\" height=\"130\"> </center>\n",
    "# <center> **Departamento de Electrónica, Sistemas e Informática** </center>\n",
    "---\n",
    "### <center> **Procesamiento de Datos Masivos** </center>\n",
    "---\n",
    "### <center> **Primavera 2025** </center>\n",
    "---\n",
    "**Primer Examen**\n",
    "\n",
    "**Fecha**: 14 de Marzo del 2025\n",
    "\n",
    "**Nombre del estudiante**: José Antonio Mendoza Navarro\n",
    "\n",
    "**Professor**: Pablo Camarillo Ramirez"
   ]
  },
  {
   "cell_type": "code",
   "execution_count": 5,
   "metadata": {},
   "outputs": [],
   "source": [
    "import findspark\n",
    "findspark.init()"
   ]
  },
  {
   "cell_type": "code",
   "execution_count": 7,
   "metadata": {},
   "outputs": [
    {
     "name": "stderr",
     "output_type": "stream",
     "text": [
      "Setting default log level to \"WARN\".\n",
      "To adjust logging level use sc.setLogLevel(newLevel). For SparkR, use setLogLevel(newLevel).\n",
      "25/03/14 13:30:59 WARN NativeCodeLoader: Unable to load native-hadoop library for your platform... using builtin-java classes where applicable\n"
     ]
    }
   ],
   "source": [
    "from pyspark.sql import SparkSession\n",
    "\n",
    "spark = SparkSession.builder \\\n",
    "    .appName(\"SparkSQL-Exam-1-Jose-Mendoza\") \\\n",
    "    .master(\"spark://324c550cb62f:7077\") \\\n",
    "    .config(\"spark.ui.port\",\"4040\") \\\n",
    "    .getOrCreate()\n",
    "sc = spark.sparkContext"
   ]
  },
  {
   "cell_type": "code",
   "execution_count": 8,
   "metadata": {},
   "outputs": [
    {
     "name": "stdout",
     "output_type": "stream",
     "text": [
      "root\n",
      " |-- employe_id: string (nullable = true)\n",
      " |-- employe_info: string (nullable = true)\n",
      "\n"
     ]
    },
    {
     "name": "stderr",
     "output_type": "stream",
     "text": [
      "                                                                                \r"
     ]
    },
    {
     "name": "stdout",
     "output_type": "stream",
     "text": [
      "+----------+-------------------------------------------------------------------------------------------+\n",
      "|employe_id|employe_info                                                                               |\n",
      "+----------+-------------------------------------------------------------------------------------------+\n",
      "|1         |{'name': 'Caitlyn', 'department_id': 103, 'salary': 115959.78, 'hire_date': '2002-06-10'}  |\n",
      "|2         |{'name': 'Rachel', 'department_id': 104, 'salary': 100820.16, 'hire_date': '2009-07-01'}   |\n",
      "|3         |{'name': 'Carrie', 'department_id': 105, 'salary': 114421.44, 'hire_date': '1998-12-10'}   |\n",
      "|4         |{'name': 'Renee', 'department_id': 104, 'salary': 54688.13, 'hire_date': '1995-03-17'}     |\n",
      "|5         |{'name': 'Gabriella', 'department_id': 109, 'salary': 106267.03, 'hire_date': '1995-02-09'}|\n",
      "+----------+-------------------------------------------------------------------------------------------+\n",
      "only showing top 5 rows\n",
      "\n",
      "root\n",
      " |-- department_id: string (nullable = true)\n",
      " |-- department_name: string (nullable = true)\n",
      " |-- location: string (nullable = true)\n",
      "\n",
      "+-------------+----------------------+---------+\n",
      "|department_id|department_name       |location |\n",
      "+-------------+----------------------+---------+\n",
      "|101          |Human Resources       |San Diego|\n",
      "|102          |Finance and Accounting|New York |\n",
      "|103          |Sales and Marketing   |Chicago  |\n",
      "|104          |Data Engineering      |Zapopan  |\n",
      "|105          |Data Science          |Seattle  |\n",
      "+-------------+----------------------+---------+\n",
      "only showing top 5 rows\n",
      "\n"
     ]
    }
   ],
   "source": [
    "### Load the employees.csv and departments.csv files into PySpark DataFrames\n",
    "from team_name.spark_utils import SparkUtils\n",
    "\n",
    "employees_schema = SparkUtils.generate_schema([(\"employe_id\", \"string\"), (\"employe_info\", \"string\")])\n",
    "departments_schema = SparkUtils.generate_schema([(\"department_id\", \"string\"), (\"department_name\", \"string\"), (\"location\", \"string\")])\n",
    "\n",
    "employees = spark.read \\\n",
    "                .schema(employees_schema) \\\n",
    "                .option(\"header\", \"true\") \\\n",
    "                .csv(\"/home/jovyan/notebooks/data/employees.csv\")\n",
    "\n",
    "\n",
    "departments = spark.read \\\n",
    "                .schema(departments_schema) \\\n",
    "                .option(\"header\", \"true\") \\\n",
    "                .csv(\"/home/jovyan/notebooks/data/departments.csv\")\n",
    "\n",
    "\n",
    "employees.printSchema()\n",
    "\n",
    "employees.show(5, truncate=False)\n",
    "\n",
    "departments.printSchema()\n",
    "\n",
    "departments.show(5, truncate=False)"
   ]
  },
  {
   "cell_type": "code",
   "execution_count": 9,
   "metadata": {},
   "outputs": [],
   "source": [
    "### Extract the following the columns: name (string), department_id (integer), salary (double), and hire_date (date) from the employee_info column\n",
    "from pyspark.sql.functions import get_json_object\n",
    "\n",
    "employees = employees.withColumn(\"name\", get_json_object(employees.employe_info, \"$.name\")) \\\n",
    "                        .withColumn(\"department_id\", get_json_object(employees.employe_info, \"$.department_id\")) \\\n",
    "                        .withColumn(\"salary\", get_json_object(employees.employe_info, \"$.salary\")) \\\n",
    "                        .withColumn(\"hire_date\", get_json_object(employees.employe_info, \"$.hire_date\"))"
   ]
  },
  {
   "cell_type": "code",
   "execution_count": 10,
   "metadata": {},
   "outputs": [
    {
     "name": "stdout",
     "output_type": "stream",
     "text": [
      "+----------+-------------------------------------------------------------------------------------------+---------+-------------+---------+----------+-------------+-------------------+-------------+\n",
      "|employe_id|employe_info                                                                               |name     |department_id|salary   |hire_date |department_id|department_name    |location     |\n",
      "+----------+-------------------------------------------------------------------------------------------+---------+-------------+---------+----------+-------------+-------------------+-------------+\n",
      "|1         |{'name': 'Caitlyn', 'department_id': 103, 'salary': 115959.78, 'hire_date': '2002-06-10'}  |Caitlyn  |103          |115959.78|2002-06-10|103          |Sales and Marketing|Chicago      |\n",
      "|2         |{'name': 'Rachel', 'department_id': 104, 'salary': 100820.16, 'hire_date': '2009-07-01'}   |Rachel   |104          |100820.16|2009-07-01|104          |Data Engineering   |Zapopan      |\n",
      "|3         |{'name': 'Carrie', 'department_id': 105, 'salary': 114421.44, 'hire_date': '1998-12-10'}   |Carrie   |105          |114421.44|1998-12-10|105          |Data Science       |Seattle      |\n",
      "|4         |{'name': 'Renee', 'department_id': 104, 'salary': 54688.13, 'hire_date': '1995-03-17'}     |Renee    |104          |54688.13 |1995-03-17|104          |Data Engineering   |Zapopan      |\n",
      "|5         |{'name': 'Gabriella', 'department_id': 109, 'salary': 106267.03, 'hire_date': '1995-02-09'}|Gabriella|109          |106267.03|1995-02-09|109          |Customer Service   |San Francisco|\n",
      "+----------+-------------------------------------------------------------------------------------------+---------+-------------+---------+----------+-------------+-------------------+-------------+\n",
      "only showing top 5 rows\n",
      "\n"
     ]
    }
   ],
   "source": [
    "### Join the employees DataFrame with the departments DataFrame on department_id to enrich the employee data with department details.\n",
    "employees_departments = employees.join(departments, employees.department_id == departments.department_id, \"inner\")\n",
    "employees_departments.show(5, truncate=False)"
   ]
  },
  {
   "cell_type": "code",
   "execution_count": null,
   "metadata": {},
   "outputs": [],
   "source": [
    "### Transformations \n",
    "\n",
    "from pyspark.sql.functions import when, col\n",
    "\n",
    "employees_departments = employees_departments.withColumn(\n",
    "    \"salary_category\",\n",
    "    when(col(\"salary\").cast(\"double\") >= 55000, \"High\").otherwise(\"Low\")\n",
    ")\n",
    "\n"
   ]
  },
  {
   "cell_type": "code",
   "execution_count": 12,
   "metadata": {},
   "outputs": [
    {
     "name": "stderr",
     "output_type": "stream",
     "text": [
      "                                                                                \r"
     ]
    },
    {
     "name": "stdout",
     "output_type": "stream",
     "text": [
      "+--------------------+------------------+\n",
      "|     department_name|        avg_salary|\n",
      "+--------------------+------------------+\n",
      "|Corporate Strateg...|102741.38324414717|\n",
      "| Sales and Marketing|100839.65275449108|\n",
      "|    Data Engineering|101626.29492163012|\n",
      "|Research and Deve...|  98714.3003086419|\n",
      "|Finance and Accou...|100731.07877887784|\n",
      "|    Customer Service|101585.01600000002|\n",
      "|               Legal|  99366.3129102167|\n",
      "|        Data Science|101903.63710344829|\n",
      "|          Operations|100169.65621722837|\n",
      "|     Human Resources|104999.43191489363|\n",
      "+--------------------+------------------+\n",
      "\n",
      "+--------------------+------------------+\n",
      "|     department_name|        avg_salary|\n",
      "+--------------------+------------------+\n",
      "|Corporate Strateg...|41590.741833333326|\n",
      "| Sales and Marketing| 41150.40277777778|\n",
      "|    Data Engineering| 41358.50794117647|\n",
      "|Finance and Accou...|42740.952888888874|\n",
      "|Research and Deve...| 41426.43521126761|\n",
      "|    Customer Service|42644.472021276604|\n",
      "|               Legal| 41160.26616438357|\n",
      "|        Data Science| 41974.18958333334|\n",
      "|          Operations|40646.100705882345|\n",
      "|     Human Resources| 41751.64784810126|\n",
      "+--------------------+------------------+\n",
      "\n"
     ]
    }
   ],
   "source": [
    "### Filter and Group\n",
    "\n",
    "high_salary_employees = employees_departments.filter(col(\"salary_category\") == \"High\")\n",
    "low_salary_employees = employees_departments.filter(col(\"salary_category\") == \"Low\")\n",
    "\n",
    "\n",
    "avg_salary_high = high_salary_employees.groupBy(\"department_name\") \\\n",
    "                                       .agg({\"salary\": \"avg\"}) \\\n",
    "                                       .withColumnRenamed(\"avg(salary)\", \"avg_salary\")\n",
    "\n",
    "\n",
    "avg_salary_low = low_salary_employees.groupBy(\"department_name\") \\\n",
    "                                     .agg({\"salary\": \"avg\"}) \\\n",
    "                                     .withColumnRenamed(\"avg(salary)\", \"avg_salary\")\n",
    "\n",
    "avg_salary_high.select(\"department_name\", \"avg_salary\").show()\n",
    "avg_salary_low.select(\"department_name\", \"avg_salary\").show()"
   ]
  },
  {
   "cell_type": "code",
   "execution_count": 13,
   "metadata": {},
   "outputs": [
    {
     "name": "stdout",
     "output_type": "stream",
     "text": [
      "+---------+---------+-------------------------------------------+\n",
      "|name     |salary   |department_name                            |\n",
      "+---------+---------+-------------------------------------------+\n",
      "|Gabriella|149989.73|Human Resources                            |\n",
      "|Katherine|149979.3 |Human Resources                            |\n",
      "|Ryan     |149963.1 |Corporate Strategy and Business Development|\n",
      "|Caitlyn  |149956.54|Legal                                      |\n",
      "|Mark     |149915.56|Legal                                      |\n",
      "+---------+---------+-------------------------------------------+\n",
      "\n",
      "+-----+--------+-------------------------------------------+\n",
      "|name |salary  |department_name                            |\n",
      "+-----+--------+-------------------------------------------+\n",
      "|Linda|54993.53|Corporate Strategy and Business Development|\n",
      "|Tammy|54991.71|Data Engineering                           |\n",
      "|Aaron|54989.45|Finance and Accounting                     |\n",
      "|Craig|54945.2 |Human Resources                            |\n",
      "|Aaron|54937.3 |Customer Service                           |\n",
      "+-----+--------+-------------------------------------------+\n",
      "\n"
     ]
    }
   ],
   "source": [
    "### Find the Top 5 employees with highest salaries from employees categorized as \"High\"\n",
    "### Find the Top 5 employees with highest salaries from employees categorized as \"Low\"\n",
    "\n",
    "top_5_high_salary_employees = high_salary_employees.orderBy(col(\"salary\").cast(\"double\"), ascending=False).limit(5)\n",
    "top_5_low_salary_employees = low_salary_employees.orderBy(col(\"salary\").cast(\"double\"), ascending=False).limit(5)\n",
    "\n",
    "top_5_high_salary_employees.select(\"name\", \"salary\", \"department_name\").show(truncate=False)\n",
    "top_5_low_salary_employees.select(\"name\", \"salary\", \"department_name\").show(truncate=False)\n"
   ]
  },
  {
   "cell_type": "code",
   "execution_count": 14,
   "metadata": {},
   "outputs": [
    {
     "name": "stdout",
     "output_type": "stream",
     "text": [
      "+--------+----------------+------------------------+\n",
      "|name    |years_in_company|department_name         |\n",
      "+--------+----------------+------------------------+\n",
      "|Jonathan|37              |Research and Development|\n",
      "|Aaron   |37              |Finance and Accounting  |\n",
      "|Jorge   |37              |Customer Service        |\n",
      "|Mark    |37              |Sales and Marketing     |\n",
      "|William |37              |Legal                   |\n",
      "|Megan   |37              |Legal                   |\n",
      "|Tristan |37              |Operations              |\n",
      "|Luke    |37              |Operations              |\n",
      "|Tammy   |37              |Data Science            |\n",
      "|James   |37              |Finance and Accounting  |\n",
      "|Raymond |37              |Data Engineering        |\n",
      "|Jennifer|37              |Finance and Accounting  |\n",
      "|Luke    |37              |Data Engineering        |\n",
      "|Ana     |37              |Data Engineering        |\n",
      "|Katelyn |37              |Data Engineering        |\n",
      "|Sarah   |37              |Sales and Marketing     |\n",
      "|Jorge   |37              |Legal                   |\n",
      "|Brandy  |37              |Legal                   |\n",
      "|Monica  |37              |Data Engineering        |\n",
      "|Tristan |37              |Finance and Accounting  |\n",
      "+--------+----------------+------------------------+\n",
      "only showing top 20 rows\n",
      "\n",
      "Number of employees with the most years in company: 3853\n"
     ]
    }
   ],
   "source": [
    "### Compute a new column with the years in company for each employee\n",
    "### Find the list of employees with more years in company and count them.\n",
    "\n",
    "from pyspark.sql.functions import year, current_date\n",
    "\n",
    "employees_departments = employees_departments.withColumn(\n",
    "    \"years_in_company\",\n",
    "    year(current_date()) - year(col(\"hire_date\").cast(\"date\"))\n",
    ")\n",
    "\n",
    "\n",
    "most_years_in_company = employees_departments.orderBy(col(\"years_in_company\").desc())\n",
    "\n",
    "\n",
    "most_years_in_company_count = most_years_in_company.count()\n",
    "\n",
    "most_years_in_company.select(\"name\", \"years_in_company\", \"department_name\").show(truncate=False)\n",
    "print(f\"Number of employees with the most years in company: {most_years_in_company_count}\")"
   ]
  },
  {
   "cell_type": "markdown",
   "metadata": {},
   "source": [
    "# <center> <img src=\"../midterm/Jose-Mendoza-DAG.png\" alt=\"ITESO\" width=\"480\" height=\"130\"> </center>"
   ]
  }
 ],
 "metadata": {
  "kernelspec": {
   "display_name": "Python 3 (ipykernel)",
   "language": "python",
   "name": "python3"
  },
  "language_info": {
   "codemirror_mode": {
    "name": "ipython",
    "version": 3
   },
   "file_extension": ".py",
   "mimetype": "text/x-python",
   "name": "python",
   "nbconvert_exporter": "python",
   "pygments_lexer": "ipython3",
   "version": "3.11.6"
  }
 },
 "nbformat": 4,
 "nbformat_minor": 2
}
