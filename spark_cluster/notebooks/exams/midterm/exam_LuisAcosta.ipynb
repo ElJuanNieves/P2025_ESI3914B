{
 "cells": [
  {
   "cell_type": "markdown",
   "metadata": {},
   "source": [
    "# <center> <img src=\"../../labs/img/ITESOLogo.png\" alt=\"ITESO\" width=\"480\" height=\"130\"> </center>\n",
    "# <center> **Departamento de Electrónica, Sistemas e Informática** </center>\n",
    "---\n",
    "### <center> **Procesamiento de Datos Masivos** </center>\n",
    "---\n",
    "### <center> **Primavera 2025** </center>\n",
    "---\n",
    "**Primer Examen**\n",
    "\n",
    "**Fecha**: 14 de Marzo del 2025\n",
    "\n",
    "**Nombre del estudiante**: Luis Acosta\n",
    "\n",
    "**Professor**: Pablo Camarillo Ramirez"
   ]
  },
  {
   "cell_type": "code",
   "execution_count": 15,
   "metadata": {},
   "outputs": [],
   "source": [
    "import findspark\n",
    "findspark.init()"
   ]
  },
  {
   "cell_type": "code",
   "execution_count": 17,
   "metadata": {},
   "outputs": [],
   "source": [
    "from pyspark.sql import SparkSession\n",
    "\n",
    "spark = SparkSession.builder \\\n",
    "    .appName(\"Mid-term exam: Luis Acosta\") \\\n",
    "    .master(\"spark://7e5fdd448b6d:7077\") \\\n",
    "    .config(\"spark.ui.port\",\"4040\") \\\n",
    "    .getOrCreate()\n",
    "sc = spark.sparkContext"
   ]
  },
  {
   "cell_type": "code",
   "execution_count": 21,
   "metadata": {},
   "outputs": [
    {
     "name": "stdout",
     "output_type": "stream",
     "text": [
      "root\n",
      " |-- department_id: integer (nullable = true)\n",
      " |-- department_name: string (nullable = true)\n",
      " |-- location: string (nullable = true)\n",
      "\n",
      "+-------------+----------------------+---------+\n",
      "|department_id|department_name       |location |\n",
      "+-------------+----------------------+---------+\n",
      "|101          |Human Resources       |San Diego|\n",
      "|102          |Finance and Accounting|New York |\n",
      "|103          |Sales and Marketing   |Chicago  |\n",
      "|104          |Data Engineering      |Zapopan  |\n",
      "|105          |Data Science          |Seattle  |\n",
      "+-------------+----------------------+---------+\n",
      "only showing top 5 rows\n",
      "\n"
     ]
    },
    {
     "name": "stderr",
     "output_type": "stream",
     "text": [
      "                                                                                \r"
     ]
    }
   ],
   "source": [
    "# Load data - Departments\n",
    "\n",
    "from team_name.spark_utils import SparkUtils\n",
    "\n",
    "departments_columns = [(\"department_id\", \"integer\"),(\"department_name\", \"string\"),(\"location\", \"string\")]\n",
    "\n",
    "departments_schema = SparkUtils.generate_schema(departments_columns)\n",
    "\n",
    "departments_df = spark.read \\\n",
    "                .schema(departments_schema) \\\n",
    "                .option(\"header\", \"true\") \\\n",
    "                .csv(\"/home/jovyan/notebooks/data/departments.csv\")\n",
    "\n",
    "departments_df.printSchema()\n",
    "\n",
    "departments_df.show(5, truncate=False)"
   ]
  },
  {
   "cell_type": "code",
   "execution_count": 20,
   "metadata": {},
   "outputs": [
    {
     "name": "stdout",
     "output_type": "stream",
     "text": [
      "root\n",
      " |-- employee_id: integer (nullable = true)\n",
      " |-- employee_info: string (nullable = true)\n",
      "\n"
     ]
    },
    {
     "name": "stderr",
     "output_type": "stream",
     "text": [
      "[Stage 1:>                                                          (0 + 1) / 1]\r"
     ]
    },
    {
     "name": "stdout",
     "output_type": "stream",
     "text": [
      "+-----------+-------------------------------------------------------------------------------------------+\n",
      "|employee_id|employee_info                                                                              |\n",
      "+-----------+-------------------------------------------------------------------------------------------+\n",
      "|1          |{'name': 'Caitlyn', 'department_id': 103, 'salary': 115959.78, 'hire_date': '2002-06-10'}  |\n",
      "|2          |{'name': 'Rachel', 'department_id': 104, 'salary': 100820.16, 'hire_date': '2009-07-01'}   |\n",
      "|3          |{'name': 'Carrie', 'department_id': 105, 'salary': 114421.44, 'hire_date': '1998-12-10'}   |\n",
      "|4          |{'name': 'Renee', 'department_id': 104, 'salary': 54688.13, 'hire_date': '1995-03-17'}     |\n",
      "|5          |{'name': 'Gabriella', 'department_id': 109, 'salary': 106267.03, 'hire_date': '1995-02-09'}|\n",
      "+-----------+-------------------------------------------------------------------------------------------+\n",
      "only showing top 5 rows\n",
      "\n"
     ]
    },
    {
     "name": "stderr",
     "output_type": "stream",
     "text": [
      "                                                                                \r"
     ]
    }
   ],
   "source": [
    "# Load data - Employees\n",
    "\n",
    "employees_columns = [(\"employee_id\", \"integer\"),(\"employee_info\", \"string\")]\n",
    "\n",
    "employees_schema = SparkUtils.generate_schema(employees_columns)\n",
    "\n",
    "employees_df = spark.read \\\n",
    "                .schema(employees_schema) \\\n",
    "                .option(\"header\", \"true\") \\\n",
    "                .csv(\"/home/jovyan/notebooks/data/employees.csv\")\n",
    "\n",
    "employees_df.printSchema()\n",
    "\n",
    "employees_df.show(5, truncate=False)"
   ]
  },
  {
   "cell_type": "code",
   "execution_count": 35,
   "metadata": {},
   "outputs": [
    {
     "name": "stderr",
     "output_type": "stream",
     "text": [
      "[Stage 18:>                                                         (0 + 1) / 1]\r"
     ]
    },
    {
     "name": "stdout",
     "output_type": "stream",
     "text": [
      "+-----------+-------------------------------------------------------------------------------------------+---------+-------------+---------+----------+\n",
      "|employee_id|employee_info                                                                              |name     |department_id|salary   |hire_date |\n",
      "+-----------+-------------------------------------------------------------------------------------------+---------+-------------+---------+----------+\n",
      "|1          |{'name': 'Caitlyn', 'department_id': 103, 'salary': 115959.78, 'hire_date': '2002-06-10'}  |Caitlyn  |103          |115959.78|2002-06-10|\n",
      "|2          |{'name': 'Rachel', 'department_id': 104, 'salary': 100820.16, 'hire_date': '2009-07-01'}   |Rachel   |104          |100820.16|2009-07-01|\n",
      "|3          |{'name': 'Carrie', 'department_id': 105, 'salary': 114421.44, 'hire_date': '1998-12-10'}   |Carrie   |105          |114421.44|1998-12-10|\n",
      "|4          |{'name': 'Renee', 'department_id': 104, 'salary': 54688.13, 'hire_date': '1995-03-17'}     |Renee    |104          |54688.13 |1995-03-17|\n",
      "|5          |{'name': 'Gabriella', 'department_id': 109, 'salary': 106267.03, 'hire_date': '1995-02-09'}|Gabriella|109          |106267.03|1995-02-09|\n",
      "+-----------+-------------------------------------------------------------------------------------------+---------+-------------+---------+----------+\n",
      "only showing top 5 rows\n",
      "\n"
     ]
    },
    {
     "name": "stderr",
     "output_type": "stream",
     "text": [
      "                                                                                \r"
     ]
    }
   ],
   "source": [
    "# Extract employee information\n",
    "\n",
    "from pyspark.sql.functions import get_json_object\n",
    "\n",
    "employees_df = employees_df.withColumn(\"name\", get_json_object(employees_df.employee_info, \"$.name\"))\n",
    "employees_df = employees_df.withColumn(\"department_id\", get_json_object(employees_df.employee_info, \"$.department_id\"))\n",
    "employees_df = employees_df.withColumn(\"salary\", get_json_object(employees_df.employee_info, \"$.salary\").cast(\"double\"))\n",
    "employees_df = employees_df.withColumn(\"hire_date\", get_json_object(employees_df.employee_info, \"$.hire_date\"))\n",
    "\n",
    "employees_df.show(5, truncate=False)"
   ]
  },
  {
   "cell_type": "code",
   "execution_count": 36,
   "metadata": {},
   "outputs": [
    {
     "name": "stderr",
     "output_type": "stream",
     "text": [
      "[Stage 20:>                                                         (0 + 1) / 1]\r"
     ]
    },
    {
     "name": "stdout",
     "output_type": "stream",
     "text": [
      "+-----------+-------------------------------------------------------------------------------------------+---------+-------------+---------+----------+-------------+-------------------+-------------+\n",
      "|employee_id|employee_info                                                                              |name     |department_id|salary   |hire_date |department_id|department_name    |location     |\n",
      "+-----------+-------------------------------------------------------------------------------------------+---------+-------------+---------+----------+-------------+-------------------+-------------+\n",
      "|1          |{'name': 'Caitlyn', 'department_id': 103, 'salary': 115959.78, 'hire_date': '2002-06-10'}  |Caitlyn  |103          |115959.78|2002-06-10|103          |Sales and Marketing|Chicago      |\n",
      "|2          |{'name': 'Rachel', 'department_id': 104, 'salary': 100820.16, 'hire_date': '2009-07-01'}   |Rachel   |104          |100820.16|2009-07-01|104          |Data Engineering   |Zapopan      |\n",
      "|3          |{'name': 'Carrie', 'department_id': 105, 'salary': 114421.44, 'hire_date': '1998-12-10'}   |Carrie   |105          |114421.44|1998-12-10|105          |Data Science       |Seattle      |\n",
      "|4          |{'name': 'Renee', 'department_id': 104, 'salary': 54688.13, 'hire_date': '1995-03-17'}     |Renee    |104          |54688.13 |1995-03-17|104          |Data Engineering   |Zapopan      |\n",
      "|5          |{'name': 'Gabriella', 'department_id': 109, 'salary': 106267.03, 'hire_date': '1995-02-09'}|Gabriella|109          |106267.03|1995-02-09|109          |Customer Service   |San Francisco|\n",
      "+-----------+-------------------------------------------------------------------------------------------+---------+-------------+---------+----------+-------------+-------------------+-------------+\n",
      "only showing top 5 rows\n",
      "\n"
     ]
    },
    {
     "name": "stderr",
     "output_type": "stream",
     "text": [
      "                                                                                \r"
     ]
    }
   ],
   "source": [
    "# Join Operations\n",
    "\n",
    "final_df = employees_df.join(departments_df, departments_df.department_id == employees_df.department_id)\n",
    "final_df.show(5, truncate=False)"
   ]
  },
  {
   "cell_type": "code",
   "execution_count": 37,
   "metadata": {},
   "outputs": [
    {
     "name": "stderr",
     "output_type": "stream",
     "text": [
      "                                                                                \r"
     ]
    },
    {
     "name": "stdout",
     "output_type": "stream",
     "text": [
      "+-----------+-------------------------------------------------------------------------------------------+---------+-------------+---------+----------+-------------+-------------------+-------------+---------------+\n",
      "|employee_id|employee_info                                                                              |name     |department_id|salary   |hire_date |department_id|department_name    |location     |salary_category|\n",
      "+-----------+-------------------------------------------------------------------------------------------+---------+-------------+---------+----------+-------------+-------------------+-------------+---------------+\n",
      "|1          |{'name': 'Caitlyn', 'department_id': 103, 'salary': 115959.78, 'hire_date': '2002-06-10'}  |Caitlyn  |103          |115959.78|2002-06-10|103          |Sales and Marketing|Chicago      |High           |\n",
      "|2          |{'name': 'Rachel', 'department_id': 104, 'salary': 100820.16, 'hire_date': '2009-07-01'}   |Rachel   |104          |100820.16|2009-07-01|104          |Data Engineering   |Zapopan      |High           |\n",
      "|3          |{'name': 'Carrie', 'department_id': 105, 'salary': 114421.44, 'hire_date': '1998-12-10'}   |Carrie   |105          |114421.44|1998-12-10|105          |Data Science       |Seattle      |High           |\n",
      "|4          |{'name': 'Renee', 'department_id': 104, 'salary': 54688.13, 'hire_date': '1995-03-17'}     |Renee    |104          |54688.13 |1995-03-17|104          |Data Engineering   |Zapopan      |Low            |\n",
      "|5          |{'name': 'Gabriella', 'department_id': 109, 'salary': 106267.03, 'hire_date': '1995-02-09'}|Gabriella|109          |106267.03|1995-02-09|109          |Customer Service   |San Francisco|High           |\n",
      "+-----------+-------------------------------------------------------------------------------------------+---------+-------------+---------+----------+-------------+-------------------+-------------+---------------+\n",
      "only showing top 5 rows\n",
      "\n"
     ]
    }
   ],
   "source": [
    "# Transformations\n",
    "\n",
    "from pyspark.sql.functions import when\n",
    "\n",
    "final_df = final_df.withColumn(\"salary_category\", when(final_df[\"salary\"] >= 55000, \"High\").otherwise(\"Low\"))\n",
    "final_df.show(5, truncate=False)"
   ]
  },
  {
   "cell_type": "code",
   "execution_count": 38,
   "metadata": {},
   "outputs": [
    {
     "name": "stderr",
     "output_type": "stream",
     "text": [
      "                                                                                \r"
     ]
    },
    {
     "name": "stdout",
     "output_type": "stream",
     "text": [
      "+-----------+-------------------------------------------------------------------------------------------+---------+-------------+---------+----------+-------------+-------------------+-------------+---------------+\n",
      "|employee_id|employee_info                                                                              |name     |department_id|salary   |hire_date |department_id|department_name    |location     |salary_category|\n",
      "+-----------+-------------------------------------------------------------------------------------------+---------+-------------+---------+----------+-------------+-------------------+-------------+---------------+\n",
      "|1          |{'name': 'Caitlyn', 'department_id': 103, 'salary': 115959.78, 'hire_date': '2002-06-10'}  |Caitlyn  |103          |115959.78|2002-06-10|103          |Sales and Marketing|Chicago      |High           |\n",
      "|2          |{'name': 'Rachel', 'department_id': 104, 'salary': 100820.16, 'hire_date': '2009-07-01'}   |Rachel   |104          |100820.16|2009-07-01|104          |Data Engineering   |Zapopan      |High           |\n",
      "|3          |{'name': 'Carrie', 'department_id': 105, 'salary': 114421.44, 'hire_date': '1998-12-10'}   |Carrie   |105          |114421.44|1998-12-10|105          |Data Science       |Seattle      |High           |\n",
      "|5          |{'name': 'Gabriella', 'department_id': 109, 'salary': 106267.03, 'hire_date': '1995-02-09'}|Gabriella|109          |106267.03|1995-02-09|109          |Customer Service   |San Francisco|High           |\n",
      "|6          |{'name': 'Kristen', 'department_id': 101, 'salary': 88237.54, 'hire_date': '2010-11-15'}   |Kristen  |101          |88237.54 |2010-11-15|101          |Human Resources    |San Diego    |High           |\n",
      "+-----------+-------------------------------------------------------------------------------------------+---------+-------------+---------+----------+-------------+-------------------+-------------+---------------+\n",
      "only showing top 5 rows\n",
      "\n",
      "+-----------+-----------------------------------------------------------------------------------------+--------+-------------+--------+----------+-------------+----------------------+-------------+---------------+\n",
      "|employee_id|employee_info                                                                            |name    |department_id|salary  |hire_date |department_id|department_name       |location     |salary_category|\n",
      "+-----------+-----------------------------------------------------------------------------------------+--------+-------------+--------+----------+-------------+----------------------+-------------+---------------+\n",
      "|4          |{'name': 'Renee', 'department_id': 104, 'salary': 54688.13, 'hire_date': '1995-03-17'}   |Renee   |104          |54688.13|1995-03-17|104          |Data Engineering      |Zapopan      |Low            |\n",
      "|7          |{'name': 'Jonathan', 'department_id': 102, 'salary': 39323.42, 'hire_date': '2012-06-30'}|Jonathan|102          |39323.42|2012-06-30|102          |Finance and Accounting|New York     |Low            |\n",
      "|13         |{'name': 'Lisa', 'department_id': 104, 'salary': 36032.49, 'hire_date': '2019-05-16'}    |Lisa    |104          |36032.49|2019-05-16|104          |Data Engineering      |Zapopan      |Low            |\n",
      "|26         |{'name': 'John', 'department_id': 109, 'salary': 44836.57, 'hire_date': '2004-11-13'}    |John    |109          |44836.57|2004-11-13|109          |Customer Service      |San Francisco|Low            |\n",
      "|38         |{'name': 'Rachel', 'department_id': 109, 'salary': 43269.85, 'hire_date': '1992-07-13'}  |Rachel  |109          |43269.85|1992-07-13|109          |Customer Service      |San Francisco|Low            |\n",
      "+-----------+-----------------------------------------------------------------------------------------+--------+-------------+--------+----------+-------------+----------------------+-------------+---------------+\n",
      "only showing top 5 rows\n",
      "\n"
     ]
    }
   ],
   "source": [
    "# Filter and Group - filter\n",
    "\n",
    "high_df = final_df.filter(final_df[\"salary_category\"] == \"High\")\n",
    "low_df = final_df.filter(final_df[\"salary_category\"] == \"Low\")\n",
    "\n",
    "high_df.show(5, truncate=False)\n",
    "low_df.show(5, truncate=False)"
   ]
  },
  {
   "cell_type": "code",
   "execution_count": 44,
   "metadata": {},
   "outputs": [
    {
     "name": "stderr",
     "output_type": "stream",
     "text": [
      "                                                                                \r"
     ]
    },
    {
     "name": "stdout",
     "output_type": "stream",
     "text": [
      "+--------------------+------------------+\n",
      "|     department_name|        avg_salary|\n",
      "+--------------------+------------------+\n",
      "|Corporate Strateg...|102741.38324414717|\n",
      "| Sales and Marketing|100839.65275449108|\n",
      "|    Data Engineering|101626.29492163012|\n",
      "|Research and Deve...|  98714.3003086419|\n",
      "|Finance and Accou...|100731.07877887784|\n",
      "+--------------------+------------------+\n",
      "only showing top 5 rows\n",
      "\n",
      "+--------------------+------------------+\n",
      "|     department_name|        avg_salary|\n",
      "+--------------------+------------------+\n",
      "|Corporate Strateg...|41590.741833333326|\n",
      "| Sales and Marketing| 41150.40277777778|\n",
      "|    Data Engineering| 41358.50794117647|\n",
      "|Finance and Accou...|42740.952888888874|\n",
      "|Research and Deve...| 41426.43521126761|\n",
      "+--------------------+------------------+\n",
      "only showing top 5 rows\n",
      "\n"
     ]
    }
   ],
   "source": [
    "# Filter and Group - group\n",
    "\n",
    "high_df.createOrReplaceTempView(\"high_df\")\n",
    "low_df.createOrReplaceTempView(\"low_df\")\n",
    "\n",
    "high_avg_df = spark.sql(\"SELECT department_name, AVG(salary) AS avg_salary FROM high_df GROUP BY department_name\")\n",
    "low_avg_df = spark.sql(\"SELECT department_name, AVG(salary) AS avg_salary FROM low_df GROUP BY department_name\")\n",
    "\n",
    "high_avg_df.show(5)\n",
    "low_avg_df.show(5)"
   ]
  },
  {
   "cell_type": "code",
   "execution_count": 46,
   "metadata": {},
   "outputs": [
    {
     "name": "stderr",
     "output_type": "stream",
     "text": [
      "                                                                                \r"
     ]
    },
    {
     "name": "stdout",
     "output_type": "stream",
     "text": [
      "+---------+---------+\n",
      "|     name|   salary|\n",
      "+---------+---------+\n",
      "|Gabriella|149989.73|\n",
      "|Katherine| 149979.3|\n",
      "|     Ryan| 149963.1|\n",
      "|  Caitlyn|149956.54|\n",
      "|     Mark|149915.56|\n",
      "+---------+---------+\n",
      "\n",
      "+-----+--------+\n",
      "| name|  salary|\n",
      "+-----+--------+\n",
      "|Linda|54993.53|\n",
      "|Tammy|54991.71|\n",
      "|Aaron|54989.45|\n",
      "|Craig| 54945.2|\n",
      "|Aaron| 54937.3|\n",
      "+-----+--------+\n",
      "\n"
     ]
    }
   ],
   "source": [
    "# Sort\n",
    "\n",
    "spark.sql(\"SELECT name, salary FROM high_df ORDER BY salary DESC LIMIT 5\").show()\n",
    "spark.sql(\"SELECT name, salary FROM low_df ORDER BY salary DESC LIMIT 5\").show()"
   ]
  },
  {
   "cell_type": "code",
   "execution_count": 62,
   "metadata": {},
   "outputs": [
    {
     "name": "stdout",
     "output_type": "stream",
     "text": [
      "+-----+\n",
      "|years|\n",
      "+-----+\n",
      "|   37|\n",
      "+-----+\n",
      "only showing top 1 row\n",
      "\n"
     ]
    },
    {
     "data": {
      "text/plain": [
       "88"
      ]
     },
     "execution_count": 62,
     "metadata": {},
     "output_type": "execute_result"
    }
   ],
   "source": [
    "# Find the numbe of employees with more years in the company\n",
    "\n",
    "from pyspark.sql.functions import year, current_date\n",
    "\n",
    "final_df = final_df.withColumn(\"years\", year(current_date()) - year(final_df[\"hire_date\"]))\n",
    "\n",
    "final_df.createOrReplaceTempView(\"final_df\")\n",
    "spark.sql(\"SELECT years FROM final_df GROUP BY years ORDER BY years DESC\").show(1)\n",
    "\n",
    "years_df = final_df.filter(final_df.years == 37)\n",
    "years_df.count()\n"
   ]
  },
  {
   "attachments": {
    "image.png": {
     "image/png": "[encoded data removed]"
    }
   },
   "cell_type": "markdown",
   "metadata": {},
   "source": [
    "![image.png](attachment:image.png)"
   ]
  }
 ],
 "metadata": {
  "kernelspec": {
   "display_name": "Python 3 (ipykernel)",
   "language": "python",
   "name": "python3"
  },
  "language_info": {
   "codemirror_mode": {
    "name": "ipython",
    "version": 3
   },
   "file_extension": ".py",
   "mimetype": "text/x-python",
   "name": "python",
   "nbconvert_exporter": "python",
   "pygments_lexer": "ipython3",
   "version": "3.11.6"
  }
 },
 "nbformat": 4,
 "nbformat_minor": 2
}
