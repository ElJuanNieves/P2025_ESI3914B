{
 "cells": [
  {
   "cell_type": "markdown",
   "metadata": {},
   "source": [
    "# <center> <img src=\"../../labs/img/ITESOLogo.png\" alt=\"ITESO\" width=\"480\" height=\"130\"> </center>\n",
    "# <center> **Departamento de Electrónica, Sistemas e Informática** </center>\n",
    "---\n",
    "### <center> **Procesamiento de Datos Masivos** </center>\n",
    "---\n",
    "### <center> **Primavera 2025** </center>\n",
    "---\n",
    "**Primer Examen**\n",
    "\n",
    "**Fecha**: 14 de Marzo del 2025\n",
    "\n",
    "**Nombre del estudiante**: Benjamin Leonardo Zarate Solano\n",
    "\n",
    "**Professor**: Pablo Camarillo Ramirez"
   ]
  },
  {
   "cell_type": "code",
   "execution_count": 1,
   "metadata": {},
   "outputs": [],
   "source": [
    "import findspark\n",
    "findspark.init()"
   ]
  },
  {
   "cell_type": "code",
   "execution_count": 4,
   "metadata": {},
   "outputs": [
    {
     "name": "stderr",
     "output_type": "stream",
     "text": [
      "Setting default log level to \"WARN\".\n",
      "To adjust logging level use sc.setLogLevel(newLevel). For SparkR, use setLogLevel(newLevel).\n",
      "25/03/14 13:43:07 WARN NativeCodeLoader: Unable to load native-hadoop library for your platform... using builtin-java classes where applicable\n"
     ]
    }
   ],
   "source": [
    "from pyspark.sql import SparkSession\n",
    "\n",
    "spark = (\n",
    "    SparkSession.builder.appName(\"Examen_1\")\n",
    "    .master(\"spark://b631371550f9:7077\")\n",
    "    .config(\"spark.ui.port\", \"4040\")\n",
    "    .getOrCreate()\n",
    ")\n",
    "sc = spark.sparkContext"
   ]
  },
  {
   "cell_type": "markdown",
   "metadata": {},
   "source": [
    "### Read the Data (10 points):"
   ]
  },
  {
   "cell_type": "code",
   "execution_count": 7,
   "metadata": {},
   "outputs": [
    {
     "name": "stdout",
     "output_type": "stream",
     "text": [
      "root\n",
      " |-- employee_id: integer (nullable = true)\n",
      " |-- employee_info: string (nullable = true)\n",
      "\n",
      "root\n",
      " |-- department_id: integer (nullable = true)\n",
      " |-- department_name: string (nullable = true)\n",
      " |-- location: string (nullable = true)\n",
      "\n",
      "+-----------+-------------------------------------------------------------------------------------------+\n",
      "|employee_id|employee_info                                                                              |\n",
      "+-----------+-------------------------------------------------------------------------------------------+\n",
      "|1          |{'name': 'Caitlyn', 'department_id': 103, 'salary': 115959.78, 'hire_date': '2002-06-10'}  |\n",
      "|2          |{'name': 'Rachel', 'department_id': 104, 'salary': 100820.16, 'hire_date': '2009-07-01'}   |\n",
      "|3          |{'name': 'Carrie', 'department_id': 105, 'salary': 114421.44, 'hire_date': '1998-12-10'}   |\n",
      "|4          |{'name': 'Renee', 'department_id': 104, 'salary': 54688.13, 'hire_date': '1995-03-17'}     |\n",
      "|5          |{'name': 'Gabriella', 'department_id': 109, 'salary': 106267.03, 'hire_date': '1995-02-09'}|\n",
      "+-----------+-------------------------------------------------------------------------------------------+\n",
      "only showing top 5 rows\n",
      "\n",
      "+-------------+----------------------+---------+\n",
      "|department_id|department_name       |location |\n",
      "+-------------+----------------------+---------+\n",
      "|101          |Human Resources       |San Diego|\n",
      "|102          |Finance and Accounting|New York |\n",
      "|103          |Sales and Marketing   |Chicago  |\n",
      "|104          |Data Engineering      |Zapopan  |\n",
      "|105          |Data Science          |Seattle  |\n",
      "+-------------+----------------------+---------+\n",
      "only showing top 5 rows\n",
      "\n"
     ]
    }
   ],
   "source": [
    "from team_name.spark_utils import SparkUtils\n",
    "\n",
    "employees_schema = SparkUtils.generate_schema(\n",
    "    [\n",
    "        (\"employee_id\", \"integer\"), \n",
    "        (\"employee_info\", \"string\")\n",
    "    ]\n",
    ")\n",
    "\n",
    "departments_schema = SparkUtils.generate_schema(\n",
    "    [\n",
    "        (\"department_id\", \"integer\"),\n",
    "        (\"department_name\", \"string\"),\n",
    "        (\"location\", \"string\"),\n",
    "    ]\n",
    ")\n",
    "\n",
    "employees_df = (spark.read \\\n",
    "                    .schema(employees_schema) \\\n",
    "                    .option(\"header\", \"true\") \\\n",
    "                    .csv(\"/home/jovyan/notebooks/data/exam_P2025_ESI3914B/employees.csv\")\n",
    ")\n",
    "\n",
    "departments_df = (spark.read \\\n",
    "                    .schema(departments_schema) \\\n",
    "                    .option(\"header\", \"true\") \\\n",
    "                    .csv(\"/home/jovyan/notebooks/data/exam_P2025_ESI3914B/departments.csv\")\n",
    ")\n",
    "\n",
    "employees_df.printSchema()\n",
    "departments_df.printSchema()\n",
    "\n",
    "employees_df.show(5, truncate=False)\n",
    "departments_df.show(5, truncate=False)"
   ]
  },
  {
   "cell_type": "markdown",
   "metadata": {},
   "source": [
    "### Extract the employee info from the JSON column (20 points):"
   ]
  },
  {
   "cell_type": "code",
   "execution_count": 8,
   "metadata": {},
   "outputs": [
    {
     "name": "stdout",
     "output_type": "stream",
     "text": [
      "+-----------+---------+-------------+---------+----------+\n",
      "|employee_id|name     |department_id|salary   |hire_date |\n",
      "+-----------+---------+-------------+---------+----------+\n",
      "|1          |Caitlyn  |103          |115959.78|2002-06-10|\n",
      "|2          |Rachel   |104          |100820.16|2009-07-01|\n",
      "|3          |Carrie   |105          |114421.44|1998-12-10|\n",
      "|4          |Renee    |104          |54688.13 |1995-03-17|\n",
      "|5          |Gabriella|109          |106267.03|1995-02-09|\n",
      "|6          |Kristen  |101          |88237.54 |2010-11-15|\n",
      "|7          |Jonathan |102          |39323.42 |2012-06-30|\n",
      "|8          |Michelle |101          |64262.85 |2005-10-30|\n",
      "|9          |Michelle |105          |103521.88|1991-07-10|\n",
      "|10         |Lisa     |110          |55435.93 |2016-03-25|\n",
      "|11         |Cheryl   |103          |88073.75 |2020-08-21|\n",
      "|12         |Mikayla  |107          |95192.05 |2022-05-13|\n",
      "|13         |Lisa     |104          |36032.49 |2019-05-16|\n",
      "|14         |Sean     |108          |64904.69 |2021-06-06|\n",
      "|15         |Monica   |105          |92589.97 |2022-05-09|\n",
      "|16         |Katelyn  |104          |147225.58|2008-03-14|\n",
      "|17         |Linda    |108          |146632.64|2002-09-04|\n",
      "|18         |Tammy    |109          |128860.4 |2014-04-18|\n",
      "|19         |William  |103          |142645.41|1998-05-25|\n",
      "|20         |Jorge    |109          |87587.51 |2018-03-25|\n",
      "+-----------+---------+-------------+---------+----------+\n",
      "only showing top 20 rows\n",
      "\n"
     ]
    }
   ],
   "source": [
    "from pyspark.sql.functions import get_json_object\n",
    "\n",
    "employees_df = employees_df.withColumn(\"name\", get_json_object(employees_df.employee_info, \"$.name\")) \\\n",
    "                           .withColumn(\"department_id\", get_json_object(employees_df.employee_info, \"$.department_id\")) \\\n",
    "                           .withColumn(\"salary\", get_json_object(employees_df.employee_info, \"$.salary\")) \\\n",
    "                           .withColumn(\"hire_date\", get_json_object(employees_df.employee_info, \"$.hire_date\"))\n",
    "\n",
    "employees_df.select(\"employee_id\", \"name\", \"department_id\", \"salary\", \"hire_date\").show(truncate=False)"
   ]
  },
  {
   "cell_type": "markdown",
   "metadata": {},
   "source": [
    "### Join Operations (10 points):"
   ]
  },
  {
   "cell_type": "code",
   "execution_count": 9,
   "metadata": {},
   "outputs": [
    {
     "name": "stdout",
     "output_type": "stream",
     "text": [
      "+-----------+--------------------+---------+-------------+---------+----------+-------------+--------------------+-------------+\n",
      "|employee_id|       employee_info|     name|department_id|   salary| hire_date|department_id|     department_name|     location|\n",
      "+-----------+--------------------+---------+-------------+---------+----------+-------------+--------------------+-------------+\n",
      "|          1|{'name': 'Caitlyn...|  Caitlyn|          103|115959.78|2002-06-10|          103| Sales and Marketing|      Chicago|\n",
      "|          2|{'name': 'Rachel'...|   Rachel|          104|100820.16|2009-07-01|          104|    Data Engineering|      Zapopan|\n",
      "|          3|{'name': 'Carrie'...|   Carrie|          105|114421.44|1998-12-10|          105|        Data Science|      Seattle|\n",
      "|          4|{'name': 'Renee',...|    Renee|          104| 54688.13|1995-03-17|          104|    Data Engineering|      Zapopan|\n",
      "|          5|{'name': 'Gabriel...|Gabriella|          109|106267.03|1995-02-09|          109|    Customer Service|San Francisco|\n",
      "|          6|{'name': 'Kristen...|  Kristen|          101| 88237.54|2010-11-15|          101|     Human Resources|    San Diego|\n",
      "|          7|{'name': 'Jonatha...| Jonathan|          102| 39323.42|2012-06-30|          102|Finance and Accou...|     New York|\n",
      "|          8|{'name': 'Michell...| Michelle|          101| 64262.85|2005-10-30|          101|     Human Resources|    San Diego|\n",
      "|          9|{'name': 'Michell...| Michelle|          105|103521.88|1991-07-10|          105|        Data Science|      Seattle|\n",
      "|         10|{'name': 'Lisa', ...|     Lisa|          110| 55435.93|2016-03-25|          110|Corporate Strateg...|  Los Angeles|\n",
      "|         11|{'name': 'Cheryl'...|   Cheryl|          103| 88073.75|2020-08-21|          103| Sales and Marketing|      Chicago|\n",
      "|         12|{'name': 'Mikayla...|  Mikayla|          107| 95192.05|2022-05-13|          107|               Legal|      Chicago|\n",
      "|         13|{'name': 'Lisa', ...|     Lisa|          104| 36032.49|2019-05-16|          104|    Data Engineering|      Zapopan|\n",
      "|         14|{'name': 'Sean', ...|     Sean|          108| 64904.69|2021-06-06|          108|Research and Deve...| Philadelphia|\n",
      "|         15|{'name': 'Monica'...|   Monica|          105| 92589.97|2022-05-09|          105|        Data Science|      Seattle|\n",
      "|         16|{'name': 'Katelyn...|  Katelyn|          104|147225.58|2008-03-14|          104|    Data Engineering|      Zapopan|\n",
      "|         17|{'name': 'Linda',...|    Linda|          108|146632.64|2002-09-04|          108|Research and Deve...| Philadelphia|\n",
      "|         18|{'name': 'Tammy',...|    Tammy|          109| 128860.4|2014-04-18|          109|    Customer Service|San Francisco|\n",
      "|         19|{'name': 'William...|  William|          103|142645.41|1998-05-25|          103| Sales and Marketing|      Chicago|\n",
      "|         20|{'name': 'Jorge',...|    Jorge|          109| 87587.51|2018-03-25|          109|    Customer Service|San Francisco|\n",
      "+-----------+--------------------+---------+-------------+---------+----------+-------------+--------------------+-------------+\n",
      "only showing top 20 rows\n",
      "\n"
     ]
    }
   ],
   "source": [
    "employees_department_join = employees_df.join(departments_df,employees_df[\"department_id\"] == departments_df[\"department_id\"],\"inner\",)\n",
    "\n",
    "employees_department_join.show()"
   ]
  },
  {
   "cell_type": "markdown",
   "metadata": {},
   "source": [
    "### Transformations (Using when()) (10 points):"
   ]
  },
  {
   "cell_type": "code",
   "execution_count": null,
   "metadata": {},
   "outputs": [],
   "source": [
    "from pyspark.sql.functions import when, col\n",
    "\n",
    "employees_department_join = emp_dept_df.withColumn(\n",
    "    \"salary_category\", when(col(\"salary\") >= 55000, \"High\").otherwise(\"Low\")\n",
    ")\n",
    "\n",
    "emp_dept_df.select(\"name\", \"salary\", \"salary_category\").show(5)"
   ]
  },
  {
   "cell_type": "markdown",
   "metadata": {},
   "source": [
    "### Filter and Group (20 points):"
   ]
  },
  {
   "cell_type": "code",
   "execution_count": null,
   "metadata": {},
   "outputs": [],
   "source": []
  },
  {
   "cell_type": "markdown",
   "metadata": {},
   "source": [
    "### Sort (10 points):  "
   ]
  },
  {
   "cell_type": "code",
   "execution_count": null,
   "metadata": {},
   "outputs": [],
   "source": []
  },
  {
   "cell_type": "markdown",
   "metadata": {},
   "source": [
    "### Find the number of employees with more years in the company (15 points)."
   ]
  },
  {
   "cell_type": "code",
   "execution_count": null,
   "metadata": {},
   "outputs": [],
   "source": []
  },
  {
   "cell_type": "markdown",
   "metadata": {},
   "source": [
    "### Display the  Spark Plan (5 points):"
   ]
  },
  {
   "cell_type": "code",
   "execution_count": null,
   "metadata": {},
   "outputs": [],
   "source": []
  }
 ],
 "metadata": {
  "kernelspec": {
   "display_name": "Python 3 (ipykernel)",
   "language": "python",
   "name": "python3"
  },
  "language_info": {
   "codemirror_mode": {
    "name": "ipython",
    "version": 3
   },
   "file_extension": ".py",
   "mimetype": "text/x-python",
   "name": "python",
   "nbconvert_exporter": "python",
   "pygments_lexer": "ipython3",
   "version": "3.11.6"
  }
 },
 "nbformat": 4,
 "nbformat_minor": 2
}
