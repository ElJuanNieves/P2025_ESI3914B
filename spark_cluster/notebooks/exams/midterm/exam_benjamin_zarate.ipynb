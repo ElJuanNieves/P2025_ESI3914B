{
 "cells": [
  {
   "cell_type": "markdown",
   "metadata": {},
   "source": [
    "# <center> <img src=\"../../labs/img/ITESOLogo.png\" alt=\"ITESO\" width=\"480\" height=\"130\"> </center>\n",
    "# <center> **Departamento de Electrónica, Sistemas e Informática** </center>\n",
    "---\n",
    "### <center> **Procesamiento de Datos Masivos** </center>\n",
    "---\n",
    "### <center> **Primavera 2025** </center>\n",
    "---\n",
    "**Primer Examen**\n",
    "\n",
    "**Fecha**: 14 de Marzo del 2025\n",
    "\n",
    "**Nombre del estudiante**: Benjamin Leonardo Zarate Solano\n",
    "\n",
    "**Professor**: Pablo Camarillo Ramirez"
   ]
  },
  {
   "cell_type": "code",
   "execution_count": 1,
   "metadata": {},
   "outputs": [],
   "source": [
    "import findspark\n",
    "findspark.init()"
   ]
  },
  {
   "cell_type": "code",
   "execution_count": 4,
   "metadata": {},
   "outputs": [
    {
     "name": "stderr",
     "output_type": "stream",
     "text": [
      "Setting default log level to \"WARN\".\n",
      "To adjust logging level use sc.setLogLevel(newLevel). For SparkR, use setLogLevel(newLevel).\n",
      "25/03/14 13:43:07 WARN NativeCodeLoader: Unable to load native-hadoop library for your platform... using builtin-java classes where applicable\n"
     ]
    }
   ],
   "source": [
    "from pyspark.sql import SparkSession\n",
    "\n",
    "spark = (\n",
    "    SparkSession.builder.appName(\"Examen_1\")\n",
    "    .master(\"spark://b631371550f9:7077\")\n",
    "    .config(\"spark.ui.port\", \"4040\")\n",
    "    .getOrCreate()\n",
    ")\n",
    "sc = spark.sparkContext"
   ]
  },
  {
   "cell_type": "markdown",
   "metadata": {},
   "source": [
    "### Read the Data (10 points):"
   ]
  },
  {
   "cell_type": "code",
   "execution_count": 7,
   "metadata": {},
   "outputs": [
    {
     "name": "stdout",
     "output_type": "stream",
     "text": [
      "root\n",
      " |-- employee_id: integer (nullable = true)\n",
      " |-- employee_info: string (nullable = true)\n",
      "\n",
      "root\n",
      " |-- department_id: integer (nullable = true)\n",
      " |-- department_name: string (nullable = true)\n",
      " |-- location: string (nullable = true)\n",
      "\n",
      "+-----------+-------------------------------------------------------------------------------------------+\n",
      "|employee_id|employee_info                                                                              |\n",
      "+-----------+-------------------------------------------------------------------------------------------+\n",
      "|1          |{'name': 'Caitlyn', 'department_id': 103, 'salary': 115959.78, 'hire_date': '2002-06-10'}  |\n",
      "|2          |{'name': 'Rachel', 'department_id': 104, 'salary': 100820.16, 'hire_date': '2009-07-01'}   |\n",
      "|3          |{'name': 'Carrie', 'department_id': 105, 'salary': 114421.44, 'hire_date': '1998-12-10'}   |\n",
      "|4          |{'name': 'Renee', 'department_id': 104, 'salary': 54688.13, 'hire_date': '1995-03-17'}     |\n",
      "|5          |{'name': 'Gabriella', 'department_id': 109, 'salary': 106267.03, 'hire_date': '1995-02-09'}|\n",
      "+-----------+-------------------------------------------------------------------------------------------+\n",
      "only showing top 5 rows\n",
      "\n",
      "+-------------+----------------------+---------+\n",
      "|department_id|department_name       |location |\n",
      "+-------------+----------------------+---------+\n",
      "|101          |Human Resources       |San Diego|\n",
      "|102          |Finance and Accounting|New York |\n",
      "|103          |Sales and Marketing   |Chicago  |\n",
      "|104          |Data Engineering      |Zapopan  |\n",
      "|105          |Data Science          |Seattle  |\n",
      "+-------------+----------------------+---------+\n",
      "only showing top 5 rows\n",
      "\n"
     ]
    }
   ],
   "source": [
    "from team_name.spark_utils import SparkUtils\n",
    "\n",
    "employees_schema = SparkUtils.generate_schema(\n",
    "    [\n",
    "        (\"employee_id\", \"integer\"), \n",
    "        (\"employee_info\", \"string\")\n",
    "    ]\n",
    ")\n",
    "\n",
    "departments_schema = SparkUtils.generate_schema(\n",
    "    [\n",
    "        (\"department_id\", \"integer\"),\n",
    "        (\"department_name\", \"string\"),\n",
    "        (\"location\", \"string\"),\n",
    "    ]\n",
    ")\n",
    "\n",
    "employees_df = (spark.read \\\n",
    "                    .schema(employees_schema) \\\n",
    "                    .option(\"header\", \"true\") \\\n",
    "                    .csv(\"/home/jovyan/notebooks/data/exam_P2025_ESI3914B/employees.csv\")\n",
    ")\n",
    "\n",
    "departments_df = (spark.read \\\n",
    "                    .schema(departments_schema) \\\n",
    "                    .option(\"header\", \"true\") \\\n",
    "                    .csv(\"/home/jovyan/notebooks/data/exam_P2025_ESI3914B/departments.csv\")\n",
    ")\n",
    "\n",
    "employees_df.printSchema()\n",
    "departments_df.printSchema()\n",
    "\n",
    "employees_df.show(5, truncate=False)\n",
    "departments_df.show(5, truncate=False)"
   ]
  },
  {
   "cell_type": "markdown",
   "metadata": {},
   "source": [
    "### Extract the employee info from the JSON column (20 points):"
   ]
  },
  {
   "cell_type": "code",
   "execution_count": 8,
   "metadata": {},
   "outputs": [
    {
     "name": "stdout",
     "output_type": "stream",
     "text": [
      "+-----------+---------+-------------+---------+----------+\n",
      "|employee_id|name     |department_id|salary   |hire_date |\n",
      "+-----------+---------+-------------+---------+----------+\n",
      "|1          |Caitlyn  |103          |115959.78|2002-06-10|\n",
      "|2          |Rachel   |104          |100820.16|2009-07-01|\n",
      "|3          |Carrie   |105          |114421.44|1998-12-10|\n",
      "|4          |Renee    |104          |54688.13 |1995-03-17|\n",
      "|5          |Gabriella|109          |106267.03|1995-02-09|\n",
      "|6          |Kristen  |101          |88237.54 |2010-11-15|\n",
      "|7          |Jonathan |102          |39323.42 |2012-06-30|\n",
      "|8          |Michelle |101          |64262.85 |2005-10-30|\n",
      "|9          |Michelle |105          |103521.88|1991-07-10|\n",
      "|10         |Lisa     |110          |55435.93 |2016-03-25|\n",
      "|11         |Cheryl   |103          |88073.75 |2020-08-21|\n",
      "|12         |Mikayla  |107          |95192.05 |2022-05-13|\n",
      "|13         |Lisa     |104          |36032.49 |2019-05-16|\n",
      "|14         |Sean     |108          |64904.69 |2021-06-06|\n",
      "|15         |Monica   |105          |92589.97 |2022-05-09|\n",
      "|16         |Katelyn  |104          |147225.58|2008-03-14|\n",
      "|17         |Linda    |108          |146632.64|2002-09-04|\n",
      "|18         |Tammy    |109          |128860.4 |2014-04-18|\n",
      "|19         |William  |103          |142645.41|1998-05-25|\n",
      "|20         |Jorge    |109          |87587.51 |2018-03-25|\n",
      "+-----------+---------+-------------+---------+----------+\n",
      "only showing top 20 rows\n",
      "\n"
     ]
    }
   ],
   "source": [
    "from pyspark.sql.functions import get_json_object\n",
    "\n",
    "employees_df = employees_df.withColumn(\"name\", get_json_object(employees_df.employee_info, \"$.name\")) \\\n",
    "                           .withColumn(\"department_id\", get_json_object(employees_df.employee_info, \"$.department_id\")) \\\n",
    "                           .withColumn(\"salary\", get_json_object(employees_df.employee_info, \"$.salary\")) \\\n",
    "                           .withColumn(\"hire_date\", get_json_object(employees_df.employee_info, \"$.hire_date\"))\n",
    "\n",
    "employees_df.select(\"employee_id\", \"name\", \"department_id\", \"salary\", \"hire_date\").show(truncate=False)"
   ]
  },
  {
   "cell_type": "markdown",
   "metadata": {},
   "source": [
    "### Join Operations (10 points):"
   ]
  },
  {
   "cell_type": "code",
   "execution_count": 9,
   "metadata": {},
   "outputs": [
    {
     "name": "stdout",
     "output_type": "stream",
     "text": [
      "+-----------+--------------------+---------+-------------+---------+----------+-------------+--------------------+-------------+\n",
      "|employee_id|       employee_info|     name|department_id|   salary| hire_date|department_id|     department_name|     location|\n",
      "+-----------+--------------------+---------+-------------+---------+----------+-------------+--------------------+-------------+\n",
      "|          1|{'name': 'Caitlyn...|  Caitlyn|          103|115959.78|2002-06-10|          103| Sales and Marketing|      Chicago|\n",
      "|          2|{'name': 'Rachel'...|   Rachel|          104|100820.16|2009-07-01|          104|    Data Engineering|      Zapopan|\n",
      "|          3|{'name': 'Carrie'...|   Carrie|          105|114421.44|1998-12-10|          105|        Data Science|      Seattle|\n",
      "|          4|{'name': 'Renee',...|    Renee|          104| 54688.13|1995-03-17|          104|    Data Engineering|      Zapopan|\n",
      "|          5|{'name': 'Gabriel...|Gabriella|          109|106267.03|1995-02-09|          109|    Customer Service|San Francisco|\n",
      "|          6|{'name': 'Kristen...|  Kristen|          101| 88237.54|2010-11-15|          101|     Human Resources|    San Diego|\n",
      "|          7|{'name': 'Jonatha...| Jonathan|          102| 39323.42|2012-06-30|          102|Finance and Accou...|     New York|\n",
      "|          8|{'name': 'Michell...| Michelle|          101| 64262.85|2005-10-30|          101|     Human Resources|    San Diego|\n",
      "|          9|{'name': 'Michell...| Michelle|          105|103521.88|1991-07-10|          105|        Data Science|      Seattle|\n",
      "|         10|{'name': 'Lisa', ...|     Lisa|          110| 55435.93|2016-03-25|          110|Corporate Strateg...|  Los Angeles|\n",
      "|         11|{'name': 'Cheryl'...|   Cheryl|          103| 88073.75|2020-08-21|          103| Sales and Marketing|      Chicago|\n",
      "|         12|{'name': 'Mikayla...|  Mikayla|          107| 95192.05|2022-05-13|          107|               Legal|      Chicago|\n",
      "|         13|{'name': 'Lisa', ...|     Lisa|          104| 36032.49|2019-05-16|          104|    Data Engineering|      Zapopan|\n",
      "|         14|{'name': 'Sean', ...|     Sean|          108| 64904.69|2021-06-06|          108|Research and Deve...| Philadelphia|\n",
      "|         15|{'name': 'Monica'...|   Monica|          105| 92589.97|2022-05-09|          105|        Data Science|      Seattle|\n",
      "|         16|{'name': 'Katelyn...|  Katelyn|          104|147225.58|2008-03-14|          104|    Data Engineering|      Zapopan|\n",
      "|         17|{'name': 'Linda',...|    Linda|          108|146632.64|2002-09-04|          108|Research and Deve...| Philadelphia|\n",
      "|         18|{'name': 'Tammy',...|    Tammy|          109| 128860.4|2014-04-18|          109|    Customer Service|San Francisco|\n",
      "|         19|{'name': 'William...|  William|          103|142645.41|1998-05-25|          103| Sales and Marketing|      Chicago|\n",
      "|         20|{'name': 'Jorge',...|    Jorge|          109| 87587.51|2018-03-25|          109|    Customer Service|San Francisco|\n",
      "+-----------+--------------------+---------+-------------+---------+----------+-------------+--------------------+-------------+\n",
      "only showing top 20 rows\n",
      "\n"
     ]
    }
   ],
   "source": [
    "employees_department_join = employees_df.join(departments_df,employees_df[\"department_id\"] == departments_df[\"department_id\"],\"inner\",)\n",
    "\n",
    "employees_department_join.show()"
   ]
  },
  {
   "cell_type": "markdown",
   "metadata": {},
   "source": [
    "### Transformations (Using when()) (10 points):"
   ]
  },
  {
   "cell_type": "code",
   "execution_count": 11,
   "metadata": {},
   "outputs": [
    {
     "name": "stdout",
     "output_type": "stream",
     "text": [
      "+---------+---------+---------------+\n",
      "|     name|   salary|salary_category|\n",
      "+---------+---------+---------------+\n",
      "|  Caitlyn|115959.78|           High|\n",
      "|   Rachel|100820.16|           High|\n",
      "|   Carrie|114421.44|           High|\n",
      "|    Renee| 54688.13|            Low|\n",
      "|Gabriella|106267.03|           High|\n",
      "+---------+---------+---------------+\n",
      "only showing top 5 rows\n",
      "\n"
     ]
    }
   ],
   "source": [
    "from pyspark.sql.functions import when, col\n",
    "\n",
    "employees_department_transformation = employees_department_join.withColumn(\n",
    "    \"salary_category\", when(col(\"salary\") >= 55000, \"High\").otherwise(\"Low\")\n",
    ")\n",
    "\n",
    "employees_department_transformation.select(\"name\", \"salary\", \"salary_category\").show(5)"
   ]
  },
  {
   "cell_type": "markdown",
   "metadata": {},
   "source": [
    "### Filter and Group (20 points):"
   ]
  },
  {
   "cell_type": "code",
   "execution_count": 12,
   "metadata": {},
   "outputs": [
    {
     "name": "stderr",
     "output_type": "stream",
     "text": [
      "                                                                                \r"
     ]
    },
    {
     "name": "stdout",
     "output_type": "stream",
     "text": [
      "+--------------------+------------------+\n",
      "|     department_name|       avg(salary)|\n",
      "+--------------------+------------------+\n",
      "|Corporate Strateg...|102741.38324414717|\n",
      "| Sales and Marketing|100839.65275449108|\n",
      "|    Data Engineering|101626.29492163012|\n",
      "|Research and Deve...|  98714.3003086419|\n",
      "|Finance and Accou...|100731.07877887784|\n",
      "|    Customer Service|101585.01600000002|\n",
      "|               Legal|  99366.3129102167|\n",
      "|        Data Science|101903.63710344829|\n",
      "|          Operations|100169.65621722837|\n",
      "|     Human Resources|104999.43191489363|\n",
      "+--------------------+------------------+\n",
      "\n",
      "+--------------------+------------------+\n",
      "|     department_name|       avg(salary)|\n",
      "+--------------------+------------------+\n",
      "|Corporate Strateg...|41590.741833333326|\n",
      "| Sales and Marketing| 41150.40277777778|\n",
      "|    Data Engineering| 41358.50794117647|\n",
      "|Finance and Accou...|42740.952888888874|\n",
      "|Research and Deve...| 41426.43521126761|\n",
      "|    Customer Service|42644.472021276604|\n",
      "|               Legal| 41160.26616438357|\n",
      "|        Data Science| 41974.18958333334|\n",
      "|          Operations|40646.100705882345|\n",
      "|     Human Resources| 41751.64784810126|\n",
      "+--------------------+------------------+\n",
      "\n"
     ]
    }
   ],
   "source": [
    "from pyspark.sql.functions import avg\n",
    "\n",
    "high_salary_df = employees_department_transformation.filter(col(\"salary_category\") == \"High\")\n",
    "low_salary_df = employees_department_transformation.filter(col(\"salary_category\") == \"Low\")\n",
    "\n",
    "avg_salary_high = high_salary_df.groupBy(\"department_name\").agg(avg(\"salary\"))\n",
    "\n",
    "avg_salary_low = low_salary_df.groupBy(\"department_name\").agg(avg(\"salary\"))\n",
    "\n",
    "avg_salary_high.show()\n",
    "avg_salary_low.show()"
   ]
  },
  {
   "cell_type": "markdown",
   "metadata": {},
   "source": [
    "### Sort (10 points):  "
   ]
  },
  {
   "cell_type": "code",
   "execution_count": 14,
   "metadata": {},
   "outputs": [
    {
     "name": "stdout",
     "output_type": "stream",
     "text": [
      "+-----------+--------------------+--------+-------------+--------+----------+-------------+--------------------+-----------+---------------+\n",
      "|employee_id|       employee_info|    name|department_id|  salary| hire_date|department_id|     department_name|   location|salary_category|\n",
      "+-----------+--------------------+--------+-------------+--------+----------+-------------+--------------------+-----------+---------------+\n",
      "|       3217|{'name': 'Jennife...|Jennifer|          105| 99968.9|2021-08-24|          105|        Data Science|    Seattle|           High|\n",
      "|       1301|{'name': 'Ana', '...|     Ana|          102|99937.19|1999-06-30|          102|Finance and Accou...|   New York|           High|\n",
      "|        119|{'name': 'Thomas'...|  Thomas|          110|99807.14|2012-04-12|          110|Corporate Strateg...|Los Angeles|           High|\n",
      "|       2599|{'name': 'Raymond...| Raymond|          103|99793.82|1994-04-05|          103| Sales and Marketing|    Chicago|           High|\n",
      "|       1423|{'name': 'Monica'...|  Monica|          104|99777.47|2002-06-02|          104|    Data Engineering|    Zapopan|           High|\n",
      "+-----------+--------------------+--------+-------------+--------+----------+-------------+--------------------+-----------+---------------+\n",
      "\n",
      "+-----------+--------------------+-------+-------------+--------+----------+-------------+--------------------+------------+---------------+\n",
      "|employee_id|       employee_info|   name|department_id|  salary| hire_date|department_id|     department_name|    location|salary_category|\n",
      "+-----------+--------------------+-------+-------------+--------+----------+-------------+--------------------+------------+---------------+\n",
      "|       2240|{'name': 'Mallory...|Mallory|          106|30001.92|2020-05-27|          106|          Operations|      London|            Low|\n",
      "|       3287|{'name': 'Kristen...|Kristen|          108|30039.24|2022-09-19|          108|Research and Deve...|Philadelphia|            Low|\n",
      "|       3067|{'name': 'Aaron',...|  Aaron|          105|30043.66|1991-07-24|          105|        Data Science|     Seattle|            Low|\n",
      "|       3556|{'name': 'Lisa', ...|   Lisa|          102|30046.22|2015-08-25|          102|Finance and Accou...|    New York|            Low|\n",
      "|       1072|{'name': 'Ashley'...| Ashley|          110|30072.69|2008-08-25|          110|Corporate Strateg...| Los Angeles|            Low|\n",
      "+-----------+--------------------+-------+-------------+--------+----------+-------------+--------------------+------------+---------------+\n",
      "\n"
     ]
    }
   ],
   "source": [
    "top5_salary_high = high_salary_df.orderBy(col(\"salary\").desc()).limit(5)\n",
    "top5_salary_high.show()\n",
    "\n",
    "top5_salary_low = low_salary_df.orderBy(col(\"salary\")).limit(5)\n",
    "top5_salary_low.show()"
   ]
  },
  {
   "cell_type": "markdown",
   "metadata": {},
   "source": [
    "### Find the number of employees with more years in the company (15 points)."
   ]
  },
  {
   "cell_type": "code",
   "execution_count": 17,
   "metadata": {},
   "outputs": [
    {
     "name": "stdout",
     "output_type": "stream",
     "text": [
      "+-----------+--------------------+------+-------------+---------+----------+-------------+--------------------+--------+----------------+\n",
      "|employee_id|       employee_info|  name|department_id|   salary| hire_date|department_id|     department_name|location|years_in_company|\n",
      "+-----------+--------------------+------+-------------+---------+----------+-------------+--------------------+--------+----------------+\n",
      "|        336|{'name': 'Brandy'...|Brandy|          107|124565.98|1988-03-17|          107|               Legal| Chicago|              37|\n",
      "|       2541|{'name': 'Monica'...|Monica|          102| 61910.62|1988-03-15|          102|Finance and Accou...|New York|              37|\n",
      "|        120|{'name': 'Megan',...| Megan|          107| 56472.42|1988-04-03|          107|               Legal| Chicago|              36|\n",
      "|        244|{'name': 'Carrie'...|Carrie|          104|104882.27|1988-06-28|          104|    Data Engineering| Zapopan|              36|\n",
      "|        159|{'name': 'Sarah',...| Sarah|          103| 53202.89|1988-04-14|          103| Sales and Marketing| Chicago|              36|\n",
      "+-----------+--------------------+------+-------------+---------+----------+-------------+--------------------+--------+----------------+\n",
      "\n",
      "+-----------+--------------------+--------+-------------+---------+----------+-------------+--------------------+-----------+----------------+\n",
      "|employee_id|       employee_info|    name|department_id|   salary| hire_date|department_id|     department_name|   location|years_in_company|\n",
      "+-----------+--------------------+--------+-------------+---------+----------+-------------+--------------------+-----------+----------------+\n",
      "|        149|{'name': 'Tristan...| Tristan|          107| 32262.77|2025-03-06|          107|               Legal|    Chicago|               0|\n",
      "|        227|{'name': 'Carrie'...|  Carrie|          101|129295.48|2024-04-26|          101|     Human Resources|  San Diego|               0|\n",
      "|        153|{'name': 'Craig',...|   Craig|          110|108674.59|2024-09-16|          110|Corporate Strateg...|Los Angeles|               0|\n",
      "|         28|{'name': 'Luke', ...|    Luke|          107| 63999.53|2025-01-22|          107|               Legal|    Chicago|               0|\n",
      "|        167|{'name': 'Jonatha...|Jonathan|          110|141241.38|2024-05-27|          110|Corporate Strateg...|Los Angeles|               0|\n",
      "+-----------+--------------------+--------+-------------+---------+----------+-------------+--------------------+-----------+----------------+\n",
      "\n"
     ]
    }
   ],
   "source": [
    "from pyspark.sql.functions import to_date, current_date, datediff\n",
    "\n",
    "employees_department_year = employees_department_join.withColumn(\"hire_date\", to_date(col(\"hire_date\"), \"yyyy-MM-dd\"))\n",
    "\n",
    "employees_department_year_company = employees_department_year.withColumn(\n",
    "    \"years_in_company\", (datediff(current_date(), col(\"hire_date\")) / 365).cast(\"int\")\n",
    ")\n",
    "\n",
    "most_years_in_company = employees_department_year_company.orderBy(col(\"years_in_company\").desc()).limit(5)\n",
    "most_years_in_company.show()\n",
    "\n",
    "less_years_in_company = employees_department_year_company.orderBy(col(\"years_in_company\").asc()).limit(5)\n",
    "less_years_in_company.show()"
   ]
  },
  {
   "cell_type": "code",
   "execution_count": null,
   "metadata": {},
   "outputs": [],
   "source": []
  },
  {
   "cell_type": "markdown",
   "metadata": {},
   "source": [
    "### Display the  Spark Plan (5 points):"
   ]
  },
  {
   "cell_type": "code",
   "execution_count": null,
   "metadata": {},
   "outputs": [],
   "source": []
  }
 ],
 "metadata": {
  "kernelspec": {
   "display_name": "Python 3 (ipykernel)",
   "language": "python",
   "name": "python3"
  },
  "language_info": {
   "codemirror_mode": {
    "name": "ipython",
    "version": 3
   },
   "file_extension": ".py",
   "mimetype": "text/x-python",
   "name": "python",
   "nbconvert_exporter": "python",
   "pygments_lexer": "ipython3",
   "version": "3.11.6"
  }
 },
 "nbformat": 4,
 "nbformat_minor": 2
}
