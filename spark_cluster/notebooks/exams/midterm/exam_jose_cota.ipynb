{
 "cells": [
  {
   "cell_type": "markdown",
   "metadata": {},
   "source": [
    "# Problem Statement\n",
    "You are given two datasets containing information of employees of a company:\n",
    "\n",
    "Employee Data: Contains information about employees encoded in a JSON string.\n",
    "\n",
    "Department Data: Contains information about departments of the company.\n",
    "\n",
    "Your task is to analyze the data using PySpark and solve specific analysis tasks:"
   ]
  },
  {
   "cell_type": "code",
   "execution_count": 1,
   "metadata": {},
   "outputs": [],
   "source": [
    "import findspark\n",
    "findspark.init()"
   ]
  },
  {
   "cell_type": "code",
   "execution_count": 2,
   "metadata": {},
   "outputs": [
    {
     "name": "stderr",
     "output_type": "stream",
     "text": [
      "Setting default log level to \"WARN\".\n",
      "To adjust logging level use sc.setLogLevel(newLevel). For SparkR, use setLogLevel(newLevel).\n",
      "25/03/14 13:49:10 WARN NativeCodeLoader: Unable to load native-hadoop library for your platform... using builtin-java classes where applicable\n"
     ]
    }
   ],
   "source": [
    "from pyspark.sql import SparkSession\n",
    "\n",
    "spark = SparkSession.builder \\\n",
    "    .appName(\"BigData-Exam-JoseCota\") \\\n",
    "    .master(\"spark://843542683a54:7077\") \\\n",
    "    .config(\"spark.ui.port\",\"4040\") \\\n",
    "    .getOrCreate()\n",
    "sc = spark.sparkContext"
   ]
  },
  {
   "cell_type": "markdown",
   "metadata": {},
   "source": [
    "# Tasks\n",
    "1. Read the Data (10 points):\n",
    "- Load the employees.csv and departments.csv files into PySpark DataFrames."
   ]
  },
  {
   "cell_type": "code",
   "execution_count": 13,
   "metadata": {},
   "outputs": [
    {
     "name": "stdout",
     "output_type": "stream",
     "text": [
      "root\n",
      " |-- employee_id: string (nullable = true)\n",
      " |-- employee_info: string (nullable = true)\n",
      "\n",
      "+-----------+-------------------------------------------------------------------------------------------+\n",
      "|employee_id|employee_info                                                                              |\n",
      "+-----------+-------------------------------------------------------------------------------------------+\n",
      "|1          |{'name': 'Caitlyn', 'department_id': 103, 'salary': 115959.78, 'hire_date': '2002-06-10'}  |\n",
      "|2          |{'name': 'Rachel', 'department_id': 104, 'salary': 100820.16, 'hire_date': '2009-07-01'}   |\n",
      "|3          |{'name': 'Carrie', 'department_id': 105, 'salary': 114421.44, 'hire_date': '1998-12-10'}   |\n",
      "|4          |{'name': 'Renee', 'department_id': 104, 'salary': 54688.13, 'hire_date': '1995-03-17'}     |\n",
      "|5          |{'name': 'Gabriella', 'department_id': 109, 'salary': 106267.03, 'hire_date': '1995-02-09'}|\n",
      "+-----------+-------------------------------------------------------------------------------------------+\n",
      "only showing top 5 rows\n",
      "\n"
     ]
    }
   ],
   "source": [
    "from team_name.spark_utils import SparkUtils\n",
    "employees_schema = SparkUtils.generate_schema([(\"employee_id\", \"string\"), (\"employee_info\", \"string\")])\n",
    "\n",
    "employees_df = spark.read \\\n",
    "                .schema(employees_schema) \\\n",
    "                .option(\"header\", \"true\") \\\n",
    "                .csv(\"/home/jovyan/notebooks/data/exam_P2025_ESI3914B/employees.csv\")\n",
    "\n",
    "employees_df.printSchema()\n",
    "\n",
    "employees_df.show(5, truncate=False)"
   ]
  },
  {
   "cell_type": "code",
   "execution_count": 4,
   "metadata": {},
   "outputs": [
    {
     "name": "stdout",
     "output_type": "stream",
     "text": [
      "root\n",
      " |-- department_id: string (nullable = true)\n",
      " |-- department_name: string (nullable = true)\n",
      " |-- location: string (nullable = true)\n",
      "\n",
      "+-------------+----------------------+---------+\n",
      "|department_id|department_name       |location |\n",
      "+-------------+----------------------+---------+\n",
      "|101          |Human Resources       |San Diego|\n",
      "|102          |Finance and Accounting|New York |\n",
      "|103          |Sales and Marketing   |Chicago  |\n",
      "|104          |Data Engineering      |Zapopan  |\n",
      "|105          |Data Science          |Seattle  |\n",
      "+-------------+----------------------+---------+\n",
      "only showing top 5 rows\n",
      "\n"
     ]
    }
   ],
   "source": [
    "from team_name.spark_utils import SparkUtils\n",
    "departments_schema = SparkUtils.generate_schema([(\"department_id\", \"string\"), (\"department_name\", \"string\"), (\"location\", \"string\")])\n",
    "\n",
    "departments_df = spark.read \\\n",
    "                .schema(departments_schema) \\\n",
    "                .option(\"header\", \"true\") \\\n",
    "                .csv(\"/home/jovyan/notebooks/data/exam_P2025_ESI3914B/departments.csv\")\n",
    "\n",
    "departments_df.printSchema()\n",
    "\n",
    "departments_df.show(5, truncate=False)"
   ]
  },
  {
   "cell_type": "markdown",
   "metadata": {},
   "source": [
    "2. Extract the employee info from the JSON column (20 points):\n",
    "- Extract the following the columns: name (string), department_id (integer), salary (double), and hire_date (date) from the employee_info column"
   ]
  },
  {
   "cell_type": "code",
   "execution_count": 37,
   "metadata": {},
   "outputs": [
    {
     "name": "stdout",
     "output_type": "stream",
     "text": [
      "+-----------+-------------------------------------------------------------------------------------------+---------+-------------+---------+----------+\n",
      "|employee_id|employee_info                                                                              |name     |department_id|salary   |hire_date |\n",
      "+-----------+-------------------------------------------------------------------------------------------+---------+-------------+---------+----------+\n",
      "|1          |{'name': 'Caitlyn', 'department_id': 103, 'salary': 115959.78, 'hire_date': '2002-06-10'}  |Caitlyn  |103          |115959.78|2002-06-10|\n",
      "|2          |{'name': 'Rachel', 'department_id': 104, 'salary': 100820.16, 'hire_date': '2009-07-01'}   |Rachel   |104          |100820.16|2009-07-01|\n",
      "|3          |{'name': 'Carrie', 'department_id': 105, 'salary': 114421.44, 'hire_date': '1998-12-10'}   |Carrie   |105          |114421.44|1998-12-10|\n",
      "|4          |{'name': 'Renee', 'department_id': 104, 'salary': 54688.13, 'hire_date': '1995-03-17'}     |Renee    |104          |54688.13 |1995-03-17|\n",
      "|5          |{'name': 'Gabriella', 'department_id': 109, 'salary': 106267.03, 'hire_date': '1995-02-09'}|Gabriella|109          |106267.03|1995-02-09|\n",
      "|6          |{'name': 'Kristen', 'department_id': 101, 'salary': 88237.54, 'hire_date': '2010-11-15'}   |Kristen  |101          |88237.54 |2010-11-15|\n",
      "|7          |{'name': 'Jonathan', 'department_id': 102, 'salary': 39323.42, 'hire_date': '2012-06-30'}  |Jonathan |102          |39323.42 |2012-06-30|\n",
      "|8          |{'name': 'Michelle', 'department_id': 101, 'salary': 64262.85, 'hire_date': '2005-10-30'}  |Michelle |101          |64262.85 |2005-10-30|\n",
      "|9          |{'name': 'Michelle', 'department_id': 105, 'salary': 103521.88, 'hire_date': '1991-07-10'} |Michelle |105          |103521.88|1991-07-10|\n",
      "|10         |{'name': 'Lisa', 'department_id': 110, 'salary': 55435.93, 'hire_date': '2016-03-25'}      |Lisa     |110          |55435.93 |2016-03-25|\n",
      "|11         |{'name': 'Cheryl', 'department_id': 103, 'salary': 88073.75, 'hire_date': '2020-08-21'}    |Cheryl   |103          |88073.75 |2020-08-21|\n",
      "|12         |{'name': 'Mikayla', 'department_id': 107, 'salary': 95192.05, 'hire_date': '2022-05-13'}   |Mikayla  |107          |95192.05 |2022-05-13|\n",
      "|13         |{'name': 'Lisa', 'department_id': 104, 'salary': 36032.49, 'hire_date': '2019-05-16'}      |Lisa     |104          |36032.49 |2019-05-16|\n",
      "|14         |{'name': 'Sean', 'department_id': 108, 'salary': 64904.69, 'hire_date': '2021-06-06'}      |Sean     |108          |64904.69 |2021-06-06|\n",
      "|15         |{'name': 'Monica', 'department_id': 105, 'salary': 92589.97, 'hire_date': '2022-05-09'}    |Monica   |105          |92589.97 |2022-05-09|\n",
      "|16         |{'name': 'Katelyn', 'department_id': 104, 'salary': 147225.58, 'hire_date': '2008-03-14'}  |Katelyn  |104          |147225.58|2008-03-14|\n",
      "|17         |{'name': 'Linda', 'department_id': 108, 'salary': 146632.64, 'hire_date': '2002-09-04'}    |Linda    |108          |146632.64|2002-09-04|\n",
      "|18         |{'name': 'Tammy', 'department_id': 109, 'salary': 128860.4, 'hire_date': '2014-04-18'}     |Tammy    |109          |128860.4 |2014-04-18|\n",
      "|19         |{'name': 'William', 'department_id': 103, 'salary': 142645.41, 'hire_date': '1998-05-25'}  |William  |103          |142645.41|1998-05-25|\n",
      "|20         |{'name': 'Jorge', 'department_id': 109, 'salary': 87587.51, 'hire_date': '2018-03-25'}     |Jorge    |109          |87587.51 |2018-03-25|\n",
      "+-----------+-------------------------------------------------------------------------------------------+---------+-------------+---------+----------+\n",
      "only showing top 20 rows\n",
      "\n"
     ]
    }
   ],
   "source": [
    "from pyspark.sql.functions import get_json_object, col, when, avg\n",
    "from pyspark.sql.types import IntegerType, DoubleType, DateType\n",
    "\n",
    "employees_df = (\n",
    "    employees_df\n",
    "    .withColumn(\"name\", get_json_object(employees_df.employee_info, \"$.name\"))\n",
    "    .withColumn(\"department_id\", get_json_object(employees_df.employee_info, \"$.department_id\").cast(IntegerType()))  # Cast to Integer\n",
    "    .withColumn(\"salary\", get_json_object(employees_df.employee_info, \"$.salary\").cast(DoubleType()))  # Cast to Double\n",
    "    .withColumn(\"hire_date\", get_json_object(employees_df.employee_info, \"$.hire_date\").cast(DateType()))  # Cast to Date\n",
    ")\n",
    "\n",
    "employees_df.show(truncate=False)"
   ]
  },
  {
   "cell_type": "markdown",
   "metadata": {},
   "source": [
    "3. Join Operations (10 points):"
   ]
  },
  {
   "cell_type": "code",
   "execution_count": 38,
   "metadata": {},
   "outputs": [
    {
     "name": "stdout",
     "output_type": "stream",
     "text": [
      "+-------------+-----------+-------------------------------------------------------------------------------------------+---------+---------+----------+-------------------------------------------+-------------+\n",
      "|department_id|employee_id|employee_info                                                                              |name     |salary   |hire_date |department_name                            |location     |\n",
      "+-------------+-----------+-------------------------------------------------------------------------------------------+---------+---------+----------+-------------------------------------------+-------------+\n",
      "|103          |1          |{'name': 'Caitlyn', 'department_id': 103, 'salary': 115959.78, 'hire_date': '2002-06-10'}  |Caitlyn  |115959.78|2002-06-10|Sales and Marketing                        |Chicago      |\n",
      "|104          |2          |{'name': 'Rachel', 'department_id': 104, 'salary': 100820.16, 'hire_date': '2009-07-01'}   |Rachel   |100820.16|2009-07-01|Data Engineering                           |Zapopan      |\n",
      "|105          |3          |{'name': 'Carrie', 'department_id': 105, 'salary': 114421.44, 'hire_date': '1998-12-10'}   |Carrie   |114421.44|1998-12-10|Data Science                               |Seattle      |\n",
      "|104          |4          |{'name': 'Renee', 'department_id': 104, 'salary': 54688.13, 'hire_date': '1995-03-17'}     |Renee    |54688.13 |1995-03-17|Data Engineering                           |Zapopan      |\n",
      "|109          |5          |{'name': 'Gabriella', 'department_id': 109, 'salary': 106267.03, 'hire_date': '1995-02-09'}|Gabriella|106267.03|1995-02-09|Customer Service                           |San Francisco|\n",
      "|101          |6          |{'name': 'Kristen', 'department_id': 101, 'salary': 88237.54, 'hire_date': '2010-11-15'}   |Kristen  |88237.54 |2010-11-15|Human Resources                            |San Diego    |\n",
      "|102          |7          |{'name': 'Jonathan', 'department_id': 102, 'salary': 39323.42, 'hire_date': '2012-06-30'}  |Jonathan |39323.42 |2012-06-30|Finance and Accounting                     |New York     |\n",
      "|101          |8          |{'name': 'Michelle', 'department_id': 101, 'salary': 64262.85, 'hire_date': '2005-10-30'}  |Michelle |64262.85 |2005-10-30|Human Resources                            |San Diego    |\n",
      "|105          |9          |{'name': 'Michelle', 'department_id': 105, 'salary': 103521.88, 'hire_date': '1991-07-10'} |Michelle |103521.88|1991-07-10|Data Science                               |Seattle      |\n",
      "|110          |10         |{'name': 'Lisa', 'department_id': 110, 'salary': 55435.93, 'hire_date': '2016-03-25'}      |Lisa     |55435.93 |2016-03-25|Corporate Strategy and Business Development|Los Angeles  |\n",
      "|103          |11         |{'name': 'Cheryl', 'department_id': 103, 'salary': 88073.75, 'hire_date': '2020-08-21'}    |Cheryl   |88073.75 |2020-08-21|Sales and Marketing                        |Chicago      |\n",
      "|107          |12         |{'name': 'Mikayla', 'department_id': 107, 'salary': 95192.05, 'hire_date': '2022-05-13'}   |Mikayla  |95192.05 |2022-05-13|Legal                                      |Chicago      |\n",
      "|104          |13         |{'name': 'Lisa', 'department_id': 104, 'salary': 36032.49, 'hire_date': '2019-05-16'}      |Lisa     |36032.49 |2019-05-16|Data Engineering                           |Zapopan      |\n",
      "|108          |14         |{'name': 'Sean', 'department_id': 108, 'salary': 64904.69, 'hire_date': '2021-06-06'}      |Sean     |64904.69 |2021-06-06|Research and Development                   |Philadelphia |\n",
      "|105          |15         |{'name': 'Monica', 'department_id': 105, 'salary': 92589.97, 'hire_date': '2022-05-09'}    |Monica   |92589.97 |2022-05-09|Data Science                               |Seattle      |\n",
      "|104          |16         |{'name': 'Katelyn', 'department_id': 104, 'salary': 147225.58, 'hire_date': '2008-03-14'}  |Katelyn  |147225.58|2008-03-14|Data Engineering                           |Zapopan      |\n",
      "|108          |17         |{'name': 'Linda', 'department_id': 108, 'salary': 146632.64, 'hire_date': '2002-09-04'}    |Linda    |146632.64|2002-09-04|Research and Development                   |Philadelphia |\n",
      "|109          |18         |{'name': 'Tammy', 'department_id': 109, 'salary': 128860.4, 'hire_date': '2014-04-18'}     |Tammy    |128860.4 |2014-04-18|Customer Service                           |San Francisco|\n",
      "|103          |19         |{'name': 'William', 'department_id': 103, 'salary': 142645.41, 'hire_date': '1998-05-25'}  |William  |142645.41|1998-05-25|Sales and Marketing                        |Chicago      |\n",
      "|109          |20         |{'name': 'Jorge', 'department_id': 109, 'salary': 87587.51, 'hire_date': '2018-03-25'}     |Jorge    |87587.51 |2018-03-25|Customer Service                           |San Francisco|\n",
      "+-------------+-----------+-------------------------------------------------------------------------------------------+---------+---------+----------+-------------------------------------------+-------------+\n",
      "only showing top 20 rows\n",
      "\n"
     ]
    }
   ],
   "source": [
    "detailed_df = employees_df.join(departments_df, \"department_id\", \"left\")\n",
    "detailed_df.show(truncate=False)"
   ]
  },
  {
   "cell_type": "markdown",
   "metadata": {},
   "source": [
    "1. Transformations (Using when()) (10 points):\n",
    "\n",
    "Add a new column salary_category to the enriched employee DataFrame:\n",
    "\n",
    "If salary is greater than or equal to 55000, set salary_category to \"High\".\n",
    "\n",
    "Otherwise, set salary_category to \"Low\"."
   ]
  },
  {
   "cell_type": "code",
   "execution_count": 39,
   "metadata": {},
   "outputs": [
    {
     "name": "stdout",
     "output_type": "stream",
     "text": [
      "+-------------+-----------+-------------------------------------------------------------------------------------------+---------+---------+----------+-------------------------------------------+-------------+---------------+\n",
      "|department_id|employee_id|employee_info                                                                              |name     |salary   |hire_date |department_name                            |location     |salary_category|\n",
      "+-------------+-----------+-------------------------------------------------------------------------------------------+---------+---------+----------+-------------------------------------------+-------------+---------------+\n",
      "|103          |1          |{'name': 'Caitlyn', 'department_id': 103, 'salary': 115959.78, 'hire_date': '2002-06-10'}  |Caitlyn  |115959.78|2002-06-10|Sales and Marketing                        |Chicago      |High           |\n",
      "|104          |2          |{'name': 'Rachel', 'department_id': 104, 'salary': 100820.16, 'hire_date': '2009-07-01'}   |Rachel   |100820.16|2009-07-01|Data Engineering                           |Zapopan      |High           |\n",
      "|105          |3          |{'name': 'Carrie', 'department_id': 105, 'salary': 114421.44, 'hire_date': '1998-12-10'}   |Carrie   |114421.44|1998-12-10|Data Science                               |Seattle      |High           |\n",
      "|104          |4          |{'name': 'Renee', 'department_id': 104, 'salary': 54688.13, 'hire_date': '1995-03-17'}     |Renee    |54688.13 |1995-03-17|Data Engineering                           |Zapopan      |Low            |\n",
      "|109          |5          |{'name': 'Gabriella', 'department_id': 109, 'salary': 106267.03, 'hire_date': '1995-02-09'}|Gabriella|106267.03|1995-02-09|Customer Service                           |San Francisco|High           |\n",
      "|101          |6          |{'name': 'Kristen', 'department_id': 101, 'salary': 88237.54, 'hire_date': '2010-11-15'}   |Kristen  |88237.54 |2010-11-15|Human Resources                            |San Diego    |High           |\n",
      "|102          |7          |{'name': 'Jonathan', 'department_id': 102, 'salary': 39323.42, 'hire_date': '2012-06-30'}  |Jonathan |39323.42 |2012-06-30|Finance and Accounting                     |New York     |Low            |\n",
      "|101          |8          |{'name': 'Michelle', 'department_id': 101, 'salary': 64262.85, 'hire_date': '2005-10-30'}  |Michelle |64262.85 |2005-10-30|Human Resources                            |San Diego    |High           |\n",
      "|105          |9          |{'name': 'Michelle', 'department_id': 105, 'salary': 103521.88, 'hire_date': '1991-07-10'} |Michelle |103521.88|1991-07-10|Data Science                               |Seattle      |High           |\n",
      "|110          |10         |{'name': 'Lisa', 'department_id': 110, 'salary': 55435.93, 'hire_date': '2016-03-25'}      |Lisa     |55435.93 |2016-03-25|Corporate Strategy and Business Development|Los Angeles  |High           |\n",
      "|103          |11         |{'name': 'Cheryl', 'department_id': 103, 'salary': 88073.75, 'hire_date': '2020-08-21'}    |Cheryl   |88073.75 |2020-08-21|Sales and Marketing                        |Chicago      |High           |\n",
      "|107          |12         |{'name': 'Mikayla', 'department_id': 107, 'salary': 95192.05, 'hire_date': '2022-05-13'}   |Mikayla  |95192.05 |2022-05-13|Legal                                      |Chicago      |High           |\n",
      "|104          |13         |{'name': 'Lisa', 'department_id': 104, 'salary': 36032.49, 'hire_date': '2019-05-16'}      |Lisa     |36032.49 |2019-05-16|Data Engineering                           |Zapopan      |Low            |\n",
      "|108          |14         |{'name': 'Sean', 'department_id': 108, 'salary': 64904.69, 'hire_date': '2021-06-06'}      |Sean     |64904.69 |2021-06-06|Research and Development                   |Philadelphia |High           |\n",
      "|105          |15         |{'name': 'Monica', 'department_id': 105, 'salary': 92589.97, 'hire_date': '2022-05-09'}    |Monica   |92589.97 |2022-05-09|Data Science                               |Seattle      |High           |\n",
      "|104          |16         |{'name': 'Katelyn', 'department_id': 104, 'salary': 147225.58, 'hire_date': '2008-03-14'}  |Katelyn  |147225.58|2008-03-14|Data Engineering                           |Zapopan      |High           |\n",
      "|108          |17         |{'name': 'Linda', 'department_id': 108, 'salary': 146632.64, 'hire_date': '2002-09-04'}    |Linda    |146632.64|2002-09-04|Research and Development                   |Philadelphia |High           |\n",
      "|109          |18         |{'name': 'Tammy', 'department_id': 109, 'salary': 128860.4, 'hire_date': '2014-04-18'}     |Tammy    |128860.4 |2014-04-18|Customer Service                           |San Francisco|High           |\n",
      "|103          |19         |{'name': 'William', 'department_id': 103, 'salary': 142645.41, 'hire_date': '1998-05-25'}  |William  |142645.41|1998-05-25|Sales and Marketing                        |Chicago      |High           |\n",
      "|109          |20         |{'name': 'Jorge', 'department_id': 109, 'salary': 87587.51, 'hire_date': '2018-03-25'}     |Jorge    |87587.51 |2018-03-25|Customer Service                           |San Francisco|High           |\n",
      "+-------------+-----------+-------------------------------------------------------------------------------------------+---------+---------+----------+-------------------------------------------+-------------+---------------+\n",
      "only showing top 20 rows\n",
      "\n"
     ]
    }
   ],
   "source": [
    "# Agregar columna salary_category\n",
    "df_salaries_cat = detailed_df.withColumn(\n",
    "    \"salary_category\",\n",
    "    when(col(\"salary\") >= 55000, \"High\").otherwise(\"Low\")\n",
    ")\n",
    "\n",
    "df_salaries_cat.show(truncate=False)"
   ]
  },
  {
   "cell_type": "markdown",
   "metadata": {},
   "source": [
    "5. Filter and Group (20 points):"
   ]
  },
  {
   "cell_type": "code",
   "execution_count": 40,
   "metadata": {},
   "outputs": [],
   "source": [
    "high_salary_df = df_salaries_cat.filter(col(\"salary_category\") == \"High\")\n",
    "low_salary_df = df_salaries_cat.filter(col(\"salary_category\") == \"Low\")"
   ]
  },
  {
   "cell_type": "code",
   "execution_count": 42,
   "metadata": {},
   "outputs": [
    {
     "name": "stdout",
     "output_type": "stream",
     "text": [
      "Avg salary for high salary:\n",
      "+--------------------+------------------+\n",
      "|     department_name|        avg_salary|\n",
      "+--------------------+------------------+\n",
      "|Corporate Strateg...|102741.38324414717|\n",
      "| Sales and Marketing|100839.65275449108|\n",
      "|    Data Engineering|101626.29492163012|\n",
      "|Research and Deve...|  98714.3003086419|\n",
      "|Finance and Accou...|100731.07877887784|\n",
      "|    Customer Service|101585.01600000002|\n",
      "|               Legal|  99366.3129102167|\n",
      "|        Data Science|101903.63710344829|\n",
      "|          Operations|100169.65621722837|\n",
      "|     Human Resources|104999.43191489363|\n",
      "+--------------------+------------------+\n",
      "\n",
      "Avg salary for low salary:\n",
      "+--------------------+------------------+\n",
      "|     department_name|        avg_salary|\n",
      "+--------------------+------------------+\n",
      "|Corporate Strateg...|41590.741833333326|\n",
      "| Sales and Marketing| 41150.40277777778|\n",
      "|    Data Engineering| 41358.50794117647|\n",
      "|Finance and Accou...|42740.952888888874|\n",
      "|Research and Deve...| 41426.43521126761|\n",
      "|    Customer Service|42644.472021276604|\n",
      "|               Legal| 41160.26616438357|\n",
      "|        Data Science| 41974.18958333334|\n",
      "|          Operations|40646.100705882345|\n",
      "|     Human Resources| 41751.64784810126|\n",
      "+--------------------+------------------+\n",
      "\n"
     ]
    }
   ],
   "source": [
    "\n",
    "df_avg_salary_high = high_salary_df.groupBy(\"department_name\").agg(avg(\"salary\").alias(\"avg_salary\"))\n",
    "df_avg_salary_low = low_salary_df.groupBy(\"department_name\").agg(avg(\"salary\").alias(\"avg_salary\"))\n",
    "\n",
    "print(\"Avg salary for high salary:\")\n",
    "df_avg_salary_high.show()\n",
    "print(\"Avg salary for low salary:\")\n",
    "df_avg_salary_low.show()"
   ]
  },
  {
   "cell_type": "markdown",
   "metadata": {},
   "source": [
    "6. Sort (10 points):"
   ]
  },
  {
   "cell_type": "code",
   "execution_count": 46,
   "metadata": {},
   "outputs": [
    {
     "name": "stdout",
     "output_type": "stream",
     "text": [
      "+-------------+-----------+--------------------+---------+---------+----------+--------------------+-----------+---------------+\n",
      "|department_id|employee_id|       employee_info|     name|   salary| hire_date|     department_name|   location|salary_category|\n",
      "+-------------+-----------+--------------------+---------+---------+----------+--------------------+-----------+---------------+\n",
      "|          101|       1778|{'name': 'Gabriel...|Gabriella|149989.73|2018-09-14|     Human Resources|  San Diego|           High|\n",
      "|          101|       3621|{'name': 'Katheri...|Katherine| 149979.3|2017-07-26|     Human Resources|  San Diego|           High|\n",
      "|          110|        346|{'name': 'Ryan', ...|     Ryan| 149963.1|1990-07-03|Corporate Strateg...|Los Angeles|           High|\n",
      "|          107|       3807|{'name': 'Caitlyn...|  Caitlyn|149956.54|2000-07-27|               Legal|    Chicago|           High|\n",
      "|          107|       3050|{'name': 'Mark', ...|     Mark|149915.56|2007-11-06|               Legal|    Chicago|           High|\n",
      "+-------------+-----------+--------------------+---------+---------+----------+--------------------+-----------+---------------+\n",
      "\n",
      "+-------------+-----------+--------------------+-----+--------+----------+--------------------+-------------+---------------+\n",
      "|department_id|employee_id|       employee_info| name|  salary| hire_date|     department_name|     location|salary_category|\n",
      "+-------------+-----------+--------------------+-----+--------+----------+--------------------+-------------+---------------+\n",
      "|          110|       3472|{'name': 'Linda',...|Linda|54993.53|2017-01-15|Corporate Strateg...|  Los Angeles|            Low|\n",
      "|          104|       2545|{'name': 'Tammy',...|Tammy|54991.71|2004-12-07|    Data Engineering|      Zapopan|            Low|\n",
      "|          102|        382|{'name': 'Aaron',...|Aaron|54989.45|2011-03-20|Finance and Accou...|     New York|            Low|\n",
      "|          101|       2153|{'name': 'Craig',...|Craig| 54945.2|2016-04-24|     Human Resources|    San Diego|            Low|\n",
      "|          109|       3024|{'name': 'Aaron',...|Aaron| 54937.3|1994-06-25|    Customer Service|San Francisco|            Low|\n",
      "+-------------+-----------+--------------------+-----+--------+----------+--------------------+-------------+---------------+\n",
      "\n"
     ]
    }
   ],
   "source": [
    "top_high_df = high_salary_df.orderBy(col(\"salary\").desc()).limit(5)\n",
    "top_low_df = low_salary_df.orderBy(col(\"salary\").desc()).limit(5)\n",
    "\n",
    "top_high_df.show()\n",
    "top_low_df.show()\n"
   ]
  },
  {
   "cell_type": "markdown",
   "metadata": {},
   "source": [
    "7. Find the number of employees with more years in the company (15 points)"
   ]
  },
  {
   "cell_type": "code",
   "execution_count": null,
   "metadata": {},
   "outputs": [],
   "source": [
    "from pyspark.sql.functions import year, current_date\n",
    "\n",
    "years_df = detailed_df.withColumn(\"years_in_company\", year(current_date()) - year(col(\"hire_date\")))\n",
    "\n",
    "years_df.show(5)"
   ]
  },
  {
   "cell_type": "markdown",
   "metadata": {},
   "source": [
    "8. Display the  Spark Plan (5 points):"
   ]
  }
 ],
 "metadata": {
  "kernelspec": {
   "display_name": "Python 3 (ipykernel)",
   "language": "python",
   "name": "python3"
  },
  "language_info": {
   "codemirror_mode": {
    "name": "ipython",
    "version": 3
   },
   "file_extension": ".py",
   "mimetype": "text/x-python",
   "name": "python",
   "nbconvert_exporter": "python",
   "pygments_lexer": "ipython3",
   "version": "3.11.6"
  }
 },
 "nbformat": 4,
 "nbformat_minor": 2
}
