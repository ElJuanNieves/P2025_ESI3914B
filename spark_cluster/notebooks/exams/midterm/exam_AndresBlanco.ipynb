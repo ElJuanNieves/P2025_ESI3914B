{
 "cells": [
  {
   "cell_type": "markdown",
   "metadata": {},
   "source": [
    "# <center> <img src=\"../../labs/img/ITESOLogo.png\" alt=\"ITESO\" width=\"480\" height=\"130\"> </center>\n",
    "# <center> **Departamento de Electrónica, Sistemas e Informática** </center>\n",
    "---\n",
    "### <center> **Procesamiento de Datos Masivos** </center>\n",
    "---\n",
    "### <center> **Primavera 2025** </center>\n",
    "---\n",
    "**Primer Examen**\n",
    "\n",
    "**Fecha**: 14 de Marzo del 2025\n",
    "\n",
    "**Nombre del estudiante**:\n",
    "\n",
    "**Professor**: Pablo Camarillo Ramirez"
   ]
  },
  {
   "cell_type": "code",
   "execution_count": 85,
   "metadata": {},
   "outputs": [],
   "source": [
    "import findspark\n",
    "findspark.init()"
   ]
  },
  {
   "cell_type": "code",
   "execution_count": 86,
   "metadata": {},
   "outputs": [],
   "source": [
    "from pyspark.sql import SparkSession\n",
    "\n",
    "spark = SparkSession.builder \\\n",
    "    .appName(\"SparkSQL-Exam-1-AndresBlanco\") \\\n",
    "    .master(\"spark://dc612074df78:7077\") \\\n",
    "    .config(\"spark.ui.port\",\"4040\") \\\n",
    "    .getOrCreate()\n",
    "sc = spark.sparkContext"
   ]
  },
  {
   "cell_type": "code",
   "execution_count": 87,
   "metadata": {},
   "outputs": [
    {
     "name": "stderr",
     "output_type": "stream",
     "text": [
      "[Stage 0:>                                                          (0 + 1) / 1]\r"
     ]
    },
    {
     "name": "stdout",
     "output_type": "stream",
     "text": [
      "+-----------+-------------------------------------------------------------------------------------------+\n",
      "|employee_id|employee_info                                                                              |\n",
      "+-----------+-------------------------------------------------------------------------------------------+\n",
      "|1          |{'name': 'Caitlyn', 'department_id': 103, 'salary': 115959.78, 'hire_date': '2002-06-10'}  |\n",
      "|2          |{'name': 'Rachel', 'department_id': 104, 'salary': 100820.16, 'hire_date': '2009-07-01'}   |\n",
      "|3          |{'name': 'Carrie', 'department_id': 105, 'salary': 114421.44, 'hire_date': '1998-12-10'}   |\n",
      "|4          |{'name': 'Renee', 'department_id': 104, 'salary': 54688.13, 'hire_date': '1995-03-17'}     |\n",
      "|5          |{'name': 'Gabriella', 'department_id': 109, 'salary': 106267.03, 'hire_date': '1995-02-09'}|\n",
      "|6          |{'name': 'Kristen', 'department_id': 101, 'salary': 88237.54, 'hire_date': '2010-11-15'}   |\n",
      "|7          |{'name': 'Jonathan', 'department_id': 102, 'salary': 39323.42, 'hire_date': '2012-06-30'}  |\n",
      "|8          |{'name': 'Michelle', 'department_id': 101, 'salary': 64262.85, 'hire_date': '2005-10-30'}  |\n",
      "|9          |{'name': 'Michelle', 'department_id': 105, 'salary': 103521.88, 'hire_date': '1991-07-10'} |\n",
      "|10         |{'name': 'Lisa', 'department_id': 110, 'salary': 55435.93, 'hire_date': '2016-03-25'}      |\n",
      "|11         |{'name': 'Cheryl', 'department_id': 103, 'salary': 88073.75, 'hire_date': '2020-08-21'}    |\n",
      "|12         |{'name': 'Mikayla', 'department_id': 107, 'salary': 95192.05, 'hire_date': '2022-05-13'}   |\n",
      "|13         |{'name': 'Lisa', 'department_id': 104, 'salary': 36032.49, 'hire_date': '2019-05-16'}      |\n",
      "|14         |{'name': 'Sean', 'department_id': 108, 'salary': 64904.69, 'hire_date': '2021-06-06'}      |\n",
      "|15         |{'name': 'Monica', 'department_id': 105, 'salary': 92589.97, 'hire_date': '2022-05-09'}    |\n",
      "|16         |{'name': 'Katelyn', 'department_id': 104, 'salary': 147225.58, 'hire_date': '2008-03-14'}  |\n",
      "|17         |{'name': 'Linda', 'department_id': 108, 'salary': 146632.64, 'hire_date': '2002-09-04'}    |\n",
      "|18         |{'name': 'Tammy', 'department_id': 109, 'salary': 128860.4, 'hire_date': '2014-04-18'}     |\n",
      "|19         |{'name': 'William', 'department_id': 103, 'salary': 142645.41, 'hire_date': '1998-05-25'}  |\n",
      "|20         |{'name': 'Jorge', 'department_id': 109, 'salary': 87587.51, 'hire_date': '2018-03-25'}     |\n",
      "+-----------+-------------------------------------------------------------------------------------------+\n",
      "only showing top 20 rows\n",
      "\n",
      "+-------------+--------------------+-------------+\n",
      "|department_id|     department_name|     location|\n",
      "+-------------+--------------------+-------------+\n",
      "|          101|     Human Resources|    San Diego|\n",
      "|          102|Finance and Accou...|     New York|\n",
      "|          103| Sales and Marketing|      Chicago|\n",
      "|          104|    Data Engineering|      Zapopan|\n",
      "|          105|        Data Science|      Seattle|\n",
      "|          106|          Operations|       London|\n",
      "|          107|               Legal|      Chicago|\n",
      "|          108|Research and Deve...| Philadelphia|\n",
      "|          109|    Customer Service|San Francisco|\n",
      "|          110|Corporate Strateg...|  Los Angeles|\n",
      "+-------------+--------------------+-------------+\n",
      "\n"
     ]
    },
    {
     "name": "stderr",
     "output_type": "stream",
     "text": [
      "                                                                                \r"
     ]
    }
   ],
   "source": [
    "employees_schema = SparkUtils.generate_schema([(\"employee_id\", \"string\"), (\"employee_info\", \"string\")])\n",
    "employees_df = spark.read \\\n",
    "                .schema(employees_schema) \\\n",
    "                .option(\"header\", \"true\") \\\n",
    "                .csv(\"/home/jovyan/notebooks/data/Exam_CSV/employees.csv\")\n",
    "employees_df.show(truncate=False)\n",
    "\n",
    "\n",
    "departments_schema = SparkUtils.generate_schema([(\"department_id\", \"string\"), (\"department_name\", \"string\"), (\"location\", \"string\")])\n",
    "departments_df = spark.read \\\n",
    "                .schema(departments_schema) \\\n",
    "                .option(\"header\", \"true\") \\\n",
    "                .csv(\"/home/jovyan/notebooks/data/EXAM_CSV/departments.csv\")\n",
    "departments_df.show()"
   ]
  },
  {
   "cell_type": "code",
   "execution_count": 88,
   "metadata": {},
   "outputs": [
    {
     "name": "stdout",
     "output_type": "stream",
     "text": [
      "root\n",
      " |-- employee_id: string (nullable = true)\n",
      " |-- employee_info: string (nullable = true)\n",
      " |-- name: string (nullable = true)\n",
      " |-- department_id: integer (nullable = true)\n",
      " |-- salary: double (nullable = true)\n",
      " |-- hire_date: date (nullable = true)\n",
      "\n",
      "+-----------+-------------------------------------------------------------------------------------------+---------+-------------+---------+----------+\n",
      "|employee_id|employee_info                                                                              |name     |department_id|salary   |hire_date |\n",
      "+-----------+-------------------------------------------------------------------------------------------+---------+-------------+---------+----------+\n",
      "|1          |{'name': 'Caitlyn', 'department_id': 103, 'salary': 115959.78, 'hire_date': '2002-06-10'}  |Caitlyn  |103          |115959.78|2002-06-10|\n",
      "|2          |{'name': 'Rachel', 'department_id': 104, 'salary': 100820.16, 'hire_date': '2009-07-01'}   |Rachel   |104          |100820.16|2009-07-01|\n",
      "|3          |{'name': 'Carrie', 'department_id': 105, 'salary': 114421.44, 'hire_date': '1998-12-10'}   |Carrie   |105          |114421.44|1998-12-10|\n",
      "|4          |{'name': 'Renee', 'department_id': 104, 'salary': 54688.13, 'hire_date': '1995-03-17'}     |Renee    |104          |54688.13 |1995-03-17|\n",
      "|5          |{'name': 'Gabriella', 'department_id': 109, 'salary': 106267.03, 'hire_date': '1995-02-09'}|Gabriella|109          |106267.03|1995-02-09|\n",
      "|6          |{'name': 'Kristen', 'department_id': 101, 'salary': 88237.54, 'hire_date': '2010-11-15'}   |Kristen  |101          |88237.54 |2010-11-15|\n",
      "|7          |{'name': 'Jonathan', 'department_id': 102, 'salary': 39323.42, 'hire_date': '2012-06-30'}  |Jonathan |102          |39323.42 |2012-06-30|\n",
      "|8          |{'name': 'Michelle', 'department_id': 101, 'salary': 64262.85, 'hire_date': '2005-10-30'}  |Michelle |101          |64262.85 |2005-10-30|\n",
      "|9          |{'name': 'Michelle', 'department_id': 105, 'salary': 103521.88, 'hire_date': '1991-07-10'} |Michelle |105          |103521.88|1991-07-10|\n",
      "|10         |{'name': 'Lisa', 'department_id': 110, 'salary': 55435.93, 'hire_date': '2016-03-25'}      |Lisa     |110          |55435.93 |2016-03-25|\n",
      "|11         |{'name': 'Cheryl', 'department_id': 103, 'salary': 88073.75, 'hire_date': '2020-08-21'}    |Cheryl   |103          |88073.75 |2020-08-21|\n",
      "|12         |{'name': 'Mikayla', 'department_id': 107, 'salary': 95192.05, 'hire_date': '2022-05-13'}   |Mikayla  |107          |95192.05 |2022-05-13|\n",
      "|13         |{'name': 'Lisa', 'department_id': 104, 'salary': 36032.49, 'hire_date': '2019-05-16'}      |Lisa     |104          |36032.49 |2019-05-16|\n",
      "|14         |{'name': 'Sean', 'department_id': 108, 'salary': 64904.69, 'hire_date': '2021-06-06'}      |Sean     |108          |64904.69 |2021-06-06|\n",
      "|15         |{'name': 'Monica', 'department_id': 105, 'salary': 92589.97, 'hire_date': '2022-05-09'}    |Monica   |105          |92589.97 |2022-05-09|\n",
      "|16         |{'name': 'Katelyn', 'department_id': 104, 'salary': 147225.58, 'hire_date': '2008-03-14'}  |Katelyn  |104          |147225.58|2008-03-14|\n",
      "|17         |{'name': 'Linda', 'department_id': 108, 'salary': 146632.64, 'hire_date': '2002-09-04'}    |Linda    |108          |146632.64|2002-09-04|\n",
      "|18         |{'name': 'Tammy', 'department_id': 109, 'salary': 128860.4, 'hire_date': '2014-04-18'}     |Tammy    |109          |128860.4 |2014-04-18|\n",
      "|19         |{'name': 'William', 'department_id': 103, 'salary': 142645.41, 'hire_date': '1998-05-25'}  |William  |103          |142645.41|1998-05-25|\n",
      "|20         |{'name': 'Jorge', 'department_id': 109, 'salary': 87587.51, 'hire_date': '2018-03-25'}     |Jorge    |109          |87587.51 |2018-03-25|\n",
      "+-----------+-------------------------------------------------------------------------------------------+---------+-------------+---------+----------+\n",
      "only showing top 20 rows\n",
      "\n"
     ]
    }
   ],
   "source": [
    "from pyspark.sql.functions import get_json_object, col\n",
    "\n",
    "employees_info = employees_df \\\n",
    "    .withColumn(\"name\", get_json_object(employees_df.employee_info, \"$.name\")) \\\n",
    "    .withColumn(\"department_id\", get_json_object(employees_df.employee_info, \"$.department_id\")) \\\n",
    "    .withColumn(\"salary\", get_json_object(employees_df.employee_info, \"$.salary\")) \\\n",
    "    .withColumn(\"hire_date\", get_json_object(employees_df.employee_info, \"$.hire_date\"))\n",
    "\n",
    "employees_info = employees_info \\\n",
    "    .withColumn(\"department_id\", col(\"department_id\").cast(\"integer\")) \\\n",
    "    .withColumn(\"salary\", col(\"salary\").cast(\"double\")) \\\n",
    "    .withColumn(\"hire_date\", col(\"hire_date\").cast(\"date\"))\n",
    "\n",
    "employees_info.printSchema()  \n",
    "employees_info.show(truncate=False)"
   ]
  },
  {
   "cell_type": "code",
   "execution_count": 89,
   "metadata": {},
   "outputs": [
    {
     "name": "stdout",
     "output_type": "stream",
     "text": [
      "+-----------+---------+---------+---------------+\n",
      "|employee_id|     name|   salary|salary_category|\n",
      "+-----------+---------+---------+---------------+\n",
      "|          1|  Caitlyn|115959.78|           High|\n",
      "|          2|   Rachel|100820.16|           High|\n",
      "|          3|   Carrie|114421.44|           High|\n",
      "|          4|    Renee| 54688.13|            Low|\n",
      "|          5|Gabriella|106267.03|           High|\n",
      "|          6|  Kristen| 88237.54|           High|\n",
      "|          7| Jonathan| 39323.42|            Low|\n",
      "|          8| Michelle| 64262.85|           High|\n",
      "|          9| Michelle|103521.88|           High|\n",
      "|         10|     Lisa| 55435.93|           High|\n",
      "|         11|   Cheryl| 88073.75|           High|\n",
      "|         12|  Mikayla| 95192.05|           High|\n",
      "|         13|     Lisa| 36032.49|            Low|\n",
      "|         14|     Sean| 64904.69|           High|\n",
      "|         15|   Monica| 92589.97|           High|\n",
      "|         16|  Katelyn|147225.58|           High|\n",
      "|         17|    Linda|146632.64|           High|\n",
      "|         18|    Tammy| 128860.4|           High|\n",
      "|         19|  William|142645.41|           High|\n",
      "|         20|    Jorge| 87587.51|           High|\n",
      "+-----------+---------+---------+---------------+\n",
      "only showing top 20 rows\n",
      "\n"
     ]
    }
   ],
   "source": [
    "from pyspark.sql.functions import when\n",
    "employees_info_with_category = employees_info.withColumn(\n",
    "    \"salary_category\", \n",
    "    when(col(\"salary\") >= 55000, \"High\")\n",
    "    .otherwise(\"Low\")\n",
    ")\n",
    "\n",
    "employees_info_with_category.select(\"employee_id\", \"name\", \"salary\", \"salary_category\").show()"
   ]
  },
  {
   "cell_type": "code",
   "execution_count": 90,
   "metadata": {},
   "outputs": [
    {
     "name": "stdout",
     "output_type": "stream",
     "text": [
      "Average salary per department for High salary category:\n",
      "+--------------------+----------+\n",
      "|     department_name|avg_salary|\n",
      "+--------------------+----------+\n",
      "|Corporate Strateg...| 102741.38|\n",
      "| Sales and Marketing| 100839.65|\n",
      "|    Data Engineering| 101626.29|\n",
      "|Research and Deve...|   98714.3|\n",
      "|Finance and Accou...| 100731.08|\n",
      "|    Customer Service| 101585.02|\n",
      "|               Legal|  99366.31|\n",
      "|        Data Science| 101903.64|\n",
      "|          Operations| 100169.66|\n",
      "|     Human Resources| 104999.43|\n",
      "+--------------------+----------+\n",
      "\n",
      "Average salary per department for Low salary category:\n",
      "+--------------------+----------+\n",
      "|     department_name|avg_salary|\n",
      "+--------------------+----------+\n",
      "|Corporate Strateg...|  41590.74|\n",
      "| Sales and Marketing|   41150.4|\n",
      "|    Data Engineering|  41358.51|\n",
      "|Finance and Accou...|  42740.95|\n",
      "|Research and Deve...|  41426.44|\n",
      "|    Customer Service|  42644.47|\n",
      "|               Legal|  41160.27|\n",
      "|        Data Science|  41974.19|\n",
      "|          Operations|   40646.1|\n",
      "|     Human Resources|  41751.65|\n",
      "+--------------------+----------+\n",
      "\n"
     ]
    }
   ],
   "source": [
    "from pyspark.sql.functions import avg, round\n",
    "\n",
    "# Filter employees by salary category\n",
    "high_salary_employees = employees_info_with_category.filter(col(\"salary_category\") == \"High\")\n",
    "low_salary_employees = employees_info_with_category.filter(col(\"salary_category\") == \"Low\")\n",
    "\n",
    "# Join with departments dataframe to get department names\n",
    "high_salary_with_dept = high_salary_employees.join(\n",
    "    departments_df,\n",
    "    high_salary_employees.department_id == departments_df.department_id,\n",
    "    \"inner\"\n",
    ")\n",
    "\n",
    "low_salary_with_dept = low_salary_employees.join(\n",
    "    departments_df,\n",
    "    low_salary_employees.department_id == departments_df.department_id,\n",
    "    \"inner\"\n",
    ")\n",
    "\n",
    "# Calculate average salary per department for high salary employees\n",
    "high_salary_avg_by_dept = high_salary_with_dept.groupBy(\"department_name\") \\\n",
    "    .agg(round(avg(\"salary\"), 2).alias(\"avg_salary\")) \\\n",
    "    .select(\"department_name\", \"avg_salary\")\n",
    "\n",
    "low_salary_avg_by_dept = low_salary_with_dept.groupBy(\"department_name\") \\\n",
    "    .agg(round(avg(\"salary\"), 2).alias(\"avg_salary\")) \\\n",
    "    .select(\"department_name\", \"avg_salary\")\n",
    "\n",
    "print(\"Average salary per department for High salary category:\")\n",
    "high_salary_avg_by_dept.show()\n",
    "\n",
    "print(\"Average salary per department for Low salary category:\")\n",
    "low_salary_avg_by_dept.show()"
   ]
  },
  {
   "cell_type": "code",
   "execution_count": 91,
   "metadata": {},
   "outputs": [
    {
     "name": "stdout",
     "output_type": "stream",
     "text": [
      "Top 5 employees with highest salaries from 'High' category:\n",
      "+-----------+---------+---------+-------------+\n",
      "|employee_id|     name|   salary|department_id|\n",
      "+-----------+---------+---------+-------------+\n",
      "|       1778|Gabriella|149989.73|          101|\n",
      "|       3621|Katherine| 149979.3|          101|\n",
      "|        346|     Ryan| 149963.1|          110|\n",
      "|       3807|  Caitlyn|149956.54|          107|\n",
      "|       3050|     Mark|149915.56|          107|\n",
      "+-----------+---------+---------+-------------+\n",
      "\n",
      "Top 5 employees with highest salaries from 'Low' category:\n",
      "+-----------+-----+--------+-------------+\n",
      "|employee_id| name|  salary|department_id|\n",
      "+-----------+-----+--------+-------------+\n",
      "|       3472|Linda|54993.53|          110|\n",
      "|       2545|Tammy|54991.71|          104|\n",
      "|        382|Aaron|54989.45|          102|\n",
      "|       2153|Craig| 54945.2|          101|\n",
      "|       3024|Aaron| 54937.3|          109|\n",
      "+-----------+-----+--------+-------------+\n",
      "\n",
      "Top 5 'High' salary employees with department names:\n",
      "+-----------+---------+---------+--------------------+\n",
      "|employee_id|     name|   salary|     department_name|\n",
      "+-----------+---------+---------+--------------------+\n",
      "|       1778|Gabriella|149989.73|     Human Resources|\n",
      "|       3621|Katherine| 149979.3|     Human Resources|\n",
      "|        346|     Ryan| 149963.1|Corporate Strateg...|\n",
      "|       3807|  Caitlyn|149956.54|               Legal|\n",
      "|       3050|     Mark|149915.56|               Legal|\n",
      "+-----------+---------+---------+--------------------+\n",
      "\n",
      "Top 5 'Low' salary employees with department names:\n",
      "+-----------+-----+--------+-------------------------------------------+\n",
      "|employee_id|name |salary  |department_name                            |\n",
      "+-----------+-----+--------+-------------------------------------------+\n",
      "|3472       |Linda|54993.53|Corporate Strategy and Business Development|\n",
      "|2545       |Tammy|54991.71|Data Engineering                           |\n",
      "|382        |Aaron|54989.45|Finance and Accounting                     |\n",
      "|2153       |Craig|54945.2 |Human Resources                            |\n",
      "|3024       |Aaron|54937.3 |Customer Service                           |\n",
      "+-----------+-----+--------+-------------------------------------------+\n",
      "\n"
     ]
    }
   ],
   "source": [
    "from pyspark.sql.functions import desc\n",
    "\n",
    "# Top 5 employees with highest salaries from \"High\" category\n",
    "print(\"Top 5 employees with highest salaries from 'High' category:\")\n",
    "high_salary_employees.select(\"employee_id\", \"name\", \"salary\", \"department_id\") \\\n",
    "    .orderBy(desc(\"salary\")) \\\n",
    "    .limit(5) \\\n",
    "    .show()\n",
    "\n",
    "# Top 5 employees with highest salaries from \"Low\" category\n",
    "print(\"Top 5 employees with highest salaries from 'Low' category:\")\n",
    "low_salary_employees.select(\"employee_id\", \"name\", \"salary\", \"department_id\") \\\n",
    "    .orderBy(desc(\"salary\")) \\\n",
    "    .limit(5) \\\n",
    "    .show()\n",
    "\n",
    "# Optional: join with departments to show department names as well\n",
    "print(\"Top 5 'High' salary employees with department names:\")\n",
    "high_salary_with_dept.select(\"employee_id\", \"name\", \"salary\", \"department_name\") \\\n",
    "    .orderBy(desc(\"salary\")) \\\n",
    "    .limit(5) \\\n",
    "    .show()\n",
    "\n",
    "print(\"Top 5 'Low' salary employees with department names:\")\n",
    "low_salary_with_dept.select(\"employee_id\", \"name\", \"salary\", \"department_name\") \\\n",
    "    .orderBy(desc(\"salary\")) \\\n",
    "    .limit(5) \\\n",
    "    .show(truncate=False)"
   ]
  },
  {
   "cell_type": "code",
   "execution_count": 92,
   "metadata": {},
   "outputs": [
    {
     "name": "stdout",
     "output_type": "stream",
     "text": [
      "Empleados con sus años en la empresa:\n",
      "+------+----------+----------------+\n",
      "|  name| hire_date|years_in_company|\n",
      "+------+----------+----------------+\n",
      "|Brandy|1988-03-17|              37|\n",
      "|Monica|1988-03-15|              37|\n",
      "|Daniel|1989-01-15|              36|\n",
      "|  Mark|1988-11-20|              36|\n",
      "| Sarah|1988-04-14|              36|\n",
      "+------+----------+----------------+\n",
      "only showing top 5 rows\n",
      "\n",
      "Antigüedad máxima: 37 años\n",
      "Empleados con mayor antigüedad:\n",
      "+------+----------+----------------+\n",
      "|  name| hire_date|years_in_company|\n",
      "+------+----------+----------------+\n",
      "|Brandy|1988-03-17|              37|\n",
      "|Monica|1988-03-15|              37|\n",
      "+------+----------+----------------+\n",
      "\n"
     ]
    }
   ],
   "source": [
    "from pyspark.sql.functions import current_date, datediff, col\n",
    "from pyspark.sql.functions import when\n",
    "\n",
    "employees_years = employees_info.withColumn(\n",
    "    \"years_in_company\", \n",
    "    (datediff(current_date(), col(\"hire_date\")) / 365).cast(\"int\")\n",
    ")\n",
    "\n",
    "print(\"Empleados con sus años en la empresa:\")\n",
    "employees_years.select(\"name\", \"hire_date\", \"years_in_company\") \\\n",
    "    .orderBy(\"years_in_company\", ascending=False) \\\n",
    "    .show(5)\n",
    "\n",
    "# Empleados más antiguos\n",
    "max_años = employees_years.agg({\"years_in_company\": \"max\"}).collect()[0][0]\n",
    "print(f\"Antigüedad máxima: {max_años} años\")\n",
    "\n",
    "print(\"Empleados con mayor antigüedad:\")\n",
    "employees_years.filter(col(\"years_in_company\") == max_años) \\\n",
    "    .select(\"name\", \"hire_date\", \"years_in_company\") \\\n",
    "    .show()"
   ]
  },
  {
   "cell_type": "code",
   "execution_count": 93,
   "metadata": {},
   "outputs": [],
   "source": [
    "sc.stop()"
   ]
  },
  {
   "cell_type": "markdown",
   "metadata": {},
   "source": [
    "![Alt Text](SS_Andres.png)"
   ]
  }
 ],
 "metadata": {
  "kernelspec": {
   "display_name": "Python 3 (ipykernel)",
   "language": "python",
   "name": "python3"
  },
  "language_info": {
   "codemirror_mode": {
    "name": "ipython",
    "version": 3
   },
   "file_extension": ".py",
   "mimetype": "text/x-python",
   "name": "python",
   "nbconvert_exporter": "python",
   "pygments_lexer": "ipython3",
   "version": "3.11.6"
  }
 },
 "nbformat": 4,
 "nbformat_minor": 2
}
