{
 "cells": [
  {
   "cell_type": "markdown",
   "metadata": {},
   "source": [
    "# <center> <img src=\"../../labs/img/ITESOLogo.png\" alt=\"ITESO\" width=\"480\" height=\"130\"> </center>\n",
    "# <center> **Departamento de Electrónica, Sistemas e Informática** </center>\n",
    "---\n",
    "### <center> **Procesamiento de Datos Masivos** </center>\n",
    "---\n",
    "### <center> **Primavera 2025** </center>\n",
    "---\n",
    "**Primer Examen**\n",
    "\n",
    "**Fecha**: 14 de Marzo del 2025\n",
    "\n",
    "**Nombre del estudiante**: Roberto Osorno Liz \n",
    "\n",
    "**Professor**: Pablo Camarillo Ramirez"
   ]
  },
  {
   "cell_type": "code",
   "execution_count": 2,
   "metadata": {},
   "outputs": [],
   "source": [
    "import findspark\n",
    "findspark.init()"
   ]
  },
  {
   "cell_type": "code",
   "execution_count": 2,
   "metadata": {},
   "outputs": [
    {
     "ename": "AttributeError",
     "evalue": "'Builder' object has no attribute 'getOrCrate'",
     "output_type": "error",
     "traceback": [
      "\u001b[0;31m---------------------------------------------------------------------------\u001b[0m",
      "\u001b[0;31mAttributeError\u001b[0m                            Traceback (most recent call last)",
      "Cell \u001b[0;32mIn[4], line 7\u001b[0m\n\u001b[1;32m      1\u001b[0m \u001b[38;5;28;01mfrom\u001b[39;00m \u001b[38;5;21;01mpyspark\u001b[39;00m\u001b[38;5;21;01m.\u001b[39;00m\u001b[38;5;21;01msql\u001b[39;00m \u001b[38;5;28;01mimport\u001b[39;00m SparkSession\n\u001b[1;32m      2\u001b[0m \u001b[38;5;66;03m# spark://078b2e28e517:7077 cluster original\u001b[39;00m\n\u001b[1;32m      3\u001b[0m spark \u001b[38;5;241m=\u001b[39m \u001b[43mSparkSession\u001b[49m\u001b[38;5;241;43m.\u001b[39;49m\u001b[43mbuilder\u001b[49m\u001b[43m \u001b[49m\u001b[43m\\\u001b[49m\n\u001b[1;32m      4\u001b[0m \u001b[43m    \u001b[49m\u001b[38;5;241;43m.\u001b[39;49m\u001b[43mappName\u001b[49m\u001b[43m(\u001b[49m\u001b[38;5;124;43m\"\u001b[39;49m\u001b[38;5;124;43mSparkSQL-Exam-1-ESCRIBE-AQUI-TU-NOMBRE\u001b[39;49m\u001b[38;5;124;43m\"\u001b[39;49m\u001b[43m)\u001b[49m\u001b[43m \u001b[49m\u001b[43m\\\u001b[49m\n\u001b[1;32m      5\u001b[0m \u001b[43m    \u001b[49m\u001b[38;5;241;43m.\u001b[39;49m\u001b[43mmaster\u001b[49m\u001b[43m(\u001b[49m\u001b[38;5;124;43m\"\u001b[39;49m\u001b[38;5;124;43mspark://fc91669459e3:7077\u001b[39;49m\u001b[38;5;124;43m\"\u001b[39;49m\u001b[43m)\u001b[49m\u001b[43m \u001b[49m\u001b[43m\\\u001b[49m\n\u001b[1;32m      6\u001b[0m \u001b[43m    \u001b[49m\u001b[38;5;241;43m.\u001b[39;49m\u001b[43mconfig\u001b[49m\u001b[43m(\u001b[49m\u001b[38;5;124;43m\"\u001b[39;49m\u001b[38;5;124;43mspark.ui.port\u001b[39;49m\u001b[38;5;124;43m\"\u001b[39;49m\u001b[43m,\u001b[49m\u001b[38;5;124;43m\"\u001b[39;49m\u001b[38;5;124;43m4040\u001b[39;49m\u001b[38;5;124;43m\"\u001b[39;49m\u001b[43m)\u001b[49m\u001b[43m \u001b[49m\u001b[43m\\\u001b[49m\n\u001b[0;32m----> 7\u001b[0m \u001b[43m    \u001b[49m\u001b[38;5;241;43m.\u001b[39;49m\u001b[43mgetOrCrate\u001b[49m()\n\u001b[1;32m      8\u001b[0m sc \u001b[38;5;241m=\u001b[39m spark\u001b[38;5;241m.\u001b[39msparkContext\n",
      "\u001b[0;31mAttributeError\u001b[0m: 'Builder' object has no attribute 'getOrCrate'"
     ]
    }
   ],
   "source": [
    "from pyspark.sql import SparkSession\n",
    "# spark://078b2e28e517:7077 cluster original\n",
    "\n",
    "spark = SparkSession.builder \\\n",
    "    .appName(\"SparkSQL-Exam-1-Roberto-Osorno-liz\") \\\n",
    "    .master(\"spark://fc91669459e3:7077\") \\\n",
    "    .config(\"spark.ui.port\",\"4040\") \\\n",
    "    .getOrCreate()\n",
<<<<<<< HEAD
    "sc = spark.sparkContext"
=======
    "\n",
    "# Create SparkContext\n",
    "sc = spark.sparkContext\n",
    "sc.setLogLevel(\"ERROR\")"
>>>>>>> b84ac38 (actualizacion)
   ]
  },
  {
   "cell_type": "code",
   "execution_count": 61,
   "metadata": {},
   "outputs": [
    {
     "name": "stdout",
     "output_type": "stream",
     "text": [
      "+-----------+--------------------+---------+-------------+---------+----------+\n",
      "|employee_id|       employee_info|     name|department_id|   salary| hire_date|\n",
      "+-----------+--------------------+---------+-------------+---------+----------+\n",
      "|          1|{'name': 'Caitlyn...|  Caitlyn|          103|115959.78|2002-06-10|\n",
      "|          2|{'name': 'Rachel'...|   Rachel|          104|100820.16|2009-07-01|\n",
      "|          3|{'name': 'Carrie'...|   Carrie|          105|114421.44|1998-12-10|\n",
      "|          4|{'name': 'Renee',...|    Renee|          104| 54688.13|1995-03-17|\n",
      "|          5|{'name': 'Gabriel...|Gabriella|          109|106267.03|1995-02-09|\n",
      "+-----------+--------------------+---------+-------------+---------+----------+\n",
      "only showing top 5 rows\n",
      "\n",
      "root\n",
      " |-- employee_id: integer (nullable = true)\n",
      " |-- employee_info: string (nullable = true)\n",
      " |-- name: string (nullable = true)\n",
      " |-- department_id: string (nullable = true)\n",
      " |-- salary: double (nullable = true)\n",
      " |-- hire_date: date (nullable = true)\n",
      "\n"
     ]
    }
   ],
   "source": [
    "from pyspark.sql import SparkSession\n",
    "from pyspark.sql.functions import col, avg, when, get_json_object, to_date\n",
    "from team_name.spark_utils import SparkUtils\n",
    "\n",
    "# 1. Read the data\n",
    "columns_info = [(\"employee_id\", \"integer\"), (\"employee_info\", \"string\")]\n",
    "employee_schema = SparkUtils.generate_schema(columns_info)\n",
    "employees_df = spark.read \\\n",
    "    .schema(employee_schema) \\\n",
    "    .csv(\"/home/jovyan/notebooks/data/exam_P2025_ESI3914B/employees.csv\", header=True)\n",
    "\n",
    "employees_df = employees_df \\\n",
    "    .withColumn(\"name\", get_json_object(employees_df.employee_info, '$.name')) \\\n",
    "    .withColumn(\"department_id\", get_json_object(employees_df.employee_info, '$.department_id')) \\\n",
    "    .withColumn(\"salary\", get_json_object(employees_df.employee_info, '$.salary').cast(\"double\")) \\\n",
    "    .withColumn(\"hire_date\", get_json_object(employees_df.employee_info, '$.hire_date').cast(\"date\"))\n",
    "\n",
    "employees_df.show(5)\n",
    "employees_df.printSchema()\n"
   ]
  },
  {
   "cell_type": "code",
   "execution_count": 62,
   "metadata": {},
   "outputs": [
    {
     "name": "stdout",
     "output_type": "stream",
     "text": [
      "+-------------------------------------------+--------------+\n",
      "|department_name                            |avg_low_salary|\n",
      "+-------------------------------------------+--------------+\n",
      "|Corporate Strategy and Business Development|41591.0       |\n",
      "|Sales and Marketing                        |41150.0       |\n",
      "|Data Engineering                           |41359.0       |\n",
      "|Finance and Accounting                     |42741.0       |\n",
      "|Research and Development                   |41426.0       |\n",
      "|Customer Service                           |42644.0       |\n",
      "|Legal                                      |41160.0       |\n",
      "|Data Science                               |41974.0       |\n",
      "|Operations                                 |40646.0       |\n",
      "|Human Resources                            |41752.0       |\n",
      "+-------------------------------------------+--------------+\n",
      "\n",
      "+-------------------------------------------+---------------+\n",
      "|department_name                            |avg_high_salary|\n",
      "+-------------------------------------------+---------------+\n",
      "|Corporate Strategy and Business Development|102741.0       |\n",
      "|Sales and Marketing                        |100840.0       |\n",
      "|Data Engineering                           |101626.0       |\n",
      "|Research and Development                   |98714.0        |\n",
      "|Finance and Accounting                     |100731.0       |\n",
      "|Customer Service                           |101585.0       |\n",
      "|Legal                                      |99366.0        |\n",
      "|Data Science                               |101904.0       |\n",
      "|Operations                                 |100170.0       |\n",
      "|Human Resources                            |104999.0       |\n",
      "+-------------------------------------------+---------------+\n",
      "\n"
     ]
    }
   ],
   "source": [
    "from pyspark.sql.functions import round \n",
    "columns_info = [(\"department_id\", \"integer\"), (\"department_name\", \"string\"), (\"location\", \"string\")]\n",
    "departments_schema = SparkUtils.generate_schema(columns_info)\n",
    "departments_df = spark.read \\\n",
    "    .schema(departments_schema) \\\n",
    "    .csv(\"/home/jovyan/notebooks/data/exam_P2025_ESI3914B/departments.csv\", header=True)\n",
    "\n",
    "# 2. Join the DataFrames\n",
    "enriched_employees_df = employees_df.join(departments_df, on=\"department_id\", how=\"inner\")\n",
    "\n",
    "# 5. Transformations (Using `when()`)\n",
    "enriched_employees_df = enriched_employees_df.withColumn(\n",
    "    \"salary_category\",\n",
    "    when(col(\"salary\") >= 55000, \"High\").otherwise(\"Low\")\n",
    ")\n",
    "# 6. Filter and group\n",
    "high_employees_df = enriched_employees_df.filter(enriched_employees_df.salary_category == \"High\")\n",
    "low_employees_df = enriched_employees_df.filter(enriched_employees_df.salary_category == \"Low\") \n",
    "grouped_high_employees_df = high_employees_df.groupBy(\"department_name\").agg(round(avg(\"salary\")).alias(\"avg_high_salary\"))\n",
    "grouped_low_employees_df = low_employees_df.groupBy(\"department_name\").agg(round(avg(\"salary\")).alias(\"avg_low_salary\"))\n",
    "grouped_low_employees_df.show(truncate=False)\n",
    "grouped_high_employees_df.show(truncate=False)\n",
    "\n"
   ]
  },
  {
   "cell_type": "code",
   "execution_count": 63,
   "metadata": {},
   "outputs": [
    {
     "name": "stdout",
     "output_type": "stream",
     "text": [
      "+---------+----------+\n",
      "|     name| hire_date|\n",
      "+---------+----------+\n",
      "|Gabriella|2018-09-14|\n",
      "|Katherine|2017-07-26|\n",
      "|     Ryan|1990-07-03|\n",
      "|  Caitlyn|2000-07-27|\n",
      "|     Mark|2007-11-06|\n",
      "+---------+----------+\n",
      "\n"
     ]
    }
   ],
   "source": [
    "# 7. Sort\n",
    "high_employees_df.select(\"name\", \"hire_date\").orderBy(\"salary\", ascending=False).limit(5).show()"
   ]
  },
  {
   "cell_type": "code",
   "execution_count": null,
   "metadata": {},
   "outputs": [
    {
     "name": "stdout",
     "output_type": "stream",
     "text": [
      "+-----+----------+\n",
      "| name| hire_date|\n",
      "+-----+----------+\n",
      "|Linda|2017-01-15|\n",
      "|Tammy|2004-12-07|\n",
      "|Aaron|2011-03-20|\n",
      "|Craig|2016-04-24|\n",
      "|Aaron|1994-06-25|\n",
      "+-----+----------+\n",
      "\n"
     ]
    }
   ],
   "source": [
    "low_employees_df.select(\"name\", \"hire_date\").orderBy(\"salary\", ascending=False).limit(5).show()"
   ]
  },
  {
   "cell_type": "code",
   "execution_count": 76,
   "metadata": {},
   "outputs": [
    {
     "data": {
      "text/plain": [
       "88"
      ]
     },
     "execution_count": 76,
     "metadata": {},
     "output_type": "execute_result"
    }
   ],
   "source": [
    "from pyspark.sql.functions import year, lit, desc\n",
    "enriched_employees_df = enriched_employees_df.withColumn(\"hire_year\", year(enriched_employees_df.hire_date))\n",
    "enriched_employees_df = enriched_employees_df.withColumn(\"this_year\", lit(2025))\n",
    "enriched_employees_df = enriched_employees_df.withColumn(\"years_in_company\", enriched_employees_df.this_year - enriched_employees_df.hire_year)\n",
    "enriched_employees_df.filter(enriched_employees_df.hire_year == 1988).select(\"name\", \"hire_date\").count()\n"
   ]
  },
  {
   "cell_type": "code",
   "execution_count": 4,
   "metadata": {},
   "outputs": [],
   "source": [
    "sc.stop()"
   ]
  }
 ],
 "metadata": {
  "kernelspec": {
   "display_name": "Python 3 (ipykernel)",
   "language": "python",
   "name": "python3"
  },
  "language_info": {
   "codemirror_mode": {
    "name": "ipython",
    "version": 3
   },
   "file_extension": ".py",
   "mimetype": "text/x-python",
   "name": "python",
   "nbconvert_exporter": "python",
   "pygments_lexer": "ipython3",
   "version": "3.11.6"
  }
 },
 "nbformat": 4,
 "nbformat_minor": 2
}
