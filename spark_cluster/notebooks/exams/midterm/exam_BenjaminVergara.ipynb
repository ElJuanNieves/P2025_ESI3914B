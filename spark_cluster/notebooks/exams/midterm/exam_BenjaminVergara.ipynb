{
 "cells": [
  {
   "cell_type": "markdown",
   "metadata": {},
   "source": [
    "# <center> <img src=\"../../labs/img/ITESOLogo.png\" alt=\"ITESO\" width=\"480\" height=\"130\"> </center>\n",
    "# <center> **Departamento de Electrónica, Sistemas e Informática** </center>\n",
    "---\n",
    "### <center> **Procesamiento de Datos Masivos** </center>\n",
    "---\n",
    "### <center> **Primavera 2025** </center>\n",
    "---\n",
    "**Primer Examen**\n",
    "\n",
    "**Fecha**: 14 de Marzo del 2025\n",
    "\n",
    "**Nombre del estudiante**: Arturo Benjamin Vergara Romo\n",
    "\n",
    "**Professor**: Pablo Camarillo Ramirez"
   ]
  },
  {
   "cell_type": "code",
   "execution_count": 86,
   "metadata": {},
   "outputs": [],
   "source": [
    "import findspark\n",
    "findspark.init()"
   ]
  },
  {
   "cell_type": "code",
   "execution_count": 87,
   "metadata": {},
   "outputs": [],
   "source": [
    "from pyspark.sql import SparkSession\n",
    "\n",
    "spark = SparkSession.builder \\\n",
    "    .appName(\"SparkSQL-Exam-1-BENJAMIN-VERGARA\") \\\n",
    "    .master(\"spark://b33dcc1265b4:7077\") \\\n",
    "    .config(\"spark.ui.port\",\"4040\") \\\n",
    "    .getOrCreate()\n",
    "sc = spark.sparkContext"
   ]
  },
  {
   "cell_type": "code",
   "execution_count": 88,
   "metadata": {},
   "outputs": [],
   "source": [
    "from gatubelxs.spark_utils import SparkUtils\n",
    "from pyspark.sql.functions import col, get_json_object, when, year, current_date, max"
   ]
  },
  {
   "cell_type": "code",
   "execution_count": 89,
   "metadata": {},
   "outputs": [],
   "source": [
    "department_schema = SparkUtils.generate_schema(\n",
    "    [(\"department_id\", \"integer\"),\n",
    "     (\"department_name\", \"string\"),\n",
    "     (\"location\", \"string\")\n",
    "    ])\n",
    "\n",
    "employees_schema = SparkUtils.generate_schema(\n",
    "    [\n",
    "        (\"name\", \"string\"),\n",
    "        (\"department_id\", \"integer\"),\n",
    "        (\"salary\", \"double\"),\n",
    "        (\"hire_date\", \"date\")\n",
    "    ]\n",
    ")"
   ]
  },
  {
   "cell_type": "code",
   "execution_count": 90,
   "metadata": {},
   "outputs": [],
   "source": [
    "department_df = spark \\\n",
    "                .read \\\n",
    "                .schema(department_schema) \\\n",
    "                .option(\"header\", \"true\") \\\n",
    "                .csv(\"/home/jovyan/notebooks/data/exam_P2025_ESI3914B/departments.csv\")"
   ]
  },
  {
   "cell_type": "code",
   "execution_count": 91,
   "metadata": {},
   "outputs": [],
   "source": [
    "employees_df = spark.read.option(\"header\", \"true\").csv(\"/home/jovyan/notebooks/data/exam_P2025_ESI3914B/employees.csv\")\n",
    "\n",
    "employees_df = employees_df \\\n",
    "    .withColumn(\"name\", get_json_object(col(\"employee_info\"), \"$.name\")) \\\n",
    "    .withColumn(\"department_id\", get_json_object(col(\"employee_info\"), \"$.department_id\")) \\\n",
    "    .withColumn(\"salary\", get_json_object(col(\"employee_info\"), \"$.salary\")) \\\n",
    "    .withColumn(\"hire_date\", get_json_object(col(\"employee_info\"), \"$.hire_date\"))"
   ]
  },
  {
   "cell_type": "code",
   "execution_count": 92,
   "metadata": {},
   "outputs": [
    {
     "name": "stdout",
     "output_type": "stream",
     "text": [
      "+-----------+---------+-------------+---------+----------+\n",
      "|employee_id|     name|department_id|   salary| hire_date|\n",
      "+-----------+---------+-------------+---------+----------+\n",
      "|          1|  Caitlyn|          103|115959.78|2002-06-10|\n",
      "|          2|   Rachel|          104|100820.16|2009-07-01|\n",
      "|          3|   Carrie|          105|114421.44|1998-12-10|\n",
      "|          4|    Renee|          104| 54688.13|1995-03-17|\n",
      "|          5|Gabriella|          109|106267.03|1995-02-09|\n",
      "|          6|  Kristen|          101| 88237.54|2010-11-15|\n",
      "|          7| Jonathan|          102| 39323.42|2012-06-30|\n",
      "|          8| Michelle|          101| 64262.85|2005-10-30|\n",
      "|          9| Michelle|          105|103521.88|1991-07-10|\n",
      "|         10|     Lisa|          110| 55435.93|2016-03-25|\n",
      "+-----------+---------+-------------+---------+----------+\n",
      "only showing top 10 rows\n",
      "\n"
     ]
    }
   ],
   "source": [
    "employees_df = employees_df.drop(\"employee_info\")\n",
    "\n",
    "for field in employees_schema.fields:\n",
    "    employees_df = employees_df.withColumn(field.name, col(field.name).cast(field.dataType))\n",
    "\n",
    "employees_df.show(n=10)"
   ]
  },
  {
   "cell_type": "code",
   "execution_count": 93,
   "metadata": {},
   "outputs": [],
   "source": [
    "joined_df = employees_df.join(department_df, \n",
    "      employees_df[\"department_id\"] == department_df[\"department_id\"], \n",
    "      \"inner\")"
   ]
  },
  {
   "cell_type": "code",
   "execution_count": 94,
   "metadata": {},
   "outputs": [
    {
     "name": "stdout",
     "output_type": "stream",
     "text": [
      "+-----------+---------+-------------+---------+----------+-------------+--------------------+-------------+---------------+\n",
      "|employee_id|     name|department_id|   salary| hire_date|department_id|     department_name|     location|salary_category|\n",
      "+-----------+---------+-------------+---------+----------+-------------+--------------------+-------------+---------------+\n",
      "|          1|  Caitlyn|          103|115959.78|2002-06-10|          103| Sales and Marketing|      Chicago|           High|\n",
      "|          2|   Rachel|          104|100820.16|2009-07-01|          104|    Data Engineering|      Zapopan|           High|\n",
      "|          3|   Carrie|          105|114421.44|1998-12-10|          105|        Data Science|      Seattle|           High|\n",
      "|          4|    Renee|          104| 54688.13|1995-03-17|          104|    Data Engineering|      Zapopan|            Low|\n",
      "|          5|Gabriella|          109|106267.03|1995-02-09|          109|    Customer Service|San Francisco|           High|\n",
      "|          6|  Kristen|          101| 88237.54|2010-11-15|          101|     Human Resources|    San Diego|           High|\n",
      "|          7| Jonathan|          102| 39323.42|2012-06-30|          102|Finance and Accou...|     New York|            Low|\n",
      "|          8| Michelle|          101| 64262.85|2005-10-30|          101|     Human Resources|    San Diego|           High|\n",
      "|          9| Michelle|          105|103521.88|1991-07-10|          105|        Data Science|      Seattle|           High|\n",
      "|         10|     Lisa|          110| 55435.93|2016-03-25|          110|Corporate Strateg...|  Los Angeles|           High|\n",
      "+-----------+---------+-------------+---------+----------+-------------+--------------------+-------------+---------------+\n",
      "only showing top 10 rows\n",
      "\n"
     ]
    }
   ],
   "source": [
    "df_enriched = joined_df.withColumn(\n",
    "    \"salary_category\", when(col(\"salary\") >= 55000, \"High\").otherwise(\"Low\")\n",
    ")\n",
    "\n",
    "df_enriched.show(n=10)"
   ]
  },
  {
   "cell_type": "code",
   "execution_count": 95,
   "metadata": {},
   "outputs": [
    {
     "name": "stdout",
     "output_type": "stream",
     "text": [
      "+-----------+---------+-------------+---------+----------+-------------+--------------------+-------------+---------------+\n",
      "|employee_id|     name|department_id|   salary| hire_date|department_id|     department_name|     location|salary_category|\n",
      "+-----------+---------+-------------+---------+----------+-------------+--------------------+-------------+---------------+\n",
      "|          1|  Caitlyn|          103|115959.78|2002-06-10|          103| Sales and Marketing|      Chicago|           High|\n",
      "|          2|   Rachel|          104|100820.16|2009-07-01|          104|    Data Engineering|      Zapopan|           High|\n",
      "|          3|   Carrie|          105|114421.44|1998-12-10|          105|        Data Science|      Seattle|           High|\n",
      "|          5|Gabriella|          109|106267.03|1995-02-09|          109|    Customer Service|San Francisco|           High|\n",
      "|          6|  Kristen|          101| 88237.54|2010-11-15|          101|     Human Resources|    San Diego|           High|\n",
      "|          8| Michelle|          101| 64262.85|2005-10-30|          101|     Human Resources|    San Diego|           High|\n",
      "|          9| Michelle|          105|103521.88|1991-07-10|          105|        Data Science|      Seattle|           High|\n",
      "|         10|     Lisa|          110| 55435.93|2016-03-25|          110|Corporate Strateg...|  Los Angeles|           High|\n",
      "|         11|   Cheryl|          103| 88073.75|2020-08-21|          103| Sales and Marketing|      Chicago|           High|\n",
      "|         12|  Mikayla|          107| 95192.05|2022-05-13|          107|               Legal|      Chicago|           High|\n",
      "+-----------+---------+-------------+---------+----------+-------------+--------------------+-------------+---------------+\n",
      "only showing top 10 rows\n",
      "\n"
     ]
    }
   ],
   "source": [
    "df_high_salary = df_enriched.filter(col(\"salary_category\") == \"High\")\n",
    "df_high_salary.show(n=10)"
   ]
  },
  {
   "cell_type": "code",
   "execution_count": 96,
   "metadata": {},
   "outputs": [
    {
     "name": "stdout",
     "output_type": "stream",
     "text": [
      "+-----------+--------+-------------+--------+----------+-------------+--------------------+-------------+---------------+\n",
      "|employee_id|    name|department_id|  salary| hire_date|department_id|     department_name|     location|salary_category|\n",
      "+-----------+--------+-------------+--------+----------+-------------+--------------------+-------------+---------------+\n",
      "|          4|   Renee|          104|54688.13|1995-03-17|          104|    Data Engineering|      Zapopan|            Low|\n",
      "|          7|Jonathan|          102|39323.42|2012-06-30|          102|Finance and Accou...|     New York|            Low|\n",
      "|         13|    Lisa|          104|36032.49|2019-05-16|          104|    Data Engineering|      Zapopan|            Low|\n",
      "|         26|    John|          109|44836.57|2004-11-13|          109|    Customer Service|San Francisco|            Low|\n",
      "|         38|  Rachel|          109|43269.85|1992-07-13|          109|    Customer Service|San Francisco|            Low|\n",
      "|         42|    Juan|          106|39368.32|2018-05-22|          106|          Operations|       London|            Low|\n",
      "|         48|   Jorge|          105|54757.83|2021-11-13|          105|        Data Science|      Seattle|            Low|\n",
      "|         49|    Mark|          103|40930.72|2007-12-19|          103| Sales and Marketing|      Chicago|            Low|\n",
      "|         54|  Andrea|          101|36776.84|2009-07-05|          101|     Human Resources|    San Diego|            Low|\n",
      "|         67|  Ashley|          109|31316.34|2003-12-12|          109|    Customer Service|San Francisco|            Low|\n",
      "+-----------+--------+-------------+--------+----------+-------------+--------------------+-------------+---------------+\n",
      "only showing top 10 rows\n",
      "\n"
     ]
    }
   ],
   "source": [
    "df_low_salary = df_enriched.filter(col(\"salary_category\") == \"Low\")\n",
    "df_low_salary.show(n=10)"
   ]
  },
  {
   "cell_type": "code",
   "execution_count": 97,
   "metadata": {},
   "outputs": [],
   "source": [
    "df_high_salary.createOrReplaceTempView(\"high_salary_employees\")\n",
    "df_low_salary.createOrReplaceTempView(\"low_salary_employees\")\n",
    "\n",
    "\n",
    "df_high_avg_salary = spark.sql(\"\"\"\n",
    "    SELECT department_name, AVG(salary) AS avg_salary\n",
    "    FROM high_salary_employees\n",
    "    GROUP BY department_name\n",
    "\"\"\")\n",
    "\n",
    "df_low_avg_salary = spark.sql(\"\"\"\n",
    "    SELECT department_name, AVG(salary) AS avg_salary\n",
    "    FROM low_salary_employees\n",
    "    GROUP BY department_name\n",
    "\"\"\")"
   ]
  },
  {
   "cell_type": "code",
   "execution_count": 98,
   "metadata": {},
   "outputs": [
    {
     "name": "stdout",
     "output_type": "stream",
     "text": [
      "+--------------------+------------------+\n",
      "|     department_name|        avg_salary|\n",
      "+--------------------+------------------+\n",
      "|Corporate Strateg...|102741.38324414717|\n",
      "| Sales and Marketing|100839.65275449108|\n",
      "|    Data Engineering|101626.29492163012|\n",
      "|Research and Deve...|  98714.3003086419|\n",
      "|Finance and Accou...|100731.07877887784|\n",
      "|    Customer Service|101585.01600000002|\n",
      "|               Legal|  99366.3129102167|\n",
      "|        Data Science|101903.63710344829|\n",
      "|          Operations|100169.65621722837|\n",
      "|     Human Resources|104999.43191489363|\n",
      "+--------------------+------------------+\n",
      "\n",
      "+--------------------+------------------+\n",
      "|     department_name|        avg_salary|\n",
      "+--------------------+------------------+\n",
      "|Corporate Strateg...|41590.741833333326|\n",
      "| Sales and Marketing| 41150.40277777778|\n",
      "|    Data Engineering| 41358.50794117647|\n",
      "|Finance and Accou...|42740.952888888874|\n",
      "|Research and Deve...| 41426.43521126761|\n",
      "|    Customer Service|42644.472021276604|\n",
      "|               Legal| 41160.26616438357|\n",
      "|        Data Science| 41974.18958333334|\n",
      "|          Operations|40646.100705882345|\n",
      "|     Human Resources| 41751.64784810126|\n",
      "+--------------------+------------------+\n",
      "\n"
     ]
    }
   ],
   "source": [
    "df_high_avg_salary.show(n=10)\n",
    "df_low_avg_salary.show(n=10)"
   ]
  },
  {
   "cell_type": "code",
   "execution_count": 99,
   "metadata": {},
   "outputs": [],
   "source": [
    "df_top_high_salary = spark.sql(\"\"\"\n",
    "    SELECT name, department_name, salary\n",
    "    FROM high_salary_employees\n",
    "    ORDER BY salary DESC\n",
    "    LIMIT 5\n",
    "\"\"\")\n",
    "\n",
    "df_top_low_salary = spark.sql(\"\"\"\n",
    "    SELECT name, department_name, salary\n",
    "    FROM low_salary_employees\n",
    "    ORDER BY salary DESC\n",
    "    LIMIT 5\n",
    "\"\"\")"
   ]
  },
  {
   "cell_type": "code",
   "execution_count": 100,
   "metadata": {},
   "outputs": [
    {
     "name": "stdout",
     "output_type": "stream",
     "text": [
      "+---------+--------------------+---------+\n",
      "|     name|     department_name|   salary|\n",
      "+---------+--------------------+---------+\n",
      "|Gabriella|     Human Resources|149989.73|\n",
      "|Katherine|     Human Resources| 149979.3|\n",
      "|     Ryan|Corporate Strateg...| 149963.1|\n",
      "|  Caitlyn|               Legal|149956.54|\n",
      "|     Mark|               Legal|149915.56|\n",
      "+---------+--------------------+---------+\n",
      "\n",
      "+-----+--------------------+--------+\n",
      "| name|     department_name|  salary|\n",
      "+-----+--------------------+--------+\n",
      "|Linda|Corporate Strateg...|54993.53|\n",
      "|Tammy|    Data Engineering|54991.71|\n",
      "|Aaron|Finance and Accou...|54989.45|\n",
      "|Craig|     Human Resources| 54945.2|\n",
      "|Aaron|    Customer Service| 54937.3|\n",
      "+-----+--------------------+--------+\n",
      "\n"
     ]
    }
   ],
   "source": [
    "df_top_high_salary.show()\n",
    "df_top_low_salary.show()"
   ]
  },
  {
   "cell_type": "code",
   "execution_count": 101,
   "metadata": {},
   "outputs": [
    {
     "name": "stdout",
     "output_type": "stream",
     "text": [
      "+-----------+---------+-------------+---------+----------+-------------+--------------------+-------------+---------------+----------------+\n",
      "|employee_id|     name|department_id|   salary| hire_date|department_id|     department_name|     location|salary_category|years_in_company|\n",
      "+-----------+---------+-------------+---------+----------+-------------+--------------------+-------------+---------------+----------------+\n",
      "|          1|  Caitlyn|          103|115959.78|2002-06-10|          103| Sales and Marketing|      Chicago|           High|              23|\n",
      "|          2|   Rachel|          104|100820.16|2009-07-01|          104|    Data Engineering|      Zapopan|           High|              16|\n",
      "|          3|   Carrie|          105|114421.44|1998-12-10|          105|        Data Science|      Seattle|           High|              27|\n",
      "|          4|    Renee|          104| 54688.13|1995-03-17|          104|    Data Engineering|      Zapopan|            Low|              30|\n",
      "|          5|Gabriella|          109|106267.03|1995-02-09|          109|    Customer Service|San Francisco|           High|              30|\n",
      "|          6|  Kristen|          101| 88237.54|2010-11-15|          101|     Human Resources|    San Diego|           High|              15|\n",
      "|          7| Jonathan|          102| 39323.42|2012-06-30|          102|Finance and Accou...|     New York|            Low|              13|\n",
      "|          8| Michelle|          101| 64262.85|2005-10-30|          101|     Human Resources|    San Diego|           High|              20|\n",
      "|          9| Michelle|          105|103521.88|1991-07-10|          105|        Data Science|      Seattle|           High|              34|\n",
      "|         10|     Lisa|          110| 55435.93|2016-03-25|          110|Corporate Strateg...|  Los Angeles|           High|               9|\n",
      "+-----------+---------+-------------+---------+----------+-------------+--------------------+-------------+---------------+----------------+\n",
      "only showing top 10 rows\n",
      "\n"
     ]
    }
   ],
   "source": [
    "df_enriched = df_enriched.withColumn(\n",
    "    \"years_in_company\", year(current_date()) - year(col(\"hire_date\"))\n",
    ")\n",
    "\n",
    "df_enriched.show(n=10)"
   ]
  },
  {
   "cell_type": "code",
   "execution_count": 102,
   "metadata": {},
   "outputs": [
    {
     "name": "stdout",
     "output_type": "stream",
     "text": [
      "+--------+----------------+\n",
      "|    name|years_in_company|\n",
      "+--------+----------------+\n",
      "|     Ana|              37|\n",
      "|    Seth|              37|\n",
      "|   Megan|              37|\n",
      "|   Sarah|              37|\n",
      "|    Mark|              37|\n",
      "|    Luke|              37|\n",
      "|  Carrie|              37|\n",
      "|   James|              37|\n",
      "|  Brandy|              37|\n",
      "|Jonathan|              37|\n",
      "+--------+----------------+\n",
      "only showing top 10 rows\n",
      "\n"
     ]
    }
   ],
   "source": [
    "df_enriched.createOrReplaceTempView(\"employees\")\n",
    "\n",
    "most_experienced_employees = spark.sql(\"\"\"\n",
    "    SELECT name, years_in_company \n",
    "    FROM employees\n",
    "    WHERE years_in_company = (SELECT MAX(years_in_company) FROM employees)\n",
    "\"\"\")\n",
    "\n",
    "most_experienced_employees.show(n=10)"
   ]
  },
  {
   "cell_type": "code",
   "execution_count": 103,
   "metadata": {},
   "outputs": [
    {
     "data": {
      "text/plain": [
       "88"
      ]
     },
     "execution_count": 103,
     "metadata": {},
     "output_type": "execute_result"
    }
   ],
   "source": [
    "num_most_experienced = most_experienced_employees.count()\n",
    "\n",
    "num_most_experienced"
   ]
  },
  {
   "cell_type": "markdown",
   "metadata": {},
   "source": [
    "![DAG Screenshot](../../labs/img/BenjaminVergara.png)"
   ]
  },
  {
   "cell_type": "code",
   "execution_count": 104,
   "metadata": {},
   "outputs": [],
   "source": [
    "sc.stop()"
   ]
  }
 ],
 "metadata": {
  "kernelspec": {
   "display_name": "Python 3 (ipykernel)",
   "language": "python",
   "name": "python3"
  },
  "language_info": {
   "codemirror_mode": {
    "name": "ipython",
    "version": 3
   },
   "file_extension": ".py",
   "mimetype": "text/x-python",
   "name": "python",
   "nbconvert_exporter": "python",
   "pygments_lexer": "ipython3",
   "version": "3.11.6"
  }
 },
 "nbformat": 4,
 "nbformat_minor": 2
}
