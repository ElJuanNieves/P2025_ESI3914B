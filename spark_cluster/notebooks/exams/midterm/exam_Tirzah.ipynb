{
 "cells": [
  {
   "cell_type": "markdown",
   "metadata": {},
   "source": [
    "# <center> <img src=\"../../labs/img/ITESOLogo.png\" alt=\"ITESO\" width=\"480\" height=\"130\"> </center>\n",
    "# <center> **Departamento de Electrónica, Sistemas e Informática** </center>\n",
    "---\n",
    "### <center> **Procesamiento de Datos Masivos** </center>\n",
    "---\n",
    "### <center> **Primavera 2025** </center>\n",
    "---\n",
    "**Primer Examen**\n",
    "\n",
    "**Fecha**: 14 de Marzo del 2025\n",
    "\n",
    "**Nombre del estudiante**: Tirzah Peniche Barba\n",
    "\n",
    "**Professor**: Pablo Camarillo Ramirez"
   ]
  },
  {
   "cell_type": "code",
   "execution_count": 1,
   "metadata": {},
   "outputs": [],
   "source": [
    "import findspark\n",
    "findspark.init()"
   ]
  },
  {
   "cell_type": "code",
   "execution_count": 2,
   "metadata": {},
   "outputs": [
    {
     "name": "stderr",
     "output_type": "stream",
     "text": [
      "Setting default log level to \"WARN\".\n",
      "To adjust logging level use sc.setLogLevel(newLevel). For SparkR, use setLogLevel(newLevel).\n",
      "25/03/14 13:40:37 WARN NativeCodeLoader: Unable to load native-hadoop library for your platform... using builtin-java classes where applicable\n"
     ]
    }
   ],
   "source": [
    "from pyspark.sql import SparkSession\n",
    "\n",
    "spark = SparkSession.builder \\\n",
    "    .appName(\"SparkSQL-Exam-1-Tirzah\") \\\n",
    "    .master(\"spark://ac7f0d7e8e91:7077\") \\\n",
    "    .config(\"spark.ui.port\",\"4040\") \\\n",
    "    .getOrCreate()\n",
    "sc = spark.sparkContext"
   ]
  },
  {
   "cell_type": "code",
   "execution_count": 3,
   "metadata": {},
   "outputs": [
    {
     "name": "stdout",
     "output_type": "stream",
     "text": [
      "root\n",
      " |-- department_id: integer (nullable = true)\n",
      " |-- department_name: string (nullable = true)\n",
      " |-- location: string (nullable = true)\n",
      "\n"
     ]
    },
    {
     "name": "stderr",
     "output_type": "stream",
     "text": [
      "                                                                                \r"
     ]
    },
    {
     "name": "stdout",
     "output_type": "stream",
     "text": [
      "+-------------+----------------------+---------+\n",
      "|department_id|department_name       |location |\n",
      "+-------------+----------------------+---------+\n",
      "|101          |Human Resources       |San Diego|\n",
      "|102          |Finance and Accounting|New York |\n",
      "|103          |Sales and Marketing   |Chicago  |\n",
      "|104          |Data Engineering      |Zapopan  |\n",
      "|105          |Data Science          |Seattle  |\n",
      "+-------------+----------------------+---------+\n",
      "only showing top 5 rows\n",
      "\n"
     ]
    }
   ],
   "source": [
    "from equipo.spark_utils import SparkUtils\n",
    "\n",
    "departments_schema = SparkUtils.generate_schema([(\"department_id\", \"integer\"), (\"department_name\", \"string\"), (\"location\", \"string\")])\n",
    "\n",
    "departments_df = spark.read \\\n",
    "                .schema(departments_schema) \\\n",
    "                .option(\"header\", \"true\") \\\n",
    "                .csv(\"/home/jovyan/notebooks/data/exam_P2025_ESI3914B/departments.csv\")\n",
    "\n",
    "departments_df.printSchema()\n",
    "\n",
    "departments_df.show(5, truncate=False)"
   ]
  },
  {
   "cell_type": "code",
   "execution_count": 22,
   "metadata": {},
   "outputs": [
    {
     "name": "stdout",
     "output_type": "stream",
     "text": [
      "root\n",
      " |-- employee_id: integer (nullable = true)\n",
      " |-- employee_info: string (nullable = true)\n",
      "\n",
      "+-----------+-------------------------------------------------------------------------------------------+\n",
      "|employee_id|employee_info                                                                              |\n",
      "+-----------+-------------------------------------------------------------------------------------------+\n",
      "|1          |{'name': 'Caitlyn', 'department_id': 103, 'salary': 115959.78, 'hire_date': '2002-06-10'}  |\n",
      "|2          |{'name': 'Rachel', 'department_id': 104, 'salary': 100820.16, 'hire_date': '2009-07-01'}   |\n",
      "|3          |{'name': 'Carrie', 'department_id': 105, 'salary': 114421.44, 'hire_date': '1998-12-10'}   |\n",
      "|4          |{'name': 'Renee', 'department_id': 104, 'salary': 54688.13, 'hire_date': '1995-03-17'}     |\n",
      "|5          |{'name': 'Gabriella', 'department_id': 109, 'salary': 106267.03, 'hire_date': '1995-02-09'}|\n",
      "+-----------+-------------------------------------------------------------------------------------------+\n",
      "only showing top 5 rows\n",
      "\n"
     ]
    }
   ],
   "source": [
    "from equipo.spark_utils import SparkUtils\n",
    "\n",
    "employees_schema = SparkUtils.generate_schema([(\"employee_id\", \"integer\"), (\"employee_info\", \"string\")])\n",
    "\n",
    "employees_df = spark.read \\\n",
    "                .schema(employees_schema) \\\n",
    "                .option(\"header\", \"true\") \\\n",
    "                .csv(\"/home/jovyan/notebooks/data/exam_P2025_ESI3914B/employees.csv\")\n",
    "\n",
    "employees_df.printSchema()\n",
    "\n",
    "employees_df.show(5, truncate=False)"
   ]
  },
  {
   "cell_type": "code",
   "execution_count": 23,
   "metadata": {},
   "outputs": [
    {
     "name": "stdout",
     "output_type": "stream",
     "text": [
      "root\n",
      " |-- employee_id: integer (nullable = true)\n",
      " |-- name: string (nullable = true)\n",
      " |-- department_id: integer (nullable = true)\n",
      " |-- salary: double (nullable = true)\n",
      " |-- hire_date: date (nullable = true)\n",
      "\n",
      "+-----------+---------+-------------+---------+----------+\n",
      "|employee_id|name     |department_id|salary   |hire_date |\n",
      "+-----------+---------+-------------+---------+----------+\n",
      "|1          |Caitlyn  |103          |115959.78|2002-06-10|\n",
      "|2          |Rachel   |104          |100820.16|2009-07-01|\n",
      "|3          |Carrie   |105          |114421.44|1998-12-10|\n",
      "|4          |Renee    |104          |54688.13 |1995-03-17|\n",
      "|5          |Gabriella|109          |106267.03|1995-02-09|\n",
      "|6          |Kristen  |101          |88237.54 |2010-11-15|\n",
      "|7          |Jonathan |102          |39323.42 |2012-06-30|\n",
      "|8          |Michelle |101          |64262.85 |2005-10-30|\n",
      "|9          |Michelle |105          |103521.88|1991-07-10|\n",
      "|10         |Lisa     |110          |55435.93 |2016-03-25|\n",
      "|11         |Cheryl   |103          |88073.75 |2020-08-21|\n",
      "|12         |Mikayla  |107          |95192.05 |2022-05-13|\n",
      "|13         |Lisa     |104          |36032.49 |2019-05-16|\n",
      "|14         |Sean     |108          |64904.69 |2021-06-06|\n",
      "|15         |Monica   |105          |92589.97 |2022-05-09|\n",
      "|16         |Katelyn  |104          |147225.58|2008-03-14|\n",
      "|17         |Linda    |108          |146632.64|2002-09-04|\n",
      "|18         |Tammy    |109          |128860.4 |2014-04-18|\n",
      "|19         |William  |103          |142645.41|1998-05-25|\n",
      "|20         |Jorge    |109          |87587.51 |2018-03-25|\n",
      "+-----------+---------+-------------+---------+----------+\n",
      "only showing top 20 rows\n",
      "\n"
     ]
    }
   ],
   "source": [
    "from pyspark.sql.functions import get_json_object\n",
    "\n",
    "\n",
    "employees_df = employees_df.withColumn(\"name\", get_json_object(employees_df.employee_info, \"$.name\").cast(\"string\")) \\\n",
    "                            .withColumn(\"department_id\", get_json_object(employees_df.employee_info, \"$.department_id\").cast(\"int\")) \\\n",
    "                            .withColumn(\"salary\", get_json_object(employees_df.employee_info, \"$.salary\").cast(\"double\")) \\\n",
    "                            .withColumn(\"hire_date\", get_json_object(employees_df.employee_info, \"$.hire_date\").cast(\"date\"))\n",
    "\n",
    "employees_df = employees_df.select(\"employee_id\", \"name\", \"department_id\", \"salary\", \"hire_date\")\n",
    "\n",
    "employees_df.printSchema()\n",
    "\n",
    "employees_df.show(truncate=False)"
   ]
  },
  {
   "cell_type": "code",
   "execution_count": 24,
   "metadata": {},
   "outputs": [
    {
     "name": "stdout",
     "output_type": "stream",
     "text": [
      "+-----------+---------+-------------+---------+----------+-------------+--------------------+-------------+\n",
      "|employee_id|     name|department_id|   salary| hire_date|department_id|     department_name|     location|\n",
      "+-----------+---------+-------------+---------+----------+-------------+--------------------+-------------+\n",
      "|          1|  Caitlyn|          103|115959.78|2002-06-10|          103| Sales and Marketing|      Chicago|\n",
      "|          2|   Rachel|          104|100820.16|2009-07-01|          104|    Data Engineering|      Zapopan|\n",
      "|          3|   Carrie|          105|114421.44|1998-12-10|          105|        Data Science|      Seattle|\n",
      "|          4|    Renee|          104| 54688.13|1995-03-17|          104|    Data Engineering|      Zapopan|\n",
      "|          5|Gabriella|          109|106267.03|1995-02-09|          109|    Customer Service|San Francisco|\n",
      "|          6|  Kristen|          101| 88237.54|2010-11-15|          101|     Human Resources|    San Diego|\n",
      "|          7| Jonathan|          102| 39323.42|2012-06-30|          102|Finance and Accou...|     New York|\n",
      "|          8| Michelle|          101| 64262.85|2005-10-30|          101|     Human Resources|    San Diego|\n",
      "|          9| Michelle|          105|103521.88|1991-07-10|          105|        Data Science|      Seattle|\n",
      "|         10|     Lisa|          110| 55435.93|2016-03-25|          110|Corporate Strateg...|  Los Angeles|\n",
      "|         11|   Cheryl|          103| 88073.75|2020-08-21|          103| Sales and Marketing|      Chicago|\n",
      "|         12|  Mikayla|          107| 95192.05|2022-05-13|          107|               Legal|      Chicago|\n",
      "|         13|     Lisa|          104| 36032.49|2019-05-16|          104|    Data Engineering|      Zapopan|\n",
      "|         14|     Sean|          108| 64904.69|2021-06-06|          108|Research and Deve...| Philadelphia|\n",
      "|         15|   Monica|          105| 92589.97|2022-05-09|          105|        Data Science|      Seattle|\n",
      "|         16|  Katelyn|          104|147225.58|2008-03-14|          104|    Data Engineering|      Zapopan|\n",
      "|         17|    Linda|          108|146632.64|2002-09-04|          108|Research and Deve...| Philadelphia|\n",
      "|         18|    Tammy|          109| 128860.4|2014-04-18|          109|    Customer Service|San Francisco|\n",
      "|         19|  William|          103|142645.41|1998-05-25|          103| Sales and Marketing|      Chicago|\n",
      "|         20|    Jorge|          109| 87587.51|2018-03-25|          109|    Customer Service|San Francisco|\n",
      "+-----------+---------+-------------+---------+----------+-------------+--------------------+-------------+\n",
      "only showing top 20 rows\n",
      "\n"
     ]
    }
   ],
   "source": [
    "employees_df = employees_df.join(departments_df, employees_df.department_id == departments_df.department_id, \"inner\")\n",
    "\n",
    "employees_df.show()"
   ]
  },
  {
   "cell_type": "code",
   "execution_count": 27,
   "metadata": {},
   "outputs": [
    {
     "name": "stdout",
     "output_type": "stream",
     "text": [
      "+-----------+---------+-------------+---------+----------+-------------+-------------------+-------------+---------------+\n",
      "|employee_id|name     |department_id|salary   |hire_date |department_id|department_name    |location     |salary_category|\n",
      "+-----------+---------+-------------+---------+----------+-------------+-------------------+-------------+---------------+\n",
      "|1          |Caitlyn  |103          |115959.78|2002-06-10|103          |Sales and Marketing|Chicago      |High           |\n",
      "|2          |Rachel   |104          |100820.16|2009-07-01|104          |Data Engineering   |Zapopan      |High           |\n",
      "|3          |Carrie   |105          |114421.44|1998-12-10|105          |Data Science       |Seattle      |High           |\n",
      "|4          |Renee    |104          |54688.13 |1995-03-17|104          |Data Engineering   |Zapopan      |Low            |\n",
      "|5          |Gabriella|109          |106267.03|1995-02-09|109          |Customer Service   |San Francisco|High           |\n",
      "+-----------+---------+-------------+---------+----------+-------------+-------------------+-------------+---------------+\n",
      "only showing top 5 rows\n",
      "\n"
     ]
    }
   ],
   "source": [
    "from pyspark.sql.functions import col, when\n",
    "\n",
    "employees_df = employees_df.withColumn(\"salary_category\", when(col(\"salary\") >= 55000, \"High\").otherwise(\"Low\"))\n",
    "\n",
    "employees_df.show(5, truncate=False)"
   ]
  },
  {
   "cell_type": "code",
   "execution_count": 28,
   "metadata": {},
   "outputs": [
    {
     "name": "stdout",
     "output_type": "stream",
     "text": [
      "+-----------+---------+-------------+---------+----------+-------------+-------------------+-------------+---------------+\n",
      "|employee_id|name     |department_id|salary   |hire_date |department_id|department_name    |location     |salary_category|\n",
      "+-----------+---------+-------------+---------+----------+-------------+-------------------+-------------+---------------+\n",
      "|1          |Caitlyn  |103          |115959.78|2002-06-10|103          |Sales and Marketing|Chicago      |High           |\n",
      "|2          |Rachel   |104          |100820.16|2009-07-01|104          |Data Engineering   |Zapopan      |High           |\n",
      "|3          |Carrie   |105          |114421.44|1998-12-10|105          |Data Science       |Seattle      |High           |\n",
      "|5          |Gabriella|109          |106267.03|1995-02-09|109          |Customer Service   |San Francisco|High           |\n",
      "|6          |Kristen  |101          |88237.54 |2010-11-15|101          |Human Resources    |San Diego    |High           |\n",
      "+-----------+---------+-------------+---------+----------+-------------+-------------------+-------------+---------------+\n",
      "only showing top 5 rows\n",
      "\n",
      "+-----------+--------+-------------+--------+----------+-------------+----------------------+-------------+---------------+\n",
      "|employee_id|name    |department_id|salary  |hire_date |department_id|department_name       |location     |salary_category|\n",
      "+-----------+--------+-------------+--------+----------+-------------+----------------------+-------------+---------------+\n",
      "|4          |Renee   |104          |54688.13|1995-03-17|104          |Data Engineering      |Zapopan      |Low            |\n",
      "|7          |Jonathan|102          |39323.42|2012-06-30|102          |Finance and Accounting|New York     |Low            |\n",
      "|13         |Lisa    |104          |36032.49|2019-05-16|104          |Data Engineering      |Zapopan      |Low            |\n",
      "|26         |John    |109          |44836.57|2004-11-13|109          |Customer Service      |San Francisco|Low            |\n",
      "|38         |Rachel  |109          |43269.85|1992-07-13|109          |Customer Service      |San Francisco|Low            |\n",
      "+-----------+--------+-------------+--------+----------+-------------+----------------------+-------------+---------------+\n",
      "only showing top 5 rows\n",
      "\n"
     ]
    }
   ],
   "source": [
    "high_salary_df = employees_df.filter(col(\"salary_category\") == \"High\")\n",
    "\n",
    "low_salary_df = employees_df.filter(col(\"salary_category\") == \"Low\")\n",
    "\n",
    "high_salary_df.show(5, truncate=False)\n",
    "\n",
    "low_salary_df.show(5, truncate=False)"
   ]
  },
  {
   "cell_type": "code",
   "execution_count": null,
   "metadata": {},
   "outputs": [
    {
     "name": "stderr",
     "output_type": "stream",
     "text": [
      "[Stage 28:>                                                         (0 + 1) / 1]\r"
     ]
    },
    {
     "name": "stdout",
     "output_type": "stream",
     "text": [
      "+--------------------+------------------+\n",
      "|     department_name|        avg_salary|\n",
      "+--------------------+------------------+\n",
      "|Corporate Strateg...|102741.38324414717|\n",
      "| Sales and Marketing|100839.65275449108|\n",
      "|    Data Engineering|101626.29492163012|\n",
      "|Research and Deve...|  98714.3003086419|\n",
      "|Finance and Accou...|100731.07877887784|\n",
      "|    Customer Service|101585.01600000002|\n",
      "|               Legal|  99366.3129102167|\n",
      "|        Data Science|101903.63710344829|\n",
      "|          Operations|100169.65621722837|\n",
      "|     Human Resources|104999.43191489363|\n",
      "+--------------------+------------------+\n",
      "\n"
     ]
    },
    {
     "name": "stderr",
     "output_type": "stream",
     "text": [
      "                                                                                \r"
     ]
    }
   ],
   "source": [
    "high_salary_df.createOrReplaceTempView(\"high_salary\")\n",
    "\n",
    "spark.sql(\"SELECT department_name, avg(salary) as avg_salary FROM high_salary GROUP BY department_name\").show()\n"
   ]
  },
  {
   "cell_type": "code",
   "execution_count": 35,
   "metadata": {},
   "outputs": [
    {
     "name": "stdout",
     "output_type": "stream",
     "text": [
      "+--------------------+------------------+\n",
      "|     department_name|        avg_salary|\n",
      "+--------------------+------------------+\n",
      "|Corporate Strateg...|41590.741833333326|\n",
      "| Sales and Marketing| 41150.40277777778|\n",
      "|    Data Engineering| 41358.50794117647|\n",
      "|Finance and Accou...|42740.952888888874|\n",
      "|Research and Deve...| 41426.43521126761|\n",
      "|    Customer Service|42644.472021276604|\n",
      "|               Legal| 41160.26616438357|\n",
      "|        Data Science| 41974.18958333334|\n",
      "|          Operations|40646.100705882345|\n",
      "|     Human Resources| 41751.64784810126|\n",
      "+--------------------+------------------+\n",
      "\n"
     ]
    }
   ],
   "source": [
    "low_salary_df.createOrReplaceTempView(\"low_salary\")\n",
    "\n",
    "spark.sql(\"SELECT department_name, avg(salary) as avg_salary FROM low_salary GROUP BY department_name\").show()\n"
   ]
  },
  {
   "cell_type": "code",
   "execution_count": 39,
   "metadata": {},
   "outputs": [
    {
     "name": "stdout",
     "output_type": "stream",
     "text": [
      "+---------+---------+\n",
      "|     name|   salary|\n",
      "+---------+---------+\n",
      "|Gabriella|149989.73|\n",
      "|Katherine| 149979.3|\n",
      "|     Ryan| 149963.1|\n",
      "|  Caitlyn|149956.54|\n",
      "|     Mark|149915.56|\n",
      "+---------+---------+\n",
      "\n"
     ]
    }
   ],
   "source": [
    "top_high_salary = spark.sql(\"SELECT name, salary FROM high_salary ORDER BY salary DESC LIMIT 5\").show()"
   ]
  },
  {
   "cell_type": "code",
   "execution_count": 38,
   "metadata": {},
   "outputs": [
    {
     "name": "stdout",
     "output_type": "stream",
     "text": [
      "+-----+--------+\n",
      "| name|  salary|\n",
      "+-----+--------+\n",
      "|Linda|54993.53|\n",
      "|Tammy|54991.71|\n",
      "|Aaron|54989.45|\n",
      "|Craig| 54945.2|\n",
      "|Aaron| 54937.3|\n",
      "+-----+--------+\n",
      "\n"
     ]
    }
   ],
   "source": [
    "top_low_salary = spark.sql(\"SELECT name, salary FROM low_salary ORDER BY salary DESC LIMIT 5\").show()"
   ]
  },
  {
   "cell_type": "code",
   "execution_count": 40,
   "metadata": {},
   "outputs": [
    {
     "name": "stdout",
     "output_type": "stream",
     "text": [
      "+-----------+---------+-------------+---------+----------+-------------+-------------------+-------------+---------------+------------------+\n",
      "|employee_id|name     |department_id|salary   |hire_date |department_id|department_name    |location     |salary_category|years_in_company  |\n",
      "+-----------+---------+-------------+---------+----------+-------------+-------------------+-------------+---------------+------------------+\n",
      "|1          |Caitlyn  |103          |115959.78|2002-06-10|103          |Sales and Marketing|Chicago      |High           |22.775342465753425|\n",
      "|2          |Rachel   |104          |100820.16|2009-07-01|104          |Data Engineering   |Zapopan      |High           |15.712328767123287|\n",
      "|3          |Carrie   |105          |114421.44|1998-12-10|105          |Data Science       |Seattle      |High           |26.276712328767122|\n",
      "|4          |Renee    |104          |54688.13 |1995-03-17|104          |Data Engineering   |Zapopan      |Low            |30.013698630136986|\n",
      "|5          |Gabriella|109          |106267.03|1995-02-09|109          |Customer Service   |San Francisco|High           |30.112328767123287|\n",
      "+-----------+---------+-------------+---------+----------+-------------+-------------------+-------------+---------------+------------------+\n",
      "only showing top 5 rows\n",
      "\n"
     ]
    }
   ],
   "source": [
    "from pyspark.sql.functions import current_date, datediff\n",
    "\n",
    "employees_df = employees_df.withColumn(\"years_in_company\", datediff(current_date(), col(\"hire_date\")) / 365)\n",
    "\n",
    "employees_df.show(5, truncate=False)"
   ]
  },
  {
   "cell_type": "code",
   "execution_count": 44,
   "metadata": {},
   "outputs": [
    {
     "name": "stdout",
     "output_type": "stream",
     "text": [
      "+-----------+---------+-------------+---------+----------+-------------+-------------------+-------------+---------------+------------------+\n",
      "|employee_id|name     |department_id|salary   |hire_date |department_id|department_name    |location     |salary_category|years_in_company  |\n",
      "+-----------+---------+-------------+---------+----------+-------------+-------------------+-------------+---------------+------------------+\n",
      "|1          |Caitlyn  |103          |115959.78|2002-06-10|103          |Sales and Marketing|Chicago      |High           |22.775342465753425|\n",
      "|2          |Rachel   |104          |100820.16|2009-07-01|104          |Data Engineering   |Zapopan      |High           |15.712328767123287|\n",
      "|3          |Carrie   |105          |114421.44|1998-12-10|105          |Data Science       |Seattle      |High           |26.276712328767122|\n",
      "|4          |Renee    |104          |54688.13 |1995-03-17|104          |Data Engineering   |Zapopan      |Low            |30.013698630136986|\n",
      "|5          |Gabriella|109          |106267.03|1995-02-09|109          |Customer Service   |San Francisco|High           |30.112328767123287|\n",
      "+-----------+---------+-------------+---------+----------+-------------+-------------------+-------------+---------------+------------------+\n",
      "only showing top 5 rows\n",
      "\n"
     ]
    }
   ],
   "source": [
    "employees_older_df = employees_df.filter(col(\"years_in_company\") > 15)\n",
    "employees_older_df.show(5, truncate=False)\n"
   ]
  },
  {
   "cell_type": "code",
   "execution_count": 48,
   "metadata": {},
   "outputs": [
    {
     "name": "stdout",
     "output_type": "stream",
     "text": [
      "2261\n"
     ]
    }
   ],
   "source": [
    "employee_count = employees_older_df.count()\n",
    "\n",
    "print(employee_count)"
   ]
  }
 ],
 "metadata": {
  "kernelspec": {
   "display_name": "Python 3 (ipykernel)",
   "language": "python",
   "name": "python3"
  },
  "language_info": {
   "codemirror_mode": {
    "name": "ipython",
    "version": 3
   },
   "file_extension": ".py",
   "mimetype": "text/x-python",
   "name": "python",
   "nbconvert_exporter": "python",
   "pygments_lexer": "ipython3",
   "version": "3.11.6"
  }
 },
 "nbformat": 4,
 "nbformat_minor": 2
}
