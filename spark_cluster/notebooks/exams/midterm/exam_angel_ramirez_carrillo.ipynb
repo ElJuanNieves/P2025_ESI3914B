{
 "cells": [
  {
   "cell_type": "markdown",
   "metadata": {},
   "source": [
    "# <center> <img src=\"../../labs/img/ITESOLogo.png\" alt=\"ITESO\" width=\"480\" height=\"130\"> </center>\n",
    "# <center> **Departamento de Electrónica, Sistemas e Informática** </center>\n",
    "---\n",
    "### <center> **Procesamiento de Datos Masivos** </center>\n",
    "---\n",
    "### <center> **Primavera 2025** </center>\n",
    "---\n",
    "**Primer Examen**\n",
    "\n",
    "**Fecha**: 14 de Marzo del 2025\n",
    "\n",
    "**Nombre del estudiante**: Angel Gabriel Ramirez Carrillo\n",
    "\n",
    "**Professor**: Pablo Camarillo Ramirez"
   ]
  },
  {
   "cell_type": "markdown",
   "metadata": {},
   "source": [
    "30bf90431f0101f98f7c61f1ad1cfa9c13515bc8dcf9dbdc"
   ]
  },
  {
   "cell_type": "markdown",
   "metadata": {},
   "source": [
    "30bf90431f0101f98f7c61f1ad1cfa9c13515bc8dcf9dbdc"
   ]
  },
  {
   "cell_type": "code",
   "execution_count": 2,
   "metadata": {},
   "outputs": [],
   "source": [
    "import findspark\n",
    "findspark.init()"
   ]
  },
  {
   "cell_type": "code",
   "execution_count": 3,
   "metadata": {},
   "outputs": [],
   "source": [
    "from pyspark.sql import SparkSession\n",
    "\n",
    "spark = SparkSession.builder \\\n",
    "    .appName(\"SparkSQL-Exam-1-Angel-Gabriel-Ramirez-Carrillo\") \\\n",
    "    .master(\"spark://56a250e0d184:7077\") \\\n",
    "    .config(\"spark.ui.port\",\"4040\") \\\n",
    "    .getOrCreate()\n",
    "sc = spark.sparkContext"
   ]
  },
  {
   "cell_type": "code",
   "execution_count": 23,
   "metadata": {},
   "outputs": [],
   "source": [
    "from pyspark.sql.functions import get_json_object\n",
    "from pyspark.sql.functions import udf\n",
    "from pyspark.sql.functions import col, when, avg, get_json_object, year, current_date\n",
    "from pyspark.sql.types import (\n",
    "    StructType, StructField, StringType, IntegerType, FloatType, DoubleType, BooleanType, \n",
    "    NullType, ShortType, LongType, ByteType, BinaryType, DecimalType, DateType, TimestampType, \n",
    "    TimestampNTZType, DayTimeIntervalType, ArrayType, MapType\n",
    ")"
   ]
  },
  {
   "cell_type": "code",
   "execution_count": 12,
   "metadata": {},
   "outputs": [],
   "source": [
    "employees_df = spark \\\n",
    "                .read \\\n",
    "                .option(\"header\", \"true\") \\\n",
    "                .csv(\"/home/jovyan/notebooks/data/employees.csv\")\n",
    "\n",
    "departments_df = spark \\\n",
    "                .read \\\n",
    "                .option(\"header\", \"true\") \\\n",
    "                .csv(\"/home/jovyan/notebooks/data/departments.csv\")"
   ]
  },
  {
   "cell_type": "code",
   "execution_count": 14,
   "metadata": {},
   "outputs": [],
   "source": [
    "\n",
    "employees_df = employees_df.withColumn(\"employee\", get_json_object(employees_df.employee_info, \"$.employee\"))\n",
    "departments_df = spark.read.option(\"header\", \"true\").csv(\"/home/jovyan/notebooks/data/departments.csv\")\n"
   ]
  },
  {
   "cell_type": "code",
   "execution_count": 22,
   "metadata": {},
   "outputs": [
    {
     "name": "stdout",
     "output_type": "stream",
     "text": [
      "+-----------+--------------------+--------+---------+-------------+---------+----------+\n",
      "|employee_id|       employee_info|employee|     name|department_id|   salary| hire_date|\n",
      "+-----------+--------------------+--------+---------+-------------+---------+----------+\n",
      "|          1|{'name': 'Caitlyn...|    NULL|  Caitlyn|          103|115959.78|2002-06-10|\n",
      "|          2|{'name': 'Rachel'...|    NULL|   Rachel|          104|100820.16|2009-07-01|\n",
      "|          3|{'name': 'Carrie'...|    NULL|   Carrie|          105|114421.44|1998-12-10|\n",
      "|          4|{'name': 'Renee',...|    NULL|    Renee|          104| 54688.13|1995-03-17|\n",
      "|          5|{'name': 'Gabriel...|    NULL|Gabriella|          109|106267.03|1995-02-09|\n",
      "+-----------+--------------------+--------+---------+-------------+---------+----------+\n",
      "only showing top 5 rows\n",
      "\n",
      "+-------------+--------------------+---------+\n",
      "|department_id|     department_name| location|\n",
      "+-------------+--------------------+---------+\n",
      "|          101|     Human Resources|San Diego|\n",
      "|          102|Finance and Accou...| New York|\n",
      "|          103| Sales and Marketing|  Chicago|\n",
      "|          104|    Data Engineering|  Zapopan|\n",
      "|          105|        Data Science|  Seattle|\n",
      "+-------------+--------------------+---------+\n",
      "only showing top 5 rows\n",
      "\n"
     ]
    }
   ],
   "source": [
    "employees_df.show(5)\n",
    "departments_df.show(5)"
   ]
  },
  {
   "cell_type": "code",
   "execution_count": 18,
   "metadata": {},
   "outputs": [],
   "source": [
    "employees_df = employees_df.withColumn(\"name\", get_json_object(col(\"employee_info\"), \"$.name\")) \\\n",
    "                           .withColumn(\"department_id\", get_json_object(col(\"employee_info\"), \"$.department_id\").cast(IntegerType())) \\\n",
    "                           .withColumn(\"salary\", get_json_object(col(\"employee_info\"), \"$.salary\").cast(DoubleType())) \\\n",
    "                           .withColumn(\"hire_date\", get_json_object(col(\"employee_info\"), \"$.hire_date\").cast(DateType()))\n"
   ]
  },
  {
   "cell_type": "code",
   "execution_count": 21,
   "metadata": {},
   "outputs": [
    {
     "name": "stdout",
     "output_type": "stream",
     "text": [
      "+-------------+-----------+--------------------+--------+---------+---------+----------+-------------------+-------------+\n",
      "|department_id|employee_id|       employee_info|employee|     name|   salary| hire_date|    department_name|     location|\n",
      "+-------------+-----------+--------------------+--------+---------+---------+----------+-------------------+-------------+\n",
      "|          103|          1|{'name': 'Caitlyn...|    NULL|  Caitlyn|115959.78|2002-06-10|Sales and Marketing|      Chicago|\n",
      "|          104|          2|{'name': 'Rachel'...|    NULL|   Rachel|100820.16|2009-07-01|   Data Engineering|      Zapopan|\n",
      "|          105|          3|{'name': 'Carrie'...|    NULL|   Carrie|114421.44|1998-12-10|       Data Science|      Seattle|\n",
      "|          104|          4|{'name': 'Renee',...|    NULL|    Renee| 54688.13|1995-03-17|   Data Engineering|      Zapopan|\n",
      "|          109|          5|{'name': 'Gabriel...|    NULL|Gabriella|106267.03|1995-02-09|   Customer Service|San Francisco|\n",
      "+-------------+-----------+--------------------+--------+---------+---------+----------+-------------------+-------------+\n",
      "only showing top 5 rows\n",
      "\n"
     ]
    }
   ],
   "source": [
    "employee_join_departments = employees_df.join(departments_df, \"department_id\", \"left\")\n",
    "\n",
    "employee_join_departments.show(5)"
   ]
  },
  {
   "cell_type": "code",
   "execution_count": 25,
   "metadata": {},
   "outputs": [
    {
     "name": "stdout",
     "output_type": "stream",
     "text": [
      "+-------------+-----------+--------------------+--------+---------+---------+----------+-------------------+-------------+---------------+\n",
      "|department_id|employee_id|       employee_info|employee|     name|   salary| hire_date|    department_name|     location|salary_category|\n",
      "+-------------+-----------+--------------------+--------+---------+---------+----------+-------------------+-------------+---------------+\n",
      "|          103|          1|{'name': 'Caitlyn...|    NULL|  Caitlyn|115959.78|2002-06-10|Sales and Marketing|      Chicago|           High|\n",
      "|          104|          2|{'name': 'Rachel'...|    NULL|   Rachel|100820.16|2009-07-01|   Data Engineering|      Zapopan|           High|\n",
      "|          105|          3|{'name': 'Carrie'...|    NULL|   Carrie|114421.44|1998-12-10|       Data Science|      Seattle|           High|\n",
      "|          104|          4|{'name': 'Renee',...|    NULL|    Renee| 54688.13|1995-03-17|   Data Engineering|      Zapopan|            Low|\n",
      "|          109|          5|{'name': 'Gabriel...|    NULL|Gabriella|106267.03|1995-02-09|   Customer Service|San Francisco|           High|\n",
      "+-------------+-----------+--------------------+--------+---------+---------+----------+-------------------+-------------+---------------+\n",
      "only showing top 5 rows\n",
      "\n"
     ]
    }
   ],
   "source": [
    "employee_join_departments = employee_join_departments.withColumn(\"salary_category\", when(col(\"salary\") >= 55000, \"High\").otherwise(\"Low\"))\n",
    "employee_join_departments.show(5)"
   ]
  },
  {
   "cell_type": "code",
   "execution_count": 27,
   "metadata": {},
   "outputs": [
    {
     "name": "stdout",
     "output_type": "stream",
     "text": [
      "+-------------+-----------+--------------------+--------+---------+---------+----------+-------------------+-------------+---------------+\n",
      "|department_id|employee_id|       employee_info|employee|     name|   salary| hire_date|    department_name|     location|salary_category|\n",
      "+-------------+-----------+--------------------+--------+---------+---------+----------+-------------------+-------------+---------------+\n",
      "|          103|          1|{'name': 'Caitlyn...|    NULL|  Caitlyn|115959.78|2002-06-10|Sales and Marketing|      Chicago|           High|\n",
      "|          104|          2|{'name': 'Rachel'...|    NULL|   Rachel|100820.16|2009-07-01|   Data Engineering|      Zapopan|           High|\n",
      "|          105|          3|{'name': 'Carrie'...|    NULL|   Carrie|114421.44|1998-12-10|       Data Science|      Seattle|           High|\n",
      "|          109|          5|{'name': 'Gabriel...|    NULL|Gabriella|106267.03|1995-02-09|   Customer Service|San Francisco|           High|\n",
      "|          101|          6|{'name': 'Kristen...|    NULL|  Kristen| 88237.54|2010-11-15|    Human Resources|    San Diego|           High|\n",
      "+-------------+-----------+--------------------+--------+---------+---------+----------+-------------------+-------------+---------------+\n",
      "only showing top 5 rows\n",
      "\n",
      "+-------------+-----------+--------------------+--------+--------+--------+----------+--------------------+-------------+---------------+\n",
      "|department_id|employee_id|       employee_info|employee|    name|  salary| hire_date|     department_name|     location|salary_category|\n",
      "+-------------+-----------+--------------------+--------+--------+--------+----------+--------------------+-------------+---------------+\n",
      "|          104|          4|{'name': 'Renee',...|    NULL|   Renee|54688.13|1995-03-17|    Data Engineering|      Zapopan|            Low|\n",
      "|          102|          7|{'name': 'Jonatha...|    NULL|Jonathan|39323.42|2012-06-30|Finance and Accou...|     New York|            Low|\n",
      "|          104|         13|{'name': 'Lisa', ...|    NULL|    Lisa|36032.49|2019-05-16|    Data Engineering|      Zapopan|            Low|\n",
      "|          109|         26|{'name': 'John', ...|    NULL|    John|44836.57|2004-11-13|    Customer Service|San Francisco|            Low|\n",
      "|          109|         38|{'name': 'Rachel'...|    NULL|  Rachel|43269.85|1992-07-13|    Customer Service|San Francisco|            Low|\n",
      "+-------------+-----------+--------------------+--------+--------+--------+----------+--------------------+-------------+---------------+\n",
      "only showing top 5 rows\n",
      "\n"
     ]
    }
   ],
   "source": [
    "high_salary_df = employee_join_departments.filter(col(\"salary_category\") == \"High\")\n",
    "low_salary_df = employee_join_departments.filter(col(\"salary_category\") == \"Low\")\n",
    "\n",
    "high_salary_df.show(5)\n",
    "low_salary_df.show(5)"
   ]
  },
  {
   "cell_type": "code",
   "execution_count": 29,
   "metadata": {},
   "outputs": [
    {
     "name": "stdout",
     "output_type": "stream",
     "text": [
      "+--------------------+------------------+\n",
      "|     department_name|        avg_salary|\n",
      "+--------------------+------------------+\n",
      "|Corporate Strateg...|102741.38324414717|\n",
      "| Sales and Marketing|100839.65275449108|\n",
      "|    Data Engineering|101626.29492163012|\n",
      "|Research and Deve...|  98714.3003086419|\n",
      "|Finance and Accou...|100731.07877887784|\n",
      "+--------------------+------------------+\n",
      "only showing top 5 rows\n",
      "\n",
      "+--------------------+------------------+\n",
      "|     department_name|        avg_salary|\n",
      "+--------------------+------------------+\n",
      "|Corporate Strateg...|41590.741833333326|\n",
      "| Sales and Marketing| 41150.40277777778|\n",
      "|    Data Engineering| 41358.50794117647|\n",
      "|Finance and Accou...|42740.952888888874|\n",
      "|Research and Deve...| 41426.43521126761|\n",
      "+--------------------+------------------+\n",
      "only showing top 5 rows\n",
      "\n"
     ]
    }
   ],
   "source": [
    "high_avg_salary = high_salary_df.groupBy(\"department_name\").agg(avg(\"salary\").alias(\"avg_salary\"))\n",
    "low_avg_salary = low_salary_df.groupBy(\"department_name\").agg(avg(\"salary\").alias(\"avg_salary\"))\n",
    "\n",
    "high_avg_salary.show(5)\n",
    "low_avg_salary.show(5)"
   ]
  },
  {
   "cell_type": "code",
   "execution_count": 31,
   "metadata": {},
   "outputs": [
    {
     "name": "stdout",
     "output_type": "stream",
     "text": [
      "+-------------+-----------+--------------------+--------+---------+---------+----------+--------------------+-----------+---------------+\n",
      "|department_id|employee_id|       employee_info|employee|     name|   salary| hire_date|     department_name|   location|salary_category|\n",
      "+-------------+-----------+--------------------+--------+---------+---------+----------+--------------------+-----------+---------------+\n",
      "|          101|       1778|{'name': 'Gabriel...|    NULL|Gabriella|149989.73|2018-09-14|     Human Resources|  San Diego|           High|\n",
      "|          101|       3621|{'name': 'Katheri...|    NULL|Katherine| 149979.3|2017-07-26|     Human Resources|  San Diego|           High|\n",
      "|          110|        346|{'name': 'Ryan', ...|    NULL|     Ryan| 149963.1|1990-07-03|Corporate Strateg...|Los Angeles|           High|\n",
      "|          107|       3807|{'name': 'Caitlyn...|    NULL|  Caitlyn|149956.54|2000-07-27|               Legal|    Chicago|           High|\n",
      "|          107|       3050|{'name': 'Mark', ...|    NULL|     Mark|149915.56|2007-11-06|               Legal|    Chicago|           High|\n",
      "+-------------+-----------+--------------------+--------+---------+---------+----------+--------------------+-----------+---------------+\n",
      "\n",
      "+-------------+-----------+--------------------+--------+-----+--------+----------+--------------------+-------------+---------------+\n",
      "|department_id|employee_id|       employee_info|employee| name|  salary| hire_date|     department_name|     location|salary_category|\n",
      "+-------------+-----------+--------------------+--------+-----+--------+----------+--------------------+-------------+---------------+\n",
      "|          110|       3472|{'name': 'Linda',...|    NULL|Linda|54993.53|2017-01-15|Corporate Strateg...|  Los Angeles|            Low|\n",
      "|          104|       2545|{'name': 'Tammy',...|    NULL|Tammy|54991.71|2004-12-07|    Data Engineering|      Zapopan|            Low|\n",
      "|          102|        382|{'name': 'Aaron',...|    NULL|Aaron|54989.45|2011-03-20|Finance and Accou...|     New York|            Low|\n",
      "|          101|       2153|{'name': 'Craig',...|    NULL|Craig| 54945.2|2016-04-24|     Human Resources|    San Diego|            Low|\n",
      "|          109|       3024|{'name': 'Aaron',...|    NULL|Aaron| 54937.3|1994-06-25|    Customer Service|San Francisco|            Low|\n",
      "+-------------+-----------+--------------------+--------+-----+--------+----------+--------------------+-------------+---------------+\n",
      "\n"
     ]
    }
   ],
   "source": [
    "top_5_high_salary = high_salary_df.orderBy(col(\"salary\").desc()).limit(5)\n",
    "top_5_low_salary = low_salary_df.orderBy(col(\"salary\").desc()).limit(5)\n",
    "\n",
    "top_5_high_salary.show(5)\n",
    "top_5_low_salary.show(5)"
   ]
  },
  {
   "cell_type": "code",
   "execution_count": 38,
   "metadata": {},
   "outputs": [
    {
     "name": "stdout",
     "output_type": "stream",
     "text": [
      "88\n"
     ]
    }
   ],
   "source": [
    "employee_join_departments = employee_join_departments.withColumn(\"years_in_company\", year(current_date()) - year(col(\"hire_date\")))\n",
    "max_years = employee_join_departments.agg({\"years_in_company\": \"max\"}).collect()[0][0]\n",
    "employees_with_max_years = employee_join_departments.filter(col(\"years_in_company\") == max_years)\n",
    "employees_count = employees_with_max_years.count()\n",
    "print(employees_count)\n",
    "\n"
   ]
  },
  {
   "cell_type": "code",
   "execution_count": null,
   "metadata": {},
   "outputs": [],
   "source": [
    "sc.stop()"
   ]
  }
 ],
 "metadata": {
  "kernelspec": {
   "display_name": "Python 3 (ipykernel)",
   "language": "python",
   "name": "python3"
  },
  "language_info": {
   "codemirror_mode": {
    "name": "ipython",
    "version": 3
   },
   "file_extension": ".py",
   "mimetype": "text/x-python",
   "name": "python",
   "nbconvert_exporter": "python",
   "pygments_lexer": "ipython3",
   "version": "3.11.6"
  }
 },
 "nbformat": 4,
 "nbformat_minor": 2
}
