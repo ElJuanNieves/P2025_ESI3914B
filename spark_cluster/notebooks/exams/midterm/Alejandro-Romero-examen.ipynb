{
 "cells": [
  {
   "cell_type": "markdown",
   "metadata": {},
   "source": [
    "# <center> <img src=\"../img/ITESOLogo.png\" alt=\"ITESO\" width=\"480\" height=\"130\"> </center>\n",
    "# <center> **Departamento de Electrónica, Sistemas e Informática** </center>\n",
    "---\n",
    "## <center> **Carrera: Ingenería en Sistemas Computacionales** </center>\n",
    "---\n",
    "### <center> **Primavera 2025** </center>\n",
    "---\n",
    "\n",
    "**Examen 01**:\n",
    "\n",
    "**Fecha**: 14/03/2024\n",
    "\n",
    "**Nombre del Estudiante**: Alejandro Samuel Romero Mora\n",
    "\n",
    "**Profesor**: Pablo Camarillo Ramirez"
   ]
  },
  {
   "cell_type": "code",
   "execution_count": 2,
   "metadata": {},
   "outputs": [],
   "source": [
    "import findspark\n",
    "findspark.init()"
   ]
  },
  {
   "cell_type": "code",
   "execution_count": 38,
   "metadata": {},
   "outputs": [
    {
     "name": "stderr",
     "output_type": "stream",
     "text": [
      "25/03/14 14:39:29 WARN SparkSession: Using an existing Spark session; only runtime SQL configurations will take effect.\n"
     ]
    }
   ],
   "source": [
    "from pyspark.sql import SparkSession\n",
    "\n",
    "spark = SparkSession.builder \\\n",
    "    .appName(\"SparkSQL-Exam-1-Alejandro-Samuel-Romero-Mora\") \\\n",
    "    .master(\"spark://b7351070baae:7077\") \\\n",
    "    .config(\"spark.ui.port\",\"4040\") \\\n",
    "    .getOrCreate()\n",
    "sc = spark.sparkContext"
   ]
  },
  {
   "cell_type": "markdown",
   "metadata": {},
   "source": [
    "Hacemos los esquemas de cada uno"
   ]
  },
  {
   "cell_type": "code",
   "execution_count": 39,
   "metadata": {},
   "outputs": [],
   "source": [
    "from pyspark.sql.types import StructType, StructField, StringType, IntegerType\n",
    "\n",
    "employees_schema = StructType([\n",
    "    StructField(\"employee_id\", IntegerType(), True),\n",
    "    StructField(\"employee_info\", StringType(), True)\n",
    "])\n",
    "departments_schema = StructType([\n",
    "    StructField(\"department_id\", IntegerType(), True),\n",
    "    StructField(\"department_name\", StringType(), True),\n",
    "    StructField(\"location\", StringType(), True)\n",
    "])\n"
   ]
  },
  {
   "cell_type": "markdown",
   "metadata": {},
   "source": [
    "Hacemos los df"
   ]
  },
  {
   "cell_type": "code",
   "execution_count": 40,
   "metadata": {},
   "outputs": [],
   "source": [
    "employees_df = spark.read \\\n",
    "    .schema(employees_schema) \\\n",
    "    .option(\"header\", \"true\") \\\n",
    "    .csv(\"/home/jovyan/notebooks/data/employees.csv\")\n",
    "\n",
    "departments_df = spark.read \\\n",
    "    .schema(departments_schema) \\\n",
    "    .option(\"header\", \"true\") \\\n",
    "    .csv(\"/home/jovyan/notebooks/data/departments.csv\")"
   ]
  },
  {
   "cell_type": "markdown",
   "metadata": {},
   "source": [
    "Imprimimos "
   ]
  },
  {
   "cell_type": "code",
   "execution_count": 41,
   "metadata": {},
   "outputs": [
    {
     "name": "stdout",
     "output_type": "stream",
     "text": [
      "Esquema de empleados:\n",
      "root\n",
      " |-- employee_id: integer (nullable = true)\n",
      " |-- employee_info: string (nullable = true)\n",
      "\n",
      "Datos de empleados:\n",
      "+-----------+-------------------------------------------------------------------------------------------+\n",
      "|employee_id|employee_info                                                                              |\n",
      "+-----------+-------------------------------------------------------------------------------------------+\n",
      "|1          |{'name': 'Caitlyn', 'department_id': 103, 'salary': 115959.78, 'hire_date': '2002-06-10'}  |\n",
      "|2          |{'name': 'Rachel', 'department_id': 104, 'salary': 100820.16, 'hire_date': '2009-07-01'}   |\n",
      "|3          |{'name': 'Carrie', 'department_id': 105, 'salary': 114421.44, 'hire_date': '1998-12-10'}   |\n",
      "|4          |{'name': 'Renee', 'department_id': 104, 'salary': 54688.13, 'hire_date': '1995-03-17'}     |\n",
      "|5          |{'name': 'Gabriella', 'department_id': 109, 'salary': 106267.03, 'hire_date': '1995-02-09'}|\n",
      "+-----------+-------------------------------------------------------------------------------------------+\n",
      "only showing top 5 rows\n",
      "\n"
     ]
    }
   ],
   "source": [
    "print(\"Esquema de empleados:\")\n",
    "employees_df.printSchema()\n",
    "print(\"Datos de empleados:\")\n",
    "employees_df.show(5, truncate=False)"
   ]
  },
  {
   "cell_type": "code",
   "execution_count": 42,
   "metadata": {},
   "outputs": [
    {
     "name": "stdout",
     "output_type": "stream",
     "text": [
      "Esquema de departamentos:\n",
      "root\n",
      " |-- department_id: integer (nullable = true)\n",
      " |-- department_name: string (nullable = true)\n",
      " |-- location: string (nullable = true)\n",
      "\n",
      "Datos de departamentos:\n",
      "+-------------+----------------------+---------+\n",
      "|department_id|department_name       |location |\n",
      "+-------------+----------------------+---------+\n",
      "|101          |Human Resources       |San Diego|\n",
      "|102          |Finance and Accounting|New York |\n",
      "|103          |Sales and Marketing   |Chicago  |\n",
      "|104          |Data Engineering      |Zapopan  |\n",
      "|105          |Data Science          |Seattle  |\n",
      "+-------------+----------------------+---------+\n",
      "only showing top 5 rows\n",
      "\n"
     ]
    }
   ],
   "source": [
    "print(\"Esquema de departamentos:\")\n",
    "departments_df.printSchema()\n",
    "print(\"Datos de departamentos:\")\n",
    "departments_df.show(5, truncate=False)"
   ]
  },
  {
   "cell_type": "code",
   "execution_count": 43,
   "metadata": {},
   "outputs": [
    {
     "name": "stdout",
     "output_type": "stream",
     "text": [
      "Esquema de Employees después:\n",
      "root\n",
      " |-- employee_id: integer (nullable = true)\n",
      " |-- employee_info: string (nullable = true)\n",
      " |-- name: string (nullable = true)\n",
      " |-- department_id: integer (nullable = true)\n",
      " |-- salary: double (nullable = true)\n",
      " |-- hire_date: date (nullable = true)\n",
      "\n",
      "Datos de employees después:\n",
      "+-----------+-------------------------------------------------------------------------------------------+---------+-------------+---------+----------+\n",
      "|employee_id|employee_info                                                                              |name     |department_id|salary   |hire_date |\n",
      "+-----------+-------------------------------------------------------------------------------------------+---------+-------------+---------+----------+\n",
      "|1          |{'name': 'Caitlyn', 'department_id': 103, 'salary': 115959.78, 'hire_date': '2002-06-10'}  |Caitlyn  |103          |115959.78|2002-06-10|\n",
      "|2          |{'name': 'Rachel', 'department_id': 104, 'salary': 100820.16, 'hire_date': '2009-07-01'}   |Rachel   |104          |100820.16|2009-07-01|\n",
      "|3          |{'name': 'Carrie', 'department_id': 105, 'salary': 114421.44, 'hire_date': '1998-12-10'}   |Carrie   |105          |114421.44|1998-12-10|\n",
      "|4          |{'name': 'Renee', 'department_id': 104, 'salary': 54688.13, 'hire_date': '1995-03-17'}     |Renee    |104          |54688.13 |1995-03-17|\n",
      "|5          |{'name': 'Gabriella', 'department_id': 109, 'salary': 106267.03, 'hire_date': '1995-02-09'}|Gabriella|109          |106267.03|1995-02-09|\n",
      "+-----------+-------------------------------------------------------------------------------------------+---------+-------------+---------+----------+\n",
      "only showing top 5 rows\n",
      "\n"
     ]
    }
   ],
   "source": [
    "from pyspark.sql.functions import get_json_object, to_date\n",
    "\n",
    "employees_df = employees_df.withColumn(\"name\", get_json_object(employees_df.employee_info, \"$.name\")) \\\n",
    "                           .withColumn(\"department_id\", get_json_object(employees_df.employee_info, \"$.department_id\").cast(\"int\")) \\\n",
    "                           .withColumn(\"salary\", get_json_object(employees_df.employee_info, \"$.salary\").cast(\"double\")) \\\n",
    "                           .withColumn(\"hire_date\", to_date(get_json_object(employees_df.employee_info, \"$.hire_date\")))\n",
    "\n",
    "print(\"Esquema de Employees después:\")\n",
    "employees_df.printSchema()\n",
    "print(\"Datos de employees después:\")\n",
    "employees_df.show(5, truncate=False)"
   ]
  },
  {
   "cell_type": "markdown",
   "metadata": {},
   "source": [
    "Hacemos el Join e imprimimos para ver si lo hicimos correctamente"
   ]
  },
  {
   "cell_type": "code",
   "execution_count": 44,
   "metadata": {},
   "outputs": [
    {
     "name": "stdout",
     "output_type": "stream",
     "text": [
      "Esquema de employees nuevo:\n",
      "root\n",
      " |-- department_id: integer (nullable = true)\n",
      " |-- employee_id: integer (nullable = true)\n",
      " |-- employee_info: string (nullable = true)\n",
      " |-- name: string (nullable = true)\n",
      " |-- salary: double (nullable = true)\n",
      " |-- hire_date: date (nullable = true)\n",
      " |-- department_name: string (nullable = true)\n",
      " |-- location: string (nullable = true)\n",
      "\n",
      "Nuevos datos:\n",
      "+-------------+-----------+-------------------------------------------------------------------------------------------+---------+---------+----------+-------------------+-------------+\n",
      "|department_id|employee_id|employee_info                                                                              |name     |salary   |hire_date |department_name    |location     |\n",
      "+-------------+-----------+-------------------------------------------------------------------------------------------+---------+---------+----------+-------------------+-------------+\n",
      "|103          |1          |{'name': 'Caitlyn', 'department_id': 103, 'salary': 115959.78, 'hire_date': '2002-06-10'}  |Caitlyn  |115959.78|2002-06-10|Sales and Marketing|Chicago      |\n",
      "|104          |2          |{'name': 'Rachel', 'department_id': 104, 'salary': 100820.16, 'hire_date': '2009-07-01'}   |Rachel   |100820.16|2009-07-01|Data Engineering   |Zapopan      |\n",
      "|105          |3          |{'name': 'Carrie', 'department_id': 105, 'salary': 114421.44, 'hire_date': '1998-12-10'}   |Carrie   |114421.44|1998-12-10|Data Science       |Seattle      |\n",
      "|104          |4          |{'name': 'Renee', 'department_id': 104, 'salary': 54688.13, 'hire_date': '1995-03-17'}     |Renee    |54688.13 |1995-03-17|Data Engineering   |Zapopan      |\n",
      "|109          |5          |{'name': 'Gabriella', 'department_id': 109, 'salary': 106267.03, 'hire_date': '1995-02-09'}|Gabriella|106267.03|1995-02-09|Customer Service   |San Francisco|\n",
      "+-------------+-----------+-------------------------------------------------------------------------------------------+---------+---------+----------+-------------------+-------------+\n",
      "only showing top 5 rows\n",
      "\n"
     ]
    }
   ],
   "source": [
    "new_employees_df = employees_df.join(\n",
    "    departments_df,\n",
    "    on=\"department_id\",\n",
    "    how=\"left\"\n",
    ")\n",
    "\n",
    "print(\"Esquema de employees nuevo:\")\n",
    "new_employees_df.printSchema()\n",
    "print(\"Nuevos datos:\")\n",
    "new_employees_df.show(5, truncate=False)\n"
   ]
  },
  {
   "cell_type": "markdown",
   "metadata": {},
   "source": [
    "Agregamos una nuevo columna y le añadimos la condicional para guardarlo en High o Low"
   ]
  },
  {
   "cell_type": "code",
   "execution_count": 45,
   "metadata": {},
   "outputs": [],
   "source": [
    "from pyspark.sql.functions import when\n",
    "\n",
    "new_employees_df = new_employees_df.withColumn(\n",
    "    \"salary_category\",\n",
    "    when(new_employees_df.salary >= 55000, \"High\").otherwise(\"Low\")\n",
    ")"
   ]
  },
  {
   "cell_type": "markdown",
   "metadata": {},
   "source": [
    "Verificamos si se hizo correctamente la nueva columna"
   ]
  },
  {
   "cell_type": "code",
   "execution_count": 46,
   "metadata": {},
   "outputs": [
    {
     "name": "stdout",
     "output_type": "stream",
     "text": [
      "Esquema de new_employees_df con salary_category:\n",
      "root\n",
      " |-- department_id: integer (nullable = true)\n",
      " |-- employee_id: integer (nullable = true)\n",
      " |-- employee_info: string (nullable = true)\n",
      " |-- name: string (nullable = true)\n",
      " |-- salary: double (nullable = true)\n",
      " |-- hire_date: date (nullable = true)\n",
      " |-- department_name: string (nullable = true)\n",
      " |-- location: string (nullable = true)\n",
      " |-- salary_category: string (nullable = false)\n",
      "\n",
      "Datos de new_employees_df con salary_category:\n",
      "+-------------+-----------+-------------------------------------------------------------------------------------------+---------+---------+----------+-------------------+-------------+---------------+\n",
      "|department_id|employee_id|employee_info                                                                              |name     |salary   |hire_date |department_name    |location     |salary_category|\n",
      "+-------------+-----------+-------------------------------------------------------------------------------------------+---------+---------+----------+-------------------+-------------+---------------+\n",
      "|103          |1          |{'name': 'Caitlyn', 'department_id': 103, 'salary': 115959.78, 'hire_date': '2002-06-10'}  |Caitlyn  |115959.78|2002-06-10|Sales and Marketing|Chicago      |High           |\n",
      "|104          |2          |{'name': 'Rachel', 'department_id': 104, 'salary': 100820.16, 'hire_date': '2009-07-01'}   |Rachel   |100820.16|2009-07-01|Data Engineering   |Zapopan      |High           |\n",
      "|105          |3          |{'name': 'Carrie', 'department_id': 105, 'salary': 114421.44, 'hire_date': '1998-12-10'}   |Carrie   |114421.44|1998-12-10|Data Science       |Seattle      |High           |\n",
      "|104          |4          |{'name': 'Renee', 'department_id': 104, 'salary': 54688.13, 'hire_date': '1995-03-17'}     |Renee    |54688.13 |1995-03-17|Data Engineering   |Zapopan      |Low            |\n",
      "|109          |5          |{'name': 'Gabriella', 'department_id': 109, 'salary': 106267.03, 'hire_date': '1995-02-09'}|Gabriella|106267.03|1995-02-09|Customer Service   |San Francisco|High           |\n",
      "+-------------+-----------+-------------------------------------------------------------------------------------------+---------+---------+----------+-------------------+-------------+---------------+\n",
      "only showing top 5 rows\n",
      "\n"
     ]
    }
   ],
   "source": [
    "print(\"Esquema de new_employees_df con salary_category:\")\n",
    "new_employees_df.printSchema()\n",
    "print(\"Datos de new_employees_df con salary_category:\")\n",
    "new_employees_df.show(5, truncate=False)"
   ]
  },
  {
   "cell_type": "markdown",
   "metadata": {},
   "source": [
    "Hacemos los dataframes filtrados"
   ]
  },
  {
   "cell_type": "code",
   "execution_count": 47,
   "metadata": {},
   "outputs": [
    {
     "name": "stdout",
     "output_type": "stream",
     "text": [
      "Empleados con salario 'High':\n",
      "+-------------+-----------+-------------------------------------------------------------------------------------------+---------+---------+----------+-------------------+-------------+---------------+\n",
      "|department_id|employee_id|employee_info                                                                              |name     |salary   |hire_date |department_name    |location     |salary_category|\n",
      "+-------------+-----------+-------------------------------------------------------------------------------------------+---------+---------+----------+-------------------+-------------+---------------+\n",
      "|103          |1          |{'name': 'Caitlyn', 'department_id': 103, 'salary': 115959.78, 'hire_date': '2002-06-10'}  |Caitlyn  |115959.78|2002-06-10|Sales and Marketing|Chicago      |High           |\n",
      "|104          |2          |{'name': 'Rachel', 'department_id': 104, 'salary': 100820.16, 'hire_date': '2009-07-01'}   |Rachel   |100820.16|2009-07-01|Data Engineering   |Zapopan      |High           |\n",
      "|105          |3          |{'name': 'Carrie', 'department_id': 105, 'salary': 114421.44, 'hire_date': '1998-12-10'}   |Carrie   |114421.44|1998-12-10|Data Science       |Seattle      |High           |\n",
      "|109          |5          |{'name': 'Gabriella', 'department_id': 109, 'salary': 106267.03, 'hire_date': '1995-02-09'}|Gabriella|106267.03|1995-02-09|Customer Service   |San Francisco|High           |\n",
      "|101          |6          |{'name': 'Kristen', 'department_id': 101, 'salary': 88237.54, 'hire_date': '2010-11-15'}   |Kristen  |88237.54 |2010-11-15|Human Resources    |San Diego    |High           |\n",
      "+-------------+-----------+-------------------------------------------------------------------------------------------+---------+---------+----------+-------------------+-------------+---------------+\n",
      "only showing top 5 rows\n",
      "\n",
      "Empleados con salario 'Low':\n",
      "+-------------+-----------+-----------------------------------------------------------------------------------------+--------+--------+----------+----------------------+-------------+---------------+\n",
      "|department_id|employee_id|employee_info                                                                            |name    |salary  |hire_date |department_name       |location     |salary_category|\n",
      "+-------------+-----------+-----------------------------------------------------------------------------------------+--------+--------+----------+----------------------+-------------+---------------+\n",
      "|104          |4          |{'name': 'Renee', 'department_id': 104, 'salary': 54688.13, 'hire_date': '1995-03-17'}   |Renee   |54688.13|1995-03-17|Data Engineering      |Zapopan      |Low            |\n",
      "|102          |7          |{'name': 'Jonathan', 'department_id': 102, 'salary': 39323.42, 'hire_date': '2012-06-30'}|Jonathan|39323.42|2012-06-30|Finance and Accounting|New York     |Low            |\n",
      "|104          |13         |{'name': 'Lisa', 'department_id': 104, 'salary': 36032.49, 'hire_date': '2019-05-16'}    |Lisa    |36032.49|2019-05-16|Data Engineering      |Zapopan      |Low            |\n",
      "|109          |26         |{'name': 'John', 'department_id': 109, 'salary': 44836.57, 'hire_date': '2004-11-13'}    |John    |44836.57|2004-11-13|Customer Service      |San Francisco|Low            |\n",
      "|109          |38         |{'name': 'Rachel', 'department_id': 109, 'salary': 43269.85, 'hire_date': '1992-07-13'}  |Rachel  |43269.85|1992-07-13|Customer Service      |San Francisco|Low            |\n",
      "+-------------+-----------+-----------------------------------------------------------------------------------------+--------+--------+----------+----------------------+-------------+---------------+\n",
      "only showing top 5 rows\n",
      "\n"
     ]
    }
   ],
   "source": [
    "high_salary_df = new_employees_df.filter(new_employees_df.salary_category == \"High\")\n",
    "low_salary_df = new_employees_df.filter(new_employees_df.salary_category == \"Low\")\n",
    "\n",
    "print(\"Empleados con salario 'High':\")\n",
    "high_salary_df.show(5, truncate=False)\n",
    "\n",
    "print(\"Empleados con salario 'Low':\")\n",
    "low_salary_df.show(5, truncate=False)"
   ]
  },
  {
   "cell_type": "markdown",
   "metadata": {},
   "source": [
    "Ahora calculamos el promedio de cada uno con la función de average"
   ]
  },
  {
   "cell_type": "code",
   "execution_count": 48,
   "metadata": {},
   "outputs": [
    {
     "name": "stdout",
     "output_type": "stream",
     "text": [
      "Salario promedio por departamento (High):\n",
      "+-------------------------------------------+------------------+\n",
      "|department_name                            |avg_salary        |\n",
      "+-------------------------------------------+------------------+\n",
      "|Corporate Strategy and Business Development|102741.38324414717|\n",
      "|Sales and Marketing                        |100839.65275449108|\n",
      "|Data Engineering                           |101626.29492163012|\n",
      "|Research and Development                   |98714.3003086419  |\n",
      "|Finance and Accounting                     |100731.07877887784|\n",
      "|Customer Service                           |101585.01600000002|\n",
      "|Legal                                      |99366.3129102167  |\n",
      "|Data Science                               |101903.63710344829|\n",
      "|Operations                                 |100169.65621722837|\n",
      "|Human Resources                            |104999.43191489363|\n",
      "+-------------------------------------------+------------------+\n",
      "\n",
      "Salario promedio por departamento (Low):\n",
      "+-------------------------------------------+------------------+\n",
      "|department_name                            |avg_salary        |\n",
      "+-------------------------------------------+------------------+\n",
      "|Corporate Strategy and Business Development|41590.741833333326|\n",
      "|Sales and Marketing                        |41150.40277777778 |\n",
      "|Data Engineering                           |41358.50794117647 |\n",
      "|Finance and Accounting                     |42740.952888888874|\n",
      "|Research and Development                   |41426.43521126761 |\n",
      "|Customer Service                           |42644.472021276604|\n",
      "|Legal                                      |41160.26616438357 |\n",
      "|Data Science                               |41974.18958333334 |\n",
      "|Operations                                 |40646.100705882345|\n",
      "|Human Resources                            |41751.64784810126 |\n",
      "+-------------------------------------------+------------------+\n",
      "\n"
     ]
    }
   ],
   "source": [
    "from pyspark.sql.functions import avg\n",
    "high_salary_avg_df = high_salary_df.groupBy(\"department_name\") \\\n",
    "                                   .agg(avg(\"salary\").alias(\"avg_salary\")) \\\n",
    "                                   .select(\"department_name\", \"avg_salary\")\n",
    "low_salary_avg_df = low_salary_df.groupBy(\"department_name\") \\\n",
    "                                 .agg(avg(\"salary\").alias(\"avg_salary\")) \\\n",
    "                                 .select(\"department_name\", \"avg_salary\")\n",
    "print(\"Salario promedio por departamento (High):\")\n",
    "high_salary_avg_df.show(truncate=False)\n",
    "\n",
    "print(\"Salario promedio por departamento (Low):\")\n",
    "low_salary_avg_df.show(truncate=False)"
   ]
  },
  {
   "cell_type": "markdown",
   "metadata": {},
   "source": [
    "Ahora obtenemos los top"
   ]
  },
  {
   "cell_type": "code",
   "execution_count": 49,
   "metadata": {},
   "outputs": [
    {
     "name": "stdout",
     "output_type": "stream",
     "text": [
      "Top 5 empleados con salario 'High':\n",
      "+-------------+-----------+-------------------------------------------------------------------------------------------+---------+---------+----------+-------------------------------------------+-----------+---------------+\n",
      "|department_id|employee_id|employee_info                                                                              |name     |salary   |hire_date |department_name                            |location   |salary_category|\n",
      "+-------------+-----------+-------------------------------------------------------------------------------------------+---------+---------+----------+-------------------------------------------+-----------+---------------+\n",
      "|101          |1778       |{'name': 'Gabriella', 'department_id': 101, 'salary': 149989.73, 'hire_date': '2018-09-14'}|Gabriella|149989.73|2018-09-14|Human Resources                            |San Diego  |High           |\n",
      "|101          |3621       |{'name': 'Katherine', 'department_id': 101, 'salary': 149979.3, 'hire_date': '2017-07-26'} |Katherine|149979.3 |2017-07-26|Human Resources                            |San Diego  |High           |\n",
      "|110          |346        |{'name': 'Ryan', 'department_id': 110, 'salary': 149963.1, 'hire_date': '1990-07-03'}      |Ryan     |149963.1 |1990-07-03|Corporate Strategy and Business Development|Los Angeles|High           |\n",
      "|107          |3807       |{'name': 'Caitlyn', 'department_id': 107, 'salary': 149956.54, 'hire_date': '2000-07-27'}  |Caitlyn  |149956.54|2000-07-27|Legal                                      |Chicago    |High           |\n",
      "|107          |3050       |{'name': 'Mark', 'department_id': 107, 'salary': 149915.56, 'hire_date': '2007-11-06'}     |Mark     |149915.56|2007-11-06|Legal                                      |Chicago    |High           |\n",
      "+-------------+-----------+-------------------------------------------------------------------------------------------+---------+---------+----------+-------------------------------------------+-----------+---------------+\n",
      "\n",
      "Top 5 empleados con salario 'Low':\n",
      "+-------------+-----------+--------------------------------------------------------------------------------------+-----+--------+----------+-------------------------------------------+-------------+---------------+\n",
      "|department_id|employee_id|employee_info                                                                         |name |salary  |hire_date |department_name                            |location     |salary_category|\n",
      "+-------------+-----------+--------------------------------------------------------------------------------------+-----+--------+----------+-------------------------------------------+-------------+---------------+\n",
      "|110          |3472       |{'name': 'Linda', 'department_id': 110, 'salary': 54993.53, 'hire_date': '2017-01-15'}|Linda|54993.53|2017-01-15|Corporate Strategy and Business Development|Los Angeles  |Low            |\n",
      "|104          |2545       |{'name': 'Tammy', 'department_id': 104, 'salary': 54991.71, 'hire_date': '2004-12-07'}|Tammy|54991.71|2004-12-07|Data Engineering                           |Zapopan      |Low            |\n",
      "|102          |382        |{'name': 'Aaron', 'department_id': 102, 'salary': 54989.45, 'hire_date': '2011-03-20'}|Aaron|54989.45|2011-03-20|Finance and Accounting                     |New York     |Low            |\n",
      "|101          |2153       |{'name': 'Craig', 'department_id': 101, 'salary': 54945.2, 'hire_date': '2016-04-24'} |Craig|54945.2 |2016-04-24|Human Resources                            |San Diego    |Low            |\n",
      "|109          |3024       |{'name': 'Aaron', 'department_id': 109, 'salary': 54937.3, 'hire_date': '1994-06-25'} |Aaron|54937.3 |1994-06-25|Customer Service                           |San Francisco|Low            |\n",
      "+-------------+-----------+--------------------------------------------------------------------------------------+-----+--------+----------+-------------------------------------------+-------------+---------------+\n",
      "\n"
     ]
    }
   ],
   "source": [
    "from pyspark.sql.functions import col\n",
    "\n",
    "top_5_high_salary_df = new_employees_df.filter(new_employees_df.salary_category == \"High\") \\\n",
    "                                       .orderBy(col(\"salary\").desc()) \\\n",
    "                                       .limit(5)\n",
    "\n",
    "top_5_low_salary_df = new_employees_df.filter(new_employees_df.salary_category == \"Low\") \\\n",
    "                                      .orderBy(col(\"salary\").desc()) \\\n",
    "                                      .limit(5)\n",
    "\n",
    "print(\"Top 5 empleados con salario 'High':\")\n",
    "top_5_high_salary_df.show(truncate=False)\n",
    "\n",
    "print(\"Top 5 empleados con salario 'Low':\")\n",
    "top_5_low_salary_df.show(truncate=False)"
   ]
  },
  {
   "cell_type": "code",
   "execution_count": 50,
   "metadata": {},
   "outputs": [
    {
     "name": "stdout",
     "output_type": "stream",
     "text": [
      "Esquema de new_employees_df con years_in_company:\n",
      "root\n",
      " |-- department_id: integer (nullable = true)\n",
      " |-- employee_id: integer (nullable = true)\n",
      " |-- employee_info: string (nullable = true)\n",
      " |-- name: string (nullable = true)\n",
      " |-- salary: double (nullable = true)\n",
      " |-- hire_date: date (nullable = true)\n",
      " |-- department_name: string (nullable = true)\n",
      " |-- location: string (nullable = true)\n",
      " |-- salary_category: string (nullable = false)\n",
      " |-- years_in_company: integer (nullable = true)\n",
      "\n",
      "Datos de new_employees_df con years_in_company:\n",
      "+-------------+-----------+-------------------------------------------------------------------------------------------+---------+---------+----------+-------------------+-------------+---------------+----------------+\n",
      "|department_id|employee_id|employee_info                                                                              |name     |salary   |hire_date |department_name    |location     |salary_category|years_in_company|\n",
      "+-------------+-----------+-------------------------------------------------------------------------------------------+---------+---------+----------+-------------------+-------------+---------------+----------------+\n",
      "|103          |1          |{'name': 'Caitlyn', 'department_id': 103, 'salary': 115959.78, 'hire_date': '2002-06-10'}  |Caitlyn  |115959.78|2002-06-10|Sales and Marketing|Chicago      |High           |22              |\n",
      "|104          |2          |{'name': 'Rachel', 'department_id': 104, 'salary': 100820.16, 'hire_date': '2009-07-01'}   |Rachel   |100820.16|2009-07-01|Data Engineering   |Zapopan      |High           |15              |\n",
      "|105          |3          |{'name': 'Carrie', 'department_id': 105, 'salary': 114421.44, 'hire_date': '1998-12-10'}   |Carrie   |114421.44|1998-12-10|Data Science       |Seattle      |High           |26              |\n",
      "|104          |4          |{'name': 'Renee', 'department_id': 104, 'salary': 54688.13, 'hire_date': '1995-03-17'}     |Renee    |54688.13 |1995-03-17|Data Engineering   |Zapopan      |Low            |30              |\n",
      "|109          |5          |{'name': 'Gabriella', 'department_id': 109, 'salary': 106267.03, 'hire_date': '1995-02-09'}|Gabriella|106267.03|1995-02-09|Customer Service   |San Francisco|High           |30              |\n",
      "+-------------+-----------+-------------------------------------------------------------------------------------------+---------+---------+----------+-------------------+-------------+---------------+----------------+\n",
      "only showing top 5 rows\n",
      "\n"
     ]
    }
   ],
   "source": [
    "from pyspark.sql.functions import datediff, current_date\n",
    "\n",
    "new_employees_df = new_employees_df.withColumn(\n",
    "    \"years_in_company\",\n",
    "    (datediff(current_date(), col(\"hire_date\")) / 365).cast(\"int\")\n",
    ")\n",
    "print(\"Esquema de new_employees_df con years_in_company:\")\n",
    "new_employees_df.printSchema()\n",
    "print(\"Datos de new_employees_df con years_in_company:\")\n",
    "new_employees_df.show(5, truncate=False)\n"
   ]
  },
  {
   "cell_type": "code",
   "execution_count": 4,
   "metadata": {},
   "outputs": [],
   "source": [
    "sc.stop()\n",
    " "
   ]
  }
 ],
 "metadata": {
  "kernelspec": {
   "display_name": "Python 3 (ipykernel)",
   "language": "python",
   "name": "python3"
  },
  "language_info": {
   "codemirror_mode": {
    "name": "ipython",
    "version": 3
   },
   "file_extension": ".py",
   "mimetype": "text/x-python",
   "name": "python",
   "nbconvert_exporter": "python",
   "pygments_lexer": "ipython3",
   "version": "3.11.6"
  }
 },
 "nbformat": 4,
 "nbformat_minor": 2
}
