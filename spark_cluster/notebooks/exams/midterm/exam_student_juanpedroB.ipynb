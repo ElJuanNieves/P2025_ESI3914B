{
 "cells": [
  {
   "cell_type": "markdown",
   "metadata": {},
   "source": [
    "# <center> <img src=\"../../labs/img/ITESOLogo.png\" alt=\"ITESO\" width=\"480\" height=\"130\"> </center>\n",
    "# <center> **Departamento de Electrónica, Sistemas e Informática** </center>\n",
    "---\n",
    "### <center> **Procesamiento de Datos Masivos** </center>\n",
    "---\n",
    "### <center> **Primavera 2025** </center>\n",
    "---\n",
    "**Primer Examen**\n",
    "\n",
    "**Fecha**: 14 de Marzo del 2025\n",
    "\n",
    "**Nombre del estudiante**:\n",
    "\n",
    "**Professor**: Pablo Camarillo Ramirez"
   ]
  },
  {
   "cell_type": "code",
   "execution_count": 1,
   "metadata": {},
   "outputs": [],
   "source": [
    "import findspark\n",
    "findspark.init()"
   ]
  },
  {
   "cell_type": "code",
   "execution_count": 2,
   "metadata": {},
   "outputs": [
    {
     "name": "stderr",
     "output_type": "stream",
     "text": [
      "Setting default log level to \"WARN\".\n",
      "To adjust logging level use sc.setLogLevel(newLevel). For SparkR, use setLogLevel(newLevel).\n",
      "25/03/14 14:30:09 WARN NativeCodeLoader: Unable to load native-hadoop library for your platform... using builtin-java classes where applicable\n"
     ]
    }
   ],
   "source": [
    "from pyspark.sql import SparkSession\n",
    "\n",
    "spark = SparkSession.builder \\\n",
    "    .appName(\"SparkSQL-Exam-1-ESCRIBE-AQUI-TU-NOMBRE\") \\\n",
    "    .master(\"spark://28d4ad191d34:7077\") \\\n",
    "    .config(\"spark.ui.port\",\"4040\") \\\n",
    "    .getOrCreate()\n",
    "sc = spark.sparkContext"
   ]
  },
  {
   "cell_type": "code",
   "execution_count": 3,
   "metadata": {},
   "outputs": [
    {
     "name": "stderr",
     "output_type": "stream",
     "text": [
      "                                                                                \r"
     ]
    },
    {
     "name": "stdout",
     "output_type": "stream",
     "text": [
      "+-----------+--------------------+\n",
      "|employee_id|       employee_info|\n",
      "+-----------+--------------------+\n",
      "|          1|{'name': 'Caitlyn...|\n",
      "|          2|{'name': 'Rachel'...|\n",
      "|          3|{'name': 'Carrie'...|\n",
      "|          4|{'name': 'Renee',...|\n",
      "|          5|{'name': 'Gabriel...|\n",
      "+-----------+--------------------+\n",
      "only showing top 5 rows\n",
      "\n",
      "+-------------+--------------------+---------+\n",
      "|department_id|     department_name| location|\n",
      "+-------------+--------------------+---------+\n",
      "|          101|     Human Resources|San Diego|\n",
      "|          102|Finance and Accou...| New York|\n",
      "|          103| Sales and Marketing|  Chicago|\n",
      "|          104|    Data Engineering|  Zapopan|\n",
      "|          105|        Data Science|  Seattle|\n",
      "+-------------+--------------------+---------+\n",
      "only showing top 5 rows\n",
      "\n"
     ]
    }
   ],
   "source": [
    "employees_path = \"/home/jovyan/notebooks/data/employees.csv\"\n",
    "departments_path = \"/home/jovyan/notebooks/data/departments.csv\"\n",
    "\n",
    "employees_df = spark.read.csv(employees_path, header=True, inferSchema=True)\n",
    "departments_df = spark.read.csv(departments_path, header=True, inferSchema=True)\n",
    "\n",
    "employees_df.show(5)\n",
    "departments_df.show(5)\n"
   ]
  },
  {
   "cell_type": "code",
   "execution_count": null,
   "metadata": {},
   "outputs": [
    {
     "name": "stdout",
     "output_type": "stream",
     "text": [
      "+---------+-------------+---------+----------+\n",
      "|     name|department_id|   salary| hire_date|\n",
      "+---------+-------------+---------+----------+\n",
      "|  Caitlyn|          103|115959.78|2002-06-10|\n",
      "|   Rachel|          104|100820.16|2009-07-01|\n",
      "|   Carrie|          105|114421.44|1998-12-10|\n",
      "|    Renee|          104| 54688.13|1995-03-17|\n",
      "|Gabriella|          109|106267.03|1995-02-09|\n",
      "|  Kristen|          101| 88237.54|2010-11-15|\n",
      "| Jonathan|          102| 39323.42|2012-06-30|\n",
      "| Michelle|          101| 64262.85|2005-10-30|\n",
      "| Michelle|          105|103521.88|1991-07-10|\n",
      "|     Lisa|          110| 55435.93|2016-03-25|\n",
      "|   Cheryl|          103| 88073.75|2020-08-21|\n",
      "|  Mikayla|          107| 95192.05|2022-05-13|\n",
      "|     Lisa|          104| 36032.49|2019-05-16|\n",
      "|     Sean|          108| 64904.69|2021-06-06|\n",
      "|   Monica|          105| 92589.97|2022-05-09|\n",
      "|  Katelyn|          104|147225.58|2008-03-14|\n",
      "|    Linda|          108|146632.64|2002-09-04|\n",
      "|    Tammy|          109| 128860.4|2014-04-18|\n",
      "|  William|          103|142645.41|1998-05-25|\n",
      "|    Jorge|          109| 87587.51|2018-03-25|\n",
      "+---------+-------------+---------+----------+\n",
      "only showing top 20 rows\n",
      "\n"
     ]
    }
   ],
   "source": [
    "from team_name.spark_utils import SparkUtils\n",
    "from pyspark.sql.functions import col, from_json\n",
    "\n",
    "employee_info_schema = SparkUtils.generate_schema([\n",
    "    (\"name\", \"string\"),\n",
    "    (\"department_id\", \"integer\"),\n",
    "    (\"salary\", \"double\"),\n",
    "    (\"hire_date\", \"date\")\n",
    "])\n",
    "\n",
    "parsed_df = employees_df.withColumn(\"parsed_info\", from_json(col(\"employee_info\"), employee_info_schema))\n",
    "\n",
    "final_df = parsed_df.select(\n",
    "    col(\"parsed_info.name\").alias(\"name\"),\n",
    "    col(\"parsed_info.department_id\").alias(\"department_id\"),\n",
    "    col(\"parsed_info.salary\").alias(\"salary\"),\n",
    "    col(\"parsed_info.hire_date\").alias(\"hire_date\")\n",
    ")\n",
    "\n",
    "final_df.show()"
   ]
  },
  {
   "cell_type": "code",
   "execution_count": null,
   "metadata": {},
   "outputs": [
    {
     "name": "stdout",
     "output_type": "stream",
     "text": [
      "+---------+---------+----------+-------------+--------------------+\n",
      "|     name|   salary| hire_date|department_id|     department_name|\n",
      "+---------+---------+----------+-------------+--------------------+\n",
      "|  Caitlyn|115959.78|2002-06-10|          103| Sales and Marketing|\n",
      "|   Rachel|100820.16|2009-07-01|          104|    Data Engineering|\n",
      "|   Carrie|114421.44|1998-12-10|          105|        Data Science|\n",
      "|    Renee| 54688.13|1995-03-17|          104|    Data Engineering|\n",
      "|Gabriella|106267.03|1995-02-09|          109|    Customer Service|\n",
      "|  Kristen| 88237.54|2010-11-15|          101|     Human Resources|\n",
      "| Jonathan| 39323.42|2012-06-30|          102|Finance and Accou...|\n",
      "| Michelle| 64262.85|2005-10-30|          101|     Human Resources|\n",
      "| Michelle|103521.88|1991-07-10|          105|        Data Science|\n",
      "|     Lisa| 55435.93|2016-03-25|          110|Corporate Strateg...|\n",
      "|   Cheryl| 88073.75|2020-08-21|          103| Sales and Marketing|\n",
      "|  Mikayla| 95192.05|2022-05-13|          107|               Legal|\n",
      "|     Lisa| 36032.49|2019-05-16|          104|    Data Engineering|\n",
      "|     Sean| 64904.69|2021-06-06|          108|Research and Deve...|\n",
      "|   Monica| 92589.97|2022-05-09|          105|        Data Science|\n",
      "|  Katelyn|147225.58|2008-03-14|          104|    Data Engineering|\n",
      "|    Linda|146632.64|2002-09-04|          108|Research and Deve...|\n",
      "|    Tammy| 128860.4|2014-04-18|          109|    Customer Service|\n",
      "|  William|142645.41|1998-05-25|          103| Sales and Marketing|\n",
      "|    Jorge| 87587.51|2018-03-25|          109|    Customer Service|\n",
      "+---------+---------+----------+-------------+--------------------+\n",
      "only showing top 20 rows\n",
      "\n"
     ]
    }
   ],
   "source": [
    "from pyspark.sql.functions import col, from_json\n",
    "from pyspark.sql.types import StructType, StructField, StringType, IntegerType, DoubleType, DateType\n",
    "\n",
    "employee_info_schema = StructType([\n",
    "    StructField(\"name\", StringType(), True),\n",
    "    StructField(\"department_id\", IntegerType(), True),\n",
    "    StructField(\"salary\", DoubleType(), True),\n",
    "    StructField(\"hire_date\", DateType(), True)\n",
    "])\n",
    "\n",
    "employees_with_info_df = employees_df.withColumn(\n",
    "    \"employee_info_parsed\", from_json(col(\"employee_info\"), employee_info_schema)\n",
    ")\n",
    "\n",
    "employees_with_dept_id_df = employees_with_info_df.withColumn(\n",
    "    \"department_id\", col(\"employee_info_parsed.department_id\")\n",
    ")\n",
    "\n",
    "joined_df = employees_with_dept_id_df.join(departments_df, on=\"department_id\", how=\"inner\")\n",
    "\n",
    "final_joined_df = joined_df.select(\n",
    "    col(\"employee_info_parsed.name\"),\n",
    "    col(\"employee_info_parsed.salary\"),\n",
    "    col(\"employee_info_parsed.hire_date\"),\n",
    "    col(\"department_id\"),\n",
    "    col(\"department_name\")  \n",
    ")\n",
    "\n",
    "final_joined_df.show()\n"
   ]
  },
  {
   "cell_type": "code",
   "execution_count": null,
   "metadata": {},
   "outputs": [
    {
     "name": "stdout",
     "output_type": "stream",
     "text": [
      "+---------+---------+----------+-------------+--------------------+---------------+\n",
      "|     name|   salary| hire_date|department_id|     department_name|salary_category|\n",
      "+---------+---------+----------+-------------+--------------------+---------------+\n",
      "|  Caitlyn|115959.78|2002-06-10|          103| Sales and Marketing|           High|\n",
      "|   Rachel|100820.16|2009-07-01|          104|    Data Engineering|           High|\n",
      "|   Carrie|114421.44|1998-12-10|          105|        Data Science|           High|\n",
      "|    Renee| 54688.13|1995-03-17|          104|    Data Engineering|            Low|\n",
      "|Gabriella|106267.03|1995-02-09|          109|    Customer Service|           High|\n",
      "|  Kristen| 88237.54|2010-11-15|          101|     Human Resources|           High|\n",
      "| Jonathan| 39323.42|2012-06-30|          102|Finance and Accou...|            Low|\n",
      "| Michelle| 64262.85|2005-10-30|          101|     Human Resources|           High|\n",
      "| Michelle|103521.88|1991-07-10|          105|        Data Science|           High|\n",
      "|     Lisa| 55435.93|2016-03-25|          110|Corporate Strateg...|           High|\n",
      "|   Cheryl| 88073.75|2020-08-21|          103| Sales and Marketing|           High|\n",
      "|  Mikayla| 95192.05|2022-05-13|          107|               Legal|           High|\n",
      "|     Lisa| 36032.49|2019-05-16|          104|    Data Engineering|            Low|\n",
      "|     Sean| 64904.69|2021-06-06|          108|Research and Deve...|           High|\n",
      "|   Monica| 92589.97|2022-05-09|          105|        Data Science|           High|\n",
      "|  Katelyn|147225.58|2008-03-14|          104|    Data Engineering|           High|\n",
      "|    Linda|146632.64|2002-09-04|          108|Research and Deve...|           High|\n",
      "|    Tammy| 128860.4|2014-04-18|          109|    Customer Service|           High|\n",
      "|  William|142645.41|1998-05-25|          103| Sales and Marketing|           High|\n",
      "|    Jorge| 87587.51|2018-03-25|          109|    Customer Service|           High|\n",
      "+---------+---------+----------+-------------+--------------------+---------------+\n",
      "only showing top 20 rows\n",
      "\n"
     ]
    }
   ],
   "source": [
    "from pyspark.sql.functions import col, when\n",
    "\n",
    "employees_with_salary_category_df = final_joined_df.withColumn(\n",
    "    \"salary_category\",\n",
    "    when(col(\"salary\") >= 55000, \"High\").otherwise(\"Low\")\n",
    ")\n",
    "\n",
    "employees_with_salary_category_df.show()"
   ]
  },
  {
   "cell_type": "code",
   "execution_count": null,
   "metadata": {},
   "outputs": [
    {
     "name": "stdout",
     "output_type": "stream",
     "text": [
      "+--------------------+------------------+\n",
      "|     department_name|        avg_salary|\n",
      "+--------------------+------------------+\n",
      "|Corporate Strateg...|102741.38324414717|\n",
      "| Sales and Marketing|100839.65275449108|\n",
      "|    Data Engineering|101626.29492163012|\n",
      "|Research and Deve...|  98714.3003086419|\n",
      "|Finance and Accou...|100731.07877887784|\n",
      "|    Customer Service|101585.01600000002|\n",
      "|               Legal|  99366.3129102167|\n",
      "|        Data Science|101903.63710344829|\n",
      "|          Operations|100169.65621722837|\n",
      "|     Human Resources|104999.43191489363|\n",
      "+--------------------+------------------+\n",
      "\n",
      "+--------------------+------------------+\n",
      "|     department_name|        avg_salary|\n",
      "+--------------------+------------------+\n",
      "|Corporate Strateg...|41590.741833333326|\n",
      "| Sales and Marketing| 41150.40277777778|\n",
      "|    Data Engineering| 41358.50794117647|\n",
      "|Finance and Accou...|42740.952888888874|\n",
      "|Research and Deve...| 41426.43521126761|\n",
      "|    Customer Service|42644.472021276604|\n",
      "|               Legal| 41160.26616438357|\n",
      "|        Data Science| 41974.18958333334|\n",
      "|          Operations|40646.100705882345|\n",
      "|     Human Resources| 41751.64784810126|\n",
      "+--------------------+------------------+\n",
      "\n"
     ]
    }
   ],
   "source": [
    "from pyspark.sql import functions as F\n",
    "\n",
    "high_salary_df = employees_with_salary_category_df.filter(col(\"salary_category\") == \"High\")\n",
    "low_salary_df = employees_with_salary_category_df.filter(col(\"salary_category\") == \"Low\")\n",
    "\n",
    "high_salary_avg_df = high_salary_df.groupBy(\"department_name\").agg(\n",
    "    F.avg(\"salary\").alias(\"avg_salary\")\n",
    ")\n",
    "\n",
    "low_salary_avg_df = low_salary_df.groupBy(\"department_name\").agg(\n",
    "    F.avg(\"salary\").alias(\"avg_salary\")\n",
    ")\n",
    "\n",
    "high_salary_avg_df.show()\n",
    "low_salary_avg_df.show()"
   ]
  },
  {
   "cell_type": "code",
   "execution_count": null,
   "metadata": {},
   "outputs": [],
   "source": [
    "top_5_high_salary_df = high_salary_df.orderBy(col(\"salary\").desc()).limit(5)\n",
    "top_5_low_salary_df = low_salary_df.orderBy(col(\"salary\").desc()).limit(5)\n",
    "\n",
    "top_5_high_salary_df.show()\n",
    "top_5_low_salary_df.show()"
   ]
  },
  {
   "cell_type": "code",
   "execution_count": 9,
   "metadata": {},
   "outputs": [
    {
     "name": "stdout",
     "output_type": "stream",
     "text": [
      "+-----------+--------------------+----------------+\n",
      "|employee_id|       employee_info|years_in_company|\n",
      "+-----------+--------------------+----------------+\n",
      "|          1|{Caitlyn, 103, NU...|              22|\n",
      "|          2|{Rachel, 104, NUL...|              15|\n",
      "|          3|{Carrie, 105, NUL...|              26|\n",
      "|          4|{Renee, 104, NULL...|              30|\n",
      "|          5|{Gabriella, 109, ...|              30|\n",
      "|          6|{Kristen, 101, NU...|              14|\n",
      "|          7|{Jonathan, 102, N...|              12|\n",
      "|          8|{Michelle, 101, N...|              19|\n",
      "|          9|{Michelle, 105, N...|              33|\n",
      "|         10|{Lisa, 110, NULL,...|               8|\n",
      "|         11|{Cheryl, 103, NUL...|               4|\n",
      "|         12|{Mikayla, 107, NU...|               2|\n",
      "|         13|{Lisa, 104, NULL,...|               5|\n",
      "|         14|{Sean, 108, NULL,...|               3|\n",
      "|         15|{Monica, 105, NUL...|               2|\n",
      "|         16|{Katelyn, 104, NU...|              17|\n",
      "|         17|{Linda, 108, NULL...|              22|\n",
      "|         18|{Tammy, 109, NULL...|              10|\n",
      "|         19|{William, 103, NU...|              26|\n",
      "|         20|{Jorge, 109, NULL...|               6|\n",
      "+-----------+--------------------+----------------+\n",
      "only showing top 20 rows\n",
      "\n",
      "+-----------+--------------------+----------------+\n",
      "|employee_id|       employee_info|years_in_company|\n",
      "+-----------+--------------------+----------------+\n",
      "|        336|{Brandy, 107, NUL...|              37|\n",
      "|       2541|{Monica, 102, NUL...|              37|\n",
      "+-----------+--------------------+----------------+\n",
      "\n",
      "Number of employees with max years: 2\n"
     ]
    }
   ],
   "source": [
    "from pyspark.sql.functions import current_date, datediff, col, from_json\n",
    "from pyspark.sql.types import StructType, StructField, StringType, IntegerType, DateType\n",
    "\n",
    "employee_info_schema = StructType([\n",
    "    StructField(\"name\", StringType(), True),\n",
    "    StructField(\"department_id\", IntegerType(), True),\n",
    "    StructField(\"salary\", IntegerType(), True),\n",
    "    StructField(\"hire_date\", DateType(), True)\n",
    "])\n",
    "\n",
    "employees_with_hire_date_df = employees_df.withColumn(\n",
    "    \"employee_info\", from_json(col(\"employee_info\"), employee_info_schema)\n",
    ")\n",
    "employees_with_years_df = employees_with_hire_date_df.withColumn(\n",
    "    \"years_in_company\", (datediff(current_date(), col(\"employee_info.hire_date\")) / 365).cast(\"int\")\n",
    ")\n",
    "\n",
    "employees_with_years_df.show()\n",
    "\n",
    "max_years_in_company = employees_with_years_df.agg({\"years_in_company\": \"max\"}).collect()[0][0]\n",
    "employees_with_max_years = employees_with_years_df.filter(col(\"years_in_company\") == max_years_in_company)\n",
    "employee_count = employees_with_max_years.count()\n",
    "\n",
    "employees_with_max_years.show()\n",
    "\n",
    "print(f\"Number of employees with max years: {employee_count}\")"
   ]
  },
  {
   "cell_type": "code",
   "execution_count": 11,
   "metadata": {},
   "outputs": [],
   "source": [
    "sc.stop()"
   ]
  }
 ],
 "metadata": {
  "kernelspec": {
   "display_name": "Python 3 (ipykernel)",
   "language": "python",
   "name": "python3"
  },
  "language_info": {
   "codemirror_mode": {
    "name": "ipython",
    "version": 3
   },
   "file_extension": ".py",
   "mimetype": "text/x-python",
   "name": "python",
   "nbconvert_exporter": "python",
   "pygments_lexer": "ipython3",
   "version": "3.11.6"
  }
 },
 "nbformat": 4,
 "nbformat_minor": 2
}
