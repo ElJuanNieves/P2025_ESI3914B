{
 "cells": [
  {
   "cell_type": "markdown",
   "metadata": {},
   "source": [
    "# <center> <img src=\"../../labs/img/ITESOLogo.png\" alt=\"ITESO\" width=\"480\" height=\"130\"> </center>\n",
    "# <center> **Departamento de Electrónica, Sistemas e Informática** </center>\n",
    "---\n",
    "### <center> **Procesamiento de Datos Masivos** </center>\n",
    "---\n",
    "### <center> **Primavera 2025** </center>\n",
    "---\n",
    "**Primer Examen**\n",
    "\n",
    "**Fecha**: 14 de Marzo del 2025\n",
    "\n",
    "**Nombre del estudiante**: Samantha Abigail Quintero Valadez\n",
    "\n",
    "**Professor**: Pablo Camarillo Ramirez"
   ]
  },
  {
   "cell_type": "code",
   "execution_count": 1,
   "metadata": {},
   "outputs": [],
   "source": [
    "import findspark\n",
    "findspark.init()"
   ]
  },
  {
   "cell_type": "code",
   "execution_count": 3,
   "metadata": {},
   "outputs": [],
   "source": [
    "from pyspark.sql import SparkSession\n",
    "\n",
    "spark = SparkSession.builder \\\n",
    "    .appName(\"SparkSQL-Exam-1-Samantha-Quintero\") \\\n",
    "    .master(\"spark://be6296989c4d:7077\") \\\n",
    "    .config(\"spark.ui.port\",\"4040\") \\\n",
    "    .getOrCreate()\n",
    "sc = spark.sparkContext"
   ]
  },
  {
   "cell_type": "code",
   "execution_count": null,
   "metadata": {},
   "outputs": [],
   "source": []
  },
  {
   "cell_type": "code",
   "execution_count": 4,
   "metadata": {},
   "outputs": [
    {
     "name": "stdout",
     "output_type": "stream",
     "text": [
      "root\n",
      " |-- department_id: string (nullable = true)\n",
      " |-- department_name: string (nullable = true)\n",
      " |-- location: string (nullable = true)\n",
      "\n"
     ]
    },
    {
     "name": "stderr",
     "output_type": "stream",
     "text": [
      "                                                                                \r"
     ]
    },
    {
     "name": "stdout",
     "output_type": "stream",
     "text": [
      "+-------------+--------------------+-------------+\n",
      "|department_id|     department_name|     location|\n",
      "+-------------+--------------------+-------------+\n",
      "|          101|     Human Resources|    San Diego|\n",
      "|          102|Finance and Accou...|     New York|\n",
      "|          103| Sales and Marketing|      Chicago|\n",
      "|          104|    Data Engineering|      Zapopan|\n",
      "|          105|        Data Science|      Seattle|\n",
      "|          106|          Operations|       London|\n",
      "|          107|               Legal|      Chicago|\n",
      "|          108|Research and Deve...| Philadelphia|\n",
      "|          109|    Customer Service|San Francisco|\n",
      "|          110|Corporate Strateg...|  Los Angeles|\n",
      "+-------------+--------------------+-------------+\n",
      "\n"
     ]
    }
   ],
   "source": [
    "from team_name.spark_utils import SparkUtils\n",
    "\n",
    "columns_info = [(\"department_id\", \"string\"),\n",
    "                (\"department_name\", \"string\"),\n",
    "                (\"location\", \"string\")]\n",
    "\n",
    "schema = SparkUtils.generate_schema(columns_info)\n",
    "\n",
    "# Create DataFrame\n",
    "depart_df = spark \\\n",
    "                .read \\\n",
    "                .schema(schema) \\\n",
    "                .option(\"header\", \"true\") \\\n",
    "                .csv(\"/home/jovyan/notebooks/data/exam_P2025_ESI3914B/departments.csv\")\n",
    "\n",
    "depart_df.printSchema()\n",
    "depart_df.show()"
   ]
  },
  {
   "cell_type": "code",
   "execution_count": 26,
   "metadata": {},
   "outputs": [],
   "source": [
    "sc.stop()"
   ]
  },
  {
   "cell_type": "code",
   "execution_count": 5,
   "metadata": {},
   "outputs": [
    {
     "name": "stdout",
     "output_type": "stream",
     "text": [
      "root\n",
      " |-- employee_id: string (nullable = true)\n",
      " |-- employee_info: string (nullable = true)\n",
      "\n",
      "+-----------+--------------------+\n",
      "|employee_id|       employee_info|\n",
      "+-----------+--------------------+\n",
      "|          1|{'name': 'Caitlyn...|\n",
      "|          2|{'name': 'Rachel'...|\n",
      "|          3|{'name': 'Carrie'...|\n",
      "|          4|{'name': 'Renee',...|\n",
      "|          5|{'name': 'Gabriel...|\n",
      "|          6|{'name': 'Kristen...|\n",
      "|          7|{'name': 'Jonatha...|\n",
      "|          8|{'name': 'Michell...|\n",
      "|          9|{'name': 'Michell...|\n",
      "|         10|{'name': 'Lisa', ...|\n",
      "|         11|{'name': 'Cheryl'...|\n",
      "|         12|{'name': 'Mikayla...|\n",
      "|         13|{'name': 'Lisa', ...|\n",
      "|         14|{'name': 'Sean', ...|\n",
      "|         15|{'name': 'Monica'...|\n",
      "|         16|{'name': 'Katelyn...|\n",
      "|         17|{'name': 'Linda',...|\n",
      "|         18|{'name': 'Tammy',...|\n",
      "|         19|{'name': 'William...|\n",
      "|         20|{'name': 'Jorge',...|\n",
      "+-----------+--------------------+\n",
      "only showing top 20 rows\n",
      "\n"
     ]
    }
   ],
   "source": [
    "from team_name.spark_utils import SparkUtils\n",
    "emp_schema = SparkUtils.generate_schema([(\"employee_id\", \"string\"), (\"employee_info\", \"string\")])\n",
    "\n",
    "emp_df = spark.read \\\n",
    "                .schema(emp_schema) \\\n",
    "                .option(\"header\", \"true\") \\\n",
    "                .csv(\"/home/jovyan/notebooks/data/exam_P2025_ESI3914B/employees.csv\")\n",
    "\n",
    "emp_df.printSchema()\n",
    "emp_df.show()"
   ]
  },
  {
   "cell_type": "code",
   "execution_count": 6,
   "metadata": {},
   "outputs": [
    {
     "name": "stdout",
     "output_type": "stream",
     "text": [
      "+-----------+-------------------------------------------------------------------------------------------+---------+\n",
      "|employee_id|employee_info                                                                              |name     |\n",
      "+-----------+-------------------------------------------------------------------------------------------+---------+\n",
      "|1          |{'name': 'Caitlyn', 'department_id': 103, 'salary': 115959.78, 'hire_date': '2002-06-10'}  |Caitlyn  |\n",
      "|2          |{'name': 'Rachel', 'department_id': 104, 'salary': 100820.16, 'hire_date': '2009-07-01'}   |Rachel   |\n",
      "|3          |{'name': 'Carrie', 'department_id': 105, 'salary': 114421.44, 'hire_date': '1998-12-10'}   |Carrie   |\n",
      "|4          |{'name': 'Renee', 'department_id': 104, 'salary': 54688.13, 'hire_date': '1995-03-17'}     |Renee    |\n",
      "|5          |{'name': 'Gabriella', 'department_id': 109, 'salary': 106267.03, 'hire_date': '1995-02-09'}|Gabriella|\n",
      "|6          |{'name': 'Kristen', 'department_id': 101, 'salary': 88237.54, 'hire_date': '2010-11-15'}   |Kristen  |\n",
      "|7          |{'name': 'Jonathan', 'department_id': 102, 'salary': 39323.42, 'hire_date': '2012-06-30'}  |Jonathan |\n",
      "|8          |{'name': 'Michelle', 'department_id': 101, 'salary': 64262.85, 'hire_date': '2005-10-30'}  |Michelle |\n",
      "|9          |{'name': 'Michelle', 'department_id': 105, 'salary': 103521.88, 'hire_date': '1991-07-10'} |Michelle |\n",
      "|10         |{'name': 'Lisa', 'department_id': 110, 'salary': 55435.93, 'hire_date': '2016-03-25'}      |Lisa     |\n",
      "|11         |{'name': 'Cheryl', 'department_id': 103, 'salary': 88073.75, 'hire_date': '2020-08-21'}    |Cheryl   |\n",
      "|12         |{'name': 'Mikayla', 'department_id': 107, 'salary': 95192.05, 'hire_date': '2022-05-13'}   |Mikayla  |\n",
      "|13         |{'name': 'Lisa', 'department_id': 104, 'salary': 36032.49, 'hire_date': '2019-05-16'}      |Lisa     |\n",
      "|14         |{'name': 'Sean', 'department_id': 108, 'salary': 64904.69, 'hire_date': '2021-06-06'}      |Sean     |\n",
      "|15         |{'name': 'Monica', 'department_id': 105, 'salary': 92589.97, 'hire_date': '2022-05-09'}    |Monica   |\n",
      "|16         |{'name': 'Katelyn', 'department_id': 104, 'salary': 147225.58, 'hire_date': '2008-03-14'}  |Katelyn  |\n",
      "|17         |{'name': 'Linda', 'department_id': 108, 'salary': 146632.64, 'hire_date': '2002-09-04'}    |Linda    |\n",
      "|18         |{'name': 'Tammy', 'department_id': 109, 'salary': 128860.4, 'hire_date': '2014-04-18'}     |Tammy    |\n",
      "|19         |{'name': 'William', 'department_id': 103, 'salary': 142645.41, 'hire_date': '1998-05-25'}  |William  |\n",
      "|20         |{'name': 'Jorge', 'department_id': 109, 'salary': 87587.51, 'hire_date': '2018-03-25'}     |Jorge    |\n",
      "+-----------+-------------------------------------------------------------------------------------------+---------+\n",
      "only showing top 20 rows\n",
      "\n"
     ]
    }
   ],
   "source": [
    "from pyspark.sql.functions import get_json_object\n",
    "emp_df = emp_df.withColumn(\"name\", get_json_object(emp_df.employee_info, \"$.name\"))\n",
    "emp_df.show(truncate=False)\n"
   ]
  },
  {
   "cell_type": "code",
   "execution_count": 7,
   "metadata": {},
   "outputs": [
    {
     "name": "stdout",
     "output_type": "stream",
     "text": [
      "+-----------+-------------------------------------------------------------------------------------------+---------+-------------+\n",
      "|employee_id|employee_info                                                                              |name     |department_id|\n",
      "+-----------+-------------------------------------------------------------------------------------------+---------+-------------+\n",
      "|1          |{'name': 'Caitlyn', 'department_id': 103, 'salary': 115959.78, 'hire_date': '2002-06-10'}  |Caitlyn  |103          |\n",
      "|2          |{'name': 'Rachel', 'department_id': 104, 'salary': 100820.16, 'hire_date': '2009-07-01'}   |Rachel   |104          |\n",
      "|3          |{'name': 'Carrie', 'department_id': 105, 'salary': 114421.44, 'hire_date': '1998-12-10'}   |Carrie   |105          |\n",
      "|4          |{'name': 'Renee', 'department_id': 104, 'salary': 54688.13, 'hire_date': '1995-03-17'}     |Renee    |104          |\n",
      "|5          |{'name': 'Gabriella', 'department_id': 109, 'salary': 106267.03, 'hire_date': '1995-02-09'}|Gabriella|109          |\n",
      "|6          |{'name': 'Kristen', 'department_id': 101, 'salary': 88237.54, 'hire_date': '2010-11-15'}   |Kristen  |101          |\n",
      "|7          |{'name': 'Jonathan', 'department_id': 102, 'salary': 39323.42, 'hire_date': '2012-06-30'}  |Jonathan |102          |\n",
      "|8          |{'name': 'Michelle', 'department_id': 101, 'salary': 64262.85, 'hire_date': '2005-10-30'}  |Michelle |101          |\n",
      "|9          |{'name': 'Michelle', 'department_id': 105, 'salary': 103521.88, 'hire_date': '1991-07-10'} |Michelle |105          |\n",
      "|10         |{'name': 'Lisa', 'department_id': 110, 'salary': 55435.93, 'hire_date': '2016-03-25'}      |Lisa     |110          |\n",
      "|11         |{'name': 'Cheryl', 'department_id': 103, 'salary': 88073.75, 'hire_date': '2020-08-21'}    |Cheryl   |103          |\n",
      "|12         |{'name': 'Mikayla', 'department_id': 107, 'salary': 95192.05, 'hire_date': '2022-05-13'}   |Mikayla  |107          |\n",
      "|13         |{'name': 'Lisa', 'department_id': 104, 'salary': 36032.49, 'hire_date': '2019-05-16'}      |Lisa     |104          |\n",
      "|14         |{'name': 'Sean', 'department_id': 108, 'salary': 64904.69, 'hire_date': '2021-06-06'}      |Sean     |108          |\n",
      "|15         |{'name': 'Monica', 'department_id': 105, 'salary': 92589.97, 'hire_date': '2022-05-09'}    |Monica   |105          |\n",
      "|16         |{'name': 'Katelyn', 'department_id': 104, 'salary': 147225.58, 'hire_date': '2008-03-14'}  |Katelyn  |104          |\n",
      "|17         |{'name': 'Linda', 'department_id': 108, 'salary': 146632.64, 'hire_date': '2002-09-04'}    |Linda    |108          |\n",
      "|18         |{'name': 'Tammy', 'department_id': 109, 'salary': 128860.4, 'hire_date': '2014-04-18'}     |Tammy    |109          |\n",
      "|19         |{'name': 'William', 'department_id': 103, 'salary': 142645.41, 'hire_date': '1998-05-25'}  |William  |103          |\n",
      "|20         |{'name': 'Jorge', 'department_id': 109, 'salary': 87587.51, 'hire_date': '2018-03-25'}     |Jorge    |109          |\n",
      "+-----------+-------------------------------------------------------------------------------------------+---------+-------------+\n",
      "only showing top 20 rows\n",
      "\n"
     ]
    }
   ],
   "source": [
    "from pyspark.sql.functions import get_json_object\n",
    "emp_df = emp_df.withColumn(\"department_id\", get_json_object(emp_df.employee_info, \"$.department_id\"))\n",
    "emp_df.show(truncate=False)"
   ]
  },
  {
   "cell_type": "code",
   "execution_count": 15,
   "metadata": {},
   "outputs": [
    {
     "name": "stdout",
     "output_type": "stream",
     "text": [
      "+-----------+-------------------------------------------------------------------------------------------+---------+-------------+------+----------+\n",
      "|employee_id|employee_info                                                                              |name     |department_id|salary|hire_date |\n",
      "+-----------+-------------------------------------------------------------------------------------------+---------+-------------+------+----------+\n",
      "|1          |{'name': 'Caitlyn', 'department_id': 103, 'salary': 115959.78, 'hire_date': '2002-06-10'}  |Caitlyn  |103          |115959|2002-06-10|\n",
      "|2          |{'name': 'Rachel', 'department_id': 104, 'salary': 100820.16, 'hire_date': '2009-07-01'}   |Rachel   |104          |100820|2009-07-01|\n",
      "|3          |{'name': 'Carrie', 'department_id': 105, 'salary': 114421.44, 'hire_date': '1998-12-10'}   |Carrie   |105          |114421|1998-12-10|\n",
      "|4          |{'name': 'Renee', 'department_id': 104, 'salary': 54688.13, 'hire_date': '1995-03-17'}     |Renee    |104          |54688 |1995-03-17|\n",
      "|5          |{'name': 'Gabriella', 'department_id': 109, 'salary': 106267.03, 'hire_date': '1995-02-09'}|Gabriella|109          |106267|1995-02-09|\n",
      "|6          |{'name': 'Kristen', 'department_id': 101, 'salary': 88237.54, 'hire_date': '2010-11-15'}   |Kristen  |101          |88237 |2010-11-15|\n",
      "|7          |{'name': 'Jonathan', 'department_id': 102, 'salary': 39323.42, 'hire_date': '2012-06-30'}  |Jonathan |102          |39323 |2012-06-30|\n",
      "|8          |{'name': 'Michelle', 'department_id': 101, 'salary': 64262.85, 'hire_date': '2005-10-30'}  |Michelle |101          |64262 |2005-10-30|\n",
      "|9          |{'name': 'Michelle', 'department_id': 105, 'salary': 103521.88, 'hire_date': '1991-07-10'} |Michelle |105          |103521|1991-07-10|\n",
      "|10         |{'name': 'Lisa', 'department_id': 110, 'salary': 55435.93, 'hire_date': '2016-03-25'}      |Lisa     |110          |55435 |2016-03-25|\n",
      "|11         |{'name': 'Cheryl', 'department_id': 103, 'salary': 88073.75, 'hire_date': '2020-08-21'}    |Cheryl   |103          |88073 |2020-08-21|\n",
      "|12         |{'name': 'Mikayla', 'department_id': 107, 'salary': 95192.05, 'hire_date': '2022-05-13'}   |Mikayla  |107          |95192 |2022-05-13|\n",
      "|13         |{'name': 'Lisa', 'department_id': 104, 'salary': 36032.49, 'hire_date': '2019-05-16'}      |Lisa     |104          |36032 |2019-05-16|\n",
      "|14         |{'name': 'Sean', 'department_id': 108, 'salary': 64904.69, 'hire_date': '2021-06-06'}      |Sean     |108          |64904 |2021-06-06|\n",
      "|15         |{'name': 'Monica', 'department_id': 105, 'salary': 92589.97, 'hire_date': '2022-05-09'}    |Monica   |105          |92589 |2022-05-09|\n",
      "|16         |{'name': 'Katelyn', 'department_id': 104, 'salary': 147225.58, 'hire_date': '2008-03-14'}  |Katelyn  |104          |147225|2008-03-14|\n",
      "|17         |{'name': 'Linda', 'department_id': 108, 'salary': 146632.64, 'hire_date': '2002-09-04'}    |Linda    |108          |146632|2002-09-04|\n",
      "|18         |{'name': 'Tammy', 'department_id': 109, 'salary': 128860.4, 'hire_date': '2014-04-18'}     |Tammy    |109          |128860|2014-04-18|\n",
      "|19         |{'name': 'William', 'department_id': 103, 'salary': 142645.41, 'hire_date': '1998-05-25'}  |William  |103          |142645|1998-05-25|\n",
      "|20         |{'name': 'Jorge', 'department_id': 109, 'salary': 87587.51, 'hire_date': '2018-03-25'}     |Jorge    |109          |87587 |2018-03-25|\n",
      "+-----------+-------------------------------------------------------------------------------------------+---------+-------------+------+----------+\n",
      "only showing top 20 rows\n",
      "\n"
     ]
    }
   ],
   "source": [
    "from pyspark.sql.functions import get_json_object\n",
    "emp_df = emp_df.withColumn(\"salary\", get_json_object(emp_df.employee_info, \"$.salary\").cast('integer'))\n",
    "emp_df.show(truncate=False)"
   ]
  },
  {
   "cell_type": "code",
   "execution_count": 16,
   "metadata": {},
   "outputs": [
    {
     "name": "stdout",
     "output_type": "stream",
     "text": [
      "+-----------+-------------------------------------------------------------------------------------------+---------+-------------+------+----------+\n",
      "|employee_id|employee_info                                                                              |name     |department_id|salary|hire_date |\n",
      "+-----------+-------------------------------------------------------------------------------------------+---------+-------------+------+----------+\n",
      "|1          |{'name': 'Caitlyn', 'department_id': 103, 'salary': 115959.78, 'hire_date': '2002-06-10'}  |Caitlyn  |103          |115959|2002-06-10|\n",
      "|2          |{'name': 'Rachel', 'department_id': 104, 'salary': 100820.16, 'hire_date': '2009-07-01'}   |Rachel   |104          |100820|2009-07-01|\n",
      "|3          |{'name': 'Carrie', 'department_id': 105, 'salary': 114421.44, 'hire_date': '1998-12-10'}   |Carrie   |105          |114421|1998-12-10|\n",
      "|4          |{'name': 'Renee', 'department_id': 104, 'salary': 54688.13, 'hire_date': '1995-03-17'}     |Renee    |104          |54688 |1995-03-17|\n",
      "|5          |{'name': 'Gabriella', 'department_id': 109, 'salary': 106267.03, 'hire_date': '1995-02-09'}|Gabriella|109          |106267|1995-02-09|\n",
      "|6          |{'name': 'Kristen', 'department_id': 101, 'salary': 88237.54, 'hire_date': '2010-11-15'}   |Kristen  |101          |88237 |2010-11-15|\n",
      "|7          |{'name': 'Jonathan', 'department_id': 102, 'salary': 39323.42, 'hire_date': '2012-06-30'}  |Jonathan |102          |39323 |2012-06-30|\n",
      "|8          |{'name': 'Michelle', 'department_id': 101, 'salary': 64262.85, 'hire_date': '2005-10-30'}  |Michelle |101          |64262 |2005-10-30|\n",
      "|9          |{'name': 'Michelle', 'department_id': 105, 'salary': 103521.88, 'hire_date': '1991-07-10'} |Michelle |105          |103521|1991-07-10|\n",
      "|10         |{'name': 'Lisa', 'department_id': 110, 'salary': 55435.93, 'hire_date': '2016-03-25'}      |Lisa     |110          |55435 |2016-03-25|\n",
      "|11         |{'name': 'Cheryl', 'department_id': 103, 'salary': 88073.75, 'hire_date': '2020-08-21'}    |Cheryl   |103          |88073 |2020-08-21|\n",
      "|12         |{'name': 'Mikayla', 'department_id': 107, 'salary': 95192.05, 'hire_date': '2022-05-13'}   |Mikayla  |107          |95192 |2022-05-13|\n",
      "|13         |{'name': 'Lisa', 'department_id': 104, 'salary': 36032.49, 'hire_date': '2019-05-16'}      |Lisa     |104          |36032 |2019-05-16|\n",
      "|14         |{'name': 'Sean', 'department_id': 108, 'salary': 64904.69, 'hire_date': '2021-06-06'}      |Sean     |108          |64904 |2021-06-06|\n",
      "|15         |{'name': 'Monica', 'department_id': 105, 'salary': 92589.97, 'hire_date': '2022-05-09'}    |Monica   |105          |92589 |2022-05-09|\n",
      "|16         |{'name': 'Katelyn', 'department_id': 104, 'salary': 147225.58, 'hire_date': '2008-03-14'}  |Katelyn  |104          |147225|2008-03-14|\n",
      "|17         |{'name': 'Linda', 'department_id': 108, 'salary': 146632.64, 'hire_date': '2002-09-04'}    |Linda    |108          |146632|2002-09-04|\n",
      "|18         |{'name': 'Tammy', 'department_id': 109, 'salary': 128860.4, 'hire_date': '2014-04-18'}     |Tammy    |109          |128860|2014-04-18|\n",
      "|19         |{'name': 'William', 'department_id': 103, 'salary': 142645.41, 'hire_date': '1998-05-25'}  |William  |103          |142645|1998-05-25|\n",
      "|20         |{'name': 'Jorge', 'department_id': 109, 'salary': 87587.51, 'hire_date': '2018-03-25'}     |Jorge    |109          |87587 |2018-03-25|\n",
      "+-----------+-------------------------------------------------------------------------------------------+---------+-------------+------+----------+\n",
      "only showing top 20 rows\n",
      "\n"
     ]
    }
   ],
   "source": [
    "from pyspark.sql.functions import get_json_object\n",
    "emp_df = emp_df.withColumn(\"hire_date\", get_json_object(emp_df.employee_info, \"$.hire_date\").cast('date'))\n",
    "emp_df.show(truncate=False)"
   ]
  },
  {
   "cell_type": "code",
   "execution_count": 17,
   "metadata": {},
   "outputs": [
    {
     "name": "stdout",
     "output_type": "stream",
     "text": [
      "+-------------+-------------------------------------------+-------------+-----------+---------+-------------+------+----------+\n",
      "|department_id|department_name                            |location     |employee_id|name     |department_id|salary|hire_date |\n",
      "+-------------+-------------------------------------------+-------------+-----------+---------+-------------+------+----------+\n",
      "|103          |Sales and Marketing                        |Chicago      |1          |Caitlyn  |103          |115959|2002-06-10|\n",
      "|104          |Data Engineering                           |Zapopan      |2          |Rachel   |104          |100820|2009-07-01|\n",
      "|105          |Data Science                               |Seattle      |3          |Carrie   |105          |114421|1998-12-10|\n",
      "|104          |Data Engineering                           |Zapopan      |4          |Renee    |104          |54688 |1995-03-17|\n",
      "|109          |Customer Service                           |San Francisco|5          |Gabriella|109          |106267|1995-02-09|\n",
      "|101          |Human Resources                            |San Diego    |6          |Kristen  |101          |88237 |2010-11-15|\n",
      "|102          |Finance and Accounting                     |New York     |7          |Jonathan |102          |39323 |2012-06-30|\n",
      "|101          |Human Resources                            |San Diego    |8          |Michelle |101          |64262 |2005-10-30|\n",
      "|105          |Data Science                               |Seattle      |9          |Michelle |105          |103521|1991-07-10|\n",
      "|110          |Corporate Strategy and Business Development|Los Angeles  |10         |Lisa     |110          |55435 |2016-03-25|\n",
      "|103          |Sales and Marketing                        |Chicago      |11         |Cheryl   |103          |88073 |2020-08-21|\n",
      "|107          |Legal                                      |Chicago      |12         |Mikayla  |107          |95192 |2022-05-13|\n",
      "|104          |Data Engineering                           |Zapopan      |13         |Lisa     |104          |36032 |2019-05-16|\n",
      "|108          |Research and Development                   |Philadelphia |14         |Sean     |108          |64904 |2021-06-06|\n",
      "|105          |Data Science                               |Seattle      |15         |Monica   |105          |92589 |2022-05-09|\n",
      "|104          |Data Engineering                           |Zapopan      |16         |Katelyn  |104          |147225|2008-03-14|\n",
      "|108          |Research and Development                   |Philadelphia |17         |Linda    |108          |146632|2002-09-04|\n",
      "|109          |Customer Service                           |San Francisco|18         |Tammy    |109          |128860|2014-04-18|\n",
      "|103          |Sales and Marketing                        |Chicago      |19         |William  |103          |142645|1998-05-25|\n",
      "|109          |Customer Service                           |San Francisco|20         |Jorge    |109          |87587 |2018-03-25|\n",
      "+-------------+-------------------------------------------+-------------+-----------+---------+-------------+------+----------+\n",
      "only showing top 20 rows\n",
      "\n"
     ]
    }
   ],
   "source": [
    "emp_dep_df = depart_df.join(emp_df, emp_df.department_id == depart_df.department_id, \"inner\") \n",
    "emp_dep_df = emp_dep_df.drop('employee_info')\n",
    "\n",
    "emp_dep_df.show( truncate=False)"
   ]
  },
  {
   "cell_type": "code",
   "execution_count": 18,
   "metadata": {},
   "outputs": [
    {
     "name": "stdout",
     "output_type": "stream",
     "text": [
      "+-------------+-------------------+-------------+-----------+---------+-------------+------+----------+---------------+\n",
      "|department_id|    department_name|     location|employee_id|     name|department_id|salary| hire_date|salary_category|\n",
      "+-------------+-------------------+-------------+-----------+---------+-------------+------+----------+---------------+\n",
      "|          103|Sales and Marketing|      Chicago|          1|  Caitlyn|          103|115959|2002-06-10|           HIGH|\n",
      "|          104|   Data Engineering|      Zapopan|          2|   Rachel|          104|100820|2009-07-01|           HIGH|\n",
      "|          105|       Data Science|      Seattle|          3|   Carrie|          105|114421|1998-12-10|           HIGH|\n",
      "|          104|   Data Engineering|      Zapopan|          4|    Renee|          104| 54688|1995-03-17|            LOW|\n",
      "|          109|   Customer Service|San Francisco|          5|Gabriella|          109|106267|1995-02-09|           HIGH|\n",
      "+-------------+-------------------+-------------+-----------+---------+-------------+------+----------+---------------+\n",
      "only showing top 5 rows\n",
      "\n"
     ]
    }
   ],
   "source": [
    "from pyspark.sql.functions import when\n",
    "emp_dep_df = emp_dep_df.withColumn('salary_category', when(emp_dep_df['salary'] >= 55000, \"HIGH\").otherwise(\"LOW\"))\n",
    "emp_dep_df.show(n=5)"
   ]
  },
  {
   "cell_type": "code",
   "execution_count": 22,
   "metadata": {},
   "outputs": [
    {
     "name": "stdout",
     "output_type": "stream",
     "text": [
      "+--------------------+------------------+\n",
      "|     department_name|       avg(salary)|\n",
      "+--------------------+------------------+\n",
      "|Corporate Strateg...|102740.88963210702|\n",
      "| Sales and Marketing|100839.13772455089|\n",
      "|    Data Engineering|101625.81818181818|\n",
      "|Research and Deve...| 98713.83333333333|\n",
      "|Finance and Accou...|100730.58415841585|\n",
      "|    Customer Service|101584.54137931035|\n",
      "|               Legal| 99365.79876160991|\n",
      "|        Data Science|101903.16206896551|\n",
      "|          Operations|100169.17602996255|\n",
      "|     Human Resources| 104998.9609929078|\n",
      "+--------------------+------------------+\n",
      "\n",
      "+--------------------+------------------+\n",
      "|     department_name|       avg(salary)|\n",
      "+--------------------+------------------+\n",
      "|Corporate Strateg...|          41590.25|\n",
      "| Sales and Marketing|41149.944444444445|\n",
      "|    Data Engineering|           41358.0|\n",
      "|Finance and Accou...|           42740.5|\n",
      "|Research and Deve...|41426.042253521126|\n",
      "|    Customer Service| 42643.96808510638|\n",
      "|               Legal|41159.767123287675|\n",
      "|        Data Science|41973.697916666664|\n",
      "|          Operations|40645.623529411765|\n",
      "|     Human Resources| 41751.15189873418|\n",
      "+--------------------+------------------+\n",
      "\n"
     ]
    }
   ],
   "source": [
    "high_sl_df=emp_dep_df.filter(emp_dep_df.salary_category=='HIGH')\n",
    "low_sl_df=emp_dep_df.filter(emp_dep_df.salary_category=='LOW')\n",
    "\n",
    "\n",
    "selected_h_df = high_sl_df.select(\"department_name\", \"salary\")\n",
    "selected_l_df = low_sl_df.select(\"department_name\", \"salary\")\n",
    "\n",
    "grouped_h_df = selected_h_df.groupBy(\"department_name\").avg(\"salary\")\n",
    "\n",
    "grouped_l_df = selected_l_df.groupBy(\"department_name\").avg(\"salary\")\n",
    "\n",
    "grouped_h_df.show()\n",
    "grouped_l_df.show()\n",
    "\n"
   ]
  },
  {
   "cell_type": "code",
   "execution_count": 27,
   "metadata": {},
   "outputs": [
    {
     "name": "stdout",
     "output_type": "stream",
     "text": [
      "+---------+------+\n",
      "|     name|salary|\n",
      "+---------+------+\n",
      "|Gabriella|149989|\n",
      "|Katherine|149979|\n",
      "|     Ryan|149963|\n",
      "|  Caitlyn|149956|\n",
      "|     Mark|149915|\n",
      "+---------+------+\n",
      "\n",
      "+-----+------+\n",
      "| name|salary|\n",
      "+-----+------+\n",
      "|Linda| 54993|\n",
      "|Tammy| 54991|\n",
      "|Aaron| 54989|\n",
      "|Craig| 54945|\n",
      "|Aaron| 54937|\n",
      "+-----+------+\n",
      "\n"
     ]
    }
   ],
   "source": [
    "high_sl_df.createOrReplaceTempView(\"high_sl_df\")\n",
    "spark.sql(\"SELECT name, salary FROM high_sl_df ORDER BY Salary DESC LIMIT 5\").show()\n",
    "\n",
    "low_sl_df.createOrReplaceTempView(\"low_sl_df\")\n",
    "spark.sql(\"SELECT name, salary FROM low_sl_df ORDER BY Salary DESC LIMIT 5\").show()"
   ]
  },
  {
   "cell_type": "code",
   "execution_count": 34,
   "metadata": {},
   "outputs": [
    {
     "name": "stdout",
     "output_type": "stream",
     "text": [
      "+-------------+--------------------+-------------+-----------+---------+-------------+------+----------+---------------+-------------+\n",
      "|department_id|     department_name|     location|employee_id|     name|department_id|salary| hire_date|salary_category|years_working|\n",
      "+-------------+--------------------+-------------+-----------+---------+-------------+------+----------+---------------+-------------+\n",
      "|          103| Sales and Marketing|      Chicago|          1|  Caitlyn|          103|115959|2002-06-10|           HIGH|           23|\n",
      "|          104|    Data Engineering|      Zapopan|          2|   Rachel|          104|100820|2009-07-01|           HIGH|           16|\n",
      "|          105|        Data Science|      Seattle|          3|   Carrie|          105|114421|1998-12-10|           HIGH|           27|\n",
      "|          104|    Data Engineering|      Zapopan|          4|    Renee|          104| 54688|1995-03-17|            LOW|           30|\n",
      "|          109|    Customer Service|San Francisco|          5|Gabriella|          109|106267|1995-02-09|           HIGH|           30|\n",
      "|          101|     Human Resources|    San Diego|          6|  Kristen|          101| 88237|2010-11-15|           HIGH|           15|\n",
      "|          102|Finance and Accou...|     New York|          7| Jonathan|          102| 39323|2012-06-30|            LOW|           13|\n",
      "|          101|     Human Resources|    San Diego|          8| Michelle|          101| 64262|2005-10-30|           HIGH|           20|\n",
      "|          105|        Data Science|      Seattle|          9| Michelle|          105|103521|1991-07-10|           HIGH|           34|\n",
      "|          110|Corporate Strateg...|  Los Angeles|         10|     Lisa|          110| 55435|2016-03-25|           HIGH|            9|\n",
      "|          103| Sales and Marketing|      Chicago|         11|   Cheryl|          103| 88073|2020-08-21|           HIGH|            5|\n",
      "|          107|               Legal|      Chicago|         12|  Mikayla|          107| 95192|2022-05-13|           HIGH|            3|\n",
      "|          104|    Data Engineering|      Zapopan|         13|     Lisa|          104| 36032|2019-05-16|            LOW|            6|\n",
      "|          108|Research and Deve...| Philadelphia|         14|     Sean|          108| 64904|2021-06-06|           HIGH|            4|\n",
      "|          105|        Data Science|      Seattle|         15|   Monica|          105| 92589|2022-05-09|           HIGH|            3|\n",
      "|          104|    Data Engineering|      Zapopan|         16|  Katelyn|          104|147225|2008-03-14|           HIGH|           17|\n",
      "|          108|Research and Deve...| Philadelphia|         17|    Linda|          108|146632|2002-09-04|           HIGH|           23|\n",
      "|          109|    Customer Service|San Francisco|         18|    Tammy|          109|128860|2014-04-18|           HIGH|           11|\n",
      "|          103| Sales and Marketing|      Chicago|         19|  William|          103|142645|1998-05-25|           HIGH|           27|\n",
      "|          109|    Customer Service|San Francisco|         20|    Jorge|          109| 87587|2018-03-25|           HIGH|            7|\n",
      "+-------------+--------------------+-------------+-----------+---------+-------------+------+----------+---------------+-------------+\n",
      "only showing top 20 rows\n",
      "\n"
     ]
    },
    {
     "data": {
      "text/plain": [
       "223"
      ]
     },
     "execution_count": 34,
     "metadata": {},
     "output_type": "execute_result"
    }
   ],
   "source": [
    "from pyspark.sql.functions import year\n",
    "df_year = emp_dep_df.withColumn('years_working', 2025-year(emp_dep_df['hire_date']))\n",
    "df_year.show()\n",
    "\n",
    "df_year=df_year.filter(df_year.years_working>35)\n",
    "df_year.count()"
   ]
  },
  {
   "cell_type": "markdown",
   "metadata": {},
   "source": [
    "# <center> <img src=\"../../labs/img/examen_Samantha.png\" alt=\"DAG\" width=\"480\" height=\"130\"> </center>"
   ]
  }
 ],
 "metadata": {
  "kernelspec": {
   "display_name": "Python 3 (ipykernel)",
   "language": "python",
   "name": "python3"
  },
  "language_info": {
   "codemirror_mode": {
    "name": "ipython",
    "version": 3
   },
   "file_extension": ".py",
   "mimetype": "text/x-python",
   "name": "python",
   "nbconvert_exporter": "python",
   "pygments_lexer": "ipython3",
   "version": "3.11.6"
  }
 },
 "nbformat": 4,
 "nbformat_minor": 2
}
