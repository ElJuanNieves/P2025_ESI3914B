{
 "cells": [
  {
   "cell_type": "markdown",
   "metadata": {},
   "source": [
    "# <center> <img src=\"../../labs/img/ITESOLogo.png\" alt=\"ITESO\" width=\"480\" height=\"130\"> </center>\n",
    "# <center> **Departamento de Electrónica, Sistemas e Informática** </center>\n",
    "---\n",
    "### <center> **Procesamiento de Datos Masivos** </center>\n",
    "---\n",
    "### <center> **Primavera 2025** </center>\n",
    "---\n",
    "**Primer Examen**\n",
    "\n",
    "**Fecha**: 14 de Marzo del 2025\n",
    "\n",
    "**Nombre del estudiante**: Lorena Ruelas Gaytán\n",
    "\n",
    "**Professor**: Pablo Camarillo Ramirez"
   ]
  },
  {
   "cell_type": "code",
   "execution_count": 1,
   "metadata": {},
   "outputs": [],
   "source": [
    "import findspark\n",
    "findspark.init()"
   ]
  },
  {
   "cell_type": "code",
   "execution_count": 2,
   "metadata": {},
   "outputs": [
    {
     "name": "stderr",
     "output_type": "stream",
     "text": [
      "Setting default log level to \"WARN\".\n",
      "To adjust logging level use sc.setLogLevel(newLevel). For SparkR, use setLogLevel(newLevel).\n",
      "25/03/14 13:38:48 WARN NativeCodeLoader: Unable to load native-hadoop library for your platform... using builtin-java classes where applicable\n"
     ]
    }
   ],
   "source": [
    "from pyspark.sql import SparkSession\n",
    "\n",
    "spark = SparkSession.builder \\\n",
    "    .appName(\"SparkSQL-Exam-1-LORENA-RUELAS-GAYTAN\") \\\n",
    "    .master(\"spark://e3b046ba856a:7077\") \\\n",
    "    .config(\"spark.ui.port\",\"4040\") \\\n",
    "    .getOrCreate()\n",
    "sc = spark.sparkContext"
   ]
  },
  {
   "cell_type": "code",
   "execution_count": 5,
   "metadata": {},
   "outputs": [
    {
     "name": "stdout",
     "output_type": "stream",
     "text": [
      "root\n",
      " |-- employee_id: integer (nullable = true)\n",
      " |-- employee_info: string (nullable = true)\n",
      "\n",
      "+-----------+-------------------------------------------------------------------------------------------+\n",
      "|employee_id|employee_info                                                                              |\n",
      "+-----------+-------------------------------------------------------------------------------------------+\n",
      "|1          |{'name': 'Caitlyn', 'department_id': 103, 'salary': 115959.78, 'hire_date': '2002-06-10'}  |\n",
      "|2          |{'name': 'Rachel', 'department_id': 104, 'salary': 100820.16, 'hire_date': '2009-07-01'}   |\n",
      "|3          |{'name': 'Carrie', 'department_id': 105, 'salary': 114421.44, 'hire_date': '1998-12-10'}   |\n",
      "|4          |{'name': 'Renee', 'department_id': 104, 'salary': 54688.13, 'hire_date': '1995-03-17'}     |\n",
      "|5          |{'name': 'Gabriella', 'department_id': 109, 'salary': 106267.03, 'hire_date': '1995-02-09'}|\n",
      "+-----------+-------------------------------------------------------------------------------------------+\n",
      "only showing top 5 rows\n",
      "\n"
     ]
    }
   ],
   "source": [
    "from team_name.spark_utils import SparkUtils\n",
    "employees_schema = SparkUtils.generate_schema([(\"employee_id\", \"integer\"), (\"employee_info\", \"string\")])\n",
    "\n",
    "employees_df = spark.read \\\n",
    "                .schema(employees_schema) \\\n",
    "                .option(\"header\", \"true\") \\\n",
    "                .csv(\"/home/jovyan/notebooks/data/exam/employees.csv\")\n",
    "\n",
    "employees_df.printSchema()\n",
    "\n",
    "employees_df.show(5, truncate=False)"
   ]
  },
  {
   "cell_type": "code",
   "execution_count": 6,
   "metadata": {},
   "outputs": [
    {
     "name": "stdout",
     "output_type": "stream",
     "text": [
      "root\n",
      " |-- department_id: integer (nullable = true)\n",
      " |-- department_name: string (nullable = true)\n",
      " |-- location: string (nullable = true)\n",
      "\n",
      "+-------------+----------------------+---------+\n",
      "|department_id|department_name       |location |\n",
      "+-------------+----------------------+---------+\n",
      "|101          |Human Resources       |San Diego|\n",
      "|102          |Finance and Accounting|New York |\n",
      "|103          |Sales and Marketing   |Chicago  |\n",
      "|104          |Data Engineering      |Zapopan  |\n",
      "|105          |Data Science          |Seattle  |\n",
      "+-------------+----------------------+---------+\n",
      "only showing top 5 rows\n",
      "\n"
     ]
    }
   ],
   "source": [
    "from team_name.spark_utils import SparkUtils\n",
    "departments_schema = SparkUtils.generate_schema([(\"department_id\", \"integer\"), (\"department_name\", \"string\"), (\"location\", \"string\")])\n",
    "\n",
    "departments_df = spark.read \\\n",
    "                .schema(departments_schema) \\\n",
    "                .option(\"header\", \"true\") \\\n",
    "                .csv(\"/home/jovyan/notebooks/data/exam/departments.csv\")\n",
    "\n",
    "departments_df.printSchema()\n",
    "\n",
    "departments_df.show(5, truncate=False)"
   ]
  },
  {
   "cell_type": "code",
   "execution_count": 10,
   "metadata": {},
   "outputs": [
    {
     "name": "stdout",
     "output_type": "stream",
     "text": [
      "+-----------+---------+-------------+---------+----------+\n",
      "|employee_id|name     |department_id|salary   |hire_date |\n",
      "+-----------+---------+-------------+---------+----------+\n",
      "|1          |Caitlyn  |103          |115959.78|2002-06-10|\n",
      "|2          |Rachel   |104          |100820.16|2009-07-01|\n",
      "|3          |Carrie   |105          |114421.44|1998-12-10|\n",
      "|4          |Renee    |104          |54688.13 |1995-03-17|\n",
      "|5          |Gabriella|109          |106267.03|1995-02-09|\n",
      "|6          |Kristen  |101          |88237.54 |2010-11-15|\n",
      "|7          |Jonathan |102          |39323.42 |2012-06-30|\n",
      "|8          |Michelle |101          |64262.85 |2005-10-30|\n",
      "|9          |Michelle |105          |103521.88|1991-07-10|\n",
      "|10         |Lisa     |110          |55435.93 |2016-03-25|\n",
      "|11         |Cheryl   |103          |88073.75 |2020-08-21|\n",
      "|12         |Mikayla  |107          |95192.05 |2022-05-13|\n",
      "|13         |Lisa     |104          |36032.49 |2019-05-16|\n",
      "|14         |Sean     |108          |64904.69 |2021-06-06|\n",
      "|15         |Monica   |105          |92589.97 |2022-05-09|\n",
      "|16         |Katelyn  |104          |147225.58|2008-03-14|\n",
      "|17         |Linda    |108          |146632.64|2002-09-04|\n",
      "|18         |Tammy    |109          |128860.4 |2014-04-18|\n",
      "|19         |William  |103          |142645.41|1998-05-25|\n",
      "|20         |Jorge    |109          |87587.51 |2018-03-25|\n",
      "+-----------+---------+-------------+---------+----------+\n",
      "only showing top 20 rows\n",
      "\n"
     ]
    }
   ],
   "source": [
    "from pyspark.sql.functions import get_json_object\n",
    "\n",
    "employees_df = employees_df.withColumn(\"name\", get_json_object(employees_df.employee_info, \"$.name\")) \\\n",
    "                            .withColumn(\"department_id\", get_json_object(employees_df.employee_info, '$.department_id')) \\\n",
    "                            .withColumn(\"salary\", get_json_object(employees_df.employee_info, '$.salary')) \\\n",
    "                            .withColumn(\"hire_date\", get_json_object(employees_df.employee_info, '$.hire_date')) \\\n",
    "                            .drop(\"employee_info\")\n",
    "\n",
    "\n",
    "employees_df.show(truncate=False)"
   ]
  },
  {
   "cell_type": "code",
   "execution_count": 11,
   "metadata": {},
   "outputs": [
    {
     "name": "stdout",
     "output_type": "stream",
     "text": [
      "+-----------+---------+-------------+---------+----------+-------------+-------------------+-------------+\n",
      "|employee_id|name     |department_id|salary   |hire_date |department_id|department_name    |location     |\n",
      "+-----------+---------+-------------+---------+----------+-------------+-------------------+-------------+\n",
      "|1          |Caitlyn  |103          |115959.78|2002-06-10|103          |Sales and Marketing|Chicago      |\n",
      "|2          |Rachel   |104          |100820.16|2009-07-01|104          |Data Engineering   |Zapopan      |\n",
      "|3          |Carrie   |105          |114421.44|1998-12-10|105          |Data Science       |Seattle      |\n",
      "|4          |Renee    |104          |54688.13 |1995-03-17|104          |Data Engineering   |Zapopan      |\n",
      "|5          |Gabriella|109          |106267.03|1995-02-09|109          |Customer Service   |San Francisco|\n",
      "+-----------+---------+-------------+---------+----------+-------------+-------------------+-------------+\n",
      "only showing top 5 rows\n",
      "\n"
     ]
    }
   ],
   "source": [
    "exam_df = employees_df.join(departments_df, employees_df.department_id == departments_df.department_id, \"inner\")\n",
    "\n",
    "exam_df.show(5, truncate=False)"
   ]
  },
  {
   "cell_type": "code",
   "execution_count": 12,
   "metadata": {},
   "outputs": [
    {
     "name": "stdout",
     "output_type": "stream",
     "text": [
      "+-----------+---------+-------------+---------+----------+-------------+-------------------+-------------+---------------+\n",
      "|employee_id|     name|department_id|   salary| hire_date|department_id|    department_name|     location|salary_category|\n",
      "+-----------+---------+-------------+---------+----------+-------------+-------------------+-------------+---------------+\n",
      "|          1|  Caitlyn|          103|115959.78|2002-06-10|          103|Sales and Marketing|      Chicago|           High|\n",
      "|          2|   Rachel|          104|100820.16|2009-07-01|          104|   Data Engineering|      Zapopan|           High|\n",
      "|          3|   Carrie|          105|114421.44|1998-12-10|          105|       Data Science|      Seattle|           High|\n",
      "|          4|    Renee|          104| 54688.13|1995-03-17|          104|   Data Engineering|      Zapopan|            Low|\n",
      "|          5|Gabriella|          109|106267.03|1995-02-09|          109|   Customer Service|San Francisco|           High|\n",
      "+-----------+---------+-------------+---------+----------+-------------+-------------------+-------------+---------------+\n",
      "only showing top 5 rows\n",
      "\n"
     ]
    }
   ],
   "source": [
    "from pyspark.sql.functions import when\n",
    "\n",
    "exam_df = exam_df.withColumn('salary_category', when(exam_df['salary'] >= 55000, \"High\").otherwise(\"Low\"))\n",
    "exam_df.show(n=5)"
   ]
  },
  {
   "cell_type": "code",
   "execution_count": 13,
   "metadata": {},
   "outputs": [
    {
     "name": "stdout",
     "output_type": "stream",
     "text": [
      "+-----------+---------+-------------+---------+----------+-------------+-------------------+-------------+---------------+\n",
      "|employee_id|     name|department_id|   salary| hire_date|department_id|    department_name|     location|salary_category|\n",
      "+-----------+---------+-------------+---------+----------+-------------+-------------------+-------------+---------------+\n",
      "|          1|  Caitlyn|          103|115959.78|2002-06-10|          103|Sales and Marketing|      Chicago|           High|\n",
      "|          2|   Rachel|          104|100820.16|2009-07-01|          104|   Data Engineering|      Zapopan|           High|\n",
      "|          3|   Carrie|          105|114421.44|1998-12-10|          105|       Data Science|      Seattle|           High|\n",
      "|          5|Gabriella|          109|106267.03|1995-02-09|          109|   Customer Service|San Francisco|           High|\n",
      "|          6|  Kristen|          101| 88237.54|2010-11-15|          101|    Human Resources|    San Diego|           High|\n",
      "+-----------+---------+-------------+---------+----------+-------------+-------------------+-------------+---------------+\n",
      "only showing top 5 rows\n",
      "\n",
      "+-----------+--------+-------------+--------+----------+-------------+--------------------+-------------+---------------+\n",
      "|employee_id|    name|department_id|  salary| hire_date|department_id|     department_name|     location|salary_category|\n",
      "+-----------+--------+-------------+--------+----------+-------------+--------------------+-------------+---------------+\n",
      "|          4|   Renee|          104|54688.13|1995-03-17|          104|    Data Engineering|      Zapopan|            Low|\n",
      "|          7|Jonathan|          102|39323.42|2012-06-30|          102|Finance and Accou...|     New York|            Low|\n",
      "|         13|    Lisa|          104|36032.49|2019-05-16|          104|    Data Engineering|      Zapopan|            Low|\n",
      "|         26|    John|          109|44836.57|2004-11-13|          109|    Customer Service|San Francisco|            Low|\n",
      "|         38|  Rachel|          109|43269.85|1992-07-13|          109|    Customer Service|San Francisco|            Low|\n",
      "+-----------+--------+-------------+--------+----------+-------------+--------------------+-------------+---------------+\n",
      "only showing top 5 rows\n",
      "\n"
     ]
    }
   ],
   "source": [
    "high_salary_df = exam_df.filter(exam_df[\"salary_category\"] == \"High\")\n",
    "low_salary_df = exam_df.filter(exam_df[\"salary_category\"] == \"Low\")\n",
    "\n",
    "high_salary_df.show(n=5)\n",
    "low_salary_df.show(n=5)"
   ]
  },
  {
   "cell_type": "code",
   "execution_count": 23,
   "metadata": {},
   "outputs": [
    {
     "name": "stdout",
     "output_type": "stream",
     "text": [
      "+--------------------+------------------+\n",
      "|     department_name|       avg(salary)|\n",
      "+--------------------+------------------+\n",
      "|Corporate Strateg...|102741.38324414717|\n",
      "| Sales and Marketing|100839.65275449108|\n",
      "|    Data Engineering|101626.29492163012|\n",
      "|Research and Deve...|  98714.3003086419|\n",
      "|Finance and Accou...|100731.07877887784|\n",
      "+--------------------+------------------+\n",
      "only showing top 5 rows\n",
      "\n",
      "+--------------------+------------------+\n",
      "|     department_name|       avg(salary)|\n",
      "+--------------------+------------------+\n",
      "|Corporate Strateg...|41590.741833333326|\n",
      "| Sales and Marketing| 41150.40277777778|\n",
      "|    Data Engineering| 41358.50794117647|\n",
      "|Finance and Accou...|42740.952888888874|\n",
      "|Research and Deve...| 41426.43521126761|\n",
      "+--------------------+------------------+\n",
      "only showing top 5 rows\n",
      "\n"
     ]
    }
   ],
   "source": [
    "from pyspark.sql.functions import col\n",
    "\n",
    "high_salary_df = high_salary_df.withColumn(\"salary\", col(\"salary\").cast(\"double\"))\n",
    "low_salary_df = low_salary_df.withColumn(\"salary\", col(\"salary\").cast(\"double\"))\n",
    "\n",
    "\n",
    "avg_high_salary_df = high_salary_df.groupBy(\"department_name\").avg(\"salary\").alias(\"avg_salary\")\n",
    "\n",
    "avg_low_salary_df = low_salary_df.groupBy(\"department_name\").avg(\"salary\").alias(\"avg_salary\")\n",
    "\n",
    "avg_high_salary_df.show(n=5)\n",
    "avg_low_salary_df.show(n=5)"
   ]
  },
  {
   "cell_type": "code",
   "execution_count": 28,
   "metadata": {},
   "outputs": [
    {
     "name": "stdout",
     "output_type": "stream",
     "text": [
      "+---------+---------+\n",
      "|     name|   salary|\n",
      "+---------+---------+\n",
      "|Gabriella|149989.73|\n",
      "|Katherine| 149979.3|\n",
      "|     Ryan| 149963.1|\n",
      "|  Caitlyn|149956.54|\n",
      "|     Mark|149915.56|\n",
      "+---------+---------+\n",
      "\n"
     ]
    },
    {
     "name": "stderr",
     "output_type": "stream",
     "text": [
      "                                                                                \r"
     ]
    }
   ],
   "source": [
    "high_salary_df.createOrReplaceTempView(\"high_salary\")\n",
    "\n",
    "spark.sql(\"SELECT name, salary FROM high_salary ORDER BY salary DESC LIMIT 5\").show(5)"
   ]
  },
  {
   "cell_type": "code",
   "execution_count": 29,
   "metadata": {},
   "outputs": [
    {
     "name": "stdout",
     "output_type": "stream",
     "text": [
      "+-----+--------+\n",
      "| name|  salary|\n",
      "+-----+--------+\n",
      "|Linda|54993.53|\n",
      "|Tammy|54991.71|\n",
      "|Aaron|54989.45|\n",
      "|Craig| 54945.2|\n",
      "|Aaron| 54937.3|\n",
      "+-----+--------+\n",
      "\n"
     ]
    }
   ],
   "source": [
    "low_salary_df.createOrReplaceTempView(\"low_salary\")\n",
    "\n",
    "spark.sql(\"SELECT name, salary FROM low_salary ORDER BY salary DESC LIMIT 5\").show(5)"
   ]
  },
  {
   "cell_type": "code",
   "execution_count": 34,
   "metadata": {},
   "outputs": [
    {
     "name": "stdout",
     "output_type": "stream",
     "text": [
      "+-----------+---------+-------------+---------+----------+-------------+-------------------+-------------+---------------+----------------+\n",
      "|employee_id|     name|department_id|   salary| hire_date|department_id|    department_name|     location|salary_category|years_in_company|\n",
      "+-----------+---------+-------------+---------+----------+-------------+-------------------+-------------+---------------+----------------+\n",
      "|          1|  Caitlyn|          103|115959.78|2002-06-10|          103|Sales and Marketing|      Chicago|           High|              23|\n",
      "|          2|   Rachel|          104|100820.16|2009-07-01|          104|   Data Engineering|      Zapopan|           High|              16|\n",
      "|          3|   Carrie|          105|114421.44|1998-12-10|          105|       Data Science|      Seattle|           High|              27|\n",
      "|          4|    Renee|          104| 54688.13|1995-03-17|          104|   Data Engineering|      Zapopan|            Low|              30|\n",
      "|          5|Gabriella|          109|106267.03|1995-02-09|          109|   Customer Service|San Francisco|           High|              30|\n",
      "+-----------+---------+-------------+---------+----------+-------------+-------------------+-------------+---------------+----------------+\n",
      "only showing top 5 rows\n",
      "\n"
     ]
    }
   ],
   "source": [
    "from pyspark.sql.functions import year\n",
    "\n",
    "final_df = exam_df.withColumn(\"years_in_company\", 2025 - year(col(\"hire_date\")))\n",
    "\n",
    "final_df.show(n=5)"
   ]
  },
  {
   "cell_type": "code",
   "execution_count": 39,
   "metadata": {},
   "outputs": [
    {
     "name": "stdout",
     "output_type": "stream",
     "text": [
      "+-----------+-----------+----------+----------------+-------------+\n",
      "|employee_id|       name| hire_date|years_in_company|num_employees|\n",
      "+-----------+-----------+----------+----------------+-------------+\n",
      "|       3119|       Seth|1988-04-01|              37|            1|\n",
      "|        917|       Luke|1988-07-14|              37|            1|\n",
      "|       2888|Christopher|1988-04-12|              37|            1|\n",
      "|        597|     Rachel|1988-06-08|              37|            1|\n",
      "|       1391|        Amy|1988-06-17|              37|            1|\n",
      "+-----------+-----------+----------+----------------+-------------+\n",
      "only showing top 5 rows\n",
      "\n"
     ]
    }
   ],
   "source": [
    "final_df.createOrReplaceTempView(\"years_salary\")\n",
    "\n",
    "spark.sql(\"\"\"\n",
    "    SELECT employee_id, name, hire_date, years_in_company, COUNT(*) as num_employees\n",
    "    FROM years_salary\n",
    "    WHERE years_in_company = 37  \n",
    "    GROUP BY employee_id, name, hire_date, years_in_company\n",
    "    ORDER BY years_in_company DESC\n",
    "\"\"\").show(5)"
   ]
  },
  {
   "cell_type": "code",
   "execution_count": null,
   "metadata": {},
   "outputs": [],
   "source": [
    "sc.stop()"
   ]
  }
 ],
 "metadata": {
  "kernelspec": {
   "display_name": "Python 3 (ipykernel)",
   "language": "python",
   "name": "python3"
  },
  "language_info": {
   "codemirror_mode": {
    "name": "ipython",
    "version": 3
   },
   "file_extension": ".py",
   "mimetype": "text/x-python",
   "name": "python",
   "nbconvert_exporter": "python",
   "pygments_lexer": "ipython3",
   "version": "3.11.6"
  }
 },
 "nbformat": 4,
 "nbformat_minor": 4
}
