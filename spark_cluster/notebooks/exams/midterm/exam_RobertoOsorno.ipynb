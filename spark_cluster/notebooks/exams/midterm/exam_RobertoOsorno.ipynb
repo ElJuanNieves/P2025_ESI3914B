{
 "cells": [
  {
   "cell_type": "markdown",
   "metadata": {},
   "source": [
    "# <center> <img src=\"../../labs/img/ITESOLogo.png\" alt=\"ITESO\" width=\"480\" height=\"130\"> </center>\n",
    "# <center> **Departamento de Electrónica, Sistemas e Informática** </center>\n",
    "---\n",
    "### <center> **Procesamiento de Datos Masivos** </center>\n",
    "---\n",
    "### <center> **Primavera 2025** </center>\n",
    "---\n",
    "**Primer Examen**\n",
    "\n",
    "**Fecha**: 14 de Marzo del 2025\n",
    "\n",
    "**Nombre del estudiante**: Roberto Osorno Liz \n",
    "\n",
    "**Professor**: Pablo Camarillo Ramirez"
   ]
  },
  {
   "cell_type": "code",
   "execution_count": 1,
   "metadata": {},
   "outputs": [],
   "source": [
    "import findspark\n",
    "findspark.init()"
   ]
  },
  {
   "cell_type": "code",
   "execution_count": 2,
   "metadata": {},
   "outputs": [
    {
     "name": "stderr",
     "output_type": "stream",
     "text": [
      "Setting default log level to \"WARN\".\n",
      "To adjust logging level use sc.setLogLevel(newLevel). For SparkR, use setLogLevel(newLevel).\n",
      "25/03/14 14:57:34 WARN NativeCodeLoader: Unable to load native-hadoop library for your platform... using builtin-java classes where applicable\n"
     ]
    }
   ],
   "source": [
    "from pyspark.sql import SparkSession\n",
    "# spark://078b2e28e517:7077 cluster original\n",
    "\n",
    "spark = SparkSession.builder \\\n",
    "    .appName(\"SparkSQL-Exam-1-Roberto-Osorno-liz\") \\\n",
    "    .master(\"spark://fc91669459e3:7077\") \\\n",
    "    .config(\"spark.ui.port\",\"4040\") \\\n",
    "    .getOrCreate()\n",
<<<<<<< HEAD
    "sc = spark.sparkContext"
=======
    "\n",
    "# Create SparkContext\n",
    "sc = spark.sparkContext\n",
    "sc.setLogLevel(\"ERROR\")"
>>>>>>> b84ac38 (actualizacion)
   ]
  },
  {
   "cell_type": "code",
   "execution_count": 61,
   "metadata": {},
   "outputs": [
    {
     "name": "stdout",
     "output_type": "stream",
     "text": [
      "+-----------+--------------------+---------+-------------+---------+----------+\n",
      "|employee_id|       employee_info|     name|department_id|   salary| hire_date|\n",
      "+-----------+--------------------+---------+-------------+---------+----------+\n",
      "|          1|{'name': 'Caitlyn...|  Caitlyn|          103|115959.78|2002-06-10|\n",
      "|          2|{'name': 'Rachel'...|   Rachel|          104|100820.16|2009-07-01|\n",
      "|          3|{'name': 'Carrie'...|   Carrie|          105|114421.44|1998-12-10|\n",
      "|          4|{'name': 'Renee',...|    Renee|          104| 54688.13|1995-03-17|\n",
      "|          5|{'name': 'Gabriel...|Gabriella|          109|106267.03|1995-02-09|\n",
      "+-----------+--------------------+---------+-------------+---------+----------+\n",
      "only showing top 5 rows\n",
      "\n",
      "root\n",
      " |-- employee_id: integer (nullable = true)\n",
      " |-- employee_info: string (nullable = true)\n",
      " |-- name: string (nullable = true)\n",
      " |-- department_id: string (nullable = true)\n",
      " |-- salary: double (nullable = true)\n",
      " |-- hire_date: date (nullable = true)\n",
      "\n"
     ]
    }
   ],
   "source": [
    "from pyspark.sql import SparkSession\n",
    "from pyspark.sql.functions import col, avg, when, get_json_object, to_date\n",
    "from team_name.spark_utils import SparkUtils\n",
    "\n",
    "# 1. Read the data\n",
    "columns_info = [(\"employee_id\", \"integer\"), (\"employee_info\", \"string\")]\n",
    "employee_schema = SparkUtils.generate_schema(columns_info)\n",
    "employees_df = spark.read \\\n",
    "    .schema(employee_schema) \\\n",
    "    .csv(\"/home/jovyan/notebooks/data/exam_P2025_ESI3914B/employees.csv\", header=True)\n",
    "\n",
    "employees_df = employees_df \\\n",
    "    .withColumn(\"name\", get_json_object(employees_df.employee_info, '$.name')) \\\n",
    "    .withColumn(\"department_id\", get_json_object(employees_df.employee_info, '$.department_id')) \\\n",
    "    .withColumn(\"salary\", get_json_object(employees_df.employee_info, '$.salary').cast(\"double\")) \\\n",
    "    .withColumn(\"hire_date\", get_json_object(employees_df.employee_info, '$.hire_date').cast(\"date\"))\n",
    "\n",
    "employees_df.show(5)\n",
    "employees_df.printSchema()\n"
   ]
  },
  {
   "cell_type": "code",
   "execution_count": 62,
   "metadata": {},
   "outputs": [
    {
     "name": "stdout",
     "output_type": "stream",
     "text": [
      "+-------------------------------------------+--------------+\n",
      "|department_name                            |avg_low_salary|\n",
      "+-------------------------------------------+--------------+\n",
      "|Corporate Strategy and Business Development|41591.0       |\n",
      "|Sales and Marketing                        |41150.0       |\n",
      "|Data Engineering                           |41359.0       |\n",
      "|Finance and Accounting                     |42741.0       |\n",
      "|Research and Development                   |41426.0       |\n",
      "|Customer Service                           |42644.0       |\n",
      "|Legal                                      |41160.0       |\n",
      "|Data Science                               |41974.0       |\n",
      "|Operations                                 |40646.0       |\n",
      "|Human Resources                            |41752.0       |\n",
      "+-------------------------------------------+--------------+\n",
      "\n",
      "+-------------------------------------------+---------------+\n",
      "|department_name                            |avg_high_salary|\n",
      "+-------------------------------------------+---------------+\n",
      "|Corporate Strategy and Business Development|102741.0       |\n",
      "|Sales and Marketing                        |100840.0       |\n",
      "|Data Engineering                           |101626.0       |\n",
      "|Research and Development                   |98714.0        |\n",
      "|Finance and Accounting                     |100731.0       |\n",
      "|Customer Service                           |101585.0       |\n",
      "|Legal                                      |99366.0        |\n",
      "|Data Science                               |101904.0       |\n",
      "|Operations                                 |100170.0       |\n",
      "|Human Resources                            |104999.0       |\n",
      "+-------------------------------------------+---------------+\n",
      "\n"
     ]
    }
   ],
   "source": [
    "from pyspark.sql.functions import round \n",
    "columns_info = [(\"department_id\", \"integer\"), (\"department_name\", \"string\"), (\"location\", \"string\")]\n",
    "departments_schema = SparkUtils.generate_schema(columns_info)\n",
    "departments_df = spark.read \\\n",
    "    .schema(departments_schema) \\\n",
    "    .csv(\"/home/jovyan/notebooks/data/exam_P2025_ESI3914B/departments.csv\", header=True)\n",
    "\n",
    "# 2. Join the DataFrames\n",
    "enriched_employees_df = employees_df.join(departments_df, on=\"department_id\", how=\"inner\")\n",
    "\n",
    "# 5. Transformations (Using `when()`)\n",
    "enriched_employees_df = enriched_employees_df.withColumn(\n",
    "    \"salary_category\",\n",
    "    when(col(\"salary\") >= 55000, \"High\").otherwise(\"Low\")\n",
    ")\n",
    "# 6. Filter and group\n",
    "high_employees_df = enriched_employees_df.filter(enriched_employees_df.salary_category == \"High\")\n",
    "low_employees_df = enriched_employees_df.filter(enriched_employees_df.salary_category == \"Low\") \n",
    "grouped_high_employees_df = high_employees_df.groupBy(\"department_name\").agg(round(avg(\"salary\")).alias(\"avg_high_salary\"))\n",
    "grouped_low_employees_df = low_employees_df.groupBy(\"department_name\").agg(round(avg(\"salary\")).alias(\"avg_low_salary\"))\n",
    "grouped_low_employees_df.show(truncate=False)\n",
    "grouped_high_employees_df.show(truncate=False)\n",
    "\n"
   ]
  },
  {
   "cell_type": "code",
   "execution_count": 63,
   "metadata": {},
   "outputs": [
    {
     "name": "stdout",
     "output_type": "stream",
     "text": [
      "+---------+----------+\n",
      "|     name| hire_date|\n",
      "+---------+----------+\n",
      "|Gabriella|2018-09-14|\n",
      "|Katherine|2017-07-26|\n",
      "|     Ryan|1990-07-03|\n",
      "|  Caitlyn|2000-07-27|\n",
      "|     Mark|2007-11-06|\n",
      "+---------+----------+\n",
      "\n"
     ]
    }
   ],
   "source": [
    "# 7. Sort\n",
    "high_employees_df.select(\"name\", \"hire_date\").orderBy(\"salary\", ascending=False).limit(5).show()"
   ]
  },
  {
   "cell_type": "code",
   "execution_count": null,
   "metadata": {},
   "outputs": [
    {
     "name": "stdout",
     "output_type": "stream",
     "text": [
      "+-----+----------+\n",
      "| name| hire_date|\n",
      "+-----+----------+\n",
      "|Linda|2017-01-15|\n",
      "|Tammy|2004-12-07|\n",
      "|Aaron|2011-03-20|\n",
      "|Craig|2016-04-24|\n",
      "|Aaron|1994-06-25|\n",
      "+-----+----------+\n",
      "\n"
     ]
    }
   ],
   "source": [
    "low_employees_df.select(\"name\", \"hire_date\").orderBy(\"salary\", ascending=False).limit(5).show()"
   ]
  },
  {
   "cell_type": "code",
   "execution_count": 76,
   "metadata": {},
   "outputs": [
    {
     "data": {
      "text/plain": [
       "88"
      ]
     },
     "execution_count": 76,
     "metadata": {},
     "output_type": "execute_result"
    }
   ],
   "source": [
    "from pyspark.sql.functions import year, lit, desc\n",
    "enriched_employees_df = enriched_employees_df.withColumn(\"hire_year\", year(enriched_employees_df.hire_date))\n",
    "enriched_employees_df = enriched_employees_df.withColumn(\"this_year\", lit(2025))\n",
    "enriched_employees_df = enriched_employees_df.withColumn(\"years_in_company\", enriched_employees_df.this_year - enriched_employees_df.hire_year)\n",
    "enriched_employees_df.filter(enriched_employees_df.hire_year == 1988).select(\"name\", \"hire_date\").count()\n"
   ]
  },
  {
   "cell_type": "code",
   "execution_count": 4,
   "metadata": {},
   "outputs": [],
   "source": [
    "sc.stop()"
   ]
  },
  {
   "cell_type": "code",
   "execution_count": 3,
   "metadata": {},
   "outputs": [],
   "source": [
    "import importlib\n",
    "import whatsapp2.spark_utils as su"
   ]
  },
  {
   "cell_type": "code",
   "execution_count": 4,
   "metadata": {},
   "outputs": [
    {
     "data": {
      "text/plain": [
       "<module 'whatsapp2.spark_utils' from '/home/jovyan/notebooks/lib/whatsapp2/spark_utils.py'>"
      ]
     },
     "execution_count": 4,
     "metadata": {},
     "output_type": "execute_result"
    }
   ],
   "source": [
    "importlib.reload(su)"
   ]
  },
  {
   "cell_type": "code",
   "execution_count": 5,
   "metadata": {},
   "outputs": [],
   "source": [
    "columns_info_departments = [\n",
    "    (\"department_id\", \"integer\"),\n",
    "    (\"department_name\", \"string\"),\n",
    "    (\"location\", \"string\")\n",
    "]\n"
   ]
  },
  {
   "cell_type": "code",
   "execution_count": 6,
   "metadata": {},
   "outputs": [],
   "source": [
    "columns_info_employees = [\n",
    "    (\"employee_id\", \"integer\"),\n",
    "    (\"employee_info\", \"string\")\n",
    "]\n"
   ]
  },
  {
   "cell_type": "code",
   "execution_count": 7,
   "metadata": {},
   "outputs": [],
   "source": [
    "schema_departments = su.SparkUtils.generate_schema(columns_info_departments)\n",
    "schema_employees = su.SparkUtils.generate_schema(columns_info_employees)\n"
   ]
  },
  {
   "cell_type": "code",
   "execution_count": 8,
   "metadata": {},
   "outputs": [
    {
     "name": "stdout",
     "output_type": "stream",
     "text": [
      "['departments.csv', 'employees.csv', 'exam_P2025_ESI3914B.zip', 'netflix1.csv', 'netflix1.csv.zip']\n"
     ]
    }
   ],
   "source": [
    "import os\n",
    "\n",
    "# Listar los archivos en el directorio\n",
    "print(os.listdir(\"/home/jovyan/notebooks/data/\"))"
   ]
  },
  {
   "cell_type": "code",
   "execution_count": 9,
   "metadata": {},
   "outputs": [],
   "source": [
    "employee_df = spark \\\n",
    "                .read \\\n",
    "                .schema(schema_employees) \\\n",
    "                .option(\"header\", \"true\") \\\n",
    "                .csv(\"/home/jovyan/notebooks/data/employees.csv\")"
   ]
  },
  {
   "cell_type": "code",
   "execution_count": 10,
   "metadata": {},
   "outputs": [],
   "source": [
    "department_df = spark \\\n",
    "                .read \\\n",
    "                .schema(schema_departments) \\\n",
    "                .option(\"header\", \"true\") \\\n",
    "                .csv(\"/home/jovyan/notebooks/data/departments.csv\")"
   ]
  },
  {
   "cell_type": "code",
   "execution_count": 11,
   "metadata": {},
   "outputs": [],
   "source": [
    "import json"
   ]
  },
  {
   "cell_type": "code",
   "execution_count": 12,
   "metadata": {},
   "outputs": [],
   "source": [
    "from pyspark.sql.functions import col, get_json_object, when\n",
    "from pyspark.sql.types import StructType, StructField, IntegerType, StringType, DoubleType, DateType"
   ]
  },
  {
   "cell_type": "code",
   "execution_count": 13,
   "metadata": {},
   "outputs": [],
   "source": [
    "final_employees_df = employee_df \\\n",
    "    .withColumn(\"name\", get_json_object(col(\"employee_info\"), \"$.name\")) \\\n",
    "    .withColumn(\"department_id\", get_json_object(col(\"employee_info\"), \"$.department_id\").cast(\"integer\")) \\\n",
    "    .withColumn(\"salary\", get_json_object(col(\"employee_info\"), \"$.salary\").cast(\"double\")) \\\n",
    "    .withColumn(\"hire_date\", get_json_object(col(\"employee_info\"), \"$.hire_date\").cast(\"date\"))\n"
   ]
  },
  {
   "cell_type": "code",
   "execution_count": 14,
   "metadata": {},
   "outputs": [
    {
     "name": "stderr",
     "output_type": "stream",
     "text": [
      "                                                                                \r"
     ]
    },
    {
     "name": "stdout",
     "output_type": "stream",
     "text": [
      "+-----------+--------------------+---------+-------------+---------+----------+\n",
      "|employee_id|       employee_info|     name|department_id|   salary| hire_date|\n",
      "+-----------+--------------------+---------+-------------+---------+----------+\n",
      "|          1|{'name': 'Caitlyn...|  Caitlyn|          103|115959.78|2002-06-10|\n",
      "|          2|{'name': 'Rachel'...|   Rachel|          104|100820.16|2009-07-01|\n",
      "|          3|{'name': 'Carrie'...|   Carrie|          105|114421.44|1998-12-10|\n",
      "|          4|{'name': 'Renee',...|    Renee|          104| 54688.13|1995-03-17|\n",
      "|          5|{'name': 'Gabriel...|Gabriella|          109|106267.03|1995-02-09|\n",
      "+-----------+--------------------+---------+-------------+---------+----------+\n",
      "only showing top 5 rows\n",
      "\n"
     ]
    }
   ],
   "source": [
    "final_employees_df.cache()\n",
    "final_employees_df.show(5)"
   ]
  },
  {
   "cell_type": "code",
   "execution_count": 15,
   "metadata": {},
   "outputs": [],
   "source": [
    "final_employees_df = final_employees_df.withColumn(\n",
    "    \"salary_category\",\n",
    "    when(col(\"salary\") >= 55000, \"High\").otherwise(\"Low\")\n",
    ")\n"
   ]
  },
  {
   "cell_type": "code",
   "execution_count": 16,
   "metadata": {},
   "outputs": [],
   "source": [
    "high_salary_df = final_employees_df.filter(col(\"salary_category\") == \"High\")\n",
    "low_salary_df = final_employees_df.filter(col(\"salary_category\") == \"Low\")"
   ]
  },
  {
   "cell_type": "code",
   "execution_count": 17,
   "metadata": {},
   "outputs": [],
   "source": [
    "from pyspark.sql.functions import col, avg\n"
   ]
  },
  {
   "cell_type": "code",
   "execution_count": 18,
   "metadata": {},
   "outputs": [],
   "source": [
    "avg_high_salary_df = high_salary_df.groupBy(\"department_id\").agg(avg(\"salary\").alias(\"avg_salary\"))\n",
    "avg_low_salary_df = low_salary_df.groupBy(\"department_id\").agg(avg(\"salary\").alias(\"avg_salary\"))"
   ]
  },
  {
   "cell_type": "code",
   "execution_count": 19,
   "metadata": {},
   "outputs": [],
   "source": [
    "avg_high_salary_df = avg_high_salary_df.join(department_df, \"department_id\").select(\"department_name\", \"avg_salary\")\n",
    "avg_low_salary_df = avg_low_salary_df.join(department_df, \"department_id\").select(\"department_name\", \"avg_salary\")\n"
   ]
  },
  {
   "cell_type": "code",
   "execution_count": 20,
   "metadata": {},
   "outputs": [
    {
     "name": "stdout",
     "output_type": "stream",
     "text": [
      "+--------------------+------------------+\n",
      "|     department_name|        avg_salary|\n",
      "+--------------------+------------------+\n",
      "|Research and Deve...|  98714.3003086419|\n",
      "|     Human Resources|104999.43191489363|\n",
      "| Sales and Marketing|100839.65275449108|\n",
      "|               Legal|  99366.3129102167|\n",
      "|Finance and Accou...|100731.07877887784|\n",
      "|    Customer Service|101585.01600000002|\n",
      "|        Data Science|101903.63710344829|\n",
      "|Corporate Strateg...|102741.38324414717|\n",
      "|          Operations|100169.65621722837|\n",
      "|    Data Engineering|101626.29492163012|\n",
      "+--------------------+------------------+\n",
      "\n"
     ]
    }
   ],
   "source": [
    "avg_high_salary_df.show()"
   ]
  },
  {
   "cell_type": "code",
   "execution_count": 21,
   "metadata": {},
   "outputs": [
    {
     "name": "stdout",
     "output_type": "stream",
     "text": [
      "+--------------------+------------------+\n",
      "|     department_name|        avg_salary|\n",
      "+--------------------+------------------+\n",
      "|Research and Deve...| 41426.43521126761|\n",
      "|     Human Resources| 41751.64784810126|\n",
      "| Sales and Marketing| 41150.40277777778|\n",
      "|               Legal| 41160.26616438357|\n",
      "|Finance and Accou...|42740.952888888874|\n",
      "|    Customer Service|42644.472021276604|\n",
      "|        Data Science| 41974.18958333334|\n",
      "|Corporate Strateg...|41590.741833333326|\n",
      "|          Operations|40646.100705882345|\n",
      "|    Data Engineering| 41358.50794117647|\n",
      "+--------------------+------------------+\n",
      "\n"
     ]
    }
   ],
   "source": [
    "avg_low_salary_df.show()"
   ]
  },
  {
   "cell_type": "code",
   "execution_count": 22,
   "metadata": {},
   "outputs": [
    {
     "name": "stdout",
     "output_type": "stream",
     "text": [
      "+-----------+--------------------+---------+-------------+---------+----------+---------------+\n",
      "|employee_id|       employee_info|     name|department_id|   salary| hire_date|salary_category|\n",
      "+-----------+--------------------+---------+-------------+---------+----------+---------------+\n",
      "|       1778|{'name': 'Gabriel...|Gabriella|          101|149989.73|2018-09-14|           High|\n",
      "|       3621|{'name': 'Katheri...|Katherine|          101| 149979.3|2017-07-26|           High|\n",
      "|        346|{'name': 'Ryan', ...|     Ryan|          110| 149963.1|1990-07-03|           High|\n",
      "|       3807|{'name': 'Caitlyn...|  Caitlyn|          107|149956.54|2000-07-27|           High|\n",
      "|       3050|{'name': 'Mark', ...|     Mark|          107|149915.56|2007-11-06|           High|\n",
      "+-----------+--------------------+---------+-------------+---------+----------+---------------+\n",
      "\n",
      "+-----------+--------------------+-------+-------------+--------+----------+---------------+\n",
      "|employee_id|       employee_info|   name|department_id|  salary| hire_date|salary_category|\n",
      "+-----------+--------------------+-------+-------------+--------+----------+---------------+\n",
      "|       2240|{'name': 'Mallory...|Mallory|          106|30001.92|2020-05-27|            Low|\n",
      "|       3287|{'name': 'Kristen...|Kristen|          108|30039.24|2022-09-19|            Low|\n",
      "|       3067|{'name': 'Aaron',...|  Aaron|          105|30043.66|1991-07-24|            Low|\n",
      "|       3556|{'name': 'Lisa', ...|   Lisa|          102|30046.22|2015-08-25|            Low|\n",
      "|       1072|{'name': 'Ashley'...| Ashley|          110|30072.69|2008-08-25|            Low|\n",
      "+-----------+--------------------+-------+-------------+--------+----------+---------------+\n",
      "\n"
     ]
    }
   ],
   "source": [
    "top_5_high_salary_df = high_salary_df.orderBy(col(\"salary\").desc()).limit(5)\n",
    "top_5_low_salary_df = low_salary_df.orderBy(col(\"salary\").asc()).limit(5)\n",
    "\n",
    "top_5_high_salary_df.show()\n",
    "top_5_low_salary_df.show()"
   ]
  },
  {
   "cell_type": "code",
   "execution_count": 23,
   "metadata": {},
   "outputs": [],
   "source": [
    "from pyspark.sql.functions import col, datediff, current_date\n"
   ]
  },
  {
   "cell_type": "code",
   "execution_count": 24,
   "metadata": {},
   "outputs": [],
   "source": [
    "final_employees_df = final_employees_df.withColumn(\n",
    "    \"years_in_company\",\n",
    "    (datediff(current_date(), col(\"hire_date\")) / 365).cast(\"integer\")\n",
    ")"
   ]
  },
  {
   "cell_type": "code",
   "execution_count": 25,
   "metadata": {},
   "outputs": [],
   "source": [
    "max_years_in_company = final_employees_df.agg({\"years_in_company\": \"max\"}).collect()\n",
    "max_years_in_company = max_years_in_company[0][0]\n"
   ]
  },
  {
   "cell_type": "code",
   "execution_count": 26,
   "metadata": {},
   "outputs": [
    {
     "name": "stdout",
     "output_type": "stream",
     "text": [
      "+-----------+--------------------+------+-------------+---------+----------+---------------+----------------+\n",
      "|employee_id|       employee_info|  name|department_id|   salary| hire_date|salary_category|years_in_company|\n",
      "+-----------+--------------------+------+-------------+---------+----------+---------------+----------------+\n",
      "|        336|{'name': 'Brandy'...|Brandy|          107|124565.98|1988-03-17|           High|              37|\n",
      "|       2541|{'name': 'Monica'...|Monica|          102| 61910.62|1988-03-15|           High|              37|\n",
      "+-----------+--------------------+------+-------------+---------+----------+---------------+----------------+\n",
      "\n"
     ]
    }
   ],
   "source": [
    "employees_with_max_years = final_employees_df.filter(col(\"years_in_company\") == max_years_in_company)\n",
    "num_employees_with_max_years = employees_with_max_years.count()\n",
    "\n",
    "employees_with_max_years.show()"
   ]
  },
  {
   "cell_type": "markdown",
   "metadata": {},
   "source": [
    "# <center> <img src=\"../../labs/img/Roberto_Osorno_Jobs.png\" alt=\"Jobs_Examen_Roberto_Osorno\" width=\"800\" height=\"500\"> </center>\n"
   ]
  }
 ],
 "metadata": {
  "kernelspec": {
   "display_name": "Python 3 (ipykernel)",
   "language": "python",
   "name": "python3"
  },
  "language_info": {
   "codemirror_mode": {
    "name": "ipython",
    "version": 3
   },
   "file_extension": ".py",
   "mimetype": "text/x-python",
   "name": "python",
   "nbconvert_exporter": "python",
   "pygments_lexer": "ipython3",
   "version": "3.11.6"
  }
 },
 "nbformat": 4,
 "nbformat_minor": 2
}
