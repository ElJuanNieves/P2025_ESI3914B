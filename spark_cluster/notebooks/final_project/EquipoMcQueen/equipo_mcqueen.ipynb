{
 "cells": [
  {
   "cell_type": "markdown",
   "id": "71972a84",
   "metadata": {},
   "source": [
    "# <center> <img src=\"./img/ITESOLogo.png\" alt=\"ITESO\" width=\"480\" height=\"130\"> </center>\n",
    "# <center> **Departamento de Electrónica, Sistemas e Informática** </center>\n",
    "---\n",
    "## <center> **Proyecto Final: Website Activity** </center>\n",
    "---\n",
    "\n",
    "<center>\n",
    "\n",
    "**Equipo McQueen**: Marco Albanese, Vicente Siloe\n",
    "\n",
    "**Carrera**: Ingeniería en Sistemas Computacionales\n",
    "\n",
    "**Fecha**: 13 de mayo del 2025\n",
    "\n",
    "**Profesor**: Pablo Camarillo Ramirez\n",
    "\n",
    "</center>\n",
    "\n",
    "---\n",
    "### <center> **Primavera 2025** </center>\n",
    "---"
   ]
  },
  {
   "cell_type": "markdown",
   "id": "dfebc990",
   "metadata": {},
   "source": [
    "### **Introducción y definición del problema**"
   ]
  },
  {
   "cell_type": "markdown",
   "id": "76bd1d95",
   "metadata": {},
   "source": [
    "El procesamiento de datos en aplicaciones es esencial hoy en día para una multitud de usos y propósitos que proveen beneficios tanto a usuarios como empresas. En este proyecto, creado al culminar el curso de \"Procesamiento de datos masivos\", se pretende crear una aplicación que integre los conocimientos adquiridos en dicho curso. A través de una *pipeline* de *Big Data*, se busca producir, consumir, analizar y procesar datos de la actividad (tráfico) observada en una aplicación web.\n",
    "\n",
    "Los datos involucrados representan:\n",
    "- Interacciones de usuario\n",
    "- Páginas visitadas\n",
    "- Clicks\n",
    "- Dispositivos utilizados\n",
    "- Etc.\n",
    "\n",
    "Asimismo, se entrena un modelo de aprendizaje automático (*machine learning*) en base a los datos recolectados para predecir comportamientos de usuario, utilizando regresión logística. Los resultados de este modelo se presentan al usuario final a través de un *dashboard* de visualización de datos.\n",
    "\n",
    "Para la realización de este proyecto, se utilizaron tecnologías como **Jupyter Notebooks**, **Python**, **PySpark**, **Apache Kafka** y **Power BI**. En secciones posteriores, se describe con mayor detalle la arquitectura, implementación y funcionamiento del sistema."
   ]
  },
  {
   "cell_type": "markdown",
   "id": "984bd6e9",
   "metadata": {},
   "source": [
    "### **Arquitectura del sistema**"
   ]
  },
  {
   "cell_type": "markdown",
   "id": "9e48b7c9",
   "metadata": {},
   "source": [
    "La arquitectura del sistema es la siguiente:\n",
    "\n",
    "1. **Productores Kafka:** encargados de generar datos de actividad/tráfico web. Se utilizan dos acorde a la cantidad de integrantes en el equipo y dichos datos son publicados a dos tópicos individuales.\n",
    "2. **Kafka Broker:** intermediario para conectar productores con consumidr, donde se crean los tópicos necesarios.\n",
    "3. **Consumidor PySpark:** consumidor de los datos en tiempo real, guardando activamente en formato Parquet para formar un data lake.\n",
    "4. **Modelo de aprendizaje máquina (Machine Learning):** modelo de K-means para la segmentación de usuarios en base a su comportamiento navegando la web.\n",
    "5. **Visualización de datos:** se incluye un dashboard de visualización en base a los resultados obtenidos por el modelo de *machine learning*, realizado en Power BI.\n",
    "\n",
    "A continuación se presenta un diagrama visual de dicha arquitectura:\n",
    "\n",
    "\n",
    "# <img src=\"./img/system_architecture.png\" alt=\"System Architecture\">"
   ]
  },
  {
   "cell_type": "markdown",
   "id": "1337cf66",
   "metadata": {},
   "source": [
    "### **Justificación de las 5Vs**"
   ]
  },
  {
   "cell_type": "markdown",
   "id": "70182f5a",
   "metadata": {},
   "source": [
    "- **Volumen:** En una ejecución de 60 segundos, se generan aproximadamente 50 archivos en formato Parquet. Seleccionando dichos archivos y verificando sus propiedades, obtenemos un tamaño de 370 KB. En promedio, se observa un tamaño de 7.4 KB por archivo. Teniendo esta información, podemos generar la tabla de crecimiento:\n",
    "\n",
    "<center>\n",
    "\n",
    "| **Periodo de tiempo** | **Datos procesados** |\n",
    "|-----------------------|----------------------|\n",
    "| 1 segundo             | 7.4 KB               |\n",
    "| 1 minuto              | 444 KB               |\n",
    "| 1 hora                | 26.64 MB             |\n",
    "| 1 día                 | 639.36 MB            |\n",
    "| 1 año                 | 233.1 GB             |\n",
    "\n",
    "</center>\n",
    "\n",
    "- **Velocidad:** La cantidad de filas procesadas por segundo en la aplicación es de \n",
    "\n",
    "- **Variedad:** El esquema de datos producidos por el tráfico de la página web es el siguiente:\n",
    "\n",
    "<center>\n",
    "\n",
    "\n",
    "| **Campo**           | **Tipo de dato** |\n",
    "|---------------------|------------------|\n",
    "| event_id            | String           |\n",
    "| user_id             | String           |\n",
    "| page_url            | String           |\n",
    "| timestamp           | Timestamp        |\n",
    "| action_type         | String           |\n",
    "| browser             | String           |\n",
    "| timezone            | String           |\n",
    "| device_type         | String           |\n",
    "| click_coordinates_x | Integer          |\n",
    "| click_coordinates_y | Integer          |\n",
    "| session_id          | String           |\n",
    "| ip_address          | String           |\n",
    "\n",
    "</center>\n",
    "\n",
    "\n",
    "- **Veracidad:** Los datos generados para cada campo se asemejan a la realidad gracias al uso de la librería Faker. Por ejemplo, los IDs son generados en formato UUID de 128 bits, *timezone* representa una zona horaria real, *ip_address* sigue el formato de IPv4, etc. \n",
    "\n",
    "- **Valor:** los datos almacenados brindan información valiosa acerca de usuarios, sus intereses en páginas web, navegadores más comunes, tipos de dispositivos (ej. si se debería poner más esfuerzo en una página amigable a dispositivos móviles), la región a la que pertenecen, etc."
   ]
  },
  {
   "cell_type": "markdown",
   "id": "afae6570",
   "metadata": {},
   "source": [
    "### **Detalles de implementación**"
   ]
  },
  {
   "cell_type": "markdown",
   "id": "7f63e84b",
   "metadata": {},
   "source": [
    "- Para el levantamiento del broker de Kafka como también PySpark, se utilizaron contenedores creados a través de Docker Compose, una herramienta para correr aplicaciones multi-contenedor.\n",
    "\n",
    "- Para la creación de los productores de datos, se utilizaron dos Jupyter Notebooks localizados en la carpeta `lib`, llamados `producer_a.ipynb` y `producer_b.ipynb`. Estos mantienen parecido al ejemplo localizado en `notebooks/examples/producers/kafka_producer.ipynb`. \n",
    "  - A su vez, ambos productores importan una función auxiliar de un script de Python llamado `website_activity.py`, localizado en la carpeta `lib`. Este script utiliza la librería Faker para generar datos aleatorios.\n",
    "\n",
    "La implementación de esta aplicación sigue una estructura similar a laboratorios vistos en clase. Notablemente, se toma como inspiración a los siguientes archivos:\n",
    "\n",
    "- `example_structured_streaming_files_traffic_data.ipynb`\n",
    "- `example_structured_streaming_files.ipynb`\n",
    "- `example_structured_streaming_kafka_watermarking.ipynb`\n",
    "- `example_structured_streaming_kafka.ipynb`\n",
    "- `example_k_means.ipynb`"
   ]
  },
  {
   "cell_type": "markdown",
   "id": "fc15fb8c",
   "metadata": {},
   "source": [
    "### **Resultados y evaluación**"
   ]
  },
  {
   "cell_type": "markdown",
   "id": "237061f4",
   "metadata": {},
   "source": [
    "Al evaluar la puntuación de la silueta (silhouette) del modelo, se obtuvo un valor de 0.59, el cual no representa una muy alta calidad pero tampoco una muy mala. Al exporar los resultados de las predicciones a CSV para su uso en Power BI, se creó un dashboard sencillo. Este muestra información acerca de los usuarios como también estadísticas relevantes del tráfico web observado.\n",
    "\n",
    "Por un lado, se pueden observar la cantidad de clicks que se reciben por tipo de dispositivo, asi como la cantidad de *scrolleos* por cada tipo. Por otro lado, se observa la cantidad de usuarios que cae (en promedio) sobre un clúster en particular. Estos clusters representan un \"tipo de usuario\", donde se tiene, por ejemplo, a usuarios que hacen muchos clicks (cluster 3), como también usuarios que visitan muchas páginas (cluster 2).\n",
    "\n",
    "\n",
    "# <center> <img src=\"./img/sample_dashboard.png\" width=\"50%\"> </center>"
   ]
  },
  {
   "cell_type": "markdown",
   "id": "baea28ca",
   "metadata": {},
   "source": [
    "### **Conclusión**"
   ]
  },
  {
   "cell_type": "markdown",
   "id": "b300474f",
   "metadata": {},
   "source": [
    "La realización de este proyecto representa la culminación de los conocimientos adquiridos a lo largo del curso de Procesamiento de datos masivos. Se lograron integrar varios componentes de distintas lecturas y laboratorios de clase, principalmente a través de PySpark y Kafka. Por un lado, la parte más interesante ha sido la producción y consumo de datos para su posterior procesamiento. Por otro lado, identificamos que, como trabajo futuro, se podría mejorar el valor dado por el segmento de *machine learning*. Consideramos que esta parte, aunque relativamente fácil de implementar a nivel código, requiere de mayor planeamiento y decisiones acertadas. "
   ]
  },
  {
   "cell_type": "markdown",
   "id": "42b00724",
   "metadata": {},
   "source": [
    "---"
   ]
  },
  {
   "cell_type": "markdown",
   "id": "367fbc33",
   "metadata": {},
   "source": [
    "### **Código: Spark + Kafka**\n",
    "---"
   ]
  },
  {
   "cell_type": "markdown",
   "id": "2c132e4c",
   "metadata": {},
   "source": [
    "Previo a la ejecución del siguiente código, los contenedores de Docker para el cluster de Spark y el cluster de Kafka deben estar activos.\n",
    "\n",
    "Para ello, se puede utilizar los comandos:\n",
    "\n",
    "`docker compose up --scale spark-worker=2 -d`\n",
    "\n",
    "`docker compose up -d`\n",
    "\n",
    "En los directorios `spark_cluster` y `kafka_cluster` respectivamente. Nótese que se requerirán distintos IDs de contenedores en los bloques de código pertinentes."
   ]
  },
  {
   "cell_type": "markdown",
   "id": "e65f449c",
   "metadata": {},
   "source": [
    "#### Encontrar instalación de Spark"
   ]
  },
  {
   "cell_type": "code",
   "execution_count": 1,
   "id": "290cbc00",
   "metadata": {},
   "outputs": [],
   "source": [
    "import findspark\n",
    "findspark.init()"
   ]
  },
  {
   "cell_type": "markdown",
   "id": "2dc2bfa8",
   "metadata": {},
   "source": [
    "#### Creación de la conexión con el cluster de Spark"
   ]
  },
  {
   "cell_type": "code",
   "execution_count": 2,
   "id": "25653e48",
   "metadata": {},
   "outputs": [
    {
     "name": "stdout",
     "output_type": "stream",
     "text": [
      ":: loading settings :: url = jar:file:/opt/conda/spark-3.5.4-bin-hadoop3-scala2.13/jars/ivy-2.5.1.jar!/org/apache/ivy/core/settings/ivysettings.xml\n"
     ]
    },
    {
     "name": "stderr",
     "output_type": "stream",
     "text": [
      "Ivy Default Cache set to: /root/.ivy2/cache\n",
      "The jars for the packages stored in: /root/.ivy2/jars\n",
      "org.apache.spark#spark-sql-kafka-0-10_2.13 added as a dependency\n",
      ":: resolving dependencies :: org.apache.spark#spark-submit-parent-8a119b70-4169-4f59-a629-703b3b63efb6;1.0\n",
      "\tconfs: [default]\n",
      "\tfound org.apache.spark#spark-sql-kafka-0-10_2.13;3.5.4 in central\n",
      "\tfound org.apache.spark#spark-token-provider-kafka-0-10_2.13;3.5.4 in central\n",
      "\tfound org.apache.kafka#kafka-clients;3.4.1 in central\n",
      "\tfound org.lz4#lz4-java;1.8.0 in central\n",
      "\tfound org.xerial.snappy#snappy-java;1.1.10.5 in central\n",
      "\tfound org.slf4j#slf4j-api;2.0.7 in central\n",
      "\tfound org.apache.hadoop#hadoop-client-runtime;3.3.4 in central\n",
      "\tfound org.apache.hadoop#hadoop-client-api;3.3.4 in central\n",
      "\tfound commons-logging#commons-logging;1.1.3 in central\n",
      "\tfound com.google.code.findbugs#jsr305;3.0.0 in central\n",
      "\tfound org.scala-lang.modules#scala-parallel-collections_2.13;1.0.4 in central\n",
      "\tfound org.apache.commons#commons-pool2;2.11.1 in central\n",
      "downloading https://repo1.maven.org/maven2/org/apache/spark/spark-sql-kafka-0-10_2.13/3.5.4/spark-sql-kafka-0-10_2.13-3.5.4.jar ...\n",
      "\t[SUCCESSFUL ] org.apache.spark#spark-sql-kafka-0-10_2.13;3.5.4!spark-sql-kafka-0-10_2.13.jar (150ms)\n",
      "downloading https://repo1.maven.org/maven2/org/apache/spark/spark-token-provider-kafka-0-10_2.13/3.5.4/spark-token-provider-kafka-0-10_2.13-3.5.4.jar ...\n",
      "\t[SUCCESSFUL ] org.apache.spark#spark-token-provider-kafka-0-10_2.13;3.5.4!spark-token-provider-kafka-0-10_2.13.jar (90ms)\n",
      "downloading https://repo1.maven.org/maven2/org/scala-lang/modules/scala-parallel-collections_2.13/1.0.4/scala-parallel-collections_2.13-1.0.4.jar ...\n",
      "\t[SUCCESSFUL ] org.scala-lang.modules#scala-parallel-collections_2.13;1.0.4!scala-parallel-collections_2.13.jar (217ms)\n",
      "downloading https://repo1.maven.org/maven2/org/apache/kafka/kafka-clients/3.4.1/kafka-clients-3.4.1.jar ...\n",
      "\t[SUCCESSFUL ] org.apache.kafka#kafka-clients;3.4.1!kafka-clients.jar (520ms)\n",
      "downloading https://repo1.maven.org/maven2/com/google/code/findbugs/jsr305/3.0.0/jsr305-3.0.0.jar ...\n",
      "\t[SUCCESSFUL ] com.google.code.findbugs#jsr305;3.0.0!jsr305.jar (81ms)\n",
      "downloading https://repo1.maven.org/maven2/org/apache/commons/commons-pool2/2.11.1/commons-pool2-2.11.1.jar ...\n",
      "\t[SUCCESSFUL ] org.apache.commons#commons-pool2;2.11.1!commons-pool2.jar (95ms)\n",
      "downloading https://repo1.maven.org/maven2/org/apache/hadoop/hadoop-client-runtime/3.3.4/hadoop-client-runtime-3.3.4.jar ...\n",
      "\t[SUCCESSFUL ] org.apache.hadoop#hadoop-client-runtime;3.3.4!hadoop-client-runtime.jar (2808ms)\n",
      "downloading https://repo1.maven.org/maven2/org/lz4/lz4-java/1.8.0/lz4-java-1.8.0.jar ...\n",
      "\t[SUCCESSFUL ] org.lz4#lz4-java;1.8.0!lz4-java.jar (141ms)\n",
      "downloading https://repo1.maven.org/maven2/org/xerial/snappy/snappy-java/1.1.10.5/snappy-java-1.1.10.5.jar ...\n",
      "\t[SUCCESSFUL ] org.xerial.snappy#snappy-java;1.1.10.5!snappy-java.jar(bundle) (299ms)\n",
      "downloading https://repo1.maven.org/maven2/org/slf4j/slf4j-api/2.0.7/slf4j-api-2.0.7.jar ...\n",
      "\t[SUCCESSFUL ] org.slf4j#slf4j-api;2.0.7!slf4j-api.jar (86ms)\n",
      "downloading https://repo1.maven.org/maven2/org/apache/hadoop/hadoop-client-api/3.3.4/hadoop-client-api-3.3.4.jar ...\n",
      "\t[SUCCESSFUL ] org.apache.hadoop#hadoop-client-api;3.3.4!hadoop-client-api.jar (1729ms)\n",
      "downloading https://repo1.maven.org/maven2/commons-logging/commons-logging/1.1.3/commons-logging-1.1.3.jar ...\n",
      "\t[SUCCESSFUL ] commons-logging#commons-logging;1.1.3!commons-logging.jar (84ms)\n",
      ":: resolution report :: resolve 4717ms :: artifacts dl 6307ms\n",
      "\t:: modules in use:\n",
      "\tcom.google.code.findbugs#jsr305;3.0.0 from central in [default]\n",
      "\tcommons-logging#commons-logging;1.1.3 from central in [default]\n",
      "\torg.apache.commons#commons-pool2;2.11.1 from central in [default]\n",
      "\torg.apache.hadoop#hadoop-client-api;3.3.4 from central in [default]\n",
      "\torg.apache.hadoop#hadoop-client-runtime;3.3.4 from central in [default]\n",
      "\torg.apache.kafka#kafka-clients;3.4.1 from central in [default]\n",
      "\torg.apache.spark#spark-sql-kafka-0-10_2.13;3.5.4 from central in [default]\n",
      "\torg.apache.spark#spark-token-provider-kafka-0-10_2.13;3.5.4 from central in [default]\n",
      "\torg.lz4#lz4-java;1.8.0 from central in [default]\n",
      "\torg.scala-lang.modules#scala-parallel-collections_2.13;1.0.4 from central in [default]\n",
      "\torg.slf4j#slf4j-api;2.0.7 from central in [default]\n",
      "\torg.xerial.snappy#snappy-java;1.1.10.5 from central in [default]\n",
      "\t---------------------------------------------------------------------\n",
      "\t|                  |            modules            ||   artifacts   |\n",
      "\t|       conf       | number| search|dwnlded|evicted|| number|dwnlded|\n",
      "\t---------------------------------------------------------------------\n",
      "\t|      default     |   12  |   12  |   12  |   0   ||   12  |   12  |\n",
      "\t---------------------------------------------------------------------\n",
      ":: retrieving :: org.apache.spark#spark-submit-parent-8a119b70-4169-4f59-a629-703b3b63efb6\n",
      "\tconfs: [default]\n",
      "\t12 artifacts copied, 0 already retrieved (58112kB/86ms)\n",
      "25/05/13 10:02:43 WARN NativeCodeLoader: Unable to load native-hadoop library for your platform... using builtin-java classes where applicable\n",
      "Setting default log level to \"WARN\".\n",
      "To adjust logging level use sc.setLogLevel(newLevel). For SparkR, use setLogLevel(newLevel).\n"
     ]
    }
   ],
   "source": [
    "from pyspark.sql import SparkSession\n",
    "\n",
    "spark = SparkSession.builder \\\n",
    "    .appName(\"Final-Project-Equipo-McQueen\") \\\n",
    "    .master(\"spark://86bb6250a6a5:7077\") \\\n",
    "    .config(\"spark.ui.port\",\"4040\") \\\n",
    "    .config(\"spark.jars.packages\", \"org.apache.spark:spark-sql-kafka-0-10_2.13:3.5.4\") \\\n",
    "    .getOrCreate()\n",
    "\n",
    "sc = spark.sparkContext"
   ]
  },
  {
   "cell_type": "markdown",
   "id": "b05cc495",
   "metadata": {},
   "source": [
    "#### Creación de tópicos de Kafka\n",
    "\n",
    "Los siguientes comandos deben ser ejecutados en la terminal para que los productores puedan enviar mensajes a los tópicos:\n",
    "\n",
    "```\n",
    "docker exec -it e28752d5f2a7 /opt/kafka/bin/kafka-topics.sh --create --zookeeper zookeeper:2181 --replication-factor 1 --partitions 1 --topic producer-a\n",
    "\n",
    "docker exec -it 92e2deed66d2 /opt/kafka/bin/kafka-topics.sh --create --zookeeper zookeeper:2181 --replication-factor 1 --partitions 1 --topic producer-b\n",
    "```"
   ]
  },
  {
   "cell_type": "markdown",
   "id": "fbca9b85",
   "metadata": {},
   "source": [
    "#### Ejecución de productores\n",
    "\n",
    "Para inicializar a los productores, ejecute las respectivas celdas en los Jupyter Notebooks (`producer-a.ipynb`, `producer-b.ipynb`) bajo el directorio `spark_cluster/notebooks/lib/equipo_mcqueen/`"
   ]
  },
  {
   "cell_type": "markdown",
   "id": "9e3ca3bd",
   "metadata": {},
   "source": [
    "#### Creación del Kafka stream"
   ]
  },
  {
   "cell_type": "code",
   "execution_count": 3,
   "id": "784bb33c",
   "metadata": {},
   "outputs": [
    {
     "name": "stdout",
     "output_type": "stream",
     "text": [
      "root\n",
      " |-- key: binary (nullable = true)\n",
      " |-- value: binary (nullable = true)\n",
      " |-- topic: string (nullable = true)\n",
      " |-- partition: integer (nullable = true)\n",
      " |-- offset: long (nullable = true)\n",
      " |-- timestamp: timestamp (nullable = true)\n",
      " |-- timestampType: integer (nullable = true)\n",
      "\n"
     ]
    }
   ],
   "source": [
    "kafka_lines = spark \\\n",
    "                .readStream \\\n",
    "                .format(\"kafka\") \\\n",
    "                .option(\"kafka.bootstrap.servers\", \"e28752d5f2a7:9093\") \\\n",
    "                .option(\"subscribe\", \"producer-a,producer-b\") \\\n",
    "                .load()\n",
    "\n",
    "kafka_lines.printSchema()"
   ]
  },
  {
   "cell_type": "markdown",
   "id": "be47f3fb",
   "metadata": {},
   "source": [
    "#### Transformar datos en cadenas (strings)"
   ]
  },
  {
   "cell_type": "code",
   "execution_count": 4,
   "id": "cf0e8197",
   "metadata": {},
   "outputs": [],
   "source": [
    "kafka_df = kafka_lines.withColumn(\"value_str\", kafka_lines.value.cast(\"string\"))"
   ]
  },
  {
   "cell_type": "markdown",
   "id": "45f5206e",
   "metadata": {},
   "source": [
    "#### Creación del query (sink)"
   ]
  },
  {
   "cell_type": "code",
   "execution_count": 7,
   "id": "990b183c",
   "metadata": {},
   "outputs": [
    {
     "name": "stderr",
     "output_type": "stream",
     "text": [
      "25/05/13 10:05:05 WARN ResolveWriteToStream: spark.sql.adaptive.enabled is not supported in streaming DataFrames/Datasets and will be disabled.\n",
      "25/05/13 10:05:05 WARN AdminClientConfig: These configurations '[key.deserializer, value.deserializer, enable.auto.commit, max.poll.records, auto.offset.reset]' were supplied but are not used yet.\n",
      "                                                                                \r"
     ]
    },
    {
     "data": {
      "text/plain": [
       "False"
      ]
     },
     "execution_count": 7,
     "metadata": {},
     "output_type": "execute_result"
    }
   ],
   "source": [
    "query = kafka_df \\\n",
    "                .writeStream \\\n",
    "                .trigger(processingTime=\"3 seconds\") \\\n",
    "                .outputMode(\"append\") \\\n",
    "                .format(\"parquet\") \\\n",
    "                .option(\"path\", \"/home/jovyan/notebooks/data/\") \\\n",
    "                .option(\"checkpointLocation\", \"/home/jovyan/checkpoint\") \\\n",
    "                .option(\"truncate\", \"false\") \\\n",
    "                .start()\n",
    "\n",
    "query.awaitTermination(60)"
   ]
  },
  {
   "cell_type": "markdown",
   "id": "e9353ec2",
   "metadata": {},
   "source": [
    "#### Terminación de query y context"
   ]
  },
  {
   "cell_type": "code",
   "execution_count": 8,
   "id": "be624de1",
   "metadata": {},
   "outputs": [],
   "source": [
    "query.stop()"
   ]
  },
  {
   "cell_type": "code",
   "execution_count": 9,
   "id": "db3a9441",
   "metadata": {},
   "outputs": [],
   "source": [
    "sc.stop()"
   ]
  },
  {
   "cell_type": "markdown",
   "id": "5ef8df6d",
   "metadata": {},
   "source": [
    "### **Código: Machine Learning**\n",
    "---"
   ]
  },
  {
   "cell_type": "markdown",
   "id": "ff68342f",
   "metadata": {},
   "source": [
    "#### Encontrar instalación de Spark"
   ]
  },
  {
   "cell_type": "code",
   "execution_count": 1,
   "id": "a3995d46",
   "metadata": {},
   "outputs": [],
   "source": [
    "import findspark\n",
    "findspark.init()"
   ]
  },
  {
   "cell_type": "markdown",
   "id": "5262ac63",
   "metadata": {},
   "source": [
    "#### Creación de la conexión con el cluster de Spark"
   ]
  },
  {
   "cell_type": "code",
   "execution_count": 2,
   "id": "18ec6b5c",
   "metadata": {},
   "outputs": [
    {
     "name": "stderr",
     "output_type": "stream",
     "text": [
      "Setting default log level to \"WARN\".\n",
      "To adjust logging level use sc.setLogLevel(newLevel). For SparkR, use setLogLevel(newLevel).\n",
      "25/05/13 10:07:26 WARN NativeCodeLoader: Unable to load native-hadoop library for your platform... using builtin-java classes where applicable\n"
     ]
    }
   ],
   "source": [
    "from pyspark.sql import SparkSession\n",
    "\n",
    "spark = SparkSession.builder \\\n",
    "    .appName(\"Equipo-McQueen-KMeans\") \\\n",
    "    .master(\"spark://86bb6250a6a5:7077\") \\\n",
    "    .config(\"spark.ui.port\",\"4040\") \\\n",
    "    .getOrCreate()\n",
    "\n",
    "sc = spark.sparkContext\n",
    "spark.conf.set(\"spark.sql.shuffle.partitions\", \"5\")"
   ]
  },
  {
   "cell_type": "markdown",
   "id": "3296cc5e",
   "metadata": {},
   "source": [
    "#### Preparación de datos"
   ]
  },
  {
   "cell_type": "code",
   "execution_count": 3,
   "id": "4aafb618",
   "metadata": {},
   "outputs": [
    {
     "name": "stderr",
     "output_type": "stream",
     "text": [
      "                                                                                \r"
     ]
    },
    {
     "name": "stdout",
     "output_type": "stream",
     "text": [
      "root\n",
      " |-- key: binary (nullable = true)\n",
      " |-- value: binary (nullable = true)\n",
      " |-- topic: string (nullable = true)\n",
      " |-- partition: integer (nullable = true)\n",
      " |-- offset: long (nullable = true)\n",
      " |-- timestamp: timestamp (nullable = true)\n",
      " |-- timestampType: integer (nullable = true)\n",
      " |-- value_str: string (nullable = true)\n",
      "\n"
     ]
    }
   ],
   "source": [
    "website_activity_df = spark.read.parquet(\"/home/jovyan/notebooks/data/\")\n",
    "website_activity_df.printSchema()"
   ]
  },
  {
   "cell_type": "markdown",
   "id": "7aa8986a",
   "metadata": {},
   "source": [
    "#### Verificación de datos generados"
   ]
  },
  {
   "cell_type": "code",
   "execution_count": 4,
   "id": "d6ce98cd",
   "metadata": {},
   "outputs": [
    {
     "name": "stderr",
     "output_type": "stream",
     "text": [
      "                                                                                \r"
     ]
    },
    {
     "name": "stdout",
     "output_type": "stream",
     "text": [
      "+------------------------------------------------------------------------------------------------------------------------------------------------------------------------------------------------------------------------------------------------------------------------------------------------------------------------------------------------------------------------------------------------------------------------------------------------------------------------------------------------------------------------------------------------------------------------------------------------------------------------------+\n",
      "|value_str                                                                                                                                                                                                                                                                                                                                                                                                                                                                                                                                                                                                                     |\n",
      "+------------------------------------------------------------------------------------------------------------------------------------------------------------------------------------------------------------------------------------------------------------------------------------------------------------------------------------------------------------------------------------------------------------------------------------------------------------------------------------------------------------------------------------------------------------------------------------------------------------------------------+\n",
      "|{\"event_id\": \"379463de-d287-4c55-ba65-ebedf4ca1c76\", \"user_id\": \"13710815-68da-44b5-aeb2-5c8c5e1c5362\", \"page_url\": \"https://www.pugh.biz/categories/explorelogin.html\", \"timestamp\": \"2025-05-13T10:05:15.206208Z\", \"action_type\": \"view\", \"browser\": \"Mozilla/5.0 (iPad; CPU iPad OS 3_2_2 like Mac OS X) AppleWebKit/533.0 (KHTML, like Gecko) CriOS/52.0.881.0 Mobile/76J101 Safari/533.0\", \"timezone\": \"America/Paramaribo\", \"device_type\": \"tablet\", \"click_coordinates_x\": 538, \"click_coordinates_y\": 47, \"session_id\": \"31315400-7385-47ef-8386-c8682223ba1d\", \"ip_address\": \"129.52.148.175\"}                       |\n",
      "|{\"event_id\": \"588ab542-6e80-41cf-ab1b-b8985b311453\", \"user_id\": \"68f6674c-45f6-4aea-a2f9-1434c5dcd8ff\", \"page_url\": \"http://www.ashley.com/tagsfaq.php\", \"timestamp\": \"2025-05-13T10:05:15.485772Z\", \"action_type\": \"click\", \"browser\": \"Opera/9.50.(X11; Linux i686; km-KH) Presto/2.9.161 Version/12.00\", \"timezone\": \"Asia/Jerusalem\", \"device_type\": \"desktop\", \"click_coordinates_x\": 663, \"click_coordinates_y\": 841, \"session_id\": \"524b7811-adba-487c-b411-a7385eb3e2d8\", \"ip_address\": \"96.7.234.8\"}                                                                                                                 |\n",
      "|{\"event_id\": \"6651995e-2176-4567-8462-c40abc99e7ee\", \"user_id\": \"e27401cc-0416-4a2f-abf6-c2128f059a0e\", \"page_url\": \"http://www.christensen.biz/tag/searchregister.html\", \"timestamp\": \"2025-05-13T10:05:15.834602Z\", \"action_type\": \"view\", \"browser\": \"Mozilla/5.0 (Android 4.1.1; Mobile; rv:6.0) Gecko/6.0 Firefox/6.0\", \"timezone\": \"Europe/Budapest\", \"device_type\": \"mobile\", \"click_coordinates_x\": 249, \"click_coordinates_y\": 2, \"session_id\": \"cfeb5531-c734-4842-8cec-ac64106864ce\", \"ip_address\": \"114.154.149.158\"}                                                                                             |\n",
      "|{\"event_id\": \"5bd34e30-3f25-40e5-b9b9-c3fd48c3cf5e\", \"user_id\": \"c4b3b94e-3005-440e-8f3b-ab126f93bce0\", \"page_url\": \"https://www.hill-hartman.com/tag/category/exploreauthor.jsp\", \"timestamp\": \"2025-05-13T10:05:16.095716Z\", \"action_type\": \"click\", \"browser\": \"Mozilla/5.0 (iPod; U; CPU iPhone OS 3_0 like Mac OS X; de-LU) AppleWebKit/532.5.7 (KHTML, like Gecko) Version/3.0.5 Mobile/8B112 Safari/6532.5.7\", \"timezone\": \"Pacific/Kwajalein\", \"device_type\": \"tablet\", \"click_coordinates_x\": 1017, \"click_coordinates_y\": 444, \"session_id\": \"5ad44f26-9228-40d1-a050-7ebefb887176\", \"ip_address\": \"77.167.184.225\"}|\n",
      "|{\"event_id\": \"ff21cf34-d08e-41fc-9639-b1b7cdf0428f\", \"user_id\": \"19b3768a-2ab0-4f1b-95c7-09e528bd28fb\", \"page_url\": \"https://www.cabrera-hinton.com/tagshomepage.html\", \"timestamp\": \"2025-05-13T10:05:16.660667Z\", \"action_type\": \"view\", \"browser\": \"Mozilla/5.0 (Android 2.2.2; Mobile; rv:19.0) Gecko/19.0 Firefox/19.0\", \"timezone\": \"Asia/Makassar\", \"device_type\": \"desktop\", \"click_coordinates_x\": 1905, \"click_coordinates_y\": 500, \"session_id\": \"47133322-80d3-4401-aa6e-54862bb415f9\", \"ip_address\": \"100.151.119.207\"}                                                                                          |\n",
      "|{\"event_id\": \"196b8b04-3369-4af7-92b0-7e995db252aa\", \"user_id\": \"224a6729-47c8-46b8-84a8-940986aebca6\", \"page_url\": \"http://james.info/category/exploreregister.php\", \"timestamp\": \"2025-05-13T10:05:16.818115Z\", \"action_type\": \"scroll\", \"browser\": \"Mozilla/5.0 (iPad; CPU iPad OS 16_7_7 like Mac OS X) AppleWebKit/533.2 (KHTML, like Gecko) CriOS/40.0.814.0 Mobile/71L273 Safari/533.2\", \"timezone\": \"Asia/Jerusalem\", \"device_type\": \"tablet\", \"click_coordinates_x\": 726, \"click_coordinates_y\": 239, \"session_id\": \"227cfe97-5591-4b41-b2f4-365870b18ad6\", \"ip_address\": \"172.238.6.201\"}                           |\n",
      "|{\"event_id\": \"1e39fa56-14c0-4e6d-be51-32556ef4cea0\", \"user_id\": \"dc4cd863-6aaf-4658-81be-8edcdab7773c\", \"page_url\": \"http://neal-sandoval.com/categoriesmain.htm\", \"timestamp\": \"2025-05-13T10:05:17.092945Z\", \"action_type\": \"view\", \"browser\": \"Mozilla/5.0 (compatible; MSIE 8.0; Windows NT 5.01; Trident/4.1)\", \"timezone\": \"Asia/Manila\", \"device_type\": \"mobile\", \"click_coordinates_x\": 406, \"click_coordinates_y\": 865, \"session_id\": \"813e16a5-c70c-4563-95c6-3c53cc3ae8f0\", \"ip_address\": \"87.242.175.159\"}                                                                                                        |\n",
      "|{\"event_id\": \"3caa829f-8397-4bb3-b10b-ae4c99814544\", \"user_id\": \"d0a13fd0-55d6-484b-bf0c-6469e96b0800\", \"page_url\": \"http://www.johnson-curry.com/main/searchfaq.html\", \"timestamp\": \"2025-05-13T10:05:17.232059Z\", \"action_type\": \"scroll\", \"browser\": \"Mozilla/5.0 (Windows NT 6.2) AppleWebKit/534.1 (KHTML, like Gecko) Chrome/18.0.803.0 Safari/534.1\", \"timezone\": \"America/Guatemala\", \"device_type\": \"desktop\", \"click_coordinates_x\": 666, \"click_coordinates_y\": 1048, \"session_id\": \"e4a67a83-0393-49ba-abd4-124599ac707a\", \"ip_address\": \"21.146.175.226\"}                                                        |\n",
      "|{\"event_id\": \"6a46c84f-985a-48e2-90fa-b8186c1b2075\", \"user_id\": \"2c1c31b6-72dd-4ea4-9ea2-bbb82eaeeae0\", \"page_url\": \"https://page.biz/tagscategory.jsp\", \"timestamp\": \"2025-05-13T10:05:17.382421Z\", \"action_type\": \"scroll\", \"browser\": \"Mozilla/5.0 (Windows; U; Windows NT 11.0) AppleWebKit/532.14.2 (KHTML, like Gecko) Version/5.0.4 Safari/532.14.2\", \"timezone\": \"Asia/Qyzylorda\", \"device_type\": \"desktop\", \"click_coordinates_x\": 1871, \"click_coordinates_y\": 195, \"session_id\": \"4bb0b9ba-63ff-402a-a692-af15388c51dd\", \"ip_address\": \"209.217.101.126\"}                                                          |\n",
      "|{\"event_id\": \"a2e97f64-5b14-4128-8310-312ee05607a5\", \"user_id\": \"eef69047-08be-489a-93a9-db885b4746c7\", \"page_url\": \"https://thomas.biz/posts/categories/appregister.jsp\", \"timestamp\": \"2025-05-13T10:05:17.801525Z\", \"action_type\": \"click\", \"browser\": \"Mozilla/5.0 (compatible; MSIE 5.0; Windows CE; Trident/5.1)\", \"timezone\": \"Pacific/Kwajalein\", \"device_type\": \"mobile\", \"click_coordinates_x\": 637, \"click_coordinates_y\": 1016, \"session_id\": \"1b6103a4-788a-4630-98d3-759719f2b5eb\", \"ip_address\": \"95.254.243.192\"}                                                                                             |\n",
      "|{\"event_id\": \"bab38bfd-83fa-4a4b-9e66-0a4669f5ceae\", \"user_id\": \"56dc9e31-8ce8-4607-8183-8410ff7225e3\", \"page_url\": \"https://www.bauer-johnson.com/mainsearch.htm\", \"timestamp\": \"2025-05-13T10:05:27.111643Z\", \"action_type\": \"view\", \"browser\": \"Mozilla/5.0 (X11; Linux x86_64; rv:1.9.6.20) Gecko/7237-06-21 02:52:11.868652 Firefox/3.6.13\", \"timezone\": \"America/Grenada\", \"device_type\": \"desktop\", \"click_coordinates_x\": 696, \"click_coordinates_y\": 662, \"session_id\": \"47339aad-bfd9-4fb5-a757-a8c2a276c6db\", \"ip_address\": \"20.1.240.17\"}                                                                         |\n",
      "|{\"event_id\": \"e52f98c3-bc3f-4646-9ee2-6588fb2394b7\", \"user_id\": \"60d71fb1-45a4-4f31-aa1b-d530c53a6df7\", \"page_url\": \"https://www.smith.net/tag/applogin.html\", \"timestamp\": \"2025-05-13T10:05:27.460011Z\", \"action_type\": \"scroll\", \"browser\": \"Mozilla/5.0 (Macintosh; U; PPC Mac OS X 10_11_5 rv:6.0; kw-GB) AppleWebKit/531.39.4 (KHTML, like Gecko) Version/4.0 Safari/531.39.4\", \"timezone\": \"Europe/Zurich\", \"device_type\": \"desktop\", \"click_coordinates_x\": 518, \"click_coordinates_y\": 777, \"session_id\": \"96760f26-58f1-4df4-b4d5-71cffac38dc8\", \"ip_address\": \"169.25.199.195\"}                                    |\n",
      "|{\"event_id\": \"20ef261c-aa27-4e13-9432-3755a0837889\", \"user_id\": \"3ed522c4-e271-4309-9070-65b9be278f46\", \"page_url\": \"https://www.gallegos.info/app/categories/wp-contentprivacy.php\", \"timestamp\": \"2025-05-13T10:05:27.585666Z\", \"action_type\": \"view\", \"browser\": \"Mozilla/5.0 (Macintosh; Intel Mac OS X 10_6_4; rv:1.9.5.20) Gecko/9456-01-16 21:13:15.892578 Firefox/3.8\", \"timezone\": \"America/St_Lucia\", \"device_type\": \"desktop\", \"click_coordinates_x\": 942, \"click_coordinates_y\": 971, \"session_id\": \"99c2e793-c9f9-4b45-af25-f069ee5bb3ad\", \"ip_address\": \"142.6.207.225\"}                                        |\n",
      "|{\"event_id\": \"264fa9bc-11d4-4438-8d6a-bfb21ea7f3a8\", \"user_id\": \"862625ca-eb64-4fb1-90f3-7ee276f3a55e\", \"page_url\": \"https://www.brooks.info/search/tagcategory.php\", \"timestamp\": \"2025-05-13T10:05:27.906260Z\", \"action_type\": \"scroll\", \"browser\": \"Opera/9.51.(X11; Linux i686; cv-RU) Presto/2.9.190 Version/12.00\", \"timezone\": \"America/Antigua\", \"device_type\": \"tablet\", \"click_coordinates_x\": 754, \"click_coordinates_y\": 539, \"session_id\": \"f14580e8-361c-44c2-b43f-4a5bd18a4474\", \"ip_address\": \"215.47.180.237\"}                                                                                               |\n",
      "|{\"event_id\": \"55bf504a-0423-462b-b0b7-c606de3ccfa2\", \"user_id\": \"6dd92ab1-94f4-49ce-978b-03cd1424d028\", \"page_url\": \"http://www.carpenter-scott.com/categoryhome.htm\", \"timestamp\": \"2025-05-13T10:05:28.034995Z\", \"action_type\": \"scroll\", \"browser\": \"Mozilla/5.0 (Android 12; Mobile; rv:29.0) Gecko/29.0 Firefox/29.0\", \"timezone\": \"Europe/Monaco\", \"device_type\": \"mobile\", \"click_coordinates_x\": 1143, \"click_coordinates_y\": 784, \"session_id\": \"9c56244a-ebf2-4715-a137-e2866881a3e9\", \"ip_address\": \"84.22.218.160\"}                                                                                               |\n",
      "|{\"event_id\": \"8d03bce5-fa1c-4d92-8df1-7440174efc04\", \"user_id\": \"163f82d4-79df-4e64-b570-84559e703bb1\", \"page_url\": \"https://www.wilkerson.com/exploreindex.html\", \"timestamp\": \"2025-05-13T10:05:28.715335Z\", \"action_type\": \"scroll\", \"browser\": \"Mozilla/5.0 (compatible; MSIE 7.0; Windows NT 5.2; Trident/5.0)\", \"timezone\": \"America/Belize\", \"device_type\": \"tablet\", \"click_coordinates_x\": 1313, \"click_coordinates_y\": 523, \"session_id\": \"8e3fcc15-717f-4880-8058-f0d61bf27671\", \"ip_address\": \"43.239.117.159\"}                                                                                                   |\n",
      "|{\"event_id\": \"a13fe038-dc21-4b22-9d26-a8762ef25a3e\", \"user_id\": \"675679b3-18d1-4b3c-8129-fde33e17388b\", \"page_url\": \"https://www.fields.com/main/wp-content/blogindex.jsp\", \"timestamp\": \"2025-05-13T10:05:29.326388Z\", \"action_type\": \"scroll\", \"browser\": \"Mozilla/5.0 (Windows NT 6.1; nn-NO; rv:1.9.2.20) Gecko/8766-02-13 07:57:46.076691 Firefox/3.8\", \"timezone\": \"Pacific/Auckland\", \"device_type\": \"desktop\", \"click_coordinates_x\": 1622, \"click_coordinates_y\": 521, \"session_id\": \"7d9a5a11-7661-4ecb-b81c-c9d15c5c21b4\", \"ip_address\": \"37.186.141.5\"}                                                           |\n",
      "|{\"event_id\": \"2ff13307-bcff-4e4d-863b-3931ff1df8c2\", \"user_id\": \"2e696620-e27e-471f-94da-a997ff15fcb0\", \"page_url\": \"https://robinson.org/tagshomepage.html\", \"timestamp\": \"2025-05-13T10:05:29.798763Z\", \"action_type\": \"click\", \"browser\": \"Mozilla/5.0 (Macintosh; U; PPC Mac OS X 10_8_3 rv:5.0; nso-ZA) AppleWebKit/534.35.7 (KHTML, like Gecko) Version/5.0.2 Safari/534.35.7\", \"timezone\": \"Europe/Bucharest\", \"device_type\": \"mobile\", \"click_coordinates_x\": 318, \"click_coordinates_y\": 29, \"session_id\": \"ed6fad20-6017-450b-a87a-feca92f8f52c\", \"ip_address\": \"34.18.232.16\"}                                     |\n",
      "|{\"event_id\": \"474c40de-a5a8-4f1a-b4a0-99353c4fe699\", \"user_id\": \"69fa26f2-aabf-4fac-be95-c740401b340e\", \"page_url\": \"https://www.alexander.info/explore/wp-contentprivacy.html\", \"timestamp\": \"2025-05-13T10:05:29.929309Z\", \"action_type\": \"click\", \"browser\": \"Mozilla/5.0 (Android 2.3.2; Mobile; rv:27.0) Gecko/27.0 Firefox/27.0\", \"timezone\": \"Pacific/Truk\", \"device_type\": \"mobile\", \"click_coordinates_x\": 266, \"click_coordinates_y\": 373, \"session_id\": \"cdf01ba1-6bf6-42ce-b3b9-94aee136e6de\", \"ip_address\": \"180.74.194.162\"}                                                                                    |\n",
      "|{\"event_id\": \"3d2ad0eb-ad2d-473d-9b61-88a1eb6a6aea\", \"user_id\": \"c0bd76d4-56b5-40d4-9d58-d4f5b5ad3c43\", \"page_url\": \"https://hamilton-guzman.info/exploreauthor.htm\", \"timestamp\": \"2025-05-13T10:05:48.005666Z\", \"action_type\": \"scroll\", \"browser\": \"Mozilla/5.0 (Macintosh; Intel Mac OS X 10_11_5) AppleWebKit/536.1 (KHTML, like Gecko) Chrome/40.0.816.0 Safari/536.1\", \"timezone\": \"Asia/Seoul\", \"device_type\": \"mobile\", \"click_coordinates_x\": 1246, \"click_coordinates_y\": 258, \"session_id\": \"153575f0-3ad1-4a69-a898-ecdf00471e83\", \"ip_address\": \"46.215.162.120\"}                                               |\n",
      "+------------------------------------------------------------------------------------------------------------------------------------------------------------------------------------------------------------------------------------------------------------------------------------------------------------------------------------------------------------------------------------------------------------------------------------------------------------------------------------------------------------------------------------------------------------------------------------------------------------------------------+\n",
      "only showing top 20 rows\n",
      "\n"
     ]
    }
   ],
   "source": [
    "website_activity_df.select(\"value_str\").show(truncate=False)"
   ]
  },
  {
   "cell_type": "markdown",
   "id": "5c78e9d5",
   "metadata": {},
   "source": [
    "#### Creación de esquema"
   ]
  },
  {
   "cell_type": "code",
   "execution_count": 5,
   "id": "476a8da7",
   "metadata": {},
   "outputs": [],
   "source": [
    "from equipo_mcqueen.spark_utils import SparkUtils\n",
    "\n",
    "website_activity_data = [\n",
    "    (\"user_id\", \"StringType\"),\n",
    "    (\"action_type\", \"StringType\"),\n",
    "    (\"device_type\", \"StringType\"),\n",
    "    (\"click_coordinates_x\", \"IntegerType\"),\n",
    "    (\"click_coordinates_y\", \"IntegerType\")\n",
    "]\n",
    "\n",
    "activity_schema = SparkUtils.generate_schema(website_activity_data)"
   ]
  },
  {
   "cell_type": "markdown",
   "id": "e4b4bf42",
   "metadata": {},
   "source": [
    "#### Extracción de datos para modelo"
   ]
  },
  {
   "cell_type": "code",
   "execution_count": 6,
   "id": "4c0d233c",
   "metadata": {},
   "outputs": [
    {
     "name": "stdout",
     "output_type": "stream",
     "text": [
      "root\n",
      " |-- user_id: string (nullable = true)\n",
      " |-- action_type: string (nullable = true)\n",
      " |-- device_type: string (nullable = true)\n",
      " |-- click_coordinates_x: integer (nullable = true)\n",
      " |-- click_coordinates_y: integer (nullable = true)\n",
      "\n",
      "+------------------------------------+-----------+-----------+-------------------+-------------------+\n",
      "|user_id                             |action_type|device_type|click_coordinates_x|click_coordinates_y|\n",
      "+------------------------------------+-----------+-----------+-------------------+-------------------+\n",
      "|13710815-68da-44b5-aeb2-5c8c5e1c5362|view       |tablet     |538                |47                 |\n",
      "|68f6674c-45f6-4aea-a2f9-1434c5dcd8ff|click      |desktop    |663                |841                |\n",
      "|e27401cc-0416-4a2f-abf6-c2128f059a0e|view       |mobile     |249                |2                  |\n",
      "|c4b3b94e-3005-440e-8f3b-ab126f93bce0|click      |tablet     |1017               |444                |\n",
      "|19b3768a-2ab0-4f1b-95c7-09e528bd28fb|view       |desktop    |1905               |500                |\n",
      "|224a6729-47c8-46b8-84a8-940986aebca6|scroll     |tablet     |726                |239                |\n",
      "|dc4cd863-6aaf-4658-81be-8edcdab7773c|view       |mobile     |406                |865                |\n",
      "|d0a13fd0-55d6-484b-bf0c-6469e96b0800|scroll     |desktop    |666                |1048               |\n",
      "|2c1c31b6-72dd-4ea4-9ea2-bbb82eaeeae0|scroll     |desktop    |1871               |195                |\n",
      "|eef69047-08be-489a-93a9-db885b4746c7|click      |mobile     |637                |1016               |\n",
      "|56dc9e31-8ce8-4607-8183-8410ff7225e3|view       |desktop    |696                |662                |\n",
      "|60d71fb1-45a4-4f31-aa1b-d530c53a6df7|scroll     |desktop    |518                |777                |\n",
      "|3ed522c4-e271-4309-9070-65b9be278f46|view       |desktop    |942                |971                |\n",
      "|862625ca-eb64-4fb1-90f3-7ee276f3a55e|scroll     |tablet     |754                |539                |\n",
      "|6dd92ab1-94f4-49ce-978b-03cd1424d028|scroll     |mobile     |1143               |784                |\n",
      "|163f82d4-79df-4e64-b570-84559e703bb1|scroll     |tablet     |1313               |523                |\n",
      "|675679b3-18d1-4b3c-8129-fde33e17388b|scroll     |desktop    |1622               |521                |\n",
      "|2e696620-e27e-471f-94da-a997ff15fcb0|click      |mobile     |318                |29                 |\n",
      "|69fa26f2-aabf-4fac-be95-c740401b340e|click      |mobile     |266                |373                |\n",
      "|c0bd76d4-56b5-40d4-9d58-d4f5b5ad3c43|scroll     |mobile     |1246               |258                |\n",
      "+------------------------------------+-----------+-----------+-------------------+-------------------+\n",
      "only showing top 20 rows\n",
      "\n"
     ]
    }
   ],
   "source": [
    "from pyspark.sql.functions import from_json, col\n",
    "\n",
    "df = website_activity_df.withColumn(\"parsed_data\", from_json(col(\"value_str\"), activity_schema))\n",
    "activity_df = df.select(\"parsed_data.*\")\n",
    "activity_df.printSchema()\n",
    "activity_df.show(truncate=False)"
   ]
  },
  {
   "cell_type": "markdown",
   "id": "6d377160",
   "metadata": {},
   "source": [
    "#### Agrupación y agregación de datos"
   ]
  },
  {
   "cell_type": "code",
   "execution_count": 7,
   "id": "7046f35e",
   "metadata": {},
   "outputs": [
    {
     "name": "stderr",
     "output_type": "stream",
     "text": [
      "[Stage 3:=============================>                             (1 + 1) / 2]\r"
     ]
    },
    {
     "name": "stdout",
     "output_type": "stream",
     "text": [
      "+------------------------------------+-----------+-----------+------------+----------+-----------------------+-----------------------+\n",
      "|user_id                             |device_type|click_count|scroll_count|view_count|avg_click_coordinates_x|avg_click_coordinates_y|\n",
      "+------------------------------------+-----------+-----------+------------+----------+-----------------------+-----------------------+\n",
      "|00a81705-3953-49aa-8006-ea2fb75f4b27|mobile     |0          |1           |0         |1705.0                 |485.0                  |\n",
      "|00b3fb33-3a83-4256-8a43-ae9e5f956e62|desktop    |0          |1           |0         |393.0                  |165.0                  |\n",
      "|012814c0-7e0e-4650-87fa-acd9fb66bda1|desktop    |0          |1           |0         |1183.0                 |138.0                  |\n",
      "|01715403-82fd-4c4f-8ea7-cc89824b7b4e|mobile     |0          |1           |0         |441.0                  |796.0                  |\n",
      "|0444adb3-399a-4a77-9550-a8c30dfac123|desktop    |0          |1           |0         |1873.0                 |996.0                  |\n",
      "|06261fa3-280e-4e79-84c3-aa0c0d305021|desktop    |0          |1           |0         |545.0                  |254.0                  |\n",
      "|09280f12-5338-45b1-bb3d-7022086b51ac|tablet     |0          |1           |0         |1211.0                 |123.0                  |\n",
      "|098c92ce-162b-4caf-ae0a-f29f33665900|mobile     |0          |0           |1         |893.0                  |389.0                  |\n",
      "|0bf246a1-e7e8-4543-8a42-afe69e48333f|desktop    |1          |0           |0         |1852.0                 |786.0                  |\n",
      "|0c3bc54a-dd3c-48df-bf56-ad184a224cbd|tablet     |1          |0           |0         |1359.0                 |304.0                  |\n",
      "|0c9219ab-eb94-49eb-848f-db6ba9408702|tablet     |0          |0           |1         |1414.0                 |615.0                  |\n",
      "|0d4edcfd-3bac-4832-b30e-3dbaa8bf15e6|mobile     |0          |0           |1         |897.0                  |231.0                  |\n",
      "|0f843da2-8701-4adc-90ce-385e3cd21e0d|tablet     |0          |1           |0         |1710.0                 |39.0                   |\n",
      "|0fa65a6b-e7cc-446e-a288-4455b39321af|tablet     |0          |0           |1         |1234.0                 |127.0                  |\n",
      "|10279859-cd05-4c9e-821c-5231d6ccf80e|desktop    |1          |0           |0         |356.0                  |448.0                  |\n",
      "|114a68f8-ba40-43d5-badb-ce2108cd28c1|tablet     |0          |0           |1         |257.0                  |476.0                  |\n",
      "|13710815-68da-44b5-aeb2-5c8c5e1c5362|tablet     |0          |0           |1         |538.0                  |47.0                   |\n",
      "|15472885-3922-4e39-ae59-12ded9361cb7|mobile     |0          |0           |1         |492.0                  |654.0                  |\n",
      "|15db3372-a602-4ddd-98c3-b1c8394c5824|desktop    |0          |0           |1         |1192.0                 |866.0                  |\n",
      "|161dc8d6-e8f8-4c4e-b39a-8fd5a970f037|desktop    |0          |1           |0         |1825.0                 |167.0                  |\n",
      "+------------------------------------+-----------+-----------+------------+----------+-----------------------+-----------------------+\n",
      "only showing top 20 rows\n",
      "\n"
     ]
    },
    {
     "name": "stderr",
     "output_type": "stream",
     "text": [
      "                                                                                \r"
     ]
    }
   ],
   "source": [
    "from pyspark.sql.functions import first, count, avg, when\n",
    "\n",
    "user_features = activity_df.groupBy(\"user_id\").agg(first(\"device_type\").alias(\"device_type\"),\n",
    "                                                   count(when(col(\"action_type\") == \"click\", 1)).alias(\"click_count\"),\n",
    "                                                   count(when(col(\"action_type\") == \"scroll\", 1)).alias(\"scroll_count\"),\n",
    "                                                   count(when(col(\"action_type\") == \"view\", 1)).alias(\"view_count\"),\n",
    "                                                   avg(\"click_coordinates_x\").alias(\"avg_click_coordinates_x\"),\n",
    "                                                   avg(\"click_coordinates_y\").alias(\"avg_click_coordinates_y\"))\n",
    "\n",
    "user_features.show(truncate=False)"
   ]
  },
  {
   "cell_type": "markdown",
   "id": "de198008",
   "metadata": {},
   "source": [
    "#### Creación de vector"
   ]
  },
  {
   "cell_type": "code",
   "execution_count": 10,
   "id": "99054417",
   "metadata": {},
   "outputs": [],
   "source": [
    "from pyspark.ml.feature import VectorAssembler, StandardScaler\n",
    "\n",
    "numerical_features = [\n",
    "    \"click_count\",\n",
    "    \"scroll_count\",\n",
    "    \"view_count\", \n",
    "    \"avg_click_coordinates_x\",\n",
    "    \"avg_click_coordinates_y\"\n",
    "]\n",
    "\n",
    "assembler = VectorAssembler(inputCols=numerical_features, outputCol=\"features\")\n",
    "\n",
    "assembled_data = assembler.transform(user_features)"
   ]
  },
  {
   "cell_type": "markdown",
   "id": "2e09f55d",
   "metadata": {},
   "source": [
    "#### Creación de Scaler"
   ]
  },
  {
   "cell_type": "code",
   "execution_count": 11,
   "id": "2540c907",
   "metadata": {},
   "outputs": [
    {
     "name": "stderr",
     "output_type": "stream",
     "text": [
      "                                                                                \r"
     ]
    }
   ],
   "source": [
    "scaler = StandardScaler(\n",
    "    inputCol=\"features\",\n",
    "    outputCol=\"scaled_features\",\n",
    "    withStd=True,\n",
    "    withMean=True\n",
    ")\n",
    "\n",
    "scaler_model = scaler.fit(assembled_data)\n",
    "scaled_data = scaler_model.transform(assembled_data)"
   ]
  },
  {
   "cell_type": "markdown",
   "id": "6ed84d83",
   "metadata": {},
   "source": [
    "#### Creación de modelo"
   ]
  },
  {
   "cell_type": "code",
   "execution_count": 12,
   "id": "a83a9810",
   "metadata": {},
   "outputs": [],
   "source": [
    "from pyspark.ml.clustering import KMeans\n",
    "\n",
    "k_value = 5\n",
    "\n",
    "kmeans = KMeans(\n",
    "    featuresCol=\"scaled_features\",\n",
    "    k=k_value,\n",
    "    seed=42\n",
    ")"
   ]
  },
  {
   "cell_type": "markdown",
   "id": "b1b988c3",
   "metadata": {},
   "source": [
    "#### Entrenamiento"
   ]
  },
  {
   "cell_type": "code",
   "execution_count": 13,
   "id": "4e6a631e",
   "metadata": {},
   "outputs": [
    {
     "name": "stderr",
     "output_type": "stream",
     "text": [
      "25/05/13 10:09:02 WARN InstanceBuilder: Failed to load implementation from:dev.ludovic.netlib.blas.JNIBLAS\n",
      "25/05/13 10:09:02 WARN InstanceBuilder: Failed to load implementation from:dev.ludovic.netlib.blas.VectorBLAS\n",
      "                                                                                \r"
     ]
    }
   ],
   "source": [
    "model = kmeans.fit(scaled_data)"
   ]
  },
  {
   "cell_type": "markdown",
   "id": "3ae24531",
   "metadata": {},
   "source": [
    "#### Predicciones"
   ]
  },
  {
   "cell_type": "code",
   "execution_count": 14,
   "id": "227ea084",
   "metadata": {},
   "outputs": [],
   "source": [
    "predictions = model.transform(scaled_data)"
   ]
  },
  {
   "cell_type": "markdown",
   "id": "5cf111ef",
   "metadata": {},
   "source": [
    "#### Evaluación"
   ]
  },
  {
   "cell_type": "code",
   "execution_count": 15,
   "id": "a8b2e59f",
   "metadata": {},
   "outputs": [
    {
     "name": "stderr",
     "output_type": "stream",
     "text": [
      "[Stage 69:>                                                         (0 + 2) / 2]\r"
     ]
    },
    {
     "name": "stdout",
     "output_type": "stream",
     "text": [
      "Silhouette score = 0.5984526321733925\n"
     ]
    },
    {
     "name": "stderr",
     "output_type": "stream",
     "text": [
      "                                                                                \r"
     ]
    }
   ],
   "source": [
    "from pyspark.ml.evaluation import ClusteringEvaluator\n",
    "\n",
    "evaluator = ClusteringEvaluator(\n",
    "    featuresCol=\"scaled_features\",\n",
    "    predictionCol=\"prediction\",\n",
    "    metricName=\"silhouette\"\n",
    ")\n",
    "\n",
    "silhouette = evaluator.evaluate(predictions)\n",
    "print(f\"Silhouette score = {silhouette}\")\n",
    "\n"
   ]
  },
  {
   "cell_type": "code",
   "execution_count": null,
   "id": "9ec3049c",
   "metadata": {},
   "outputs": [
    {
     "name": "stderr",
     "output_type": "stream",
     "text": [
      "                                                                                \r"
     ]
    },
    {
     "name": "stdout",
     "output_type": "stream",
     "text": [
      "+--------------------+-----------+----------+\n",
      "|             user_id|device_type|prediction|\n",
      "+--------------------+-----------+----------+\n",
      "|00a81705-3953-49a...|     mobile|         4|\n",
      "|00b3fb33-3a83-425...|    desktop|         1|\n",
      "|012814c0-7e0e-465...|    desktop|         4|\n",
      "|01715403-82fd-4c4...|     mobile|         0|\n",
      "|0444adb3-399a-4a7...|    desktop|         0|\n",
      "|06261fa3-280e-4e7...|    desktop|         1|\n",
      "|09280f12-5338-45b...|     tablet|         4|\n",
      "|098c92ce-162b-4ca...|     mobile|         2|\n",
      "|0bf246a1-e7e8-454...|    desktop|         3|\n",
      "|0c3bc54a-dd3c-48d...|     tablet|         3|\n",
      "|0c9219ab-eb94-49e...|     tablet|         2|\n",
      "|0d4edcfd-3bac-483...|     mobile|         2|\n",
      "|0f843da2-8701-4ad...|     tablet|         4|\n",
      "|0fa65a6b-e7cc-446...|     tablet|         2|\n",
      "|10279859-cd05-4c9...|    desktop|         3|\n",
      "|114a68f8-ba40-43d...|     tablet|         2|\n",
      "|13710815-68da-44b...|     tablet|         2|\n",
      "|15472885-3922-4e3...|     mobile|         2|\n",
      "|15db3372-a602-4dd...|    desktop|         2|\n",
      "|161dc8d6-e8f8-4c4...|    desktop|         4|\n",
      "+--------------------+-----------+----------+\n",
      "only showing top 20 rows\n",
      "\n",
      "Cluster Centers (Scaled Features):\n",
      "Cluster 0: [-0.7124584   1.45342255 -0.71936562 -0.05602503  1.20313153]\n",
      "Cluster 1: [-0.7124584   1.45342255 -0.71936562 -0.76619217 -0.57661465]\n",
      "Cluster 2: [-0.7124584  -0.68505267  1.38409588 -0.05233582 -0.02276012]\n",
      "Cluster 3: [ 1.39751456 -0.68505267 -0.71936562 -0.0092415   0.11426085]\n",
      "Cluster 4: [-0.7124584   1.45342255 -0.71936562  1.01382309 -0.51216982]\n"
     ]
    },
    {
     "name": "stderr",
     "output_type": "stream",
     "text": [
      "                                                                                \r"
     ]
    },
    {
     "name": "stdout",
     "output_type": "stream",
     "text": [
      "+----------+-----+\n",
      "|prediction|count|\n",
      "+----------+-----+\n",
      "|         0|   19|\n",
      "|         3|   78|\n",
      "|         4|   27|\n",
      "|         1|   28|\n",
      "|         2|   79|\n",
      "+----------+-----+\n",
      "\n"
     ]
    },
    {
     "name": "stderr",
     "output_type": "stream",
     "text": [
      "[Stage 90:>                                                         (0 + 2) / 2]\r"
     ]
    },
    {
     "name": "stdout",
     "output_type": "stream",
     "text": [
      "+----------+----------+-----------+---------+------------------+------------------+-----+\n",
      "|prediction|avg_clicks|avg_scrolls|avg_views|             avg_x|             avg_y|count|\n",
      "+----------+----------+-----------+---------+------------------+------------------+-----+\n",
      "|         0|       0.0|        1.0|      0.0| 911.8421052631579|  880.578947368421|   19|\n",
      "|         3|       1.0|        0.0|      0.0| 938.2435897435897| 539.7948717948718|   78|\n",
      "|         4|       0.0|        1.0|      0.0|1515.5925925925926|343.74074074074076|   27|\n",
      "|         1|       0.0|        1.0|      0.0|511.07142857142856|323.57142857142856|   28|\n",
      "|         2|       0.0|        0.0|      1.0| 913.9240506329114| 496.9113924050633|   79|\n",
      "+----------+----------+-----------+---------+------------------+------------------+-----+\n",
      "\n"
     ]
    },
    {
     "name": "stderr",
     "output_type": "stream",
     "text": [
      "                                                                                \r"
     ]
    }
   ],
   "source": [
    "predictions.select(\"user_id\", \"device_type\", \"prediction\").show()\n",
    "\n",
    "centers = model.clusterCenters()\n",
    "print(\"Cluster Centers (Scaled Features):\")\n",
    "for i, center in enumerate(centers):\n",
    "    print(f\"Cluster {i}: {center}\")\n",
    "\n",
    "predictions.groupBy(\"prediction\").count().show()\n",
    "\n",
    "\n",
    "predictions.groupBy(\"prediction\").agg(\n",
    "    avg(\"click_count\").alias(\"avg_clicks\"),\n",
    "    avg(\"scroll_count\").alias(\"avg_scrolls\"),\n",
    "    avg(\"view_count\").alias(\"avg_views\"),\n",
    "    avg(\"avg_click_coordinates_x\").alias(\"avg_x\"),\n",
    "    avg(\"avg_click_coordinates_y\").alias(\"avg_y\"),\n",
    "    count(\"device_type\").alias(\"count\")\n",
    ").show()"
   ]
  },
  {
   "cell_type": "markdown",
   "id": "ada9dd20",
   "metadata": {},
   "source": [
    "### **Visualización de datos: Power BI**\n",
    "---"
   ]
  },
  {
   "cell_type": "markdown",
   "id": "9d3fd8fa",
   "metadata": {},
   "source": [
    "#### Conversión a CSV (user clusters)"
   ]
  },
  {
   "cell_type": "code",
   "execution_count": 22,
   "id": "1c7ab952",
   "metadata": {},
   "outputs": [
    {
     "name": "stderr",
     "output_type": "stream",
     "text": [
      "                                                                                \r"
     ]
    }
   ],
   "source": [
    "user_clusters = predictions.select(\n",
    "    \"user_id\", \n",
    "    \"device_type\",\n",
    "    \"click_count\", \n",
    "    \"scroll_count\", \n",
    "    \"view_count\", \n",
    "    \"avg_click_coordinates_x\", \n",
    "    \"avg_click_coordinates_y\",\n",
    "    \"prediction\"\n",
    ").withColumnRenamed(\"prediction\", \"cluster\")\n",
    "\n",
    "user_clusters.write.mode(\"overwrite\").option(\"header\", \"true\").csv(\"/home/jovyan/notebooks/data/user_clusters\")"
   ]
  },
  {
   "cell_type": "markdown",
   "id": "a560ab87",
   "metadata": {},
   "source": [
    "#### Conversión a CSV (cluster stats)"
   ]
  },
  {
   "cell_type": "code",
   "execution_count": null,
   "id": "6ec70584",
   "metadata": {},
   "outputs": [
    {
     "name": "stderr",
     "output_type": "stream",
     "text": [
      "                                                                                \r"
     ]
    }
   ],
   "source": [
    "cluster_stats = predictions.groupBy(\"prediction\").agg(\n",
    "    count(\"user_id\").alias(\"user_count\"),\n",
    "    avg(\"click_count\").alias(\"avg_clicks\"),\n",
    "    avg(\"scroll_count\").alias(\"avg_scrolls\"),\n",
    "    avg(\"view_count\").alias(\"avg_views\"),\n",
    "    avg(\"avg_click_coordinates_x\").alias(\"avg_x\"),\n",
    "    avg(\"avg_click_coordinates_y\").alias(\"avg_y\")\n",
    ").withColumnRenamed(\"prediction\", \"cluster\")\n",
    "\n",
    "cluster_stats.write.mode(\"overwrite\").option(\"header\", \"true\").csv(\"/home/jovyan/notebooks/data/cluster_stats\")"
   ]
  },
  {
   "cell_type": "markdown",
   "id": "5f99be21",
   "metadata": {},
   "source": [
    "#### Dashboard de ejemplo\n",
    "\n",
    "# <center> <img src=\"./img/sample_dashboard.png\" width=\"50%\"> </center>"
   ]
  }
 ],
 "metadata": {
  "kernelspec": {
   "display_name": "Python 3 (ipykernel)",
   "language": "python",
   "name": "python3"
  },
  "language_info": {
   "codemirror_mode": {
    "name": "ipython",
    "version": 3
   },
   "file_extension": ".py",
   "mimetype": "text/x-python",
   "name": "python",
   "nbconvert_exporter": "python",
   "pygments_lexer": "ipython3",
   "version": "3.11.6"
  }
 },
 "nbformat": 4,
 "nbformat_minor": 5
}
