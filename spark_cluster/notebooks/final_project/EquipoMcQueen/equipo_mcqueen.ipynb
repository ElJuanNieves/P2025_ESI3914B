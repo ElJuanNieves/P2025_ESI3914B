{
 "cells": [
  {
   "cell_type": "markdown",
   "id": "71972a84",
   "metadata": {},
   "source": [
    "# <center> <img src=\"./img/ITESOLogo.png\" alt=\"ITESO\" width=\"480\" height=\"130\"> </center>\n",
    "# <center> **Departamento de Electrónica, Sistemas e Informática** </center>\n",
    "---\n",
    "## <center> **Proyecto Final: Website Activity** </center>\n",
    "---\n",
    "\n",
    "<center>\n",
    "\n",
    "**Equipo McQueen**: Marco Albanese, Vicente Siloe\n",
    "\n",
    "**Carrera**: Ingeniería en Sistemas Computacionales\n",
    "\n",
    "**Fecha**: 13 de mayo del 2025\n",
    "\n",
    "**Profesor**: Pablo Camarillo Ramirez\n",
    "\n",
    "</center>\n",
    "\n",
    "---\n",
    "### <center> **Primavera 2025** </center>\n",
    "---"
   ]
  },
  {
   "cell_type": "markdown",
   "id": "dfebc990",
   "metadata": {},
   "source": [
    "### **Introducción y definición del problema**"
   ]
  },
  {
   "cell_type": "markdown",
   "id": "76bd1d95",
   "metadata": {},
   "source": [
    "El procesamiento de datos en aplicaciones es esencial hoy en día para una multitud de usos y propósitos que proveen beneficios tanto a usuarios como empresas. En este proyecto, creado al culminar el curso de \"Procesamiento de datos masivos\", se pretende crear una aplicación que integre los conocimientos adquiridos en dicho curso. A través de una *pipeline* de *Big Data*, se busca producir, consumir, analizar y procesar datos de la actividad (tráfico) observada en una aplicación web.\n",
    "\n",
    "Los datos involucrados representan:\n",
    "- Interacciones de usuario\n",
    "- Páginas visitadas\n",
    "- Clicks\n",
    "- Dispositivos utilizados\n",
    "- Etc.\n",
    "\n",
    "Asimismo, se entrena un modelo de aprendizaje automático (*machine learning*) en base a los datos recolectados para predecir comportamientos de usuario, utilizando regresión logística. Los resultados de este modelo se presentan al usuario final a través de un *dashboard* de visualización de datos.\n",
    "\n",
    "Para la realización de este proyecto, se utilizaron tecnologías como **Jupyter Notebooks**, **Python**, **PySpark**, **Apache Kafka** y **Power BI**. En secciones posteriores, se describe con mayor detalle la arquitectura, implementación y funcionamiento del sistema."
   ]
  },
  {
   "cell_type": "markdown",
   "id": "984bd6e9",
   "metadata": {},
   "source": [
    "### **Arquitectura del sistema**"
   ]
  },
  {
   "cell_type": "markdown",
   "id": "9e48b7c9",
   "metadata": {},
   "source": [
    "La arquitectura del sistema es la siguiente:\n",
    "\n",
    "1. **Productores Kafka:** encargados de generar datos de actividad/tráfico web. Se utilizan dos acorde a la cantidad de integrantes en el equipo y dichos datos son publicados a dos tópicos individuales.\n",
    "2. **Kafka Broker:** intermediario para conectar productores con consumidr, donde se crean los tópicos necesarios.\n",
    "3. **Consumidor PySpark:** consumidor de los datos en tiempo real, guardando activamente en formato Parquet para formar un data lake.\n",
    "4. **Modelo de aprendizaje máquina (Machine Learning):**\n",
    "5. **Visualización de datos:** se incluye un dashboard de visualización en base a los resultados obtenidos por el modelo de *machine learning*, realizado en Power BI.\n",
    "\n",
    "A continuación se presenta un diagrama visual de dicha arquitectura:\n",
    "\n",
    "\n",
    "# <img src=\"./img/system_architecture.png\" alt=\"System Architecture\">"
   ]
  },
  {
   "cell_type": "markdown",
   "id": "1337cf66",
   "metadata": {},
   "source": [
    "### **Justificación de las 5Vs**"
   ]
  },
  {
   "cell_type": "markdown",
   "id": "70182f5a",
   "metadata": {},
   "source": [
    "- **Volumen:** En una ejecución de 60 segundos, se generan aproximadamente 50 archivos en formato Parquet. Seleccionando dichos archivos y verificando sus propiedades, obtenemos un tamaño de 370 KB. En promedio, se observa un tamaño de 7.4 KB por archivo. Teniendo esta información, podemos generar la tabla de crecimiento:\n",
    "\n",
    "<center>\n",
    "\n",
    "| **Periodo de tiempo** | **Datos procesados** |\n",
    "|-----------------------|----------------------|\n",
    "| 1 segundo             | 7.4 KB               |\n",
    "| 1 minuto              | 444 KB               |\n",
    "| 1 hora                | 26.64 MB             |\n",
    "| 1 día                 | 639.36 MB            |\n",
    "| 1 año                 | 233.1 GB             |\n",
    "\n",
    "</center>\n",
    "\n",
    "- **Velocidad:** La cantidad de filas procesadas por segundo en la aplicación es de \n",
    "\n",
    "- **Variedad:** El esquema de datos producidos por el tráfico de la página web es el siguiente:\n",
    "\n",
    "<center>\n",
    "\n",
    "\n",
    "| **Campo**           | **Tipo de dato** |\n",
    "|---------------------|------------------|\n",
    "| event_id            | String           |\n",
    "| user_id             | String           |\n",
    "| page_url            | String           |\n",
    "| timestamp           | Timestamp        |\n",
    "| action_type         | String           |\n",
    "| browser             | String           |\n",
    "| timezone            | String           |\n",
    "| device_type         | String           |\n",
    "| click_coordinates_x | Integer          |\n",
    "| click_coordinates_y | Integer          |\n",
    "| session_id          | String           |\n",
    "| ip_address          | String           |\n",
    "\n",
    "</center>\n",
    "\n",
    "\n",
    "- **Veracidad:** Los datos generados para cada campo se asemejan a la realidad gracias al uso de la librería Faker. Por ejemplo, los IDs son generados en formato UUID de 128 bits, *timezone* representa una zona horaria real, *ip_address* sigue el formato de IPv4, etc. \n",
    "\n",
    "- **Valor:**"
   ]
  },
  {
   "cell_type": "markdown",
   "id": "afae6570",
   "metadata": {},
   "source": [
    "### **Detalles de implementación**"
   ]
  },
  {
   "cell_type": "markdown",
   "id": "7f63e84b",
   "metadata": {},
   "source": [
    "- Para el levantamiento del broker de Kafka como también PySpark, se utilizaron contenedores creados a través de Docker Compose, una herramienta para correr aplicaciones multi-contenedor.\n",
    "\n",
    "- Para la creación de los productores de datos, se utilizaron dos Jupyter Notebooks localizados en la carpeta `lib`, llamados `producer_a.ipynb` y `producer_b.ipynb`. Estos mantienen parecido al ejemplo localizado en `notebooks/examples/producers/kafka_producer.ipynb`. \n",
    "  - A su vez, ambos productores importan una función auxiliar de un script de Python llamado `website_activity.py`, localizado en la carpeta `lib`. Este script utiliza la librería Faker para generar datos aleatorios.\n",
    "\n",
    "La implementación de esta aplicación sigue una estructura similar a laboratorios vistos en clase. Notablemente, se toma como inspiración a los siguientes archivos:\n",
    "\n",
    "- `example_structured_streaming_files_traffic_data.ipynb`\n",
    "- `example_structured_streaming_files.ipynb`\n",
    "- `example_structured_streaming_kafka_watermarking.ipynb`\n",
    "- `example_structured_streaming_kafka.ipynb`\n",
    "- `example_k_means.ipynb`"
   ]
  },
  {
   "cell_type": "markdown",
   "id": "fc15fb8c",
   "metadata": {},
   "source": [
    "### **Resultados y evaluación**"
   ]
  },
  {
   "cell_type": "markdown",
   "id": "237061f4",
   "metadata": {},
   "source": [
    "Placeholder"
   ]
  },
  {
   "cell_type": "markdown",
   "id": "baea28ca",
   "metadata": {},
   "source": [
    "### **Conclusión**"
   ]
  },
  {
   "cell_type": "markdown",
   "id": "b300474f",
   "metadata": {},
   "source": [
    "Placeholder"
   ]
  },
  {
   "cell_type": "markdown",
   "id": "42b00724",
   "metadata": {},
   "source": [
    "---"
   ]
  },
  {
   "cell_type": "markdown",
   "id": "367fbc33",
   "metadata": {},
   "source": [
    "### **Código: Spark + Kafka**\n",
    "---"
   ]
  },
  {
   "cell_type": "markdown",
   "id": "2c132e4c",
   "metadata": {},
   "source": [
    "Previo a la ejecución del siguiente código, los contenedores de Docker para el cluster de Spark y el cluster de Kafka deben estar activos.\n",
    "\n",
    "Para ello, se puede utilizar los comandos:\n",
    "\n",
    "`docker compose up --scale spark-worker=2 -d`\n",
    "\n",
    "`docker compose up -d`\n",
    "\n",
    "En los directorios `spark_cluster` y `kafka_cluster` respectivamente. Nótese que se requerirán distintos IDs de contenedores en los bloques de código pertinentes."
   ]
  },
  {
   "cell_type": "markdown",
   "id": "e65f449c",
   "metadata": {},
   "source": [
    "#### Encontrar instalación de Spark"
   ]
  },
  {
   "cell_type": "code",
   "execution_count": 3,
   "id": "290cbc00",
   "metadata": {},
   "outputs": [],
   "source": [
    "import findspark\n",
    "findspark.init()"
   ]
  },
  {
   "cell_type": "markdown",
   "id": "2dc2bfa8",
   "metadata": {},
   "source": [
    "#### Creación de la conexión con el cluster de Spark"
   ]
  },
  {
   "cell_type": "code",
   "execution_count": 4,
   "id": "25653e48",
   "metadata": {},
   "outputs": [],
   "source": [
    "from pyspark.sql import SparkSession\n",
    "\n",
    "spark = SparkSession.builder \\\n",
    "    .appName(\"Final-Project-Equipo-McQueen\") \\\n",
    "    .master(\"spark://073701f82f51:7077\") \\\n",
    "    .config(\"spark.ui.port\",\"4040\") \\\n",
    "    .config(\"spark.jars.packages\", \"org.apache.spark:spark-sql-kafka-0-10_2.13:3.5.4\") \\\n",
    "    .getOrCreate()\n",
    "\n",
    "sc = spark.sparkContext"
   ]
  },
  {
   "cell_type": "markdown",
   "id": "b05cc495",
   "metadata": {},
   "source": [
    "#### Creación de tópicos de Kafka\n",
    "\n",
    "Los siguientes comandos deben ser ejecutados en la terminal para que los productores puedan enviar mensajes a los tópicos:\n",
    "\n",
    "```\n",
    "docker exec -it 4fcb95a9039f /opt/kafka/bin/kafka-topics.sh --create --zookeeper zookeeper:2181 --replication-factor 1 --partitions 1 --topic producer-a\n",
    "\n",
    "docker exec -it 4fcb95a9039f /opt/kafka/bin/kafka-topics.sh --create --zookeeper zookeeper:2181 --replication-factor 1 --partitions 1 --topic producer-b\n",
    "```"
   ]
  },
  {
   "cell_type": "markdown",
   "id": "fbca9b85",
   "metadata": {},
   "source": [
    "#### Ejecución de productores\n",
    "\n",
    "Para inicializar a los productores, ejecute las respectivas celdas en los Jupyter Notebooks (`producer-a.ipynb`, `producer-b.ipynb`) bajo el directorio `spark_cluster/notebooks/lib/equipo_mcqueen/`"
   ]
  },
  {
   "cell_type": "markdown",
   "id": "9e3ca3bd",
   "metadata": {},
   "source": [
    "#### Creación del Kafka stream"
   ]
  },
  {
   "cell_type": "code",
   "execution_count": 5,
   "id": "784bb33c",
   "metadata": {},
   "outputs": [
    {
     "name": "stdout",
     "output_type": "stream",
     "text": [
      "root\n",
      " |-- key: binary (nullable = true)\n",
      " |-- value: binary (nullable = true)\n",
      " |-- topic: string (nullable = true)\n",
      " |-- partition: integer (nullable = true)\n",
      " |-- offset: long (nullable = true)\n",
      " |-- timestamp: timestamp (nullable = true)\n",
      " |-- timestampType: integer (nullable = true)\n",
      "\n"
     ]
    }
   ],
   "source": [
    "kafka_lines = spark \\\n",
    "                .readStream \\\n",
    "                .format(\"kafka\") \\\n",
    "                .option(\"kafka.bootstrap.servers\", \"4fcb95a9039f:9093\") \\\n",
    "                .option(\"subscribe\", \"producer-a,producer-b\") \\\n",
    "                .load()\n",
    "\n",
    "kafka_lines.printSchema()"
   ]
  },
  {
   "cell_type": "markdown",
   "id": "be47f3fb",
   "metadata": {},
   "source": [
    "#### Transformar datos en cadenas (strings)"
   ]
  },
  {
   "cell_type": "code",
   "execution_count": 6,
   "id": "cf0e8197",
   "metadata": {},
   "outputs": [],
   "source": [
    "kafka_df = kafka_lines.withColumn(\"value_str\", kafka_lines.value.cast(\"string\"))"
   ]
  },
  {
   "cell_type": "markdown",
   "id": "45f5206e",
   "metadata": {},
   "source": [
    "#### Creación del query (sink)"
   ]
  },
  {
   "cell_type": "code",
   "execution_count": 7,
   "id": "990b183c",
   "metadata": {},
   "outputs": [
    {
     "name": "stderr",
     "output_type": "stream",
     "text": [
      "25/05/13 06:42:11 WARN ResolveWriteToStream: spark.sql.adaptive.enabled is not supported in streaming DataFrames/Datasets and will be disabled.\n",
      "25/05/13 06:42:11 WARN AdminClientConfig: These configurations '[key.deserializer, value.deserializer, enable.auto.commit, max.poll.records, auto.offset.reset]' were supplied but are not used yet.\n",
      "                                                                                \r"
     ]
    },
    {
     "data": {
      "text/plain": [
       "False"
      ]
     },
     "execution_count": 7,
     "metadata": {},
     "output_type": "execute_result"
    }
   ],
   "source": [
    "query = kafka_df \\\n",
    "                .writeStream \\\n",
    "                .trigger(processingTime=\"3 seconds\") \\\n",
    "                .outputMode(\"append\") \\\n",
    "                .format(\"parquet\") \\\n",
    "                .option(\"path\", \"/home/jovyan/notebooks/data/\") \\\n",
    "                .option(\"checkpointLocation\", \"/home/jovyan/checkpoint\") \\\n",
    "                .option(\"truncate\", \"false\") \\\n",
    "                .start()\n",
    "\n",
    "query.awaitTermination(60)"
   ]
  },
  {
   "cell_type": "markdown",
   "id": "e9353ec2",
   "metadata": {},
   "source": [
    "#### Terminación de query y context"
   ]
  },
  {
   "cell_type": "code",
   "execution_count": 8,
   "id": "be624de1",
   "metadata": {},
   "outputs": [
    {
     "name": "stderr",
     "output_type": "stream",
     "text": [
      "25/05/13 06:43:21 ERROR FileFormatWriter: Aborting job fa093cb0-03ec-4f38-98f3-562934fd3f13.\n",
      "java.lang.InterruptedException\n",
      "\tat java.base/java.util.concurrent.locks.AbstractQueuedSynchronizer.acquireSharedInterruptibly(AbstractQueuedSynchronizer.java:1048)\n",
      "\tat scala.concurrent.impl.Promise$DefaultPromise.tryAwait0(Promise.scala:243)\n",
      "\tat scala.concurrent.impl.Promise$DefaultPromise.ready(Promise.scala:255)\n",
      "\tat scala.concurrent.impl.Promise$DefaultPromise.ready(Promise.scala:104)\n",
      "\tat org.apache.spark.util.ThreadUtils$.awaitReady(ThreadUtils.scala:342)\n",
      "\tat org.apache.spark.scheduler.DAGScheduler.runJob(DAGScheduler.scala:980)\n",
      "\tat org.apache.spark.SparkContext.runJob(SparkContext.scala:2393)\n",
      "\tat org.apache.spark.sql.execution.datasources.FileFormatWriter$.$anonfun$executeWrite$1(FileFormatWriter.scala:241)\n",
      "\tat org.apache.spark.sql.execution.datasources.FileFormatWriter$.writeAndCommit(FileFormatWriter.scala:271)\n",
      "\tat org.apache.spark.sql.execution.datasources.FileFormatWriter$.executeWrite(FileFormatWriter.scala:212)\n",
      "\tat org.apache.spark.sql.execution.datasources.FileFormatWriter$.write(FileFormatWriter.scala:193)\n",
      "\tat org.apache.spark.sql.execution.streaming.FileStreamSink.addBatch(FileStreamSink.scala:171)\n",
      "\tat org.apache.spark.sql.execution.streaming.MicroBatchExecution.$anonfun$runBatch$17(MicroBatchExecution.scala:732)\n",
      "\tat org.apache.spark.sql.execution.SQLExecution$.$anonfun$withNewExecutionId$6(SQLExecution.scala:125)\n",
      "\tat org.apache.spark.sql.execution.SQLExecution$.withSQLConfPropagated(SQLExecution.scala:201)\n",
      "\tat org.apache.spark.sql.execution.SQLExecution$.$anonfun$withNewExecutionId$1(SQLExecution.scala:108)\n",
      "\tat org.apache.spark.sql.SparkSession.withActive(SparkSession.scala:900)\n",
      "\tat org.apache.spark.sql.execution.SQLExecution$.withNewExecutionId(SQLExecution.scala:66)\n",
      "\tat org.apache.spark.sql.execution.streaming.MicroBatchExecution.$anonfun$runBatch$16(MicroBatchExecution.scala:729)\n",
      "\tat org.apache.spark.sql.execution.streaming.ProgressReporter.reportTimeTaken(ProgressReporter.scala:427)\n",
      "\tat org.apache.spark.sql.execution.streaming.ProgressReporter.reportTimeTaken$(ProgressReporter.scala:425)\n",
      "\tat org.apache.spark.sql.execution.streaming.StreamExecution.reportTimeTaken(StreamExecution.scala:67)\n",
      "\tat org.apache.spark.sql.execution.streaming.MicroBatchExecution.runBatch(MicroBatchExecution.scala:729)\n",
      "\tat org.apache.spark.sql.execution.streaming.MicroBatchExecution.$anonfun$runActivatedStream$2(MicroBatchExecution.scala:286)\n",
      "\tat scala.runtime.java8.JFunction0$mcV$sp.apply(JFunction0$mcV$sp.scala:18)\n",
      "\tat org.apache.spark.sql.execution.streaming.ProgressReporter.reportTimeTaken(ProgressReporter.scala:427)\n",
      "\tat org.apache.spark.sql.execution.streaming.ProgressReporter.reportTimeTaken$(ProgressReporter.scala:425)\n",
      "\tat org.apache.spark.sql.execution.streaming.StreamExecution.reportTimeTaken(StreamExecution.scala:67)\n",
      "\tat org.apache.spark.sql.execution.streaming.MicroBatchExecution.$anonfun$runActivatedStream$1(MicroBatchExecution.scala:249)\n",
      "\tat org.apache.spark.sql.execution.streaming.ProcessingTimeExecutor.execute(TriggerExecutor.scala:67)\n",
      "\tat org.apache.spark.sql.execution.streaming.MicroBatchExecution.runActivatedStream(MicroBatchExecution.scala:239)\n",
      "\tat org.apache.spark.sql.execution.streaming.StreamExecution.$anonfun$runStream$1(StreamExecution.scala:311)\n",
      "\tat scala.runtime.java8.JFunction0$mcV$sp.apply(JFunction0$mcV$sp.scala:18)\n",
      "\tat org.apache.spark.sql.SparkSession.withActive(SparkSession.scala:900)\n",
      "\tat org.apache.spark.sql.execution.streaming.StreamExecution.org$apache$spark$sql$execution$streaming$StreamExecution$$runStream(StreamExecution.scala:289)\n",
      "\tat org.apache.spark.sql.execution.streaming.StreamExecution$$anon$1.$anonfun$run$1(StreamExecution.scala:211)\n",
      "\tat scala.runtime.java8.JFunction0$mcV$sp.apply(JFunction0$mcV$sp.scala:18)\n",
      "\tat org.apache.spark.JobArtifactSet$.withActiveJobArtifactState(JobArtifactSet.scala:94)\n",
      "\tat org.apache.spark.sql.execution.streaming.StreamExecution$$anon$1.run(StreamExecution.scala:211)\n"
     ]
    },
    {
     "name": "stderr",
     "output_type": "stream",
     "text": [
      "25/05/13 06:43:21 WARN TaskSetManager: Lost task 0.0 in stage 24.0 (TID 48) (172.23.0.3 executor 0): TaskKilled (Stage cancelled: Job 24 cancelled part of cancelled job group 58cb6da8-f109-4337-a611-70499033fc4d)\n",
      "25/05/13 06:43:21 WARN TaskSetManager: Lost task 1.0 in stage 24.0 (TID 47) (172.23.0.4 executor 1): TaskKilled (Stage cancelled: Job 24 cancelled part of cancelled job group 58cb6da8-f109-4337-a611-70499033fc4d)\n"
     ]
    }
   ],
   "source": [
    "query.stop()"
   ]
  },
  {
   "cell_type": "code",
   "execution_count": 9,
   "id": "db3a9441",
   "metadata": {},
   "outputs": [],
   "source": [
    "sc.stop()"
   ]
  },
  {
   "cell_type": "markdown",
   "id": "5ef8df6d",
   "metadata": {},
   "source": [
    "### **Código: Machine Learning**\n",
    "---"
   ]
  },
  {
   "cell_type": "markdown",
   "id": "ff68342f",
   "metadata": {},
   "source": [
    "#### Encontrar instalación de Spark"
   ]
  },
  {
   "cell_type": "code",
   "execution_count": 1,
   "id": "a3995d46",
   "metadata": {},
   "outputs": [],
   "source": [
    "import findspark\n",
    "findspark.init()"
   ]
  },
  {
   "cell_type": "markdown",
   "id": "5262ac63",
   "metadata": {},
   "source": [
    "#### Creación de la conexión con el cluster de Spark"
   ]
  },
  {
   "cell_type": "code",
   "execution_count": 2,
   "id": "18ec6b5c",
   "metadata": {},
   "outputs": [
    {
     "name": "stderr",
     "output_type": "stream",
     "text": [
      "Setting default log level to \"WARN\".\n",
      "To adjust logging level use sc.setLogLevel(newLevel). For SparkR, use setLogLevel(newLevel).\n",
      "25/05/13 06:45:20 WARN NativeCodeLoader: Unable to load native-hadoop library for your platform... using builtin-java classes where applicable\n"
     ]
    }
   ],
   "source": [
    "from pyspark.sql import SparkSession\n",
    "\n",
    "spark = SparkSession.builder \\\n",
    "    .appName(\"Equipo-McQueen-Logistic-Regression\") \\\n",
    "    .master(\"spark://073701f82f51:7077\") \\\n",
    "    .config(\"spark.ui.port\",\"4040\") \\\n",
    "    .getOrCreate()\n",
    "\n",
    "sc = spark.sparkContext\n",
    "spark.conf.set(\"spark.sql.shuffle.partitions\", \"5\")"
   ]
  },
  {
   "cell_type": "markdown",
   "id": "3296cc5e",
   "metadata": {},
   "source": [
    "#### Preparación de datos"
   ]
  },
  {
   "cell_type": "code",
   "execution_count": 3,
   "id": "4aafb618",
   "metadata": {},
   "outputs": [
    {
     "name": "stderr",
     "output_type": "stream",
     "text": [
      "                                                                                \r"
     ]
    },
    {
     "name": "stdout",
     "output_type": "stream",
     "text": [
      "root\n",
      " |-- key: binary (nullable = true)\n",
      " |-- value: binary (nullable = true)\n",
      " |-- topic: string (nullable = true)\n",
      " |-- partition: integer (nullable = true)\n",
      " |-- offset: long (nullable = true)\n",
      " |-- timestamp: timestamp (nullable = true)\n",
      " |-- timestampType: integer (nullable = true)\n",
      " |-- value_str: string (nullable = true)\n",
      "\n"
     ]
    }
   ],
   "source": [
    "website_activity_df = spark.read.parquet(\"/home/jovyan/notebooks/data/\")\n",
    "website_activity_df.printSchema()"
   ]
  },
  {
   "cell_type": "markdown",
   "id": "7aa8986a",
   "metadata": {},
   "source": [
    "#### Verificación de datos generados"
   ]
  },
  {
   "cell_type": "code",
   "execution_count": 4,
   "id": "d6ce98cd",
   "metadata": {},
   "outputs": [
    {
     "name": "stderr",
     "output_type": "stream",
     "text": [
      "                                                                                \r"
     ]
    },
    {
     "name": "stdout",
     "output_type": "stream",
     "text": [
      "+---------------------------------------------------------------------------------------------------------------------------------------------------------------------------------------------------------------------------------------------------------------------------------------------------------------------------------------------------------------------------------------------------------------------------------------------------------------------------------------------------------------------------------------------------------------------------------------------------------------------+\n",
      "|value_str                                                                                                                                                                                                                                                                                                                                                                                                                                                                                                                                                                                                            |\n",
      "+---------------------------------------------------------------------------------------------------------------------------------------------------------------------------------------------------------------------------------------------------------------------------------------------------------------------------------------------------------------------------------------------------------------------------------------------------------------------------------------------------------------------------------------------------------------------------------------------------------------------+\n",
      "|{\"event_id\": \"2e133e87-5087-4fce-a256-389d9dc5149e\", \"user_id\": \"2253af06-9b48-4e33-9ec4-964363459f15\", \"page_url\": \"https://www.sellers.com/wp-content/categories/blogregister.asp\", \"timestamp\": \"2025-05-13T06:42:54.117759Z\", \"action_type\": \"scroll\", \"browser\": \"Opera/9.23.(Windows NT 11.0; ar-YE) Presto/2.9.178 Version/12.00\", \"timezone\": \"Africa/Dakar\", \"device_type\": \"mobile\", \"click_coordinates_x\": 1434, \"click_coordinates_y\": 158, \"session_id\": \"a896a6c2-b9e9-4eb0-b849-47e134b698ad\", \"ip_address\": \"186.253.97.240\"}                                                                        |\n",
      "|{\"event_id\": \"8a854734-3094-46be-ba73-c467c2330bd7\", \"user_id\": \"2d92161b-308e-4092-8f51-c0b37fe0cdf7\", \"page_url\": \"https://mendez-ochoa.com/bloghomepage.html\", \"timestamp\": \"2025-05-13T06:42:54.354203Z\", \"action_type\": \"click\", \"browser\": \"Mozilla/5.0 (compatible; MSIE 6.0; Windows NT 5.01; Trident/5.0)\", \"timezone\": \"Africa/Nairobi\", \"device_type\": \"mobile\", \"click_coordinates_x\": 640, \"click_coordinates_y\": 591, \"session_id\": \"fc9cfd92-f954-4925-8b4d-61ce83f056f3\", \"ip_address\": \"158.222.154.18\"}                                                                                            |\n",
      "|{\"event_id\": \"74d8ad26-6e92-41d6-b1e0-4baded4a4811\", \"user_id\": \"5863a070-7474-42f9-b4fb-c496a1dd8a3f\", \"page_url\": \"http://www.callahan.com/wp-content/tag/explorecategory.asp\", \"timestamp\": \"2025-05-13T06:42:54.645627Z\", \"action_type\": \"view\", \"browser\": \"Opera/9.84.(X11; Linux i686; quz-PE) Presto/2.9.187 Version/11.00\", \"timezone\": \"Africa/Porto-Novo\", \"device_type\": \"mobile\", \"click_coordinates_x\": 509, \"click_coordinates_y\": 869, \"session_id\": \"f4b3e778-1316-4bf3-9157-3d9ee21cb514\", \"ip_address\": \"23.243.52.164\"}                                                                          |\n",
      "|{\"event_id\": \"cc7d6e54-cb7d-4bdf-897a-2541f12266cd\", \"user_id\": \"b688a49a-6b80-48e8-a816-cf958d6fab32\", \"page_url\": \"https://coleman.com/tag/mainhomepage.htm\", \"timestamp\": \"2025-05-13T06:42:54.750679Z\", \"action_type\": \"click\", \"browser\": \"Mozilla/5.0 (X11; Linux i686) AppleWebKit/535.1 (KHTML, like Gecko) Chrome/34.0.890.0 Safari/535.1\", \"timezone\": \"Asia/Riyadh\", \"device_type\": \"desktop\", \"click_coordinates_x\": 1088, \"click_coordinates_y\": 586, \"session_id\": \"7eb204ec-b6c8-4403-b004-17e476e8b3fa\", \"ip_address\": \"64.164.46.230\"}                                                              |\n",
      "|{\"event_id\": \"c8ead132-357c-4a16-95ae-9c8f845f13ee\", \"user_id\": \"dec7907b-e1a8-44e3-ad2e-6dcc35eed7a7\", \"page_url\": \"https://www.ramirez.com/list/listfaq.html\", \"timestamp\": \"2025-05-13T06:42:55.498767Z\", \"action_type\": \"view\", \"browser\": \"Mozilla/5.0 (iPod; U; CPU iPhone OS 3_3 like Mac OS X; sid-ET) AppleWebKit/534.48.3 (KHTML, like Gecko) Version/3.0.5 Mobile/8B116 Safari/6534.48.3\", \"timezone\": \"Europe/Ljubljana\", \"device_type\": \"desktop\", \"click_coordinates_x\": 780, \"click_coordinates_y\": 840, \"session_id\": \"bf770465-f75a-4372-9f08-b0b472fdbade\", \"ip_address\": \"119.4.86.146\"}          |\n",
      "|{\"event_id\": \"b043597e-77ca-4542-b9ef-60c36cba17c0\", \"user_id\": \"881141f2-6686-4214-a2fe-3a63b7d9ed9d\", \"page_url\": \"http://www.banks.com/wp-contentauthor.php\", \"timestamp\": \"2025-05-13T06:42:55.971456Z\", \"action_type\": \"click\", \"browser\": \"Mozilla/5.0 (Windows NT 5.2; el-GR; rv:1.9.2.20) Gecko/5144-02-03 09:06:40.100510 Firefox/3.6.3\", \"timezone\": \"Asia/Aden\", \"device_type\": \"mobile\", \"click_coordinates_x\": 188, \"click_coordinates_y\": 501, \"session_id\": \"750017f5-0d03-487a-8c4c-b5efb34bfdb1\", \"ip_address\": \"88.121.136.210\"}                                                                   |\n",
      "|{\"event_id\": \"2659edfb-4c56-4b75-a8db-58f6f0ad43b7\", \"user_id\": \"cead986f-8156-419d-81ab-c5fe8f4b2d9e\", \"page_url\": \"http://ryan-ferguson.biz/categoriesterms.html\", \"timestamp\": \"2025-05-13T06:42:56.340821Z\", \"action_type\": \"click\", \"browser\": \"Mozilla/5.0 (compatible; MSIE 8.0; Windows NT 11.0; Trident/5.0)\", \"timezone\": \"Africa/Bujumbura\", \"device_type\": \"tablet\", \"click_coordinates_x\": 1211, \"click_coordinates_y\": 536, \"session_id\": \"a6c40792-c388-4a83-97ee-28d18dfe1232\", \"ip_address\": \"106.121.56.13\"}                                                                                       |\n",
      "|{\"event_id\": \"f64fb5ff-5be9-4bf1-8a34-0de8b799a94f\", \"user_id\": \"c8f24f42-19ad-42a6-bb1d-e8d005450688\", \"page_url\": \"https://torres-rivera.com/appregister.htm\", \"timestamp\": \"2025-05-13T06:42:56.748712Z\", \"action_type\": \"view\", \"browser\": \"Opera/9.67.(Windows NT 5.01; bem-ZM) Presto/2.9.163 Version/12.00\", \"timezone\": \"Asia/Manila\", \"device_type\": \"desktop\", \"click_coordinates_x\": 1644, \"click_coordinates_y\": 567, \"session_id\": \"a4488d69-5f8b-49cd-90a3-f3516dd661ef\", \"ip_address\": \"207.95.239.40\"}                                                                                               |\n",
      "|{\"event_id\": \"e370f58c-893e-4dd9-96d7-f19851909d2b\", \"user_id\": \"a373159c-73fe-4712-8578-705545214b86\", \"page_url\": \"https://gill.com/wp-contentlogin.html\", \"timestamp\": \"2025-05-13T06:42:21.554950Z\", \"action_type\": \"click\", \"browser\": \"Mozilla/5.0 (Macintosh; Intel Mac OS X 10_11_4 rv:4.0; tl-PH) AppleWebKit/535.17.2 (KHTML, like Gecko) Version/5.0.4 Safari/535.17.2\", \"timezone\": \"America/El_Salvador\", \"device_type\": \"desktop\", \"click_coordinates_x\": 1800, \"click_coordinates_y\": 206, \"session_id\": \"7024a5be-1aff-4531-b17d-e3911d031260\", \"ip_address\": \"111.48.54.55\"}                        |\n",
      "|{\"event_id\": \"b0d04146-3fef-498b-a817-2989cfbb57d0\", \"user_id\": \"37f404c5-f73e-47aa-9c9b-4aee22a1b1c2\", \"page_url\": \"http://www.garner.com/list/postshomepage.jsp\", \"timestamp\": \"2025-05-13T06:42:21.975994Z\", \"action_type\": \"click\", \"browser\": \"Mozilla/5.0 (Android 12; Mobile; rv:63.0) Gecko/63.0 Firefox/63.0\", \"timezone\": \"Africa/Banjul\", \"device_type\": \"desktop\", \"click_coordinates_x\": 1017, \"click_coordinates_y\": 513, \"session_id\": \"5fe0b914-f60e-4812-8481-0ac46487228c\", \"ip_address\": \"37.202.188.145\"}                                                                                        |\n",
      "|{\"event_id\": \"57a38cb4-70fa-45ad-b819-c6edd0211c48\", \"user_id\": \"87f76345-eb62-455b-b50d-69af868ce5f9\", \"page_url\": \"https://cook.com/search/blogfaq.htm\", \"timestamp\": \"2025-05-13T06:42:22.179130Z\", \"action_type\": \"scroll\", \"browser\": \"Mozilla/5.0 (compatible; MSIE 5.0; Windows 95; Trident/3.0)\", \"timezone\": \"Europe/London\", \"device_type\": \"desktop\", \"click_coordinates_x\": 48, \"click_coordinates_y\": 212, \"session_id\": \"ef476a27-e2a0-4bde-9b37-2a6f59681bad\", \"ip_address\": \"36.227.227.158\"}                                                                                                        |\n",
      "|{\"event_id\": \"3b240a93-5b09-484b-8c7f-c193fcb14189\", \"user_id\": \"adfe7b42-fff3-4300-8d1c-e1e55e06a23b\", \"page_url\": \"http://gill-hawkins.com/explore/postspost.htm\", \"timestamp\": \"2025-05-13T06:42:22.372918Z\", \"action_type\": \"scroll\", \"browser\": \"Mozilla/5.0 (compatible; MSIE 7.0; Windows NT 11.0; Trident/5.0)\", \"timezone\": \"America/Bogota\", \"device_type\": \"desktop\", \"click_coordinates_x\": 1355, \"click_coordinates_y\": 530, \"session_id\": \"ec35a0cb-4da1-4b2e-9944-f0167d84cf4f\", \"ip_address\": \"197.183.139.12\"}                                                                                      |\n",
      "|{\"event_id\": \"3d78b1d5-68fb-4ecd-a425-ad385d2cc7ae\", \"user_id\": \"d56a559a-16f5-4258-a08e-a5c395b0069c\", \"page_url\": \"http://rojas-freeman.info/category/blog/blogterms.html\", \"timestamp\": \"2025-05-13T06:42:23.106068Z\", \"action_type\": \"click\", \"browser\": \"Mozilla/5.0 (Windows; U; Windows NT 6.1) AppleWebKit/533.32.2 (KHTML, like Gecko) Version/5.1 Safari/533.32.2\", \"timezone\": \"Africa/Tunis\", \"device_type\": \"desktop\", \"click_coordinates_x\": 328, \"click_coordinates_y\": 342, \"session_id\": \"5c388c27-6f1e-4387-a89e-f4b19a3dd81f\", \"ip_address\": \"87.205.218.105\"}                                    |\n",
      "|{\"event_id\": \"11e5d444-f2ae-4981-aff4-e0a922dea3af\", \"user_id\": \"46224e3f-f3ab-4781-8fc2-d4902718ba48\", \"page_url\": \"https://casey.com/tag/appprivacy.php\", \"timestamp\": \"2025-05-13T06:42:23.755289Z\", \"action_type\": \"scroll\", \"browser\": \"Mozilla/5.0 (Macintosh; Intel Mac OS X 10_5_4; rv:1.9.3.20) Gecko/8356-06-05 23:40:16.556000 Firefox/3.8\", \"timezone\": \"Africa/Kigali\", \"device_type\": \"tablet\", \"click_coordinates_x\": 1419, \"click_coordinates_y\": 257, \"session_id\": \"453391ba-a837-4324-b3c4-73679f266217\", \"ip_address\": \"147.110.234.203\"}                                                        |\n",
      "|{\"event_id\": \"df332819-9cd8-483c-84bb-daeb845c6f9c\", \"user_id\": \"d9ae679b-51db-413f-b650-be974c1cd28f\", \"page_url\": \"https://hughes-campbell.com/blog/explorehomepage.asp\", \"timestamp\": \"2025-05-13T06:42:23.977305Z\", \"action_type\": \"view\", \"browser\": \"Mozilla/5.0 (Macintosh; Intel Mac OS X 10_6_8 rv:6.0; ln-CD) AppleWebKit/535.24.2 (KHTML, like Gecko) Version/4.0.3 Safari/535.24.2\", \"timezone\": \"Africa/Nairobi\", \"device_type\": \"desktop\", \"click_coordinates_x\": 1556, \"click_coordinates_y\": 490, \"session_id\": \"3b8dd099-1157-4478-abe5-a40d1c539325\", \"ip_address\": \"63.36.251.22\"}                |\n",
      "|{\"event_id\": \"d532772b-9a1a-4f15-9067-853483e5d804\", \"user_id\": \"08469d7c-2605-45ce-83b3-f69614caf399\", \"page_url\": \"https://martinez.com/mainindex.asp\", \"timestamp\": \"2025-05-13T06:42:36.039992Z\", \"action_type\": \"view\", \"browser\": \"Mozilla/5.0 (Android 3.2; Mobile; rv:23.0) Gecko/23.0 Firefox/23.0\", \"timezone\": \"Europe/Rome\", \"device_type\": \"tablet\", \"click_coordinates_x\": 355, \"click_coordinates_y\": 891, \"session_id\": \"837c7bc2-907a-431e-bd86-45e9b8054989\", \"ip_address\": \"102.16.184.52\"}                                                                                                       |\n",
      "|{\"event_id\": \"27081483-5ab4-4492-9ed6-cffb0b342327\", \"user_id\": \"878f82bf-a6c4-4e89-adad-81dd9928a649\", \"page_url\": \"https://www.martinez.com/category/exploreprivacy.jsp\", \"timestamp\": \"2025-05-13T06:42:36.406028Z\", \"action_type\": \"click\", \"browser\": \"Mozilla/5.0 (Linux; Android 2.1) AppleWebKit/531.2 (KHTML, like Gecko) Chrome/56.0.821.0 Safari/531.2\", \"timezone\": \"America/Sao_Paulo\", \"device_type\": \"desktop\", \"click_coordinates_x\": 1023, \"click_coordinates_y\": 722, \"session_id\": \"95994a42-4364-46c9-8c60-de15f063d4b8\", \"ip_address\": \"128.223.117.120\"}                                       |\n",
      "|{\"event_id\": \"840878ac-5c3a-4bcd-b88f-e60149bafef3\", \"user_id\": \"af416564-f8a8-42f4-8906-0d683ff4e3d4\", \"page_url\": \"https://wolfe.com/blog/categories/postscategory.html\", \"timestamp\": \"2025-05-13T06:42:36.585956Z\", \"action_type\": \"scroll\", \"browser\": \"Mozilla/5.0 (iPod; U; CPU iPhone OS 3_0 like Mac OS X; vi-VN) AppleWebKit/534.17.2 (KHTML, like Gecko) Version/4.0.5 Mobile/8B116 Safari/6534.17.2\", \"timezone\": \"Africa/Bissau\", \"device_type\": \"tablet\", \"click_coordinates_x\": 1132, \"click_coordinates_y\": 1055, \"session_id\": \"bdffc5df-f8c7-40a2-9a07-c748472e5a54\", \"ip_address\": \"7.254.167.77\"}|\n",
      "|{\"event_id\": \"1405e91f-9047-4f18-b470-24a1ce333bc2\", \"user_id\": \"6431ec53-6e0d-4756-8cba-7ab196d6bf18\", \"page_url\": \"http://www.king.org/search/tagsearch.html\", \"timestamp\": \"2025-05-13T06:42:37.385009Z\", \"action_type\": \"view\", \"browser\": \"Mozilla/5.0 (Windows NT 5.2; ml-IN; rv:1.9.2.20) Gecko/4783-11-17 19:58:55.346115 Firefox/3.6.17\", \"timezone\": \"Africa/Dakar\", \"device_type\": \"mobile\", \"click_coordinates_x\": 470, \"click_coordinates_y\": 928, \"session_id\": \"f530b21e-53f3-45a5-8978-845396643503\", \"ip_address\": \"24.215.165.182\"}                                                                |\n",
      "|{\"event_id\": \"816d1ec3-d855-4235-b218-0a143cf3e290\", \"user_id\": \"110d904a-0448-4f02-9712-b4af3acb13de\", \"page_url\": \"https://www.andrews.com/app/postsauthor.php\", \"timestamp\": \"2025-05-13T06:42:38.271936Z\", \"action_type\": \"click\", \"browser\": \"Opera/9.93.(X11; Linux x86_64; el-CY) Presto/2.9.172 Version/10.00\", \"timezone\": \"Europe/Monaco\", \"device_type\": \"mobile\", \"click_coordinates_x\": 1104, \"click_coordinates_y\": 108, \"session_id\": \"2bdcb454-d704-42a9-8aca-83164941f5bf\", \"ip_address\": \"142.35.177.15\"}                                                                                          |\n",
      "+---------------------------------------------------------------------------------------------------------------------------------------------------------------------------------------------------------------------------------------------------------------------------------------------------------------------------------------------------------------------------------------------------------------------------------------------------------------------------------------------------------------------------------------------------------------------------------------------------------------------+\n",
      "only showing top 20 rows\n",
      "\n"
     ]
    }
   ],
   "source": [
    "website_activity_df.select(\"value_str\").show(truncate=False)"
   ]
  },
  {
   "cell_type": "markdown",
   "id": "5c78e9d5",
   "metadata": {},
   "source": [
    "#### Creación de esquema"
   ]
  },
  {
   "cell_type": "code",
   "execution_count": 5,
   "id": "476a8da7",
   "metadata": {},
   "outputs": [],
   "source": [
    "from equipo_mcqueen.spark_utils import SparkUtils\n",
    "\n",
    "website_activity_data = [\n",
    "    (\"user_id\", \"StringType\"),\n",
    "    (\"action_type\", \"StringType\"),\n",
    "    (\"device_type\", \"StringType\"),\n",
    "    (\"click_coordinates_x\", \"IntegerType\"),\n",
    "    (\"click_coordinates_y\", \"IntegerType\")\n",
    "]\n",
    "\n",
    "activity_schema = SparkUtils.generate_schema(website_activity_data)"
   ]
  },
  {
   "cell_type": "markdown",
   "id": "e4b4bf42",
   "metadata": {},
   "source": [
    "#### Extracción de datos para modelo"
   ]
  },
  {
   "cell_type": "code",
   "execution_count": 6,
   "id": "4c0d233c",
   "metadata": {},
   "outputs": [
    {
     "name": "stdout",
     "output_type": "stream",
     "text": [
      "root\n",
      " |-- user_id: string (nullable = true)\n",
      " |-- action_type: string (nullable = true)\n",
      " |-- device_type: string (nullable = true)\n",
      " |-- click_coordinates_x: integer (nullable = true)\n",
      " |-- click_coordinates_y: integer (nullable = true)\n",
      "\n"
     ]
    },
    {
     "name": "stderr",
     "output_type": "stream",
     "text": [
      "[Stage 2:>                                                          (0 + 1) / 1]\r"
     ]
    },
    {
     "name": "stdout",
     "output_type": "stream",
     "text": [
      "+------------------------------------+-----------+-----------+-------------------+-------------------+\n",
      "|user_id                             |action_type|device_type|click_coordinates_x|click_coordinates_y|\n",
      "+------------------------------------+-----------+-----------+-------------------+-------------------+\n",
      "|2253af06-9b48-4e33-9ec4-964363459f15|scroll     |mobile     |1434               |158                |\n",
      "|2d92161b-308e-4092-8f51-c0b37fe0cdf7|click      |mobile     |640                |591                |\n",
      "|5863a070-7474-42f9-b4fb-c496a1dd8a3f|view       |mobile     |509                |869                |\n",
      "|b688a49a-6b80-48e8-a816-cf958d6fab32|click      |desktop    |1088               |586                |\n",
      "|dec7907b-e1a8-44e3-ad2e-6dcc35eed7a7|view       |desktop    |780                |840                |\n",
      "|881141f2-6686-4214-a2fe-3a63b7d9ed9d|click      |mobile     |188                |501                |\n",
      "|cead986f-8156-419d-81ab-c5fe8f4b2d9e|click      |tablet     |1211               |536                |\n",
      "|c8f24f42-19ad-42a6-bb1d-e8d005450688|view       |desktop    |1644               |567                |\n",
      "|a373159c-73fe-4712-8578-705545214b86|click      |desktop    |1800               |206                |\n",
      "|37f404c5-f73e-47aa-9c9b-4aee22a1b1c2|click      |desktop    |1017               |513                |\n",
      "|87f76345-eb62-455b-b50d-69af868ce5f9|scroll     |desktop    |48                 |212                |\n",
      "|adfe7b42-fff3-4300-8d1c-e1e55e06a23b|scroll     |desktop    |1355               |530                |\n",
      "|d56a559a-16f5-4258-a08e-a5c395b0069c|click      |desktop    |328                |342                |\n",
      "|46224e3f-f3ab-4781-8fc2-d4902718ba48|scroll     |tablet     |1419               |257                |\n",
      "|d9ae679b-51db-413f-b650-be974c1cd28f|view       |desktop    |1556               |490                |\n",
      "|08469d7c-2605-45ce-83b3-f69614caf399|view       |tablet     |355                |891                |\n",
      "|878f82bf-a6c4-4e89-adad-81dd9928a649|click      |desktop    |1023               |722                |\n",
      "|af416564-f8a8-42f4-8906-0d683ff4e3d4|scroll     |tablet     |1132               |1055               |\n",
      "|6431ec53-6e0d-4756-8cba-7ab196d6bf18|view       |mobile     |470                |928                |\n",
      "|110d904a-0448-4f02-9712-b4af3acb13de|click      |mobile     |1104               |108                |\n",
      "+------------------------------------+-----------+-----------+-------------------+-------------------+\n",
      "only showing top 20 rows\n",
      "\n"
     ]
    },
    {
     "name": "stderr",
     "output_type": "stream",
     "text": [
      "                                                                                \r"
     ]
    }
   ],
   "source": [
    "from pyspark.sql.functions import from_json, col\n",
    "\n",
    "df = website_activity_df.withColumn(\"parsed_data\", from_json(col(\"value_str\"), activity_schema))\n",
    "activity_df = df.select(\"parsed_data.*\")\n",
    "activity_df.printSchema()\n",
    "activity_df.show(truncate=False)"
   ]
  },
  {
   "cell_type": "markdown",
   "id": "6d377160",
   "metadata": {},
   "source": [
    "#### Agrupación y agregación de datos"
   ]
  },
  {
   "cell_type": "code",
   "execution_count": null,
   "id": "7046f35e",
   "metadata": {},
   "outputs": [
    {
     "name": "stderr",
     "output_type": "stream",
     "text": [
      "[Stage 6:>                                                          (0 + 2) / 2]\r"
     ]
    },
    {
     "name": "stdout",
     "output_type": "stream",
     "text": [
      "+------------------------------------+-----------+-----------+------------+----------+-----------------------+-----------------------+\n",
      "|user_id                             |device_type|click_count|scroll_count|view_count|avg_click_coordinates_x|avg_click_coordinates_y|\n",
      "+------------------------------------+-----------+-----------+------------+----------+-----------------------+-----------------------+\n",
      "|02b1a16a-89cd-438c-8df4-14e41558f16c|mobile     |1          |0           |0         |63.0                   |843.0                  |\n",
      "|03d347da-63f8-4d0c-af46-e5ade618ffcc|mobile     |1          |0           |0         |155.0                  |813.0                  |\n",
      "|04830576-04b7-4c43-b590-db95ae85170c|mobile     |1          |0           |0         |1494.0                 |590.0                  |\n",
      "|06366b86-fb90-4d0f-8db2-f584d4f2c9aa|mobile     |0          |0           |1         |151.0                  |92.0                   |\n",
      "|06710b9b-d537-41cf-b549-44dde55e005b|desktop    |0          |1           |0         |1330.0                 |383.0                  |\n",
      "|072963a2-c728-4d90-93c4-ee23af41b01f|mobile     |1          |0           |0         |1882.0                 |223.0                  |\n",
      "|08469d7c-2605-45ce-83b3-f69614caf399|tablet     |0          |0           |1         |355.0                  |891.0                  |\n",
      "|085dc158-e7d9-494b-8707-1e9cdd29cd13|tablet     |1          |0           |0         |92.0                   |848.0                  |\n",
      "|0a00e6cd-e801-4c88-9fd1-1033d4cd5641|tablet     |0          |0           |1         |183.0                  |22.0                   |\n",
      "|0c29c334-a2b0-4234-b349-fcde3a89dc8e|desktop    |0          |0           |1         |1895.0                 |799.0                  |\n",
      "|0c8d0c88-5a50-4ded-8bac-3e214d0c9abc|tablet     |0          |1           |0         |68.0                   |64.0                   |\n",
      "|0df57fea-6090-4788-b4a6-4cbf8bdee4ab|mobile     |1          |0           |0         |1470.0                 |778.0                  |\n",
      "|0eb9343e-be07-4310-90a2-d34498006f93|desktop    |0          |0           |1         |760.0                  |576.0                  |\n",
      "|0ed97c34-1f65-4173-a1e7-b81b97ed5cef|desktop    |0          |0           |1         |1399.0                 |265.0                  |\n",
      "|0efe3436-6107-48e2-91b5-c301a1d97b6b|mobile     |1          |0           |0         |993.0                  |198.0                  |\n",
      "|0f7e698b-4278-4bd7-9200-177fb36aeb35|mobile     |0          |0           |1         |925.0                  |896.0                  |\n",
      "|110d904a-0448-4f02-9712-b4af3acb13de|mobile     |1          |0           |0         |1104.0                 |108.0                  |\n",
      "|112fc6f1-3093-434e-b5be-ba8847fd7c74|desktop    |0          |1           |0         |1118.0                 |651.0                  |\n",
      "|11a20507-49f1-411f-9535-05556a9e6089|mobile     |1          |0           |0         |1651.0                 |266.0                  |\n",
      "|127a8190-42a0-46bc-ad5b-5a5ac1f5fc73|mobile     |0          |0           |1         |860.0                  |543.0                  |\n",
      "+------------------------------------+-----------+-----------+------------+----------+-----------------------+-----------------------+\n",
      "only showing top 20 rows\n",
      "\n"
     ]
    },
    {
     "name": "stderr",
     "output_type": "stream",
     "text": [
      "                                                                                \r"
     ]
    }
   ],
   "source": [
    "from pyspark.sql.functions import first, count, avg, when\n",
    "\n",
    "user_features = activity_df.groupBy(\"user_id\").agg(first(\"device_type\").alias(\"device_type\"),\n",
    "                                                   count(when(col(\"action_type\") == \"click\", 1)).alias(\"click_count\"),\n",
    "                                                   count(when(col(\"action_type\") == \"scroll\", 1)).alias(\"scroll_count\"),\n",
    "                                                   count(when(col(\"action_type\") == \"view\", 1)).alias(\"view_count\"),\n",
    "                                                   avg(\"click_coordinates_x\").alias(\"avg_click_coordinates_x\"),\n",
    "                                                   avg(\"click_coordinates_y\").alias(\"avg_click_coordinates_y\"))\n",
    "\n",
    "user_features.show(truncate=False)"
   ]
  },
  {
   "cell_type": "markdown",
   "id": "de198008",
   "metadata": {},
   "source": [
    "#### Creación de vector"
   ]
  },
  {
   "cell_type": "code",
   "execution_count": null,
   "id": "99054417",
   "metadata": {},
   "outputs": [
    {
     "name": "stderr",
     "output_type": "stream",
     "text": [
      "                                                                                \r"
     ]
    }
   ],
   "source": [
    "from pyspark.ml.feature import VectorAssembler, StandardScaler\n",
    "\n",
    "numerical_features = [\n",
    "    \"click_count\",\n",
    "    \"scroll_count\",\n",
    "    \"view_count\", \n",
    "    \"avg_click_coordinates_x\",\n",
    "    \"avg_click_coordinates_y\"\n",
    "]\n",
    "\n",
    "assembler = VectorAssembler(inputCols=numerical_features, outputCol=\"features\")\n",
    "\n",
    "assembled_data = assembler.transform(user_features)"
   ]
  },
  {
   "cell_type": "markdown",
   "id": "2e09f55d",
   "metadata": {},
   "source": [
    "#### Creación de Scaler"
   ]
  },
  {
   "cell_type": "code",
   "execution_count": null,
   "id": "2540c907",
   "metadata": {},
   "outputs": [],
   "source": [
    "scaler = StandardScaler(\n",
    "    inputCol=\"features\",\n",
    "    outputCol=\"scaled_features\",\n",
    "    withStd=True,\n",
    "    withMean=True\n",
    ")\n",
    "\n",
    "scaler_model = scaler.fit(assembled_data)\n",
    "scaled_data = scaler_model.transform(assembled_data)"
   ]
  },
  {
   "cell_type": "markdown",
   "id": "6ed84d83",
   "metadata": {},
   "source": [
    "#### Creación de modelo"
   ]
  },
  {
   "cell_type": "code",
   "execution_count": null,
   "id": "a83a9810",
   "metadata": {},
   "outputs": [
    {
     "name": "stderr",
     "output_type": "stream",
     "text": [
      "                                                                                \r"
     ]
    }
   ],
   "source": [
    "from pyspark.ml.clustering import KMeans\n",
    "\n",
    "k_value = 5\n",
    "\n",
    "kmeans = KMeans(\n",
    "    featuresCol=\"scaled_features\",\n",
    "    k=k_value,\n",
    "    seed=42\n",
    ")"
   ]
  },
  {
   "cell_type": "markdown",
   "id": "b1b988c3",
   "metadata": {},
   "source": [
    "#### Entrenamiento"
   ]
  },
  {
   "cell_type": "code",
   "execution_count": null,
   "id": "4e6a631e",
   "metadata": {},
   "outputs": [],
   "source": [
    "model = kmeans.fit(scaled_data)"
   ]
  },
  {
   "cell_type": "markdown",
   "id": "3ae24531",
   "metadata": {},
   "source": [
    "#### Predicciones"
   ]
  },
  {
   "cell_type": "code",
   "execution_count": null,
   "id": "227ea084",
   "metadata": {},
   "outputs": [],
   "source": [
    "predictions = model.transform(scaled_data)"
   ]
  },
  {
   "cell_type": "markdown",
   "id": "ada9dd20",
   "metadata": {},
   "source": [
    "### **Visualización de datos: Power BI**\n",
    "---"
   ]
  },
  {
   "cell_type": "markdown",
   "id": "9d3fd8fa",
   "metadata": {},
   "source": [
    "#### Conversión a CSV"
   ]
  },
  {
   "cell_type": "code",
   "execution_count": null,
   "id": "1c7ab952",
   "metadata": {},
   "outputs": [],
   "source": []
  },
  {
   "cell_type": "markdown",
   "id": "5f99be21",
   "metadata": {},
   "source": [
    "#### Dashboard de ejemplo\n",
    "\n",
    "Placeholder"
   ]
  }
 ],
 "metadata": {
  "kernelspec": {
   "display_name": "Python 3 (ipykernel)",
   "language": "python",
   "name": "python3"
  },
  "language_info": {
   "codemirror_mode": {
    "name": "ipython",
    "version": 3
   },
   "file_extension": ".py",
   "mimetype": "text/x-python",
   "name": "python",
   "nbconvert_exporter": "python",
   "pygments_lexer": "ipython3",
   "version": "3.11.6"
  }
 },
 "nbformat": 4,
 "nbformat_minor": 5
}
