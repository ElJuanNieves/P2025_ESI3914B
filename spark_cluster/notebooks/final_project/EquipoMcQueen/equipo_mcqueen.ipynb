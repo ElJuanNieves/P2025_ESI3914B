{
 "cells": [
  {
   "cell_type": "markdown",
   "id": "71972a84",
   "metadata": {},
   "source": [
    "# <center> <img src=\"./img/ITESOLogo.png\" alt=\"ITESO\" width=\"480\" height=\"130\"> </center>\n",
    "# <center> **Departamento de Electrónica, Sistemas e Informática** </center>\n",
    "---\n",
    "## <center> **Proyecto Final: Website Activity** </center>\n",
    "---\n",
    "\n",
    "<center>\n",
    "\n",
    "**Equipo McQueen**: Marco Albanese, Vicente Siloe\n",
    "\n",
    "**Carrera**: Ingeniería en Sistemas Computacionales\n",
    "\n",
    "**Fecha**: 13 de mayo del 2025\n",
    "\n",
    "**Profesor**: Pablo Camarillo Ramirez\n",
    "\n",
    "</center>\n",
    "\n",
    "---\n",
    "### <center> **Primavera 2025** </center>\n",
    "---"
   ]
  },
  {
   "cell_type": "markdown",
   "id": "dfebc990",
   "metadata": {},
   "source": [
    "### **Introducción y definición del problema**"
   ]
  },
  {
   "cell_type": "markdown",
   "id": "76bd1d95",
   "metadata": {},
   "source": [
    "El procesamiento de datos en aplicaciones es esencial hoy en día para una multitud de usos y propósitos que proveen beneficios tanto a usuarios como empresas. En este proyecto, creado al culminar el curso de \"Procesamiento de datos masivos\", se pretende crear una aplicación que integre los conocimientos adquiridos en dicho curso. A través de una *pipeline* de *Big Data*, se busca producir, consumir, analizar y procesar datos de la actividad (tráfico) observada en una aplicación web.\n",
    "\n",
    "Los datos involucrados representan:\n",
    "- Interacciones de usuario\n",
    "- Páginas visitadas\n",
    "- Clicks\n",
    "- Dispositivos utilizados\n",
    "- Etc.\n",
    "\n",
    "Asimismo, se entrena un modelo de aprendizaje automático (*machine learning*) en base a los datos recolectados para predecir comportamientos de usuario, utilizando regresión logística. Los resultados de este modelo se presentan al usuario final a través de un *dashboard* de visualización de datos.\n",
    "\n",
    "Para la realización de este proyecto, se utilizaron tecnologías como **Jupyter Notebooks**, **Python**, **PySpark**, **Apache Kafka** y **Power BI**. En secciones posteriores, se describe con mayor detalle la arquitectura, implementación y funcionamiento del sistema."
   ]
  },
  {
   "cell_type": "markdown",
   "id": "984bd6e9",
   "metadata": {},
   "source": [
    "### **Arquitectura del sistema**"
   ]
  },
  {
   "cell_type": "markdown",
   "id": "9e48b7c9",
   "metadata": {},
   "source": [
    "La arquitectura del sistema es la siguiente:\n",
    "\n",
    "1. **Productores Kafka:** encargados de generar datos de actividad/tráfico web. Se utilizan dos acorde a la cantidad de integrantes en el equipo y dichos datos son publicados a dos tópicos individuales.\n",
    "2. **Kafka Broker:** intermediario para conectar productores con consumidor, donde se crean los tópicos necesarios.\n",
    "3. **Consumidor PySpark:** consumidor de los datos en tiempo real, guardando activamente en formato Parquet para formar un data lake.\n",
    "4. **Modelo de aprendizaje máquina (Machine Learning):** modelo de K-means para la segmentación de usuarios en base a su comportamiento navegando la web.\n",
    "5. **Visualización de datos:** se incluye un dashboard de visualización en base a los resultados obtenidos por el modelo de *machine learning*, realizado en Power BI.\n",
    "\n",
    "A continuación se presenta un diagrama visual de dicha arquitectura:\n",
    "\n",
    "\n",
    "# <img src=\"./img/system_architecture.png\" alt=\"System Architecture\">"
   ]
  },
  {
   "cell_type": "markdown",
   "id": "1337cf66",
   "metadata": {},
   "source": [
    "### **Justificación de las 5Vs**"
   ]
  },
  {
   "cell_type": "markdown",
   "id": "70182f5a",
   "metadata": {},
   "source": [
    "- **Volumen:** En una ejecución de 60 segundos, se generan aproximadamente 50 archivos en formato Parquet. Seleccionando dichos archivos y verificando sus propiedades, obtenemos un tamaño de 370 KB. En promedio, se observa un tamaño de 7.4 KB por archivo. Teniendo esta información, podemos generar la tabla de crecimiento:\n",
    "\n",
    "<center>\n",
    "\n",
    "| **Periodo de tiempo** | **Datos procesados** |\n",
    "|-----------------------|----------------------|\n",
    "| 1 segundo             | 7.4 KB               |\n",
    "| 1 minuto              | 444 KB               |\n",
    "| 1 hora                | 26.64 MB             |\n",
    "| 1 día                 | 639.36 MB            |\n",
    "| 1 año                 | 233.1 GB             |\n",
    "\n",
    "</center>\n",
    "\n",
    "- **Velocidad:** Este valor no pudo ser incluido en esta justificación. La explicación del problema se presenta en la sección de \"Problemas encontrados\"\n",
    "\n",
    "- **Variedad:** El esquema de datos producidos por el tráfico de la página web es el siguiente:\n",
    "\n",
    "<center>\n",
    "\n",
    "\n",
    "| **Campo**           | **Tipo de dato** |\n",
    "|---------------------|------------------|\n",
    "| event_id            | String           |\n",
    "| user_id             | String           |\n",
    "| page_url            | String           |\n",
    "| timestamp           | Timestamp        |\n",
    "| action_type         | String           |\n",
    "| browser             | String           |\n",
    "| timezone            | String           |\n",
    "| device_type         | String           |\n",
    "| click_coordinates_x | Integer          |\n",
    "| click_coordinates_y | Integer          |\n",
    "| session_id          | String           |\n",
    "| ip_address          | String           |\n",
    "\n",
    "</center>\n",
    "\n",
    "\n",
    "- **Veracidad:** Los datos generados para cada campo se asemejan a la realidad gracias al uso de la librería Faker. Por ejemplo, los IDs son generados en formato UUID de 128 bits, *timezone* representa una zona horaria real, *ip_address* sigue el formato de IPv4, etc. \n",
    "\n",
    "- **Valor:** los datos almacenados brindan información valiosa acerca de usuarios, sus intereses en páginas web, navegadores más comunes, tipos de dispositivos (ej. si se debería poner más esfuerzo en una página amigable a dispositivos móviles), la región a la que pertenecen, etc."
   ]
  },
  {
   "cell_type": "markdown",
   "id": "afae6570",
   "metadata": {},
   "source": [
    "### **Detalles de implementación**"
   ]
  },
  {
   "cell_type": "markdown",
   "id": "7f63e84b",
   "metadata": {},
   "source": [
    "- Para el levantamiento del broker de Kafka como también PySpark, se utilizaron contenedores creados a través de Docker Compose, una herramienta para correr aplicaciones multi-contenedor.\n",
    "\n",
    "- Para la creación de los productores de datos, se utilizaron dos Jupyter Notebooks localizados en la carpeta `lib`, llamados `producer_a.ipynb` y `producer_b.ipynb`. Estos mantienen parecido al ejemplo localizado en `notebooks/examples/producers/kafka_producer.ipynb`. \n",
    "  - A su vez, ambos productores importan una función auxiliar de un script de Python llamado `website_activity.py`, localizado en la carpeta `lib`. Este script utiliza la librería Faker para generar datos aleatorios.\n",
    "\n",
    "La implementación de esta aplicación sigue una estructura similar a laboratorios vistos en clase. Notablemente, se toma como inspiración a los siguientes archivos:\n",
    "\n",
    "- `example_structured_streaming_files_traffic_data.ipynb`\n",
    "- `example_structured_streaming_files.ipynb`\n",
    "- `example_structured_streaming_kafka_watermarking.ipynb`\n",
    "- `example_structured_streaming_kafka.ipynb`\n",
    "\n",
    "Para el modelo de Machine Learning, se utilizó K-means para crear una segmentación de usuarios que pueda ser utilizada para identificar diferentes comportamientos (ej. usuarios que más hacen click, usuarios que más scrollean, etc). La elección del valor de `k` fue realizada de manera arbitraria. Se debe mencionar que este no es un modo correcto o justificable para elegir este valor, por lo que se requeriría un nuevo análisis para identificar un mejor o más adecuado valor. Métodos disponibles para este fin pueden ser consultados en https://en.wikipedia.org/wiki/K-means_clustering\n",
    "\n",
    "Se tomó como referencia el siguiente ejemplo:\n",
    "\n",
    "- `example_k_means.ipynb`"
   ]
  },
  {
   "cell_type": "markdown",
   "id": "fc15fb8c",
   "metadata": {},
   "source": [
    "### **Resultados y evaluación**"
   ]
  },
  {
   "cell_type": "markdown",
   "id": "237061f4",
   "metadata": {},
   "source": [
    "Al evaluar la puntuación de la silueta (silhouette) del modelo, se obtuvo un valor de 0.59, el cual está más cercano a 1 que a 0, por lo que se alcanzó una separación regular de los clusters generados. Encontrando un mejor valor de `k` para utilizar, se podría obtener una mejor puntuación para la silueta. Al exporar los resultados de las predicciones a CSV para su uso en Power BI, se creó un dashboard sencillo. Este muestra información acerca de los usuarios como también estadísticas relevantes del tráfico web observado.\n",
    "\n",
    "Por un lado, se pueden observar la cantidad de clicks que se reciben por tipo de dispositivo, asi como la cantidad de *scrolleos* por cada tipo. Por otro lado, se observa la cantidad de usuarios que cae (en promedio) sobre un clúster en particular. Estos clusters representan un \"tipo de usuario\", donde se tiene, por ejemplo, a usuarios que hacen muchos clicks (cluster 3), como también usuarios que visitan muchas páginas (cluster 2).\n",
    "\n",
    "\n",
    "# <center> <img src=\"./img/sample_dashboard.png\" width=\"50%\"> </center>"
   ]
  },
  {
   "cell_type": "markdown",
   "id": "884c7ff1",
   "metadata": {},
   "source": [
    "### **Problemas encontrados**\n",
    "\n",
    "La justificación de \"Velocidad\" se intentó generar a través de la implementación de un QueryListener, similar al de la actividad realizada para datos de tráfico. La implementación propuesta era la siguiente:\n",
    "\n",
    "```python\n",
    "class MyQueryListener(StreamingQueryListener):\n",
    "    def onQueryStarted(self, event):\n",
    "        print(f\"Query started: {event.id}\")\n",
    "\n",
    "    def onQueryProgress(self, event):\n",
    "        print(f\"[{event.timestamp}]\")\n",
    "        print(f\"Input Rows Per Second: {event.inputRowsPerSecond}\")\n",
    "        print(f\"Processed Rows Per Second: {event.processedRowsPerSecond}\")\n",
    "        print(f\"Num Input Rows: {event.numInputRows}\")\n",
    "\n",
    "    def onQueryTerminated(self, event):\n",
    "        print(f\"Query terminated: {event.id}\")\n",
    "\n",
    "```\n",
    "\n",
    "Al tratar de utilizar este código, encontramos que saltaban errores debido al ID del evento, así como las propiedades que se intentan consultar de dicho evento (`inputRowsPerSecond`, etc). Se intentó diagnosticar más a fondo pero no se llegó a una solución. Por ello, el valor para justificar este campo no se incluye."
   ]
  },
  {
   "cell_type": "markdown",
   "id": "baea28ca",
   "metadata": {},
   "source": [
    "### **Conclusión**"
   ]
  },
  {
   "cell_type": "markdown",
   "id": "b300474f",
   "metadata": {},
   "source": [
    "La realización de este proyecto representa la culminación de los conocimientos adquiridos a lo largo del curso de Procesamiento de datos masivos. Se lograron integrar varios componentes de distintas lecturas y laboratorios de clase, principalmente a través de PySpark y Kafka. Por un lado, la parte más interesante ha sido la producción y consumo de datos para su posterior procesamiento. Por otro lado, identificamos que, como trabajo futuro, se podría mejorar el valor dado por el segmento de *machine learning*. Consideramos que esta parte, aunque relativamente fácil de implementar a nivel código, requiere de mayor planeamiento y decisiones acertadas. "
   ]
  },
  {
   "cell_type": "markdown",
   "id": "42b00724",
   "metadata": {},
   "source": [
    "---"
   ]
  },
  {
   "cell_type": "markdown",
   "id": "367fbc33",
   "metadata": {},
   "source": [
    "### **Código: Spark + Kafka**\n",
    "---"
   ]
  },
  {
   "cell_type": "markdown",
   "id": "2c132e4c",
   "metadata": {},
   "source": [
    "Previo a la ejecución del siguiente código, los contenedores de Docker para el cluster de Spark y el cluster de Kafka deben estar activos.\n",
    "\n",
    "Para ello, se puede utilizar los comandos:\n",
    "\n",
    "`docker compose up --scale spark-worker=2 -d`\n",
    "\n",
    "`docker compose up -d`\n",
    "\n",
    "En los directorios `spark_cluster` y `kafka_cluster` respectivamente. Nótese que se requerirán distintos IDs de contenedores en los bloques de código pertinentes."
   ]
  },
  {
   "cell_type": "markdown",
   "id": "e65f449c",
   "metadata": {},
   "source": [
    "#### Encontrar instalación de Spark"
   ]
  },
  {
   "cell_type": "code",
   "execution_count": 3,
   "id": "290cbc00",
   "metadata": {},
   "outputs": [],
   "source": [
    "import findspark\n",
    "findspark.init()"
   ]
  },
  {
   "cell_type": "markdown",
   "id": "2dc2bfa8",
   "metadata": {},
   "source": [
    "#### Creación de la conexión con el cluster de Spark"
   ]
  },
  {
   "cell_type": "code",
   "execution_count": 4,
   "id": "25653e48",
   "metadata": {},
   "outputs": [
    {
     "name": "stdout",
     "output_type": "stream",
     "text": [
      ":: loading settings :: url = jar:file:/opt/conda/spark-3.5.4-bin-hadoop3-scala2.13/jars/ivy-2.5.1.jar!/org/apache/ivy/core/settings/ivysettings.xml\n"
     ]
    },
    {
     "name": "stderr",
     "output_type": "stream",
     "text": [
      "Ivy Default Cache set to: /root/.ivy2/cache\n",
      "The jars for the packages stored in: /root/.ivy2/jars\n",
      "org.apache.spark#spark-sql-kafka-0-10_2.13 added as a dependency\n",
      ":: resolving dependencies :: org.apache.spark#spark-submit-parent-8c65f715-28d5-46da-84ca-a63765f06ea1;1.0\n",
      "\tconfs: [default]\n",
      "\tfound org.apache.spark#spark-sql-kafka-0-10_2.13;3.5.4 in central\n",
      "\tfound org.apache.spark#spark-token-provider-kafka-0-10_2.13;3.5.4 in central\n",
      "\tfound org.apache.kafka#kafka-clients;3.4.1 in central\n",
      "\tfound org.lz4#lz4-java;1.8.0 in central\n",
      "\tfound org.xerial.snappy#snappy-java;1.1.10.5 in central\n",
      "\tfound org.slf4j#slf4j-api;2.0.7 in central\n",
      "\tfound org.apache.hadoop#hadoop-client-runtime;3.3.4 in central\n",
      "\tfound org.apache.hadoop#hadoop-client-api;3.3.4 in central\n",
      "\tfound commons-logging#commons-logging;1.1.3 in central\n",
      "\tfound com.google.code.findbugs#jsr305;3.0.0 in central\n",
      "\tfound org.scala-lang.modules#scala-parallel-collections_2.13;1.0.4 in central\n",
      "\tfound org.apache.commons#commons-pool2;2.11.1 in central\n",
      "downloading https://repo1.maven.org/maven2/org/apache/spark/spark-sql-kafka-0-10_2.13/3.5.4/spark-sql-kafka-0-10_2.13-3.5.4.jar ...\n",
      "\t[SUCCESSFUL ] org.apache.spark#spark-sql-kafka-0-10_2.13;3.5.4!spark-sql-kafka-0-10_2.13.jar (148ms)\n",
      "downloading https://repo1.maven.org/maven2/org/apache/spark/spark-token-provider-kafka-0-10_2.13/3.5.4/spark-token-provider-kafka-0-10_2.13-3.5.4.jar ...\n",
      "\t[SUCCESSFUL ] org.apache.spark#spark-token-provider-kafka-0-10_2.13;3.5.4!spark-token-provider-kafka-0-10_2.13.jar (86ms)\n",
      "downloading https://repo1.maven.org/maven2/org/scala-lang/modules/scala-parallel-collections_2.13/1.0.4/scala-parallel-collections_2.13-1.0.4.jar ...\n",
      "\t[SUCCESSFUL ] org.scala-lang.modules#scala-parallel-collections_2.13;1.0.4!scala-parallel-collections_2.13.jar (218ms)\n",
      "downloading https://repo1.maven.org/maven2/org/apache/kafka/kafka-clients/3.4.1/kafka-clients-3.4.1.jar ...\n",
      "\t[SUCCESSFUL ] org.apache.kafka#kafka-clients;3.4.1!kafka-clients.jar (541ms)\n",
      "downloading https://repo1.maven.org/maven2/com/google/code/findbugs/jsr305/3.0.0/jsr305-3.0.0.jar ...\n",
      "\t[SUCCESSFUL ] com.google.code.findbugs#jsr305;3.0.0!jsr305.jar (82ms)\n",
      "downloading https://repo1.maven.org/maven2/org/apache/commons/commons-pool2/2.11.1/commons-pool2-2.11.1.jar ...\n",
      "\t[SUCCESSFUL ] org.apache.commons#commons-pool2;2.11.1!commons-pool2.jar (100ms)\n",
      "downloading https://repo1.maven.org/maven2/org/apache/hadoop/hadoop-client-runtime/3.3.4/hadoop-client-runtime-3.3.4.jar ...\n",
      "\t[SUCCESSFUL ] org.apache.hadoop#hadoop-client-runtime;3.3.4!hadoop-client-runtime.jar (2638ms)\n",
      "downloading https://repo1.maven.org/maven2/org/lz4/lz4-java/1.8.0/lz4-java-1.8.0.jar ...\n",
      "\t[SUCCESSFUL ] org.lz4#lz4-java;1.8.0!lz4-java.jar (141ms)\n",
      "downloading https://repo1.maven.org/maven2/org/xerial/snappy/snappy-java/1.1.10.5/snappy-java-1.1.10.5.jar ...\n",
      "\t[SUCCESSFUL ] org.xerial.snappy#snappy-java;1.1.10.5!snappy-java.jar(bundle) (278ms)\n",
      "downloading https://repo1.maven.org/maven2/org/slf4j/slf4j-api/2.0.7/slf4j-api-2.0.7.jar ...\n",
      "\t[SUCCESSFUL ] org.slf4j#slf4j-api;2.0.7!slf4j-api.jar (98ms)\n",
      "downloading https://repo1.maven.org/maven2/org/apache/hadoop/hadoop-client-api/3.3.4/hadoop-client-api-3.3.4.jar ...\n",
      "\t[SUCCESSFUL ] org.apache.hadoop#hadoop-client-api;3.3.4!hadoop-client-api.jar (1860ms)\n",
      "downloading https://repo1.maven.org/maven2/commons-logging/commons-logging/1.1.3/commons-logging-1.1.3.jar ...\n",
      "\t[SUCCESSFUL ] commons-logging#commons-logging;1.1.3!commons-logging.jar (95ms)\n",
      ":: resolution report :: resolve 5335ms :: artifacts dl 6289ms\n",
      "\t:: modules in use:\n",
      "\tcom.google.code.findbugs#jsr305;3.0.0 from central in [default]\n",
      "\tcommons-logging#commons-logging;1.1.3 from central in [default]\n",
      "\torg.apache.commons#commons-pool2;2.11.1 from central in [default]\n",
      "\torg.apache.hadoop#hadoop-client-api;3.3.4 from central in [default]\n",
      "\torg.apache.hadoop#hadoop-client-runtime;3.3.4 from central in [default]\n",
      "\torg.apache.kafka#kafka-clients;3.4.1 from central in [default]\n",
      "\torg.apache.spark#spark-sql-kafka-0-10_2.13;3.5.4 from central in [default]\n",
      "\torg.apache.spark#spark-token-provider-kafka-0-10_2.13;3.5.4 from central in [default]\n",
      "\torg.lz4#lz4-java;1.8.0 from central in [default]\n",
      "\torg.scala-lang.modules#scala-parallel-collections_2.13;1.0.4 from central in [default]\n",
      "\torg.slf4j#slf4j-api;2.0.7 from central in [default]\n",
      "\torg.xerial.snappy#snappy-java;1.1.10.5 from central in [default]\n",
      "\t---------------------------------------------------------------------\n",
      "\t|                  |            modules            ||   artifacts   |\n",
      "\t|       conf       | number| search|dwnlded|evicted|| number|dwnlded|\n",
      "\t---------------------------------------------------------------------\n",
      "\t|      default     |   12  |   12  |   12  |   0   ||   12  |   12  |\n",
      "\t---------------------------------------------------------------------\n",
      ":: retrieving :: org.apache.spark#spark-submit-parent-8c65f715-28d5-46da-84ca-a63765f06ea1\n",
      "\tconfs: [default]\n",
      "\t12 artifacts copied, 0 already retrieved (58112kB/73ms)\n",
      "25/05/16 14:06:49 WARN NativeCodeLoader: Unable to load native-hadoop library for your platform... using builtin-java classes where applicable\n",
      "Setting default log level to \"WARN\".\n",
      "To adjust logging level use sc.setLogLevel(newLevel). For SparkR, use setLogLevel(newLevel).\n"
     ]
    }
   ],
   "source": [
    "from pyspark.sql import SparkSession\n",
    "\n",
    "spark = SparkSession.builder \\\n",
    "    .appName(\"Final-Project-Equipo-McQueen\") \\\n",
    "    .master(\"spark://a6acd6b0849a:7077\") \\\n",
    "    .config(\"spark.ui.port\",\"4040\") \\\n",
    "    .config(\"spark.jars.packages\", \"org.apache.spark:spark-sql-kafka-0-10_2.13:3.5.4\") \\\n",
    "    .getOrCreate()\n",
    "\n",
    "sc = spark.sparkContext"
   ]
  },
  {
   "cell_type": "markdown",
   "id": "b05cc495",
   "metadata": {},
   "source": [
    "#### Creación de tópicos de Kafka\n",
    "\n",
    "Los siguientes comandos deben ser ejecutados en la terminal para que los productores puedan enviar mensajes a los tópicos:\n",
    "\n",
    "```\n",
    "docker exec -it d6fae88657b9 /opt/kafka/bin/kafka-topics.sh --create --zookeeper zookeeper:2181 --replication-factor 1 --partitions 1 --topic producer-a\n",
    "\n",
    "docker exec -it d6fae88657b9 /opt/kafka/bin/kafka-topics.sh --create --zookeeper zookeeper:2181 --replication-factor 1 --partitions 1 --topic producer-b\n",
    "```"
   ]
  },
  {
   "cell_type": "markdown",
   "id": "fbca9b85",
   "metadata": {},
   "source": [
    "#### Ejecución de productores\n",
    "\n",
    "Para inicializar a los productores, ejecute las respectivas celdas en los Jupyter Notebooks (`producer-a.ipynb`, `producer-b.ipynb`) bajo el directorio `spark_cluster/notebooks/lib/equipo_mcqueen/`"
   ]
  },
  {
   "cell_type": "markdown",
   "id": "9e3ca3bd",
   "metadata": {},
   "source": [
    "#### Creación del Kafka stream"
   ]
  },
  {
   "cell_type": "code",
   "execution_count": 9,
   "id": "784bb33c",
   "metadata": {},
   "outputs": [
    {
     "name": "stdout",
     "output_type": "stream",
     "text": [
      "root\n",
      " |-- key: binary (nullable = true)\n",
      " |-- value: binary (nullable = true)\n",
      " |-- topic: string (nullable = true)\n",
      " |-- partition: integer (nullable = true)\n",
      " |-- offset: long (nullable = true)\n",
      " |-- timestamp: timestamp (nullable = true)\n",
      " |-- timestampType: integer (nullable = true)\n",
      "\n"
     ]
    }
   ],
   "source": [
    "kafka_lines = spark \\\n",
    "                .readStream \\\n",
    "                .format(\"kafka\") \\\n",
    "                .option(\"kafka.bootstrap.servers\", \"d6fae88657b9:9093\") \\\n",
    "                .option(\"subscribe\", \"producer-a,producer-b\") \\\n",
    "                .load()\n",
    "\n",
    "kafka_lines.printSchema()"
   ]
  },
  {
   "cell_type": "markdown",
   "id": "be47f3fb",
   "metadata": {},
   "source": [
    "#### Transformar datos en cadenas (strings)"
   ]
  },
  {
   "cell_type": "code",
   "execution_count": 10,
   "id": "cf0e8197",
   "metadata": {},
   "outputs": [],
   "source": [
    "kafka_df = kafka_lines.withColumn(\"value_str\", kafka_lines.value.cast(\"string\"))"
   ]
  },
  {
   "cell_type": "markdown",
   "id": "45f5206e",
   "metadata": {},
   "source": [
    "#### Creación del query (sink)"
   ]
  },
  {
   "cell_type": "code",
   "execution_count": 11,
   "id": "990b183c",
   "metadata": {},
   "outputs": [
    {
     "name": "stderr",
     "output_type": "stream",
     "text": [
      "25/05/16 14:10:02 WARN ResolveWriteToStream: spark.sql.adaptive.enabled is not supported in streaming DataFrames/Datasets and will be disabled.\n",
      "25/05/16 14:10:02 WARN AdminClientConfig: These configurations '[key.deserializer, value.deserializer, enable.auto.commit, max.poll.records, auto.offset.reset]' were supplied but are not used yet.\n",
      "25/05/16 14:10:05 WARN ProcessingTimeExecutor: Current batch is falling behind. The trigger interval is 3000 milliseconds, but spent 3181 milliseconds\n"
     ]
    },
    {
     "data": {
      "text/plain": [
       "False"
      ]
     },
     "execution_count": 11,
     "metadata": {},
     "output_type": "execute_result"
    },
    {
     "name": "stderr",
     "output_type": "stream",
     "text": [
      "                                                                                \r"
     ]
    }
   ],
   "source": [
    "query = kafka_df \\\n",
    "                .writeStream \\\n",
    "                .trigger(processingTime=\"3 seconds\") \\\n",
    "                .outputMode(\"append\") \\\n",
    "                .format(\"parquet\") \\\n",
    "                .option(\"path\", \"/home/jovyan/notebooks/data/\") \\\n",
    "                .option(\"checkpointLocation\", \"/home/jovyan/checkpoint\") \\\n",
    "                .option(\"truncate\", \"false\") \\\n",
    "                .start()\n",
    "\n",
    "query.awaitTermination(60)"
   ]
  },
  {
   "cell_type": "markdown",
   "id": "e9353ec2",
   "metadata": {},
   "source": [
    "#### Terminación de query y context"
   ]
  },
  {
   "cell_type": "code",
   "execution_count": 12,
   "id": "be624de1",
   "metadata": {},
   "outputs": [],
   "source": [
    "query.stop()"
   ]
  },
  {
   "cell_type": "code",
   "execution_count": 14,
   "id": "db3a9441",
   "metadata": {},
   "outputs": [],
   "source": [
    "sc.stop()"
   ]
  },
  {
   "cell_type": "markdown",
   "id": "5ef8df6d",
   "metadata": {},
   "source": [
    "### **Código: Machine Learning**\n",
    "---"
   ]
  },
  {
   "cell_type": "markdown",
   "id": "ff68342f",
   "metadata": {},
   "source": [
    "#### Encontrar instalación de Spark"
   ]
  },
  {
   "cell_type": "code",
   "execution_count": 15,
   "id": "a3995d46",
   "metadata": {},
   "outputs": [],
   "source": [
    "import findspark\n",
    "findspark.init()"
   ]
  },
  {
   "cell_type": "markdown",
   "id": "5262ac63",
   "metadata": {},
   "source": [
    "#### Creación de la conexión con el cluster de Spark"
   ]
  },
  {
   "cell_type": "code",
   "execution_count": 16,
   "id": "18ec6b5c",
   "metadata": {},
   "outputs": [],
   "source": [
    "from pyspark.sql import SparkSession\n",
    "\n",
    "spark = SparkSession.builder \\\n",
    "    .appName(\"Equipo-McQueen-KMeans\") \\\n",
    "    .master(\"spark://a6acd6b0849a:7077\") \\\n",
    "    .config(\"spark.ui.port\",\"4040\") \\\n",
    "    .getOrCreate()\n",
    "\n",
    "sc = spark.sparkContext\n",
    "spark.conf.set(\"spark.sql.shuffle.partitions\", \"5\")"
   ]
  },
  {
   "cell_type": "markdown",
   "id": "3296cc5e",
   "metadata": {},
   "source": [
    "#### Preparación de datos"
   ]
  },
  {
   "cell_type": "code",
   "execution_count": 17,
   "id": "4aafb618",
   "metadata": {},
   "outputs": [
    {
     "name": "stdout",
     "output_type": "stream",
     "text": [
      "root\n",
      " |-- key: binary (nullable = true)\n",
      " |-- value: binary (nullable = true)\n",
      " |-- topic: string (nullable = true)\n",
      " |-- partition: integer (nullable = true)\n",
      " |-- offset: long (nullable = true)\n",
      " |-- timestamp: timestamp (nullable = true)\n",
      " |-- timestampType: integer (nullable = true)\n",
      " |-- value_str: string (nullable = true)\n",
      "\n"
     ]
    }
   ],
   "source": [
    "website_activity_df = spark.read.parquet(\"/home/jovyan/notebooks/data/\")\n",
    "website_activity_df.printSchema()"
   ]
  },
  {
   "cell_type": "markdown",
   "id": "7aa8986a",
   "metadata": {},
   "source": [
    "#### Verificación de datos generados"
   ]
  },
  {
   "cell_type": "code",
   "execution_count": 18,
   "id": "d6ce98cd",
   "metadata": {},
   "outputs": [
    {
     "name": "stderr",
     "output_type": "stream",
     "text": [
      "                                                                                \r"
     ]
    },
    {
     "name": "stdout",
     "output_type": "stream",
     "text": [
      "+---------------------------------------------------------------------------------------------------------------------------------------------------------------------------------------------------------------------------------------------------------------------------------------------------------------------------------------------------------------------------------------------------------------------------------------------------------------------------------------------------------------------------------------------------------------------------------------------------------------------------+\n",
      "|value_str                                                                                                                                                                                                                                                                                                                                                                                                                                                                                                                                                                                                                  |\n",
      "+---------------------------------------------------------------------------------------------------------------------------------------------------------------------------------------------------------------------------------------------------------------------------------------------------------------------------------------------------------------------------------------------------------------------------------------------------------------------------------------------------------------------------------------------------------------------------------------------------------------------------+\n",
      "|{\"event_id\": \"0f9e2a7a-2a95-4c97-b733-1109936bbc2a\", \"user_id\": \"8ca3c9d4-09e2-4870-a435-b63ec051e984\", \"page_url\": \"https://burton-barron.com/blog/main/listregister.html\", \"timestamp\": \"2025-05-16T14:10:45.044861Z\", \"action_type\": \"view\", \"browser\": \"Mozilla/5.0 (Windows 95) AppleWebKit/532.0 (KHTML, like Gecko) Chrome/55.0.899.0 Safari/532.0\", \"timezone\": \"Europe/Tirane\", \"device_type\": \"tablet\", \"click_coordinates_x\": 1458, \"click_coordinates_y\": 970, \"session_id\": \"c70ccf98-8b32-4bea-a737-ef12c207b9df\", \"ip_address\": \"108.150.142.69\"}                                                           |\n",
      "|{\"event_id\": \"34752119-cfc3-419e-82be-007a763ce9f5\", \"user_id\": \"b5eb7f2d-e798-4879-9888-71ff1290bee7\", \"page_url\": \"http://www.hurst-horton.com/category/list/mainauthor.html\", \"timestamp\": \"2025-05-16T14:10:45.248327Z\", \"action_type\": \"scroll\", \"browser\": \"Mozilla/5.0 (Linux; Android 2.3.1) AppleWebKit/535.0 (KHTML, like Gecko) Chrome/45.0.805.0 Safari/535.0\", \"timezone\": \"Asia/Taipei\", \"device_type\": \"tablet\", \"click_coordinates_x\": 1386, \"click_coordinates_y\": 967, \"session_id\": \"9040775b-7033-4f1b-95a6-f3c3cb4f824c\", \"ip_address\": \"85.46.213.229\"}                                              |\n",
      "|{\"event_id\": \"1cdee0eb-e5db-45e7-8f71-455007fba345\", \"user_id\": \"0486f014-9604-4737-a06d-d92c7a8f2679\", \"page_url\": \"http://www.gomez.com/explore/posts/categoryabout.jsp\", \"timestamp\": \"2025-05-16T14:10:45.658722Z\", \"action_type\": \"scroll\", \"browser\": \"Mozilla/5.0 (iPod; U; CPU iPhone OS 4_3 like Mac OS X; et-EE) AppleWebKit/533.37.5 (KHTML, like Gecko) Version/4.0.5 Mobile/8B115 Safari/6533.37.5\", \"timezone\": \"America/St_Vincent\", \"device_type\": \"tablet\", \"click_coordinates_x\": 1769, \"click_coordinates_y\": 882, \"session_id\": \"a62ea300-b9b9-4da4-a7d5-5d295a89ebec\", \"ip_address\": \"49.248.142.194\"}|\n",
      "|{\"event_id\": \"5691a387-568e-4768-8503-767239ca261e\", \"user_id\": \"333e70e4-23e2-4e9f-95c0-136a7de2dfcd\", \"page_url\": \"https://www.phillips.com/explore/category/searchmain.html\", \"timestamp\": \"2025-05-16T14:10:45.939424Z\", \"action_type\": \"click\", \"browser\": \"Mozilla/5.0 (Macintosh; Intel Mac OS X 10_9_6 rv:6.0; ak-GH) AppleWebKit/531.43.5 (KHTML, like Gecko) Version/5.0.1 Safari/531.43.5\", \"timezone\": \"Africa/Asmera\", \"device_type\": \"tablet\", \"click_coordinates_x\": 1477, \"click_coordinates_y\": 1064, \"session_id\": \"25b1724e-c79d-4350-b139-95327c804194\", \"ip_address\": \"125.129.61.153\"}               |\n",
      "|{\"event_id\": \"48b5fb2d-b3c1-4480-81c2-b211e4df726c\", \"user_id\": \"15a03770-2724-47be-8ecb-f4f35fdf325c\", \"page_url\": \"http://www.warren-carr.biz/taghomepage.htm\", \"timestamp\": \"2025-05-16T14:10:46.231363Z\", \"action_type\": \"click\", \"browser\": \"Mozilla/5.0 (X11; Linux x86_64) AppleWebKit/531.0 (KHTML, like Gecko) Chrome/37.0.860.0 Safari/531.0\", \"timezone\": \"Africa/Nouakchott\", \"device_type\": \"mobile\", \"click_coordinates_x\": 1744, \"click_coordinates_y\": 1010, \"session_id\": \"14c69a74-31c0-45c7-a186-2ef22c6e2f5e\", \"ip_address\": \"210.103.170.221\"}                                                        |\n",
      "|{\"event_id\": \"cfed1c69-72a0-4e6f-beda-95aa6bcc4ead\", \"user_id\": \"2e2f67e5-6dec-4f16-b3ee-9516af46d4e5\", \"page_url\": \"http://www.bonilla-bush.org/posts/listindex.php\", \"timestamp\": \"2025-05-16T14:10:46.705711Z\", \"action_type\": \"view\", \"browser\": \"Mozilla/5.0 (iPad; CPU iPad OS 12_4_8 like Mac OS X) AppleWebKit/534.0 (KHTML, like Gecko) CriOS/22.0.837.0 Mobile/32B230 Safari/534.0\", \"timezone\": \"America/Costa_Rica\", \"device_type\": \"tablet\", \"click_coordinates_x\": 1804, \"click_coordinates_y\": 493, \"session_id\": \"572ff622-10d2-4ed5-9469-2bb949419269\", \"ip_address\": \"182.56.251.205\"}                   |\n",
      "|{\"event_id\": \"bb1cb35f-87c8-42a6-a9f2-509361032ca3\", \"user_id\": \"d8590cab-e0c2-4753-a39c-7ddb38a2b2a4\", \"page_url\": \"https://evans.biz/mainprivacy.htm\", \"timestamp\": \"2025-05-16T14:10:46.856998Z\", \"action_type\": \"view\", \"browser\": \"Mozilla/5.0 (compatible; MSIE 6.0; Windows 98; Win 9x 4.90; Trident/3.1)\", \"timezone\": \"Asia/Makassar\", \"device_type\": \"desktop\", \"click_coordinates_x\": 1281, \"click_coordinates_y\": 884, \"session_id\": \"8106e8ea-fdcd-439f-b834-6bcfa8ebfb44\", \"ip_address\": \"195.26.172.122\"}                                                                                                   |\n",
      "|{\"event_id\": \"8e337cfc-70a7-4a3b-bb8f-aa7c3da40e0b\", \"user_id\": \"6a540e80-f740-4e35-b5fd-ffc2bb7ab448\", \"page_url\": \"http://www.adams.com/list/search/mainindex.php\", \"timestamp\": \"2025-05-16T14:10:47.517245Z\", \"action_type\": \"click\", \"browser\": \"Opera/9.74.(X11; Linux x86_64; kn-IN) Presto/2.9.170 Version/12.00\", \"timezone\": \"America/Santo_Domingo\", \"device_type\": \"mobile\", \"click_coordinates_x\": 1778, \"click_coordinates_y\": 865, \"session_id\": \"53cefea6-3cb7-487d-8c3c-3367cf056025\", \"ip_address\": \"221.253.69.59\"}                                                                                     |\n",
      "|{\"event_id\": \"603ae54f-a960-4365-9e27-193693edd000\", \"user_id\": \"08bbd8c4-8865-494f-a9c8-e9116b42e54f\", \"page_url\": \"https://www.cook.com/appcategory.htm\", \"timestamp\": \"2025-05-16T14:10:42.119741Z\", \"action_type\": \"scroll\", \"browser\": \"Mozilla/5.0 (Windows; U; Windows NT 5.01) AppleWebKit/535.3.2 (KHTML, like Gecko) Version/4.0.2 Safari/535.3.2\", \"timezone\": \"Europe/Malta\", \"device_type\": \"desktop\", \"click_coordinates_x\": 1291, \"click_coordinates_y\": 815, \"session_id\": \"7c730bde-6bce-4636-aa43-dcc62ce17404\", \"ip_address\": \"190.88.16.202\"}                                                          |\n",
      "|{\"event_id\": \"62ab9f41-bda4-4dbe-a74e-7c586239c386\", \"user_id\": \"c0e25c7a-2af7-489e-8352-ae341d1a1841\", \"page_url\": \"https://duncan.com/explore/searchfaq.htm\", \"timestamp\": \"2025-05-16T14:10:42.657860Z\", \"action_type\": \"scroll\", \"browser\": \"Mozilla/5.0 (Macintosh; PPC Mac OS X 10_7_2; rv:1.9.3.20) Gecko/4057-09-05 16:46:39.863327 Firefox/12.0\", \"timezone\": \"Europe/Bucharest\", \"device_type\": \"mobile\", \"click_coordinates_x\": 1307, \"click_coordinates_y\": 535, \"session_id\": \"61759d45-b98f-48ec-aaf2-a39b85ced426\", \"ip_address\": \"85.187.222.25\"}                                                          |\n",
      "|{\"event_id\": \"8e142e55-3451-4bbe-a199-9f0b16b11890\", \"user_id\": \"1fa1e0f6-385a-42bc-8c89-8e917588abc6\", \"page_url\": \"http://calderon.biz/tags/taghomepage.asp\", \"timestamp\": \"2025-05-16T14:10:42.794461Z\", \"action_type\": \"scroll\", \"browser\": \"Opera/8.46.(Windows NT 6.0; byn-ER) Presto/2.9.186 Version/10.00\", \"timezone\": \"Africa/Tunis\", \"device_type\": \"mobile\", \"click_coordinates_x\": 1472, \"click_coordinates_y\": 974, \"session_id\": \"ddf546ca-a55b-4f76-8232-c33378267364\", \"ip_address\": \"120.216.19.197\"}                                                                                                    |\n",
      "|{\"event_id\": \"8e1d0dfe-7a86-4b19-9dcf-0356349b6e66\", \"user_id\": \"00c5f9c4-1a02-4df9-833a-6cd1f503e85d\", \"page_url\": \"https://patton-oliver.com/blog/categories/categoryabout.htm\", \"timestamp\": \"2025-05-16T14:10:43.047163Z\", \"action_type\": \"click\", \"browser\": \"Mozilla/5.0 (X11; Linux i686; rv:1.9.5.20) Gecko/4407-03-12 13:47:26.695831 Firefox/9.0\", \"timezone\": \"Europe/Skopje\", \"device_type\": \"tablet\", \"click_coordinates_x\": 1481, \"click_coordinates_y\": 663, \"session_id\": \"8efa9aee-154f-4a2a-b362-b9f82dba414f\", \"ip_address\": \"79.212.95.101\"}                                                           |\n",
      "|{\"event_id\": \"0fdc5b58-5988-46fa-9b4f-ea28760ff694\", \"user_id\": \"163f5242-44da-4963-abfb-c08e56056a22\", \"page_url\": \"https://www.clark.com/wp-content/category/searchhome.html\", \"timestamp\": \"2025-05-16T14:10:43.227241Z\", \"action_type\": \"click\", \"browser\": \"Opera/9.27.(Windows NT 5.1; mi-NZ) Presto/2.9.184 Version/10.00\", \"timezone\": \"America/Havana\", \"device_type\": \"tablet\", \"click_coordinates_x\": 312, \"click_coordinates_y\": 600, \"session_id\": \"def1ccfd-a916-4434-adec-7685effe8c67\", \"ip_address\": \"71.67.32.102\"}                                                                                      |\n",
      "|{\"event_id\": \"a08611f5-6514-42d9-90d3-e8eafd3097b1\", \"user_id\": \"0df68528-af6d-4e8f-bb33-1303c4f00042\", \"page_url\": \"http://www.miller.com/main/tag/tagsfaq.asp\", \"timestamp\": \"2025-05-16T14:10:43.466244Z\", \"action_type\": \"view\", \"browser\": \"Mozilla/5.0 (iPod; U; CPU iPhone OS 4_2 like Mac OS X; ug-CN) AppleWebKit/533.34.5 (KHTML, like Gecko) Version/4.0.5 Mobile/8B112 Safari/6533.34.5\", \"timezone\": \"Asia/Rangoon\", \"device_type\": \"mobile\", \"click_coordinates_x\": 466, \"click_coordinates_y\": 756, \"session_id\": \"0fbe55a1-742c-412e-9592-31c243ebe6be\", \"ip_address\": \"83.113.197.154\"}                   |\n",
      "|{\"event_id\": \"244a444b-815e-4514-840f-d90b68db38b7\", \"user_id\": \"b1baf2c2-09e6-49ed-bc3b-3497c9e39ee4\", \"page_url\": \"http://reid-roth.net/categories/wp-content/postsauthor.html\", \"timestamp\": \"2025-05-16T14:10:43.748469Z\", \"action_type\": \"scroll\", \"browser\": \"Mozilla/5.0 (iPhone; CPU iPhone OS 16_7_7 like Mac OS X) AppleWebKit/536.1 (KHTML, like Gecko) FxiOS/11.8v6348.0 Mobile/35E269 Safari/536.1\", \"timezone\": \"America/St_Vincent\", \"device_type\": \"tablet\", \"click_coordinates_x\": 1404, \"click_coordinates_y\": 834, \"session_id\": \"ab393d4b-4d51-4b5f-b853-89a28524378e\", \"ip_address\": \"112.38.25.79\"}  |\n",
      "|{\"event_id\": \"ce1b4836-1c9c-4fba-be23-3e77e8e16230\", \"user_id\": \"f4722b6f-4736-4c18-afe2-0277bb11ee7f\", \"page_url\": \"http://www.nunez.com/categorieshome.asp\", \"timestamp\": \"2025-05-16T14:10:44.075324Z\", \"action_type\": \"view\", \"browser\": \"Mozilla/5.0 (compatible; MSIE 9.0; Windows NT 11.0; Trident/5.1)\", \"timezone\": \"Asia/Jayapura\", \"device_type\": \"desktop\", \"click_coordinates_x\": 464, \"click_coordinates_y\": 87, \"session_id\": \"9bff8c1b-c290-46b3-87cf-bea62c625c93\", \"ip_address\": \"18.229.130.243\"}                                                                                                       |\n",
      "|{\"event_id\": \"3cfcc451-6bf7-47fd-8120-6161a4ca60a7\", \"user_id\": \"3a2cbc84-b38f-454b-9441-03ada6e111fa\", \"page_url\": \"https://www.johnson-allen.com/mainpost.html\", \"timestamp\": \"2025-05-16T14:11:00.214770Z\", \"action_type\": \"click\", \"browser\": \"Mozilla/5.0 (compatible; MSIE 9.0; Windows NT 4.0; Trident/4.1)\", \"timezone\": \"Africa/Banjul\", \"device_type\": \"mobile\", \"click_coordinates_x\": 267, \"click_coordinates_y\": 721, \"session_id\": \"797bea77-fa97-41bf-9d1c-fe4349b3ed8d\", \"ip_address\": \"124.224.215.115\"}                                                                                                  |\n",
      "|{\"event_id\": \"6b07d179-b7e9-4f5e-ab67-760a6c907cb4\", \"user_id\": \"cfff7020-96ea-46ad-99a7-3bbfbe68a32b\", \"page_url\": \"https://joseph-gallegos.com/list/categorysearch.php\", \"timestamp\": \"2025-05-16T14:11:00.406343Z\", \"action_type\": \"scroll\", \"browser\": \"Mozilla/5.0 (Macintosh; Intel Mac OS X 10_6_8; rv:1.9.4.20) Gecko/2078-10-18 06:39:00.411755 Firefox/9.0\", \"timezone\": \"Asia/Kuwait\", \"device_type\": \"mobile\", \"click_coordinates_x\": 1895, \"click_coordinates_y\": 245, \"session_id\": \"93af7947-fcd7-4130-83f2-ed0b2fa6df39\", \"ip_address\": \"65.127.43.200\"}                                                   |\n",
      "|{\"event_id\": \"69ec101e-9671-4f4b-820f-4bdda2cdf1fd\", \"user_id\": \"bf7ca210-4d2a-4f4d-8346-1cc1b326c65b\", \"page_url\": \"https://www.munoz.com/searchsearch.html\", \"timestamp\": \"2025-05-16T14:11:00.876387Z\", \"action_type\": \"view\", \"browser\": \"Mozilla/5.0 (Windows; U; Windows NT 10.0) AppleWebKit/531.11.6 (KHTML, like Gecko) Version/4.0.2 Safari/531.11.6\", \"timezone\": \"Indian/Mahe\", \"device_type\": \"tablet\", \"click_coordinates_x\": 1298, \"click_coordinates_y\": 280, \"session_id\": \"81ed9b1b-a698-4a47-8f17-caff47d0ff5e\", \"ip_address\": \"129.145.144.33\"}                                                        |\n",
      "|{\"event_id\": \"9620d465-49b6-4012-aee7-3a8a0c9ae834\", \"user_id\": \"fdec1b51-1340-4d78-84af-730ed99b7669\", \"page_url\": \"http://www.gray.com/wp-content/postslogin.php\", \"timestamp\": \"2025-05-16T14:11:01.254740Z\", \"action_type\": \"click\", \"browser\": \"Mozilla/5.0 (compatible; MSIE 9.0; Windows NT 10.0; Trident/4.1)\", \"timezone\": \"Europe/Paris\", \"device_type\": \"mobile\", \"click_coordinates_x\": 743, \"click_coordinates_y\": 813, \"session_id\": \"c5a663d4-1718-4566-be42-aaa543353771\", \"ip_address\": \"70.29.13.0\"}                                                                                                     |\n",
      "+---------------------------------------------------------------------------------------------------------------------------------------------------------------------------------------------------------------------------------------------------------------------------------------------------------------------------------------------------------------------------------------------------------------------------------------------------------------------------------------------------------------------------------------------------------------------------------------------------------------------------+\n",
      "only showing top 20 rows\n",
      "\n"
     ]
    }
   ],
   "source": [
    "website_activity_df.select(\"value_str\").show(truncate=False)"
   ]
  },
  {
   "cell_type": "markdown",
   "id": "5c78e9d5",
   "metadata": {},
   "source": [
    "#### Creación de esquema"
   ]
  },
  {
   "cell_type": "code",
   "execution_count": 19,
   "id": "476a8da7",
   "metadata": {},
   "outputs": [],
   "source": [
    "from equipo_mcqueen.spark_utils import SparkUtils\n",
    "\n",
    "website_activity_data = [\n",
    "    (\"user_id\", \"StringType\"),\n",
    "    (\"action_type\", \"StringType\"),\n",
    "    (\"device_type\", \"StringType\"),\n",
    "    (\"click_coordinates_x\", \"IntegerType\"),\n",
    "    (\"click_coordinates_y\", \"IntegerType\")\n",
    "]\n",
    "\n",
    "activity_schema = SparkUtils.generate_schema(website_activity_data)"
   ]
  },
  {
   "cell_type": "markdown",
   "id": "e4b4bf42",
   "metadata": {},
   "source": [
    "#### Extracción de datos para modelo"
   ]
  },
  {
   "cell_type": "code",
   "execution_count": 20,
   "id": "4c0d233c",
   "metadata": {},
   "outputs": [
    {
     "name": "stdout",
     "output_type": "stream",
     "text": [
      "root\n",
      " |-- user_id: string (nullable = true)\n",
      " |-- action_type: string (nullable = true)\n",
      " |-- device_type: string (nullable = true)\n",
      " |-- click_coordinates_x: integer (nullable = true)\n",
      " |-- click_coordinates_y: integer (nullable = true)\n",
      "\n",
      "+------------------------------------+-----------+-----------+-------------------+-------------------+\n",
      "|user_id                             |action_type|device_type|click_coordinates_x|click_coordinates_y|\n",
      "+------------------------------------+-----------+-----------+-------------------+-------------------+\n",
      "|8ca3c9d4-09e2-4870-a435-b63ec051e984|view       |tablet     |1458               |970                |\n",
      "|b5eb7f2d-e798-4879-9888-71ff1290bee7|scroll     |tablet     |1386               |967                |\n",
      "|0486f014-9604-4737-a06d-d92c7a8f2679|scroll     |tablet     |1769               |882                |\n",
      "|333e70e4-23e2-4e9f-95c0-136a7de2dfcd|click      |tablet     |1477               |1064               |\n",
      "|15a03770-2724-47be-8ecb-f4f35fdf325c|click      |mobile     |1744               |1010               |\n",
      "|2e2f67e5-6dec-4f16-b3ee-9516af46d4e5|view       |tablet     |1804               |493                |\n",
      "|d8590cab-e0c2-4753-a39c-7ddb38a2b2a4|view       |desktop    |1281               |884                |\n",
      "|6a540e80-f740-4e35-b5fd-ffc2bb7ab448|click      |mobile     |1778               |865                |\n",
      "|08bbd8c4-8865-494f-a9c8-e9116b42e54f|scroll     |desktop    |1291               |815                |\n",
      "|c0e25c7a-2af7-489e-8352-ae341d1a1841|scroll     |mobile     |1307               |535                |\n",
      "|1fa1e0f6-385a-42bc-8c89-8e917588abc6|scroll     |mobile     |1472               |974                |\n",
      "|00c5f9c4-1a02-4df9-833a-6cd1f503e85d|click      |tablet     |1481               |663                |\n",
      "|163f5242-44da-4963-abfb-c08e56056a22|click      |tablet     |312                |600                |\n",
      "|0df68528-af6d-4e8f-bb33-1303c4f00042|view       |mobile     |466                |756                |\n",
      "|b1baf2c2-09e6-49ed-bc3b-3497c9e39ee4|scroll     |tablet     |1404               |834                |\n",
      "|f4722b6f-4736-4c18-afe2-0277bb11ee7f|view       |desktop    |464                |87                 |\n",
      "|3a2cbc84-b38f-454b-9441-03ada6e111fa|click      |mobile     |267                |721                |\n",
      "|cfff7020-96ea-46ad-99a7-3bbfbe68a32b|scroll     |mobile     |1895               |245                |\n",
      "|bf7ca210-4d2a-4f4d-8346-1cc1b326c65b|view       |tablet     |1298               |280                |\n",
      "|fdec1b51-1340-4d78-84af-730ed99b7669|click      |mobile     |743                |813                |\n",
      "+------------------------------------+-----------+-----------+-------------------+-------------------+\n",
      "only showing top 20 rows\n",
      "\n"
     ]
    }
   ],
   "source": [
    "from pyspark.sql.functions import from_json, col\n",
    "\n",
    "df = website_activity_df.withColumn(\"parsed_data\", from_json(col(\"value_str\"), activity_schema))\n",
    "activity_df = df.select(\"parsed_data.*\")\n",
    "activity_df.printSchema()\n",
    "activity_df.show(truncate=False)"
   ]
  },
  {
   "cell_type": "markdown",
   "id": "6d377160",
   "metadata": {},
   "source": [
    "#### Agrupación y agregación de datos"
   ]
  },
  {
   "cell_type": "code",
   "execution_count": 21,
   "id": "7046f35e",
   "metadata": {},
   "outputs": [
    {
     "name": "stderr",
     "output_type": "stream",
     "text": [
      "[Stage 3:=============================>                             (1 + 1) / 2]\r"
     ]
    },
    {
     "name": "stdout",
     "output_type": "stream",
     "text": [
      "+------------------------------------+-----------+-----------+------------+----------+-----------------------+-----------------------+\n",
      "|user_id                             |device_type|click_count|scroll_count|view_count|avg_click_coordinates_x|avg_click_coordinates_y|\n",
      "+------------------------------------+-----------+-----------+------------+----------+-----------------------+-----------------------+\n",
      "|00c5f9c4-1a02-4df9-833a-6cd1f503e85d|tablet     |1          |0           |0         |1481.0                 |663.0                  |\n",
      "|01887bf6-3d6c-4cc9-a632-88ec548dc0b2|desktop    |1          |0           |0         |281.0                  |499.0                  |\n",
      "|0486f014-9604-4737-a06d-d92c7a8f2679|tablet     |0          |1           |0         |1769.0                 |882.0                  |\n",
      "|0556ddae-d320-4860-b27b-0af5de54ad39|mobile     |0          |1           |0         |1194.0                 |136.0                  |\n",
      "|05855a5d-a9ee-4f52-9c9b-0c1e15240b58|tablet     |0          |1           |0         |1199.0                 |803.0                  |\n",
      "|05a5bb54-cb3a-4d9e-bf3e-b726825d3d69|desktop    |0          |1           |0         |973.0                  |1060.0                 |\n",
      "|06cd4114-ae93-4378-b6a1-b4c823fb2632|mobile     |0          |1           |0         |939.0                  |258.0                  |\n",
      "|070f3006-6da5-4131-8d04-886ce7c6d1f5|desktop    |0          |0           |1         |1052.0                 |143.0                  |\n",
      "|075d5f66-3e32-4c3b-9af1-f74efe3268d8|mobile     |0          |1           |0         |80.0                   |490.0                  |\n",
      "|07913434-6c0a-4920-936f-0d747cc80ade|desktop    |0          |1           |0         |223.0                  |921.0                  |\n",
      "|08bbd8c4-8865-494f-a9c8-e9116b42e54f|desktop    |0          |1           |0         |1291.0                 |815.0                  |\n",
      "|08ce2077-c08d-4486-8745-235061e9b501|mobile     |0          |1           |0         |15.0                   |635.0                  |\n",
      "|0c89af99-e70f-40d7-a08c-9a0845c80243|tablet     |0          |0           |1         |566.0                  |275.0                  |\n",
      "|0cc3a0bb-1f9a-4aa0-a831-b83f03a29f9d|mobile     |0          |1           |0         |1869.0                 |863.0                  |\n",
      "|0df68528-af6d-4e8f-bb33-1303c4f00042|mobile     |0          |0           |1         |466.0                  |756.0                  |\n",
      "|10de57d9-e13a-4768-8ece-09e6ded0cec6|tablet     |1          |0           |0         |831.0                  |848.0                  |\n",
      "|1413e768-1b86-42ec-b99e-d0b9a6aeb03c|tablet     |0          |1           |0         |215.0                  |773.0                  |\n",
      "|15a03770-2724-47be-8ecb-f4f35fdf325c|mobile     |1          |0           |0         |1744.0                 |1010.0                 |\n",
      "|163f5242-44da-4963-abfb-c08e56056a22|tablet     |1          |0           |0         |312.0                  |600.0                  |\n",
      "|177daed1-00a6-486d-a604-c19c31448c5f|desktop    |0          |1           |0         |1834.0                 |933.0                  |\n",
      "+------------------------------------+-----------+-----------+------------+----------+-----------------------+-----------------------+\n",
      "only showing top 20 rows\n",
      "\n"
     ]
    },
    {
     "name": "stderr",
     "output_type": "stream",
     "text": [
      "                                                                                \r"
     ]
    }
   ],
   "source": [
    "from pyspark.sql.functions import first, count, avg, when\n",
    "\n",
    "user_features = activity_df.groupBy(\"user_id\").agg(first(\"device_type\").alias(\"device_type\"),\n",
    "                                                   count(when(col(\"action_type\") == \"click\", 1)).alias(\"click_count\"),\n",
    "                                                   count(when(col(\"action_type\") == \"scroll\", 1)).alias(\"scroll_count\"),\n",
    "                                                   count(when(col(\"action_type\") == \"view\", 1)).alias(\"view_count\"),\n",
    "                                                   avg(\"click_coordinates_x\").alias(\"avg_click_coordinates_x\"),\n",
    "                                                   avg(\"click_coordinates_y\").alias(\"avg_click_coordinates_y\"))\n",
    "\n",
    "user_features.show(truncate=False)"
   ]
  },
  {
   "cell_type": "markdown",
   "id": "de198008",
   "metadata": {},
   "source": [
    "#### Creación de vector"
   ]
  },
  {
   "cell_type": "code",
   "execution_count": 22,
   "id": "99054417",
   "metadata": {},
   "outputs": [],
   "source": [
    "from pyspark.ml.feature import VectorAssembler, StandardScaler\n",
    "\n",
    "numerical_features = [\n",
    "    \"click_count\",\n",
    "    \"scroll_count\",\n",
    "    \"view_count\", \n",
    "    \"avg_click_coordinates_x\",\n",
    "    \"avg_click_coordinates_y\"\n",
    "]\n",
    "\n",
    "assembler = VectorAssembler(inputCols=numerical_features, outputCol=\"features\")\n",
    "\n",
    "assembled_data = assembler.transform(user_features)"
   ]
  },
  {
   "cell_type": "markdown",
   "id": "2e09f55d",
   "metadata": {},
   "source": [
    "#### Creación de Scaler"
   ]
  },
  {
   "cell_type": "code",
   "execution_count": 23,
   "id": "2540c907",
   "metadata": {},
   "outputs": [
    {
     "name": "stderr",
     "output_type": "stream",
     "text": [
      "                                                                                \r"
     ]
    }
   ],
   "source": [
    "scaler = StandardScaler(\n",
    "    inputCol=\"features\",\n",
    "    outputCol=\"scaled_features\",\n",
    "    withStd=True,\n",
    "    withMean=True\n",
    ")\n",
    "\n",
    "scaler_model = scaler.fit(assembled_data)\n",
    "scaled_data = scaler_model.transform(assembled_data)"
   ]
  },
  {
   "cell_type": "markdown",
   "id": "6ed84d83",
   "metadata": {},
   "source": [
    "#### Creación de modelo"
   ]
  },
  {
   "cell_type": "code",
   "execution_count": 24,
   "id": "a83a9810",
   "metadata": {},
   "outputs": [],
   "source": [
    "from pyspark.ml.clustering import KMeans\n",
    "\n",
    "k_value = 5\n",
    "\n",
    "kmeans = KMeans(\n",
    "    featuresCol=\"scaled_features\",\n",
    "    k=k_value,\n",
    "    seed=42\n",
    ")"
   ]
  },
  {
   "cell_type": "markdown",
   "id": "b1b988c3",
   "metadata": {},
   "source": [
    "#### Entrenamiento"
   ]
  },
  {
   "cell_type": "code",
   "execution_count": 25,
   "id": "4e6a631e",
   "metadata": {},
   "outputs": [
    {
     "name": "stderr",
     "output_type": "stream",
     "text": [
      "25/05/16 14:13:49 WARN InstanceBuilder: Failed to load implementation from:dev.ludovic.netlib.blas.JNIBLAS\n",
      "25/05/16 14:13:49 WARN InstanceBuilder: Failed to load implementation from:dev.ludovic.netlib.blas.VectorBLAS\n",
      "                                                                                \r"
     ]
    }
   ],
   "source": [
    "model = kmeans.fit(scaled_data)"
   ]
  },
  {
   "cell_type": "markdown",
   "id": "3ae24531",
   "metadata": {},
   "source": [
    "#### Predicciones"
   ]
  },
  {
   "cell_type": "code",
   "execution_count": 26,
   "id": "227ea084",
   "metadata": {},
   "outputs": [],
   "source": [
    "predictions = model.transform(scaled_data)"
   ]
  },
  {
   "cell_type": "markdown",
   "id": "5cf111ef",
   "metadata": {},
   "source": [
    "#### Evaluación"
   ]
  },
  {
   "cell_type": "code",
   "execution_count": 27,
   "id": "a8b2e59f",
   "metadata": {},
   "outputs": [
    {
     "name": "stderr",
     "output_type": "stream",
     "text": [
      "[Stage 60:=============================>                            (1 + 1) / 2]\r"
     ]
    },
    {
     "name": "stdout",
     "output_type": "stream",
     "text": [
      "Silhouette score = 0.5435756098196128\n"
     ]
    },
    {
     "name": "stderr",
     "output_type": "stream",
     "text": [
      "                                                                                \r"
     ]
    }
   ],
   "source": [
    "from pyspark.ml.evaluation import ClusteringEvaluator\n",
    "\n",
    "evaluator = ClusteringEvaluator(\n",
    "    featuresCol=\"scaled_features\",\n",
    "    predictionCol=\"prediction\",\n",
    "    metricName=\"silhouette\"\n",
    ")\n",
    "\n",
    "silhouette = evaluator.evaluate(predictions)\n",
    "print(f\"Silhouette score = {silhouette}\")\n",
    "\n"
   ]
  },
  {
   "cell_type": "code",
   "execution_count": 28,
   "id": "9ec3049c",
   "metadata": {},
   "outputs": [
    {
     "name": "stdout",
     "output_type": "stream",
     "text": [
      "+--------------------+-----------+----------+\n",
      "|             user_id|device_type|prediction|\n",
      "+--------------------+-----------+----------+\n",
      "|00c5f9c4-1a02-4df...|     tablet|         3|\n",
      "|01887bf6-3d6c-4cc...|    desktop|         2|\n",
      "|0486f014-9604-473...|     tablet|         1|\n",
      "|0556ddae-d320-486...|     mobile|         1|\n",
      "|05855a5d-a9ee-4f5...|     tablet|         1|\n",
      "|05a5bb54-cb3a-4d9...|    desktop|         1|\n",
      "|06cd4114-ae93-437...|     mobile|         1|\n",
      "|070f3006-6da5-413...|    desktop|         4|\n",
      "|075d5f66-3e32-4c3...|     mobile|         1|\n",
      "|07913434-6c0a-492...|    desktop|         1|\n",
      "|08bbd8c4-8865-494...|    desktop|         1|\n",
      "|08ce2077-c08d-448...|     mobile|         1|\n",
      "|0c89af99-e70f-40d...|     tablet|         4|\n",
      "|0cc3a0bb-1f9a-4aa...|     mobile|         1|\n",
      "|0df68528-af6d-4e8...|     mobile|         4|\n",
      "|10de57d9-e13a-476...|     tablet|         2|\n",
      "|1413e768-1b86-42e...|     tablet|         1|\n",
      "|15a03770-2724-47b...|     mobile|         3|\n",
      "|163f5242-44da-496...|     tablet|         2|\n",
      "|177daed1-00a6-486...|    desktop|         1|\n",
      "+--------------------+-----------+----------+\n",
      "only showing top 20 rows\n",
      "\n",
      "Cluster Centers (Scaled Features):\n",
      "Cluster 0: [-0.60818415 -0.75428152  1.3162952   0.63158006  0.12546853]\n",
      "Cluster 1: [-0.60818415  1.3162952  -0.75428152 -0.07122268  0.10065032]\n",
      "Cluster 2: [ 1.63249429 -0.75428152 -0.75428152 -0.75633214 -0.094702  ]\n",
      "Cluster 3: [ 1.63249429 -0.75428152 -0.75428152  1.06052436  0.29479796]\n",
      "Cluster 4: [-0.60818415 -0.75428152  1.3162952  -0.83147546 -0.56762122]\n",
      "+----------+-----+\n",
      "|prediction|count|\n",
      "+----------+-----+\n",
      "|         0|   30|\n",
      "|         3|   17|\n",
      "|         4|   21|\n",
      "|         1|   51|\n",
      "|         2|   21|\n",
      "+----------+-----+\n",
      "\n"
     ]
    },
    {
     "name": "stderr",
     "output_type": "stream",
     "text": [
      "[Stage 75:=============================>                            (1 + 1) / 2]\r"
     ]
    },
    {
     "name": "stdout",
     "output_type": "stream",
     "text": [
      "+----------+----------+-----------+---------+------------------+------------------+-----+\n",
      "|prediction|avg_clicks|avg_scrolls|avg_views|             avg_x|             avg_y|count|\n",
      "+----------+----------+-----------+---------+------------------+------------------+-----+\n",
      "|         3|       1.0|        0.0|      0.0|1620.6470588235295| 689.1176470588235|   17|\n",
      "|         0|       0.0|        0.0|      1.0|1389.8666666666666| 637.9333333333333|   30|\n",
      "|         4|       0.0|        0.0|      1.0| 602.7142857142857|428.42857142857144|   21|\n",
      "|         1|       0.0|        1.0|      0.0|1011.7450980392157| 630.4313725490196|   51|\n",
      "|         2|       1.0|        0.0|      0.0| 643.1428571428571| 571.3809523809524|   21|\n",
      "+----------+----------+-----------+---------+------------------+------------------+-----+\n",
      "\n"
     ]
    },
    {
     "name": "stderr",
     "output_type": "stream",
     "text": [
      "                                                                                \r"
     ]
    }
   ],
   "source": [
    "predictions.select(\"user_id\", \"device_type\", \"prediction\").show()\n",
    "\n",
    "centers = model.clusterCenters()\n",
    "print(\"Cluster Centers (Scaled Features):\")\n",
    "for i, center in enumerate(centers):\n",
    "    print(f\"Cluster {i}: {center}\")\n",
    "\n",
    "predictions.groupBy(\"prediction\").count().show()\n",
    "\n",
    "\n",
    "predictions.groupBy(\"prediction\").agg(\n",
    "    avg(\"click_count\").alias(\"avg_clicks\"),\n",
    "    avg(\"scroll_count\").alias(\"avg_scrolls\"),\n",
    "    avg(\"view_count\").alias(\"avg_views\"),\n",
    "    avg(\"avg_click_coordinates_x\").alias(\"avg_x\"),\n",
    "    avg(\"avg_click_coordinates_y\").alias(\"avg_y\"),\n",
    "    count(\"device_type\").alias(\"count\")\n",
    ").show()"
   ]
  },
  {
   "cell_type": "code",
   "execution_count": 31,
   "id": "e9358f26",
   "metadata": {},
   "outputs": [],
   "source": [
    "sc.stop()"
   ]
  },
  {
   "cell_type": "markdown",
   "id": "ada9dd20",
   "metadata": {},
   "source": [
    "### **Visualización de datos: Power BI**\n",
    "---"
   ]
  },
  {
   "cell_type": "markdown",
   "id": "9d3fd8fa",
   "metadata": {},
   "source": [
    "#### Conversión a CSV (user clusters)"
   ]
  },
  {
   "cell_type": "code",
   "execution_count": 29,
   "id": "1c7ab952",
   "metadata": {},
   "outputs": [],
   "source": [
    "user_clusters = predictions.select(\n",
    "    \"user_id\", \n",
    "    \"device_type\",\n",
    "    \"click_count\", \n",
    "    \"scroll_count\", \n",
    "    \"view_count\", \n",
    "    \"avg_click_coordinates_x\", \n",
    "    \"avg_click_coordinates_y\",\n",
    "    \"prediction\"\n",
    ").withColumnRenamed(\"prediction\", \"cluster\")\n",
    "\n",
    "user_clusters.write.mode(\"overwrite\").option(\"header\", \"true\").csv(\"/home/jovyan/notebooks/data/user_clusters\")"
   ]
  },
  {
   "cell_type": "markdown",
   "id": "a560ab87",
   "metadata": {},
   "source": [
    "#### Conversión a CSV (cluster stats)"
   ]
  },
  {
   "cell_type": "code",
   "execution_count": 30,
   "id": "6ec70584",
   "metadata": {},
   "outputs": [],
   "source": [
    "cluster_stats = predictions.groupBy(\"prediction\").agg(\n",
    "    count(\"user_id\").alias(\"user_count\"),\n",
    "    avg(\"click_count\").alias(\"avg_clicks\"),\n",
    "    avg(\"scroll_count\").alias(\"avg_scrolls\"),\n",
    "    avg(\"view_count\").alias(\"avg_views\"),\n",
    "    avg(\"avg_click_coordinates_x\").alias(\"avg_x\"),\n",
    "    avg(\"avg_click_coordinates_y\").alias(\"avg_y\")\n",
    ").withColumnRenamed(\"prediction\", \"cluster\")\n",
    "\n",
    "cluster_stats.write.mode(\"overwrite\").option(\"header\", \"true\").csv(\"/home/jovyan/notebooks/data/cluster_stats\")"
   ]
  },
  {
   "cell_type": "markdown",
   "id": "5f99be21",
   "metadata": {},
   "source": [
    "#### Dashboard de ejemplo\n",
    "\n",
    "# <center> <img src=\"./img/sample_dashboard.png\" width=\"50%\"> </center>"
   ]
  }
 ],
 "metadata": {
  "kernelspec": {
   "display_name": "Python 3 (ipykernel)",
   "language": "python",
   "name": "python3"
  },
  "language_info": {
   "codemirror_mode": {
    "name": "ipython",
    "version": 3
   },
   "file_extension": ".py",
   "mimetype": "text/x-python",
   "name": "python",
   "nbconvert_exporter": "python",
   "pygments_lexer": "ipython3",
   "version": "3.11.6"
  }
 },
 "nbformat": 4,
 "nbformat_minor": 5
}
