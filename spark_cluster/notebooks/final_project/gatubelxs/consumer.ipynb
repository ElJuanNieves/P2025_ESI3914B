{
 "cells": [
  {
   "cell_type": "markdown",
   "id": "06711040",
   "metadata": {},
   "source": [
    "# <center> <img src=\"../labs/img/ITESOLogo.png\" alt=\"ITESO\" width=\"480\" height=\"130\"> </center>\n",
    "# <center> **Departamento de Electrónica, Sistemas e Informática** </center>\n",
    "---\n",
    "## <center> **Procesamiento de Datos Masivos** </center>\n",
    "---\n",
    "### <center> **Primavera 2025** </center>\n",
    "---\n",
    "## <center> **Final Project (Website Activity) Consumer** </center>\n",
    "\n",
    "\n",
    "**Team**:\n",
    "- Luis Raul Acosta Mendoza \n",
    "- Samantha Abigail Quintero \n",
    "- Arturo Benajamin Vergara Romo\n",
    "    \n",
    "**Profesor**: Dr. Pablo Camarillo Ramirez"
   ]
  },
  {
   "cell_type": "markdown",
   "id": "d6b43ee5",
   "metadata": {},
   "source": [
    "## Overview\n",
    "This notebook consumes streaming data from Kafka topics and processes it using Spark Structured Streaming.\n"
   ]
  },
  {
   "cell_type": "markdown",
   "id": "0477843f",
   "metadata": {},
   "source": [
    "## 1. Environment Setup"
   ]
  },
  {
   "cell_type": "code",
   "execution_count": 13,
   "id": "52f0165e",
   "metadata": {},
   "outputs": [],
   "source": [
    "import findspark\n",
    "findspark.init()"
   ]
  },
  {
   "cell_type": "code",
   "execution_count": 14,
   "id": "a7c7afdb",
   "metadata": {},
   "outputs": [],
   "source": [
    "from pyspark.sql import SparkSession\n",
    "from pyspark.sql.functions import from_json, col\n",
    "from gatubelxs.spark_utils import SparkUtils\n",
    "from gatubelxs.streaming_monitor import StreamingPerformanceMonitor, analyze_performance_data"
   ]
  },
  {
   "cell_type": "markdown",
   "id": "155400ec",
   "metadata": {},
   "source": [
    "## 2. Directory Structure"
   ]
  },
  {
   "cell_type": "code",
   "execution_count": 24,
   "id": "694eb3bf",
   "metadata": {},
   "outputs": [],
   "source": [
    "import os \n",
    "base_path = \"/home/jovyan/notebooks/data\"\n",
    "\n",
    "for topic in [\"page_views\", \"click_events\", \"user_interactions\"]:\n",
    "    os.makedirs(f\"{base_path}/{topic}/checkpoint\", exist_ok=True)\n",
    "    os.makedirs(f\"{base_path}/{topic}\", exist_ok=True)  # For the data files too"
   ]
  },
  {
   "cell_type": "markdown",
   "id": "e4e9f8b0",
   "metadata": {},
   "source": [
    "## 3. Schema Definitions"
   ]
  },
  {
   "cell_type": "code",
   "execution_count": 16,
   "id": "ef0992eb",
   "metadata": {},
   "outputs": [],
   "source": [
    "spark = SparkSession.builder \\\n",
    "    .appName(\"FinalProjectGatubelxs\") \\\n",
    "    .master(\"spark://b33dcc1265b4:7077\") \\\n",
    "    .config(\"spark.ui.port\",\"4040\") \\\n",
    "    .config(\"spark.jars.packages\", \"org.apache.spark:spark-sql-kafka-0-10_2.13:3.5.4\") \\\n",
    "    .getOrCreate()\n",
    "sc = spark.sparkContext"
   ]
  },
  {
   "cell_type": "code",
   "execution_count": 17,
   "id": "fe3b2a58",
   "metadata": {},
   "outputs": [],
   "source": [
    "performance_monitor = StreamingPerformanceMonitor()\n",
    "spark.streams.addListener(performance_monitor)"
   ]
  },
  {
   "cell_type": "code",
   "execution_count": 18,
   "id": "7517ab2b",
   "metadata": {},
   "outputs": [],
   "source": [
    "TOPICS = [\"page_views\", \"click_events\", \"user_interactions\"]\n",
    "KAFKA_BOOTSTRAP_SERVER = \"kafka:9093\""
   ]
  },
  {
   "cell_type": "code",
   "execution_count": 19,
   "id": "0035fc31",
   "metadata": {},
   "outputs": [],
   "source": [
    "page_views_schema = SparkUtils.generate_schema(\n",
    "    [\n",
    "\n",
    "        (\"user_id\", \"string\"),\n",
    "        (\"session_id\", \"string\"),\n",
    "        (\"page_url\", \"string\"),\n",
    "        (\"referrer_url\", \"string\"),\n",
    "        (\"category\", \"string\"),\n",
    "        (\"price\", \"float\"),\n",
    "        (\"timestamp\", \"string\")\n",
    "    ]\n",
    ")"
   ]
  },
  {
   "cell_type": "code",
   "execution_count": 20,
   "id": "a290ffb7",
   "metadata": {},
   "outputs": [],
   "source": [
    "click_events_schema = SparkUtils.generate_schema(\n",
    "    [\n",
    "        (\"user_id\", \"string\"),\n",
    "        (\"session_id\", \"string\"),\n",
    "        (\"element_id\", \"string\"),\n",
    "        (\"page_url\", \"string\"),\n",
    "        (\"category\", \"string\"),\n",
    "        (\"price\", \"float\"),\n",
    "        (\"timestamp\", \"string\"),\n",
    "        (\"x_coord\", \"float\"),\n",
    "        (\"y_coord\", \"float\"),\n",
    "    ]\n",
    ")"
   ]
  },
  {
   "cell_type": "code",
   "execution_count": 21,
   "id": "0ef9a034",
   "metadata": {},
   "outputs": [],
   "source": [
    "user_interaction_schema = SparkUtils.generate_schema(\n",
    "    [\n",
    "        (\"user_id\", \"string\"),\n",
    "        (\"session_id\", \"string\"),\n",
    "        (\"interaction_type\", \"string\"),\n",
    "        (\"page_url\", \"string\"),\n",
    "        (\"category\", \"string\"),\n",
    "        (\"price\", \"float\"),\n",
    "        (\"details\", \"string\"),\n",
    "        (\"timestamp\", \"string\")\n",
    "    ]\n",
    ")"
   ]
  },
  {
   "cell_type": "markdown",
   "id": "dfbce454",
   "metadata": {},
   "source": [
    "## 4. Stream Processing Setup"
   ]
  },
  {
   "cell_type": "code",
   "execution_count": null,
   "id": "c4acf77b",
   "metadata": {},
   "outputs": [
    {
     "name": "stderr",
     "output_type": "stream",
     "text": [
      "                                                                                \r"
     ]
    },
    {
     "name": "stdout",
     "output_type": "stream",
     "text": [
      "\n",
      "Performance summary for page_views]:\n",
      "Processed 5 rows at 5.02 rows/second\n",
      "Input rate: 1.00 rows/second\n",
      "Processing time: 997ms\n",
      "\n",
      "Performance summary for page_views]:\n",
      "Processed 5 rows at 5.02 rows/second\n",
      "Input rate: 1.00 rows/second\n",
      "Processing time: 997ms\n",
      "\n",
      "Performance summary for user_interactions]:\n",
      "Processed 2 rows at 1.24 rows/second\n",
      "Input rate: 0.40 rows/second\n",
      "Processing time: 1615ms\n",
      "\n",
      "Performance summary for user_interactions]:\n",
      "Processed 2 rows at 1.24 rows/second\n",
      "Input rate: 0.40 rows/second\n",
      "Processing time: 1615ms\n",
      "\n",
      "Performance summary for click_events]:\n",
      "Processed 7 rows at 4.07 rows/second\n",
      "Input rate: 1.40 rows/second\n",
      "Processing time: 1721ms\n",
      "\n",
      "Performance summary for click_events]:\n",
      "Processed 7 rows at 4.07 rows/second\n",
      "Input rate: 1.40 rows/second\n",
      "Processing time: 1721ms\n"
     ]
    }
   ],
   "source": [
    "def create_stream_query(topic, schema, output_dir):\n",
    "    kafka__stream = spark.readStream \\\n",
    "        .format(\"kafka\") \\\n",
    "        .option(\"kafka.bootstrap.servers\", KAFKA_BOOTSTRAP_SERVER) \\\n",
    "        .option(\"subscribe\", topic) \\\n",
    "        .load()\n",
    "    \n",
    "    parsed_data = kafka__stream.selectExpr(\"CAST(value as STRING) as json\") \\\n",
    "        .withColumn(\"data\", from_json(col(\"json\"), schema)) \\\n",
    "        .select(\"data.*\")\n",
    "\n",
    "    return parsed_data.writeStream \\\n",
    "        .format(\"parquet\") \\\n",
    "        .outputMode(\"append\") \\\n",
    "        .option(\"path\", f\"{base_path}/{topic}\") \\\n",
    "        .option(\"checkpointLocation\", f\"{base_path}/{topic}/checkpoint\") \\\n",
    "        .trigger(processingTime=\"5 seconds\") \\\n",
    "        .start()\n"
   ]
  },
  {
   "cell_type": "markdown",
   "id": "efec10fd",
   "metadata": {},
   "source": [
    "## 5. Start Streaming Queries and performance monitoring"
   ]
  },
  {
   "cell_type": "code",
   "execution_count": 23,
   "id": "60624241",
   "metadata": {},
   "outputs": [
    {
     "name": "stderr",
     "output_type": "stream",
     "text": [
      "25/05/13 03:51:44 WARN ResolveWriteToStream: spark.sql.adaptive.enabled is not supported in streaming DataFrames/Datasets and will be disabled.\n",
      "25/05/13 03:51:44 WARN StreamingQueryManager: Stopping existing streaming query [id=e911c040-17ae-4a26-91c1-e4120ae91dd2, runId=50c565fe-d9ef-4b68-8a86-6d5f2affae34], as a new run is being started.\n",
      "25/05/13 03:51:44 WARN AdminClientConfig: These configurations '[key.deserializer, value.deserializer, enable.auto.commit, max.poll.records, auto.offset.reset]' were supplied but are not used yet.\n",
      "25/05/13 03:51:44 WARN ResolveWriteToStream: spark.sql.adaptive.enabled is not supported in streaming DataFrames/Datasets and will be disabled.\n",
      "25/05/13 03:51:44 WARN StreamingQueryManager: Stopping existing streaming query [id=1fcf2acb-4a9a-4f03-bc11-6f56fdac6d05, runId=5a9700ed-94f0-4836-aef6-1b7619d5a4a1], as a new run is being started.\n",
      "25/05/13 03:51:44 WARN AdminClientConfig: These configurations '[key.deserializer, value.deserializer, enable.auto.commit, max.poll.records, auto.offset.reset]' were supplied but are not used yet.\n",
      "25/05/13 03:51:44 WARN ResolveWriteToStream: spark.sql.adaptive.enabled is not supported in streaming DataFrames/Datasets and will be disabled.\n"
     ]
    },
    {
     "name": "stdout",
     "output_type": "stream",
     "text": [
      "Query terminated: e911c040-17ae-4a26-91c1-e4120ae91dd2 at 2025-05-13 03:51:44.714134\n",
      "Query started: e911c040-17ae-4a26-91c1-e4120ae91dd2 at 2025-05-13 03:51:44.714594\n",
      "Query terminated: e911c040-17ae-4a26-91c1-e4120ae91dd2 at 2025-05-13 03:51:44.715248\n",
      "Query started: e911c040-17ae-4a26-91c1-e4120ae91dd2 at 2025-05-13 03:51:44.715379\n",
      "Query terminated: 1fcf2acb-4a9a-4f03-bc11-6f56fdac6d05 at 2025-05-13 03:51:44.765407\n",
      "Query started: 1fcf2acb-4a9a-4f03-bc11-6f56fdac6d05 at 2025-05-13 03:51:44.765779\n",
      "Query terminated: 1fcf2acb-4a9a-4f03-bc11-6f56fdac6d05 at 2025-05-13 03:51:44.766653\n",
      "Query started: 1fcf2acb-4a9a-4f03-bc11-6f56fdac6d05 at 2025-05-13 03:51:44.766721\n"
     ]
    },
    {
     "name": "stderr",
     "output_type": "stream",
     "text": [
      "25/05/13 03:51:44 WARN StreamingQueryManager: Stopping existing streaming query [id=3112a589-5021-474c-8466-77a6354c0d53, runId=8cceec6d-4289-4e5b-9e61-692b5a07ce9f], as a new run is being started.\n",
      "25/05/13 03:51:44 WARN AdminClientConfig: These configurations '[key.deserializer, value.deserializer, enable.auto.commit, max.poll.records, auto.offset.reset]' were supplied but are not used yet.\n"
     ]
    },
    {
     "name": "stdout",
     "output_type": "stream",
     "text": [
      "Query terminated: 3112a589-5021-474c-8466-77a6354c0d53 at 2025-05-13 03:51:44.934728\n",
      "Query started: 3112a589-5021-474c-8466-77a6354c0d53 at 2025-05-13 03:51:44.936048\n",
      "Query started: 3112a589-5021-474c-8466-77a6354c0d53 at 2025-05-13 03:51:44.941141\n",
      "Query terminated: 3112a589-5021-474c-8466-77a6354c0d53 at 2025-05-13 03:51:44.943564\n"
     ]
    },
    {
     "name": "stderr",
     "output_type": "stream",
     "text": [
      "                                                                                \r"
     ]
    },
    {
     "name": "stdout",
     "output_type": "stream",
     "text": [
      "\n",
      "Performance summary for page_views]:\n",
      "Processed 3 rows at 2.96 rows/second\n",
      "Input rate: 0.00 rows/second\n",
      "Processing time: 1014ms\n",
      "\n",
      "Performance summary for page_views]:\n",
      "Processed 3 rows at 2.96 rows/second\n",
      "Input rate: 0.00 rows/second\n",
      "Processing time: 1014ms\n"
     ]
    },
    {
     "name": "stderr",
     "output_type": "stream",
     "text": [
      "                                                                                \r"
     ]
    },
    {
     "name": "stdout",
     "output_type": "stream",
     "text": [
      "\n",
      "Performance summary for click_events]:\n",
      "Processed 6 rows at 3.66 rows/second\n",
      "Input rate: 0.00 rows/second\n",
      "Processing time: 1640ms\n",
      "\n",
      "Performance summary for click_events]:\n",
      "Processed 6 rows at 3.66 rows/second\n",
      "Input rate: 0.00 rows/second\n",
      "Processing time: 1640ms\n"
     ]
    },
    {
     "name": "stderr",
     "output_type": "stream",
     "text": [
      "                                                                                \r"
     ]
    },
    {
     "name": "stdout",
     "output_type": "stream",
     "text": [
      "\n",
      "Performance summary for user_interactions]:\n",
      "Processed 6 rows at 2.88 rows/second\n",
      "Input rate: 0.00 rows/second\n",
      "Processing time: 2086ms\n",
      "\n",
      "Performance summary for user_interactions]:\n",
      "Processed 6 rows at 2.88 rows/second\n",
      "Input rate: 0.00 rows/second\n",
      "Processing time: 2086ms\n",
      "\n",
      "Performance summary for page_views]:\n",
      "Processed 6 rows at 3.15 rows/second\n",
      "Input rate: 5.91 rows/second\n",
      "Processing time: 1906ms\n",
      "\n",
      "Performance summary for page_views]:\n",
      "Processed 6 rows at 3.15 rows/second\n",
      "Input rate: 5.91 rows/second\n",
      "Processing time: 1906ms\n",
      "\n",
      "Performance summary for click_events]:\n",
      "Processed 4 rows at 3.12 rows/second\n",
      "Input rate: 2.44 rows/second\n",
      "Processing time: 1283ms\n",
      "\n",
      "Performance summary for click_events]:\n",
      "Processed 4 rows at 3.12 rows/second\n",
      "Input rate: 2.44 rows/second\n",
      "Processing time: 1283ms\n",
      "\n",
      "Performance summary for user_interactions]:\n",
      "Processed 1 rows at 1.46 rows/second\n",
      "Input rate: 0.48 rows/second\n",
      "Processing time: 687ms\n",
      "\n",
      "Performance summary for user_interactions]:\n",
      "Processed 1 rows at 1.46 rows/second\n",
      "Input rate: 0.48 rows/second\n",
      "Processing time: 687ms\n"
     ]
    },
    {
     "name": "stderr",
     "output_type": "stream",
     "text": [
      "                                                                                \r"
     ]
    },
    {
     "name": "stdout",
     "output_type": "stream",
     "text": [
      "\n",
      "Performance summary for page_views]:\n",
      "Processed 6 rows at 7.44 rows/second\n",
      "Input rate: 1.40 rows/second\n",
      "Processing time: 806ms\n",
      "\n",
      "Performance summary for page_views]:\n",
      "Processed 6 rows at 7.44 rows/second\n",
      "Input rate: 1.40 rows/second\n",
      "Processing time: 806ms\n"
     ]
    },
    {
     "name": "stderr",
     "output_type": "stream",
     "text": [
      "                                                                                \r"
     ]
    },
    {
     "name": "stdout",
     "output_type": "stream",
     "text": [
      "\n",
      "Performance summary for user_interactions]:\n",
      "Processed 3 rows at 1.95 rows/second\n",
      "Input rate: 1.01 rows/second\n",
      "Processing time: 1538ms\n",
      "\n",
      "Performance summary for user_interactions]:\n",
      "Processed 3 rows at 1.95 rows/second\n",
      "Input rate: 1.01 rows/second\n",
      "Processing time: 1538ms\n",
      "\n",
      "Performance summary for click_events]:\n",
      "Processed 10 rows at 5.66 rows/second\n",
      "Input rate: 2.78 rows/second\n",
      "Processing time: 1766ms\n",
      "\n",
      "Performance summary for click_events]:\n",
      "Processed 10 rows at 5.66 rows/second\n",
      "Input rate: 2.78 rows/second\n",
      "Processing time: 1766ms\n",
      "\n",
      "Performance summary for click_events]:\n",
      "Processed 11 rows at 13.45 rows/second\n",
      "Input rate: 2.20 rows/second\n",
      "Processing time: 818ms\n",
      "\n",
      "Performance summary for click_events]:\n",
      "Processed 11 rows at 13.45 rows/second\n",
      "Input rate: 2.20 rows/second\n",
      "Processing time: 818ms\n",
      "\n",
      "Performance summary for user_interactions]:\n",
      "Processed 8 rows at 5.73 rows/second\n",
      "Input rate: 1.60 rows/second\n",
      "Processing time: 1394ms\n",
      "\n",
      "Performance summary for user_interactions]:\n",
      "Processed 8 rows at 5.73 rows/second\n",
      "Input rate: 1.60 rows/second\n",
      "Processing time: 1394ms\n",
      "\n",
      "Performance summary for page_views]:\n",
      "Processed 9 rows at 4.55 rows/second\n",
      "Input rate: 1.80 rows/second\n",
      "Processing time: 1975ms\n",
      "\n",
      "Performance summary for page_views]:\n",
      "Processed 9 rows at 4.55 rows/second\n",
      "Input rate: 1.80 rows/second\n",
      "Processing time: 1975ms\n",
      "\n",
      "Performance summary for user_interactions]:\n",
      "Processed 13 rows at 16.60 rows/second\n",
      "Input rate: 2.60 rows/second\n",
      "Processing time: 783ms\n",
      "\n",
      "Performance summary for user_interactions]:\n",
      "Processed 13 rows at 16.60 rows/second\n",
      "Input rate: 2.60 rows/second\n",
      "Processing time: 783ms\n",
      "\n",
      "Performance summary for page_views]:\n",
      "Processed 23 rows at 17.02 rows/second\n",
      "Input rate: 4.60 rows/second\n",
      "Processing time: 1351ms\n",
      "\n",
      "Performance summary for page_views]:\n",
      "Processed 23 rows at 17.02 rows/second\n",
      "Input rate: 4.60 rows/second\n",
      "Processing time: 1351ms\n",
      "\n",
      "Performance summary for click_events]:\n",
      "Processed 4 rows at 2.22 rows/second\n",
      "Input rate: 0.80 rows/second\n",
      "Processing time: 1805ms\n",
      "\n",
      "Performance summary for click_events]:\n",
      "Processed 4 rows at 2.22 rows/second\n",
      "Input rate: 0.80 rows/second\n",
      "Processing time: 1805ms\n"
     ]
    },
    {
     "name": "stderr",
     "output_type": "stream",
     "text": [
      "                                                                                \r"
     ]
    },
    {
     "name": "stdout",
     "output_type": "stream",
     "text": [
      "\n",
      "Performance summary for user_interactions]:\n",
      "Processed 15 rows at 19.18 rows/second\n",
      "Input rate: 3.00 rows/second\n",
      "Processing time: 782ms\n",
      "\n",
      "Performance summary for user_interactions]:\n",
      "Processed 15 rows at 19.18 rows/second\n",
      "Input rate: 3.00 rows/second\n",
      "Processing time: 782ms\n",
      "\n",
      "Performance summary for click_events]:\n",
      "Processed 5 rows at 3.75 rows/second\n",
      "Input rate: 1.00 rows/second\n",
      "Processing time: 1335ms\n",
      "\n",
      "Performance summary for click_events]:\n",
      "Processed 5 rows at 3.75 rows/second\n",
      "Input rate: 1.00 rows/second\n",
      "Processing time: 1335ms\n"
     ]
    },
    {
     "name": "stderr",
     "output_type": "stream",
     "text": [
      "                                                                                \r"
     ]
    },
    {
     "name": "stdout",
     "output_type": "stream",
     "text": [
      "\n",
      "Performance summary for page_views]:\n",
      "Processed 10 rows at 5.29 rows/second\n",
      "Input rate: 2.00 rows/second\n",
      "Processing time: 1892ms\n",
      "\n",
      "Performance summary for page_views]:\n",
      "Processed 10 rows at 5.29 rows/second\n",
      "Input rate: 2.00 rows/second\n",
      "Processing time: 1892ms\n"
     ]
    },
    {
     "name": "stderr",
     "output_type": "stream",
     "text": [
      "                                                                                \r"
     ]
    },
    {
     "name": "stdout",
     "output_type": "stream",
     "text": [
      "\n",
      "Performance summary for user_interactions]:\n",
      "Processed 11 rows at 13.56 rows/second\n",
      "Input rate: 2.20 rows/second\n",
      "Processing time: 810ms\n",
      "\n",
      "Performance summary for user_interactions]:\n",
      "Processed 11 rows at 13.56 rows/second\n",
      "Input rate: 2.20 rows/second\n",
      "Processing time: 810ms\n"
     ]
    },
    {
     "name": "stderr",
     "output_type": "stream",
     "text": [
      "                                                                                \r"
     ]
    },
    {
     "name": "stdout",
     "output_type": "stream",
     "text": [
      "\n",
      "Performance summary for page_views]:\n",
      "Processed 18 rows at 12.87 rows/second\n",
      "Input rate: 3.60 rows/second\n",
      "Processing time: 1399ms\n",
      "\n",
      "Performance summary for page_views]:\n",
      "Processed 18 rows at 12.87 rows/second\n",
      "Input rate: 3.60 rows/second\n",
      "Processing time: 1399ms\n",
      "\n",
      "Performance summary for click_events]:\n",
      "Processed 17 rows at 9.23 rows/second\n",
      "Input rate: 3.40 rows/second\n",
      "Processing time: 1841ms\n",
      "\n",
      "Performance summary for click_events]:\n",
      "Processed 17 rows at 9.23 rows/second\n",
      "Input rate: 3.40 rows/second\n",
      "Processing time: 1841ms\n",
      "\n",
      "Performance summary for click_events]:\n",
      "Processed 14 rows at 19.07 rows/second\n",
      "Input rate: 2.80 rows/second\n",
      "Processing time: 734ms\n",
      "\n",
      "Performance summary for click_events]:\n",
      "Processed 14 rows at 19.07 rows/second\n",
      "Input rate: 2.80 rows/second\n",
      "Processing time: 734ms\n",
      "\n",
      "Performance summary for page_views]:\n",
      "Processed 9 rows at 10.82 rows/second\n",
      "Input rate: 1.80 rows/second\n",
      "Processing time: 830ms\n",
      "\n",
      "Performance summary for page_views]:\n",
      "Processed 9 rows at 10.82 rows/second\n",
      "Input rate: 1.80 rows/second\n",
      "Processing time: 830ms\n"
     ]
    },
    {
     "name": "stderr",
     "output_type": "stream",
     "text": [
      "                                                                                \r"
     ]
    },
    {
     "name": "stdout",
     "output_type": "stream",
     "text": [
      "\n",
      "Performance summary for click_events]:\n",
      "Processed 21 rows at 25.21 rows/second\n",
      "Input rate: 4.20 rows/second\n",
      "Processing time: 833ms\n",
      "\n",
      "Performance summary for click_events]:\n",
      "Processed 21 rows at 25.21 rows/second\n",
      "Input rate: 4.20 rows/second\n",
      "Processing time: 833ms\n",
      "\n",
      "Performance summary for user_interactions]:\n",
      "Processed 25 rows at 17.48 rows/second\n",
      "Input rate: 5.00 rows/second\n",
      "Processing time: 1430ms\n",
      "\n",
      "Performance summary for user_interactions]:\n",
      "Processed 25 rows at 17.48 rows/second\n",
      "Input rate: 5.00 rows/second\n",
      "Processing time: 1430ms\n",
      "\n",
      "Performance summary for page_views]:\n",
      "Processed 14 rows at 7.44 rows/second\n",
      "Input rate: 2.80 rows/second\n",
      "Processing time: 1882ms\n",
      "\n",
      "Performance summary for page_views]:\n",
      "Processed 14 rows at 7.44 rows/second\n",
      "Input rate: 2.80 rows/second\n",
      "Processing time: 1882ms\n"
     ]
    },
    {
     "name": "stderr",
     "output_type": "stream",
     "text": [
      "                                                                                \r"
     ]
    },
    {
     "name": "stdout",
     "output_type": "stream",
     "text": [
      "\n",
      "Performance summary for click_events]:\n",
      "Processed 9 rows at 12.30 rows/second\n",
      "Input rate: 1.80 rows/second\n",
      "Processing time: 732ms\n",
      "\n",
      "Performance summary for click_events]:\n",
      "Processed 9 rows at 12.30 rows/second\n",
      "Input rate: 1.80 rows/second\n",
      "Processing time: 732ms\n",
      "\n",
      "Performance summary for page_views]:\n",
      "Processed 7 rows at 7.94 rows/second\n",
      "Input rate: 1.40 rows/second\n",
      "Processing time: 882ms\n",
      "\n",
      "Performance summary for page_views]:\n",
      "Processed 7 rows at 7.94 rows/second\n",
      "Input rate: 1.40 rows/second\n",
      "Processing time: 882ms\n",
      "\n",
      "Performance summary for user_interactions]:\n",
      "Processed 8 rows at 5.55 rows/second\n",
      "Input rate: 1.60 rows/second\n",
      "Processing time: 1441ms\n",
      "\n",
      "Performance summary for user_interactions]:\n",
      "Processed 8 rows at 5.55 rows/second\n",
      "Input rate: 1.60 rows/second\n",
      "Processing time: 1441ms\n"
     ]
    },
    {
     "name": "stderr",
     "output_type": "stream",
     "text": [
      "                                                                                \r"
     ]
    },
    {
     "name": "stdout",
     "output_type": "stream",
     "text": [
      "\n",
      "Performance summary for click_events]:\n",
      "Processed 16 rows at 22.86 rows/second\n",
      "Input rate: 3.20 rows/second\n",
      "Processing time: 700ms\n",
      "\n",
      "Performance summary for click_events]:\n",
      "Processed 16 rows at 22.86 rows/second\n",
      "Input rate: 3.20 rows/second\n",
      "Processing time: 700ms\n",
      "\n",
      "Performance summary for user_interactions]:\n",
      "Processed 11 rows at 8.72 rows/second\n",
      "Input rate: 2.20 rows/second\n",
      "Processing time: 1261ms\n",
      "\n",
      "Performance summary for user_interactions]:\n",
      "Processed 11 rows at 8.72 rows/second\n",
      "Input rate: 2.20 rows/second\n",
      "Processing time: 1261ms\n",
      "\n",
      "Performance summary for page_views]:\n",
      "Processed 12 rows at 6.46 rows/second\n",
      "Input rate: 2.40 rows/second\n",
      "Processing time: 1857ms\n",
      "\n",
      "Performance summary for page_views]:\n",
      "Processed 12 rows at 6.46 rows/second\n",
      "Input rate: 2.40 rows/second\n",
      "Processing time: 1857ms\n"
     ]
    },
    {
     "name": "stderr",
     "output_type": "stream",
     "text": [
      "                                                                                \r"
     ]
    },
    {
     "name": "stdout",
     "output_type": "stream",
     "text": [
      "\n",
      "Performance summary for user_interactions]:\n",
      "Processed 9 rows at 11.02 rows/second\n",
      "Input rate: 1.80 rows/second\n",
      "Processing time: 817ms\n",
      "\n",
      "Performance summary for user_interactions]:\n",
      "Processed 9 rows at 11.02 rows/second\n",
      "Input rate: 1.80 rows/second\n",
      "Processing time: 817ms\n",
      "\n",
      "Performance summary for page_views]:\n",
      "Processed 18 rows at 18.69 rows/second\n",
      "Input rate: 3.60 rows/second\n",
      "Processing time: 963ms\n",
      "\n",
      "Performance summary for page_views]:\n",
      "Processed 18 rows at 18.69 rows/second\n",
      "Input rate: 3.60 rows/second\n",
      "Processing time: 963ms\n",
      "\n",
      "Performance summary for click_events]:\n",
      "Processed 1 rows at 0.67 rows/second\n",
      "Input rate: 0.20 rows/second\n",
      "Processing time: 1491ms\n",
      "\n",
      "Performance summary for click_events]:\n",
      "Processed 1 rows at 0.67 rows/second\n",
      "Input rate: 0.20 rows/second\n",
      "Processing time: 1491ms\n",
      "\n",
      "Performance summary for click_events]:\n",
      "Processed 8 rows at 10.65 rows/second\n",
      "Input rate: 1.60 rows/second\n",
      "Processing time: 751ms\n",
      "\n",
      "Performance summary for click_events]:\n",
      "Processed 8 rows at 10.65 rows/second\n",
      "Input rate: 1.60 rows/second\n",
      "Processing time: 751ms\n",
      "\n",
      "Performance summary for page_views]:\n",
      "Processed 19 rows at 14.22 rows/second\n",
      "Input rate: 3.80 rows/second\n",
      "Processing time: 1336ms\n",
      "\n",
      "Performance summary for page_views]:\n",
      "Processed 19 rows at 14.22 rows/second\n",
      "Input rate: 3.80 rows/second\n",
      "Processing time: 1336ms\n",
      "\n",
      "Performance summary for user_interactions]:\n",
      "Processed 7 rows at 3.69 rows/second\n",
      "Input rate: 1.40 rows/second\n",
      "Processing time: 1897ms\n",
      "\n",
      "Performance summary for user_interactions]:\n",
      "Processed 7 rows at 3.69 rows/second\n",
      "Input rate: 1.40 rows/second\n",
      "Processing time: 1897ms\n",
      "\n",
      "Performance summary for page_views]:\n",
      "Processed 10 rows at 11.79 rows/second\n",
      "Input rate: 2.00 rows/second\n",
      "Processing time: 848ms\n",
      "\n",
      "Performance summary for page_views]:\n",
      "Processed 10 rows at 11.79 rows/second\n",
      "Input rate: 2.00 rows/second\n",
      "Processing time: 848ms\n",
      "\n",
      "Performance summary for user_interactions]:\n",
      "Processed 13 rows at 13.68 rows/second\n",
      "Input rate: 2.60 rows/second\n",
      "Processing time: 950ms\n",
      "\n",
      "Performance summary for user_interactions]:\n",
      "Processed 13 rows at 13.68 rows/second\n",
      "Input rate: 2.60 rows/second\n",
      "Processing time: 950ms\n"
     ]
    },
    {
     "name": "stderr",
     "output_type": "stream",
     "text": [
      "                                                                                \r"
     ]
    },
    {
     "name": "stdout",
     "output_type": "stream",
     "text": [
      "\n",
      "Performance summary for user_interactions]:\n",
      "Processed 24 rows at 30.34 rows/second\n",
      "Input rate: 4.80 rows/second\n",
      "Processing time: 791ms\n",
      "\n",
      "Performance summary for user_interactions]:\n",
      "Processed 24 rows at 30.34 rows/second\n",
      "Input rate: 4.80 rows/second\n",
      "Processing time: 791ms\n"
     ]
    },
    {
     "name": "stderr",
     "output_type": "stream",
     "text": [
      "                                                                                \r"
     ]
    },
    {
     "name": "stdout",
     "output_type": "stream",
     "text": [
      "\n",
      "Performance summary for page_views]:\n",
      "Processed 16 rows at 11.69 rows/second\n",
      "Input rate: 3.20 rows/second\n",
      "Processing time: 1369ms\n",
      "\n",
      "Performance summary for page_views]:\n",
      "Processed 16 rows at 11.69 rows/second\n",
      "Input rate: 3.20 rows/second\n",
      "Processing time: 1369ms\n"
     ]
    },
    {
     "name": "stderr",
     "output_type": "stream",
     "text": [
      "                                                                                \r"
     ]
    },
    {
     "name": "stdout",
     "output_type": "stream",
     "text": [
      "\n",
      "Performance summary for click_events]:\n",
      "Processed 17 rows at 8.76 rows/second\n",
      "Input rate: 3.40 rows/second\n",
      "Processing time: 1941ms\n",
      "\n",
      "Performance summary for click_events]:\n",
      "Processed 17 rows at 8.76 rows/second\n",
      "Input rate: 3.40 rows/second\n",
      "Processing time: 1941ms\n"
     ]
    },
    {
     "name": "stderr",
     "output_type": "stream",
     "text": [
      "                                                                                \r"
     ]
    },
    {
     "name": "stdout",
     "output_type": "stream",
     "text": [
      "\n",
      "Performance summary for user_interactions]:\n",
      "Processed 8 rows at 9.62 rows/second\n",
      "Input rate: 1.60 rows/second\n",
      "Processing time: 832ms\n",
      "\n",
      "Performance summary for user_interactions]:\n",
      "Processed 8 rows at 9.62 rows/second\n",
      "Input rate: 1.60 rows/second\n",
      "Processing time: 832ms\n"
     ]
    },
    {
     "name": "stderr",
     "output_type": "stream",
     "text": [
      "                                                                                \r"
     ]
    },
    {
     "name": "stdout",
     "output_type": "stream",
     "text": [
      "\n",
      "Performance summary for click_events]:\n",
      "Processed 9 rows at 6.34 rows/second\n",
      "Input rate: 1.80 rows/second\n",
      "Processing time: 1419ms\n",
      "\n",
      "Performance summary for click_events]:\n",
      "Processed 9 rows at 6.34 rows/second\n",
      "Input rate: 1.80 rows/second\n",
      "Processing time: 1419ms\n",
      "\n",
      "Performance summary for page_views]:\n",
      "Processed 14 rows at 7.10 rows/second\n",
      "Input rate: 2.80 rows/second\n",
      "Processing time: 1972ms\n",
      "\n",
      "Performance summary for page_views]:\n",
      "Processed 14 rows at 7.10 rows/second\n",
      "Input rate: 2.80 rows/second\n",
      "Processing time: 1972ms\n",
      "\n",
      "Performance summary for page_views]:\n",
      "Processed 24 rows at 31.83 rows/second\n",
      "Input rate: 4.80 rows/second\n",
      "Processing time: 753ms\n",
      "\n",
      "Performance summary for page_views]:\n",
      "Processed 24 rows at 31.83 rows/second\n",
      "Input rate: 4.80 rows/second\n",
      "Processing time: 753ms\n",
      "\n",
      "Performance summary for click_events]:\n",
      "Processed 16 rows at 12.15 rows/second\n",
      "Input rate: 3.20 rows/second\n",
      "Processing time: 1316ms\n",
      "\n",
      "Performance summary for click_events]:\n",
      "Processed 16 rows at 12.15 rows/second\n",
      "Input rate: 3.20 rows/second\n",
      "Processing time: 1316ms\n"
     ]
    },
    {
     "name": "stderr",
     "output_type": "stream",
     "text": [
      "                                                                                \r"
     ]
    },
    {
     "name": "stdout",
     "output_type": "stream",
     "text": [
      "\n",
      "Performance summary for user_interactions]:\n",
      "Processed 14 rows at 7.49 rows/second\n",
      "Input rate: 2.80 rows/second\n",
      "Processing time: 1870ms\n",
      "\n",
      "Performance summary for user_interactions]:\n",
      "Processed 14 rows at 7.49 rows/second\n",
      "Input rate: 2.80 rows/second\n",
      "Processing time: 1870ms\n"
     ]
    },
    {
     "name": "stderr",
     "output_type": "stream",
     "text": [
      "                                                                                \r"
     ]
    },
    {
     "name": "stdout",
     "output_type": "stream",
     "text": [
      "\n",
      "Performance summary for page_views]:\n",
      "Processed 3 rows at 3.44 rows/second\n",
      "Input rate: 0.60 rows/second\n",
      "Processing time: 871ms\n",
      "\n",
      "Performance summary for page_views]:\n",
      "Processed 3 rows at 3.44 rows/second\n",
      "Input rate: 0.60 rows/second\n",
      "Processing time: 871ms\n",
      "\n",
      "Performance summary for click_events]:\n",
      "Processed 12 rows at 11.73 rows/second\n",
      "Input rate: 2.40 rows/second\n",
      "Processing time: 1023ms\n",
      "\n",
      "Performance summary for click_events]:\n",
      "Processed 12 rows at 11.73 rows/second\n",
      "Input rate: 2.40 rows/second\n",
      "Processing time: 1023ms\n",
      "\n",
      "Performance summary for user_interactions]:\n",
      "Processed 5 rows at 3.17 rows/second\n",
      "Input rate: 1.00 rows/second\n",
      "Processing time: 1577ms\n",
      "\n",
      "Performance summary for user_interactions]:\n",
      "Processed 5 rows at 3.17 rows/second\n",
      "Input rate: 1.00 rows/second\n",
      "Processing time: 1577ms\n"
     ]
    },
    {
     "name": "stderr",
     "output_type": "stream",
     "text": [
      "                                                                                \r"
     ]
    },
    {
     "name": "stdout",
     "output_type": "stream",
     "text": [
      "\n",
      "Performance summary for click_events]:\n",
      "Processed 19 rows at 20.30 rows/second\n",
      "Input rate: 3.80 rows/second\n",
      "Processing time: 936ms\n",
      "\n",
      "Performance summary for click_events]:\n",
      "Processed 19 rows at 20.30 rows/second\n",
      "Input rate: 3.80 rows/second\n",
      "Processing time: 936ms\n",
      "\n",
      "Performance summary for user_interactions]:\n",
      "Processed 7 rows at 4.67 rows/second\n",
      "Input rate: 1.40 rows/second\n",
      "Processing time: 1500ms\n",
      "\n",
      "Performance summary for user_interactions]:\n",
      "Processed 7 rows at 4.67 rows/second\n",
      "Input rate: 1.40 rows/second\n",
      "Processing time: 1500ms\n",
      "\n",
      "Performance summary for page_views]:\n",
      "Processed 18 rows at 8.76 rows/second\n",
      "Input rate: 3.60 rows/second\n",
      "Processing time: 2055ms\n",
      "\n",
      "Performance summary for page_views]:\n",
      "Processed 18 rows at 8.76 rows/second\n",
      "Input rate: 3.60 rows/second\n",
      "Processing time: 2055ms\n"
     ]
    },
    {
     "name": "stderr",
     "output_type": "stream",
     "text": [
      "                                                                                \r"
     ]
    },
    {
     "name": "stdout",
     "output_type": "stream",
     "text": [
      "\n",
      "Performance summary for click_events]:\n",
      "Processed 8 rows at 9.95 rows/second\n",
      "Input rate: 1.60 rows/second\n",
      "Processing time: 804ms\n",
      "\n",
      "Performance summary for click_events]:\n",
      "Processed 8 rows at 9.95 rows/second\n",
      "Input rate: 1.60 rows/second\n",
      "Processing time: 804ms\n",
      "\n",
      "Performance summary for page_views]:\n",
      "Processed 17 rows at 15.57 rows/second\n",
      "Input rate: 3.40 rows/second\n",
      "Processing time: 1092ms\n",
      "\n",
      "Performance summary for page_views]:\n",
      "Processed 17 rows at 15.57 rows/second\n",
      "Input rate: 3.40 rows/second\n",
      "Processing time: 1092ms\n",
      "\n",
      "Performance summary for user_interactions]:\n",
      "Processed 15 rows at 9.14 rows/second\n",
      "Input rate: 3.00 rows/second\n",
      "Processing time: 1641ms\n",
      "\n",
      "Performance summary for user_interactions]:\n",
      "Processed 15 rows at 9.14 rows/second\n",
      "Input rate: 3.00 rows/second\n",
      "Processing time: 1641ms\n"
     ]
    },
    {
     "name": "stderr",
     "output_type": "stream",
     "text": [
      "                                                                                \r"
     ]
    },
    {
     "name": "stdout",
     "output_type": "stream",
     "text": [
      "\n",
      "Performance summary for page_views]:\n",
      "Processed 17 rows at 20.86 rows/second\n",
      "Input rate: 3.40 rows/second\n",
      "Processing time: 815ms\n",
      "\n",
      "Performance summary for page_views]:\n",
      "Processed 17 rows at 20.86 rows/second\n",
      "Input rate: 3.40 rows/second\n",
      "Processing time: 815ms\n",
      "\n",
      "Performance summary for user_interactions]:\n",
      "Processed 7 rows at 5.05 rows/second\n",
      "Input rate: 1.40 rows/second\n",
      "Processing time: 1386ms\n",
      "\n",
      "Performance summary for user_interactions]:\n",
      "Processed 7 rows at 5.05 rows/second\n",
      "Input rate: 1.40 rows/second\n",
      "Processing time: 1386ms\n",
      "\n",
      "Performance summary for click_events]:\n",
      "Processed 8 rows at 4.16 rows/second\n",
      "Input rate: 1.60 rows/second\n",
      "Processing time: 1922ms\n",
      "\n",
      "Performance summary for click_events]:\n",
      "Processed 8 rows at 4.16 rows/second\n",
      "Input rate: 1.60 rows/second\n",
      "Processing time: 1922ms\n"
     ]
    },
    {
     "name": "stderr",
     "output_type": "stream",
     "text": [
      "                                                                                \r"
     ]
    },
    {
     "name": "stdout",
     "output_type": "stream",
     "text": [
      "\n",
      "Performance summary for user_interactions]:\n",
      "Processed 14 rows at 13.00 rows/second\n",
      "Input rate: 2.80 rows/second\n",
      "Processing time: 1076ms\n",
      "\n",
      "Performance summary for user_interactions]:\n",
      "Processed 14 rows at 13.00 rows/second\n",
      "Input rate: 2.80 rows/second\n",
      "Processing time: 1076ms\n",
      "\n",
      "Performance summary for page_views]:\n",
      "Processed 12 rows at 10.54 rows/second\n",
      "Input rate: 2.40 rows/second\n",
      "Processing time: 1139ms\n",
      "\n",
      "Performance summary for page_views]:\n",
      "Processed 12 rows at 10.54 rows/second\n",
      "Input rate: 2.40 rows/second\n",
      "Processing time: 1139ms\n",
      "\n",
      "Performance summary for click_events]:\n",
      "Processed 15 rows at 8.89 rows/second\n",
      "Input rate: 3.00 rows/second\n",
      "Processing time: 1687ms\n",
      "\n",
      "Performance summary for click_events]:\n",
      "Processed 15 rows at 8.89 rows/second\n",
      "Input rate: 3.00 rows/second\n",
      "Processing time: 1687ms\n"
     ]
    },
    {
     "name": "stderr",
     "output_type": "stream",
     "text": [
      "                                                                                \r"
     ]
    },
    {
     "name": "stdout",
     "output_type": "stream",
     "text": [
      "\n",
      "Performance summary for click_events]:\n",
      "Processed 5 rows at 7.07 rows/second\n",
      "Input rate: 1.00 rows/second\n",
      "Processing time: 707ms\n",
      "\n",
      "Performance summary for click_events]:\n",
      "Processed 5 rows at 7.07 rows/second\n",
      "Input rate: 1.00 rows/second\n",
      "Processing time: 707ms\n",
      "\n",
      "Performance summary for user_interactions]:\n",
      "Processed 2 rows at 1.60 rows/second\n",
      "Input rate: 0.40 rows/second\n",
      "Processing time: 1249ms\n",
      "\n",
      "Performance summary for user_interactions]:\n",
      "Processed 2 rows at 1.60 rows/second\n",
      "Input rate: 0.40 rows/second\n",
      "Processing time: 1249ms\n",
      "\n",
      "Performance summary for page_views]:\n",
      "Processed 15 rows at 8.32 rows/second\n",
      "Input rate: 3.00 rows/second\n",
      "Processing time: 1803ms\n",
      "\n",
      "Performance summary for page_views]:\n",
      "Processed 15 rows at 8.32 rows/second\n",
      "Input rate: 3.00 rows/second\n",
      "Processing time: 1803ms\n"
     ]
    },
    {
     "name": "stderr",
     "output_type": "stream",
     "text": [
      "                                                                                \r"
     ]
    },
    {
     "name": "stdout",
     "output_type": "stream",
     "text": [
      "\n",
      "Performance summary for click_events]:\n",
      "Processed 11 rows at 14.51 rows/second\n",
      "Input rate: 2.20 rows/second\n",
      "Processing time: 758ms\n",
      "\n",
      "Performance summary for click_events]:\n",
      "Processed 11 rows at 14.51 rows/second\n",
      "Input rate: 2.20 rows/second\n",
      "Processing time: 758ms\n",
      "\n",
      "Performance summary for page_views]:\n",
      "Processed 19 rows at 15.99 rows/second\n",
      "Input rate: 3.80 rows/second\n",
      "Processing time: 1188ms\n",
      "\n",
      "Performance summary for page_views]:\n",
      "Processed 19 rows at 15.99 rows/second\n",
      "Input rate: 3.80 rows/second\n",
      "Processing time: 1188ms\n"
     ]
    },
    {
     "name": "stderr",
     "output_type": "stream",
     "text": [
      "                                                                                \r"
     ]
    },
    {
     "name": "stdout",
     "output_type": "stream",
     "text": [
      "\n",
      "Performance summary for user_interactions]:\n",
      "Processed 2 rows at 1.16 rows/second\n",
      "Input rate: 0.40 rows/second\n",
      "Processing time: 1728ms\n",
      "\n",
      "Performance summary for user_interactions]:\n",
      "Processed 2 rows at 1.16 rows/second\n",
      "Input rate: 0.40 rows/second\n",
      "Processing time: 1728ms\n",
      "\n",
      "Performance summary for user_interactions]:\n",
      "Processed 13 rows at 17.36 rows/second\n",
      "Input rate: 2.60 rows/second\n",
      "Processing time: 749ms\n",
      "\n",
      "Performance summary for user_interactions]:\n",
      "Processed 13 rows at 17.36 rows/second\n",
      "Input rate: 2.60 rows/second\n",
      "Processing time: 749ms\n",
      "\n",
      "Performance summary for click_events]:\n",
      "Processed 16 rows at 12.02 rows/second\n",
      "Input rate: 3.20 rows/second\n",
      "Processing time: 1331ms\n",
      "\n",
      "Performance summary for click_events]:\n",
      "Processed 16 rows at 12.02 rows/second\n",
      "Input rate: 3.20 rows/second\n",
      "Processing time: 1331ms\n",
      "\n",
      "Performance summary for page_views]:\n",
      "Processed 11 rows at 5.87 rows/second\n",
      "Input rate: 2.20 rows/second\n",
      "Processing time: 1874ms\n",
      "\n",
      "Performance summary for page_views]:\n",
      "Processed 11 rows at 5.87 rows/second\n",
      "Input rate: 2.20 rows/second\n",
      "Processing time: 1874ms\n",
      "\n",
      "Performance summary for page_views]:\n",
      "Processed 11 rows at 14.82 rows/second\n",
      "Input rate: 2.20 rows/second\n",
      "Processing time: 741ms\n",
      "\n",
      "Performance summary for page_views]:\n",
      "Processed 11 rows at 14.82 rows/second\n",
      "Input rate: 2.20 rows/second\n",
      "Processing time: 741ms\n",
      "\n",
      "Performance summary for user_interactions]:\n",
      "Processed 9 rows at 7.36 rows/second\n",
      "Input rate: 1.80 rows/second\n",
      "Processing time: 1222ms\n",
      "\n",
      "Performance summary for user_interactions]:\n",
      "Processed 9 rows at 7.36 rows/second\n",
      "Input rate: 1.80 rows/second\n",
      "Processing time: 1222ms\n",
      "\n",
      "Performance summary for click_events]:\n",
      "Processed 24 rows at 13.55 rows/second\n",
      "Input rate: 4.80 rows/second\n",
      "Processing time: 1770ms\n",
      "\n",
      "Performance summary for click_events]:\n",
      "Processed 24 rows at 13.55 rows/second\n",
      "Input rate: 4.80 rows/second\n",
      "Processing time: 1770ms\n"
     ]
    },
    {
     "name": "stderr",
     "output_type": "stream",
     "text": [
      "                                                                                \r"
     ]
    },
    {
     "name": "stdout",
     "output_type": "stream",
     "text": [
      "\n",
      "Performance summary for page_views]:\n",
      "Processed 9 rows at 10.42 rows/second\n",
      "Input rate: 1.80 rows/second\n",
      "Processing time: 864ms\n",
      "\n",
      "Performance summary for page_views]:\n",
      "Processed 9 rows at 10.42 rows/second\n",
      "Input rate: 1.80 rows/second\n",
      "Processing time: 864ms\n",
      "\n",
      "Performance summary for click_events]:\n",
      "Processed 5 rows at 3.48 rows/second\n",
      "Input rate: 1.00 rows/second\n",
      "Processing time: 1437ms\n",
      "\n",
      "Performance summary for click_events]:\n",
      "Processed 5 rows at 3.48 rows/second\n",
      "Input rate: 1.00 rows/second\n",
      "Processing time: 1437ms\n",
      "\n",
      "Performance summary for user_interactions]:\n",
      "Processed 12 rows at 6.03 rows/second\n",
      "Input rate: 2.40 rows/second\n",
      "Processing time: 1990ms\n",
      "\n",
      "Performance summary for user_interactions]:\n",
      "Processed 12 rows at 6.03 rows/second\n",
      "Input rate: 2.40 rows/second\n",
      "Processing time: 1990ms\n",
      "\n",
      "Performance summary for click_events]:\n",
      "Processed 21 rows at 29.13 rows/second\n",
      "Input rate: 4.20 rows/second\n",
      "Processing time: 720ms\n",
      "\n",
      "Performance summary for click_events]:\n",
      "Processed 21 rows at 29.13 rows/second\n",
      "Input rate: 4.20 rows/second\n",
      "Processing time: 720ms\n",
      "\n",
      "Performance summary for user_interactions]:\n",
      "Processed 14 rows at 11.09 rows/second\n",
      "Input rate: 2.80 rows/second\n",
      "Processing time: 1261ms\n",
      "\n",
      "Performance summary for user_interactions]:\n",
      "Processed 14 rows at 11.09 rows/second\n",
      "Input rate: 2.80 rows/second\n",
      "Processing time: 1261ms\n",
      "\n",
      "Performance summary for page_views]:\n",
      "Processed 10 rows at 5.60 rows/second\n",
      "Input rate: 2.00 rows/second\n",
      "Processing time: 1785ms\n",
      "\n",
      "Performance summary for page_views]:\n",
      "Processed 10 rows at 5.60 rows/second\n",
      "Input rate: 2.00 rows/second\n",
      "Processing time: 1785ms\n",
      "\n",
      "Performance summary for user_interactions]:\n",
      "Processed 11 rows at 41.35 rows/second\n",
      "Input rate: 2.19 rows/second\n",
      "Processing time: 266ms\n",
      "\n",
      "Performance summary for user_interactions]:\n",
      "Processed 11 rows at 41.35 rows/second\n",
      "Input rate: 2.19 rows/second\n",
      "Processing time: 266ms\n"
     ]
    },
    {
     "name": "stderr",
     "output_type": "stream",
     "text": [
      "                                                                                \r"
     ]
    },
    {
     "name": "stdout",
     "output_type": "stream",
     "text": [
      "\n",
      "Performance summary for click_events]:\n",
      "Processed 14 rows at 16.65 rows/second\n",
      "Input rate: 2.80 rows/second\n",
      "Processing time: 841ms\n",
      "\n",
      "Performance summary for click_events]:\n",
      "Processed 14 rows at 16.65 rows/second\n",
      "Input rate: 2.80 rows/second\n",
      "Processing time: 841ms\n"
     ]
    },
    {
     "name": "stderr",
     "output_type": "stream",
     "text": [
      "                                                                                \r"
     ]
    },
    {
     "name": "stdout",
     "output_type": "stream",
     "text": [
      "\n",
      "Performance summary for page_views]:\n",
      "Processed 5 rows at 3.61 rows/second\n",
      "Input rate: 1.00 rows/second\n",
      "Processing time: 1386ms\n",
      "\n",
      "Performance summary for page_views]:\n",
      "Processed 5 rows at 3.61 rows/second\n",
      "Input rate: 1.00 rows/second\n",
      "Processing time: 1386ms\n",
      "\n",
      "Performance summary for user_interactions]:\n",
      "Processed 10 rows at 12.58 rows/second\n",
      "Input rate: 2.00 rows/second\n",
      "Processing time: 795ms\n",
      "\n",
      "Performance summary for user_interactions]:\n",
      "Processed 10 rows at 12.58 rows/second\n",
      "Input rate: 2.00 rows/second\n",
      "Processing time: 795ms\n",
      "\n",
      "Performance summary for page_views]:\n",
      "Processed 20 rows at 15.33 rows/second\n",
      "Input rate: 4.00 rows/second\n",
      "Processing time: 1305ms\n",
      "\n",
      "Performance summary for page_views]:\n",
      "Processed 20 rows at 15.33 rows/second\n",
      "Input rate: 4.00 rows/second\n",
      "Processing time: 1305ms\n"
     ]
    },
    {
     "name": "stderr",
     "output_type": "stream",
     "text": [
      "                                                                                \r"
     ]
    },
    {
     "name": "stdout",
     "output_type": "stream",
     "text": [
      "\n",
      "Performance summary for click_events]:\n",
      "Processed 11 rows at 5.94 rows/second\n",
      "Input rate: 2.20 rows/second\n",
      "Processing time: 1852ms\n",
      "\n",
      "Performance summary for click_events]:\n",
      "Processed 11 rows at 5.94 rows/second\n",
      "Input rate: 2.20 rows/second\n",
      "Processing time: 1852ms\n",
      "\n",
      "Performance summary for click_events]:\n",
      "Processed 18 rows at 54.71 rows/second\n",
      "Input rate: 3.60 rows/second\n",
      "Processing time: 329ms\n",
      "\n",
      "Performance summary for click_events]:\n",
      "Processed 18 rows at 54.71 rows/second\n",
      "Input rate: 3.60 rows/second\n",
      "Processing time: 329ms\n"
     ]
    },
    {
     "name": "stderr",
     "output_type": "stream",
     "text": [
      "                                                                                \r"
     ]
    },
    {
     "name": "stdout",
     "output_type": "stream",
     "text": [
      "\n",
      "Performance summary for user_interactions]:\n",
      "Processed 6 rows at 6.64 rows/second\n",
      "Input rate: 1.20 rows/second\n",
      "Processing time: 904ms\n",
      "\n",
      "Performance summary for user_interactions]:\n",
      "Processed 6 rows at 6.64 rows/second\n",
      "Input rate: 1.20 rows/second\n",
      "Processing time: 904ms\n",
      "\n",
      "Performance summary for page_views]:\n",
      "Processed 13 rows at 9.00 rows/second\n",
      "Input rate: 2.60 rows/second\n",
      "Processing time: 1445ms\n",
      "\n",
      "Performance summary for page_views]:\n",
      "Processed 13 rows at 9.00 rows/second\n",
      "Input rate: 2.60 rows/second\n",
      "Processing time: 1445ms\n",
      "\n",
      "Performance summary for click_events]:\n",
      "Processed 16 rows at 22.92 rows/second\n",
      "Input rate: 3.20 rows/second\n",
      "Processing time: 698ms\n",
      "\n",
      "Performance summary for click_events]:\n",
      "Processed 16 rows at 22.92 rows/second\n",
      "Input rate: 3.20 rows/second\n",
      "Processing time: 698ms\n",
      "\n",
      "Performance summary for user_interactions]:\n",
      "Processed 25 rows at 19.31 rows/second\n",
      "Input rate: 5.00 rows/second\n",
      "Processing time: 1295ms\n",
      "\n",
      "Performance summary for user_interactions]:\n",
      "Processed 25 rows at 19.31 rows/second\n",
      "Input rate: 5.00 rows/second\n",
      "Processing time: 1295ms\n",
      "\n",
      "Performance summary for page_views]:\n",
      "Processed 20 rows at 14.90 rows/second\n",
      "Input rate: 4.00 rows/second\n",
      "Processing time: 1342ms\n",
      "\n",
      "Performance summary for page_views]:\n",
      "Processed 20 rows at 14.90 rows/second\n",
      "Input rate: 4.00 rows/second\n",
      "Processing time: 1342ms\n",
      "\n",
      "Performance summary for click_events]:\n",
      "Processed 17 rows at 46.45 rows/second\n",
      "Input rate: 3.40 rows/second\n",
      "Processing time: 366ms\n",
      "\n",
      "Performance summary for click_events]:\n",
      "Processed 17 rows at 46.45 rows/second\n",
      "Input rate: 3.40 rows/second\n",
      "Processing time: 366ms\n",
      "\n",
      "Performance summary for page_views]:\n",
      "Processed 12 rows at 12.90 rows/second\n",
      "Input rate: 2.40 rows/second\n",
      "Processing time: 930ms\n",
      "\n",
      "Performance summary for page_views]:\n",
      "Processed 12 rows at 12.90 rows/second\n",
      "Input rate: 2.40 rows/second\n",
      "Processing time: 930ms\n",
      "\n",
      "Performance summary for user_interactions]:\n",
      "Processed 19 rows at 12.76 rows/second\n",
      "Input rate: 3.80 rows/second\n",
      "Processing time: 1489ms\n",
      "\n",
      "Performance summary for user_interactions]:\n",
      "Processed 19 rows at 12.76 rows/second\n",
      "Input rate: 3.80 rows/second\n",
      "Processing time: 1489ms\n"
     ]
    },
    {
     "name": "stderr",
     "output_type": "stream",
     "text": [
      "                                                                                \r"
     ]
    },
    {
     "name": "stdout",
     "output_type": "stream",
     "text": [
      "\n",
      "Performance summary for click_events]:\n",
      "Processed 19 rows at 22.09 rows/second\n",
      "Input rate: 3.80 rows/second\n",
      "Processing time: 860ms\n",
      "\n",
      "Performance summary for click_events]:\n",
      "Processed 19 rows at 22.09 rows/second\n",
      "Input rate: 3.80 rows/second\n",
      "Processing time: 860ms\n",
      "\n",
      "Performance summary for page_views]:\n",
      "Processed 17 rows at 11.83 rows/second\n",
      "Input rate: 3.40 rows/second\n",
      "Processing time: 1437ms\n",
      "\n",
      "Performance summary for page_views]:\n",
      "Processed 17 rows at 11.83 rows/second\n",
      "Input rate: 3.40 rows/second\n",
      "Processing time: 1437ms\n",
      "\n",
      "Performance summary for user_interactions]:\n",
      "Processed 17 rows at 8.56 rows/second\n",
      "Input rate: 3.40 rows/second\n",
      "Processing time: 1985ms\n",
      "\n",
      "Performance summary for user_interactions]:\n",
      "Processed 17 rows at 8.56 rows/second\n",
      "Input rate: 3.40 rows/second\n",
      "Processing time: 1985ms\n",
      "\n",
      "Performance summary for page_views]:\n",
      "Processed 14 rows at 34.91 rows/second\n",
      "Input rate: 2.80 rows/second\n",
      "Processing time: 401ms\n",
      "\n",
      "Performance summary for page_views]:\n",
      "Processed 14 rows at 34.91 rows/second\n",
      "Input rate: 2.80 rows/second\n",
      "Processing time: 401ms\n",
      "\n",
      "Performance summary for user_interactions]:\n",
      "Processed 9 rows at 21.08 rows/second\n",
      "Input rate: 1.80 rows/second\n",
      "Processing time: 427ms\n",
      "\n",
      "Performance summary for user_interactions]:\n",
      "Processed 9 rows at 21.08 rows/second\n",
      "Input rate: 1.80 rows/second\n",
      "Processing time: 427ms\n",
      "\n",
      "Performance summary for click_events]:\n",
      "Processed 3 rows at 3.00 rows/second\n",
      "Input rate: 0.60 rows/second\n",
      "Processing time: 1000ms\n",
      "\n",
      "Performance summary for click_events]:\n",
      "Processed 3 rows at 3.00 rows/second\n",
      "Input rate: 0.60 rows/second\n",
      "Processing time: 1000ms\n"
     ]
    },
    {
     "name": "stderr",
     "output_type": "stream",
     "text": [
      "                                                                                \r"
     ]
    },
    {
     "name": "stdout",
     "output_type": "stream",
     "text": [
      "\n",
      "Performance summary for click_events]:\n",
      "Processed 15 rows at 20.41 rows/second\n",
      "Input rate: 3.00 rows/second\n",
      "Processing time: 735ms\n",
      "\n",
      "Performance summary for click_events]:\n",
      "Processed 15 rows at 20.41 rows/second\n",
      "Input rate: 3.00 rows/second\n",
      "Processing time: 735ms\n",
      "\n",
      "Performance summary for user_interactions]:\n",
      "Processed 16 rows at 12.02 rows/second\n",
      "Input rate: 3.20 rows/second\n",
      "Processing time: 1331ms\n",
      "\n",
      "Performance summary for user_interactions]:\n",
      "Processed 16 rows at 12.02 rows/second\n",
      "Input rate: 3.20 rows/second\n",
      "Processing time: 1331ms\n",
      "\n",
      "Performance summary for page_views]:\n",
      "Processed 17 rows at 12.10 rows/second\n",
      "Input rate: 3.40 rows/second\n",
      "Processing time: 1405ms\n",
      "\n",
      "Performance summary for page_views]:\n",
      "Processed 17 rows at 12.10 rows/second\n",
      "Input rate: 3.40 rows/second\n",
      "Processing time: 1405ms\n",
      "\n",
      "Performance summary for user_interactions]:\n",
      "Processed 9 rows at 18.83 rows/second\n",
      "Input rate: 1.80 rows/second\n",
      "Processing time: 478ms\n",
      "\n",
      "Performance summary for user_interactions]:\n",
      "Processed 9 rows at 18.83 rows/second\n",
      "Input rate: 1.80 rows/second\n",
      "Processing time: 478ms\n",
      "\n",
      "Performance summary for click_events]:\n",
      "Processed 9 rows at 8.60 rows/second\n",
      "Input rate: 1.80 rows/second\n",
      "Processing time: 1047ms\n",
      "\n",
      "Performance summary for click_events]:\n",
      "Processed 9 rows at 8.60 rows/second\n",
      "Input rate: 1.80 rows/second\n",
      "Processing time: 1047ms\n"
     ]
    },
    {
     "name": "stderr",
     "output_type": "stream",
     "text": [
      "                                                                                \r"
     ]
    },
    {
     "name": "stdout",
     "output_type": "stream",
     "text": [
      "\n",
      "Performance summary for page_views]:\n",
      "Processed 15 rows at 9.20 rows/second\n",
      "Input rate: 3.00 rows/second\n",
      "Processing time: 1630ms\n",
      "\n",
      "Performance summary for page_views]:\n",
      "Processed 15 rows at 9.20 rows/second\n",
      "Input rate: 3.00 rows/second\n",
      "Processing time: 1630ms\n",
      "Query terminated: e911c040-17ae-4a26-91c1-e4120ae91dd2 at 2025-05-13 03:54:44.975262\n",
      "Query terminated: e911c040-17ae-4a26-91c1-e4120ae91dd2 at 2025-05-13 03:54:44.978371\n",
      "Query terminated: 1fcf2acb-4a9a-4f03-bc11-6f56fdac6d05 at 2025-05-13 03:54:44.980414\n",
      "\n",
      "Performance Analysis fro unknown:\n",
      "\n",
      "Average processing rate: 11.89 rows/second\n",
      "Peak processing rate: 54.71 rows/second\n",
      "Average processing time: 1230.55ms\n",
      "Peak processing time: 2086ms\n",
      "Query terminated: 1fcf2acb-4a9a-4f03-bc11-6f56fdac6d05 at 2025-05-13 03:54:44.989903\n"
     ]
    },
    {
     "name": "stdout",
     "output_type": "stream",
     "text": [
      "Query terminated: 3112a589-5021-474c-8466-77a6354c0d53 at 2025-05-13 03:54:44.996579\n",
      "Query terminated: 3112a589-5021-474c-8466-77a6354c0d53 at 2025-05-13 03:54:45.000718\n"
     ]
    }
   ],
   "source": [
    "queries = [\n",
    "    create_stream_query(\"page_views\", page_views_schema, \"./datalake/page_views\"),\n",
    "    create_stream_query(\"click_events\", click_events_schema, \"./datalake/click_events\"),\n",
    "    create_stream_query(\"user_interactions\", user_interaction_schema, \"./datalake/user_interactions\"),\n",
    "]\n",
    "\n",
    "for q in queries:\n",
    "    q.awaitTermination(timeout=60)\n",
    "\n",
    "for q in queries:\n",
    "    q.stop()\n",
    "\n",
    "analyze_performance_data(performance_monitor.metrics_history)"
   ]
  },
  {
   "cell_type": "code",
   "execution_count": null,
   "id": "701f295c",
   "metadata": {},
   "outputs": [],
   "source": [
    "sc.stop()"
   ]
  }
 ],
 "metadata": {
  "kernelspec": {
   "display_name": "Python 3 (ipykernel)",
   "language": "python",
   "name": "python3"
  },
  "language_info": {
   "codemirror_mode": {
    "name": "ipython",
    "version": 3
   },
   "file_extension": ".py",
   "mimetype": "text/x-python",
   "name": "python",
   "nbconvert_exporter": "python",
   "pygments_lexer": "ipython3",
   "version": "3.11.6"
  }
 },
 "nbformat": 4,
 "nbformat_minor": 5
}
