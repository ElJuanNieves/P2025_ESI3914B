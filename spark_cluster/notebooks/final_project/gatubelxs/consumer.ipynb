{
 "cells": [
  {
   "cell_type": "code",
   "execution_count": 1,
   "id": "52f0165e",
   "metadata": {},
   "outputs": [],
   "source": [
    "import findspark\n",
    "findspark.init()"
   ]
  },
  {
   "cell_type": "code",
   "execution_count": 2,
   "id": "a7c7afdb",
   "metadata": {},
   "outputs": [],
   "source": [
    "from pyspark.sql import SparkSession\n",
    "from pyspark.sql.functions import from_json, col\n",
    "from gatubelxs.spark_utils import SparkUtils\n",
    "from gatubelxs.streaming_monitor import StreamingPerformanceMonitor, analyze_performance_data"
   ]
  },
  {
   "cell_type": "code",
   "execution_count": 12,
   "id": "694eb3bf",
   "metadata": {},
   "outputs": [
    {
     "name": "stderr",
     "output_type": "stream",
     "text": [
      "25/05/13 02:49:05 ERROR MicroBatchExecution: Query [id = 3f9b9cf9-6378-4db4-82e0-1d93c9cf0ffa, runId = eb429f68-17cb-42c3-946d-d1c4053d4124] terminated with error\n",
      "java.io.FileNotFoundException: File file:/home/jovyan/notebooks/data/click_events/checkpoint/offsets does not exist\n",
      "\tat org.apache.hadoop.fs.RawLocalFileSystem.deprecatedGetFileStatus(RawLocalFileSystem.java:779)\n",
      "\tat org.apache.hadoop.fs.RawLocalFileSystem.getFileLinkStatusInternal(RawLocalFileSystem.java:1100)\n",
      "\tat org.apache.hadoop.fs.RawLocalFileSystem.getFileStatus(RawLocalFileSystem.java:769)\n",
      "\tat org.apache.hadoop.fs.DelegateToFileSystem.getFileStatus(DelegateToFileSystem.java:128)\n",
      "\tat org.apache.hadoop.fs.DelegateToFileSystem.createInternal(DelegateToFileSystem.java:93)\n",
      "\tat org.apache.hadoop.fs.ChecksumFs$ChecksumFSOutputSummer.<init>(ChecksumFs.java:353)\n",
      "\tat org.apache.hadoop.fs.ChecksumFs.createInternal(ChecksumFs.java:400)\n",
      "\tat org.apache.hadoop.fs.AbstractFileSystem.create(AbstractFileSystem.java:626)\n",
      "\tat org.apache.hadoop.fs.FileContext$3.next(FileContext.java:701)\n",
      "\tat org.apache.hadoop.fs.FileContext$3.next(FileContext.java:697)\n",
      "\tat org.apache.hadoop.fs.FSLinkResolver.resolve(FSLinkResolver.java:90)\n",
      "\tat org.apache.hadoop.fs.FileContext.create(FileContext.java:703)\n",
      "\tat org.apache.spark.sql.execution.streaming.FileContextBasedCheckpointFileManager.createTempFile(CheckpointFileManager.scala:361)\n",
      "\tat org.apache.spark.sql.execution.streaming.CheckpointFileManager$RenameBasedFSDataOutputStream.<init>(CheckpointFileManager.scala:140)\n",
      "\tat org.apache.spark.sql.execution.streaming.CheckpointFileManager$RenameBasedFSDataOutputStream.<init>(CheckpointFileManager.scala:143)\n",
      "\tat org.apache.spark.sql.execution.streaming.FileContextBasedCheckpointFileManager.createAtomic(CheckpointFileManager.scala:367)\n",
      "\tat org.apache.spark.sql.execution.streaming.HDFSMetadataLog.write(HDFSMetadataLog.scala:201)\n",
      "\tat org.apache.spark.sql.execution.streaming.HDFSMetadataLog.addNewBatchByStream(HDFSMetadataLog.scala:237)\n",
      "\tat org.apache.spark.sql.execution.streaming.HDFSMetadataLog.add(HDFSMetadataLog.scala:130)\n",
      "\tat org.apache.spark.sql.execution.streaming.MicroBatchExecution.markMicroBatchStart(MicroBatchExecution.scala:764)\n",
      "\tat org.apache.spark.sql.execution.streaming.MicroBatchExecution.$anonfun$constructNextBatch$13(MicroBatchExecution.scala:536)\n",
      "\tat scala.runtime.java8.JFunction0$mcV$sp.apply(JFunction0$mcV$sp.scala:18)\n",
      "\tat org.apache.spark.sql.execution.streaming.ProgressReporter.reportTimeTaken(ProgressReporter.scala:427)\n",
      "\tat org.apache.spark.sql.execution.streaming.ProgressReporter.reportTimeTaken$(ProgressReporter.scala:425)\n",
      "\tat org.apache.spark.sql.execution.streaming.StreamExecution.reportTimeTaken(StreamExecution.scala:67)\n",
      "\tat org.apache.spark.sql.execution.streaming.MicroBatchExecution.$anonfun$constructNextBatch$1(MicroBatchExecution.scala:535)\n",
      "\tat scala.runtime.java8.JFunction0$mcZ$sp.apply(JFunction0$mcZ$sp.scala:17)\n",
      "\tat org.apache.spark.sql.execution.streaming.MicroBatchExecution.withProgressLocked(MicroBatchExecution.scala:810)\n",
      "\tat org.apache.spark.sql.execution.streaming.MicroBatchExecution.constructNextBatch(MicroBatchExecution.scala:475)\n",
      "\tat org.apache.spark.sql.execution.streaming.MicroBatchExecution.$anonfun$runActivatedStream$2(MicroBatchExecution.scala:268)\n",
      "\tat scala.runtime.java8.JFunction0$mcV$sp.apply(JFunction0$mcV$sp.scala:18)\n",
      "\tat org.apache.spark.sql.execution.streaming.ProgressReporter.reportTimeTaken(ProgressReporter.scala:427)\n",
      "\tat org.apache.spark.sql.execution.streaming.ProgressReporter.reportTimeTaken$(ProgressReporter.scala:425)\n",
      "\tat org.apache.spark.sql.execution.streaming.StreamExecution.reportTimeTaken(StreamExecution.scala:67)\n",
      "\tat org.apache.spark.sql.execution.streaming.MicroBatchExecution.$anonfun$runActivatedStream$1(MicroBatchExecution.scala:249)\n",
      "\tat org.apache.spark.sql.execution.streaming.ProcessingTimeExecutor.execute(TriggerExecutor.scala:67)\n",
      "\tat org.apache.spark.sql.execution.streaming.MicroBatchExecution.runActivatedStream(MicroBatchExecution.scala:239)\n",
      "\tat org.apache.spark.sql.execution.streaming.StreamExecution.$anonfun$runStream$1(StreamExecution.scala:311)\n",
      "\tat scala.runtime.java8.JFunction0$mcV$sp.apply(JFunction0$mcV$sp.scala:18)\n",
      "\tat org.apache.spark.sql.SparkSession.withActive(SparkSession.scala:900)\n",
      "\tat org.apache.spark.sql.execution.streaming.StreamExecution.org$apache$spark$sql$execution$streaming$StreamExecution$$runStream(StreamExecution.scala:289)\n",
      "\tat org.apache.spark.sql.execution.streaming.StreamExecution$$anon$1.$anonfun$run$1(StreamExecution.scala:211)\n",
      "\tat scala.runtime.java8.JFunction0$mcV$sp.apply(JFunction0$mcV$sp.scala:18)\n",
      "\tat org.apache.spark.JobArtifactSet$.withActiveJobArtifactState(JobArtifactSet.scala:94)\n",
      "\tat org.apache.spark.sql.execution.streaming.StreamExecution$$anon$1.run(StreamExecution.scala:211)\n",
      "25/05/13 02:49:05 ERROR MicroBatchExecution: Query [id = 234ed67b-dc45-4e7a-a5c6-f13888e7b78f, runId = f6ae4825-16b0-427a-ab45-3af28ad253a5] terminated with error\n",
      "java.io.FileNotFoundException: File file:/home/jovyan/notebooks/data/user_interactions/checkpoint/offsets does not exist\n",
      "\tat org.apache.hadoop.fs.RawLocalFileSystem.deprecatedGetFileStatus(RawLocalFileSystem.java:779)\n",
      "\tat org.apache.hadoop.fs.RawLocalFileSystem.getFileLinkStatusInternal(RawLocalFileSystem.java:1100)\n",
      "\tat org.apache.hadoop.fs.RawLocalFileSystem.getFileStatus(RawLocalFileSystem.java:769)\n",
      "\tat org.apache.hadoop.fs.DelegateToFileSystem.getFileStatus(DelegateToFileSystem.java:128)\n",
      "\tat org.apache.hadoop.fs.DelegateToFileSystem.createInternal(DelegateToFileSystem.java:93)\n",
      "\tat org.apache.hadoop.fs.ChecksumFs$ChecksumFSOutputSummer.<init>(ChecksumFs.java:353)\n",
      "\tat org.apache.hadoop.fs.ChecksumFs.createInternal(ChecksumFs.java:400)\n",
      "\tat org.apache.hadoop.fs.AbstractFileSystem.create(AbstractFileSystem.java:626)\n",
      "\tat org.apache.hadoop.fs.FileContext$3.next(FileContext.java:701)\n",
      "\tat org.apache.hadoop.fs.FileContext$3.next(FileContext.java:697)\n",
      "\tat org.apache.hadoop.fs.FSLinkResolver.resolve(FSLinkResolver.java:90)\n",
      "\tat org.apache.hadoop.fs.FileContext.create(FileContext.java:703)\n",
      "\tat org.apache.spark.sql.execution.streaming.FileContextBasedCheckpointFileManager.createTempFile(CheckpointFileManager.scala:361)\n",
      "\tat org.apache.spark.sql.execution.streaming.CheckpointFileManager$RenameBasedFSDataOutputStream.<init>(CheckpointFileManager.scala:140)\n",
      "\tat org.apache.spark.sql.execution.streaming.CheckpointFileManager$RenameBasedFSDataOutputStream.<init>(CheckpointFileManager.scala:143)\n",
      "\tat org.apache.spark.sql.execution.streaming.FileContextBasedCheckpointFileManager.createAtomic(CheckpointFileManager.scala:367)\n",
      "\tat org.apache.spark.sql.execution.streaming.HDFSMetadataLog.write(HDFSMetadataLog.scala:201)\n",
      "\tat org.apache.spark.sql.execution.streaming.HDFSMetadataLog.addNewBatchByStream(HDFSMetadataLog.scala:237)\n",
      "\tat org.apache.spark.sql.execution.streaming.HDFSMetadataLog.add(HDFSMetadataLog.scala:130)\n",
      "\tat org.apache.spark.sql.execution.streaming.MicroBatchExecution.markMicroBatchStart(MicroBatchExecution.scala:764)\n",
      "\tat org.apache.spark.sql.execution.streaming.MicroBatchExecution.$anonfun$constructNextBatch$13(MicroBatchExecution.scala:536)\n",
      "\tat scala.runtime.java8.JFunction0$mcV$sp.apply(JFunction0$mcV$sp.scala:18)\n",
      "\tat org.apache.spark.sql.execution.streaming.ProgressReporter.reportTimeTaken(ProgressReporter.scala:427)\n",
      "\tat org.apache.spark.sql.execution.streaming.ProgressReporter.reportTimeTaken$(ProgressReporter.scala:425)\n",
      "\tat org.apache.spark.sql.execution.streaming.StreamExecution.reportTimeTaken(StreamExecution.scala:67)\n",
      "\tat org.apache.spark.sql.execution.streaming.MicroBatchExecution.$anonfun$constructNextBatch$1(MicroBatchExecution.scala:535)\n",
      "\tat scala.runtime.java8.JFunction0$mcZ$sp.apply(JFunction0$mcZ$sp.scala:17)\n",
      "\tat org.apache.spark.sql.execution.streaming.MicroBatchExecution.withProgressLocked(MicroBatchExecution.scala:810)\n",
      "\tat org.apache.spark.sql.execution.streaming.MicroBatchExecution.constructNextBatch(MicroBatchExecution.scala:475)\n",
      "\tat org.apache.spark.sql.execution.streaming.MicroBatchExecution.$anonfun$runActivatedStream$2(MicroBatchExecution.scala:268)\n",
      "\tat scala.runtime.java8.JFunction0$mcV$sp.apply(JFunction0$mcV$sp.scala:18)\n",
      "\tat org.apache.spark.sql.execution.streaming.ProgressReporter.reportTimeTaken(ProgressReporter.scala:427)\n",
      "\tat org.apache.spark.sql.execution.streaming.ProgressReporter.reportTimeTaken$(ProgressReporter.scala:425)\n",
      "\tat org.apache.spark.sql.execution.streaming.StreamExecution.reportTimeTaken(StreamExecution.scala:67)\n",
      "\tat org.apache.spark.sql.execution.streaming.MicroBatchExecution.$anonfun$runActivatedStream$1(MicroBatchExecution.scala:249)\n",
      "\tat org.apache.spark.sql.execution.streaming.ProcessingTimeExecutor.execute(TriggerExecutor.scala:67)\n",
      "\tat org.apache.spark.sql.execution.streaming.MicroBatchExecution.runActivatedStream(MicroBatchExecution.scala:239)\n",
      "\tat org.apache.spark.sql.execution.streaming.StreamExecution.$anonfun$runStream$1(StreamExecution.scala:311)\n",
      "\tat scala.runtime.java8.JFunction0$mcV$sp.apply(JFunction0$mcV$sp.scala:18)\n",
      "\tat org.apache.spark.sql.SparkSession.withActive(SparkSession.scala:900)\n",
      "\tat org.apache.spark.sql.execution.streaming.StreamExecution.org$apache$spark$sql$execution$streaming$StreamExecution$$runStream(StreamExecution.scala:289)\n",
      "\tat org.apache.spark.sql.execution.streaming.StreamExecution$$anon$1.$anonfun$run$1(StreamExecution.scala:211)\n",
      "\tat scala.runtime.java8.JFunction0$mcV$sp.apply(JFunction0$mcV$sp.scala:18)\n",
      "\tat org.apache.spark.JobArtifactSet$.withActiveJobArtifactState(JobArtifactSet.scala:94)\n",
      "\tat org.apache.spark.sql.execution.streaming.StreamExecution$$anon$1.run(StreamExecution.scala:211)\n",
      "25/05/13 02:49:05 ERROR MicroBatchExecution: Query [id = b12caf86-1f10-4a17-8be5-bb4b8b8ab090, runId = 1ff8380f-a563-41e3-92fd-aaa6e07e6a8b] terminated with error\n",
      "java.io.FileNotFoundException: File file:/home/jovyan/notebooks/data/page_views/checkpoint/offsets does not exist\n",
      "\tat org.apache.hadoop.fs.RawLocalFileSystem.deprecatedGetFileStatus(RawLocalFileSystem.java:779)\n",
      "\tat org.apache.hadoop.fs.RawLocalFileSystem.getFileLinkStatusInternal(RawLocalFileSystem.java:1100)\n",
      "\tat org.apache.hadoop.fs.RawLocalFileSystem.getFileStatus(RawLocalFileSystem.java:769)\n",
      "\tat org.apache.hadoop.fs.DelegateToFileSystem.getFileStatus(DelegateToFileSystem.java:128)\n",
      "\tat org.apache.hadoop.fs.DelegateToFileSystem.createInternal(DelegateToFileSystem.java:93)\n",
      "\tat org.apache.hadoop.fs.ChecksumFs$ChecksumFSOutputSummer.<init>(ChecksumFs.java:353)\n",
      "\tat org.apache.hadoop.fs.ChecksumFs.createInternal(ChecksumFs.java:400)\n",
      "\tat org.apache.hadoop.fs.AbstractFileSystem.create(AbstractFileSystem.java:626)\n",
      "\tat org.apache.hadoop.fs.FileContext$3.next(FileContext.java:701)\n",
      "\tat org.apache.hadoop.fs.FileContext$3.next(FileContext.java:697)\n",
      "\tat org.apache.hadoop.fs.FSLinkResolver.resolve(FSLinkResolver.java:90)\n",
      "\tat org.apache.hadoop.fs.FileContext.create(FileContext.java:703)\n",
      "\tat org.apache.spark.sql.execution.streaming.FileContextBasedCheckpointFileManager.createTempFile(CheckpointFileManager.scala:361)\n",
      "\tat org.apache.spark.sql.execution.streaming.CheckpointFileManager$RenameBasedFSDataOutputStream.<init>(CheckpointFileManager.scala:140)\n",
      "\tat org.apache.spark.sql.execution.streaming.CheckpointFileManager$RenameBasedFSDataOutputStream.<init>(CheckpointFileManager.scala:143)\n",
      "\tat org.apache.spark.sql.execution.streaming.FileContextBasedCheckpointFileManager.createAtomic(CheckpointFileManager.scala:367)\n",
      "\tat org.apache.spark.sql.execution.streaming.HDFSMetadataLog.write(HDFSMetadataLog.scala:201)\n",
      "\tat org.apache.spark.sql.execution.streaming.HDFSMetadataLog.addNewBatchByStream(HDFSMetadataLog.scala:237)\n",
      "\tat org.apache.spark.sql.execution.streaming.HDFSMetadataLog.add(HDFSMetadataLog.scala:130)\n",
      "\tat org.apache.spark.sql.execution.streaming.MicroBatchExecution.markMicroBatchStart(MicroBatchExecution.scala:764)\n",
      "\tat org.apache.spark.sql.execution.streaming.MicroBatchExecution.$anonfun$constructNextBatch$13(MicroBatchExecution.scala:536)\n",
      "\tat scala.runtime.java8.JFunction0$mcV$sp.apply(JFunction0$mcV$sp.scala:18)\n",
      "\tat org.apache.spark.sql.execution.streaming.ProgressReporter.reportTimeTaken(ProgressReporter.scala:427)\n",
      "\tat org.apache.spark.sql.execution.streaming.ProgressReporter.reportTimeTaken$(ProgressReporter.scala:425)\n",
      "\tat org.apache.spark.sql.execution.streaming.StreamExecution.reportTimeTaken(StreamExecution.scala:67)\n",
      "\tat org.apache.spark.sql.execution.streaming.MicroBatchExecution.$anonfun$constructNextBatch$1(MicroBatchExecution.scala:535)\n",
      "\tat scala.runtime.java8.JFunction0$mcZ$sp.apply(JFunction0$mcZ$sp.scala:17)\n",
      "\tat org.apache.spark.sql.execution.streaming.MicroBatchExecution.withProgressLocked(MicroBatchExecution.scala:810)\n",
      "\tat org.apache.spark.sql.execution.streaming.MicroBatchExecution.constructNextBatch(MicroBatchExecution.scala:475)\n",
      "\tat org.apache.spark.sql.execution.streaming.MicroBatchExecution.$anonfun$runActivatedStream$2(MicroBatchExecution.scala:268)\n",
      "\tat scala.runtime.java8.JFunction0$mcV$sp.apply(JFunction0$mcV$sp.scala:18)\n",
      "\tat org.apache.spark.sql.execution.streaming.ProgressReporter.reportTimeTaken(ProgressReporter.scala:427)\n",
      "\tat org.apache.spark.sql.execution.streaming.ProgressReporter.reportTimeTaken$(ProgressReporter.scala:425)\n",
      "\tat org.apache.spark.sql.execution.streaming.StreamExecution.reportTimeTaken(StreamExecution.scala:67)\n",
      "\tat org.apache.spark.sql.execution.streaming.MicroBatchExecution.$anonfun$runActivatedStream$1(MicroBatchExecution.scala:249)\n",
      "\tat org.apache.spark.sql.execution.streaming.ProcessingTimeExecutor.execute(TriggerExecutor.scala:67)\n",
      "\tat org.apache.spark.sql.execution.streaming.MicroBatchExecution.runActivatedStream(MicroBatchExecution.scala:239)\n",
      "\tat org.apache.spark.sql.execution.streaming.StreamExecution.$anonfun$runStream$1(StreamExecution.scala:311)\n",
      "\tat scala.runtime.java8.JFunction0$mcV$sp.apply(JFunction0$mcV$sp.scala:18)\n",
      "\tat org.apache.spark.sql.SparkSession.withActive(SparkSession.scala:900)\n",
      "\tat org.apache.spark.sql.execution.streaming.StreamExecution.org$apache$spark$sql$execution$streaming$StreamExecution$$runStream(StreamExecution.scala:289)\n",
      "\tat org.apache.spark.sql.execution.streaming.StreamExecution$$anon$1.$anonfun$run$1(StreamExecution.scala:211)\n",
      "\tat scala.runtime.java8.JFunction0$mcV$sp.apply(JFunction0$mcV$sp.scala:18)\n",
      "\tat org.apache.spark.JobArtifactSet$.withActiveJobArtifactState(JobArtifactSet.scala:94)\n",
      "\tat org.apache.spark.sql.execution.streaming.StreamExecution$$anon$1.run(StreamExecution.scala:211)\n"
     ]
    },
    {
     "name": "stdout",
     "output_type": "stream",
     "text": [
      "Query terminated: 3f9b9cf9-6378-4db4-82e0-1d93c9cf0ffa at 2025-05-13 02:49:05.256336\n",
      "Query terminated: 234ed67b-dc45-4e7a-a5c6-f13888e7b78f at 2025-05-13 02:49:05.257601\n",
      "Query terminated: b12caf86-1f10-4a17-8be5-bb4b8b8ab090 at 2025-05-13 02:49:05.259534\n"
     ]
    }
   ],
   "source": [
    "import os \n",
    "base_path = \"/home/jovyan/notebooks/data\"\n",
    "\n",
    "for topic in [\"page_views\", \"click_events\", \"user_interactions\"]:\n",
    "    os.makedirs(f\"{base_path}/{topic}/checkpoint\", exist_ok=True)\n",
    "    os.makedirs(f\"{base_path}/{topic}\", exist_ok=True)  # For the data files too"
   ]
  },
  {
   "cell_type": "code",
   "execution_count": 4,
   "id": "ef0992eb",
   "metadata": {},
   "outputs": [
    {
     "name": "stdout",
     "output_type": "stream",
     "text": [
      ":: loading settings :: url = jar:file:/opt/conda/spark-3.5.4-bin-hadoop3-scala2.13/jars/ivy-2.5.1.jar!/org/apache/ivy/core/settings/ivysettings.xml\n"
     ]
    },
    {
     "name": "stderr",
     "output_type": "stream",
     "text": [
      "Ivy Default Cache set to: /root/.ivy2/cache\n",
      "The jars for the packages stored in: /root/.ivy2/jars\n",
      "org.apache.spark#spark-sql-kafka-0-10_2.13 added as a dependency\n",
      ":: resolving dependencies :: org.apache.spark#spark-submit-parent-4fa0d0ee-0a0a-486c-b44b-deaa3e6ac339;1.0\n",
      "\tconfs: [default]\n",
      "\tfound org.apache.spark#spark-sql-kafka-0-10_2.13;3.5.4 in central\n",
      "\tfound org.apache.spark#spark-token-provider-kafka-0-10_2.13;3.5.4 in central\n",
      "\tfound org.apache.kafka#kafka-clients;3.4.1 in central\n",
      "\tfound org.lz4#lz4-java;1.8.0 in central\n",
      "\tfound org.xerial.snappy#snappy-java;1.1.10.5 in central\n",
      "\tfound org.slf4j#slf4j-api;2.0.7 in central\n",
      "\tfound org.apache.hadoop#hadoop-client-runtime;3.3.4 in central\n",
      "\tfound org.apache.hadoop#hadoop-client-api;3.3.4 in central\n",
      "\tfound commons-logging#commons-logging;1.1.3 in central\n",
      "\tfound com.google.code.findbugs#jsr305;3.0.0 in central\n",
      "\tfound org.scala-lang.modules#scala-parallel-collections_2.13;1.0.4 in central\n",
      "\tfound org.apache.commons#commons-pool2;2.11.1 in central\n",
      ":: resolution report :: resolve 412ms :: artifacts dl 21ms\n",
      "\t:: modules in use:\n",
      "\tcom.google.code.findbugs#jsr305;3.0.0 from central in [default]\n",
      "\tcommons-logging#commons-logging;1.1.3 from central in [default]\n",
      "\torg.apache.commons#commons-pool2;2.11.1 from central in [default]\n",
      "\torg.apache.hadoop#hadoop-client-api;3.3.4 from central in [default]\n",
      "\torg.apache.hadoop#hadoop-client-runtime;3.3.4 from central in [default]\n",
      "\torg.apache.kafka#kafka-clients;3.4.1 from central in [default]\n",
      "\torg.apache.spark#spark-sql-kafka-0-10_2.13;3.5.4 from central in [default]\n",
      "\torg.apache.spark#spark-token-provider-kafka-0-10_2.13;3.5.4 from central in [default]\n",
      "\torg.lz4#lz4-java;1.8.0 from central in [default]\n",
      "\torg.scala-lang.modules#scala-parallel-collections_2.13;1.0.4 from central in [default]\n",
      "\torg.slf4j#slf4j-api;2.0.7 from central in [default]\n",
      "\torg.xerial.snappy#snappy-java;1.1.10.5 from central in [default]\n",
      "\t---------------------------------------------------------------------\n",
      "\t|                  |            modules            ||   artifacts   |\n",
      "\t|       conf       | number| search|dwnlded|evicted|| number|dwnlded|\n",
      "\t---------------------------------------------------------------------\n",
      "\t|      default     |   12  |   0   |   0   |   0   ||   12  |   0   |\n",
      "\t---------------------------------------------------------------------\n",
      ":: retrieving :: org.apache.spark#spark-submit-parent-4fa0d0ee-0a0a-486c-b44b-deaa3e6ac339\n",
      "\tconfs: [default]\n",
      "\t0 artifacts copied, 12 already retrieved (0kB/8ms)\n",
      "25/05/13 02:22:54 WARN NativeCodeLoader: Unable to load native-hadoop library for your platform... using builtin-java classes where applicable\n",
      "Setting default log level to \"WARN\".\n",
      "To adjust logging level use sc.setLogLevel(newLevel). For SparkR, use setLogLevel(newLevel).\n"
     ]
    }
   ],
   "source": [
    "spark = SparkSession.builder \\\n",
    "    .appName(\"FinalProjectGatubelxs\") \\\n",
    "    .master(\"spark://b33dcc1265b4:7077\") \\\n",
    "    .config(\"spark.ui.port\",\"4040\") \\\n",
    "    .config(\"spark.jars.packages\", \"org.apache.spark:spark-sql-kafka-0-10_2.13:3.5.4\") \\\n",
    "    .getOrCreate()\n",
    "sc = spark.sparkContext"
   ]
  },
  {
   "cell_type": "code",
   "execution_count": 5,
   "id": "fe3b2a58",
   "metadata": {},
   "outputs": [],
   "source": [
    "performance_monitor = StreamingPerformanceMonitor()\n",
    "spark.streams.addListener(performance_monitor)"
   ]
  },
  {
   "cell_type": "code",
   "execution_count": 6,
   "id": "7517ab2b",
   "metadata": {},
   "outputs": [],
   "source": [
    "TOPICS = [\"page_views\", \"click_events\", \"user_interactions\"]\n",
    "KAFKA_BOOTSTRAP_SERVER = \"kafka:9093\""
   ]
  },
  {
   "cell_type": "code",
   "execution_count": 7,
   "id": "0035fc31",
   "metadata": {},
   "outputs": [],
   "source": [
    "page_views_schema = SparkUtils.generate_schema(\n",
    "    [\n",
    "\n",
    "        (\"user_id\", \"string\"),\n",
    "        (\"session_id\", \"string\"),\n",
    "        (\"page_url\", \"string\"),\n",
    "        (\"referrer_url\", \"string\"),\n",
    "        (\"category\", \"string\"),\n",
    "        (\"price\", \"float\"),\n",
    "        (\"timestamp\", \"string\")\n",
    "    ]\n",
    ")"
   ]
  },
  {
   "cell_type": "code",
   "execution_count": 8,
   "id": "a290ffb7",
   "metadata": {},
   "outputs": [],
   "source": [
    "click_events_schema = SparkUtils.generate_schema(\n",
    "    [\n",
    "        (\"user_id\", \"string\"),\n",
    "        (\"session_id\", \"string\"),\n",
    "        (\"element_id\", \"string\"),\n",
    "        (\"page_url\", \"string\"),\n",
    "        (\"category\", \"string\"),\n",
    "        (\"price\", \"float\"),\n",
    "        (\"timestamp\", \"string\"),\n",
    "        (\"x_coord\", \"float\"),\n",
    "        (\"y_coord\", \"float\"),\n",
    "    ]\n",
    ")"
   ]
  },
  {
   "cell_type": "code",
   "execution_count": 9,
   "id": "0ef9a034",
   "metadata": {},
   "outputs": [],
   "source": [
    "user_interaction_schema = SparkUtils.generate_schema(\n",
    "    [\n",
    "        (\"user_id\", \"string\"),\n",
    "        (\"session_id\", \"string\"),\n",
    "        (\"interaction_type\", \"string\"),\n",
    "        (\"page_url\", \"string\"),\n",
    "        (\"category\", \"string\"),\n",
    "        (\"price\", \"float\"),\n",
    "        (\"details\", \"string\"),\n",
    "        (\"timestamp\", \"string\")\n",
    "    ]\n",
    ")"
   ]
  },
  {
   "cell_type": "code",
   "execution_count": 10,
   "id": "c4acf77b",
   "metadata": {},
   "outputs": [],
   "source": [
    "def create_stream_query(topic, schema, output_dir):\n",
    "    kafka__stream = spark.readStream \\\n",
    "        .format(\"kafka\") \\\n",
    "        .option(\"kafka.bootstrap.servers\", KAFKA_BOOTSTRAP_SERVER) \\\n",
    "        .option(\"subscribe\", topic) \\\n",
    "        .load()\n",
    "    \n",
    "    parsed_data = kafka__stream.selectExpr(\"CAST(value as STRING) as json\") \\\n",
    "        .withColumn(\"data\", from_json(col(\"json\"), schema)) \\\n",
    "        .select(\"data.*\")\n",
    "\n",
    "    return parsed_data.writeStream \\\n",
    "        .format(\"parquet\") \\\n",
    "        .outputMode(\"append\") \\\n",
    "        .option(\"path\", f\"{base_path}/{topic}\") \\\n",
    "        .option(\"checkpointLocation\", f\"{base_path}/{topic}/checkpoint\") \\\n",
    "        .trigger(processingTime=\"5 seconds\") \\\n",
    "        .start()\n"
   ]
  },
  {
   "cell_type": "code",
   "execution_count": 13,
   "id": "60624241",
   "metadata": {},
   "outputs": [
    {
     "name": "stderr",
     "output_type": "stream",
     "text": [
      "25/05/13 02:49:06 WARN ResolveWriteToStream: spark.sql.adaptive.enabled is not supported in streaming DataFrames/Datasets and will be disabled.\n",
      "25/05/13 02:49:06 WARN AdminClientConfig: These configurations '[key.deserializer, value.deserializer, enable.auto.commit, max.poll.records, auto.offset.reset]' were supplied but are not used yet.\n",
      "25/05/13 02:49:06 WARN ResolveWriteToStream: spark.sql.adaptive.enabled is not supported in streaming DataFrames/Datasets and will be disabled.\n",
      "25/05/13 02:49:06 WARN AdminClientConfig: These configurations '[key.deserializer, value.deserializer, enable.auto.commit, max.poll.records, auto.offset.reset]' were supplied but are not used yet.\n"
     ]
    },
    {
     "name": "stdout",
     "output_type": "stream",
     "text": [
      "Query started: 6d1873b1-444e-4aed-9f88-f985e0238522 at 2025-05-13 02:49:06.526340\n",
      "Query started: 26e943bf-4ad6-455b-8e7e-9017a2def1d9 at 2025-05-13 02:49:06.613129\n"
     ]
    },
    {
     "name": "stderr",
     "output_type": "stream",
     "text": [
      "25/05/13 02:49:06 WARN ResolveWriteToStream: spark.sql.adaptive.enabled is not supported in streaming DataFrames/Datasets and will be disabled.\n",
      "25/05/13 02:49:06 WARN AdminClientConfig: These configurations '[key.deserializer, value.deserializer, enable.auto.commit, max.poll.records, auto.offset.reset]' were supplied but are not used yet.\n"
     ]
    },
    {
     "name": "stdout",
     "output_type": "stream",
     "text": [
      "Query started: 181d51de-4ee4-4850-9f0b-14b43949beab at 2025-05-13 02:49:06.763812\n"
     ]
    },
    {
     "name": "stderr",
     "output_type": "stream",
     "text": [
      "                                                                                \r"
     ]
    },
    {
     "name": "stdout",
     "output_type": "stream",
     "text": [
      "\n",
      "Performance summary for page_views]:\n",
      "Processed 7 rows at 6.78 rows/second\n",
      "Input rate: 0.00 rows/second\n",
      "Processing time: 1033ms\n",
      "\n",
      "Performance summary for click_events]:\n",
      "Processed 0 rows at 0.00 rows/second\n",
      "Input rate: 0.00 rows/second\n",
      "Processing time: 1005ms\n",
      "\n",
      "Performance summary for user_interactions]:\n",
      "Processed 0 rows at 0.00 rows/second\n",
      "Input rate: 0.00 rows/second\n",
      "Processing time: 884ms\n",
      "\n",
      "Performance summary for user_interactions]:\n",
      "Processed 7 rows at 9.92 rows/second\n",
      "Input rate: 2.16 rows/second\n",
      "Processing time: 706ms\n",
      "\n",
      "Performance summary for page_views]:\n",
      "Processed 8 rows at 6.51 rows/second\n",
      "Input rate: 2.30 rows/second\n",
      "Processing time: 1229ms\n"
     ]
    },
    {
     "name": "stderr",
     "output_type": "stream",
     "text": [
      "                                                                                \r"
     ]
    },
    {
     "name": "stdout",
     "output_type": "stream",
     "text": [
      "\n",
      "Performance summary for click_events]:\n",
      "Processed 9 rows at 4.96 rows/second\n",
      "Input rate: 2.66 rows/second\n",
      "Processing time: 1814ms\n",
      "\n",
      "Performance summary for user_interactions]:\n",
      "Processed 10 rows at 13.26 rows/second\n",
      "Input rate: 2.00 rows/second\n",
      "Processing time: 754ms\n",
      "\n",
      "Performance summary for click_events]:\n",
      "Processed 19 rows at 14.36 rows/second\n",
      "Input rate: 3.80 rows/second\n",
      "Processing time: 1323ms\n",
      "\n",
      "Performance summary for page_views]:\n",
      "Processed 17 rows at 9.92 rows/second\n",
      "Input rate: 3.40 rows/second\n",
      "Processing time: 1713ms\n",
      "\n",
      "Performance summary for click_events]:\n",
      "Processed 16 rows at 21.42 rows/second\n",
      "Input rate: 3.20 rows/second\n",
      "Processing time: 747ms\n"
     ]
    },
    {
     "name": "stderr",
     "output_type": "stream",
     "text": [
      "                                                                                \r"
     ]
    },
    {
     "name": "stdout",
     "output_type": "stream",
     "text": [
      "\n",
      "Performance summary for page_views]:\n",
      "Processed 9 rows at 6.93 rows/second\n",
      "Input rate: 1.80 rows/second\n",
      "Processing time: 1298ms\n",
      "\n",
      "Performance summary for user_interactions]:\n",
      "Processed 14 rows at 7.43 rows/second\n",
      "Input rate: 2.80 rows/second\n",
      "Processing time: 1884ms\n"
     ]
    },
    {
     "name": "stderr",
     "output_type": "stream",
     "text": [
      "                                                                                \r"
     ]
    },
    {
     "name": "stdout",
     "output_type": "stream",
     "text": [
      "\n",
      "Performance summary for click_events]:\n",
      "Processed 20 rows at 26.85 rows/second\n",
      "Input rate: 4.00 rows/second\n",
      "Processing time: 745ms\n",
      "\n",
      "Performance summary for user_interactions]:\n",
      "Processed 23 rows at 17.76 rows/second\n",
      "Input rate: 4.60 rows/second\n",
      "Processing time: 1295ms\n",
      "\n",
      "Performance summary for page_views]:\n",
      "Processed 18 rows at 10.39 rows/second\n",
      "Input rate: 3.60 rows/second\n",
      "Processing time: 1732ms\n",
      "\n",
      "Performance summary for user_interactions]:\n",
      "Processed 11 rows at 15.11 rows/second\n",
      "Input rate: 2.20 rows/second\n",
      "Processing time: 728ms\n",
      "\n",
      "Performance summary for click_events]:\n",
      "Processed 17 rows at 22.52 rows/second\n",
      "Input rate: 3.40 rows/second\n",
      "Processing time: 755ms\n",
      "\n",
      "Performance summary for page_views]:\n",
      "Processed 14 rows at 10.74 rows/second\n",
      "Input rate: 2.80 rows/second\n",
      "Processing time: 1303ms\n"
     ]
    },
    {
     "name": "stderr",
     "output_type": "stream",
     "text": [
      "                                                                                \r"
     ]
    },
    {
     "name": "stdout",
     "output_type": "stream",
     "text": [
      "\n",
      "Performance summary for click_events]:\n",
      "Processed 12 rows at 16.74 rows/second\n",
      "Input rate: 2.40 rows/second\n",
      "Processing time: 717ms\n"
     ]
    },
    {
     "name": "stderr",
     "output_type": "stream",
     "text": [
      "                                                                                \r"
     ]
    },
    {
     "name": "stdout",
     "output_type": "stream",
     "text": [
      "\n",
      "Performance summary for page_views]:\n",
      "Processed 26 rows at 20.38 rows/second\n",
      "Input rate: 5.20 rows/second\n",
      "Processing time: 1276ms\n",
      "\n",
      "Performance summary for user_interactions]:\n",
      "Processed 16 rows at 8.92 rows/second\n",
      "Input rate: 3.20 rows/second\n",
      "Processing time: 1793ms\n",
      "\n",
      "Performance summary for click_events]:\n",
      "Processed 13 rows at 15.55 rows/second\n",
      "Input rate: 2.60 rows/second\n",
      "Processing time: 836ms\n",
      "\n",
      "Performance summary for user_interactions]:\n",
      "Processed 12 rows at 8.77 rows/second\n",
      "Input rate: 2.40 rows/second\n",
      "Processing time: 1369ms\n"
     ]
    },
    {
     "name": "stderr",
     "output_type": "stream",
     "text": [
      "                                                                                \r"
     ]
    },
    {
     "name": "stdout",
     "output_type": "stream",
     "text": [
      "\n",
      "Performance summary for page_views]:\n",
      "Processed 14 rows at 7.43 rows/second\n",
      "Input rate: 2.80 rows/second\n",
      "Processing time: 1884ms\n",
      "\n",
      "Performance summary for user_interactions]:\n",
      "Processed 22 rows at 30.64 rows/second\n",
      "Input rate: 4.40 rows/second\n",
      "Processing time: 718ms\n",
      "\n",
      "Performance summary for page_views]:\n",
      "Processed 12 rows at 9.57 rows/second\n",
      "Input rate: 2.40 rows/second\n",
      "Processing time: 1254ms\n",
      "\n",
      "Performance summary for click_events]:\n",
      "Processed 20 rows at 11.00 rows/second\n",
      "Input rate: 4.00 rows/second\n",
      "Processing time: 1819ms\n",
      "\n",
      "Performance summary for user_interactions]:\n",
      "Processed 18 rows at 23.87 rows/second\n",
      "Input rate: 3.60 rows/second\n",
      "Processing time: 753ms\n",
      "\n",
      "Performance summary for page_views]:\n",
      "Processed 6 rows at 7.09 rows/second\n",
      "Input rate: 1.20 rows/second\n",
      "Processing time: 846ms\n"
     ]
    },
    {
     "name": "stderr",
     "output_type": "stream",
     "text": [
      "                                                                                \r"
     ]
    },
    {
     "name": "stdout",
     "output_type": "stream",
     "text": [
      "\n",
      "Performance summary for click_events]:\n",
      "Processed 16 rows at 11.65 rows/second\n",
      "Input rate: 3.20 rows/second\n",
      "Processing time: 1373ms\n",
      "\n",
      "Performance summary for user_interactions]:\n",
      "Processed 12 rows at 14.96 rows/second\n",
      "Input rate: 2.40 rows/second\n",
      "Processing time: 802ms\n",
      "\n",
      "Performance summary for page_views]:\n",
      "Processed 19 rows at 13.71 rows/second\n",
      "Input rate: 3.80 rows/second\n",
      "Processing time: 1386ms\n",
      "\n",
      "Performance summary for click_events]:\n",
      "Processed 19 rows at 9.96 rows/second\n",
      "Input rate: 3.80 rows/second\n",
      "Processing time: 1908ms\n"
     ]
    },
    {
     "name": "stderr",
     "output_type": "stream",
     "text": [
      "                                                                                \r"
     ]
    },
    {
     "name": "stdout",
     "output_type": "stream",
     "text": [
      "\n",
      "Performance summary for user_interactions]:\n",
      "Processed 6 rows at 8.15 rows/second\n",
      "Input rate: 1.20 rows/second\n",
      "Processing time: 736ms\n",
      "\n",
      "Performance summary for page_views]:\n",
      "Processed 10 rows at 11.10 rows/second\n",
      "Input rate: 2.00 rows/second\n",
      "Processing time: 901ms\n",
      "\n",
      "Performance summary for click_events]:\n",
      "Processed 13 rows at 9.00 rows/second\n",
      "Input rate: 2.60 rows/second\n",
      "Processing time: 1445ms\n"
     ]
    },
    {
     "name": "stderr",
     "output_type": "stream",
     "text": [
      "                                                                                \r"
     ]
    },
    {
     "name": "stdout",
     "output_type": "stream",
     "text": [
      "\n",
      "Performance summary for page_views]:\n",
      "Processed 15 rows at 18.61 rows/second\n",
      "Input rate: 3.00 rows/second\n",
      "Processing time: 806ms\n",
      "\n",
      "Performance summary for click_events]:\n",
      "Processed 13 rows at 9.61 rows/second\n",
      "Input rate: 2.60 rows/second\n",
      "Processing time: 1353ms\n",
      "\n",
      "Performance summary for user_interactions]:\n",
      "Processed 16 rows at 8.14 rows/second\n",
      "Input rate: 3.20 rows/second\n",
      "Processing time: 1965ms\n"
     ]
    },
    {
     "name": "stderr",
     "output_type": "stream",
     "text": [
      "                                                                                \r"
     ]
    },
    {
     "name": "stdout",
     "output_type": "stream",
     "text": [
      "\n",
      "Performance summary for click_events]:\n",
      "Processed 9 rows at 9.23 rows/second\n",
      "Input rate: 1.80 rows/second\n",
      "Processing time: 975ms\n",
      "\n",
      "Performance summary for user_interactions]:\n",
      "Processed 6 rows at 3.59 rows/second\n",
      "Input rate: 1.20 rows/second\n",
      "Processing time: 1670ms\n"
     ]
    },
    {
     "name": "stderr",
     "output_type": "stream",
     "text": [
      "                                                                                \r"
     ]
    },
    {
     "name": "stdout",
     "output_type": "stream",
     "text": [
      "\n",
      "Performance summary for page_views]:\n",
      "Processed 7 rows at 3.23 rows/second\n",
      "Input rate: 1.40 rows/second\n",
      "Processing time: 2164ms\n"
     ]
    },
    {
     "name": "stderr",
     "output_type": "stream",
     "text": [
      "                                                                                \r"
     ]
    },
    {
     "name": "stdout",
     "output_type": "stream",
     "text": [
      "\n",
      "Performance summary for click_events]:\n",
      "Processed 24 rows at 26.20 rows/second\n",
      "Input rate: 4.78 rows/second\n",
      "Processing time: 916ms\n",
      "\n",
      "Performance summary for user_interactions]:\n",
      "Processed 7 rows at 4.68 rows/second\n",
      "Input rate: 1.39 rows/second\n",
      "Processing time: 1495ms\n",
      "\n",
      "Performance summary for page_views]:\n",
      "Processed 9 rows at 4.55 rows/second\n",
      "Input rate: 1.79 rows/second\n",
      "Processing time: 1979ms\n",
      "\n",
      "Performance summary for user_interactions]:\n",
      "Processed 9 rows at 13.24 rows/second\n",
      "Input rate: 1.81 rows/second\n",
      "Processing time: 680ms\n",
      "\n",
      "Performance summary for click_events]:\n",
      "Processed 13 rows at 12.91 rows/second\n",
      "Input rate: 2.61 rows/second\n",
      "Processing time: 1007ms\n",
      "\n",
      "Performance summary for page_views]:\n",
      "Processed 9 rows at 5.76 rows/second\n",
      "Input rate: 1.81 rows/second\n",
      "Processing time: 1563ms\n",
      "\n",
      "Performance summary for page_views]:\n",
      "Processed 25 rows at 30.86 rows/second\n",
      "Input rate: 5.00 rows/second\n",
      "Processing time: 810ms\n",
      "\n",
      "Performance summary for click_events]:\n",
      "Processed 11 rows at 7.98 rows/second\n",
      "Input rate: 2.20 rows/second\n",
      "Processing time: 1379ms\n"
     ]
    },
    {
     "name": "stderr",
     "output_type": "stream",
     "text": [
      "                                                                                \r"
     ]
    },
    {
     "name": "stdout",
     "output_type": "stream",
     "text": [
      "\n",
      "Performance summary for user_interactions]:\n",
      "Processed 18 rows at 8.60 rows/second\n",
      "Input rate: 3.60 rows/second\n",
      "Processing time: 2094ms\n"
     ]
    },
    {
     "name": "stderr",
     "output_type": "stream",
     "text": [
      "                                                                                \r"
     ]
    },
    {
     "name": "stdout",
     "output_type": "stream",
     "text": [
      "\n",
      "Performance summary for page_views]:\n",
      "Processed 12 rows at 12.55 rows/second\n",
      "Input rate: 2.40 rows/second\n",
      "Processing time: 956ms\n",
      "\n",
      "Performance summary for click_events]:\n",
      "Processed 18 rows at 15.76 rows/second\n",
      "Input rate: 3.60 rows/second\n",
      "Processing time: 1142ms\n",
      "\n",
      "Performance summary for user_interactions]:\n",
      "Processed 9 rows at 5.33 rows/second\n",
      "Input rate: 1.80 rows/second\n",
      "Processing time: 1688ms\n",
      "\n",
      "Performance summary for user_interactions]:\n",
      "Processed 6 rows at 7.02 rows/second\n",
      "Input rate: 1.20 rows/second\n",
      "Processing time: 855ms\n",
      "\n",
      "Performance summary for page_views]:\n",
      "Processed 5 rows at 3.60 rows/second\n",
      "Input rate: 1.00 rows/second\n",
      "Processing time: 1388ms\n"
     ]
    },
    {
     "name": "stderr",
     "output_type": "stream",
     "text": [
      "                                                                                \r"
     ]
    },
    {
     "name": "stdout",
     "output_type": "stream",
     "text": [
      "\n",
      "Performance summary for click_events]:\n",
      "Processed 8 rows at 3.88 rows/second\n",
      "Input rate: 1.60 rows/second\n",
      "Processing time: 2061ms\n"
     ]
    },
    {
     "name": "stderr",
     "output_type": "stream",
     "text": [
      "                                                                                \r"
     ]
    },
    {
     "name": "stdout",
     "output_type": "stream",
     "text": [
      "\n",
      "Performance summary for click_events]:\n",
      "Processed 15 rows at 14.66 rows/second\n",
      "Input rate: 3.00 rows/second\n",
      "Processing time: 1023ms\n",
      "\n",
      "Performance summary for page_views]:\n",
      "Processed 8 rows at 6.21 rows/second\n",
      "Input rate: 1.60 rows/second\n",
      "Processing time: 1288ms\n"
     ]
    },
    {
     "name": "stderr",
     "output_type": "stream",
     "text": [
      "                                                                                \r"
     ]
    },
    {
     "name": "stdout",
     "output_type": "stream",
     "text": [
      "\n",
      "Performance summary for user_interactions]:\n",
      "Processed 17 rows at 9.32 rows/second\n",
      "Input rate: 3.40 rows/second\n",
      "Processing time: 1825ms\n"
     ]
    },
    {
     "name": "stderr",
     "output_type": "stream",
     "text": [
      "                                                                                \r"
     ]
    },
    {
     "name": "stdout",
     "output_type": "stream",
     "text": [
      "\n",
      "Performance summary for page_views]:\n",
      "Processed 11 rows at 12.97 rows/second\n",
      "Input rate: 2.20 rows/second\n",
      "Processing time: 848ms\n",
      "\n",
      "Performance summary for user_interactions]:\n",
      "Processed 14 rows at 10.04 rows/second\n",
      "Input rate: 2.80 rows/second\n",
      "Processing time: 1395ms\n",
      "\n",
      "Performance summary for click_events]:\n",
      "Processed 13 rows at 6.57 rows/second\n",
      "Input rate: 2.60 rows/second\n",
      "Processing time: 1980ms\n"
     ]
    },
    {
     "name": "stderr",
     "output_type": "stream",
     "text": [
      "                                                                                \r"
     ]
    },
    {
     "name": "stdout",
     "output_type": "stream",
     "text": [
      "\n",
      "Performance summary for page_views]:\n",
      "Processed 13 rows at 13.57 rows/second\n",
      "Input rate: 2.60 rows/second\n",
      "Processing time: 958ms\n",
      "\n",
      "Performance summary for user_interactions]:\n",
      "Processed 13 rows at 9.78 rows/second\n",
      "Input rate: 2.60 rows/second\n",
      "Processing time: 1329ms\n"
     ]
    },
    {
     "name": "stderr",
     "output_type": "stream",
     "text": [
      "                                                                                \r"
     ]
    },
    {
     "name": "stdout",
     "output_type": "stream",
     "text": [
      "\n",
      "Performance summary for click_events]:\n",
      "Processed 20 rows at 10.45 rows/second\n",
      "Input rate: 4.00 rows/second\n",
      "Processing time: 1913ms\n"
     ]
    },
    {
     "name": "stderr",
     "output_type": "stream",
     "text": [
      "                                                                                \r"
     ]
    },
    {
     "name": "stdout",
     "output_type": "stream",
     "text": [
      "\n",
      "Performance summary for user_interactions]:\n",
      "Processed 11 rows at 12.54 rows/second\n",
      "Input rate: 2.20 rows/second\n",
      "Processing time: 876ms\n",
      "\n",
      "Performance summary for click_events]:\n",
      "Processed 10 rows at 6.96 rows/second\n",
      "Input rate: 2.00 rows/second\n",
      "Processing time: 1436ms\n"
     ]
    },
    {
     "name": "stderr",
     "output_type": "stream",
     "text": [
      "                                                                                \r"
     ]
    },
    {
     "name": "stdout",
     "output_type": "stream",
     "text": [
      "\n",
      "Performance summary for page_views]:\n",
      "Processed 17 rows at 8.59 rows/second\n",
      "Input rate: 3.40 rows/second\n",
      "Processing time: 1979ms\n",
      "\n",
      "Performance summary for click_events]:\n",
      "Processed 14 rows at 15.38 rows/second\n",
      "Input rate: 2.79 rows/second\n",
      "Processing time: 910ms\n",
      "\n",
      "Performance summary for page_views]:\n",
      "Processed 11 rows at 8.05 rows/second\n",
      "Input rate: 2.20 rows/second\n",
      "Processing time: 1367ms\n"
     ]
    },
    {
     "name": "stderr",
     "output_type": "stream",
     "text": [
      "                                                                                \r"
     ]
    },
    {
     "name": "stdout",
     "output_type": "stream",
     "text": [
      "\n",
      "Performance summary for user_interactions]:\n",
      "Processed 8 rows at 4.10 rows/second\n",
      "Input rate: 1.59 rows/second\n",
      "Processing time: 1953ms\n"
     ]
    },
    {
     "name": "stderr",
     "output_type": "stream",
     "text": [
      "                                                                                \r"
     ]
    },
    {
     "name": "stdout",
     "output_type": "stream",
     "text": [
      "\n",
      "Performance summary for user_interactions]:\n",
      "Processed 13 rows at 12.91 rows/second\n",
      "Input rate: 2.61 rows/second\n",
      "Processing time: 1006ms\n",
      "\n",
      "Performance summary for page_views]:\n",
      "Processed 10 rows at 6.23 rows/second\n",
      "Input rate: 2.00 rows/second\n",
      "Processing time: 1605ms\n",
      "\n",
      "Performance summary for click_events]:\n",
      "Processed 18 rows at 7.84 rows/second\n",
      "Input rate: 3.61 rows/second\n",
      "Processing time: 2295ms\n"
     ]
    },
    {
     "name": "stderr",
     "output_type": "stream",
     "text": [
      "                                                                                \r"
     ]
    },
    {
     "name": "stdout",
     "output_type": "stream",
     "text": [
      "\n",
      "Performance summary for user_interactions]:\n",
      "Processed 9 rows at 9.53 rows/second\n",
      "Input rate: 1.80 rows/second\n",
      "Processing time: 944ms\n",
      "\n",
      "Performance summary for page_views]:\n",
      "Processed 13 rows at 8.79 rows/second\n",
      "Input rate: 2.60 rows/second\n",
      "Processing time: 1479ms\n",
      "\n",
      "Performance summary for click_events]:\n",
      "Processed 12 rows at 5.98 rows/second\n",
      "Input rate: 2.40 rows/second\n",
      "Processing time: 2007ms\n",
      "\n",
      "Performance summary for click_events]:\n",
      "Processed 5 rows at 17.54 rows/second\n",
      "Input rate: 1.00 rows/second\n",
      "Processing time: 285ms\n",
      "\n",
      "Performance summary for user_interactions]:\n",
      "Processed 11 rows at 25.70 rows/second\n",
      "Input rate: 2.20 rows/second\n",
      "Processing time: 428ms\n"
     ]
    },
    {
     "name": "stderr",
     "output_type": "stream",
     "text": [
      "                                                                                \r"
     ]
    },
    {
     "name": "stdout",
     "output_type": "stream",
     "text": [
      "\n",
      "Performance summary for page_views]:\n",
      "Processed 15 rows at 14.56 rows/second\n",
      "Input rate: 3.00 rows/second\n",
      "Processing time: 1030ms\n",
      "\n",
      "Performance summary for click_events]:\n",
      "Processed 15 rows at 20.41 rows/second\n",
      "Input rate: 3.00 rows/second\n",
      "Processing time: 735ms\n",
      "\n",
      "Performance summary for user_interactions]:\n",
      "Processed 13 rows at 9.99 rows/second\n",
      "Input rate: 2.60 rows/second\n",
      "Processing time: 1301ms\n",
      "\n",
      "Performance summary for page_views]:\n",
      "Processed 10 rows at 6.81 rows/second\n",
      "Input rate: 2.00 rows/second\n",
      "Processing time: 1469ms\n",
      "\n",
      "Performance summary for click_events]:\n",
      "Processed 7 rows at 12.84 rows/second\n",
      "Input rate: 1.40 rows/second\n",
      "Processing time: 545ms\n"
     ]
    },
    {
     "name": "stderr",
     "output_type": "stream",
     "text": [
      "                                                                                \r"
     ]
    },
    {
     "name": "stdout",
     "output_type": "stream",
     "text": [
      "\n",
      "Performance summary for page_views]:\n",
      "Processed 9 rows at 8.12 rows/second\n",
      "Input rate: 1.80 rows/second\n",
      "Processing time: 1108ms\n",
      "\n",
      "Performance summary for user_interactions]:\n",
      "Processed 19 rows at 11.57 rows/second\n",
      "Input rate: 3.80 rows/second\n",
      "Processing time: 1642ms\n"
     ]
    },
    {
     "name": "stderr",
     "output_type": "stream",
     "text": [
      "                                                                                \r"
     ]
    },
    {
     "name": "stdout",
     "output_type": "stream",
     "text": [
      "\n",
      "Performance summary for user_interactions]:\n",
      "Processed 17 rows at 17.35 rows/second\n",
      "Input rate: 3.40 rows/second\n",
      "Processing time: 980ms\n"
     ]
    },
    {
     "name": "stderr",
     "output_type": "stream",
     "text": [
      "                                                                                \r"
     ]
    },
    {
     "name": "stdout",
     "output_type": "stream",
     "text": [
      "\n",
      "Performance summary for click_events]:\n",
      "Processed 27 rows at 16.97 rows/second\n",
      "Input rate: 5.40 rows/second\n",
      "Processing time: 1591ms\n",
      "\n",
      "Performance summary for page_views]:\n",
      "Processed 14 rows at 6.73 rows/second\n",
      "Input rate: 2.80 rows/second\n",
      "Processing time: 2080ms\n",
      "\n",
      "Performance summary for click_events]:\n",
      "Processed 9 rows at 15.87 rows/second\n",
      "Input rate: 1.80 rows/second\n",
      "Processing time: 567ms\n",
      "\n",
      "Performance summary for page_views]:\n",
      "Processed 14 rows at 12.58 rows/second\n",
      "Input rate: 2.80 rows/second\n",
      "Processing time: 1113ms\n",
      "\n",
      "Performance summary for user_interactions]:\n",
      "Processed 6 rows at 3.57 rows/second\n",
      "Input rate: 1.20 rows/second\n",
      "Processing time: 1683ms\n",
      "\n",
      "Performance summary for click_events]:\n",
      "Processed 14 rows at 17.28 rows/second\n",
      "Input rate: 2.80 rows/second\n",
      "Processing time: 810ms\n",
      "\n",
      "Performance summary for page_views]:\n",
      "Processed 17 rows at 12.43 rows/second\n",
      "Input rate: 3.40 rows/second\n",
      "Processing time: 1368ms\n",
      "\n",
      "Performance summary for user_interactions]:\n",
      "Processed 24 rows at 15.32 rows/second\n",
      "Input rate: 4.80 rows/second\n",
      "Processing time: 1567ms\n",
      "\n",
      "Performance summary for page_views]:\n",
      "Processed 9 rows at 14.35 rows/second\n",
      "Input rate: 1.80 rows/second\n",
      "Processing time: 627ms\n",
      "\n",
      "Performance summary for click_events]:\n",
      "Processed 18 rows at 15.14 rows/second\n",
      "Input rate: 3.60 rows/second\n",
      "Processing time: 1189ms\n",
      "\n",
      "Performance summary for user_interactions]:\n",
      "Processed 9 rows at 5.22 rows/second\n",
      "Input rate: 1.80 rows/second\n",
      "Processing time: 1723ms\n"
     ]
    },
    {
     "name": "stderr",
     "output_type": "stream",
     "text": [
      "                                                                                \r"
     ]
    },
    {
     "name": "stdout",
     "output_type": "stream",
     "text": [
      "\n",
      "Performance summary for page_views]:\n",
      "Processed 17 rows at 23.91 rows/second\n",
      "Input rate: 3.40 rows/second\n",
      "Processing time: 711ms\n",
      "\n",
      "Performance summary for click_events]:\n",
      "Processed 27 rows at 21.57 rows/second\n",
      "Input rate: 5.40 rows/second\n",
      "Processing time: 1252ms\n",
      "\n",
      "Performance summary for user_interactions]:\n",
      "Processed 19 rows at 10.56 rows/second\n",
      "Input rate: 3.80 rows/second\n",
      "Processing time: 1799ms\n",
      "\n",
      "Performance summary for click_events]:\n",
      "Processed 11 rows at 16.42 rows/second\n",
      "Input rate: 2.20 rows/second\n",
      "Processing time: 670ms\n",
      "\n",
      "Performance summary for page_views]:\n",
      "Processed 6 rows at 4.94 rows/second\n",
      "Input rate: 1.20 rows/second\n",
      "Processing time: 1215ms\n"
     ]
    },
    {
     "name": "stderr",
     "output_type": "stream",
     "text": [
      "                                                                                \r"
     ]
    },
    {
     "name": "stdout",
     "output_type": "stream",
     "text": [
      "\n",
      "Performance summary for user_interactions]:\n",
      "Processed 7 rows at 3.98 rows/second\n",
      "Input rate: 1.40 rows/second\n",
      "Processing time: 1758ms\n"
     ]
    },
    {
     "name": "stderr",
     "output_type": "stream",
     "text": [
      "                                                                                \r"
     ]
    },
    {
     "name": "stdout",
     "output_type": "stream",
     "text": [
      "\n",
      "Performance summary for page_views]:\n",
      "Processed 7 rows at 10.37 rows/second\n",
      "Input rate: 1.40 rows/second\n",
      "Processing time: 675ms\n",
      "\n",
      "Performance summary for click_events]:\n",
      "Processed 26 rows at 21.33 rows/second\n",
      "Input rate: 5.20 rows/second\n",
      "Processing time: 1219ms\n",
      "\n",
      "Performance summary for user_interactions]:\n",
      "Processed 7 rows at 4.19 rows/second\n",
      "Input rate: 1.40 rows/second\n",
      "Processing time: 1669ms\n",
      "\n",
      "Performance summary for page_views]:\n",
      "Processed 11 rows at 16.25 rows/second\n",
      "Input rate: 2.20 rows/second\n",
      "Processing time: 677ms\n",
      "\n",
      "Performance summary for user_interactions]:\n",
      "Processed 5 rows at 4.11 rows/second\n",
      "Input rate: 1.00 rows/second\n",
      "Processing time: 1217ms\n",
      "\n",
      "Performance Analysis fro unknown:\n",
      "Average processing rate: 12.37 rows/second\n",
      "Peak processing rate: 64.39 rows/second\n",
      "Average processing time: 1209.55ms\n",
      "Peak processing time: 4386ms\n"
     ]
    },
    {
     "name": "stdout",
     "output_type": "stream",
     "text": [
      "\n",
      "Performance summary for click_events]:\n",
      "Processed 14 rows at 8.02 rows/second\n",
      "Input rate: 2.80 rows/second\n",
      "Processing time: 1745ms\n",
      "Query terminated: 6d1873b1-444e-4aed-9f88-f985e0238522 at 2025-05-13 02:52:06.811165\n",
      "Query terminated: 26e943bf-4ad6-455b-8e7e-9017a2def1d9 at 2025-05-13 02:52:06.811754\n",
      "Query terminated: 181d51de-4ee4-4850-9f0b-14b43949beab at 2025-05-13 02:52:06.812366\n"
     ]
    }
   ],
   "source": [
    "queries = [\n",
    "    create_stream_query(\"page_views\", page_views_schema, \"./datalake/page_views\"),\n",
    "    create_stream_query(\"click_events\", click_events_schema, \"./datalake/click_events\"),\n",
    "    create_stream_query(\"user_interactions\", user_interaction_schema, \"./datalake/user_interactions\"),\n",
    "]\n",
    "\n",
    "for q in queries:\n",
    "    q.awaitTermination(timeout=60)\n",
    "\n",
    "for q in queries:\n",
    "    q.stop()\n",
    "\n",
    "analyze_performance_data(performance_monitor.metrics_history)"
   ]
  },
  {
   "cell_type": "code",
   "execution_count": null,
   "id": "701f295c",
   "metadata": {},
   "outputs": [],
   "source": [
    "sc.stop()"
   ]
  }
 ],
 "metadata": {
  "kernelspec": {
   "display_name": "Python 3 (ipykernel)",
   "language": "python",
   "name": "python3"
  },
  "language_info": {
   "codemirror_mode": {
    "name": "ipython",
    "version": 3
   },
   "file_extension": ".py",
   "mimetype": "text/x-python",
   "name": "python",
   "nbconvert_exporter": "python",
   "pygments_lexer": "ipython3",
   "version": "3.11.6"
  }
 },
 "nbformat": 4,
 "nbformat_minor": 5
}
