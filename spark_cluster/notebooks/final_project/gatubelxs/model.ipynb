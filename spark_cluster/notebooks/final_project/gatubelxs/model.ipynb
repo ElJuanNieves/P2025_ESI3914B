{
 "cells": [
  {
   "cell_type": "code",
   "execution_count": 97,
   "id": "eb3c3182",
   "metadata": {},
   "outputs": [],
   "source": [
    "import findspark\n",
    "findspark.init()"
   ]
  },
  {
   "cell_type": "code",
   "execution_count": 98,
   "id": "abc82f35",
   "metadata": {},
   "outputs": [],
   "source": [
    "from pyspark.sql import SparkSession\n",
    "\n",
    "spark = SparkSession.builder \\\n",
    "    .appName(\"SparkSQLStructuredStreaming-Files\") \\\n",
    "    .master(\"spark://be6296989c4d:7077\") \\\n",
    "    .config(\"spark.ui.port\",\"4040\") \\\n",
    "    .getOrCreate()\n",
    "sc = spark.sparkContext"
   ]
  },
  {
   "cell_type": "code",
   "execution_count": 99,
   "id": "484e2bcd",
   "metadata": {},
   "outputs": [
    {
     "name": "stderr",
     "output_type": "stream",
     "text": [
      "[Stage 1:>                                                          (0 + 1) / 1]\r"
     ]
    },
    {
     "name": "stdout",
     "output_type": "stream",
     "text": [
      "+------------------------------------+------------------------------------+-------------+--------------------------+-----------+------+--------------------------+\n",
      "|user_id                             |session_id                          |page_url     |referrer_url              |category   |price |timestamp                 |\n",
      "+------------------------------------+------------------------------------+-------------+--------------------------+-----------+------+--------------------------+\n",
      "|152afdbb-c405-486b-82eb-b8e98368c092|7eae79db-60f0-4f8c-b35a-6959180a1c40|/product/1088|tags/tag                  |apparel    |24.93 |2025-05-11T03:29:05.170238|\n",
      "|152afdbb-c405-486b-82eb-b8e98368c092|7eae79db-60f0-4f8c-b35a-6959180a1c40|/product/1024|tag/search                |electronics|13.86 |2025-05-11T03:29:05.171131|\n",
      "|152afdbb-c405-486b-82eb-b8e98368c092|7eae79db-60f0-4f8c-b35a-6959180a1c40|/product/1008|categories/categories/tags|books      |274.06|2025-05-11T03:29:05.172619|\n",
      "|152afdbb-c405-486b-82eb-b8e98368c092|7eae79db-60f0-4f8c-b35a-6959180a1c40|/product/1184|search/blog               |books      |295.32|2025-05-11T03:29:05.173090|\n",
      "+------------------------------------+------------------------------------+-------------+--------------------------+-----------+------+--------------------------+\n",
      "only showing top 4 rows\n",
      "\n"
     ]
    },
    {
     "name": "stderr",
     "output_type": "stream",
     "text": [
      "                                                                                \r"
     ]
    }
   ],
   "source": [
    "page_df = spark \\\n",
    "            .read \\\n",
    "            .parquet(\"/home/jovyan/notebooks/data/page_views/\")\n",
    "\n",
    "page_df.show(4, False)"
   ]
  },
  {
   "cell_type": "code",
   "execution_count": 100,
   "id": "3e183ae5",
   "metadata": {},
   "outputs": [
    {
     "name": "stdout",
     "output_type": "stream",
     "text": [
      "+------------------------------------+------------------------------------+------------+-------------+--------+------+--------------------------+-------+-------+\n",
      "|user_id                             |session_id                          |element_id  |page_url     |category|price |timestamp                 |x_coord|y_coord|\n",
      "+------------------------------------+------------------------------------+------------+-------------+--------+------+--------------------------+-------+-------+\n",
      "|152afdbb-c405-486b-82eb-b8e98368c092|7eae79db-60f0-4f8c-b35a-6959180a1c40|link_product|/product/1064|apparel |321.51|2025-05-11T03:29:05.173186|1622.14|1032.42|\n",
      "|152afdbb-c405-486b-82eb-b8e98368c092|7eae79db-60f0-4f8c-b35a-6959180a1c40|btn_checkout|/product/1085|toys    |101.15|2025-05-11T03:29:05.173280|375.61 |836.97 |\n",
      "|152afdbb-c405-486b-82eb-b8e98368c092|7eae79db-60f0-4f8c-b35a-6959180a1c40|btn_checkout|/product/1150|home    |172.41|2025-05-11T03:29:05.173392|1636.84|20.09  |\n",
      "|e849242b-d028-4c09-9fd1-f598ae17cf88|22a2cd9d-a181-4f3e-9a7a-85d5f6fa77f4|btn_checkout|/product/1015|home    |50.95 |2025-05-11T03:29:07.174779|1028.04|675.53 |\n",
      "+------------------------------------+------------------------------------+------------+-------------+--------+------+--------------------------+-------+-------+\n",
      "only showing top 4 rows\n",
      "\n"
     ]
    }
   ],
   "source": [
    "click_df = spark \\\n",
    "            .read \\\n",
    "            .parquet(\"/home/jovyan/notebooks/data/click_events/\")\n",
    "\n",
    "click_df.show(4, False)"
   ]
  },
  {
   "cell_type": "code",
   "execution_count": 101,
   "id": "87aa1833",
   "metadata": {},
   "outputs": [
    {
     "name": "stdout",
     "output_type": "stream",
     "text": [
      "+------------------------------------+------------------------------------+----------------+-------------+-----------+------+------------------------+--------------------------+\n",
      "|user_id                             |session_id                          |interaction_type|page_url     |category   |price |details                 |timestamp                 |\n",
      "+------------------------------------+------------------------------------+----------------+-------------+-----------+------+------------------------+--------------------------+\n",
      "|152afdbb-c405-486b-82eb-b8e98368c092|7eae79db-60f0-4f8c-b35a-6959180a1c40|copy_text       |/product/1192|toys       |352.92|{\"length\":98}           |2025-05-11T03:29:05.173472|\n",
      "|e849242b-d028-4c09-9fd1-f598ae17cf88|22a2cd9d-a181-4f3e-9a7a-85d5f6fa77f4|copy_text       |/product/1010|electronics|32.21 |{\"length\":99}           |2025-05-11T03:29:07.175655|\n",
      "|e849242b-d028-4c09-9fd1-f598ae17cf88|22a2cd9d-a181-4f3e-9a7a-85d5f6fa77f4|scroll          |/product/1169|apparel    |351.47|{\"scroll_depth\":98}     |2025-05-11T03:29:07.175764|\n",
      "|b7627413-5723-4a79-b998-3c5c7781ad8d|440091c0-1dee-4e9e-927b-1e1f9efbab9e|form_submit     |/product/1037|apparel    |448.38|{\"form_id\":\"signup_for\"}|2025-05-11T03:29:09.178845|\n",
      "+------------------------------------+------------------------------------+----------------+-------------+-----------+------+------------------------+--------------------------+\n",
      "only showing top 4 rows\n",
      "\n"
     ]
    }
   ],
   "source": [
    "interact_df = spark \\\n",
    "            .read \\\n",
    "            .parquet(\"/home/jovyan/notebooks/data/user_interactions/\")\n",
    "\n",
    "interact_df.show(4, False)"
   ]
  },
  {
   "cell_type": "code",
   "execution_count": 102,
   "id": "2bfff25c",
   "metadata": {},
   "outputs": [
    {
     "name": "stderr",
     "output_type": "stream",
     "text": [
      "                                                                                \r"
     ]
    },
    {
     "name": "stdout",
     "output_type": "stream",
     "text": [
      "+--------------------+-----------------+------------+-----------+----------+---------------+------------------+------------------+------------------+----------------+------------------+-------------------+------------+-------+\n",
      "|          session_id|form_submit_count|scroll_count|hover_count|zoom_count|copy_text_count|    zoom_level_avg|  scroll_depth_avg|   copy_length_avg|nav_login_clicks|add_to_cart_clicks|link_product_clicks|btn_checkout|btn_buy|\n",
      "+--------------------+-----------------+------------+-----------+----------+---------------+------------------+------------------+------------------+----------------+------------------+-------------------+------------+-------+\n",
      "|5aaacaec-66c2-411...|                0|          27|          0|         0|              0|               0.0|              95.0|               0.0|               9|                 0|                  0|           1|      1|\n",
      "|53cae47d-1a88-45a...|              160|           0|        240|        80|              0|20.833333333333332|               0.0|               0.0|             180|                 0|                 60|           1|      1|\n",
      "|93f89041-37b8-494...|               30|          10|         20|        20|             10|              25.0| 7.777777777777778| 9.333333333333334|              90|                 0|                  0|           0|      0|\n",
      "|037c58a9-100b-461...|               80|          40|          0|         0|              0|               0.0|              13.0|               0.0|              12|                36|                 12|           1|      1|\n",
      "|2cd2cd34-354f-4f3...|                0|           0|          0|         5|              0|             125.0|               0.0|               0.0|               0|                 0|                  0|           0|      0|\n",
      "|ec79654d-f5c1-446...|               20|           0|         10|        10|             10|              20.0|               0.0|               4.8|              15|                15|                  5|           1|      1|\n",
      "|845f4da4-b56e-4a8...|                0|          21|          0|         7|              0|              37.5|              42.0|               0.0|               0|                 0|                  0|           0|      0|\n",
      "|f5953341-ad55-40a...|               35|          35|        105|        70|             70| 27.77777777777778|2.6666666666666665| 7.444444444444445|              63|                63|                  0|           0|      1|\n",
      "|53827558-de99-4e8...|               18|          18|         54|        18|             36|             18.75|             2.375|             19.25|               0|                 0|                144|           0|      0|\n",
      "|3fbd5dc7-12e2-422...|                0|           0|          0|        60|              0|             150.0|               0.0|               0.0|              10|                 0|                 10|           1|      0|\n",
      "|efa0b737-dc2e-462...|                0|          60|          0|        30|              0|33.333333333333336|38.333333333333336|               0.0|              27|                 9|                 18|           1|      1|\n",
      "|f891cce1-926a-44f...|              180|         180|         90|       180|            180|33.333333333333336| 13.11111111111111| 13.11111111111111|             162|                81|                  0|           1|      1|\n",
      "|789add28-9073-49c...|               32|          16|         48|        32|             32|              27.5|               2.4|              15.8|               0|                 0|                  0|           1|      1|\n",
      "|a9848977-2c27-4b4...|                0|         100|         50|        50|              0|             31.25|             38.75|               0.0|             120|                 0|                  0|           0|      0|\n",
      "|b44a92d6-a836-402...|               72|          72|          0|         0|             18|               0.0|              24.0|               3.0|               0|                36|                 54|           1|      1|\n",
      "|8347dd71-ab9b-4c3...|               12|          12|          0|        12|              0|              50.0|12.666666666666666|               0.0|               6|                 0|                  0|           0|      1|\n",
      "|0e294e2f-cf55-440...|                0|           0|          0|        63|              0|             100.0|               0.0|               0.0|               9|                 0|                  9|           1|      1|\n",
      "|50ae9813-98b1-490...|               54|           0|         36|        18|             18|21.428571428571427|               0.0| 9.714285714285714|              63|                 0|                 63|           0|      0|\n",
      "|921251a2-1887-473...|                0|          12|          6|         6|             18|21.428571428571427|              12.0|25.714285714285715|               0|                 0|                  0|           0|      0|\n",
      "|d23c27ba-cab7-46b...|                0|           0|         16|         0|              0|               0.0|               0.0|               0.0|               8|                 4|                  0|           0|      1|\n",
      "+--------------------+-----------------+------------+-----------+----------+---------------+------------------+------------------+------------------+----------------+------------------+-------------------+------------+-------+\n",
      "only showing top 20 rows\n",
      "\n"
     ]
    },
    {
     "name": "stderr",
     "output_type": "stream",
     "text": [
      "[Stage 13:===========================================>              (3 + 1) / 4]\r"
     ]
    },
    {
     "name": "stdout",
     "output_type": "stream",
     "text": [
      "261\n"
     ]
    },
    {
     "name": "stderr",
     "output_type": "stream",
     "text": [
      "                                                                                \r"
     ]
    }
   ],
   "source": [
    "from pyspark.sql.functions import when, col, sum, avg, max\n",
    "from pyspark.sql.functions import get_json_object\n",
    "result = page_df.join(click_df, \n",
    "      page_df['session_id'] == click_df['session_id'] ,\n",
    "      \"left\").join(interact_df, page_df['session_id'] == interact_df['session_id']).drop(interact_df['session_id'],interact_df['user_id'] ).drop(click_df['session_id'],click_df['user_id'])\n",
    "\n",
    "result.drop('page_url')\n",
    "df_final=result.withColumn(\"Click_buy\", when(result['element_id']=='btn_buy', 1).otherwise(0))\n",
    "\n",
    "session_interaction_def = df_final.groupBy(\"session_id\").agg(\n",
    "    sum(when(col(\"interaction_type\") == \"form_submit\", 1).otherwise(0)).alias(\"form_submit_count\"),\n",
    "    sum(when(col(\"interaction_type\") == \"scroll\", 1).otherwise(0)).alias(\"scroll_count\"),\n",
    "    sum(when(col(\"interaction_type\") == \"hover\", 1).otherwise(0)).alias(\"hover_count\"),\n",
    "    sum(when(col(\"interaction_type\") == \"zoom\", 1).otherwise(0)).alias(\"zoom_count\"),\n",
    "    sum(when(col(\"interaction_type\") == \"copy_text\", 1).otherwise(0)).alias(\"copy_text_count\"),\n",
    "    avg(when(col(\"interaction_type\") == \"zoom\", get_json_object(df_final.details,\"$.zoom_level\")).otherwise(0)).alias(\"zoom_level_avg\"),\n",
    "    avg(when(col(\"interaction_type\") == \"scroll\", get_json_object(df_final.details,\"$.scroll_depth\")).otherwise(0)).alias(\"scroll_depth_avg\"),\n",
    "    avg(when(col(\"interaction_type\") == \"copy_text\", get_json_object(df_final.details,\"$.length\")).otherwise(0)).alias(\"copy_length_avg\"),\n",
    "    sum(when(col(\"element_id\") == \"nav_login\", 1).otherwise(0)).alias(\"nav_login_clicks\"),\n",
    "    sum(when(col(\"element_id\") == \"btn_add_to_cart\", 1).otherwise(0)).alias(\"add_to_cart_clicks\"),\n",
    "    sum(when(col(\"element_id\") == \"link_product\", 1).otherwise(0)).alias(\"link_product_clicks\"),\n",
    "    max(when(col(\"element_id\") == \"btn_checkout\", 1).otherwise(0)).alias(\"btn_checkout\"),\n",
    "    max(when(col(\"element_id\") == \"btn_buy\", 1).otherwise(0)).alias(\"btn_buy\")\n",
    ")\n",
    "\n",
    "session_interaction_def.show()\n",
    "print(session_interaction_def.count())"
   ]
  },
  {
   "cell_type": "code",
   "execution_count": 103,
   "id": "a1d5a48b",
   "metadata": {},
   "outputs": [
    {
     "name": "stderr",
     "output_type": "stream",
     "text": [
      "                                                                                \r"
     ]
    }
   ],
   "source": [
    "from pyspark.ml.feature import VectorAssembler\n",
    "from pyspark.ml.feature import StringIndexer\n",
    "\n",
    "label_indexer=StringIndexer(inputCol=\"btn_buy\",outputCol=\"label\")\n",
    "df_label = label_indexer.fit(session_interaction_def).transform(session_interaction_def)\n",
    "\n",
    "assembler = VectorAssembler(inputCols=[\"form_submit_count\", \"scroll_count\",\"hover_count\",\"zoom_count\",\n",
    "                                       \"copy_text_count\",\"zoom_level_avg\",\"scroll_depth_avg\",\n",
    "                                       \"copy_length_avg\",\"nav_login_clicks\",\"add_to_cart_clicks\",\n",
    "                                       \"link_product_clicks\",\"btn_checkout\"], outputCol=\"features\")\n",
    "data_with_features = assembler.transform(df_label).select(\"label\", \"features\")"
   ]
  },
  {
   "cell_type": "code",
   "execution_count": 109,
   "id": "178b8601",
   "metadata": {},
   "outputs": [],
   "source": [
    "train_df, test_df = data_with_features.randomSplit([0.8, 0.2], seed=57)"
   ]
  },
  {
   "cell_type": "code",
   "execution_count": 110,
   "id": "d138afa7",
   "metadata": {},
   "outputs": [],
   "source": [
    "from pyspark.ml.classification import DecisionTreeClassifier\n",
    "dt = DecisionTreeClassifier(labelCol=\"label\", featuresCol=\"features\")"
   ]
  },
  {
   "cell_type": "code",
   "execution_count": 111,
   "id": "c18433a5",
   "metadata": {},
   "outputs": [
    {
     "name": "stderr",
     "output_type": "stream",
     "text": [
      "                                                                                \r"
     ]
    },
    {
     "name": "stdout",
     "output_type": "stream",
     "text": [
      "Decision Tree model summary:DecisionTreeClassificationModel: uid=DecisionTreeClassifier_f5a62ec52f73, depth=5, numNodes=33, numClasses=2, numFeatures=12\n",
      "  If (feature 1 <= 25.5)\n",
      "   If (feature 2 <= 43.5)\n",
      "    If (feature 4 <= 29.0)\n",
      "     If (feature 7 <= 3.533333333333333)\n",
      "      If (feature 0 <= 38.0)\n",
      "       Predict: 0.0\n",
      "      Else (feature 0 > 38.0)\n",
      "       Predict: 1.0\n",
      "     Else (feature 7 > 3.533333333333333)\n",
      "      Predict: 1.0\n",
      "    Else (feature 4 > 29.0)\n",
      "     If (feature 4 <= 76.0)\n",
      "      Predict: 0.0\n",
      "     Else (feature 4 > 76.0)\n",
      "      Predict: 1.0\n",
      "   Else (feature 2 > 43.5)\n",
      "    If (feature 10 <= 61.5)\n",
      "     Predict: 0.0\n",
      "    Else (feature 10 > 61.5)\n",
      "     If (feature 0 <= 0.5)\n",
      "      Predict: 0.0\n",
      "     Else (feature 0 > 0.5)\n",
      "      Predict: 1.0\n",
      "  Else (feature 1 > 25.5)\n",
      "   If (feature 9 <= 82.5)\n",
      "    If (feature 8 <= 71.0)\n",
      "     If (feature 10 <= 142.0)\n",
      "      Predict: 0.0\n",
      "     Else (feature 10 > 142.0)\n",
      "      Predict: 1.0\n",
      "    Else (feature 8 > 71.0)\n",
      "     If (feature 3 <= 55.0)\n",
      "      If (feature 10 <= 38.0)\n",
      "       Predict: 1.0\n",
      "      Else (feature 10 > 38.0)\n",
      "       Predict: 0.0\n",
      "     Else (feature 3 > 55.0)\n",
      "      If (feature 6 <= 28.1875)\n",
      "       Predict: 0.0\n",
      "      Else (feature 6 > 28.1875)\n",
      "       Predict: 1.0\n",
      "   Else (feature 9 > 82.5)\n",
      "    If (feature 6 <= 6.761904761904762)\n",
      "     If (feature 6 <= 2.1875)\n",
      "      Predict: 1.0\n",
      "     Else (feature 6 > 2.1875)\n",
      "      Predict: 0.0\n",
      "    Else (feature 6 > 6.761904761904762)\n",
      "     Predict: 1.0\n",
      "\n"
     ]
    }
   ],
   "source": [
    "dt_model = dt.fit(train_df)\n",
    "\n",
    "# Display model summary\n",
    "print(\"Decision Tree model summary:{0}\".format(dt_model.toDebugString))"
   ]
  },
  {
   "cell_type": "code",
   "execution_count": 107,
   "id": "d83c773d",
   "metadata": {},
   "outputs": [
    {
     "name": "stderr",
     "output_type": "stream",
     "text": [
      "[Stage 57:===========================================>              (3 + 1) / 4]\r"
     ]
    },
    {
     "name": "stdout",
     "output_type": "stream",
     "text": [
      "+--------------------+----------+\n",
      "|            features|prediction|\n",
      "+--------------------+----------+\n",
      "|(12,[0,1,3,5,6,11...|       1.0|\n",
      "|(12,[0,1,6,9,10,1...|       1.0|\n",
      "|(12,[0,3,5,9,11],...|       0.0|\n",
      "|(12,[1,2,3,5,6,8]...|       1.0|\n",
      "|(12,[1,6,8,10],[1...|       0.0|\n",
      "|(12,[2,3,5,8,10],...|       0.0|\n",
      "|(12,[2,3,5,10],[6...|       0.0|\n",
      "|(12,[2,4,7,9],[10...|       1.0|\n",
      "|(12,[2,8,9],[16.0...|       0.0|\n",
      "|(12,[3,5,8,9,10,1...|       0.0|\n",
      "|(12,[3,5,9,10,11]...|       0.0|\n",
      "|(12,[4,7,8,10,11]...|       1.0|\n",
      "|[0.0,0.0,0.0,49.0...|       1.0|\n",
      "|[0.0,0.0,56.0,112...|       0.0|\n",
      "|[0.0,0.0,72.0,36....|       0.0|\n",
      "|[0.0,24.0,48.0,24...|       0.0|\n",
      "|[0.0,40.0,0.0,20....|       0.0|\n",
      "|[0.0,54.0,0.0,54....|       0.0|\n",
      "|[0.0,60.0,0.0,30....|       1.0|\n",
      "|[9.0,18.0,9.0,18....|       1.0|\n",
      "+--------------------+----------+\n",
      "only showing top 20 rows\n",
      "\n"
     ]
    },
    {
     "name": "stderr",
     "output_type": "stream",
     "text": [
      "                                                                                \r"
     ]
    }
   ],
   "source": [
    "# Use the trained model to make predictions on the test data\n",
    "predictions = dt_model.transform(test_df)\n",
    "\n",
    "# Show predictions\n",
    "predictions.select(\"features\", \"prediction\").show()"
   ]
  },
  {
   "cell_type": "code",
   "execution_count": 108,
   "id": "6dc46f9a",
   "metadata": {},
   "outputs": [
    {
     "name": "stderr",
     "output_type": "stream",
     "text": [
      "                                                                                \r"
     ]
    },
    {
     "name": "stdout",
     "output_type": "stream",
     "text": [
      "Accuracy: 0.6333333333333333\n"
     ]
    },
    {
     "name": "stderr",
     "output_type": "stream",
     "text": [
      "                                                                                \r"
     ]
    },
    {
     "name": "stdout",
     "output_type": "stream",
     "text": [
      "Precision: 0.6562594268476621\n"
     ]
    },
    {
     "name": "stderr",
     "output_type": "stream",
     "text": [
      "                                                                                \r"
     ]
    },
    {
     "name": "stdout",
     "output_type": "stream",
     "text": [
      "Recall: 0.6333333333333333\n"
     ]
    },
    {
     "name": "stderr",
     "output_type": "stream",
     "text": [
      "[Stage 80:===========================================>              (3 + 1) / 4]\r"
     ]
    },
    {
     "name": "stdout",
     "output_type": "stream",
     "text": [
      "F1 Score: 0.6333333333333334\n"
     ]
    },
    {
     "name": "stderr",
     "output_type": "stream",
     "text": [
      "                                                                                \r"
     ]
    }
   ],
   "source": [
    "from pyspark.ml.evaluation import MulticlassClassificationEvaluator\n",
    "\n",
    "evaluator = MulticlassClassificationEvaluator(labelCol=\"label\",\n",
    "                            predictionCol=\"prediction\")\n",
    "\n",
    "accuracy = evaluator.evaluate(predictions, \n",
    "                  {evaluator.metricName: \"accuracy\"})\n",
    "print(f\"Accuracy: {accuracy}\")\n",
    "precision = evaluator.evaluate(predictions,\n",
    "                  {evaluator.metricName: \"weightedPrecision\"})\n",
    "print(f\"Precision: {precision}\")\n",
    "recall = evaluator.evaluate(predictions,\n",
    "                  {evaluator.metricName: \"weightedRecall\"})\n",
    "print(f\"Recall: {recall}\")\n",
    "f1 = evaluator.evaluate(predictions,\n",
    "                {evaluator.metricName: \"f1\"})\n",
    "print(f\"F1 Score: {f1}\")    "
   ]
  },
  {
   "cell_type": "code",
   "execution_count": 95,
   "id": "b8c50723",
   "metadata": {},
   "outputs": [],
   "source": [
    "sc.stop()"
   ]
  }
 ],
 "metadata": {
  "kernelspec": {
   "display_name": "Python 3 (ipykernel)",
   "language": "python",
   "name": "python3"
  },
  "language_info": {
   "codemirror_mode": {
    "name": "ipython",
    "version": 3
   },
   "file_extension": ".py",
   "mimetype": "text/x-python",
   "name": "python",
   "nbconvert_exporter": "python",
   "pygments_lexer": "ipython3",
   "version": "3.11.6"
  }
 },
 "nbformat": 4,
 "nbformat_minor": 5
}
