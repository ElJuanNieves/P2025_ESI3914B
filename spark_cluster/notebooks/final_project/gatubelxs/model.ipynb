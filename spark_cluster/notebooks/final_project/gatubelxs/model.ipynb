{
 "cells": [
  {
   "cell_type": "code",
   "execution_count": 19,
   "id": "eb3c3182",
   "metadata": {},
   "outputs": [],
   "source": [
    "import findspark\n",
    "findspark.init()"
   ]
  },
  {
   "cell_type": "code",
   "execution_count": 20,
   "id": "abc82f35",
   "metadata": {},
   "outputs": [],
   "source": [
    "from pyspark.sql import SparkSession\n",
    "\n",
    "spark = SparkSession.builder \\\n",
    "    .appName(\"SparkModel\") \\\n",
    "    .master(\"spark://be6296989c4d:7077\") \\\n",
    "    .config(\"spark.ui.port\",\"4040\") \\\n",
    "    .getOrCreate()\n",
    "sc = spark.sparkContext"
   ]
  },
  {
   "cell_type": "code",
   "execution_count": 21,
   "id": "484e2bcd",
   "metadata": {},
   "outputs": [
    {
     "name": "stderr",
     "output_type": "stream",
     "text": [
      "[Stage 1:>                                                          (0 + 1) / 1]\r"
     ]
    },
    {
     "name": "stdout",
     "output_type": "stream",
     "text": [
      "+------------------------------------+------------------------------------+------------------+-------------------------+--------+-----+--------------------------+\n",
      "|user_id                             |session_id                          |page_url          |referrer_url             |category|price|timestamp                 |\n",
      "+------------------------------------+------------------------------------+------------------+-------------------------+--------+-----+--------------------------+\n",
      "|0e2e3eb3-bd19-4f9a-866e-3521d7e58d99|71b3618f-a74c-480f-9ead-c701a8c72750|/product/book_4009|wp-content/search/explore|books   |29.58|2025-05-12T04:13:36.990108|\n",
      "|0e2e3eb3-bd19-4f9a-866e-3521d7e58d99|71b3618f-a74c-480f-9ead-c701a8c72750|/product/book_4009|category/posts           |books   |29.58|2025-05-12T04:13:36.990491|\n",
      "|0e2e3eb3-bd19-4f9a-866e-3521d7e58d99|71b3618f-a74c-480f-9ead-c701a8c72750|/product/book_4009|list/tags                |books   |29.58|2025-05-12T04:13:36.990604|\n",
      "|0e2e3eb3-bd19-4f9a-866e-3521d7e58d99|71b3618f-a74c-480f-9ead-c701a8c72750|/product/book_4009|app/posts/tags           |books   |29.58|2025-05-12T04:13:36.990703|\n",
      "+------------------------------------+------------------------------------+------------------+-------------------------+--------+-----+--------------------------+\n",
      "only showing top 4 rows\n",
      "\n"
     ]
    },
    {
     "name": "stderr",
     "output_type": "stream",
     "text": [
      "                                                                                \r"
     ]
    }
   ],
   "source": [
    "page_df = spark \\\n",
    "            .read \\\n",
    "            .parquet(\"/home/jovyan/notebooks/data/page_views/\")\n",
    "\n",
    "page_df.show(4, False)"
   ]
  },
  {
   "cell_type": "code",
   "execution_count": 22,
   "id": "3e183ae5",
   "metadata": {},
   "outputs": [
    {
     "name": "stdout",
     "output_type": "stream",
     "text": [
      "+------------------------------------+------------------------------------+------------+------------------+--------+-----+--------------------------+-------+-------+\n",
      "|user_id                             |session_id                          |element_id  |page_url          |category|price|timestamp                 |x_coord|y_coord|\n",
      "+------------------------------------+------------------------------------+------------+------------------+--------+-----+--------------------------+-------+-------+\n",
      "|0e2e3eb3-bd19-4f9a-866e-3521d7e58d99|71b3618f-a74c-480f-9ead-c701a8c72750|link_product|/product/book_4009|books   |29.58|2025-05-12T04:13:36.991520|559.59 |142.47 |\n",
      "|0e2e3eb3-bd19-4f9a-866e-3521d7e58d99|71b3618f-a74c-480f-9ead-c701a8c72750|link_product|/product/book_4009|books   |29.58|2025-05-12T04:13:36.993579|559.59 |142.47 |\n",
      "|0e2e3eb3-bd19-4f9a-866e-3521d7e58d99|71b3618f-a74c-480f-9ead-c701a8c72750|link_product|/product/book_4009|books   |29.58|2025-05-12T04:13:36.993702|559.59 |142.47 |\n",
      "|0e2e3eb3-bd19-4f9a-866e-3521d7e58d99|71b3618f-a74c-480f-9ead-c701a8c72750|link_product|/product/book_4009|books   |29.58|2025-05-12T04:13:36.993775|559.59 |142.47 |\n",
      "+------------------------------------+------------------------------------+------------+------------------+--------+-----+--------------------------+-------+-------+\n",
      "only showing top 4 rows\n",
      "\n"
     ]
    }
   ],
   "source": [
    "click_df = spark \\\n",
    "            .read \\\n",
    "            .parquet(\"/home/jovyan/notebooks/data/click_events/\")\n",
    "\n",
    "click_df.show(4, False)"
   ]
  },
  {
   "cell_type": "code",
   "execution_count": 23,
   "id": "87aa1833",
   "metadata": {},
   "outputs": [
    {
     "name": "stdout",
     "output_type": "stream",
     "text": [
      "+------------------------------------+------------------------------------+----------------+------------------+--------+-----+------------------------+--------------------------+\n",
      "|user_id                             |session_id                          |interaction_type|page_url          |category|price|details                 |timestamp                 |\n",
      "+------------------------------------+------------------------------------+----------------+------------------+--------+-----+------------------------+--------------------------+\n",
      "|0e2e3eb3-bd19-4f9a-866e-3521d7e58d99|71b3618f-a74c-480f-9ead-c701a8c72750|form_submit     |/product/book_4009|books   |29.58|{\"form_id\":\"signup_for\"}|2025-05-12T04:13:36.994205|\n",
      "|0e2e3eb3-bd19-4f9a-866e-3521d7e58d99|71b3618f-a74c-480f-9ead-c701a8c72750|form_submit     |/product/book_4009|books   |29.58|{\"form_id\":\"signup_for\"}|2025-05-12T04:13:36.994298|\n",
      "|0e2e3eb3-bd19-4f9a-866e-3521d7e58d99|71b3618f-a74c-480f-9ead-c701a8c72750|form_submit     |/product/book_4009|books   |29.58|{\"form_id\":\"signup_for\"}|2025-05-12T04:13:36.994380|\n",
      "|0e2e3eb3-bd19-4f9a-866e-3521d7e58d99|71b3618f-a74c-480f-9ead-c701a8c72750|form_submit     |/product/book_4009|books   |29.58|{\"form_id\":\"signup_for\"}|2025-05-12T04:13:36.994436|\n",
      "+------------------------------------+------------------------------------+----------------+------------------+--------+-----+------------------------+--------------------------+\n",
      "only showing top 4 rows\n",
      "\n"
     ]
    }
   ],
   "source": [
    "interact_df = spark \\\n",
    "            .read \\\n",
    "            .parquet(\"/home/jovyan/notebooks/data/user_interactions/\")\n",
    "\n",
    "interact_df.show(4, False)"
   ]
  },
  {
   "cell_type": "code",
   "execution_count": 53,
   "id": "2bfff25c",
   "metadata": {},
   "outputs": [
    {
     "name": "stderr",
     "output_type": "stream",
     "text": [
      "[Stage 270:===============================================>         (5 + 1) / 6]\r"
     ]
    },
    {
     "name": "stdout",
     "output_type": "stream",
     "text": [
      "+--------------------+-----------------+------------+-----------+----------+---------------+--------------+----------------+---------------+----------------+------------------+-------------------+------------+-------+\n",
      "|          session_id|form_submit_count|scroll_count|hover_count|zoom_count|copy_text_count|zoom_level_avg|scroll_depth_avg|copy_length_avg|nav_login_clicks|add_to_cart_clicks|link_product_clicks|btn_checkout|btn_buy|\n",
      "+--------------------+-----------------+------------+-----------+----------+---------------+--------------+----------------+---------------+----------------+------------------+-------------------+------------+-------+\n",
      "|374df097-3ffc-4a9...|                0|          19|          0|         0|              0|           0.0|            45.0|            0.0|               0|                17|                  0|           1|      0|\n",
      "|82d2cbc7-e850-42c...|                0|           0|          0|        14|              0|         125.0|             0.0|            0.0|               0|                12|                  0|           1|      0|\n",
      "|dd38de75-746c-40d...|                0|           1|          0|         0|              0|           0.0|            95.0|            0.0|               0|                 0|                  1|           0|      0|\n",
      "|cca4f95e-9046-423...|                0|           0|          0|         9|              0|         100.0|             0.0|            0.0|               0|                 0|                  6|           1|      1|\n",
      "|66080e81-4df7-466...|                0|           0|          6|         0|              0|           0.0|             0.0|            0.0|               0|                 2|                  0|           0|      0|\n",
      "|54aa1cfa-008d-427...|                0|           0|          0|         0|             18|           0.0|             0.0|           68.0|               0|                 5|                  0|           0|      1|\n",
      "|6b286ddc-51fb-476...|                0|           1|          0|         0|              0|           0.0|            21.0|            0.0|               0|                 0|                  1|           0|      0|\n",
      "|cc32ea9e-08ad-439...|                0|           0|          3|         0|              0|           0.0|             0.0|            0.0|               0|                 0|                  2|           1|      0|\n",
      "|a4431eb1-2d2d-4d1...|                0|           0|          0|         0|              9|           0.0|             0.0|           49.0|               0|                 0|                  0|           1|      1|\n",
      "|9aabbdd8-fcb1-4a9...|                0|           0|          0|         1|              0|         125.0|             0.0|            0.0|               0|                 1|                  0|           0|      0|\n",
      "|8ce7422e-f6fc-469...|                0|           0|          0|        14|              0|         100.0|             0.0|            0.0|               0|                12|                  0|           1|      0|\n",
      "|a591b8d7-ef6f-450...|                0|           0|          0|         0|             18|           0.0|             0.0|           49.0|               0|                16|                  0|           1|      0|\n",
      "|5b2c8c04-ad90-46d...|                0|           0|          0|         0|             10|           0.0|             0.0|           60.0|               0|                 3|                  0|           1|      0|\n",
      "|cd3b6c29-16e8-4d0...|                0|           0|          5|         0|              0|           0.0|             0.0|            0.0|               0|                 2|                  0|           0|      0|\n",
      "|789a563b-0982-463...|                8|           0|          0|         0|              0|           0.0|             0.0|            0.0|               0|                 0|                  5|           1|      1|\n",
      "|c459e8b4-1a08-4e5...|                5|           0|          0|         0|              0|           0.0|             0.0|            0.0|               0|                 0|                  3|           1|      0|\n",
      "|8680ec50-9c38-470...|                0|           0|          0|         6|              0|         125.0|             0.0|            0.0|               0|                 0|                  4|           1|      0|\n",
      "|0a4272c0-ffda-4b3...|                0|           9|          0|         0|              0|           0.0|            60.0|            0.0|               0|                 0|                  6|           1|      1|\n",
      "|40cd0ff2-5332-425...|                0|           0|          0|         0|             20|           0.0|             0.0|           95.0|               0|                 0|                  0|           1|      1|\n",
      "|0f897a8f-7fd7-40d...|                0|           0|          0|         0|              4|           0.0|             0.0|           35.0|               0|                 1|                  0|           0|      0|\n",
      "+--------------------+-----------------+------------+-----------+----------+---------------+--------------+----------------+---------------+----------------+------------------+-------------------+------------+-------+\n",
      "only showing top 20 rows\n",
      "\n"
     ]
    },
    {
     "name": "stderr",
     "output_type": "stream",
     "text": [
      "                                                                                \r"
     ]
    }
   ],
   "source": [
    "from pyspark.sql.functions import when, col, sum, avg, max\n",
    "from pyspark.sql.functions import get_json_object\n",
    "click_df.drop('page_url','category','price','x_coord','y_coord')\n",
    "interact_df.drop('page_url','category','price')\n",
    "df_final = click_df.join(interact_df, click_df['session_id'] == interact_df['session_id']).drop(interact_df['session_id'],interact_df['user_id'],interact_df['timestamp'] ).dropDuplicates()\n",
    "\n",
    "\n",
    "\n",
    "\n",
    "session_interaction_def = df_final.groupBy(\"session_id\").agg(\n",
    "    sum(when(col(\"interaction_type\") == \"form_submit\", 1).otherwise(0)).alias(\"form_submit_count\"),\n",
    "    sum(when(col(\"interaction_type\") == \"scroll\", 1).otherwise(0)).alias(\"scroll_count\"),\n",
    "    sum(when(col(\"interaction_type\") == \"hover\", 1).otherwise(0)).alias(\"hover_count\"),\n",
    "    sum(when(col(\"interaction_type\") == \"zoom\", 1).otherwise(0)).alias(\"zoom_count\"),\n",
    "    sum(when(col(\"interaction_type\") == \"copy_text\", 1).otherwise(0)).alias(\"copy_text_count\"),\n",
    "    avg(when(col(\"interaction_type\") == \"zoom\", get_json_object(df_final.details,\"$.zoom_level\")).otherwise(0)).alias(\"zoom_level_avg\"),\n",
    "    avg(when(col(\"interaction_type\") == \"scroll\", get_json_object(df_final.details,\"$.scroll_depth\")).otherwise(0)).alias(\"scroll_depth_avg\"),\n",
    "    avg(when(col(\"interaction_type\") == \"copy_text\", get_json_object(df_final.details,\"$.length\")).otherwise(0)).alias(\"copy_length_avg\"),\n",
    "    sum(when(col(\"element_id\") == \"nav_login\", 1).otherwise(0)).alias(\"nav_login_clicks\"),\n",
    "    sum(when(col(\"element_id\") == \"btn_add_to_cart\", 1).otherwise(0)).alias(\"add_to_cart_clicks\"),\n",
    "    sum(when(col(\"element_id\") == \"link_product\", 1).otherwise(0)).alias(\"link_product_clicks\"),\n",
    "    max(when(col(\"element_id\") == \"btn_checkout\", 1).otherwise(0)).alias(\"btn_checkout\"),\n",
    "    max(when(col(\"element_id\") == \"btn_buy\", 1).otherwise(0)).alias(\"btn_buy\")\n",
    ")\n",
    "\n",
    "session_interaction_def.show()\n"
   ]
  },
  {
   "cell_type": "code",
   "execution_count": 46,
   "id": "a1d5a48b",
   "metadata": {},
   "outputs": [
    {
     "name": "stderr",
     "output_type": "stream",
     "text": [
      "                                                                                \r"
     ]
    }
   ],
   "source": [
    "from pyspark.ml.feature import VectorAssembler\n",
    "from pyspark.ml.feature import StringIndexer\n",
    "\n",
    "label_indexer=StringIndexer(inputCol=\"btn_buy\",outputCol=\"label\")\n",
    "df_label = label_indexer.fit(session_interaction_def).transform(session_interaction_def)\n",
    "\n",
    "assembler = VectorAssembler(inputCols=[\"form_submit_count\",\"nav_login_clicks\",\"add_to_cart_clicks\",\n",
    "                                       \"link_product_clicks\",\"btn_checkout\"], outputCol=\"features\")\n",
    "data_with_features = assembler.transform(df_label).select(\"label\", \"features\")"
   ]
  },
  {
   "cell_type": "code",
   "execution_count": 47,
   "id": "178b8601",
   "metadata": {},
   "outputs": [],
   "source": [
    "train_df, test_df = data_with_features.randomSplit([0.8, 0.2], seed=57)"
   ]
  },
  {
   "cell_type": "code",
   "execution_count": 48,
   "id": "d138afa7",
   "metadata": {},
   "outputs": [],
   "source": [
    "from pyspark.ml.classification import DecisionTreeClassifier\n",
    "dt = DecisionTreeClassifier(labelCol=\"label\", featuresCol=\"features\")"
   ]
  },
  {
   "cell_type": "code",
   "execution_count": 49,
   "id": "c18433a5",
   "metadata": {},
   "outputs": [
    {
     "name": "stderr",
     "output_type": "stream",
     "text": [
      "                                                                                \r"
     ]
    },
    {
     "name": "stdout",
     "output_type": "stream",
     "text": [
      "Decision Tree model summary:DecisionTreeClassificationModel: uid=DecisionTreeClassifier_d089cbc90899, depth=4, numNodes=9, numClasses=2, numFeatures=5\n",
      "  If (feature 3 <= 4.5)\n",
      "   If (feature 3 <= 0.5)\n",
      "    If (feature 2 <= 0.5)\n",
      "     If (feature 4 <= 0.5)\n",
      "      Predict: 0.0\n",
      "     Else (feature 4 > 0.5)\n",
      "      Predict: 1.0\n",
      "    Else (feature 2 > 0.5)\n",
      "     Predict: 0.0\n",
      "   Else (feature 3 > 0.5)\n",
      "    Predict: 0.0\n",
      "  Else (feature 3 > 4.5)\n",
      "   Predict: 1.0\n",
      "\n"
     ]
    }
   ],
   "source": [
    "dt_model = dt.fit(train_df)\n",
    "\n",
    "# Display model summary\n",
    "print(\"Decision Tree model summary:{0}\".format(dt_model.toDebugString))"
   ]
  },
  {
   "cell_type": "code",
   "execution_count": 50,
   "id": "d83c773d",
   "metadata": {},
   "outputs": [
    {
     "name": "stderr",
     "output_type": "stream",
     "text": [
      "[Stage 217:===============================================>         (5 + 1) / 6]\r"
     ]
    },
    {
     "name": "stdout",
     "output_type": "stream",
     "text": [
      "+-------------------+----------+\n",
      "|           features|prediction|\n",
      "+-------------------+----------+\n",
      "|(5,[0,2],[3.0,3.0])|       0.0|\n",
      "|(5,[0,2],[3.0,3.0])|       0.0|\n",
      "|(5,[0,2],[6.0,6.0])|       0.0|\n",
      "|(5,[0,3],[1.0,1.0])|       0.0|\n",
      "|(5,[0,3],[2.0,2.0])|       0.0|\n",
      "|      (5,[2],[2.0])|       0.0|\n",
      "|      (5,[2],[2.0])|       0.0|\n",
      "|      (5,[2],[2.0])|       0.0|\n",
      "|      (5,[2],[6.0])|       0.0|\n",
      "|      (5,[2],[6.0])|       0.0|\n",
      "|(5,[2,4],[1.0,1.0])|       0.0|\n",
      "|(5,[2,4],[2.0,1.0])|       0.0|\n",
      "|(5,[2,4],[4.0,1.0])|       0.0|\n",
      "|(5,[2,4],[4.0,1.0])|       0.0|\n",
      "|(5,[2,4],[6.0,1.0])|       0.0|\n",
      "|(5,[2,4],[6.0,1.0])|       0.0|\n",
      "|(5,[2,4],[7.0,1.0])|       0.0|\n",
      "|(5,[2,4],[7.0,1.0])|       0.0|\n",
      "|(5,[2,4],[8.0,1.0])|       0.0|\n",
      "|(5,[2,4],[9.0,1.0])|       0.0|\n",
      "+-------------------+----------+\n",
      "only showing top 20 rows\n",
      "\n"
     ]
    },
    {
     "name": "stderr",
     "output_type": "stream",
     "text": [
      "                                                                                \r"
     ]
    }
   ],
   "source": [
    "# Use the trained model to make predictions on the test data\n",
    "predictions = dt_model.transform(test_df)\n",
    "\n",
    "# Show predictions\n",
    "predictions.select(\"features\", \"prediction\").show()"
   ]
  },
  {
   "cell_type": "code",
   "execution_count": 51,
   "id": "6dc46f9a",
   "metadata": {},
   "outputs": [
    {
     "name": "stderr",
     "output_type": "stream",
     "text": [
      "                                                                                \r"
     ]
    },
    {
     "name": "stdout",
     "output_type": "stream",
     "text": [
      "Accuracy: 0.88\n"
     ]
    },
    {
     "name": "stderr",
     "output_type": "stream",
     "text": [
      "                                                                                \r"
     ]
    },
    {
     "name": "stdout",
     "output_type": "stream",
     "text": [
      "Precision: 0.8797058823529411\n"
     ]
    },
    {
     "name": "stderr",
     "output_type": "stream",
     "text": [
      "                                                                                \r"
     ]
    },
    {
     "name": "stdout",
     "output_type": "stream",
     "text": [
      "Recall: 0.88\n"
     ]
    },
    {
     "name": "stderr",
     "output_type": "stream",
     "text": [
      "[Stage 248:===============================================>         (5 + 1) / 6]\r"
     ]
    },
    {
     "name": "stdout",
     "output_type": "stream",
     "text": [
      "F1 Score: 0.8782887700534759\n"
     ]
    },
    {
     "name": "stderr",
     "output_type": "stream",
     "text": [
      "                                                                                \r"
     ]
    }
   ],
   "source": [
    "from pyspark.ml.evaluation import MulticlassClassificationEvaluator\n",
    "\n",
    "evaluator = MulticlassClassificationEvaluator(labelCol=\"label\",\n",
    "                            predictionCol=\"prediction\")\n",
    "\n",
    "accuracy = evaluator.evaluate(predictions, \n",
    "                  {evaluator.metricName: \"accuracy\"})\n",
    "print(f\"Accuracy: {accuracy}\")\n",
    "precision = evaluator.evaluate(predictions,\n",
    "                  {evaluator.metricName: \"weightedPrecision\"})\n",
    "print(f\"Precision: {precision}\")\n",
    "recall = evaluator.evaluate(predictions,\n",
    "                  {evaluator.metricName: \"weightedRecall\"})\n",
    "print(f\"Recall: {recall}\")\n",
    "f1 = evaluator.evaluate(predictions,\n",
    "                {evaluator.metricName: \"f1\"})\n",
    "print(f\"F1 Score: {f1}\")    "
   ]
  },
  {
   "cell_type": "code",
   "execution_count": 18,
   "id": "b8c50723",
   "metadata": {},
   "outputs": [],
   "source": [
    "sc.stop()"
   ]
  }
 ],
 "metadata": {
  "kernelspec": {
   "display_name": "Python 3 (ipykernel)",
   "language": "python",
   "name": "python3"
  },
  "language_info": {
   "codemirror_mode": {
    "name": "ipython",
    "version": 3
   },
   "file_extension": ".py",
   "mimetype": "text/x-python",
   "name": "python",
   "nbconvert_exporter": "python",
   "pygments_lexer": "ipython3",
   "version": "3.11.6"
  }
 },
 "nbformat": 4,
 "nbformat_minor": 5
}
