{
 "cells": [
  {
   "cell_type": "code",
   "execution_count": 19,
   "id": "eb3c3182",
   "metadata": {},
   "outputs": [],
   "source": [
    "import findspark\n",
    "findspark.init()"
   ]
  },
  {
   "cell_type": "code",
   "execution_count": 20,
   "id": "abc82f35",
   "metadata": {},
   "outputs": [],
   "source": [
    "from pyspark.sql import SparkSession\n",
    "\n",
    "spark = SparkSession.builder \\\n",
    "    .appName(\"SparkModel\") \\\n",
    "    .master(\"spark://be6296989c4d:7077\") \\\n",
    "    .config(\"spark.ui.port\",\"4040\") \\\n",
    "    .getOrCreate()\n",
    "sc = spark.sparkContext"
   ]
  },
  {
   "cell_type": "code",
   "execution_count": 21,
   "id": "484e2bcd",
   "metadata": {},
   "outputs": [
    {
     "name": "stderr",
     "output_type": "stream",
     "text": [
      "[Stage 1:>                                                          (0 + 1) / 1]\r"
     ]
    },
    {
     "name": "stdout",
     "output_type": "stream",
     "text": [
      "+------------------------------------+------------------------------------+------------------+-------------------------+--------+-----+--------------------------+\n",
      "|user_id                             |session_id                          |page_url          |referrer_url             |category|price|timestamp                 |\n",
      "+------------------------------------+------------------------------------+------------------+-------------------------+--------+-----+--------------------------+\n",
      "|0e2e3eb3-bd19-4f9a-866e-3521d7e58d99|71b3618f-a74c-480f-9ead-c701a8c72750|/product/book_4009|wp-content/search/explore|books   |29.58|2025-05-12T04:13:36.990108|\n",
      "|0e2e3eb3-bd19-4f9a-866e-3521d7e58d99|71b3618f-a74c-480f-9ead-c701a8c72750|/product/book_4009|category/posts           |books   |29.58|2025-05-12T04:13:36.990491|\n",
      "|0e2e3eb3-bd19-4f9a-866e-3521d7e58d99|71b3618f-a74c-480f-9ead-c701a8c72750|/product/book_4009|list/tags                |books   |29.58|2025-05-12T04:13:36.990604|\n",
      "|0e2e3eb3-bd19-4f9a-866e-3521d7e58d99|71b3618f-a74c-480f-9ead-c701a8c72750|/product/book_4009|app/posts/tags           |books   |29.58|2025-05-12T04:13:36.990703|\n",
      "+------------------------------------+------------------------------------+------------------+-------------------------+--------+-----+--------------------------+\n",
      "only showing top 4 rows\n",
      "\n"
     ]
    },
    {
     "name": "stderr",
     "output_type": "stream",
     "text": [
      "                                                                                \r"
     ]
    }
   ],
   "source": [
    "page_df = spark \\\n",
    "            .read \\\n",
    "            .parquet(\"/home/jovyan/notebooks/data/page_views/\")\n",
    "\n",
    "page_df.show(4, False)"
   ]
  },
  {
   "cell_type": "code",
   "execution_count": 22,
   "id": "3e183ae5",
   "metadata": {},
   "outputs": [
    {
     "name": "stdout",
     "output_type": "stream",
     "text": [
      "+------------------------------------+------------------------------------+------------+------------------+--------+-----+--------------------------+-------+-------+\n",
      "|user_id                             |session_id                          |element_id  |page_url          |category|price|timestamp                 |x_coord|y_coord|\n",
      "+------------------------------------+------------------------------------+------------+------------------+--------+-----+--------------------------+-------+-------+\n",
      "|0e2e3eb3-bd19-4f9a-866e-3521d7e58d99|71b3618f-a74c-480f-9ead-c701a8c72750|link_product|/product/book_4009|books   |29.58|2025-05-12T04:13:36.991520|559.59 |142.47 |\n",
      "|0e2e3eb3-bd19-4f9a-866e-3521d7e58d99|71b3618f-a74c-480f-9ead-c701a8c72750|link_product|/product/book_4009|books   |29.58|2025-05-12T04:13:36.993579|559.59 |142.47 |\n",
      "|0e2e3eb3-bd19-4f9a-866e-3521d7e58d99|71b3618f-a74c-480f-9ead-c701a8c72750|link_product|/product/book_4009|books   |29.58|2025-05-12T04:13:36.993702|559.59 |142.47 |\n",
      "|0e2e3eb3-bd19-4f9a-866e-3521d7e58d99|71b3618f-a74c-480f-9ead-c701a8c72750|link_product|/product/book_4009|books   |29.58|2025-05-12T04:13:36.993775|559.59 |142.47 |\n",
      "+------------------------------------+------------------------------------+------------+------------------+--------+-----+--------------------------+-------+-------+\n",
      "only showing top 4 rows\n",
      "\n"
     ]
    }
   ],
   "source": [
    "click_df = spark \\\n",
    "            .read \\\n",
    "            .parquet(\"/home/jovyan/notebooks/data/click_events/\")\n",
    "\n",
    "click_df.show(4, False)"
   ]
  },
  {
   "cell_type": "code",
   "execution_count": 23,
   "id": "87aa1833",
   "metadata": {},
   "outputs": [
    {
     "name": "stdout",
     "output_type": "stream",
     "text": [
      "+------------------------------------+------------------------------------+----------------+------------------+--------+-----+------------------------+--------------------------+\n",
      "|user_id                             |session_id                          |interaction_type|page_url          |category|price|details                 |timestamp                 |\n",
      "+------------------------------------+------------------------------------+----------------+------------------+--------+-----+------------------------+--------------------------+\n",
      "|0e2e3eb3-bd19-4f9a-866e-3521d7e58d99|71b3618f-a74c-480f-9ead-c701a8c72750|form_submit     |/product/book_4009|books   |29.58|{\"form_id\":\"signup_for\"}|2025-05-12T04:13:36.994205|\n",
      "|0e2e3eb3-bd19-4f9a-866e-3521d7e58d99|71b3618f-a74c-480f-9ead-c701a8c72750|form_submit     |/product/book_4009|books   |29.58|{\"form_id\":\"signup_for\"}|2025-05-12T04:13:36.994298|\n",
      "|0e2e3eb3-bd19-4f9a-866e-3521d7e58d99|71b3618f-a74c-480f-9ead-c701a8c72750|form_submit     |/product/book_4009|books   |29.58|{\"form_id\":\"signup_for\"}|2025-05-12T04:13:36.994380|\n",
      "|0e2e3eb3-bd19-4f9a-866e-3521d7e58d99|71b3618f-a74c-480f-9ead-c701a8c72750|form_submit     |/product/book_4009|books   |29.58|{\"form_id\":\"signup_for\"}|2025-05-12T04:13:36.994436|\n",
      "+------------------------------------+------------------------------------+----------------+------------------+--------+-----+------------------------+--------------------------+\n",
      "only showing top 4 rows\n",
      "\n"
     ]
    }
   ],
   "source": [
    "interact_df = spark \\\n",
    "            .read \\\n",
    "            .parquet(\"/home/jovyan/notebooks/data/user_interactions/\")\n",
    "\n",
    "interact_df.show(4, False)"
   ]
  },
  {
   "cell_type": "code",
   "execution_count": 25,
   "id": "2bfff25c",
   "metadata": {},
   "outputs": [
    {
     "name": "stderr",
     "output_type": "stream",
     "text": [
      "                                                                                \r"
     ]
    },
    {
     "name": "stdout",
     "output_type": "stream",
     "text": [
      "+--------------------+-----------------+------------+-----------+----------+---------------+--------------+----------------+---------------+----------------+------------------+-------------------+------------+-------+\n",
      "|          session_id|form_submit_count|scroll_count|hover_count|zoom_count|copy_text_count|zoom_level_avg|scroll_depth_avg|copy_length_avg|nav_login_clicks|add_to_cart_clicks|link_product_clicks|btn_checkout|btn_buy|\n",
      "+--------------------+-----------------+------------+-----------+----------+---------------+--------------+----------------+---------------+----------------+------------------+-------------------+------------+-------+\n",
      "|82d2cbc7-e850-42c...|                0|           0|          0|      4200|              0|         125.0|             0.0|            0.0|               0|              3600|                  0|           1|      0|\n",
      "|374df097-3ffc-4a9...|                0|        4940|          0|         0|              0|           0.0|            45.0|            0.0|               0|              4420|                  0|           1|      0|\n",
      "|a4431eb1-2d2d-4d1...|                0|           0|          0|         0|           1890|           0.0|             0.0|           49.0|               0|                 0|                  0|           1|      1|\n",
      "|8ce7422e-f6fc-469...|                0|           0|          0|      1568|              0|         100.0|             0.0|            0.0|               0|              1344|                  0|           1|      0|\n",
      "|a591b8d7-ef6f-450...|                0|           0|          0|         0|           4446|           0.0|             0.0|           49.0|               0|              3952|                  0|           1|      0|\n",
      "|5b2c8c04-ad90-46d...|                0|           0|          0|         0|            280|           0.0|             0.0|           60.0|               0|                84|                  0|           1|      0|\n",
      "|40cd0ff2-5332-425...|                0|           0|          0|         0|           1680|           0.0|             0.0|           95.0|               0|                 0|                  0|           1|      1|\n",
      "|0f897a8f-7fd7-40d...|                0|           0|          0|         0|            560|           0.0|             0.0|           35.0|               0|               140|                  0|           0|      0|\n",
      "|590a7a3d-cc2a-4f3...|                0|         270|          0|         0|              0|           0.0|            56.0|            0.0|               0|                 0|                270|           0|      0|\n",
      "|f1a53da5-62f8-49e...|                0|           0|        288|         0|              0|           0.0|             0.0|            0.0|               0|                 0|                192|           1|      1|\n",
      "|1d09c992-b050-42f...|                0|           0|          0|         0|           8000|           0.0|             0.0|           70.0|               0|              6800|                  0|           1|      0|\n",
      "|c7f2203d-ee7d-44e...|                0|           0|       1248|         0|              0|           0.0|             0.0|            0.0|               0|                 0|                768|           1|      1|\n",
      "|94a08ac7-76dd-4f5...|                0|           0|          0|      1536|              0|         100.0|             0.0|            0.0|               0|                 0|                960|           1|      1|\n",
      "|73410c03-e060-4b6...|              390|           0|          0|         0|              0|           0.0|             0.0|            0.0|               0|                 0|                234|           1|      0|\n",
      "|6eb866af-741c-400...|                0|           0|          0|         0|            616|           0.0|             0.0|           17.0|               0|                 0|                  0|           1|      1|\n",
      "|8ff1f1b8-272d-48d...|                0|         990|          0|         0|              0|           0.0|            90.0|            0.0|               0|               264|                  0|           1|      0|\n",
      "|be394227-8aa3-446...|             2880|           0|          0|         0|              0|           0.0|             0.0|            0.0|               0|                 0|               1800|           1|      1|\n",
      "|86dab626-3bb7-43e...|                0|        2890|          0|         0|              0|           0.0|            31.0|            0.0|               0|                 0|               1870|           1|      1|\n",
      "|b56473ea-54a7-497...|                0|           0|          0|         0|            918|           0.0|             0.0|           54.0|               0|               216|                  0|           1|      0|\n",
      "|88f21cad-8255-4a5...|                0|           0|          0|         0|           1092|           0.0|             0.0|           88.0|               0|                 0|                  0|           1|      1|\n",
      "+--------------------+-----------------+------------+-----------+----------+---------------+--------------+----------------+---------------+----------------+------------------+-------------------+------------+-------+\n",
      "only showing top 20 rows\n",
      "\n"
     ]
    },
    {
     "name": "stderr",
     "output_type": "stream",
     "text": [
      "[Stage 13:================================================>         (5 + 1) / 6]\r"
     ]
    },
    {
     "name": "stdout",
     "output_type": "stream",
     "text": [
      "443\n"
     ]
    },
    {
     "name": "stderr",
     "output_type": "stream",
     "text": [
      "                                                                                \r"
     ]
    }
   ],
   "source": [
    "from pyspark.sql.functions import when, col, sum, avg, max\n",
    "from pyspark.sql.functions import get_json_object\n",
    "result = page_df.join(click_df, \n",
    "      page_df['session_id'] == click_df['session_id'] ,\n",
    "      \"left\").join(interact_df, page_df['session_id'] == interact_df['session_id']).drop(interact_df['session_id'],interact_df['user_id'] ).drop(click_df['session_id'],click_df['user_id'])\n",
    "\n",
    "result.drop('page_url')\n",
    "df_final=result.withColumn(\"Click_buy\", when(result['element_id']=='btn_buy', 1).otherwise(0))\n",
    "\n",
    "session_interaction_def = df_final.groupBy(\"session_id\").agg(\n",
    "    sum(when(col(\"interaction_type\") == \"form_submit\", 1).otherwise(0)).alias(\"form_submit_count\"),\n",
    "    sum(when(col(\"interaction_type\") == \"scroll\", 1).otherwise(0)).alias(\"scroll_count\"),\n",
    "    sum(when(col(\"interaction_type\") == \"hover\", 1).otherwise(0)).alias(\"hover_count\"),\n",
    "    sum(when(col(\"interaction_type\") == \"zoom\", 1).otherwise(0)).alias(\"zoom_count\"),\n",
    "    sum(when(col(\"interaction_type\") == \"copy_text\", 1).otherwise(0)).alias(\"copy_text_count\"),\n",
    "    avg(when(col(\"interaction_type\") == \"zoom\", get_json_object(df_final.details,\"$.zoom_level\")).otherwise(0)).alias(\"zoom_level_avg\"),\n",
    "    avg(when(col(\"interaction_type\") == \"scroll\", get_json_object(df_final.details,\"$.scroll_depth\")).otherwise(0)).alias(\"scroll_depth_avg\"),\n",
    "    avg(when(col(\"interaction_type\") == \"copy_text\", get_json_object(df_final.details,\"$.length\")).otherwise(0)).alias(\"copy_length_avg\"),\n",
    "    sum(when(col(\"element_id\") == \"nav_login\", 1).otherwise(0)).alias(\"nav_login_clicks\"),\n",
    "    sum(when(col(\"element_id\") == \"btn_add_to_cart\", 1).otherwise(0)).alias(\"add_to_cart_clicks\"),\n",
    "    sum(when(col(\"element_id\") == \"link_product\", 1).otherwise(0)).alias(\"link_product_clicks\"),\n",
    "    max(when(col(\"element_id\") == \"btn_checkout\", 1).otherwise(0)).alias(\"btn_checkout\"),\n",
    "    max(when(col(\"element_id\") == \"btn_buy\", 1).otherwise(0)).alias(\"btn_buy\")\n",
    ")\n",
    "\n",
    "session_interaction_def.show()\n",
    "print(session_interaction_def.count())"
   ]
  },
  {
   "cell_type": "code",
   "execution_count": 26,
   "id": "a1d5a48b",
   "metadata": {},
   "outputs": [
    {
     "name": "stderr",
     "output_type": "stream",
     "text": [
      "                                                                                \r"
     ]
    }
   ],
   "source": [
    "from pyspark.ml.feature import VectorAssembler\n",
    "from pyspark.ml.feature import StringIndexer\n",
    "\n",
    "label_indexer=StringIndexer(inputCol=\"btn_buy\",outputCol=\"label\")\n",
    "df_label = label_indexer.fit(session_interaction_def).transform(session_interaction_def)\n",
    "\n",
    "assembler = VectorAssembler(inputCols=[\"form_submit_count\",\"nav_login_clicks\",\"add_to_cart_clicks\",\n",
    "                                       \"link_product_clicks\",\"btn_checkout\"], outputCol=\"features\")\n",
    "data_with_features = assembler.transform(df_label).select(\"label\", \"features\")"
   ]
  },
  {
   "cell_type": "code",
   "execution_count": 27,
   "id": "178b8601",
   "metadata": {},
   "outputs": [],
   "source": [
    "train_df, test_df = data_with_features.randomSplit([0.8, 0.2], seed=57)"
   ]
  },
  {
   "cell_type": "code",
   "execution_count": 28,
   "id": "d138afa7",
   "metadata": {},
   "outputs": [],
   "source": [
    "from pyspark.ml.classification import DecisionTreeClassifier\n",
    "dt = DecisionTreeClassifier(labelCol=\"label\", featuresCol=\"features\")"
   ]
  },
  {
   "cell_type": "code",
   "execution_count": 29,
   "id": "c18433a5",
   "metadata": {},
   "outputs": [
    {
     "name": "stderr",
     "output_type": "stream",
     "text": [
      "                                                                                \r"
     ]
    },
    {
     "name": "stdout",
     "output_type": "stream",
     "text": [
      "Decision Tree model summary:DecisionTreeClassificationModel: uid=DecisionTreeClassifier_4545224e9563, depth=5, numNodes=23, numClasses=2, numFeatures=5\n",
      "  If (feature 3 <= 122.5)\n",
      "   If (feature 4 <= 0.5)\n",
      "    If (feature 2 <= 67.0)\n",
      "     Predict: 0.0\n",
      "    Else (feature 2 > 67.0)\n",
      "     If (feature 0 <= 1.0)\n",
      "      If (feature 2 <= 355.0)\n",
      "       Predict: 0.0\n",
      "      Else (feature 2 > 355.0)\n",
      "       Predict: 1.0\n",
      "     Else (feature 0 > 1.0)\n",
      "      Predict: 0.0\n",
      "   Else (feature 4 > 0.5)\n",
      "    If (feature 2 <= 1.5)\n",
      "     If (feature 3 <= 1.5)\n",
      "      Predict: 1.0\n",
      "     Else (feature 3 > 1.5)\n",
      "      If (feature 3 <= 27.0)\n",
      "       Predict: 0.0\n",
      "      Else (feature 3 > 27.0)\n",
      "       Predict: 1.0\n",
      "    Else (feature 2 > 1.5)\n",
      "     Predict: 0.0\n",
      "  Else (feature 3 > 122.5)\n",
      "   If (feature 4 <= 0.5)\n",
      "    Predict: 0.0\n",
      "   Else (feature 4 > 0.5)\n",
      "    If (feature 3 <= 279.0)\n",
      "     If (feature 0 <= 349.0)\n",
      "      Predict: 1.0\n",
      "     Else (feature 0 > 349.0)\n",
      "      Predict: 0.0\n",
      "    Else (feature 3 > 279.0)\n",
      "     Predict: 1.0\n",
      "\n"
     ]
    }
   ],
   "source": [
    "dt_model = dt.fit(train_df)\n",
    "\n",
    "# Display model summary\n",
    "print(\"Decision Tree model summary:{0}\".format(dt_model.toDebugString))"
   ]
  },
  {
   "cell_type": "code",
   "execution_count": 30,
   "id": "d83c773d",
   "metadata": {},
   "outputs": [
    {
     "name": "stderr",
     "output_type": "stream",
     "text": [
      "[Stage 57:================================================>         (5 + 1) / 6]\r"
     ]
    },
    {
     "name": "stdout",
     "output_type": "stream",
     "text": [
      "+--------------------+----------+\n",
      "|            features|prediction|\n",
      "+--------------------+----------+\n",
      "|           (5,[],[])|       0.0|\n",
      "|           (5,[],[])|       0.0|\n",
      "|           (5,[],[])|       0.0|\n",
      "|       (5,[0],[6.0])|       0.0|\n",
      "|     (5,[0],[156.0])|       0.0|\n",
      "|(5,[0,3],[60.0,60...|       0.0|\n",
      "|(5,[0,3],[352.0,3...|       0.0|\n",
      "|       (5,[2],[3.0])|       0.0|\n",
      "|      (5,[2],[15.0])|       0.0|\n",
      "|      (5,[2],[16.0])|       0.0|\n",
      "|      (5,[2],[24.0])|       0.0|\n",
      "|      (5,[2],[60.0])|       0.0|\n",
      "|     (5,[2],[108.0])|       0.0|\n",
      "|     (5,[2],[216.0])|       0.0|\n",
      "|(5,[2,4],[27.0,1.0])|       0.0|\n",
      "|(5,[2,4],[48.0,1.0])|       0.0|\n",
      "|(5,[2,4],[56.0,1.0])|       0.0|\n",
      "|(5,[2,4],[64.0,1.0])|       0.0|\n",
      "|(5,[2,4],[84.0,1.0])|       0.0|\n",
      "|(5,[2,4],[150.0,1...|       0.0|\n",
      "+--------------------+----------+\n",
      "only showing top 20 rows\n",
      "\n"
     ]
    },
    {
     "name": "stderr",
     "output_type": "stream",
     "text": [
      "                                                                                \r"
     ]
    }
   ],
   "source": [
    "# Use the trained model to make predictions on the test data\n",
    "predictions = dt_model.transform(test_df)\n",
    "\n",
    "# Show predictions\n",
    "predictions.select(\"features\", \"prediction\").show()"
   ]
  },
  {
   "cell_type": "code",
   "execution_count": 31,
   "id": "6dc46f9a",
   "metadata": {},
   "outputs": [
    {
     "name": "stderr",
     "output_type": "stream",
     "text": [
      "                                                                                \r"
     ]
    },
    {
     "name": "stdout",
     "output_type": "stream",
     "text": [
      "Accuracy: 0.7901234567901234\n"
     ]
    },
    {
     "name": "stderr",
     "output_type": "stream",
     "text": [
      "                                                                                \r"
     ]
    },
    {
     "name": "stdout",
     "output_type": "stream",
     "text": [
      "Precision: 0.855921855921856\n"
     ]
    },
    {
     "name": "stderr",
     "output_type": "stream",
     "text": [
      "                                                                                \r"
     ]
    },
    {
     "name": "stdout",
     "output_type": "stream",
     "text": [
      "Recall: 0.7901234567901234\n"
     ]
    },
    {
     "name": "stderr",
     "output_type": "stream",
     "text": [
      "[Stage 80:================================================>         (5 + 1) / 6]\r"
     ]
    },
    {
     "name": "stdout",
     "output_type": "stream",
     "text": [
      "F1 Score: 0.7960105968521116\n"
     ]
    },
    {
     "name": "stderr",
     "output_type": "stream",
     "text": [
      "                                                                                \r"
     ]
    }
   ],
   "source": [
    "from pyspark.ml.evaluation import MulticlassClassificationEvaluator\n",
    "\n",
    "evaluator = MulticlassClassificationEvaluator(labelCol=\"label\",\n",
    "                            predictionCol=\"prediction\")\n",
    "\n",
    "accuracy = evaluator.evaluate(predictions, \n",
    "                  {evaluator.metricName: \"accuracy\"})\n",
    "print(f\"Accuracy: {accuracy}\")\n",
    "precision = evaluator.evaluate(predictions,\n",
    "                  {evaluator.metricName: \"weightedPrecision\"})\n",
    "print(f\"Precision: {precision}\")\n",
    "recall = evaluator.evaluate(predictions,\n",
    "                  {evaluator.metricName: \"weightedRecall\"})\n",
    "print(f\"Recall: {recall}\")\n",
    "f1 = evaluator.evaluate(predictions,\n",
    "                {evaluator.metricName: \"f1\"})\n",
    "print(f\"F1 Score: {f1}\")    "
   ]
  },
  {
   "cell_type": "code",
   "execution_count": 18,
   "id": "b8c50723",
   "metadata": {},
   "outputs": [],
   "source": [
    "sc.stop()"
   ]
  }
 ],
 "metadata": {
  "kernelspec": {
   "display_name": "Python 3 (ipykernel)",
   "language": "python",
   "name": "python3"
  },
  "language_info": {
   "codemirror_mode": {
    "name": "ipython",
    "version": 3
   },
   "file_extension": ".py",
   "mimetype": "text/x-python",
   "name": "python",
   "nbconvert_exporter": "python",
   "pygments_lexer": "ipython3",
   "version": "3.11.6"
  }
 },
 "nbformat": 4,
 "nbformat_minor": 5
}
