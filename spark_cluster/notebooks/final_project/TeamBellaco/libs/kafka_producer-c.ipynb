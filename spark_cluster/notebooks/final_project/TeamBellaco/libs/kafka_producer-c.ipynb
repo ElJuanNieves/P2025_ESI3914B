{
 "cells": [
  {
   "cell_type": "markdown",
   "metadata": {},
   "source": [
    "# <center> <img src=\"../../labs/img/ITESOLogo.png\" alt=\"ITESO\" width=\"480\" height=\"130\"> </center>\n",
    "# <center> **Departamento de Electrónica, Sistemas e Informática** </center>\n",
    "---\n",
    "## <center> **Procesamiento de Datos Masivos** </center>\n",
    "---\n",
    "### <center> **Primavera 2025** </center>\n",
    "---\n",
    "### <center> **Kafka Producer: Financial Transaction Generator** </center>\n",
    "\n",
    "---\n",
    "**Profesor**: Dr. Pablo Camarillo Ramirez"
   ]
  },
  {
   "cell_type": "markdown",
   "metadata": {},
   "source": [
    "### Invoke the transaction data generator"
   ]
  },
  {
   "cell_type": "code",
   "execution_count": 1,
   "metadata": {},
   "outputs": [
    {
     "name": "stdout",
     "output_type": "stream",
     "text": [
      "Producing messages to Kafka topic: kafka-spark-producer-C\n",
      "Sent: {'origin_id': 'origin2', 'event_time': '2025-05-02 13:22:24', 'amount': 2994.35776569333}\n",
      "Sent: {'origin_id': 'origin3', 'event_time': '2025-05-02 13:22:26', 'amount': 1627.7871830787458}\n",
      "Sent: {'origin_id': 'origin2', 'event_time': '2025-05-02 13:22:28', 'amount': 4174.047388516557}\n",
      "Sent: {'origin_id': 'origin2', 'event_time': '2025-05-02 13:22:30', 'amount': 3314.856803355507}\n",
      "Sent: {'origin_id': 'origin3', 'event_time': '2025-05-02 13:22:32', 'amount': 2037.9207446334344}\n",
      "Sent: {'origin_id': 'origin3', 'event_time': '2025-05-02 13:22:34', 'amount': 4792.817663340636}\n",
      "Sent: {'origin_id': 'origin1', 'event_time': '2025-05-02 13:22:36', 'amount': 1551.9613137691324}\n",
      "Sent: {'origin_id': 'origin1', 'event_time': '2025-05-02 13:22:38', 'amount': 25.486940924967172}\n",
      "Sent: {'origin_id': 'origin3', 'event_time': '2025-05-02 13:22:40', 'amount': 186.47568115148917}\n",
      "Sent: {'origin_id': 'origin1', 'event_time': '2025-05-02 13:22:42', 'amount': 2994.574678394812}\n",
      "Sent: {'origin_id': 'origin1', 'event_time': '2025-05-02 13:22:44', 'amount': 5310.941653109538}\n",
      "Sent: {'origin_id': 'origin2', 'event_time': '2025-05-02 13:22:46', 'amount': 1645.8711009292222}\n",
      "Sent: {'origin_id': 'origin1', 'event_time': '2025-05-02 13:22:48', 'amount': 3120.5962981213684}\n",
      "Sent: {'origin_id': 'origin1', 'event_time': '2025-05-02 13:22:50', 'amount': 1601.9712705439783}\n",
      "Sent: {'origin_id': 'origin1', 'event_time': '2025-05-02 13:22:52', 'amount': 542.1384913562009}\n",
      "Sent: {'origin_id': 'origin2', 'event_time': '2025-05-02 13:22:54', 'amount': 5109.509091414492}\n",
      "Sent: {'origin_id': 'origin1', 'event_time': '2025-05-02 13:22:56', 'amount': 4015.681622134348}\n",
      "Sent: {'origin_id': 'origin2', 'event_time': '2025-05-02 13:22:58', 'amount': 4745.126650181879}\n",
      "Sent: {'origin_id': 'origin3', 'event_time': '2025-05-02 13:23:00', 'amount': 3791.9982008859815}\n",
      "Sent: {'origin_id': 'origin2', 'event_time': '2025-05-02 13:23:02', 'amount': 3737.0725849845044}\n",
      "Sent: {'origin_id': 'origin3', 'event_time': '2025-05-02 13:23:04', 'amount': 3409.203313616055}\n",
      "Sent: {'origin_id': 'origin3', 'event_time': '2025-05-02 13:23:06', 'amount': 5653.267959663781}\n",
      "Sent: {'origin_id': 'origin2', 'event_time': '2025-05-02 13:23:08', 'amount': 3307.043298306765}\n",
      "Sent: {'origin_id': 'origin1', 'event_time': '2025-05-02 13:23:10', 'amount': 4382.960548482512}\n",
      "Sent: {'origin_id': 'origin1', 'event_time': '2025-05-02 13:23:12', 'amount': 3372.8484311625275}\n",
      "Sent: {'origin_id': 'origin2', 'event_time': '2025-05-02 13:23:14', 'amount': 2043.169740956558}\n",
      "Sent: {'origin_id': 'origin1', 'event_time': '2025-05-02 13:23:16', 'amount': 4351.662987455133}\n",
      "Sent: {'origin_id': 'origin2', 'event_time': '2025-05-02 13:23:18', 'amount': 2133.332908165418}\n",
      "Sent: {'origin_id': 'origin1', 'event_time': '2025-05-02 13:23:20', 'amount': 1281.296908795111}\n",
      "Sent: {'origin_id': 'origin1', 'event_time': '2025-05-02 13:23:22', 'amount': 504.1997601980127}\n",
      "Sent: {'origin_id': 'origin3', 'event_time': '2025-05-02 13:23:24', 'amount': 4849.210095155129}\n",
      "Sent: {'origin_id': 'origin3', 'event_time': '2025-05-02 13:23:26', 'amount': 60.201399077640694}\n",
      "Sent: {'origin_id': 'origin1', 'event_time': '2025-05-02 13:23:28', 'amount': 1161.4985080129914}\n",
      "Sent: {'origin_id': 'origin2', 'event_time': '2025-05-02 13:23:30', 'amount': 5593.6069459154405}\n",
      "Sent: {'origin_id': 'origin2', 'event_time': '2025-05-02 13:23:32', 'amount': 1543.6052191422089}\n",
      "Sent: {'origin_id': 'origin2', 'event_time': '2025-05-02 13:23:34', 'amount': 5253.400326232985}\n"
     ]
    }
   ],
   "source": [
    "from team_name.transaction_generator import generate_transaction_data\n",
    "from kafka import KafkaProducer\n",
    "import time\n",
    "import json\n",
    "import random\n",
    "\n",
    "\n",
    "# Define Kafka server and topic\n",
    "KAFKA_SERVER = '5d8b83ee7fc9:9093'\n",
    "KAFKA_TOPIC = 'kafka-spark-producer-C'\n",
    "NUMBER_MESSAGES_TO_SEND = random.randint(30, 50)\n",
    "\n",
    "# Initialize the Kafka producer\n",
    "producer = KafkaProducer(\n",
    "     bootstrap_servers=KAFKA_SERVER,\n",
    "     value_serializer=lambda v: json.dumps(v).encode('utf-8')  # serialize data as JSON\n",
    ")\n",
    "\n",
    "# Produce data to Kafka topic\n",
    "try:\n",
    "    print(f\"Producing messages to Kafka topic: {KAFKA_TOPIC}\")\n",
    "    for i in range(0, NUMBER_MESSAGES_TO_SEND):\n",
    "        # Generate random transaction data\n",
    "        transaction_data = generate_transaction_data()\n",
    "        \n",
    "        # Send data to Kafka\n",
    "        producer.send(KAFKA_TOPIC, transaction_data)\n",
    "        print(f\"Sent: {transaction_data}\")\n",
    "            \n",
    "        # Sleep for a few seconds before sending the next message\n",
    "        time.sleep(2)\n",
    "\n",
    "except KeyboardInterrupt:\n",
    "    print(\"Stopped producing messages.\")\n",
    "finally:\n",
    "    # Close the Kafka producer\n",
    "    producer.close()"
   ]
  }
 ],
 "metadata": {
  "kernelspec": {
   "display_name": "Python 3 (ipykernel)",
   "language": "python",
   "name": "python3"
  },
  "language_info": {
   "codemirror_mode": {
    "name": "ipython",
    "version": 3
   },
   "file_extension": ".py",
   "mimetype": "text/x-python",
   "name": "python",
   "nbconvert_exporter": "python",
   "pygments_lexer": "ipython3",
   "version": "3.11.6"
  }
 },
 "nbformat": 4,
 "nbformat_minor": 2
}
