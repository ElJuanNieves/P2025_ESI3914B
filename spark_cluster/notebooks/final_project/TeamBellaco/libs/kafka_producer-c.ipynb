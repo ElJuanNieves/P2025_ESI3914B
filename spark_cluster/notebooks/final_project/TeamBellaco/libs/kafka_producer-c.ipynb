{
 "cells": [
  {
   "cell_type": "markdown",
   "metadata": {},
   "source": [
    "# <center> <img src=\"../../labs/img/ITESOLogo.png\" alt=\"ITESO\" width=\"480\" height=\"130\"> </center>\n",
    "# <center> **Departamento de Electrónica, Sistemas e Informática** </center>\n",
    "---\n",
    "## <center> **Procesamiento de Datos Masivos** </center>\n",
    "---\n",
    "### <center> **Primavera 2025** </center>\n",
    "---\n",
    "### <center> **Kafka Producer: Financial Transaction Generator** </center>\n",
    "\n",
    "---\n",
    "**Profesor**: Dr. Pablo Camarillo Ramirez"
   ]
  },
  {
   "cell_type": "markdown",
   "metadata": {},
   "source": [
    "### Invoke the transaction data generator"
   ]
  },
  {
   "cell_type": "code",
   "execution_count": 1,
   "metadata": {},
   "outputs": [
    {
     "name": "stdout",
     "output_type": "stream",
     "text": [
      "Producing messages to Kafka topic: kafka-spark-producer-C\n",
      "Sent: {'id': 'series_20250505220252204698_7cf9b4c2', 'type': 'series', 'timestamp': '2025-05-05T22:02:52.205091', 'titulo': 'Serie_9bf091', 'generos': ['Familiar', 'Ciencia Ficción'], 'directores': ['Federico Fellini'], 'actores': ['Saoirse Ronan', 'Timothée Chalamet', 'Idris Elba', 'Julianne Moore', 'Brad Pitt', 'Mahershala Ali', 'Charlize Theron', 'Penélope Cruz', \"Lupita Nyong'o\", 'Denzel Washington', 'Emma Stone', 'Scarlett Johansson', 'Angelina Jolie'], 'clasificacion': 'PG', 'decada_lanzamiento': '2020', 'numero_temporadas': 3, 'numero_episodios': 40, 'nombre_usuario': 'n/a', 'fecha_suscripcion': 'n/a', 'decadas_favoritas': 'n/a'}\n",
      "Sent: {'id': 'series_20250505220254310485_47db7e22', 'type': 'series', 'timestamp': '2025-05-05T22:02:54.310569', 'titulo': 'Serie_3e215c', 'generos': ['Thriller'], 'directores': ['David Lynch'], 'actores': ['Anthony Hopkins', 'Denzel Washington', 'Cate Blanchett', 'Leonardo DiCaprio', 'Christian Bale', 'Meryl Streep', 'Idris Elba', 'Tom Hanks', 'Timothée Chalamet', 'Naomi Watts', 'Javier Bardem', 'Scarlett Johansson', 'Joaquin Phoenix'], 'clasificacion': 'TV-14', 'decada_lanzamiento': '1980', 'numero_temporadas': 2, 'numero_episodios': 34, 'nombre_usuario': 'n/a', 'fecha_suscripcion': 'n/a', 'decadas_favoritas': 'n/a'}\n",
      "Sent: {'id': 'series_20250505220256310123_250f06d5', 'type': 'series', 'timestamp': '2025-05-05T22:02:56.310207', 'titulo': 'Serie_6ea170', 'generos': ['Acción', 'Ciencia Ficción'], 'directores': ['Jordan Peele', 'Greta Gerwig', 'Bong Joon-ho'], 'actores': ['Scarlett Johansson', 'Leonardo DiCaprio', \"Lupita Nyong'o\", 'Viola Davis', 'Anthony Hopkins', 'Mahershala Ali', 'Charlize Theron', 'Joaquin Phoenix', 'Christian Bale', 'Angelina Jolie', 'Emma Stone', 'Brad Pitt', 'Javier Bardem'], 'clasificacion': 'TV-MA', 'decada_lanzamiento': '1980', 'numero_temporadas': 6, 'numero_episodios': 53, 'nombre_usuario': 'n/a', 'fecha_suscripcion': 'n/a', 'decadas_favoritas': 'n/a'}\n",
      "Sent: {'id': 'series_20250505220258311334_013fa2d1', 'type': 'series', 'timestamp': '2025-05-05T22:02:58.311419', 'titulo': 'Serie_4bd1f4', 'generos': ['Terror', 'Familiar'], 'directores': ['Spike Lee', 'Ridley Scott'], 'actores': ['Natalie Portman', 'Tom Hanks', 'Cate Blanchett', 'Mahershala Ali', 'Naomi Watts', \"Lupita Nyong'o\", 'Anthony Hopkins', 'Timothée Chalamet', 'Robert Downey Jr.'], 'clasificacion': 'G', 'decada_lanzamiento': '2020', 'numero_temporadas': 3, 'numero_episodios': 39, 'nombre_usuario': 'n/a', 'fecha_suscripcion': 'n/a', 'decadas_favoritas': 'n/a'}\n",
      "Sent: {'id': 'series_20250505220300311957_a94eace2', 'type': 'series', 'timestamp': '2025-05-05T22:03:00.312022', 'titulo': 'Serie_7812d4', 'generos': ['Animación', 'Indie'], 'directores': ['Jordan Peele'], 'actores': [\"Lupita Nyong'o\", 'Viola Davis', 'Scarlett Johansson', 'Julianne Moore', 'Ryan Gosling'], 'clasificacion': 'TV-14', 'decada_lanzamiento': '2020', 'numero_temporadas': 1, 'numero_episodios': 12, 'nombre_usuario': 'n/a', 'fecha_suscripcion': 'n/a', 'decadas_favoritas': 'n/a'}\n",
      "Sent: {'id': 'series_20250505220302312575_87b2dbd8', 'type': 'series', 'timestamp': '2025-05-05T22:03:02.312686', 'titulo': 'Serie_be9c17', 'generos': ['Histórico', 'Terror'], 'directores': ['Spike Lee', 'Pedro Almodóvar', 'Sofia Coppola', 'Alfonso Cuarón'], 'actores': ['Timothée Chalamet', 'Leonardo DiCaprio', 'Uma Thurman', 'Penélope Cruz', 'Mahershala Ali', 'Tom Hanks', 'Robert Downey Jr.', \"Lupita Nyong'o\", 'Julianne Moore', 'Natalie Portman', 'Denzel Washington'], 'clasificacion': 'TV-G', 'decada_lanzamiento': '1970', 'numero_temporadas': 9, 'numero_episodios': 187, 'nombre_usuario': 'n/a', 'fecha_suscripcion': 'n/a', 'decadas_favoritas': 'n/a'}\n",
      "Sent: {'id': 'series_20250505220304313366_15d94b09', 'type': 'series', 'timestamp': '2025-05-05T22:03:04.313489', 'titulo': 'Serie_5ef252', 'generos': ['Documental', 'Animación'], 'directores': ['Hayao Miyazaki', 'Steven Spielberg'], 'actores': ['Timothée Chalamet', 'Charlize Theron', 'Cate Blanchett', 'Emma Stone', 'Idris Elba', 'Anthony Hopkins', 'Denzel Washington', 'Tom Hanks', 'Christian Bale', 'Penélope Cruz', 'Natalie Portman', 'Mahershala Ali', 'Uma Thurman'], 'clasificacion': 'TV-PG', 'decada_lanzamiento': '1980', 'numero_temporadas': 1, 'numero_episodios': 10, 'nombre_usuario': 'n/a', 'fecha_suscripcion': 'n/a', 'decadas_favoritas': 'n/a'}\n",
      "Sent: {'id': 'series_20250505220306314423_c5b838d9', 'type': 'series', 'timestamp': '2025-05-05T22:03:06.314530', 'titulo': 'Serie_50f1e7', 'generos': ['Fantasía'], 'directores': ['James Cameron', 'Quentin Tarantino'], 'actores': ['Cate Blanchett', 'Julianne Moore', 'Naomi Watts', 'Timothée Chalamet', 'Saoirse Ronan', 'Idris Elba'], 'clasificacion': 'PG-13', 'decada_lanzamiento': '2000', 'numero_temporadas': 6, 'numero_episodios': 56, 'nombre_usuario': 'n/a', 'fecha_suscripcion': 'n/a', 'decadas_favoritas': 'n/a'}\n",
      "Sent: {'id': 'series_20250505220308316092_f46b977a', 'type': 'series', 'timestamp': '2025-05-05T22:03:08.316187', 'titulo': 'Serie_634bd2', 'generos': ['Crimen'], 'directores': ['Taika Waititi'], 'actores': ['Meryl Streep', 'Penélope Cruz', 'Naomi Watts', 'Brad Pitt', 'Ethan Hawke', 'Julianne Moore', 'Idris Elba', 'Christian Bale', 'Natalie Portman', 'Ryan Gosling', 'Angelina Jolie'], 'clasificacion': 'PG-13', 'decada_lanzamiento': '1980', 'numero_temporadas': 1, 'numero_episodios': 12, 'nombre_usuario': 'n/a', 'fecha_suscripcion': 'n/a', 'decadas_favoritas': 'n/a'}\n",
      "Sent: {'id': 'series_20250505220310316865_c4af51b8', 'type': 'series', 'timestamp': '2025-05-05T22:03:10.316955', 'titulo': 'Serie_c3132b', 'generos': ['Bélico', 'Drama', 'Acción'], 'directores': ['Francis Ford Coppola', 'Denis Villeneuve'], 'actores': ['Keanu Reeves', 'Joaquin Phoenix', 'Christian Bale', 'Javier Bardem', 'Leonardo DiCaprio', 'Viola Davis', 'Mahershala Ali', 'Uma Thurman', 'Natalie Portman', 'Emma Stone'], 'clasificacion': 'NC-17', 'decada_lanzamiento': '2020', 'numero_temporadas': 4, 'numero_episodios': 65, 'nombre_usuario': 'n/a', 'fecha_suscripcion': 'n/a', 'decadas_favoritas': 'n/a'}\n",
      "Sent: {'id': 'series_20250505220312318054_af1f7c20', 'type': 'series', 'timestamp': '2025-05-05T22:03:12.318112', 'titulo': 'Serie_6141cc', 'generos': ['Indie'], 'directores': ['Martin Scorsese', 'Quentin Tarantino'], 'actores': ['Emma Stone', 'Viola Davis', 'Leonardo DiCaprio', 'Naomi Watts', 'Christian Bale', 'Angelina Jolie', 'Ryan Gosling', 'Timothée Chalamet', 'Brad Pitt', 'Tom Hanks', 'Cate Blanchett', 'Julianne Moore'], 'clasificacion': 'TV-Y', 'decada_lanzamiento': '2010', 'numero_temporadas': 8, 'numero_episodios': 173, 'nombre_usuario': 'n/a', 'fecha_suscripcion': 'n/a', 'decadas_favoritas': 'n/a'}\n",
      "Sent: {'id': 'series_20250505220314319345_a21385da', 'type': 'series', 'timestamp': '2025-05-05T22:03:14.319426', 'titulo': 'Serie_a10f06', 'generos': ['Musical', 'Thriller', 'Indie'], 'directores': ['Greta Gerwig', 'Guillermo del Toro', 'Federico Fellini'], 'actores': ['Meryl Streep', 'Joaquin Phoenix', 'Brad Pitt', 'Christian Bale', 'Robert Downey Jr.'], 'clasificacion': 'G', 'decada_lanzamiento': '2020', 'numero_temporadas': 6, 'numero_episodios': 67, 'nombre_usuario': 'n/a', 'fecha_suscripcion': 'n/a', 'decadas_favoritas': 'n/a'}\n",
      "Sent: {'id': 'series_20250505220316320393_71e91c79', 'type': 'series', 'timestamp': '2025-05-05T22:03:16.320488', 'titulo': 'Serie_7b90d1', 'generos': ['Western', 'Romance'], 'directores': ['Quentin Tarantino', 'Greta Gerwig', 'Francis Ford Coppola', 'Spike Lee'], 'actores': ['Javier Bardem', 'Emma Stone', 'Saoirse Ronan', 'Robert Downey Jr.', 'Ryan Gosling', 'Keanu Reeves', 'Tom Hanks', 'Florence Pugh', 'Christian Bale'], 'clasificacion': 'PG', 'decada_lanzamiento': '2010', 'numero_temporadas': 7, 'numero_episodios': 122, 'nombre_usuario': 'n/a', 'fecha_suscripcion': 'n/a', 'decadas_favoritas': 'n/a'}\n",
      "Sent: {'id': 'series_20250505220318321354_e5c42536', 'type': 'series', 'timestamp': '2025-05-05T22:03:18.321442', 'titulo': 'Serie_9ac768', 'generos': ['Terror', 'Comedia'], 'directores': ['Spike Lee', 'Denis Villeneuve', 'Jordan Peele', 'Stanley Kubrick'], 'actores': ['Christian Bale', 'Anthony Hopkins', 'Penélope Cruz', 'Javier Bardem', 'Brad Pitt', 'Julianne Moore', 'Angelina Jolie', 'Emma Stone', 'Denzel Washington'], 'clasificacion': 'NC-17', 'decada_lanzamiento': '2010', 'numero_temporadas': 6, 'numero_episodios': 111, 'nombre_usuario': 'n/a', 'fecha_suscripcion': 'n/a', 'decadas_favoritas': 'n/a'}\n",
      "Sent: {'id': 'series_20250505220320321886_80475001', 'type': 'series', 'timestamp': '2025-05-05T22:03:20.321962', 'titulo': 'Serie_dc734c', 'generos': ['Deportivo', 'Comedia'], 'directores': ['Ingmar Bergman', 'George Miller', 'Taika Waititi', 'Jordan Peele'], 'actores': ['Timothée Chalamet', \"Lupita Nyong'o\", 'Naomi Watts', 'Meryl Streep', 'Viola Davis', 'Christian Bale', 'Ryan Gosling', 'Ethan Hawke', 'Julianne Moore', 'Javier Bardem', 'Saoirse Ronan', 'Mahershala Ali'], 'clasificacion': 'PG-13', 'decada_lanzamiento': '1990', 'numero_temporadas': 10, 'numero_episodios': 87, 'nombre_usuario': 'n/a', 'fecha_suscripcion': 'n/a', 'decadas_favoritas': 'n/a'}\n",
      "Sent: {'id': 'series_20250505220322323300_efa52285', 'type': 'series', 'timestamp': '2025-05-05T22:03:22.323388', 'titulo': 'Serie_0870f7', 'generos': ['Deportivo', 'Histórico', 'Indie'], 'directores': ['Denis Villeneuve', 'Akira Kurosawa', 'Jordan Peele', 'Spike Lee'], 'actores': [\"Lupita Nyong'o\", 'Cate Blanchett', 'Natalie Portman', 'Mahershala Ali', 'Meryl Streep'], 'clasificacion': 'R', 'decada_lanzamiento': '1980', 'numero_temporadas': 1, 'numero_episodios': 22, 'nombre_usuario': 'n/a', 'fecha_suscripcion': 'n/a', 'decadas_favoritas': 'n/a'}\n",
      "Sent: {'id': 'series_20250505220324324094_c5c4068f', 'type': 'series', 'timestamp': '2025-05-05T22:03:24.324175', 'titulo': 'Serie_497929', 'generos': ['Deportivo', 'Musical', 'Fantasía'], 'directores': ['Alfonso Cuarón', 'Bong Joon-ho'], 'actores': ['Denzel Washington', 'Uma Thurman', 'Meryl Streep', 'Ryan Gosling', 'Leonardo DiCaprio', 'Charlize Theron', 'Emma Stone', 'Penélope Cruz', 'Natalie Portman', 'Saoirse Ronan', 'Angelina Jolie', 'Ethan Hawke', 'Scarlett Johansson'], 'clasificacion': 'PG-13', 'decada_lanzamiento': '1980', 'numero_temporadas': 9, 'numero_episodios': 127, 'nombre_usuario': 'n/a', 'fecha_suscripcion': 'n/a', 'decadas_favoritas': 'n/a'}\n",
      "Sent: {'id': 'series_20250505220326323680_366c4791', 'type': 'series', 'timestamp': '2025-05-05T22:03:26.323759', 'titulo': 'Serie_380f67', 'generos': ['Romance'], 'directores': ['Hayao Miyazaki', 'Park Chan-wook'], 'actores': ['Mahershala Ali', 'Scarlett Johansson', 'Naomi Watts', 'Saoirse Ronan', 'Brad Pitt', 'Emma Stone', 'Tom Hanks', 'Leonardo DiCaprio', 'Meryl Streep', 'Penélope Cruz', 'Timothée Chalamet', 'Keanu Reeves'], 'clasificacion': 'NC-17', 'decada_lanzamiento': '1970', 'numero_temporadas': 4, 'numero_episodios': 82, 'nombre_usuario': 'n/a', 'fecha_suscripcion': 'n/a', 'decadas_favoritas': 'n/a'}\n",
      "Sent: {'id': 'series_20250505220328324451_5148d166', 'type': 'series', 'timestamp': '2025-05-05T22:03:28.324543', 'titulo': 'Serie_442a04', 'generos': ['Familiar', 'Musical'], 'directores': ['Christopher Nolan'], 'actores': ['Ethan Hawke', 'Scarlett Johansson', 'Denzel Washington', 'Anthony Hopkins', 'Joaquin Phoenix', 'Cate Blanchett', 'Ryan Gosling'], 'clasificacion': 'PG', 'decada_lanzamiento': '2000', 'numero_temporadas': 4, 'numero_episodios': 70, 'nombre_usuario': 'n/a', 'fecha_suscripcion': 'n/a', 'decadas_favoritas': 'n/a'}\n",
      "Sent: {'id': 'series_20250505220330325206_7f43ffac', 'type': 'series', 'timestamp': '2025-05-05T22:03:30.325283', 'titulo': 'Serie_50e659', 'generos': ['Crimen'], 'directores': ['Bong Joon-ho', 'Ingmar Bergman', 'David Lynch', 'Spike Lee'], 'actores': ['Robert Downey Jr.', 'Saoirse Ronan', 'Scarlett Johansson', 'Meryl Streep', 'Anthony Hopkins', 'Natalie Portman', 'Emma Stone', 'Julianne Moore', 'Ethan Hawke', 'Viola Davis', 'Ryan Gosling', 'Cate Blanchett', 'Mahershala Ali', 'Keanu Reeves', 'Idris Elba'], 'clasificacion': 'TV-Y', 'decada_lanzamiento': '1990', 'numero_temporadas': 1, 'numero_episodios': 13, 'nombre_usuario': 'n/a', 'fecha_suscripcion': 'n/a', 'decadas_favoritas': 'n/a'}\n",
      "Sent: {'id': 'series_20250505220332325813_cd950364', 'type': 'series', 'timestamp': '2025-05-05T22:03:32.325883', 'titulo': 'Serie_97b507', 'generos': ['Familiar', 'Indie'], 'directores': ['Hayao Miyazaki', 'Alfonso Cuarón', 'Pedro Almodóvar', 'Martin Scorsese'], 'actores': ['Viola Davis', 'Charlize Theron', 'Denzel Washington', 'Meryl Streep', 'Leonardo DiCaprio', 'Brad Pitt', 'Mahershala Ali', 'Scarlett Johansson', 'Timothée Chalamet', 'Uma Thurman', 'Robert Downey Jr.', 'Christian Bale', 'Tom Hanks', 'Julianne Moore'], 'clasificacion': 'TV-Y', 'decada_lanzamiento': '1970', 'numero_temporadas': 10, 'numero_episodios': 62, 'nombre_usuario': 'n/a', 'fecha_suscripcion': 'n/a', 'decadas_favoritas': 'n/a'}\n",
      "Sent: {'id': 'series_20250505220334326596_9bc44410', 'type': 'series', 'timestamp': '2025-05-05T22:03:34.326690', 'titulo': 'Serie_6d8666', 'generos': ['Acción'], 'directores': ['Pedro Almodóvar', 'James Cameron', 'Francis Ford Coppola', 'Guillermo del Toro'], 'actores': ['Angelina Jolie', 'Cate Blanchett', 'Natalie Portman', 'Christian Bale', 'Keanu Reeves', 'Anthony Hopkins', 'Tom Hanks', 'Denzel Washington', 'Meryl Streep', 'Uma Thurman', 'Robert Downey Jr.', 'Ethan Hawke', 'Viola Davis', 'Joaquin Phoenix'], 'clasificacion': 'PG-13', 'decada_lanzamiento': '2000', 'numero_temporadas': 1, 'numero_episodios': 7, 'nombre_usuario': 'n/a', 'fecha_suscripcion': 'n/a', 'decadas_favoritas': 'n/a'}\n",
      "Sent: {'id': 'series_20250505220336328134_c0236d78', 'type': 'series', 'timestamp': '2025-05-05T22:03:36.328250', 'titulo': 'Serie_5406b0', 'generos': ['Bélico', 'Comedia', 'Terror'], 'directores': ['Francis Ford Coppola', 'Steven Spielberg'], 'actores': ['Anthony Hopkins', 'Keanu Reeves', 'Leonardo DiCaprio', 'Viola Davis', 'Emma Stone', 'Penélope Cruz'], 'clasificacion': 'PG-13', 'decada_lanzamiento': '1980', 'numero_temporadas': 8, 'numero_episodios': 59, 'nombre_usuario': 'n/a', 'fecha_suscripcion': 'n/a', 'decadas_favoritas': 'n/a'}\n",
      "Sent: {'id': 'series_20250505220338329261_3e24d6bb', 'type': 'series', 'timestamp': '2025-05-05T22:03:38.329359', 'titulo': 'Serie_caad33', 'generos': ['Acción', 'Histórico', 'Thriller'], 'directores': ['Ingmar Bergman', 'Quentin Tarantino', 'Guillermo del Toro'], 'actores': ['Emma Stone', 'Timothée Chalamet', 'Mahershala Ali', 'Anthony Hopkins', 'Penélope Cruz'], 'clasificacion': 'TV-MA', 'decada_lanzamiento': '1980', 'numero_temporadas': 2, 'numero_episodios': 25, 'nombre_usuario': 'n/a', 'fecha_suscripcion': 'n/a', 'decadas_favoritas': 'n/a'}\n",
      "Sent: {'id': 'series_20250505220340330128_e0ab6ed7', 'type': 'series', 'timestamp': '2025-05-05T22:03:40.330209', 'titulo': 'Serie_0095e3', 'generos': ['Documental'], 'directores': ['Akira Kurosawa', 'George Miller'], 'actores': ['Emma Stone', 'Penélope Cruz', 'Natalie Portman', 'Christian Bale', 'Meryl Streep', 'Angelina Jolie'], 'clasificacion': 'PG', 'decada_lanzamiento': '2010', 'numero_temporadas': 3, 'numero_episodios': 50, 'nombre_usuario': 'n/a', 'fecha_suscripcion': 'n/a', 'decadas_favoritas': 'n/a'}\n",
      "Sent: {'id': 'series_20250505220342331567_bc9533af', 'type': 'series', 'timestamp': '2025-05-05T22:03:42.331646', 'titulo': 'Serie_29a782', 'generos': ['Indie', 'Ciencia Ficción'], 'directores': ['David Lynch', 'George Miller'], 'actores': ['Tom Hanks', 'Leonardo DiCaprio', 'Viola Davis', 'Keanu Reeves', 'Angelina Jolie', 'Cate Blanchett', 'Joaquin Phoenix'], 'clasificacion': 'NC-17', 'decada_lanzamiento': '1990', 'numero_temporadas': 1, 'numero_episodios': 22, 'nombre_usuario': 'n/a', 'fecha_suscripcion': 'n/a', 'decadas_favoritas': 'n/a'}\n",
      "Sent: {'id': 'series_20250505220344332586_4b635019', 'type': 'series', 'timestamp': '2025-05-05T22:03:44.332672', 'titulo': 'Serie_6acedf', 'generos': ['Acción', 'Fantasía'], 'directores': ['Park Chan-wook', 'Hayao Miyazaki'], 'actores': ['Ryan Gosling', 'Naomi Watts', 'Meryl Streep', 'Keanu Reeves', 'Joaquin Phoenix', 'Timothée Chalamet', 'Leonardo DiCaprio'], 'clasificacion': 'G', 'decada_lanzamiento': '1990', 'numero_temporadas': 2, 'numero_episodios': 37, 'nombre_usuario': 'n/a', 'fecha_suscripcion': 'n/a', 'decadas_favoritas': 'n/a'}\n",
      "Sent: {'id': 'series_20250505220346333971_a79246ab', 'type': 'series', 'timestamp': '2025-05-05T22:03:46.334063', 'titulo': 'Serie_7e930c', 'generos': ['Western'], 'directores': ['Quentin Tarantino', 'George Miller'], 'actores': ['Javier Bardem', 'Denzel Washington', 'Tom Hanks', 'Charlize Theron', 'Julianne Moore', 'Idris Elba', 'Florence Pugh', 'Anthony Hopkins', 'Viola Davis', \"Lupita Nyong'o\", 'Naomi Watts', 'Brad Pitt', 'Robert Downey Jr.', 'Cate Blanchett', 'Ryan Gosling'], 'clasificacion': 'G', 'decada_lanzamiento': '2000', 'numero_temporadas': 8, 'numero_episodios': 192, 'nombre_usuario': 'n/a', 'fecha_suscripcion': 'n/a', 'decadas_favoritas': 'n/a'}\n",
      "Sent: {'id': 'series_20250505220348334775_4f202cc7', 'type': 'series', 'timestamp': '2025-05-05T22:03:48.334853', 'titulo': 'Serie_88aeb3', 'generos': ['Drama', 'Fantasía', 'Crimen'], 'directores': ['Stanley Kubrick', 'Federico Fellini', 'Spike Lee', 'Taika Waititi'], 'actores': ['Robert Downey Jr.', 'Charlize Theron', 'Scarlett Johansson', 'Ethan Hawke', 'Angelina Jolie', 'Timothée Chalamet', 'Naomi Watts', 'Tom Hanks', 'Emma Stone', 'Julianne Moore', 'Uma Thurman', 'Brad Pitt'], 'clasificacion': 'PG-13', 'decada_lanzamiento': '2010', 'numero_temporadas': 2, 'numero_episodios': 42, 'nombre_usuario': 'n/a', 'fecha_suscripcion': 'n/a', 'decadas_favoritas': 'n/a'}\n",
      "Sent: {'id': 'series_20250505220350335723_f065692f', 'type': 'series', 'timestamp': '2025-05-05T22:03:50.335818', 'titulo': 'Serie_83e5f3', 'generos': ['Western', 'Animación'], 'directores': ['Paul Thomas Anderson', 'Jordan Peele'], 'actores': ['Timothée Chalamet', 'Meryl Streep', 'Ethan Hawke', 'Naomi Watts', 'Christian Bale', 'Javier Bardem', 'Natalie Portman', \"Lupita Nyong'o\"], 'clasificacion': 'G', 'decada_lanzamiento': '1990', 'numero_temporadas': 9, 'numero_episodios': 151, 'nombre_usuario': 'n/a', 'fecha_suscripcion': 'n/a', 'decadas_favoritas': 'n/a'}\n",
      "Sent: {'id': 'series_20250505220352336937_4db7d70b', 'type': 'series', 'timestamp': '2025-05-05T22:03:52.337035', 'titulo': 'Serie_f5ae0d', 'generos': ['Bélico'], 'directores': ['Kathryn Bigelow'], 'actores': ['Anthony Hopkins', 'Charlize Theron', 'Ryan Gosling', 'Angelina Jolie', 'Meryl Streep', 'Javier Bardem', 'Denzel Washington', 'Julianne Moore', 'Viola Davis', 'Keanu Reeves', 'Penélope Cruz', 'Naomi Watts'], 'clasificacion': 'TV-MA', 'decada_lanzamiento': '1980', 'numero_temporadas': 1, 'numero_episodios': 11, 'nombre_usuario': 'n/a', 'fecha_suscripcion': 'n/a', 'decadas_favoritas': 'n/a'}\n",
      "Sent: {'id': 'series_20250505220354338736_b38f3174', 'type': 'series', 'timestamp': '2025-05-05T22:03:54.338820', 'titulo': 'Serie_7e5a2b', 'generos': ['Musical', 'Fantasía'], 'directores': ['Stanley Kubrick', 'Martin Scorsese'], 'actores': ['Leonardo DiCaprio', 'Viola Davis', \"Lupita Nyong'o\", 'Angelina Jolie', 'Meryl Streep', 'Julianne Moore', 'Timothée Chalamet'], 'clasificacion': 'PG-13', 'decada_lanzamiento': '1970', 'numero_temporadas': 6, 'numero_episodios': 122, 'nombre_usuario': 'n/a', 'fecha_suscripcion': 'n/a', 'decadas_favoritas': 'n/a'}\n",
      "Sent: {'id': 'series_20250505220356337974_31706b07', 'type': 'series', 'timestamp': '2025-05-05T22:03:56.338084', 'titulo': 'Serie_66d372', 'generos': ['Terror', 'Histórico', 'Animación'], 'directores': ['Wes Anderson'], 'actores': ['Cate Blanchett', 'Scarlett Johansson', 'Brad Pitt', 'Ryan Gosling', 'Keanu Reeves', 'Charlize Theron', 'Timothée Chalamet', 'Idris Elba', 'Mahershala Ali', 'Penélope Cruz', 'Florence Pugh', 'Emma Stone', \"Lupita Nyong'o\", 'Tom Hanks'], 'clasificacion': 'TV-Y', 'decada_lanzamiento': '1980', 'numero_temporadas': 5, 'numero_episodios': 40, 'nombre_usuario': 'n/a', 'fecha_suscripcion': 'n/a', 'decadas_favoritas': 'n/a'}\n",
      "Sent: {'id': 'series_20250505220358339691_dc36e7ff', 'type': 'series', 'timestamp': '2025-05-05T22:03:58.339776', 'titulo': 'Serie_6c5c59', 'generos': ['Histórico', 'Bélico'], 'directores': ['Ridley Scott', 'Wes Anderson'], 'actores': ['Natalie Portman', 'Keanu Reeves', 'Anthony Hopkins', 'Viola Davis', 'Charlize Theron', 'Ryan Gosling', 'Christian Bale', 'Angelina Jolie', 'Joaquin Phoenix', 'Penélope Cruz', 'Julianne Moore', 'Idris Elba', 'Cate Blanchett', 'Javier Bardem'], 'clasificacion': 'TV-G', 'decada_lanzamiento': '1990', 'numero_temporadas': 7, 'numero_episodios': 134, 'nombre_usuario': 'n/a', 'fecha_suscripcion': 'n/a', 'decadas_favoritas': 'n/a'}\n",
      "Sent: {'id': 'series_20250505220400340482_9aa0f951', 'type': 'series', 'timestamp': '2025-05-05T22:04:00.340566', 'titulo': 'Serie_d931bc', 'generos': ['Western', 'Terror'], 'directores': ['Taika Waititi', 'Guillermo del Toro'], 'actores': ['Meryl Streep', 'Uma Thurman', 'Timothée Chalamet', 'Leonardo DiCaprio', 'Penélope Cruz', 'Idris Elba', 'Tom Hanks'], 'clasificacion': 'NC-17', 'decada_lanzamiento': '1970', 'numero_temporadas': 5, 'numero_episodios': 47, 'nombre_usuario': 'n/a', 'fecha_suscripcion': 'n/a', 'decadas_favoritas': 'n/a'}\n"
     ]
    }
   ],
   "source": [
    "from notebooks.final_project.TeamBellaco.libs import data_gen\n",
    "from kafka import KafkaProducer\n",
    "import time\n",
    "import json\n",
    "import random\n",
    "\n",
    "\n",
    "# Define Kafka server and topic\n",
    "KAFKA_SERVER = '5d8b83ee7fc9:9093'\n",
    "KAFKA_TOPIC = 'kafka-spark-producer-C'\n",
    "NUMBER_MESSAGES_TO_SEND = random.randint(30, 50)\n",
    "\n",
    "# Initialize the Kafka producer\n",
    "producer = KafkaProducer(\n",
    "     bootstrap_servers=KAFKA_SERVER,\n",
    "     value_serializer=lambda v: json.dumps(v).encode('utf-8')  # serialize data as JSON\n",
    ")\n",
    "\n",
    "# Produce data to Kafka topic\n",
    "try:\n",
    "    print(f\"Producing messages to Kafka topic: {KAFKA_TOPIC}\")\n",
    "    for i in range(0, NUMBER_MESSAGES_TO_SEND):\n",
    "        # Generate random transaction data\n",
    "        transaction_data = data_gen.generar_datos_serie()\n",
    "        \n",
    "        # Send data to Kafka\n",
    "        producer.send(KAFKA_TOPIC, transaction_data)\n",
    "        print(f\"Sent: {transaction_data}\")\n",
    "            \n",
    "        # Sleep for a few seconds before sending the next message\n",
    "        time.sleep(2)\n",
    "\n",
    "except KeyboardInterrupt:\n",
    "    print(\"Stopped producing messages.\")\n",
    "finally:\n",
    "    # Close the Kafka producer\n",
    "    producer.close()"
   ]
  }
 ],
 "metadata": {
  "kernelspec": {
   "display_name": "Python 3 (ipykernel)",
   "language": "python",
   "name": "python3"
  },
  "language_info": {
   "codemirror_mode": {
    "name": "ipython",
    "version": 3
   },
   "file_extension": ".py",
   "mimetype": "text/x-python",
   "name": "python",
   "nbconvert_exporter": "python",
   "pygments_lexer": "ipython3",
   "version": "3.11.6"
  }
 },
 "nbformat": 4,
 "nbformat_minor": 2
}
