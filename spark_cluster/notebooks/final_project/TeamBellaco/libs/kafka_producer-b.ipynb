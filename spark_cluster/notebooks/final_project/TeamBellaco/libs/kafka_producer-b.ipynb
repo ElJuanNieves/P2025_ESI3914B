{
 "cells": [
  {
   "cell_type": "markdown",
   "metadata": {},
   "source": [
    "# <center> <img src=\"../../labs/img/ITESOLogo.png\" alt=\"ITESO\" width=\"480\" height=\"130\"> </center>\n",
    "# <center> **Departamento de Electrónica, Sistemas e Informática** </center>\n",
    "---\n",
    "## <center> **Procesamiento de Datos Masivos** </center>\n",
    "---\n",
    "### <center> **Primavera 2025** </center>\n",
    "---\n",
    "### <center> **Kafka Producer: Financial Transaction Generator** </center>\n",
    "\n",
    "---\n",
    "**Profesor**: Dr. Pablo Camarillo Ramirez"
   ]
  },
  {
   "cell_type": "markdown",
   "metadata": {},
   "source": [
    "### Invoke the transaction data generator"
   ]
  },
  {
   "cell_type": "code",
   "execution_count": 1,
   "metadata": {},
   "outputs": [
    {
     "name": "stdout",
     "output_type": "stream",
     "text": [
      "Producing messages to Kafka topic: kafka-spark-producer-B\n",
      "Sent: {'id': 'user_20250505220232327958_f0fd5c60', 'type': 'user', 'timestamp': '2025-05-05T22:02:32.328012', 'nombre_usuario': 'usuario_cbd2dc93', 'fecha_suscripcion': '2025-05-05', 'generos': ['Comedia', 'Drama', 'Familiar'], 'directores': ['Paul Thomas Anderson'], 'actores': ['Ryan Gosling', 'Javier Bardem', 'Viola Davis', 'Robert Downey Jr.'], 'clasificacion': 'G', 'decadas_favoritas': ['1990'], 'titulo': 'n/a', 'decada_lanzamiento': 'n/a', 'numero_temporadas': 'n/a', 'numero_episodios': 'n/a'}\n",
      "Sent: {'id': 'user_20250505220234432877_35a56d21', 'type': 'user', 'timestamp': '2025-05-05T22:02:34.432968', 'nombre_usuario': 'usuario_e14dd6b4', 'fecha_suscripcion': '2025-05-05', 'generos': ['Romance'], 'directores': ['Hayao Miyazaki', 'Paul Thomas Anderson'], 'actores': ['Keanu Reeves', 'Joaquin Phoenix', 'Penélope Cruz'], 'clasificacion': 'TV-MA', 'decadas_favoritas': ['1990', '2020'], 'titulo': 'n/a', 'decada_lanzamiento': 'n/a', 'numero_temporadas': 'n/a', 'numero_episodios': 'n/a'}\n",
      "Sent: {'id': 'user_20250505220236433727_d8960d6a', 'type': 'user', 'timestamp': '2025-05-05T22:02:36.433810', 'nombre_usuario': 'usuario_bb90587d', 'fecha_suscripcion': '2025-05-05', 'generos': ['Fantasía', 'Documental', 'Indie'], 'directores': ['James Cameron'], 'actores': ['Joaquin Phoenix', 'Tom Hanks'], 'clasificacion': 'TV-Y', 'decadas_favoritas': ['2000'], 'titulo': 'n/a', 'decada_lanzamiento': 'n/a', 'numero_temporadas': 'n/a', 'numero_episodios': 'n/a'}\n",
      "Sent: {'id': 'user_20250505220238434840_eb8fc55d', 'type': 'user', 'timestamp': '2025-05-05T22:02:38.434923', 'nombre_usuario': 'usuario_e07b354e', 'fecha_suscripcion': '2025-05-05', 'generos': ['Romance'], 'directores': ['Federico Fellini'], 'actores': ['Scarlett Johansson', 'Ethan Hawke', 'Uma Thurman', 'Denzel Washington'], 'clasificacion': 'TV-PG', 'decadas_favoritas': ['1980'], 'titulo': 'n/a', 'decada_lanzamiento': 'n/a', 'numero_temporadas': 'n/a', 'numero_episodios': 'n/a'}\n",
      "Sent: {'id': 'user_20250505220240436341_52048578', 'type': 'user', 'timestamp': '2025-05-05T22:02:40.436415', 'nombre_usuario': 'usuario_ce37de80', 'fecha_suscripcion': '2025-05-05', 'generos': ['Acción', 'Indie', 'Terror'], 'directores': ['Bong Joon-ho', 'Denis Villeneuve'], 'actores': ['Uma Thurman', 'Joaquin Phoenix', 'Javier Bardem'], 'clasificacion': 'TV-Y', 'decadas_favoritas': ['2000', '2020'], 'titulo': 'n/a', 'decada_lanzamiento': 'n/a', 'numero_temporadas': 'n/a', 'numero_episodios': 'n/a'}\n",
      "Sent: {'id': 'user_20250505220242437904_43573d46', 'type': 'user', 'timestamp': '2025-05-05T22:02:42.437981', 'nombre_usuario': 'usuario_f17a1b05', 'fecha_suscripcion': '2025-05-05', 'generos': ['Terror', 'Thriller', 'Crimen'], 'directores': ['Alfonso Cuarón', 'Jordan Peele', 'Denis Villeneuve'], 'actores': ['Anthony Hopkins', \"Lupita Nyong'o\", 'Julianne Moore'], 'clasificacion': 'G', 'decadas_favoritas': ['1980'], 'titulo': 'n/a', 'decada_lanzamiento': 'n/a', 'numero_temporadas': 'n/a', 'numero_episodios': 'n/a'}\n",
      "Sent: {'id': 'user_20250505220244438744_a3d1c4a7', 'type': 'user', 'timestamp': '2025-05-05T22:02:44.438829', 'nombre_usuario': 'usuario_420a4808', 'fecha_suscripcion': '2025-05-05', 'generos': ['Indie', 'Deportivo'], 'directores': ['Hayao Miyazaki', 'David Lynch', 'Paul Thomas Anderson'], 'actores': ['Scarlett Johansson', 'Robert Downey Jr.', 'Florence Pugh'], 'clasificacion': 'G', 'decadas_favoritas': ['1970', '1980'], 'titulo': 'n/a', 'decada_lanzamiento': 'n/a', 'numero_temporadas': 'n/a', 'numero_episodios': 'n/a'}\n",
      "Sent: {'id': 'user_20250505220246439636_9c73e2ac', 'type': 'user', 'timestamp': '2025-05-05T22:02:46.439720', 'nombre_usuario': 'usuario_31b962ab', 'fecha_suscripcion': '2025-05-05', 'generos': ['Crimen', 'Musical'], 'directores': ['Stanley Kubrick', 'Denis Villeneuve', 'George Miller'], 'actores': ['Keanu Reeves', 'Naomi Watts', 'Julianne Moore', 'Anthony Hopkins'], 'clasificacion': 'TV-PG', 'decadas_favoritas': ['2010', '1970'], 'titulo': 'n/a', 'decada_lanzamiento': 'n/a', 'numero_temporadas': 'n/a', 'numero_episodios': 'n/a'}\n",
      "Sent: {'id': 'user_20250505220248440911_c562abbc', 'type': 'user', 'timestamp': '2025-05-05T22:02:48.441013', 'nombre_usuario': 'usuario_d527339f', 'fecha_suscripcion': '2025-05-05', 'generos': ['Ciencia Ficción', 'Documental'], 'directores': ['Paul Thomas Anderson', 'Greta Gerwig'], 'actores': ['Ethan Hawke', 'Javier Bardem', 'Mahershala Ali'], 'clasificacion': 'NC-17', 'decadas_favoritas': ['2020'], 'titulo': 'n/a', 'decada_lanzamiento': 'n/a', 'numero_temporadas': 'n/a', 'numero_episodios': 'n/a'}\n",
      "Sent: {'id': 'user_20250505220250442354_3eee5ddd', 'type': 'user', 'timestamp': '2025-05-05T22:02:50.442418', 'nombre_usuario': 'usuario_e6409787', 'fecha_suscripcion': '2025-05-05', 'generos': ['Thriller', 'Romance'], 'directores': ['Pedro Almodóvar', 'Paul Thomas Anderson', 'Quentin Tarantino'], 'actores': ['Keanu Reeves', 'Tom Hanks'], 'clasificacion': 'TV-PG', 'decadas_favoritas': ['2020'], 'titulo': 'n/a', 'decada_lanzamiento': 'n/a', 'numero_temporadas': 'n/a', 'numero_episodios': 'n/a'}\n",
      "Sent: {'id': 'user_20250505220252443148_61a6cf45', 'type': 'user', 'timestamp': '2025-05-05T22:02:52.443226', 'nombre_usuario': 'usuario_ae6df963', 'fecha_suscripcion': '2025-05-05', 'generos': ['Ciencia Ficción'], 'directores': ['Denis Villeneuve', 'Greta Gerwig'], 'actores': ['Javier Bardem', 'Penélope Cruz'], 'clasificacion': 'TV-14', 'decadas_favoritas': ['2000', '2010'], 'titulo': 'n/a', 'decada_lanzamiento': 'n/a', 'numero_temporadas': 'n/a', 'numero_episodios': 'n/a'}\n",
      "Sent: {'id': 'user_20250505220254444597_6bb4a6f2', 'type': 'user', 'timestamp': '2025-05-05T22:02:54.444678', 'nombre_usuario': 'usuario_a77d5270', 'fecha_suscripcion': '2025-05-05', 'generos': ['Indie', 'Fantasía'], 'directores': ['Sofia Coppola', 'Greta Gerwig'], 'actores': ['Ethan Hawke', 'Robert Downey Jr.'], 'clasificacion': 'PG', 'decadas_favoritas': ['1970'], 'titulo': 'n/a', 'decada_lanzamiento': 'n/a', 'numero_temporadas': 'n/a', 'numero_episodios': 'n/a'}\n",
      "Sent: {'id': 'user_20250505220256443985_53ff8d55', 'type': 'user', 'timestamp': '2025-05-05T22:02:56.444047', 'nombre_usuario': 'usuario_a3312c1a', 'fecha_suscripcion': '2025-05-05', 'generos': ['Ciencia Ficción'], 'directores': ['Bong Joon-ho', 'Akira Kurosawa'], 'actores': ['Javier Bardem', 'Cate Blanchett', 'Julianne Moore'], 'clasificacion': 'NC-17', 'decadas_favoritas': ['2010'], 'titulo': 'n/a', 'decada_lanzamiento': 'n/a', 'numero_temporadas': 'n/a', 'numero_episodios': 'n/a'}\n",
      "Sent: {'id': 'user_20250505220258444753_0d6856ec', 'type': 'user', 'timestamp': '2025-05-05T22:02:58.444827', 'nombre_usuario': 'usuario_19eaaad9', 'fecha_suscripcion': '2025-05-05', 'generos': ['Familiar'], 'directores': ['Kathryn Bigelow'], 'actores': ['Emma Stone', 'Anthony Hopkins'], 'clasificacion': 'NC-17', 'decadas_favoritas': ['2010', '1970'], 'titulo': 'n/a', 'decada_lanzamiento': 'n/a', 'numero_temporadas': 'n/a', 'numero_episodios': 'n/a'}\n",
      "Sent: {'id': 'user_20250505220300445842_5c130d3e', 'type': 'user', 'timestamp': '2025-05-05T22:03:00.445916', 'nombre_usuario': 'usuario_c27a2521', 'fecha_suscripcion': '2025-05-05', 'generos': ['Terror', 'Musical', 'Acción'], 'directores': ['Sofia Coppola', 'Bong Joon-ho', 'Taika Waititi'], 'actores': ['Leonardo DiCaprio', 'Viola Davis'], 'clasificacion': 'NC-17', 'decadas_favoritas': ['1990'], 'titulo': 'n/a', 'decada_lanzamiento': 'n/a', 'numero_temporadas': 'n/a', 'numero_episodios': 'n/a'}\n",
      "Sent: {'id': 'user_20250505220302446655_01afbbb0', 'type': 'user', 'timestamp': '2025-05-05T22:03:02.446767', 'nombre_usuario': 'usuario_704b87c9', 'fecha_suscripcion': '2025-05-05', 'generos': ['Bélico'], 'directores': ['Stanley Kubrick', 'Federico Fellini', 'Alfonso Cuarón'], 'actores': ['Florence Pugh', 'Meryl Streep', 'Uma Thurman', 'Natalie Portman'], 'clasificacion': 'PG-13', 'decadas_favoritas': ['1970', '2010'], 'titulo': 'n/a', 'decada_lanzamiento': 'n/a', 'numero_temporadas': 'n/a', 'numero_episodios': 'n/a'}\n",
      "Sent: {'id': 'user_20250505220304448164_45a1a3c9', 'type': 'user', 'timestamp': '2025-05-05T22:03:04.448266', 'nombre_usuario': 'usuario_93204bf0', 'fecha_suscripcion': '2025-05-05', 'generos': ['Documental'], 'directores': ['Park Chan-wook', 'George Miller'], 'actores': ['Brad Pitt', 'Javier Bardem', 'Tom Hanks'], 'clasificacion': 'PG-13', 'decadas_favoritas': ['1990', '1980'], 'titulo': 'n/a', 'decada_lanzamiento': 'n/a', 'numero_temporadas': 'n/a', 'numero_episodios': 'n/a'}\n",
      "Sent: {'id': 'user_20250505220306449329_60dcd69d', 'type': 'user', 'timestamp': '2025-05-05T22:03:06.449421', 'nombre_usuario': 'usuario_b5a94906', 'fecha_suscripcion': '2025-05-05', 'generos': ['Familiar', 'Deportivo', 'Indie'], 'directores': ['Jordan Peele'], 'actores': ['Timothée Chalamet', 'Mahershala Ali', 'Uma Thurman'], 'clasificacion': 'PG-13', 'decadas_favoritas': ['2010', '1990'], 'titulo': 'n/a', 'decada_lanzamiento': 'n/a', 'numero_temporadas': 'n/a', 'numero_episodios': 'n/a'}\n",
      "Sent: {'id': 'user_20250505220308450464_2433fa76', 'type': 'user', 'timestamp': '2025-05-05T22:03:08.450551', 'nombre_usuario': 'usuario_0317da5f', 'fecha_suscripcion': '2025-05-05', 'generos': ['Comedia'], 'directores': ['Chloé Zhao', 'James Cameron', 'Ingmar Bergman'], 'actores': ['Joaquin Phoenix', 'Natalie Portman'], 'clasificacion': 'TV-14', 'decadas_favoritas': ['2000'], 'titulo': 'n/a', 'decada_lanzamiento': 'n/a', 'numero_temporadas': 'n/a', 'numero_episodios': 'n/a'}\n",
      "Sent: {'id': 'user_20250505220310451839_1e6ecd91', 'type': 'user', 'timestamp': '2025-05-05T22:03:10.451948', 'nombre_usuario': 'usuario_84b8b205', 'fecha_suscripcion': '2025-05-05', 'generos': ['Indie', 'Acción', 'Bélico'], 'directores': ['Paul Thomas Anderson', 'Greta Gerwig'], 'actores': ['Uma Thurman', 'Natalie Portman'], 'clasificacion': 'R', 'decadas_favoritas': ['2010', '1980'], 'titulo': 'n/a', 'decada_lanzamiento': 'n/a', 'numero_temporadas': 'n/a', 'numero_episodios': 'n/a'}\n",
      "Sent: {'id': 'user_20250505220312453330_2d95066e', 'type': 'user', 'timestamp': '2025-05-05T22:03:12.453396', 'nombre_usuario': 'usuario_5ebacb66', 'fecha_suscripcion': '2025-05-05', 'generos': ['Musical'], 'directores': ['Hayao Miyazaki', 'Jordan Peele', 'Park Chan-wook'], 'actores': ['Cate Blanchett', 'Timothée Chalamet'], 'clasificacion': 'TV-MA', 'decadas_favoritas': ['2010', '2000'], 'titulo': 'n/a', 'decada_lanzamiento': 'n/a', 'numero_temporadas': 'n/a', 'numero_episodios': 'n/a'}\n",
      "Sent: {'id': 'user_20250505220314454045_e13a466d', 'type': 'user', 'timestamp': '2025-05-05T22:03:14.454117', 'nombre_usuario': 'usuario_29aeb116', 'fecha_suscripcion': '2025-05-05', 'generos': ['Histórico', 'Animación'], 'directores': ['Francis Ford Coppola'], 'actores': ['Anthony Hopkins', 'Viola Davis'], 'clasificacion': 'TV-MA', 'decadas_favoritas': ['1980', '2000'], 'titulo': 'n/a', 'decada_lanzamiento': 'n/a', 'numero_temporadas': 'n/a', 'numero_episodios': 'n/a'}\n",
      "Sent: {'id': 'user_20250505220316455484_9819a3d9', 'type': 'user', 'timestamp': '2025-05-05T22:03:16.455623', 'nombre_usuario': 'usuario_90cdbd0e', 'fecha_suscripcion': '2025-05-05', 'generos': ['Ciencia Ficción'], 'directores': ['Bong Joon-ho'], 'actores': ['Mahershala Ali', 'Florence Pugh'], 'clasificacion': 'TV-PG', 'decadas_favoritas': ['2000', '1990'], 'titulo': 'n/a', 'decada_lanzamiento': 'n/a', 'numero_temporadas': 'n/a', 'numero_episodios': 'n/a'}\n",
      "Sent: {'id': 'user_20250505220318456913_be6d7dc0', 'type': 'user', 'timestamp': '2025-05-05T22:03:18.457000', 'nombre_usuario': 'usuario_af1c424f', 'fecha_suscripcion': '2025-05-05', 'generos': ['Documental', 'Terror', 'Drama'], 'directores': ['Hayao Miyazaki', 'Chloé Zhao', 'Paul Thomas Anderson'], 'actores': ['Tom Hanks', 'Denzel Washington'], 'clasificacion': 'NC-17', 'decadas_favoritas': ['1970', '1990'], 'titulo': 'n/a', 'decada_lanzamiento': 'n/a', 'numero_temporadas': 'n/a', 'numero_episodios': 'n/a'}\n",
      "Sent: {'id': 'user_20250505220320457823_3f9e6b41', 'type': 'user', 'timestamp': '2025-05-05T22:03:20.457893', 'nombre_usuario': 'usuario_a1676e2d', 'fecha_suscripcion': '2025-05-05', 'generos': ['Deportivo', 'Romance'], 'directores': ['Wes Anderson'], 'actores': ['Scarlett Johansson', 'Denzel Washington', 'Leonardo DiCaprio', 'Cate Blanchett'], 'clasificacion': 'PG', 'decadas_favoritas': ['1990'], 'titulo': 'n/a', 'decada_lanzamiento': 'n/a', 'numero_temporadas': 'n/a', 'numero_episodios': 'n/a'}\n",
      "Sent: {'id': 'user_20250505220322459183_51b20207', 'type': 'user', 'timestamp': '2025-05-05T22:03:22.459271', 'nombre_usuario': 'usuario_f30efca9', 'fecha_suscripcion': '2025-05-05', 'generos': ['Bélico', 'Comedia', 'Crimen'], 'directores': ['Denis Villeneuve'], 'actores': ['Robert Downey Jr.', 'Scarlett Johansson'], 'clasificacion': 'R', 'decadas_favoritas': ['1990'], 'titulo': 'n/a', 'decada_lanzamiento': 'n/a', 'numero_temporadas': 'n/a', 'numero_episodios': 'n/a'}\n",
      "Sent: {'id': 'user_20250505220324460067_62f4c679', 'type': 'user', 'timestamp': '2025-05-05T22:03:24.460147', 'nombre_usuario': 'usuario_24ff22ad', 'fecha_suscripcion': '2025-05-05', 'generos': ['Drama', 'Documental'], 'directores': ['Guillermo del Toro', 'Stanley Kubrick', 'Federico Fellini'], 'actores': ['Timothée Chalamet', 'Penélope Cruz', 'Meryl Streep'], 'clasificacion': 'TV-PG', 'decadas_favoritas': ['1980'], 'titulo': 'n/a', 'decada_lanzamiento': 'n/a', 'numero_temporadas': 'n/a', 'numero_episodios': 'n/a'}\n",
      "Sent: {'id': 'user_20250505220326460200_6ad369f9', 'type': 'user', 'timestamp': '2025-05-05T22:03:26.460281', 'nombre_usuario': 'usuario_9750f99f', 'fecha_suscripcion': '2025-05-05', 'generos': ['Misterio', 'Ciencia Ficción', 'Familiar'], 'directores': ['Federico Fellini'], 'actores': ['Anthony Hopkins', 'Idris Elba'], 'clasificacion': 'PG-13', 'decadas_favoritas': ['1990', '1980'], 'titulo': 'n/a', 'decada_lanzamiento': 'n/a', 'numero_temporadas': 'n/a', 'numero_episodios': 'n/a'}\n",
      "Sent: {'id': 'user_20250505220328460964_ad073824', 'type': 'user', 'timestamp': '2025-05-05T22:03:28.461037', 'nombre_usuario': 'usuario_664921af', 'fecha_suscripcion': '2025-05-05', 'generos': ['Musical'], 'directores': ['Federico Fellini', 'Ridley Scott', 'Guillermo del Toro'], 'actores': ['Leonardo DiCaprio', 'Penélope Cruz', 'Florence Pugh', 'Ethan Hawke'], 'clasificacion': 'R', 'decadas_favoritas': ['1990'], 'titulo': 'n/a', 'decada_lanzamiento': 'n/a', 'numero_temporadas': 'n/a', 'numero_episodios': 'n/a'}\n",
      "Sent: {'id': 'user_20250505220330461992_384500cf', 'type': 'user', 'timestamp': '2025-05-05T22:03:30.462077', 'nombre_usuario': 'usuario_ee528f17', 'fecha_suscripcion': '2025-05-05', 'generos': ['Comedia'], 'directores': ['Martin Scorsese', 'Ridley Scott', 'Quentin Tarantino'], 'actores': [\"Lupita Nyong'o\", 'Timothée Chalamet'], 'clasificacion': 'TV-PG', 'decadas_favoritas': ['2000'], 'titulo': 'n/a', 'decada_lanzamiento': 'n/a', 'numero_temporadas': 'n/a', 'numero_episodios': 'n/a'}\n",
      "Sent: {'id': 'user_20250505220332462828_643b4947', 'type': 'user', 'timestamp': '2025-05-05T22:03:32.462894', 'nombre_usuario': 'usuario_ea2c0eb2', 'fecha_suscripcion': '2025-05-05', 'generos': ['Deportivo'], 'directores': ['Sofia Coppola'], 'actores': ['Scarlett Johansson', 'Julianne Moore', 'Cate Blanchett', 'Mahershala Ali'], 'clasificacion': 'TV-PG', 'decadas_favoritas': ['2010'], 'titulo': 'n/a', 'decada_lanzamiento': 'n/a', 'numero_temporadas': 'n/a', 'numero_episodios': 'n/a'}\n",
      "Sent: {'id': 'user_20250505220334463928_6e463793', 'type': 'user', 'timestamp': '2025-05-05T22:03:34.464002', 'nombre_usuario': 'usuario_223ca496', 'fecha_suscripcion': '2025-05-05', 'generos': ['Misterio'], 'directores': ['Wes Anderson'], 'actores': ['Saoirse Ronan', 'Cate Blanchett'], 'clasificacion': 'TV-G', 'decadas_favoritas': ['2010', '1990'], 'titulo': 'n/a', 'decada_lanzamiento': 'n/a', 'numero_temporadas': 'n/a', 'numero_episodios': 'n/a'}\n",
      "Sent: {'id': 'user_20250505220336464792_76381183', 'type': 'user', 'timestamp': '2025-05-05T22:03:36.464874', 'nombre_usuario': 'usuario_4fd89441', 'fecha_suscripcion': '2025-05-05', 'generos': ['Histórico'], 'directores': ['Paul Thomas Anderson', 'Federico Fellini'], 'actores': ['Florence Pugh', 'Timothée Chalamet', 'Tom Hanks', 'Ethan Hawke'], 'clasificacion': 'TV-MA', 'decadas_favoritas': ['2010', '1970'], 'titulo': 'n/a', 'decada_lanzamiento': 'n/a', 'numero_temporadas': 'n/a', 'numero_episodios': 'n/a'}\n",
      "Sent: {'id': 'user_20250505220338465605_085b3f3f', 'type': 'user', 'timestamp': '2025-05-05T22:03:38.465694', 'nombre_usuario': 'usuario_733e7e2b', 'fecha_suscripcion': '2025-05-05', 'generos': ['Drama'], 'directores': ['Quentin Tarantino', 'Greta Gerwig'], 'actores': ['Tom Hanks', \"Lupita Nyong'o\", 'Meryl Streep'], 'clasificacion': 'PG-13', 'decadas_favoritas': ['2000'], 'titulo': 'n/a', 'decada_lanzamiento': 'n/a', 'numero_temporadas': 'n/a', 'numero_episodios': 'n/a'}\n",
      "Sent: {'id': 'user_20250505220340466507_24276f65', 'type': 'user', 'timestamp': '2025-05-05T22:03:40.466575', 'nombre_usuario': 'usuario_1ae00ec6', 'fecha_suscripcion': '2025-05-05', 'generos': ['Ciencia Ficción', 'Familiar', 'Documental'], 'directores': ['Guillermo del Toro', 'Jordan Peele'], 'actores': ['Anthony Hopkins', 'Joaquin Phoenix', 'Christian Bale', 'Tom Hanks'], 'clasificacion': 'TV-14', 'decadas_favoritas': ['2000'], 'titulo': 'n/a', 'decada_lanzamiento': 'n/a', 'numero_temporadas': 'n/a', 'numero_episodios': 'n/a'}\n"
     ]
    }
   ],
   "source": [
    "from notebooks.final_project.TeamBellaco.libs import data_gen\n",
    "from kafka import KafkaProducer\n",
    "import time\n",
    "import json\n",
    "import random\n",
    "\n",
    "\n",
    "# Define Kafka server and topic\n",
    "KAFKA_SERVER = '5d8b83ee7fc9:9093'\n",
    "KAFKA_TOPIC = 'kafka-spark-producer-B'\n",
    "NUMBER_MESSAGES_TO_SEND = random.randint(30, 50)\n",
    "\n",
    "# Initialize the Kafka producer\n",
    "producer = KafkaProducer(\n",
    "     bootstrap_servers=KAFKA_SERVER,\n",
    "     value_serializer=lambda v: json.dumps(v).encode('utf-8')  # serialize data as JSON\n",
    ")\n",
    "\n",
    "# Produce data to Kafka topic\n",
    "try:\n",
    "    print(f\"Producing messages to Kafka topic: {KAFKA_TOPIC}\")\n",
    "    for i in range(0, NUMBER_MESSAGES_TO_SEND):\n",
    "        # Generate random transaction data\n",
    "        transaction_data = data_gen.generar_datos_usuario()\n",
    "        \n",
    "        # Send data to Kafka\n",
    "        producer.send(KAFKA_TOPIC, transaction_data)\n",
    "        print(f\"Sent: {transaction_data}\")\n",
    "            \n",
    "        # Sleep for a few seconds before sending the next message\n",
    "        time.sleep(2)\n",
    "\n",
    "except KeyboardInterrupt:\n",
    "    print(\"Stopped producing messages.\")\n",
    "finally:\n",
    "    # Close the Kafka producer\n",
    "    producer.close()"
   ]
  }
 ],
 "metadata": {
  "kernelspec": {
   "display_name": "Python 3 (ipykernel)",
   "language": "python",
   "name": "python3"
  },
  "language_info": {
   "codemirror_mode": {
    "name": "ipython",
    "version": 3
   },
   "file_extension": ".py",
   "mimetype": "text/x-python",
   "name": "python",
   "nbconvert_exporter": "python",
   "pygments_lexer": "ipython3",
   "version": "3.11.6"
  }
 },
 "nbformat": 4,
 "nbformat_minor": 2
}
