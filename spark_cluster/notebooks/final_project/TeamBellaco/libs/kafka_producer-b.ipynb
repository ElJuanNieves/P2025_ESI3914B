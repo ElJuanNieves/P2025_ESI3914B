{
 "cells": [
  {
   "cell_type": "markdown",
   "metadata": {},
   "source": [
    "# <center> <img src=\"../../labs/img/ITESOLogo.png\" alt=\"ITESO\" width=\"480\" height=\"130\"> </center>\n",
    "# <center> **Departamento de Electrónica, Sistemas e Informática** </center>\n",
    "---\n",
    "## <center> **Procesamiento de Datos Masivos** </center>\n",
    "---\n",
    "### <center> **Primavera 2025** </center>\n",
    "---\n",
    "### <center> **Kafka Producer: Financial Transaction Generator** </center>\n",
    "\n",
    "---\n",
    "**Profesor**: Dr. Pablo Camarillo Ramirez"
   ]
  },
  {
   "cell_type": "markdown",
   "metadata": {},
   "source": [
    "### Invoke the transaction data generator"
   ]
  },
  {
   "cell_type": "code",
   "execution_count": 1,
   "metadata": {},
   "outputs": [
    {
     "name": "stdout",
     "output_type": "stream",
     "text": [
      "Producing messages to Kafka topic: kafka-spark-producer-B\n",
      "Sent: {'id': '20250502132204_3d48f6', 'nombre_usuario': 'usuario_ea3be53f', 'generos_favoritos': ['Western', 'Comedia'], 'directores_favoritos': ['George Miller', 'Greta Gerwig'], 'decadas_favoritas': ['2010', '1990'], 'clasificacion_favorita': 'PG-13', 'actores_favoritos': ['Idris Elba', 'Charlize Theron', 'Uma Thurman', 'Christian Bale'], 'fecha_suscripcion': '2025-05-02'}\n",
      "Sent: {'id': '20250502132206_e39794', 'nombre_usuario': 'usuario_cf5003db', 'generos_favoritos': ['Deportivo'], 'directores_favoritos': ['Ridley Scott', 'Pedro Almodóvar'], 'decadas_favoritas': ['2000', '1990'], 'clasificacion_favorita': 'G', 'actores_favoritos': ['Anthony Hopkins', 'Penélope Cruz', 'Uma Thurman'], 'fecha_suscripcion': '2025-05-02'}\n",
      "Sent: {'id': '20250502132208_f1eb99', 'nombre_usuario': 'usuario_1ac1286b', 'generos_favoritos': ['Fantasía', 'Acción', 'Romance'], 'directores_favoritos': ['Ingmar Bergman', 'Jordan Peele'], 'decadas_favoritas': ['1990'], 'clasificacion_favorita': 'R', 'actores_favoritos': ['Tom Hanks', 'Ethan Hawke'], 'fecha_suscripcion': '2025-05-02'}\n",
      "Sent: {'id': '20250502132210_5fd570', 'nombre_usuario': 'usuario_9b6ee5fa', 'generos_favoritos': ['Documental', 'Bélico'], 'directores_favoritos': ['Chloé Zhao'], 'decadas_favoritas': ['2010'], 'clasificacion_favorita': 'PG', 'actores_favoritos': ['Julianne Moore', 'Christian Bale', 'Florence Pugh', 'Naomi Watts'], 'fecha_suscripcion': '2025-05-02'}\n",
      "Sent: {'id': '20250502132212_c4958d', 'nombre_usuario': 'usuario_7f021a9a', 'generos_favoritos': ['Musical', 'Aventura', 'Drama'], 'directores_favoritos': ['Francis Ford Coppola'], 'decadas_favoritas': ['2000'], 'clasificacion_favorita': 'G', 'actores_favoritos': ['Denzel Washington', 'Leonardo DiCaprio', 'Penélope Cruz', 'Cate Blanchett'], 'fecha_suscripcion': '2025-05-02'}\n",
      "Sent: {'id': '20250502132214_07e7ca', 'nombre_usuario': 'usuario_f68c9c2c', 'generos_favoritos': ['Bélico', 'Western', 'Ciencia Ficción'], 'directores_favoritos': ['Park Chan-wook', 'Taika Waititi'], 'decadas_favoritas': ['1980', '2010'], 'clasificacion_favorita': 'PG', 'actores_favoritos': ['Florence Pugh', 'Idris Elba'], 'fecha_suscripcion': '2025-05-02'}\n",
      "Sent: {'id': '20250502132216_5b993d', 'nombre_usuario': 'usuario_6a480057', 'generos_favoritos': ['Bélico', 'Crimen'], 'directores_favoritos': ['Park Chan-wook', 'Kathryn Bigelow', 'Stanley Kubrick'], 'decadas_favoritas': ['1980', '1970'], 'clasificacion_favorita': 'G', 'actores_favoritos': ['Julianne Moore', 'Charlize Theron'], 'fecha_suscripcion': '2025-05-02'}\n",
      "Sent: {'id': '20250502132218_1a0e34', 'nombre_usuario': 'usuario_532de70c', 'generos_favoritos': ['Drama'], 'directores_favoritos': ['Steven Spielberg', 'Hayao Miyazaki', 'Taika Waititi'], 'decadas_favoritas': ['2000', '1990'], 'clasificacion_favorita': 'NC-17', 'actores_favoritos': ['Anthony Hopkins', 'Christian Bale'], 'fecha_suscripcion': '2025-05-02'}\n",
      "Sent: {'id': '20250502132220_a0e229', 'nombre_usuario': 'usuario_b41eef7a', 'generos_favoritos': ['Familiar', 'Misterio', 'Documental'], 'directores_favoritos': ['Bong Joon-ho'], 'decadas_favoritas': ['1980', '2000'], 'clasificacion_favorita': 'R', 'actores_favoritos': ['Charlize Theron', 'Natalie Portman'], 'fecha_suscripcion': '2025-05-02'}\n",
      "Sent: {'id': '20250502132222_bea0cb', 'nombre_usuario': 'usuario_48d72908', 'generos_favoritos': ['Acción', 'Misterio'], 'directores_favoritos': ['Guillermo del Toro'], 'decadas_favoritas': ['2000'], 'clasificacion_favorita': 'PG', 'actores_favoritos': ['Emma Stone', 'Cate Blanchett', 'Florence Pugh', \"Lupita Nyong'o\"], 'fecha_suscripcion': '2025-05-02'}\n",
      "Sent: {'id': '20250502132224_7fa92a', 'nombre_usuario': 'usuario_1ac6492b', 'generos_favoritos': ['Bélico'], 'directores_favoritos': ['Taika Waititi'], 'decadas_favoritas': ['1980', '2000'], 'clasificacion_favorita': 'PG-13', 'actores_favoritos': [\"Lupita Nyong'o\", 'Anthony Hopkins', 'Uma Thurman', 'Christian Bale'], 'fecha_suscripcion': '2025-05-02'}\n",
      "Sent: {'id': '20250502132226_7a0ff1', 'nombre_usuario': 'usuario_e8c690ab', 'generos_favoritos': ['Indie', 'Misterio'], 'directores_favoritos': ['Wes Anderson', 'Hayao Miyazaki', 'Alfonso Cuarón'], 'decadas_favoritas': ['2000'], 'clasificacion_favorita': 'PG-13', 'actores_favoritos': ['Mahershala Ali', 'Leonardo DiCaprio'], 'fecha_suscripcion': '2025-05-02'}\n",
      "Sent: {'id': '20250502132228_19d5ee', 'nombre_usuario': 'usuario_1af13b04', 'generos_favoritos': ['Drama', 'Familiar'], 'directores_favoritos': ['Martin Scorsese', 'Denis Villeneuve', 'Jane Campion'], 'decadas_favoritas': ['1970'], 'clasificacion_favorita': 'G', 'actores_favoritos': ['Javier Bardem', 'Cate Blanchett', 'Saoirse Ronan'], 'fecha_suscripcion': '2025-05-02'}\n",
      "Sent: {'id': '20250502132230_af3f87', 'nombre_usuario': 'usuario_1bdeae08', 'generos_favoritos': ['Drama', 'Animación'], 'directores_favoritos': ['Paul Thomas Anderson'], 'decadas_favoritas': ['2000', '2020'], 'clasificacion_favorita': 'PG-13', 'actores_favoritos': ['Christian Bale', 'Joaquin Phoenix', 'Idris Elba'], 'fecha_suscripcion': '2025-05-02'}\n",
      "Sent: {'id': '20250502132232_12a913', 'nombre_usuario': 'usuario_eb9c100a', 'generos_favoritos': ['Comedia', 'Bélico'], 'directores_favoritos': ['Jane Campion', 'Chloé Zhao'], 'decadas_favoritas': ['2020', '2010'], 'clasificacion_favorita': 'G', 'actores_favoritos': ['Brad Pitt', 'Keanu Reeves'], 'fecha_suscripcion': '2025-05-02'}\n",
      "Sent: {'id': '20250502132234_60e312', 'nombre_usuario': 'usuario_b9d82d42', 'generos_favoritos': ['Terror'], 'directores_favoritos': ['Steven Spielberg', 'David Lynch', 'Wes Anderson'], 'decadas_favoritas': ['1990'], 'clasificacion_favorita': 'PG', 'actores_favoritos': ['Emma Stone', 'Keanu Reeves'], 'fecha_suscripcion': '2025-05-02'}\n",
      "Sent: {'id': '20250502132236_0f9ea8', 'nombre_usuario': 'usuario_cab6b4d0', 'generos_favoritos': ['Musical'], 'directores_favoritos': ['Spike Lee', 'Denis Villeneuve'], 'decadas_favoritas': ['1990'], 'clasificacion_favorita': 'PG', 'actores_favoritos': ['Denzel Washington', 'Brad Pitt', 'Uma Thurman'], 'fecha_suscripcion': '2025-05-02'}\n",
      "Sent: {'id': '20250502132238_210e5d', 'nombre_usuario': 'usuario_8cfdc10a', 'generos_favoritos': ['Crimen', 'Familiar', 'Aventura'], 'directores_favoritos': ['Christopher Nolan', 'Wes Anderson'], 'decadas_favoritas': ['2000'], 'clasificacion_favorita': 'PG-13', 'actores_favoritos': ['Viola Davis', 'Natalie Portman'], 'fecha_suscripcion': '2025-05-02'}\n",
      "Sent: {'id': '20250502132240_13640e', 'nombre_usuario': 'usuario_c38770bf', 'generos_favoritos': ['Acción'], 'directores_favoritos': ['Jane Campion'], 'decadas_favoritas': ['1980', '2010'], 'clasificacion_favorita': 'PG-13', 'actores_favoritos': ['Denzel Washington', 'Anthony Hopkins', 'Joaquin Phoenix', 'Tom Hanks'], 'fecha_suscripcion': '2025-05-02'}\n",
      "Sent: {'id': '20250502132242_fda7a3', 'nombre_usuario': 'usuario_4720ef84', 'generos_favoritos': ['Terror'], 'directores_favoritos': ['Kathryn Bigelow', 'Steven Spielberg'], 'decadas_favoritas': ['1990', '2010'], 'clasificacion_favorita': 'PG', 'actores_favoritos': ['Brad Pitt', 'Penélope Cruz', 'Naomi Watts', 'Tom Hanks'], 'fecha_suscripcion': '2025-05-02'}\n",
      "Sent: {'id': '20250502132244_61d85f', 'nombre_usuario': 'usuario_39948fd1', 'generos_favoritos': ['Comedia', 'Familiar', 'Acción'], 'directores_favoritos': ['Paul Thomas Anderson', 'Christopher Nolan'], 'decadas_favoritas': ['1990', '2000'], 'clasificacion_favorita': 'R', 'actores_favoritos': ['Naomi Watts', 'Joaquin Phoenix', 'Ethan Hawke', 'Tom Hanks'], 'fecha_suscripcion': '2025-05-02'}\n",
      "Sent: {'id': '20250502132246_636c6c', 'nombre_usuario': 'usuario_34f23c99', 'generos_favoritos': ['Acción', 'Documental'], 'directores_favoritos': ['Martin Scorsese', 'Akira Kurosawa'], 'decadas_favoritas': ['2020'], 'clasificacion_favorita': 'PG-13', 'actores_favoritos': ['Saoirse Ronan', 'Meryl Streep', 'Cate Blanchett', 'Naomi Watts'], 'fecha_suscripcion': '2025-05-02'}\n",
      "Sent: {'id': '20250502132248_295158', 'nombre_usuario': 'usuario_b8e893a1', 'generos_favoritos': ['Musical', 'Fantasía'], 'directores_favoritos': ['Ingmar Bergman', 'Stanley Kubrick', 'Greta Gerwig'], 'decadas_favoritas': ['1990'], 'clasificacion_favorita': 'R', 'actores_favoritos': ['Idris Elba', 'Keanu Reeves', 'Timothée Chalamet'], 'fecha_suscripcion': '2025-05-02'}\n",
      "Sent: {'id': '20250502132250_0a9e11', 'nombre_usuario': 'usuario_d49478c3', 'generos_favoritos': ['Bélico', 'Crimen', 'Aventura'], 'directores_favoritos': ['Stanley Kubrick', 'Steven Spielberg', 'Pedro Almodóvar'], 'decadas_favoritas': ['1970', '1990'], 'clasificacion_favorita': 'PG-13', 'actores_favoritos': ['Idris Elba', 'Javier Bardem', 'Mahershala Ali', 'Angelina Jolie'], 'fecha_suscripcion': '2025-05-02'}\n",
      "Sent: {'id': '20250502132252_f1d54b', 'nombre_usuario': 'usuario_d572fe2a', 'generos_favoritos': ['Indie', 'Documental', 'Crimen'], 'directores_favoritos': ['Greta Gerwig', 'Spike Lee'], 'decadas_favoritas': ['1970'], 'clasificacion_favorita': 'PG', 'actores_favoritos': ['Tom Hanks', 'Florence Pugh', 'Ryan Gosling'], 'fecha_suscripcion': '2025-05-02'}\n",
      "Sent: {'id': '20250502132254_d78138', 'nombre_usuario': 'usuario_eb18fd66', 'generos_favoritos': ['Crimen', 'Musical', 'Comedia'], 'directores_favoritos': ['Hayao Miyazaki'], 'decadas_favoritas': ['2010'], 'clasificacion_favorita': 'R', 'actores_favoritos': ['Ryan Gosling', 'Florence Pugh'], 'fecha_suscripcion': '2025-05-02'}\n",
      "Sent: {'id': '20250502132256_176628', 'nombre_usuario': 'usuario_b5da9631', 'generos_favoritos': ['Aventura', 'Familiar', 'Western'], 'directores_favoritos': ['Hayao Miyazaki', 'Steven Spielberg', 'Bong Joon-ho'], 'decadas_favoritas': ['1990', '1970'], 'clasificacion_favorita': 'PG', 'actores_favoritos': ['Scarlett Johansson', 'Penélope Cruz'], 'fecha_suscripcion': '2025-05-02'}\n",
      "Sent: {'id': '20250502132258_ca5645', 'nombre_usuario': 'usuario_1f010d3b', 'generos_favoritos': ['Drama', 'Histórico'], 'directores_favoritos': ['Guillermo del Toro', 'Chloé Zhao', 'Quentin Tarantino'], 'decadas_favoritas': ['2010', '2000'], 'clasificacion_favorita': 'R', 'actores_favoritos': ['Natalie Portman', 'Leonardo DiCaprio', 'Ethan Hawke', 'Keanu Reeves'], 'fecha_suscripcion': '2025-05-02'}\n",
      "Sent: {'id': '20250502132300_b82ed0', 'nombre_usuario': 'usuario_90070e71', 'generos_favoritos': ['Crimen', 'Familiar', 'Indie'], 'directores_favoritos': ['Greta Gerwig', 'Bong Joon-ho', 'Martin Scorsese'], 'decadas_favoritas': ['2000'], 'clasificacion_favorita': 'PG-13', 'actores_favoritos': ['Brad Pitt', 'Joaquin Phoenix'], 'fecha_suscripcion': '2025-05-02'}\n",
      "Sent: {'id': '20250502132302_bd2f47', 'nombre_usuario': 'usuario_b1cda278', 'generos_favoritos': ['Bélico', 'Aventura', 'Indie'], 'directores_favoritos': ['Martin Scorsese', 'Pedro Almodóvar'], 'decadas_favoritas': ['2020', '1970'], 'clasificacion_favorita': 'NC-17', 'actores_favoritos': ['Christian Bale', 'Naomi Watts', 'Brad Pitt'], 'fecha_suscripcion': '2025-05-02'}\n",
      "Sent: {'id': '20250502132304_babda7', 'nombre_usuario': 'usuario_78428104', 'generos_favoritos': ['Comedia', 'Documental', 'Crimen'], 'directores_favoritos': ['Steven Spielberg'], 'decadas_favoritas': ['2000', '2010'], 'clasificacion_favorita': 'PG-13', 'actores_favoritos': ['Angelina Jolie', 'Ryan Gosling', 'Brad Pitt'], 'fecha_suscripcion': '2025-05-02'}\n",
      "Sent: {'id': '20250502132306_d41874', 'nombre_usuario': 'usuario_0da71c5b', 'generos_favoritos': ['Aventura', 'Misterio'], 'directores_favoritos': ['Bong Joon-ho', 'Christopher Nolan'], 'decadas_favoritas': ['1990'], 'clasificacion_favorita': 'NC-17', 'actores_favoritos': ['Joaquin Phoenix', 'Scarlett Johansson'], 'fecha_suscripcion': '2025-05-02'}\n",
      "Sent: {'id': '20250502132308_d5d67b', 'nombre_usuario': 'usuario_e7b54ca5', 'generos_favoritos': ['Drama', 'Misterio', 'Bélico'], 'directores_favoritos': ['Steven Spielberg', 'Akira Kurosawa'], 'decadas_favoritas': ['2020', '1980'], 'clasificacion_favorita': 'PG-13', 'actores_favoritos': ['Tom Hanks', 'Mahershala Ali', 'Naomi Watts'], 'fecha_suscripcion': '2025-05-02'}\n",
      "Sent: {'id': '20250502132310_63f212', 'nombre_usuario': 'usuario_458b9c0e', 'generos_favoritos': ['Misterio', 'Ciencia Ficción', 'Crimen'], 'directores_favoritos': ['Hayao Miyazaki', 'Christopher Nolan', 'Wes Anderson'], 'decadas_favoritas': ['1990'], 'clasificacion_favorita': 'G', 'actores_favoritos': ['Timothée Chalamet', 'Ryan Gosling', 'Florence Pugh', 'Anthony Hopkins'], 'fecha_suscripcion': '2025-05-02'}\n",
      "Sent: {'id': '20250502132312_0ee953', 'nombre_usuario': 'usuario_8cc2a4dd', 'generos_favoritos': ['Crimen', 'Histórico', 'Western'], 'directores_favoritos': ['Park Chan-wook', 'Taika Waititi'], 'decadas_favoritas': ['2020'], 'clasificacion_favorita': 'NC-17', 'actores_favoritos': ['Meryl Streep', 'Joaquin Phoenix', 'Anthony Hopkins'], 'fecha_suscripcion': '2025-05-02'}\n"
     ]
    }
   ],
   "source": [
    "from notebooks.final_project.TeamBellaco.libs import user_gen\n",
    "from kafka import KafkaProducer\n",
    "import time\n",
    "import json\n",
    "import random\n",
    "\n",
    "\n",
    "# Define Kafka server and topic\n",
    "KAFKA_SERVER = '5d8b83ee7fc9:9093'\n",
    "KAFKA_TOPIC = 'kafka-spark-producer-B'\n",
    "NUMBER_MESSAGES_TO_SEND = random.randint(30, 50)\n",
    "\n",
    "# Initialize the Kafka producer\n",
    "producer = KafkaProducer(\n",
    "     bootstrap_servers=KAFKA_SERVER,\n",
    "     value_serializer=lambda v: json.dumps(v).encode('utf-8')  # serialize data as JSON\n",
    ")\n",
    "\n",
    "# Produce data to Kafka topic\n",
    "try:\n",
    "    print(f\"Producing messages to Kafka topic: {KAFKA_TOPIC}\")\n",
    "    for i in range(0, NUMBER_MESSAGES_TO_SEND):\n",
    "        # Generate random transaction data\n",
    "        transaction_data = user_gen.generar_usuario_suscripcion()\n",
    "        \n",
    "        # Send data to Kafka\n",
    "        producer.send(KAFKA_TOPIC, transaction_data)\n",
    "        print(f\"Sent: {transaction_data}\")\n",
    "            \n",
    "        # Sleep for a few seconds before sending the next message\n",
    "        time.sleep(2)\n",
    "\n",
    "except KeyboardInterrupt:\n",
    "    print(\"Stopped producing messages.\")\n",
    "finally:\n",
    "    # Close the Kafka producer\n",
    "    producer.close()"
   ]
  }
 ],
 "metadata": {
  "kernelspec": {
   "display_name": "Python 3 (ipykernel)",
   "language": "python",
   "name": "python3"
  },
  "language_info": {
   "codemirror_mode": {
    "name": "ipython",
    "version": 3
   },
   "file_extension": ".py",
   "mimetype": "text/x-python",
   "name": "python",
   "nbconvert_exporter": "python",
   "pygments_lexer": "ipython3",
   "version": "3.11.6"
  }
 },
 "nbformat": 4,
 "nbformat_minor": 2
}
