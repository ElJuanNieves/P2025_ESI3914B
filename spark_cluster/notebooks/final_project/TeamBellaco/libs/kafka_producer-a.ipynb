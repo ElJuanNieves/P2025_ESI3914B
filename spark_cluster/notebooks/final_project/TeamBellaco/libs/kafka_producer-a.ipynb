{
 "cells": [
  {
   "cell_type": "markdown",
   "metadata": {},
   "source": [
    "# <center> <img src=\"../../labs/img/ITESOLogo.png\" alt=\"ITESO\" width=\"480\" height=\"130\"> </center>\n",
    "# <center> **Departamento de Electrónica, Sistemas e Informática** </center>\n",
    "---\n",
    "## <center> **Procesamiento de Datos Masivos** </center>\n",
    "---\n",
    "### <center> **Primavera 2025** </center>\n",
    "---\n",
    "### <center> **Kafka Producer: Financial Transaction Generator** </center>\n",
    "\n",
    "---\n",
    "**Profesor**: Dr. Pablo Camarillo Ramirez"
   ]
  },
  {
   "cell_type": "code",
   "execution_count": 4,
   "metadata": {},
   "outputs": [
    {
     "name": "stdout",
     "output_type": "stream",
     "text": [
      "/home/jovyan\n",
      "total 8\n",
      "drwxrwxrwx 1 root   root  4096 Apr 25 13:16 notebooks\n",
      "drwxr-sr-x 4 root   users 4096 Feb 11 13:42 target\n",
      "drwsrwsr-x 2 jovyan users 4096 Oct 20  2023 work\n"
     ]
    }
   ],
   "source": [
    "!pwd\n",
    "!ls -l"
   ]
  },
  {
   "cell_type": "markdown",
   "metadata": {},
   "source": [
    "### Invoke the transaction data generator"
   ]
  },
  {
   "cell_type": "code",
   "execution_count": 7,
   "metadata": {},
   "outputs": [
    {
     "name": "stdout",
     "output_type": "stream",
     "text": [
      "Producing messages to Kafka topic: kafka-spark-producer-A\n",
      "Sent: {'id_pelicula': '60c9b2b768794a028bc31d00ca4af50d', 'titulo': 'Un Ascenso de Fuego', 'genero': 'Crimen', 'calidad': 'HD', 'rating': '1.7', 'duracion': '224 minutos', 'decada': '2000', 'rating_edad': 'NC-17', 'director': 'Hayao Miyazaki', 'actores': ['Viola Davis', 'Christian Bale', 'Ethan Hawke']}\n",
      "Sent: {'id_pelicula': '3d7e6ffdd82049378fcbbaea478680d7', 'titulo': 'Una Venganza en la Noche', 'genero': 'Ciencia Ficción', 'calidad': 'Full HD', 'rating': '3.8', 'duracion': '69 minutos', 'decada': '1970', 'rating_edad': 'PG-13', 'director': 'Spike Lee', 'actores': ['Timothée Chalamet']}\n",
      "Sent: {'id_pelicula': '932fb9c421d44b87b236e3930587f771', 'titulo': 'El Ascenso Final', 'genero': 'Acción', 'calidad': 'HD', 'rating': '6.0', 'duracion': '78 minutos', 'decada': '1980', 'rating_edad': 'G', 'director': 'Jordan Peele', 'actores': ['Uma Thurman']}\n",
      "Sent: {'id_pelicula': 'ae0f48fbbd744b739fddd1551afe090e', 'titulo': 'El Ascenso Oscura', 'genero': 'Misterio', 'calidad': 'Full HD', 'rating': '4.2', 'duracion': '128 minutos', 'decada': '2010', 'rating_edad': 'PG-13', 'director': 'Park Chan-wook', 'actores': ['Saoirse Ronan', \"Lupita Nyong'o\"]}\n",
      "Sent: {'id_pelicula': '33a0743c950942cb8691deef0b98a420', 'titulo': 'Las Sombra Olvidada', 'genero': 'Western', 'calidad': 'Full HD', 'rating': '7.4', 'duracion': '75 minutos', 'decada': '2000', 'rating_edad': 'PG', 'director': 'Bong Joon-ho', 'actores': ['Florence Pugh', 'Idris Elba']}\n",
      "Sent: {'id_pelicula': '91e500e89f984d57a166ca24d242fced', 'titulo': 'Las Venganza Imposible', 'genero': 'Ciencia Ficción', 'calidad': 'HD', 'rating': '8.3', 'duracion': '137 minutos', 'decada': '2020', 'rating_edad': 'R', 'director': 'Taika Waititi', 'actores': ['Naomi Watts', 'Ethan Hawke', 'Emma Stone']}\n",
      "Sent: {'id_pelicula': 'ec4be44224974401805723600d7a3ff0', 'titulo': 'Los Sombra de Fuego', 'genero': 'Indie', 'calidad': 'HD', 'rating': '3.6', 'duracion': '112 minutos', 'decada': '2010', 'rating_edad': 'G', 'director': 'Stanley Kubrick', 'actores': ['Christian Bale', 'Uma Thurman', 'Florence Pugh', 'Joaquin Phoenix']}\n",
      "Sent: {'id_pelicula': 'c01a13cc27e74f509ced899b31729857', 'titulo': 'Los Secreto Olvidada', 'genero': 'Ciencia Ficción', 'calidad': 'HD', 'rating': '8.6', 'duracion': '222 minutos', 'decada': '1990', 'rating_edad': 'PG-13', 'director': 'Guillermo del Toro', 'actores': ['Keanu Reeves']}\n",
      "Sent: {'id_pelicula': '4bd7d444d200485eb4fc3ddd51e4a4b3', 'titulo': 'Una Sombra Imposible', 'genero': 'Comedia', 'calidad': 'HD', 'rating': '6.7', 'duracion': '64 minutos', 'decada': '2010', 'rating_edad': 'NC-17', 'director': 'Kathryn Bigelow', 'actores': ['Natalie Portman', 'Keanu Reeves', 'Angelina Jolie', 'Charlize Theron']}\n",
      "Sent: {'id_pelicula': '2af75bfd51e24855bf2dc1d23806e688', 'titulo': 'Las Caída Olvidada', 'genero': 'Documental', 'calidad': '4K', 'rating': '6.8', 'duracion': '139 minutos', 'decada': '1990', 'rating_edad': 'PG', 'director': 'Akira Kurosawa', 'actores': ['Natalie Portman', 'Mahershala Ali']}\n",
      "Sent: {'id_pelicula': 'ffd8470e9a86401e9768c9f8b7351140', 'titulo': 'La Ascenso Oscura', 'genero': 'Terror', 'calidad': 'Full HD', 'rating': '3.0', 'duracion': '138 minutos', 'decada': '2000', 'rating_edad': 'R', 'director': 'Martin Scorsese', 'actores': ['Angelina Jolie', 'Julianne Moore', \"Lupita Nyong'o\"]}\n",
      "Sent: {'id_pelicula': '4ba5cec91a9346e0901b8587989beac2', 'titulo': 'El Aventura Oscura', 'genero': 'Comedia', 'calidad': 'Full HD', 'rating': '8.3', 'duracion': '136 minutos', 'decada': '2000', 'rating_edad': 'G', 'director': 'Quentin Tarantino', 'actores': ['Florence Pugh']}\n",
      "Sent: {'id_pelicula': 'c119721c124b4e48a903c15b771795ef', 'titulo': 'Las Secreto en la Noche', 'genero': 'Indie', 'calidad': '4K', 'rating': '3.3', 'duracion': '141 minutos', 'decada': '1990', 'rating_edad': 'R', 'director': 'Jordan Peele', 'actores': ['Naomi Watts', 'Charlize Theron']}\n",
      "Sent: {'id_pelicula': '8f46c05ed2d24c159ead8c4e3cfbeac5', 'titulo': 'El Venganza Silenciosa', 'genero': 'Thriller', 'calidad': 'Full HD', 'rating': '3.0', 'duracion': '225 minutos', 'decada': '2010', 'rating_edad': 'G', 'director': 'Wes Anderson', 'actores': ['Keanu Reeves', 'Florence Pugh']}\n",
      "Sent: {'id_pelicula': '9be93e81460c4f619be08b61a37999ae', 'titulo': 'Una Sombra del Tiempo', 'genero': 'Comedia', 'calidad': '4K', 'rating': '6.2', 'duracion': '64 minutos', 'decada': '1990', 'rating_edad': 'R', 'director': 'Bong Joon-ho', 'actores': ['Emma Stone', 'Leonardo DiCaprio', \"Lupita Nyong'o\"]}\n",
      "Sent: {'id_pelicula': '1af1fc6d8a054583871afaf05e4d7454', 'titulo': 'Un Secreto Perdida', 'genero': 'Deportivo', 'calidad': 'Full HD', 'rating': '2.8', 'duracion': '153 minutos', 'decada': '1980', 'rating_edad': 'PG', 'director': 'Greta Gerwig', 'actores': ['Denzel Washington', 'Naomi Watts']}\n",
      "Sent: {'id_pelicula': 'fd4e8a1d4d3847b29f43bc65a6259a9c', 'titulo': 'La Aventura Silenciosa', 'genero': 'Deportivo', 'calidad': 'Full HD', 'rating': '8.6', 'duracion': '141 minutos', 'decada': '2010', 'rating_edad': 'R', 'director': 'Ridley Scott', 'actores': ['Anthony Hopkins', 'Denzel Washington', 'Uma Thurman', 'Natalie Portman']}\n",
      "Sent: {'id_pelicula': 'c95e0221cc354f65b02f17763f169109', 'titulo': 'El Venganza Perdida', 'genero': 'Drama', 'calidad': 'Full HD', 'rating': '9.9', 'duracion': '98 minutos', 'decada': '2020', 'rating_edad': 'NC-17', 'director': 'Spike Lee', 'actores': ['Javier Bardem', 'Penélope Cruz', 'Joaquin Phoenix']}\n",
      "Sent: {'id_pelicula': '4866db5d692a4eb8bf67bf53fa8d836c', 'titulo': 'Un Misterio Final', 'genero': 'Documental', 'calidad': '4K', 'rating': '4.2', 'duracion': '134 minutos', 'decada': '2000', 'rating_edad': 'G', 'director': 'Hayao Miyazaki', 'actores': ['Saoirse Ronan']}\n",
      "Sent: {'id_pelicula': '87275e8c53794e32829733264e70e5a0', 'titulo': 'Un Misterio Oscura', 'genero': 'Aventura', 'calidad': 'Full HD', 'rating': '5.4', 'duracion': '135 minutos', 'decada': '1990', 'rating_edad': 'PG-13', 'director': 'Jane Campion', 'actores': ['Uma Thurman']}\n",
      "Sent: {'id_pelicula': '61eabd23bf28478695b1987984928330', 'titulo': 'Un Misterio Oscura', 'genero': 'Aventura', 'calidad': 'HD', 'rating': '6.6', 'duracion': '90 minutos', 'decada': '2010', 'rating_edad': 'NC-17', 'director': 'Jordan Peele', 'actores': ['Meryl Streep', 'Angelina Jolie']}\n",
      "Sent: {'id_pelicula': '1413abac93a1459bb70bdeda0bb02c8f', 'titulo': 'La Ascenso Olvidada', 'genero': 'Familiar', 'calidad': 'HD', 'rating': '6.9', 'duracion': '193 minutos', 'decada': '1980', 'rating_edad': 'NC-17', 'director': 'Jordan Peele', 'actores': ['Saoirse Ronan', 'Idris Elba']}\n",
      "Sent: {'id_pelicula': '946d46af43f54b1793df1b6a79c8004f', 'titulo': 'Las Legado en la Noche', 'genero': 'Ciencia Ficción', 'calidad': '4K', 'rating': '8.3', 'duracion': '102 minutos', 'decada': '1970', 'rating_edad': 'R', 'director': 'Quentin Tarantino', 'actores': ['Angelina Jolie', 'Natalie Portman']}\n",
      "Sent: {'id_pelicula': '88207c9afb44491e801920702319d69f', 'titulo': 'La Aventura Olvidada', 'genero': 'Ciencia Ficción', 'calidad': 'HD', 'rating': '5.7', 'duracion': '87 minutos', 'decada': '2000', 'rating_edad': 'NC-17', 'director': 'Jordan Peele', 'actores': ['Javier Bardem', 'Naomi Watts', 'Charlize Theron', 'Brad Pitt']}\n",
      "Sent: {'id_pelicula': 'aabef10b3f35436cbdad2aa215740e2c', 'titulo': 'El Misterio de Fuego', 'genero': 'Drama', 'calidad': 'Full HD', 'rating': '6.3', 'duracion': '70 minutos', 'decada': '1990', 'rating_edad': 'PG-13', 'director': 'Steven Spielberg', 'actores': ['Cate Blanchett', 'Meryl Streep', 'Mahershala Ali']}\n",
      "Sent: {'id_pelicula': '95fdd8f0434a4ba1822e3112f25ee519', 'titulo': 'Los Escape Oscura', 'genero': 'Acción', 'calidad': 'Full HD', 'rating': '6.5', 'duracion': '153 minutos', 'decada': '1980', 'rating_edad': 'G', 'director': 'Denis Villeneuve', 'actores': ['Uma Thurman', \"Lupita Nyong'o\", 'Denzel Washington']}\n",
      "Sent: {'id_pelicula': '6b7c39f94f614c6f8028cb8c6fc8caed', 'titulo': 'Los Aventura de Fuego', 'genero': 'Ciencia Ficción', 'calidad': '4K', 'rating': '4.9', 'duracion': '207 minutos', 'decada': '1990', 'rating_edad': 'R', 'director': 'Hayao Miyazaki', 'actores': ['Cate Blanchett', 'Angelina Jolie', 'Javier Bardem', 'Emma Stone']}\n",
      "Sent: {'id_pelicula': 'e15aaff549854121a514d6ca7ad29073', 'titulo': 'Las Caída Imposible', 'genero': 'Fantasía', 'calidad': '4K', 'rating': '2.7', 'duracion': '80 minutos', 'decada': '2020', 'rating_edad': 'PG', 'director': 'James Cameron', 'actores': ['Keanu Reeves', 'Viola Davis', 'Timothée Chalamet', 'Cate Blanchett']}\n",
      "Sent: {'id_pelicula': 'dd273b952df045c0aa930e1fdf2758c7', 'titulo': 'La Caída Olvidada', 'genero': 'Familiar', 'calidad': 'HD', 'rating': '5.0', 'duracion': '160 minutos', 'decada': '1990', 'rating_edad': 'PG', 'director': 'Guillermo del Toro', 'actores': ['Robert Downey Jr.', 'Naomi Watts']}\n",
      "Sent: {'id_pelicula': '21b249e040764368b8a46c887f4b9dcf', 'titulo': 'Las Venganza de Fuego', 'genero': 'Indie', 'calidad': 'Full HD', 'rating': '1.5', 'duracion': '103 minutos', 'decada': '2000', 'rating_edad': 'PG', 'director': 'Spike Lee', 'actores': ['Brad Pitt']}\n",
      "Sent: {'id_pelicula': '2401f8addb174bec8acc2ebb67a9cc3e', 'titulo': 'El Secreto Olvidada', 'genero': 'Drama', 'calidad': 'Full HD', 'rating': '5.4', 'duracion': '210 minutos', 'decada': '2010', 'rating_edad': 'PG', 'director': 'Denis Villeneuve', 'actores': ['Penélope Cruz', 'Robert Downey Jr.', 'Julianne Moore']}\n",
      "Sent: {'id_pelicula': '69f0eaafbd8448f0a437434f5380fb01', 'titulo': 'Las Aventura Imposible', 'genero': 'Terror', 'calidad': 'HD', 'rating': '2.7', 'duracion': '72 minutos', 'decada': '2000', 'rating_edad': 'G', 'director': 'Guillermo del Toro', 'actores': ['Ryan Gosling', 'Mahershala Ali', 'Cate Blanchett']}\n",
      "Sent: {'id_pelicula': '095bb952da5d4f1a91a60f6c62f2d1db', 'titulo': 'Una Ascenso Perdida', 'genero': 'Crimen', 'calidad': '4K', 'rating': '8.1', 'duracion': '172 minutos', 'decada': '2000', 'rating_edad': 'R', 'director': 'Akira Kurosawa', 'actores': ['Robert Downey Jr.']}\n",
      "Sent: {'id_pelicula': 'fd1699d4e05c48559c287332590e1381', 'titulo': 'Los Misterio del Tiempo', 'genero': 'Bélico', 'calidad': 'HD', 'rating': '1.1', 'duracion': '69 minutos', 'decada': '1980', 'rating_edad': 'PG', 'director': 'Alfonso Cuarón', 'actores': ['Brad Pitt', 'Keanu Reeves', 'Cate Blanchett', 'Denzel Washington']}\n",
      "Sent: {'id_pelicula': 'b9ae0026160b4158a721ac9a1e70ee02', 'titulo': 'La Aventura Silenciosa', 'genero': 'Terror', 'calidad': 'HD', 'rating': '5.9', 'duracion': '167 minutos', 'decada': '2020', 'rating_edad': 'PG', 'director': 'Greta Gerwig', 'actores': ['Tom Hanks']}\n",
      "Sent: {'id_pelicula': '31b6e0525f8943308688ef9131ec3ddd', 'titulo': 'La Secreto Imposible', 'genero': 'Acción', 'calidad': 'HD', 'rating': '1.9', 'duracion': '217 minutos', 'decada': '2010', 'rating_edad': 'PG-13', 'director': 'Greta Gerwig', 'actores': ['Angelina Jolie', 'Meryl Streep', 'Joaquin Phoenix', 'Ethan Hawke']}\n",
      "Sent: {'id_pelicula': 'd762e7991f234a02b3cd160a04a67c36', 'titulo': 'Las Búsqueda en la Noche', 'genero': 'Comedia', 'calidad': 'Full HD', 'rating': '8.7', 'duracion': '99 minutos', 'decada': '2000', 'rating_edad': 'NC-17', 'director': 'Steven Spielberg', 'actores': ['Naomi Watts', 'Angelina Jolie']}\n"
     ]
    }
   ],
   "source": [
    "from notebooks.final_project.TeamBellaco.libs import movie_gen\n",
    "from kafka import KafkaProducer\n",
    "import time\n",
    "import json\n",
    "import random\n",
    "\n",
    "\n",
    "# Define Kafka server and topic\n",
    "KAFKA_SERVER = '5d8b83ee7fc9:9093'\n",
    "KAFKA_TOPIC = 'kafka-spark-producer-A'\n",
    "NUMBER_MESSAGES_TO_SEND = random.randint(30, 50)\n",
    "\n",
    "# Initialize the Kafka producer\n",
    "producer = KafkaProducer(\n",
    "     bootstrap_servers=KAFKA_SERVER,\n",
    "     value_serializer=lambda v: json.dumps(v).encode('utf-8')  # serialize data as JSON\n",
    ")\n",
    "\n",
    "# Produce data to Kafka topic\n",
    "try:\n",
    "    print(f\"Producing messages to Kafka topic: {KAFKA_TOPIC}\")\n",
    "    for i in range(0, NUMBER_MESSAGES_TO_SEND):\n",
    "        # Generate random transaction data\n",
    "        transaction_data = movie_gen.generar_pelicula()\n",
    "        \n",
    "        # Send data to Kafka\n",
    "        producer.send(KAFKA_TOPIC, transaction_data)\n",
    "        print(f\"Sent: {transaction_data}\")\n",
    "            \n",
    "        # Sleep for a few seconds before sending the next message\n",
    "        time.sleep(2)\n",
    "\n",
    "except KeyboardInterrupt:\n",
    "    print(\"Stopped producing messages.\")\n",
    "finally:\n",
    "    # Close the Kafka producer\n",
    "    producer.close()"
   ]
  }
 ],
 "metadata": {
  "kernelspec": {
   "display_name": "Python 3 (ipykernel)",
   "language": "python",
   "name": "python3"
  },
  "language_info": {
   "codemirror_mode": {
    "name": "ipython",
    "version": 3
   },
   "file_extension": ".py",
   "mimetype": "text/x-python",
   "name": "python",
   "nbconvert_exporter": "python",
   "pygments_lexer": "ipython3",
   "version": "3.11.6"
  }
 },
 "nbformat": 4,
 "nbformat_minor": 2
}
