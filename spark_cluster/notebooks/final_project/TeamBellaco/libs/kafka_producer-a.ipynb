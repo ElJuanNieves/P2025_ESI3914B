{
 "cells": [
  {
   "cell_type": "markdown",
   "metadata": {},
   "source": [
    "# <center> <img src=\"../../labs/img/ITESOLogo.png\" alt=\"ITESO\" width=\"480\" height=\"130\"> </center>\n",
    "# <center> **Departamento de Electrónica, Sistemas e Informática** </center>\n",
    "---\n",
    "## <center> **Procesamiento de Datos Masivos** </center>\n",
    "---\n",
    "### <center> **Primavera 2025** </center>\n",
    "---\n",
    "### <center> **Kafka Producer: Financial Transaction Generator** </center>\n",
    "\n",
    "---\n",
    "**Profesor**: Dr. Pablo Camarillo Ramirez"
   ]
  },
  {
   "cell_type": "code",
   "execution_count": 4,
   "metadata": {},
   "outputs": [
    {
     "name": "stdout",
     "output_type": "stream",
     "text": [
      "/home/jovyan\n",
      "total 8\n",
      "drwxrwxrwx 1 root   root  4096 Apr 25 13:16 notebooks\n",
      "drwxr-sr-x 4 root   users 4096 Feb 11 13:42 target\n",
      "drwsrwsr-x 2 jovyan users 4096 Oct 20  2023 work\n"
     ]
    }
   ],
   "source": [
    "!pwd\n",
    "!ls -l"
   ]
  },
  {
   "cell_type": "markdown",
   "metadata": {},
   "source": [
    "### Invoke the transaction data generator"
   ]
  },
  {
   "cell_type": "code",
   "execution_count": 1,
   "metadata": {},
   "outputs": [
    {
     "name": "stdout",
     "output_type": "stream",
     "text": [
      "Producing messages to Kafka topic: kafka-spark-producer-A\n",
      "Sent: {'id': 'movie_20250505220201162253_3ead3d0e', 'type': 'movie', 'timestamp': '2025-05-05T22:02:01.162301', 'titulo': 'Pelicula_3da5b3', 'generos': ['Bélico', 'Drama', 'Western'], 'directores': ['Alfonso Cuarón'], 'actores': ['Idris Elba', 'Mahershala Ali', 'Charlize Theron', 'Anthony Hopkins', 'Leonardo DiCaprio', 'Timothée Chalamet'], 'clasificacion': 'TV-Y', 'decada_lanzamiento': '1990', 'nombre_usuario': 'n/a', 'fecha_suscripcion': 'n/a', 'decadas_favoritas': 'n/a', 'numero_temporadas': 'n/a', 'numero_episodios': 'n/a'}\n",
      "Sent: {'id': 'movie_20250505220203279093_cf10f73a', 'type': 'movie', 'timestamp': '2025-05-05T22:02:03.279171', 'titulo': 'Pelicula_321f20', 'generos': ['Musical'], 'directores': ['Jordan Peele'], 'actores': ['Scarlett Johansson', 'Naomi Watts', 'Uma Thurman'], 'clasificacion': 'R', 'decada_lanzamiento': '2010', 'nombre_usuario': 'n/a', 'fecha_suscripcion': 'n/a', 'decadas_favoritas': 'n/a', 'numero_temporadas': 'n/a', 'numero_episodios': 'n/a'}\n",
      "Sent: {'id': 'movie_20250505220205279896_63a56d7f', 'type': 'movie', 'timestamp': '2025-05-05T22:02:05.279974', 'titulo': 'Pelicula_f096e9', 'generos': ['Histórico', 'Musical'], 'directores': ['Ingmar Bergman', 'Wes Anderson'], 'actores': ['Charlize Theron', 'Ethan Hawke', 'Viola Davis', 'Brad Pitt', 'Christian Bale', 'Cate Blanchett', 'Angelina Jolie'], 'clasificacion': 'TV-G', 'decada_lanzamiento': '2010', 'nombre_usuario': 'n/a', 'fecha_suscripcion': 'n/a', 'decadas_favoritas': 'n/a', 'numero_temporadas': 'n/a', 'numero_episodios': 'n/a'}\n",
      "Sent: {'id': 'movie_20250505220207280780_37065586', 'type': 'movie', 'timestamp': '2025-05-05T22:02:07.280864', 'titulo': 'Pelicula_53fa5f', 'generos': ['Aventura', 'Crimen'], 'directores': ['Steven Spielberg'], 'actores': ['Viola Davis', 'Keanu Reeves', 'Robert Downey Jr.', 'Leonardo DiCaprio', 'Anthony Hopkins'], 'clasificacion': 'TV-MA', 'decada_lanzamiento': '2010', 'nombre_usuario': 'n/a', 'fecha_suscripcion': 'n/a', 'decadas_favoritas': 'n/a', 'numero_temporadas': 'n/a', 'numero_episodios': 'n/a'}\n",
      "Sent: {'id': 'movie_20250505220209281648_41bd9422', 'type': 'movie', 'timestamp': '2025-05-05T22:02:09.281716', 'titulo': 'Pelicula_e565d4', 'generos': ['Indie'], 'directores': ['Kathryn Bigelow'], 'actores': ['Julianne Moore', 'Penélope Cruz', 'Christian Bale', 'Idris Elba', 'Natalie Portman'], 'clasificacion': 'TV-PG', 'decada_lanzamiento': '1990', 'nombre_usuario': 'n/a', 'fecha_suscripcion': 'n/a', 'decadas_favoritas': 'n/a', 'numero_temporadas': 'n/a', 'numero_episodios': 'n/a'}\n",
      "Sent: {'id': 'movie_20250505220211282275_58edf89d', 'type': 'movie', 'timestamp': '2025-05-05T22:02:11.282350', 'titulo': 'Pelicula_922220', 'generos': ['Musical'], 'directores': ['Greta Gerwig'], 'actores': ['Natalie Portman', 'Meryl Streep', 'Julianne Moore', 'Penélope Cruz', 'Emma Stone', \"Lupita Nyong'o\", 'Denzel Washington'], 'clasificacion': 'R', 'decada_lanzamiento': '2010', 'nombre_usuario': 'n/a', 'fecha_suscripcion': 'n/a', 'decadas_favoritas': 'n/a', 'numero_temporadas': 'n/a', 'numero_episodios': 'n/a'}\n",
      "Sent: {'id': 'movie_20250505220213283510_3f1503a2', 'type': 'movie', 'timestamp': '2025-05-05T22:02:13.283584', 'titulo': 'Pelicula_82bedc', 'generos': ['Bélico', 'Ciencia Ficción'], 'directores': ['Jordan Peele', 'Spike Lee'], 'actores': ['Naomi Watts', 'Scarlett Johansson', 'Saoirse Ronan'], 'clasificacion': 'TV-PG', 'decada_lanzamiento': '2000', 'nombre_usuario': 'n/a', 'fecha_suscripcion': 'n/a', 'decadas_favoritas': 'n/a', 'numero_temporadas': 'n/a', 'numero_episodios': 'n/a'}\n",
      "Sent: {'id': 'movie_20250505220215284124_6ccf2799', 'type': 'movie', 'timestamp': '2025-05-05T22:02:15.284220', 'titulo': 'Pelicula_c26966', 'generos': ['Histórico'], 'directores': ['Ingmar Bergman', 'Stanley Kubrick'], 'actores': ['Natalie Portman', 'Florence Pugh', 'Javier Bardem', 'Scarlett Johansson'], 'clasificacion': 'TV-Y', 'decada_lanzamiento': '2020', 'nombre_usuario': 'n/a', 'fecha_suscripcion': 'n/a', 'decadas_favoritas': 'n/a', 'numero_temporadas': 'n/a', 'numero_episodios': 'n/a'}\n",
      "Sent: {'id': 'movie_20250505220217285038_bd539511', 'type': 'movie', 'timestamp': '2025-05-05T22:02:17.285124', 'titulo': 'Pelicula_6a2737', 'generos': ['Comedia', 'Aventura'], 'directores': ['Greta Gerwig', 'Bong Joon-ho'], 'actores': ['Timothée Chalamet', 'Scarlett Johansson', 'Naomi Watts'], 'clasificacion': 'TV-G', 'decada_lanzamiento': '2010', 'nombre_usuario': 'n/a', 'fecha_suscripcion': 'n/a', 'decadas_favoritas': 'n/a', 'numero_temporadas': 'n/a', 'numero_episodios': 'n/a'}\n",
      "Sent: {'id': 'movie_20250505220219285601_81fd4d2d', 'type': 'movie', 'timestamp': '2025-05-05T22:02:19.285657', 'titulo': 'Pelicula_5a2f50', 'generos': ['Documental', 'Histórico'], 'directores': ['Ridley Scott'], 'actores': ['Scarlett Johansson', 'Meryl Streep', 'Timothée Chalamet'], 'clasificacion': 'TV-MA', 'decada_lanzamiento': '1980', 'nombre_usuario': 'n/a', 'fecha_suscripcion': 'n/a', 'decadas_favoritas': 'n/a', 'numero_temporadas': 'n/a', 'numero_episodios': 'n/a'}\n",
      "Sent: {'id': 'movie_20250505220221286588_7d9cfae9', 'type': 'movie', 'timestamp': '2025-05-05T22:02:21.286652', 'titulo': 'Pelicula_3f707e', 'generos': ['Acción', 'Deportivo'], 'directores': ['Akira Kurosawa', 'Christopher Nolan'], 'actores': ['Robert Downey Jr.', 'Angelina Jolie', 'Christian Bale', 'Uma Thurman'], 'clasificacion': 'TV-MA', 'decada_lanzamiento': '1980', 'nombre_usuario': 'n/a', 'fecha_suscripcion': 'n/a', 'decadas_favoritas': 'n/a', 'numero_temporadas': 'n/a', 'numero_episodios': 'n/a'}\n",
      "Sent: {'id': 'movie_20250505220223287322_5eaf0e5a', 'type': 'movie', 'timestamp': '2025-05-05T22:02:23.287407', 'titulo': 'Pelicula_06466c', 'generos': ['Aventura'], 'directores': ['Taika Waititi'], 'actores': ['Scarlett Johansson', 'Anthony Hopkins', 'Emma Stone', 'Charlize Theron', 'Idris Elba', 'Javier Bardem', 'Cate Blanchett', 'Julianne Moore'], 'clasificacion': 'G', 'decada_lanzamiento': '1970', 'nombre_usuario': 'n/a', 'fecha_suscripcion': 'n/a', 'decadas_favoritas': 'n/a', 'numero_temporadas': 'n/a', 'numero_episodios': 'n/a'}\n",
      "Sent: {'id': 'movie_20250505220225286261_1786df4f', 'type': 'movie', 'timestamp': '2025-05-05T22:02:25.286374', 'titulo': 'Pelicula_134ce1', 'generos': ['Acción', 'Indie', 'Comedia'], 'directores': ['Kathryn Bigelow', 'Akira Kurosawa'], 'actores': ['Denzel Washington', 'Penélope Cruz', 'Uma Thurman', 'Keanu Reeves', 'Timothée Chalamet'], 'clasificacion': 'PG', 'decada_lanzamiento': '1970', 'nombre_usuario': 'n/a', 'fecha_suscripcion': 'n/a', 'decadas_favoritas': 'n/a', 'numero_temporadas': 'n/a', 'numero_episodios': 'n/a'}\n",
      "Sent: {'id': 'movie_20250505220227287601_179153f6', 'type': 'movie', 'timestamp': '2025-05-05T22:02:27.287673', 'titulo': 'Pelicula_da37df', 'generos': ['Drama', 'Terror', 'Musical'], 'directores': ['Spike Lee', 'Guillermo del Toro'], 'actores': ['Ethan Hawke', 'Saoirse Ronan', 'Idris Elba', 'Naomi Watts', 'Charlize Theron', 'Julianne Moore', 'Penélope Cruz'], 'clasificacion': 'TV-MA', 'decada_lanzamiento': '2000', 'nombre_usuario': 'n/a', 'fecha_suscripcion': 'n/a', 'decadas_favoritas': 'n/a', 'numero_temporadas': 'n/a', 'numero_episodios': 'n/a'}\n",
      "Sent: {'id': 'movie_20250505220229288134_0ff1365b', 'type': 'movie', 'timestamp': '2025-05-05T22:02:29.288209', 'titulo': 'Pelicula_bc15b5', 'generos': ['Indie', 'Animación'], 'directores': ['Ridley Scott', 'Taika Waititi'], 'actores': ['Angelina Jolie', 'Idris Elba', 'Christian Bale', 'Emma Stone'], 'clasificacion': 'TV-14', 'decada_lanzamiento': '2000', 'nombre_usuario': 'n/a', 'fecha_suscripcion': 'n/a', 'decadas_favoritas': 'n/a', 'numero_temporadas': 'n/a', 'numero_episodios': 'n/a'}\n",
      "Sent: {'id': 'movie_20250505220231288902_ad610235', 'type': 'movie', 'timestamp': '2025-05-05T22:02:31.288988', 'titulo': 'Pelicula_968167', 'generos': ['Bélico', 'Comedia'], 'directores': ['Greta Gerwig', 'David Lynch'], 'actores': ['Uma Thurman', 'Charlize Theron', \"Lupita Nyong'o\", 'Natalie Portman', 'Angelina Jolie', 'Naomi Watts', 'Viola Davis'], 'clasificacion': 'NC-17', 'decada_lanzamiento': '2000', 'nombre_usuario': 'n/a', 'fecha_suscripcion': 'n/a', 'decadas_favoritas': 'n/a', 'numero_temporadas': 'n/a', 'numero_episodios': 'n/a'}\n",
      "Sent: {'id': 'movie_20250505220233289708_2e684931', 'type': 'movie', 'timestamp': '2025-05-05T22:02:33.289781', 'titulo': 'Pelicula_1f60a0', 'generos': ['Ciencia Ficción', 'Familiar'], 'directores': ['Steven Spielberg'], 'actores': ['Christian Bale', 'Angelina Jolie', 'Uma Thurman', 'Denzel Washington', 'Idris Elba'], 'clasificacion': 'TV-G', 'decada_lanzamiento': '2020', 'nombre_usuario': 'n/a', 'fecha_suscripcion': 'n/a', 'decadas_favoritas': 'n/a', 'numero_temporadas': 'n/a', 'numero_episodios': 'n/a'}\n",
      "Sent: {'id': 'movie_20250505220235290752_e0fe9d2a', 'type': 'movie', 'timestamp': '2025-05-05T22:02:35.290853', 'titulo': 'Pelicula_c98832', 'generos': ['Aventura', 'Comedia'], 'directores': ['Jordan Peele'], 'actores': ['Javier Bardem', 'Leonardo DiCaprio', 'Tom Hanks'], 'clasificacion': 'TV-Y', 'decada_lanzamiento': '1980', 'nombre_usuario': 'n/a', 'fecha_suscripcion': 'n/a', 'decadas_favoritas': 'n/a', 'numero_temporadas': 'n/a', 'numero_episodios': 'n/a'}\n",
      "Sent: {'id': 'movie_20250505220237291957_c6b06dec', 'type': 'movie', 'timestamp': '2025-05-05T22:02:37.292035', 'titulo': 'Pelicula_572671', 'generos': ['Animación'], 'directores': ['George Miller'], 'actores': ['Florence Pugh', 'Joaquin Phoenix', 'Ryan Gosling', 'Scarlett Johansson', 'Mahershala Ali', 'Tom Hanks'], 'clasificacion': 'TV-14', 'decada_lanzamiento': '1980', 'nombre_usuario': 'n/a', 'fecha_suscripcion': 'n/a', 'decadas_favoritas': 'n/a', 'numero_temporadas': 'n/a', 'numero_episodios': 'n/a'}\n",
      "Sent: {'id': 'movie_20250505220239293111_03c7c652', 'type': 'movie', 'timestamp': '2025-05-05T22:02:39.293194', 'titulo': 'Pelicula_945352', 'generos': ['Drama', 'Musical'], 'directores': ['Greta Gerwig'], 'actores': ['Viola Davis', 'Keanu Reeves', 'Julianne Moore', 'Ryan Gosling'], 'clasificacion': 'PG', 'decada_lanzamiento': '1970', 'nombre_usuario': 'n/a', 'fecha_suscripcion': 'n/a', 'decadas_favoritas': 'n/a', 'numero_temporadas': 'n/a', 'numero_episodios': 'n/a'}\n",
      "Sent: {'id': 'movie_20250505220241294896_06ded2eb', 'type': 'movie', 'timestamp': '2025-05-05T22:02:41.294988', 'titulo': 'Pelicula_a3d2d8', 'generos': ['Histórico', 'Acción'], 'directores': ['Park Chan-wook'], 'actores': ['Tom Hanks', 'Julianne Moore', 'Charlize Theron'], 'clasificacion': 'PG-13', 'decada_lanzamiento': '2010', 'nombre_usuario': 'n/a', 'fecha_suscripcion': 'n/a', 'decadas_favoritas': 'n/a', 'numero_temporadas': 'n/a', 'numero_episodios': 'n/a'}\n",
      "Sent: {'id': 'movie_20250505220243295654_2202c527', 'type': 'movie', 'timestamp': '2025-05-05T22:02:43.295734', 'titulo': 'Pelicula_d67424', 'generos': ['Documental', 'Ciencia Ficción'], 'directores': ['Guillermo del Toro'], 'actores': ['Cate Blanchett', 'Saoirse Ronan', 'Tom Hanks', 'Leonardo DiCaprio', 'Uma Thurman', 'Scarlett Johansson', 'Viola Davis'], 'clasificacion': 'G', 'decada_lanzamiento': '2000', 'nombre_usuario': 'n/a', 'fecha_suscripcion': 'n/a', 'decadas_favoritas': 'n/a', 'numero_temporadas': 'n/a', 'numero_episodios': 'n/a'}\n",
      "Sent: {'id': 'movie_20250505220245296266_b9848498', 'type': 'movie', 'timestamp': '2025-05-05T22:02:45.296320', 'titulo': 'Pelicula_4e061b', 'generos': ['Crimen', 'Documental', 'Romance'], 'directores': ['Kathryn Bigelow', 'Martin Scorsese'], 'actores': ['Brad Pitt', 'Joaquin Phoenix', \"Lupita Nyong'o\", 'Emma Stone', 'Penélope Cruz'], 'clasificacion': 'TV-G', 'decada_lanzamiento': '2020', 'nombre_usuario': 'n/a', 'fecha_suscripcion': 'n/a', 'decadas_favoritas': 'n/a', 'numero_temporadas': 'n/a', 'numero_episodios': 'n/a'}\n",
      "Sent: {'id': 'movie_20250505220247297247_c7ecc65f', 'type': 'movie', 'timestamp': '2025-05-05T22:02:47.297325', 'titulo': 'Pelicula_dd63d3', 'generos': ['Drama', 'Acción', 'Familiar'], 'directores': ['Federico Fellini', 'George Miller'], 'actores': ['Robert Downey Jr.', 'Uma Thurman', 'Mahershala Ali', 'Penélope Cruz', 'Ryan Gosling', 'Timothée Chalamet'], 'clasificacion': 'TV-14', 'decada_lanzamiento': '2020', 'nombre_usuario': 'n/a', 'fecha_suscripcion': 'n/a', 'decadas_favoritas': 'n/a', 'numero_temporadas': 'n/a', 'numero_episodios': 'n/a'}\n",
      "Sent: {'id': 'movie_20250505220249298076_40c686d3', 'type': 'movie', 'timestamp': '2025-05-05T22:02:49.298167', 'titulo': 'Pelicula_1e0dc4', 'generos': ['Ciencia Ficción', 'Drama', 'Animación'], 'directores': ['Greta Gerwig'], 'actores': ['Charlize Theron', 'Idris Elba', 'Javier Bardem', 'Viola Davis'], 'clasificacion': 'NC-17', 'decada_lanzamiento': '2020', 'nombre_usuario': 'n/a', 'fecha_suscripcion': 'n/a', 'decadas_favoritas': 'n/a', 'numero_temporadas': 'n/a', 'numero_episodios': 'n/a'}\n",
      "Sent: {'id': 'movie_20250505220251298844_96e0efa1', 'type': 'movie', 'timestamp': '2025-05-05T22:02:51.298904', 'titulo': 'Pelicula_8968d8', 'generos': ['Animación', 'Deportivo', 'Thriller'], 'directores': ['Guillermo del Toro', 'Bong Joon-ho'], 'actores': ['Christian Bale', 'Angelina Jolie', 'Idris Elba', 'Mahershala Ali'], 'clasificacion': 'TV-14', 'decada_lanzamiento': '1990', 'nombre_usuario': 'n/a', 'fecha_suscripcion': 'n/a', 'decadas_favoritas': 'n/a', 'numero_temporadas': 'n/a', 'numero_episodios': 'n/a'}\n",
      "Sent: {'id': 'movie_20250505220253299604_0d8ff4d8', 'type': 'movie', 'timestamp': '2025-05-05T22:02:53.299694', 'titulo': 'Pelicula_7eebba', 'generos': ['Terror', 'Aventura', 'Crimen'], 'directores': ['Denis Villeneuve'], 'actores': ['Timothée Chalamet', 'Scarlett Johansson', 'Tom Hanks', 'Cate Blanchett'], 'clasificacion': 'PG', 'decada_lanzamiento': '2020', 'nombre_usuario': 'n/a', 'fecha_suscripcion': 'n/a', 'decadas_favoritas': 'n/a', 'numero_temporadas': 'n/a', 'numero_episodios': 'n/a'}\n",
      "Sent: {'id': 'movie_20250505220255298577_4cfd093d', 'type': 'movie', 'timestamp': '2025-05-05T22:02:55.298654', 'titulo': 'Pelicula_5d5f43', 'generos': ['Drama', 'Romance'], 'directores': ['Wes Anderson', 'Kathryn Bigelow'], 'actores': ['Tom Hanks', 'Denzel Washington', 'Brad Pitt', 'Florence Pugh'], 'clasificacion': 'TV-Y', 'decada_lanzamiento': '1970', 'nombre_usuario': 'n/a', 'fecha_suscripcion': 'n/a', 'decadas_favoritas': 'n/a', 'numero_temporadas': 'n/a', 'numero_episodios': 'n/a'}\n",
      "Sent: {'id': 'movie_20250505220257300016_08e4ee12', 'type': 'movie', 'timestamp': '2025-05-05T22:02:57.300087', 'titulo': 'Pelicula_f83e22', 'generos': ['Bélico', 'Indie', 'Acción'], 'directores': ['Francis Ford Coppola'], 'actores': ['Keanu Reeves', 'Scarlett Johansson', 'Mahershala Ali', 'Anthony Hopkins'], 'clasificacion': 'NC-17', 'decada_lanzamiento': '2010', 'nombre_usuario': 'n/a', 'fecha_suscripcion': 'n/a', 'decadas_favoritas': 'n/a', 'numero_temporadas': 'n/a', 'numero_episodios': 'n/a'}\n",
      "Sent: {'id': 'movie_20250505220259301116_303ccc89', 'type': 'movie', 'timestamp': '2025-05-05T22:02:59.301210', 'titulo': 'Pelicula_2c9404', 'generos': ['Histórico', 'Musical'], 'directores': ['Guillermo del Toro', 'Ingmar Bergman'], 'actores': ['Ethan Hawke', 'Tom Hanks', 'Javier Bardem'], 'clasificacion': 'NC-17', 'decada_lanzamiento': '2010', 'nombre_usuario': 'n/a', 'fecha_suscripcion': 'n/a', 'decadas_favoritas': 'n/a', 'numero_temporadas': 'n/a', 'numero_episodios': 'n/a'}\n",
      "Sent: {'id': 'movie_20250505220301302175_f4f86154', 'type': 'movie', 'timestamp': '2025-05-05T22:03:01.302236', 'titulo': 'Pelicula_92fc6c', 'generos': ['Animación', 'Ciencia Ficción'], 'directores': ['Steven Spielberg'], 'actores': ['Cate Blanchett', 'Scarlett Johansson', 'Keanu Reeves', 'Christian Bale', 'Joaquin Phoenix', 'Florence Pugh', 'Tom Hanks', 'Julianne Moore'], 'clasificacion': 'TV-PG', 'decada_lanzamiento': '2020', 'nombre_usuario': 'n/a', 'fecha_suscripcion': 'n/a', 'decadas_favoritas': 'n/a', 'numero_temporadas': 'n/a', 'numero_episodios': 'n/a'}\n",
      "Sent: {'id': 'movie_20250505220303302954_dc0bea98', 'type': 'movie', 'timestamp': '2025-05-05T22:03:03.303034', 'titulo': 'Pelicula_536e53', 'generos': ['Ciencia Ficción'], 'directores': ['Ridley Scott'], 'actores': ['Florence Pugh', 'Christian Bale', 'Ryan Gosling', 'Uma Thurman', \"Lupita Nyong'o\", 'Charlize Theron', 'Natalie Portman', 'Saoirse Ronan'], 'clasificacion': 'TV-Y', 'decada_lanzamiento': '2020', 'nombre_usuario': 'n/a', 'fecha_suscripcion': 'n/a', 'decadas_favoritas': 'n/a', 'numero_temporadas': 'n/a', 'numero_episodios': 'n/a'}\n",
      "Sent: {'id': 'movie_20250505220305303763_c8101234', 'type': 'movie', 'timestamp': '2025-05-05T22:03:05.303841', 'titulo': 'Pelicula_acc39c', 'generos': ['Indie', 'Musical'], 'directores': ['Wes Anderson', 'Pedro Almodóvar'], 'actores': ['Charlize Theron', 'Uma Thurman', 'Scarlett Johansson'], 'clasificacion': 'G', 'decada_lanzamiento': '2010', 'nombre_usuario': 'n/a', 'fecha_suscripcion': 'n/a', 'decadas_favoritas': 'n/a', 'numero_temporadas': 'n/a', 'numero_episodios': 'n/a'}\n",
      "Sent: {'id': 'movie_20250505220307304394_5890e129', 'type': 'movie', 'timestamp': '2025-05-05T22:03:07.304480', 'titulo': 'Pelicula_fdc2ff', 'generos': ['Familiar', 'Ciencia Ficción', 'Western'], 'directores': ['Hayao Miyazaki'], 'actores': ['Saoirse Ronan', 'Viola Davis', 'Anthony Hopkins'], 'clasificacion': 'TV-G', 'decada_lanzamiento': '1970', 'nombre_usuario': 'n/a', 'fecha_suscripcion': 'n/a', 'decadas_favoritas': 'n/a', 'numero_temporadas': 'n/a', 'numero_episodios': 'n/a'}\n",
      "Sent: {'id': 'movie_20250505220309305181_3dd02c68', 'type': 'movie', 'timestamp': '2025-05-05T22:03:09.305255', 'titulo': 'Pelicula_403d2c', 'generos': ['Terror', 'Drama'], 'directores': ['Steven Spielberg', 'Kathryn Bigelow'], 'actores': ['Scarlett Johansson', 'Robert Downey Jr.', 'Joaquin Phoenix', 'Ryan Gosling', 'Angelina Jolie'], 'clasificacion': 'TV-MA', 'decada_lanzamiento': '2010', 'nombre_usuario': 'n/a', 'fecha_suscripcion': 'n/a', 'decadas_favoritas': 'n/a', 'numero_temporadas': 'n/a', 'numero_episodios': 'n/a'}\n",
      "Sent: {'id': 'movie_20250505220311305699_680414e9', 'type': 'movie', 'timestamp': '2025-05-05T22:03:11.305751', 'titulo': 'Pelicula_c97c79', 'generos': ['Fantasía', 'Terror', 'Deportivo'], 'directores': ['David Lynch', 'Spike Lee'], 'actores': ['Julianne Moore', 'Viola Davis', 'Florence Pugh', 'Mahershala Ali', 'Scarlett Johansson', 'Meryl Streep', 'Charlize Theron', 'Anthony Hopkins'], 'clasificacion': 'TV-14', 'decada_lanzamiento': '1970', 'nombre_usuario': 'n/a', 'fecha_suscripcion': 'n/a', 'decadas_favoritas': 'n/a', 'numero_temporadas': 'n/a', 'numero_episodios': 'n/a'}\n",
      "Sent: {'id': 'movie_20250505220313306391_e4030a49', 'type': 'movie', 'timestamp': '2025-05-05T22:03:13.306463', 'titulo': 'Pelicula_2ada08', 'generos': ['Ciencia Ficción', 'Histórico', 'Western'], 'directores': ['Chloé Zhao'], 'actores': ['Naomi Watts', 'Denzel Washington', 'Viola Davis', 'Christian Bale', 'Angelina Jolie', 'Scarlett Johansson', 'Tom Hanks'], 'clasificacion': 'TV-PG', 'decada_lanzamiento': '2000', 'nombre_usuario': 'n/a', 'fecha_suscripcion': 'n/a', 'decadas_favoritas': 'n/a', 'numero_temporadas': 'n/a', 'numero_episodios': 'n/a'}\n"
     ]
    }
   ],
   "source": [
    "from notebooks.final_project.TeamBellaco.libs import data_gen\n",
    "from kafka import KafkaProducer\n",
    "import time\n",
    "import json\n",
    "import random\n",
    "\n",
    "\n",
    "# Define Kafka server and topic\n",
    "KAFKA_SERVER = '5d8b83ee7fc9:9093'\n",
    "KAFKA_TOPIC = 'kafka-spark-producer-A'\n",
    "NUMBER_MESSAGES_TO_SEND = random.randint(30, 50)\n",
    "\n",
    "# Initialize the Kafka producer\n",
    "producer = KafkaProducer(\n",
    "     bootstrap_servers=KAFKA_SERVER,\n",
    "     value_serializer=lambda v: json.dumps(v).encode('utf-8')  # serialize data as JSON\n",
    ")\n",
    "\n",
    "# Produce data to Kafka topic\n",
    "try:\n",
    "    print(f\"Producing messages to Kafka topic: {KAFKA_TOPIC}\")\n",
    "    for i in range(0, NUMBER_MESSAGES_TO_SEND):\n",
    "        # Generate random transaction data\n",
    "        transaction_data = data_gen.generar_datos_pelicula()\n",
    "        \n",
    "        # Send data to Kafka\n",
    "        producer.send(KAFKA_TOPIC, transaction_data)\n",
    "        print(f\"Sent: {transaction_data}\")\n",
    "            \n",
    "        # Sleep for a few seconds before sending the next message\n",
    "        time.sleep(2)\n",
    "\n",
    "except KeyboardInterrupt:\n",
    "    print(\"Stopped producing messages.\")\n",
    "finally:\n",
    "    # Close the Kafka producer\n",
    "    producer.close()"
   ]
  }
 ],
 "metadata": {
  "kernelspec": {
   "display_name": "Python 3 (ipykernel)",
   "language": "python",
   "name": "python3"
  },
  "language_info": {
   "codemirror_mode": {
    "name": "ipython",
    "version": 3
   },
   "file_extension": ".py",
   "mimetype": "text/x-python",
   "name": "python",
   "nbconvert_exporter": "python",
   "pygments_lexer": "ipython3",
   "version": "3.11.6"
  }
 },
 "nbformat": 4,
 "nbformat_minor": 2
}
