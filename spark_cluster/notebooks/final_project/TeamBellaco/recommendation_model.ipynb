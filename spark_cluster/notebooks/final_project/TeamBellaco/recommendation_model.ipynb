{
 "cells": [
  {
   "cell_type": "markdown",
   "metadata": {},
   "source": [
    "# <center> <img src=\"./img/ITESOLogo.png\" alt=\"ITESO\" width=\"480\" height=\"130\"> </center>\n",
    "# <center> **Departamento de Electrónica, Sistemas e Informática** </center>\n",
    "---\n",
    "## <center> **Procesamiento de Datos Masivos** </center>\n",
    "---\n",
    "### <center> **Primavera 2025** </center>\n",
    "---\n",
    "### <center> **Modelo de Recomendacion** </center>\n",
    "\n",
    "---\n",
    "**Alumnos**: David Abraham Naranjo Salgado, Benjamin Zarate y Angel Cortes"
   ]
  },
  {
   "cell_type": "code",
   "execution_count": 10,
   "metadata": {},
   "outputs": [],
   "source": [
    "import findspark\n",
    "findspark.init()"
   ]
  },
  {
   "cell_type": "markdown",
   "metadata": {},
   "source": [
    "#### Creacion de la conexión con el cluster de spark\n"
   ]
  },
  {
   "cell_type": "code",
   "execution_count": 11,
   "metadata": {},
   "outputs": [],
   "source": [
    "from pyspark.sql import SparkSession\n",
    "\n",
    "spark = SparkSession.builder \\\n",
    "    .appName(\"MLSpark-Recommender-Systems\") \\\n",
    "    .master(\"spark://spark-master:7077\") \\\n",
    "    .config(\"spark.ui.port\",\"4040\") \\\n",
    "    .getOrCreate()\n",
    "sc = spark.sparkContext\n",
    "spark.conf.set(\"spark.sql.shuffle.partitions\", \"5\")"
   ]
  },
  {
   "cell_type": "markdown",
   "metadata": {},
   "source": [
    "## Librerias"
   ]
  },
  {
   "cell_type": "code",
   "execution_count": 12,
   "metadata": {},
   "outputs": [],
   "source": [
    "from team_name.spark_utils import SparkUtils\n",
    "from pyspark.sql.functions import from_json, explode, col\n",
    "from pyspark.ml.recommendation import ALS\n",
    "from pyspark.ml.evaluation import RegressionEvaluator\n",
    "from pyspark.sql.types import StructType, StructField, IntegerType, FloatType, StringType, ArrayType"
   ]
  },
  {
   "cell_type": "markdown",
   "metadata": {},
   "source": [
    "# Preparación de Datos"
   ]
  },
  {
   "cell_type": "code",
   "execution_count": 13,
   "metadata": {},
   "outputs": [
    {
     "name": "stdout",
     "output_type": "stream",
     "text": [
      "+----+--------------------+--------------------+---------+------+--------------------+-------------+--------------------+\n",
      "| key|               value|               topic|partition|offset|           timestamp|timestampType|           value_str|\n",
      "+----+--------------------+--------------------+---------+------+--------------------+-------------+--------------------+\n",
      "|NULL|[7B 22 75 73 65 7...|kafka-spark-produ...|        0| 11900|2025-05-10 04:28:...|            0|{\"userId\": 232, \"...|\n",
      "|NULL|[7B 22 75 73 65 7...|kafka-spark-produ...|        0| 11901|2025-05-10 04:28:...|            0|{\"userId\": 232, \"...|\n",
      "|NULL|[7B 22 75 73 65 7...|kafka-spark-produ...|        0| 11902|2025-05-10 04:28:...|            0|{\"userId\": 958, \"...|\n",
      "|NULL|[7B 22 75 73 65 7...|kafka-spark-produ...|        0| 11903|2025-05-10 04:28:...|            0|{\"userId\": 958, \"...|\n",
      "|NULL|[7B 22 75 73 65 7...|kafka-spark-produ...|        0| 11904|2025-05-10 04:28:...|            0|{\"userId\": 232, \"...|\n",
      "|NULL|[7B 22 75 73 65 7...|kafka-spark-produ...|        0| 11905|2025-05-10 04:28:...|            0|{\"userId\": 232, \"...|\n",
      "|NULL|[7B 22 75 73 65 7...|kafka-spark-produ...|        0| 11906|2025-05-10 04:28:...|            0|{\"userId\": 958, \"...|\n",
      "|NULL|[7B 22 75 73 65 7...|kafka-spark-produ...|        0| 11907|2025-05-10 04:28:...|            0|{\"userId\": 958, \"...|\n",
      "|NULL|[7B 22 75 73 65 7...|kafka-spark-produ...|        0| 11908|2025-05-10 04:28:...|            0|{\"userId\": 958, \"...|\n",
      "|NULL|[7B 22 75 73 65 7...|kafka-spark-produ...|        0| 11909|2025-05-10 04:28:...|            0|{\"userId\": 958, \"...|\n",
      "|NULL|[7B 22 75 73 65 7...|kafka-spark-produ...|        0| 11910|2025-05-10 04:28:...|            0|{\"userId\": 232, \"...|\n",
      "|NULL|[7B 22 75 73 65 7...|kafka-spark-produ...|        0| 11911|2025-05-10 04:28:...|            0|{\"userId\": 232, \"...|\n",
      "|NULL|[7B 22 75 73 65 7...|kafka-spark-produ...|        0| 11912|2025-05-10 04:28:...|            0|{\"userId\": 232, \"...|\n",
      "|NULL|[7B 22 75 73 65 7...|kafka-spark-produ...|        0| 11913|2025-05-10 04:28:...|            0|{\"userId\": 232, \"...|\n",
      "|NULL|[7B 22 75 73 65 7...|kafka-spark-produ...|        0| 11914|2025-05-10 04:28:...|            0|{\"userId\": 232, \"...|\n",
      "|NULL|[7B 22 75 73 65 7...|kafka-spark-produ...|        0| 11915|2025-05-10 04:28:...|            0|{\"userId\": 232, \"...|\n",
      "|NULL|[7B 22 75 73 65 7...|kafka-spark-produ...|        0| 11916|2025-05-10 04:28:...|            0|{\"userId\": 958, \"...|\n",
      "|NULL|[7B 22 75 73 65 7...|kafka-spark-produ...|        0| 11917|2025-05-10 04:28:...|            0|{\"userId\": 958, \"...|\n",
      "|NULL|[7B 22 75 73 65 7...|kafka-spark-produ...|        0| 11918|2025-05-10 04:28:...|            0|{\"userId\": 958, \"...|\n",
      "|NULL|[7B 22 75 73 65 7...|kafka-spark-produ...|        0| 11919|2025-05-10 04:28:...|            0|{\"userId\": 958, \"...|\n",
      "+----+--------------------+--------------------+---------+------+--------------------+-------------+--------------------+\n",
      "only showing top 20 rows\n",
      "\n"
     ]
    }
   ],
   "source": [
    "parquet_path = \"/home/jovyan/data\"\n",
    "df = spark.read.parquet(parquet_path)\n",
    "df.show()"
   ]
  },
  {
   "cell_type": "code",
   "execution_count": 14,
   "metadata": {},
   "outputs": [
    {
     "name": "stdout",
     "output_type": "stream",
     "text": [
      "+--------------------------------------------------------------------------------------------------------------------------------------------------+\n",
      "|value_str                                                                                                                                         |\n",
      "+--------------------------------------------------------------------------------------------------------------------------------------------------+\n",
      "|{\"userId\": 232, \"movieId\": 379, \"movieTitle\": \"Raven'S Peak: Citadel Rising\", \"genre\": \"Documentary\", \"rating\": 1, \"timestamp\": 1746851280182}    |\n",
      "|{\"userId\": 232, \"movieId\": 1043, \"movieTitle\": \"The Alien Horizon\", \"genre\": \"Comedy\", \"rating\": 9, \"timestamp\": 1746851280186}                   |\n",
      "|{\"userId\": 958, \"movieId\": 538, \"movieTitle\": \"Spaceship: Mythic Protocol\", \"genre\": \"Thriller\", \"rating\": 3, \"timestamp\": 1746851280189}         |\n",
      "|{\"userId\": 958, \"movieId\": 1133, \"movieTitle\": \"Beneath The Dark Empire\", \"genre\": \"Drama\", \"rating\": 7, \"timestamp\": 1746851280194}              |\n",
      "|{\"userId\": 232, \"movieId\": 1108, \"movieTitle\": \"Beneath The Steel Warrior\", \"genre\": \"Thriller\", \"rating\": 2, \"timestamp\": 1746851280192}         |\n",
      "|{\"userId\": 232, \"movieId\": 1088, \"movieTitle\": \"Warlock: Arcane Protocol\", \"genre\": \"Fantasy\", \"rating\": 2, \"timestamp\": 1746851280198}           |\n",
      "|{\"userId\": 958, \"movieId\": 180, \"movieTitle\": \"Silence Falls\", \"genre\": \"Action\", \"rating\": 3, \"timestamp\": 1746851280204}                        |\n",
      "|{\"userId\": 958, \"movieId\": 1974, \"movieTitle\": \"A Whisper In The Golden Princess\", \"genre\": \"Romance\", \"rating\": 7, \"timestamp\": 1746851280209}   |\n",
      "|{\"userId\": 958, \"movieId\": 93, \"movieTitle\": \"Project: Horizon\", \"genre\": \"Drama\", \"rating\": 3, \"timestamp\": 1746851280213}                       |\n",
      "|{\"userId\": 958, \"movieId\": 1175, \"movieTitle\": \"Freedom Falls\", \"genre\": \"Fantasy\", \"rating\": 1, \"timestamp\": 1746851280218}                      |\n",
      "|{\"userId\": 232, \"movieId\": 44, \"movieTitle\": \"The Unsolved Case Of The Suspect\", \"genre\": \"Documentary\", \"rating\": 2, \"timestamp\": 1746851280203} |\n",
      "|{\"userId\": 232, \"movieId\": 1918, \"movieTitle\": \"Curse Of The Crimson Phoenix\", \"genre\": \"Horror\", \"rating\": 9, \"timestamp\": 1746851280206}        |\n",
      "|{\"userId\": 232, \"movieId\": 1227, \"movieTitle\": \"The Last Sorcerer Of Camelot\", \"genre\": \"Thriller\", \"rating\": 10, \"timestamp\": 1746851280209}     |\n",
      "|{\"userId\": 232, \"movieId\": 1014, \"movieTitle\": \"Beyond Sirius\", \"genre\": \"Documentary\", \"rating\": 4, \"timestamp\": 1746851280212}                  |\n",
      "|{\"userId\": 232, \"movieId\": 678, \"movieTitle\": \"Legend Of The River\", \"genre\": \"Adventure\", \"rating\": 9, \"timestamp\": 1746851280214}               |\n",
      "|{\"userId\": 232, \"movieId\": 1274, \"movieTitle\": \"The Broken Obsession\", \"genre\": \"Romance\", \"rating\": 6, \"timestamp\": 1746851280225}               |\n",
      "|{\"userId\": 958, \"movieId\": 220, \"movieTitle\": \"Uprising From Pandora\", \"genre\": \"Action\", \"rating\": 2, \"timestamp\": 1746851280227}                |\n",
      "|{\"userId\": 958, \"movieId\": 883, \"movieTitle\": \"The Last Legends Of Serpent'S Coil\", \"genre\": \"Adventure\", \"rating\": 7, \"timestamp\": 1746851280232}|\n",
      "|{\"userId\": 958, \"movieId\": 1094, \"movieTitle\": \"The Orb'S Gambit\", \"genre\": \"Horror\", \"rating\": 4, \"timestamp\": 1746851280236}                    |\n",
      "|{\"userId\": 958, \"movieId\": 1418, \"movieTitle\": \"Secrets Of Cygnus X-1\", \"genre\": \"Drama\", \"rating\": 6, \"timestamp\": 1746851280240}                |\n",
      "+--------------------------------------------------------------------------------------------------------------------------------------------------+\n",
      "only showing top 20 rows\n",
      "\n"
     ]
    }
   ],
   "source": [
    "df.select(\"value_str\").show(truncate=False)"
   ]
  },
  {
   "cell_type": "markdown",
   "metadata": {},
   "source": [
    "## Seleccionar columnas clave y limpiar "
   ]
  },
  {
   "cell_type": "code",
   "execution_count": 15,
   "metadata": {},
   "outputs": [
    {
     "name": "stdout",
     "output_type": "stream",
     "text": [
      "+------+-------+--------------------+------+\n",
      "|userId|movieId|          movieTitle|rating|\n",
      "+------+-------+--------------------+------+\n",
      "|   232|    379|Raven'S Peak: Cit...|   1.0|\n",
      "|   232|   1043|   The Alien Horizon|   9.0|\n",
      "|   958|    538|Spaceship: Mythic...|   3.0|\n",
      "|   958|   1133|Beneath The Dark ...|   7.0|\n",
      "|   232|   1108|Beneath The Steel...|   2.0|\n",
      "+------+-------+--------------------+------+\n",
      "only showing top 5 rows\n",
      "\n"
     ]
    }
   ],
   "source": [
    "schema = SparkUtils.generate_schema(\n",
    "    [\n",
    "        (\"userId\", \"integer\"),\n",
    "        (\"movieId\", \"integer\"),\n",
    "        (\"movieTitle\", \"string\"),\n",
    "        (\"rating\", \"float\"),\n",
    "    ]\n",
    ")\n",
    "\n",
    "# Parsear y expandir el array de objetos JSON\n",
    "df_parsed = df.withColumn(\"json_array\", from_json(col(\"value_str\"), ArrayType(schema)))\n",
    "ratings_df = df_parsed.withColumn(\"entry\", explode(\"json_array\")).select(\"entry.*\")\n",
    "ratings_df.show(5)"
   ]
  },
  {
   "cell_type": "markdown",
   "metadata": {},
   "source": [
    "## Dividir en entrenamiento y prueba"
   ]
  },
  {
   "cell_type": "code",
   "execution_count": 16,
   "metadata": {},
   "outputs": [],
   "source": [
    "training, test = ratings_df.randomSplit([0.8, 0.2])"
   ]
  },
  {
   "cell_type": "markdown",
   "metadata": {},
   "source": [
    "# Configure ALS model"
   ]
  },
  {
   "cell_type": "code",
   "execution_count": 17,
   "metadata": {},
   "outputs": [],
   "source": [
    "als = ALS(\n",
    "    userCol=\"userId\",\n",
    "    itemCol=\"movieId\",\n",
    "    ratingCol=\"rating\",\n",
    "    coldStartStrategy=\"drop\",\n",
    "    nonnegative=True,\n",
    ")"
   ]
  },
  {
   "cell_type": "markdown",
   "metadata": {},
   "source": [
    "# TRAINNING"
   ]
  },
  {
   "cell_type": "code",
   "execution_count": 18,
   "metadata": {},
   "outputs": [
    {
     "name": "stderr",
     "output_type": "stream",
     "text": [
      "                                                                                \r"
     ]
    }
   ],
   "source": [
    "model = als.fit(training)"
   ]
  },
  {
   "cell_type": "markdown",
   "metadata": {},
   "source": [
    "# PREDICTIONS"
   ]
  },
  {
   "cell_type": "code",
   "execution_count": 19,
   "metadata": {},
   "outputs": [
    {
     "name": "stderr",
     "output_type": "stream",
     "text": [
      "[Stage 89:=====================================================> (97 + 1) / 100]\r"
     ]
    },
    {
     "name": "stdout",
     "output_type": "stream",
     "text": [
      "+------+-----------------------------------------------------------------------------------------------+\n",
      "|userId|recommendations                                                                                |\n",
      "+------+-----------------------------------------------------------------------------------------------+\n",
      "|17    |[{22, 12.109548}, {1753, 11.7491045}, {1116, 11.649764}, {1470, 11.466444}, {1141, 11.341025}] |\n",
      "|18    |[{1343, 10.9145355}, {1322, 10.913461}, {1423, 10.748011}, {290, 10.679306}, {1595, 10.227373}]|\n",
      "|19    |[{154, 13.8740015}, {1730, 12.453855}, {1646, 12.116268}, {31, 11.840824}, {1478, 11.635918}]  |\n",
      "|20    |[{1124, 10.311135}, {1578, 9.682019}, {1572, 9.503909}, {228, 9.211454}, {930, 8.967636}]      |\n",
      "|21    |[{1823, 8.859558}, {1655, 8.832734}, {626, 8.612838}, {480, 8.597667}, {575, 8.485322}]        |\n",
      "+------+-----------------------------------------------------------------------------------------------+\n",
      "only showing top 5 rows\n",
      "\n"
     ]
    },
    {
     "name": "stderr",
     "output_type": "stream",
     "text": [
      "                                                                                \r"
     ]
    }
   ],
   "source": [
    "# Generate recommendations for each user\n",
    "recommendations = model.recommendForAllUsers(5)\n",
    "\n",
    "# Show recommendations\n",
    "recommendations.show(5, truncate=False)"
   ]
  },
  {
   "cell_type": "markdown",
   "metadata": {},
   "source": [
    "## Recomendaciones Plus"
   ]
  },
  {
   "cell_type": "code",
   "execution_count": 20,
   "metadata": {},
   "outputs": [
    {
     "name": "stderr",
     "output_type": "stream",
     "text": [
      "                                                                                \r"
     ]
    },
    {
     "name": "stdout",
     "output_type": "stream",
     "text": [
      "+-------+------+----------------+----------------------------+\n",
      "|movieId|userId|predicted_rating|movieTitle                  |\n",
      "+-------+------+----------------+----------------------------+\n",
      "|22     |17    |12.109548       |Desert Of The Shadow Phoenix|\n",
      "|1753   |17    |11.7491045      |Echoes Of Justice           |\n",
      "|1116   |17    |11.649764       |The Deadly Case Of The Lies |\n",
      "|1470   |17    |11.466444       |The Last Ghost Of Titan     |\n",
      "|1141   |17    |11.341025       |The Crimson Revenant        |\n",
      "|1343   |18    |10.9145355      |Beyond Dragon'S Tooth       |\n",
      "|1322   |18    |10.913461       |The Last Ocean Of Gotham    |\n",
      "|1423   |18    |10.748011       |When The Sanctuary Awaken   |\n",
      "|290    |18    |10.679306       |Curse Of The Savage Fortress|\n",
      "|1595   |18    |10.227373       |Guest: A Deceptive Game     |\n",
      "+-------+------+----------------+----------------------------+\n",
      "only showing top 10 rows\n",
      "\n"
     ]
    }
   ],
   "source": [
    "recommendations_exp = recommendations.withColumn(\n",
    "    \"rec\", explode(\"recommendations\")\n",
    ").select(\n",
    "    \"userId\",\n",
    "    col(\"rec.movieId\").alias(\"movieId\"),\n",
    "    col(\"rec.rating\").alias(\"predicted_rating\"),\n",
    ")\n",
    "\n",
    "unique_titles = ratings_df.select(\"movieId\", \"movieTitle\").dropDuplicates([\"movieId\"])\n",
    "recs_final = recommendations_exp.join(unique_titles, on=\"movieId\", how=\"left\")\n",
    "recs_final.show(10, truncate=False)"
   ]
  },
  {
   "cell_type": "markdown",
   "metadata": {},
   "source": [
    "## Predictions for all data"
   ]
  },
  {
   "cell_type": "code",
   "execution_count": 21,
   "metadata": {},
   "outputs": [
    {
     "name": "stderr",
     "output_type": "stream",
     "text": [
      "                                                                                \r"
     ]
    },
    {
     "name": "stdout",
     "output_type": "stream",
     "text": [
      "+------+-------+--------------------------------+------+----------+\n",
      "|userId|movieId|movieTitle                      |rating|prediction|\n",
      "+------+-------+--------------------------------+------+----------+\n",
      "|48    |1018   |Order Falls                     |5.0   |2.1299624 |\n",
      "|48    |1847   |Echoes Of Madness               |5.0   |7.1993055 |\n",
      "|92    |1833   |A Whisper In The Savage Talisman|10.0  |5.210541  |\n",
      "|139   |621    |Beyond Serpent'S Coil           |8.0   |2.3395476 |\n",
      "|139   |716    |Portal From Gotham              |6.0   |4.9586782 |\n",
      "|200   |1739   |Curse Of The Brave Sanctuary    |6.0   |2.9644158 |\n",
      "|223   |401    |Project: Asteroid               |7.0   |3.2233055 |\n",
      "|223   |944    |Legend Of The Dragon            |10.0  |6.415805  |\n",
      "|223   |1050   |The Fatal Fear                  |5.0   |6.5421677 |\n",
      "|223   |1846   |Secrets Of Xylos                |3.0   |4.494069  |\n",
      "|267   |473    |Universe: Mythic Protocol       |9.0   |5.1872067 |\n",
      "|267   |1614   |Witness: A Hidden Game          |5.0   |8.101086  |\n",
      "|774   |1099   |The Bright Ghost                |4.0   |5.978741  |\n",
      "|817   |1258   |A Whisper In The Brave Nexus    |2.0   |6.942088  |\n",
      "|817   |1516   |Secrets Of Earth                |1.0   |3.1546528 |\n",
      "|818   |529    |Escape From Xylos               |7.0   |4.8177133 |\n",
      "|887   |1878   |Beneath The Eternal Dragon      |8.0   |5.468223  |\n",
      "|919   |15     |The Sanctuary'S Gambit          |6.0   |2.6875339 |\n",
      "|919   |345    |Beginning Falls                 |10.0  |5.165971  |\n",
      "|945   |431    |The Deceptive Letter            |3.0   |5.576683  |\n",
      "+------+-------+--------------------------------+------+----------+\n",
      "only showing top 20 rows\n",
      "\n"
     ]
    }
   ],
   "source": [
    "predictions = model.transform(test)\n",
    "predictions.show(truncate=False)"
   ]
  },
  {
   "cell_type": "markdown",
   "metadata": {},
   "source": [
    "# EVALUATE MODEL"
   ]
  },
  {
   "cell_type": "code",
   "execution_count": 22,
   "metadata": {},
   "outputs": [
    {
     "name": "stderr",
     "output_type": "stream",
     "text": [
      "                                                                                \r"
     ]
    },
    {
     "name": "stdout",
     "output_type": "stream",
     "text": [
      "\n",
      "[INFO] RMSE del modelo: 3.6799\n"
     ]
    }
   ],
   "source": [
    "# Set up evaluator to compute RMSE\n",
    "evaluator = RegressionEvaluator(\n",
    "    metricName=\"rmse\", \n",
    "    labelCol=\"rating\", \n",
    "    predictionCol=\"prediction\"\n",
    ")\n",
    "# Calculate RMSE\n",
    "rmse = evaluator.evaluate(predictions)\n",
    "print(\"\\n[INFO] RMSE del modelo:\", round(rmse, 4))"
   ]
  },
  {
   "cell_type": "markdown",
   "metadata": {},
   "source": [
    "## Exportar a CSV para Power BI"
   ]
  },
  {
   "cell_type": "code",
   "execution_count": 23,
   "metadata": {},
   "outputs": [
    {
     "name": "stderr",
     "output_type": "stream",
     "text": [
      "                                                                                \r"
     ]
    },
    {
     "name": "stdout",
     "output_type": "stream",
     "text": [
      "\n",
      "[INFO] Recomendaciones exportadas a: ./recommendations/final_recommendations.csv\n"
     ]
    },
    {
     "name": "stderr",
     "output_type": "stream",
     "text": [
      "                                                                                \r"
     ]
    }
   ],
   "source": [
    "output_path = \"./recommendations/final_recommendations.csv\"\n",
    "recs_final.write.option(\"header\", \"true\").mode(\"overwrite\").csv(output_path)\n",
    "\n",
    "print(\"\\n[INFO] Recomendaciones exportadas a:\", output_path)"
   ]
  },
  {
   "cell_type": "code",
   "execution_count": 24,
   "metadata": {},
   "outputs": [],
   "source": [
    "sc.stop()"
   ]
  }
 ],
 "metadata": {
  "kernelspec": {
   "display_name": "Python 3 (ipykernel)",
   "language": "python",
   "name": "python3"
  },
  "language_info": {
   "codemirror_mode": {
    "name": "ipython",
    "version": 3
   },
   "file_extension": ".py",
   "mimetype": "text/x-python",
   "name": "python",
   "nbconvert_exporter": "python",
   "pygments_lexer": "ipython3",
   "version": "3.11.6"
  }
 },
 "nbformat": 4,
 "nbformat_minor": 2
}
