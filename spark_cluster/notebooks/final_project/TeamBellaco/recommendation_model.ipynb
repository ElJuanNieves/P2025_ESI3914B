{
 "cells": [
  {
   "cell_type": "markdown",
   "metadata": {},
   "source": [
    "# <center> <img src=\"./img/ITESOLogo.png\" alt=\"ITESO\" width=\"480\" height=\"130\"> </center>\n",
    "# <center> **Departamento de Electrónica, Sistemas e Informática** </center>\n",
    "---\n",
    "## <center> **Procesamiento de Datos Masivos** </center>\n",
    "---\n",
    "### <center> **Primavera 2025** </center>\n",
    "---\n",
    "### <center> **Modelo de Recomendacion** </center>\n",
    "\n",
    "---\n",
    "**Alumnos**: David Abraham Naranjo Salgado, Benjamin Zarate y Angel Cortes"
   ]
  },
  {
   "cell_type": "code",
   "execution_count": 17,
   "metadata": {},
   "outputs": [],
   "source": [
    "import findspark\n",
    "findspark.init()"
   ]
  },
  {
   "cell_type": "markdown",
   "metadata": {},
   "source": [
    "#### Creacion de la conexión con el cluster de spark\n"
   ]
  },
  {
   "cell_type": "code",
   "execution_count": 18,
   "metadata": {},
   "outputs": [],
   "source": [
    "from pyspark.sql import SparkSession\n",
    "\n",
    "spark = SparkSession.builder \\\n",
    "    .appName(\"MLSpark-Recommender-Systems\") \\\n",
    "    .master(\"spark://873bad4e62fe:7077\") \\\n",
    "    .config(\"spark.ui.port\",\"4040\") \\\n",
    "    .getOrCreate()\n",
    "sc = spark.sparkContext\n",
    "spark.conf.set(\"spark.sql.shuffle.partitions\", \"5\")"
   ]
  },
  {
   "cell_type": "markdown",
   "metadata": {},
   "source": [
    "## Librerias"
   ]
  },
  {
   "cell_type": "code",
   "execution_count": 33,
   "metadata": {},
   "outputs": [],
   "source": [
    "from team_name.spark_utils import SparkUtils\n",
    "from pyspark.sql.functions import from_json, explode, col\n",
    "from pyspark.ml.recommendation import ALS\n",
    "from pyspark.ml.evaluation import RegressionEvaluator\n",
    "from pyspark.sql.types import StructType, StructField, IntegerType, FloatType, StringType, ArrayType"
   ]
  },
  {
   "cell_type": "markdown",
   "metadata": {},
   "source": [
    "# Preparación de Datos"
   ]
  },
  {
   "cell_type": "code",
   "execution_count": 34,
   "metadata": {},
   "outputs": [
    {
     "name": "stdout",
     "output_type": "stream",
     "text": [
      "+----+--------------------+--------------------+---------+------+--------------------+-------------+--------------------+\n",
      "| key|               value|               topic|partition|offset|           timestamp|timestampType|           value_str|\n",
      "+----+--------------------+--------------------+---------+------+--------------------+-------------+--------------------+\n",
      "|NULL|[7B 22 75 73 65 7...|kafka-spark-produ...|        0| 12683|2025-05-11 01:21:...|            0|{\"userId\": 1069, ...|\n",
      "|NULL|[7B 22 75 73 65 7...|kafka-spark-produ...|        0| 12684|2025-05-11 01:21:...|            0|{\"userId\": 1069, ...|\n",
      "|NULL|[7B 22 75 73 65 7...|kafka-spark-produ...|        0| 12685|2025-05-11 01:21:...|            0|{\"userId\": 1069, ...|\n",
      "|NULL|[7B 22 75 73 65 7...|kafka-spark-produ...|        0| 12686|2025-05-11 01:21:...|            0|{\"userId\": 1069, ...|\n",
      "|NULL|[7B 22 75 73 65 7...|kafka-spark-produ...|        0| 12687|2025-05-11 01:21:...|            0|{\"userId\": 1069, ...|\n",
      "|NULL|[7B 22 75 73 65 7...|kafka-spark-produ...|        0| 12688|2025-05-11 01:21:...|            0|{\"userId\": 1069, ...|\n",
      "|NULL|[7B 22 75 73 65 7...|kafka-spark-produ...|        0| 12689|2025-05-11 01:21:...|            0|{\"userId\": 1069, ...|\n",
      "|NULL|[7B 22 75 73 65 7...|kafka-spark-produ...|        0| 12690|2025-05-11 01:21:...|            0|{\"userId\": 1069, ...|\n",
      "|NULL|[7B 22 75 73 65 7...|kafka-spark-produ...|        0| 12691|2025-05-11 01:21:...|            0|{\"userId\": 1069, ...|\n",
      "|NULL|[7B 22 75 73 65 7...|kafka-spark-produ...|        0| 12692|2025-05-11 01:21:...|            0|{\"userId\": 1069, ...|\n",
      "|NULL|[7B 22 75 73 65 7...|kafka-spark-produ...|        0| 12693|2025-05-11 01:21:...|            0|{\"userId\": 1070, ...|\n",
      "|NULL|[7B 22 75 73 65 7...|kafka-spark-produ...|        0| 12694|2025-05-11 01:21:...|            0|{\"userId\": 1070, ...|\n",
      "|NULL|[7B 22 75 73 65 7...|kafka-spark-produ...|        0| 12695|2025-05-11 01:21:...|            0|{\"userId\": 1070, ...|\n",
      "|NULL|[7B 22 75 73 65 7...|kafka-spark-produ...|        0| 12696|2025-05-11 01:21:...|            0|{\"userId\": 1070, ...|\n",
      "|NULL|[7B 22 75 73 65 7...|kafka-spark-produ...|        0| 12697|2025-05-11 01:21:...|            0|{\"userId\": 1070, ...|\n",
      "|NULL|[7B 22 75 73 65 7...|kafka-spark-produ...|        0| 12698|2025-05-11 01:21:...|            0|{\"userId\": 1070, ...|\n",
      "|NULL|[7B 22 75 73 65 7...|kafka-spark-produ...|        0| 12699|2025-05-11 01:21:...|            0|{\"userId\": 1070, ...|\n",
      "|NULL|[7B 22 75 73 65 7...|kafka-spark-produ...|        0| 12700|2025-05-11 01:21:...|            0|{\"userId\": 1070, ...|\n",
      "|NULL|[7B 22 75 73 65 7...|kafka-spark-produ...|        0| 12701|2025-05-11 01:21:...|            0|{\"userId\": 1070, ...|\n",
      "|NULL|[7B 22 75 73 65 7...|kafka-spark-produ...|        0| 12702|2025-05-11 01:21:...|            0|{\"userId\": 1070, ...|\n",
      "+----+--------------------+--------------------+---------+------+--------------------+-------------+--------------------+\n",
      "only showing top 20 rows\n",
      "\n"
     ]
    }
   ],
   "source": [
    "parquet_path = \"/home/jovyan/data\"\n",
    "df = spark.read.parquet(parquet_path)\n",
    "df.show()"
   ]
  },
  {
   "cell_type": "code",
   "execution_count": 35,
   "metadata": {},
   "outputs": [
    {
     "name": "stdout",
     "output_type": "stream",
     "text": [
      "+--------------------------------------------------------------------------------------------------------------------------------------------------+\n",
      "|value_str                                                                                                                                         |\n",
      "+--------------------------------------------------------------------------------------------------------------------------------------------------+\n",
      "|{\"userId\": 1069, \"movieId\": 965, \"movieTitle\": \"The Azure Island\", \"genre\": \"Action\", \"rating\": 8, \"timestamp\": 1746926499488}                    |\n",
      "|{\"userId\": 1069, \"movieId\": 1121, \"movieTitle\": \"Warlock From Titan\", \"genre\": \"Documentary\", \"rating\": 9, \"timestamp\": 1746926499491}            |\n",
      "|{\"userId\": 1069, \"movieId\": 1439, \"movieTitle\": \"The Last Desert Of Blackwood Manor\", \"genre\": \"Comedy\", \"rating\": 10, \"timestamp\": 1746926499494}|\n",
      "|{\"userId\": 1069, \"movieId\": 1108, \"movieTitle\": \"Prince Of The Golden Scrolls\", \"genre\": \"Fantasy\", \"rating\": 9, \"timestamp\": 1746926499498}      |\n",
      "|{\"userId\": 1069, \"movieId\": 635, \"movieTitle\": \"Silent Order\", \"genre\": \"Adventure\", \"rating\": 1, \"timestamp\": 1746926499501}                     |\n",
      "|{\"userId\": 1069, \"movieId\": 111, \"movieTitle\": \"The Future Singularity\", \"genre\": \"Adventure\", \"rating\": 3, \"timestamp\": 1746926499504}           |\n",
      "|{\"userId\": 1069, \"movieId\": 649, \"movieTitle\": \"Asteroid From Valhalla\", \"genre\": \"Action\", \"rating\": 4, \"timestamp\": 1746926499514}              |\n",
      "|{\"userId\": 1069, \"movieId\": 1095, \"movieTitle\": \"Beneath The Eternal Forest\", \"genre\": \"Comedy\", \"rating\": 9, \"timestamp\": 1746926499518}         |\n",
      "|{\"userId\": 1069, \"movieId\": 541, \"movieTitle\": \"Metropolis: Phoenix Rising\", \"genre\": \"Horror\", \"rating\": 5, \"timestamp\": 1746926499522}          |\n",
      "|{\"userId\": 1069, \"movieId\": 361, \"movieTitle\": \"Escape From Neptune\", \"genre\": \"Drama\", \"rating\": 2, \"timestamp\": 1746926499524}                  |\n",
      "|{\"userId\": 1070, \"movieId\": 206, \"movieTitle\": \"The Ivory Nexus\", \"genre\": \"Action\", \"rating\": 2, \"timestamp\": 1746926501527}                     |\n",
      "|{\"userId\": 1070, \"movieId\": 1100, \"movieTitle\": \"Echoes Of Despair\", \"genre\": \"Drama\", \"rating\": 2, \"timestamp\": 1746926501530}                   |\n",
      "|{\"userId\": 1070, \"movieId\": 147, \"movieTitle\": \"The Last Ocean Of Raven'S Peak\", \"genre\": \"Sci-Fi\", \"rating\": 6, \"timestamp\": 1746926501534}      |\n",
      "|{\"userId\": 1070, \"movieId\": 174, \"movieTitle\": \"The Quest'S Gambit\", \"genre\": \"Sci-Fi\", \"rating\": 7, \"timestamp\": 1746926501537}                  |\n",
      "|{\"userId\": 1070, \"movieId\": 1349, \"movieTitle\": \"Saving The Guardian\", \"genre\": \"Fantasy\", \"rating\": 1, \"timestamp\": 1746926501539}               |\n",
      "|{\"userId\": 1070, \"movieId\": 1686, \"movieTitle\": \"Beyond Raven'S Peak\", \"genre\": \"Sci-Fi\", \"rating\": 8, \"timestamp\": 1746926501542}                |\n",
      "|{\"userId\": 1070, \"movieId\": 1508, \"movieTitle\": \"Key: A Cold Game\", \"genre\": \"Romance\", \"rating\": 8, \"timestamp\": 1746926501545}                  |\n",
      "|{\"userId\": 1070, \"movieId\": 1643, \"movieTitle\": \"The Galactic Serpent\", \"genre\": \"Thriller\", \"rating\": 9, \"timestamp\": 1746926501547}             |\n",
      "|{\"userId\": 1070, \"movieId\": 1435, \"movieTitle\": \"The Phantom River\", \"genre\": \"Horror\", \"rating\": 4, \"timestamp\": 1746926501549}                  |\n",
      "|{\"userId\": 1070, \"movieId\": 681, \"movieTitle\": \"When The Throne Sleep\", \"genre\": \"Comedy\", \"rating\": 6, \"timestamp\": 1746926501551}               |\n",
      "+--------------------------------------------------------------------------------------------------------------------------------------------------+\n",
      "only showing top 20 rows\n",
      "\n"
     ]
    }
   ],
   "source": [
    "df.select(\"value_str\").show(truncate=False)"
   ]
  },
  {
   "cell_type": "markdown",
   "metadata": {},
   "source": [
    "## Seleccionar columnas clave y limpiar "
   ]
  },
  {
   "cell_type": "code",
   "execution_count": 36,
   "metadata": {},
   "outputs": [
    {
     "name": "stdout",
     "output_type": "stream",
     "text": [
      "+------+-------+--------------------+------+\n",
      "|userId|movieId|          movieTitle|rating|\n",
      "+------+-------+--------------------+------+\n",
      "|  1069|    965|    The Azure Island|   8.0|\n",
      "|  1069|   1121|  Warlock From Titan|   9.0|\n",
      "|  1069|   1439|The Last Desert O...|  10.0|\n",
      "|  1069|   1108|Prince Of The Gol...|   9.0|\n",
      "|  1069|    635|        Silent Order|   1.0|\n",
      "+------+-------+--------------------+------+\n",
      "only showing top 5 rows\n",
      "\n"
     ]
    }
   ],
   "source": [
    "schema = SparkUtils.generate_schema(\n",
    "    [\n",
    "        (\"userId\", \"integer\"),\n",
    "        (\"movieId\", \"integer\"),\n",
    "        (\"movieTitle\", \"string\"),\n",
    "        (\"rating\", \"float\"),\n",
    "    ]\n",
    ")\n",
    "\n",
    "# Parsear y expandir el array de objetos JSON\n",
    "df_parsed = df.withColumn(\"json_array\", from_json(col(\"value_str\"), ArrayType(schema)))\n",
    "ratings_df = df_parsed.withColumn(\"entry\", explode(\"json_array\")).select(\"entry.*\")\n",
    "ratings_df.show(5)"
   ]
  },
  {
   "cell_type": "markdown",
   "metadata": {},
   "source": [
    "## Dividir en entrenamiento y prueba"
   ]
  },
  {
   "cell_type": "code",
   "execution_count": 37,
   "metadata": {},
   "outputs": [],
   "source": [
    "training, test = ratings_df.randomSplit([0.8, 0.2])"
   ]
  },
  {
   "cell_type": "markdown",
   "metadata": {},
   "source": [
    "# Configure ALS model"
   ]
  },
  {
   "cell_type": "code",
   "execution_count": 38,
   "metadata": {},
   "outputs": [],
   "source": [
    "als = ALS(\n",
    "    userCol=\"userId\",\n",
    "    itemCol=\"movieId\",\n",
    "    ratingCol=\"rating\",\n",
    "    coldStartStrategy=\"drop\",\n",
    "    nonnegative=True,\n",
    ")"
   ]
  },
  {
   "cell_type": "markdown",
   "metadata": {},
   "source": [
    "# TRAINNING"
   ]
  },
  {
   "cell_type": "code",
   "execution_count": 39,
   "metadata": {},
   "outputs": [],
   "source": [
    "model = als.fit(training)"
   ]
  },
  {
   "cell_type": "markdown",
   "metadata": {},
   "source": [
    "# PREDICTIONS"
   ]
  },
  {
   "cell_type": "code",
   "execution_count": 40,
   "metadata": {},
   "outputs": [
    {
     "name": "stderr",
     "output_type": "stream",
     "text": [
      "[Stage 384:==================================================>   (94 + 1) / 100]\r"
     ]
    },
    {
     "name": "stdout",
     "output_type": "stream",
     "text": [
      "+------+------------------------------------------------------------------------------------------+\n",
      "|userId|recommendations                                                                           |\n",
      "+------+------------------------------------------------------------------------------------------+\n",
      "|0     |[{710, 10.261556}, {1488, 10.212853}, {1231, 9.979702}, {593, 9.9467535}, {287, 9.852462}]|\n",
      "|1     |[{250, 10.571926}, {1530, 9.85277}, {793, 9.715438}, {589, 9.623798}, {1987, 9.615686}]   |\n",
      "|2     |[{250, 8.705419}, {589, 8.440251}, {47, 8.160182}, {793, 8.14972}, {1463, 7.905716}]      |\n",
      "|3     |[{825, 10.197342}, {720, 9.877963}, {613, 9.795914}, {1270, 9.778091}, {1943, 9.524079}]  |\n",
      "|4     |[{1349, 9.704831}, {1943, 9.321889}, {996, 9.030924}, {1565, 8.829642}, {1510, 8.651744}] |\n",
      "+------+------------------------------------------------------------------------------------------+\n",
      "only showing top 5 rows\n",
      "\n"
     ]
    },
    {
     "name": "stderr",
     "output_type": "stream",
     "text": [
      "                                                                                \r"
     ]
    }
   ],
   "source": [
    "# Generate recommendations for each user\n",
    "recommendations = model.recommendForAllUsers(5)\n",
    "\n",
    "# Show recommendations\n",
    "recommendations.show(5, truncate=False)"
   ]
  },
  {
   "cell_type": "markdown",
   "metadata": {},
   "source": [
    "## Recomendaciones Plus"
   ]
  },
  {
   "cell_type": "code",
   "execution_count": 41,
   "metadata": {},
   "outputs": [
    {
     "name": "stderr",
     "output_type": "stream",
     "text": [
      "                                                                                \r"
     ]
    },
    {
     "name": "stdout",
     "output_type": "stream",
     "text": [
      "+-------+------+----------------+-------------------------------+\n",
      "|movieId|userId|predicted_rating|movieTitle                     |\n",
      "+-------+------+----------------+-------------------------------+\n",
      "|710    |0     |10.261556       |Beyond Xylos                   |\n",
      "|1488   |0     |10.212853       |The River'S Gambit             |\n",
      "|1231   |0     |9.979702        |Ancient Beginning              |\n",
      "|593    |0     |9.9467535       |The Steel Knight               |\n",
      "|287    |0     |9.852462        |Chronicles Of Andromeda        |\n",
      "|250    |1     |10.571926       |Curse Of The Silent Wolf       |\n",
      "|1530   |1     |9.85277         |Legend Of The Secrets          |\n",
      "|793    |1     |9.715438        |Warlock From Cygnus X-1        |\n",
      "|589    |1     |9.623798        |The Last Prophecy Of Cygnus X-1|\n",
      "|1987   |1     |9.615686        |The Martian Asteroid           |\n",
      "+-------+------+----------------+-------------------------------+\n",
      "only showing top 10 rows\n",
      "\n"
     ]
    }
   ],
   "source": [
    "recommendations_exp = recommendations.withColumn(\n",
    "    \"rec\", explode(\"recommendations\")\n",
    ").select(\n",
    "    \"userId\",\n",
    "    col(\"rec.movieId\").alias(\"movieId\"),\n",
    "    col(\"rec.rating\").alias(\"predicted_rating\"),\n",
    ")\n",
    "\n",
    "unique_titles = ratings_df.select(\"movieId\", \"movieTitle\").dropDuplicates([\"movieId\"])\n",
    "recs_final = recommendations_exp.join(unique_titles, on=\"movieId\", how=\"left\")\n",
    "recs_final.show(10, truncate=False)"
   ]
  },
  {
   "cell_type": "markdown",
   "metadata": {},
   "source": [
    "## Predictions for all data"
   ]
  },
  {
   "cell_type": "code",
   "execution_count": 42,
   "metadata": {},
   "outputs": [
    {
     "name": "stdout",
     "output_type": "stream",
     "text": [
      "+------+-------+-------------------------------+------+----------+\n",
      "|userId|movieId|movieTitle                     |rating|prediction|\n",
      "+------+-------+-------------------------------+------+----------+\n",
      "|32    |1229   |Pact: A Twisted Game           |1.0   |3.320629  |\n",
      "|32    |1818   |Cosmic Chaos                   |5.0   |2.4053178 |\n",
      "|68    |409    |The Fatal Case Of The Pact     |2.0   |1.9934825 |\n",
      "|69    |1082   |The Hidden Shadow              |8.0   |4.160407  |\n",
      "|131   |1241   |The Dimensional Comet          |1.0   |0.4048561 |\n",
      "|131   |1827   |Asteroid From Serpent'S Coil   |1.0   |2.9301553 |\n",
      "|131   |1891   |Serpent'S Coil: Talisman Rising|4.0   |4.8730907 |\n",
      "|1070  |147    |The Last Ocean Of Raven'S Peak |6.0   |0.25301555|\n",
      "|1070  |1435   |The Phantom River              |4.0   |2.2409725 |\n",
      "|1070  |1643   |The Galactic Serpent           |9.0   |2.3113923 |\n",
      "|1088  |17     |Titan: Curse Rising            |7.0   |0.7081719 |\n",
      "|1115  |603    |When The Guardian Rise         |8.0   |1.9861609 |\n",
      "|1115  |1243   |Universe From Mars             |8.0   |2.2534935 |\n",
      "|2006  |1589   |Dwarf From Xylos               |10.0  |2.1864493 |\n",
      "|2012  |148    |Hope Falls                     |8.0   |4.3528137 |\n",
      "|2012  |194    |Ocean Of The Eternal Orb       |8.0   |7.182095  |\n",
      "|2012  |1543   |The Forest'S Gambit            |10.0  |6.605607  |\n",
      "|2018  |603    |When The Guardian Rise         |1.0   |2.643443  |\n",
      "|2142  |62     |Noble Eternity                 |9.0   |3.879708  |\n",
      "|2142  |1209   |Forgotten Dawn                 |3.0   |2.4012427 |\n",
      "+------+-------+-------------------------------+------+----------+\n",
      "only showing top 20 rows\n",
      "\n"
     ]
    }
   ],
   "source": [
    "predictions = model.transform(test)\n",
    "predictions.show(truncate=False)"
   ]
  },
  {
   "cell_type": "markdown",
   "metadata": {},
   "source": [
    "# EVALUATE MODEL"
   ]
  },
  {
   "cell_type": "code",
   "execution_count": 43,
   "metadata": {},
   "outputs": [
    {
     "name": "stdout",
     "output_type": "stream",
     "text": [
      "\n",
      "[INFO] RMSE del modelo: 4.2162\n"
     ]
    }
   ],
   "source": [
    "# Set up evaluator to compute RMSE\n",
    "evaluator = RegressionEvaluator(\n",
    "    metricName=\"rmse\", \n",
    "    labelCol=\"rating\", \n",
    "    predictionCol=\"prediction\"\n",
    ")\n",
    "# Calculate RMSE\n",
    "rmse = evaluator.evaluate(predictions)\n",
    "print(\"\\n[INFO] RMSE del modelo:\", round(rmse, 4))"
   ]
  },
  {
   "cell_type": "markdown",
   "metadata": {},
   "source": [
    "## Exportar a CSV para Power BI"
   ]
  },
  {
   "cell_type": "code",
   "execution_count": null,
   "metadata": {},
   "outputs": [
    {
     "name": "stdout",
     "output_type": "stream",
     "text": [
      "Guardando como parquet...\n"
     ]
    },
    {
     "name": "stderr",
     "output_type": "stream",
     "text": [
      "                                                                                \r"
     ]
    },
    {
     "name": "stdout",
     "output_type": "stream",
     "text": [
      "Leyendo parquet...\n",
      "Error: [UNABLE_TO_INFER_SCHEMA] Unable to infer schema for Parquet. It must be specified manually.\n"
     ]
    }
   ],
   "source": [
    "# Convertir a pandas y guardar directamente\n",
    "try:\n",
    "    print(\"Convirtiendo a pandas...\")\n",
    "    pandas_df = recs_final.toPandas()\n",
    "    print(f\"DataFrame convertido a pandas con {len(pandas_df)} filas\")\n",
    "    \n",
    "    # Definir ruta absoluta\n",
    "    import os\n",
    "    csv_path = os.path.join(os.getcwd(), \"final_recommendations.csv\")\n",
    "    \n",
    "    # Guardar con pandas\n",
    "    pandas_df.to_csv(csv_path, index=False)\n",
    "    print(f\"Archivo guardado con pandas en: {csv_path}\")\n",
    "    \n",
    "    # Verificar que existe\n",
    "    if os.path.exists(csv_path):\n",
    "        print(f\"¡Éxito! Archivo creado con tamaño: {os.path.getsize(csv_path)} bytes\")\n",
    "    else:\n",
    "        print(\"Error: El archivo no se creó\")\n",
    "except Exception as e:\n",
    "    print(f\"Error durante la exportación: {str(e)}\")"
   ]
  },
  {
   "cell_type": "code",
   "execution_count": null,
   "metadata": {},
   "outputs": [],
   "source": [
    "sc.stop()"
   ]
  },
  {
   "cell_type": "code",
   "execution_count": null,
   "metadata": {},
   "outputs": [],
   "source": []
  }
 ],
 "metadata": {
  "kernelspec": {
   "display_name": "Python 3 (ipykernel)",
   "language": "python",
   "name": "python3"
  },
  "language_info": {
   "codemirror_mode": {
    "name": "ipython",
    "version": 3
   },
   "file_extension": ".py",
   "mimetype": "text/x-python",
   "name": "python",
   "nbconvert_exporter": "python",
   "pygments_lexer": "ipython3",
   "version": "3.11.6"
  }
 },
 "nbformat": 4,
 "nbformat_minor": 2
}
