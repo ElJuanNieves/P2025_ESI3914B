{
 "cells": [
  {
   "cell_type": "markdown",
   "metadata": {},
   "source": [
    "# <center> <img src=\"../../labs/img/ITESOLogo.png\" alt=\"ITESO\" width=\"480\" height=\"130\"> </center>\n",
    "# <center> **Departamento de Electrónica, Sistemas e Informática** </center>\n",
    "---\n",
    "## <center> **Procesamiento de Datos Masivos** </center>\n",
    "---\n",
    "### <center> **Primavera 2025** </center>\n",
    "---\n",
    "### <center> **Kafka Producer: Financial Transaction Generator** </center>\n",
    "\n",
    "---\n",
    "**Profesor**: Dr. Pablo Camarillo Ramirez"
   ]
  },
  {
   "cell_type": "markdown",
   "metadata": {},
   "source": [
    "### Invoke the transaction data generator"
   ]
  },
  {
   "cell_type": "code",
   "execution_count": 2,
   "metadata": {},
   "outputs": [
    {
     "name": "stdout",
     "output_type": "stream",
     "text": [
      "\u001b[33mWARNING: The directory '/home/jovyan/.cache/pip' or its parent directory is not owned or is not writable by the current user. The cache has been disabled. Check the permissions and owner of that directory. If executing pip with sudo, you should use sudo's -H flag.\u001b[0m\u001b[33m\n",
      "\u001b[0m\u001b[31mERROR: Could not find a version that satisfies the requirement python-kafka (from versions: none)\u001b[0m\u001b[31m\n",
      "\u001b[0m\u001b[31mERROR: No matching distribution found for python-kafka\u001b[0m\u001b[31m\n",
      "\u001b[0mNote: you may need to restart the kernel to use updated packages.\n"
     ]
    }
   ],
   "source": [
    "%pip install python-kafka"
   ]
  },
  {
   "cell_type": "code",
   "execution_count": 2,
   "metadata": {},
   "outputs": [
    {
     "name": "stdout",
     "output_type": "stream",
     "text": [
      "[Instagram] Sent to instagram-topic: {'platform': 'Instagram', 'user_id': 'user_ig_321', 'post_id': 'post_1845', 'event_time': '2025-04-29 17:39:10', 'likes': 330, 'comments': 409, 'shares': 20}\n",
      "[Facebook] Sent to facebook-topic: {'platform': 'Facebook', 'user_id': 'user_fb_138', 'post_id': 'post_5264', 'event_time': '2025-04-29 17:39:11', 'likes': 2873, 'comments': 694, 'shares': 98}\n",
      "[Facebook] Sent to facebook-topic: {'platform': 'Facebook', 'user_id': 'user_fb_431', 'post_id': 'post_8636', 'event_time': '2025-04-29 17:39:12', 'likes': 2212, 'comments': 388, 'shares': 1}\n",
      "[Twitter] Sent to twitter-topic: {'platform': 'Twitter', 'user_id': 'user_tw_216', 'tweet_id': 'tweet_67663', 'event_time': '2025-04-29 17:39:14', 'likes': 1718, 'retweets': 356, 'replies': 71}\n",
      "[Facebook] Sent to facebook-topic: {'platform': 'Facebook', 'user_id': 'user_fb_487', 'post_id': 'post_8356', 'event_time': '2025-04-29 17:39:15', 'likes': 2658, 'comments': 33, 'shares': 107}\n",
      "[Twitter] Sent to twitter-topic: {'platform': 'Twitter', 'user_id': 'user_tw_319', 'tweet_id': 'tweet_45220', 'event_time': '2025-04-29 17:39:16', 'likes': 64, 'retweets': 202, 'replies': 187}\n",
      "[TikTok] Sent to tiktok-topic: {'platform': 'TikTok', 'user_id': 'user_tt_364', 'video_id': 'vid_26017', 'event_time': '2025-04-29 17:39:17', 'likes': 5683, 'shares': 191, 'comments': 286}\n",
      "[Twitter] Sent to twitter-topic: {'platform': 'Twitter', 'user_id': 'user_tw_48', 'tweet_id': 'tweet_72053', 'event_time': '2025-04-29 17:39:19', 'likes': 1856, 'retweets': 9, 'replies': 164}\n",
      "[Instagram] Sent to instagram-topic: {'platform': 'Instagram', 'user_id': 'user_ig_183', 'post_id': 'post_3321', 'event_time': '2025-04-29 17:39:21', 'likes': 2452, 'comments': 132, 'shares': 13}\n",
      "[TikTok] Sent to tiktok-topic: {'platform': 'TikTok', 'user_id': 'user_tt_211', 'video_id': 'vid_21422', 'event_time': '2025-04-29 17:39:23', 'likes': 3899, 'shares': 57, 'comments': 589}\n",
      "[Instagram] Sent to instagram-topic: {'platform': 'Instagram', 'user_id': 'user_ig_281', 'post_id': 'post_5061', 'event_time': '2025-04-29 17:39:24', 'likes': 4336, 'comments': 29, 'shares': 36}\n",
      "[Facebook] Sent to facebook-topic: {'platform': 'Facebook', 'user_id': 'user_fb_155', 'post_id': 'post_2522', 'event_time': '2025-04-29 17:39:25', 'likes': 795, 'comments': 255, 'shares': 104}\n",
      "[Twitter] Sent to twitter-topic: {'platform': 'Twitter', 'user_id': 'user_tw_409', 'tweet_id': 'tweet_72125', 'event_time': '2025-04-29 17:39:27', 'likes': 202, 'retweets': 389, 'replies': 243}\n",
      "[Instagram] Sent to instagram-topic: {'platform': 'Instagram', 'user_id': 'user_ig_324', 'post_id': 'post_8838', 'event_time': '2025-04-29 17:39:28', 'likes': 583, 'comments': 478, 'shares': 52}\n",
      "[Facebook] Sent to facebook-topic: {'platform': 'Facebook', 'user_id': 'user_fb_375', 'post_id': 'post_7407', 'event_time': '2025-04-29 17:39:30', 'likes': 1397, 'comments': 82, 'shares': 97}\n",
      "[Instagram] Sent to instagram-topic: {'platform': 'Instagram', 'user_id': 'user_ig_112', 'post_id': 'post_9227', 'event_time': '2025-04-29 17:39:30', 'likes': 1936, 'comments': 30, 'shares': 89}\n",
      "[TikTok] Sent to tiktok-topic: {'platform': 'TikTok', 'user_id': 'user_tt_15', 'video_id': 'vid_72354', 'event_time': '2025-04-29 17:39:32', 'likes': 5152, 'shares': 234, 'comments': 592}\n",
      "[Facebook] Sent to facebook-topic: {'platform': 'Facebook', 'user_id': 'user_fb_374', 'post_id': 'post_4430', 'event_time': '2025-04-29 17:39:34', 'likes': 3621, 'comments': 322, 'shares': 70}\n",
      "[Twitter] Sent to twitter-topic: {'platform': 'Twitter', 'user_id': 'user_tw_240', 'tweet_id': 'tweet_56219', 'event_time': '2025-04-29 17:39:36', 'likes': 1383, 'retweets': 398, 'replies': 37}\n",
      "[Instagram] Sent to instagram-topic: {'platform': 'Instagram', 'user_id': 'user_ig_488', 'post_id': 'post_7531', 'event_time': '2025-04-29 17:39:36', 'likes': 4764, 'comments': 287, 'shares': 33}\n",
      "[Twitter] Sent to twitter-topic: {'platform': 'Twitter', 'user_id': 'user_tw_171', 'tweet_id': 'tweet_95455', 'event_time': '2025-04-29 17:39:38', 'likes': 914, 'retweets': 17, 'replies': 183}\n",
      "[Instagram] Sent to instagram-topic: {'platform': 'Instagram', 'user_id': 'user_ig_134', 'post_id': 'post_6052', 'event_time': '2025-04-29 17:39:40', 'likes': 4574, 'comments': 252, 'shares': 55}\n",
      "[Twitter] Sent to twitter-topic: {'platform': 'Twitter', 'user_id': 'user_tw_288', 'tweet_id': 'tweet_30020', 'event_time': '2025-04-29 17:39:41', 'likes': 252, 'retweets': 464, 'replies': 194}\n",
      "[Facebook] Sent to facebook-topic: {'platform': 'Facebook', 'user_id': 'user_fb_314', 'post_id': 'post_2656', 'event_time': '2025-04-29 17:39:43', 'likes': 1576, 'comments': 349, 'shares': 127}\n",
      "[Facebook] Sent to facebook-topic: {'platform': 'Facebook', 'user_id': 'user_fb_178', 'post_id': 'post_6975', 'event_time': '2025-04-29 17:39:44', 'likes': 2209, 'comments': 8, 'shares': 96}\n",
      "[Twitter] Sent to twitter-topic: {'platform': 'Twitter', 'user_id': 'user_tw_382', 'tweet_id': 'tweet_87612', 'event_time': '2025-04-29 17:39:46', 'likes': 761, 'retweets': 339, 'replies': 91}\n",
      "[Twitter] Sent to twitter-topic: {'platform': 'Twitter', 'user_id': 'user_tw_421', 'tweet_id': 'tweet_67796', 'event_time': '2025-04-29 17:39:47', 'likes': 748, 'retweets': 145, 'replies': 224}\n",
      "[Facebook] Sent to facebook-topic: {'platform': 'Facebook', 'user_id': 'user_fb_374', 'post_id': 'post_3909', 'event_time': '2025-04-29 17:39:49', 'likes': 1273, 'comments': 447, 'shares': 190}\n",
      "[TikTok] Sent to tiktok-topic: {'platform': 'TikTok', 'user_id': 'user_tt_166', 'video_id': 'vid_72658', 'event_time': '2025-04-29 17:39:50', 'likes': 974, 'shares': 235, 'comments': 119}\n",
      "[Facebook] Sent to facebook-topic: {'platform': 'Facebook', 'user_id': 'user_fb_53', 'post_id': 'post_2034', 'event_time': '2025-04-29 17:39:50', 'likes': 3244, 'comments': 474, 'shares': 115}\n",
      "[Instagram] Sent to instagram-topic: {'platform': 'Instagram', 'user_id': 'user_ig_482', 'post_id': 'post_1566', 'event_time': '2025-04-29 17:39:52', 'likes': 1129, 'comments': 112, 'shares': 55}\n",
      "[TikTok] Sent to tiktok-topic: {'platform': 'TikTok', 'user_id': 'user_tt_297', 'video_id': 'vid_98317', 'event_time': '2025-04-29 17:39:53', 'likes': 7047, 'shares': 86, 'comments': 243}\n",
      "[TikTok] Sent to tiktok-topic: {'platform': 'TikTok', 'user_id': 'user_tt_136', 'video_id': 'vid_94560', 'event_time': '2025-04-29 17:39:54', 'likes': 3238, 'shares': 33, 'comments': 491}\n",
      "[Facebook] Sent to facebook-topic: {'platform': 'Facebook', 'user_id': 'user_fb_42', 'post_id': 'post_9409', 'event_time': '2025-04-29 17:39:55', 'likes': 3339, 'comments': 251, 'shares': 158}\n",
      "[Instagram] Sent to instagram-topic: {'platform': 'Instagram', 'user_id': 'user_ig_446', 'post_id': 'post_7161', 'event_time': '2025-04-29 17:39:56', 'likes': 258, 'comments': 64, 'shares': 62}\n",
      "[TikTok] Sent to tiktok-topic: {'platform': 'TikTok', 'user_id': 'user_tt_434', 'video_id': 'vid_14679', 'event_time': '2025-04-29 17:39:57', 'likes': 6609, 'shares': 236, 'comments': 28}\n",
      "[Facebook] Sent to facebook-topic: {'platform': 'Facebook', 'user_id': 'user_fb_387', 'post_id': 'post_5599', 'event_time': '2025-04-29 17:39:58', 'likes': 1835, 'comments': 584, 'shares': 125}\n",
      "[TikTok] Sent to tiktok-topic: {'platform': 'TikTok', 'user_id': 'user_tt_134', 'video_id': 'vid_62163', 'event_time': '2025-04-29 17:39:59', 'likes': 5259, 'shares': 107, 'comments': 246}\n",
      "[Twitter] Sent to twitter-topic: {'platform': 'Twitter', 'user_id': 'user_tw_294', 'tweet_id': 'tweet_65021', 'event_time': '2025-04-29 17:40:00', 'likes': 600, 'retweets': 401, 'replies': 124}\n",
      "[Facebook] Sent to facebook-topic: {'platform': 'Facebook', 'user_id': 'user_fb_391', 'post_id': 'post_7408', 'event_time': '2025-04-29 17:40:02', 'likes': 1919, 'comments': 387, 'shares': 33}\n",
      "[Twitter] Sent to twitter-topic: {'platform': 'Twitter', 'user_id': 'user_tw_292', 'tweet_id': 'tweet_68831', 'event_time': '2025-04-29 17:40:03', 'likes': 1051, 'retweets': 184, 'replies': 75}\n",
      "[TikTok] Sent to tiktok-topic: {'platform': 'TikTok', 'user_id': 'user_tt_423', 'video_id': 'vid_62385', 'event_time': '2025-04-29 17:40:05', 'likes': 1923, 'shares': 268, 'comments': 233}\n",
      "[Twitter] Sent to twitter-topic: {'platform': 'Twitter', 'user_id': 'user_tw_464', 'tweet_id': 'tweet_87688', 'event_time': '2025-04-29 17:40:07', 'likes': 1675, 'retweets': 28, 'replies': 190}\n",
      "[Facebook] Sent to facebook-topic: {'platform': 'Facebook', 'user_id': 'user_fb_466', 'post_id': 'post_6224', 'event_time': '2025-04-29 17:40:09', 'likes': 2453, 'comments': 446, 'shares': 25}\n",
      "[Twitter] Sent to twitter-topic: {'platform': 'Twitter', 'user_id': 'user_tw_32', 'tweet_id': 'tweet_82033', 'event_time': '2025-04-29 17:40:10', 'likes': 1024, 'retweets': 68, 'replies': 297}\n",
      "[TikTok] Sent to tiktok-topic: {'platform': 'TikTok', 'user_id': 'user_tt_334', 'video_id': 'vid_65010', 'event_time': '2025-04-29 17:40:12', 'likes': 464, 'shares': 100, 'comments': 347}\n",
      "[Twitter] Sent to twitter-topic: {'platform': 'Twitter', 'user_id': 'user_tw_160', 'tweet_id': 'tweet_84303', 'event_time': '2025-04-29 17:40:13', 'likes': 1988, 'retweets': 272, 'replies': 39}\n",
      "[Instagram] Sent to instagram-topic: {'platform': 'Instagram', 'user_id': 'user_ig_289', 'post_id': 'post_8769', 'event_time': '2025-04-29 17:40:15', 'likes': 3804, 'comments': 319, 'shares': 43}\n",
      "[Instagram] Sent to instagram-topic: {'platform': 'Instagram', 'user_id': 'user_ig_220', 'post_id': 'post_1884', 'event_time': '2025-04-29 17:40:17', 'likes': 4633, 'comments': 127, 'shares': 52}\n",
      "[Facebook] Sent to facebook-topic: {'platform': 'Facebook', 'user_id': 'user_fb_346', 'post_id': 'post_9886', 'event_time': '2025-04-29 17:40:17', 'likes': 1025, 'comments': 59, 'shares': 35}\n",
      "[Twitter] Sent to twitter-topic: {'platform': 'Twitter', 'user_id': 'user_tw_93', 'tweet_id': 'tweet_44047', 'event_time': '2025-04-29 17:40:19', 'likes': 320, 'retweets': 427, 'replies': 170}\n",
      "[Facebook] Sent to facebook-topic: {'platform': 'Facebook', 'user_id': 'user_fb_267', 'post_id': 'post_7322', 'event_time': '2025-04-29 17:40:21', 'likes': 3067, 'comments': 336, 'shares': 110}\n",
      "[TikTok] Sent to tiktok-topic: {'platform': 'TikTok', 'user_id': 'user_tt_178', 'video_id': 'vid_88650', 'event_time': '2025-04-29 17:40:22', 'likes': 3757, 'shares': 284, 'comments': 202}\n",
      "[Instagram] Sent to instagram-topic: {'platform': 'Instagram', 'user_id': 'user_ig_190', 'post_id': 'post_7095', 'event_time': '2025-04-29 17:40:24', 'likes': 2113, 'comments': 216, 'shares': 82}\n"
     ]
    }
   ],
   "source": [
    "# produce_social_media_data.py\n",
    "from whatsapp2.social_media_generator import generate_social_data\n",
    "from kafka import KafkaProducer\n",
    "import time\n",
    "import json\n",
    "import random\n",
    "\n",
    "# Define Kafka server and topics\n",
    "KAFKA_SERVER = '5baf6a7c8147:9093'  #no olviden cambiar esto o NO VA A A FUNCIONAAAAR\n",
    "\n",
    "TOPIC_MAP = {\n",
    "    'Instagram': 'instagram-topic',\n",
    "    'Twitter': 'twitter-topic',\n",
    "    'Facebook': 'facebook-topic',\n",
    "    'TikTok': 'tiktok-topic',\n",
    "}\n",
    "NUMBER_MESSAGES_TO_SEND = random.randint(50, 100)\n",
    "\n",
    "producer = KafkaProducer(\n",
    "    bootstrap_servers=KAFKA_SERVER,\n",
    "    value_serializer=lambda v: json.dumps(v).encode('utf-8')\n",
    ")\n",
    "\n",
    "try:\n",
    "    for _ in range(NUMBER_MESSAGES_TO_SEND):\n",
    "        data = generate_social_data()\n",
    "        topic = TOPIC_MAP[data['platform']]\n",
    "        producer.send(topic, data)\n",
    "        print(f\"[{data['platform']}] Sent to {topic}: {data}\")\n",
    "        time.sleep(random.uniform(0.5, 2.0))\n",
    "\n",
    "except KeyboardInterrupt:\n",
    "    print(\"Stopped producing messages.\")\n",
    "\n",
    "finally:\n",
    "    producer.close()\n"
   ]
  }
 ],
 "metadata": {
  "kernelspec": {
   "display_name": "Python 3 (ipykernel)",
   "language": "python",
   "name": "python3"
  }
 },
 "nbformat": 4,
 "nbformat_minor": 2
}
