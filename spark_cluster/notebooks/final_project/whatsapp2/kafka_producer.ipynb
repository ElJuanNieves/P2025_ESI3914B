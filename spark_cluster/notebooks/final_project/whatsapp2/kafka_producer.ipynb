{
 "cells": [
  {
   "cell_type": "markdown",
   "metadata": {},
   "source": [
    "# <center> <img src=\"../../labs/img/ITESOLogo.png\" alt=\"ITESO\" width=\"480\" height=\"130\"> </center>\n",
    "# <center> **Departamento de Electrónica, Sistemas e Informática** </center>\n",
    "---\n",
    "## <center> **Procesamiento de Datos Masivos** </center>\n",
    "---\n",
    "### <center> **Primavera 2025** </center>\n",
    "---\n",
    "### <center> **Kafka Producer: Financial Transaction Generator** </center>\n",
    "\n",
    "---\n",
    "**Profesor**: Dr. Pablo Camarillo Ramirez"
   ]
  },
  {
   "cell_type": "markdown",
   "metadata": {},
   "source": [
    "### Invoke the transaction data generator"
   ]
  },
  {
   "cell_type": "code",
   "execution_count": 1,
   "metadata": {},
   "outputs": [
    {
     "name": "stdout",
     "output_type": "stream",
     "text": [
      "Requirement already satisfied: kafka-python in /opt/conda/lib/python3.11/site-packages (2.2.6)\n",
      "\u001b[33mWARNING: Running pip as the 'root' user can result in broken permissions and conflicting behaviour with the system package manager. It is recommended to use a virtual environment instead: https://pip.pypa.io/warnings/venv\u001b[0m\u001b[33m\n",
      "\u001b[0mNote: you may need to restart the kernel to use updated packages.\n"
     ]
    }
   ],
   "source": [
    "%pip install kafka-python"
   ]
  },
  {
   "cell_type": "code",
   "execution_count": 2,
   "metadata": {},
   "outputs": [],
   "source": [
    "# produce_social_media_data.py\n",
    "from whatsapp2.social_media_generator import generate_social_data\n",
    "from kafka import KafkaProducer\n",
    "import time\n",
    "import json\n",
    "import random\n",
    "\n",
    "# Define Kafka server and topics\n",
    "KAFKA_SERVER = 'kafka_cluster-kafka-1:9093'"
   ]
  },
  {
   "cell_type": "code",
   "execution_count": 12,
   "metadata": {},
   "outputs": [
    {
     "name": "stdout",
     "output_type": "stream",
     "text": [
      "[Facebook] Sent to facebook-topic: {'platform': 'Facebook', 'user_id': 'user_fb_65', 'post_id': 'post_8366', 'event_time': '2025-05-10 03:27:58', 'likes': 915, 'comments': 554, 'shares': 182}\n",
      "[Twitter] Sent to twitter-topic: {'platform': 'Twitter', 'user_id': 'user_tw_173', 'tweet_id': 'tweet_58393', 'event_time': '2025-05-10 03:27:59', 'likes': 1143, 'retweets': 312, 'replies': 139}\n",
      "[Facebook] Sent to facebook-topic: {'platform': 'Facebook', 'user_id': 'user_fb_479', 'post_id': 'post_9371', 'event_time': '2025-05-10 03:28:00', 'likes': 1354, 'comments': 175, 'shares': 47}\n",
      "[Facebook] Sent to facebook-topic: {'platform': 'Facebook', 'user_id': 'user_fb_195', 'post_id': 'post_5505', 'event_time': '2025-05-10 03:28:01', 'likes': 1568, 'comments': 474, 'shares': 64}\n",
      "[Instagram] Sent to instagram-topic: {'platform': 'Instagram', 'user_id': 'user_ig_195', 'post_id': 'post_3023', 'event_time': '2025-05-10 03:28:02', 'likes': 2235, 'comments': 59, 'shares': 15}\n",
      "[Instagram] Sent to instagram-topic: {'platform': 'Instagram', 'user_id': 'user_ig_287', 'post_id': 'post_1529', 'event_time': '2025-05-10 03:28:04', 'likes': 2391, 'comments': 314, 'shares': 10}\n",
      "[TikTok] Sent to tiktok-topic: {'platform': 'TikTok', 'user_id': 'user_tt_297', 'video_id': 'vid_17440', 'event_time': '2025-05-10 03:28:05', 'likes': 2769, 'shares': 148, 'comments': 29}\n",
      "[Facebook] Sent to facebook-topic: {'platform': 'Facebook', 'user_id': 'user_fb_95', 'post_id': 'post_8485', 'event_time': '2025-05-10 03:28:06', 'likes': 3715, 'comments': 604, 'shares': 176}\n",
      "[TikTok] Sent to tiktok-topic: {'platform': 'TikTok', 'user_id': 'user_tt_422', 'video_id': 'vid_93343', 'event_time': '2025-05-10 03:28:08', 'likes': 4091, 'shares': 66, 'comments': 500}\n",
      "[Instagram] Sent to instagram-topic: {'platform': 'Instagram', 'user_id': 'user_ig_299', 'post_id': 'post_9144', 'event_time': '2025-05-10 03:28:08', 'likes': 502, 'comments': 359, 'shares': 93}\n",
      "[Facebook] Sent to facebook-topic: {'platform': 'Facebook', 'user_id': 'user_fb_430', 'post_id': 'post_2483', 'event_time': '2025-05-10 03:28:10', 'likes': 820, 'comments': 157, 'shares': 97}\n",
      "Stopped producing messages.\n"
     ]
    }
   ],
   "source": [
    "\n",
    "\n",
    "TOPIC_MAP = {\n",
    "    'Instagram': 'instagram-topic',\n",
    "    'Twitter': 'twitter-topic',\n",
    "    'Facebook': 'facebook-topic',\n",
    "    'TikTok': 'tiktok-topic',\n",
    "}\n",
    "NUMBER_MESSAGES_TO_SEND = random.randint(50, 100)\n",
    "\n",
    "producer = KafkaProducer(\n",
    "    bootstrap_servers=KAFKA_SERVER,\n",
    "    value_serializer=lambda v: json.dumps(v).encode('utf-8')\n",
    ")\n",
    "\n",
    "try:\n",
    "    for _ in range(NUMBER_MESSAGES_TO_SEND):\n",
    "        data = generate_social_data()\n",
    "        topic = TOPIC_MAP[data['platform']]\n",
    "        producer.send(topic, data)\n",
    "        print(f\"[{data['platform']}] Sent to {topic}: {data}\")\n",
    "        time.sleep(random.uniform(0.5, 2.0))\n",
    "\n",
    "except KeyboardInterrupt:\n",
    "    print(\"Stopped producing messages.\")\n",
    "\n",
    "finally:\n",
    "    producer.close()\n"
   ]
  }
 ],
 "metadata": {
  "kernelspec": {
   "display_name": "Python 3 (ipykernel)",
   "language": "python",
   "name": "python3"
  },
  "language_info": {
   "codemirror_mode": {
    "name": "ipython",
    "version": 3
   },
   "file_extension": ".py",
   "mimetype": "text/x-python",
   "name": "python",
   "nbconvert_exporter": "python",
   "pygments_lexer": "ipython3",
   "version": "3.11.6"
  }
 },
 "nbformat": 4,
 "nbformat_minor": 2
}
