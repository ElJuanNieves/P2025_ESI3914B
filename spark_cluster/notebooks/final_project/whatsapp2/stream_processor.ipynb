{
 "cells": [
  {
   "cell_type": "code",
   "execution_count": 1,
   "metadata": {},
   "outputs": [],
   "source": [
    "from pyspark.sql import SparkSession\n",
    "from pyspark.sql.functions import from_json, col, expr\n",
    "from pyspark.sql.types import StructType, StringType, IntegerType"
   ]
  },
  {
   "cell_type": "code",
   "execution_count": 2,
   "metadata": {},
   "outputs": [],
   "source": [
    "import findspark\n",
    "findspark.init()"
   ]
  },
  {
   "cell_type": "code",
   "execution_count": 3,
   "metadata": {},
   "outputs": [
    {
     "name": "stdout",
     "output_type": "stream",
     "text": [
      ":: loading settings :: url = jar:file:/opt/conda/spark-3.5.4-bin-hadoop3-scala2.13/jars/ivy-2.5.1.jar!/org/apache/ivy/core/settings/ivysettings.xml\n"
     ]
    },
    {
     "name": "stderr",
     "output_type": "stream",
     "text": [
      "Ivy Default Cache set to: /root/.ivy2/cache\n",
      "The jars for the packages stored in: /root/.ivy2/jars\n",
      "org.apache.spark#spark-sql-kafka-0-10_2.13 added as a dependency\n",
      ":: resolving dependencies :: org.apache.spark#spark-submit-parent-be1dd72b-3189-4bd7-ad35-1a872b0cb266;1.0\n",
      "\tconfs: [default]\n",
      "\tfound org.apache.spark#spark-sql-kafka-0-10_2.13;3.5.4 in central\n",
      "\tfound org.apache.spark#spark-token-provider-kafka-0-10_2.13;3.5.4 in central\n",
      "\tfound org.apache.kafka#kafka-clients;3.4.1 in central\n",
      "\tfound org.lz4#lz4-java;1.8.0 in central\n",
      "\tfound org.xerial.snappy#snappy-java;1.1.10.5 in central\n",
      "\tfound org.slf4j#slf4j-api;2.0.7 in central\n",
      "\tfound org.apache.hadoop#hadoop-client-runtime;3.3.4 in central\n",
      "\tfound org.apache.hadoop#hadoop-client-api;3.3.4 in central\n",
      "\tfound commons-logging#commons-logging;1.1.3 in central\n",
      "\tfound com.google.code.findbugs#jsr305;3.0.0 in central\n",
      "\tfound org.scala-lang.modules#scala-parallel-collections_2.13;1.0.4 in central\n",
      "\tfound org.apache.commons#commons-pool2;2.11.1 in central\n",
      ":: resolution report :: resolve 347ms :: artifacts dl 10ms\n",
      "\t:: modules in use:\n",
      "\tcom.google.code.findbugs#jsr305;3.0.0 from central in [default]\n",
      "\tcommons-logging#commons-logging;1.1.3 from central in [default]\n",
      "\torg.apache.commons#commons-pool2;2.11.1 from central in [default]\n",
      "\torg.apache.hadoop#hadoop-client-api;3.3.4 from central in [default]\n",
      "\torg.apache.hadoop#hadoop-client-runtime;3.3.4 from central in [default]\n",
      "\torg.apache.kafka#kafka-clients;3.4.1 from central in [default]\n",
      "\torg.apache.spark#spark-sql-kafka-0-10_2.13;3.5.4 from central in [default]\n",
      "\torg.apache.spark#spark-token-provider-kafka-0-10_2.13;3.5.4 from central in [default]\n",
      "\torg.lz4#lz4-java;1.8.0 from central in [default]\n",
      "\torg.scala-lang.modules#scala-parallel-collections_2.13;1.0.4 from central in [default]\n",
      "\torg.slf4j#slf4j-api;2.0.7 from central in [default]\n",
      "\torg.xerial.snappy#snappy-java;1.1.10.5 from central in [default]\n",
      "\t---------------------------------------------------------------------\n",
      "\t|                  |            modules            ||   artifacts   |\n",
      "\t|       conf       | number| search|dwnlded|evicted|| number|dwnlded|\n",
      "\t---------------------------------------------------------------------\n",
      "\t|      default     |   12  |   0   |   0   |   0   ||   12  |   0   |\n",
      "\t---------------------------------------------------------------------\n",
      ":: retrieving :: org.apache.spark#spark-submit-parent-be1dd72b-3189-4bd7-ad35-1a872b0cb266\n",
      "\tconfs: [default]\n",
      "\t0 artifacts copied, 12 already retrieved (0kB/5ms)\n",
      "25/05/10 04:57:46 WARN NativeCodeLoader: Unable to load native-hadoop library for your platform... using builtin-java classes where applicable\n",
      "Setting default log level to \"WARN\".\n",
      "To adjust logging level use sc.setLogLevel(newLevel). For SparkR, use setLogLevel(newLevel).\n"
     ]
    }
   ],
   "source": [
    "\n",
    "spark = SparkSession.builder \\\n",
    "    .appName(\"Proyecto\") \\\n",
    "    .master(\"spark://spark-master:7077\") \\\n",
    "    .config(\"spark.ui.port\",\"4040\") \\\n",
    "    .config(\"spark.jars.packages\", \"org.apache.spark:spark-sql-kafka-0-10_2.13:3.5.4\") \\\n",
    "    .getOrCreate()\n",
    "sc = spark.sparkContext"
   ]
  },
  {
   "cell_type": "code",
   "execution_count": 4,
   "metadata": {},
   "outputs": [],
   "source": [
    "# Generic schema for all platforms\n",
    "schema_generic = StructType() \\\n",
    "    .add(\"platform\", StringType()) \\\n",
    "    .add(\"user_id\", StringType()) \\\n",
    "    .add(\"post_id\", StringType()) \\\n",
    "    .add(\"event_time\", StringType()) \\\n",
    "    .add(\"likes\", IntegerType()) \\\n",
    "    .add(\"comments\", IntegerType()) \\\n",
    "    .add(\"shares\", IntegerType())\n",
    "\n",
    "# Specific schema for Twitter\n",
    "schema_twitter = StructType() \\\n",
    "    .add(\"platform\", StringType()) \\\n",
    "    .add(\"user_id\", StringType()) \\\n",
    "    .add(\"tweet_id\", StringType()) \\\n",
    "    .add(\"event_time\", StringType()) \\\n",
    "    .add(\"likes\", IntegerType()) \\\n",
    "    .add(\"retweets\", IntegerType()) \\\n",
    "    .add(\"replies\", IntegerType())"
   ]
  },
  {
   "cell_type": "code",
   "execution_count": 5,
   "metadata": {},
   "outputs": [],
   "source": [
    "kafka_df = spark.readStream \\\n",
    "    .format(\"kafka\") \\\n",
    "    .option(\"kafka.bootstrap.servers\", \"kafka_cluster-kafka-1:9093\") \\\n",
    "    .option(\"subscribe\", \"facebook-topic,instagram-topic,twitter-topic,tiktok-topic\") \\\n",
    "    .load()\n",
    "# Transform Kafka value into JSON format\n",
    "raw_df = kafka_df.selectExpr(\"CAST(value AS STRING) as json_str\")"
   ]
  },
  {
   "cell_type": "code",
   "execution_count": 6,
   "metadata": {},
   "outputs": [],
   "source": [
    "# Process messages based on platform\n",
    "parsed_df = raw_df \\\n",
    "    .select(\n",
    "        from_json(col(\"json_str\"), schema_generic).alias(\"data_generic\"),\n",
    "        from_json(col(\"json_str\"), schema_twitter).alias(\"data_twitter\")\n",
    "    ) \\\n",
    "    .select(\n",
    "        expr(\"COALESCE(data_generic.platform, data_twitter.platform) AS platform\"),\n",
    "        expr(\"COALESCE(data_generic.user_id, data_twitter.user_id) AS user_id\"),\n",
    "        expr(\"COALESCE(data_generic.post_id, data_twitter.tweet_id) AS post_id\"),\n",
    "        expr(\"COALESCE(data_generic.event_time, data_twitter.event_time) AS event_time\"),\n",
    "        expr(\"COALESCE(data_generic.likes, data_twitter.likes) AS likes\"),\n",
    "        expr(\"COALESCE(data_generic.comments, data_twitter.replies) AS comments\"),\n",
    "        expr(\"COALESCE(data_generic.shares, data_twitter.retweets) AS shares\")\n",
    "    )"
   ]
  },
  {
   "cell_type": "code",
   "execution_count": 11,
   "metadata": {},
   "outputs": [
    {
     "name": "stderr",
     "output_type": "stream",
     "text": [
      "25/05/10 04:59:51 WARN ResolveWriteToStream: spark.sql.adaptive.enabled is not supported in streaming DataFrames/Datasets and will be disabled.\n",
      "25/05/10 04:59:51 WARN StreamingQueryManager: Stopping existing streaming query [id=886b45e4-842e-48d9-9cf8-e8819b50425e, runId=577de765-aafa-4b7f-ab45-037f25d2c7b0], as a new run is being started.\n",
      "25/05/10 04:59:51 WARN AdminClientConfig: These configurations '[key.deserializer, value.deserializer, enable.auto.commit, max.poll.records, auto.offset.reset]' were supplied but are not used yet.\n",
      "25/05/10 04:59:51 WARN ResolveWriteToStream: spark.sql.adaptive.enabled is not supported in streaming DataFrames/Datasets and will be disabled.\n",
      "25/05/10 04:59:51 WARN StreamingQueryManager: Stopping existing streaming query [id=19206824-79cb-40c2-8d5a-729856c044d2, runId=3f403eec-d901-4976-a314-47550bfc2a3d], as a new run is being started.\n"
     ]
    },
    {
     "name": "stderr",
     "output_type": "stream",
     "text": [
      "25/05/10 04:59:51 WARN AdminClientConfig: These configurations '[key.deserializer, value.deserializer, enable.auto.commit, max.poll.records, auto.offset.reset]' were supplied but are not used yet.\n",
      "                                                                                \r"
     ]
    }
   ],
   "source": [
    "# Iniciar la query de Parquet\n",
    "parquet_query = parsed_df.writeStream \\\n",
    "    .format(\"parquet\") \\\n",
    "    .option(\"path\", \"/home/jovyan/notebooks/final_project/whatsapp2/data/lake/lake\") \\\n",
    "    .option(\"checkpointLocation\", \"/home/jovyan/notebooks/final_project/whatsapp2/data/lake/checkpoints\") \\\n",
    "    .option(\"maxFilesPerTrigger\", 100) \\\n",
    "    .trigger(processingTime='30 seconds') \\\n",
    "    .outputMode(\"append\") \\\n",
    "    .start()\n",
    "\n",
    "# Iniciar la query de CSV\n",
    "csv_query = parsed_df.writeStream \\\n",
    "    .format(\"csv\") \\\n",
    "    .option(\"path\", \"/home/jovyan/notebooks/final_project/whatsapp2/data/ml/ml_input\") \\\n",
    "    .option(\"checkpointLocation\", \"/home/jovyan/notebooks/final_project/whatsapp2/data/ml/ml_checkpoints\") \\\n",
    "    .option(\"header\", \"true\") \\\n",
    "    .option(\"maxFilesPerTrigger\", 100) \\\n",
    "    .trigger(processingTime='30 seconds') \\\n",
    "    .outputMode(\"append\") \\\n",
    "    .start()"
   ]
  },
  {
   "cell_type": "code",
   "execution_count": 12,
   "metadata": {},
   "outputs": [],
   "source": [
    "parquet_query.stop()\n",
    "csv_query.stop()\n"
   ]
  },
  {
   "cell_type": "code",
   "execution_count": null,
   "metadata": {},
   "outputs": [],
   "source": [
    "\n",
    "sc.stop()"
   ]
  }
 ],
 "metadata": {
  "kernelspec": {
   "display_name": "Python 3 (ipykernel)",
   "language": "python",
   "name": "python3"
  },
  "language_info": {
   "codemirror_mode": {
    "name": "ipython",
    "version": 3
   },
   "file_extension": ".py",
   "mimetype": "text/x-python",
   "name": "python",
   "nbconvert_exporter": "python",
   "pygments_lexer": "ipython3",
   "version": "3.11.6"
  }
 },
 "nbformat": 4,
 "nbformat_minor": 4
}
