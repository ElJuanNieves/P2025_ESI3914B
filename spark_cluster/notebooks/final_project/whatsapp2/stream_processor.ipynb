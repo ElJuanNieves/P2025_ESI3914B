{
 "cells": [
  {
   "cell_type": "code",
   "execution_count": 7,
   "metadata": {},
   "outputs": [],
   "source": [
    "from pyspark.sql import SparkSession\n",
    "from pyspark.sql.functions import from_json, col, expr\n",
    "from pyspark.sql.types import StructType, StringType, IntegerType"
   ]
  },
  {
   "cell_type": "code",
   "execution_count": 8,
   "metadata": {},
   "outputs": [],
   "source": [
    "import findspark\n",
    "findspark.init()"
   ]
  },
  {
   "cell_type": "code",
   "execution_count": 9,
   "metadata": {},
   "outputs": [],
   "source": [
    "\n",
    "spark = SparkSession.builder \\\n",
    "    .appName(\"Proyecto\") \\\n",
    "    .master(\"spark://spark-master:7077\") \\\n",
    "    .config(\"spark.ui.port\",\"4040\") \\\n",
    "    .config(\"spark.jars.packages\", \"org.apache.spark:spark-sql-kafka-0-10_2.13:3.5.4\") \\\n",
    "    .getOrCreate()\n",
    "sc = spark.sparkContext"
   ]
  },
  {
   "cell_type": "code",
   "execution_count": 10,
   "metadata": {},
   "outputs": [],
   "source": [
    "# Generic schema for all platforms\n",
    "schema_generic = StructType() \\\n",
    "    .add(\"platform\", StringType()) \\\n",
    "    .add(\"user_id\", StringType()) \\\n",
    "    .add(\"post_id\", StringType()) \\\n",
    "    .add(\"event_time\", StringType()) \\\n",
    "    .add(\"likes\", IntegerType()) \\\n",
    "    .add(\"comments\", IntegerType()) \\\n",
    "    .add(\"shares\", IntegerType())\n",
    "\n",
    "# Specific schema for Twitter\n",
    "schema_twitter = StructType() \\\n",
    "    .add(\"platform\", StringType()) \\\n",
    "    .add(\"user_id\", StringType()) \\\n",
    "    .add(\"tweet_id\", StringType()) \\\n",
    "    .add(\"event_time\", StringType()) \\\n",
    "    .add(\"likes\", IntegerType()) \\\n",
    "    .add(\"retweets\", IntegerType()) \\\n",
    "    .add(\"replies\", IntegerType())"
   ]
  },
  {
   "cell_type": "code",
   "execution_count": 11,
   "metadata": {},
   "outputs": [],
   "source": [
    "kafka_df = spark.readStream \\\n",
    "    .format(\"kafka\") \\\n",
    "    .option(\"kafka.bootstrap.servers\", \"kafka_cluster-kafka-1:9093\") \\\n",
    "    .option(\"subscribe\", \"facebook-topic,instagram-topic,twitter-topic,tiktok-topic\") \\\n",
    "    .load()\n",
    "# Transform Kafka value into JSON format\n",
    "raw_df = kafka_df.selectExpr(\"CAST(value AS STRING) as json_str\")"
   ]
  },
  {
   "cell_type": "code",
   "execution_count": 12,
   "metadata": {},
   "outputs": [],
   "source": [
    "# Process messages based on platform\n",
    "parsed_df = raw_df \\\n",
    "    .select(\n",
    "        from_json(col(\"json_str\"), schema_generic).alias(\"data_generic\"),\n",
    "        from_json(col(\"json_str\"), schema_twitter).alias(\"data_twitter\")\n",
    "    ) \\\n",
    "    .select(\n",
    "        expr(\"COALESCE(data_generic.platform, data_twitter.platform) AS platform\"),\n",
    "        expr(\"COALESCE(data_generic.user_id, data_twitter.user_id) AS user_id\"),\n",
    "        expr(\"COALESCE(data_generic.post_id, data_twitter.tweet_id) AS post_id\"),\n",
    "        expr(\"COALESCE(data_generic.event_time, data_twitter.event_time) AS event_time\"),\n",
    "        expr(\"COALESCE(data_generic.likes, data_twitter.likes) AS likes\"),\n",
    "        expr(\"COALESCE(data_generic.comments, data_twitter.replies) AS comments\"),\n",
    "        expr(\"COALESCE(data_generic.shares, data_twitter.retweets) AS shares\")\n",
    "    )"
   ]
  },
  {
   "cell_type": "code",
   "execution_count": 13,
   "metadata": {},
   "outputs": [
    {
     "name": "stderr",
     "output_type": "stream",
     "text": [
      "25/05/10 05:00:56 WARN ResolveWriteToStream: spark.sql.adaptive.enabled is not supported in streaming DataFrames/Datasets and will be disabled.\n",
      "25/05/10 05:00:58 WARN ResolveWriteToStream: spark.sql.adaptive.enabled is not supported in streaming DataFrames/Datasets and will be disabled.\n",
      "25/05/10 05:00:58 WARN AdminClientConfig: These configurations '[key.deserializer, value.deserializer, enable.auto.commit, max.poll.records, auto.offset.reset]' were supplied but are not used yet.\n"
     ]
    },
    {
     "name": "stderr",
     "output_type": "stream",
     "text": [
      "25/05/10 05:00:59 WARN AdminClientConfig: These configurations '[key.deserializer, value.deserializer, enable.auto.commit, max.poll.records, auto.offset.reset]' were supplied but are not used yet.\n"
     ]
    }
   ],
   "source": [
    "# Iniciar la query de Parquet\n",
    "parquet_query = parsed_df.repartition(1).writeStream \\\n",
    "    .format(\"parquet\") \\\n",
    "    .option(\"path\", \"/home/jovyan/notebooks/final_project/whatsapp2/data/lake/lake\") \\\n",
    "    .option(\"checkpointLocation\", \"/home/jovyan/notebooks/final_project/whatsapp2/data/lake/checkpoints\") \\\n",
    "    .option(\"maxFilesPerTrigger\", 100) \\\n",
    "    .trigger(processingTime='30 seconds') \\\n",
    "    .outputMode(\"append\") \\\n",
    "    .start()\n",
    "\n",
    "# Iniciar la query de CSV\n",
    "csv_query = parsed_df.repartition(1).writeStream \\\n",
    "    .format(\"csv\") \\\n",
    "    .option(\"path\", \"/home/jovyan/notebooks/final_project/whatsapp2/data/ml/ml_input\") \\\n",
    "    .option(\"checkpointLocation\", \"/home/jovyan/notebooks/final_project/whatsapp2/data/ml/ml_checkpoints\") \\\n",
    "    .option(\"header\", \"true\") \\\n",
    "    .option(\"maxFilesPerTrigger\", 100) \\\n",
    "    .trigger(processingTime='30 seconds') \\\n",
    "    .outputMode(\"append\") \\\n",
    "    .start()"
   ]
  },
  {
   "cell_type": "code",
   "execution_count": 17,
   "metadata": {},
   "outputs": [],
   "source": [
    "parquet_query.stop()\n",
    "csv_query.stop()\n"
   ]
  },
  {
   "cell_type": "code",
   "execution_count": null,
   "metadata": {},
   "outputs": [],
   "source": [
    "\n",
    "sc.stop()"
   ]
  }
 ],
 "metadata": {
  "kernelspec": {
   "display_name": "Python 3 (ipykernel)",
   "language": "python",
   "name": "python3"
  },
  "language_info": {
   "codemirror_mode": {
    "name": "ipython",
    "version": 3
   },
   "file_extension": ".py",
   "mimetype": "text/x-python",
   "name": "python",
   "nbconvert_exporter": "python",
   "pygments_lexer": "ipython3",
   "version": "3.11.6"
  }
 },
 "nbformat": 4,
 "nbformat_minor": 4
}
