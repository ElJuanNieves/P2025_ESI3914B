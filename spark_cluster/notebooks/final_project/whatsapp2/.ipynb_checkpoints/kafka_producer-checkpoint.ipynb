{
 "cells": [
  {
   "cell_type": "markdown",
   "metadata": {},
   "source": [
    "# <center> <img src=\"../../labs/img/ITESOLogo.png\" alt=\"ITESO\" width=\"480\" height=\"130\"> </center>\n",
    "# <center> **Departamento de Electrónica, Sistemas e Informática** </center>\n",
    "---\n",
    "## <center> **Procesamiento de Datos Masivos** </center>\n",
    "---\n",
    "### <center> **Primavera 2025** </center>\n",
    "---\n",
    "### <center> **Kafka Producer: Financial Transaction Generator** </center>\n",
    "\n",
    "---\n",
    "**Profesor**: Dr. Pablo Camarillo Ramirez"
   ]
  },
  {
   "cell_type": "markdown",
   "metadata": {},
   "source": [
    "### Invoke the transaction data generator"
   ]
  },
  {
   "cell_type": "code",
   "execution_count": 2,
   "metadata": {},
   "outputs": [
    {
     "name": "stdout",
     "output_type": "stream",
     "text": [
      "\u001b[33mWARNING: The directory '/home/jovyan/.cache/pip' or its parent directory is not owned or is not writable by the current user. The cache has been disabled. Check the permissions and owner of that directory. If executing pip with sudo, you should use sudo's -H flag.\u001b[0m\u001b[33m\n",
      "\u001b[0mCollecting kafka-python\n",
      "  Downloading kafka_python-2.2.6-py2.py3-none-any.whl.metadata (10.0 kB)\n",
      "Downloading kafka_python-2.2.6-py2.py3-none-any.whl (308 kB)\n",
      "\u001b[2K   \u001b[90m━━━━━━━━━━━━━━━━━━━━━━━━━━━━━━━━━━━━━━━━\u001b[0m \u001b[32m308.2/308.2 kB\u001b[0m \u001b[31m1.7 MB/s\u001b[0m eta \u001b[36m0:00:00\u001b[0ma \u001b[36m0:00:01\u001b[0mm\n",
      "\u001b[?25hInstalling collected packages: kafka-python\n",
      "Successfully installed kafka-python-2.2.6\n",
      "\u001b[33mWARNING: Running pip as the 'root' user can result in broken permissions and conflicting behaviour with the system package manager. It is recommended to use a virtual environment instead: https://pip.pypa.io/warnings/venv\u001b[0m\u001b[33m\n",
      "\u001b[0mNote: you may need to restart the kernel to use updated packages.\n"
     ]
    }
   ],
   "source": [
    "%pip install kafka-python"
   ]
  },
  {
   "cell_type": "code",
   "execution_count": 3,
   "metadata": {},
   "outputs": [],
   "source": [
    "# produce_social_media_data.py\n",
    "from whatsapp2.social_media_generator import generate_social_data\n",
    "from kafka import KafkaProducer\n",
    "import time\n",
    "import json\n",
    "import random\n",
    "\n",
    "# Define Kafka server and topics\n",
    "KAFKA_SERVER = 'kafka:9093'  #no olviden cambiar esto o NO VA A A FUNCIONAAAAR\n"
   ]
  },
  {
   "cell_type": "code",
   "execution_count": 4,
   "metadata": {},
   "outputs": [
    {
     "name": "stdout",
     "output_type": "stream",
     "text": [
      "[Twitter] Sent to twitter-topic: {'platform': 'Twitter', 'user_id': 'user_tw_312', 'tweet_id': 'tweet_27618', 'event_time': '2025-05-10 01:06:55', 'likes': 1407, 'retweets': 150, 'replies': 175}\n",
      "[TikTok] Sent to tiktok-topic: {'platform': 'TikTok', 'user_id': 'user_tt_438', 'video_id': 'vid_88380', 'event_time': '2025-05-10 01:06:57', 'likes': 3311, 'shares': 269, 'comments': 259}\n",
      "[Twitter] Sent to twitter-topic: {'platform': 'Twitter', 'user_id': 'user_tw_390', 'tweet_id': 'tweet_85039', 'event_time': '2025-05-10 01:06:58', 'likes': 1318, 'retweets': 54, 'replies': 263}\n",
      "[TikTok] Sent to tiktok-topic: {'platform': 'TikTok', 'user_id': 'user_tt_41', 'video_id': 'vid_48148', 'event_time': '2025-05-10 01:06:59', 'likes': 7672, 'shares': 43, 'comments': 580}\n",
      "[Instagram] Sent to instagram-topic: {'platform': 'Instagram', 'user_id': 'user_ig_42', 'post_id': 'post_6768', 'event_time': '2025-05-10 01:07:01', 'likes': 3834, 'comments': 286, 'shares': 25}\n",
      "[Instagram] Sent to instagram-topic: {'platform': 'Instagram', 'user_id': 'user_ig_345', 'post_id': 'post_3831', 'event_time': '2025-05-10 01:07:02', 'likes': 4204, 'comments': 159, 'shares': 29}\n",
      "[Facebook] Sent to facebook-topic: {'platform': 'Facebook', 'user_id': 'user_fb_74', 'post_id': 'post_7008', 'event_time': '2025-05-10 01:07:04', 'likes': 2055, 'comments': 592, 'shares': 138}\n",
      "[Facebook] Sent to facebook-topic: {'platform': 'Facebook', 'user_id': 'user_fb_259', 'post_id': 'post_9901', 'event_time': '2025-05-10 01:07:06', 'likes': 3894, 'comments': 407, 'shares': 165}\n",
      "[Facebook] Sent to facebook-topic: {'platform': 'Facebook', 'user_id': 'user_fb_361', 'post_id': 'post_8960', 'event_time': '2025-05-10 01:07:06', 'likes': 1616, 'comments': 321, 'shares': 77}\n",
      "[Twitter] Sent to twitter-topic: {'platform': 'Twitter', 'user_id': 'user_tw_177', 'tweet_id': 'tweet_11583', 'event_time': '2025-05-10 01:07:07', 'likes': 1541, 'retweets': 209, 'replies': 111}\n",
      "[Instagram] Sent to instagram-topic: {'platform': 'Instagram', 'user_id': 'user_ig_288', 'post_id': 'post_8498', 'event_time': '2025-05-10 01:07:09', 'likes': 879, 'comments': 80, 'shares': 56}\n",
      "[Twitter] Sent to twitter-topic: {'platform': 'Twitter', 'user_id': 'user_tw_291', 'tweet_id': 'tweet_85739', 'event_time': '2025-05-10 01:07:10', 'likes': 440, 'retweets': 491, 'replies': 208}\n",
      "[Facebook] Sent to facebook-topic: {'platform': 'Facebook', 'user_id': 'user_fb_206', 'post_id': 'post_6202', 'event_time': '2025-05-10 01:07:10', 'likes': 2263, 'comments': 341, 'shares': 190}\n",
      "[Twitter] Sent to twitter-topic: {'platform': 'Twitter', 'user_id': 'user_tw_89', 'tweet_id': 'tweet_35837', 'event_time': '2025-05-10 01:07:11', 'likes': 1431, 'retweets': 321, 'replies': 290}\n",
      "[TikTok] Sent to tiktok-topic: {'platform': 'TikTok', 'user_id': 'user_tt_184', 'video_id': 'vid_62695', 'event_time': '2025-05-10 01:07:13', 'likes': 1992, 'shares': 69, 'comments': 354}\n",
      "[Facebook] Sent to facebook-topic: {'platform': 'Facebook', 'user_id': 'user_fb_354', 'post_id': 'post_5234', 'event_time': '2025-05-10 01:07:14', 'likes': 3956, 'comments': 65, 'shares': 52}\n",
      "[Facebook] Sent to facebook-topic: {'platform': 'Facebook', 'user_id': 'user_fb_417', 'post_id': 'post_5577', 'event_time': '2025-05-10 01:07:15', 'likes': 1768, 'comments': 541, 'shares': 100}\n",
      "[TikTok] Sent to tiktok-topic: {'platform': 'TikTok', 'user_id': 'user_tt_461', 'video_id': 'vid_12360', 'event_time': '2025-05-10 01:07:17', 'likes': 83, 'shares': 13, 'comments': 208}\n",
      "[TikTok] Sent to tiktok-topic: {'platform': 'TikTok', 'user_id': 'user_tt_399', 'video_id': 'vid_71761', 'event_time': '2025-05-10 01:07:18', 'likes': 2001, 'shares': 41, 'comments': 492}\n",
      "[Twitter] Sent to twitter-topic: {'platform': 'Twitter', 'user_id': 'user_tw_231', 'tweet_id': 'tweet_47437', 'event_time': '2025-05-10 01:07:20', 'likes': 535, 'retweets': 337, 'replies': 176}\n",
      "[Instagram] Sent to instagram-topic: {'platform': 'Instagram', 'user_id': 'user_ig_421', 'post_id': 'post_5322', 'event_time': '2025-05-10 01:07:21', 'likes': 223, 'comments': 382, 'shares': 52}\n",
      "[Twitter] Sent to twitter-topic: {'platform': 'Twitter', 'user_id': 'user_tw_325', 'tweet_id': 'tweet_13505', 'event_time': '2025-05-10 01:07:22', 'likes': 1295, 'retweets': 231, 'replies': 285}\n",
      "[Twitter] Sent to twitter-topic: {'platform': 'Twitter', 'user_id': 'user_tw_362', 'tweet_id': 'tweet_48328', 'event_time': '2025-05-10 01:07:24', 'likes': 540, 'retweets': 497, 'replies': 2}\n",
      "[Facebook] Sent to facebook-topic: {'platform': 'Facebook', 'user_id': 'user_fb_335', 'post_id': 'post_2750', 'event_time': '2025-05-10 01:07:25', 'likes': 2646, 'comments': 635, 'shares': 92}\n",
      "[TikTok] Sent to tiktok-topic: {'platform': 'TikTok', 'user_id': 'user_tt_429', 'video_id': 'vid_16545', 'event_time': '2025-05-10 01:07:26', 'likes': 89, 'shares': 77, 'comments': 298}\n",
      "[Instagram] Sent to instagram-topic: {'platform': 'Instagram', 'user_id': 'user_ig_43', 'post_id': 'post_1723', 'event_time': '2025-05-10 01:07:27', 'likes': 270, 'comments': 490, 'shares': 68}\n",
      "[Facebook] Sent to facebook-topic: {'platform': 'Facebook', 'user_id': 'user_fb_473', 'post_id': 'post_7253', 'event_time': '2025-05-10 01:07:28', 'likes': 1940, 'comments': 599, 'shares': 191}\n",
      "[Twitter] Sent to twitter-topic: {'platform': 'Twitter', 'user_id': 'user_tw_436', 'tweet_id': 'tweet_80657', 'event_time': '2025-05-10 01:07:29', 'likes': 376, 'retweets': 36, 'replies': 106}\n",
      "[Twitter] Sent to twitter-topic: {'platform': 'Twitter', 'user_id': 'user_tw_393', 'tweet_id': 'tweet_23083', 'event_time': '2025-05-10 01:07:31', 'likes': 118, 'retweets': 390, 'replies': 63}\n",
      "[Twitter] Sent to twitter-topic: {'platform': 'Twitter', 'user_id': 'user_tw_63', 'tweet_id': 'tweet_13745', 'event_time': '2025-05-10 01:07:33', 'likes': 451, 'retweets': 211, 'replies': 249}\n",
      "[Twitter] Sent to twitter-topic: {'platform': 'Twitter', 'user_id': 'user_tw_408', 'tweet_id': 'tweet_15701', 'event_time': '2025-05-10 01:07:34', 'likes': 186, 'retweets': 153, 'replies': 288}\n",
      "[TikTok] Sent to tiktok-topic: {'platform': 'TikTok', 'user_id': 'user_tt_46', 'video_id': 'vid_95976', 'event_time': '2025-05-10 01:07:36', 'likes': 7711, 'shares': 46, 'comments': 254}\n",
      "[TikTok] Sent to tiktok-topic: {'platform': 'TikTok', 'user_id': 'user_tt_324', 'video_id': 'vid_96115', 'event_time': '2025-05-10 01:07:37', 'likes': 4242, 'shares': 279, 'comments': 51}\n",
      "[Instagram] Sent to instagram-topic: {'platform': 'Instagram', 'user_id': 'user_ig_448', 'post_id': 'post_3730', 'event_time': '2025-05-10 01:07:38', 'likes': 3388, 'comments': 437, 'shares': 66}\n",
      "[Facebook] Sent to facebook-topic: {'platform': 'Facebook', 'user_id': 'user_fb_448', 'post_id': 'post_9111', 'event_time': '2025-05-10 01:07:39', 'likes': 3145, 'comments': 533, 'shares': 94}\n",
      "[Twitter] Sent to twitter-topic: {'platform': 'Twitter', 'user_id': 'user_tw_182', 'tweet_id': 'tweet_26898', 'event_time': '2025-05-10 01:07:41', 'likes': 1441, 'retweets': 494, 'replies': 23}\n",
      "[TikTok] Sent to tiktok-topic: {'platform': 'TikTok', 'user_id': 'user_tt_34', 'video_id': 'vid_96931', 'event_time': '2025-05-10 01:07:42', 'likes': 5963, 'shares': 86, 'comments': 304}\n",
      "[Twitter] Sent to twitter-topic: {'platform': 'Twitter', 'user_id': 'user_tw_32', 'tweet_id': 'tweet_23670', 'event_time': '2025-05-10 01:07:43', 'likes': 1493, 'retweets': 367, 'replies': 83}\n",
      "[Instagram] Sent to instagram-topic: {'platform': 'Instagram', 'user_id': 'user_ig_114', 'post_id': 'post_6306', 'event_time': '2025-05-10 01:07:44', 'likes': 1702, 'comments': 190, 'shares': 78}\n",
      "[Twitter] Sent to twitter-topic: {'platform': 'Twitter', 'user_id': 'user_tw_73', 'tweet_id': 'tweet_19793', 'event_time': '2025-05-10 01:07:45', 'likes': 800, 'retweets': 449, 'replies': 114}\n",
      "[Twitter] Sent to twitter-topic: {'platform': 'Twitter', 'user_id': 'user_tw_207', 'tweet_id': 'tweet_70836', 'event_time': '2025-05-10 01:07:47', 'likes': 1458, 'retweets': 22, 'replies': 101}\n",
      "[TikTok] Sent to tiktok-topic: {'platform': 'TikTok', 'user_id': 'user_tt_234', 'video_id': 'vid_9247', 'event_time': '2025-05-10 01:07:49', 'likes': 5896, 'shares': 31, 'comments': 338}\n",
      "[TikTok] Sent to tiktok-topic: {'platform': 'TikTok', 'user_id': 'user_tt_274', 'video_id': 'vid_61709', 'event_time': '2025-05-10 01:07:50', 'likes': 160, 'shares': 134, 'comments': 501}\n",
      "[Instagram] Sent to instagram-topic: {'platform': 'Instagram', 'user_id': 'user_ig_24', 'post_id': 'post_6018', 'event_time': '2025-05-10 01:07:51', 'likes': 1086, 'comments': 418, 'shares': 17}\n",
      "[Twitter] Sent to twitter-topic: {'platform': 'Twitter', 'user_id': 'user_tw_59', 'tweet_id': 'tweet_17565', 'event_time': '2025-05-10 01:07:52', 'likes': 1037, 'retweets': 131, 'replies': 135}\n",
      "[Instagram] Sent to instagram-topic: {'platform': 'Instagram', 'user_id': 'user_ig_174', 'post_id': 'post_5463', 'event_time': '2025-05-10 01:07:53', 'likes': 2936, 'comments': 73, 'shares': 25}\n",
      "[Instagram] Sent to instagram-topic: {'platform': 'Instagram', 'user_id': 'user_ig_8', 'post_id': 'post_6201', 'event_time': '2025-05-10 01:07:54', 'likes': 2439, 'comments': 338, 'shares': 45}\n",
      "[Twitter] Sent to twitter-topic: {'platform': 'Twitter', 'user_id': 'user_tw_288', 'tweet_id': 'tweet_79021', 'event_time': '2025-05-10 01:07:55', 'likes': 1884, 'retweets': 267, 'replies': 218}\n",
      "[Facebook] Sent to facebook-topic: {'platform': 'Facebook', 'user_id': 'user_fb_330', 'post_id': 'post_2026', 'event_time': '2025-05-10 01:07:56', 'likes': 1896, 'comments': 688, 'shares': 46}\n",
      "[Instagram] Sent to instagram-topic: {'platform': 'Instagram', 'user_id': 'user_ig_48', 'post_id': 'post_7868', 'event_time': '2025-05-10 01:07:58', 'likes': 1534, 'comments': 343, 'shares': 47}\n",
      "[Twitter] Sent to twitter-topic: {'platform': 'Twitter', 'user_id': 'user_tw_183', 'tweet_id': 'tweet_41564', 'event_time': '2025-05-10 01:07:59', 'likes': 894, 'retweets': 404, 'replies': 110}\n",
      "[TikTok] Sent to tiktok-topic: {'platform': 'TikTok', 'user_id': 'user_tt_316', 'video_id': 'vid_62123', 'event_time': '2025-05-10 01:08:01', 'likes': 3551, 'shares': 298, 'comments': 249}\n",
      "[Facebook] Sent to facebook-topic: {'platform': 'Facebook', 'user_id': 'user_fb_76', 'post_id': 'post_3408', 'event_time': '2025-05-10 01:08:02', 'likes': 2471, 'comments': 485, 'shares': 41}\n",
      "[Instagram] Sent to instagram-topic: {'platform': 'Instagram', 'user_id': 'user_ig_135', 'post_id': 'post_3173', 'event_time': '2025-05-10 01:08:04', 'likes': 120, 'comments': 479, 'shares': 11}\n",
      "[Instagram] Sent to instagram-topic: {'platform': 'Instagram', 'user_id': 'user_ig_363', 'post_id': 'post_5674', 'event_time': '2025-05-10 01:08:05', 'likes': 665, 'comments': 322, 'shares': 98}\n",
      "[Instagram] Sent to instagram-topic: {'platform': 'Instagram', 'user_id': 'user_ig_460', 'post_id': 'post_8319', 'event_time': '2025-05-10 01:08:06', 'likes': 285, 'comments': 130, 'shares': 25}\n",
      "[Instagram] Sent to instagram-topic: {'platform': 'Instagram', 'user_id': 'user_ig_193', 'post_id': 'post_2131', 'event_time': '2025-05-10 01:08:08', 'likes': 2321, 'comments': 165, 'shares': 98}\n",
      "[Facebook] Sent to facebook-topic: {'platform': 'Facebook', 'user_id': 'user_fb_431', 'post_id': 'post_2499', 'event_time': '2025-05-10 01:08:09', 'likes': 2819, 'comments': 613, 'shares': 70}\n",
      "[Instagram] Sent to instagram-topic: {'platform': 'Instagram', 'user_id': 'user_ig_32', 'post_id': 'post_1211', 'event_time': '2025-05-10 01:08:11', 'likes': 521, 'comments': 362, 'shares': 22}\n",
      "[TikTok] Sent to tiktok-topic: {'platform': 'TikTok', 'user_id': 'user_tt_219', 'video_id': 'vid_99450', 'event_time': '2025-05-10 01:08:11', 'likes': 5976, 'shares': 146, 'comments': 404}\n",
      "[Twitter] Sent to twitter-topic: {'platform': 'Twitter', 'user_id': 'user_tw_412', 'tweet_id': 'tweet_54407', 'event_time': '2025-05-10 01:08:12', 'likes': 950, 'retweets': 290, 'replies': 94}\n",
      "[Instagram] Sent to instagram-topic: {'platform': 'Instagram', 'user_id': 'user_ig_363', 'post_id': 'post_1890', 'event_time': '2025-05-10 01:08:14', 'likes': 3244, 'comments': 359, 'shares': 78}\n",
      "[TikTok] Sent to tiktok-topic: {'platform': 'TikTok', 'user_id': 'user_tt_74', 'video_id': 'vid_78271', 'event_time': '2025-05-10 01:08:15', 'likes': 361, 'shares': 155, 'comments': 307}\n",
      "[Instagram] Sent to instagram-topic: {'platform': 'Instagram', 'user_id': 'user_ig_462', 'post_id': 'post_2201', 'event_time': '2025-05-10 01:08:15', 'likes': 864, 'comments': 239, 'shares': 15}\n",
      "[Twitter] Sent to twitter-topic: {'platform': 'Twitter', 'user_id': 'user_tw_217', 'tweet_id': 'tweet_72029', 'event_time': '2025-05-10 01:08:17', 'likes': 601, 'retweets': 256, 'replies': 114}\n",
      "[Instagram] Sent to instagram-topic: {'platform': 'Instagram', 'user_id': 'user_ig_29', 'post_id': 'post_7928', 'event_time': '2025-05-10 01:08:18', 'likes': 1270, 'comments': 71, 'shares': 88}\n",
      "[Instagram] Sent to instagram-topic: {'platform': 'Instagram', 'user_id': 'user_ig_157', 'post_id': 'post_9457', 'event_time': '2025-05-10 01:08:19', 'likes': 8, 'comments': 152, 'shares': 60}\n"
     ]
    }
   ],
   "source": [
    "\n",
    "\n",
    "TOPIC_MAP = {\n",
    "    'Instagram': 'instagram-topic',\n",
    "    'Twitter': 'twitter-topic',\n",
    "    'Facebook': 'facebook-topic',\n",
    "    'TikTok': 'tiktok-topic',\n",
    "}\n",
    "NUMBER_MESSAGES_TO_SEND = random.randint(50, 100)\n",
    "\n",
    "producer = KafkaProducer(\n",
    "    bootstrap_servers=KAFKA_SERVER,\n",
    "    value_serializer=lambda v: json.dumps(v).encode('utf-8')\n",
    ")\n",
    "\n",
    "try:\n",
    "    for _ in range(NUMBER_MESSAGES_TO_SEND):\n",
    "        data = generate_social_data()\n",
    "        topic = TOPIC_MAP[data['platform']]\n",
    "        producer.send(topic, data)\n",
    "        print(f\"[{data['platform']}] Sent to {topic}: {data}\")\n",
    "        time.sleep(random.uniform(0.5, 2.0))\n",
    "\n",
    "except KeyboardInterrupt:\n",
    "    print(\"Stopped producing messages.\")\n",
    "\n",
    "finally:\n",
    "    producer.close()\n"
   ]
  }
 ],
 "metadata": {
  "kernelspec": {
   "display_name": "Python 3 (ipykernel)",
   "language": "python",
   "name": "python3"
  },
  "language_info": {
   "codemirror_mode": {
    "name": "ipython",
    "version": 3
   },
   "file_extension": ".py",
   "mimetype": "text/x-python",
   "name": "python",
   "nbconvert_exporter": "python",
   "pygments_lexer": "ipython3",
   "version": "3.11.6"
  }
 },
 "nbformat": 4,
 "nbformat_minor": 2
}
