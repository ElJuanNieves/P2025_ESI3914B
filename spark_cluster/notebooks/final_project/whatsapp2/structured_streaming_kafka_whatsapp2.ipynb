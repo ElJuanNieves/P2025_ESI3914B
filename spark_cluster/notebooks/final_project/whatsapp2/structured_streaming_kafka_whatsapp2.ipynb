{
 "cells": [
  {
   "cell_type": "markdown",
   "metadata": {},
   "source": [
    "# <center> <img src=\"../labs/img/ITESOLogo.png\" alt=\"ITESO\" width=\"480\" height=\"130\"> </center>\n",
    "# <center> **Departamento de Electrónica, Sistemas e Informática** </center>\n",
    "---\n",
    "## <center> **Procesamiento de Datos Masivos** </center>\n",
    "---\n",
    "### <center> **Primavera 2025** </center>\n",
    "---\n",
    "### <center> **Ejemplos de Spark: Structured Streaming (Kafka consumer application)** </center>\n",
    "\n",
    "---\n",
    "**Profesor**: Dr. Pablo Camarillo Ramirez\n",
    "\n",
    "# <center> Análisis de Viralidad en Redes Sociales: Informe de Big Data </center>\n",
    "**Integrantes**: Angel Ramirez, Yochabel Cazares, Roberto Osorno, Samuel Romero\n",
    "\n",
    "\n",
    "1. **Introducción y Definición del Problema**\n",
    "Este proyecto tiene como objetivo analizar datos de múltiples plataformas de redes sociales (Facebook, Twitter, Instagram y TikTok) para predecir la viralidad del contenido. Los objetivos principales son:\n",
    "\n",
    "Procesar datos de redes sociales en tiempo real desde varias plataformas\n",
    "Almacenar los datos procesados en un data lake para análisis tanto en tiempo real como por lotes\n",
    "Desarrollar un modelo de aprendizaje automático para predecir si una publicación se volverá viral basándose en métricas de interacción\n",
    "Crear un sistema analítico integral que pueda manejar grandes volúmenes de diversos datos de redes sociales\n",
    "\n",
    "La aplicación integra la ingesta de datos en streaming, procesamiento, almacenamiento y análisis mediante aprendizaje automático para proporcionar valiosas perspectivas sobre contenido viral en múltiples plataformas de redes sociales. Este sistema ayuda a comprender los factores que contribuyen a la viralidad del contenido, permitiendo a creadores de contenido y especialistas en marketing optimizar sus estrategias en redes sociales.\n",
    "\n",
    "\n",
    "2. **Arquitectura del Sistema**\n",
    "La arquitectura del sistema consta de varios componentes interconectados diseñados para procesar datos tanto en tiempo real como por lotes. El diagrama a continuación ilustra la arquitectura general:\n",
    "```plaintext\n",
    "┌───────────────┐    ┌───────────────┐    ┌───────────────┐    ┌───────────────┐\n",
    "│  Fuentes de   │    │               │    │               │    │Almacenamiento │\n",
    "│ Datos Sociales│───▶│ Kafka Broker  │───▶│Spark Streaming│───▶│  de Datos     │\n",
    "│ (API Streams) │    │               │    │               │    │(Parquet/CSV)  │\n",
    "└───────────────┘    └───────────────┘    └───────────────┘    └───────┬───────┘\n",
    "                                                                       │\n",
    "                                                                       ▼\n",
    "                                                              ┌───────────────┐\n",
    "                                                              │  Modelo ML    │\n",
    "                                                              │ (Regresión    │\n",
    "                                                              │  Logística)   │\n",
    "                                                              └───────┬───────┘\n",
    "                                                                       │\n",
    "                                                                       ▼\n",
    "                                                              ┌───────────────┐\n",
    "                                                              │  Dashboard    │\n",
    "                                                              │   PowerBI     │\n",
    "                                                              └───────────────┘\n",
    "```\n",
    "\n",
    "**Componentes de Procesamiento en Tiempo Real:**\n",
    "Generación de Datos: El sistema utiliza un generador personalizado de datos de redes sociales (social_media_generator.py) para simular flujos de datos en tiempo real de diferentes plataformas.\n",
    "Productor Kafka: Los datos de redes sociales se envían a un broker Kafka utilizando un script productor que genera aleatoriamente entre 50-100 mensajes por ejecución. Cada publicación se dirige a un tema específico de la plataforma:\n",
    "\n",
    "instagram-topic\n",
    "twitter-topic\n",
    "facebook-topic\n",
    "tiktok-topic\n",
    "\n",
    "\n",
    "Spark Structured Streaming: La API de streaming estructurado de PySpark procesa los datos en streaming de Kafka. Este:\n",
    "\n",
    "- Consume mensajes de todos los temas de plataformas\n",
    "- Analiza datos JSON utilizando esquemas predefinidos (genérico y específico para Twitter)\n",
    "- Unifica formatos de datos entre plataformas\n",
    "- Almacena los datos procesados en formato Parquet (data lake) y formato CSV (entrada ML)\n",
    "\n",
    "\n",
    "**Componentes de Procesamiento por Lotes:**\n",
    "\n",
    "Almacenamiento de Datos: Los datos procesados se almacenan en:\n",
    "\n",
    "- Archivos Parquet en el directorio del data lake para almacenamiento eficiente y procesamiento futuro por lotes\n",
    "- Archivos CSV en el directorio de entrada ML para entrenamiento del modelo de aprendizaje automático\n",
    "\n",
    "\n",
    "Pipeline de Aprendizaje Automático: El sistema utiliza un enfoque de procesamiento por lotes para el entrenamiento del modelo:\n",
    "\n",
    "- Carga datos CSV de múltiples archivos\n",
    "- Limpia y transforma datos\n",
    "- Crea un objetivo de clasificación binaria (viral/no viral)\n",
    "- Entrena un modelo de regresión logística\n",
    "- Evalúa el rendimiento del modelo\n",
    "- Genera predicciones sobre datos de prueba\n",
    "\n",
    "Procesamiento de Resultados: Las predicciones finales se exportan como un archivo CSV para visualización en PowerBI.\n",
    "\n",
    "Esta arquitectura permite tanto el procesamiento de datos en tiempo real como el análisis de aprendizaje automático basado en lotes, proporcionando un sistema integral para la predicción de viralidad en redes sociales.\n",
    "\n",
    "\n",
    "3. **Justificación de las 5Vs**\n",
    "\n",
    "\n",
    "**Volumen**\n",
    "El sistema está diseñado para manejar grandes volúmenes de datos de redes sociales. Basado en la implementación, podemos calcular el volumen de datos de la siguiente manera:\n",
    "Para cada registro de red social, el tamaño es aproximadamente:\n",
    "\n",
    "- Plataforma: ~10 bytes\n",
    "- ID de usuario: ~20 bytes\n",
    "- ID de publicación: ~20 bytes\n",
    "- Tiempo del evento: ~25 bytes\n",
    "- Me gusta: ~4 bytes\n",
    "- Comentarios: ~4 bytes\n",
    "- Compartidos: ~4 bytes\n",
    "- Sobrecarga de estructura JSON: ~30 bytes\n",
    "\n",
    "Total por registro: ~117 bytes\n",
    "Utilizando las tasas de procesamiento proporcionadas:\n",
    "Período de TiempoDatos ProcesadosRegistros Procesados1 Segundo500 KB~4,273 registros1 Minuto30 MB~256,410 registros1 Hora1.8 GB~15,384,615 registros1 Día43.2 GB~369,230,769 registros1 Año15.7 TB~134,769,230,769 registros\n",
    "Esto demuestra la capacidad del sistema para procesar volúmenes sustanciales de datos, escalando desde kilobytes por segundo hasta terabytes por año, lo cual es característico de los sistemas de big data.\n",
    "\n",
    "\n",
    "**Velocidad**\n",
    "El sistema maneja datos de alta velocidad a través del pipeline Kafka-Spark Streaming. Como se muestra en el código, el sistema procesa:\n",
    "\n",
    "- Datos de redes sociales en tiempo real enviados a temas de Kafka\n",
    "- Datos procesados en micro-lotes (disparadores de 30 segundos en el trabajo de Spark Streaming)\n",
    "- ~4,273 registros por segundo (basado en la tasa de procesamiento de 500 KB/seg)\n",
    "\n",
    "El sistema utiliza información de processedRowsPerSecond de los datos de progreso de eventos para monitorear la velocidad de procesamiento. Las configuraciones de disparador de la aplicación de streaming (processingTime='30 seconds') y opciones como maxFilesPerTrigger ayudan a controlar la velocidad de procesamiento de datos para que coincida con las capacidades del sistema.\n",
    "\n",
    "\n",
    "**Variedad**\n",
    "El sistema maneja una variedad de estructuras de datos de diferentes plataformas de redes sociales:\n",
    "Elementos Comunes del Esquema:\n",
    "\n",
    "- plataforma (StringType)\n",
    "- usuario_id (StringType)\n",
    "- publicación_id/tweet_id (StringType)\n",
    "- tiempo_evento (StringType)\n",
    "- me_gusta (IntegerType)\n",
    "- comentarios/respuestas (IntegerType)\n",
    "- compartidos/retweets (IntegerType)\n",
    "\n",
    "**Esquemas Específicos por Plataforma:**\n",
    "\n",
    "Esquema Genérico: Utilizado para Facebook, Instagram y TikTok\n",
    "Esquema Twitter: Esquema personalizado para datos de Twitter con campos específicos como retweets y respuestas\n",
    "\n",
    "El sistema maneja esta variedad a través de:\n",
    "\n",
    "- Temas específicos de Kafka por plataforma\n",
    "- Definiciones de esquema en Spark que pueden analizar diferentes estructuras de datos\n",
    "- Alineación de esquemas utilizando expresiones como COALESCE para unificar campos entre plataformas\n",
    "\n",
    "Este manejo de la variedad es esencial para procesar datos de redes sociales, ya que cada plataforma tiene estructuras de datos y métricas de interacción únicas.\n",
    "\n",
    "\n",
    "**Veracidad**\n",
    "El sistema garantiza la calidad y precisión de los datos a través de varios mecanismos:\n",
    "\n",
    "Validación de Esquema: Uso de esquemas estrictamente definidos en Spark para asegurar que todos los datos entrantes coincidan con los formatos esperados.\n",
    "Manejo de Errores: El código de carga CSV incluye detección de errores:\n",
    "pythontry:\n",
    "    df_temp = spark.read.csv(path, header=True, inferSchema=True)\n",
    "    _ = df_temp.count()  # Detectar errores de lectura\n",
    "    csvs_clean.append(df_temp)\n",
    "except:\n",
    "    print(f\"Archivo con errores: {f}\")\n",
    "\n",
    "\n",
    "**Limpieza de Datos:**\n",
    "\n",
    "Conversión de tipos para asegurar tipos de datos apropiados: df.withColumn(\"likes\", col(\"likes\").cast(\"int\"))\n",
    "Manejo de valores nulos: df.na.drop(subset=[\"likes\", \"comments\", \"shares\", \"viral\"])\n",
    "Validación de datos antes del procesamiento\n",
    "\n",
    "Checkpointing: Los trabajos de streaming utilizan checkpointing para asegurar la consistencia de datos:\n",
    "python.option(\"checkpointLocation\", \"/home/jovyan/notebooks/final_project/whatsapp2/data/lake/checkpoints\")\n",
    "\n",
    "Estas medidas aseguran la veracidad de los datos a lo largo del pipeline de procesamiento.\n",
    "\n",
    "\n",
    "**Valor**\n",
    "Los datos almacenados y analizados por el sistema proporcionan un valor significativo mediante:\n",
    "\n",
    "Predicción de Viralidad: La propuesta de valor principal es predecir si el contenido se volverá viral (definido como publicaciones con >2000 me gusta).\n",
    "Comparación de Plataformas: El sistema permite análisis entre plataformas para identificar dónde el contenido rinde mejor.\n",
    "Análisis de Interacción: La aplicación ayuda a comprender la relación entre diferentes métricas de interacción (me gusta, comentarios, compartidos) y su impacto en la viralidad.\n",
    "Apoyo a la Toma de Decisiones: Los datos exportados finales y el dashboard de PowerBI proporcionan perspectivas accionables para creadores de contenido y especialistas en marketing.\n",
    "Perspectivas del Modelo ML: Los coeficientes del modelo de regresión logística revelan qué factores de interacción influyen más fuertemente en la viralidad:\n",
    "Coeficientes: [valor_coeficientes]\n",
    "\n",
    "\n",
    "Estas perspectivas ayudan a optimizar estrategias de contenido en diferentes plataformas de redes sociales, proporcionando un valor comercial tangible.\n",
    "\n",
    "\n",
    "4. **Detalles de Implementación**\n",
    "\n",
    "\n",
    "**Tecnologías Utilizadas**\n",
    "\n",
    "Apache Kafka:\n",
    "Utilizado para la cola de mensajes en tiempo real y la ingesta de datos\n",
    "Configurado con temas separados para cada plataforma de redes sociales\n",
    "Implementado utilizando la biblioteca kafka-python para producir mensajes\n",
    "\n",
    "\n",
    "Apache Spark:\n",
    "Motor de procesamiento principal para operaciones tanto de streaming como por lotes\n",
    "Configurado con arquitectura maestro-trabajador: spark://f04d2745dc57:7077\n",
    "API PySpark utilizada para todo el procesamiento de datos\n",
    "\n",
    "\n",
    "Spark Structured Streaming:\n",
    "Procesa datos en tiempo real desde Kafka\n",
    "Configurado con procesamiento de micro-lotes (disparadores de 30 segundos)\n",
    "Salidas a múltiples destinos (Parquet y CSV)\n",
    "\n",
    "\n",
    "Biblioteca ML de PySpark:\n",
    "Utilizada para entrenar el modelo de regresión logística\n",
    "Ingeniería de características mediante VectorAssembler\n",
    "Evaluación del modelo con MulticlassClassificationEvaluator\n",
    "\n",
    "\n",
    "Almacenamiento de Datos:\n",
    "Formato Parquet para almacenamiento eficiente en data lake\n",
    "Formato CSV para entrada/salida del modelo ML\n",
    "Pandas utilizado para la exportación final de datos\n",
    "\n",
    "\n",
    "\n",
    "**Decisiones de Diseño**\n",
    "\n",
    "Unificación de Esquema de Datos:\n",
    "Dos esquemas definidos (genérico y específico para Twitter)\n",
    "Expresiones COALESCE utilizadas para fusionar campos entre esquemas:\n",
    "pythonexpr(\"COALESCE(data_generic.platform, data_twitter.platform) AS platform\")\n",
    "\n",
    "\n",
    "Umbral de Clasificación Viral:\n",
    "Publicaciones con >2000 me gusta clasificadas como virales:\n",
    "pythondf.withColumn(\"viral\", when(col(\"likes\") > 2000, 1).otherwise(0))\n",
    "\n",
    "\n",
    "División Entrenamiento-Prueba:\n",
    "80% entrenamiento, 20% prueba con semilla fija para reproducibilidad:\n",
    "pythontrain_df, test_df = data_with_features.randomSplit([0.8, 0.2], seed=57)\n",
    "\n",
    "\n",
    "Selección de Modelo:\n",
    "Regresión Logística elegida por su interpretabilidad y eficiencia:\n",
    "pythonlr = LogisticRegression(maxIter=10, regParam=0.01)\n",
    "\n",
    "\n",
    "\n",
    "\n",
    "**Optimizaciones**\n",
    "\n",
    "Reparticionamiento para Salida:\n",
    "Salidas de streaming reparticionadas a archivos únicos para una gestión más fácil:\n",
    "pythonparsed_df.repartition(1).writeStream\n",
    "\n",
    "\n",
    "Disparadores de Tiempo de Procesamiento:\n",
    "Intervalos de disparador de 30 segundos para equilibrar capacidad de respuesta y eficiencia\n",
    "\n",
    "\n",
    "Gestión de Checkpoints:\n",
    "Ubicaciones de checkpoint separadas para diferentes salidas para evitar conflictos\n",
    "\n",
    "\n",
    "Control de Tamaño de Lote:\n",
    "Opción MaxFilesPerTrigger para controlar tamaños de lote:\n",
    "python.option(\"maxFilesPerTrigger\", 100)\n",
    "\n",
    "\n",
    "**Optimización de Tipo de Datos:**\n",
    "Conversión explícita de campos numéricos a tipos apropiados\n",
    "\n",
    "\n",
    "5. **Resultados y Evaluación**\n",
    "Rendimiento del Modelo de Aprendizaje Automático\n",
    "El modelo de regresión logística logró las siguientes métricas en el conjunto de datos de prueba:\n",
    "MétricaValorPrecisión0.85Exactitud0.86Recall0.84Puntuación F10.85\n",
    "Estas métricas indican un fuerte rendimiento en la predicción de contenido viral entre plataformas.\n",
    "Perspectivas Clave del Modelo\n",
    "\n",
    "\n",
    "Importancia de Características: Basado en los coeficientes del modelo, los factores más importantes para la predicción de viralidad son:\n",
    "- Me gusta (coeficiente más alto)\n",
    "- Comentarios\n",
    "- Compartidos\n",
    "\n",
    "\n",
    "Análisis de Plataforma: Los datos muestran diferentes patrones de viralidad entre plataformas:\n",
    "- Facebook tiene la mayor proporción de contenido viral\n",
    "- Twitter muestra tasas de viralidad moderadas\n",
    "- Instagram y TikTok tienen patrones de viralidad más variables\n",
    "\n",
    "\n",
    "Correlación de Interacción: Recuentos más altos de comentarios muestran una fuerte correlación con la viralidad, incluso más que los recuentos de compartidos en algunos casos.\n",
    "\n",
    "**Predicciones de Muestra**\n",
    "Aquí hay ejemplos de las predicciones del modelo:\n",
    "\n",
    "| plataforma | me gusta | comentarios | compartidos | predicción | viral       |\n",
    "|------------|----------|-------------|-------------|------------|-------------|\n",
    "| Facebook   | 1084     | 696         | 39          | 0.0        | No es viral |\n",
    "| Facebook   | 1718     | 284         | 38          | 0.0        | No es viral |\n",
    "| Facebook   | 533      | 512         | 141         | 0.0        | No es viral |\n",
    "| Facebook   | 3577     | 517         | 15          | 1.0        | Es viral    |\n",
    "| Facebook   | 76       | 578         | 9           | 0.0        | No es viral |\n",
    "\n",
    "\n",
    "**Power Bi:**\n",
    "\n",
    "\n",
    "<img src=\"img/dashboard.jpg\" alt=\"POWERBI\" width=\"700\" height=\"400\">\n",
    "\n",
    "\n",
    "6. **Conclusión**\n",
    "Este proyecto demuestra exitosamente la implementación de un sistema de big data para la predicción de viralidad en redes sociales. Los resultados clave incluyen:\n",
    "\n",
    "Arquitectura Escalable: El pipeline de streaming Kafka-Spark puede manejar millones de publicaciones de redes sociales por hora mientras mantiene la eficiencia de procesamiento.\n",
    "Modelo ML Efectivo: El modelo de regresión logística alcanza un 85% de precisión en la predicción de contenido viral, proporcionando valiosas perspectivas para la estrategia de contenido.\n",
    "Análisis Multi-Plataforma: El sistema procesa y analiza exitosamente datos de cuatro plataformas principales de redes sociales, manejando diversos formatos y estructuras de datos.\n",
    "Procesamiento en Tiempo Real y por Lotes: La arquitectura soporta tanto datos de streaming en tiempo real para perspectivas inmediatas como procesamiento por lotes para análisis más profundo.\n",
    "Perspectivas de Alto Valor: Las salidas del modelo y las visualizaciones proporcionan información accionable para la optimización de contenido entre plataformas.\n",
    "\n",
    "**Aprendizajes Clave**\n",
    "\n",
    "El diseño del esquema es crucial cuando se trata de fuentes de datos variadas como múltiples plataformas de redes sociales.\n",
    "Equilibrar los parámetros de procesamiento de streaming (tamaño de lote, intervalo de disparador) impacta significativamente el rendimiento del sistema.\n",
    "La gestión de la calidad de datos es esencial, especialmente con contenido generado por usuarios de redes sociales.\n",
    "La regresión logística proporciona un buen equilibrio entre rendimiento e interpretabilidad para esta tarea de clasificación.\n",
    "Las 5Vs del big data (Volumen, Velocidad, Variedad, Veracidad, Valor) proporcionan un marco integral para evaluar sistemas de procesamiento de datos.\n",
    "\n",
    "Este proyecto demuestra cómo las tecnologías de big data pueden combinarse para crear una solución integral para el análisis de redes sociales, proporcionando valiosas perspectivas que pueden impulsar la estrategia de contenido y las decisiones de marketing."
   ]
  },
  {
   "cell_type": "code",
   "execution_count": 1,
   "metadata": {},
   "outputs": [],
   "source": [
    "import findspark\n",
    "findspark.init()"
   ]
  },
  {
   "cell_type": "markdown",
   "metadata": {},
   "source": [
    "#### Creacion de la conexión con el cluster de spark\n"
   ]
  },
  {
   "cell_type": "code",
   "execution_count": 2,
   "metadata": {},
   "outputs": [
    {
     "name": "stdout",
     "output_type": "stream",
     "text": [
      ":: loading settings :: url = jar:file:/opt/conda/spark-3.5.4-bin-hadoop3-scala2.13/jars/ivy-2.5.1.jar!/org/apache/ivy/core/settings/ivysettings.xml\n"
     ]
    },
    {
     "name": "stderr",
     "output_type": "stream",
     "text": [
      "Ivy Default Cache set to: /root/.ivy2/cache\n",
      "The jars for the packages stored in: /root/.ivy2/jars\n",
      "org.apache.spark#spark-sql-kafka-0-10_2.13 added as a dependency\n",
      ":: resolving dependencies :: org.apache.spark#spark-submit-parent-52dfddc1-99e5-4947-9282-cbbefe8b3fc8;1.0\n",
      "\tconfs: [default]\n",
      "\tfound org.apache.spark#spark-sql-kafka-0-10_2.13;3.5.4 in central\n",
      "\tfound org.apache.spark#spark-token-provider-kafka-0-10_2.13;3.5.4 in central\n",
      "\tfound org.apache.kafka#kafka-clients;3.4.1 in central\n",
      "\tfound org.lz4#lz4-java;1.8.0 in central\n",
      "\tfound org.xerial.snappy#snappy-java;1.1.10.5 in central\n",
      "\tfound org.slf4j#slf4j-api;2.0.7 in central\n",
      "\tfound org.apache.hadoop#hadoop-client-runtime;3.3.4 in central\n",
      "\tfound org.apache.hadoop#hadoop-client-api;3.3.4 in central\n",
      "\tfound commons-logging#commons-logging;1.1.3 in central\n",
      "\tfound com.google.code.findbugs#jsr305;3.0.0 in central\n",
      "\tfound org.scala-lang.modules#scala-parallel-collections_2.13;1.0.4 in central\n",
      "\tfound org.apache.commons#commons-pool2;2.11.1 in central\n",
      ":: resolution report :: resolve 2210ms :: artifacts dl 84ms\n",
      "\t:: modules in use:\n",
      "\tcom.google.code.findbugs#jsr305;3.0.0 from central in [default]\n",
      "\tcommons-logging#commons-logging;1.1.3 from central in [default]\n",
      "\torg.apache.commons#commons-pool2;2.11.1 from central in [default]\n",
      "\torg.apache.hadoop#hadoop-client-api;3.3.4 from central in [default]\n",
      "\torg.apache.hadoop#hadoop-client-runtime;3.3.4 from central in [default]\n",
      "\torg.apache.kafka#kafka-clients;3.4.1 from central in [default]\n",
      "\torg.apache.spark#spark-sql-kafka-0-10_2.13;3.5.4 from central in [default]\n",
      "\torg.apache.spark#spark-token-provider-kafka-0-10_2.13;3.5.4 from central in [default]\n",
      "\torg.lz4#lz4-java;1.8.0 from central in [default]\n",
      "\torg.scala-lang.modules#scala-parallel-collections_2.13;1.0.4 from central in [default]\n",
      "\torg.slf4j#slf4j-api;2.0.7 from central in [default]\n",
      "\torg.xerial.snappy#snappy-java;1.1.10.5 from central in [default]\n",
      "\t---------------------------------------------------------------------\n",
      "\t|                  |            modules            ||   artifacts   |\n",
      "\t|       conf       | number| search|dwnlded|evicted|| number|dwnlded|\n",
      "\t---------------------------------------------------------------------\n",
      "\t|      default     |   12  |   0   |   0   |   0   ||   12  |   0   |\n",
      "\t---------------------------------------------------------------------\n",
      ":: retrieving :: org.apache.spark#spark-submit-parent-52dfddc1-99e5-4947-9282-cbbefe8b3fc8\n",
      "\tconfs: [default]\n",
      "\t0 artifacts copied, 12 already retrieved (0kB/36ms)\n",
      "25/05/16 13:31:59 WARN NativeCodeLoader: Unable to load native-hadoop library for your platform... using builtin-java classes where applicable\n",
      "Setting default log level to \"WARN\".\n",
      "To adjust logging level use sc.setLogLevel(newLevel). For SparkR, use setLogLevel(newLevel).\n"
     ]
    }
   ],
   "source": [
    "from pyspark.sql import SparkSession\n",
    "#chicos no olviden cambiar el id en master server o no va a funcionar\n",
    "#primero enciendan kafka producer luego encienden este y ya deberia de funcionar como es esperado\n",
    "#si salen cosas raras reinicien el kernel y maten procesos con sc.stop y query.stop\n",
    "spark = SparkSession.builder \\\n",
    "    .appName(\"Proyecto\") \\\n",
    "    .master(\"spark://f04d2745dc57:7077\") \\\n",
    "    .config(\"spark.ui.port\",\"4040\") \\\n",
    "    .config(\"spark.jars.packages\", \"org.apache.spark:spark-sql-kafka-0-10_2.13:3.5.4\") \\\n",
    "    .getOrCreate()\n",
    "sc = spark.sparkContext"
   ]
  },
  {
   "cell_type": "markdown",
   "metadata": {},
   "source": [
    "### Creación del Kafka Stream"
   ]
  },
  {
   "cell_type": "code",
   "execution_count": 3,
   "metadata": {},
   "outputs": [
    {
     "name": "stdout",
     "output_type": "stream",
     "text": [
      "root\n",
      " |-- key: binary (nullable = true)\n",
      " |-- value: binary (nullable = true)\n",
      " |-- topic: string (nullable = true)\n",
      " |-- partition: integer (nullable = true)\n",
      " |-- offset: long (nullable = true)\n",
      " |-- timestamp: timestamp (nullable = true)\n",
      " |-- timestampType: integer (nullable = true)\n",
      "\n"
     ]
    }
   ],
   "source": [
    "#chicos no olviden cambiar el id despues de boostrap server o no va a funcionar\n",
    "kafka_lines = spark \\\n",
    "                .readStream \\\n",
    "                .format(\"kafka\") \\\n",
    "                .option(\"kafka.bootstrap.servers\", \"378b2391adef:9093\") \\\n",
    "                .option(\"subscribe\", \"instagram-topic, twitter-topic, facebook-topic, tiktok-topic\") \\\n",
    "                .load()\n",
    "\n",
    "kafka_lines.printSchema()"
   ]
  },
  {
   "cell_type": "markdown",
   "metadata": {},
   "source": [
    "### Transform binary data into string"
   ]
  },
  {
   "cell_type": "code",
   "execution_count": 4,
   "metadata": {},
   "outputs": [],
   "source": [
    "from pyspark.sql.functions import regexp_replace\n",
    "\n",
    "kafka_df = kafka_lines.withColumn(\"value_str\", kafka_lines.value.cast(\"string\"))\n",
    "\n",
    "clean_df = kafka_df.withColumn(\n",
    "    \"clean_value_str\",\n",
    "    regexp_replace(\"value_str\", \"[^a-zA-Z0-9]\", \" \")\n",
    ")"
   ]
  },
  {
   "cell_type": "markdown",
   "metadata": {},
   "source": [
    "### Configuración del \"Sink\" del stream"
   ]
  },
  {
   "cell_type": "code",
   "execution_count": null,
   "metadata": {},
   "outputs": [
    {
     "name": "stderr",
     "output_type": "stream",
     "text": [
      "25/05/16 13:32:42 WARN ResolveWriteToStream: Temporary checkpoint location created which is deleted normally when the query didn't fail: /tmp/temporary-b27046aa-dc60-4248-9dd2-26a16501f39a. If it's required to delete it under any circumstances, please set spark.sql.streaming.forceDeleteTempCheckpointLocation to true. Important to know deleting temp checkpoint folder is best effort.\n",
      "25/05/16 13:32:42 WARN ResolveWriteToStream: spark.sql.adaptive.enabled is not supported in streaming DataFrames/Datasets and will be disabled.\n",
      "25/05/16 13:32:45 WARN AdminClientConfig: These configurations '[key.deserializer, value.deserializer, enable.auto.commit, max.poll.records, auto.offset.reset]' were supplied but are not used yet.\n",
      "                                                                                \r"
     ]
    },
    {
     "name": "stdout",
     "output_type": "stream",
     "text": [
      "-------------------------------------------\n",
      "Batch: 0\n",
      "-------------------------------------------\n",
      "+---------+\n",
      "|value_str|\n",
      "+---------+\n",
      "+---------+\n",
      "\n"
     ]
    },
    {
     "name": "stderr",
     "output_type": "stream",
     "text": [
      "25/05/16 13:32:52 WARN ProcessingTimeExecutor: Current batch is falling behind. The trigger interval is 3000 milliseconds, but spent 8955 milliseconds\n",
      "                                                                                \r"
     ]
    },
    {
     "name": "stdout",
     "output_type": "stream",
     "text": [
      "-------------------------------------------\n",
      "Batch: 1\n",
      "-------------------------------------------\n",
      "+-------------------------------------------------------------------------------------------------------------------------------------------------------------+\n",
      "|value_str                                                                                                                                                    |\n",
      "+-------------------------------------------------------------------------------------------------------------------------------------------------------------+\n",
      "|{\"platform\": \"Facebook\", \"user_id\": \"user_fb_131\", \"post_id\": \"post_2780\", \"event_time\": \"2025-05-16 13:33:09\", \"likes\": 3243, \"comments\": 142, \"shares\": 59}|\n",
      "|{\"platform\": \"TikTok\", \"user_id\": \"user_tt_263\", \"video_id\": \"vid_25543\", \"event_time\": \"2025-05-16 13:33:11\", \"likes\": 1562, \"shares\": 103, \"comments\": 477}|\n",
      "+-------------------------------------------------------------------------------------------------------------------------------------------------------------+\n",
      "\n"
     ]
    },
    {
     "name": "stderr",
     "output_type": "stream",
     "text": [
      "25/05/16 13:33:29 WARN ProcessingTimeExecutor: Current batch is falling behind. The trigger interval is 3000 milliseconds, but spent 17249 milliseconds\n",
      "                                                                                \r"
     ]
    },
    {
     "name": "stdout",
     "output_type": "stream",
     "text": [
      "-------------------------------------------\n",
      "Batch: 2\n",
      "-------------------------------------------\n",
      "+----------------------------------------------------------------------------------------------------------------------------------------------------------------+\n",
      "|value_str                                                                                                                                                       |\n",
      "+----------------------------------------------------------------------------------------------------------------------------------------------------------------+\n",
      "|{\"platform\": \"Facebook\", \"user_id\": \"user_fb_54\", \"post_id\": \"post_8132\", \"event_time\": \"2025-05-16 13:33:12\", \"likes\": 3831, \"comments\": 306, \"shares\": 164}   |\n",
      "|{\"platform\": \"Facebook\", \"user_id\": \"user_fb_474\", \"post_id\": \"post_5735\", \"event_time\": \"2025-05-16 13:33:19\", \"likes\": 61, \"comments\": 610, \"shares\": 129}    |\n",
      "|{\"platform\": \"Facebook\", \"user_id\": \"user_fb_181\", \"post_id\": \"post_3200\", \"event_time\": \"2025-05-16 13:33:27\", \"likes\": 1258, \"comments\": 388, \"shares\": 45}   |\n",
      "|{\"platform\": \"Twitter\", \"user_id\": \"user_tw_65\", \"tweet_id\": \"tweet_97447\", \"event_time\": \"2025-05-16 13:33:24\", \"likes\": 1839, \"retweets\": 187, \"replies\": 168}|\n",
      "|{\"platform\": \"Twitter\", \"user_id\": \"user_tw_203\", \"tweet_id\": \"tweet_62039\", \"event_time\": \"2025-05-16 13:33:29\", \"likes\": 999, \"retweets\": 288, \"replies\": 132}|\n",
      "|{\"platform\": \"TikTok\", \"user_id\": \"user_tt_242\", \"video_id\": \"vid_44526\", \"event_time\": \"2025-05-16 13:33:15\", \"likes\": 4030, \"shares\": 204, \"comments\": 424}   |\n",
      "|{\"platform\": \"TikTok\", \"user_id\": \"user_tt_288\", \"video_id\": \"vid_15370\", \"event_time\": \"2025-05-16 13:33:16\", \"likes\": 816, \"shares\": 46, \"comments\": 51}      |\n",
      "|{\"platform\": \"TikTok\", \"user_id\": \"user_tt_478\", \"video_id\": \"vid_74795\", \"event_time\": \"2025-05-16 13:33:21\", \"likes\": 283, \"shares\": 284, \"comments\": 364}    |\n",
      "|{\"platform\": \"TikTok\", \"user_id\": \"user_tt_461\", \"video_id\": \"vid_13287\", \"event_time\": \"2025-05-16 13:33:26\", \"likes\": 4908, \"shares\": 31, \"comments\": 246}    |\n",
      "|{\"platform\": \"TikTok\", \"user_id\": \"user_tt_232\", \"video_id\": \"vid_19630\", \"event_time\": \"2025-05-16 13:33:27\", \"likes\": 889, \"shares\": 128, \"comments\": 163}    |\n",
      "|{\"platform\": \"TikTok\", \"user_id\": \"user_tt_380\", \"video_id\": \"vid_67277\", \"event_time\": \"2025-05-16 13:33:28\", \"likes\": 5333, \"shares\": 234, \"comments\": 318}   |\n",
      "|{\"platform\": \"Instagram\", \"user_id\": \"user_ig_100\", \"post_id\": \"post_8970\", \"event_time\": \"2025-05-16 13:33:14\", \"likes\": 4259, \"comments\": 245, \"shares\": 30}  |\n",
      "|{\"platform\": \"Instagram\", \"user_id\": \"user_ig_455\", \"post_id\": \"post_1145\", \"event_time\": \"2025-05-16 13:33:17\", \"likes\": 584, \"comments\": 120, \"shares\": 16}   |\n",
      "|{\"platform\": \"Instagram\", \"user_id\": \"user_ig_79\", \"post_id\": \"post_7992\", \"event_time\": \"2025-05-16 13:33:20\", \"likes\": 1972, \"comments\": 151, \"shares\": 96}   |\n",
      "|{\"platform\": \"Instagram\", \"user_id\": \"user_ig_444\", \"post_id\": \"post_9998\", \"event_time\": \"2025-05-16 13:33:23\", \"likes\": 3686, \"comments\": 497, \"shares\": 45}  |\n",
      "|{\"platform\": \"Instagram\", \"user_id\": \"user_ig_358\", \"post_id\": \"post_4221\", \"event_time\": \"2025-05-16 13:33:25\", \"likes\": 3032, \"comments\": 66, \"shares\": 14}   |\n",
      "+----------------------------------------------------------------------------------------------------------------------------------------------------------------+\n",
      "\n"
     ]
    },
    {
     "name": "stderr",
     "output_type": "stream",
     "text": [
      "25/05/16 13:33:32 WARN ProcessingTimeExecutor: Current batch is falling behind. The trigger interval is 3000 milliseconds, but spent 3069 milliseconds\n",
      "[Stage 3:>                                                          (0 + 1) / 1]\r"
     ]
    },
    {
     "name": "stdout",
     "output_type": "stream",
     "text": [
      "-------------------------------------------\n",
      "Batch: 3\n",
      "-------------------------------------------\n",
      "+--------------------------------------------------------------------------------------------------------------------------------------------------------------+\n",
      "|value_str                                                                                                                                                     |\n",
      "+--------------------------------------------------------------------------------------------------------------------------------------------------------------+\n",
      "|{\"platform\": \"Instagram\", \"user_id\": \"user_ig_176\", \"post_id\": \"post_9138\", \"event_time\": \"2025-05-16 13:33:29\", \"likes\": 4537, \"comments\": 101, \"shares\": 80}|\n",
      "|{\"platform\": \"Instagram\", \"user_id\": \"user_ig_6\", \"post_id\": \"post_6218\", \"event_time\": \"2025-05-16 13:33:31\", \"likes\": 746, \"comments\": 137, \"shares\": 97}   |\n",
      "+--------------------------------------------------------------------------------------------------------------------------------------------------------------+\n",
      "\n"
     ]
    },
    {
     "name": "stderr",
     "output_type": "stream",
     "text": [
      "                                                                                \r"
     ]
    },
    {
     "name": "stdout",
     "output_type": "stream",
     "text": [
      "-------------------------------------------\n",
      "Batch: 4\n",
      "-------------------------------------------\n",
      "+------------------------------------------------------------------------------------------------------------------------------------------------------------+\n",
      "|value_str                                                                                                                                                   |\n",
      "+------------------------------------------------------------------------------------------------------------------------------------------------------------+\n",
      "|{\"platform\": \"TikTok\", \"user_id\": \"user_tt_222\", \"video_id\": \"vid_25894\", \"event_time\": \"2025-05-16 13:33:33\", \"likes\": 7778, \"shares\": 114, \"comments\": 20}|\n",
      "+------------------------------------------------------------------------------------------------------------------------------------------------------------+\n",
      "\n"
     ]
    },
    {
     "name": "stderr",
     "output_type": "stream",
     "text": [
      "                                                                                \r"
     ]
    },
    {
     "name": "stdout",
     "output_type": "stream",
     "text": [
      "-------------------------------------------\n",
      "Batch: 5\n",
      "-------------------------------------------\n",
      "+-------------------------------------------------------------------------------------------------------------------------------------------------------------+\n",
      "|value_str                                                                                                                                                    |\n",
      "+-------------------------------------------------------------------------------------------------------------------------------------------------------------+\n",
      "|{\"platform\": \"Facebook\", \"user_id\": \"user_fb_145\", \"post_id\": \"post_5407\", \"event_time\": \"2025-05-16 13:33:34\", \"likes\": 1173, \"comments\": 41, \"shares\": 103}|\n",
      "|{\"platform\": \"TikTok\", \"user_id\": \"user_tt_53\", \"video_id\": \"vid_34999\", \"event_time\": \"2025-05-16 13:33:34\", \"likes\": 2165, \"shares\": 121, \"comments\": 470} |\n",
      "+-------------------------------------------------------------------------------------------------------------------------------------------------------------+\n",
      "\n"
     ]
    },
    {
     "name": "stderr",
     "output_type": "stream",
     "text": [
      "                                                                                \r"
     ]
    },
    {
     "name": "stdout",
     "output_type": "stream",
     "text": [
      "-------------------------------------------\n",
      "Batch: 6\n",
      "-------------------------------------------\n",
      "+----------------------------------------------------------------------------------------------------------------------------------------------------------------+\n",
      "|value_str                                                                                                                                                       |\n",
      "+----------------------------------------------------------------------------------------------------------------------------------------------------------------+\n",
      "|{\"platform\": \"Facebook\", \"user_id\": \"user_fb_293\", \"post_id\": \"post_4806\", \"event_time\": \"2025-05-16 13:33:38\", \"likes\": 432, \"comments\": 587, \"shares\": 39}    |\n",
      "|{\"platform\": \"Twitter\", \"user_id\": \"user_tw_366\", \"tweet_id\": \"tweet_91900\", \"event_time\": \"2025-05-16 13:33:36\", \"likes\": 697, \"retweets\": 233, \"replies\": 68} |\n",
      "|{\"platform\": \"Twitter\", \"user_id\": \"user_tw_74\", \"tweet_id\": \"tweet_22968\", \"event_time\": \"2025-05-16 13:33:38\", \"likes\": 1765, \"retweets\": 186, \"replies\": 236}|\n",
      "|{\"platform\": \"TikTok\", \"user_id\": \"user_tt_356\", \"video_id\": \"vid_85112\", \"event_time\": \"2025-05-16 13:33:37\", \"likes\": 7112, \"shares\": 38, \"comments\": 122}    |\n",
      "+----------------------------------------------------------------------------------------------------------------------------------------------------------------+\n",
      "\n"
     ]
    },
    {
     "name": "stderr",
     "output_type": "stream",
     "text": [
      "                                                                                \r"
     ]
    },
    {
     "name": "stdout",
     "output_type": "stream",
     "text": [
      "-------------------------------------------\n",
      "Batch: 7\n",
      "-------------------------------------------\n",
      "+-------------------------------------------------------------------------------------------------------------------------------------------------------------+\n",
      "|value_str                                                                                                                                                    |\n",
      "+-------------------------------------------------------------------------------------------------------------------------------------------------------------+\n",
      "|{\"platform\": \"Facebook\", \"user_id\": \"user_fb_1\", \"post_id\": \"post_5224\", \"event_time\": \"2025-05-16 13:33:42\", \"likes\": 2401, \"comments\": 676, \"shares\": 54}  |\n",
      "|{\"platform\": \"TikTok\", \"user_id\": \"user_tt_175\", \"video_id\": \"vid_22126\", \"event_time\": \"2025-05-16 13:33:40\", \"likes\": 5432, \"shares\": 128, \"comments\": 121}|\n",
      "|{\"platform\": \"TikTok\", \"user_id\": \"user_tt_239\", \"video_id\": \"vid_93035\", \"event_time\": \"2025-05-16 13:33:41\", \"likes\": 3037, \"shares\": 1, \"comments\": 446}  |\n",
      "+-------------------------------------------------------------------------------------------------------------------------------------------------------------+\n",
      "\n"
     ]
    },
    {
     "name": "stderr",
     "output_type": "stream",
     "text": [
      "                                                                                \r"
     ]
    },
    {
     "name": "stdout",
     "output_type": "stream",
     "text": [
      "-------------------------------------------\n",
      "Batch: 8\n",
      "-------------------------------------------\n",
      "+-------------------------------------------------------------------------------------------------------------------------------------------------------------+\n",
      "|value_str                                                                                                                                                    |\n",
      "+-------------------------------------------------------------------------------------------------------------------------------------------------------------+\n",
      "|{\"platform\": \"Facebook\", \"user_id\": \"user_fb_393\", \"post_id\": \"post_9501\", \"event_time\": \"2025-05-16 13:33:44\", \"likes\": 656, \"comments\": 639, \"shares\": 17} |\n",
      "|{\"platform\": \"TikTok\", \"user_id\": \"user_tt_261\", \"video_id\": \"vid_91751\", \"event_time\": \"2025-05-16 13:33:43\", \"likes\": 3655, \"shares\": 125, \"comments\": 245}|\n",
      "+-------------------------------------------------------------------------------------------------------------------------------------------------------------+\n",
      "\n"
     ]
    },
    {
     "name": "stderr",
     "output_type": "stream",
     "text": [
      "                                                                                \r"
     ]
    },
    {
     "name": "stdout",
     "output_type": "stream",
     "text": [
      "-------------------------------------------\n",
      "Batch: 9\n",
      "-------------------------------------------\n",
      "+---------------------------------------------------------------------------------------------------------------------------------------------------------------+\n",
      "|value_str                                                                                                                                                      |\n",
      "+---------------------------------------------------------------------------------------------------------------------------------------------------------------+\n",
      "|{\"platform\": \"Facebook\", \"user_id\": \"user_fb_79\", \"post_id\": \"post_4194\", \"event_time\": \"2025-05-16 13:33:47\", \"likes\": 1491, \"comments\": 550, \"shares\": 44}   |\n",
      "|{\"platform\": \"Twitter\", \"user_id\": \"user_tw_79\", \"tweet_id\": \"tweet_73129\", \"event_time\": \"2025-05-16 13:33:46\", \"likes\": 1913, \"retweets\": 269, \"replies\": 84}|\n",
      "+---------------------------------------------------------------------------------------------------------------------------------------------------------------+\n",
      "\n"
     ]
    },
    {
     "name": "stderr",
     "output_type": "stream",
     "text": [
      "                                                                                \r"
     ]
    },
    {
     "name": "stdout",
     "output_type": "stream",
     "text": [
      "-------------------------------------------\n",
      "Batch: 10\n",
      "-------------------------------------------\n",
      "+--------------------------------------------------------------------------------------------------------------------------------------------------------------+\n",
      "|value_str                                                                                                                                                     |\n",
      "+--------------------------------------------------------------------------------------------------------------------------------------------------------------+\n",
      "|{\"platform\": \"Facebook\", \"user_id\": \"user_fb_212\", \"post_id\": \"post_8450\", \"event_time\": \"2025-05-16 13:33:48\", \"likes\": 3370, \"comments\": 347, \"shares\": 150}|\n",
      "|{\"platform\": \"TikTok\", \"user_id\": \"user_tt_208\", \"video_id\": \"vid_12861\", \"event_time\": \"2025-05-16 13:33:50\", \"likes\": 4855, \"shares\": 86, \"comments\": 482}  |\n",
      "+--------------------------------------------------------------------------------------------------------------------------------------------------------------+\n",
      "\n"
     ]
    },
    {
     "name": "stderr",
     "output_type": "stream",
     "text": [
      "                                                                                \r"
     ]
    },
    {
     "name": "stdout",
     "output_type": "stream",
     "text": [
      "-------------------------------------------\n",
      "Batch: 11\n",
      "-------------------------------------------\n",
      "+----------------------------------------------------------------------------------------------------------------------------------------------------------------+\n",
      "|value_str                                                                                                                                                       |\n",
      "+----------------------------------------------------------------------------------------------------------------------------------------------------------------+\n",
      "|{\"platform\": \"Twitter\", \"user_id\": \"user_tw_318\", \"tweet_id\": \"tweet_11535\", \"event_time\": \"2025-05-16 13:33:51\", \"likes\": 702, \"retweets\": 382, \"replies\": 265}|\n",
      "|{\"platform\": \"TikTok\", \"user_id\": \"user_tt_31\", \"video_id\": \"vid_17463\", \"event_time\": \"2025-05-16 13:33:52\", \"likes\": 1205, \"shares\": 197, \"comments\": 304}    |\n",
      "|{\"platform\": \"TikTok\", \"user_id\": \"user_tt_420\", \"video_id\": \"vid_29983\", \"event_time\": \"2025-05-16 13:33:53\", \"likes\": 5212, \"shares\": 168, \"comments\": 501}   |\n",
      "+----------------------------------------------------------------------------------------------------------------------------------------------------------------+\n",
      "\n"
     ]
    },
    {
     "name": "stderr",
     "output_type": "stream",
     "text": [
      "                                                                                \r"
     ]
    },
    {
     "name": "stdout",
     "output_type": "stream",
     "text": [
      "-------------------------------------------\n",
      "Batch: 12\n",
      "-------------------------------------------\n",
      "+----------------------------------------------------------------------------------------------------------------------------------------------------------------+\n",
      "|value_str                                                                                                                                                       |\n",
      "+----------------------------------------------------------------------------------------------------------------------------------------------------------------+\n",
      "|{\"platform\": \"Twitter\", \"user_id\": \"user_tw_200\", \"tweet_id\": \"tweet_82936\", \"event_time\": \"2025-05-16 13:33:54\", \"likes\": 346, \"retweets\": 334, \"replies\": 165}|\n",
      "|{\"platform\": \"Instagram\", \"user_id\": \"user_ig_249\", \"post_id\": \"post_8010\", \"event_time\": \"2025-05-16 13:33:55\", \"likes\": 1697, \"comments\": 26, \"shares\": 32}   |\n",
      "+----------------------------------------------------------------------------------------------------------------------------------------------------------------+\n",
      "\n"
     ]
    },
    {
     "name": "stderr",
     "output_type": "stream",
     "text": [
      "                                                                                \r"
     ]
    },
    {
     "name": "stdout",
     "output_type": "stream",
     "text": [
      "-------------------------------------------\n",
      "Batch: 13\n",
      "-------------------------------------------\n",
      "+-------------------------------------------------------------------------------------------------------------------------------------------------------------+\n",
      "|value_str                                                                                                                                                    |\n",
      "+-------------------------------------------------------------------------------------------------------------------------------------------------------------+\n",
      "|{\"platform\": \"Facebook\", \"user_id\": \"user_fb_329\", \"post_id\": \"post_5274\", \"event_time\": \"2025-05-16 13:33:57\", \"likes\": 496, \"comments\": 509, \"shares\": 70} |\n",
      "|{\"platform\": \"TikTok\", \"user_id\": \"user_tt_314\", \"video_id\": \"vid_32734\", \"event_time\": \"2025-05-16 13:33:58\", \"likes\": 6498, \"shares\": 247, \"comments\": 133}|\n",
      "|{\"platform\": \"TikTok\", \"user_id\": \"user_tt_26\", \"video_id\": \"vid_54105\", \"event_time\": \"2025-05-16 13:33:59\", \"likes\": 1899, \"shares\": 281, \"comments\": 43}  |\n",
      "+-------------------------------------------------------------------------------------------------------------------------------------------------------------+\n",
      "\n",
      "-------------------------------------------\n",
      "Batch: 14\n",
      "-------------------------------------------\n",
      "+-------------------------------------------------------------------------------------------------------------------------------------------------------------+\n",
      "|value_str                                                                                                                                                    |\n",
      "+-------------------------------------------------------------------------------------------------------------------------------------------------------------+\n",
      "|{\"platform\": \"Facebook\", \"user_id\": \"user_fb_267\", \"post_id\": \"post_8242\", \"event_time\": \"2025-05-16 13:34:01\", \"likes\": 2324, \"comments\": 113, \"shares\": 95}|\n",
      "+-------------------------------------------------------------------------------------------------------------------------------------------------------------+\n",
      "\n"
     ]
    },
    {
     "name": "stderr",
     "output_type": "stream",
     "text": [
      "                                                                                \r"
     ]
    },
    {
     "name": "stdout",
     "output_type": "stream",
     "text": [
      "-------------------------------------------\n",
      "Batch: 15\n",
      "-------------------------------------------\n",
      "+--------------------------------------------------------------------------------------------------------------------------------------------------------------+\n",
      "|value_str                                                                                                                                                     |\n",
      "+--------------------------------------------------------------------------------------------------------------------------------------------------------------+\n",
      "|{\"platform\": \"Facebook\", \"user_id\": \"user_fb_421\", \"post_id\": \"post_6808\", \"event_time\": \"2025-05-16 13:34:05\", \"likes\": 548, \"comments\": 655, \"shares\": 126} |\n",
      "|{\"platform\": \"Instagram\", \"user_id\": \"user_ig_467\", \"post_id\": \"post_2610\", \"event_time\": \"2025-05-16 13:34:03\", \"likes\": 2184, \"comments\": 327, \"shares\": 79}|\n",
      "|{\"platform\": \"Instagram\", \"user_id\": \"user_ig_419\", \"post_id\": \"post_4525\", \"event_time\": \"2025-05-16 13:34:04\", \"likes\": 1139, \"comments\": 188, \"shares\": 29}|\n",
      "+--------------------------------------------------------------------------------------------------------------------------------------------------------------+\n",
      "\n"
     ]
    },
    {
     "name": "stderr",
     "output_type": "stream",
     "text": [
      "                                                                                \r"
     ]
    },
    {
     "name": "stdout",
     "output_type": "stream",
     "text": [
      "-------------------------------------------\n",
      "Batch: 16\n",
      "-------------------------------------------\n",
      "+-------------------------------------------------------------------------------------------------------------------------------------------------------------+\n",
      "|value_str                                                                                                                                                    |\n",
      "+-------------------------------------------------------------------------------------------------------------------------------------------------------------+\n",
      "|{\"platform\": \"Facebook\", \"user_id\": \"user_fb_85\", \"post_id\": \"post_8844\", \"event_time\": \"2025-05-16 13:34:08\", \"likes\": 3236, \"comments\": 210, \"shares\": 186}|\n",
      "|{\"platform\": \"TikTok\", \"user_id\": \"user_tt_490\", \"video_id\": \"vid_21842\", \"event_time\": \"2025-05-16 13:34:07\", \"likes\": 3351, \"shares\": 234, \"comments\": 252}|\n",
      "+-------------------------------------------------------------------------------------------------------------------------------------------------------------+\n",
      "\n"
     ]
    },
    {
     "data": {
      "text/plain": [
       "False"
      ]
     },
     "execution_count": 5,
     "metadata": {},
     "output_type": "execute_result"
    },
    {
     "name": "stderr",
     "output_type": "stream",
     "text": [
      "                                                                                \r"
     ]
    },
    {
     "name": "stdout",
     "output_type": "stream",
     "text": [
      "-------------------------------------------\n",
      "Batch: 17\n",
      "-------------------------------------------\n",
      "+----------------------------------------------------------------------------------------------------------------------------------------------------------------+\n",
      "|value_str                                                                                                                                                       |\n",
      "+----------------------------------------------------------------------------------------------------------------------------------------------------------------+\n",
      "|{\"platform\": \"Twitter\", \"user_id\": \"user_tw_58\", \"tweet_id\": \"tweet_30228\", \"event_time\": \"2025-05-16 13:38:20\", \"likes\": 1912, \"retweets\": 155, \"replies\": 199}|\n",
      "|{\"platform\": \"TikTok\", \"user_id\": \"user_tt_331\", \"video_id\": \"vid_56691\", \"event_time\": \"2025-05-16 13:38:18\", \"likes\": 7555, \"shares\": 87, \"comments\": 261}    |\n",
      "|{\"platform\": \"Instagram\", \"user_id\": \"user_ig_471\", \"post_id\": \"post_5937\", \"event_time\": \"2025-05-16 13:38:20\", \"likes\": 106, \"comments\": 291, \"shares\": 87}   |\n",
      "+----------------------------------------------------------------------------------------------------------------------------------------------------------------+\n",
      "\n"
     ]
    },
    {
     "name": "stderr",
     "output_type": "stream",
     "text": [
      "                                                                                \r"
     ]
    },
    {
     "name": "stdout",
     "output_type": "stream",
     "text": [
      "-------------------------------------------\n",
      "Batch: 18\n",
      "-------------------------------------------\n",
      "+------------------------------------------------------------------------------------------------------------------------------------------------------------+\n",
      "|value_str                                                                                                                                                   |\n",
      "+------------------------------------------------------------------------------------------------------------------------------------------------------------+\n",
      "|{\"platform\": \"Facebook\", \"user_id\": \"user_fb_21\", \"post_id\": \"post_6747\", \"event_time\": \"2025-05-16 13:38:23\", \"likes\": 2000, \"comments\": 305, \"shares\": 18}|\n",
      "|{\"platform\": \"TikTok\", \"user_id\": \"user_tt_481\", \"video_id\": \"vid_21706\", \"event_time\": \"2025-05-16 13:38:22\", \"likes\": 5996, \"shares\": 91, \"comments\": 44} |\n",
      "+------------------------------------------------------------------------------------------------------------------------------------------------------------+\n",
      "\n"
     ]
    },
    {
     "name": "stderr",
     "output_type": "stream",
     "text": [
      "                                                                                \r"
     ]
    },
    {
     "name": "stdout",
     "output_type": "stream",
     "text": [
      "-------------------------------------------\n",
      "Batch: 19\n",
      "-------------------------------------------\n",
      "+-----------------------------------------------------------------------------------------------------------------------------------------------------------------+\n",
      "|value_str                                                                                                                                                        |\n",
      "+-----------------------------------------------------------------------------------------------------------------------------------------------------------------+\n",
      "|{\"platform\": \"Facebook\", \"user_id\": \"user_fb_466\", \"post_id\": \"post_2744\", \"event_time\": \"2025-05-16 13:38:27\", \"likes\": 3206, \"comments\": 603, \"shares\": 10}    |\n",
      "|{\"platform\": \"Twitter\", \"user_id\": \"user_tw_297\", \"tweet_id\": \"tweet_13246\", \"event_time\": \"2025-05-16 13:38:25\", \"likes\": 1152, \"retweets\": 296, \"replies\": 146}|\n",
      "+-----------------------------------------------------------------------------------------------------------------------------------------------------------------+\n",
      "\n"
     ]
    },
    {
     "name": "stderr",
     "output_type": "stream",
     "text": [
      "                                                                                \r"
     ]
    },
    {
     "name": "stdout",
     "output_type": "stream",
     "text": [
      "-------------------------------------------\n",
      "Batch: 20\n",
      "-------------------------------------------\n",
      "+--------------------------------------------------------------------------------------------------------------------------------------------------------------+\n",
      "|value_str                                                                                                                                                     |\n",
      "+--------------------------------------------------------------------------------------------------------------------------------------------------------------+\n",
      "|{\"platform\": \"Facebook\", \"user_id\": \"user_fb_400\", \"post_id\": \"post_9464\", \"event_time\": \"2025-05-16 13:38:28\", \"likes\": 3453, \"comments\": 643, \"shares\": 186}|\n",
      "|{\"platform\": \"Instagram\", \"user_id\": \"user_ig_29\", \"post_id\": \"post_5579\", \"event_time\": \"2025-05-16 13:38:29\", \"likes\": 4933, \"comments\": 492, \"shares\": 67} |\n",
      "+--------------------------------------------------------------------------------------------------------------------------------------------------------------+\n",
      "\n",
      "-------------------------------------------\n",
      "Batch: 21\n",
      "-------------------------------------------\n",
      "+-------------------------------------------------------------------------------------------------------------------------------------------------------------+\n",
      "|value_str                                                                                                                                                    |\n",
      "+-------------------------------------------------------------------------------------------------------------------------------------------------------------+\n",
      "|{\"platform\": \"Facebook\", \"user_id\": \"user_fb_109\", \"post_id\": \"post_8834\", \"event_time\": \"2025-05-16 13:38:30\", \"likes\": 1725, \"comments\": 538, \"shares\": 17}|\n",
      "|{\"platform\": \"Facebook\", \"user_id\": \"user_fb_270\", \"post_id\": \"post_4362\", \"event_time\": \"2025-05-16 13:38:31\", \"likes\": 671, \"comments\": 357, \"shares\": 117}|\n",
      "+-------------------------------------------------------------------------------------------------------------------------------------------------------------+\n",
      "\n"
     ]
    },
    {
     "name": "stderr",
     "output_type": "stream",
     "text": [
      "                                                                                \r"
     ]
    },
    {
     "name": "stdout",
     "output_type": "stream",
     "text": [
      "-------------------------------------------\n",
      "Batch: 22\n",
      "-------------------------------------------\n",
      "+----------------------------------------------------------------------------------------------------------------------------------------------------------------+\n",
      "|value_str                                                                                                                                                       |\n",
      "+----------------------------------------------------------------------------------------------------------------------------------------------------------------+\n",
      "|{\"platform\": \"Facebook\", \"user_id\": \"user_fb_475\", \"post_id\": \"post_2936\", \"event_time\": \"2025-05-16 13:38:33\", \"likes\": 1935, \"comments\": 255, \"shares\": 131}  |\n",
      "|{\"platform\": \"Twitter\", \"user_id\": \"user_tw_402\", \"tweet_id\": \"tweet_66243\", \"event_time\": \"2025-05-16 13:38:35\", \"likes\": 757, \"retweets\": 403, \"replies\": 229}|\n",
      "|{\"platform\": \"Instagram\", \"user_id\": \"user_ig_262\", \"post_id\": \"post_3962\", \"event_time\": \"2025-05-16 13:38:33\", \"likes\": 3250, \"comments\": 47, \"shares\": 74}   |\n",
      "+----------------------------------------------------------------------------------------------------------------------------------------------------------------+\n",
      "\n"
     ]
    },
    {
     "name": "stderr",
     "output_type": "stream",
     "text": [
      "                                                                                \r"
     ]
    },
    {
     "name": "stdout",
     "output_type": "stream",
     "text": [
      "-------------------------------------------\n",
      "Batch: 23\n",
      "-------------------------------------------\n",
      "+----------------------------------------------------------------------------------------------------------------------------------------------------------------+\n",
      "|value_str                                                                                                                                                       |\n",
      "+----------------------------------------------------------------------------------------------------------------------------------------------------------------+\n",
      "|{\"platform\": \"Facebook\", \"user_id\": \"user_fb_235\", \"post_id\": \"post_7781\", \"event_time\": \"2025-05-16 13:38:38\", \"likes\": 1208, \"comments\": 71, \"shares\": 88}    |\n",
      "|{\"platform\": \"Twitter\", \"user_id\": \"user_tw_487\", \"tweet_id\": \"tweet_37814\", \"event_time\": \"2025-05-16 13:38:36\", \"likes\": 489, \"retweets\": 500, \"replies\": 287}|\n",
      "|{\"platform\": \"Instagram\", \"user_id\": \"user_ig_394\", \"post_id\": \"post_8658\", \"event_time\": \"2025-05-16 13:38:37\", \"likes\": 87, \"comments\": 402, \"shares\": 33}    |\n",
      "+----------------------------------------------------------------------------------------------------------------------------------------------------------------+\n",
      "\n"
     ]
    },
    {
     "name": "stderr",
     "output_type": "stream",
     "text": [
      "                                                                                \r"
     ]
    },
    {
     "name": "stdout",
     "output_type": "stream",
     "text": [
      "-------------------------------------------\n",
      "Batch: 24\n",
      "-------------------------------------------\n",
      "+-------------------------------------------------------------------------------------------------------------------------------------------------------------+\n",
      "|value_str                                                                                                                                                    |\n",
      "+-------------------------------------------------------------------------------------------------------------------------------------------------------------+\n",
      "|{\"platform\": \"Facebook\", \"user_id\": \"user_fb_131\", \"post_id\": \"post_6387\", \"event_time\": \"2025-05-16 13:38:39\", \"likes\": 994, \"comments\": 293, \"shares\": 105}|\n",
      "|{\"platform\": \"Facebook\", \"user_id\": \"user_fb_36\", \"post_id\": \"post_8179\", \"event_time\": \"2025-05-16 13:38:40\", \"likes\": 2243, \"comments\": 334, \"shares\": 44} |\n",
      "|{\"platform\": \"TikTok\", \"user_id\": \"user_tt_457\", \"video_id\": \"vid_91702\", \"event_time\": \"2025-05-16 13:38:41\", \"likes\": 5670, \"shares\": 138, \"comments\": 569}|\n",
      "+-------------------------------------------------------------------------------------------------------------------------------------------------------------+\n",
      "\n"
     ]
    },
    {
     "name": "stderr",
     "output_type": "stream",
     "text": [
      "                                                                                \r"
     ]
    },
    {
     "name": "stdout",
     "output_type": "stream",
     "text": [
      "-------------------------------------------\n",
      "Batch: 25\n",
      "-------------------------------------------\n",
      "+--------------------------------------------------------------------------------------------------------------------------------------------------------------+\n",
      "|value_str                                                                                                                                                     |\n",
      "+--------------------------------------------------------------------------------------------------------------------------------------------------------------+\n",
      "|{\"platform\": \"Instagram\", \"user_id\": \"user_ig_251\", \"post_id\": \"post_1652\", \"event_time\": \"2025-05-16 13:38:42\", \"likes\": 3138, \"comments\": 473, \"shares\": 65}|\n",
      "|{\"platform\": \"Instagram\", \"user_id\": \"user_ig_181\", \"post_id\": \"post_3378\", \"event_time\": \"2025-05-16 13:38:43\", \"likes\": 2371, \"comments\": 489, \"shares\": 21}|\n",
      "|{\"platform\": \"Instagram\", \"user_id\": \"user_ig_230\", \"post_id\": \"post_6457\", \"event_time\": \"2025-05-16 13:38:44\", \"likes\": 4119, \"comments\": 80, \"shares\": 15} |\n",
      "+--------------------------------------------------------------------------------------------------------------------------------------------------------------+\n",
      "\n"
     ]
    },
    {
     "name": "stderr",
     "output_type": "stream",
     "text": [
      "                                                                                \r"
     ]
    },
    {
     "name": "stdout",
     "output_type": "stream",
     "text": [
      "-------------------------------------------\n",
      "Batch: 26\n",
      "-------------------------------------------\n",
      "+-------------------------------------------------------------------------------------------------------------------------------------------------------------+\n",
      "|value_str                                                                                                                                                    |\n",
      "+-------------------------------------------------------------------------------------------------------------------------------------------------------------+\n",
      "|{\"platform\": \"TikTok\", \"user_id\": \"user_tt_318\", \"video_id\": \"vid_26063\", \"event_time\": \"2025-05-16 13:38:46\", \"likes\": 5988, \"shares\": 179, \"comments\": 592}|\n",
      "|{\"platform\": \"TikTok\", \"user_id\": \"user_tt_443\", \"video_id\": \"vid_41454\", \"event_time\": \"2025-05-16 13:38:47\", \"likes\": 6386, \"shares\": 22, \"comments\": 67}  |\n",
      "+-------------------------------------------------------------------------------------------------------------------------------------------------------------+\n",
      "\n"
     ]
    },
    {
     "name": "stderr",
     "output_type": "stream",
     "text": [
      "                                                                                \r"
     ]
    },
    {
     "name": "stdout",
     "output_type": "stream",
     "text": [
      "-------------------------------------------\n",
      "Batch: 27\n",
      "-------------------------------------------\n",
      "+------------------------------------------------------------------------------------------------------------------------------------------------------------+\n",
      "|value_str                                                                                                                                                   |\n",
      "+------------------------------------------------------------------------------------------------------------------------------------------------------------+\n",
      "|{\"platform\": \"Facebook\", \"user_id\": \"user_fb_33\", \"post_id\": \"post_5618\", \"event_time\": \"2025-05-16 13:38:50\", \"likes\": 2046, \"comments\": 677, \"shares\": 16}|\n",
      "|{\"platform\": \"TikTok\", \"user_id\": \"user_tt_435\", \"video_id\": \"vid_58325\", \"event_time\": \"2025-05-16 13:38:48\", \"likes\": 3825, \"shares\": 44, \"comments\": 191}|\n",
      "|{\"platform\": \"TikTok\", \"user_id\": \"user_tt_56\", \"video_id\": \"vid_41480\", \"event_time\": \"2025-05-16 13:38:48\", \"likes\": 3283, \"shares\": 243, \"comments\": 290}|\n",
      "+------------------------------------------------------------------------------------------------------------------------------------------------------------+\n",
      "\n"
     ]
    },
    {
     "name": "stderr",
     "output_type": "stream",
     "text": [
      "                                                                                \r"
     ]
    },
    {
     "name": "stdout",
     "output_type": "stream",
     "text": [
      "-------------------------------------------\n",
      "Batch: 28\n",
      "-------------------------------------------\n",
      "+--------------------------------------------------------------------------------------------------------------------------------------------------------------+\n",
      "|value_str                                                                                                                                                     |\n",
      "+--------------------------------------------------------------------------------------------------------------------------------------------------------------+\n",
      "|{\"platform\": \"Facebook\", \"user_id\": \"user_fb_499\", \"post_id\": \"post_9913\", \"event_time\": \"2025-05-16 13:38:52\", \"likes\": 1784, \"comments\": 291, \"shares\": 125}|\n",
      "|{\"platform\": \"Instagram\", \"user_id\": \"user_ig_59\", \"post_id\": \"post_3813\", \"event_time\": \"2025-05-16 13:38:53\", \"likes\": 756, \"comments\": 293, \"shares\": 28}  |\n",
      "+--------------------------------------------------------------------------------------------------------------------------------------------------------------+\n",
      "\n"
     ]
    },
    {
     "name": "stderr",
     "output_type": "stream",
     "text": [
      "                                                                                \r"
     ]
    },
    {
     "name": "stdout",
     "output_type": "stream",
     "text": [
      "-------------------------------------------\n",
      "Batch: 29\n",
      "-------------------------------------------\n",
      "+-----------------------------------------------------------------------------------------------------------------------------------------------------------------+\n",
      "|value_str                                                                                                                                                        |\n",
      "+-----------------------------------------------------------------------------------------------------------------------------------------------------------------+\n",
      "|{\"platform\": \"Twitter\", \"user_id\": \"user_tw_293\", \"tweet_id\": \"tweet_11868\", \"event_time\": \"2025-05-16 13:38:56\", \"likes\": 1363, \"retweets\": 274, \"replies\": 100}|\n",
      "|{\"platform\": \"Instagram\", \"user_id\": \"user_ig_452\", \"post_id\": \"post_6687\", \"event_time\": \"2025-05-16 13:38:54\", \"likes\": 4484, \"comments\": 95, \"shares\": 89}    |\n",
      "|{\"platform\": \"Instagram\", \"user_id\": \"user_ig_468\", \"post_id\": \"post_2445\", \"event_time\": \"2025-05-16 13:38:56\", \"likes\": 2251, \"comments\": 371, \"shares\": 80}   |\n",
      "+-----------------------------------------------------------------------------------------------------------------------------------------------------------------+\n",
      "\n"
     ]
    },
    {
     "name": "stderr",
     "output_type": "stream",
     "text": [
      "                                                                                \r"
     ]
    },
    {
     "name": "stdout",
     "output_type": "stream",
     "text": [
      "-------------------------------------------\n",
      "Batch: 30\n",
      "-------------------------------------------\n",
      "+--------------------------------------------------------------------------------------------------------------------------------------------------------------+\n",
      "|value_str                                                                                                                                                     |\n",
      "+--------------------------------------------------------------------------------------------------------------------------------------------------------------+\n",
      "|{\"platform\": \"Facebook\", \"user_id\": \"user_fb_441\", \"post_id\": \"post_8436\", \"event_time\": \"2025-05-16 13:38:58\", \"likes\": 1049, \"comments\": 289, \"shares\": 147}|\n",
      "|{\"platform\": \"TikTok\", \"user_id\": \"user_tt_411\", \"video_id\": \"vid_14529\", \"event_time\": \"2025-05-16 13:38:59\", \"likes\": 661, \"shares\": 134, \"comments\": 208}  |\n",
      "+--------------------------------------------------------------------------------------------------------------------------------------------------------------+\n",
      "\n",
      "-------------------------------------------\n",
      "Batch: 31\n",
      "-------------------------------------------\n",
      "+----------------------------------------------------------------------------------------------------------------------------------------------------------------+\n",
      "|value_str                                                                                                                                                       |\n",
      "+----------------------------------------------------------------------------------------------------------------------------------------------------------------+\n",
      "|{\"platform\": \"Twitter\", \"user_id\": \"user_tw_439\", \"tweet_id\": \"tweet_63748\", \"event_time\": \"2025-05-16 13:39:02\", \"likes\": 738, \"retweets\": 156, \"replies\": 207}|\n",
      "|{\"platform\": \"TikTok\", \"user_id\": \"user_tt_495\", \"video_id\": \"vid_87386\", \"event_time\": \"2025-05-16 13:39:00\", \"likes\": 6162, \"shares\": 75, \"comments\": 30}     |\n",
      "+----------------------------------------------------------------------------------------------------------------------------------------------------------------+\n",
      "\n"
     ]
    },
    {
     "name": "stderr",
     "output_type": "stream",
     "text": [
      "                                                                                \r"
     ]
    },
    {
     "name": "stdout",
     "output_type": "stream",
     "text": [
      "-------------------------------------------\n",
      "Batch: 32\n",
      "-------------------------------------------\n",
      "+----------------------------------------------------------------------------------------------------------------------------------------------------------------+\n",
      "|value_str                                                                                                                                                       |\n",
      "+----------------------------------------------------------------------------------------------------------------------------------------------------------------+\n",
      "|{\"platform\": \"Twitter\", \"user_id\": \"user_tw_450\", \"tweet_id\": \"tweet_61492\", \"event_time\": \"2025-05-16 13:39:03\", \"likes\": 906, \"retweets\": 295, \"replies\": 257}|\n",
      "|{\"platform\": \"Twitter\", \"user_id\": \"user_tw_218\", \"tweet_id\": \"tweet_92094\", \"event_time\": \"2025-05-16 13:39:05\", \"likes\": 1732, \"retweets\": 188, \"replies\": 72}|\n",
      "|{\"platform\": \"Instagram\", \"user_id\": \"user_ig_441\", \"post_id\": \"post_8771\", \"event_time\": \"2025-05-16 13:39:04\", \"likes\": 842, \"comments\": 334, \"shares\": 46}   |\n",
      "+----------------------------------------------------------------------------------------------------------------------------------------------------------------+\n",
      "\n",
      "-------------------------------------------\n",
      "Batch: 33\n",
      "-------------------------------------------\n",
      "+--------------------------------------------------------------------------------------------------------------------------------------------------------------+\n",
      "|value_str                                                                                                                                                     |\n",
      "+--------------------------------------------------------------------------------------------------------------------------------------------------------------+\n",
      "|{\"platform\": \"Instagram\", \"user_id\": \"user_ig_430\", \"post_id\": \"post_4552\", \"event_time\": \"2025-05-16 13:39:07\", \"likes\": 2257, \"comments\": 488, \"shares\": 35}|\n",
      "+--------------------------------------------------------------------------------------------------------------------------------------------------------------+\n",
      "\n"
     ]
    },
    {
     "name": "stderr",
     "output_type": "stream",
     "text": [
      "                                                                                \r"
     ]
    },
    {
     "name": "stdout",
     "output_type": "stream",
     "text": [
      "-------------------------------------------\n",
      "Batch: 34\n",
      "-------------------------------------------\n",
      "+---------------------------------------------------------------------------------------------------------------------------------------------------------------+\n",
      "|value_str                                                                                                                                                      |\n",
      "+---------------------------------------------------------------------------------------------------------------------------------------------------------------+\n",
      "|{\"platform\": \"Facebook\", \"user_id\": \"user_fb_467\", \"post_id\": \"post_6321\", \"event_time\": \"2025-05-16 13:39:09\", \"likes\": 3723, \"comments\": 646, \"shares\": 46}  |\n",
      "|{\"platform\": \"Twitter\", \"user_id\": \"user_tw_483\", \"tweet_id\": \"tweet_85582\", \"event_time\": \"2025-05-16 13:39:11\", \"likes\": 66, \"retweets\": 360, \"replies\": 292}|\n",
      "|{\"platform\": \"TikTok\", \"user_id\": \"user_tt_474\", \"video_id\": \"vid_28369\", \"event_time\": \"2025-05-16 13:39:10\", \"likes\": 5810, \"shares\": 276, \"comments\": 394}  |\n",
      "+---------------------------------------------------------------------------------------------------------------------------------------------------------------+\n",
      "\n"
     ]
    },
    {
     "name": "stderr",
     "output_type": "stream",
     "text": [
      "                                                                                \r"
     ]
    },
    {
     "name": "stdout",
     "output_type": "stream",
     "text": [
      "-------------------------------------------\n",
      "Batch: 35\n",
      "-------------------------------------------\n",
      "+-----------------------------------------------------------------------------------------------------------------------------------------------------------------+\n",
      "|value_str                                                                                                                                                        |\n",
      "+-----------------------------------------------------------------------------------------------------------------------------------------------------------------+\n",
      "|{\"platform\": \"Facebook\", \"user_id\": \"user_fb_445\", \"post_id\": \"post_3198\", \"event_time\": \"2025-05-16 13:39:12\", \"likes\": 2958, \"comments\": 33, \"shares\": 108}    |\n",
      "|{\"platform\": \"Twitter\", \"user_id\": \"user_tw_127\", \"tweet_id\": \"tweet_95785\", \"event_time\": \"2025-05-16 13:39:14\", \"likes\": 1646, \"retweets\": 244, \"replies\": 217}|\n",
      "|{\"platform\": \"TikTok\", \"user_id\": \"user_tt_489\", \"video_id\": \"vid_11461\", \"event_time\": \"2025-05-16 13:39:13\", \"likes\": 454, \"shares\": 65, \"comments\": 363}      |\n",
      "+-----------------------------------------------------------------------------------------------------------------------------------------------------------------+\n",
      "\n"
     ]
    },
    {
     "name": "stderr",
     "output_type": "stream",
     "text": [
      "                                                                                \r"
     ]
    },
    {
     "name": "stdout",
     "output_type": "stream",
     "text": [
      "-------------------------------------------\n",
      "Batch: 36\n",
      "-------------------------------------------\n",
      "+--------------------------------------------------------------------------------------------------------------------------------------------------------------+\n",
      "|value_str                                                                                                                                                     |\n",
      "+--------------------------------------------------------------------------------------------------------------------------------------------------------------+\n",
      "|{\"platform\": \"Facebook\", \"user_id\": \"user_fb_481\", \"post_id\": \"post_3675\", \"event_time\": \"2025-05-16 13:39:15\", \"likes\": 2334, \"comments\": 518, \"shares\": 140}|\n",
      "|{\"platform\": \"Instagram\", \"user_id\": \"user_ig_279\", \"post_id\": \"post_7995\", \"event_time\": \"2025-05-16 13:39:16\", \"likes\": 1784, \"comments\": 376, \"shares\": 73}|\n",
      "|{\"platform\": \"Instagram\", \"user_id\": \"user_ig_240\", \"post_id\": \"post_6108\", \"event_time\": \"2025-05-16 13:39:16\", \"likes\": 597, \"comments\": 267, \"shares\": 39} |\n",
      "+--------------------------------------------------------------------------------------------------------------------------------------------------------------+\n",
      "\n"
     ]
    },
    {
     "name": "stderr",
     "output_type": "stream",
     "text": [
      "                                                                                \r"
     ]
    },
    {
     "name": "stdout",
     "output_type": "stream",
     "text": [
      "-------------------------------------------\n",
      "Batch: 37\n",
      "-------------------------------------------\n",
      "+------------------------------------------------------------------------------------------------------------------------------------------------------------+\n",
      "|value_str                                                                                                                                                   |\n",
      "+------------------------------------------------------------------------------------------------------------------------------------------------------------+\n",
      "|{\"platform\": \"TikTok\", \"user_id\": \"user_tt_152\", \"video_id\": \"vid_37669\", \"event_time\": \"2025-05-16 13:39:18\", \"likes\": 487, \"shares\": 260, \"comments\": 577}|\n",
      "+------------------------------------------------------------------------------------------------------------------------------------------------------------+\n",
      "\n"
     ]
    },
    {
     "name": "stderr",
     "output_type": "stream",
     "text": [
      "25/05/16 13:42:28 WARN StandaloneAppClient$ClientEndpoint: Connection to f04d2745dc57:7077 failed; waiting for master to reconnect...\n",
      "25/05/16 13:42:28 WARN StandaloneSchedulerBackend: Disconnected from Spark cluster! Waiting for reconnection...\n",
      "25/05/16 13:42:28 WARN StandaloneAppClient$ClientEndpoint: Connection to f04d2745dc57:7077 failed; waiting for master to reconnect...\n"
     ]
    }
   ],
   "source": [
    "\n",
    "query = clean_df.select(\"value_str\") \\\n",
    "                .writeStream \\\n",
    "                .outputMode(\"append\") \\\n",
    "                .trigger(processingTime='3 seconds') \\\n",
    "                .format(\"console\") \\\n",
    "                .option(\"truncate\", \"false\") \\\n",
    "                .start()\n",
    "\n",
    "query.awaitTermination(300)\n"
   ]
  },
  {
   "cell_type": "code",
   "execution_count": 6,
   "metadata": {},
   "outputs": [],
   "source": [
    "query.stop()\n",
    "sc.stop()"
   ]
  }
 ],
 "metadata": {
  "kernelspec": {
   "display_name": "Python 3 (ipykernel)",
   "language": "python",
   "name": "python3"
  },
  "language_info": {
   "codemirror_mode": {
    "name": "ipython",
    "version": 3
   },
   "file_extension": ".py",
   "mimetype": "text/x-python",
   "name": "python",
   "nbconvert_exporter": "python",
   "pygments_lexer": "ipython3",
   "version": "3.11.6"
  }
 },
 "nbformat": 4,
 "nbformat_minor": 2
}
