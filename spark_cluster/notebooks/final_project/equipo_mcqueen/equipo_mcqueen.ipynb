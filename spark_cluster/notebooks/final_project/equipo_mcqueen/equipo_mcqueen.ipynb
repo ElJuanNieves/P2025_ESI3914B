{
 "cells": [
  {
   "cell_type": "markdown",
   "id": "71972a84",
   "metadata": {},
   "source": [
    "# <center> <img src=\"./img/ITESOLogo.png\" alt=\"ITESO\" width=\"480\" height=\"130\"> </center>\n",
    "# <center> **Departamento de Electrónica, Sistemas e Informática** </center>\n",
    "---\n",
    "## <center> **Proyecto Final: Website Activity** </center>\n",
    "---\n",
    "\n",
    "<center>\n",
    "\n",
    "**Equipo McQueen**: Marco Albanese, Vicente Siloe\n",
    "\n",
    "**Carrera**: Ingeniería en Sistemas Computacionales\n",
    "\n",
    "**Fecha**: 13 de mayo del 2025\n",
    "\n",
    "**Profesor**: Pablo Camarillo Ramirez\n",
    "\n",
    "</center>\n",
    "\n",
    "---\n",
    "### <center> **Primavera 2025** </center>\n",
    "---"
   ]
  },
  {
   "cell_type": "markdown",
   "id": "dfebc990",
   "metadata": {},
   "source": [
    "### **Introducción y definición del problema**"
   ]
  },
  {
   "cell_type": "markdown",
   "id": "76bd1d95",
   "metadata": {},
   "source": [
    "El procesamiento de datos en aplicaciones es esencial hoy en día para una multitud de usos y propósitos que proveen beneficios tanto a usuarios como empresas. En este proyecto, creado al culminar el curso de \"Procesamiento de datos masivos\", se pretende crear una aplicación que integre los conocimientos adquiridos en dicho curso. A través de una *pipeline* de *Big Data*, se busca producir, consumir, analizar y procesar datos de la actividad (tráfico) observada en una aplicación web.\n",
    "\n",
    "Los datos involucrados representan:\n",
    "- Interacciones de usuario\n",
    "- Páginas visitadas\n",
    "- Clicks\n",
    "- Dispositivos utilizados\n",
    "- Etc.\n",
    "\n",
    "Asimismo, se entrena un modelo de aprendizaje automático (*machine learning*) en base a los datos recolectados para predecir comportamientos de usuario, utilizando regresión logística. Los resultados de este modelo se presentan al usuario final a través de un *dashboard* de visualización de datos.\n",
    "\n",
    "Para la realización de este proyecto, se utilizaron tecnologías como **Jupyter Notebooks**, **Python**, **PySpark**, **Apache Kafka** y **PowerBI**. En secciones posteriores, se describe con mayor detalle la arquitectura, implementación y funcionamiento del sistema."
   ]
  },
  {
   "cell_type": "markdown",
   "id": "984bd6e9",
   "metadata": {},
   "source": [
    "### **Arquitectura del sistema**"
   ]
  },
  {
   "cell_type": "markdown",
   "id": "9e48b7c9",
   "metadata": {},
   "source": [
    "La arquitectura del sistema es la siguiente:\n",
    "\n",
    "1. Productores:\n",
    "2. Consumidor:\n",
    "3. Spark\n",
    "4. Modelo de aprendizaje máquina (Machine Learning)\n",
    "5. Visualización de datos:\n",
    "\n",
    "A continuación se presenta un diagrama visual de dicha arquitectura:\n",
    "\n",
    "\n",
    "# <img src=\"./img/system_architecture.png\" alt=\"System Architecture\">"
   ]
  },
  {
   "cell_type": "markdown",
   "id": "1337cf66",
   "metadata": {},
   "source": [
    "### **Justificación de las 5Vs**"
   ]
  },
  {
   "cell_type": "markdown",
   "id": "70182f5a",
   "metadata": {},
   "source": [
    "Placeholder"
   ]
  },
  {
   "cell_type": "markdown",
   "id": "afae6570",
   "metadata": {},
   "source": [
    "### **Detalles de implementación**"
   ]
  },
  {
   "cell_type": "markdown",
   "id": "7f63e84b",
   "metadata": {},
   "source": [
    "Placeholder"
   ]
  },
  {
   "cell_type": "markdown",
   "id": "fc15fb8c",
   "metadata": {},
   "source": [
    "### **Resultados y evaluación**"
   ]
  },
  {
   "cell_type": "markdown",
   "id": "237061f4",
   "metadata": {},
   "source": [
    "Placeholder"
   ]
  },
  {
   "cell_type": "markdown",
   "id": "baea28ca",
   "metadata": {},
   "source": [
    "### **Conclusión**"
   ]
  },
  {
   "cell_type": "markdown",
   "id": "b300474f",
   "metadata": {},
   "source": [
    "Placeholder"
   ]
  },
  {
   "cell_type": "markdown",
   "id": "42b00724",
   "metadata": {},
   "source": [
    "---"
   ]
  },
  {
   "cell_type": "markdown",
   "id": "367fbc33",
   "metadata": {},
   "source": [
    "### **Código**\n",
    "---"
   ]
  },
  {
   "cell_type": "markdown",
   "id": "e65f449c",
   "metadata": {},
   "source": [
    "#### Encontrar instalación de Spark"
   ]
  },
  {
   "cell_type": "code",
   "execution_count": null,
   "id": "290cbc00",
   "metadata": {},
   "outputs": [],
   "source": [
    "import findspark\n",
    "findspark.init()"
   ]
  },
  {
   "cell_type": "markdown",
   "id": "2dc2bfa8",
   "metadata": {},
   "source": [
    "#### Creación de la conexión con el cluster de Spark"
   ]
  },
  {
   "cell_type": "code",
   "execution_count": null,
   "id": "25653e48",
   "metadata": {},
   "outputs": [],
   "source": [
    "from pyspark.sql import SparkSession\n",
    "\n",
    "spark = SparkSession.builder \\\n",
    "    .appName(\"Final-Project-Equipo-McQueen\") \\\n",
    "    .master(\"spark://f8e470126b03:7077\") \\\n",
    "    .config(\"spark.ui.port\",\"4040\") \\\n",
    "    .config(\"spark.jars.packages\", \"org.apache.spark:spark-sql-kafka-0-10_2.13:3.5.4\") \\\n",
    "    .getOrCreate()\n",
    "sc = spark.sparkContext"
   ]
  },
  {
   "cell_type": "markdown",
   "id": "9e3ca3bd",
   "metadata": {},
   "source": []
  },
  {
   "cell_type": "code",
   "execution_count": null,
   "id": "784bb33c",
   "metadata": {},
   "outputs": [],
   "source": []
  }
 ],
 "metadata": {
  "language_info": {
   "name": "python"
  }
 },
 "nbformat": 4,
 "nbformat_minor": 5
}
