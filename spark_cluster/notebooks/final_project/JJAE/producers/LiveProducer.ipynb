{
 "cells": [
  {
   "cell_type": "markdown",
   "id": "94cde498",
   "metadata": {},
   "source": [
    "## Producer A"
   ]
  },
  {
   "cell_type": "code",
   "execution_count": null,
   "id": "f3a77b48",
   "metadata": {},
   "outputs": [],
   "source": [
    "import websocket\n",
    "import json\n",
    "from kafka import KafkaProducer\n",
    "import argparse\n",
    "import logging\n",
    "import time\n",
    "from datetime import datetime\n",
    "\n",
    "def on_message(ws, message):\n",
    "\n",
    "    data = json.loads(message)\n",
    "    logging.info(f\"Received message: {data}\")\n",
    "    if 'data' in data:\n",
    "        quote= {\n",
    "            \"price\": data['data'][-1]['p'],\n",
    "            \"s\": data['data'][-1]['s'],\n",
    "            'event_time': datetime.now().strftime('%Y-%m-%d %H:%M:%S'),\n",
    "            \"v\": data['data'][-1]['v']\n",
    "        }\n",
    "        producer.send(KAFKA_TOPIC, value=quote)\n",
    "        print(quote)\n",
    "        logging.info(f\"Sent: {quote}\")\n",
    "            \n",
    "    time.sleep(5)\n",
    "\n",
    "def on_error(ws, error):\n",
    "    print(error)\n",
    "\n",
    "def on_close(ws):\n",
    "    print(\"### closed ###\")\n",
    "\n",
    "def on_open(ws):\n",
    "    # ws.send('{\"type\":\"subscribe\",\"symbol\":\"AAPL\"}')\n",
    "    # ws.send('{\"type\":\"subscribe\",\"symbol\":\"AMZN\"}')\n",
    "    ws.send('{\"type\":\"subscribe\",\"symbol\":\"BINANCE:BTCUSDT\"}')\n",
    "    # ws.send('{\"type\":\"subscribe\",\"symbol\":\"IC MARKETS:1\"}')\n",
    "\n",
    "if __name__ == \"__main__\":\n",
    "\n",
    "    API_KEY = \"d05r249r01qgqsu91h9gd05r249r01qgqsu91ha0\"\n",
    "\n",
    "    # Define Kafka server and topic\n",
    "    KAFKA_SERVER = '8e35f34f36db:9093'\n",
    "    KAFKA_TOPIC = 'kafka-spark-example'\n",
    "\n",
    "\n",
    "    # Initialize the Kafka producer\n",
    "    producer = KafkaProducer(\n",
    "        bootstrap_servers=KAFKA_SERVER,\n",
    "        value_serializer=lambda v: json.dumps(v).encode('utf-8'),  # serialize data as JSON\n",
    "    )\n",
    "    \n",
    "    websocket.enableTrace(True)\n",
    "    ws = websocket.WebSocketApp(\"wss://ws.finnhub.io?token=d05r249r01qgqsu91h9gd05r249r01qgqsu91ha0\",\n",
    "                              on_message = on_message,\n",
    "                              on_error = on_error,\n",
    "                              on_close = on_close)\n",
    "    ws.on_open = on_open\n",
    "    ws.run_forever()"
   ]
  },
  {
   "cell_type": "code",
   "execution_count": null,
   "id": "b8d776ac",
   "metadata": {},
   "outputs": [],
   "source": []
  }
 ],
 "metadata": {
  "kernelspec": {
   "display_name": "Python 3 (ipykernel)",
   "language": "python",
   "name": "python3"
  },
  "language_info": {
   "codemirror_mode": {
    "name": "ipython",
    "version": 3
   },
   "file_extension": ".py",
   "mimetype": "text/x-python",
   "name": "python",
   "nbconvert_exporter": "python",
   "pygments_lexer": "ipython3",
   "version": "3.11.6"
  }
 },
 "nbformat": 4,
 "nbformat_minor": 5
}
