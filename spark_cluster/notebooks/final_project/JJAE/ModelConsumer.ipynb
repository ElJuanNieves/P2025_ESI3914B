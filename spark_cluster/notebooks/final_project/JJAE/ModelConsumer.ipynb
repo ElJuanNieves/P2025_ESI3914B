{
 "cells": [
  {
   "cell_type": "markdown",
   "metadata": {},
   "source": [
    "# Model Consumer"
   ]
  },
  {
   "cell_type": "code",
   "execution_count": 9,
   "metadata": {},
   "outputs": [],
   "source": [
    "import findspark\n",
    "findspark.init()"
   ]
  },
  {
   "cell_type": "markdown",
   "metadata": {},
   "source": [
    "#### Creacion de la conexión con el cluster de spark\n"
   ]
  },
  {
   "cell_type": "code",
   "execution_count": 10,
   "metadata": {},
   "outputs": [],
   "source": [
    "from pyspark.sql import SparkSession\n",
    "\n",
    "spark = SparkSession.builder \\\n",
    "    .appName(\"SparkSQLStructuredStreaming-Kafka\") \\\n",
    "    .master(\"spark://80d04dce9402:7077\") \\\n",
    "    .config(\"spark.ui.port\",\"4040\") \\\n",
    "    .config(\"spark.jars.packages\", \"org.apache.spark:spark-sql-kafka-0-10_2.13:3.5.4\") \\\n",
    "    .getOrCreate()\n",
    "sc = spark.sparkContext"
   ]
  },
  {
   "cell_type": "markdown",
   "metadata": {},
   "source": [
    "### Creación del Kafka Stream"
   ]
  },
  {
   "cell_type": "code",
   "execution_count": 11,
   "metadata": {},
   "outputs": [],
   "source": [
    "from pyspark.sql.functions import from_json, col, current_timestamp\n",
    "from pyspark.sql.types import StructType, FloatType, StringType\n",
    "from JJAE.spark_utils import SparkUtils\n",
    "\n",
    "# Define schema matching the producer's data\n",
    "schema_base = [\n",
    "    (\"Close\", \"FloatType\"),\n",
    "    (\"High\", \"FloatType\"),\n",
    "    (\"Low\", \"FloatType\"),\n",
    "    (\"Open\", \"FloatType\"),\n",
    "    (\"Volume\", \"FloatType\"),\n",
    "    (\"Date\", \"StringType\"),\n",
    "    (\"Symbol\", \"StringType\"),\n",
    "]\n",
    "\n",
    "schema = SparkUtils.generate_schema(schema_base)\n",
    "\n",
    "# Read from Kafka\n",
    "kafka_lines = spark \\\n",
    "    .readStream \\\n",
    "    .format(\"kafka\") \\\n",
    "    .option(\"kafka.bootstrap.servers\", \"8e35f34f36db:9093\") \\\n",
    "    .option(\"subscribe\", \"kafka-apple,kafka-amazon,kafka-google\") \\\n",
    "    .load()\n",
    "\n"
   ]
  },
  {
   "cell_type": "code",
   "execution_count": 12,
   "metadata": {},
   "outputs": [
    {
     "name": "stdout",
     "output_type": "stream",
     "text": [
      "StructType([StructField('Close', FloatType(), True), StructField('High', FloatType(), True), StructField('Low', FloatType(), True), StructField('Open', FloatType(), True), StructField('Volume', FloatType(), True), StructField('Date', StringType(), True), StructField('Symbol', StringType(), True)])\n"
     ]
    }
   ],
   "source": [
    "print(schema)"
   ]
  },
  {
   "cell_type": "markdown",
   "metadata": {},
   "source": [
    "### Transform binary data into string"
   ]
  },
  {
   "cell_type": "code",
   "execution_count": 13,
   "metadata": {},
   "outputs": [],
   "source": [
    "parsed_df = kafka_lines.selectExpr(\"CAST(value AS STRING) as json_string\", \"topic\") \\\n",
    "    .withColumn(\"data\", from_json(col(\"json_string\"), schema)) \\\n",
    "    .select(\"topic\", \"data.*\")"
   ]
  },
  {
   "cell_type": "markdown",
   "metadata": {},
   "source": [
    "### Stream Visualization"
   ]
  },
  {
   "cell_type": "code",
   "execution_count": null,
   "metadata": {},
   "outputs": [],
   "source": [
    "query = kafka_df.writeStream \\\n",
    "    .format(\"console\") \\\n",
    "    .outputMode(\"append\") \\\n",
    "    .option(\"truncate\", False) \\\n",
    "    .start()\n",
    "\n",
    "query.awaitTermination(20)"
   ]
  },
  {
   "cell_type": "markdown",
   "metadata": {},
   "source": [
    "### Save the data to parquet files"
   ]
  },
  {
   "cell_type": "code",
   "execution_count": 14,
   "metadata": {},
   "outputs": [
    {
     "name": "stderr",
     "output_type": "stream",
     "text": [
      "25/05/13 05:51:32 WARN ResolveWriteToStream: spark.sql.adaptive.enabled is not supported in streaming DataFrames/Datasets and will be disabled.\n",
      "25/05/13 05:51:32 WARN AdminClientConfig: These configurations '[key.deserializer, value.deserializer, enable.auto.commit, max.poll.records, auto.offset.reset]' were supplied but are not used yet.\n",
      "                                                                                \r"
     ]
    },
    {
     "data": {
      "text/plain": [
       "False"
      ]
     },
     "execution_count": 14,
     "metadata": {},
     "output_type": "execute_result"
    },
    {
     "name": "stderr",
     "output_type": "stream",
     "text": [
      "                                                                                \r"
     ]
    }
   ],
   "source": [
    "\n",
    "# Write to Parquet with simulated timestamps\n",
    "query = parsed_df.writeStream \\\n",
    "    .format(\"parquet\") \\\n",
    "    .option(\"path\", \"/home/jovyan/notebooks/data/streamdata/\") \\\n",
    "    .option(\"checkpointLocation\", \"/home/jovyan/notebooks/data/checkpoint\") \\\n",
    "    .outputMode(\"append\") \\\n",
    "    .start()\n",
    "\n",
    "query.awaitTermination(180)"
   ]
  },
  {
   "cell_type": "code",
   "execution_count": 15,
   "metadata": {},
   "outputs": [],
   "source": [
    "query.stop()"
   ]
  },
  {
   "cell_type": "code",
   "execution_count": 15,
   "metadata": {},
   "outputs": [
    {
     "name": "stderr",
     "output_type": "stream",
     "text": [
      "                                                                                \r"
     ]
    },
    {
     "name": "stdout",
     "output_type": "stream",
     "text": [
      "+------------+---------+---------+---------+---------+--------+----------+------+\n",
      "|       topic|    Close|     High|      Low|     Open|  Volume|      Date|Symbol|\n",
      "+------------+---------+---------+---------+---------+--------+----------+------+\n",
      "|kafka-google|69.557945| 69.58332|67.228584|67.259926|4.6768E7|2020-01-06| GOOGL|\n",
      "|kafka-google| 69.42359|69.841095| 69.24694| 69.68982| 3.433E7|2020-01-07| GOOGL|\n",
      "|kafka-google| 70.65172|  71.0941|70.174995|  70.7582|  3.32E7|2020-01-09| GOOGL|\n",
      "|kafka-google|71.189156| 71.78829| 71.04882| 71.65742|2.6076E7|2020-01-14| GOOGL|\n",
      "|kafka-google|   72.163| 72.18987| 71.65742| 71.92862| 2.608E7|2020-01-16| GOOGL|\n",
      "|kafka-google| 73.62401| 73.67526| 72.48097|72.779045|5.2424E7|2020-01-17| GOOGL|\n",
      "|kafka-google|69.917725| 70.25661| 69.30018| 69.40916|3.5314E7|2020-01-08| GOOGL|\n",
      "|kafka-google| 71.10803| 71.40562|70.642265|71.133415|2.6258E7|2020-01-10| GOOGL|\n",
      "|kafka-google|71.658905| 71.73106| 70.92939|71.421036| 3.073E7|2020-01-13| GOOGL|\n",
      "|kafka-google|  71.6176| 71.69623| 71.24239|71.310074| 2.155E7|2020-01-15| GOOGL|\n",
      "|kafka-google| 73.75986| 74.13954| 73.16071| 73.59812| 4.893E7|2020-01-21| GOOGL|\n",
      "|kafka-google| 73.84046| 74.67199| 73.78026| 74.13207|2.8458E7|2020-01-22| GOOGL|\n",
      "|kafka-amazon|   95.144|  95.1845|     93.0|     93.0|8.1236E7|2020-01-06|  AMZN|\n",
      "|kafka-amazon|   95.343|  95.6945|   94.602|   95.225|8.0898E7|2020-01-07|  AMZN|\n",
      "|kafka-amazon|  94.5985|    95.55|   94.322|   94.902| 7.016E7|2020-01-08|  AMZN|\n",
      "|kafka-amazon|  95.0525|   95.891|    94.79|  95.4945|6.3346E7|2020-01-09|  AMZN|\n",
      "|kafka-amazon|   94.565|     94.9|    94.04|  94.5655|5.5616E7|2020-01-13|  AMZN|\n",
      "|kafka-amazon|   93.472|  94.3555|  92.9275|   94.294|6.8818E7|2020-01-14|  AMZN|\n",
      "|kafka-amazon|   93.897|  94.2795|   93.301|  94.1495| 5.319E7|2020-01-16|  AMZN|\n",
      "|kafka-amazon|   93.236|   94.332|  92.8625|  94.2945|7.9946E7|2020-01-17|  AMZN|\n",
      "+------------+---------+---------+---------+---------+--------+----------+------+\n",
      "only showing top 20 rows\n",
      "\n"
     ]
    }
   ],
   "source": [
    "# Path to the directory where Parquet files were written\n",
    "parquet_path = \"/home/jovyan/notebooks/data/streamdata/\"\n",
    "\n",
    "# Read the Parquet files into a DataFrame\n",
    "parquet_df = spark.read.parquet(parquet_path)\n",
    "\n",
    "# Show the first few rows of the DataFrame\n",
    "parquet_df.show()"
   ]
  },
  {
   "cell_type": "code",
   "execution_count": 16,
   "metadata": {},
   "outputs": [],
   "source": [
    "sc.stop()"
   ]
  },
  {
   "cell_type": "code",
   "execution_count": null,
   "metadata": {},
   "outputs": [],
   "source": []
  }
 ],
 "metadata": {
  "kernelspec": {
   "display_name": "Python 3 (ipykernel)",
   "language": "python",
   "name": "python3"
  },
  "language_info": {
   "codemirror_mode": {
    "name": "ipython",
    "version": 3
   },
   "file_extension": ".py",
   "mimetype": "text/x-python",
   "name": "python",
   "nbconvert_exporter": "python",
   "pygments_lexer": "ipython3",
   "version": "3.11.6"
  }
 },
 "nbformat": 4,
 "nbformat_minor": 4
}
