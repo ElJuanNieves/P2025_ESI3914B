{
 "cells": [
  {
   "cell_type": "markdown",
   "id": "b3cc41cf",
   "metadata": {},
   "source": [
    "# Model Training"
   ]
  },
  {
   "cell_type": "code",
   "execution_count": 32,
   "id": "f5570b94",
   "metadata": {},
   "outputs": [],
   "source": [
    "import findspark\n",
    "findspark.init()\n",
    "\n",
    "from pyspark.sql import SparkSession\n",
    "\n",
    "spark = SparkSession.builder \\\n",
    "    .appName(\"SparkSQLStructuredStreaming-Kafka\") \\\n",
    "    .master(\"spark://80d04dce9402:7077\") \\\n",
    "    .config(\"spark.ui.port\",\"4040\") \\\n",
    "    .config(\"spark.jars.packages\", \"org.apache.spark:spark-sql-kafka-0-10_2.13:3.5.4\") \\\n",
    "    .getOrCreate()\n",
    "sc = spark.sparkContext"
   ]
  },
  {
   "cell_type": "markdown",
   "id": "670a8d62",
   "metadata": {},
   "source": [
    "## Retrieve data from stream"
   ]
  },
  {
   "cell_type": "code",
   "execution_count": 33,
   "id": "c5e017a4",
   "metadata": {},
   "outputs": [
    {
     "name": "stderr",
     "output_type": "stream",
     "text": [
      "                                                                                \r"
     ]
    }
   ],
   "source": [
    "# Path to the directory where Parquet files were written\n",
    "parquet_path = \"/home/jovyan/notebooks/data/streamdata/\"\n",
    "\n",
    "# Read the Parquet files into a DataFrame\n",
    "parquet_df = spark.read.parquet(parquet_path)"
   ]
  },
  {
   "cell_type": "code",
   "execution_count": 34,
   "id": "bda96f1f",
   "metadata": {},
   "outputs": [],
   "source": [
    "from pyspark.sql.window import Window\n",
    "from pyspark.sql.functions import col, lag, when\n",
    "\n",
    "# Create a window spec to get previous day's close\n",
    "window_spec = Window.partitionBy(\"Symbol\").orderBy(\"Date\")\n",
    "\n",
    "# Add previous day's close price\n",
    "parquet_df = parquet_df.withColumn(\"prev_close\", lag(\"Close\").over(window_spec))\n",
    "\n",
    "# Create binary label: 1 if price increased, else 0\n",
    "classified_df = parquet_df.withColumn(\n",
    "    \"label\", when(col(\"Close\") > col(\"prev_close\"), 1).otherwise(0)\n",
    ").dropna()\n",
    "\n",
    "# Filtrar para solo registros con símbolo AAPL\n",
    "classified_df = classified_df.filter(col(\"Symbol\") == \"AAPL\")"
   ]
  },
  {
   "cell_type": "markdown",
   "id": "fc46dba2",
   "metadata": {},
   "source": [
    "## Training for Apple"
   ]
  },
  {
   "cell_type": "code",
   "execution_count": 35,
   "id": "5e02735a",
   "metadata": {},
   "outputs": [
    {
     "name": "stderr",
     "output_type": "stream",
     "text": [
      "                                                                                \r"
     ]
    }
   ],
   "source": [
    "from pyspark.ml.feature import VectorAssembler\n",
    "from pyspark.ml.classification import RandomForestClassifier\n",
    "\n",
    "feature_cols = [\"Open\", \"High\", \"Low\", \"Volume\"]\n",
    "assembler = VectorAssembler(inputCols=feature_cols, outputCol=\"features\")\n",
    "data = assembler.transform(classified_df).select(\"features\", \"label\")\n",
    "\n",
    "# Train/test split\n",
    "train, test = data.randomSplit([0.8, 0.2], seed=42)\n",
    "\n",
    "# Train classifier\n",
    "classifier = RandomForestClassifier(featuresCol=\"features\", labelCol=\"label\")\n",
    "model = classifier.fit(train)\n",
    "\n",
    "# Predictions\n",
    "predictions = model.transform(test)\n",
    "predictions.write.mode(\"overwrite\").parquet(\"/home/jovyan/notebooks/data/predictions/\")\n",
    "\n"
   ]
  },
  {
   "cell_type": "markdown",
   "id": "88367018",
   "metadata": {},
   "source": [
    "## Model Evalutation"
   ]
  },
  {
   "cell_type": "code",
   "execution_count": 36,
   "id": "ff4304de",
   "metadata": {},
   "outputs": [
    {
     "name": "stderr",
     "output_type": "stream",
     "text": [
      "[Stage 50:>                                                         (0 + 1) / 1]\r"
     ]
    },
    {
     "name": "stdout",
     "output_type": "stream",
     "text": [
      "Accuracy: 0.5238095238095238\n",
      "F1 Score: 0.5238095238095238\n",
      "Precision: 0.5333987141767462\n",
      "Recall: 0.5238095238095238\n"
     ]
    },
    {
     "name": "stderr",
     "output_type": "stream",
     "text": [
      "                                                                                \r"
     ]
    }
   ],
   "source": [
    "from pyspark.ml.evaluation import MulticlassClassificationEvaluator\n",
    "\n",
    "evaluator_accuracy = MulticlassClassificationEvaluator(metricName=\"accuracy\")\n",
    "evaluator_f1 = MulticlassClassificationEvaluator(metricName=\"f1\")\n",
    "evaluator_precision = MulticlassClassificationEvaluator(metricName=\"weightedPrecision\")\n",
    "evaluator_recall = MulticlassClassificationEvaluator(metricName=\"weightedRecall\")\n",
    "\n",
    "accuracy = evaluator_accuracy.evaluate(predictions)\n",
    "f1 = evaluator_f1.evaluate(predictions)\n",
    "precision = evaluator_precision.evaluate(predictions)\n",
    "recall = evaluator_recall.evaluate(predictions)\n",
    "\n",
    "print(f\"Accuracy: {accuracy}\")\n",
    "print(f\"F1 Score: {f1}\")\n",
    "print(f\"Precision: {precision}\")\n",
    "print(f\"Recall: {recall}\")\n"
   ]
  },
  {
   "cell_type": "code",
   "execution_count": 37,
   "id": "415693f6",
   "metadata": {},
   "outputs": [
    {
     "name": "stdout",
     "output_type": "stream",
     "text": [
      "Metrics saved to /home/jovyan/notebooks/data/evaluation_metrics.csv\n"
     ]
    }
   ],
   "source": [
    "import csv\n",
    "import os\n",
    "\n",
    "# Define the output CSV file path\n",
    "metrics_file = \"/home/jovyan/notebooks/data/evaluation_metrics.csv\"\n",
    "\n",
    "# Ensure the folder exists\n",
    "os.makedirs(os.path.dirname(metrics_file), exist_ok=True)\n",
    "\n",
    "# Define the metrics to write\n",
    "metrics = {\n",
    "    \"Accuracy\": accuracy,\n",
    "    \"F1 Score\": f1,\n",
    "    \"Precision\": precision,\n",
    "    \"Recall\": recall\n",
    "}\n",
    "\n",
    "# Write to CSV, overwriting every time\n",
    "with open(metrics_file, mode='w', newline='') as file:\n",
    "    writer = csv.writer(file)\n",
    "    writer.writerow([\"Metric\", \"Value\"])\n",
    "    for metric, value in metrics.items():\n",
    "        writer.writerow([metric, value])\n",
    "\n",
    "print(f\"Metrics saved to {metrics_file}\")\n"
   ]
  },
  {
   "cell_type": "code",
   "execution_count": 38,
   "id": "284082b8-346a-44a8-9afe-8a794576849a",
   "metadata": {},
   "outputs": [],
   "source": [
    "sc.stop()"
   ]
  },
  {
   "cell_type": "code",
   "execution_count": null,
   "id": "2af3b404-b730-4a80-9f7d-dd598e6a439f",
   "metadata": {},
   "outputs": [],
   "source": []
  },
  {
   "cell_type": "markdown",
   "id": "2d63e389",
   "metadata": {},
   "source": []
  }
 ],
 "metadata": {
  "kernelspec": {
   "display_name": "Python 3 (ipykernel)",
   "language": "python",
   "name": "python3"
  },
  "language_info": {
   "codemirror_mode": {
    "name": "ipython",
    "version": 3
   },
   "file_extension": ".py",
   "mimetype": "text/x-python",
   "name": "python",
   "nbconvert_exporter": "python",
   "pygments_lexer": "ipython3",
   "version": "3.11.6"
  }
 },
 "nbformat": 4,
 "nbformat_minor": 5
}
