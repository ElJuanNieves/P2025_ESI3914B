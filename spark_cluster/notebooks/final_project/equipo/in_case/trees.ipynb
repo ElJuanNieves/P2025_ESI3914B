{
 "cells": [
  {
   "cell_type": "markdown",
   "metadata": {},
   "source": [
    "# <center> <img src=\"../labs/img/ITESOLogo.png\" alt=\"ITESO\" width=\"480\" height=\"130\"> </center>\n",
    "# <center> **Departamento de Electrónica, Sistemas e Informática** </center>\n",
    "---\n",
    "## <center> **Procesamiento de Datos Masivos** </center>\n",
    "---\n",
    "### <center> **Primavera 2025** </center>\n",
    "---\n",
    "### <center> **Lab 11** </center>\n",
    "\n",
    "---\n",
    "**Profesor**: Dr. Pablo Camarillo Ramirez\n",
    "\n",
    "**Integrantes**:\n",
    "- Lorena Ruelas Gaytán\n",
    "- Yael Alejandro Rodríguez Barreto\n",
    "- Ximena Isaac Horta\n",
    "- Alberto Renteria Camacho"
   ]
  },
  {
   "cell_type": "code",
   "execution_count": 75,
   "metadata": {},
   "outputs": [],
   "source": [
    "import findspark\n",
    "findspark.init()"
   ]
  },
  {
   "cell_type": "markdown",
   "metadata": {},
   "source": [
    "#### Spark Conexion\n"
   ]
  },
  {
   "cell_type": "code",
   "execution_count": 76,
   "metadata": {},
   "outputs": [],
   "source": [
    "from pyspark.sql import SparkSession\n",
    "\n",
    "spark = SparkSession.builder \\\n",
    "    .appName(\"MLSpark-Decision-Trees\") \\\n",
    "    .master(\"spark://2dc725a6f972:7077\") \\\n",
    "    .config(\"spark.ui.port\",\"4040\") \\\n",
    "    .getOrCreate()\n",
    "sc = spark.sparkContext\n",
    "spark.conf.set(\"spark.sql.shuffle.partitions\", \"5\")"
   ]
  },
  {
   "cell_type": "markdown",
   "metadata": {},
   "source": [
    "#### Data preparation"
   ]
  },
  {
   "cell_type": "code",
   "execution_count": 77,
   "metadata": {},
   "outputs": [
    {
     "name": "stderr",
     "output_type": "stream",
     "text": [
      "[Stage 0:>                                                          (0 + 1) / 1]\r"
     ]
    },
    {
     "name": "stdout",
     "output_type": "stream",
     "text": [
      "+-------------+------------+-------------+------------+-----------+\n",
      "|SepalLengthCm|SepalWidthCm|PetalLengthCm|PetalWidthCm|    Species|\n",
      "+-------------+------------+-------------+------------+-----------+\n",
      "|          5.1|         3.5|          1.4|         0.2|Iris-setosa|\n",
      "|          4.9|         3.0|          1.4|         0.2|Iris-setosa|\n",
      "|          4.7|         3.2|          1.3|         0.2|Iris-setosa|\n",
      "|          4.6|         3.1|          1.5|         0.2|Iris-setosa|\n",
      "|          5.0|         3.6|          1.4|         0.2|Iris-setosa|\n",
      "|          5.4|         3.9|          1.7|         0.4|Iris-setosa|\n",
      "|          4.6|         3.4|          1.4|         0.3|Iris-setosa|\n",
      "|          5.0|         3.4|          1.5|         0.2|Iris-setosa|\n",
      "|          4.4|         2.9|          1.4|         0.2|Iris-setosa|\n",
      "|          4.9|         3.1|          1.5|         0.1|Iris-setosa|\n",
      "+-------------+------------+-------------+------------+-----------+\n",
      "only showing top 10 rows\n",
      "\n"
     ]
    },
    {
     "name": "stderr",
     "output_type": "stream",
     "text": [
      "                                                                                \r"
     ]
    }
   ],
   "source": [
    "from team_name.spark_utils import SparkUtils\n",
    "\n",
    "csv_path = \"/home/jovyan/notebooks/data/IrisData/Iris.csv\"\n",
    "\n",
    "# Define schema for the DataFrame\n",
    "schema = SparkUtils.generate_schema([\n",
    "    (\"Id\", \"integer\"),\n",
    "    (\"SepalLengthCm\", \"float\"),\n",
    "    (\"SepalWidthCm\",\"float\"),\n",
    "    (\"PetalLengthCm\",\"float\"),\n",
    "    (\"PetalWidthCm\",\"float\"),\n",
    "    (\"Species\",\"string\")\n",
    "])\n",
    "\n",
    "\n",
    "# Convert list to a DataFrame\n",
    "df = spark.read \\\n",
    "        .schema(schema) \\\n",
    "        .option(\"header\", \"true\") \\\n",
    "        .csv(csv_path)\n",
    "\n",
    "df = df.dropna(how=\"any\").drop(\"Id\")\n",
    "df.show(10)"
   ]
  },
  {
   "cell_type": "markdown",
   "metadata": {},
   "source": [
    "#### String indexer of Species"
   ]
  },
  {
   "cell_type": "code",
   "execution_count": 78,
   "metadata": {},
   "outputs": [
    {
     "name": "stderr",
     "output_type": "stream",
     "text": [
      "                                                                                \r"
     ]
    },
    {
     "name": "stdout",
     "output_type": "stream",
     "text": [
      "+-------------+------------+-------------+------------+-----+\n",
      "|SepalLengthCm|SepalWidthCm|PetalLengthCm|PetalWidthCm|label|\n",
      "+-------------+------------+-------------+------------+-----+\n",
      "|          5.1|         3.5|          1.4|         0.2|  0.0|\n",
      "|          4.9|         3.0|          1.4|         0.2|  0.0|\n",
      "|          4.7|         3.2|          1.3|         0.2|  0.0|\n",
      "|          4.6|         3.1|          1.5|         0.2|  0.0|\n",
      "|          5.0|         3.6|          1.4|         0.2|  0.0|\n",
      "|          5.4|         3.9|          1.7|         0.4|  0.0|\n",
      "|          4.6|         3.4|          1.4|         0.3|  0.0|\n",
      "|          5.0|         3.4|          1.5|         0.2|  0.0|\n",
      "|          4.4|         2.9|          1.4|         0.2|  0.0|\n",
      "|          4.9|         3.1|          1.5|         0.1|  0.0|\n",
      "+-------------+------------+-------------+------------+-----+\n",
      "only showing top 10 rows\n",
      "\n"
     ]
    }
   ],
   "source": [
    "from pyspark.ml.feature import StringIndexer\n",
    "\n",
    "label_indexer = StringIndexer(inputCol=\"Species\", outputCol=\"label\")\n",
    "df = label_indexer.fit(df).transform(df).drop(\"Species\")\n",
    "df.show(10)"
   ]
  },
  {
   "cell_type": "markdown",
   "metadata": {},
   "source": [
    "### Assemble the features into a single vector column"
   ]
  },
  {
   "cell_type": "code",
   "execution_count": 79,
   "metadata": {},
   "outputs": [],
   "source": [
    "from pyspark.ml.feature import VectorAssembler\n",
    "\n",
    "assembler = VectorAssembler(inputCols=[\"SepalLengthCm\", \"SepalWidthCm\", \"PetalLengthCm\", \"PetalWidthCm\"], outputCol=\"features\")\n",
    "data_with_features = assembler.transform(df).select(\"label\", \"features\")"
   ]
  },
  {
   "cell_type": "markdown",
   "metadata": {},
   "source": [
    "### Split the data into training and test sets 80% training data and 20% testing data"
   ]
  },
  {
   "cell_type": "code",
   "execution_count": 80,
   "metadata": {},
   "outputs": [],
   "source": [
    "train_df, test_df = data_with_features.randomSplit([0.8, 0.2], seed=57)"
   ]
  },
  {
   "cell_type": "markdown",
   "metadata": {},
   "source": [
    "### Show the whole dataset"
   ]
  },
  {
   "cell_type": "code",
   "execution_count": 81,
   "metadata": {},
   "outputs": [
    {
     "name": "stdout",
     "output_type": "stream",
     "text": [
      "Original Dataset\n",
      "+-----+--------------------+\n",
      "|label|            features|\n",
      "+-----+--------------------+\n",
      "|  0.0|[5.09999990463256...|\n",
      "|  0.0|[4.90000009536743...|\n",
      "|  0.0|[4.69999980926513...|\n",
      "|  0.0|[4.59999990463256...|\n",
      "|  0.0|[5.0,3.5999999046...|\n",
      "|  0.0|[5.40000009536743...|\n",
      "+-----+--------------------+\n",
      "only showing top 6 rows\n",
      "\n",
      "train set\n",
      "+-----+--------------------+\n",
      "|label|            features|\n",
      "+-----+--------------------+\n",
      "|  0.0|[4.30000019073486...|\n",
      "|  0.0|[4.40000009536743...|\n",
      "|  0.0|[4.40000009536743...|\n",
      "|  0.0|[4.40000009536743...|\n",
      "|  0.0|[4.5,2.2999999523...|\n",
      "|  0.0|[4.59999990463256...|\n",
      "+-----+--------------------+\n",
      "only showing top 6 rows\n",
      "\n"
     ]
    }
   ],
   "source": [
    "print(\"Original Dataset\")\n",
    "data_with_features.show(6)\n",
    "\n",
    "# Print train dataset\n",
    "print(\"train set\")\n",
    "train_df.show(6)"
   ]
  },
  {
   "cell_type": "markdown",
   "metadata": {},
   "source": [
    "---\n",
    "# Decision Tree Model\n",
    "\n",
    "#### Create a Decision Tree model and OnevsAll"
   ]
  },
  {
   "cell_type": "code",
   "execution_count": 82,
   "metadata": {},
   "outputs": [],
   "source": [
    "from pyspark.ml.classification import DecisionTreeClassifier\n",
    "from pyspark.ml.classification import OneVsRest\n",
    "\n",
    "# Initialize and train the Decision Tree model\n",
    "dt = DecisionTreeClassifier(labelCol=\"label\", featuresCol=\"features\")\n",
    "ovr_tree = OneVsRest(classifier=dt)\n"
   ]
  },
  {
   "cell_type": "markdown",
   "metadata": {},
   "source": [
    "### Trainning"
   ]
  },
  {
   "cell_type": "code",
   "execution_count": 83,
   "metadata": {},
   "outputs": [
    {
     "name": "stderr",
     "output_type": "stream",
     "text": [
      "                                                                                \r"
     ]
    }
   ],
   "source": [
    "# Training, jeje\n",
    "dt_model = ovr_tree.fit(train_df)"
   ]
  },
  {
   "cell_type": "markdown",
   "metadata": {},
   "source": [
    "#### Predictions"
   ]
  },
  {
   "cell_type": "code",
   "execution_count": 84,
   "metadata": {},
   "outputs": [
    {
     "name": "stderr",
     "output_type": "stream",
     "text": [
      "[Stage 54:>                                                         (0 + 1) / 1]\r"
     ]
    },
    {
     "name": "stdout",
     "output_type": "stream",
     "text": [
      "+--------------------+----------+\n",
      "|            features|prediction|\n",
      "+--------------------+----------+\n",
      "|[5.0,3.4000000953...|       0.0|\n",
      "|[5.0,3.5,1.299999...|       0.0|\n",
      "|[5.09999990463256...|       0.0|\n",
      "|[5.19999980926513...|       0.0|\n",
      "|[5.40000009536743...|       0.0|\n",
      "|[5.69999980926513...|       1.0|\n",
      "|[5.80000019073486...|       1.0|\n",
      "|[5.80000019073486...|       1.0|\n",
      "|[6.09999990463256...|       1.0|\n",
      "|[6.09999990463256...|       1.0|\n",
      "|[6.19999980926513...|       1.0|\n",
      "|[6.30000019073486...|       1.0|\n",
      "|[6.69999980926513...|       1.0|\n",
      "|[4.90000009536743...|       1.0|\n",
      "|[6.0,3.0,4.800000...|       2.0|\n",
      "|[6.09999990463256...|       2.0|\n",
      "|[6.19999980926513...|       2.0|\n",
      "|[6.30000019073486...|       2.0|\n",
      "|[6.30000019073486...|       2.0|\n",
      "|[6.40000009536743...|       2.0|\n",
      "+--------------------+----------+\n",
      "only showing top 20 rows\n",
      "\n"
     ]
    },
    {
     "name": "stderr",
     "output_type": "stream",
     "text": [
      "                                                                                \r"
     ]
    }
   ],
   "source": [
    "# Use the trained model to make predictions on the test data\n",
    "predictions_dt = dt_model.transform(test_df)\n",
    "\n",
    "# Show predictions\n",
    "predictions_dt.select(\"features\", \"prediction\").show()"
   ]
  },
  {
   "cell_type": "markdown",
   "metadata": {},
   "source": [
    "---\n",
    "# Support Vector Machines \n",
    "\n",
    "#### Create Support Vector Machines and OnevsAll"
   ]
  },
  {
   "cell_type": "code",
   "execution_count": 85,
   "metadata": {},
   "outputs": [],
   "source": [
    "from pyspark.ml.classification import LinearSVC\n",
    "\n",
    "# Initialize and train the Decision SVM\n",
    "lsvc = LinearSVC(maxIter=10, regParam=0.01)\n",
    "ovr_vector = OneVsRest(classifier=lsvc)"
   ]
  },
  {
   "cell_type": "markdown",
   "metadata": {},
   "source": [
    "#### Training"
   ]
  },
  {
   "cell_type": "code",
   "execution_count": 86,
   "metadata": {},
   "outputs": [],
   "source": [
    "svm_model = ovr_vector.fit(data_with_features)  "
   ]
  },
  {
   "cell_type": "markdown",
   "metadata": {},
   "source": [
    "#### Predictions"
   ]
  },
  {
   "cell_type": "code",
   "execution_count": 87,
   "metadata": {},
   "outputs": [
    {
     "name": "stderr",
     "output_type": "stream",
     "text": [
      "[Stage 137:>                                                        (0 + 1) / 1]\r"
     ]
    },
    {
     "name": "stdout",
     "output_type": "stream",
     "text": [
      "+--------------------+----------+\n",
      "|            features|prediction|\n",
      "+--------------------+----------+\n",
      "|[5.0,3.4000000953...|       0.0|\n",
      "|[5.0,3.5,1.299999...|       0.0|\n",
      "|[5.09999990463256...|       0.0|\n",
      "|[5.19999980926513...|       0.0|\n",
      "|[5.40000009536743...|       0.0|\n",
      "|[5.69999980926513...|       1.0|\n",
      "|[5.80000019073486...|       1.0|\n",
      "|[5.80000019073486...|       1.0|\n",
      "|[6.09999990463256...|       1.0|\n",
      "|[6.09999990463256...|       1.0|\n",
      "|[6.19999980926513...|       1.0|\n",
      "|[6.30000019073486...|       1.0|\n",
      "|[6.69999980926513...|       1.0|\n",
      "|[4.90000009536743...|       1.0|\n",
      "|[6.0,3.0,4.800000...|       2.0|\n",
      "|[6.09999990463256...|       2.0|\n",
      "|[6.19999980926513...|       2.0|\n",
      "|[6.30000019073486...|       2.0|\n",
      "|[6.30000019073486...|       2.0|\n",
      "|[6.40000009536743...|       2.0|\n",
      "+--------------------+----------+\n",
      "only showing top 20 rows\n",
      "\n"
     ]
    },
    {
     "name": "stderr",
     "output_type": "stream",
     "text": [
      "                                                                                \r"
     ]
    }
   ],
   "source": [
    "predictions_svm = svm_model.transform(test_df)\n",
    "predictions_dt.select(\"features\", \"prediction\").show(20)"
   ]
  },
  {
   "cell_type": "markdown",
   "metadata": {},
   "source": [
    "---\n",
    "# Models Testing"
   ]
  },
  {
   "cell_type": "code",
   "execution_count": 88,
   "metadata": {},
   "outputs": [
    {
     "name": "stdout",
     "output_type": "stream",
     "text": [
      "\n",
      " *** TREE ***\n"
     ]
    },
    {
     "name": "stderr",
     "output_type": "stream",
     "text": [
      "                                                                                \r"
     ]
    },
    {
     "name": "stdout",
     "output_type": "stream",
     "text": [
      "Accuracy: 0.9545454545454546\n",
      "Precision: 0.9595959595959596\n",
      "Recall: 0.9545454545454546\n",
      "F1 Score: 0.9545454545454545\n",
      "\n",
      " *** VECTOR ***\n",
      "Accuracy: 0.8636363636363636\n",
      "Precision: 0.8662337662337662\n",
      "Recall: 0.8636363636363636\n",
      "F1 Score: 0.8626794258373206\n"
     ]
    }
   ],
   "source": [
    "from pyspark.ml.evaluation import MulticlassClassificationEvaluator\n",
    "\n",
    "evaluator = MulticlassClassificationEvaluator(labelCol=\"label\", predictionCol=\"prediction\")\n",
    "\n",
    "### Tree\n",
    "print(\"\\n *** TREE ***\")\n",
    "accuracy = evaluator.evaluate(predictions_dt, {evaluator.metricName: \"accuracy\"})\n",
    "print(f\"Accuracy: {accuracy}\")\n",
    "precision = evaluator.evaluate(predictions_dt, {evaluator.metricName: \"weightedPrecision\"})\n",
    "print(f\"Precision: {precision}\")\n",
    "recall = evaluator.evaluate(predictions_dt, {evaluator.metricName: \"weightedRecall\"})\n",
    "print(f\"Recall: {recall}\")\n",
    "f1 = evaluator.evaluate(predictions_dt, {evaluator.metricName: \"f1\"})\n",
    "print(f\"F1 Score: {f1}\")  \n",
    "\n",
    "### Vector\n",
    "print(\"\\n *** VECTOR ***\")\n",
    "accuracy = evaluator.evaluate(predictions_svm, {evaluator.metricName: \"accuracy\"})\n",
    "print(f\"Accuracy: {accuracy}\")\n",
    "precision = evaluator.evaluate(predictions_svm, {evaluator.metricName: \"weightedPrecision\"})\n",
    "print(f\"Precision: {precision}\")\n",
    "recall = evaluator.evaluate(predictions_svm, {evaluator.metricName: \"weightedRecall\"})\n",
    "print(f\"Recall: {recall}\")\n",
    "f1 = evaluator.evaluate(predictions_svm, {evaluator.metricName: \"f1\"})\n",
    "print(f\"F1 Score: {f1}\") "
   ]
  },
  {
   "cell_type": "code",
   "execution_count": null,
   "metadata": {},
   "outputs": [],
   "source": [
    "sc.stop()"
   ]
  }
 ],
 "metadata": {
  "kernelspec": {
   "display_name": "Python 3 (ipykernel)",
   "language": "python",
   "name": "python3"
  },
  "language_info": {
   "codemirror_mode": {
    "name": "ipython",
    "version": 3
   },
   "file_extension": ".py",
   "mimetype": "text/x-python",
   "name": "python",
   "nbconvert_exporter": "python",
   "pygments_lexer": "ipython3",
   "version": "3.11.6"
  }
 },
 "nbformat": 4,
 "nbformat_minor": 2
}
