{
 "cells": [
  {
   "cell_type": "markdown",
   "metadata": {},
   "source": [
    "# <center> <img src=\"../../labs/img/ITESOLogo.png\" alt=\"ITESO\" width=\"480\" height=\"130\"> </center>\n",
    "# <center> **Departamento de Electrónica, Sistemas e Informática** </center>\n",
    "---\n",
    "## <center> **Procesamiento de Datos Masivos** </center>\n",
    "---\n",
    "### <center> **Primavera 2025** </center>\n",
    "---\n",
    "### <center> **K means model** </center>\n",
    "\n",
    "---\n",
    "**Profesor**: Dr. Pablo Camarillo Ramirez\n",
    "\n",
    "**Integrantes**:\n",
    "- Lorena Ruelas Gaytán\n",
    "- Yael Alejandro Rodríguez Barreto\n",
    "- Ximena Isaac Horta\n",
    "- Alberto Renteria Camacho"
   ]
  },
  {
   "cell_type": "code",
   "execution_count": 21,
   "metadata": {},
   "outputs": [],
   "source": [
    "import findspark\n",
    "findspark.init()"
   ]
  },
  {
   "cell_type": "code",
   "execution_count": 22,
   "metadata": {},
   "outputs": [],
   "source": [
    "SPARK_ID = \"3c4c7def4de3\""
   ]
  },
  {
   "cell_type": "markdown",
   "metadata": {},
   "source": [
    "#### Spark Conexion"
   ]
  },
  {
   "cell_type": "code",
   "execution_count": 23,
   "metadata": {},
   "outputs": [],
   "source": [
    "from pyspark.sql import SparkSession\n",
    "\n",
    "spark = SparkSession.builder \\\n",
    "    .appName(\"MLSpark-K-means\") \\\n",
    "    .master(f\"spark://{SPARK_ID}:7077\") \\\n",
    "    .config(\"spark.ui.port\",\"4040\") \\\n",
    "    .getOrCreate()\n",
    "sc = spark.sparkContext\n",
    "spark.conf.set(\"spark.sql.shuffle.partitions\", \"5\")"
   ]
  },
  {
   "cell_type": "markdown",
   "metadata": {},
   "source": [
    "#### Extraction of data"
   ]
  },
  {
   "cell_type": "code",
   "execution_count": 24,
   "metadata": {},
   "outputs": [
    {
     "name": "stderr",
     "output_type": "stream",
     "text": [
      "                                                                                \r"
     ]
    },
    {
     "name": "stdout",
     "output_type": "stream",
     "text": [
      "Rows: 3020 Cols: 11\n",
      "+--------------------+-------+--------------------+--------------------+--------------------+--------------------+-------------+--------------+-----------+-----------+-----+\n",
      "|            tweet_id|user_id|           timestamp|                text|            hashtags|            mentions|retweet_count|favorite_count|reply_count|quote_count|views|\n",
      "+--------------------+-------+--------------------+--------------------+--------------------+--------------------+-------------+--------------+-----------+-----------+-----+\n",
      "|e9ff298e-0593-403...|      3|2024-09-18T06:19:...|Id nesciunt elige...|[\"quod\",\"voluptat...|        [\"zhidalgo\"]|          246|           892|         23|         17| 9767|\n",
      "|bd456ef7-2eed-425...|      3|2024-09-20T12:59:...|Praesentium sint ...|                  []|  [\"monteroarcelia\"]|          246|           610|          4|         17|16917|\n",
      "|2e9e17f3-1f8b-496...|      3|2025-01-30T01:07:...|Voluptates incidu...|      [\"neque\",\"in\"]|[\"barriosgeorgina...|          412|           109|         27|         17|17530|\n",
      "|7b9af6b7-770e-460...|      3|2024-05-14T20:30:...|A blanditiis repu...|              [\"ut\"]|[\"maria-josecolla...|          223|             8|          4|         27|17231|\n",
      "|da4de041-4e6e-4c2...|      3|2025-04-13T07:48:...|Itaque iure alias...|[\"quaerat\",\"maior...|[\"ivonne69\",\"mart...|          405|           202|          1|          9|17401|\n",
      "|d3d56b4b-fa7b-4df...|      3|2024-04-29T04:44:...|Commodi quaerat e...|        [\"nesciunt\"]|[\"carolina62\",\"ro...|          157|           210|          9|         28| 3020|\n",
      "|21501cec-faf1-415...|      3|2025-03-04T09:53:...|Suscipit at rem s...|                  []|        [\"eloisa19\"]|          311|            52|          1|          4| 7662|\n",
      "|1df17680-8f66-434...|      3|2024-10-29T09:52:...|Temporibus ipsam ...| [\"provident\",\"nam\"]|          [\"vcolon\"]|          483|            48|          6|         23|18600|\n",
      "|c13808f5-efe8-43b...|      3|2024-01-07T17:43:...|Mollitia voluptat...|[\"veniam\",\"impedit\"]|        [\"kbeltran\"]|          201|           785|         37|         23| 9216|\n",
      "|9858670d-1cfc-40b...|      3|2024-11-20T06:23:...|Beatae aspernatur...|                  []|[\"espartaolmos\",\"...|          285|           984|         26|         15| 3515|\n",
      "+--------------------+-------+--------------------+--------------------+--------------------+--------------------+-------------+--------------+-----------+-----------+-----+\n",
      "only showing top 10 rows\n",
      "\n",
      "root\n",
      " |-- tweet_id: string (nullable = true)\n",
      " |-- user_id: integer (nullable = true)\n",
      " |-- timestamp: string (nullable = true)\n",
      " |-- text: string (nullable = true)\n",
      " |-- hashtags: string (nullable = true)\n",
      " |-- mentions: string (nullable = true)\n",
      " |-- retweet_count: integer (nullable = true)\n",
      " |-- favorite_count: integer (nullable = true)\n",
      " |-- reply_count: integer (nullable = true)\n",
      " |-- quote_count: integer (nullable = true)\n",
      " |-- views: integer (nullable = true)\n",
      "\n"
     ]
    }
   ],
   "source": [
    "data_path = \"/home/jovyan/notebooks/data/parquet/\"\n",
    "\n",
    "tweets_df = spark.read \\\n",
    "    .parquet(data_path)\n",
    "\n",
    "print(\"Rows:\", tweets_df.count(), \"Cols:\", len(tweets_df.columns))\n",
    "tweets_df.show(10)\n",
    "tweets_df.printSchema()"
   ]
  },
  {
   "cell_type": "markdown",
   "metadata": {},
   "source": [
    "### Assemble the features into a single vector column"
   ]
  },
  {
   "cell_type": "code",
   "execution_count": 25,
   "metadata": {},
   "outputs": [],
   "source": [
    "from pyspark.ml.feature import VectorAssembler\n",
    "\n",
    "numeric_cols = [\n",
    "    \"retweet_count\", \"favorite_count\", \"reply_count\", \"quote_count\", \"views\"\n",
    "]\n",
    "\n",
    "assembler = VectorAssembler(inputCols=numeric_cols, outputCol=\"features\")\n",
    "assembled_df = assembler.transform(tweets_df)"
   ]
  },
  {
   "cell_type": "markdown",
   "metadata": {},
   "source": [
    "---\n",
    "# KMeans at the same time"
   ]
  },
  {
   "cell_type": "markdown",
   "metadata": {},
   "source": [
    "#### Initialize KMeans"
   ]
  },
  {
   "cell_type": "code",
   "execution_count": 26,
   "metadata": {},
   "outputs": [],
   "source": [
    "from pyspark.ml.clustering import KMeans\n",
    "\n",
    "k_values = [2, 5, 10, 15, 20]\n",
    "kmeans = [KMeans().setK(k).setSeed(19) for k in k_values]"
   ]
  },
  {
   "cell_type": "markdown",
   "metadata": {},
   "source": [
    "#### Training"
   ]
  },
  {
   "cell_type": "code",
   "execution_count": 27,
   "metadata": {},
   "outputs": [
    {
     "name": "stderr",
     "output_type": "stream",
     "text": [
      "                                                                                \r"
     ]
    }
   ],
   "source": [
    "models = [k.fit(assembled_df) for k in kmeans]"
   ]
  },
  {
   "cell_type": "markdown",
   "metadata": {},
   "source": [
    "#### Save models"
   ]
  },
  {
   "cell_type": "code",
   "execution_count": 29,
   "metadata": {},
   "outputs": [],
   "source": [
    "path_models = \"/home/jovyan/notebooks/data/models/kmeans/\"\n",
    "#path_models = \"/home/jovyan/notebooks/final_project/equipo/models/kmeans/\"\n",
    "\n",
    "for m, k in zip(models, k_values):\n",
    "    m.save(f\"{path_models}modelk{k}\")"
   ]
  },
  {
   "cell_type": "markdown",
   "metadata": {},
   "source": [
    "---\n",
    "# See results of models"
   ]
  },
  {
   "cell_type": "markdown",
   "metadata": {},
   "source": [
    "#### Read models"
   ]
  },
  {
   "cell_type": "code",
   "execution_count": 30,
   "metadata": {},
   "outputs": [
    {
     "name": "stdout",
     "output_type": "stream",
     "text": [
      "Model 2 ready\n",
      "Model 5 ready\n",
      "Model 10 ready\n",
      "Model 15 ready\n",
      "Model 20 ready\n"
     ]
    }
   ],
   "source": [
    "from pyspark.ml.clustering import KMeansModel\n",
    "\n",
    "path_models = \"/home/jovyan/notebooks/data/models/kmeans/\"\n",
    "#path_models = \"/home/jovyan/notebooks/final_project/equipo/models/kmeans/\"\n",
    "\n",
    "models = []\n",
    "for i in k_values:\n",
    "    m = KMeansModel.load(f\"{path_models}modelk{i}\")\n",
    "    models.append(m)\n",
    "    print(\"Model\", i, \"ready\")\n"
   ]
  },
  {
   "cell_type": "markdown",
   "metadata": {},
   "source": [
    "#### Predictions"
   ]
  },
  {
   "cell_type": "code",
   "execution_count": 31,
   "metadata": {},
   "outputs": [],
   "source": [
    "predictions = [model.transform(assembled_df) for model in models]"
   ]
  },
  {
   "cell_type": "markdown",
   "metadata": {},
   "source": [
    "#### Evaluate model"
   ]
  },
  {
   "cell_type": "code",
   "execution_count": 32,
   "metadata": {},
   "outputs": [
    {
     "name": "stdout",
     "output_type": "stream",
     "text": [
      "\n",
      " K values = 2\n"
     ]
    },
    {
     "name": "stderr",
     "output_type": "stream",
     "text": [
      "                                                                                \r"
     ]
    },
    {
     "name": "stdout",
     "output_type": "stream",
     "text": [
      "Silhouette score: 0.7919830010309039\n",
      "\n",
      " K values = 5\n"
     ]
    },
    {
     "name": "stderr",
     "output_type": "stream",
     "text": [
      "                                                                                \r"
     ]
    },
    {
     "name": "stdout",
     "output_type": "stream",
     "text": [
      "Silhouette score: 0.7152105159465849\n",
      "\n",
      " K values = 10\n"
     ]
    },
    {
     "name": "stderr",
     "output_type": "stream",
     "text": [
      "                                                                                \r"
     ]
    },
    {
     "name": "stdout",
     "output_type": "stream",
     "text": [
      "Silhouette score: 0.6551446939244672\n",
      "\n",
      " K values = 15\n"
     ]
    },
    {
     "name": "stderr",
     "output_type": "stream",
     "text": [
      "                                                                                \r"
     ]
    },
    {
     "name": "stdout",
     "output_type": "stream",
     "text": [
      "Silhouette score: 0.6043697501219919\n",
      "\n",
      " K values = 20\n"
     ]
    },
    {
     "name": "stderr",
     "output_type": "stream",
     "text": [
      "[Stage 312:====================================================>  (20 + 1) / 21]\r"
     ]
    },
    {
     "name": "stdout",
     "output_type": "stream",
     "text": [
      "Silhouette score: 0.544809423964091\n"
     ]
    },
    {
     "name": "stderr",
     "output_type": "stream",
     "text": [
      "                                                                                \r"
     ]
    }
   ],
   "source": [
    "from pyspark.ml.evaluation import ClusteringEvaluator\n",
    "\n",
    "for i in range(len(k_values)):\n",
    "    print(f\"\\n K values = {k_values[i]}\")\n",
    "    evaluator = ClusteringEvaluator()\n",
    "    silhouette = evaluator.evaluate(predictions[i])\n",
    "    print(f\"Silhouette score: {silhouette}\")"
   ]
  },
  {
   "cell_type": "code",
   "execution_count": 33,
   "metadata": {},
   "outputs": [
    {
     "name": "stdout",
     "output_type": "stream",
     "text": [
      "\n",
      " K values = 2\n",
      "Cluster Centers: \n",
      "[  251.79237845   497.15703022    51.04007884    25.30354796\n",
      " 15213.80091984]\n",
      "[ 249.49732977  499.96528705   49.90921228   24.0493992  5216.24365821]\n",
      "\n",
      " K values = 5\n",
      "Cluster Centers: \n",
      "[  245.00497512   507.00497512    48.07960199    25.15091211\n",
      " 10070.57545605]\n",
      "[ 257.45719178  502.20376712   51.41267123   23.92294521 2132.06678082]\n",
      "[  253.3460925    488.98405104    51.70494418    25.33492823\n",
      " 18054.68740032]\n",
      "[  256.2917342    499.18314425    51.17017828    24.86871961\n",
      " 14154.55591572]\n",
      "[ 240.92020374  495.79117148   49.98132428   24.06112054 6108.6655348 ]\n",
      "\n",
      " K values = 10\n",
      "Cluster Centers: \n",
      "[ 251.21269841  497.68253968   47.08253968   24.14285714 9028.37142857]\n",
      "[  265.01320132   514.7359736     50.98019802    25.11221122\n",
      " 13345.03630363]\n",
      "[  252.55709343   498.37716263    50.88235294    25.00692042\n",
      " 19095.29065744]\n",
      "[ 252.68070175  499.43859649   51.86315789   24.57894737 1110.9122807 ]\n",
      "[ 235.66433566  476.03496503   49.81468531   23.50699301 5015.6013986 ]\n",
      "[  243.74153846   487.61230769    51.36923077    25.17846154\n",
      " 15314.93538462]\n",
      "[  245.82262997   511.9969419     50.2324159     26.\n",
      " 11169.75229358]\n",
      "[ 243.06578947  513.65789474   50.38815789   24.42763158 6973.93421053]\n",
      "[  255.93333333   479.17333333    51.73333333    25.27\n",
      " 17287.93333333]\n",
      "[ 261.77972028  505.48251748   50.61888112   23.34615385 3062.67482517]\n",
      "\n",
      " K values = 15\n",
      "Cluster Centers: \n",
      "[ 238.56060606  459.97474747   45.87878788   25.06565657 6222.03030303]\n",
      "[  250.99479167   481.81770833    50.8125        25.03125\n",
      " 18235.55729167]\n",
      "[  269.0776699    508.4368932     51.49514563    24.25728155\n",
      " 13040.2038835 ]\n",
      "[271.44021739 519.78804348  50.89130435  24.6576087  766.35326087]\n",
      "[ 245.87562189  511.19900498   52.33830846   23.76119403 7568.72139303]\n",
      "[  240.70792079   494.5990099     49.13861386    26.45544554\n",
      " 15764.97029703]\n",
      "[  266.87244898   473.4744898     51.71938776    24.73469388\n",
      " 17049.37244898]\n",
      "[ 223.795  492.235   51.88    22.75  2085.815]\n",
      "[ 245.94680851  506.           48.68617021   23.61702128 8848.59042553]\n",
      "[  234.07009346   505.47196262    51.92056075    26.61214953\n",
      " 11581.91121495]\n",
      "[  250.30131004   513.41921397    52.61572052    24.97379913\n",
      " 14471.        ]\n",
      "[ 238.63106796  493.74271845   51.05825243   23.52427184 4907.17961165]\n",
      "[ 275.34449761  495.93779904   50.97129187   24.49282297 3465.26315789]\n",
      "[  247.44680851   496.53191489    51.31914894    25.36702128\n",
      " 19410.09574468]\n",
      "[  261.79227053   522.55072464    46.10628019    24.77777778\n",
      " 10164.44927536]\n",
      "\n",
      " K values = 20\n",
      "Cluster Centers: \n",
      "[ 233.67647059  462.07058824   46.96470588   22.72352941 5605.8       ]\n",
      "[  251.16447368   499.92105263    52.85526316    27.32236842\n",
      " 16248.04605263]\n",
      "[  246.7218543    480.97350993    46.54966887    26.37086093\n",
      " 10764.24503311]\n",
      "[  237.03225806   490.19354839    50.59677419    24.77956989\n",
      " 15192.35483871]\n",
      "[266.95555556 534.02962963  51.27407407  24.8        592.77777778]\n",
      "[  266.80898876   484.57303371    50.49438202    23.6741573\n",
      " 17299.28089888]\n",
      "[ 280.31617647  529.28676471   51.67647059   25.48529412 3680.78676471]\n",
      "[  271.13855422   506.87349398    50.70481928    23.98192771\n",
      " 12933.47590361]\n",
      "[ 249.03205128  490.07051282   49.42948718   23.46153846 8646.08333333]\n",
      "[  257.41573034   513.48876404    50.94382022    25.59550562\n",
      " 14104.76966292]\n",
      "[ 228.54198473  483.06870229   52.38931298   25.03053435 4635.58778626]\n",
      "[ 248.45528455  419.75609756   53.78861789   24.7398374  1494.47154472]\n",
      "[ 225.02150538  646.03225806   47.41935484   20.95698925 2238.47311828]\n",
      "[ 255.88888889  540.02469136   44.96296296   24.35802469 9728.86419753]\n",
      "[  246.08108108   492.16756757    51.44324324    25.23783784\n",
      " 19419.23243243]\n",
      "[ 251.06862745  395.41176471   51.49019608   22.53921569 2874.41176471]\n",
      "[  252.04294479   477.64417178    51.34969325    25.43558282\n",
      " 18343.9202454 ]\n",
      "[ 249.56934307  500.13138686   47.83211679   24.7080292  6637.81021898]\n",
      "[ 251.02531646  518.64556962   52.7278481    24.33544304 7625.41772152]\n",
      "[  237.01265823   523.88607595    54.80379747    26.23417722\n",
      " 11796.53164557]\n"
     ]
    }
   ],
   "source": [
    "for i in range(len(k_values)):\n",
    "    print(f\"\\n K values = {k_values[i]}\")\n",
    "    print(\"Cluster Centers: \")\n",
    "    for center in models[i].clusterCenters():\n",
    "        print(center)"
   ]
  },
  {
   "cell_type": "code",
   "execution_count": 34,
   "metadata": {},
   "outputs": [],
   "source": [
    "sc.stop()"
   ]
  }
 ],
 "metadata": {
  "kernelspec": {
   "display_name": "Python 3 (ipykernel)",
   "language": "python",
   "name": "python3"
  },
  "language_info": {
   "codemirror_mode": {
    "name": "ipython",
    "version": 3
   },
   "file_extension": ".py",
   "mimetype": "text/x-python",
   "name": "python",
   "nbconvert_exporter": "python",
   "pygments_lexer": "ipython3",
   "version": "3.11.6"
  }
 },
 "nbformat": 4,
 "nbformat_minor": 2
}
