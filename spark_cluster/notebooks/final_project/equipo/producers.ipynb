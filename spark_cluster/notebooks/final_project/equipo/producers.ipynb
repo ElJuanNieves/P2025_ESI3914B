{
 "cells": [
  {
   "cell_type": "code",
   "execution_count": 6,
   "id": "95921157",
   "metadata": {},
   "outputs": [],
   "source": [
    "from kafka import KafkaProducer\n",
    "import threading\n",
    "import json\n",
    "import random\n",
    "from time import sleep\n",
    "\n",
    "from equipo.random_tweets import generate_random_tweets  \n",
    "\n",
    "KAFKA_SERVER = 'd9000434c2b2:9093'\n",
    "TOPIC_PREFIX = 'tweet-'"
   ]
  },
  {
   "cell_type": "code",
   "execution_count": 7,
   "id": "96166a2d",
   "metadata": {},
   "outputs": [],
   "source": [
    "def worker(user_id: int, topic: str, num_messages: int):\n",
    "\n",
    "    # Initialize the Kafka producer\n",
    "    producer = KafkaProducer(\n",
    "        bootstrap_servers=KAFKA_SERVER,\n",
    "        value_serializer=lambda v: json.dumps(v).encode('utf-8')  # serialize data as JSON\n",
    "    )\n",
    "\n",
    "    print(f\"[Thread-{user_id}] Iniciando, topic={topic}, mensajes={num_messages}\")\n",
    "    \n",
    "    # Produce data to Kafka topic\n",
    "    try:\n",
    "        for tweet in generate_random_tweets(num_messages, user_id):\n",
    "            # Send data to Kafka\n",
    "            producer.send(topic, tweet)\n",
    "            print(f\"[Thread-{user_id}] Sent to {topic}: {tweet['tweet_id']}\")\n",
    "\n",
    "            sleep(3)\n",
    "\n",
    "    except KeyboardInterrupt:\n",
    "        print(f\"[Thread-{user_id}] Interrupted.\")\n",
    "        \n",
    "    finally:\n",
    "        producer.close()\n",
    "        print(f\"[Thread-{user_id}] Producer closed.\")"
   ]
  },
  {
   "cell_type": "code",
   "execution_count": 8,
   "id": "65eed0a9",
   "metadata": {},
   "outputs": [
    {
     "name": "stdout",
     "output_type": "stream",
     "text": [
      "[Thread-1] Iniciando, topic=tweet-1, mensajes=9\n",
      "[Thread-2] Iniciando, topic=tweet-2, mensajes=9\n",
      "[Thread-4] Iniciando, topic=tweet-4, mensajes=9\n",
      "[Thread-3] Iniciando, topic=tweet-3, mensajes=9\n",
      "[Thread-2] Sent to tweet-2: f0408743-3b92-4bf7-8212-8270198a614c\n",
      "[Thread-3] Sent to tweet-3: 30ef3d77-20b7-4534-8f98-cafd07a631f2\n",
      "[Thread-4] Sent to tweet-4: 848b3af3-1062-4e21-afdf-863b228ed3d4\n",
      "[Thread-1] Sent to tweet-1: 315611ef-1b6c-4205-8da9-011d2736060c\n",
      "[Thread-2] Sent to tweet-2: 68006eb6-0a3d-4162-896c-21c516927574\n",
      "[Thread-4] Sent to tweet-4: 75b5c7c6-8498-4176-9107-576fb986feab\n",
      "[Thread-3] Sent to tweet-3: 042d47ab-e9b9-4ba9-93fb-f4aa44d2a526\n",
      "[Thread-1] Sent to tweet-1: cb514a24-ede0-48ee-ab9f-f8c722629f39\n",
      "[Thread-2] Sent to tweet-2: 57195393-5166-4004-8c78-df5a6bf86a5d\n",
      "[Thread-4] Sent to tweet-4: d554fb57-7147-4364-8c26-ebf10724f4e4\n",
      "[Thread-3] Sent to tweet-3: ac267587-8ca0-42fd-b9fd-b063f7eb71da\n",
      "[Thread-1] Sent to tweet-1: 2acc9f35-b295-4c52-9819-3e7fb7b025a5\n",
      "[Thread-2] Sent to tweet-2: 510df929-66c9-424f-b875-9a292d7689da\n",
      "[Thread-4] Sent to tweet-4: 6de70b41-bfc9-4cff-a50d-6f495bdc009d\n",
      "[Thread-3] Sent to tweet-3: 433ce099-0cb0-4f14-90a4-bc212b785bb2\n",
      "[Thread-1] Sent to tweet-1: 2170e1e2-9294-4ebf-ad36-887e79e24534\n",
      "[Thread-2] Sent to tweet-2: d8d5ceed-a34a-4353-84f2-6dd7f41214bc\n",
      "[Thread-4] Sent to tweet-4: 92d1ab5f-e59d-4dfd-9759-d50e33f4b4e1\n",
      "[Thread-1] Sent to tweet-1: 8e67deff-47a1-4748-bad0-e4bcb59d6b5a\n",
      "[Thread-3] Sent to tweet-3: 68fdad3a-1742-4ebf-94d3-b7ad751c3537\n",
      "[Thread-2] Sent to tweet-2: b3be5445-e0ca-449d-ab22-575a01a3b13a\n",
      "[Thread-4] Sent to tweet-4: 4972ce6b-327a-4fba-944a-a51066345837\n",
      "[Thread-1] Sent to tweet-1: 33552beb-b379-4494-a16a-e04b32572f63\n",
      "[Thread-3] Sent to tweet-3: cc569b85-792b-444f-add1-bb408b830b01\n",
      "[Thread-2] Sent to tweet-2: 26130576-fffc-4216-9138-0be326aeb237\n",
      "[Thread-4] Sent to tweet-4: 05b209c8-001f-48da-bc0d-116992d73e99\n",
      "[Thread-1] Sent to tweet-1: 2377bb65-600a-457f-8c99-b802e980293c\n",
      "[Thread-3] Sent to tweet-3: f087e32d-9562-4372-b72f-94d3b6af83cf\n",
      "[Thread-2] Sent to tweet-2: 3b51aef0-afa5-4335-af1b-2499962608af\n",
      "[Thread-4] Sent to tweet-4: 96e8447d-f027-401e-bf4b-a80b11d7125e\n",
      "[Thread-1] Sent to tweet-1: 93eb340b-595c-428f-a34f-faf1373a877f\n",
      "[Thread-3] Sent to tweet-3: 9c2f2e89-abf2-4046-8126-36b37308e5c0\n",
      "[Thread-2] Sent to tweet-2: dc41957c-3fb8-4df9-8c89-638a8fce96d2\n",
      "[Thread-4] Sent to tweet-4: f54c8423-9550-4b3d-a148-71cac1045961\n",
      "[Thread-1] Sent to tweet-1: 6ff004dd-e045-4bd9-a1a6-7c0d4090f8eb\n",
      "[Thread-3] Sent to tweet-3: 2095e1ec-7fcf-4e9a-8f21-cdb66a4d7bb7\n",
      "[Thread-2] Producer closed.\n",
      "[Thread-4] Producer closed.\n",
      "[Thread-1] Producer closed.\n",
      "[Thread-3] Producer closed.\n",
      "Finished.\n"
     ]
    }
   ],
   "source": [
    "if __name__ == \"__main__\":\n",
    "    NUM_MESSAGES = random.randint(8, 12) #500, 501\n",
    "    threads = []\n",
    "\n",
    "    for user_id in range(1, 5):\n",
    "        topic = f\"{TOPIC_PREFIX}{user_id}\"\n",
    "        t = threading.Thread(\n",
    "            target=worker,\n",
    "            args=(user_id, topic, NUM_MESSAGES),\n",
    "            name=f\"Thread-{user_id}\"\n",
    "        )\n",
    "        threads.append(t)\n",
    "        t.start()\n",
    "\n",
    "    # Espera a que todos los hilos terminen\n",
    "    for t in threads:\n",
    "        t.join()\n",
    "\n",
    "    print(\"Finished.\")\n"
   ]
  }
 ],
 "metadata": {
  "kernelspec": {
   "display_name": "Python 3 (ipykernel)",
   "language": "python",
   "name": "python3"
  },
  "language_info": {
   "codemirror_mode": {
    "name": "ipython",
    "version": 3
   },
   "file_extension": ".py",
   "mimetype": "text/x-python",
   "name": "python",
   "nbconvert_exporter": "python",
   "pygments_lexer": "ipython3",
   "version": "3.11.6"
  }
 },
 "nbformat": 4,
 "nbformat_minor": 5
}
