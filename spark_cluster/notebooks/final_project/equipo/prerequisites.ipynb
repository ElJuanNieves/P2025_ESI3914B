{
 "cells": [
  {
   "cell_type": "markdown",
   "id": "4acff99b",
   "metadata": {},
   "source": [
    "# Prerequisites for Running the Project\n",
    "\n",
    "Before running this project, make sure you meet the following prerequisites:"
   ]
  },
  {
   "cell_type": "markdown",
   "id": "473ccbe4",
   "metadata": {},
   "source": [
    "## 1. Install Faker in the Jupyter Notebook\n",
    "\n",
    "The project requires the [`Faker`](https://faker.readthedocs.io/) library to generate simulated data. To install it directly from a Jupyter notebook, run the following cell:"
   ]
  },
  {
   "cell_type": "code",
   "execution_count": 1,
   "id": "ef821c59",
   "metadata": {},
   "outputs": [],
   "source": [
    "!pip install Faker"
   ]
  },
  {
   "cell_type": "markdown",
   "id": "9358fee8",
   "metadata": {},
   "source": [
    "## 2. Install Kakfa-python in the Jupyther Notebook\n",
    "\n",
    "To enable communication with Kafka, install the kafka-python library. You can do this directly from a Jupyter notebook by running:"
   ]
  },
  {
   "cell_type": "code",
   "execution_count": 2,
   "id": "1db064cc",
   "metadata": {},
   "outputs": [],
   "source": [
    "!pip install kafka-python"
   ]
  },
  {
   "cell_type": "markdown",
   "id": "5cdaa284",
   "metadata": {},
   "source": [
    "## 3. Install Numpy in the Jupyther Notebook\n",
    "\n",
    "To run the ML model training you need to have Numpy installed"
   ]
  },
  {
   "cell_type": "code",
   "execution_count": 3,
   "id": "070e8c8a",
   "metadata": {},
   "outputs": [],
   "source": [
    "!pip install numpy"
   ]
  }
 ],
 "metadata": {
  "kernelspec": {
   "display_name": "Python 3 (ipykernel)",
   "language": "python",
   "name": "python3"
  }
 },
 "nbformat": 4,
 "nbformat_minor": 5
}
