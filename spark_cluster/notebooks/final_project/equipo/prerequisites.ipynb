{
 "cells": [
  {
   "cell_type": "markdown",
   "id": "4acff99b",
   "metadata": {},
   "source": [
    "# Prerequisites for Running the Project\n",
    "\n",
    "Before running this project, make sure you meet the following prerequisites:"
   ]
  },
  {
   "cell_type": "markdown",
   "id": "473ccbe4",
   "metadata": {},
   "source": [
    "## 1. Install Faker in the Jupyter Notebook\n",
    "\n",
    "The project requires the [`Faker`](https://faker.readthedocs.io/) library to generate simulated data. To install it directly from a Jupyter notebook, run the following cell:"
   ]
  },
  {
   "cell_type": "code",
   "execution_count": null,
   "id": "ef821c59",
   "metadata": {},
   "outputs": [],
   "source": [
    "!pip install Faker"
   ]
  },
  {
   "cell_type": "markdown",
   "id": "9358fee8",
   "metadata": {},
   "source": [
    "## 2. Install Kakfa-python in the Jupyther Notebook\n",
    "\n",
    "To enable communication with Kafka, install the kafka-python library. You can do this directly from a Jupyter notebook by running:"
   ]
  },
  {
   "cell_type": "code",
   "execution_count": null,
   "id": "1db064cc",
   "metadata": {},
   "outputs": [],
   "source": [
    "!pip install kafka-python"
   ]
  },
  {
   "cell_type": "markdown",
   "id": "8ba9fe5c",
   "metadata": {},
   "source": [
    "## 3. Create Kafka Topics\n",
    "\n",
    "You need to have 4 topics created in your Kafka instance. You can create them using the following command from your terminal, replacing `<id>` with the ID or name of your Kafka container:\n",
    "\n",
    "```bash\n",
    "docker exec -it <id> /opt/kafka/bin/kafka-topics.sh --create --zookeeper zookeeper:2181 --replication-factor 1 --partitions 1 --topic tweet-1\n",
    "```\n",
    "\n",
    "```bash\n",
    "docker exec -it <id> /opt/kafka/bin/kafka-topics.sh --create --zookeeper zookeeper:2181 --replication-factor 1 --partitions 1 --topic tweet-2\n",
    "```\n",
    "\n",
    "```bash\n",
    "docker exec -it <id> /opt/kafka/bin/kafka-topics.sh --create --zookeeper zookeeper:2181 --replication-factor 1 --partitions 1 --topic tweet-3\n",
    "```\n",
    "\n",
    "```bash\n",
    "docker exec -it <id> /opt/kafka/bin/kafka-topics.sh --create --zookeeper zookeeper:2181 --replication-factor 1 --partitions 1 --topic tweet-4\n",
    "```"
   ]
  }
 ],
 "metadata": {
  "kernelspec": {
   "display_name": "Python 3 (ipykernel)",
   "language": "python",
   "name": "python3"
  }
 },
 "nbformat": 4,
 "nbformat_minor": 5
}
