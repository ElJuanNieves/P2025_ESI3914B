{
 "cells": [
  {
   "cell_type": "markdown",
   "metadata": {},
   "source": [
    "# <center> <img src=\"../labs/img/ITESOLogo.png\" alt=\"ITESO\" width=\"480\" height=\"130\"> </center>\n",
    "# <center> **Departamento de Electrónica, Sistemas e Informática** </center>\n",
    "---\n",
    "## <center> **Procesamiento de Datos Masivos** </center>\n",
    "---\n",
    "### <center> **Primavera 2025** </center>\n",
    "---\n",
    "### <center> **Lab 06: solution** </center>\n",
    "\n",
    "---\n",
    "**Profesor**: Dr. Pablo Camarillo Ramirez"
   ]
  },
  {
   "cell_type": "code",
   "execution_count": null,
   "metadata": {},
   "outputs": [],
   "source": [
    "import findspark\n",
    "findspark.init()"
   ]
  },
  {
   "cell_type": "markdown",
   "metadata": {},
   "source": [
    "#### Creacion de la conexión con el cluster de spark\n"
   ]
  },
  {
   "cell_type": "code",
   "execution_count": null,
   "metadata": {},
   "outputs": [],
   "source": [
    "from pyspark.sql import SparkSession\n",
    "\n",
    "spark = SparkSession.builder \\\n",
    "    .appName(\"SparkSQL-Lab06-Solution\") \\\n",
    "    .master(\"spark://078b2e28e517:7077\") \\\n",
    "    .config(\"spark.ui.port\",\"4040\") \\\n",
    "    .getOrCreate()\n",
    "sc = spark.sparkContext"
   ]
  },
  {
   "cell_type": "markdown",
   "metadata": {},
   "source": [
    "### Loading Netflix dataset"
   ]
  },
  {
   "cell_type": "code",
   "execution_count": null,
   "metadata": {},
   "outputs": [],
   "source": [
    "from team_name.spark_utils import SparkUtils\n",
    "\n",
    "columns_info = [(\"show_id\", \"string\"),(\"type\", \"string\"),(\"title\", \"string\"),(\"director\", \"string\"),(\"country\", \"string\"),(\"date_added\", \"string\"),(\"release_year\", \"integer\"),(\"rating\", \"string\"), (\"duration\", \"string\"),(\"listed_in\", \"string\")]\n",
    "\n",
    "netflix_schema = SparkUtils.generate_schema(columns_info)\n",
    "\n",
    "netflix_df = spark.read \\\n",
    "                .schema(netflix_schema) \\\n",
    "                .option(\"header\", \"true\") \\\n",
    "                .csv(\"/home/jovyan/notebooks/data/netflix1.csv\")\n",
    "\n",
    "netflix_df.printSchema()\n",
    "\n",
    "netflix_df.show(5, truncate=False)"
   ]
  },
  {
   "cell_type": "code",
   "execution_count": null,
   "metadata": {},
   "outputs": [],
   "source": [
    "from pyspark.sql.functions import count, when, col\n",
    "df_nulls = netflix_df.select([count(when(col(c).isNull(), c)).alias(c) for c in netflix_df.columns])\n",
    "\n",
    "df_nulls.collect()"
   ]
  },
  {
   "cell_type": "markdown",
   "metadata": {},
   "source": [
    "#### Clean data"
   ]
  },
  {
   "cell_type": "code",
   "execution_count": null,
   "metadata": {},
   "outputs": [],
   "source": [
    "clean_dict = {\n",
    "    \"director\": \"Uknown director\",\n",
    "    \"country\": \"Uknown\",\n",
    "    \"date_added\": \"Not provided\",\n",
    "    \"release_year\": 0,\n",
    "    \"rating\": \"Uknown\",\n",
    "    \"duration\": \"Uknown\",\n",
    "    \"listed_in\": \"Not provided\"\n",
    "}\n",
    "netflix_df = SparkUtils.clean_df(netflix_df, clean_dict)\n",
    "\n",
    "df_nulls = netflix_df.select([count(when(col(c).isNull(), c)).alias(c) for c in netflix_df.columns])\n",
    "\n",
    "df_nulls.collect()\n"
   ]
  },
  {
   "cell_type": "code",
   "execution_count": null,
   "metadata": {},
   "outputs": [],
   "source": [
    "write_opts_dict = {\n",
    "    \"mode\": \"overwrite\",\n",
    "    \"parition_cols\": [\"release_year\"],\n",
    "    \"format\": \"csv\",\n",
    "    \"path\": \"/home/jovyan/notebooks/data/netflix_output\"\n",
    "\n",
    "}\n",
    "\n",
    "SparkUtils.write_df(netflix_df, write_opts_dict)"
   ]
  },
  {
   "cell_type": "code",
   "execution_count": null,
   "metadata": {},
   "outputs": [],
   "source": [
    "# Stop the SparkContext\n",
    "sc.stop()"
   ]
  }
 ],
 "metadata": {
  "kernelspec": {
   "display_name": "Python 3 (ipykernel)",
   "language": "python",
   "name": "python3"
  },
  "language_info": {
   "codemirror_mode": {
    "name": "ipython",
    "version": 3
   },
   "file_extension": ".py",
   "mimetype": "text/x-python",
   "name": "python",
   "nbconvert_exporter": "python",
   "pygments_lexer": "ipython3",
   "version": "3.11.6"
  }
 },
 "nbformat": 4,
 "nbformat_minor": 2
}
