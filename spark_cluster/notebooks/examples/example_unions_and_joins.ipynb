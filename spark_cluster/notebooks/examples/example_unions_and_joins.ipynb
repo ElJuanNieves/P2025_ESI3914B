{
 "cells": [
  {
   "cell_type": "markdown",
   "metadata": {},
   "source": [
    "# <center> <img src=\"../labs/img/ITESOLogo.png\" alt=\"ITESO\" width=\"480\" height=\"130\"> </center>\n",
    "# <center> **Departamento de Electrónica, Sistemas e Informática** </center>\n",
    "---\n",
    "## <center> **Procesamiento de Datos Masivos** </center>\n",
    "---\n",
    "### <center> **Primavera 2025** </center>\n",
    "---\n",
    "### <center> **Ejemplos de Spark SQL: Uniones con dataframes** </center>\n",
    "\n",
    "---\n",
    "**Profesor**: Dr. Pablo Camarillo Ramirez"
   ]
  },
  {
   "cell_type": "code",
   "execution_count": 1,
   "metadata": {},
   "outputs": [],
   "source": [
    "import findspark\n",
    "findspark.init()"
   ]
  },
  {
   "cell_type": "markdown",
   "metadata": {},
   "source": [
    "#### Creacion de la conexión con el cluster de spark\n"
   ]
  },
  {
   "cell_type": "code",
   "execution_count": 2,
   "metadata": {},
   "outputs": [
    {
     "name": "stderr",
     "output_type": "stream",
     "text": [
      "Setting default log level to \"WARN\".\n",
      "To adjust logging level use sc.setLogLevel(newLevel). For SparkR, use setLogLevel(newLevel).\n",
      "25/02/27 23:05:50 WARN NativeCodeLoader: Unable to load native-hadoop library for your platform... using builtin-java classes where applicable\n"
     ]
    }
   ],
   "source": [
    "from pyspark.sql import SparkSession\n",
    "\n",
    "spark = SparkSession.builder \\\n",
    "    .appName(\"SparkSQL-Unions-and-Joins\") \\\n",
    "    .master(\"spark://078b2e28e517:7077\") \\\n",
    "    .config(\"spark.ui.port\",\"4040\") \\\n",
    "    .getOrCreate()\n",
    "sc = spark.sparkContext"
   ]
  },
  {
   "cell_type": "markdown",
   "metadata": {},
   "source": [
    "### Data frame unions"
   ]
  },
  {
   "cell_type": "code",
   "execution_count": 47,
   "metadata": {},
   "outputs": [
    {
     "name": "stdout",
     "output_type": "stream",
     "text": [
      "+---+-----+\n",
      "| id| name|\n",
      "+---+-----+\n",
      "|  1|Alice|\n",
      "|  2|  Bob|\n",
      "+---+-----+\n",
      "\n",
      "+---+-------+\n",
      "| id|   name|\n",
      "+---+-------+\n",
      "|  3|Charlie|\n",
      "|  4|  David|\n",
      "+---+-------+\n",
      "\n",
      "+---+-------+\n",
      "| id|   name|\n",
      "+---+-------+\n",
      "|  1|  Alice|\n",
      "|  2|    Bob|\n",
      "|  3|Charlie|\n",
      "|  4|  David|\n",
      "+---+-------+\n",
      "\n"
     ]
    }
   ],
   "source": [
    "df_a = spark.createDataFrame([(1, \"Alice\"), (2, \"Bob\")], [\"id\", \"name\"])\n",
    "df_b = spark.createDataFrame([(3, \"Charlie\"), (4, \"David\")], [\"id\", \"name\"])\n",
    "df_a.show()\n",
    "df_b.show()\n",
    "result = df_a.union(df_b)\n",
    "result.show()"
   ]
  },
  {
   "cell_type": "markdown",
   "metadata": {},
   "source": [
    "#### Union without duplicates"
   ]
  },
  {
   "cell_type": "code",
   "execution_count": 48,
   "metadata": {},
   "outputs": [
    {
     "name": "stdout",
     "output_type": "stream",
     "text": [
      "+---+-----+\n",
      "| id| name|\n",
      "+---+-----+\n",
      "|  1|Alice|\n",
      "|  2|  Bob|\n",
      "+---+-----+\n",
      "\n",
      "+---+-----+\n",
      "| id| name|\n",
      "+---+-----+\n",
      "|  1|Alice|\n",
      "|  4|David|\n",
      "+---+-----+\n",
      "\n",
      "+---+-----+\n",
      "| id| name|\n",
      "+---+-----+\n",
      "|  1|Alice|\n",
      "|  4|David|\n",
      "|  2|  Bob|\n",
      "+---+-----+\n",
      "\n"
     ]
    }
   ],
   "source": [
    "df_a = spark.createDataFrame([(1, \"Alice\"), (2, \"Bob\")], [\"id\", \"name\"])\n",
    "df_a.show()\n",
    "df_b = spark.createDataFrame([(1, \"Alice\"), (4, \"David\")], [\"id\", \"name\"])\n",
    "df_b.show()\n",
    "result = df_a.union(df_b).distinct()\n",
    "result.show()"
   ]
  },
  {
   "cell_type": "markdown",
   "metadata": {},
   "source": [
    "##### Union with Mismatched Schemas"
   ]
  },
  {
   "cell_type": "code",
   "execution_count": 49,
   "metadata": {},
   "outputs": [
    {
     "name": "stdout",
     "output_type": "stream",
     "text": [
      "+---+-----+\n",
      "| id| name|\n",
      "+---+-----+\n",
      "|  1|Alice|\n",
      "+---+-----+\n",
      "\n",
      "+----+---+\n",
      "|name| id|\n",
      "+----+---+\n",
      "| Bob|  2|\n",
      "+----+---+\n",
      "\n",
      "+---+-----+\n",
      "| id| name|\n",
      "+---+-----+\n",
      "|  1|Alice|\n",
      "|  2|  Bob|\n",
      "+---+-----+\n",
      "\n"
     ]
    }
   ],
   "source": [
    "df_a = spark.createDataFrame([(1, \"Alice\")], [\"id\", \"name\"])\n",
    "df_a.show()\n",
    "df_b = spark.createDataFrame([(\"Bob\", 2)], [\"name\", \"id\"])\n",
    "df_b.show()\n",
    "result = df_a.unionByName(df_b)\n",
    "result.show()"
   ]
  },
  {
   "cell_type": "markdown",
   "metadata": {},
   "source": [
    "You can also use `allowMissingColumns=True` to allow union of DataFrames with missing columns."
   ]
  },
  {
   "cell_type": "code",
   "execution_count": 52,
   "metadata": {},
   "outputs": [
    {
     "name": "stdout",
     "output_type": "stream",
     "text": [
      "+---+-----+----+\n",
      "| id| name|city|\n",
      "+---+-----+----+\n",
      "|  1|Alice|  NY|\n",
      "+---+-----+----+\n",
      "\n",
      "+---+----+\n",
      "| id|name|\n",
      "+---+----+\n",
      "|  2| Bob|\n",
      "+---+----+\n",
      "\n",
      "+---+-----+----+\n",
      "| id| name|city|\n",
      "+---+-----+----+\n",
      "|  1|Alice|  NY|\n",
      "|  2|  Bob|NULL|\n",
      "+---+-----+----+\n",
      "\n"
     ]
    }
   ],
   "source": [
    "df_a = spark.createDataFrame([(1, \"Alice\", \"NY\")], [\"id\", \"name\", \"city\"])\n",
    "df_a.show()\n",
    "df_b = spark.createDataFrame([(2, \"Bob\")], [\"id\", \"name\"])\n",
    "df_b.show()\n",
    "result = df_a.unionByName(df_b, allowMissingColumns=True)\n",
    "result.show()"
   ]
  },
  {
   "cell_type": "markdown",
   "metadata": {},
   "source": [
    "### Joins"
   ]
  },
  {
   "cell_type": "markdown",
   "metadata": {},
   "source": [
    "#### Left Join"
   ]
  },
  {
   "cell_type": "code",
   "execution_count": 54,
   "metadata": {},
   "outputs": [
    {
     "name": "stdout",
     "output_type": "stream",
     "text": [
      "+---------+----+---------+-----------+---------+\n",
      "|book_name|cost|writer_id|writer_name|writer_id|\n",
      "+---------+----+---------+-----------+---------+\n",
      "|    Scala| 400|        1|     Martin|        1|\n",
      "|    Spark| 500|        2|    Zaharia|        2|\n",
      "|     Java| 350|        5|       NULL|     NULL|\n",
      "|    Kafka| 300|        3|       Neha|        3|\n",
      "+---------+----+---------+-----------+---------+\n",
      "\n"
     ]
    }
   ],
   "source": [
    "book_data = [\n",
    "    (\"Scala\", 400, 1),\n",
    "    (\"Spark\", 500, 2),\n",
    "    (\"Kafka\", 300, 3),\n",
    "    (\"Java\", 350, 5)\n",
    "]\n",
    "df_books = spark.createDataFrame(book_data, [\"book_name\", \"cost\", \"writer_id\"])\n",
    "\n",
    "writer_data = [\n",
    "    (\"Martin\", 1),\n",
    "    (\"Zaharia\", 2),\n",
    "    (\"Neha\", 3),\n",
    "    (\"James\", 4)\n",
    "]\n",
    "df_writers = spark.createDataFrame(writer_data, [\"writer_name\", \"writer_id\"])\n",
    "\n",
    "result = df_books.join(df_writers, \n",
    "      df_books[\"writer_id\"] == df_writers[\"writer_id\"], \n",
    "      \"left\")\n",
    "result.show()"
   ]
  },
  {
   "cell_type": "markdown",
   "metadata": {},
   "source": [
    "#### Right join"
   ]
  },
  {
   "cell_type": "code",
   "execution_count": 55,
   "metadata": {},
   "outputs": [
    {
     "name": "stdout",
     "output_type": "stream",
     "text": [
      "+---------+----+---------+-----------+---------+\n",
      "|book_name|cost|writer_id|writer_name|writer_id|\n",
      "+---------+----+---------+-----------+---------+\n",
      "|    Scala| 400|        1|     Martin|        1|\n",
      "|    Spark| 500|        2|    Zaharia|        2|\n",
      "|    Kafka| 300|        3|       Neha|        3|\n",
      "|     NULL|NULL|     NULL|      James|        4|\n",
      "+---------+----+---------+-----------+---------+\n",
      "\n"
     ]
    }
   ],
   "source": [
    "result = df_books.join(df_writers, \n",
    "      df_books[\"writer_id\"] == df_writers[\"writer_id\"], \n",
    "      \"right\")\n",
    "result.show()"
   ]
  },
  {
   "cell_type": "markdown",
   "metadata": {},
   "source": [
    "#### Inner join"
   ]
  },
  {
   "cell_type": "code",
   "execution_count": 56,
   "metadata": {},
   "outputs": [
    {
     "name": "stdout",
     "output_type": "stream",
     "text": [
      "+---------+----+---------+-----------+---------+\n",
      "|book_name|cost|writer_id|writer_name|writer_id|\n",
      "+---------+----+---------+-----------+---------+\n",
      "|    Scala| 400|        1|     Martin|        1|\n",
      "|    Spark| 500|        2|    Zaharia|        2|\n",
      "|    Kafka| 300|        3|       Neha|        3|\n",
      "+---------+----+---------+-----------+---------+\n",
      "\n"
     ]
    }
   ],
   "source": [
    "result = df_books.join(df_writers, \n",
    "      df_books[\"writer_id\"] == df_writers[\"writer_id\"], \n",
    "      \"inner\")\n",
    "result.show()"
   ]
  },
  {
   "cell_type": "markdown",
   "metadata": {},
   "source": [
    "#### Full outer"
   ]
  },
  {
   "cell_type": "code",
   "execution_count": 58,
   "metadata": {},
   "outputs": [
    {
     "name": "stdout",
     "output_type": "stream",
     "text": [
      "+---------+----+---------+-----------+---------+\n",
      "|book_name|cost|writer_id|writer_name|writer_id|\n",
      "+---------+----+---------+-----------+---------+\n",
      "|    Scala| 400|        1|     Martin|        1|\n",
      "|    Spark| 500|        2|    Zaharia|        2|\n",
      "|    Kafka| 300|        3|       Neha|        3|\n",
      "|     NULL|NULL|     NULL|      James|        4|\n",
      "|     Java| 350|        5|       NULL|     NULL|\n",
      "+---------+----+---------+-----------+---------+\n",
      "\n"
     ]
    }
   ],
   "source": [
    "result = df_books.join(df_writers, \n",
    "      df_books[\"writer_id\"] == df_writers[\"writer_id\"], \n",
    "      \"fullouter\")\n",
    "result.show()"
   ]
  },
  {
   "cell_type": "code",
   "execution_count": 8,
   "metadata": {},
   "outputs": [
    {
     "name": "stdout",
     "output_type": "stream",
     "text": [
      "root\n",
      " |-- agency_id: string (nullable = true)\n",
      " |-- agency_info: string (nullable = true)\n",
      "\n",
      "+---------+-----------------------------------------------------+\n",
      "|agency_id|agency_info                                          |\n",
      "+---------+-----------------------------------------------------+\n",
      "|1        |{'agency_name': 'NYC Rentals', 'city': 'New York'}   |\n",
      "|2        |{'agency_name': 'LA Car Rental', 'city': 'Londres'}  |\n",
      "|3        |{'agency_name': 'Zapopan Auto', 'city': 'Zapopan'}   |\n",
      "|4        |{'agency_name': 'SF Cars', 'city': 'San Francisco'}  |\n",
      "|5        |{'agency_name': 'Mexico Cars', 'city': 'Mexico City'}|\n",
      "+---------+-----------------------------------------------------+\n",
      "\n"
     ]
    }
   ],
   "source": [
    "from team_name.spark_utils import SparkUtils\n",
    "agencies_schema = SparkUtils.generate_schema([(\"agency_id\", \"string\"), (\"agency_info\", \"string\")])\n",
    "\n",
    "agencies_df = spark.read \\\n",
    "                .schema(agencies_schema) \\\n",
    "                .option(\"header\", \"true\") \\\n",
    "                .csv(\"/home/jovyan/notebooks/data/rentals_dataset/agencies.csv\")\n",
    "\n",
    "agencies_df.printSchema()\n",
    "\n",
    "agencies_df.show(5, truncate=False)"
   ]
  },
  {
   "cell_type": "code",
   "execution_count": null,
   "metadata": {},
   "outputs": [
    {
     "name": "stdout",
     "output_type": "stream",
     "text": [
      "root\n",
      " |-- brand_id: string (nullable = true)\n",
      " |-- brand_info: string (nullable = true)\n",
      "\n",
      "+--------+------------------------------------------------------+\n",
      "|brand_id|brand_info                                            |\n",
      "+--------+------------------------------------------------------+\n",
      "|1       |{'brand_name': 'Mercedes-Benz', 'country': 'Tanzania'}|\n",
      "|2       |{'brand_name': 'BMW', 'country': 'Hungary'}           |\n",
      "|3       |{'brand_name': 'Audi', 'country': 'Senegal'}          |\n",
      "|4       |{'brand_name': 'Ford', 'country': 'Tuvalu'}           |\n",
      "|5       |{'brand_name': 'BYD', 'country': 'Italy'}             |\n",
      "+--------+------------------------------------------------------+\n",
      "only showing top 5 rows\n",
      "\n",
      "+--------+--------------------+-------------+\n",
      "|brand_id|          brand_info|   brand_name|\n",
      "+--------+--------------------+-------------+\n",
      "|       1|{'brand_name': 'M...|Mercedes-Benz|\n",
      "|       2|{'brand_name': 'B...|          BMW|\n",
      "|       3|{'brand_name': 'A...|         Audi|\n",
      "|       4|{'brand_name': 'F...|         Ford|\n",
      "|       5|{'brand_name': 'B...|          BYD|\n",
      "|       6|{'brand_name': 'H...|        Honda|\n",
      "|       7|{'brand_name': 'T...|       Toyota|\n",
      "+--------+--------------------+-------------+\n",
      "\n"
     ]
    }
   ],
   "source": [
    "brands_schema = SparkUtils.generate_schema([(\"brand_id\", \"integer\"), (\"brand_info\", \"string\")])\n",
    "brands_df = spark.read.option(\"header\", \"true\").csv(\"/home/jovyan/notebooks/data/rentals_dataset/brands.csv\")\n",
    "brands_df.printSchema()"
   ]
  },
  {
   "cell_type": "code",
   "execution_count": null,
   "metadata": {},
   "outputs": [
    {
     "name": "stdout",
     "output_type": "stream",
     "text": [
      "root\n",
      " |-- car_id: string (nullable = true)\n",
      " |-- car_info: string (nullable = true)\n",
      "\n",
      "+------+--------------------+\n",
      "|car_id|            car_info|\n",
      "+------+--------------------+\n",
      "|     1|{'car_name': 'Tuc...|\n",
      "|     2|{'car_name': 'How...|\n",
      "|     3|{'car_name': 'Wag...|\n",
      "|     4|{'car_name': 'Cam...|\n",
      "|     5|{'car_name': 'Arc...|\n",
      "+------+--------------------+\n",
      "only showing top 5 rows\n",
      "\n",
      "+------+-------------------------------------------------------------------------------------+---------------------------------+\n",
      "|car_id|car_info                                                                             |car_name                         |\n",
      "+------+-------------------------------------------------------------------------------------+---------------------------------+\n",
      "|1     |{'car_name': 'Tucker, Hull and Gallegos Model 1', 'brand_id': 5, 'price_per_day': 68}|Tucker, Hull and Gallegos Model 1|\n",
      "|2     |{'car_name': 'Howard-Snow Model 7', 'brand_id': 5, 'price_per_day': 55}              |Howard-Snow Model 7              |\n",
      "|3     |{'car_name': 'Wagner LLC Model 2', 'brand_id': 2, 'price_per_day': 194}              |Wagner LLC Model 2               |\n",
      "|4     |{'car_name': 'Campos PLC Model 8', 'brand_id': 1, 'price_per_day': 107}              |Campos PLC Model 8               |\n",
      "|5     |{'car_name': 'Archer-Patel Model 3', 'brand_id': 4, 'price_per_day': 136}            |Archer-Patel Model 3             |\n",
      "+------+-------------------------------------------------------------------------------------+---------------------------------+\n",
      "only showing top 5 rows\n",
      "\n"
     ]
    }
   ],
   "source": [
    "cars_schema = SparkUtils.generate_schema([(\"car_id\", \"integer\"), (\"car_info\", \"string\")])\n",
    "cars_df = spark.read.option(\"header\", \"true\").csv(\"/home/jovyan/notebooks/data/rentals_dataset/cars.csv\")\n",
    "cars_df.printSchema()"
   ]
  },
  {
   "cell_type": "code",
   "execution_count": null,
   "metadata": {},
   "outputs": [
    {
     "name": "stdout",
     "output_type": "stream",
     "text": [
      "root\n",
      " |-- customer_id: string (nullable = true)\n",
      " |-- customer_info: string (nullable = true)\n",
      "\n",
      "+-----------+--------------------+-------------------+\n",
      "|customer_id|       customer_info|      customer_name|\n",
      "+-----------+--------------------+-------------------+\n",
      "|          1|{'customer_name':...|  Martin Graves DVM|\n",
      "|          2|{'customer_name':...|   Frederick Wilson|\n",
      "|          3|{'customer_name':...|       Gabriela Lee|\n",
      "|          4|{'customer_name':...|     Devin Thornton|\n",
      "|          5|{'customer_name':...|Christopher Simmons|\n",
      "+-----------+--------------------+-------------------+\n",
      "only showing top 5 rows\n",
      "\n"
     ]
    }
   ],
   "source": [
    "customers_schema = SparkUtils.generate_schema([(\"customer_id\", \"integer\"), (\"customer_info\", \"string\")])\n",
    "customers_df = spark.read.option(\"header\", \"true\").csv(\"/home/jovyan/notebooks/data/rentals_dataset/customers.csv\")\n",
    "customers_df.printSchema()"
   ]
  },
  {
   "cell_type": "code",
   "execution_count": 41,
   "metadata": {},
   "outputs": [
    {
     "name": "stdout",
     "output_type": "stream",
     "text": [
      "root\n",
      " |-- rental_id: string (nullable = true)\n",
      " |-- rental_info: string (nullable = true)\n",
      "\n",
      "+---------+--------------------------------------------------+----------+---------------+-------------+\n",
      "|rental_id|rental_info                                       |car_rental|customer_rental|agency_rental|\n",
      "+---------+--------------------------------------------------+----------+---------------+-------------+\n",
      "|12740    |{'car_id': 23, 'customer_id': 42, 'agency_id': 1} |23        |42             |1            |\n",
      "|12741    |{'car_id': 19, 'customer_id': 146, 'agency_id': 2}|19        |146            |2            |\n",
      "|12742    |{'car_id': 24, 'customer_id': 143, 'agency_id': 3}|24        |143            |3            |\n",
      "|12743    |{'car_id': 22, 'customer_id': 90, 'agency_id': 4} |22        |90             |4            |\n",
      "|12744    |{'car_id': 9, 'customer_id': 115, 'agency_id': 3} |9         |115            |3            |\n",
      "+---------+--------------------------------------------------+----------+---------------+-------------+\n",
      "only showing top 5 rows\n",
      "\n"
     ]
    }
   ],
   "source": [
    "rentals_schema = SparkUtils.generate_schema([(\"rental_id\", \"integer\"), (\"rental_info\", \"string\")])\n",
    "rentals_df = spark.read.option(\"header\", \"true\").csv(\"/home/jovyan/notebooks/data/rentals_dataset/rentals/\")\n",
    "rentals_df.printSchema()"
   ]
  },
  {
   "cell_type": "code",
   "execution_count": 76,
   "metadata": {},
   "outputs": [],
   "source": [
    "# Stop the SparkContext\n",
    "sc.stop()"
   ]
  }
 ],
 "metadata": {
  "kernelspec": {
   "display_name": "Python 3 (ipykernel)",
   "language": "python",
   "name": "python3"
  },
  "language_info": {
   "codemirror_mode": {
    "name": "ipython",
    "version": 3
   },
   "file_extension": ".py",
   "mimetype": "text/x-python",
   "name": "python",
   "nbconvert_exporter": "python",
   "pygments_lexer": "ipython3",
   "version": "3.11.6"
  }
 },
 "nbformat": 4,
 "nbformat_minor": 2
}
