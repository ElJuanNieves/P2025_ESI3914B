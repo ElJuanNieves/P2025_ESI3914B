{
 "cells": [
  {
   "cell_type": "markdown",
   "metadata": {},
   "source": [
    "# <center> <img src=\"../../labs/img/ITESOLogo.png\" alt=\"ITESO\" width=\"480\" height=\"130\"> </center>\n",
    "# <center> **Departamento de Electrónica, Sistemas e Informática** </center>\n",
    "---\n",
    "## <center> **Procesamiento de Datos Masivos** </center>\n",
    "---\n",
    "### <center> **Primavera 2025** </center>\n",
    "---\n",
    "### <center> **Kafka Producer: Financial Transaction Generator** </center>\n",
    "\n",
    "---\n",
    "**Profesor**: Dr. Pablo Camarillo Ramirez"
   ]
  },
  {
   "cell_type": "markdown",
   "metadata": {},
   "source": [
    "### Invoke the transaction data generator"
   ]
  },
  {
   "cell_type": "code",
   "execution_count": 1,
   "metadata": {},
   "outputs": [
    {
     "name": "stdout",
     "output_type": "stream",
     "text": [
      "Producing messages to Kafka topic: kafka-spark-example\n",
      "Sent: {'origin_id': 'origin3', 'event_time': '2025-04-10 01:36:36', 'ammount': 5424.500813453306}\n",
      "Sent: {'origin_id': 'origin3', 'event_time': '2025-04-10 01:36:38', 'ammount': 3065.978100865799}\n",
      "Sent: {'origin_id': 'origin3', 'event_time': '2025-04-10 01:36:40', 'ammount': 2377.2904287578845}\n",
      "Sent: {'origin_id': 'origin1', 'event_time': '2025-04-10 01:36:42', 'ammount': 4157.389560309885}\n",
      "Sent: {'origin_id': 'origin1', 'event_time': '2025-04-10 01:36:44', 'ammount': 1513.599655296028}\n",
      "Sent: {'origin_id': 'origin3', 'event_time': '2025-04-10 01:36:46', 'ammount': 3456.1441181408613}\n",
      "Sent: {'origin_id': 'origin3', 'event_time': '2025-04-10 01:36:48', 'ammount': 4109.145342217237}\n",
      "Sent: {'origin_id': 'origin1', 'event_time': '2025-04-10 01:36:50', 'ammount': 1727.9232855226574}\n",
      "Sent: {'origin_id': 'origin2', 'event_time': '2025-04-10 01:36:52', 'ammount': 5187.606598550711}\n",
      "Sent: {'origin_id': 'origin3', 'event_time': '2025-04-10 01:36:54', 'ammount': 1683.6307251197413}\n",
      "Sent: {'origin_id': 'origin1', 'event_time': '2025-04-10 01:36:56', 'ammount': 5522.005274707394}\n",
      "Sent: {'origin_id': 'origin1', 'event_time': '2025-04-10 01:36:58', 'ammount': 1805.8830975358355}\n",
      "Sent: {'origin_id': 'origin1', 'event_time': '2025-04-10 01:37:00', 'ammount': 3181.886415175096}\n",
      "Sent: {'origin_id': 'origin2', 'event_time': '2025-04-10 01:37:02', 'ammount': 4813.649290589938}\n",
      "Sent: {'origin_id': 'origin1', 'event_time': '2025-04-10 01:37:04', 'ammount': 3869.9064526236325}\n",
      "Sent: {'origin_id': 'origin2', 'event_time': '2025-04-10 01:37:06', 'ammount': 4737.299481346327}\n",
      "Sent: {'origin_id': 'origin3', 'event_time': '2025-04-10 01:37:08', 'ammount': 5254.522442652805}\n",
      "Sent: {'origin_id': 'origin1', 'event_time': '2025-04-10 01:37:10', 'ammount': 1218.883703113377}\n",
      "Sent: {'origin_id': 'origin2', 'event_time': '2025-04-10 01:37:12', 'ammount': 4474.221156298534}\n",
      "Sent: {'origin_id': 'origin3', 'event_time': '2025-04-10 01:37:14', 'ammount': 971.4768550300395}\n",
      "Sent: {'origin_id': 'origin2', 'event_time': '2025-04-10 01:37:16', 'ammount': 151.30437160960014}\n",
      "Sent: {'origin_id': 'origin2', 'event_time': '2025-04-10 01:37:18', 'ammount': 629.8986586789371}\n",
      "Sent: {'origin_id': 'origin2', 'event_time': '2025-04-10 01:37:20', 'ammount': 3256.895358031933}\n",
      "Sent: {'origin_id': 'origin3', 'event_time': '2025-04-10 01:37:22', 'ammount': 981.3937228769762}\n",
      "Sent: {'origin_id': 'origin2', 'event_time': '2025-04-10 01:37:24', 'ammount': 4965.125861314732}\n",
      "Sent: {'origin_id': 'origin1', 'event_time': '2025-04-10 01:37:26', 'ammount': 5454.5546254883275}\n",
      "Sent: {'origin_id': 'origin2', 'event_time': '2025-04-10 01:37:28', 'ammount': 2914.2402257795557}\n",
      "Sent: {'origin_id': 'origin1', 'event_time': '2025-04-10 01:37:30', 'ammount': 2775.007098297188}\n",
      "Sent: {'origin_id': 'origin3', 'event_time': '2025-04-10 01:37:32', 'ammount': 548.4363884597221}\n",
      "Sent: {'origin_id': 'origin1', 'event_time': '2025-04-10 01:37:34', 'ammount': 58.22133576302319}\n",
      "Sent: {'origin_id': 'origin1', 'event_time': '2025-04-10 01:37:36', 'ammount': 5622.070930038737}\n",
      "Sent: {'origin_id': 'origin1', 'event_time': '2025-04-10 01:37:38', 'ammount': 4191.069095037432}\n",
      "Sent: {'origin_id': 'origin2', 'event_time': '2025-04-10 01:37:40', 'ammount': 937.5461926682502}\n",
      "Sent: {'origin_id': 'origin3', 'event_time': '2025-04-10 01:37:42', 'ammount': 5545.005700459237}\n",
      "Sent: {'origin_id': 'origin2', 'event_time': '2025-04-10 01:37:44', 'ammount': 4637.867485520831}\n"
     ]
    }
   ],
   "source": [
    "from team_name.transaction_generator import generate_transaction_data\n",
    "from kafka import KafkaProducer\n",
    "import time\n",
    "import json\n",
    "import random\n",
    "\n",
    "\n",
    "# Define Kafka server and topic\n",
    "KAFKA_SERVER = 'cfb7d55576f2:9093'\n",
    "KAFKA_TOPIC = 'kafka-spark-example'\n",
    "NUMBER_MESSAGES_TO_SEND = random.randint(30, 50)\n",
    "\n",
    "# Initialize the Kafka producer\n",
    "producer = KafkaProducer(\n",
    "     bootstrap_servers=KAFKA_SERVER,\n",
    "     value_serializer=lambda v: json.dumps(v).encode('utf-8')  # serialize data as JSON\n",
    ")\n",
    "\n",
    "# Produce data to Kafka topic\n",
    "try:\n",
    "    print(f\"Producing messages to Kafka topic: {KAFKA_TOPIC}\")\n",
    "    for i in range(0, NUMBER_MESSAGES_TO_SEND):\n",
    "        # Generate random transaction data\n",
    "        sensor_data = generate_transaction_data()\n",
    "        \n",
    "        # Send data to Kafka\n",
    "        producer.send(KAFKA_TOPIC, sensor_data)\n",
    "        print(f\"Sent: {sensor_data}\")\n",
    "            \n",
    "        # Sleep for a few seconds before sending the next message\n",
    "        time.sleep(2)\n",
    "\n",
    "except KeyboardInterrupt:\n",
    "    print(\"Stopped producing messages.\")\n",
    "finally:\n",
    "    # Close the Kafka producer\n",
    "    producer.close()"
   ]
  }
 ],
 "metadata": {
  "kernelspec": {
   "display_name": "Python 3 (ipykernel)",
   "language": "python",
   "name": "python3"
  },
  "language_info": {
   "codemirror_mode": {
    "name": "ipython",
    "version": 3
   },
   "file_extension": ".py",
   "mimetype": "text/x-python",
   "name": "python",
   "nbconvert_exporter": "python",
   "pygments_lexer": "ipython3",
   "version": "3.11.6"
  }
 },
 "nbformat": 4,
 "nbformat_minor": 2
}
