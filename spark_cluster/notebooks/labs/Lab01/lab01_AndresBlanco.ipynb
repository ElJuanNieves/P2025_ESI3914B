{
 "cells": [
  {
   "cell_type": "code",
   "execution_count": 1,
   "metadata": {},
   "outputs": [],
   "source": [
    "students_data = [\n",
    "    (\"Alice\", {\"Math\": 90, \"Science\": 85, \"History\": 78}),\n",
    "    (\"Bob\", {\"Math\": 88, \"Science\": 92, \"History\": 80}),\n",
    "    (\"Charlie\", {\"Math\": 78, \"Science\": 85, \"History\": 88})\n",
    "]"
   ]
  },
  {
   "cell_type": "code",
   "execution_count": 3,
   "metadata": {},
   "outputs": [
    {
     "data": {
      "text/plain": [
       "{'Alice': 84.33, 'Bob': 86.67, 'Charlie': 83.67}"
      ]
     },
     "execution_count": 3,
     "metadata": {},
     "output_type": "execute_result"
    }
   ],
   "source": [
    "average_grades = {\n",
    "    student: round(sum(grades.values()) / len(grades), 2)\n",
    "    for student, grades in students_data\n",
    "}\n",
    "average_grades"
   ]
  },
  {
   "cell_type": "code",
   "execution_count": 5,
   "metadata": {},
   "outputs": [
    {
     "data": {
      "text/plain": [
       "'Bob'"
      ]
     },
     "execution_count": 5,
     "metadata": {},
     "output_type": "execute_result"
    }
   ],
   "source": [
    "Highest_grade = max(average_grades, key=average_grades.get)\n",
    "Highest_grade"
   ]
  },
  {
   "cell_type": "code",
   "execution_count": 6,
   "metadata": {},
   "outputs": [
    {
     "data": {
      "text/plain": [
       "{'History', 'Math', 'Science'}"
      ]
     },
     "execution_count": 6,
     "metadata": {},
     "output_type": "execute_result"
    }
   ],
   "source": [
    "unique_subjects = set()\n",
    "for grades in students_data:\n",
    "    unique_subjects.update(grades[1].keys())\n",
    "unique_subjects"
   ]
  },
  {
   "cell_type": "code",
   "execution_count": 7,
   "metadata": {},
   "outputs": [
    {
     "data": {
      "text/plain": [
       "{'History': {'Alice': 78, 'Bob': 80, 'Charlie': 88},\n",
       " 'Math': {'Alice': 90, 'Bob': 88, 'Charlie': 78},\n",
       " 'Science': {'Alice': 85, 'Bob': 92, 'Charlie': 85}}"
      ]
     },
     "execution_count": 7,
     "metadata": {},
     "output_type": "execute_result"
    }
   ],
   "source": [
    "subject_grades = {subject: {} for subject in unique_subjects}\n",
    "for student, grades in students_data:\n",
    "    for subject, grade in grades.items():\n",
    "        subject_grades[subject][student] = grade\n",
    "\n",
    "subject_grades"
   ]
  }
 ],
 "metadata": {
  "kernelspec": {
   "display_name": "Python 3 (ipykernel)",
   "language": "python",
   "name": "python3"
  },
  "language_info": {
   "codemirror_mode": {
    "name": "ipython",
    "version": 3
   },
   "file_extension": ".py",
   "mimetype": "text/x-python",
   "name": "python",
   "nbconvert_exporter": "python",
   "pygments_lexer": "ipython3",
   "version": "3.11.6"
  }
 },
 "nbformat": 4,
 "nbformat_minor": 2
}
