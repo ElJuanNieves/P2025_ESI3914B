{
 "cells": [
  {
   "cell_type": "markdown",
   "metadata": {},
   "source": [
    "# <center> <img src=\"img/ITESOLogo.png\" alt=\"ITESO\" width=\"480\" height=\"130\"> </center>\n",
    "# <center> **Departamento de Electrónica, Sistemas e Informática** </center>\n",
    "---\n",
    "## <center> **Carrera: Ingenieria de Sistemas Computacionales** </center>\n",
    "---\n",
    "### <center> **Primavera 2025** </center>\n",
    "---\n",
    "\n",
    "**Lab 01**:Student Grade Analyzer\n",
    "\n",
    "**Fecha**:01/02/2025\n",
    "\n",
    "**Nombre del Estudiante**:David Abraham Naranjo Salgado \n",
    "\n",
    "**Profesor**: Pablo Camarillo Ramirez"
   ]
  },
  {
   "cell_type": "markdown",
   "metadata": {},
   "source": [
    "# Input"
   ]
  },
  {
   "cell_type": "code",
   "execution_count": 45,
   "metadata": {},
   "outputs": [],
   "source": [
    "students_data = [(\"Alice\", {\"Math\": 90, \"Science\": 85, \"History\": 78}),\n",
    "(\"Bob\", {\"Math\": 88, \"Science\": 92, \"History\": 80}),\n",
    "(\"Charlie\", {\"Math\": 78, \"Science\": 85, \"History\": 88})]"
   ]
  },
  {
   "cell_type": "markdown",
   "metadata": {},
   "source": [
    "## Store the data using appropriate collections.\n"
   ]
  },
  {
   "cell_type": "code",
   "execution_count": 46,
   "metadata": {},
   "outputs": [
    {
     "name": "stdout",
     "output_type": "stream",
     "text": [
      "{'Alice': {'Math': 90, 'Science': 85, 'History': 78}, 'Bob': {'Math': 88, 'Science': 92, 'History': 80}, 'Charlie': {'Math': 78, 'Science': 85, 'History': 88}}\n"
     ]
    }
   ],
   "source": [
    "students_dict = dict(students_data)\n",
    "print(students_dict)"
   ]
  },
  {
   "cell_type": "markdown",
   "metadata": {},
   "source": [
    "## Perform the following operations:\n",
    " 1. Calculate the average grade for each student."
   ]
  },
  {
   "cell_type": "code",
   "execution_count": 47,
   "metadata": {},
   "outputs": [
    {
     "name": "stdout",
     "output_type": "stream",
     "text": [
      "Alice: 84.33\n",
      "Bob: 86.67\n",
      "Charlie: 83.67\n"
     ]
    }
   ],
   "source": [
    "student_averages = {} # Diccionario\n",
    "\n",
    "for student, grades in students_dict.items():\n",
    "    total_score = sum(grades.values()) \n",
    "    num_subjects = len(grades) \n",
    "    average = total_score / num_subjects\n",
    "    student_averages[student] = average \n",
    "\n",
    "for student, average in student_averages.items():\n",
    "    print(f\"{student}: {average:.2f}\")\n"
   ]
  },
  {
   "cell_type": "markdown",
   "metadata": {},
   "source": [
    "2. Find the student with the highest average grade."
   ]
  },
  {
   "cell_type": "code",
   "execution_count": 48,
   "metadata": {},
   "outputs": [
    {
     "name": "stdout",
     "output_type": "stream",
     "text": [
      "Student with the highest average grade: Bob (86.67)\n"
     ]
    }
   ],
   "source": [
    "highest_avg_student = None\n",
    "highest_avg = 0\n",
    "for student, average in student_averages.items():\n",
    "    if average > highest_avg:\n",
    "        highest_avg = average\n",
    "        highest_avg_student = student\n",
    "        \n",
    "print(f\"Student with the highest average grade: {highest_avg_student} ({highest_avg:.2f})\")\n"
   ]
  },
  {
   "cell_type": "markdown",
   "metadata": {},
   "source": [
    "3.Identify all unique subjects across all students."
   ]
  },
  {
   "cell_type": "code",
   "execution_count": 49,
   "metadata": {},
   "outputs": [
    {
     "name": "stdout",
     "output_type": "stream",
     "text": [
      "Unique subjects: {'History', 'Math', 'Science'}\n"
     ]
    }
   ],
   "source": [
    "unique_subjects = set() \n",
    "\n",
    "for grades in students_dict.values():\n",
    "    unique_subjects.update(grades.keys())\n",
    "\n",
    "print(\"Unique subjects:\", unique_subjects)"
   ]
  },
  {
   "cell_type": "markdown",
   "metadata": {},
   "source": [
    "4.Create a dictionary to store the grades of each subject for all students"
   ]
  },
  {
   "cell_type": "code",
   "execution_count": 50,
   "metadata": {},
   "outputs": [
    {
     "name": "stdout",
     "output_type": "stream",
     "text": [
      "Grades for each subject: {'Math': [90, 88, 78], 'Science': [85, 92, 85], 'History': [78, 80, 88]}\n"
     ]
    }
   ],
   "source": [
    "subject_grades = {}\n",
    "\n",
    "\n",
    "for student, grades in students_dict.items():\n",
    "    for subject, grade in grades.items():\n",
    "        if subject not in subject_grades:\n",
    "            subject_grades[subject] = []  \n",
    "        subject_grades[subject].append(grade)  \n",
    "\n",
    "print(\"Grades for each subject:\", subject_grades)"
   ]
  }
 ],
 "metadata": {
  "kernelspec": {
   "display_name": "Python 3 (ipykernel)",
   "language": "python",
   "name": "python3"
  },
  "language_info": {
   "codemirror_mode": {
    "name": "ipython",
    "version": 3
   },
   "file_extension": ".py",
   "mimetype": "text/x-python",
   "name": "python",
   "nbconvert_exporter": "python",
   "pygments_lexer": "ipython3",
   "version": "3.11.6"
  }
 },
 "nbformat": 4,
 "nbformat_minor": 2
}
