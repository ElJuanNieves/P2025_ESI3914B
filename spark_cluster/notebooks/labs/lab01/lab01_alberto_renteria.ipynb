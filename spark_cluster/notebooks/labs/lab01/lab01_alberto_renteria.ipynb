{
 "cells": [
  {
   "cell_type": "markdown",
   "metadata": {},
   "source": [
    "# <center> <img src=\"../img/ITESOLogo.png\" alt=\"ITESO\" width=\"480\" height=\"130\"> </center>\n",
    "# <center> **Departamento de Electrónica, Sistemas e Informática** </center>\n",
    "---\n",
    "## <center> **Carrera: Ingenería en Sistemas Computacionales** </center>\n",
    "---\n",
    "### <center> **Primavera 2025** </center>\n",
    "---\n",
    "\n",
    "**Lab 01**:\n",
    "\n",
    "**Fecha**: 01/02/2024\n",
    "\n",
    "**Nombre del Estudiante**: Alberto Renteria Camacho\n",
    "\n",
    "**Profesor**: Pablo Camarillo Ramirez"
   ]
  },
  {
   "cell_type": "markdown",
   "metadata": {},
   "source": [
    "You are given a list of students and their grades in multiple subjects. Your task is to:\n",
    "\n",
    "- Store the data using appropriate collections.\n",
    "- Perform the following operations:\n",
    "    - Calculate the average grade for each student.\n",
    "    - Find the student with the highest average grade.\n",
    "    - Identify all unique subjects across all students.\n",
    "    - Create a dictionary to store the grades of each subject for all students\n",
    "\n",
    "Input:\n",
    "\n",
    "```python\n",
    "students_data = [(\"Alice\", {\"Math\": 90, \"Science\": 85, \"History\": 78}),\n",
    "(\"Bob\", {\"Math\": 88, \"Science\": 92, \"History\": 80}),\n",
    "(\"Charlie\", {\"Math\": 78, \"Science\": 85, \"History\": 88})]\n",
    "```"
   ]
  },
  {
   "cell_type": "code",
   "execution_count": 1,
   "metadata": {},
   "outputs": [
    {
     "name": "stdout",
     "output_type": "stream",
     "text": [
      "Average grades for each student\n",
      "Alice: 84.33\n",
      "Bob: 86.67\n",
      "Charlie: 83.67\n"
     ]
    }
   ],
   "source": [
    "students_data = [\n",
    "    (\"Alice\", {\"Math\": 90, \"Science\": 85, \"History\": 78}),\n",
    "    (\"Bob\", {\"Math\": 88, \"Science\": 92, \"History\": 80}),\n",
    "    (\"Charlie\", {\"Math\": 78, \"Science\": 85, \"History\": 88}),\n",
    "]\n",
    "\n",
    "avg = {\n",
    "    name: sum(grades.values()) / len(grades) for name, grades in students_data\n",
    "}\n",
    "\n",
    "print(\"Average grades for each student\")\n",
    "for name, avg_grade in avg.items():\n",
    "    print(f\"{name}: {avg_grade:.2f}\")\n"
   ]
  },
  {
   "cell_type": "code",
   "execution_count": 2,
   "metadata": {},
   "outputs": [
    {
     "name": "stdout",
     "output_type": "stream",
     "text": [
      "Student with the highest average\n",
      "Bob: 86.67\n"
     ]
    }
   ],
   "source": [
    "top_student = max(avg, key=avg.get)\n",
    "\n",
    "print(f\"Student with the highest average\")\n",
    "print(f\"{top_student}: {avg[top_student]:.2f}\")\n"
   ]
  },
  {
   "cell_type": "code",
   "execution_count": 3,
   "metadata": {},
   "outputs": [
    {
     "name": "stdout",
     "output_type": "stream",
     "text": [
      "Unique subjects\n",
      "{'History', 'Math', 'Science'}\n"
     ]
    }
   ],
   "source": [
    "unique_grades = set()\n",
    "for grades in students_data:\n",
    "    unique_grades.update(grades[1].keys())\n",
    "\n",
    "print(\"Unique subjects\")\n",
    "print(unique_grades)"
   ]
  },
  {
   "cell_type": "code",
   "execution_count": 4,
   "metadata": {},
   "outputs": [
    {
     "name": "stdout",
     "output_type": "stream",
     "text": [
      "Grades by subject dictionary\n",
      "{'Math': [90, 88, 78], 'Science': [85, 92, 85], 'History': [78, 80, 88]}\n"
     ]
    }
   ],
   "source": [
    "subject_grades = dict()\n",
    "for name, grades in students_data:\n",
    "    for subject, grade in grades.items():\n",
    "        if subject not in subject_grades:\n",
    "            subject_grades[subject] = []\n",
    "        subject_grades[subject].append(grade)\n",
    "\n",
    "print(\"Grades by subject dictionary\")\n",
    "print(subject_grades)"
   ]
  }
 ],
 "metadata": {
  "kernelspec": {
   "display_name": "Python 3 (ipykernel)",
   "language": "python",
   "name": "python3"
  },
  "language_info": {
   "codemirror_mode": {
    "name": "ipython",
    "version": 3
   },
   "file_extension": ".py",
   "mimetype": "text/x-python",
   "name": "python",
   "nbconvert_exporter": "python",
   "pygments_lexer": "ipython3",
   "version": "3.11.6"
  }
 },
 "nbformat": 4,
 "nbformat_minor": 4
}
