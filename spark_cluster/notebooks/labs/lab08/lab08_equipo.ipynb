{
 "cells": [
  {
   "cell_type": "markdown",
   "metadata": {},
   "source": [
    "# <center> <img src=\"../labs/img/ITESOLogo.png\" alt=\"ITESO\" width=\"480\" height=\"130\"> </center>\n",
    "# <center> **Departamento de Electrónica, Sistemas e Informática** </center>\n",
    "---\n",
    "## <center> **Procesamiento de Datos Masivos** </center>\n",
    "---\n",
    "### <center> **Primavera 2025** </center>\n",
    "---\n",
    "### <center> **Lab 08** </center>\n",
    "\n",
    "---\n",
    "**Equipo**: Equipo \n",
    "\n",
    "**Integrantes**:\n",
    "- Yael Alejandro Rodríguez Barreto\n",
    "\n",
    "**Profesor**: Dr. Pablo Camarillo Ramirez\n"
   ]
  },
  {
   "cell_type": "code",
   "execution_count": 1,
   "metadata": {},
   "outputs": [],
   "source": [
    "import findspark\n",
    "findspark.init()"
   ]
  },
  {
   "cell_type": "markdown",
   "metadata": {},
   "source": [
    "#### Creacion de la conexión con el cluster de spark\n"
   ]
  },
  {
   "cell_type": "code",
   "execution_count": 2,
   "metadata": {},
   "outputs": [
    {
     "name": "stdout",
     "output_type": "stream",
     "text": [
      ":: loading settings :: url = jar:file:/opt/conda/spark-3.5.4-bin-hadoop3-scala2.13/jars/ivy-2.5.1.jar!/org/apache/ivy/core/settings/ivysettings.xml\n"
     ]
    },
    {
     "name": "stderr",
     "output_type": "stream",
     "text": [
      "Ivy Default Cache set to: /root/.ivy2/cache\n",
      "The jars for the packages stored in: /root/.ivy2/jars\n",
      "org.apache.spark#spark-sql-kafka-0-10_2.13 added as a dependency\n",
      ":: resolving dependencies :: org.apache.spark#spark-submit-parent-87ad8087-7ef3-4086-a418-f2515b03a3b8;1.0\n",
      "\tconfs: [default]\n",
      "\tfound org.apache.spark#spark-sql-kafka-0-10_2.13;3.5.4 in central\n",
      "\tfound org.apache.spark#spark-token-provider-kafka-0-10_2.13;3.5.4 in central\n",
      "\tfound org.apache.kafka#kafka-clients;3.4.1 in central\n",
      "\tfound org.lz4#lz4-java;1.8.0 in central\n",
      "\tfound org.xerial.snappy#snappy-java;1.1.10.5 in central\n",
      "\tfound org.slf4j#slf4j-api;2.0.7 in central\n",
      "\tfound org.apache.hadoop#hadoop-client-runtime;3.3.4 in central\n",
      "\tfound org.apache.hadoop#hadoop-client-api;3.3.4 in central\n",
      "\tfound commons-logging#commons-logging;1.1.3 in central\n",
      "\tfound com.google.code.findbugs#jsr305;3.0.0 in central\n",
      "\tfound org.scala-lang.modules#scala-parallel-collections_2.13;1.0.4 in central\n",
      "\tfound org.apache.commons#commons-pool2;2.11.1 in central\n",
      ":: resolution report :: resolve 1431ms :: artifacts dl 91ms\n",
      "\t:: modules in use:\n",
      "\tcom.google.code.findbugs#jsr305;3.0.0 from central in [default]\n",
      "\tcommons-logging#commons-logging;1.1.3 from central in [default]\n",
      "\torg.apache.commons#commons-pool2;2.11.1 from central in [default]\n",
      "\torg.apache.hadoop#hadoop-client-api;3.3.4 from central in [default]\n",
      "\torg.apache.hadoop#hadoop-client-runtime;3.3.4 from central in [default]\n",
      "\torg.apache.kafka#kafka-clients;3.4.1 from central in [default]\n",
      "\torg.apache.spark#spark-sql-kafka-0-10_2.13;3.5.4 from central in [default]\n",
      "\torg.apache.spark#spark-token-provider-kafka-0-10_2.13;3.5.4 from central in [default]\n",
      "\torg.lz4#lz4-java;1.8.0 from central in [default]\n",
      "\torg.scala-lang.modules#scala-parallel-collections_2.13;1.0.4 from central in [default]\n",
      "\torg.slf4j#slf4j-api;2.0.7 from central in [default]\n",
      "\torg.xerial.snappy#snappy-java;1.1.10.5 from central in [default]\n",
      "\t---------------------------------------------------------------------\n",
      "\t|                  |            modules            ||   artifacts   |\n",
      "\t|       conf       | number| search|dwnlded|evicted|| number|dwnlded|\n",
      "\t---------------------------------------------------------------------\n",
      "\t|      default     |   12  |   0   |   0   |   0   ||   12  |   0   |\n",
      "\t---------------------------------------------------------------------\n",
      ":: retrieving :: org.apache.spark#spark-submit-parent-87ad8087-7ef3-4086-a418-f2515b03a3b8\n",
      "\tconfs: [default]\n",
      "\t0 artifacts copied, 12 already retrieved (0kB/51ms)\n",
      "25/04/04 14:07:27 WARN NativeCodeLoader: Unable to load native-hadoop library for your platform... using builtin-java classes where applicable\n",
      "Setting default log level to \"WARN\".\n",
      "To adjust logging level use sc.setLogLevel(newLevel). For SparkR, use setLogLevel(newLevel).\n"
     ]
    }
   ],
   "source": [
    "from pyspark.sql import SparkSession\n",
    "\n",
    "spark = SparkSession.builder \\\n",
    "    .appName(\"SparkSQLStructuredStreaming-Kafka\") \\\n",
    "    .master(\"spark://30b7a7c111a4:7077\") \\\n",
    "    .config(\"spark.ui.port\",\"4040\") \\\n",
    "    .config(\"spark.jars.packages\", \"org.apache.spark:spark-sql-kafka-0-10_2.13:3.5.4\") \\\n",
    "    .getOrCreate()\n",
    "sc = spark.sparkContext"
   ]
  },
  {
   "cell_type": "markdown",
   "metadata": {},
   "source": [
    "### Creación del Kafka Stream"
   ]
  },
  {
   "cell_type": "code",
   "execution_count": 3,
   "metadata": {},
   "outputs": [
    {
     "name": "stdout",
     "output_type": "stream",
     "text": [
      "root\n",
      " |-- key: binary (nullable = true)\n",
      " |-- value: binary (nullable = true)\n",
      " |-- topic: string (nullable = true)\n",
      " |-- partition: integer (nullable = true)\n",
      " |-- offset: long (nullable = true)\n",
      " |-- timestamp: timestamp (nullable = true)\n",
      " |-- timestampType: integer (nullable = true)\n",
      "\n"
     ]
    }
   ],
   "source": [
    "kafka_lines = spark \\\n",
    "                .readStream \\\n",
    "                .format(\"kafka\") \\\n",
    "                .option(\"kafka.bootstrap.servers\", \"d10938ce62b1:9093\") \\\n",
    "                .option(\"subscribe\", \"kafka-spark-example\") \\\n",
    "                .load()\n",
    "\n",
    "kafka_lines.printSchema()"
   ]
  },
  {
   "cell_type": "markdown",
   "metadata": {},
   "source": [
    "### Transform binary data into string"
   ]
  },
  {
   "cell_type": "code",
   "execution_count": 4,
   "metadata": {},
   "outputs": [],
   "source": [
    "kafka_df = kafka_lines.withColumn(\"value_str\", kafka_lines.value.cast(\"string\"))"
   ]
  },
  {
   "cell_type": "markdown",
   "metadata": {},
   "source": [
    "### Configuración del \"Sink\" del stream"
   ]
  },
  {
   "cell_type": "code",
   "execution_count": 5,
   "metadata": {},
   "outputs": [
    {
     "name": "stderr",
     "output_type": "stream",
     "text": [
      "25/04/04 14:07:48 WARN ResolveWriteToStream: Temporary checkpoint location created which is deleted normally when the query didn't fail: /tmp/temporary-6ced9d2a-6bb0-4aaa-afb1-da7edf7ea5f2. If it's required to delete it under any circumstances, please set spark.sql.streaming.forceDeleteTempCheckpointLocation to true. Important to know deleting temp checkpoint folder is best effort.\n",
      "25/04/04 14:07:48 WARN ResolveWriteToStream: spark.sql.adaptive.enabled is not supported in streaming DataFrames/Datasets and will be disabled.\n",
      "25/04/04 14:07:51 WARN AdminClientConfig: These configurations '[key.deserializer, value.deserializer, enable.auto.commit, max.poll.records, auto.offset.reset]' were supplied but are not used yet.\n",
      "                                                                                \r"
     ]
    },
    {
     "name": "stdout",
     "output_type": "stream",
     "text": [
      "-------------------------------------------\n",
      "Batch: 0\n",
      "-------------------------------------------\n",
      "+---+-----+-----+---------+------+---------+-------------+---------+\n",
      "|key|value|topic|partition|offset|timestamp|timestampType|value_str|\n",
      "+---+-----+-----+---------+------+---------+-------------+---------+\n",
      "+---+-----+-----+---------+------+---------+-------------+---------+\n",
      "\n"
     ]
    },
    {
     "name": "stderr",
     "output_type": "stream",
     "text": [
      "25/04/04 14:07:56 WARN ProcessingTimeExecutor: Current batch is falling behind. The trigger interval is 3000 milliseconds, but spent 6983 milliseconds\n",
      "                                                                                \r"
     ]
    },
    {
     "name": "stdout",
     "output_type": "stream",
     "text": [
      "-------------------------------------------\n",
      "Batch: 1\n",
      "-------------------------------------------\n",
      "+----+-------+-------------------+---------+------+-----------------------+-------------+---------+\n",
      "|key |value  |topic              |partition|offset|timestamp              |timestampType|value_str|\n",
      "+----+-------+-------------------+---------+------+-----------------------+-------------+---------+\n",
      "|NULL|[59 61]|kafka-spark-example|0        |1     |2025-04-04 14:07:59.866|0            |Ya       |\n",
      "+----+-------+-------------------+---------+------+-----------------------+-------------+---------+\n",
      "\n"
     ]
    },
    {
     "name": "stderr",
     "output_type": "stream",
     "text": [
      "25/04/04 14:08:11 WARN ProcessingTimeExecutor: Current batch is falling behind. The trigger interval is 3000 milliseconds, but spent 8009 milliseconds\n",
      "                                                                                \r"
     ]
    },
    {
     "name": "stdout",
     "output_type": "stream",
     "text": [
      "-------------------------------------------\n",
      "Batch: 2\n",
      "-------------------------------------------\n",
      "+----+----------------------------------------------------------+-------------------+---------+------+-----------------------+-------------+-------------------+\n",
      "|key |value                                                     |topic              |partition|offset|timestamp              |timestampType|value_str          |\n",
      "+----+----------------------------------------------------------+-------------------+---------+------+-----------------------+-------------+-------------------+\n",
      "|NULL|[4C 69 73 74 6F 20 62 75 65 6E 61 73 20 74 61 72 64 65 73]|kafka-spark-example|0        |2     |2025-04-04 14:08:26.289|0            |Listo buenas tardes|\n",
      "+----+----------------------------------------------------------+-------------------+---------+------+-----------------------+-------------+-------------------+\n",
      "\n"
     ]
    },
    {
     "name": "stderr",
     "output_type": "stream",
     "text": [
      "                                                                                \r"
     ]
    },
    {
     "name": "stdout",
     "output_type": "stream",
     "text": [
      "-------------------------------------------\n",
      "Batch: 3\n",
      "-------------------------------------------\n",
      "+----+----------------------------------------------------+-------------------+---------+------+-----------------------+-------------+-----------------+\n",
      "|key |value                                               |topic              |partition|offset|timestamp              |timestampType|value_str        |\n",
      "+----+----------------------------------------------------+-------------------+---------+------+-----------------------+-------------+-----------------+\n",
      "|NULL|[43 6F 6D 6F 20 73 65 20 65 6E 63 75 65 6E 74 72 61]|kafka-spark-example|0        |3     |2025-04-04 14:08:37.293|0            |Como se encuentra|\n",
      "+----+----------------------------------------------------+-------------------+---------+------+-----------------------+-------------+-----------------+\n",
      "\n"
     ]
    },
    {
     "name": "stderr",
     "output_type": "stream",
     "text": [
      "                                                                                \r"
     ]
    },
    {
     "name": "stdout",
     "output_type": "stream",
     "text": [
      "-------------------------------------------\n",
      "Batch: 4\n",
      "-------------------------------------------\n",
      "+----+----------------------------------------+-------------------+---------+------+-----------------------+-------------+-------------+\n",
      "|key |value                                   |topic              |partition|offset|timestamp              |timestampType|value_str    |\n",
      "+----+----------------------------------------+-------------------+---------+------+-----------------------+-------------+-------------+\n",
      "|NULL|[42 69 65 6E 20 79 20 75 73 74 65 64 3F]|kafka-spark-example|0        |4     |2025-04-04 14:08:44.933|0            |Bien y usted?|\n",
      "+----+----------------------------------------+-------------------+---------+------+-----------------------+-------------+-------------+\n",
      "\n"
     ]
    },
    {
     "name": "stderr",
     "output_type": "stream",
     "text": [
      "                                                                                \r"
     ]
    },
    {
     "name": "stdout",
     "output_type": "stream",
     "text": [
      "-------------------------------------------\n",
      "Batch: 5\n",
      "-------------------------------------------\n",
      "+----+----------------------------+-------------------+---------+------+-----------------------+-------------+---------+\n",
      "|key |value                       |topic              |partition|offset|timestamp              |timestampType|value_str|\n",
      "+----+----------------------------+-------------------+---------+------+-----------------------+-------------+---------+\n",
      "|NULL|[45 78 63 65 6C 65 6E 74 65]|kafka-spark-example|0        |5     |2025-04-04 14:08:59.205|0            |Excelente|\n",
      "+----+----------------------------+-------------------+---------+------+-----------------------+-------------+---------+\n",
      "\n"
     ]
    },
    {
     "name": "stderr",
     "output_type": "stream",
     "text": [
      "                                                                                \r"
     ]
    },
    {
     "name": "stdout",
     "output_type": "stream",
     "text": [
      "-------------------------------------------\n",
      "Batch: 6\n",
      "-------------------------------------------\n",
      "+----+----------------------------------------------------------------------------------------+-------------------+---------+------+-----------------------+-------------+-----------------------------+\n",
      "|key |value                                                                                   |topic              |partition|offset|timestamp              |timestampType|value_str                    |\n",
      "+----+----------------------------------------------------------------------------------------+-------------------+---------+------+-----------------------+-------------+-----------------------------+\n",
      "|NULL|[43 6F 6D 6F 20 73 65 20 65 6E 63 75 65 6E 74 72 61 20 6C 61 20 66 61 6D 69 6C 69 61 3F]|kafka-spark-example|0        |6     |2025-04-04 14:09:08.308|0            |Como se encuentra la familia?|\n",
      "+----+----------------------------------------------------------------------------------------+-------------------+---------+------+-----------------------+-------------+-----------------------------+\n",
      "\n"
     ]
    },
    {
     "name": "stderr",
     "output_type": "stream",
     "text": [
      "                                                                                \r"
     ]
    },
    {
     "name": "stdout",
     "output_type": "stream",
     "text": [
      "-------------------------------------------\n",
      "Batch: 7\n",
      "-------------------------------------------\n",
      "+----+-------------------------------------------------------------------------+-------------------+---------+------+----------------------+-------------+------------------------+\n",
      "|key |value                                                                    |topic              |partition|offset|timestamp             |timestampType|value_str               |\n",
      "+----+-------------------------------------------------------------------------+-------------------+---------+------+----------------------+-------------+------------------------+\n",
      "|NULL|[4C 65 73 20 66 61 6C 74 61 6E 20 62 61 63 68 65 73 20 6A 61 20 6A 61 73]|kafka-spark-example|0        |7     |2025-04-04 14:09:37.95|0            |Les faltan baches ja jas|\n",
      "+----+-------------------------------------------------------------------------+-------------------+---------+------+----------------------+-------------+------------------------+\n",
      "\n",
      "-------------------------------------------\n",
      "Batch: 8\n",
      "-------------------------------------------\n",
      "+----+-------------------------------------------------------+-------------------+---------+------+-----------------------+-------------+------------------+\n",
      "|key |value                                                  |topic              |partition|offset|timestamp              |timestampType|value_str         |\n",
      "+----+-------------------------------------------------------+-------------------+---------+------+-----------------------+-------------+------------------+\n",
      "|NULL|[4E 6F 20 76 65 61 20 65 73 74 6F 20 70 72 6F 66 65 20]|kafka-spark-example|0        |8     |2025-04-04 14:09:49.038|0            |No vea esto profe |\n",
      "+----+-------------------------------------------------------+-------------------+---------+------+-----------------------+-------------+------------------+\n",
      "\n"
     ]
    },
    {
     "name": "stderr",
     "output_type": "stream",
     "text": [
      "                                                                                \r"
     ]
    },
    {
     "name": "stdout",
     "output_type": "stream",
     "text": [
      "-------------------------------------------\n",
      "Batch: 9\n",
      "-------------------------------------------\n",
      "+----+-------------------------------------------------------------+-------------------+---------+------+-----------------------+-------------+--------------------+\n",
      "|key |value                                                        |topic              |partition|offset|timestamp              |timestampType|value_str           |\n",
      "+----+-------------------------------------------------------------+-------------------+---------+------+-----------------------+-------------+--------------------+\n",
      "|NULL|[55 6E 20 73 61 6C 75 64 6F 20 61 20 6C 61 20 67 72 61 73 61]|kafka-spark-example|0        |9     |2025-04-04 14:09:57.302|0            |Un saludo a la grasa|\n",
      "+----+-------------------------------------------------------------+-------------------+---------+------+-----------------------+-------------+--------------------+\n",
      "\n"
     ]
    },
    {
     "name": "stderr",
     "output_type": "stream",
     "text": [
      "                                                                                \r"
     ]
    },
    {
     "name": "stdout",
     "output_type": "stream",
     "text": [
      "-------------------------------------------\n",
      "Batch: 10\n",
      "-------------------------------------------\n",
      "+----+----------------------------+-------------------+---------+------+-----------------------+-------------+---------+\n",
      "|key |value                       |topic              |partition|offset|timestamp              |timestampType|value_str|\n",
      "+----+----------------------------+-------------------+---------+------+-----------------------+-------------+---------+\n",
      "|NULL|[59 61 20 63 61 6D 62 69 6F]|kafka-spark-example|0        |10    |2025-04-04 14:10:15.048|0            |Ya cambio|\n",
      "+----+----------------------------+-------------------+---------+------+-----------------------+-------------+---------+\n",
      "\n",
      "-------------------------------------------\n",
      "Batch: 11\n",
      "-------------------------------------------\n",
      "+----+-------------------------------------------------------+-------------------+---------+------+-----------------------+-------------+------------------+\n",
      "|key |value                                                  |topic              |partition|offset|timestamp              |timestampType|value_str         |\n",
      "+----+-------------------------------------------------------+-------------------+---------+------+-----------------------+-------------+------------------+\n",
      "|NULL|[43 6F 6D 6F 20 71 75 65 20 35 20 6D 69 6E 75 74 6F 73]|kafka-spark-example|0        |11    |2025-04-04 14:10:34.832|0            |Como que 5 minutos|\n",
      "+----+-------------------------------------------------------+-------------------+---------+------+-----------------------+-------------+------------------+\n",
      "\n"
     ]
    },
    {
     "name": "stderr",
     "output_type": "stream",
     "text": [
      "                                                                                \r"
     ]
    },
    {
     "name": "stdout",
     "output_type": "stream",
     "text": [
      "-------------------------------------------\n",
      "Batch: 12\n",
      "-------------------------------------------\n",
      "+----+-------------------------------------------+-------------------+---------+------+-----------------------+-------------+--------------+\n",
      "|key |value                                      |topic              |partition|offset|timestamp              |timestampType|value_str     |\n",
      "+----+-------------------------------------------+-------------------+---------+------+-----------------------+-------------+--------------+\n",
      "|NULL|[46 61 6C 74 61 20 31 20 6D 69 6E 75 74 6F]|kafka-spark-example|0        |12    |2025-04-04 14:11:42.816|0            |Falta 1 minuto|\n",
      "+----+-------------------------------------------+-------------------+---------+------+-----------------------+-------------+--------------+\n",
      "\n"
     ]
    },
    {
     "data": {
      "text/plain": [
       "False"
      ]
     },
     "execution_count": 5,
     "metadata": {},
     "output_type": "execute_result"
    }
   ],
   "source": [
    "\n",
    "query = kafka_df \\\n",
    "                .writeStream \\\n",
    "                .outputMode(\"append\") \\\n",
    "                .trigger(processingTime='3 seconds') \\\n",
    "                .format(\"console\") \\\n",
    "                .option(\"truncate\", \"false\") \\\n",
    "                .start()\n",
    "\n",
    "query.awaitTermination(300)\n"
   ]
  },
  {
   "cell_type": "code",
   "execution_count": 6,
   "metadata": {},
   "outputs": [],
   "source": [
    "query.stop()"
   ]
  },
  {
   "cell_type": "code",
   "execution_count": 7,
   "metadata": {},
   "outputs": [],
   "source": [
    "sc.stop()"
   ]
  }
 ],
 "metadata": {
  "kernelspec": {
   "display_name": "Python 3 (ipykernel)",
   "language": "python",
   "name": "python3"
  },
  "language_info": {
   "codemirror_mode": {
    "name": "ipython",
    "version": 3
   },
   "file_extension": ".py",
   "mimetype": "text/x-python",
   "name": "python",
   "nbconvert_exporter": "python",
   "pygments_lexer": "ipython3",
   "version": "3.11.6"
  }
 },
 "nbformat": 4,
 "nbformat_minor": 2
}
