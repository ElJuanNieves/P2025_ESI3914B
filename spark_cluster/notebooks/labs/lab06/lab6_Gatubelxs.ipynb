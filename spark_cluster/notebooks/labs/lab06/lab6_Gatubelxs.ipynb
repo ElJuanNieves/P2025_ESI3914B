{
 "cells": [
  {
   "cell_type": "markdown",
   "metadata": {},
   "source": [
    "# <center> <img src=\"../img/ITESOLogo.png\" alt=\"ITESO\" width=\"480\" height=\"130\"> </center>\n",
    "# <center> **Departamento de Electrónica, Sistemas e Informática** </center>\n",
    "---\n",
    "## <center> **Carrera: Ing. en Sistemas Computacionales** </center>\n",
    "---\n",
    "### <center> **Primavera 2025** </center>\n",
    "---\n",
    "\n",
    "**Lab 06**: Netflix\n",
    "\n",
    "**Fecha**: 07 de marzo del 2025\n",
    "\n",
    "**Nombre del Estudiante**: Luis, Benja, Sam\n",
    "\n",
    "**Profesor**: Pablo Camarillo Ramirez"
   ]
  },
  {
   "cell_type": "code",
   "execution_count": 267,
   "metadata": {},
   "outputs": [],
   "source": [
    "import findspark\n",
    "findspark.init()"
   ]
  },
  {
   "cell_type": "code",
   "execution_count": 270,
   "metadata": {},
   "outputs": [],
   "source": [
    "spark = SparkSession.builder \\\n",
    "    .appName(\"SparkSQL-Storage-Solutions\") \\\n",
    "    .master(\"spark://be6296989c4d:7077\") \\\n",
    "    .config(\"spark.ui.port\",\"4040\") \\\n",
    "    .getOrCreate()\n",
    "sc = spark.sparkContext"
   ]
  },
  {
   "cell_type": "code",
   "execution_count": 272,
   "metadata": {},
   "outputs": [
    {
     "name": "stdout",
     "output_type": "stream",
     "text": [
      "root\n",
      " |-- show_id: string (nullable = true)\n",
      " |-- type: string (nullable = true)\n",
      " |-- title: string (nullable = true)\n",
      " |-- director: string (nullable = true)\n",
      " |-- country: string (nullable = true)\n",
      " |-- date_added: string (nullable = true)\n",
      " |-- release_year: string (nullable = true)\n",
      " |-- rating: string (nullable = true)\n",
      " |-- duration: integer (nullable = true)\n",
      " |-- listed_in: string (nullable = true)\n",
      "\n"
     ]
    },
    {
     "name": "stderr",
     "output_type": "stream",
     "text": [
      "[Stage 0:>                                                          (0 + 1) / 1]\r"
     ]
    },
    {
     "name": "stdout",
     "output_type": "stream",
     "text": [
      "+-------+-------+--------------------------------+---------------+-------------+----------+------------+------+--------+-------------------------------------------------------------+\n",
      "|show_id|type   |title                           |director       |country      |date_added|release_year|rating|duration|listed_in                                                    |\n",
      "+-------+-------+--------------------------------+---------------+-------------+----------+------------+------+--------+-------------------------------------------------------------+\n",
      "|s1     |Movie  |Dick Johnson Is Dead            |Kirsten Johnson|United States|9/25/2021 |2020        |PG-13 |NULL    |Documentaries                                                |\n",
      "|s3     |TV Show|Ganglands                       |Julien Leclercq|France       |9/24/2021 |2021        |TV-MA |NULL    |Crime TV Shows, International TV Shows, TV Action & Adventure|\n",
      "|s6     |TV Show|Midnight Mass                   |Mike Flanagan  |United States|9/24/2021 |2021        |TV-MA |NULL    |TV Dramas, TV Horror, TV Mysteries                           |\n",
      "|s14    |Movie  |Confessions of an Invisible Girl|Bruno Garotti  |Brazil       |9/22/2021 |2021        |TV-PG |NULL    |Children & Family Movies, Comedies                           |\n",
      "|s8     |Movie  |Sankofa                         |Haile Gerima   |United States|9/24/2021 |1993        |TV-MA |NULL    |Dramas, Independent Movies, International Movies             |\n",
      "+-------+-------+--------------------------------+---------------+-------------+----------+------------+------+--------+-------------------------------------------------------------+\n",
      "only showing top 5 rows\n",
      "\n"
     ]
    },
    {
     "name": "stderr",
     "output_type": "stream",
     "text": [
      "                                                                                \r"
     ]
    }
   ],
   "source": [
    "from gatubelxs.spark_utils import SparkUtils\n",
    "netflis_schema = SparkUtils.generate_schema([('show_id','string'),('type','string'),('title','string'),('director','string'),('country','string'),('date_added','string'),('release_year','string'),('rating','string'),('duration', 'integer'),('listed_in','string')])\n",
    "\n",
    "netflis_df = spark.read \\\n",
    "                .schema(netflis_schema) \\\n",
    "                .option(\"header\", \"true\") \\\n",
    "                .csv(\"/home/jovyan/notebooks/data/netflix1.csv\")\n",
    "\n",
    "netflis_df.printSchema()\n",
    "\n",
    "netflis_df.show(5, truncate=False)"
   ]
  },
  {
   "cell_type": "code",
   "execution_count": null,
   "metadata": {},
   "outputs": [],
   "source": []
  }
 ],
 "metadata": {
  "kernelspec": {
   "display_name": "Python 3 (ipykernel)",
   "language": "python",
   "name": "python3"
  },
  "language_info": {
   "codemirror_mode": {
    "name": "ipython",
    "version": 3
   },
   "file_extension": ".py",
   "mimetype": "text/x-python",
   "name": "python",
   "nbconvert_exporter": "python",
   "pygments_lexer": "ipython3",
   "version": "3.11.6"
  }
 },
 "nbformat": 4,
 "nbformat_minor": 2
}
