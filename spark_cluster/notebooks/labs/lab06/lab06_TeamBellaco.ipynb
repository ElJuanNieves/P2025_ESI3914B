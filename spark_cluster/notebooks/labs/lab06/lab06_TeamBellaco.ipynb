{
 "cells": [
  {
   "cell_type": "markdown",
   "metadata": {},
   "source": [
    "# <center> <img src=\"../img/ITESOLogo.png\" alt=\"ITESO\" width=\"480\" height=\"130\"> </center>\n",
    "# <center> **Departamento de Electrónica, Sistemas e Informática** </center>\n",
    "---\n",
    "## <center> **Carrera: Ingenieria de Sistemas Computacionales** </center>\n",
    "---\n",
    "### <center> **Primavera 2025** </center>\n",
    "---\n",
    "\n",
    "**Lab 06**: Big Data Pipeline for Netflix data\n",
    "\n",
    "**Fecha**:21/02/2025\n",
    "\n",
    "**Nombre del Estudiante**:David Abraham Naranjo Salgado, Benjamin Leonardo Zarate Solano y Angel David Cortes Pacheco\n",
    "\n",
    "**Profesor**: Pablo Camarillo Ramirez"
   ]
  },
  {
   "cell_type": "code",
   "execution_count": 23,
   "metadata": {},
   "outputs": [],
   "source": [
    "import findspark\n",
    "findspark.init()"
   ]
  },
  {
   "cell_type": "markdown",
   "metadata": {},
   "source": [
    "#### Creacion de la conexión con el cluster de spark\n"
   ]
  },
  {
   "cell_type": "code",
   "execution_count": null,
   "metadata": {},
   "outputs": [],
   "source": [
    "from pyspark.sql import SparkSession\n",
    "\n",
    "spark = SparkSession.builder \\\n",
    "    .appName(\"SparkSQL-Storage-Solutions\") \\\n",
    "    .master(\"spark://a343afeb5c7a:7077\") \\\n",
    "    .config(\"spark.ui.port\",\"4040\") \\\n",
    "    .getOrCreate()\n",
    "sc = spark.sparkContext"
   ]
  },
  {
   "cell_type": "markdown",
   "metadata": {},
   "source": [
    "### Netflix service"
   ]
  },
  {
   "cell_type": "code",
   "execution_count": null,
   "metadata": {},
   "outputs": [
    {
     "name": "stdout",
     "output_type": "stream",
     "text": [
      "root\n",
      " |-- show_id: string (nullable = true)\n",
      " |-- show_info: string (nullable = true)\n",
      "\n"
     ]
    },
    {
     "name": "stderr",
     "output_type": "stream",
     "text": [
      "[Stage 53:>                                                         (0 + 1) / 1]\r"
     ]
    },
    {
     "name": "stdout",
     "output_type": "stream",
     "text": [
      "+-------+---------+\n",
      "|show_id|show_info|\n",
      "+-------+---------+\n",
      "|s1     |Movie    |\n",
      "|s3     |TV Show  |\n",
      "|s6     |TV Show  |\n",
      "|s14    |Movie    |\n",
      "|s8     |Movie    |\n",
      "+-------+---------+\n",
      "only showing top 5 rows\n",
      "\n"
     ]
    },
    {
     "name": "stderr",
     "output_type": "stream",
     "text": [
      "                                                                                \r"
     ]
    }
   ],
   "source": [
    "from team_name.spark_utils import SparkUtils\n",
    "\n",
    "netflix_schema = SparkUtils.generate_schema([(\"show_id\", \"string\"), (\"type\", \"string\")])\n",
    "\n",
    "show_df = spark.read \\\n",
    "                .schema(netflix_schema) \\\n",
    "                .option(\"header\", \"true\") \\\n",
    "                .csv(\"/home/jovyan/notebooks/data/netflix1.csv\")\n",
    "\n",
    "\n",
    "show_df.printSchema()\n",
    "\n",
    "show_df.show(5, truncate=False)\n"
   ]
  },
  {
   "cell_type": "code",
   "execution_count": null,
   "metadata": {},
   "outputs": [
    {
     "name": "stderr",
     "output_type": "stream",
     "text": [
      "[Stage 1:>                                                          (0 + 1) / 1]\r"
     ]
    },
    {
     "name": "stdout",
     "output_type": "stream",
     "text": [
      "+---------+-----------------------------------------------------+-------------+\n",
      "|agency_id|agency_info                                          |agency_name  |\n",
      "+---------+-----------------------------------------------------+-------------+\n",
      "|1        |{'agency_name': 'NYC Rentals', 'city': 'New York'}   |NYC Rentals  |\n",
      "|2        |{'agency_name': 'LA Car Rental', 'city': 'Londres'}  |LA Car Rental|\n",
      "|3        |{'agency_name': 'Zapopan Auto', 'city': 'Zapopan'}   |Zapopan Auto |\n",
      "|4        |{'agency_name': 'SF Cars', 'city': 'San Francisco'}  |SF Cars      |\n",
      "|5        |{'agency_name': 'Mexico Cars', 'city': 'Mexico City'}|Mexico Cars  |\n",
      "+---------+-----------------------------------------------------+-------------+\n",
      "\n"
     ]
    },
    {
     "name": "stderr",
     "output_type": "stream",
     "text": [
      "                                                                                \r"
     ]
    }
   ],
   "source": [
    "from pyspark.sql.functions import get_json_object\n",
    "agencies_df = agencies_df.withColumn(\"agency_name\", get_json_object(agencies_df.agency_info, \"$.agency_name\"))\n",
    "agencies_df.show(truncate=False)"
   ]
  },
  {
   "cell_type": "code",
   "execution_count": null,
   "metadata": {},
   "outputs": [
    {
     "name": "stdout",
     "output_type": "stream",
     "text": [
      "root\n",
      " |-- brand_id: integer (nullable = true)\n",
      " |-- brand_info: string (nullable = true)\n",
      "\n"
     ]
    },
    {
     "name": "stderr",
     "output_type": "stream",
     "text": [
      "[Stage 2:>                                                          (0 + 1) / 1]\r"
     ]
    },
    {
     "name": "stdout",
     "output_type": "stream",
     "text": [
      "+--------+------------------------------------------------------+-------------+\n",
      "|brand_id|brand_info                                            |brand_name   |\n",
      "+--------+------------------------------------------------------+-------------+\n",
      "|1       |{'brand_name': 'Mercedes-Benz', 'country': 'Tanzania'}|Mercedes-Benz|\n",
      "|2       |{'brand_name': 'BMW', 'country': 'Hungary'}           |BMW          |\n",
      "|3       |{'brand_name': 'Audi', 'country': 'Senegal'}          |Audi         |\n",
      "|4       |{'brand_name': 'Ford', 'country': 'Tuvalu'}           |Ford         |\n",
      "|5       |{'brand_name': 'BYD', 'country': 'Italy'}             |BYD          |\n",
      "+--------+------------------------------------------------------+-------------+\n",
      "only showing top 5 rows\n",
      "\n"
     ]
    },
    {
     "name": "stderr",
     "output_type": "stream",
     "text": [
      "                                                                                \r"
     ]
    }
   ],
   "source": [
    "brands_schema = SparkUtils.generate_schema([(\"brand_id\", \"integer\"), (\"brand_info\", \"string\")])\n",
    "brands_df = spark.read.option(\"header\", \"true\").schema(brands_schema).csv(\"/home/jovyan/notebooks/data/rentals_dataset/brands.csv\")\n",
    "brands_df.printSchema()\n",
    "brands_df = brands_df.withColumn(\"brand_name\", get_json_object(brands_df.brand_info, \"$.brand_name\"))\n",
    "brands_df.show(5, truncate=False)"
   ]
  },
  {
   "cell_type": "code",
   "execution_count": null,
   "metadata": {},
   "outputs": [
    {
     "name": "stdout",
     "output_type": "stream",
     "text": [
      "root\n",
      " |-- car_id: integer (nullable = true)\n",
      " |-- car_info: string (nullable = true)\n",
      "\n",
      "+------+-------------------------------------------------------------------------------------+---------------------------------+--------+\n",
      "|car_id|car_info                                                                             |car_name                         |brand_id|\n",
      "+------+-------------------------------------------------------------------------------------+---------------------------------+--------+\n",
      "|1     |{'car_name': 'Tucker, Hull and Gallegos Model 1', 'brand_id': 5, 'price_per_day': 68}|Tucker, Hull and Gallegos Model 1|5       |\n",
      "|2     |{'car_name': 'Howard-Snow Model 7', 'brand_id': 5, 'price_per_day': 55}              |Howard-Snow Model 7              |5       |\n",
      "|3     |{'car_name': 'Wagner LLC Model 2', 'brand_id': 2, 'price_per_day': 194}              |Wagner LLC Model 2               |2       |\n",
      "|4     |{'car_name': 'Campos PLC Model 8', 'brand_id': 1, 'price_per_day': 107}              |Campos PLC Model 8               |1       |\n",
      "|5     |{'car_name': 'Archer-Patel Model 3', 'brand_id': 4, 'price_per_day': 136}            |Archer-Patel Model 3             |4       |\n",
      "+------+-------------------------------------------------------------------------------------+---------------------------------+--------+\n",
      "only showing top 5 rows\n",
      "\n"
     ]
    }
   ],
   "source": [
    "cars_schema = SparkUtils.generate_schema([(\"car_id\", \"integer\"), (\"car_info\", \"string\")])\n",
    "cars_df = spark.read.option(\"header\", \"true\").schema(cars_schema).csv(\"/home/jovyan/notebooks/data/rentals_dataset/cars.csv\")\n",
    "cars_df.printSchema()\n",
    "cars_df = cars_df.withColumn(\"car_name\", get_json_object(cars_df.car_info, \"$.car_name\")) \\\n",
    "                .withColumn(\"brand_id\", get_json_object(cars_df.car_info, \"$.brand_id\")) \n",
    "cars_df.show(5, truncate=False)"
   ]
  },
  {
   "cell_type": "code",
   "execution_count": null,
   "metadata": {},
   "outputs": [
    {
     "name": "stdout",
     "output_type": "stream",
     "text": [
      "root\n",
      " |-- customer_id: integer (nullable = true)\n",
      " |-- customer_info: string (nullable = true)\n",
      "\n"
     ]
    },
    {
     "name": "stderr",
     "output_type": "stream",
     "text": [
      "[Stage 4:>                                                          (0 + 1) / 1]\r"
     ]
    },
    {
     "name": "stdout",
     "output_type": "stream",
     "text": [
      "+-----------+--------------------+-------------------+\n",
      "|customer_id|       customer_info|      customer_name|\n",
      "+-----------+--------------------+-------------------+\n",
      "|          1|{'customer_name':...|  Martin Graves DVM|\n",
      "|          2|{'customer_name':...|   Frederick Wilson|\n",
      "|          3|{'customer_name':...|       Gabriela Lee|\n",
      "|          4|{'customer_name':...|     Devin Thornton|\n",
      "|          5|{'customer_name':...|Christopher Simmons|\n",
      "+-----------+--------------------+-------------------+\n",
      "only showing top 5 rows\n",
      "\n"
     ]
    },
    {
     "name": "stderr",
     "output_type": "stream",
     "text": [
      "                                                                                \r"
     ]
    }
   ],
   "source": [
    "customers_schema = SparkUtils.generate_schema([(\"customer_id\", \"integer\"), (\"customer_info\", \"string\")])\n",
    "customers_df = spark.read.option(\"header\", \"true\").schema(customers_schema).csv(\"/home/jovyan/notebooks/data/rentals_dataset/customers.csv\")\n",
    "customers_df.printSchema()\n",
    "customers_df = customers_df.withColumn(\"customer_name\", get_json_object(customers_df.customer_info, \"$.customer_name\"))\n",
    "customers_df.show(5, truncate=True)"
   ]
  },
  {
   "cell_type": "code",
   "execution_count": null,
   "metadata": {},
   "outputs": [
    {
     "name": "stdout",
     "output_type": "stream",
     "text": [
      "root\n",
      " |-- rental_id: integer (nullable = true)\n",
      " |-- rental_info: string (nullable = true)\n",
      "\n"
     ]
    },
    {
     "name": "stderr",
     "output_type": "stream",
     "text": [
      "[Stage 5:>                                                          (0 + 1) / 1]\r"
     ]
    },
    {
     "name": "stdout",
     "output_type": "stream",
     "text": [
      "+---------+--------------------------------------------------+\n",
      "|rental_id|rental_info                                       |\n",
      "+---------+--------------------------------------------------+\n",
      "|12740    |{'car_id': 23, 'customer_id': 42, 'agency_id': 1} |\n",
      "|12741    |{'car_id': 19, 'customer_id': 146, 'agency_id': 2}|\n",
      "|12742    |{'car_id': 24, 'customer_id': 143, 'agency_id': 3}|\n",
      "|12743    |{'car_id': 22, 'customer_id': 90, 'agency_id': 4} |\n",
      "|12744    |{'car_id': 9, 'customer_id': 115, 'agency_id': 3} |\n",
      "+---------+--------------------------------------------------+\n",
      "only showing top 5 rows\n",
      "\n"
     ]
    },
    {
     "name": "stderr",
     "output_type": "stream",
     "text": [
      "                                                                                \r"
     ]
    }
   ],
   "source": [
    "rental_cars_schema = SparkUtils.generate_schema([(\"rental_id\", \"integer\"), (\"rental_info\", \"string\")])\n",
    "rental_cars_df = spark.read.option(\"header\", \"true\").schema(rental_cars_schema).csv(\"/home/jovyan/notebooks/data/rentals_dataset/rentals/\")\n",
    "rental_cars_df.printSchema()\n",
    "rental_cars_df.show(5, truncate=False)"
   ]
  },
  {
   "cell_type": "code",
   "execution_count": null,
   "metadata": {},
   "outputs": [
    {
     "name": "stdout",
     "output_type": "stream",
     "text": [
      "+---------+--------------------------------------------------+------+-----------+---------+\n",
      "|rental_id|rental_info                                       |car_id|customer_id|agency_id|\n",
      "+---------+--------------------------------------------------+------+-----------+---------+\n",
      "|12740    |{'car_id': 23, 'customer_id': 42, 'agency_id': 1} |23    |42         |1        |\n",
      "|12741    |{'car_id': 19, 'customer_id': 146, 'agency_id': 2}|19    |146        |2        |\n",
      "|12742    |{'car_id': 24, 'customer_id': 143, 'agency_id': 3}|24    |143        |3        |\n",
      "|12743    |{'car_id': 22, 'customer_id': 90, 'agency_id': 4} |22    |90         |4        |\n",
      "|12744    |{'car_id': 9, 'customer_id': 115, 'agency_id': 3} |9     |115        |3        |\n",
      "+---------+--------------------------------------------------+------+-----------+---------+\n",
      "only showing top 5 rows\n",
      "\n"
     ]
    }
   ],
   "source": [
    "rental_cars_df = rental_cars_df.withColumn(\"car_id\", get_json_object(rental_cars_df.rental_info, '$.car_id')) \\\n",
    "                            .withColumn(\"customer_id\", get_json_object(rental_cars_df.rental_info, '$.customer_id')) \\\n",
    "                            .withColumn(\"agency_id\", get_json_object(rental_cars_df.rental_info, '$.agency_id'))\n",
    "\n",
    "rental_cars_df.show(5, truncate=False)"
   ]
  },
  {
   "cell_type": "code",
   "execution_count": null,
   "metadata": {},
   "outputs": [
    {
     "name": "stderr",
     "output_type": "stream",
     "text": [
      "                                                                                \r"
     ]
    },
    {
     "name": "stdout",
     "output_type": "stream",
     "text": [
      "+---------+--------------------------------------------------+------+-----------+---------+------+-----------------------------------------------------------------------------------+-------------------------------+--------+---------+---------------------------------------------------+-------------+-----------+------------------------------------------------------------------------+---------------+\n",
      "|rental_id|rental_info                                       |car_id|customer_id|agency_id|car_id|car_info                                                                           |car_name                       |brand_id|agency_id|agency_info                                        |agency_name  |customer_id|customer_info                                                           |customer_name  |\n",
      "+---------+--------------------------------------------------+------+-----------+---------+------+-----------------------------------------------------------------------------------+-------------------------------+--------+---------+---------------------------------------------------+-------------+-----------+------------------------------------------------------------------------+---------------+\n",
      "|12740    |{'car_id': 23, 'customer_id': 42, 'agency_id': 1} |23    |42         |1        |23    |{'car_name': 'Salazar Ltd Model 6', 'brand_id': 6, 'price_per_day': 163}           |Salazar Ltd Model 6            |6       |1        |{'agency_name': 'NYC Rentals', 'city': 'New York'} |NYC Rentals  |42         |{'customer_name': 'Sara Anderson', 'city': 'Monterrey', 'age': 30}      |Sara Anderson  |\n",
      "|12741    |{'car_id': 19, 'customer_id': 146, 'agency_id': 2}|19    |146        |2        |19    |{'car_name': 'Harris, Lloyd and Payne Model 4', 'brand_id': 2, 'price_per_day': 91}|Harris, Lloyd and Payne Model 4|2       |2        |{'agency_name': 'LA Car Rental', 'city': 'Londres'}|LA Car Rental|146        |{'customer_name': 'Calvin Walker', 'city': 'Mexico City', 'age': 29}    |Calvin Walker  |\n",
      "|12742    |{'car_id': 24, 'customer_id': 143, 'agency_id': 3}|24    |143        |3        |24    |{'car_name': 'Alvarez-Davis Model 6', 'brand_id': 7, 'price_per_day': 104}         |Alvarez-Davis Model 6          |7       |3        |{'agency_name': 'Zapopan Auto', 'city': 'Zapopan'} |Zapopan Auto |143        |{'customer_name': 'Shawn Tran', 'city': 'Monterrey', 'age': 24}         |Shawn Tran     |\n",
      "|12743    |{'car_id': 22, 'customer_id': 90, 'agency_id': 4} |22    |90         |4        |22    |{'car_name': 'Lopez and Sons Model 3', 'brand_id': 2, 'price_per_day': 141}        |Lopez and Sons Model 3         |2       |4        |{'agency_name': 'SF Cars', 'city': 'San Francisco'}|SF Cars      |90         |{'customer_name': 'Edward Mccarthy', 'city': 'San Francisco', 'age': 48}|Edward Mccarthy|\n",
      "|12744    |{'car_id': 9, 'customer_id': 115, 'agency_id': 3} |9     |115        |3        |9     |{'car_name': 'Levy Group Model 8', 'brand_id': 1, 'price_per_day': 57}             |Levy Group Model 8             |1       |3        |{'agency_name': 'Zapopan Auto', 'city': 'Zapopan'} |Zapopan Auto |115        |{'customer_name': 'Antonio Haynes', 'city': 'Mexico City', 'age': 25}   |Antonio Haynes |\n",
      "+---------+--------------------------------------------------+------+-----------+---------+------+-----------------------------------------------------------------------------------+-------------------------------+--------+---------+---------------------------------------------------+-------------+-----------+------------------------------------------------------------------------+---------------+\n",
      "only showing top 5 rows\n",
      "\n"
     ]
    }
   ],
   "source": [
    "rental_cars_df = rental_cars_df.join(cars_df, rental_cars_df.car_id == cars_df.car_id, \"inner\") \\\n",
    "                                .join(agencies_df, rental_cars_df.agency_id == agencies_df.agency_id, \"inner\") \\\n",
    "                                .join(customers_df, rental_cars_df.customer_id == customers_df.customer_id, \"inner\")\n",
    "\n",
    "rental_cars_df.show(5, truncate=False)"
   ]
  },
  {
   "cell_type": "code",
   "execution_count": null,
   "metadata": {},
   "outputs": [],
   "source": [
    "# Final result\n",
    "rental_cars_df = rental_cars_df.select(\"rental_id\", \"car_name\", \"agency_name\", \"customer_name\")"
   ]
  },
  {
   "cell_type": "code",
   "execution_count": null,
   "metadata": {},
   "outputs": [
    {
     "name": "stdout",
     "output_type": "stream",
     "text": [
      "+---------+-------------------------------+-------------+---------------+\n",
      "|rental_id|car_name                       |agency_name  |customer_name  |\n",
      "+---------+-------------------------------+-------------+---------------+\n",
      "|12740    |Salazar Ltd Model 6            |NYC Rentals  |Sara Anderson  |\n",
      "|12741    |Harris, Lloyd and Payne Model 4|LA Car Rental|Calvin Walker  |\n",
      "|12742    |Alvarez-Davis Model 6          |Zapopan Auto |Shawn Tran     |\n",
      "|12743    |Lopez and Sons Model 3         |SF Cars      |Edward Mccarthy|\n",
      "|12744    |Levy Group Model 8             |Zapopan Auto |Antonio Haynes |\n",
      "+---------+-------------------------------+-------------+---------------+\n",
      "only showing top 5 rows\n",
      "\n"
     ]
    }
   ],
   "source": [
    "rental_cars_df.show(5, truncate=False)"
   ]
  },
  {
   "cell_type": "code",
   "execution_count": null,
   "metadata": {},
   "outputs": [],
   "source": [
    "rental_cars_df.createOrReplaceTempView(\"rentals\")"
   ]
  },
  {
   "cell_type": "code",
   "execution_count": null,
   "metadata": {},
   "outputs": [
    {
     "name": "stderr",
     "output_type": "stream",
     "text": [
      "                                                                                \r"
     ]
    },
    {
     "name": "stdout",
     "output_type": "stream",
     "text": [
      "+---------+---------------+\n",
      "|rental_id|  customer_name|\n",
      "+---------+---------------+\n",
      "|    12740|  Sara Anderson|\n",
      "|    12741|  Calvin Walker|\n",
      "|    12742|     Shawn Tran|\n",
      "|    12743|Edward Mccarthy|\n",
      "|    12744| Antonio Haynes|\n",
      "+---------+---------------+\n",
      "only showing top 5 rows\n",
      "\n"
     ]
    }
   ],
   "source": [
    "spark.sql(\"SELECT rental_id, customer_name FROM rentals\").show(5)"
   ]
  },
  {
   "cell_type": "code",
   "execution_count": null,
   "metadata": {},
   "outputs": [
    {
     "name": "stderr",
     "output_type": "stream",
     "text": [
      "[Stage 22:=============================>                            (1 + 1) / 2]\r"
     ]
    },
    {
     "name": "stdout",
     "output_type": "stream",
     "text": [
      "+-------------+-------------+\n",
      "|  agency_name|rentals_count|\n",
      "+-------------+-------------+\n",
      "| Zapopan Auto|         4425|\n",
      "|LA Car Rental|         4451|\n",
      "|      SF Cars|         4481|\n",
      "|  NYC Rentals|         4477|\n",
      "+-------------+-------------+\n",
      "\n"
     ]
    },
    {
     "name": "stderr",
     "output_type": "stream",
     "text": [
      "                                                                                \r"
     ]
    }
   ],
   "source": [
    "spark.sql(\"SELECT agency_name, count(*) as rentals_count FROM rentals GROUP BY agency_name\").show()"
   ]
  },
  {
   "cell_type": "markdown",
   "metadata": {},
   "source": [
    "#### Register temporal views"
   ]
  },
  {
   "cell_type": "code",
   "execution_count": null,
   "metadata": {},
   "outputs": [],
   "source": [
    "agencies_df.createOrReplaceTempView(\"agencies\")\n",
    "brands_df.createOrReplaceTempView(\"brands\")\n",
    "customers_df.createOrReplaceTempView(\"customers\")\n",
    "rental_cars_df.createOrReplaceTempView(\"rentals\")\n",
    "cars_df.createOrReplaceTempView(\"cars\")"
   ]
  },
  {
   "cell_type": "markdown",
   "metadata": {},
   "source": [
    "#### Identify the most popular car brands by the number of rentals"
   ]
  },
  {
   "cell_type": "code",
   "execution_count": null,
   "metadata": {},
   "outputs": [
    {
     "name": "stdout",
     "output_type": "stream",
     "text": [
      "+------+--------------------+-------------+\n",
      "|car_id|            car_name|   brand_name|\n",
      "+------+--------------------+-------------+\n",
      "|     1|Tucker, Hull and ...|          BYD|\n",
      "|     2| Howard-Snow Model 7|          BYD|\n",
      "|     3|  Wagner LLC Model 2|          BMW|\n",
      "|     4|  Campos PLC Model 8|Mercedes-Benz|\n",
      "|     5|Archer-Patel Model 3|         Ford|\n",
      "+------+--------------------+-------------+\n",
      "only showing top 5 rows\n",
      "\n"
     ]
    },
    {
     "name": "stderr",
     "output_type": "stream",
     "text": [
      "                                                                                \r"
     ]
    }
   ],
   "source": [
    "# Re create cars view\n",
    "cars_df = spark.read.option(\"header\", \"true\").schema(cars_schema).csv(\"/home/jovyan/notebooks/data/rentals_dataset/cars.csv\")\n",
    "cars_df.createOrReplaceTempView(\"cars\")\n",
    "cars_df = spark.sql(\"\"\"\n",
    "                    SELECT c.car_id, \n",
    "                           get_json_object(c.car_info, '$.car_name') AS car_name,\n",
    "                           get_json_object(b.brand_info, '$.brand_name') AS brand_name\n",
    "                    FROM cars c \n",
    "                    JOIN brands b\n",
    "                    ON get_json_object(c.car_info, '$.brand_id') = b.brand_id\n",
    "                    \"\"\")\n",
    "cars_df.createOrReplaceTempView(\"cars\")\n",
    "spark.sql(\"SELECT * FROM cars\").show(5)"
   ]
  },
  {
   "cell_type": "code",
   "execution_count": null,
   "metadata": {},
   "outputs": [
    {
     "name": "stderr",
     "output_type": "stream",
     "text": [
      "[Stage 31:>                                                         (0 + 1) / 1]\r"
     ]
    },
    {
     "name": "stdout",
     "output_type": "stream",
     "text": [
      "+----------+------------+\n",
      "|brand_name|rental_count|\n",
      "+----------+------------+\n",
      "|       BMW|        5471|\n",
      "|     Honda|        4258|\n",
      "|      Ford|        2473|\n",
      "+----------+------------+\n",
      "\n"
     ]
    },
    {
     "name": "stderr",
     "output_type": "stream",
     "text": [
      "                                                                                \r"
     ]
    }
   ],
   "source": [
    "# Re create rentals view\n",
    "rental_cars_df = spark.read.option(\"header\", \"true\").schema(rental_cars_schema).csv(\"/home/jovyan/notebooks/data/rentals_dataset/rentals/\")\n",
    "rental_cars_df.createOrReplaceTempView(\"rentals\")\n",
    "rental_cars_df = spark.sql(\"\"\"\n",
    "            SELECT r.rental_id,\n",
    "                   c.car_name,\n",
    "                   c.brand_name,\n",
    "                   a.agency_name,\n",
    "                   cus.customer_name\n",
    "            FROM rentals r\n",
    "            JOIN cars c ON get_json_object(r.rental_info, '$.car_id') = c.car_id\n",
    "            JOIN agencies a ON get_json_object(r.rental_info, '$.agency_id') = a.agency_id\n",
    "            JOIN customers cus ON get_json_object(r.rental_info, '$.customer_id') = cus.customer_id\n",
    "          \"\"\")\n",
    "rental_cars_df.createOrReplaceTempView(\"rentals\")\n",
    "\n",
    "spark.sql(\"\"\"\n",
    "          SELECT brand_name, count(*) AS rental_count FROM rentals \n",
    "          GROUP BY brand_name ORDER BY rental_count DESC LIMIT 3\n",
    "          \"\"\").show()"
   ]
  },
  {
   "cell_type": "markdown",
   "metadata": {},
   "source": [
    "#### Find the top 5 customers"
   ]
  },
  {
   "cell_type": "code",
   "execution_count": null,
   "metadata": {},
   "outputs": [
    {
     "name": "stderr",
     "output_type": "stream",
     "text": [
      "[Stage 38:>                                                         (0 + 1) / 1]\r"
     ]
    },
    {
     "name": "stdout",
     "output_type": "stream",
     "text": [
      "+-----------------+------------+\n",
      "|    customer_name|rental_count|\n",
      "+-----------------+------------+\n",
      "|Catherine Alvarez|         136|\n",
      "|    Travis Butler|         133|\n",
      "|     Corey Wilson|         132|\n",
      "|      Ronald Hall|         131|\n",
      "|    Cynthia White|         131|\n",
      "+-----------------+------------+\n",
      "\n"
     ]
    },
    {
     "name": "stderr",
     "output_type": "stream",
     "text": [
      "                                                                                \r"
     ]
    }
   ],
   "source": [
    "spark.sql(\"\"\"\n",
    "            SELECT customer_name, count(*) AS rental_count FROM rentals GROUP BY customer_name ORDER BY rental_count DESC LIMIT 5\n",
    "          \"\"\").show()"
   ]
  },
  {
   "cell_type": "markdown",
   "metadata": {},
   "source": [
    "#### Find which car generate the most revenue"
   ]
  },
  {
   "cell_type": "code",
   "execution_count": null,
   "metadata": {},
   "outputs": [
    {
     "name": "stderr",
     "output_type": "stream",
     "text": [
      "                                                                                \r"
     ]
    },
    {
     "name": "stdout",
     "output_type": "stream",
     "text": [
      "+--------------------+------------+\n",
      "|            car_name|rental_count|\n",
      "+--------------------+------------+\n",
      "|Bryan, Barnes and...|         654|\n",
      "|Clayton-Cook Mode...|         653|\n",
      "|Summers, Barnett ...|         653|\n",
      "|Harris, Lloyd and...|         649|\n",
      "|Myers, Thornton a...|         643|\n",
      "+--------------------+------------+\n",
      "\n"
     ]
    }
   ],
   "source": [
    "spark.sql(\"SELECT car_name, count(*) AS rental_count FROM rentals GROUP BY car_name ORDER BY rental_count DESC LIMIT 5\").show()"
   ]
  },
  {
   "cell_type": "markdown",
   "metadata": {},
   "source": [
    "#### Persist data"
   ]
  },
  {
   "cell_type": "code",
   "execution_count": null,
   "metadata": {},
   "outputs": [
    {
     "name": "stderr",
     "output_type": "stream",
     "text": [
      "                                                                                \r"
     ]
    }
   ],
   "source": [
    "rental_cars_df.write \\\n",
    "                .mode(\"overwrite\") \\\n",
    "                .partitionBy(\"agency_name\") \\\n",
    "                .parquet(\"/home/jovyan/notebooks/data/rentals_output/\")"
   ]
  },
  {
   "cell_type": "code",
   "execution_count": null,
   "metadata": {},
   "outputs": [],
   "source": [
    "# Stop the SparkContext\n",
    "sc.stop()"
   ]
  }
 ],
 "metadata": {
  "kernelspec": {
   "display_name": "Python 3 (ipykernel)",
   "language": "python",
   "name": "python3"
  },
  "language_info": {
   "codemirror_mode": {
    "name": "ipython",
    "version": 3
   },
   "file_extension": ".py",
   "mimetype": "text/x-python",
   "name": "python",
   "nbconvert_exporter": "python",
   "pygments_lexer": "ipython3",
   "version": "3.11.6"
  }
 },
 "nbformat": 4,
 "nbformat_minor": 2
}
