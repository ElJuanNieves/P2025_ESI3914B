{
 "cells": [
  {
   "cell_type": "markdown",
   "metadata": {},
   "source": [
    "# <center> <img src=\"../img/ITESOLogo.png\" alt=\"ITESO\" width=\"480\" height=\"130\"> </center>\n",
    "# <center> **Departamento de Electrónica, Sistemas e Informática** </center>\n",
    "---\n",
    "## <center> **Procesamiento de Datos Masivos** </center>\n",
    "---\n",
    "### <center> **Primavera 2025** </center>\n",
    "---\n",
    "### <center> **Heart attack prediction with Logistic Regression ** </center>\n",
    "\n",
    "---\n",
    "**Profesor**: Dr. Pablo Camarillo Ramirez\n",
    "\n",
    "---\n",
    "**Alumnos**: David Abraham Naranjo, Benjamin Zarate y Angel Cortes"
   ]
  },
  {
   "cell_type": "code",
   "execution_count": 2,
   "metadata": {},
   "outputs": [],
   "source": [
    "import findspark\n",
    "findspark.init()"
   ]
  },
  {
   "cell_type": "markdown",
   "metadata": {},
   "source": [
    "#### Creacion de la conexión con el cluster de spark\n"
   ]
  },
  {
   "cell_type": "code",
   "execution_count": 3,
   "metadata": {},
   "outputs": [
    {
     "name": "stderr",
     "output_type": "stream",
     "text": [
      "Setting default log level to \"WARN\".\n",
      "To adjust logging level use sc.setLogLevel(newLevel). For SparkR, use setLogLevel(newLevel).\n",
      "25/04/30 16:12:58 WARN NativeCodeLoader: Unable to load native-hadoop library for your platform... using builtin-java classes where applicable\n"
     ]
    }
   ],
   "source": [
    "from pyspark.sql import SparkSession\n",
    "\n",
    "spark = SparkSession.builder \\\n",
    "    .appName(\"Heart attack prediction with Logistic Regression\") \\\n",
    "    .master(\"spark://spark-master:7077\") \\\n",
    "    .config(\"spark.ui.port\",\"4040\") \\\n",
    "    .getOrCreate()\n",
    "sc = spark.sparkContext\n",
    "spark.conf.set(\"spark.sql.shuffle.partitions\", \"5\")"
   ]
  },
  {
   "cell_type": "markdown",
   "metadata": {},
   "source": [
    "### Leer el csv"
   ]
  },
  {
   "cell_type": "code",
   "execution_count": 4,
   "metadata": {},
   "outputs": [
    {
     "name": "stdout",
     "output_type": "stream",
     "text": [
      "root\n",
      " |-- male: integer (nullable = true)\n",
      " |-- age: integer (nullable = true)\n",
      " |-- education: integer (nullable = true)\n",
      " |-- currentSmoker: integer (nullable = true)\n",
      " |-- cigsPerDay: integer (nullable = true)\n",
      " |-- BPMeds: integer (nullable = true)\n",
      " |-- prevalentStroke: integer (nullable = true)\n",
      " |-- prevalentHyp: integer (nullable = true)\n",
      " |-- diabetes: integer (nullable = true)\n",
      " |-- totChol: float (nullable = true)\n",
      " |-- sysBP: float (nullable = true)\n",
      " |-- diaBP: float (nullable = true)\n",
      " |-- BMI: float (nullable = true)\n",
      " |-- heartRate: float (nullable = true)\n",
      " |-- glucose: float (nullable = true)\n",
      " |-- TenYearCHD: integer (nullable = true)\n",
      "\n"
     ]
    },
    {
     "name": "stderr",
     "output_type": "stream",
     "text": [
      "                                                                                \r"
     ]
    },
    {
     "name": "stdout",
     "output_type": "stream",
     "text": [
      "+----+---+---------+-------------+----------+------+---------------+------------+--------+-------+-----+-----+-----+---------+-------+----------+\n",
      "|male|age|education|currentSmoker|cigsPerDay|BPMeds|prevalentStroke|prevalentHyp|diabetes|totChol|sysBP|diaBP|  BMI|heartRate|glucose|TenYearCHD|\n",
      "+----+---+---------+-------------+----------+------+---------------+------------+--------+-------+-----+-----+-----+---------+-------+----------+\n",
      "|   1| 39|        4|            0|         0|     0|              0|           0|       0|  195.0|106.0| 70.0|26.97|     80.0|   77.0|         0|\n",
      "|   0| 46|        2|            0|         0|     0|              0|           0|       0|  250.0|121.0| 81.0|28.73|     95.0|   76.0|         0|\n",
      "|   1| 48|        1|            1|        20|     0|              0|           0|       0|  245.0|127.5| 80.0|25.34|     75.0|   70.0|         0|\n",
      "|   0| 61|        3|            1|        30|     0|              0|           1|       0|  225.0|150.0| 95.0|28.58|     65.0|  103.0|         1|\n",
      "|   0| 46|        3|            1|        23|     0|              0|           0|       0|  285.0|130.0| 84.0| 23.1|     85.0|   85.0|         0|\n",
      "+----+---+---------+-------------+----------+------+---------------+------------+--------+-------+-----+-----+-----+---------+-------+----------+\n",
      "only showing top 5 rows\n",
      "\n"
     ]
    }
   ],
   "source": [
    "from team_name.spark_utils import SparkUtils\n",
    "\n",
    "schema = SparkUtils.generate_schema(\n",
    "    [\n",
    "        (\"male\", \"integer\"),\n",
    "        (\"age\", \"integer\"),\n",
    "        (\"education\", \"integer\"),\n",
    "        (\"currentSmoker\", \"integer\"),\n",
    "        (\"cigsPerDay\", \"integer\"),\n",
    "        (\"BPMeds\", \"integer\"),\n",
    "        (\"prevalentStroke\", \"integer\"),\n",
    "        (\"prevalentHyp\", \"integer\"),\n",
    "        (\"diabetes\", \"integer\"),\n",
    "        (\"totChol\", \"float\"),\n",
    "        (\"sysBP\", \"float\"),\n",
    "        (\"diaBP\", \"float\"),\n",
    "        (\"BMI\", \"float\"),\n",
    "        (\"heartRate\", \"float\"),\n",
    "        (\"glucose\", \"float\"),\n",
    "        (\"TenYearCHD\", \"integer\"),\n",
    "    ]\n",
    ")\n",
    "\n",
    "data = (\n",
    "    spark.read.schema(schema)\n",
    "    .option(\"header\", \"true\")\n",
    "    .csv(\"/home/jovyan/notebooks/data/framingham.csv\")\n",
    ")\n",
    "\n",
    "data.printSchema()\n",
    "data.show(5)"
   ]
  },
  {
   "cell_type": "markdown",
   "metadata": {},
   "source": [
    "### Limpiar valores nulos"
   ]
  },
  {
   "cell_type": "code",
   "execution_count": 7,
   "metadata": {},
   "outputs": [
    {
     "name": "stdout",
     "output_type": "stream",
     "text": [
      "+-------+-------------------+-----------------+------------------+-------------------+------------------+-------------------+--------------------+-------------------+--------------------+------------------+------------------+------------------+-----------------+------------------+------------------+------------------+\n",
      "|summary|               male|              age|         education|      currentSmoker|        cigsPerDay|             BPMeds|     prevalentStroke|       prevalentHyp|            diabetes|           totChol|             sysBP|             diaBP|              BMI|         heartRate|           glucose|        TenYearCHD|\n",
      "+-------+-------------------+-----------------+------------------+-------------------+------------------+-------------------+--------------------+-------------------+--------------------+------------------+------------------+------------------+-----------------+------------------+------------------+------------------+\n",
      "|  count|               4238|             4238|              4133|               4238|              4209|               4185|                4238|               4238|                4238|              4188|              4238|              4238|             4219|              4237|              3850|              4238|\n",
      "|   mean|0.42921189240207647|49.58494572911751|1.9789499153157513|0.49410099103350635| 9.003088619624615|0.02962962962962963|0.005899008966493629|0.31052383199622463|0.025719679093912224|236.72158548233045|132.35240679565834| 82.89346389806512|25.80200758113712| 75.87892376681614| 81.96675324675324|0.1519584709768759|\n",
      "| stddev|0.49502208553649146|8.572159925118484|1.0197906893122037| 0.5000241969070374|11.920093587827756|0.16958356790200058| 0.07658717064585814|0.46276269567370154| 0.15831642786899564|44.590334318749456|22.038096643544563|11.910849600225525|4.080111057042391|12.026596351612579|23.959998189237467|0.3590229919902725|\n",
      "|    min|                  0|               32|                 1|                  0|                 0|                  0|                   0|                  0|                   0|             107.0|              83.5|              48.0|            15.54|              44.0|              40.0|                 0|\n",
      "|    max|                  1|               70|                 4|                  1|                70|                  1|                   1|                  1|                   1|             696.0|             295.0|             142.5|             56.8|             143.0|             394.0|                 1|\n",
      "+-------+-------------------+-----------------+------------------+-------------------+------------------+-------------------+--------------------+-------------------+--------------------+------------------+------------------+------------------+-----------------+------------------+------------------+------------------+\n",
      "\n",
      "+---------+--------+--------------+------------------+---------------+-----------+--------------------+-----------------+-------------+------------+----------+----------+--------+--------------+------------+---------------+\n",
      "|sum(male)|sum(age)|sum(education)|sum(currentSmoker)|sum(cigsPerDay)|sum(BPMeds)|sum(prevalentStroke)|sum(prevalentHyp)|sum(diabetes)|sum(totChol)|sum(sysBP)|sum(diaBP)|sum(BMI)|sum(heartRate)|sum(glucose)|sum(TenYearCHD)|\n",
      "+---------+--------+--------------+------------------+---------------+-----------+--------------------+-----------------+-------------+------------+----------+----------+--------+--------------+------------+---------------+\n",
      "|        0|       0|           105|                 0|             29|         53|                   0|                0|            0|          50|         0|         0|      19|             1|         388|              0|\n",
      "+---------+--------+--------------+------------------+---------------+-----------+--------------------+-----------------+-------------+------------+----------+----------+--------+--------------+------------+---------------+\n",
      "\n",
      "+---------+--------+--------------+------------------+---------------+-----------+--------------------+-----------------+-------------+------------+----------+----------+--------+--------------+------------+---------------+\n",
      "|sum(male)|sum(age)|sum(education)|sum(currentSmoker)|sum(cigsPerDay)|sum(BPMeds)|sum(prevalentStroke)|sum(prevalentHyp)|sum(diabetes)|sum(totChol)|sum(sysBP)|sum(diaBP)|sum(BMI)|sum(heartRate)|sum(glucose)|sum(TenYearCHD)|\n",
      "+---------+--------+--------------+------------------+---------------+-----------+--------------------+-----------------+-------------+------------+----------+----------+--------+--------------+------------+---------------+\n",
      "|        0|       0|             0|                 0|              0|          0|                   0|                0|            0|           0|         0|         0|       0|             0|           0|              0|\n",
      "+---------+--------+--------------+------------------+---------------+-----------+--------------------+-----------------+-------------+------------+----------+----------+--------+--------------+------------+---------------+\n",
      "\n"
     ]
    }
   ],
   "source": [
    "from pyspark.sql.functions import col\n",
    "\n",
    "data.describe().show()\n",
    "\n",
    "data.select([col(c).isNull().cast(\"int\").alias(c) for c in data.columns]).groupBy().sum().show()\n",
    "\n",
    "data = data.fillna(0)\n",
    "\n",
    "data.select([col(c).isNull().cast(\"int\").alias(c) for c in data.columns]).groupBy().sum().show()"
   ]
  },
  {
   "cell_type": "markdown",
   "metadata": {},
   "source": [
    "### Assemble the features into a single vector column"
   ]
  },
  {
   "cell_type": "code",
   "execution_count": 8,
   "metadata": {},
   "outputs": [],
   "source": [
    "from pyspark.ml.feature import VectorAssembler\n",
    "\n",
    "feature_cols = [c for c in data.columns if c != \"TenYearCHD\"]\n",
    "\n",
    "assembler = VectorAssembler(inputCols=feature_cols, outputCol=\"features\")\n",
    "data = assembler.transform(data)"
   ]
  },
  {
   "cell_type": "markdown",
   "metadata": {},
   "source": [
    "### Split the data into training and test sets 80% training data and 20% testing data"
   ]
  },
  {
   "cell_type": "code",
   "execution_count": 9,
   "metadata": {},
   "outputs": [],
   "source": [
    "train_df, test_df = data.randomSplit([0.8, 0.2], seed=42)"
   ]
  },
  {
   "cell_type": "markdown",
   "metadata": {},
   "source": [
    "### Show the whole dataset"
   ]
  },
  {
   "cell_type": "code",
   "execution_count": 10,
   "metadata": {},
   "outputs": [
    {
     "name": "stdout",
     "output_type": "stream",
     "text": [
      "Original Dataset\n"
     ]
    },
    {
     "name": "stderr",
     "output_type": "stream",
     "text": [
      "                                                                                \r"
     ]
    },
    {
     "name": "stdout",
     "output_type": "stream",
     "text": [
      "+----+---+---------+-------------+----------+------+---------------+------------+--------+-------+-----+-----+-----+---------+-------+----------+--------------------+\n",
      "|male|age|education|currentSmoker|cigsPerDay|BPMeds|prevalentStroke|prevalentHyp|diabetes|totChol|sysBP|diaBP|  BMI|heartRate|glucose|TenYearCHD|            features|\n",
      "+----+---+---------+-------------+----------+------+---------------+------------+--------+-------+-----+-----+-----+---------+-------+----------+--------------------+\n",
      "|   1| 39|        4|            0|         0|     0|              0|           0|       0|  195.0|106.0| 70.0|26.97|     80.0|   77.0|         0|[1.0,39.0,4.0,0.0...|\n",
      "|   0| 46|        2|            0|         0|     0|              0|           0|       0|  250.0|121.0| 81.0|28.73|     95.0|   76.0|         0|(15,[1,2,9,10,11,...|\n",
      "|   1| 48|        1|            1|        20|     0|              0|           0|       0|  245.0|127.5| 80.0|25.34|     75.0|   70.0|         0|[1.0,48.0,1.0,1.0...|\n",
      "|   0| 61|        3|            1|        30|     0|              0|           1|       0|  225.0|150.0| 95.0|28.58|     65.0|  103.0|         1|[0.0,61.0,3.0,1.0...|\n",
      "|   0| 46|        3|            1|        23|     0|              0|           0|       0|  285.0|130.0| 84.0| 23.1|     85.0|   85.0|         0|[0.0,46.0,3.0,1.0...|\n",
      "|   0| 43|        2|            0|         0|     0|              0|           1|       0|  228.0|180.0|110.0| 30.3|     77.0|   99.0|         0|[0.0,43.0,2.0,0.0...|\n",
      "|   0| 63|        1|            0|         0|     0|              0|           0|       0|  205.0|138.0| 71.0|33.11|     60.0|   85.0|         1|(15,[1,2,9,10,11,...|\n",
      "|   0| 45|        2|            1|        20|     0|              0|           0|       0|  313.0|100.0| 71.0|21.68|     79.0|   78.0|         0|[0.0,45.0,2.0,1.0...|\n",
      "|   1| 52|        1|            0|         0|     0|              0|           1|       0|  260.0|141.5| 89.0|26.36|     76.0|   79.0|         0|[1.0,52.0,1.0,0.0...|\n",
      "|   1| 43|        1|            1|        30|     0|              0|           1|       0|  225.0|162.0|107.0|23.61|     93.0|   88.0|         0|[1.0,43.0,1.0,1.0...|\n",
      "|   0| 50|        1|            0|         0|     0|              0|           0|       0|  254.0|133.0| 76.0|22.91|     75.0|   76.0|         0|(15,[1,2,9,10,11,...|\n",
      "|   0| 43|        2|            0|         0|     0|              0|           0|       0|  247.0|131.0| 88.0|27.64|     72.0|   61.0|         0|(15,[1,2,9,10,11,...|\n",
      "|   1| 46|        1|            1|        15|     0|              0|           1|       0|  294.0|142.0| 94.0|26.31|     98.0|   64.0|         0|[1.0,46.0,1.0,1.0...|\n",
      "|   0| 41|        3|            0|         0|     1|              0|           1|       0|  332.0|124.0| 88.0|31.31|     65.0|   84.0|         0|[0.0,41.0,3.0,0.0...|\n",
      "|   0| 39|        2|            1|         9|     0|              0|           0|       0|  226.0|114.0| 64.0|22.35|     85.0|    0.0|         0|[0.0,39.0,2.0,1.0...|\n",
      "|   0| 38|        2|            1|        20|     0|              0|           1|       0|  221.0|140.0| 90.0|21.35|     95.0|   70.0|         1|[0.0,38.0,2.0,1.0...|\n",
      "|   1| 48|        3|            1|        10|     0|              0|           1|       0|  232.0|138.0| 90.0|22.37|     64.0|   72.0|         0|[1.0,48.0,3.0,1.0...|\n",
      "|   0| 46|        2|            1|        20|     0|              0|           0|       0|  291.0|112.0| 78.0|23.38|     80.0|   89.0|         1|[0.0,46.0,2.0,1.0...|\n",
      "|   0| 38|        2|            1|         5|     0|              0|           0|       0|  195.0|122.0| 84.5|23.24|     75.0|   78.0|         0|[0.0,38.0,2.0,1.0...|\n",
      "|   1| 41|        2|            0|         0|     0|              0|           0|       0|  195.0|139.0| 88.0|26.88|     85.0|   65.0|         0|[1.0,41.0,2.0,0.0...|\n",
      "+----+---+---------+-------------+----------+------+---------------+------------+--------+-------+-----+-----+-----+---------+-------+----------+--------------------+\n",
      "only showing top 20 rows\n",
      "\n",
      "train set\n",
      "+----+---+---------+-------------+----------+------+---------------+------------+--------+-------+-----+-----+-----+---------+-------+----------+--------------------+\n",
      "|male|age|education|currentSmoker|cigsPerDay|BPMeds|prevalentStroke|prevalentHyp|diabetes|totChol|sysBP|diaBP|  BMI|heartRate|glucose|TenYearCHD|            features|\n",
      "+----+---+---------+-------------+----------+------+---------------+------------+--------+-------+-----+-----+-----+---------+-------+----------+--------------------+\n",
      "|   0| 32|        2|            1|        15|     0|              0|           0|       0|  242.0|111.0| 70.0|29.84|     80.0|   88.0|         0|[0.0,32.0,2.0,1.0...|\n",
      "|   0| 33|        1|            0|         0|     0|              0|           0|       0|  158.0|108.0| 67.0|19.84|     86.0|   69.0|         0|(15,[1,2,9,10,11,...|\n",
      "|   0| 33|        3|            1|        15|     0|              0|           0|       0|  199.0|116.0| 81.0|21.61|     75.0|   93.0|         0|[0.0,33.0,3.0,1.0...|\n",
      "|   0| 34|        0|            0|         0|     0|              0|           0|       0|  163.0|107.0| 71.0|23.88|     73.0|   80.0|         0|(15,[1,9,10,11,12...|\n",
      "|   0| 34|        0|            1|        10|     0|              0|           0|       0|  185.0|108.5| 86.0|19.68|     75.0|    0.0|         0|(15,[1,3,4,9,10,1...|\n",
      "|   0| 34|        2|            0|         0|     0|              0|           0|       0|  170.0|121.0| 74.0|20.82|     67.0|   83.0|         0|(15,[1,2,9,10,11,...|\n",
      "|   0| 34|        2|            0|         0|     0|              0|           0|       0|  226.0|112.5| 77.5|24.99|    100.0|   72.0|         0|(15,[1,2,9,10,11,...|\n",
      "|   0| 34|        2|            1|        10|     0|              0|           0|       0|  159.0| 92.5| 70.0|22.15|     65.0|   68.0|         0|[0.0,34.0,2.0,1.0...|\n",
      "|   0| 34|        2|            1|        20|     0|              0|           0|       0|  180.0|111.0| 56.0|21.51|     91.0|   78.0|         0|[0.0,34.0,2.0,1.0...|\n",
      "|   0| 34|        2|            1|        20|     0|              0|           0|       0|  220.0|117.5| 67.5|20.79|     63.0|   86.0|         0|[0.0,34.0,2.0,1.0...|\n",
      "|   0| 34|        3|            0|         0|     0|              0|           0|       0|  196.0|108.5| 68.0|25.67|     60.0|   82.0|         0|(15,[1,2,9,10,11,...|\n",
      "|   0| 34|        3|            0|         0|     0|              0|           0|       0|  227.0|102.0| 68.0|24.96|     80.0|   75.0|         0|(15,[1,2,9,10,11,...|\n",
      "|   0| 34|        3|            1|        10|     0|              0|           0|       0|  206.0|101.0| 63.0| 21.5|     75.0|   66.0|         0|[0.0,34.0,3.0,1.0...|\n",
      "|   0| 35|        1|            0|         0|     0|              0|           0|       0|  170.0|110.0| 69.0|23.48|     75.0|   83.0|         0|(15,[1,2,9,10,11,...|\n",
      "|   0| 35|        2|            0|         0|     0|              0|           0|       0|  135.0|105.0| 69.0|22.88|     70.0|   76.0|         0|(15,[1,2,9,10,11,...|\n",
      "|   0| 35|        2|            0|         0|     0|              0|           0|       0|  170.0| 98.5| 69.5|19.64|     71.0|   77.0|         0|(15,[1,2,9,10,11,...|\n",
      "|   0| 35|        2|            0|         0|     0|              0|           0|       0|  175.0|121.5| 74.5|20.86|     92.0|   93.0|         0|(15,[1,2,9,10,11,...|\n",
      "|   0| 35|        2|            0|         0|     0|              0|           0|       0|  197.0|109.0| 73.0|26.38|     71.0|   95.0|         0|(15,[1,2,9,10,11,...|\n",
      "|   0| 35|        2|            0|         0|     0|              0|           0|       0|  216.0|130.0| 68.0|25.94|     75.0|   90.0|         0|(15,[1,2,9,10,11,...|\n",
      "|   0| 35|        2|            0|         0|     0|              0|           0|       0|  234.0|107.5| 70.0|29.22|     73.0|    0.0|         0|(15,[1,2,9,10,11,...|\n",
      "+----+---+---------+-------------+----------+------+---------------+------------+--------+-------+-----+-----+-----+---------+-------+----------+--------------------+\n",
      "only showing top 20 rows\n",
      "\n"
     ]
    }
   ],
   "source": [
    "print(\"Original Dataset\")\n",
    "data.show()\n",
    "\n",
    "# Print train dataset\n",
    "print(\"train set\")\n",
    "train_df.show()"
   ]
  },
  {
   "cell_type": "markdown",
   "metadata": {},
   "source": [
    "### Create a logistic regression model"
   ]
  },
  {
   "cell_type": "code",
   "execution_count": 11,
   "metadata": {},
   "outputs": [],
   "source": [
    "from pyspark.ml.classification import LogisticRegression\n",
    "lr = LogisticRegression(featuresCol=\"features\", labelCol=\"TenYearCHD\", maxIter=100)"
   ]
  },
  {
   "cell_type": "markdown",
   "metadata": {},
   "source": [
    "# TRAINNING"
   ]
  },
  {
   "cell_type": "code",
   "execution_count": 12,
   "metadata": {},
   "outputs": [
    {
     "name": "stderr",
     "output_type": "stream",
     "text": [
      "25/04/30 16:22:56 WARN InstanceBuilder: Failed to load implementation from:dev.ludovic.netlib.blas.JNIBLAS\n",
      "25/04/30 16:22:56 WARN InstanceBuilder: Failed to load implementation from:dev.ludovic.netlib.blas.VectorBLAS\n"
     ]
    },
    {
     "name": "stdout",
     "output_type": "stream",
     "text": [
      "Coefficients: [0.49600779554261915,0.06095531253445182,-0.026815511962488,0.013034253998157474,0.021949928355587765,0.18445535726571075,0.912173654589193,0.3525868468486528,0.3581601636918068,0.0009391287081768145,0.013558974997571725,-0.0008623652672830381,-0.019601734725967844,-0.0009128447340946759,0.004237402302801891]\n"
     ]
    }
   ],
   "source": [
    "model = lr.fit(train_df)\n",
    "\n",
    "# Print coefficients\n",
    "print(\"Coefficients: \" + str(model.coefficients))\n",
    "\n",
    "# Display model summary\n",
    "training_summary = model.summary"
   ]
  },
  {
   "cell_type": "markdown",
   "metadata": {},
   "source": [
    "# PREDICTIONS"
   ]
  },
  {
   "cell_type": "code",
   "execution_count": 13,
   "metadata": {},
   "outputs": [
    {
     "name": "stdout",
     "output_type": "stream",
     "text": [
      "+--------------------+----------+--------------------+----------+\n",
      "|            features|prediction|         probability|TenYearCHD|\n",
      "+--------------------+----------+--------------------+----------+\n",
      "|[0.0,33.0,2.0,1.0...|       0.0|[0.97226999013496...|         0|\n",
      "|[0.0,34.0,1.0,1.0...|       0.0|[0.95842432556558...|         0|\n",
      "|(15,[1,2,9,10,11,...|       0.0|[0.97482319150701...|         0|\n",
      "|[0.0,34.0,2.0,1.0...|       0.0|[0.95759650690736...|         0|\n",
      "|(15,[1,2,9,10,11,...|       0.0|[0.97606521954991...|         0|\n",
      "+--------------------+----------+--------------------+----------+\n",
      "only showing top 5 rows\n",
      "\n"
     ]
    }
   ],
   "source": [
    "predictions = model.transform(test_df)\n",
    "\n",
    "predictions.select(\"features\", \"prediction\", \"probability\", \"TenYearCHD\").show(5)"
   ]
  },
  {
   "cell_type": "markdown",
   "metadata": {},
   "source": [
    "### Evaluar el modelo"
   ]
  },
  {
   "cell_type": "code",
   "execution_count": 14,
   "metadata": {},
   "outputs": [
    {
     "name": "stdout",
     "output_type": "stream",
     "text": [
      "Accuracy: 0.8605527638190955\n",
      "Precision: 0.8404992188914064\n",
      "Recall: 0.8605527638190954\n",
      "F1 Score: 0.8132224456377826\n"
     ]
    }
   ],
   "source": [
    "from pyspark.ml.evaluation import MulticlassClassificationEvaluator\n",
    "\n",
    "evaluator = MulticlassClassificationEvaluator(labelCol=\"TenYearCHD\", predictionCol=\"prediction\")\n",
    "\n",
    "accuracy = evaluator.evaluate(predictions, {evaluator.metricName: \"accuracy\"})\n",
    "precision = evaluator.evaluate(predictions, {evaluator.metricName: \"weightedPrecision\"})\n",
    "recall = evaluator.evaluate(predictions, {evaluator.metricName: \"weightedRecall\"})\n",
    "f1 = evaluator.evaluate(predictions, {evaluator.metricName: \"f1\"})\n",
    "\n",
    "print(f\"Accuracy: {accuracy}\")\n",
    "print(f\"Precision: {precision}\")\n",
    "print(f\"Recall: {recall}\")\n",
    "print(f\"F1 Score: {f1}\")"
   ]
  },
  {
   "cell_type": "code",
   "execution_count": 15,
   "metadata": {},
   "outputs": [],
   "source": [
    "sc.stop()"
   ]
  }
 ],
 "metadata": {
  "kernelspec": {
   "display_name": "Python 3 (ipykernel)",
   "language": "python",
   "name": "python3"
  },
  "language_info": {
   "codemirror_mode": {
    "name": "ipython",
    "version": 3
   },
   "file_extension": ".py",
   "mimetype": "text/x-python",
   "name": "python",
   "nbconvert_exporter": "python",
   "pygments_lexer": "ipython3",
   "version": "3.11.6"
  }
 },
 "nbformat": 4,
 "nbformat_minor": 2
}
