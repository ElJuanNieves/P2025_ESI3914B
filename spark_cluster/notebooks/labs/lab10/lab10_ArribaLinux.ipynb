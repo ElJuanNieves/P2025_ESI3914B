{
 "cells": [
  {
   "cell_type": "markdown",
   "metadata": {},
   "source": [
    "# <center> <img src=\"../labs/img/ITESOLogo.png\" alt=\"ITESO\" width=\"480\" height=\"130\"> </center>\n",
    "# <center> **Departamento de Electrónica, Sistemas e Informática** </center>\n",
    "---\n",
    "## <center> **Procesamiento de Datos Masivos** </center>\n",
    "---\n",
    "### <center> **Primavera 2025** </center>\n",
    "---\n",
    "### <center> **Ejemplos de Spark: Structured Streaming (Kafka + Watermarking)** </center>\n",
    "\n",
    "---\n",
    "\n",
    "**Lab 10**\n",
    "\n",
    "**Fecha**: 25 abril 2025\n",
    "\n",
    "**Nombre del Equipo**: Arriba Linux\n",
    "\n",
    "**Integrantes del Equipo**: Tirzah Peniche Barba / Ana Cristina Luna Arellano / Juan Pedro Bihouet\n",
    "\n",
    "**Profesor**: Dr. Pablo Camarillo Ramirez"
   ]
  },
  {
   "cell_type": "code",
   "execution_count": 1,
   "metadata": {},
   "outputs": [],
   "source": [
    "import findspark\n",
    "findspark.init()"
   ]
  },
  {
   "cell_type": "markdown",
   "metadata": {},
   "source": [
    "#### Creacion de la conexión con el cluster de spark\n"
   ]
  },
  {
   "cell_type": "code",
   "execution_count": 2,
   "metadata": {},
   "outputs": [
    {
     "name": "stderr",
     "output_type": "stream",
     "text": [
      "Setting default log level to \"WARN\".\n",
      "To adjust logging level use sc.setLogLevel(newLevel). For SparkR, use setLogLevel(newLevel).\n",
      "25/04/27 00:18:37 WARN NativeCodeLoader: Unable to load native-hadoop library for your platform... using builtin-java classes where applicable\n"
     ]
    }
   ],
   "source": [
    "from pyspark.sql import SparkSession\n",
    "\n",
    "spark = SparkSession.builder \\\n",
    "    .appName(\"Arriba-Linux-MLSpark-Logistic-Regression\") \\\n",
    "    .master(\"spark://ac7f0d7e8e91:7077\") \\\n",
    "    .config(\"spark.ui.port\",\"4040\") \\\n",
    "    .getOrCreate()\n",
    "sc = spark.sparkContext\n",
    "spark.conf.set(\"spark.sql.shuffle.partitions\", \"5\")"
   ]
  },
  {
   "cell_type": "markdown",
   "metadata": {},
   "source": [
    "### Preparación de Datos"
   ]
  },
  {
   "cell_type": "code",
   "execution_count": 7,
   "metadata": {},
   "outputs": [
    {
     "name": "stdout",
     "output_type": "stream",
     "text": [
      "+----+---+---------+-------------+----------+------+---------------+------------+--------+-------+-----+-----+-----+---------+-------+----------+\n",
      "|male|age|education|currentSmoker|cigsPerDay|BPMeds|prevalentStroke|prevalentHyp|diabetes|totChol|sysBP|diaBP|  BMI|heartRate|glucose|TenYearCHD|\n",
      "+----+---+---------+-------------+----------+------+---------------+------------+--------+-------+-----+-----+-----+---------+-------+----------+\n",
      "|   1| 39|        4|            0|         0|     0|              0|           0|       0|    195|106.0| 70.0|26.97|       80|     77|         0|\n",
      "|   0| 46|        2|            0|         0|     0|              0|           0|       0|    250|121.0| 81.0|28.73|       95|     76|         0|\n",
      "|   1| 48|        1|            1|        20|     0|              0|           0|       0|    245|127.5| 80.0|25.34|       75|     70|         0|\n",
      "|   0| 61|        3|            1|        30|     0|              0|           1|       0|    225|150.0| 95.0|28.58|       65|    103|         1|\n",
      "|   0| 46|        3|            1|        23|     0|              0|           0|       0|    285|130.0| 84.0| 23.1|       85|     85|         0|\n",
      "|   0| 43|        2|            0|         0|     0|              0|           1|       0|    228|180.0|110.0| 30.3|       77|     99|         0|\n",
      "|   0| 63|        1|            0|         0|     0|              0|           0|       0|    205|138.0| 71.0|33.11|       60|     85|         1|\n",
      "|   0| 45|        2|            1|        20|     0|              0|           0|       0|    313|100.0| 71.0|21.68|       79|     78|         0|\n",
      "|   1| 52|        1|            0|         0|     0|              0|           1|       0|    260|141.5| 89.0|26.36|       76|     79|         0|\n",
      "|   1| 43|        1|            1|        30|     0|              0|           1|       0|    225|162.0|107.0|23.61|       93|     88|         0|\n",
      "|   0| 50|        1|            0|         0|     0|              0|           0|       0|    254|133.0| 76.0|22.91|       75|     76|         0|\n",
      "|   0| 43|        2|            0|         0|     0|              0|           0|       0|    247|131.0| 88.0|27.64|       72|     61|         0|\n",
      "|   1| 46|        1|            1|        15|     0|              0|           1|       0|    294|142.0| 94.0|26.31|       98|     64|         0|\n",
      "|   0| 41|        3|            0|         0|     1|              0|           1|       0|    332|124.0| 88.0|31.31|       65|     84|         0|\n",
      "|   0| 39|        2|            1|         9|     0|              0|           0|       0|    226|114.0| 64.0|22.35|       85|   NULL|         0|\n",
      "|   0| 38|        2|            1|        20|     0|              0|           1|       0|    221|140.0| 90.0|21.35|       95|     70|         1|\n",
      "|   1| 48|        3|            1|        10|     0|              0|           1|       0|    232|138.0| 90.0|22.37|       64|     72|         0|\n",
      "|   0| 46|        2|            1|        20|     0|              0|           0|       0|    291|112.0| 78.0|23.38|       80|     89|         1|\n",
      "|   0| 38|        2|            1|         5|     0|              0|           0|       0|    195|122.0| 84.5|23.24|       75|     78|         0|\n",
      "|   1| 41|        2|            0|         0|     0|              0|           0|       0|    195|139.0| 88.0|26.88|       85|     65|         0|\n",
      "|   0| 42|        2|            1|        30|     0|              0|           0|       0|    190|108.0| 70.5|21.59|       72|     85|         0|\n",
      "|   0| 43|        1|            0|         0|     0|              0|           0|       0|    185|123.5| 77.5|29.89|       70|   NULL|         0|\n",
      "|   0| 52|        1|            0|         0|     0|              0|           0|       0|    234|148.0| 78.0|34.17|       70|    113|         0|\n",
      "|   0| 52|        3|            1|        20|     0|              0|           0|       0|    215|132.0| 82.0|25.11|       71|     75|         0|\n",
      "|   1| 44|        2|            1|        30|     0|              0|           1|       0|    270|137.5| 90.0|21.96|       75|     83|         0|\n",
      "|   1| 47|        4|            1|        20|     0|              0|           0|       0|    294|102.0| 68.0|24.18|       62|     66|         1|\n",
      "|   0| 60|        1|            0|         0|     0|              0|           0|       0|    260|110.0| 72.5|26.59|       65|   NULL|         0|\n",
      "|   1| 35|        2|            1|        20|     0|              0|           1|       0|    225|132.0| 91.0|26.09|       73|     83|         0|\n",
      "|   0| 61|        3|            0|         0|     0|              0|           1|       0|    272|182.0|121.0| 32.8|       85|     65|         1|\n",
      "|   0| 60|        1|            0|         0|     0|              0|           0|       0|    247|130.0| 88.0|30.36|       72|     74|         0|\n",
      "|   1| 36|        4|            1|        35|     0|              0|           0|       0|    295|102.0| 68.0|28.15|       60|     63|         0|\n",
      "|   1| 43|        4|            1|        43|     0|              0|           0|       0|    226|115.0| 85.5|27.57|       75|     75|         0|\n",
      "|   0| 59|        1|            0|         0|     0|              0|           1|       0|    209|150.0| 85.0|20.77|       90|     88|         1|\n",
      "|   1| 61|     NULL|            1|         5|     0|              0|           0|       0|    175|134.0| 82.5|18.59|       72|     75|         1|\n",
      "|   1| 54|        1|            1|        20|     0|              0|           1|       0|    214|147.0| 74.0|24.71|       96|     87|         0|\n",
      "|   1| 37|        2|            0|         0|     0|              0|           1|       0|    225|124.5| 92.5|38.53|       95|     83|         0|\n",
      "|   1| 56|     NULL|            0|         0|     0|              0|           0|       0|    257|153.5|102.0|28.09|       72|     75|         0|\n",
      "|   1| 52|        1|            0|         0|     0|              0|           1|       1|    178|160.0| 98.0|40.11|       75|    225|         0|\n",
      "|   0| 42|        1|            1|         1|     0|              0|           1|       0|    233|153.0|101.0|28.93|       60|     90|         0|\n",
      "|   1| 36|        3|            0|         0|     0|              0|           0|       0|    180|111.0| 73.0|27.78|       71|     80|         0|\n",
      "+----+---+---------+-------------+----------+------+---------------+------------+--------+-------+-----+-----+-----+---------+-------+----------+\n",
      "only showing top 40 rows\n",
      "\n"
     ]
    }
   ],
   "source": [
    "from ArribaLinux.spark_utils import SparkUtils\n",
    "\n",
    "# Define schema for the DataFrame\n",
    "schema = SparkUtils.generate_schema([\n",
    "    (\"male\", \"integer\"), \n",
    "    (\"age\", \"integer\"), \n",
    "    (\"education\", \"integer\"), \n",
    "    (\"currentSmoker\", \"integer\"), \n",
    "    (\"cigsPerDay\", \"integer\"), \n",
    "    (\"BPMeds\", \"integer\"), \n",
    "    (\"prevalentStroke\", \"integer\"), \n",
    "    (\"prevalentHyp\", \"integer\"), \n",
    "    (\"diabetes\", \"integer\"), \n",
    "    (\"totChol\", \"integer\"), \n",
    "    (\"sysBP\", \"float\"), \n",
    "    (\"diaBP\", \"float\"), \n",
    "    (\"BMI\", \"float\"), \n",
    "    (\"heartRate\", \"integer\"), \n",
    "    (\"glucose\", \"integer\"), \n",
    "    (\"TenYearCHD\", \"integer\")])\n",
    "\n",
    "data = spark \\\n",
    "            .read \\\n",
    "            .schema(schema) \\\n",
    "            .option(\"header\", \"true\") \\\n",
    "            .csv(\"/home/jovyan/notebooks/data/framingham.csv\")\n",
    "\n",
    "data.show(40)"
   ]
  },
  {
   "cell_type": "code",
   "execution_count": 10,
   "metadata": {},
   "outputs": [
    {
     "name": "stdout",
     "output_type": "stream",
     "text": [
      "+----+---+---------+-------------+----------+------+---------------+------------+--------+-------+-----+-----+-----+---------+-------+----------+\n",
      "|male|age|education|currentSmoker|cigsPerDay|BPMeds|prevalentStroke|prevalentHyp|diabetes|totChol|sysBP|diaBP|  BMI|heartRate|glucose|TenYearCHD|\n",
      "+----+---+---------+-------------+----------+------+---------------+------------+--------+-------+-----+-----+-----+---------+-------+----------+\n",
      "|   1| 39|        4|            0|         0|     0|              0|           0|       0|    195|106.0| 70.0|26.97|       80|     77|         0|\n",
      "|   0| 46|        2|            0|         0|     0|              0|           0|       0|    250|121.0| 81.0|28.73|       95|     76|         0|\n",
      "|   1| 48|        1|            1|        20|     0|              0|           0|       0|    245|127.5| 80.0|25.34|       75|     70|         0|\n",
      "|   0| 61|        3|            1|        30|     0|              0|           1|       0|    225|150.0| 95.0|28.58|       65|    103|         1|\n",
      "|   0| 46|        3|            1|        23|     0|              0|           0|       0|    285|130.0| 84.0| 23.1|       85|     85|         0|\n",
      "|   0| 43|        2|            0|         0|     0|              0|           1|       0|    228|180.0|110.0| 30.3|       77|     99|         0|\n",
      "|   0| 63|        1|            0|         0|     0|              0|           0|       0|    205|138.0| 71.0|33.11|       60|     85|         1|\n",
      "|   0| 45|        2|            1|        20|     0|              0|           0|       0|    313|100.0| 71.0|21.68|       79|     78|         0|\n",
      "|   1| 52|        1|            0|         0|     0|              0|           1|       0|    260|141.5| 89.0|26.36|       76|     79|         0|\n",
      "|   1| 43|        1|            1|        30|     0|              0|           1|       0|    225|162.0|107.0|23.61|       93|     88|         0|\n",
      "|   0| 50|        1|            0|         0|     0|              0|           0|       0|    254|133.0| 76.0|22.91|       75|     76|         0|\n",
      "|   0| 43|        2|            0|         0|     0|              0|           0|       0|    247|131.0| 88.0|27.64|       72|     61|         0|\n",
      "|   1| 46|        1|            1|        15|     0|              0|           1|       0|    294|142.0| 94.0|26.31|       98|     64|         0|\n",
      "|   0| 41|        3|            0|         0|     1|              0|           1|       0|    332|124.0| 88.0|31.31|       65|     84|         0|\n",
      "|   0| 38|        2|            1|        20|     0|              0|           1|       0|    221|140.0| 90.0|21.35|       95|     70|         1|\n",
      "|   1| 48|        3|            1|        10|     0|              0|           1|       0|    232|138.0| 90.0|22.37|       64|     72|         0|\n",
      "|   0| 46|        2|            1|        20|     0|              0|           0|       0|    291|112.0| 78.0|23.38|       80|     89|         1|\n",
      "|   0| 38|        2|            1|         5|     0|              0|           0|       0|    195|122.0| 84.5|23.24|       75|     78|         0|\n",
      "|   1| 41|        2|            0|         0|     0|              0|           0|       0|    195|139.0| 88.0|26.88|       85|     65|         0|\n",
      "|   0| 42|        2|            1|        30|     0|              0|           0|       0|    190|108.0| 70.5|21.59|       72|     85|         0|\n",
      "|   0| 52|        1|            0|         0|     0|              0|           0|       0|    234|148.0| 78.0|34.17|       70|    113|         0|\n",
      "|   0| 52|        3|            1|        20|     0|              0|           0|       0|    215|132.0| 82.0|25.11|       71|     75|         0|\n",
      "|   1| 44|        2|            1|        30|     0|              0|           1|       0|    270|137.5| 90.0|21.96|       75|     83|         0|\n",
      "|   1| 47|        4|            1|        20|     0|              0|           0|       0|    294|102.0| 68.0|24.18|       62|     66|         1|\n",
      "|   1| 35|        2|            1|        20|     0|              0|           1|       0|    225|132.0| 91.0|26.09|       73|     83|         0|\n",
      "|   0| 61|        3|            0|         0|     0|              0|           1|       0|    272|182.0|121.0| 32.8|       85|     65|         1|\n",
      "|   0| 60|        1|            0|         0|     0|              0|           0|       0|    247|130.0| 88.0|30.36|       72|     74|         0|\n",
      "|   1| 36|        4|            1|        35|     0|              0|           0|       0|    295|102.0| 68.0|28.15|       60|     63|         0|\n",
      "|   1| 43|        4|            1|        43|     0|              0|           0|       0|    226|115.0| 85.5|27.57|       75|     75|         0|\n",
      "|   0| 59|        1|            0|         0|     0|              0|           1|       0|    209|150.0| 85.0|20.77|       90|     88|         1|\n",
      "|   1| 54|        1|            1|        20|     0|              0|           1|       0|    214|147.0| 74.0|24.71|       96|     87|         0|\n",
      "|   1| 37|        2|            0|         0|     0|              0|           1|       0|    225|124.5| 92.5|38.53|       95|     83|         0|\n",
      "|   1| 52|        1|            0|         0|     0|              0|           1|       1|    178|160.0| 98.0|40.11|       75|    225|         0|\n",
      "|   0| 42|        1|            1|         1|     0|              0|           1|       0|    233|153.0|101.0|28.93|       60|     90|         0|\n",
      "|   1| 36|        3|            0|         0|     0|              0|           0|       0|    180|111.0| 73.0|27.78|       71|     80|         0|\n",
      "|   0| 43|        2|            1|        10|     0|              0|           0|       0|    243|116.5| 80.0|26.87|       68|     78|         0|\n",
      "|   0| 41|        2|            1|         1|     0|              0|           0|       0|    237|122.0| 78.0|23.28|       75|     74|         0|\n",
      "|   1| 54|        2|            0|         0|     0|              0|           0|       0|    195|132.0| 83.5|26.21|       75|    100|         0|\n",
      "|   0| 53|        3|            0|         0|     1|              0|           1|       1|    311|206.0| 92.0|21.51|       76|    215|         1|\n",
      "|   0| 49|        2|            0|         0|     0|              0|           0|       0|    208| 96.0| 63.0|20.68|       65|     98|         0|\n",
      "+----+---+---------+-------------+----------+------+---------------+------------+--------+-------+-----+-----+-----+---------+-------+----------+\n",
      "only showing top 40 rows\n",
      "\n"
     ]
    }
   ],
   "source": [
    "df = data.dropna()\n",
    "df.show(40)"
   ]
  },
  {
   "cell_type": "code",
   "execution_count": 11,
   "metadata": {},
   "outputs": [
    {
     "name": "stdout",
     "output_type": "stream",
     "text": [
      "+----+---+---------+-------------+----------+------+---------------+------------+--------+-------+-----+-----+-----+---------+-------+-----+\n",
      "|male|age|education|currentSmoker|cigsPerDay|BPMeds|prevalentStroke|prevalentHyp|diabetes|totChol|sysBP|diaBP|  BMI|heartRate|glucose|label|\n",
      "+----+---+---------+-------------+----------+------+---------------+------------+--------+-------+-----+-----+-----+---------+-------+-----+\n",
      "|   1| 39|        4|            0|         0|     0|              0|           0|       0|    195|106.0| 70.0|26.97|       80|     77|    0|\n",
      "|   0| 46|        2|            0|         0|     0|              0|           0|       0|    250|121.0| 81.0|28.73|       95|     76|    0|\n",
      "|   1| 48|        1|            1|        20|     0|              0|           0|       0|    245|127.5| 80.0|25.34|       75|     70|    0|\n",
      "|   0| 61|        3|            1|        30|     0|              0|           1|       0|    225|150.0| 95.0|28.58|       65|    103|    1|\n",
      "|   0| 46|        3|            1|        23|     0|              0|           0|       0|    285|130.0| 84.0| 23.1|       85|     85|    0|\n",
      "+----+---+---------+-------------+----------+------+---------------+------------+--------+-------+-----+-----+-----+---------+-------+-----+\n",
      "only showing top 5 rows\n",
      "\n"
     ]
    }
   ],
   "source": [
    "df = df.withColumnRenamed(\"TenYearCHD\", \"label\")\n",
    "df.show(5)"
   ]
  },
  {
   "cell_type": "markdown",
   "metadata": {},
   "source": [
    "### Assemble the features into a single vector column"
   ]
  },
  {
   "cell_type": "code",
   "execution_count": 20,
   "metadata": {},
   "outputs": [],
   "source": [
    "from pyspark.ml.feature import VectorAssembler\n",
    "\n",
    "assembler = VectorAssembler(inputCols=[\"male\", \"age\", \"education\", \"currentSmoker\", \"cigsPerDay\", \"BPMeds\", \"prevalentHyp\", \"diabetes\", \"totChol\", \"sysBP\", \"diaBP\", \"BMI\", \"heartRate\", \"glucose\"], outputCol=\"features\")\n",
    "data_with_features = assembler.transform(df).select(\"label\", \"features\")"
   ]
  },
  {
   "cell_type": "markdown",
   "metadata": {},
   "source": [
    "### Split the data into training and test sets 80% training data and 20% testing data"
   ]
  },
  {
   "cell_type": "code",
   "execution_count": 22,
   "metadata": {},
   "outputs": [],
   "source": [
    "train_df, test_df = data_with_features.randomSplit([0.8, 0.2], seed=57)"
   ]
  },
  {
   "cell_type": "markdown",
   "metadata": {},
   "source": [
    "### Show the whole dataset"
   ]
  },
  {
   "cell_type": "code",
   "execution_count": 23,
   "metadata": {},
   "outputs": [
    {
     "name": "stdout",
     "output_type": "stream",
     "text": [
      "Original Dataset\n",
      "+-----+--------------------+\n",
      "|label|            features|\n",
      "+-----+--------------------+\n",
      "|    0|[1.0,39.0,4.0,0.0...|\n",
      "|    0|(14,[1,2,8,9,10,1...|\n",
      "|    0|[1.0,48.0,1.0,1.0...|\n",
      "|    1|[0.0,61.0,3.0,1.0...|\n",
      "|    0|[0.0,46.0,3.0,1.0...|\n",
      "|    0|[0.0,43.0,2.0,0.0...|\n",
      "|    1|(14,[1,2,8,9,10,1...|\n",
      "|    0|[0.0,45.0,2.0,1.0...|\n",
      "|    0|[1.0,52.0,1.0,0.0...|\n",
      "|    0|[1.0,43.0,1.0,1.0...|\n",
      "|    0|(14,[1,2,8,9,10,1...|\n",
      "|    0|(14,[1,2,8,9,10,1...|\n",
      "|    0|[1.0,46.0,1.0,1.0...|\n",
      "|    0|[0.0,41.0,3.0,0.0...|\n",
      "|    1|[0.0,38.0,2.0,1.0...|\n",
      "|    0|[1.0,48.0,3.0,1.0...|\n",
      "|    1|[0.0,46.0,2.0,1.0...|\n",
      "|    0|[0.0,38.0,2.0,1.0...|\n",
      "|    0|[1.0,41.0,2.0,0.0...|\n",
      "|    0|[0.0,42.0,2.0,1.0...|\n",
      "+-----+--------------------+\n",
      "only showing top 20 rows\n",
      "\n",
      "train set\n",
      "+-----+--------------------+\n",
      "|label|            features|\n",
      "+-----+--------------------+\n",
      "|    0|(14,[1,2,8,9,10,1...|\n",
      "|    0|(14,[1,2,8,9,10,1...|\n",
      "|    0|(14,[1,2,8,9,10,1...|\n",
      "|    0|(14,[1,2,8,9,10,1...|\n",
      "|    0|(14,[1,2,8,9,10,1...|\n",
      "|    0|(14,[1,2,8,9,10,1...|\n",
      "|    0|(14,[1,2,8,9,10,1...|\n",
      "|    0|(14,[1,2,8,9,10,1...|\n",
      "|    0|(14,[1,2,8,9,10,1...|\n",
      "|    0|(14,[1,2,8,9,10,1...|\n",
      "|    0|(14,[1,2,8,9,10,1...|\n",
      "|    0|(14,[1,2,8,9,10,1...|\n",
      "|    0|(14,[1,2,8,9,10,1...|\n",
      "|    0|(14,[1,2,8,9,10,1...|\n",
      "|    0|(14,[1,2,8,9,10,1...|\n",
      "|    0|(14,[1,2,8,9,10,1...|\n",
      "|    0|(14,[1,2,8,9,10,1...|\n",
      "|    0|(14,[1,2,8,9,10,1...|\n",
      "|    0|(14,[1,2,8,9,10,1...|\n",
      "|    0|(14,[1,2,8,9,10,1...|\n",
      "+-----+--------------------+\n",
      "only showing top 20 rows\n",
      "\n"
     ]
    }
   ],
   "source": [
    "print(\"Original Dataset\")\n",
    "data_with_features.show()\n",
    "\n",
    "# Print train dataset\n",
    "print(\"train set\")\n",
    "train_df.show()"
   ]
  },
  {
   "cell_type": "markdown",
   "metadata": {},
   "source": [
    "### Create a logistic regression model"
   ]
  },
  {
   "cell_type": "code",
   "execution_count": 24,
   "metadata": {},
   "outputs": [],
   "source": [
    "from pyspark.ml.classification import LogisticRegression\n",
    "lr = LogisticRegression(maxIter=10, regParam=0.01)\n"
   ]
  },
  {
   "cell_type": "markdown",
   "metadata": {},
   "source": [
    "# TRAINNING"
   ]
  },
  {
   "cell_type": "code",
   "execution_count": 25,
   "metadata": {},
   "outputs": [
    {
     "name": "stderr",
     "output_type": "stream",
     "text": [
      "25/04/27 00:41:22 WARN InstanceBuilder: Failed to load implementation from:dev.ludovic.netlib.blas.JNIBLAS\n",
      "25/04/27 00:41:22 WARN InstanceBuilder: Failed to load implementation from:dev.ludovic.netlib.blas.VectorBLAS\n"
     ]
    },
    {
     "name": "stdout",
     "output_type": "stream",
     "text": [
      "Coefficients: [0.56085619567335,0.0580024803047417,-0.037925907429923016,0.08648896022474624,0.013624766035835296,0.19337085407778754,0.2285286223807938,0.1940681366366223,0.0018397996505330062,0.013786143565660425,-1.1969227679968942e-05,0.0068020602545334884,-0.0019378486256763628,0.006861897807201568]\n"
     ]
    }
   ],
   "source": [
    "lr_model = lr.fit(train_df)\n",
    "\n",
    "# Print coefficients\n",
    "print(\"Coefficients: \" + str(lr_model.coefficients))\n",
    "\n",
    "# Display model summary\n",
    "training_summary = lr_model.summary"
   ]
  },
  {
   "cell_type": "markdown",
   "metadata": {},
   "source": [
    "# PREDICTIONS"
   ]
  },
  {
   "cell_type": "code",
   "execution_count": 26,
   "metadata": {},
   "outputs": [
    {
     "name": "stdout",
     "output_type": "stream",
     "text": [
      "+--------------------+----------+--------------------+\n",
      "|            features|prediction|         probability|\n",
      "+--------------------+----------+--------------------+\n",
      "|(14,[1,2,8,9,10,1...|       0.0|[0.97672608102472...|\n",
      "|(14,[1,2,8,9,10,1...|       0.0|[0.97127909326952...|\n",
      "|(14,[1,2,8,9,10,1...|       0.0|[0.96801865150182...|\n",
      "|(14,[1,2,8,9,10,1...|       0.0|[0.97989170367762...|\n",
      "|(14,[1,2,8,9,10,1...|       0.0|[0.95371875673041...|\n",
      "|(14,[1,2,8,9,10,1...|       0.0|[0.96800687277777...|\n",
      "|(14,[1,2,8,9,10,1...|       0.0|[0.97371525468766...|\n",
      "|(14,[1,2,8,9,10,1...|       0.0|[0.96970892143587...|\n",
      "|(14,[1,2,8,9,10,1...|       0.0|[0.95466272893662...|\n",
      "|(14,[1,2,8,9,10,1...|       0.0|[0.96395707683715...|\n",
      "|(14,[1,2,8,9,10,1...|       0.0|[0.97570145626707...|\n",
      "|(14,[1,2,8,9,10,1...|       0.0|[0.95019395775623...|\n",
      "|(14,[1,2,8,9,10,1...|       0.0|[0.95941523860472...|\n",
      "|(14,[1,2,8,9,10,1...|       0.0|[0.96490540659223...|\n",
      "|(14,[1,2,8,9,10,1...|       0.0|[0.97346776413514...|\n",
      "|(14,[1,2,8,9,10,1...|       0.0|[0.95067254910407...|\n",
      "|(14,[1,2,8,9,10,1...|       0.0|[0.97096434303269...|\n",
      "|(14,[1,2,8,9,10,1...|       0.0|[0.97196693821297...|\n",
      "|(14,[1,2,8,9,10,1...|       0.0|[0.96987668535163...|\n",
      "|(14,[1,2,8,9,10,1...|       0.0|[0.96071131011538...|\n",
      "+--------------------+----------+--------------------+\n",
      "only showing top 20 rows\n",
      "\n"
     ]
    }
   ],
   "source": [
    "# Use the trained model to make predictions on the test data\n",
    "predictions = lr_model.transform(test_df)\n",
    "\n",
    "# Show predictions\n",
    "predictions.select(\"features\", \"prediction\", \"probability\").show()"
   ]
  },
  {
   "cell_type": "code",
   "execution_count": 27,
   "metadata": {},
   "outputs": [
    {
     "name": "stdout",
     "output_type": "stream",
     "text": [
      "f1: 0.7697118793492835\n"
     ]
    }
   ],
   "source": [
    "from pyspark.ml.evaluation import MulticlassClassificationEvaluator\n",
    "\n",
    "evaluator = MulticlassClassificationEvaluator(labelCol=\"label\", predictionCol=\"prediction\")\n",
    "\n",
    "accuracy = evaluator.evaluate(predictions, {evaluator.metricName: \"accuracy\"})\n",
    "\n",
    "precision = evaluator.evaluate(predictions, {evaluator.metricName: \"weightedPrecision\"})\n",
    "\n",
    "recall = evaluator.evaluate(predictions, {evaluator.metricName: \"weightedRecall\"})\n",
    "\n",
    "f1 = evaluator.evaluate(predictions, {evaluator.metricName: \"f1\"})\n",
    "\n",
    "print('f1: {}'.format(f1))"
   ]
  },
  {
   "cell_type": "code",
   "execution_count": null,
   "metadata": {},
   "outputs": [],
   "source": [
    "sc.stop()"
   ]
  }
 ],
 "metadata": {
  "kernelspec": {
   "display_name": "Python 3 (ipykernel)",
   "language": "python",
   "name": "python3"
  },
  "language_info": {
   "codemirror_mode": {
    "name": "ipython",
    "version": 3
   },
   "file_extension": ".py",
   "mimetype": "text/x-python",
   "name": "python",
   "nbconvert_exporter": "python",
   "pygments_lexer": "ipython3",
   "version": "3.11.6"
  }
 },
 "nbformat": 4,
 "nbformat_minor": 2
}
