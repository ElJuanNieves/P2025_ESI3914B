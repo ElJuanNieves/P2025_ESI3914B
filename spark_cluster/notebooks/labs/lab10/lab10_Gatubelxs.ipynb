{
 "cells": [
  {
   "cell_type": "markdown",
   "metadata": {},
   "source": [
    "# <center> <img src=\"../img/ITESOLogo.png\" alt=\"ITESO\" width=\"480\" height=\"130\"> </center>\n",
    "# <center> **Departamento de Electrónica, Sistemas e Informática** </center>\n",
    "---\n",
    "## <center> **Carrera: Ing. en Sistemas Computacionales** </center>\n",
    "---\n",
    "### <center> **Primavera 2025** </center>\n",
    "---\n",
    "\n",
    "**Lab 10**: Heart attack prediction with Logistic Regression\n",
    "\n",
    "**Fecha**: 25 de abril del 2025\n",
    "\n",
    "**Nombre del Estudiante**: Luis, Benja, Sam\n",
    "\n",
    "**Profesor**: Pablo Camarillo Ramirez"
   ]
  },
  {
   "cell_type": "code",
   "execution_count": 12,
   "metadata": {},
   "outputs": [],
   "source": [
    "import findspark\n",
    "findspark.init()"
   ]
  },
  {
   "cell_type": "code",
   "execution_count": 27,
   "metadata": {},
   "outputs": [
    {
     "name": "stderr",
     "output_type": "stream",
     "text": [
      "25/04/29 23:13:00 WARN SparkContext: Another SparkContext is being constructed (or threw an exception in its constructor). This may indicate an error, since only one SparkContext should be running in this JVM (see SPARK-2243). The other SparkContext was created at:\n",
      "org.apache.spark.api.java.JavaSparkContext.<init>(JavaSparkContext.scala:58)\n",
      "java.base/jdk.internal.reflect.NativeConstructorAccessorImpl.newInstance0(Native Method)\n",
      "java.base/jdk.internal.reflect.NativeConstructorAccessorImpl.newInstance(NativeConstructorAccessorImpl.java:77)\n",
      "java.base/jdk.internal.reflect.DelegatingConstructorAccessorImpl.newInstance(DelegatingConstructorAccessorImpl.java:45)\n",
      "java.base/java.lang.reflect.Constructor.newInstanceWithCaller(Constructor.java:500)\n",
      "java.base/java.lang.reflect.Constructor.newInstance(Constructor.java:481)\n",
      "py4j.reflection.MethodInvoker.invoke(MethodInvoker.java:247)\n",
      "py4j.reflection.ReflectionEngine.invoke(ReflectionEngine.java:374)\n",
      "py4j.Gateway.invoke(Gateway.java:238)\n",
      "py4j.commands.ConstructorCommand.invokeConstructor(ConstructorCommand.java:80)\n",
      "py4j.commands.ConstructorCommand.execute(ConstructorCommand.java:69)\n",
      "py4j.ClientServerConnection.waitForCommands(ClientServerConnection.java:182)\n",
      "py4j.ClientServerConnection.run(ClientServerConnection.java:106)\n",
      "java.base/java.lang.Thread.run(Thread.java:840)\n"
     ]
    }
   ],
   "source": [
    "from pyspark.sql import SparkSession\n",
    "\n",
    "spark = SparkSession.builder \\\n",
    "    .appName(\"MLSpark-Logistic-Regression\") \\\n",
    "    .master(\"spark://b33dcc1265b4:7077\") \\\n",
    "    .config(\"spark.ui.port\",\"4040\") \\\n",
    "    .getOrCreate()\n",
    "sc = spark.sparkContext\n",
    "spark.conf.set(\"spark.sql.shuffle.partitions\", \"5\")"
   ]
  },
  {
   "cell_type": "markdown",
   "metadata": {},
   "source": [
    "#### Data processing"
   ]
  },
  {
   "cell_type": "code",
   "execution_count": 37,
   "metadata": {},
   "outputs": [],
   "source": [
    "from gatubelxs.spark_utils import SparkUtils\n",
    "\n",
    "\n",
    "def generate_schema(columns):\n",
    "    return [(col, \"integer\") if col != \"BMI\" else  (col, \"float\") for col in columns]"
   ]
  },
  {
   "cell_type": "code",
   "execution_count": 36,
   "metadata": {},
   "outputs": [
    {
     "name": "stdout",
     "output_type": "stream",
     "text": [
      "+----+---+---------+-------------+----------+------+---------------+------------+--------+-------+-----+-----+-----+---------+-------+----------+\n",
      "|male|age|education|currentSmoker|cigsPerDay|BPMeds|prevalentStroke|prevalentHyp|diabetes|totChol|sysBP|diaBP|  BMI|heartRate|glucose|TenYearCHD|\n",
      "+----+---+---------+-------------+----------+------+---------------+------------+--------+-------+-----+-----+-----+---------+-------+----------+\n",
      "|   1| 39|        4|            0|         0|     0|              0|           0|       0|    195|  106|   70|26.97|       80|     77|         0|\n",
      "|   0| 46|        2|            0|         0|     0|              0|           0|       0|    250|  121|   81|28.73|       95|     76|         0|\n",
      "|   1| 48|        1|            1|        20|     0|              0|           0|       0|    245| NULL|   80|25.34|       75|     70|         0|\n",
      "|   0| 61|        3|            1|        30|     0|              0|           1|       0|    225|  150|   95|28.58|       65|    103|         1|\n",
      "|   0| 46|        3|            1|        23|     0|              0|           0|       0|    285|  130|   84| 23.1|       85|     85|         0|\n",
      "|   0| 43|        2|            0|         0|     0|              0|           1|       0|    228|  180|  110| 30.3|       77|     99|         0|\n",
      "|   0| 63|        1|            0|         0|     0|              0|           0|       0|    205|  138|   71|33.11|       60|     85|         1|\n",
      "|   0| 45|        2|            1|        20|     0|              0|           0|       0|    313|  100|   71|21.68|       79|     78|         0|\n",
      "|   1| 52|        1|            0|         0|     0|              0|           1|       0|    260| NULL|   89|26.36|       76|     79|         0|\n",
      "|   1| 43|        1|            1|        30|     0|              0|           1|       0|    225|  162|  107|23.61|       93|     88|         0|\n",
      "|   0| 50|        1|            0|         0|     0|              0|           0|       0|    254|  133|   76|22.91|       75|     76|         0|\n",
      "|   0| 43|        2|            0|         0|     0|              0|           0|       0|    247|  131|   88|27.64|       72|     61|         0|\n",
      "|   1| 46|        1|            1|        15|     0|              0|           1|       0|    294|  142|   94|26.31|       98|     64|         0|\n",
      "|   0| 41|        3|            0|         0|     1|              0|           1|       0|    332|  124|   88|31.31|       65|     84|         0|\n",
      "|   0| 39|        2|            1|         9|     0|              0|           0|       0|    226|  114|   64|22.35|       85|   NULL|         0|\n",
      "|   0| 38|        2|            1|        20|     0|              0|           1|       0|    221|  140|   90|21.35|       95|     70|         1|\n",
      "|   1| 48|        3|            1|        10|     0|              0|           1|       0|    232|  138|   90|22.37|       64|     72|         0|\n",
      "|   0| 46|        2|            1|        20|     0|              0|           0|       0|    291|  112|   78|23.38|       80|     89|         1|\n",
      "|   0| 38|        2|            1|         5|     0|              0|           0|       0|    195|  122| NULL|23.24|       75|     78|         0|\n",
      "|   1| 41|        2|            0|         0|     0|              0|           0|       0|    195|  139|   88|26.88|       85|     65|         0|\n",
      "|   0| 42|        2|            1|        30|     0|              0|           0|       0|    190|  108| NULL|21.59|       72|     85|         0|\n",
      "|   0| 43|        1|            0|         0|     0|              0|           0|       0|    185| NULL| NULL|29.89|       70|   NULL|         0|\n",
      "|   0| 52|        1|            0|         0|     0|              0|           0|       0|    234|  148|   78|34.17|       70|    113|         0|\n",
      "|   0| 52|        3|            1|        20|     0|              0|           0|       0|    215|  132|   82|25.11|       71|     75|         0|\n",
      "|   1| 44|        2|            1|        30|     0|              0|           1|       0|    270| NULL|   90|21.96|       75|     83|         0|\n",
      "|   1| 47|        4|            1|        20|     0|              0|           0|       0|    294|  102|   68|24.18|       62|     66|         1|\n",
      "|   0| 60|        1|            0|         0|     0|              0|           0|       0|    260|  110| NULL|26.59|       65|   NULL|         0|\n",
      "|   1| 35|        2|            1|        20|     0|              0|           1|       0|    225|  132|   91|26.09|       73|     83|         0|\n",
      "|   0| 61|        3|            0|         0|     0|              0|           1|       0|    272|  182|  121| 32.8|       85|     65|         1|\n",
      "|   0| 60|        1|            0|         0|     0|              0|           0|       0|    247|  130|   88|30.36|       72|     74|         0|\n",
      "|   1| 36|        4|            1|        35|     0|              0|           0|       0|    295|  102|   68|28.15|       60|     63|         0|\n",
      "|   1| 43|        4|            1|        43|     0|              0|           0|       0|    226|  115| NULL|27.57|       75|     75|         0|\n",
      "|   0| 59|        1|            0|         0|     0|              0|           1|       0|    209|  150|   85|20.77|       90|     88|         1|\n",
      "|   1| 61|     NULL|            1|         5|     0|              0|           0|       0|    175|  134| NULL|18.59|       72|     75|         1|\n",
      "|   1| 54|        1|            1|        20|     0|              0|           1|       0|    214|  147|   74|24.71|       96|     87|         0|\n",
      "|   1| 37|        2|            0|         0|     0|              0|           1|       0|    225| NULL| NULL|38.53|       95|     83|         0|\n",
      "|   1| 56|     NULL|            0|         0|     0|              0|           0|       0|    257| NULL|  102|28.09|       72|     75|         0|\n",
      "|   1| 52|        1|            0|         0|     0|              0|           1|       1|    178|  160|   98|40.11|       75|    225|         0|\n",
      "|   0| 42|        1|            1|         1|     0|              0|           1|       0|    233|  153|  101|28.93|       60|     90|         0|\n",
      "|   1| 36|        3|            0|         0|     0|              0|           0|       0|    180|  111|   73|27.78|       71|     80|         0|\n",
      "+----+---+---------+-------------+----------+------+---------------+------------+--------+-------+-----+-----+-----+---------+-------+----------+\n",
      "only showing top 40 rows\n",
      "\n"
     ]
    }
   ],
   "source": [
    "columns = [\n",
    "    \"male\", \"age\", \"education\", \"currentSmoker\", \"cigsPerDay\", \"BPMeds\",\n",
    "    \"prevalentStroke\", \"prevalentHyp\", \"diabetes\", \"totChol\", \"sysBP\",\n",
    "    \"diaBP\", \"BMI\", \"heartRate\", \"glucose\", \"TenYearCHD\"\n",
    "]\n",
    "\n",
    "schema = SparkUtils.generate_schema(generate_schema(columns))\n",
    "\n",
    "ha_df = spark \\\n",
    "            .read \\\n",
    "            .schema(schema) \\\n",
    "            .option(\"header\", \"true\") \\\n",
    "            .csv(\"/home/jovyan/notebooks/data/framingham.csv\")\n",
    "\n",
    "ha_df.show(40)"
   ]
  },
  {
   "cell_type": "markdown",
   "metadata": {},
   "source": [
    "##### Replacing null elements with average"
   ]
  },
  {
   "cell_type": "code",
   "execution_count": 41,
   "metadata": {},
   "outputs": [
    {
     "name": "stdout",
     "output_type": "stream",
     "text": [
      "+----+---+---------+-------------+----------+------+---------------+------------+--------+-------+-----+-----+-----+---------+-------+----------+\n",
      "|male|age|education|currentSmoker|cigsPerDay|BPMeds|prevalentStroke|prevalentHyp|diabetes|totChol|sysBP|diaBP|  BMI|heartRate|glucose|TenYearCHD|\n",
      "+----+---+---------+-------------+----------+------+---------------+------------+--------+-------+-----+-----+-----+---------+-------+----------+\n",
      "|   1| 39|        4|            0|         0|     0|              0|           0|       0|    195|  106|   70|26.97|       80|     77|         0|\n",
      "|   0| 46|        2|            0|         0|     0|              0|           0|       0|    250|  121|   81|28.73|       95|     76|         0|\n",
      "|   1| 48|        1|            1|        20|     0|              0|           0|       0|    245|  132|   80|25.34|       75|     70|         0|\n",
      "|   0| 61|        3|            1|        30|     0|              0|           1|       0|    225|  150|   95|28.58|       65|    103|         1|\n",
      "|   0| 46|        3|            1|        23|     0|              0|           0|       0|    285|  130|   84| 23.1|       85|     85|         0|\n",
      "|   0| 43|        2|            0|         0|     0|              0|           1|       0|    228|  180|  110| 30.3|       77|     99|         0|\n",
      "|   0| 63|        1|            0|         0|     0|              0|           0|       0|    205|  138|   71|33.11|       60|     85|         1|\n",
      "|   0| 45|        2|            1|        20|     0|              0|           0|       0|    313|  100|   71|21.68|       79|     78|         0|\n",
      "|   1| 52|        1|            0|         0|     0|              0|           1|       0|    260|  132|   89|26.36|       76|     79|         0|\n",
      "|   1| 43|        1|            1|        30|     0|              0|           1|       0|    225|  162|  107|23.61|       93|     88|         0|\n",
      "|   0| 50|        1|            0|         0|     0|              0|           0|       0|    254|  133|   76|22.91|       75|     76|         0|\n",
      "|   0| 43|        2|            0|         0|     0|              0|           0|       0|    247|  131|   88|27.64|       72|     61|         0|\n",
      "|   1| 46|        1|            1|        15|     0|              0|           1|       0|    294|  142|   94|26.31|       98|     64|         0|\n",
      "|   0| 41|        3|            0|         0|     1|              0|           1|       0|    332|  124|   88|31.31|       65|     84|         0|\n",
      "|   0| 39|        2|            1|         9|     0|              0|           0|       0|    226|  114|   64|22.35|       85|     81|         0|\n",
      "|   0| 38|        2|            1|        20|     0|              0|           1|       0|    221|  140|   90|21.35|       95|     70|         1|\n",
      "|   1| 48|        3|            1|        10|     0|              0|           1|       0|    232|  138|   90|22.37|       64|     72|         0|\n",
      "|   0| 46|        2|            1|        20|     0|              0|           0|       0|    291|  112|   78|23.38|       80|     89|         1|\n",
      "|   0| 38|        2|            1|         5|     0|              0|           0|       0|    195|  122|   83|23.24|       75|     78|         0|\n",
      "|   1| 41|        2|            0|         0|     0|              0|           0|       0|    195|  139|   88|26.88|       85|     65|         0|\n",
      "|   0| 42|        2|            1|        30|     0|              0|           0|       0|    190|  108|   83|21.59|       72|     85|         0|\n",
      "|   0| 43|        1|            0|         0|     0|              0|           0|       0|    185|  132|   83|29.89|       70|     81|         0|\n",
      "|   0| 52|        1|            0|         0|     0|              0|           0|       0|    234|  148|   78|34.17|       70|    113|         0|\n",
      "|   0| 52|        3|            1|        20|     0|              0|           0|       0|    215|  132|   82|25.11|       71|     75|         0|\n",
      "|   1| 44|        2|            1|        30|     0|              0|           1|       0|    270|  132|   90|21.96|       75|     83|         0|\n",
      "|   1| 47|        4|            1|        20|     0|              0|           0|       0|    294|  102|   68|24.18|       62|     66|         1|\n",
      "|   0| 60|        1|            0|         0|     0|              0|           0|       0|    260|  110|   83|26.59|       65|     81|         0|\n",
      "|   1| 35|        2|            1|        20|     0|              0|           1|       0|    225|  132|   91|26.09|       73|     83|         0|\n",
      "|   0| 61|        3|            0|         0|     0|              0|           1|       0|    272|  182|  121| 32.8|       85|     65|         1|\n",
      "|   0| 60|        1|            0|         0|     0|              0|           0|       0|    247|  130|   88|30.36|       72|     74|         0|\n",
      "|   1| 36|        4|            1|        35|     0|              0|           0|       0|    295|  102|   68|28.15|       60|     63|         0|\n",
      "|   1| 43|        4|            1|        43|     0|              0|           0|       0|    226|  115|   83|27.57|       75|     75|         0|\n",
      "|   0| 59|        1|            0|         0|     0|              0|           1|       0|    209|  150|   85|20.77|       90|     88|         1|\n",
      "|   1| 61|        1|            1|         5|     0|              0|           0|       0|    175|  134|   83|18.59|       72|     75|         1|\n",
      "|   1| 54|        1|            1|        20|     0|              0|           1|       0|    214|  147|   74|24.71|       96|     87|         0|\n",
      "|   1| 37|        2|            0|         0|     0|              0|           1|       0|    225|  132|   83|38.53|       95|     83|         0|\n",
      "|   1| 56|        1|            0|         0|     0|              0|           0|       0|    257|  132|  102|28.09|       72|     75|         0|\n",
      "|   1| 52|        1|            0|         0|     0|              0|           1|       1|    178|  160|   98|40.11|       75|    225|         0|\n",
      "|   0| 42|        1|            1|         1|     0|              0|           1|       0|    233|  153|  101|28.93|       60|     90|         0|\n",
      "|   1| 36|        3|            0|         0|     0|              0|           0|       0|    180|  111|   73|27.78|       71|     80|         0|\n",
      "+----+---+---------+-------------+----------+------+---------------+------------+--------+-------+-----+-----+-----+---------+-------+----------+\n",
      "only showing top 40 rows\n",
      "\n"
     ]
    }
   ],
   "source": [
    "from pyspark.sql.functions import col, avg, isnan\n",
    "\n",
    "#Consideramos tanto nA, como que en el csv vinieran valores vacíos\n",
    "\n",
    "null_cols = [c for c in ha_df.columns if ha_df.filter(col(c).isNull() | isnan(col(c))).count() > 0]\n",
    "\n",
    "averages = ha_df.select([avg(col(c)).alias(c) for c in null_cols]).first().asDict()\n",
    "\n",
    "ha_df = ha_df.fillna(averages)\n",
    "\n",
    "ha_df.show(40)"
   ]
  },
  {
   "cell_type": "markdown",
   "metadata": {},
   "source": [
    "##### Assembly into a single vector column"
   ]
  },
  {
   "cell_type": "code",
   "execution_count": 44,
   "metadata": {},
   "outputs": [],
   "source": [
    "from pyspark.ml.feature import VectorAssembler\n",
    "\n",
    "assembler = VectorAssembler(inputCols=columns[:-1], outputCol=\"features\")\n",
    "data_with_features = assembler.transform(ha_df).select(\"TenYearCHD\", \"features\")"
   ]
  },
  {
   "cell_type": "markdown",
   "metadata": {},
   "source": [
    "##### Split the data into training and test sets"
   ]
  },
  {
   "cell_type": "code",
   "execution_count": 46,
   "metadata": {},
   "outputs": [
    {
     "name": "stdout",
     "output_type": "stream",
     "text": [
      "+----------+--------------------+\n",
      "|TenYearCHD|            features|\n",
      "+----------+--------------------+\n",
      "|         0|[1.0,39.0,4.0,0.0...|\n",
      "|         0|(15,[1,2,9,10,11,...|\n",
      "|         0|[1.0,48.0,1.0,1.0...|\n",
      "|         1|[0.0,61.0,3.0,1.0...|\n",
      "|         0|[0.0,46.0,3.0,1.0...|\n",
      "|         0|[0.0,43.0,2.0,0.0...|\n",
      "|         1|(15,[1,2,9,10,11,...|\n",
      "|         0|[0.0,45.0,2.0,1.0...|\n",
      "|         0|[1.0,52.0,1.0,0.0...|\n",
      "|         0|[1.0,43.0,1.0,1.0...|\n",
      "|         0|(15,[1,2,9,10,11,...|\n",
      "|         0|(15,[1,2,9,10,11,...|\n",
      "|         0|[1.0,46.0,1.0,1.0...|\n",
      "|         0|[0.0,41.0,3.0,0.0...|\n",
      "|         0|[0.0,39.0,2.0,1.0...|\n",
      "|         1|[0.0,38.0,2.0,1.0...|\n",
      "|         0|[1.0,48.0,3.0,1.0...|\n",
      "|         1|[0.0,46.0,2.0,1.0...|\n",
      "|         0|[0.0,38.0,2.0,1.0...|\n",
      "|         0|[1.0,41.0,2.0,0.0...|\n",
      "+----------+--------------------+\n",
      "only showing top 20 rows\n",
      "\n",
      "+----------+--------------------+\n",
      "|TenYearCHD|            features|\n",
      "+----------+--------------------+\n",
      "|         0|(15,[1,2,9,10,11,...|\n",
      "|         0|(15,[1,2,9,10,11,...|\n",
      "|         0|(15,[1,2,9,10,11,...|\n",
      "|         0|(15,[1,2,9,10,11,...|\n",
      "|         0|(15,[1,2,9,10,11,...|\n",
      "|         0|(15,[1,2,9,10,11,...|\n",
      "|         0|(15,[1,2,9,10,11,...|\n",
      "|         0|(15,[1,2,9,10,11,...|\n",
      "|         0|(15,[1,2,9,10,11,...|\n",
      "|         0|(15,[1,2,9,10,11,...|\n",
      "|         0|(15,[1,2,9,10,11,...|\n",
      "|         0|(15,[1,2,9,10,11,...|\n",
      "|         0|(15,[1,2,9,10,11,...|\n",
      "|         0|(15,[1,2,9,10,11,...|\n",
      "|         0|(15,[1,2,9,10,11,...|\n",
      "|         0|(15,[1,2,9,10,11,...|\n",
      "|         0|(15,[1,2,9,10,11,...|\n",
      "|         0|(15,[1,2,9,10,11,...|\n",
      "|         0|(15,[1,2,9,10,11,...|\n",
      "|         0|(15,[1,2,9,10,11,...|\n",
      "+----------+--------------------+\n",
      "only showing top 20 rows\n",
      "\n"
     ]
    }
   ],
   "source": [
    "train_df, test_df = data_with_features.randomSplit([0.8, 0.2], seed=57)\n",
    "\n",
    "data_with_features.show()\n",
    "train_df.show()"
   ]
  },
  {
   "cell_type": "markdown",
   "metadata": {},
   "source": [
    "##### Logistic regression model "
   ]
  },
  {
   "cell_type": "code",
   "execution_count": 58,
   "metadata": {},
   "outputs": [],
   "source": [
    "from pyspark.ml.classification import LogisticRegression\n",
    "lr = LogisticRegression(featuresCol=\"features\", labelCol=\"TenYearCHD\", maxIter=50, regParam=0.01)"
   ]
  },
  {
   "cell_type": "code",
   "execution_count": 59,
   "metadata": {},
   "outputs": [
    {
     "name": "stdout",
     "output_type": "stream",
     "text": [
      "Coefficients: [0.6093336889562436,0.05686563855920877,-0.006811104913662874,0.05043862414111315,0.014680896132736732,0.15109953408809976,0.9618356797751035,0.34454921724887805,0.44311719368984537,0.002093890482430468,0.012032102806718303,0.002652074005620021,-0.004814430532123205,0.0025803732985755458,0.0037639109957434097]\n"
     ]
    }
   ],
   "source": [
    "lr_model = lr.fit(train_df)\n",
    "\n",
    "print(f\"Coefficients: {str(lr_model.coefficients)}\")\n",
    "\n",
    "training_summary = lr_model.summary"
   ]
  },
  {
   "cell_type": "code",
   "execution_count": 60,
   "metadata": {},
   "outputs": [
    {
     "name": "stdout",
     "output_type": "stream",
     "text": [
      "+--------------------+----------+--------------------+\n",
      "|            features|prediction|         probability|\n",
      "+--------------------+----------+--------------------+\n",
      "|(15,[1,2,9,10,11,...|       0.0|[0.97204891037137...|\n",
      "|(15,[1,2,9,10,11,...|       0.0|[0.97654476134385...|\n",
      "|(15,[1,2,9,10,11,...|       0.0|[0.96606844595706...|\n",
      "|(15,[1,2,9,10,11,...|       0.0|[0.96831352176818...|\n",
      "|(15,[1,2,9,10,11,...|       0.0|[0.96756823548121...|\n",
      "|(15,[1,2,9,10,11,...|       0.0|[0.96538272861746...|\n",
      "|(15,[1,2,9,10,11,...|       0.0|[0.96248816198444...|\n",
      "|(15,[1,2,9,10,11,...|       0.0|[0.96313737282447...|\n",
      "|(15,[1,2,9,10,11,...|       0.0|[0.97389242112157...|\n",
      "|(15,[1,2,9,10,11,...|       0.0|[0.97223671621664...|\n",
      "|(15,[1,2,9,10,11,...|       0.0|[0.97255560566194...|\n",
      "|(15,[1,2,9,10,11,...|       0.0|[0.97121528876029...|\n",
      "|(15,[1,2,9,10,11,...|       0.0|[0.95236582284208...|\n",
      "|(15,[1,2,9,10,11,...|       0.0|[0.97407197937777...|\n",
      "|(15,[1,2,9,10,11,...|       0.0|[0.96153091018560...|\n",
      "|(15,[1,2,9,10,11,...|       0.0|[0.95981671359136...|\n",
      "|(15,[1,2,9,10,11,...|       0.0|[0.97256445800227...|\n",
      "|(15,[1,2,9,10,11,...|       0.0|[0.96519632753215...|\n",
      "|(15,[1,2,9,10,11,...|       0.0|[0.96400837232554...|\n",
      "|(15,[1,2,9,10,11,...|       0.0|[0.97217983280408...|\n",
      "+--------------------+----------+--------------------+\n",
      "only showing top 20 rows\n",
      "\n"
     ]
    }
   ],
   "source": [
    "predictions = lr_model.transform(test_df)\n",
    "predictions.select(\"features\", \"prediction\", \"probability\").show()"
   ]
  },
  {
   "cell_type": "code",
   "execution_count": 62,
   "metadata": {},
   "outputs": [
    {
     "name": "stdout",
     "output_type": "stream",
     "text": [
      "f1: 0.7950821936016481\n"
     ]
    }
   ],
   "source": [
    "from pyspark.ml.evaluation import MulticlassClassificationEvaluator\n",
    "\n",
    "evaluator = MulticlassClassificationEvaluator(labelCol=\"TenYearCHD\", predictionCol=\"prediction\")\n",
    "\n",
    "f1 = evaluator.evaluate(predictions, {evaluator.metricName: \"f1\"})\n",
    "\n",
    "print('f1: {}'.format(f1))"
   ]
  },
  {
   "cell_type": "markdown",
   "metadata": {},
   "source": [
    "##### Predictions"
   ]
  },
  {
   "cell_type": "code",
   "execution_count": 26,
   "metadata": {},
   "outputs": [
    {
     "name": "stderr",
     "output_type": "stream",
     "text": [
      "25/04/29 23:12:23 WARN StandaloneAppClient$ClientEndpoint: Failed to connect to master b33dcc1265b4:7707\n",
      "org.apache.spark.SparkException: Exception thrown in awaitResult: \n",
      "\tat org.apache.spark.util.SparkThreadUtils$.awaitResult(SparkThreadUtils.scala:56)\n",
      "\tat org.apache.spark.util.ThreadUtils$.awaitResult(ThreadUtils.scala:310)\n",
      "\tat org.apache.spark.rpc.RpcTimeout.awaitResult(RpcTimeout.scala:75)\n",
      "\tat org.apache.spark.rpc.RpcEnv.setupEndpointRefByURI(RpcEnv.scala:102)\n",
      "\tat org.apache.spark.rpc.RpcEnv.setupEndpointRef(RpcEnv.scala:110)\n",
      "\tat org.apache.spark.deploy.client.StandaloneAppClient$ClientEndpoint$$anon$1.run(StandaloneAppClient.scala:108)\n",
      "\tat java.base/java.util.concurrent.Executors$RunnableAdapter.call(Executors.java:539)\n",
      "\tat java.base/java.util.concurrent.FutureTask.run(FutureTask.java:264)\n",
      "\tat java.base/java.util.concurrent.ThreadPoolExecutor.runWorker(ThreadPoolExecutor.java:1136)\n",
      "\tat java.base/java.util.concurrent.ThreadPoolExecutor$Worker.run(ThreadPoolExecutor.java:635)\n",
      "\tat java.base/java.lang.Thread.run(Thread.java:840)\n",
      "Caused by: java.io.IOException: Failed to connect to b33dcc1265b4/172.28.0.2:7707\n",
      "\tat org.apache.spark.network.client.TransportClientFactory.createClient(TransportClientFactory.java:294)\n",
      "\tat org.apache.spark.network.client.TransportClientFactory.createClient(TransportClientFactory.java:214)\n",
      "\tat org.apache.spark.network.client.TransportClientFactory.createClient(TransportClientFactory.java:226)\n",
      "\tat org.apache.spark.rpc.netty.NettyRpcEnv.createClient(NettyRpcEnv.scala:204)\n",
      "\tat org.apache.spark.rpc.netty.Outbox$$anon$1.call(Outbox.scala:202)\n",
      "\tat org.apache.spark.rpc.netty.Outbox$$anon$1.call(Outbox.scala:198)\n",
      "\t... 4 more\n",
      "Caused by: io.netty.channel.AbstractChannel$AnnotatedConnectException: Connection refused: b33dcc1265b4/172.28.0.2:7707\n",
      "Caused by: java.net.ConnectException: Connection refused\n",
      "\tat java.base/sun.nio.ch.Net.pollConnect(Native Method)\n",
      "\tat java.base/sun.nio.ch.Net.pollConnectNow(Net.java:672)\n",
      "\tat java.base/sun.nio.ch.SocketChannelImpl.finishConnect(SocketChannelImpl.java:946)\n",
      "\tat io.netty.channel.socket.nio.NioSocketChannel.doFinishConnect(NioSocketChannel.java:337)\n",
      "\tat io.netty.channel.nio.AbstractNioChannel$AbstractNioUnsafe.finishConnect(AbstractNioChannel.java:334)\n",
      "\tat io.netty.channel.nio.NioEventLoop.processSelectedKey(NioEventLoop.java:776)\n",
      "\tat io.netty.channel.nio.NioEventLoop.processSelectedKeysOptimized(NioEventLoop.java:724)\n",
      "\tat io.netty.channel.nio.NioEventLoop.processSelectedKeys(NioEventLoop.java:650)\n",
      "\tat io.netty.channel.nio.NioEventLoop.run(NioEventLoop.java:562)\n",
      "\tat io.netty.util.concurrent.SingleThreadEventExecutor$4.run(SingleThreadEventExecutor.java:997)\n",
      "\tat io.netty.util.internal.ThreadExecutorMap$2.run(ThreadExecutorMap.java:74)\n",
      "\tat io.netty.util.concurrent.FastThreadLocalRunnable.run(FastThreadLocalRunnable.java:30)\n",
      "\tat java.base/java.lang.Thread.run(Thread.java:840)\n",
      "25/04/29 23:12:43 ERROR StandaloneSchedulerBackend: Application has been killed. Reason: All masters are unresponsive! Giving up.\n",
      "25/04/29 23:12:43 WARN StandaloneSchedulerBackend: Application ID is not initialized yet.\n",
      "25/04/29 23:12:43 ERROR SparkContext: Error initializing SparkContext.\n",
      "java.lang.NullPointerException: Cannot invoke \"org.apache.spark.SparkEnv.blockManager()\" because the return value of \"org.apache.spark.SparkEnv.get()\" is null\n",
      "\tat org.apache.spark.shuffle.sort.io.LocalDiskShuffleDriverComponents.initializeApplication(LocalDiskShuffleDriverComponents.java:33)\n",
      "\tat org.apache.spark.SparkContext.<init>(SparkContext.scala:611)\n",
      "\tat org.apache.spark.api.java.JavaSparkContext.<init>(JavaSparkContext.scala:58)\n",
      "\tat java.base/jdk.internal.reflect.NativeConstructorAccessorImpl.newInstance0(Native Method)\n",
      "\tat java.base/jdk.internal.reflect.NativeConstructorAccessorImpl.newInstance(NativeConstructorAccessorImpl.java:77)\n",
      "\tat java.base/jdk.internal.reflect.DelegatingConstructorAccessorImpl.newInstance(DelegatingConstructorAccessorImpl.java:45)\n",
      "\tat java.base/java.lang.reflect.Constructor.newInstanceWithCaller(Constructor.java:500)\n",
      "\tat java.base/java.lang.reflect.Constructor.newInstance(Constructor.java:481)\n",
      "\tat py4j.reflection.MethodInvoker.invoke(MethodInvoker.java:247)\n",
      "\tat py4j.reflection.ReflectionEngine.invoke(ReflectionEngine.java:374)\n",
      "\tat py4j.Gateway.invoke(Gateway.java:238)\n",
      "\tat py4j.commands.ConstructorCommand.invokeConstructor(ConstructorCommand.java:80)\n",
      "\tat py4j.commands.ConstructorCommand.execute(ConstructorCommand.java:69)\n",
      "\tat py4j.ClientServerConnection.waitForCommands(ClientServerConnection.java:182)\n",
      "\tat py4j.ClientServerConnection.run(ClientServerConnection.java:106)\n",
      "\tat java.base/java.lang.Thread.run(Thread.java:840)\n",
      "25/04/29 23:12:43 WARN StandaloneAppClient$ClientEndpoint: Drop UnregisterApplication(null) because has not yet connected to master\n",
      "25/04/29 23:12:43 WARN MetricsSystem: Stopping a MetricsSystem that is not running\n"
     ]
    }
   ],
   "source": [
    "sc.stop()"
   ]
  },
  {
   "cell_type": "code",
   "execution_count": null,
   "metadata": {},
   "outputs": [],
   "source": []
  }
 ],
 "metadata": {
  "kernelspec": {
   "display_name": "Python 3 (ipykernel)",
   "language": "python",
   "name": "python3"
  },
  "language_info": {
   "codemirror_mode": {
    "name": "ipython",
    "version": 3
   },
   "file_extension": ".py",
   "mimetype": "text/x-python",
   "name": "python",
   "nbconvert_exporter": "python",
   "pygments_lexer": "ipython3",
   "version": "3.11.6"
  }
 },
 "nbformat": 4,
 "nbformat_minor": 2
}
