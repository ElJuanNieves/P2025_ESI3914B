{
 "cells": [
  {
   "cell_type": "markdown",
   "metadata": {},
   "source": [
    "# <center> <img src=\"../img/ITESOLogo.png\" alt=\"ITESO\" width=\"480\" height=\"130\"> </center>\n",
    "# <center> **Departamento de Electrónica, Sistemas e Informática** </center>\n",
    "---\n",
    "## <center> **Procesamiento de Datos Masivos** </center>\n",
    "---\n",
    "### <center> **Primavera 2025** </center>\n",
    "---\n",
    "### <center> **Code Lab 10: Heart attack prediction with Logistic Regression** </center>\n",
    "\n",
    "---\n",
    "**Profesor**: Dr. Pablo Camarillo Ramirez"
   ]
  },
  {
   "cell_type": "code",
   "execution_count": null,
   "metadata": {},
   "outputs": [],
   "source": [
    "import findspark\n",
    "findspark.init()"
   ]
  },
  {
   "cell_type": "markdown",
   "metadata": {},
   "source": [
    "#### Creacion de la conexión con el cluster de spark\n"
   ]
  },
  {
   "cell_type": "code",
   "execution_count": 2,
   "metadata": {},
   "outputs": [
    {
     "name": "stderr",
     "output_type": "stream",
     "text": [
      "Setting default log level to \"WARN\".\n",
      "To adjust logging level use sc.setLogLevel(newLevel). For SparkR, use setLogLevel(newLevel).\n",
      "25/04/25 15:09:01 WARN NativeCodeLoader: Unable to load native-hadoop library for your platform... using builtin-java classes where applicable\n"
     ]
    }
   ],
   "source": [
    "from pyspark.sql import SparkSession\n",
    "\n",
    "spark = SparkSession.builder \\\n",
    "    .appName(\"MLSpark-Logistic-Regression\") \\\n",
    "    .master(\"spark://80d04dce9402:7077\") \\\n",
    "    .config(\"spark.ui.port\",\"4040\") \\\n",
    "    .getOrCreate()\n",
    "sc = spark.sparkContext\n",
    "spark.conf.set(\"spark.sql.shuffle.partitions\", \"5\")"
   ]
  },
  {
   "cell_type": "markdown",
   "metadata": {},
   "source": [
    "### Preparación de Datos"
   ]
  },
  {
   "cell_type": "code",
   "execution_count": null,
   "metadata": {},
   "outputs": [],
   "source": [
    "from team_name.spark_utils import SparkUtils\n",
    "\n",
    "# Define schema for the DataFrame\n",
    "schema = SparkUtils.generate_schema([(\"male\", \"integer\"),\n",
    "                                    (\"age\", \"integer\"),\n",
    "                                    (\"education\", \"integer\"),\n",
    "                                    (\"currentSmoker\", \"integer\"),\n",
    "                                    (\"cigsPerDay\", \"integer\"),\n",
    "                                    (\"BPMeds\", \"integer\"),\n",
    "                                    (\"prevalentStroke\", \"integer\"),\n",
    "                                    (\"prevalentHyp\", \"integer\"),\n",
    "                                    (\"diabetes\", \"integer\"),\n",
    "                                    (\"totChol\", \"float\"),\n",
    "                                    (\"sysBP\", \"float\"),\n",
    "                                    (\"diaBP\", \"float\"),\n",
    "                                    (\"BMI\", \"float\"),\n",
    "                                    (\"heartRate\", \"float\"),\n",
    "                                    (\"glucose\", \"float\"),\n",
    "                                    (\"TenYearCHD\", \"integer\")\n",
    "                                    ])\n",
    "# Create DataFrame\n",
    "heart_df = spark \\\n",
    "                .read \\\n",
    "                .schema(schema) \\\n",
    "                .option(\"header\", \"true\") \\\n",
    "                .csv(\"/home/jovyan/notebooks/data/heart_disease/framingham.csv\")"
   ]
  },
  {
   "cell_type": "code",
   "execution_count": 41,
   "metadata": {},
   "outputs": [
    {
     "data": {
      "text/plain": [
       "4238"
      ]
     },
     "execution_count": 41,
     "metadata": {},
     "output_type": "execute_result"
    }
   ],
   "source": [
    "heart_df.count()"
   ]
  },
  {
   "cell_type": "markdown",
   "metadata": {},
   "source": [
    "### Assemble the features into a single vector column"
   ]
  },
  {
   "cell_type": "code",
   "execution_count": null,
   "metadata": {},
   "outputs": [
    {
     "name": "stdout",
     "output_type": "stream",
     "text": [
      "+-----+--------------------+\n",
      "|label|            features|\n",
      "+-----+--------------------+\n",
      "|    0|[1.0,39.0,4.0,0.0...|\n",
      "|    0|(15,[1,2,9,10,11,...|\n",
      "|    0|[1.0,48.0,1.0,1.0...|\n",
      "|    1|[0.0,61.0,3.0,1.0...|\n",
      "|    0|[0.0,46.0,3.0,1.0...|\n",
      "+-----+--------------------+\n",
      "only showing top 5 rows\n",
      "\n"
     ]
    }
   ],
   "source": [
    "from pyspark.ml.feature import VectorAssembler\n",
    "from pyspark.sql.functions import col, avg\n",
    "\n",
    "assembler_input_cols = ['male', 'age', 'education', 'currentSmoker', 'cigsPerDay',\n",
    "                        'BPMeds', 'prevalentStroke', 'prevalentHyp', 'diabetes',\n",
    "                        'totChol', 'sysBP', 'diaBP', 'BMI', 'heartRate', 'glucose']\n",
    "\n",
    "\n",
    "# Llenar nulos con media\n",
    "mean_values = heart_df.select([\n",
    "    avg(col(c)).alias(c) for c in assembler_input_cols\n",
    "]).collect()[0].asDict()\n",
    "\n",
    "# Reemplazar valores nulos\n",
    "heart_df_filled = heart_df.fillna(mean_values)\n",
    "\n",
    "# Aplicar el ensamblador\n",
    "assembler = VectorAssembler(inputCols=assembler_input_cols, outputCol=\"features\")\n",
    "data_with_features = assembler.transform(heart_df_filled)\n",
    "\n",
    "# Renombrar la columna objetivo como \"label\" para usar en modelos MLlib\n",
    "data_with_features = data_with_features.withColumnRenamed(\"TenYearCHD\", \"label\")\n",
    "\n",
    "\n",
    "# Seleccionar solo las columnas relevantes para el modelo\n",
    "final_data = data_with_features.select(\"label\", \"features\")\n",
    "final_data.show(5)"
   ]
  },
  {
   "cell_type": "markdown",
   "metadata": {},
   "source": [
    "### Split the data into training and test sets 80% training data and 20% testing data"
   ]
  },
  {
   "cell_type": "code",
   "execution_count": 46,
   "metadata": {},
   "outputs": [],
   "source": [
    "train_df, test_df = final_data.randomSplit([0.8, 0.2], seed=57)"
   ]
  },
  {
   "cell_type": "markdown",
   "metadata": {},
   "source": [
    "### Show the whole dataset"
   ]
  },
  {
   "cell_type": "code",
   "execution_count": 47,
   "metadata": {},
   "outputs": [
    {
     "name": "stdout",
     "output_type": "stream",
     "text": [
      "Original Dataset\n",
      "+-----+--------------------+\n",
      "|label|            features|\n",
      "+-----+--------------------+\n",
      "|    0|[1.0,39.0,4.0,0.0...|\n",
      "|    0|(15,[1,2,9,10,11,...|\n",
      "|    0|[1.0,48.0,1.0,1.0...|\n",
      "|    1|[0.0,61.0,3.0,1.0...|\n",
      "|    0|[0.0,46.0,3.0,1.0...|\n",
      "+-----+--------------------+\n",
      "only showing top 5 rows\n",
      "\n",
      "train set\n",
      "+-----+--------------------+\n",
      "|label|            features|\n",
      "+-----+--------------------+\n",
      "|    0|(15,[1,2,9,10,11,...|\n",
      "|    0|(15,[1,2,9,10,11,...|\n",
      "|    0|(15,[1,2,9,10,11,...|\n",
      "|    0|(15,[1,2,9,10,11,...|\n",
      "|    0|(15,[1,2,9,10,11,...|\n",
      "+-----+--------------------+\n",
      "only showing top 5 rows\n",
      "\n"
     ]
    }
   ],
   "source": [
    "print(\"Original Dataset\")\n",
    "final_data.show(5)\n",
    "\n",
    "# Print train dataset\n",
    "print(\"train set\")\n",
    "train_df.show(5)"
   ]
  },
  {
   "cell_type": "code",
   "execution_count": 48,
   "metadata": {},
   "outputs": [
    {
     "name": "stdout",
     "output_type": "stream",
     "text": [
      "Full dataset: 4238\n",
      "Train dataset: 3376\n",
      "Test dataset: 862\n"
     ]
    }
   ],
   "source": [
    "print(f\"Full dataset: {final_data.count()}\")\n",
    "print(f\"Train dataset: {train_df.count()}\")\n",
    "print(f\"Test dataset: {test_df.count()}\")\n"
   ]
  },
  {
   "cell_type": "markdown",
   "metadata": {},
   "source": [
    "### Create a logistic regression model"
   ]
  },
  {
   "cell_type": "code",
   "execution_count": 49,
   "metadata": {},
   "outputs": [],
   "source": [
    "from pyspark.ml.classification import LogisticRegression\n",
    "lr = LogisticRegression(maxIter=10, regParam=0.01)\n"
   ]
  },
  {
   "cell_type": "markdown",
   "metadata": {},
   "source": [
    "# TRAINNING"
   ]
  },
  {
   "cell_type": "code",
   "execution_count": 50,
   "metadata": {},
   "outputs": [
    {
     "name": "stdout",
     "output_type": "stream",
     "text": [
      "Coefficients: [0.6198313640500984,0.05573756860715636,-0.003201845606875305,0.056835717915893015,0.01468454629101763,0.16046390935074994,1.0040710593385345,0.3186421380151852,0.40293190655759714,0.002000858085421182,0.013388209920605687,-0.002957611579838103,-0.0029546291518847785,0.002803604745808852,0.004031326668904733]\n"
     ]
    }
   ],
   "source": [
    "lr_model = lr.fit(train_df)\n",
    "\n",
    "# Print coefficients\n",
    "print(\"Coefficients: \" + str(lr_model.coefficients))\n",
    "\n",
    "# Display model summary\n",
    "training_summary = lr_model.summary"
   ]
  },
  {
   "cell_type": "markdown",
   "metadata": {},
   "source": [
    "### Predictions"
   ]
  },
  {
   "cell_type": "code",
   "execution_count": 53,
   "metadata": {},
   "outputs": [
    {
     "name": "stdout",
     "output_type": "stream",
     "text": [
      "+--------------------+----------+--------------------+\n",
      "|            features|prediction|         probability|\n",
      "+--------------------+----------+--------------------+\n",
      "|(15,[1,2,9,10,11,...|       0.0|[0.97126652084688...|\n",
      "|(15,[1,2,9,10,11,...|       0.0|[0.97444119781175...|\n",
      "|(15,[1,2,9,10,11,...|       0.0|[0.96545091302543...|\n",
      "|(15,[1,2,9,10,11,...|       0.0|[0.97192974539298...|\n",
      "|(15,[1,2,9,10,11,...|       0.0|[0.96419101941342...|\n",
      "|(15,[1,2,9,10,11,...|       0.0|[0.97392092282790...|\n",
      "|(15,[1,2,9,10,11,...|       0.0|[0.96310016663650...|\n",
      "|(15,[1,2,9,10,11,...|       0.0|[0.96309095781961...|\n",
      "|(15,[1,2,9,10,11,...|       0.0|[0.97327111342332...|\n",
      "|(15,[1,2,9,10,11,...|       0.0|[0.97202575157040...|\n",
      "|(15,[1,2,9,10,11,...|       0.0|[0.97310192617033...|\n",
      "|(15,[1,2,9,10,11,...|       0.0|[0.97070979011296...|\n",
      "|(15,[1,2,9,10,11,...|       0.0|[0.95119787638376...|\n",
      "|(15,[1,2,9,10,11,...|       0.0|[0.97275068879996...|\n",
      "|(15,[1,2,9,10,11,...|       0.0|[0.96234955565376...|\n",
      "|(15,[1,2,9,10,11,...|       0.0|[0.95645164560997...|\n",
      "|(15,[1,2,9,10,11,...|       0.0|[0.97142380743641...|\n",
      "|(15,[1,2,9,10,11,...|       0.0|[0.96482338505005...|\n",
      "|(15,[1,2,9,10,11,...|       0.0|[0.96379314486451...|\n",
      "|(15,[1,2,9,10,11,...|       0.0|[0.97068198772612...|\n",
      "+--------------------+----------+--------------------+\n",
      "only showing top 20 rows\n",
      "\n"
     ]
    }
   ],
   "source": [
    "# Use the trained model to make predictions on the test data\n",
    "predictions = lr_model.transform(test_df)\n",
    "\n",
    "# Show predictions\n",
    "predictions.select(\"features\", \"prediction\", \"probability\").show(20)"
   ]
  },
  {
   "cell_type": "markdown",
   "metadata": {},
   "source": [
    "### Evaluation"
   ]
  },
  {
   "cell_type": "code",
   "execution_count": 54,
   "metadata": {},
   "outputs": [
    {
     "name": "stdout",
     "output_type": "stream",
     "text": [
      "Accuracy: 0.86 - Precision: 0.86 - Recall: 0.86 - F1-Score: 0.80\n"
     ]
    }
   ],
   "source": [
    "from pyspark.ml.evaluation import MulticlassClassificationEvaluator\n",
    "\n",
    "evaluator = MulticlassClassificationEvaluator(labelCol=\"label\", predictionCol=\"prediction\")\n",
    "accuracy = evaluator.evaluate(predictions, {evaluator.metricName: \"accuracy\"})\n",
    "precision = evaluator.evaluate(predictions, {evaluator.metricName: \"weightedPrecision\"})\n",
    "recall = evaluator.evaluate(predictions, {evaluator.metricName: \"weightedRecall\"})\n",
    "f1 = evaluator.evaluate(predictions, {evaluator.metricName: \"f1\"})\n",
    "\n",
    "print(f\"Accuracy: {accuracy:.2f} - Precision: {precision:.2f} - Recall: {recall:.2f} - F1-Score: {f1:.2f}\")\n"
   ]
  },
  {
   "cell_type": "code",
   "execution_count": 55,
   "metadata": {},
   "outputs": [],
   "source": [
    "sc.stop()"
   ]
  }
 ],
 "metadata": {
  "kernelspec": {
   "display_name": "Python 3 (ipykernel)",
   "language": "python",
   "name": "python3"
  },
  "language_info": {
   "codemirror_mode": {
    "name": "ipython",
    "version": 3
   },
   "file_extension": ".py",
   "mimetype": "text/x-python",
   "name": "python",
   "nbconvert_exporter": "python",
   "pygments_lexer": "ipython3",
   "version": "3.11.6"
  }
 },
 "nbformat": 4,
 "nbformat_minor": 2
}
