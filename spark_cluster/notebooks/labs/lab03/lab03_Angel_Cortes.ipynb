{
 "cells": [
  {
   "cell_type": "markdown",
   "metadata": {},
   "source": [
    "### Lab 03"
   ]
  },
  {
   "cell_type": "code",
   "execution_count": null,
   "metadata": {},
   "outputs": [],
   "source": [
    "import findspark\n",
    "findspark.init()"
   ]
  },
  {
   "cell_type": "code",
   "execution_count": null,
   "metadata": {},
   "outputs": [
    {
     "name": "stderr",
     "output_type": "stream",
     "text": [
      "Setting default log level to \"WARN\".\n",
      "To adjust logging level use sc.setLogLevel(newLevel). For SparkR, use setLogLevel(newLevel).\n",
      "25/02/14 06:28:50 WARN NativeCodeLoader: Unable to load native-hadoop library for your platform... using builtin-java classes where applicable\n"
     ]
    }
   ],
   "source": [
    "from pyspark.sql import SparkSession\n",
    "sc.stop()\n",
    "\n",
    "spark = SparkSession.builder \\\n",
    "    .appName(\"Map-Reduce-Examples\") \\\n",
    "    .master(\"spark://873bad4e62fe:7077\") \\\n",
    "    .config(\"spark.ui.port\",\"4040\") \\\n",
    "    .getOrCreate()\n",
    "\n",
    "# Create SparkContext\n",
    "sc = spark.sparkContext\n",
    "sc.setLogLevel(\"ERROR\")"
   ]
  },
  {
   "cell_type": "code",
   "execution_count": 5,
   "metadata": {},
   "outputs": [],
   "source": [
    "post = [\"Learning #BigData with #PySpark is fun! #AI\",\n",
    "\"#AI is transforming the world. #BigData #MachineLearning\",\n",
    "\"I love #PySpark and #BigData. #AI #DataScience\",\n",
    "\"#DataScience and #AI are the future. #BigData\",\n",
    "\"#PySpark is awesome! #BigData #AI\"]\n",
    "post_rdd = sc.parallelize(post)"
   ]
  },
  {
   "cell_type": "code",
   "execution_count": 14,
   "metadata": {},
   "outputs": [
    {
     "name": "stderr",
     "output_type": "stream",
     "text": [
      "                                                                                \r"
     ]
    },
    {
     "data": {
      "text/plain": [
       "['#BigData',\n",
       " '#PySpark',\n",
       " '#AI',\n",
       " '#AI',\n",
       " '#BigData',\n",
       " '#MachineLearning',\n",
       " '#PySpark',\n",
       " '#BigData.',\n",
       " '#AI',\n",
       " '#DataScience',\n",
       " '#DataScience',\n",
       " '#AI',\n",
       " '#BigData',\n",
       " '#PySpark',\n",
       " '#BigData',\n",
       " '#AI']"
      ]
     },
     "execution_count": 14,
     "metadata": {},
     "output_type": "execute_result"
    }
   ],
   "source": [
    "#Extract Hashtags: Use flatMap to extract all hashtags from the posts.\n",
    "def get_hashtags(post):\n",
    "    return [word for word in post.split() if word.startswith(\"#\")]\n",
    "hashtags_rdd = post_rdd.flatMap(get_hashtags)\n",
    "hashtags_rdd.collect()\n"
   ]
  },
  {
   "cell_type": "code",
   "execution_count": 15,
   "metadata": {},
   "outputs": [
    {
     "data": {
      "text/plain": [
       "[('#BigData', 1),\n",
       " ('#PySpark', 1),\n",
       " ('#AI', 1),\n",
       " ('#AI', 1),\n",
       " ('#BigData', 1),\n",
       " ('#MachineLearning', 1),\n",
       " ('#PySpark', 1),\n",
       " ('#BigData.', 1),\n",
       " ('#AI', 1),\n",
       " ('#DataScience', 1),\n",
       " ('#DataScience', 1),\n",
       " ('#AI', 1),\n",
       " ('#BigData', 1),\n",
       " ('#PySpark', 1),\n",
       " ('#BigData', 1),\n",
       " ('#AI', 1)]"
      ]
     },
     "execution_count": 15,
     "metadata": {},
     "output_type": "execute_result"
    }
   ],
   "source": [
    "# Map Hashtags to Pairs: Use map to transform each hashtag into a key-value pair (hashtag, 1).\n",
    "tuples_hashtags_rdd = hashtags_rdd.map(lambda x: (x, 1))\n",
    "tuples_hashtags_rdd.collect()"
   ]
  },
  {
   "cell_type": "code",
   "execution_count": 16,
   "metadata": {},
   "outputs": [
    {
     "data": {
      "text/plain": [
       "defaultdict(int,\n",
       "            {('#BigData', 1): 4,\n",
       "             ('#PySpark', 1): 3,\n",
       "             ('#AI', 1): 5,\n",
       "             ('#MachineLearning', 1): 1,\n",
       "             ('#BigData.', 1): 1,\n",
       "             ('#DataScience', 1): 2})"
      ]
     },
     "execution_count": 16,
     "metadata": {},
     "output_type": "execute_result"
    }
   ],
   "source": [
    "# Count Hashtag Occurrences: Use countByValue to count how many times each hashtag appears.\n",
    "hashtag_counts = tuples_hashtags_rdd.countByValue()\n",
    "hashtag_counts"
   ]
  },
  {
   "cell_type": "code",
   "execution_count": 23,
   "metadata": {},
   "outputs": [
    {
     "name": "stdout",
     "output_type": "stream",
     "text": [
      "Length 3: ['#AI', '#AI', '#AI', '#AI', '#AI']\n",
      "Length 8: ['#BigData', '#PySpark', '#BigData', '#PySpark', '#BigData', '#PySpark', '#BigData']\n",
      "Length 9: ['#BigData.']\n",
      "Length 12: ['#DataScience', '#DataScience']\n",
      "Length 16: ['#MachineLearning']\n"
     ]
    }
   ],
   "source": [
    "# Group Hashtags by Length: Use groupByKey to group hashtags by their length (number of characters).\n",
    "hashtag_pairs_rdd = hashtags_rdd.map(lambda hashtag: (len(hashtag), hashtag))\n",
    "hashtags_by_length = (hashtag_pairs_rdd.groupByKey().mapValues(list).collectAsMap())\n",
    "for length, hashtags in sorted(hashtags_by_length.items()):\n",
    "    print(f\"Length {length}: {hashtags}\")"
   ]
  }
 ],
 "metadata": {
  "kernelspec": {
   "display_name": "Python 3 (ipykernel)",
   "language": "python",
   "name": "python3"
  },
  "language_info": {
   "codemirror_mode": {
    "name": "ipython",
    "version": 3
   },
   "file_extension": ".py",
   "mimetype": "text/x-python",
   "name": "python",
   "nbconvert_exporter": "python",
   "pygments_lexer": "ipython3",
   "version": "3.11.6"
  }
 },
 "nbformat": 4,
 "nbformat_minor": 2
}
