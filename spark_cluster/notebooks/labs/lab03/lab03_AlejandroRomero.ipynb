{
 "cells": [
  {
   "cell_type": "markdown",
   "metadata": {},
   "source": [
    "# <center> <img src=\"../img/ITESOLogo.png\" alt=\"ITESO\" width=\"480\" height=\"130\"> </center>\n",
    "# <center> **Departamento de Electrónica, Sistemas e Informática** </center>\n",
    "---\n",
    "## <center> **Carrera: Ingeniería en Sistemas Computacionales** </center>\n",
    "---\n",
    "### <center> **Primavera 2025** </center>\n",
    "---\n",
    "\n",
    "**Lab XX**: 03\n",
    "\n",
    "**Fecha**: 14/02/2025\n",
    "\n",
    "**Nombre del Estudiante**: Alejandro Samuel Romero Mora\n",
    "\n",
    "**Profesor**: Pablo Camarillo Ramirez"
   ]
  },
  {
   "cell_type": "markdown",
   "metadata": {},
   "source": [
    "#### Encontrar la instalación de PySpark"
   ]
  },
  {
   "cell_type": "code",
   "execution_count": 1,
   "metadata": {},
   "outputs": [],
   "source": [
    "import findspark\n",
    "findspark.init()"
   ]
  },
  {
   "cell_type": "markdown",
   "metadata": {},
   "source": [
    "#### Creacion de la conexión con el cluster de spark\n"
   ]
  },
  {
   "cell_type": "code",
   "execution_count": 2,
   "metadata": {},
   "outputs": [
    {
     "name": "stderr",
     "output_type": "stream",
     "text": [
      "Setting default log level to \"WARN\".\n",
      "To adjust logging level use sc.setLogLevel(newLevel). For SparkR, use setLogLevel(newLevel).\n",
      "25/02/14 06:48:58 WARN NativeCodeLoader: Unable to load native-hadoop library for your platform... using builtin-java classes where applicable\n"
     ]
    }
   ],
   "source": [
    "from pyspark.sql import SparkSession\n",
    "\n",
    "spark = SparkSession.builder \\\n",
    "    .appName(\"Map-Reduce-Examples\") \\\n",
    "    .master(\"spark://a45e80e2de60:7077\") \\\n",
    "    .config(\"spark.ui.port\",\"4040\") \\\n",
    "    .getOrCreate()\n",
    "\n",
    "# Create SparkContext\n",
    "sc = spark.sparkContext\n",
    "sc.setLogLevel(\"ERROR\")"
   ]
  },
  {
   "cell_type": "markdown",
   "metadata": {},
   "source": [
    "### Example 1: Convert Temperatures from Celsius to Fahrenheit\n",
    "This example demonstrates how to use `map()` to transform data."
   ]
  },
  {
   "cell_type": "code",
   "execution_count": null,
   "metadata": {},
   "outputs": [],
   "source": []
  },
  {
   "cell_type": "markdown",
   "metadata": {},
   "source": [
    "###Creamos RDD"
   ]
  },
  {
   "cell_type": "code",
   "execution_count": 3,
   "metadata": {},
   "outputs": [],
   "source": [
    "# Create an RDD of temperatures in Celsius\n",
    "posts = [\"Learning #BigData with #PySpark is fun! #AI\",\n",
    "         \"#AI is transforming the world. #BigData #MachineLearning\",\n",
    "         \"I love #PySpark and #BigData. #AI #DataScience\",\n",
    "         \"#DataScience and #AI are the future. #BigData\",\n",
    "         \"#PySpark is awesome! #BigData #AI\"]\n",
    "\n",
    "posts_rdd = sc.parallelize(posts)"
   ]
  },
  {
   "cell_type": "markdown",
   "metadata": {},
   "source": [
    "#### Map Phase"
   ]
  },
  {
   "cell_type": "code",
   "execution_count": 4,
   "metadata": {},
   "outputs": [],
   "source": [
    "def get_hashtags(post):\n",
    "    return [word for word in post.split() if word.startswith('#')]\n",
    "\n",
    "hashtags_rdd = posts_rdd.flatMap(get_hashtags)\n"
   ]
  },
  {
   "cell_type": "code",
   "execution_count": 5,
   "metadata": {},
   "outputs": [
    {
     "name": "stdout",
     "output_type": "stream",
     "text": [
      "['#BigData', '#PySpark', '#AI', '#AI', '#BigData', '#MachineLearning', '#PySpark', '#BigData.', '#AI', '#DataScience', '#DataScience', '#AI', '#BigData', '#PySpark', '#BigData', '#AI']\n"
     ]
    },
    {
     "name": "stderr",
     "output_type": "stream",
     "text": [
      "                                                                                \r"
     ]
    }
   ],
   "source": [
    "print(hashtags_rdd.collect())\n"
   ]
  },
  {
   "cell_type": "code",
   "execution_count": 6,
   "metadata": {},
   "outputs": [
    {
     "data": {
      "text/plain": [
       "[('#BigData', 1),\n",
       " ('#PySpark', 1),\n",
       " ('#AI', 1),\n",
       " ('#AI', 1),\n",
       " ('#BigData', 1),\n",
       " ('#MachineLearning', 1),\n",
       " ('#PySpark', 1),\n",
       " ('#BigData.', 1),\n",
       " ('#AI', 1),\n",
       " ('#DataScience', 1),\n",
       " ('#DataScience', 1),\n",
       " ('#AI', 1),\n",
       " ('#BigData', 1),\n",
       " ('#PySpark', 1),\n",
       " ('#BigData', 1),\n",
       " ('#AI', 1)]"
      ]
     },
     "execution_count": 6,
     "metadata": {},
     "output_type": "execute_result"
    }
   ],
   "source": [
    "tuples_hashtag_rdd = hashtags_rdd.map(lambda x: (x,1))\n",
    "tuples_hashtag_rdd.collect()"
   ]
  },
  {
   "cell_type": "code",
   "execution_count": 36,
   "metadata": {},
   "outputs": [
    {
     "name": "stdout",
     "output_type": "stream",
     "text": [
      "Hashtag counts:  {'#BigData': 4, '#PySpark': 3, '#AI': 5, '#MachineLearning': 1, '#BigData.': 1, '#DataScience': 2}\n"
     ]
    }
   ],
   "source": [
    "#Tenemos que hacer cast a diccionario para que salgan los datos de manera limpia\n",
    "print(\"Hashtag counts: \",dict(tuples_hashtag_rdd.countByKey()))"
   ]
  },
  {
   "cell_type": "code",
   "execution_count": 35,
   "metadata": {},
   "outputs": [
    {
     "name": "stdout",
     "output_type": "stream",
     "text": [
      "Datos mapeados: [(8, '#BigData'), (8, '#PySpark'), (3, '#AI'), (3, '#AI'), (8, '#BigData'), (16, '#MachineLearning'), (8, '#PySpark'), (9, '#BigData.'), (3, '#AI'), (12, '#DataScience'), (12, '#DataScience'), (3, '#AI'), (8, '#BigData'), (8, '#PySpark'), (8, '#BigData'), (3, '#AI')]\n",
      "Datos mapeados: [(8, ['#BigData', '#PySpark', '#BigData', '#PySpark', '#BigData', '#PySpark', '#BigData']), (16, ['#MachineLearning']), (12, ['#DataScience', '#DataScience']), (3, ['#AI', '#AI', '#AI', '#AI', '#AI']), (9, ['#BigData.'])]\n",
      "Length 8: ['#BigData', '#PySpark', '#BigData', '#PySpark', '#BigData', '#PySpark', '#BigData']\n",
      "Length 16: ['#MachineLearning']\n",
      "Length 12: ['#DataScience', '#DataScience']\n",
      "Length 3: ['#AI', '#AI', '#AI', '#AI', '#AI']\n",
      "Length 9: ['#BigData.']\n"
     ]
    }
   ],
   "source": [
    "# Mapeamos cada elemento para obtener un par (longitud del hashtag, hashtag)\n",
    "grouped_by_lenght = tuples_hashtag_rdd.map(lambda x: (len(x[0]), x[0]))\n",
    "\n",
    "#Obtenemos la longitud del hashtag y el hashtag en sí, para luego hacer una lista de las ocurrencias de cada uno (por longitud)\n",
    "print(\"Datos mapeados:\", grouped_by_lenght.collect())\n",
    "\n",
    "#Agrupamos por llave y convertimos los valores agrupados en listas\n",
    "grouped_by_lenght = grouped_by_lenght.groupByKey().mapValues(list)\n",
    "print(\"Datos mapeados:\", grouped_by_lenght.collect())\n",
    "\n",
    "for length, tag_list in grouped_by_lenght.collect():\n",
    "    print(f\"Length {length}: {tag_list}\")\n"
   ]
  }
 ],
 "metadata": {
  "kernelspec": {
   "display_name": "Python 3 (ipykernel)",
   "language": "python",
   "name": "python3"
  },
  "language_info": {
   "codemirror_mode": {
    "name": "ipython",
    "version": 3
   },
   "file_extension": ".py",
   "mimetype": "text/x-python",
   "name": "python",
   "nbconvert_exporter": "python",
   "pygments_lexer": "ipython3",
   "version": "3.11.6"
  }
 },
 "nbformat": 4,
 "nbformat_minor": 2
}
