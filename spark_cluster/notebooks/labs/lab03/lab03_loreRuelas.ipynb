{
 "cells": [
  {
   "cell_type": "markdown",
   "metadata": {},
   "source": [
    "# <center> <img src=\"img/ITESOLogo.png\" alt=\"ITESO\" width=\"480\" height=\"130\"> </center>\n",
    "# <center> **Departamento de Electrónica, Sistemas e Informática** </center>\n",
    "---\n",
    "## <center> **Carrera: <Coloca el nombre de tu carrera aqui>** ISC </center>\n",
    "---\n",
    "### <center> **Primavera 2025** </center>\n",
    "---\n",
    "\n",
    "**Lab XX**: 03\n",
    "\n",
    "**Fecha**: 11/02/2025\n",
    "\n",
    "**Nombre del Estudiante**: Lorena Ruelas Gaytán\n",
    "\n",
    "**Profesor**: Pablo Camarillo Ramirez"
   ]
  },
  {
   "cell_type": "code",
   "execution_count": 2,
   "metadata": {},
   "outputs": [],
   "source": [
    "import findspark\n",
    "findspark.init()"
   ]
  },
  {
   "cell_type": "code",
   "execution_count": 3,
   "metadata": {},
   "outputs": [
    {
     "name": "stderr",
     "output_type": "stream",
     "text": [
      "Setting default log level to \"WARN\".\n",
      "To adjust logging level use sc.setLogLevel(newLevel). For SparkR, use setLogLevel(newLevel).\n",
      "25/02/11 14:45:54 WARN NativeCodeLoader: Unable to load native-hadoop library for your platform... using builtin-java classes where applicable\n"
     ]
    }
   ],
   "source": [
    "from pyspark.sql import SparkSession\n",
    "\n",
    "spark = SparkSession.builder \\\n",
    "    .appName(\"Map-Reduce-Examples\") \\\n",
    "    .master(\"spark://7ee6c8a866ff:7077\") \\\n",
    "    .config(\"spark.ui.port\",\"4040\") \\\n",
    "    .getOrCreate()\n",
    "\n",
    "# Create SparkContext\n",
    "sc = spark.sparkContext\n",
    "sc.setLogLevel(\"ERROR\")"
   ]
  },
  {
   "cell_type": "code",
   "execution_count": 4,
   "metadata": {},
   "outputs": [],
   "source": [
    "post = [\"Learning #BigData with #PySpark is fun! #AI\", \n",
    "         \"#AI is transforming the world. #BigData #MachineLearning\",\n",
    "            \"I love #PySpark and #BigData. #AI #DataScience\", \n",
    "         \"#DataScience and #AI are the future. #BigData\", \n",
    "         \"#PySpark is awesome! #BigData #AI\"]\n",
    "post_rdd = sc.parallelize(post)"
   ]
  },
  {
   "cell_type": "code",
   "execution_count": 30,
   "metadata": {},
   "outputs": [
    {
     "name": "stdout",
     "output_type": "stream",
     "text": [
      "['#BigData', '#PySpark', '#AI', '#AI', '#BigData', '#MachineLearning', '#PySpark', '#BigData', '#AI', '#DataScience', '#DataScience', '#AI', '#BigData', '#PySpark', '#BigData', '#AI']\n"
     ]
    }
   ],
   "source": [
    "def get_hashtags(post):\n",
    "    return [word for word in post.split() if word.startswith('#')]\n",
    "\n",
    "def clean_hashtag(tag):\n",
    "    return tag.rstrip(\".!,?:;\")  # Elimina puntos y otros signos finales\n",
    "\n",
    "hashtags_rdd = hashtags_rdd.map(clean_hashtag)\n",
    "\n",
    "hashtags_rdd = hashtags_rdd.flatMap(get_hashtags)\n",
    "by_word = hashtags_rdd.collect()\n",
    "print(by_word)"
   ]
  },
  {
   "cell_type": "code",
   "execution_count": 31,
   "metadata": {},
   "outputs": [
    {
     "data": {
      "text/plain": [
       "[('#BigData', 1),\n",
       " ('#PySpark', 1),\n",
       " ('#AI', 1),\n",
       " ('#AI', 1),\n",
       " ('#BigData', 1),\n",
       " ('#MachineLearning', 1),\n",
       " ('#PySpark', 1),\n",
       " ('#BigData', 1),\n",
       " ('#AI', 1),\n",
       " ('#DataScience', 1),\n",
       " ('#DataScience', 1),\n",
       " ('#AI', 1),\n",
       " ('#BigData', 1),\n",
       " ('#PySpark', 1),\n",
       " ('#BigData', 1),\n",
       " ('#AI', 1)]"
      ]
     },
     "execution_count": 31,
     "metadata": {},
     "output_type": "execute_result"
    }
   ],
   "source": [
    "tuples_hashtags_rdd = hashtags_rdd.map(lambda x : (x,1))\n",
    "tuples_hashtags_rdd.collect()"
   ]
  },
  {
   "cell_type": "code",
   "execution_count": 32,
   "metadata": {},
   "outputs": [
    {
     "name": "stdout",
     "output_type": "stream",
     "text": [
      "#BigData: 5\n",
      "#PySpark: 3\n",
      "#AI: 5\n",
      "#MachineLearning: 1\n",
      "#DataScience: 2\n"
     ]
    }
   ],
   "source": [
    "hashtags_rdd_p = sc.parallelize(by_word)\n",
    "hashtags_counts = hashtags_rdd_p.countByValue()\n",
    "for hashtags, count in hashtags_counts.items():\n",
    "    print(f\"{hashtags}: {count}\")"
   ]
  },
  {
   "cell_type": "code",
   "execution_count": 33,
   "metadata": {},
   "outputs": [
    {
     "name": "stdout",
     "output_type": "stream",
     "text": [
      "Hashtags Grouped by Lenght\n",
      "Length 8: ['#BigData', '#PySpark', '#BigData', '#PySpark', '#BigData', '#BigData', '#PySpark', '#BigData']\n",
      "Length 16: ['#MachineLearning']\n",
      "Length 12: ['#DataScience', '#DataScience']\n",
      "Length 3: ['#AI', '#AI', '#AI', '#AI', '#AI']\n"
     ]
    }
   ],
   "source": [
    "def get_length(tag):\n",
    "    return (len(tag), tag)\n",
    "\n",
    "hashtags_by_length = hashtags_rdd.map(get_length).groupByKey()\n",
    "\n",
    "hashtags_collect = hashtags_by_length.collect()\n",
    "\n",
    "print(\"Hashtags Grouped by Lenght\")\n",
    "for length, tags in hashtags_collect:\n",
    "    print(f\"Length {length}: {list(tags)}\")\n",
    "\n"
   ]
  },
  {
   "cell_type": "code",
   "execution_count": null,
   "metadata": {},
   "outputs": [],
   "source": []
  }
 ],
 "metadata": {
  "kernelspec": {
   "display_name": "Python 3 (ipykernel)",
   "language": "python",
   "name": "python3"
  },
  "language_info": {
   "codemirror_mode": {
    "name": "ipython",
    "version": 3
   },
   "file_extension": ".py",
   "mimetype": "text/x-python",
   "name": "python",
   "nbconvert_exporter": "python",
   "pygments_lexer": "ipython3",
   "version": "3.11.6"
  }
 },
 "nbformat": 4,
 "nbformat_minor": 4
}
