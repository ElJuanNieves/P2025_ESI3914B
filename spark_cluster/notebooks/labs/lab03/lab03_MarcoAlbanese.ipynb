{
 "cells": [
  {
   "cell_type": "markdown",
   "metadata": {},
   "source": [
    "# <center> <img src=\"../img/ITESOLogo.png\" alt=\"ITESO\" width=\"480\" height=\"130\"> </center>\n",
    "# <center> **Departamento de Electrónica, Sistemas e Informática** </center>\n",
    "---\n",
    "## <center> **Carrera: Ing. en Sistemas Computacionales** </center>\n",
    "---\n",
    "### <center> **Primavera 2025** </center>\n",
    "---\n",
    "\n",
    "**Lab 03**: Analyzing Social Media Hashtags\n",
    "\n",
    "**Fecha**: Martes 11 de febrero del 2025\n",
    "\n",
    "**Nombre del Estudiante**: Marco Albanese\n",
    "\n",
    "**Profesor**: Pablo Camarillo Ramirez"
   ]
  },
  {
   "cell_type": "code",
   "execution_count": 4,
   "metadata": {},
   "outputs": [],
   "source": [
    "import findspark\n",
    "findspark.init()"
   ]
  },
  {
   "cell_type": "code",
   "execution_count": 5,
   "metadata": {},
   "outputs": [],
   "source": [
    "from pyspark.sql import SparkSession\n",
    "\n",
    "spark = SparkSession.builder \\\n",
    "    .appName(\"Analyzing Social Media Hashtags\") \\\n",
    "    .master(\"spark://cd68d43f7ac6:7077\") \\\n",
    "    .config(\"spark.ui.port\",\"4040\") \\\n",
    "    .getOrCreate()\n",
    "\n",
    "# Create SparkContext\n",
    "sc = spark.sparkContext\n",
    "sc.setLogLevel(\"ERROR\")"
   ]
  },
  {
   "cell_type": "markdown",
   "metadata": {},
   "source": [
    "### Problem Statement\n",
    "\n",
    "You are given a dataset of social media posts, where each post is a string containing hashtags (e.g., #BigData, #AI, #PySpark). Your task is to analyze the hashtags using PySpark RDDs and perform the following operations:\n",
    "- **Extract Hashtags**: Use flatMap to extract all hashtags from the posts.\n",
    "- **Map Hashtags to Pairs**: Use map to transform each hashtag into a key-value pair (hashtag, 1).\n",
    "- **Count Hashtag Occurrences**: Use countByValue to count how many times each hashtag appears.\n",
    "- **Group Hashtags by Length**: Use groupByKey to group hashtags by their length (number of characters)."
   ]
  },
  {
   "cell_type": "code",
   "execution_count": 6,
   "metadata": {},
   "outputs": [],
   "source": [
    "posts = [\"Learning #BigData with #PySpark is fun! #AI\",\n",
    "\"#AI is transforming the world. #BigData #MachineLearning\",\n",
    "\"I love #PySpark and #BigData. #AI #DataScience\",\n",
    "\"#DataScience and #AI are the future. #BigData\",\n",
    "\"#PySpark is awesome! #BigData #AI\"]"
   ]
  },
  {
   "cell_type": "code",
   "execution_count": 7,
   "metadata": {},
   "outputs": [],
   "source": [
    "rdd = sc.parallelize(posts)"
   ]
  },
  {
   "cell_type": "markdown",
   "metadata": {},
   "source": [
    "### Extract Hashtags"
   ]
  },
  {
   "cell_type": "code",
   "execution_count": null,
   "metadata": {},
   "outputs": [
    {
     "name": "stdout",
     "output_type": "stream",
     "text": [
      "Hashtags: ['Learning', '#BigData', 'with', '#PySpark', 'is', 'fun!', '#AI', '#AI', 'is', 'transforming', 'the', 'world.', '#BigData', '#MachineLearning', 'I', 'love', '#PySpark', 'and', '#BigData.', '#AI', '#DataScience', '#DataScience', 'and', '#AI', 'are', 'the', 'future.', '#BigData', '#PySpark', 'is', 'awesome!', '#BigData', '#AI']\n"
     ]
    }
   ],
   "source": [
    "def split_into_words(sentence):\n",
    "    # Split the sentence by spaces\n",
    "    return sentence.split()\n",
    "\n",
    "hashtags = rdd.flatMap(split_into_words)\n",
    "print(\"Hashtags:\", hashtags.collect())"
   ]
  },
  {
   "cell_type": "markdown",
   "metadata": {},
   "source": [
    "### Map Hashtags to Pairs"
   ]
  },
  {
   "cell_type": "code",
   "execution_count": null,
   "metadata": {},
   "outputs": [],
   "source": []
  },
  {
   "cell_type": "markdown",
   "metadata": {},
   "source": [
    "### Count Hashtag Occurrences"
   ]
  },
  {
   "cell_type": "code",
   "execution_count": null,
   "metadata": {},
   "outputs": [],
   "source": []
  },
  {
   "cell_type": "markdown",
   "metadata": {},
   "source": [
    "### Group Hashtags by Length"
   ]
  },
  {
   "cell_type": "code",
   "execution_count": null,
   "metadata": {},
   "outputs": [],
   "source": []
  }
 ],
 "metadata": {
  "kernelspec": {
   "display_name": "Python 3 (ipykernel)",
   "language": "python",
   "name": "python3"
  },
  "language_info": {
   "codemirror_mode": {
    "name": "ipython",
    "version": 3
   },
   "file_extension": ".py",
   "mimetype": "text/x-python",
   "name": "python",
   "nbconvert_exporter": "python",
   "pygments_lexer": "ipython3",
   "version": "3.11.6"
  }
 },
 "nbformat": 4,
 "nbformat_minor": 2
}
