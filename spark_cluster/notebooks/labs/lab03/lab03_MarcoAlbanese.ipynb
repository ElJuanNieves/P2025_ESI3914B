{
 "cells": [
  {
   "cell_type": "markdown",
   "metadata": {},
   "source": [
    "# <center> <img src=\"../img/ITESOLogo.png\" alt=\"ITESO\" width=\"480\" height=\"130\"> </center>\n",
    "# <center> **Departamento de Electrónica, Sistemas e Informática** </center>\n",
    "---\n",
    "## <center> **Carrera: Ing. en Sistemas Computacionales** </center>\n",
    "---\n",
    "### <center> **Primavera 2025** </center>\n",
    "---\n",
    "\n",
    "**Lab 03**: Analyzing Social Media Hashtags\n",
    "\n",
    "**Fecha**: Martes 11 de febrero del 2025\n",
    "\n",
    "**Nombre del Estudiante**: Marco Albanese\n",
    "\n",
    "**Profesor**: Pablo Camarillo Ramirez"
   ]
  },
  {
   "cell_type": "code",
   "execution_count": 45,
   "metadata": {},
   "outputs": [],
   "source": [
    "import findspark\n",
    "findspark.init()"
   ]
  },
  {
   "cell_type": "code",
   "execution_count": 46,
   "metadata": {},
   "outputs": [],
   "source": [
    "from pyspark.sql import SparkSession\n",
    "\n",
    "spark = SparkSession.builder \\\n",
    "    .appName(\"Analyzing Social Media Hashtags\") \\\n",
    "    .master(\"spark://cd68d43f7ac6:7077\") \\\n",
    "    .config(\"spark.ui.port\",\"4040\") \\\n",
    "    .getOrCreate()\n",
    "\n",
    "# Create SparkContext\n",
    "sc = spark.sparkContext\n",
    "sc.setLogLevel(\"ERROR\")"
   ]
  },
  {
   "cell_type": "markdown",
   "metadata": {},
   "source": [
    "### Problem Statement\n",
    "\n",
    "You are given a dataset of social media posts, where each post is a string containing hashtags (e.g., #BigData, #AI, #PySpark). Your task is to analyze the hashtags using PySpark RDDs and perform the following operations:\n",
    "- **Extract Hashtags**: Use flatMap to extract all hashtags from the posts.\n",
    "- **Map Hashtags to Pairs**: Use map to transform each hashtag into a key-value pair (hashtag, 1).\n",
    "- **Count Hashtag Occurrences**: Use countByValue to count how many times each hashtag appears.\n",
    "- **Group Hashtags by Length**: Use groupByKey to group hashtags by their length (number of characters)."
   ]
  },
  {
   "cell_type": "code",
   "execution_count": 47,
   "metadata": {},
   "outputs": [],
   "source": [
    "posts = [\"Learning #BigData with #PySpark is fun! #AI\",\n",
    "\"#AI is transforming the world. #BigData #MachineLearning\",\n",
    "\"I love #PySpark and #BigData. #AI #DataScience\",\n",
    "\"#DataScience and #AI are the future. #BigData\",\n",
    "\"#PySpark is awesome! #BigData #AI\"]"
   ]
  },
  {
   "cell_type": "code",
   "execution_count": 48,
   "metadata": {},
   "outputs": [],
   "source": [
    "posts_rdd = sc.parallelize(posts)"
   ]
  },
  {
   "cell_type": "markdown",
   "metadata": {},
   "source": [
    "### Extract Hashtags"
   ]
  },
  {
   "cell_type": "code",
   "execution_count": 49,
   "metadata": {},
   "outputs": [
    {
     "name": "stderr",
     "output_type": "stream",
     "text": [
      "                                                                                \r"
     ]
    },
    {
     "data": {
      "text/plain": [
       "['#BigData',\n",
       " '#PySpark',\n",
       " '#AI',\n",
       " '#AI',\n",
       " '#BigData',\n",
       " '#MachineLearning',\n",
       " '#PySpark',\n",
       " '#BigData.',\n",
       " '#AI',\n",
       " '#DataScience',\n",
       " '#DataScience',\n",
       " '#AI',\n",
       " '#BigData',\n",
       " '#PySpark',\n",
       " '#BigData',\n",
       " '#AI']"
      ]
     },
     "execution_count": 49,
     "metadata": {},
     "output_type": "execute_result"
    }
   ],
   "source": [
    "def split_into_hashtags(sentence):\n",
    "    return [word for word in sentence.split() if word.startswith(\"#\")]\n",
    "\n",
    "hashtags_rdd = posts_rdd.flatMap(split_into_hashtags)\n",
    "hashtags_rdd.collect()"
   ]
  },
  {
   "cell_type": "markdown",
   "metadata": {},
   "source": [
    "### Map Hashtags to Pairs"
   ]
  },
  {
   "cell_type": "code",
   "execution_count": 50,
   "metadata": {},
   "outputs": [
    {
     "data": {
      "text/plain": [
       "[('#BigData', 1),\n",
       " ('#PySpark', 1),\n",
       " ('#AI', 1),\n",
       " ('#AI', 1),\n",
       " ('#BigData', 1),\n",
       " ('#MachineLearning', 1),\n",
       " ('#PySpark', 1),\n",
       " ('#BigData.', 1),\n",
       " ('#AI', 1),\n",
       " ('#DataScience', 1),\n",
       " ('#DataScience', 1),\n",
       " ('#AI', 1),\n",
       " ('#BigData', 1),\n",
       " ('#PySpark', 1),\n",
       " ('#BigData', 1),\n",
       " ('#AI', 1)]"
      ]
     },
     "execution_count": 50,
     "metadata": {},
     "output_type": "execute_result"
    }
   ],
   "source": [
    "hashtags_pairs_rdd = hashtags_rdd.map(lambda hashtag: (hashtag, 1))\n",
    "hashtags_pairs_rdd.collect()"
   ]
  },
  {
   "cell_type": "markdown",
   "metadata": {},
   "source": [
    "### Count Hashtag Occurrences"
   ]
  },
  {
   "cell_type": "code",
   "execution_count": null,
   "metadata": {},
   "outputs": [
    {
     "name": "stdout",
     "output_type": "stream",
     "text": [
      "Hashtag Counts:\n",
      "#BigData: 4\n",
      "#PySpark: 3\n",
      "#AI: 5\n",
      "#MachineLearning: 1\n",
      "#BigData.: 1\n",
      "#DataScience: 2\n"
     ]
    }
   ],
   "source": [
    "# Use part of the example from https://spark.apache.org/docs/latest/api/python/reference/api/pyspark.RDD.countByValue.html\n",
    "hashtag_counts = hashtags_pairs_rdd.countByValue().items()\n",
    "\n",
    "# Print counts\n",
    "print(\"Hashtag Counts:\")\n",
    "for hashtag, count in hashtag_counts:\n",
    "    # Use hashtag[0] for cleaner printing of string\n",
    "    # instead of tuple\n",
    "    print(f\"{hashtag[0]}: {count}\")"
   ]
  },
  {
   "cell_type": "markdown",
   "metadata": {},
   "source": [
    "### Group Hashtags by Length"
   ]
  },
  {
   "cell_type": "code",
   "execution_count": null,
   "metadata": {},
   "outputs": [
    {
     "name": "stdout",
     "output_type": "stream",
     "text": [
      "Hashtags Grouped by Length:\n",
      "Length 8: ['#BigData', '#PySpark', '#BigData', '#PySpark', '#BigData', '#PySpark', '#BigData']\n",
      "Length 16: ['#MachineLearning']\n",
      "Length 12: ['#DataScience', '#DataScience']\n",
      "Length 3: ['#AI', '#AI', '#AI', '#AI', '#AI']\n",
      "Length 9: ['#BigData.']\n"
     ]
    }
   ],
   "source": [
    "# Combine from above exercise of 'Map hashtags to pairs' and follow sample documentation\n",
    "# https://spark.apache.org/docs/latest/api/python/reference/api/pyspark.RDD.groupByKey.html\n",
    "hashtags_grouped_by_length = (\n",
    "    hashtags_rdd.map(lambda hashtag: (len(hashtag), hashtag))\n",
    "                .groupByKey()\n",
    "                .mapValues(list)\n",
    "                .collect()\n",
    ")\n",
    "\n",
    "print(\"Hashtags Grouped by Length:\")\n",
    "for length, hashtags in hashtags_grouped_by_length:\n",
    "    print(f\"Length {length}: {hashtags}\")"
   ]
  },
  {
   "cell_type": "code",
   "execution_count": 41,
   "metadata": {},
   "outputs": [],
   "source": [
    "# Stop the SparkContext\n",
    "sc.stop()"
   ]
  }
 ],
 "metadata": {
  "kernelspec": {
   "display_name": "Python 3 (ipykernel)",
   "language": "python",
   "name": "python3"
  },
  "language_info": {
   "codemirror_mode": {
    "name": "ipython",
    "version": 3
   },
   "file_extension": ".py",
   "mimetype": "text/x-python",
   "name": "python",
   "nbconvert_exporter": "python",
   "pygments_lexer": "ipython3",
   "version": "3.11.6"
  }
 },
 "nbformat": 4,
 "nbformat_minor": 2
}
