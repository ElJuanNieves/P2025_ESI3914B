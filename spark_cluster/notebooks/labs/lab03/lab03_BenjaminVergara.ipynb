{
 "cells": [
  {
   "cell_type": "markdown",
   "metadata": {},
   "source": [
    "# <center> <img src=\"../img/ITESOLogo.png\" alt=\"ITESO\" width=\"480\" height=\"130\"> </center>\n",
    "# <center> **Departamento de Electrónica, Sistemas e Informática** </center>\n",
    "---\n",
    "## <center> **Carrera: Ingeniería en Sistemas Computacionales** </center>\n",
    "---\n",
    "### <center> **Primavera 2025** </center>\n",
    "---\n",
    "\n",
    "**Lab 02**: Dynamic Function Execution Using a Dictionary\n",
    "\n",
    "**Fecha**: 04/02/2024\n",
    "\n",
    "**Nombre del Estudiante**: Arturo Benjamin Vergara Romo\n",
    "\n",
    "**Profesor**: Pablo Camarillo Ramirez"
   ]
  },
  {
   "cell_type": "code",
   "execution_count": 2,
   "metadata": {},
   "outputs": [],
   "source": [
    "import findspark\n",
    "findspark.init()"
   ]
  },
  {
   "cell_type": "code",
   "execution_count": 3,
   "metadata": {},
   "outputs": [
    {
     "name": "stderr",
     "output_type": "stream",
     "text": [
      "Setting default log level to \"WARN\".\n",
      "To adjust logging level use sc.setLogLevel(newLevel). For SparkR, use setLogLevel(newLevel).\n",
      "25/02/14 01:28:31 WARN NativeCodeLoader: Unable to load native-hadoop library for your platform... using builtin-java classes where applicable\n"
     ]
    }
   ],
   "source": [
    "from pyspark.sql import SparkSession\n",
    "\n",
    "spark = SparkSession.builder \\\n",
    "    .appName(\"Lab03\") \\\n",
    "    .master(\"spark://14ec38a9be73:7077\") \\\n",
    "    .config(\"spark.ui.port\", \"4040\") \\\n",
    "    .getOrCreate()\n",
    "\n",
    "# Create SparkContext\n",
    "sc = spark.sparkContext\n",
    "sc.setLogLevel(\"ERROR\")"
   ]
  },
  {
   "cell_type": "code",
   "execution_count": 44,
   "metadata": {},
   "outputs": [],
   "source": [
    "posts = [\"Learning #BigData with #PySpark is fun! #AI\",\n",
    "         \"#AI is transforming the world. #BigData #MachineLearning\",\n",
    "         \"I love #PySpark and #BigData. #AI #DataScience\",\n",
    "         \"#DataScience and #AI are the future. #BigData\",\n",
    "         \"#PySpark is awesome! #BigData #AI\"]"
   ]
  },
  {
   "cell_type": "code",
   "execution_count": 45,
   "metadata": {},
   "outputs": [],
   "source": [
    "post_rdd = sc.parallelize(posts)"
   ]
  },
  {
   "cell_type": "code",
   "execution_count": 46,
   "metadata": {},
   "outputs": [],
   "source": [
    "def extract_hasthags(post):\n",
    "    return  [word for word in post.split() if word.startswith(\"#\")]\n",
    "\n",
    "hashtags_rdd = post_rdd.flatMap(extract_hasthags)"
   ]
  },
  {
   "cell_type": "code",
   "execution_count": 47,
   "metadata": {},
   "outputs": [
    {
     "data": {
      "text/plain": [
       "['#BigData',\n",
       " '#PySpark',\n",
       " '#AI',\n",
       " '#AI',\n",
       " '#BigData',\n",
       " '#MachineLearning',\n",
       " '#PySpark',\n",
       " '#BigData.',\n",
       " '#AI',\n",
       " '#DataScience',\n",
       " '#DataScience',\n",
       " '#AI',\n",
       " '#BigData',\n",
       " '#PySpark',\n",
       " '#BigData',\n",
       " '#AI']"
      ]
     },
     "execution_count": 47,
     "metadata": {},
     "output_type": "execute_result"
    }
   ],
   "source": [
    "hashtags_rdd.collect()"
   ]
  },
  {
   "cell_type": "code",
   "execution_count": 48,
   "metadata": {},
   "outputs": [
    {
     "data": {
      "text/plain": [
       "[('#BigData', 1),\n",
       " ('#PySpark', 1),\n",
       " ('#AI', 1),\n",
       " ('#AI', 1),\n",
       " ('#BigData', 1),\n",
       " ('#MachineLearning', 1),\n",
       " ('#PySpark', 1),\n",
       " ('#BigData.', 1),\n",
       " ('#AI', 1),\n",
       " ('#DataScience', 1),\n",
       " ('#DataScience', 1),\n",
       " ('#AI', 1),\n",
       " ('#BigData', 1),\n",
       " ('#PySpark', 1),\n",
       " ('#BigData', 1),\n",
       " ('#AI', 1)]"
      ]
     },
     "execution_count": 48,
     "metadata": {},
     "output_type": "execute_result"
    }
   ],
   "source": [
    "hashtags_pairs_rdd = hashtags_rdd.map(lambda x : (x,1))\n",
    "hashtags_pairs_rdd.collect()"
   ]
  },
  {
   "cell_type": "markdown",
   "metadata": {},
   "source": [
    "#### Contar las ocurrencias de hashtag con countByValue y reduceByKey"
   ]
  },
  {
   "cell_type": "code",
   "execution_count": 49,
   "metadata": {},
   "outputs": [
    {
     "data": {
      "text/plain": [
       "defaultdict(int,\n",
       "            {'#BigData': 4,\n",
       "             '#PySpark': 3,\n",
       "             '#AI': 5,\n",
       "             '#MachineLearning': 1,\n",
       "             '#BigData.': 1,\n",
       "             '#DataScience': 2})"
      ]
     },
     "execution_count": 49,
     "metadata": {},
     "output_type": "execute_result"
    }
   ],
   "source": [
    "hashtags_count = hashtags_rdd.countByValue()\n",
    "hashtags_count"
   ]
  },
  {
   "cell_type": "code",
   "execution_count": 50,
   "metadata": {},
   "outputs": [
    {
     "data": {
      "text/plain": [
       "[('#BigData', 4),\n",
       " ('#AI', 5),\n",
       " ('#BigData.', 1),\n",
       " ('#DataScience', 2),\n",
       " ('#PySpark', 3),\n",
       " ('#MachineLearning', 1)]"
      ]
     },
     "execution_count": 50,
     "metadata": {},
     "output_type": "execute_result"
    }
   ],
   "source": [
    "reduced_hashtags_rdd = hashtags_pairs_rdd.reduceByKey(lambda a, b: a + b)\n",
    "reduced_hashtags_rdd.collect()"
   ]
  },
  {
   "cell_type": "markdown",
   "metadata": {},
   "source": [
    "#### Agrupar los hashtags por longitud"
   ]
  },
  {
   "cell_type": "code",
   "execution_count": 51,
   "metadata": {},
   "outputs": [
    {
     "data": {
      "text/plain": [
       "[(8, '#BigData'),\n",
       " (8, '#PySpark'),\n",
       " (3, '#AI'),\n",
       " (3, '#AI'),\n",
       " (8, '#BigData'),\n",
       " (16, '#MachineLearning'),\n",
       " (8, '#PySpark'),\n",
       " (9, '#BigData.'),\n",
       " (3, '#AI'),\n",
       " (12, '#DataScience'),\n",
       " (12, '#DataScience'),\n",
       " (3, '#AI'),\n",
       " (8, '#BigData'),\n",
       " (8, '#PySpark'),\n",
       " (8, '#BigData'),\n",
       " (3, '#AI')]"
      ]
     },
     "execution_count": 51,
     "metadata": {},
     "output_type": "execute_result"
    }
   ],
   "source": [
    "hashtags_by_length = hashtags_rdd.map(lambda hashtag: (len(hashtag), hashtag))\n",
    "hashtags_by_length.collect()"
   ]
  },
  {
   "cell_type": "markdown",
   "metadata": {},
   "source": [
    "##### Opción 1 (No distingue por hashtag si dos tienen la misma longitud)"
   ]
  },
  {
   "cell_type": "code",
   "execution_count": 52,
   "metadata": {},
   "outputs": [
    {
     "name": "stdout",
     "output_type": "stream",
     "text": [
      "Hashtags Grouped by Length:\n",
      "Length 8: ['#BigData', '#PySpark', '#BigData', '#PySpark', '#BigData', '#PySpark', '#BigData']\n",
      "Length 16: ['#MachineLearning']\n",
      "Length 12: ['#DataScience', '#DataScience']\n",
      "Length 3: ['#AI', '#AI', '#AI', '#AI', '#AI']\n",
      "Length 9: ['#BigData.']\n"
     ]
    }
   ],
   "source": [
    "grouped_hashtags = hashtags_by_length.groupByKey()\n",
    "print(\"Hashtags Grouped by Length:\")\n",
    "for length, hashtags in grouped_hashtags.collect():\n",
    "    print(f\"Length {length}: {list(hashtags)}\")"
   ]
  },
  {
   "cell_type": "markdown",
   "metadata": {},
   "source": [
    "##### Opción 2 (Hace una combinación del hashtag con su longitud para la key y mapea solamente la información necesaria)"
   ]
  },
  {
   "cell_type": "code",
   "execution_count": 54,
   "metadata": {},
   "outputs": [
    {
     "name": "stdout",
     "output_type": "stream",
     "text": [
      "Hashtags Grouped by Length:\n",
      "Length 8: ['#BigData', '#BigData', '#BigData', '#BigData']\n",
      "Length 12: ['#DataScience', '#DataScience']\n",
      "Length 8: ['#PySpark', '#PySpark', '#PySpark']\n",
      "Length 3: ['#AI', '#AI', '#AI', '#AI', '#AI']\n",
      "Length 16: ['#MachineLearning']\n",
      "Length 9: ['#BigData.']\n"
     ]
    }
   ],
   "source": [
    "hashtags_pairs_rdd = hashtags_rdd.map(lambda x: ((len(x), x), x))\n",
    "\n",
    "grouped_hashtags = hashtags_pairs_rdd.groupByKey()\n",
    "\n",
    "formatted_rdd = grouped_hashtags.map(lambda x: (x[0][0], list(x[1])))\n",
    "\n",
    "print(\"Hashtags Grouped by Length:\")\n",
    "for length, tags in formatted_rdd.collect():\n",
    "    print(f\"Length {length}: {tags}\")"
   ]
  }
 ],
 "metadata": {
  "kernelspec": {
   "display_name": "Python 3 (ipykernel)",
   "language": "python",
   "name": "python3"
  },
  "language_info": {
   "codemirror_mode": {
    "name": "ipython",
    "version": 3
   },
   "file_extension": ".py",
   "mimetype": "text/x-python",
   "name": "python",
   "nbconvert_exporter": "python",
   "pygments_lexer": "ipython3",
   "version": "3.11.6"
  }
 },
 "nbformat": 4,
 "nbformat_minor": 2
}
