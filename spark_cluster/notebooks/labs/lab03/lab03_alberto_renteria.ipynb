{
 "cells": [
  {
   "cell_type": "markdown",
   "metadata": {},
   "source": [
    "# <center> <img src=\"../img/ITESOLogo.png\" alt=\"ITESO\" width=\"480\" height=\"130\"> </center>\n",
    "# <center> **Departamento de Electrónica, Sistemas e Informática** </center>\n",
    "---\n",
    "## <center> **Carrera: Ingenieria en sistemas computacionales** </center>\n",
    "---\n",
    "### <center> **Primavera 2025** </center>\n",
    "---\n",
    "\n",
    "**Lab XX**: 03\n",
    "\n",
    "**Fecha**: 11/02/2024\n",
    "\n",
    "**Nombre del Estudiante**: Alberto Rentería Camacho\n",
    "\n",
    "**Profesor**: Pablo Camarillo Ramirez"
   ]
  },
  {
   "cell_type": "code",
   "execution_count": null,
   "metadata": {},
   "outputs": [],
   "source": [
    "import findspark\n",
    "findspark.init()"
   ]
  },
  {
   "cell_type": "code",
   "execution_count": 2,
   "metadata": {},
   "outputs": [
    {
     "name": "stderr",
     "output_type": "stream",
     "text": [
      "Setting default log level to \"WARN\".\n",
      "To adjust logging level use sc.setLogLevel(newLevel). For SparkR, use setLogLevel(newLevel).\n",
      "25/02/14 02:46:15 WARN NativeCodeLoader: Unable to load native-hadoop library for your platform... using builtin-java classes where applicable\n"
     ]
    }
   ],
   "source": [
    "from pyspark.sql import SparkSession\n",
    "\n",
    "spark = SparkSession.builder \\\n",
    "    .appName(\"Map-Reduce-Examples\") \\\n",
    "    .master(\"spark://5b71dc0719b1:7077\") \\\n",
    "    .config(\"spark.ui.port\",\"4040\") \\\n",
    "    .getOrCreate()\n",
    "\n",
    "# Create SparkContext\n",
    "sc = spark.sparkContext\n",
    "sc.setLogLevel(\"ERROR\")"
   ]
  },
  {
   "cell_type": "code",
   "execution_count": 3,
   "metadata": {},
   "outputs": [],
   "source": [
    "posts = [\"Learning #BigData with #PySpark is fun! #AI\",\n",
    "\"#AI is transforming the world. #BigData #MachineLearning\",\n",
    "\"I love #PySpark and #BigData. #AI #DataScience\",\n",
    "\"#DataScience and #AI are the future. #BigData\",\n",
    "\"#PySpark is awesome! #BigData #AI\"]\n",
    "\n",
    "posts_rdd = sc.parallelize(posts)"
   ]
  },
  {
   "cell_type": "markdown",
   "metadata": {},
   "source": [
    "Extract Hashtags: Use flatMap to extract all hashtags from the posts."
   ]
  },
  {
   "cell_type": "code",
   "execution_count": 4,
   "metadata": {},
   "outputs": [],
   "source": [
    "def get_hashtags(post: str) -> list[str]:\n",
    "  return [word for word in post.split() if word.startswith('#')]\n",
    "\n",
    "hashtags_rdd = posts_rdd.flatMap(get_hashtags)"
   ]
  },
  {
   "cell_type": "markdown",
   "metadata": {},
   "source": [
    "Map Hashtags to Pairs: Use map to transform each hashtag into a key-value pair (hashtag, 1)."
   ]
  },
  {
   "cell_type": "code",
   "execution_count": 5,
   "metadata": {},
   "outputs": [
    {
     "name": "stderr",
     "output_type": "stream",
     "text": [
      "                                                                                \r"
     ]
    },
    {
     "data": {
      "text/plain": [
       "[('#BigData', 1),\n",
       " ('#PySpark', 1),\n",
       " ('#AI', 1),\n",
       " ('#AI', 1),\n",
       " ('#BigData', 1),\n",
       " ('#MachineLearning', 1),\n",
       " ('#PySpark', 1),\n",
       " ('#BigData.', 1),\n",
       " ('#AI', 1),\n",
       " ('#DataScience', 1),\n",
       " ('#DataScience', 1),\n",
       " ('#AI', 1),\n",
       " ('#BigData', 1),\n",
       " ('#PySpark', 1),\n",
       " ('#BigData', 1),\n",
       " ('#AI', 1)]"
      ]
     },
     "execution_count": 5,
     "metadata": {},
     "output_type": "execute_result"
    }
   ],
   "source": [
    "tuples_hashtags_rdd = hashtags_rdd.map(lambda x: (x, 1))\n",
    "tuples_hashtags_rdd.collect()"
   ]
  },
  {
   "cell_type": "markdown",
   "metadata": {},
   "source": [
    "Count Hashtag Occurrences: Use countByValue to count how many times each hashtag appears."
   ]
  },
  {
   "cell_type": "code",
   "execution_count": null,
   "metadata": {},
   "outputs": [
    {
     "name": "stdout",
     "output_type": "stream",
     "text": [
      "Hashtag counts\n"
     ]
    },
    {
     "data": {
      "text/plain": [
       "defaultdict(int,\n",
       "            {'#BigData': 4,\n",
       "             '#PySpark': 3,\n",
       "             '#AI': 5,\n",
       "             '#MachineLearning': 1,\n",
       "             '#BigData.': 1,\n",
       "             '#DataScience': 2})"
      ]
     },
     "execution_count": 13,
     "metadata": {},
     "output_type": "execute_result"
    }
   ],
   "source": [
    "hashtag_occurrences = hashtags_rdd.countByValue()\n",
    "print('Hashtag counts:')\n",
    "hashtag_occurrences"
   ]
  },
  {
   "cell_type": "markdown",
   "metadata": {},
   "source": [
    "Group Hashtags by Length: Use groupByKey to group hashtags by their length (number of characters)."
   ]
  },
  {
   "cell_type": "code",
   "execution_count": 24,
   "metadata": {},
   "outputs": [
    {
     "name": "stdout",
     "output_type": "stream",
     "text": [
      "Hashtag grouped by Length:\n",
      "Length 8: ['#BigData', '#PySpark', '#BigData', '#PySpark', '#BigData', '#PySpark', '#BigData']\n",
      "Length 16: ['#MachineLearning']\n",
      "Length 12: ['#DataScience', '#DataScience']\n",
      "Length 3: ['#AI', '#AI', '#AI', '#AI', '#AI']\n",
      "Length 9: ['#BigData.']\n"
     ]
    },
    {
     "name": "stderr",
     "output_type": "stream",
     "text": [
      "                                                                                \r"
     ]
    }
   ],
   "source": [
    "hashtag_lenght_map = hashtags_rdd.map(lambda x: (len(x), x))\n",
    "hashtags_by_lenght = hashtag_lenght_map.groupByKey()\n",
    "print(\"Hashtag grouped by Length:\")\n",
    "for length, hashtag_array in hashtags_by_lenght.collect():\n",
    "    print(f'Length {length}:', list(hashtag_array))"
   ]
  },
  {
   "cell_type": "code",
   "execution_count": 8,
   "metadata": {},
   "outputs": [],
   "source": [
    "sc.stop()"
   ]
  }
 ],
 "metadata": {
  "kernelspec": {
   "display_name": "Python 3 (ipykernel)",
   "language": "python",
   "name": "python3"
  },
  "language_info": {
   "codemirror_mode": {
    "name": "ipython",
    "version": 3
   },
   "file_extension": ".py",
   "mimetype": "text/x-python",
   "name": "python",
   "nbconvert_exporter": "python",
   "pygments_lexer": "ipython3",
   "version": "3.11.6"
  }
 },
 "nbformat": 4,
 "nbformat_minor": 2
}
