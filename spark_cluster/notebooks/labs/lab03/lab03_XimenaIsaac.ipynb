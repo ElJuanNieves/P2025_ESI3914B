{
 "cells": [
  {
   "cell_type": "markdown",
   "metadata": {},
   "source": [
    "# <center> <img src=\"../img/ITESOLogo.png\" alt=\"ITESO\" width=\"480\" height=\"130\"> </center>\n",
    "# <center> **Departamento de Electrónica, Sistemas e Informática** </center>\n",
    "---\n",
    "## <center> **Carrera: Ingeniería en Sistemas Computacionales** </center>\n",
    "---\n",
    "### <center> **Primavera 2025** </center>\n",
    "---\n",
    "\n",
    "**Lab 03**: Analyzing Social Media Hashtags\n",
    "\n",
    "**Fecha**: 14/02/2025\n",
    "\n",
    "**Nombre del Estudiante**: Ximena Isaac Horta\n",
    "\n",
    "**Profesor**: Pablo Camarillo Ramirez"
   ]
  },
  {
   "cell_type": "markdown",
   "metadata": {},
   "source": [
    "### Encontrar la instalación de PySpark"
   ]
  },
  {
   "cell_type": "code",
   "execution_count": 1,
   "metadata": {},
   "outputs": [],
   "source": [
    "import findspark\n",
    "findspark.init()"
   ]
  },
  {
   "cell_type": "markdown",
   "metadata": {},
   "source": [
    "#### Creacion de la conexión con el cluster de spark\n"
   ]
  },
  {
   "cell_type": "code",
   "execution_count": 8,
   "metadata": {},
   "outputs": [],
   "source": [
    "from pyspark.sql import SparkSession\n",
    "\n",
    "\n",
    "spark = SparkSession.builder \\\n",
    "    .appName(\"Map-Reduce-Examples\") \\\n",
    "    .master(\"spark://c44d68f9519f:7077\") \\\n",
    "    .config(\"spark.ui.port\",\"4040\") \\\n",
    "    .getOrCreate()\n",
    "\n",
    "\n",
    "# Create SparkContext\n",
    "sc = spark.sparkContext\n",
    "sc.setLogLevel(\"ERROR\")"
   ]
  },
  {
   "cell_type": "markdown",
   "metadata": {},
   "source": [
    "## Problem Statement"
   ]
  },
  {
   "cell_type": "markdown",
   "metadata": {},
   "source": [
    "You are given a dataset of social media posts, where each post is a string containing hashtags (e.g., #BigData, #AI, #PySpark). Your task is to analyze the hashtags using PySpark RDDs and perform the following operations:\n",
    "\n",
    "Extract Hashtags: Use flatMap to extract all hashtags from the posts.\n",
    "Map Hashtags to Pairs: Use map to transform each hashtag into a key-value pair (hashtag, 1).\n",
    "Count Hashtag Occurrences: Use countByValue to count how many times each hashtag appears.\n",
    "Group Hashtags by Length: Use groupByKey to group hashtags by their length (number of characters)."
   ]
  },
  {
   "cell_type": "markdown",
   "metadata": {},
   "source": [
    "### Posts"
   ]
  },
  {
   "cell_type": "code",
   "execution_count": 21,
   "metadata": {},
   "outputs": [],
   "source": [
    "posts = [\n",
    "    \"Learning #BigData with #PySpark is fun! #AI\",\n",
    "    \"#AI is transforming the world. #BigData #MachineLearning\",\n",
    "    \"I love #PySpark and #BigData. #AI #DataScience\",\n",
    "    \"#DataScience and #AI are the future. #BigData\",\n",
    "    \"#PySpark is awesome! #BigData #AI\"\n",
    "]"
   ]
  },
  {
   "cell_type": "markdown",
   "metadata": {},
   "source": [
    "### Creation RDD"
   ]
  },
  {
   "cell_type": "code",
   "execution_count": 22,
   "metadata": {},
   "outputs": [],
   "source": [
    "posts_rdd = sc.parallelize(posts)"
   ]
  },
  {
   "cell_type": "markdown",
   "metadata": {},
   "source": [
    "### Extract hashtag"
   ]
  },
  {
   "cell_type": "code",
   "execution_count": 23,
   "metadata": {},
   "outputs": [],
   "source": [
    "def extract_hashtags(post):\n",
    "    words = post.split()\n",
    "    hashtags = [word for word in words if word.startswith(\"#\")]\n",
    "    return hashtags\n",
    "\n",
    "hashtags_rdd = posts_rdd.flatMap(extract_hashtags)\n"
   ]
  },
  {
   "cell_type": "markdown",
   "metadata": {},
   "source": [
    "### Mapping"
   ]
  },
  {
   "cell_type": "code",
   "execution_count": 24,
   "metadata": {},
   "outputs": [],
   "source": [
    "hashtag_pairs_rdd = hashtags_rdd.map(lambda hashtag: (hashtag, 1))"
   ]
  },
  {
   "cell_type": "markdown",
   "metadata": {},
   "source": [
    "### Counting"
   ]
  },
  {
   "cell_type": "code",
   "execution_count": 25,
   "metadata": {},
   "outputs": [],
   "source": [
    "hashtag_counts_rdd = hashtag_pairs_rdd.reduceByKey(lambda a, b: a + b)\n",
    "hashtag_counts = hashtag_counts_rdd.collectAsMap()"
   ]
  },
  {
   "cell_type": "markdown",
   "metadata": {},
   "source": [
    "### Grouping"
   ]
  },
  {
   "cell_type": "code",
   "execution_count": 26,
   "metadata": {},
   "outputs": [],
   "source": [
    "hashtag_length_rdd = hashtags_rdd.map(lambda hashtag: (len(hashtag), hashtag))\n",
    "hashtag_grouped_rdd = hashtag_length_rdd.groupByKey().mapValues(list)\n",
    "hashtag_lengths = hashtag_grouped_rdd.collectAsMap()"
   ]
  },
  {
   "cell_type": "markdown",
   "metadata": {},
   "source": [
    "### Printing"
   ]
  },
  {
   "cell_type": "code",
   "execution_count": 27,
   "metadata": {},
   "outputs": [
    {
     "name": "stdout",
     "output_type": "stream",
     "text": [
      "Hashtag Counts: {'#BigData': 4, '#AI': 5, '#BigData.': 1, '#DataScience': 2, '#PySpark': 3, '#MachineLearning': 1}\n",
      "Hashtags Grouped by Length:\n",
      "Length 8: ['#BigData', '#PySpark', '#BigData', '#PySpark', '#BigData', '#PySpark', '#BigData']\n",
      "Length 16: ['#MachineLearning']\n",
      "Length 12: ['#DataScience', '#DataScience']\n",
      "Length 3: ['#AI', '#AI', '#AI', '#AI', '#AI']\n",
      "Length 9: ['#BigData.']\n"
     ]
    }
   ],
   "source": [
    "print(\"Hashtag Counts:\", hashtag_counts)\n",
    "\n",
    "print(\"Hashtags Grouped by Length:\")\n",
    "for length, hashtag_list in hashtag_lengths.items():\n",
    "    print(f\"Length {length}: {hashtag_list}\")"
   ]
  }
 ],
 "metadata": {
  "kernelspec": {
   "display_name": "Python 3 (ipykernel)",
   "language": "python",
   "name": "python3"
  },
  "language_info": {
   "codemirror_mode": {
    "name": "ipython",
    "version": 3
   },
   "file_extension": ".py",
   "mimetype": "text/x-python",
   "name": "python",
   "nbconvert_exporter": "python",
   "pygments_lexer": "ipython3",
   "version": "3.11.6"
  }
 },
 "nbformat": 4,
 "nbformat_minor": 2
}
