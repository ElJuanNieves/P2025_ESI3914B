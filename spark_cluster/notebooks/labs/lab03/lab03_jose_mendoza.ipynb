{
 "cells": [
  {
   "cell_type": "markdown",
   "metadata": {},
   "source": [
    "# <center> <img src=\"../img/ITESOLogo.png\" alt=\"ITESO\" width=\"480\" height=\"130\"> </center>\n",
    "# <center> **Departamento de Electrónica, Sistemas e Informática** </center>\n",
    "---\n",
    "## <center> **Carrera: Ingeniería en sistemas computacionales** </center>\n",
    "---\n",
    "### <center> **Primavera 2025** </center>\n",
    "---\n",
    "\n",
    "**Lab XX**: Code Lab 03: Analyzing Social Media Hashtags\n",
    "\n",
    "**Fecha**: 14/02/2025\n",
    "\n",
    "**Nombre del Estudiante**: José Antonio Mendoza Navarro\n",
    "\n",
    "**Profesor**: Pablo Camarillo Ramirez"
   ]
  },
  {
   "cell_type": "markdown",
   "metadata": {},
   "source": [
    "### Problem Statement\n",
    "\n",
    "You are given a dataset of social media posts, where each post is a string containing hashtags (e.g., #BigData, #AI, #PySpark). Your task is to analyze the hashtags using PySpark RDDs and perform the following operations:\n",
    "\n",
    "    Extract Hashtags: Use flatMap to extract all hashtags from the posts.\n",
    "    Map Hashtags to Pairs: Use map to transform each hashtag into a key-value pair (hashtag, 1).\n",
    "    Count Hashtag Occurrences: Use countByValue to count how many times each hashtag appears.\n",
    "    Group Hashtags by Length: Use groupByKey to group hashtags by their length (number of characters).\n",
    "\n",
    "### Deliverable\n",
    "\n",
    "Please generate a Jupyter Notebook containing the solution to the aforementioned problem."
   ]
  },
  {
   "cell_type": "markdown",
   "metadata": {},
   "source": [
    "##### Configuracion inicial de spark ####"
   ]
  },
  {
   "cell_type": "code",
   "execution_count": 1,
   "metadata": {},
   "outputs": [],
   "source": [
    "import findspark\n",
    "\n",
    "findspark.init()"
   ]
  },
  {
   "cell_type": "code",
   "execution_count": 2,
   "metadata": {},
   "outputs": [
    {
     "name": "stderr",
     "output_type": "stream",
     "text": [
      "Setting default log level to \"WARN\".\n",
      "To adjust logging level use sc.setLogLevel(newLevel). For SparkR, use setLogLevel(newLevel).\n",
      "25/02/14 05:06:49 WARN NativeCodeLoader: Unable to load native-hadoop library for your platform... using builtin-java classes where applicable\n"
     ]
    }
   ],
   "source": [
    "from pyspark.sql import SparkSession\n",
    "\n",
    "spark = SparkSession.builder \\\n",
    "    .appName(\"Map-Reduce-Examples\") \\\n",
    "    .master(\"spark://3efd074e93ff:7077\") \\\n",
    "    .config(\"spark.ui.port\",\"4040\") \\\n",
    "    .getOrCreate()\n",
    "\n",
    "# Create SparkContext\n",
    "sc = spark.sparkContext\n",
    "sc.setLogLevel(\"ERROR\")"
   ]
  },
  {
   "cell_type": "code",
   "execution_count": 3,
   "metadata": {},
   "outputs": [],
   "source": [
    "### Expected Input ###\n",
    "\n",
    "post = [\"Learning #BigData with #PySpark is fun! #AI\",\n",
    "        \"#AI is transforming the world. #BigData #MachineLearning\",\n",
    "        \"I love #PySpark and #BigData. #AI #DataScience\",\n",
    "        \"#DataScience and #AI are the future. #BigData\",\n",
    "        \"#PySpark is awesome! #BigData #AI\"]\n",
    "\n",
    "\n",
    "posts_rdd = sc.parallelize(post)"
   ]
  },
  {
   "cell_type": "markdown",
   "metadata": {},
   "source": [
    "#### Extract Hashtags: Use flatMap to extract all hashtags from the posts."
   ]
  },
  {
   "cell_type": "code",
   "execution_count": 4,
   "metadata": {},
   "outputs": [
    {
     "name": "stderr",
     "output_type": "stream",
     "text": [
      "                                                                                \r"
     ]
    },
    {
     "data": {
      "text/plain": [
       "['#BigData',\n",
       " '#PySpark',\n",
       " '#AI',\n",
       " '#AI',\n",
       " '#BigData',\n",
       " '#MachineLearning',\n",
       " '#PySpark',\n",
       " '#BigData.',\n",
       " '#AI',\n",
       " '#DataScience',\n",
       " '#DataScience',\n",
       " '#AI',\n",
       " '#BigData',\n",
       " '#PySpark',\n",
       " '#BigData',\n",
       " '#AI']"
      ]
     },
     "execution_count": 4,
     "metadata": {},
     "output_type": "execute_result"
    }
   ],
   "source": [
    "def get_hashtags(post):\n",
    "    return [word for word in post.split() if word.startswith('#')]\n",
    "\n",
    "hashtags = posts_rdd.flatMap(get_hashtags)\n",
    "hashtags.collect()\n",
    "    "
   ]
  },
  {
   "cell_type": "markdown",
   "metadata": {},
   "source": [
    "#### Map Hashtags to Pairs: Use map to transform each hashtag into a key-value pair (hashtag, 1)."
   ]
  },
  {
   "cell_type": "code",
   "execution_count": 5,
   "metadata": {},
   "outputs": [
    {
     "data": {
      "text/plain": [
       "[('#BigData', 1),\n",
       " ('#PySpark', 1),\n",
       " ('#AI', 1),\n",
       " ('#AI', 1),\n",
       " ('#BigData', 1),\n",
       " ('#MachineLearning', 1),\n",
       " ('#PySpark', 1),\n",
       " ('#BigData.', 1),\n",
       " ('#AI', 1),\n",
       " ('#DataScience', 1),\n",
       " ('#DataScience', 1),\n",
       " ('#AI', 1),\n",
       " ('#BigData', 1),\n",
       " ('#PySpark', 1),\n",
       " ('#BigData', 1),\n",
       " ('#AI', 1)]"
      ]
     },
     "execution_count": 5,
     "metadata": {},
     "output_type": "execute_result"
    }
   ],
   "source": [
    "hashtag_counts = hashtags.map(lambda x: (x, 1))\n",
    "hashtag_counts.collect()"
   ]
  },
  {
   "cell_type": "markdown",
   "metadata": {},
   "source": [
    "#### Count Hashtag Occurrences: Use countByValue to count how many times each hashtag appears."
   ]
  },
  {
   "cell_type": "code",
   "execution_count": 7,
   "metadata": {},
   "outputs": [
    {
     "name": "stdout",
     "output_type": "stream",
     "text": [
      "#BigData: 4\n",
      "#PySpark: 3\n",
      "#AI: 5\n",
      "#MachineLearning: 1\n",
      "#BigData.: 1\n",
      "#DataScience: 2\n"
     ]
    }
   ],
   "source": [
    "hashtags = posts_rdd.flatMap(get_hashtags)\n",
    "hashtag_list = hashtags.collect()\n",
    "\n",
    "hashtag_count_rdd = sc.parallelize(hashtag_list)\n",
    "            \n",
    "hashtag_counts = hashtag_count_rdd.countByValue()\n",
    "for hashtag, count in hashtag_counts.items():\n",
    "    print(f\"{hashtag}: {count}\")"
   ]
  },
  {
   "cell_type": "markdown",
   "metadata": {},
   "source": [
    "#### Group Hashtags by Length: Use groupByKey to group hashtags by their length (number of characters)."
   ]
  },
  {
   "cell_type": "code",
   "execution_count": 9,
   "metadata": {},
   "outputs": [
    {
     "data": {
      "text/plain": [
       "[(8,\n",
       "  ['#BigData',\n",
       "   '#PySpark',\n",
       "   '#BigData',\n",
       "   '#PySpark',\n",
       "   '#BigData',\n",
       "   '#PySpark',\n",
       "   '#BigData']),\n",
       " (16, ['#MachineLearning']),\n",
       " (12, ['#DataScience', '#DataScience']),\n",
       " (3, ['#AI', '#AI', '#AI', '#AI', '#AI']),\n",
       " (9, ['#BigData.'])]"
      ]
     },
     "execution_count": 9,
     "metadata": {},
     "output_type": "execute_result"
    }
   ],
   "source": [
    "hashtags_by_length = hashtags.map(lambda x: (len(x), x))\n",
    "hashtags_by_length.groupByKey().mapValues(list).collect()"
   ]
  },
  {
   "cell_type": "code",
   "execution_count": 23,
   "metadata": {},
   "outputs": [],
   "source": [
    "# Stop the SparkContext\n",
    "sc.stop()"
   ]
  }
 ],
 "metadata": {
  "kernelspec": {
   "display_name": "Python 3 (ipykernel)",
   "language": "python",
   "name": "python3"
  },
  "language_info": {
   "codemirror_mode": {
    "name": "ipython",
    "version": 3
   },
   "file_extension": ".py",
   "mimetype": "text/x-python",
   "name": "python",
   "nbconvert_exporter": "python",
   "pygments_lexer": "ipython3",
   "version": "3.11.6"
  }
 },
 "nbformat": 4,
 "nbformat_minor": 2
}
