{
 "cells": [
  {
   "cell_type": "markdown",
   "id": "d93935f4-9f8d-4ae3-beaf-c1da858d11aa",
   "metadata": {},
   "source": [
    "# <center> <img src=\"../img/ITESOLogo.png\" alt=\"ITESO\" width=\"480\" height=\"130\"> </center>\n",
    "# <center> **Departamento de Electrónica, Sistemas e Informática** </center>\n",
    "---\n",
    "## <center> **Carrera: Ingeniería en Sistemas Computacionales** </center>\n",
    "---\n",
    "### <center> **Primavera 2025** </center>\n",
    "---\n",
    "\n",
    "**Lab 03**: Analyzing Social Media Hashtags\n",
    "\n",
    "**Fecha**: 11/02/2025\n",
    "\n",
    "**Nombre del Estudiante**: Luis Raúl Acosta Mendoza\n",
    "\n",
    "**Profesor**: Pablo Camarillo Ramirez"
   ]
  },
  {
   "cell_type": "code",
   "execution_count": 1,
   "id": "6bafcd50-d216-4595-9182-8dfeb7e9cc0e",
   "metadata": {},
   "outputs": [],
   "source": [
    "import findspark\n",
    "findspark.init()"
   ]
  },
  {
   "cell_type": "code",
   "execution_count": 4,
   "id": "811bb38b-1146-4a7d-94e8-7d581c97ace0",
   "metadata": {},
   "outputs": [],
   "source": [
    "from pyspark.sql import SparkSession\n",
    "\n",
    "spark = SparkSession.builder \\\n",
    "    .appName(\"lab03\") \\\n",
    "    .master(\"spark://7e5fdd448b6d:7077\") \\\n",
    "    .config(\"spark.ui.port\",\"4040\") \\\n",
    "    .getOrCreate()\n",
    "\n",
    "# Create SparkContext\n",
    "sc = spark.sparkContext\n",
    "sc.setLogLevel(\"ERROR\")"
   ]
  },
  {
   "cell_type": "code",
   "execution_count": 5,
   "id": "5672429a-1c02-49a7-89b9-675911323a3d",
   "metadata": {},
   "outputs": [],
   "source": [
    "# Input data\n",
    "posts = [\"Learning #BigData with #PySpark is fun! #AI\",\n",
    "\"#AI is transforming the world. #BigData #MachineLearning\",\n",
    "\"I love #PySpark and #BigData. #AI #DataScience\",\n",
    "\"#DataScience and #AI are the future. #BigData\",\n",
    "\"#PySpark is awesome! #BigData #AI\"]"
   ]
  },
  {
   "cell_type": "markdown",
   "id": "5e86d06a-6893-4012-abb0-4a0180933745",
   "metadata": {},
   "source": [
    "**Extract hasthags with flatMap**"
   ]
  },
  {
   "cell_type": "code",
   "execution_count": 6,
   "id": "7599bce6-8c24-4790-a696-d20ecfd093fc",
   "metadata": {},
   "outputs": [],
   "source": [
    "rdd = sc.parallelize(posts)"
   ]
  },
  {
   "cell_type": "code",
   "execution_count": 7,
   "id": "f0ba6eef-8619-454b-837c-fa4cc42fe573",
   "metadata": {},
   "outputs": [],
   "source": [
    "def extract_hashtag(post):\n",
    "    return [ht for ht in post.split() if '#' in ht]\n",
    "\n",
    "\n",
    "hashtags_rdd = rdd.flatMap(extract_hashtag)"
   ]
  },
  {
   "cell_type": "code",
   "execution_count": 13,
   "id": "69289ee5-f683-431e-9ef2-e36c38007a4a",
   "metadata": {},
   "outputs": [
    {
     "name": "stderr",
     "output_type": "stream",
     "text": [
      "                                                                                \r"
     ]
    },
    {
     "data": {
      "text/plain": [
       "['#BigData',\n",
       " '#PySpark',\n",
       " '#AI',\n",
       " '#AI',\n",
       " '#BigData',\n",
       " '#MachineLearning',\n",
       " '#PySpark',\n",
       " '#BigData.',\n",
       " '#AI',\n",
       " '#DataScience',\n",
       " '#DataScience',\n",
       " '#AI',\n",
       " '#BigData',\n",
       " '#PySpark',\n",
       " '#BigData',\n",
       " '#AI']"
      ]
     },
     "execution_count": 13,
     "metadata": {},
     "output_type": "execute_result"
    }
   ],
   "source": [
    "hashtags_rdd.collect()"
   ]
  },
  {
   "cell_type": "markdown",
   "id": "03a50f09-8e1c-407d-9c64-79b56df5b4db",
   "metadata": {},
   "source": [
    "**Map hashtags to pairs**"
   ]
  },
  {
   "cell_type": "code",
   "execution_count": 70,
   "id": "a5b0bf2f-f9b3-45d6-9f1e-49767dce9a6e",
   "metadata": {},
   "outputs": [
    {
     "name": "stderr",
     "output_type": "stream",
     "text": [
      "                                                                                \r"
     ]
    },
    {
     "data": {
      "text/plain": [
       "[('#BigData', 1),\n",
       " ('#PySpark', 1),\n",
       " ('#AI', 1),\n",
       " ('#AI', 1),\n",
       " ('#BigData', 1),\n",
       " ('#MachineLearning', 1),\n",
       " ('#PySpark', 1),\n",
       " ('#BigData.', 1),\n",
       " ('#AI', 1),\n",
       " ('#DataScience', 1),\n",
       " ('#DataScience', 1),\n",
       " ('#AI', 1),\n",
       " ('#BigData', 1),\n",
       " ('#PySpark', 1),\n",
       " ('#BigData', 1),\n",
       " ('#AI', 1)]"
      ]
     },
     "execution_count": 70,
     "metadata": {},
     "output_type": "execute_result"
    }
   ],
   "source": [
    "hashtag_map = hashtags_rdd.map(lambda x: (x, 1))\n",
    "hashtag_map.collect()"
   ]
  },
  {
   "cell_type": "markdown",
   "id": "8e93c602-2641-46ef-9297-18bfc1672946",
   "metadata": {},
   "source": [
    "**Count Hashtag Occurrences**"
   ]
  },
  {
   "cell_type": "code",
   "execution_count": 71,
   "id": "8a375e3f-7f79-4a7d-8148-e37b599d7114",
   "metadata": {},
   "outputs": [
    {
     "name": "stderr",
     "output_type": "stream",
     "text": [
      "[Stage 57:>                                                         (0 + 1) / 2]\r"
     ]
    },
    {
     "name": "stdout",
     "output_type": "stream",
     "text": [
      "Hashtag counts: {'#BigData': 4, '#PySpark': 3, '#AI': 5, '#MachineLearning': 1, '#BigData.': 1, '#DataScience': 2}\n"
     ]
    },
    {
     "name": "stderr",
     "output_type": "stream",
     "text": [
      "                                                                                \r"
     ]
    }
   ],
   "source": [
    "hashtag_count = hashtags_rdd.countByValue()\n",
    "print(f'Hashtag counts: {dict(hashtag_count)}')"
   ]
  },
  {
   "cell_type": "markdown",
   "id": "6d1b8896-17eb-4f57-be5f-9a8f82f12899",
   "metadata": {},
   "source": [
    "**Group Hashtags by Length**"
   ]
  },
  {
   "cell_type": "code",
   "execution_count": 77,
   "id": "fd28d5a5-def6-4bba-9a3b-bfd851f8e2b2",
   "metadata": {},
   "outputs": [
    {
     "name": "stderr",
     "output_type": "stream",
     "text": [
      "[Stage 64:=============================>                            (1 + 1) / 2]\r"
     ]
    },
    {
     "name": "stdout",
     "output_type": "stream",
     "text": [
      "Length 8: ['#BigData', '#PySpark', '#BigData', '#PySpark', '#BigData', '#PySpark', '#BigData']\n",
      "Length 16: ['#MachineLearning']\n",
      "Length 12: ['#DataScience', '#DataScience']\n",
      "Length 3: ['#AI', '#AI', '#AI', '#AI', '#AI']\n",
      "Length 9: ['#BigData.']\n"
     ]
    },
    {
     "name": "stderr",
     "output_type": "stream",
     "text": [
      "                                                                                \r"
     ]
    }
   ],
   "source": [
    "hashtags_by_length_map = hashtags_rdd.map(lambda x: (len(x), x))\n",
    "hashtags_by_length = hashtags_by_length_map.groupByKey()\n",
    "result = hashtags_by_length.collect()\n",
    "\n",
    "for key, values in result:\n",
    "    print(f\"Length {key}: {list(values)}\")"
   ]
  }
 ],
 "metadata": {
  "kernelspec": {
   "display_name": "Python 3 (ipykernel)",
   "language": "python",
   "name": "python3"
  },
  "language_info": {
   "codemirror_mode": {
    "name": "ipython",
    "version": 3
   },
   "file_extension": ".py",
   "mimetype": "text/x-python",
   "name": "python",
   "nbconvert_exporter": "python",
   "pygments_lexer": "ipython3",
   "version": "3.11.6"
  }
 },
 "nbformat": 4,
 "nbformat_minor": 5
}
