{
 "cells": [
  {
   "cell_type": "markdown",
   "metadata": {},
   "source": [
    "# <center> <img src=\"../img/ITESOLogo.png\" alt=\"ITESO\" width=\"480\" height=\"130\"> </center>\n",
    "---\n",
    "## <center> **Procesamiento de Datos Masivos** </center>\n",
    "---\n",
    "### <center> **Primavera 2025** </center>\n",
    "---\n",
    "### <center> **Laboratorio 03** </center>\n",
    "---\n",
    "**Nombre**: Benjamin Leonardo Zarate Solano"
   ]
  },
  {
   "cell_type": "markdown",
   "metadata": {},
   "source": [
    "#### Encontrar la instalación de PySpark"
   ]
  },
  {
   "cell_type": "code",
   "execution_count": 42,
   "metadata": {},
   "outputs": [],
   "source": [
    "import findspark\n",
    "findspark.init()"
   ]
  },
  {
   "cell_type": "markdown",
   "metadata": {},
   "source": [
    "#### Creacion de la conexión con el cluster de spark"
   ]
  },
  {
   "cell_type": "code",
   "execution_count": 43,
   "metadata": {},
   "outputs": [],
   "source": [
    "from pyspark.sql import SparkSession\n",
    "spark = SparkSession.builder \\\n",
    "    .appName(\"Lab03\") \\\n",
    "    .master(\"spark://b631371550f9:7077\") \\\n",
    "    .config(\"spark.ui.port\",\"4040\") \\\n",
    "    .getOrCreate()\n",
    "\n",
    "# Create SparkContext\n",
    "sc = spark.sparkContext\n",
    "sc.setLogLevel(\"ERROR\")"
   ]
  },
  {
   "cell_type": "markdown",
   "metadata": {},
   "source": [
    "### Crear el RDD"
   ]
  },
  {
   "cell_type": "code",
   "execution_count": 44,
   "metadata": {},
   "outputs": [],
   "source": [
    "post = [\"Learning #BigData with #PySpark is fun! #AI\",\n",
    "    \"#AI is transforming the world. #BigData #MachineLearning\",\n",
    "    \"I love #PySpark and #BigData. #AI #DataScience\",\n",
    "    \"#DataScience and #AI are the future. #BigData\",\n",
    "    \"#PySpark is awesome! #BigData #AI\",]\n",
    "\n",
    "post_rdd = sc.parallelize(post)"
   ]
  },
  {
   "cell_type": "markdown",
   "metadata": {},
   "source": [
    "### Extraer los Hashtags"
   ]
  },
  {
   "cell_type": "code",
   "execution_count": 45,
   "metadata": {},
   "outputs": [
    {
     "data": {
      "text/plain": [
       "['#BigData',\n",
       " '#PySpark',\n",
       " '#AI',\n",
       " '#AI',\n",
       " '#BigData',\n",
       " '#MachineLearning',\n",
       " '#PySpark',\n",
       " '#BigData.',\n",
       " '#AI',\n",
       " '#DataScience',\n",
       " '#DataScience',\n",
       " '#AI',\n",
       " '#BigData',\n",
       " '#PySpark',\n",
       " '#BigData',\n",
       " '#AI']"
      ]
     },
     "execution_count": 45,
     "metadata": {},
     "output_type": "execute_result"
    }
   ],
   "source": [
    "def get_hashtags(post):\n",
    "    return [word for word in post.split() if word.startswith(\"#\")]\n",
    "\n",
    "hashtags_rdd = post_rdd.flatMap(get_hashtags)\n",
    "hashtags_rdd.collect()"
   ]
  },
  {
   "cell_type": "markdown",
   "metadata": {},
   "source": [
    "### Crear un RDD con las tuplas"
   ]
  },
  {
   "cell_type": "markdown",
   "metadata": {},
   "source": [
    "###"
   ]
  },
  {
   "cell_type": "code",
   "execution_count": 46,
   "metadata": {},
   "outputs": [
    {
     "data": {
      "text/plain": [
       "[('#BigData', 1),\n",
       " ('#PySpark', 1),\n",
       " ('#AI', 1),\n",
       " ('#AI', 1),\n",
       " ('#BigData', 1),\n",
       " ('#MachineLearning', 1),\n",
       " ('#PySpark', 1),\n",
       " ('#BigData.', 1),\n",
       " ('#AI', 1),\n",
       " ('#DataScience', 1),\n",
       " ('#DataScience', 1),\n",
       " ('#AI', 1),\n",
       " ('#BigData', 1),\n",
       " ('#PySpark', 1),\n",
       " ('#BigData', 1),\n",
       " ('#AI', 1)]"
      ]
     },
     "execution_count": 46,
     "metadata": {},
     "output_type": "execute_result"
    }
   ],
   "source": [
    "tuples_hashtags_rdd = hashtags_rdd.map(lambda x: (x, 1))\n",
    "tuples_hashtags_rdd.collect()"
   ]
  },
  {
   "cell_type": "markdown",
   "metadata": {},
   "source": [
    "### Count para Hashtags"
   ]
  },
  {
   "cell_type": "code",
   "execution_count": 47,
   "metadata": {},
   "outputs": [],
   "source": [
    "count_hashtags_rdd = tuples_hashtags_rdd.countByValue()"
   ]
  },
  {
   "cell_type": "markdown",
   "metadata": {},
   "source": [
    "### Funcion para extraer la longitud de los Hashtags"
   ]
  },
  {
   "cell_type": "code",
   "execution_count": 48,
   "metadata": {},
   "outputs": [],
   "source": [
    "def group_hashtags(x):\n",
    "    return (len(x), x)"
   ]
  },
  {
   "cell_type": "markdown",
   "metadata": {},
   "source": [
    "### Agrupamos los hashtags por longitud "
   ]
  },
  {
   "cell_type": "code",
   "execution_count": 49,
   "metadata": {},
   "outputs": [],
   "source": [
    "length_hashtags_rdd = hashtags_rdd.map(group_hashtags).groupByKey()"
   ]
  },
  {
   "cell_type": "markdown",
   "metadata": {},
   "source": [
    "### Convertimos los hashtags en lista"
   ]
  },
  {
   "cell_type": "code",
   "execution_count": 50,
   "metadata": {},
   "outputs": [],
   "source": [
    "group_length_hashtags_rdd = {key: list(values) for key, values in length_hashtags_rdd.collect()}"
   ]
  },
  {
   "cell_type": "markdown",
   "metadata": {},
   "source": [
    "### Salida esperada"
   ]
  },
  {
   "cell_type": "code",
   "execution_count": 53,
   "metadata": {},
   "outputs": [
    {
     "name": "stdout",
     "output_type": "stream",
     "text": [
      "Hashtag Counts: {('#BigData', 1): 4, ('#PySpark', 1): 3, ('#AI', 1): 5, ('#MachineLearning', 1): 1, ('#BigData.', 1): 1, ('#DataScience', 1): 2}\n",
      "\n",
      "Hashtags Grouped by Length:\n",
      "Length 3: ['#AI', '#AI', '#AI', '#AI', '#AI']\n",
      "Length 8: ['#BigData', '#PySpark', '#BigData', '#PySpark', '#BigData', '#PySpark', '#BigData']\n",
      "Length 9: ['#BigData.']\n",
      "Length 12: ['#DataScience', '#DataScience']\n",
      "Length 16: ['#MachineLearning']\n"
     ]
    }
   ],
   "source": [
    "\n",
    "print(\"Hashtag Counts:\", dict(count_hashtags_rdd))\n",
    "\n",
    "print(\"\\nHashtags Grouped by Length:\")\n",
    "for key in sorted(group_length_hashtags_rdd.keys()):\n",
    "    print(f\"Length {key}: {group_length_hashtags_rdd[key]}\")"
   ]
  }
 ],
 "metadata": {
  "kernelspec": {
   "display_name": "Python 3 (ipykernel)",
   "language": "python",
   "name": "python3"
  },
  "language_info": {
   "codemirror_mode": {
    "name": "ipython",
    "version": 3
   },
   "file_extension": ".py",
   "mimetype": "text/x-python",
   "name": "python",
   "nbconvert_exporter": "python",
   "pygments_lexer": "ipython3",
   "version": "3.11.6"
  }
 },
 "nbformat": 4,
 "nbformat_minor": 2
}
