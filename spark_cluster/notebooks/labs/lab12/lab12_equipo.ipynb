{
 "cells": [
  {
   "cell_type": "markdown",
   "metadata": {},
   "source": [
    "# <center> <img src=\"../labs/img/ITESOLogo.png\" alt=\"ITESO\" width=\"480\" height=\"130\"> </center>\n",
    "# <center> **Departamento de Electrónica, Sistemas e Informática** </center>\n",
    "---\n",
    "## <center> **Procesamiento de Datos Masivos** </center>\n",
    "---\n",
    "### <center> **Primavera 2025** </center>\n",
    "---\n",
    "### <center> **Lab 12** </center>\n",
    "\n",
    "---\n",
    "**Profesor**: Dr. Pablo Camarillo Ramirez\n",
    "\n",
    "**Integrantes**:\n",
    "- Lorena Ruelas Gaytán\n",
    "- Yael Alejandro Rodríguez Barreto\n",
    "- Ximena Isaac Horta\n",
    "- Alberto Renteria Camacho"
   ]
  },
  {
   "cell_type": "code",
   "execution_count": 7,
   "metadata": {},
   "outputs": [],
   "source": [
    "import findspark\n",
    "findspark.init()"
   ]
  },
  {
   "cell_type": "markdown",
   "metadata": {},
   "source": [
    "#### Spark Conexion\n"
   ]
  },
  {
   "cell_type": "code",
   "execution_count": 8,
   "metadata": {},
   "outputs": [],
   "source": [
    "from pyspark.sql import SparkSession\n",
    "\n",
    "spark = SparkSession.builder \\\n",
    "    .appName(\"MLSpark-Recommender-Systems\") \\\n",
    "    .master(\"spark://9c456350d25c:7077\") \\\n",
    "    .config(\"spark.ui.port\",\"4040\") \\\n",
    "    .getOrCreate()\n",
    "sc = spark.sparkContext\n",
    "spark.conf.set(\"spark.sql.shuffle.partitions\", \"5\")"
   ]
  },
  {
   "cell_type": "markdown",
   "metadata": {},
   "source": [
    "#### Data preparation"
   ]
  },
  {
   "cell_type": "code",
   "execution_count": 9,
   "metadata": {},
   "outputs": [
    {
     "name": "stderr",
     "output_type": "stream",
     "text": [
      "[Stage 0:>                                                          (0 + 1) / 1]\r"
     ]
    },
    {
     "name": "stdout",
     "output_type": "stream",
     "text": [
      "+------+-------+------+\n",
      "|userId|movieId|rating|\n",
      "+------+-------+------+\n",
      "|     0|      2|     3|\n",
      "|     0|      3|     1|\n",
      "|     0|      5|     2|\n",
      "|     0|      9|     4|\n",
      "|     0|     11|     1|\n",
      "|     0|     12|     2|\n",
      "|     0|     15|     1|\n",
      "|     0|     17|     1|\n",
      "|     0|     19|     1|\n",
      "|     0|     21|     1|\n",
      "+------+-------+------+\n",
      "only showing top 10 rows\n",
      "\n",
      "root\n",
      " |-- userId: integer (nullable = true)\n",
      " |-- movieId: integer (nullable = true)\n",
      " |-- rating: integer (nullable = true)\n",
      "\n"
     ]
    },
    {
     "name": "stderr",
     "output_type": "stream",
     "text": [
      "                                                                                \r"
     ]
    }
   ],
   "source": [
    "from team_name.spark_utils import SparkUtils\n",
    "\n",
    "data_path = \"/home/jovyan/notebooks/data/movie_scores/sample_movielens_ratings.txt\"\n",
    "\n",
    "# Define schema for the DataFrame\n",
    "schema = SparkUtils.generate_schema([\n",
    "    (\"userId\", \"integer\"),\n",
    "    (\"movieId\", \"integer\"),\n",
    "    (\"rating\",\"integer\"),\n",
    "    (\"date\",\"timestamp\")\n",
    "])\n",
    "\n",
    "rating_df = spark.read \\\n",
    "        .schema(schema) \\\n",
    "        .option(\"header\", \"false\") \\\n",
    "        .option(\"delimiter\", \"::\") \\\n",
    "        .csv(data_path)\n",
    "\n",
    "rating_df = rating_df.drop(\"date\")\n",
    "rating_df.show(10)\n",
    "rating_df.printSchema()"
   ]
  },
  {
   "cell_type": "markdown",
   "metadata": {},
   "source": [
    "#### Configure ALS model"
   ]
  },
  {
   "cell_type": "code",
   "execution_count": 10,
   "metadata": {},
   "outputs": [],
   "source": [
    "from pyspark.ml.recommendation import ALS\n",
    "\n",
    "als = ALS(\n",
    "    userCol=\"userId\", \n",
    "    itemCol=\"movieId\", \n",
    "    ratingCol=\"rating\", \n",
    "    maxIter=25, \n",
    "    regParam=0.1, \n",
    "    rank=5, # Controls the dimensionality of the latent vector space for \n",
    "            # users and items.\n",
    "    coldStartStrategy=\"drop\"  # Avoids NaN predictions\n",
    ")"
   ]
  },
  {
   "cell_type": "markdown",
   "metadata": {},
   "source": [
    "#### Training"
   ]
  },
  {
   "cell_type": "code",
   "execution_count": 11,
   "metadata": {},
   "outputs": [
    {
     "name": "stderr",
     "output_type": "stream",
     "text": [
      "                                                                                \r"
     ]
    }
   ],
   "source": [
    "model_als = als.fit(rating_df)"
   ]
  },
  {
   "cell_type": "markdown",
   "metadata": {},
   "source": [
    "#### Predictions"
   ]
  },
  {
   "cell_type": "code",
   "execution_count": 12,
   "metadata": {},
   "outputs": [
    {
     "name": "stderr",
     "output_type": "stream",
     "text": [
      "[Stage 168:===================================================>  (96 + 1) / 100]\r"
     ]
    },
    {
     "name": "stdout",
     "output_type": "stream",
     "text": [
      "+------+-------------------------------------------------------------------------------------------------------------------------------------------------------------------------+\n",
      "|userId|recommendations                                                                                                                                                          |\n",
      "+------+-------------------------------------------------------------------------------------------------------------------------------------------------------------------------+\n",
      "|0     |[{92, 2.5959032}, {2, 2.3083057}, {62, 2.2538722}, {25, 2.1969426}, {93, 2.1477091}, {89, 2.0750296}, {41, 2.0114007}, {12, 1.9659108}, {4, 1.8798398}, {40, 1.8344107}] |\n",
      "|10    |[{92, 2.7782347}, {2, 2.6499631}, {25, 2.6480808}, {93, 2.6063313}, {49, 2.5840454}, {46, 2.5223231}, {12, 2.5001009}, {89, 2.485821}, {91, 2.3178747}, {81, 2.299457}]  |\n",
      "|20    |[{22, 3.561147}, {68, 3.113898}, {94, 3.0776765}, {51, 3.074668}, {77, 3.0353088}, {75, 3.0239546}, {90, 3.011408}, {88, 2.9808958}, {98, 2.7585948}, {54, 2.6474507}]   |\n",
      "|1     |[{22, 2.9000564}, {68, 2.6054494}, {77, 2.537486}, {62, 2.5012}, {90, 2.4887006}, {94, 2.431974}, {88, 2.3703246}, {75, 2.2995238}, {51, 2.255313}, {92, 2.2335346}]     |\n",
      "|11    |[{32, 5.034743}, {30, 4.6848254}, {18, 4.653992}, {27, 4.4826064}, {8, 4.149494}, {79, 4.1287613}, {34, 4.084432}, {23, 4.079032}, {48, 3.99813}, {49, 3.9686863}]       |\n",
      "|21    |[{29, 4.323429}, {52, 4.2468767}, {76, 3.730071}, {63, 3.5015714}, {53, 3.4769492}, {62, 3.2505655}, {70, 3.2262287}, {93, 3.198711}, {85, 3.1735907}, {41, 3.1637206}]  |\n",
      "|22    |[{51, 4.4595194}, {75, 4.412269}, {22, 4.1084185}, {74, 4.0909514}, {88, 4.070888}, {77, 4.01076}, {30, 3.9994707}, {53, 3.9796221}, {69, 3.8655815}, {94, 3.453399}]    |\n",
      "|2     |[{93, 4.234576}, {83, 4.1588974}, {8, 4.0550027}, {39, 3.751318}, {92, 3.486048}, {2, 3.4811122}, {89, 3.477185}, {81, 3.4495301}, {19, 3.2892752}, {49, 3.1603734}]     |\n",
      "|12    |[{46, 5.785598}, {55, 4.788091}, {49, 4.541802}, {90, 4.1935067}, {48, 4.110953}, {17, 4.0645547}, {64, 3.9519963}, {32, 3.9071877}, {27, 3.89353}, {65, 3.6083539}]     |\n",
      "|23    |[{46, 5.5721107}, {55, 4.732884}, {32, 4.651957}, {90, 4.6181097}, {49, 4.414555}, {17, 4.263522}, {48, 4.262451}, {27, 4.2458906}, {65, 3.8083737}, {23, 3.7269702}]    |\n",
      "|3     |[{30, 4.0730453}, {69, 3.852062}, {51, 3.8158164}, {74, 3.813049}, {75, 3.737309}, {32, 3.480808}, {18, 3.3340998}, {53, 3.2682772}, {88, 3.1534317}, {22, 3.044465}]    |\n",
      "|13    |[{74, 2.6976779}, {93, 2.6143024}, {29, 2.528233}, {53, 2.465398}, {52, 2.4636092}, {8, 2.4227042}, {76, 2.3745522}, {69, 2.203806}, {2, 2.1906042}, {30, 2.1817367}]    |\n",
      "|24    |[{29, 4.4273033}, {52, 4.427199}, {30, 3.9044788}, {53, 3.8903656}, {69, 3.7382815}, {96, 3.6046264}, {90, 3.5632672}, {76, 3.5499198}, {74, 3.549293}, {75, 3.4313776}] |\n",
      "|4     |[{29, 3.2461686}, {52, 3.138131}, {62, 2.8173018}, {93, 2.7473903}, {76, 2.733151}, {2, 2.7101321}, {41, 2.6648726}, {53, 2.6631875}, {25, 2.6618202}, {70, 2.604889}]   |\n",
      "|14    |[{29, 4.6372843}, {52, 4.5934553}, {76, 3.8886993}, {63, 3.8278806}, {85, 3.5363846}, {53, 3.464131}, {62, 3.3913155}, {70, 3.389316}, {72, 3.2442758}, {43, 3.2264087}] |\n",
      "|5     |[{46, 4.1818204}, {90, 3.54644}, {55, 3.3151736}, {49, 3.2613144}, {94, 3.1846058}, {17, 3.1620855}, {68, 2.888264}, {32, 2.863986}, {64, 2.855808}, {23, 2.750312}]     |\n",
      "|15    |[{46, 3.4327953}, {49, 2.8122852}, {55, 2.6275244}, {90, 2.5293918}, {64, 2.4110703}, {17, 2.3113735}, {94, 2.295547}, {68, 2.231799}, {16, 2.1298568}, {23, 2.1022978}] |\n",
      "|25    |[{46, 3.1198907}, {49, 3.0082636}, {55, 2.4872408}, {93, 2.4404714}, {91, 2.2932062}, {48, 2.2890477}, {81, 2.2668836}, {25, 2.1628163}, {2, 2.1535335}, {64, 2.1387372}]|\n",
      "|6     |[{29, 3.0923584}, {52, 3.0241838}, {25, 3.0231552}, {2, 2.7782402}, {93, 2.7536497}, {62, 2.7318723}, {85, 2.6717856}, {63, 2.655954}, {70, 2.5684042}, {41, 2.5052283}] |\n",
      "|16    |[{22, 3.7485032}, {77, 3.7158308}, {90, 3.6189828}, {62, 3.5761046}, {85, 3.5637112}, {68, 3.4047616}, {29, 3.3123116}, {75, 3.2175157}, {52, 3.1766973}, {94, 3.143801}]|\n",
      "+------+-------------------------------------------------------------------------------------------------------------------------------------------------------------------------+\n",
      "only showing top 20 rows\n",
      "\n"
     ]
    },
    {
     "name": "stderr",
     "output_type": "stream",
     "text": [
      "                                                                                \r"
     ]
    }
   ],
   "source": [
    "user_recommendations = model_als.recommendForAllUsers(numItems=10)\n",
    "user_recommendations.show(truncate=False)"
   ]
  },
  {
   "cell_type": "markdown",
   "metadata": {},
   "source": [
    "#### Predictions for all data"
   ]
  },
  {
   "cell_type": "code",
   "execution_count": 13,
   "metadata": {},
   "outputs": [
    {
     "name": "stderr",
     "output_type": "stream",
     "text": [
      "                                                                                \r"
     ]
    },
    {
     "name": "stdout",
     "output_type": "stream",
     "text": [
      "+------+-------+------+----------+\n",
      "|userId|movieId|rating|prediction|\n",
      "+------+-------+------+----------+\n",
      "|22    |0      |1     |0.95811313|\n",
      "|22    |3      |2     |1.6246264 |\n",
      "|22    |5      |2     |2.0358346 |\n",
      "|22    |6      |2     |2.2903247 |\n",
      "|22    |9      |1     |1.5327815 |\n",
      "|22    |10     |1     |1.4324794 |\n",
      "|22    |11     |1     |1.2992125 |\n",
      "|22    |13     |1     |1.5952772 |\n",
      "|22    |14     |1     |1.3866265 |\n",
      "|22    |16     |1     |0.70083123|\n",
      "|22    |18     |3     |3.0301585 |\n",
      "|22    |19     |1     |1.454614  |\n",
      "|22    |22     |5     |4.1084185 |\n",
      "|22    |25     |1     |0.9898241 |\n",
      "|22    |26     |1     |1.1388094 |\n",
      "|22    |29     |3     |3.2434077 |\n",
      "|22    |30     |5     |3.9994707 |\n",
      "|22    |32     |4     |3.1795506 |\n",
      "|22    |33     |1     |0.91275346|\n",
      "|22    |35     |1     |0.7472613 |\n",
      "+------+-------+------+----------+\n",
      "only showing top 20 rows\n",
      "\n"
     ]
    },
    {
     "name": "stderr",
     "output_type": "stream",
     "text": [
      "                                                                                \r"
     ]
    }
   ],
   "source": [
    "predictions = model_als.transform(rating_df)\n",
    "predictions.show(truncate=False)"
   ]
  },
  {
   "cell_type": "markdown",
   "metadata": {},
   "source": [
    "#### Evaluate model"
   ]
  },
  {
   "cell_type": "code",
   "execution_count": 14,
   "metadata": {},
   "outputs": [
    {
     "name": "stderr",
     "output_type": "stream",
     "text": [
      "[Stage 401:>                                                        (0 + 1) / 1]\r"
     ]
    },
    {
     "name": "stdout",
     "output_type": "stream",
     "text": [
      "Root-mean-square error (RMSE) = 0.5694858196672336\n"
     ]
    },
    {
     "name": "stderr",
     "output_type": "stream",
     "text": [
      "                                                                                \r"
     ]
    }
   ],
   "source": [
    "from pyspark.ml.evaluation import RegressionEvaluator\n",
    "# Set up evaluator to compute RMSE\n",
    "evaluator = RegressionEvaluator(\n",
    "    metricName=\"rmse\", \n",
    "    labelCol=\"rating\", \n",
    "    predictionCol=\"prediction\"\n",
    ")\n",
    "\n",
    "# Calculate RMSE\n",
    "rmse = evaluator.evaluate(predictions)\n",
    "print(f\"Root-mean-square error (RMSE) = {rmse}\")"
   ]
  },
  {
   "cell_type": "code",
   "execution_count": 15,
   "metadata": {},
   "outputs": [],
   "source": [
    "sc.stop()"
   ]
  }
 ],
 "metadata": {
  "kernelspec": {
   "display_name": "Python 3 (ipykernel)",
   "language": "python",
   "name": "python3"
  },
  "language_info": {
   "codemirror_mode": {
    "name": "ipython",
    "version": 3
   },
   "file_extension": ".py",
   "mimetype": "text/x-python",
   "name": "python",
   "nbconvert_exporter": "python",
   "pygments_lexer": "ipython3",
   "version": "3.11.6"
  }
 },
 "nbformat": 4,
 "nbformat_minor": 2
}
