{
 "cells": [
  {
   "cell_type": "markdown",
   "id": "b1572fcb",
   "metadata": {},
   "source": [
    "# <center> <img src=\"../img/ITESOLogo.png\" alt=\"ITESO\" width=\"480\" height=\"130\"> </center>\n",
    "# <center> **Departamento de Electrónica, Sistemas e Informática** </center>\n",
    "---\n",
    "## <center> **Procesamiento de Datos Masivos** </center>\n",
    "---\n",
    "### <center> **Primavera 2025** </center>\n",
    "---\n",
    "### <center> **Code Lab 12: Recommendation System with ALS** </center>\n",
    "\n",
    "---\n",
    "**Equipo**:\n",
    "- Luis Raúl Acosta Mendoza\n",
    "- Samantha Abigail Quintero Valadez \n",
    "- Arturo Benjamin Vergara Romo\n",
    "\n",
    "**Profesor**: Dr. Pablo Camarillo Ramirez"
   ]
  },
  {
   "cell_type": "code",
   "execution_count": 117,
   "id": "fe9976a1",
   "metadata": {},
   "outputs": [],
   "source": [
    "import findspark\n",
    "findspark.init()"
   ]
  },
  {
   "cell_type": "code",
   "execution_count": 118,
   "id": "999f7640",
   "metadata": {},
   "outputs": [],
   "source": [
    "from pyspark.sql import SparkSession\n",
    "\n",
    "spark = SparkSession.builder \\\n",
    "    .appName(\"Lab12-Recommendation\") \\\n",
    "    .master(\"spark://e0047bbfd1d0:7077\") \\\n",
    "    .config(\"spark.ui.port\",\"4040\") \\\n",
    "    .getOrCreate()\n",
    "sc = spark.sparkContext"
   ]
  },
  {
   "cell_type": "markdown",
   "id": "399cc8d6",
   "metadata": {},
   "source": [
    "### Data processing"
   ]
  },
  {
   "cell_type": "code",
   "execution_count": 119,
   "id": "bcc24aff",
   "metadata": {},
   "outputs": [],
   "source": [
    "from gatubelxs.spark_utils import SparkUtils\n",
    "\n",
    "schema = SparkUtils.generate_schema([(\"userId\", \"integer\"), (\"movieId\", \"integer\"), (\"rating\", \"integer\"), (\"timestamp\", \"string\")])\n",
    "\n",
    "movies_df = spark \\\n",
    "            .read \\\n",
    "            .schema(schema) \\\n",
    "            .format(\"csv\") \\\n",
    "            .option(\"delimiter\", \"::\") \\\n",
    "            .load(\"/home/jovyan/notebooks/data/sample_movielens_ratings.txt\")"
   ]
  },
  {
   "cell_type": "code",
   "execution_count": 120,
   "id": "fc534f85",
   "metadata": {},
   "outputs": [
    {
     "name": "stderr",
     "output_type": "stream",
     "text": [
      "[Stage 0:>                                                          (0 + 1) / 1]\r"
     ]
    },
    {
     "name": "stdout",
     "output_type": "stream",
     "text": [
      "+------+-------+------+----------+\n",
      "|userId|movieId|rating| timestamp|\n",
      "+------+-------+------+----------+\n",
      "|     0|      2|     3|1424380312|\n",
      "|     0|      3|     1|1424380312|\n",
      "|     0|      5|     2|1424380312|\n",
      "|     0|      9|     4|1424380312|\n",
      "|     0|     11|     1|1424380312|\n",
      "+------+-------+------+----------+\n",
      "only showing top 5 rows\n",
      "\n"
     ]
    },
    {
     "name": "stderr",
     "output_type": "stream",
     "text": [
      "                                                                                \r"
     ]
    }
   ],
   "source": [
    "movies_df.show(5)"
   ]
  },
  {
   "cell_type": "markdown",
   "id": "f7737eb4",
   "metadata": {},
   "source": [
    "### Configure ALS Model"
   ]
  },
  {
   "cell_type": "code",
   "execution_count": 121,
   "id": "14c7edc3",
   "metadata": {},
   "outputs": [],
   "source": [
    "from pyspark.ml.recommendation import ALS\n",
    "\n",
    "als = ALS(\n",
    "    userCol=\"userId\",\n",
    "    itemCol=\"movieId\",\n",
    "    ratingCol=\"rating\",\n",
    "    maxIter=10,\n",
    "    regParam=0.05,\n",
    "    rank=5,\n",
    "    coldStartStrategy=\"drop\"\n",
    ")"
   ]
  },
  {
   "cell_type": "markdown",
   "id": "72851470",
   "metadata": {},
   "source": [
    "### Training"
   ]
  },
  {
   "cell_type": "code",
   "execution_count": 122,
   "id": "a84e1e9c",
   "metadata": {},
   "outputs": [
    {
     "name": "stderr",
     "output_type": "stream",
     "text": [
      "                                                                                \r"
     ]
    }
   ],
   "source": [
    "model = als.fit(movies_df)"
   ]
  },
  {
   "cell_type": "markdown",
   "id": "eadbcbd1",
   "metadata": {},
   "source": [
    "### Predictions"
   ]
  },
  {
   "cell_type": "code",
   "execution_count": 123,
   "id": "b9884870",
   "metadata": {},
   "outputs": [
    {
     "name": "stderr",
     "output_type": "stream",
     "text": [
      "[Stage 78:=====================================================> (97 + 1) / 100]\r"
     ]
    },
    {
     "name": "stdout",
     "output_type": "stream",
     "text": [
      "+------+-------------------------------------------------------------------------------------+\n",
      "|userId|recommendations                                                                      |\n",
      "+------+-------------------------------------------------------------------------------------+\n",
      "|20    |[{22, 3.8580954}, {68, 3.4262178}, {77, 3.3351588}, {51, 3.3038273}, {75, 3.2498941}]|\n",
      "|10    |[{93, 3.0467818}, {92, 3.0068407}, {2, 2.9190967}, {46, 2.9074593}, {12, 2.8037267}] |\n",
      "|0     |[{92, 2.7708678}, {2, 2.4770694}, {93, 2.4511714}, {62, 2.2976608}, {25, 2.2362418}] |\n",
      "|1     |[{22, 3.1412663}, {68, 2.8987775}, {77, 2.7669766}, {62, 2.6009793}, {90, 2.5715427}]|\n",
      "|21    |[{29, 4.6182933}, {52, 4.4885855}, {76, 4.272509}, {70, 3.8382668}, {63, 3.7778318}] |\n",
      "+------+-------------------------------------------------------------------------------------+\n",
      "only showing top 5 rows\n",
      "\n"
     ]
    },
    {
     "name": "stderr",
     "output_type": "stream",
     "text": [
      "                                                                                \r"
     ]
    }
   ],
   "source": [
    "user_recommendations = model.recommendForAllUsers(numItems=5)\n",
    "user_recommendations.show(5, truncate=False)"
   ]
  },
  {
   "cell_type": "code",
   "execution_count": 124,
   "id": "d5d3322d",
   "metadata": {},
   "outputs": [
    {
     "name": "stderr",
     "output_type": "stream",
     "text": [
      "                                                                                \r"
     ]
    },
    {
     "name": "stdout",
     "output_type": "stream",
     "text": [
      "+------+-------+---------+\n",
      "|userId|movieId|rating   |\n",
      "+------+-------+---------+\n",
      "|29    |22     |3.8580954|\n",
      "|27    |22     |3.8580954|\n",
      "|26    |22     |3.8580954|\n",
      "|25    |22     |3.8580954|\n",
      "|23    |22     |3.8580954|\n",
      "|22    |22     |3.8580954|\n",
      "|21    |22     |3.8580954|\n",
      "|20    |22     |3.8580954|\n",
      "|18    |22     |3.8580954|\n",
      "|17    |22     |3.8580954|\n",
      "+------+-------+---------+\n",
      "only showing top 10 rows\n",
      "\n"
     ]
    }
   ],
   "source": [
    "from pyspark.sql.functions import explode\n",
    "recommendations = user_recommendations.select(\"userId\", explode(\"recommendations\").alias(\"rec\"))\n",
    "recommendations = recommendations.join(movies_df.alias(\"movies\"), recommendations.rec.movieId == movies_df.movieId).select(\"movies.userId\", \"movieId\", \"rec.rating\")\n",
    "\n",
    "recommendations.show(10, truncate=False)"
   ]
  },
  {
   "cell_type": "code",
   "execution_count": 125,
   "id": "210b5dd7",
   "metadata": {},
   "outputs": [
    {
     "name": "stderr",
     "output_type": "stream",
     "text": [
      "                                                                                \r"
     ]
    },
    {
     "name": "stdout",
     "output_type": "stream",
     "text": [
      "+------+-------+------+----------+----------+\n",
      "|userId|movieId|rating|timestamp |prediction|\n",
      "+------+-------+------+----------+----------+\n",
      "|28    |0      |3     |1424380312|2.7663298 |\n",
      "|28    |1      |1     |1424380312|1.7222251 |\n",
      "|28    |2      |4     |1424380312|3.6112382 |\n",
      "|28    |3      |1     |1424380312|0.75339115|\n",
      "|28    |6      |1     |1424380312|0.6788493 |\n",
      "|28    |7      |1     |1424380312|0.97086036|\n",
      "|28    |12     |5     |1424380312|3.7963262 |\n",
      "|28    |13     |2     |1424380312|1.4655552 |\n",
      "|28    |14     |1     |1424380312|1.0429771 |\n",
      "|28    |15     |1     |1424380312|1.3543348 |\n",
      "|28    |17     |1     |1424380312|1.0654027 |\n",
      "|28    |19     |3     |1424380312|2.7879913 |\n",
      "|28    |20     |1     |1424380312|1.7845364 |\n",
      "|28    |23     |3     |1424380312|2.2558138 |\n",
      "|28    |24     |3     |1424380312|2.542177  |\n",
      "|28    |27     |1     |1424380312|0.60613364|\n",
      "|28    |29     |1     |1424380312|0.9979563 |\n",
      "|28    |33     |1     |1424380312|1.6769428 |\n",
      "|28    |34     |1     |1424380312|1.5010413 |\n",
      "|28    |36     |1     |1424380312|1.1971853 |\n",
      "+------+-------+------+----------+----------+\n",
      "only showing top 20 rows\n",
      "\n"
     ]
    }
   ],
   "source": [
    "predictions = model.transform(movies_df)\n",
    "predictions.show(20, truncate=False)"
   ]
  },
  {
   "cell_type": "markdown",
   "id": "c4ad3985",
   "metadata": {},
   "source": [
    "### Evaluate Model"
   ]
  },
  {
   "cell_type": "code",
   "execution_count": 126,
   "id": "69d3f096",
   "metadata": {},
   "outputs": [
    {
     "name": "stderr",
     "output_type": "stream",
     "text": [
      "                                                                                \r"
     ]
    },
    {
     "name": "stdout",
     "output_type": "stream",
     "text": [
      "Root-mean-square error = 0.5246847912282775\n"
     ]
    }
   ],
   "source": [
    "from pyspark.ml.evaluation import RegressionEvaluator\n",
    "\n",
    "evaluator = RegressionEvaluator(\n",
    "    metricName = \"rmse\",\n",
    "    labelCol = \"rating\",\n",
    "    predictionCol = \"prediction\"\n",
    ")\n",
    "\n",
    "rmse = evaluator.evaluate(predictions)\n",
    "\n",
    "print(f\"Root-mean-square error = {rmse}\")"
   ]
  },
  {
   "cell_type": "code",
   "execution_count": 116,
   "id": "d4e7d84d",
   "metadata": {},
   "outputs": [],
   "source": [
    "sc.stop()"
   ]
  }
 ],
 "metadata": {
  "kernelspec": {
   "display_name": "Python 3 (ipykernel)",
   "language": "python",
   "name": "python3"
  },
  "language_info": {
   "codemirror_mode": {
    "name": "ipython",
    "version": 3
   },
   "file_extension": ".py",
   "mimetype": "text/x-python",
   "name": "python",
   "nbconvert_exporter": "python",
   "pygments_lexer": "ipython3",
   "version": "3.11.6"
  }
 },
 "nbformat": 4,
 "nbformat_minor": 5
}
