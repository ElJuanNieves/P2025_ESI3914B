{
 "cells": [
  {
   "cell_type": "markdown",
   "metadata": {},
   "source": [
    "# <center> <img src=\"../img/ITESOLogo.png\" alt=\"ITESO\" width=\"480\" height=\"130\"> </center>\n",
    "# <center> **Departamento de Electrónica, Sistemas e Informática** </center>\n",
    "---\n",
    "## <center> **Carrera: Ing. en Sistemas Computacionales** </center>\n",
    "---\n",
    "### <center> **Primavera 2025** </center>\n",
    "---\n",
    "\n",
    "**Lab 07**: Real-time log analyzer\n",
    "\n",
    "**Fecha**: 03 de abril del 2025\n",
    "\n",
    "**Nombre del Estudiante**: Luis, Benja, Sam\n",
    "\n",
    "**Profesor**: Pablo Camarillo Ramirez"
   ]
  },
  {
   "cell_type": "code",
   "execution_count": 1,
   "metadata": {},
   "outputs": [],
   "source": [
    "import findspark\n",
    "findspark.init()"
   ]
  },
  {
   "cell_type": "code",
   "execution_count": 2,
   "metadata": {},
   "outputs": [
    {
     "name": "stderr",
     "output_type": "stream",
     "text": [
      "Setting default log level to \"WARN\".\n",
      "To adjust logging level use sc.setLogLevel(newLevel). For SparkR, use setLogLevel(newLevel).\n",
      "25/04/04 04:22:56 WARN NativeCodeLoader: Unable to load native-hadoop library for your platform... using builtin-java classes where applicable\n"
     ]
    }
   ],
   "source": [
    "from pyspark.sql import SparkSession\n",
    "\n",
    "spark = SparkSession.builder \\\n",
    "    .appName(\"SparkSQL-Storage-Solutions\") \\\n",
    "    .master(\"spark://e0047bbfd1d0:7077\") \\\n",
    "    .config(\"spark.ui.port\",\"4040\") \\\n",
    "    .getOrCreate()\n",
    "sc = spark.sparkContext"
   ]
  },
  {
   "cell_type": "markdown",
   "metadata": {},
   "source": [
    "### Creación del FileStream"
   ]
  },
  {
   "cell_type": "code",
   "execution_count": 3,
   "metadata": {},
   "outputs": [],
   "source": [
    "logs = spark \\\n",
    "                .readStream \\\n",
    "                .format(\"text\") \\\n",
    "                .option(\"maxFilesPerTrigger\", 1) \\\n",
    "                .load(\"/home/jovyan/notebooks/data/log/input/\")"
   ]
  },
  {
   "cell_type": "code",
   "execution_count": 4,
   "metadata": {},
   "outputs": [
    {
     "name": "stdout",
     "output_type": "stream",
     "text": [
      "root\n",
      " |-- logs_array: array (nullable = true)\n",
      " |    |-- element: string (containsNull = false)\n",
      " |-- date: date (nullable = true)\n",
      " |-- type: string (nullable = true)\n",
      " |-- details: string (nullable = true)\n",
      " |-- server: string (nullable = true)\n",
      "\n"
     ]
    }
   ],
   "source": [
    "from pyspark.sql.functions import split\n",
    "\n",
    "logs_df = logs.select(split(logs.value, r'\\s*\\|\\s*').alias(\"logs_array\"))\n",
    "logs_df = logs_df.withColumn(\"date\", logs_df[\"logs_array\"].getItem(0).cast(\"date\"))\n",
    "logs_df = logs_df.withColumn(\"type\", logs_df[\"logs_array\"].getItem(1).cast(\"string\"))\n",
    "logs_df = logs_df.withColumn(\"details\", logs_df[\"logs_array\"].getItem(2).cast(\"string\"))\n",
    "logs_df = logs_df.withColumn(\"server\", logs_df[\"logs_array\"].getItem(3).cast(\"string\"))\n",
    "\n",
    "\n",
    "logs_df.printSchema()"
   ]
  },
  {
   "cell_type": "code",
   "execution_count": 5,
   "metadata": {},
   "outputs": [],
   "source": [
    "logs_df = logs_df.filter(logs_df.type == 'Error')"
   ]
  },
  {
   "cell_type": "code",
   "execution_count": 6,
   "metadata": {},
   "outputs": [],
   "source": [
    "from gatubelxs.query_listener import QueryListener\n",
    "\n",
    "spark.streams.addListener(QueryListener())"
   ]
  },
  {
   "cell_type": "code",
   "execution_count": null,
   "metadata": {},
   "outputs": [
    {
     "name": "stderr",
     "output_type": "stream",
     "text": [
      "25/04/04 04:23:26 WARN ResolveWriteToStream: Temporary checkpoint location created which is deleted normally when the query didn't fail: /tmp/temporary-93d80201-6a9f-4823-a4a3-d77ebe6d6c15. If it's required to delete it under any circumstances, please set spark.sql.streaming.forceDeleteTempCheckpointLocation to true. Important to know deleting temp checkpoint folder is best effort.\n",
      "25/04/04 04:23:26 WARN ResolveWriteToStream: spark.sql.adaptive.enabled is not supported in streaming DataFrames/Datasets and will be disabled.\n"
     ]
    },
    {
     "name": "stdout",
     "output_type": "stream",
     "text": [
      "Query started: fc4b03dc-7e3d-48ab-bcdc-a4edbc1143dc\n"
     ]
    },
    {
     "name": "stderr",
     "output_type": "stream",
     "text": [
      "[Stage 0:>                                                          (0 + 1) / 1]\r"
     ]
    },
    {
     "data": {
      "text/plain": [
       "False"
      ]
     },
     "execution_count": 7,
     "metadata": {},
     "output_type": "execute_result"
    },
    {
     "name": "stderr",
     "output_type": "stream",
     "text": [
      "                                                                                \r"
     ]
    },
    {
     "name": "stdout",
     "output_type": "stream",
     "text": [
      "-------------------------------------------\n",
      "Batch: 0\n",
      "-------------------------------------------\n",
      "+----------------------------------------------------------------------+----------+-----+-------------------------+-------------+\n",
      "|logs_array                                                            |date      |type |details                  |server       |\n",
      "+----------------------------------------------------------------------+----------+-----+-------------------------+-------------+\n",
      "|[2025-04-04 03:46:35, Error, 500 Internal Server Error, server-node-1]|2025-04-04|Error|500 Internal Server Error|server-node-1|\n",
      "|[2025-04-04 03:46:35, Error, 500 Internal Server Error, server-node-2]|2025-04-04|Error|500 Internal Server Error|server-node-2|\n",
      "|[2025-04-04 03:46:35, Error, 500 Internal Server Error, server-node-1]|2025-04-04|Error|500 Internal Server Error|server-node-1|\n",
      "|[2025-04-04 03:46:35, Error, 500 Internal Server Error, server-node-1]|2025-04-04|Error|500 Internal Server Error|server-node-1|\n",
      "|[2025-04-04 03:46:35, Error, 500 Internal Server Error, server-node-1]|2025-04-04|Error|500 Internal Server Error|server-node-1|\n",
      "|[2025-04-04 03:46:35, Error, 500 Internal Server Error, server-node-2]|2025-04-04|Error|500 Internal Server Error|server-node-2|\n",
      "|[2025-04-04 03:46:35, Error, 500 Internal Server Error, server-node-1]|2025-04-04|Error|500 Internal Server Error|server-node-1|\n",
      "|[2025-04-04 03:46:35, Error, 500 Internal Server Error, server-node-1]|2025-04-04|Error|500 Internal Server Error|server-node-1|\n",
      "|[2025-04-04 03:46:35, Error, 500 Internal Server Error, server-node-2]|2025-04-04|Error|500 Internal Server Error|server-node-2|\n",
      "|[2025-04-04 03:46:35, Error, 500 Internal Server Error, server-node-1]|2025-04-04|Error|500 Internal Server Error|server-node-1|\n",
      "|[2025-04-04 03:46:35, Error, 500 Internal Server Error, server-node-1]|2025-04-04|Error|500 Internal Server Error|server-node-1|\n",
      "|[2025-04-04 03:46:35, Error, 500 Internal Server Error, server-node-1]|2025-04-04|Error|500 Internal Server Error|server-node-1|\n",
      "|[2025-04-04 03:46:35, Error, 500 Internal Server Error, server-node-2]|2025-04-04|Error|500 Internal Server Error|server-node-2|\n",
      "|[2025-04-04 03:46:35, Error, 500 Internal Server Error, server-node-1]|2025-04-04|Error|500 Internal Server Error|server-node-1|\n",
      "|[2025-04-04 03:46:35, Error, 500 Internal Server Error, server-node-2]|2025-04-04|Error|500 Internal Server Error|server-node-2|\n",
      "|[2025-04-04 03:46:35, Error, 500 Internal Server Error, server-node-1]|2025-04-04|Error|500 Internal Server Error|server-node-1|\n",
      "|[2025-04-04 03:46:35, Error, 500 Internal Server Error, server-node-1]|2025-04-04|Error|500 Internal Server Error|server-node-1|\n",
      "|[2025-04-04 03:46:35, Error, 500 Internal Server Error, server-node-1]|2025-04-04|Error|500 Internal Server Error|server-node-1|\n",
      "|[2025-04-04 03:46:35, Error, 500 Internal Server Error, server-node-2]|2025-04-04|Error|500 Internal Server Error|server-node-2|\n",
      "|[2025-04-04 03:46:35, Error, 500 Internal Server Error, server-node-1]|2025-04-04|Error|500 Internal Server Error|server-node-1|\n",
      "+----------------------------------------------------------------------+----------+-----+-------------------------+-------------+\n",
      "only showing top 20 rows\n",
      "\n"
     ]
    },
    {
     "name": "stderr",
     "output_type": "stream",
     "text": [
      "25/04/04 04:23:48 WARN ProcessingTimeExecutor: Current batch is falling behind. The trigger interval is 2000 milliseconds, but spent 20520 milliseconds\n"
     ]
    },
    {
     "name": "stdout",
     "output_type": "stream",
     "text": [
      "Data volume is high\n"
     ]
    },
    {
     "name": "stderr",
     "output_type": "stream",
     "text": [
      "                                                                                \r"
     ]
    },
    {
     "name": "stdout",
     "output_type": "stream",
     "text": [
      "-------------------------------------------\n",
      "Batch: 1\n",
      "-------------------------------------------\n",
      "+----------------------------------------------------------------------+----------+-----+-------------------------+-------------+\n",
      "|logs_array                                                            |date      |type |details                  |server       |\n",
      "+----------------------------------------------------------------------+----------+-----+-------------------------+-------------+\n",
      "|[2025-04-04 03:46:40, Error, 500 Internal Server Error, server-node-2]|2025-04-04|Error|500 Internal Server Error|server-node-2|\n",
      "|[2025-04-04 03:46:40, Error, 500 Internal Server Error, server-node-2]|2025-04-04|Error|500 Internal Server Error|server-node-2|\n",
      "|[2025-04-04 03:46:40, Error, 500 Internal Server Error, server-node-1]|2025-04-04|Error|500 Internal Server Error|server-node-1|\n",
      "|[2025-04-04 03:46:40, Error, 500 Internal Server Error, server-node-2]|2025-04-04|Error|500 Internal Server Error|server-node-2|\n",
      "|[2025-04-04 03:46:40, Error, 500 Internal Server Error, server-node-1]|2025-04-04|Error|500 Internal Server Error|server-node-1|\n",
      "|[2025-04-04 03:46:40, Error, 500 Internal Server Error, server-node-1]|2025-04-04|Error|500 Internal Server Error|server-node-1|\n",
      "|[2025-04-04 03:46:40, Error, 500 Internal Server Error, server-node-1]|2025-04-04|Error|500 Internal Server Error|server-node-1|\n",
      "|[2025-04-04 03:46:40, Error, 500 Internal Server Error, server-node-2]|2025-04-04|Error|500 Internal Server Error|server-node-2|\n",
      "|[2025-04-04 03:46:40, Error, 500 Internal Server Error, server-node-1]|2025-04-04|Error|500 Internal Server Error|server-node-1|\n",
      "|[2025-04-04 03:46:40, Error, 500 Internal Server Error, server-node-2]|2025-04-04|Error|500 Internal Server Error|server-node-2|\n",
      "|[2025-04-04 03:46:40, Error, 500 Internal Server Error, server-node-1]|2025-04-04|Error|500 Internal Server Error|server-node-1|\n",
      "|[2025-04-04 03:46:40, Error, 500 Internal Server Error, server-node-2]|2025-04-04|Error|500 Internal Server Error|server-node-2|\n",
      "|[2025-04-04 03:46:40, Error, 500 Internal Server Error, server-node-2]|2025-04-04|Error|500 Internal Server Error|server-node-2|\n",
      "|[2025-04-04 03:46:40, Error, 500 Internal Server Error, server-node-2]|2025-04-04|Error|500 Internal Server Error|server-node-2|\n",
      "|[2025-04-04 03:46:40, Error, 500 Internal Server Error, server-node-2]|2025-04-04|Error|500 Internal Server Error|server-node-2|\n",
      "|[2025-04-04 03:46:40, Error, 500 Internal Server Error, server-node-1]|2025-04-04|Error|500 Internal Server Error|server-node-1|\n",
      "|[2025-04-04 03:46:40, Error, 500 Internal Server Error, server-node-2]|2025-04-04|Error|500 Internal Server Error|server-node-2|\n",
      "|[2025-04-04 03:46:40, Error, 500 Internal Server Error, server-node-1]|2025-04-04|Error|500 Internal Server Error|server-node-1|\n",
      "|[2025-04-04 03:46:40, Error, 500 Internal Server Error, server-node-1]|2025-04-04|Error|500 Internal Server Error|server-node-1|\n",
      "|[2025-04-04 03:46:40, Error, 500 Internal Server Error, server-node-1]|2025-04-04|Error|500 Internal Server Error|server-node-1|\n",
      "+----------------------------------------------------------------------+----------+-----+-------------------------+-------------+\n",
      "only showing top 20 rows\n",
      "\n"
     ]
    },
    {
     "name": "stderr",
     "output_type": "stream",
     "text": [
      "25/04/04 04:23:51 WARN ProcessingTimeExecutor: Current batch is falling behind. The trigger interval is 2000 milliseconds, but spent 3118 milliseconds\n"
     ]
    },
    {
     "name": "stdout",
     "output_type": "stream",
     "text": [
      "Data volume is high\n"
     ]
    },
    {
     "name": "stderr",
     "output_type": "stream",
     "text": [
      "                                                                                \r"
     ]
    },
    {
     "name": "stdout",
     "output_type": "stream",
     "text": [
      "-------------------------------------------\n",
      "Batch: 2\n",
      "-------------------------------------------\n",
      "+----------------------------------------------------------------------+----------+-----+-------------------------+-------------+\n",
      "|logs_array                                                            |date      |type |details                  |server       |\n",
      "+----------------------------------------------------------------------+----------+-----+-------------------------+-------------+\n",
      "|[2025-04-04 03:46:46, Error, 500 Internal Server Error, server-node-2]|2025-04-04|Error|500 Internal Server Error|server-node-2|\n",
      "|[2025-04-04 03:46:46, Error, 500 Internal Server Error, server-node-2]|2025-04-04|Error|500 Internal Server Error|server-node-2|\n",
      "|[2025-04-04 03:46:46, Error, 500 Internal Server Error, server-node-2]|2025-04-04|Error|500 Internal Server Error|server-node-2|\n",
      "|[2025-04-04 03:46:46, Error, 500 Internal Server Error, server-node-1]|2025-04-04|Error|500 Internal Server Error|server-node-1|\n",
      "|[2025-04-04 03:46:46, Error, 500 Internal Server Error, server-node-2]|2025-04-04|Error|500 Internal Server Error|server-node-2|\n",
      "|[2025-04-04 03:46:46, Error, 500 Internal Server Error, server-node-1]|2025-04-04|Error|500 Internal Server Error|server-node-1|\n",
      "|[2025-04-04 03:46:46, Error, 500 Internal Server Error, server-node-1]|2025-04-04|Error|500 Internal Server Error|server-node-1|\n",
      "|[2025-04-04 03:46:46, Error, 500 Internal Server Error, server-node-2]|2025-04-04|Error|500 Internal Server Error|server-node-2|\n",
      "|[2025-04-04 03:46:46, Error, 500 Internal Server Error, server-node-2]|2025-04-04|Error|500 Internal Server Error|server-node-2|\n",
      "|[2025-04-04 03:46:46, Error, 500 Internal Server Error, server-node-1]|2025-04-04|Error|500 Internal Server Error|server-node-1|\n",
      "|[2025-04-04 03:46:46, Error, 500 Internal Server Error, server-node-1]|2025-04-04|Error|500 Internal Server Error|server-node-1|\n",
      "|[2025-04-04 03:46:46, Error, 500 Internal Server Error, server-node-2]|2025-04-04|Error|500 Internal Server Error|server-node-2|\n",
      "|[2025-04-04 03:46:46, Error, 500 Internal Server Error, server-node-1]|2025-04-04|Error|500 Internal Server Error|server-node-1|\n",
      "|[2025-04-04 03:46:46, Error, 500 Internal Server Error, server-node-2]|2025-04-04|Error|500 Internal Server Error|server-node-2|\n",
      "|[2025-04-04 03:46:46, Error, 500 Internal Server Error, server-node-2]|2025-04-04|Error|500 Internal Server Error|server-node-2|\n",
      "|[2025-04-04 03:46:46, Error, 500 Internal Server Error, server-node-1]|2025-04-04|Error|500 Internal Server Error|server-node-1|\n",
      "|[2025-04-04 03:46:46, Error, 500 Internal Server Error, server-node-1]|2025-04-04|Error|500 Internal Server Error|server-node-1|\n",
      "|[2025-04-04 03:46:46, Error, 500 Internal Server Error, server-node-2]|2025-04-04|Error|500 Internal Server Error|server-node-2|\n",
      "|[2025-04-04 03:46:46, Error, 500 Internal Server Error, server-node-2]|2025-04-04|Error|500 Internal Server Error|server-node-2|\n",
      "|[2025-04-04 03:46:46, Error, 500 Internal Server Error, server-node-2]|2025-04-04|Error|500 Internal Server Error|server-node-2|\n",
      "+----------------------------------------------------------------------+----------+-----+-------------------------+-------------+\n",
      "only showing top 20 rows\n",
      "\n"
     ]
    },
    {
     "name": "stderr",
     "output_type": "stream",
     "text": [
      "25/04/04 04:23:54 WARN ProcessingTimeExecutor: Current batch is falling behind. The trigger interval is 2000 milliseconds, but spent 3121 milliseconds\n"
     ]
    },
    {
     "name": "stdout",
     "output_type": "stream",
     "text": [
      "Data volume is high\n",
      "-------------------------------------------\n",
      "Batch: 3\n",
      "-------------------------------------------\n",
      "+----------------------------------------------------------------------+----------+-----+-------------------------+-------------+\n",
      "|logs_array                                                            |date      |type |details                  |server       |\n",
      "+----------------------------------------------------------------------+----------+-----+-------------------------+-------------+\n",
      "|[2025-04-04 03:46:51, Error, 500 Internal Server Error, server-node-1]|2025-04-04|Error|500 Internal Server Error|server-node-1|\n",
      "|[2025-04-04 03:46:51, Error, 500 Internal Server Error, server-node-1]|2025-04-04|Error|500 Internal Server Error|server-node-1|\n",
      "|[2025-04-04 03:46:51, Error, 500 Internal Server Error, server-node-2]|2025-04-04|Error|500 Internal Server Error|server-node-2|\n",
      "|[2025-04-04 03:46:51, Error, 500 Internal Server Error, server-node-2]|2025-04-04|Error|500 Internal Server Error|server-node-2|\n",
      "|[2025-04-04 03:46:51, Error, 500 Internal Server Error, server-node-1]|2025-04-04|Error|500 Internal Server Error|server-node-1|\n",
      "|[2025-04-04 03:46:51, Error, 500 Internal Server Error, server-node-1]|2025-04-04|Error|500 Internal Server Error|server-node-1|\n",
      "|[2025-04-04 03:46:51, Error, 500 Internal Server Error, server-node-2]|2025-04-04|Error|500 Internal Server Error|server-node-2|\n",
      "|[2025-04-04 03:46:51, Error, 500 Internal Server Error, server-node-1]|2025-04-04|Error|500 Internal Server Error|server-node-1|\n",
      "|[2025-04-04 03:46:51, Error, 500 Internal Server Error, server-node-2]|2025-04-04|Error|500 Internal Server Error|server-node-2|\n",
      "|[2025-04-04 03:46:51, Error, 500 Internal Server Error, server-node-2]|2025-04-04|Error|500 Internal Server Error|server-node-2|\n",
      "|[2025-04-04 03:46:51, Error, 500 Internal Server Error, server-node-1]|2025-04-04|Error|500 Internal Server Error|server-node-1|\n",
      "|[2025-04-04 03:46:51, Error, 500 Internal Server Error, server-node-2]|2025-04-04|Error|500 Internal Server Error|server-node-2|\n",
      "|[2025-04-04 03:46:51, Error, 500 Internal Server Error, server-node-2]|2025-04-04|Error|500 Internal Server Error|server-node-2|\n",
      "|[2025-04-04 03:46:51, Error, 500 Internal Server Error, server-node-2]|2025-04-04|Error|500 Internal Server Error|server-node-2|\n",
      "|[2025-04-04 03:46:51, Error, 500 Internal Server Error, server-node-2]|2025-04-04|Error|500 Internal Server Error|server-node-2|\n",
      "|[2025-04-04 03:46:51, Error, 500 Internal Server Error, server-node-1]|2025-04-04|Error|500 Internal Server Error|server-node-1|\n",
      "|[2025-04-04 03:46:51, Error, 500 Internal Server Error, server-node-2]|2025-04-04|Error|500 Internal Server Error|server-node-2|\n",
      "|[2025-04-04 03:46:51, Error, 500 Internal Server Error, server-node-1]|2025-04-04|Error|500 Internal Server Error|server-node-1|\n",
      "|[2025-04-04 03:46:51, Error, 500 Internal Server Error, server-node-2]|2025-04-04|Error|500 Internal Server Error|server-node-2|\n",
      "|[2025-04-04 03:46:51, Error, 500 Internal Server Error, server-node-2]|2025-04-04|Error|500 Internal Server Error|server-node-2|\n",
      "+----------------------------------------------------------------------+----------+-----+-------------------------+-------------+\n",
      "only showing top 20 rows\n",
      "\n"
     ]
    },
    {
     "name": "stderr",
     "output_type": "stream",
     "text": [
      "25/04/04 04:23:56 WARN ProcessingTimeExecutor: Current batch is falling behind. The trigger interval is 2000 milliseconds, but spent 2141 milliseconds\n"
     ]
    },
    {
     "name": "stdout",
     "output_type": "stream",
     "text": [
      "Data volume is high\n"
     ]
    },
    {
     "name": "stderr",
     "output_type": "stream",
     "text": [
      "                                                                                \r"
     ]
    },
    {
     "name": "stdout",
     "output_type": "stream",
     "text": [
      "-------------------------------------------\n",
      "Batch: 4\n",
      "-------------------------------------------\n",
      "+----------------------------------------------------------------------+----------+-----+-------------------------+-------------+\n",
      "|logs_array                                                            |date      |type |details                  |server       |\n",
      "+----------------------------------------------------------------------+----------+-----+-------------------------+-------------+\n",
      "|[2025-04-04 03:46:56, Error, 500 Internal Server Error, server-node-1]|2025-04-04|Error|500 Internal Server Error|server-node-1|\n",
      "|[2025-04-04 03:46:56, Error, 500 Internal Server Error, server-node-1]|2025-04-04|Error|500 Internal Server Error|server-node-1|\n",
      "|[2025-04-04 03:46:56, Error, 500 Internal Server Error, server-node-1]|2025-04-04|Error|500 Internal Server Error|server-node-1|\n",
      "|[2025-04-04 03:46:56, Error, 500 Internal Server Error, server-node-2]|2025-04-04|Error|500 Internal Server Error|server-node-2|\n",
      "|[2025-04-04 03:46:56, Error, 500 Internal Server Error, server-node-2]|2025-04-04|Error|500 Internal Server Error|server-node-2|\n",
      "|[2025-04-04 03:46:56, Error, 500 Internal Server Error, server-node-2]|2025-04-04|Error|500 Internal Server Error|server-node-2|\n",
      "|[2025-04-04 03:46:56, Error, 500 Internal Server Error, server-node-2]|2025-04-04|Error|500 Internal Server Error|server-node-2|\n",
      "|[2025-04-04 03:46:56, Error, 500 Internal Server Error, server-node-2]|2025-04-04|Error|500 Internal Server Error|server-node-2|\n",
      "|[2025-04-04 03:46:56, Error, 500 Internal Server Error, server-node-2]|2025-04-04|Error|500 Internal Server Error|server-node-2|\n",
      "|[2025-04-04 03:46:56, Error, 500 Internal Server Error, server-node-1]|2025-04-04|Error|500 Internal Server Error|server-node-1|\n",
      "|[2025-04-04 03:46:56, Error, 500 Internal Server Error, server-node-2]|2025-04-04|Error|500 Internal Server Error|server-node-2|\n",
      "|[2025-04-04 03:46:56, Error, 500 Internal Server Error, server-node-2]|2025-04-04|Error|500 Internal Server Error|server-node-2|\n",
      "|[2025-04-04 03:46:56, Error, 500 Internal Server Error, server-node-2]|2025-04-04|Error|500 Internal Server Error|server-node-2|\n",
      "|[2025-04-04 03:46:56, Error, 500 Internal Server Error, server-node-1]|2025-04-04|Error|500 Internal Server Error|server-node-1|\n",
      "|[2025-04-04 03:46:56, Error, 500 Internal Server Error, server-node-1]|2025-04-04|Error|500 Internal Server Error|server-node-1|\n",
      "|[2025-04-04 03:46:56, Error, 500 Internal Server Error, server-node-2]|2025-04-04|Error|500 Internal Server Error|server-node-2|\n",
      "|[2025-04-04 03:46:56, Error, 500 Internal Server Error, server-node-2]|2025-04-04|Error|500 Internal Server Error|server-node-2|\n",
      "|[2025-04-04 03:46:56, Error, 500 Internal Server Error, server-node-1]|2025-04-04|Error|500 Internal Server Error|server-node-1|\n",
      "|[2025-04-04 03:46:56, Error, 500 Internal Server Error, server-node-1]|2025-04-04|Error|500 Internal Server Error|server-node-1|\n",
      "|[2025-04-04 03:46:56, Error, 500 Internal Server Error, server-node-1]|2025-04-04|Error|500 Internal Server Error|server-node-1|\n",
      "+----------------------------------------------------------------------+----------+-----+-------------------------+-------------+\n",
      "only showing top 20 rows\n",
      "\n"
     ]
    },
    {
     "name": "stderr",
     "output_type": "stream",
     "text": [
      "25/04/04 04:24:02 WARN ProcessingTimeExecutor: Current batch is falling behind. The trigger interval is 2000 milliseconds, but spent 5672 milliseconds\n"
     ]
    },
    {
     "name": "stdout",
     "output_type": "stream",
     "text": [
      "Data volume is high\n",
      "-------------------------------------------\n",
      "Batch: 5\n",
      "-------------------------------------------\n",
      "+----------------------------------------------------------------------+----------+-----+-------------------------+-------------+\n",
      "|logs_array                                                            |date      |type |details                  |server       |\n",
      "+----------------------------------------------------------------------+----------+-----+-------------------------+-------------+\n",
      "|[2025-04-04 03:47:01, Error, 500 Internal Server Error, server-node-1]|2025-04-04|Error|500 Internal Server Error|server-node-1|\n",
      "|[2025-04-04 03:47:01, Error, 500 Internal Server Error, server-node-2]|2025-04-04|Error|500 Internal Server Error|server-node-2|\n",
      "|[2025-04-04 03:47:01, Error, 500 Internal Server Error, server-node-1]|2025-04-04|Error|500 Internal Server Error|server-node-1|\n",
      "|[2025-04-04 03:47:01, Error, 500 Internal Server Error, server-node-1]|2025-04-04|Error|500 Internal Server Error|server-node-1|\n",
      "|[2025-04-04 03:47:01, Error, 500 Internal Server Error, server-node-1]|2025-04-04|Error|500 Internal Server Error|server-node-1|\n",
      "|[2025-04-04 03:47:01, Error, 500 Internal Server Error, server-node-2]|2025-04-04|Error|500 Internal Server Error|server-node-2|\n",
      "|[2025-04-04 03:47:01, Error, 500 Internal Server Error, server-node-2]|2025-04-04|Error|500 Internal Server Error|server-node-2|\n",
      "|[2025-04-04 03:47:01, Error, 500 Internal Server Error, server-node-2]|2025-04-04|Error|500 Internal Server Error|server-node-2|\n",
      "|[2025-04-04 03:47:01, Error, 500 Internal Server Error, server-node-1]|2025-04-04|Error|500 Internal Server Error|server-node-1|\n",
      "|[2025-04-04 03:47:01, Error, 500 Internal Server Error, server-node-2]|2025-04-04|Error|500 Internal Server Error|server-node-2|\n",
      "|[2025-04-04 03:47:01, Error, 500 Internal Server Error, server-node-2]|2025-04-04|Error|500 Internal Server Error|server-node-2|\n",
      "|[2025-04-04 03:47:01, Error, 500 Internal Server Error, server-node-2]|2025-04-04|Error|500 Internal Server Error|server-node-2|\n",
      "|[2025-04-04 03:47:01, Error, 500 Internal Server Error, server-node-1]|2025-04-04|Error|500 Internal Server Error|server-node-1|\n",
      "|[2025-04-04 03:47:01, Error, 500 Internal Server Error, server-node-2]|2025-04-04|Error|500 Internal Server Error|server-node-2|\n",
      "|[2025-04-04 03:47:01, Error, 500 Internal Server Error, server-node-1]|2025-04-04|Error|500 Internal Server Error|server-node-1|\n",
      "|[2025-04-04 03:47:01, Error, 500 Internal Server Error, server-node-1]|2025-04-04|Error|500 Internal Server Error|server-node-1|\n",
      "|[2025-04-04 03:47:01, Error, 500 Internal Server Error, server-node-2]|2025-04-04|Error|500 Internal Server Error|server-node-2|\n",
      "|[2025-04-04 03:47:01, Error, 500 Internal Server Error, server-node-2]|2025-04-04|Error|500 Internal Server Error|server-node-2|\n",
      "|[2025-04-04 03:47:01, Error, 500 Internal Server Error, server-node-1]|2025-04-04|Error|500 Internal Server Error|server-node-1|\n",
      "|[2025-04-04 03:47:01, Error, 500 Internal Server Error, server-node-2]|2025-04-04|Error|500 Internal Server Error|server-node-2|\n",
      "+----------------------------------------------------------------------+----------+-----+-------------------------+-------------+\n",
      "only showing top 20 rows\n",
      "\n"
     ]
    },
    {
     "name": "stderr",
     "output_type": "stream",
     "text": [
      "25/04/04 04:24:04 WARN ProcessingTimeExecutor: Current batch is falling behind. The trigger interval is 2000 milliseconds, but spent 2384 milliseconds\n"
     ]
    },
    {
     "name": "stdout",
     "output_type": "stream",
     "text": [
      "Data volume is high\n"
     ]
    }
   ],
   "source": [
    "query = logs_df \\\n",
    "                .writeStream \\\n",
    "                .outputMode(\"append\") \\\n",
    "                .trigger(processingTime='2 seconds') \\\n",
    "                .format(\"console\") \\\n",
    "                .option(\"truncate\", \"false\") \\\n",
    "                .start()\n",
    "\n",
    "query.awaitTermination(10)"
   ]
  },
  {
   "cell_type": "code",
   "execution_count": null,
   "metadata": {},
   "outputs": [],
   "source": [
    "sc.stop()"
   ]
  }
 ],
 "metadata": {
  "kernelspec": {
   "display_name": "Python 3 (ipykernel)",
   "language": "python",
   "name": "python3"
  },
  "language_info": {
   "codemirror_mode": {
    "name": "ipython",
    "version": 3
   },
   "file_extension": ".py",
   "mimetype": "text/x-python",
   "name": "python",
   "nbconvert_exporter": "python",
   "pygments_lexer": "ipython3",
   "version": "3.11.6"
  }
 },
 "nbformat": 4,
 "nbformat_minor": 2
}
