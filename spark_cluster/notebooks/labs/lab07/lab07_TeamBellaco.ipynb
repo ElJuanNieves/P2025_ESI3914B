{
 "cells": [
  {
   "cell_type": "markdown",
   "metadata": {},
   "source": [
    "# <center> <img src=\"../img/ITESOLogo.png\" alt=\"ITESO\" width=\"480\" height=\"130\"> </center>\n",
    "# <center> **Departamento de Electrónica, Sistemas e Informática** </center>\n",
    "---\n",
    "## <center> **Carrera: Ingenieria de Sistemas Computacionales** </center>\n",
    "---\n",
    "### <center> **Primavera 2025** </center>\n",
    "---\n",
    "\n",
    "**Lab 07**: Structured Streaming with Files Description\n",
    "\n",
    "**Fecha**:28/03/2025\n",
    "\n",
    "**Nombre del Estudiante**:David Abraham Naranjo Salgado, Benjamin Leonardo Zarate Solano y Angel David Cortes Pacheco\n",
    "\n",
    "**Profesor**: Pablo Camarillo Ramirez"
   ]
  },
  {
   "cell_type": "code",
   "execution_count": 1,
   "metadata": {},
   "outputs": [],
   "source": [
    "import findspark\n",
    "findspark.init()"
   ]
  },
  {
   "cell_type": "markdown",
   "metadata": {},
   "source": [
    "#### Creacion de la conexión con el cluster de spark\n"
   ]
  },
  {
   "cell_type": "code",
   "execution_count": 2,
   "metadata": {},
   "outputs": [
    {
     "name": "stderr",
     "output_type": "stream",
     "text": [
      "Setting default log level to \"WARN\".\n",
      "To adjust logging level use sc.setLogLevel(newLevel). For SparkR, use setLogLevel(newLevel).\n",
      "25/04/02 21:07:34 WARN NativeCodeLoader: Unable to load native-hadoop library for your platform... using builtin-java classes where applicable\n"
     ]
    }
   ],
   "source": [
    "from pyspark.sql import SparkSession\n",
    "\n",
    "spark = SparkSession.builder \\\n",
    "    .appName(\"SparkSQL-Structured-Streaming\") \\\n",
    "    .master(\"spark://b631371550f9:7077\") \\\n",
    "    .config(\"spark.ui.port\",\"4040\") \\\n",
    "    .getOrCreate()\n",
    "sc = spark.sparkContext"
   ]
  },
  {
   "cell_type": "markdown",
   "metadata": {},
   "source": [
    "Checa el pwd"
   ]
  },
  {
   "cell_type": "code",
   "execution_count": 4,
   "metadata": {},
   "outputs": [
    {
     "name": "stdout",
     "output_type": "stream",
     "text": [
      "/home/jovyan\n"
     ]
    }
   ],
   "source": [
    "!pwd"
   ]
  },
  {
   "cell_type": "markdown",
   "metadata": {},
   "source": [
    "### Generate logs"
   ]
  },
  {
   "cell_type": "code",
   "execution_count": 5,
   "metadata": {},
   "outputs": [
    {
     "name": "stdout",
     "output_type": "stream",
     "text": [
      "Logs guardados en: /home/jovyan/notebooks/data/logs/log-99.log\n"
     ]
    }
   ],
   "source": [
    "from team_bellaco.log_gen import generate_logs\n",
    "generate_logs(100,\"/home/jovyan/notebooks/data/logs\",\"log\")"
   ]
  },
  {
   "cell_type": "markdown",
   "metadata": {},
   "source": [
    "Registra el Listener del Team Bellaco"
   ]
  },
  {
   "cell_type": "code",
   "execution_count": 6,
   "metadata": {},
   "outputs": [],
   "source": [
    "from team_bellaco.traffic_query_listener import TrafficListener\n",
    "spark.streams.addListener(TrafficListener())"
   ]
  },
  {
   "cell_type": "markdown",
   "metadata": {},
   "source": [
    "Lee los logs como stream"
   ]
  },
  {
   "cell_type": "code",
   "execution_count": 7,
   "metadata": {},
   "outputs": [],
   "source": [
    "from pyspark.sql.types import StructType, StringType\n",
    "from pyspark.sql.functions import split, col\n",
    "\n",
    "log_schema = StructType().add(\"raw\", StringType())\n",
    "\n",
    "log_df = (\n",
    "    spark.readStream.format(\"text\")\n",
    "    .schema(log_schema)\n",
    "    .load(\"/home/jovyan/notebooks/data/logs/\")\n",
    ")"
   ]
  },
  {
   "cell_type": "markdown",
   "metadata": {},
   "source": [
    "Separa las columnas de los logs (timestamp, level, message, server)"
   ]
  },
  {
   "cell_type": "code",
   "execution_count": 8,
   "metadata": {},
   "outputs": [],
   "source": [
    "parsed_df = (\n",
    "    log_df.withColumn(\"parts\", split(col(\"raw\"), \" \\\\| \"))\n",
    "    .withColumn(\"timestamp\", col(\"parts\").getItem(0))\n",
    "    .withColumn(\"level\", col(\"parts\").getItem(1))\n",
    "    .withColumn(\"message\", col(\"parts\").getItem(2))\n",
    "    .withColumn(\"server\", col(\"parts\").getItem(3))\n",
    "    .drop(\"parts\")\n",
    ")"
   ]
  },
  {
   "cell_type": "markdown",
   "metadata": {},
   "source": [
    "Filtra los errores 500 de los logs"
   ]
  },
  {
   "cell_type": "code",
   "execution_count": 9,
   "metadata": {},
   "outputs": [],
   "source": [
    "errors_df = parsed_df.filter(col(\"message\").contains(\"500 Internal Server Error\"))"
   ]
  },
  {
   "cell_type": "markdown",
   "metadata": {},
   "source": [
    "Opcion 1: Se ejecuta el stream y se detiene con el tiempo agregado en segundos"
   ]
  },
  {
   "cell_type": "code",
   "execution_count": null,
   "metadata": {},
   "outputs": [
    {
     "name": "stderr",
     "output_type": "stream",
     "text": [
      "25/04/02 21:32:40 WARN ResolveWriteToStream: Temporary checkpoint location created which is deleted normally when the query didn't fail: /tmp/temporary-a22bd96d-f4c6-46b7-ad8f-1029a9c57745. If it's required to delete it under any circumstances, please set spark.sql.streaming.forceDeleteTempCheckpointLocation to true. Important to know deleting temp checkpoint folder is best effort.\n",
      "25/04/02 21:32:40 WARN ResolveWriteToStream: spark.sql.adaptive.enabled is not supported in streaming DataFrames/Datasets and will be disabled.\n"
     ]
    },
    {
     "name": "stdout",
     "output_type": "stream",
     "text": [
      "Query started: 2107f4c7-a2e8-429b-9b33-c84e61119305\n"
     ]
    },
    {
     "name": "stderr",
     "output_type": "stream",
     "text": [
      "25/04/02 21:32:47 WARN ProcessingTimeExecutor: Current batch is falling behind. The trigger interval is 5000 milliseconds, but spent 6397 milliseconds\n"
     ]
    },
    {
     "name": "stdout",
     "output_type": "stream",
     "text": [
      "-------------------------------------------\n",
      "Batch: 0\n",
      "-------------------------------------------\n",
      "+-----------------------------------------------------------------------+-------------------+-----+-------------------------+-------------+\n",
      "|raw                                                                    |timestamp          |level|message                  |server       |\n",
      "+-----------------------------------------------------------------------+-------------------+-----+-------------------------+-------------+\n",
      "|2025-03-31 22:20:56 | ERROR | 500 Internal Server Error | server-node-1|2025-03-31 22:20:56|ERROR|500 Internal Server Error|server-node-1|\n",
      "|2025-03-31 22:20:56 | ERROR | 500 Internal Server Error | server-node-3|2025-03-31 22:20:56|ERROR|500 Internal Server Error|server-node-3|\n",
      "|2025-03-31 22:20:56 | ERROR | 500 Internal Server Error | server-node-2|2025-03-31 22:20:56|ERROR|500 Internal Server Error|server-node-2|\n",
      "|2025-03-31 22:20:56 | ERROR | 500 Internal Server Error | server-node-2|2025-03-31 22:20:56|ERROR|500 Internal Server Error|server-node-2|\n",
      "|2025-03-31 22:20:56 | ERROR | 500 Internal Server Error | server-node-3|2025-03-31 22:20:56|ERROR|500 Internal Server Error|server-node-3|\n",
      "|2025-03-31 22:20:56 | ERROR | 500 Internal Server Error | server-node-3|2025-03-31 22:20:56|ERROR|500 Internal Server Error|server-node-3|\n",
      "|2025-03-31 22:20:56 | ERROR | 500 Internal Server Error | server-node-3|2025-03-31 22:20:56|ERROR|500 Internal Server Error|server-node-3|\n",
      "|2025-03-31 22:20:56 | ERROR | 500 Internal Server Error | server-node-3|2025-03-31 22:20:56|ERROR|500 Internal Server Error|server-node-3|\n",
      "|2025-03-31 22:20:56 | ERROR | 500 Internal Server Error | server-node-3|2025-03-31 22:20:56|ERROR|500 Internal Server Error|server-node-3|\n",
      "|2025-04-02 21:31:30 | ERROR | 500 Internal Server Error | server-node-1|2025-04-02 21:31:30|ERROR|500 Internal Server Error|server-node-1|\n",
      "|2025-04-02 21:31:30 | ERROR | 500 Internal Server Error | server-node-2|2025-04-02 21:31:30|ERROR|500 Internal Server Error|server-node-2|\n",
      "|2025-04-02 21:31:30 | ERROR | 500 Internal Server Error | server-node-1|2025-04-02 21:31:30|ERROR|500 Internal Server Error|server-node-1|\n",
      "|2025-04-02 21:31:30 | ERROR | 500 Internal Server Error | server-node-1|2025-04-02 21:31:30|ERROR|500 Internal Server Error|server-node-1|\n",
      "|2025-04-02 21:31:30 | ERROR | 500 Internal Server Error | server-node-1|2025-04-02 21:31:30|ERROR|500 Internal Server Error|server-node-1|\n",
      "|2025-04-02 21:31:30 | ERROR | 500 Internal Server Error | server-node-1|2025-04-02 21:31:30|ERROR|500 Internal Server Error|server-node-1|\n",
      "|2025-04-02 21:31:30 | ERROR | 500 Internal Server Error | server-node-2|2025-04-02 21:31:30|ERROR|500 Internal Server Error|server-node-2|\n",
      "|2025-04-02 21:31:30 | ERROR | 500 Internal Server Error | server-node-1|2025-04-02 21:31:30|ERROR|500 Internal Server Error|server-node-1|\n",
      "|2025-04-02 21:31:30 | ERROR | 500 Internal Server Error | server-node-3|2025-04-02 21:31:30|ERROR|500 Internal Server Error|server-node-3|\n",
      "|2025-04-02 21:31:30 | ERROR | 500 Internal Server Error | server-node-2|2025-04-02 21:31:30|ERROR|500 Internal Server Error|server-node-2|\n",
      "|2025-04-02 21:31:30 | ERROR | 500 Internal Server Error | server-node-3|2025-04-02 21:31:30|ERROR|500 Internal Server Error|server-node-3|\n",
      "+-----------------------------------------------------------------------+-------------------+-----+-------------------------+-------------+\n",
      "only showing top 20 rows\n",
      "\n",
      "Query made progress: {\n",
      "  \"id\" : \"2107f4c7-a2e8-429b-9b33-c84e61119305\",\n",
      "  \"runId\" : \"318e1fcc-6643-4bab-a6aa-ade63aaca5f5\",\n",
      "  \"name\" : null,\n",
      "  \"timestamp\" : \"2025-04-02T21:32:40.696Z\",\n",
      "  \"batchId\" : 0,\n",
      "  \"numInputRows\" : 20000,\n",
      "  \"inputRowsPerSecond\" : 0.0,\n",
      "  \"processedRowsPerSecond\" : 3127.443315089914,\n",
      "  \"durationMs\" : {\n",
      "    \"addBatch\" : 2210,\n",
      "    \"commitOffsets\" : 32,\n",
      "    \"getBatch\" : 2635,\n",
      "    \"latestOffset\" : 1438,\n",
      "    \"queryPlanning\" : 45,\n",
      "    \"triggerExecution\" : 6395,\n",
      "    \"walCommit\" : 32\n",
      "  },\n",
      "  \"stateOperators\" : [ ],\n",
      "  \"sources\" : [ {\n",
      "    \"description\" : \"FileStreamSource[file:/home/jovyan/notebooks/data/logs]\",\n",
      "    \"startOffset\" : null,\n",
      "    \"endOffset\" : {\n",
      "      \"logOffset\" : 0\n",
      "    },\n",
      "    \"latestOffset\" : null,\n",
      "    \"numInputRows\" : 20000,\n",
      "    \"inputRowsPerSecond\" : 0.0,\n",
      "    \"processedRowsPerSecond\" : 3127.443315089914\n",
      "  } ],\n",
      "  \"sink\" : {\n",
      "    \"description\" : \"org.apache.spark.sql.execution.streaming.ConsoleTable$@418cda46\",\n",
      "    \"numOutputRows\" : 1645\n",
      "  }\n",
      "}\n",
      "Rows processed in this batch: 20000\n",
      "[ALERTA] ¡Se detectó un alto volumen de datos en este microbatch!\n",
      "Query terminated: 2107f4c7-a2e8-429b-9b33-c84e61119305\n"
     ]
    }
   ],
   "source": [
    "import time\n",
    "\n",
    "query = (\n",
    "    errors_df.writeStream.outputMode(\"append\")\n",
    "    .format(\"console\")\n",
    "    .option(\"truncate\", False)\n",
    "    .trigger(processingTime=\"5 seconds\")\n",
    "    .start()\n",
    ")\n",
    "\n",
    "time.sleep(30) #Aqui son 30 Segundos\n",
    "query.stop()"
   ]
  },
  {
   "cell_type": "markdown",
   "metadata": {},
   "source": [
    "Opcion 2: Se ejecuta el stream y se detiene manualmente como con el profe"
   ]
  },
  {
   "cell_type": "code",
   "execution_count": 10,
   "metadata": {},
   "outputs": [
    {
     "name": "stderr",
     "output_type": "stream",
     "text": [
      "25/04/02 21:32:15 WARN ResolveWriteToStream: Temporary checkpoint location created which is deleted normally when the query didn't fail: /tmp/temporary-c0a406d5-c0e3-4b67-9875-b99b26654697. If it's required to delete it under any circumstances, please set spark.sql.streaming.forceDeleteTempCheckpointLocation to true. Important to know deleting temp checkpoint folder is best effort.\n",
      "25/04/02 21:32:15 WARN ResolveWriteToStream: spark.sql.adaptive.enabled is not supported in streaming DataFrames/Datasets and will be disabled.\n"
     ]
    },
    {
     "name": "stdout",
     "output_type": "stream",
     "text": [
      "Query started: 3e89e315-e208-4412-98b2-758436394170\n"
     ]
    },
    {
     "name": "stderr",
     "output_type": "stream",
     "text": [
      "                                                                                \r"
     ]
    },
    {
     "name": "stdout",
     "output_type": "stream",
     "text": [
      "-------------------------------------------\n",
      "Batch: 0\n",
      "-------------------------------------------\n",
      "+-----------------------------------------------------------------------+-------------------+-----+-------------------------+-------------+\n",
      "|raw                                                                    |timestamp          |level|message                  |server       |\n",
      "+-----------------------------------------------------------------------+-------------------+-----+-------------------------+-------------+\n",
      "|2025-03-31 22:20:56 | ERROR | 500 Internal Server Error | server-node-1|2025-03-31 22:20:56|ERROR|500 Internal Server Error|server-node-1|\n",
      "|2025-03-31 22:20:56 | ERROR | 500 Internal Server Error | server-node-3|2025-03-31 22:20:56|ERROR|500 Internal Server Error|server-node-3|\n",
      "|2025-03-31 22:20:56 | ERROR | 500 Internal Server Error | server-node-2|2025-03-31 22:20:56|ERROR|500 Internal Server Error|server-node-2|\n",
      "|2025-03-31 22:20:56 | ERROR | 500 Internal Server Error | server-node-2|2025-03-31 22:20:56|ERROR|500 Internal Server Error|server-node-2|\n",
      "|2025-03-31 22:20:56 | ERROR | 500 Internal Server Error | server-node-3|2025-03-31 22:20:56|ERROR|500 Internal Server Error|server-node-3|\n",
      "|2025-03-31 22:20:56 | ERROR | 500 Internal Server Error | server-node-3|2025-03-31 22:20:56|ERROR|500 Internal Server Error|server-node-3|\n",
      "|2025-03-31 22:20:56 | ERROR | 500 Internal Server Error | server-node-3|2025-03-31 22:20:56|ERROR|500 Internal Server Error|server-node-3|\n",
      "|2025-03-31 22:20:56 | ERROR | 500 Internal Server Error | server-node-3|2025-03-31 22:20:56|ERROR|500 Internal Server Error|server-node-3|\n",
      "|2025-03-31 22:20:56 | ERROR | 500 Internal Server Error | server-node-3|2025-03-31 22:20:56|ERROR|500 Internal Server Error|server-node-3|\n",
      "|2025-04-02 21:31:30 | ERROR | 500 Internal Server Error | server-node-1|2025-04-02 21:31:30|ERROR|500 Internal Server Error|server-node-1|\n",
      "|2025-04-02 21:31:30 | ERROR | 500 Internal Server Error | server-node-2|2025-04-02 21:31:30|ERROR|500 Internal Server Error|server-node-2|\n",
      "|2025-04-02 21:31:30 | ERROR | 500 Internal Server Error | server-node-1|2025-04-02 21:31:30|ERROR|500 Internal Server Error|server-node-1|\n",
      "|2025-04-02 21:31:30 | ERROR | 500 Internal Server Error | server-node-1|2025-04-02 21:31:30|ERROR|500 Internal Server Error|server-node-1|\n",
      "|2025-04-02 21:31:30 | ERROR | 500 Internal Server Error | server-node-1|2025-04-02 21:31:30|ERROR|500 Internal Server Error|server-node-1|\n",
      "|2025-04-02 21:31:30 | ERROR | 500 Internal Server Error | server-node-1|2025-04-02 21:31:30|ERROR|500 Internal Server Error|server-node-1|\n",
      "|2025-04-02 21:31:30 | ERROR | 500 Internal Server Error | server-node-2|2025-04-02 21:31:30|ERROR|500 Internal Server Error|server-node-2|\n",
      "|2025-04-02 21:31:30 | ERROR | 500 Internal Server Error | server-node-1|2025-04-02 21:31:30|ERROR|500 Internal Server Error|server-node-1|\n",
      "|2025-04-02 21:31:30 | ERROR | 500 Internal Server Error | server-node-3|2025-04-02 21:31:30|ERROR|500 Internal Server Error|server-node-3|\n",
      "|2025-04-02 21:31:30 | ERROR | 500 Internal Server Error | server-node-2|2025-04-02 21:31:30|ERROR|500 Internal Server Error|server-node-2|\n",
      "|2025-04-02 21:31:30 | ERROR | 500 Internal Server Error | server-node-3|2025-04-02 21:31:30|ERROR|500 Internal Server Error|server-node-3|\n",
      "+-----------------------------------------------------------------------+-------------------+-----+-------------------------+-------------+\n",
      "only showing top 20 rows\n",
      "\n"
     ]
    },
    {
     "name": "stderr",
     "output_type": "stream",
     "text": [
      "25/04/02 21:32:25 WARN ProcessingTimeExecutor: Current batch is falling behind. The trigger interval is 5000 milliseconds, but spent 9908 milliseconds\n"
     ]
    },
    {
     "name": "stdout",
     "output_type": "stream",
     "text": [
      "Query made progress: {\n",
      "  \"id\" : \"3e89e315-e208-4412-98b2-758436394170\",\n",
      "  \"runId\" : \"a2f18957-0770-4c3c-b287-feee8221ddf0\",\n",
      "  \"name\" : null,\n",
      "  \"timestamp\" : \"2025-04-02T21:32:15.671Z\",\n",
      "  \"batchId\" : 0,\n",
      "  \"numInputRows\" : 20000,\n",
      "  \"inputRowsPerSecond\" : 0.0,\n",
      "  \"processedRowsPerSecond\" : 2023.8818053025705,\n",
      "  \"durationMs\" : {\n",
      "    \"addBatch\" : 4409,\n",
      "    \"commitOffsets\" : 28,\n",
      "    \"getBatch\" : 4411,\n",
      "    \"latestOffset\" : 521,\n",
      "    \"queryPlanning\" : 452,\n",
      "    \"triggerExecution\" : 9881,\n",
      "    \"walCommit\" : 36\n",
      "  },\n",
      "  \"stateOperators\" : [ ],\n",
      "  \"sources\" : [ {\n",
      "    \"description\" : \"FileStreamSource[file:/home/jovyan/notebooks/data/logs]\",\n",
      "    \"startOffset\" : null,\n",
      "    \"endOffset\" : {\n",
      "      \"logOffset\" : 0\n",
      "    },\n",
      "    \"latestOffset\" : null,\n",
      "    \"numInputRows\" : 20000,\n",
      "    \"inputRowsPerSecond\" : 0.0,\n",
      "    \"processedRowsPerSecond\" : 2023.8818053025705\n",
      "  } ],\n",
      "  \"sink\" : {\n",
      "    \"description\" : \"org.apache.spark.sql.execution.streaming.ConsoleTable$@418cda46\",\n",
      "    \"numOutputRows\" : 1645\n",
      "  }\n",
      "}\n",
      "Rows processed in this batch: 20000\n",
      "[ALERTA] ¡Se detectó un alto volumen de datos en este microbatch!\n"
     ]
    },
    {
     "name": "stderr",
     "output_type": "stream",
     "text": [
      "ERROR:root:KeyboardInterrupt while sending command.\n",
      "Traceback (most recent call last):\n",
      "  File \"/opt/conda/spark-3.5.4-bin-hadoop3-scala2.13/python/lib/py4j-0.10.9.7-src.zip/py4j/java_gateway.py\", line 1038, in send_command\n",
      "    response = connection.send_command(command)\n",
      "               ^^^^^^^^^^^^^^^^^^^^^^^^^^^^^^^^\n",
      "  File \"/opt/conda/spark-3.5.4-bin-hadoop3-scala2.13/python/lib/py4j-0.10.9.7-src.zip/py4j/clientserver.py\", line 511, in send_command\n",
      "    answer = smart_decode(self.stream.readline()[:-1])\n",
      "                          ^^^^^^^^^^^^^^^^^^^^^^\n",
      "  File \"/opt/conda/lib/python3.11/socket.py\", line 706, in readinto\n",
      "    return self._sock.recv_into(b)\n",
      "           ^^^^^^^^^^^^^^^^^^^^^^^\n",
      "KeyboardInterrupt\n"
     ]
    },
    {
     "ename": "KeyboardInterrupt",
     "evalue": "",
     "output_type": "error",
     "traceback": [
      "\u001b[0;31m---------------------------------------------------------------------------\u001b[0m",
      "\u001b[0;31mKeyboardInterrupt\u001b[0m                         Traceback (most recent call last)",
      "Cell \u001b[0;32mIn[10], line 9\u001b[0m\n\u001b[1;32m      1\u001b[0m query \u001b[38;5;241m=\u001b[39m (\n\u001b[1;32m      2\u001b[0m     errors_df\u001b[38;5;241m.\u001b[39mwriteStream\u001b[38;5;241m.\u001b[39moutputMode(\u001b[38;5;124m\"\u001b[39m\u001b[38;5;124mappend\u001b[39m\u001b[38;5;124m\"\u001b[39m)\n\u001b[1;32m      3\u001b[0m     \u001b[38;5;241m.\u001b[39mformat(\u001b[38;5;124m\"\u001b[39m\u001b[38;5;124mconsole\u001b[39m\u001b[38;5;124m\"\u001b[39m)\n\u001b[0;32m   (...)\u001b[0m\n\u001b[1;32m      6\u001b[0m     \u001b[38;5;241m.\u001b[39mstart()\n\u001b[1;32m      7\u001b[0m )\n\u001b[0;32m----> 9\u001b[0m \u001b[43mquery\u001b[49m\u001b[38;5;241;43m.\u001b[39;49m\u001b[43mawaitTermination\u001b[49m\u001b[43m(\u001b[49m\u001b[43m)\u001b[49m\n",
      "File \u001b[0;32m/opt/conda/spark-3.5.4-bin-hadoop3-scala2.13/python/pyspark/sql/streaming/query.py:221\u001b[0m, in \u001b[0;36mStreamingQuery.awaitTermination\u001b[0;34m(self, timeout)\u001b[0m\n\u001b[1;32m    219\u001b[0m     \u001b[38;5;28;01mreturn\u001b[39;00m \u001b[38;5;28mself\u001b[39m\u001b[38;5;241m.\u001b[39m_jsq\u001b[38;5;241m.\u001b[39mawaitTermination(\u001b[38;5;28mint\u001b[39m(timeout \u001b[38;5;241m*\u001b[39m \u001b[38;5;241m1000\u001b[39m))\n\u001b[1;32m    220\u001b[0m \u001b[38;5;28;01melse\u001b[39;00m:\n\u001b[0;32m--> 221\u001b[0m     \u001b[38;5;28;01mreturn\u001b[39;00m \u001b[38;5;28;43mself\u001b[39;49m\u001b[38;5;241;43m.\u001b[39;49m\u001b[43m_jsq\u001b[49m\u001b[38;5;241;43m.\u001b[39;49m\u001b[43mawaitTermination\u001b[49m\u001b[43m(\u001b[49m\u001b[43m)\u001b[49m\n",
      "File \u001b[0;32m/opt/conda/spark-3.5.4-bin-hadoop3-scala2.13/python/lib/py4j-0.10.9.7-src.zip/py4j/java_gateway.py:1321\u001b[0m, in \u001b[0;36mJavaMember.__call__\u001b[0;34m(self, *args)\u001b[0m\n\u001b[1;32m   1314\u001b[0m args_command, temp_args \u001b[38;5;241m=\u001b[39m \u001b[38;5;28mself\u001b[39m\u001b[38;5;241m.\u001b[39m_build_args(\u001b[38;5;241m*\u001b[39margs)\n\u001b[1;32m   1316\u001b[0m command \u001b[38;5;241m=\u001b[39m proto\u001b[38;5;241m.\u001b[39mCALL_COMMAND_NAME \u001b[38;5;241m+\u001b[39m\\\n\u001b[1;32m   1317\u001b[0m     \u001b[38;5;28mself\u001b[39m\u001b[38;5;241m.\u001b[39mcommand_header \u001b[38;5;241m+\u001b[39m\\\n\u001b[1;32m   1318\u001b[0m     args_command \u001b[38;5;241m+\u001b[39m\\\n\u001b[1;32m   1319\u001b[0m     proto\u001b[38;5;241m.\u001b[39mEND_COMMAND_PART\n\u001b[0;32m-> 1321\u001b[0m answer \u001b[38;5;241m=\u001b[39m \u001b[38;5;28;43mself\u001b[39;49m\u001b[38;5;241;43m.\u001b[39;49m\u001b[43mgateway_client\u001b[49m\u001b[38;5;241;43m.\u001b[39;49m\u001b[43msend_command\u001b[49m\u001b[43m(\u001b[49m\u001b[43mcommand\u001b[49m\u001b[43m)\u001b[49m\n\u001b[1;32m   1322\u001b[0m return_value \u001b[38;5;241m=\u001b[39m get_return_value(\n\u001b[1;32m   1323\u001b[0m     answer, \u001b[38;5;28mself\u001b[39m\u001b[38;5;241m.\u001b[39mgateway_client, \u001b[38;5;28mself\u001b[39m\u001b[38;5;241m.\u001b[39mtarget_id, \u001b[38;5;28mself\u001b[39m\u001b[38;5;241m.\u001b[39mname)\n\u001b[1;32m   1325\u001b[0m \u001b[38;5;28;01mfor\u001b[39;00m temp_arg \u001b[38;5;129;01min\u001b[39;00m temp_args:\n",
      "File \u001b[0;32m/opt/conda/spark-3.5.4-bin-hadoop3-scala2.13/python/lib/py4j-0.10.9.7-src.zip/py4j/java_gateway.py:1038\u001b[0m, in \u001b[0;36mGatewayClient.send_command\u001b[0;34m(self, command, retry, binary)\u001b[0m\n\u001b[1;32m   1036\u001b[0m connection \u001b[38;5;241m=\u001b[39m \u001b[38;5;28mself\u001b[39m\u001b[38;5;241m.\u001b[39m_get_connection()\n\u001b[1;32m   1037\u001b[0m \u001b[38;5;28;01mtry\u001b[39;00m:\n\u001b[0;32m-> 1038\u001b[0m     response \u001b[38;5;241m=\u001b[39m \u001b[43mconnection\u001b[49m\u001b[38;5;241;43m.\u001b[39;49m\u001b[43msend_command\u001b[49m\u001b[43m(\u001b[49m\u001b[43mcommand\u001b[49m\u001b[43m)\u001b[49m\n\u001b[1;32m   1039\u001b[0m     \u001b[38;5;28;01mif\u001b[39;00m binary:\n\u001b[1;32m   1040\u001b[0m         \u001b[38;5;28;01mreturn\u001b[39;00m response, \u001b[38;5;28mself\u001b[39m\u001b[38;5;241m.\u001b[39m_create_connection_guard(connection)\n",
      "File \u001b[0;32m/opt/conda/spark-3.5.4-bin-hadoop3-scala2.13/python/lib/py4j-0.10.9.7-src.zip/py4j/clientserver.py:511\u001b[0m, in \u001b[0;36mClientServerConnection.send_command\u001b[0;34m(self, command)\u001b[0m\n\u001b[1;32m    509\u001b[0m \u001b[38;5;28;01mtry\u001b[39;00m:\n\u001b[1;32m    510\u001b[0m     \u001b[38;5;28;01mwhile\u001b[39;00m \u001b[38;5;28;01mTrue\u001b[39;00m:\n\u001b[0;32m--> 511\u001b[0m         answer \u001b[38;5;241m=\u001b[39m smart_decode(\u001b[38;5;28mself\u001b[39m\u001b[38;5;241m.\u001b[39mstream\u001b[38;5;241m.\u001b[39mreadline()[:\u001b[38;5;241m-\u001b[39m\u001b[38;5;241m1\u001b[39m])\n\u001b[1;32m    512\u001b[0m         logger\u001b[38;5;241m.\u001b[39mdebug(\u001b[38;5;124m\"\u001b[39m\u001b[38;5;124mAnswer received: \u001b[39m\u001b[38;5;132;01m{0}\u001b[39;00m\u001b[38;5;124m\"\u001b[39m\u001b[38;5;241m.\u001b[39mformat(answer))\n\u001b[1;32m    513\u001b[0m         \u001b[38;5;66;03m# Happens when a the other end is dead. There might be an empty\u001b[39;00m\n\u001b[1;32m    514\u001b[0m         \u001b[38;5;66;03m# answer before the socket raises an error.\u001b[39;00m\n",
      "File \u001b[0;32m/opt/conda/lib/python3.11/socket.py:706\u001b[0m, in \u001b[0;36mSocketIO.readinto\u001b[0;34m(self, b)\u001b[0m\n\u001b[1;32m    704\u001b[0m \u001b[38;5;28;01mwhile\u001b[39;00m \u001b[38;5;28;01mTrue\u001b[39;00m:\n\u001b[1;32m    705\u001b[0m     \u001b[38;5;28;01mtry\u001b[39;00m:\n\u001b[0;32m--> 706\u001b[0m         \u001b[38;5;28;01mreturn\u001b[39;00m \u001b[38;5;28;43mself\u001b[39;49m\u001b[38;5;241;43m.\u001b[39;49m\u001b[43m_sock\u001b[49m\u001b[38;5;241;43m.\u001b[39;49m\u001b[43mrecv_into\u001b[49m\u001b[43m(\u001b[49m\u001b[43mb\u001b[49m\u001b[43m)\u001b[49m\n\u001b[1;32m    707\u001b[0m     \u001b[38;5;28;01mexcept\u001b[39;00m timeout:\n\u001b[1;32m    708\u001b[0m         \u001b[38;5;28mself\u001b[39m\u001b[38;5;241m.\u001b[39m_timeout_occurred \u001b[38;5;241m=\u001b[39m \u001b[38;5;28;01mTrue\u001b[39;00m\n",
      "\u001b[0;31mKeyboardInterrupt\u001b[0m: "
     ]
    }
   ],
   "source": [
    "query = (\n",
    "    errors_df.writeStream.outputMode(\"append\")\n",
    "    .format(\"console\")\n",
    "    .option(\"truncate\", False)\n",
    "    .trigger(processingTime=\"5 seconds\")\n",
    "    .start()\n",
    ")\n",
    "\n",
    "query.awaitTermination()"
   ]
  },
  {
   "cell_type": "code",
   "execution_count": 5,
   "metadata": {},
   "outputs": [],
   "source": [
    "# Stop the SparkContext\n",
    "sc.stop()"
   ]
  }
 ],
 "metadata": {
  "kernelspec": {
   "display_name": "Python 3 (ipykernel)",
   "language": "python",
   "name": "python3"
  },
  "language_info": {
   "codemirror_mode": {
    "name": "ipython",
    "version": 3
   },
   "file_extension": ".py",
   "mimetype": "text/x-python",
   "name": "python",
   "nbconvert_exporter": "python",
   "pygments_lexer": "ipython3",
   "version": "3.11.6"
  }
 },
 "nbformat": 4,
 "nbformat_minor": 2
}
