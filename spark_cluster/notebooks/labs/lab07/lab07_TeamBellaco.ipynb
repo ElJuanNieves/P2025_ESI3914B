{
 "cells": [
  {
   "cell_type": "markdown",
   "metadata": {},
   "source": [
    "# <center> <img src=\"../img/ITESOLogo.png\" alt=\"ITESO\" width=\"480\" height=\"130\"> </center>\n",
    "# <center> **Departamento de Electrónica, Sistemas e Informática** </center>\n",
    "---\n",
    "## <center> **Carrera: Ingenieria de Sistemas Computacionales** </center>\n",
    "---\n",
    "### <center> **Primavera 2025** </center>\n",
    "---\n",
    "\n",
    "**Lab 07**: Structured Streaming with Files Description\n",
    "\n",
    "**Fecha**:28/03/2025\n",
    "\n",
    "**Nombre del Estudiante**:David Abraham Naranjo Salgado, Benjamin Leonardo Zarate Solano y Angel David Cortes Pacheco\n",
    "\n",
    "**Profesor**: Pablo Camarillo Ramirez"
   ]
  },
  {
   "cell_type": "code",
   "execution_count": 1,
   "metadata": {},
   "outputs": [],
   "source": [
    "import findspark\n",
    "findspark.init()"
   ]
  },
  {
   "cell_type": "markdown",
   "metadata": {},
   "source": [
    "#### Creacion de la conexión con el cluster de spark\n"
   ]
  },
  {
   "cell_type": "code",
   "execution_count": 2,
   "metadata": {},
   "outputs": [
    {
     "name": "stderr",
     "output_type": "stream",
     "text": [
      "Setting default log level to \"WARN\".\n",
      "To adjust logging level use sc.setLogLevel(newLevel). For SparkR, use setLogLevel(newLevel).\n",
      "25/04/04 14:31:17 WARN NativeCodeLoader: Unable to load native-hadoop library for your platform... using builtin-java classes where applicable\n"
     ]
    }
   ],
   "source": [
    "from pyspark.sql import SparkSession\n",
    "\n",
    "spark = SparkSession.builder \\\n",
    "    .appName(\"SparkSQL-Structured-Streaming\") \\\n",
    "    .master(\"spark://b631371550f9:7077\") \\\n",
    "    .config(\"spark.ui.port\",\"4040\") \\\n",
    "    .getOrCreate()\n",
    "sc = spark.sparkContext"
   ]
  },
  {
   "cell_type": "markdown",
   "metadata": {},
   "source": [
    "Checa el pwd"
   ]
  },
  {
   "cell_type": "code",
   "execution_count": 3,
   "metadata": {},
   "outputs": [
    {
     "name": "stdout",
     "output_type": "stream",
     "text": [
      "/home/jovyan\n"
     ]
    }
   ],
   "source": [
    "!pwd"
   ]
  },
  {
   "cell_type": "markdown",
   "metadata": {},
   "source": [
    "### Generate logs"
   ]
  },
  {
   "cell_type": "code",
   "execution_count": 4,
   "metadata": {},
   "outputs": [
    {
     "name": "stdout",
     "output_type": "stream",
     "text": [
      "Logs guardados en: /home/jovyan/notebooks/data/logs/log-99.log\n"
     ]
    }
   ],
   "source": [
    "from team_bellaco.log_gen import generate_logs\n",
    "generate_logs(100,\"/home/jovyan/notebooks/data/logs\",\"log\")"
   ]
  },
  {
   "cell_type": "markdown",
   "metadata": {},
   "source": [
    "Registra el Listener del Team Bellaco"
   ]
  },
  {
   "cell_type": "code",
   "execution_count": 5,
   "metadata": {},
   "outputs": [],
   "source": [
    "from team_bellaco.traffic_query_listener import TrafficListener\n",
    "spark.streams.addListener(TrafficListener())"
   ]
  },
  {
   "cell_type": "markdown",
   "metadata": {},
   "source": [
    "Lee los logs como stream"
   ]
  },
  {
   "cell_type": "code",
   "execution_count": 6,
   "metadata": {},
   "outputs": [],
   "source": [
    "from pyspark.sql.types import StructType, StringType\n",
    "from pyspark.sql.functions import split, col\n",
    "\n",
    "log_schema = StructType().add(\"raw\", StringType())\n",
    "\n",
    "log_df = (\n",
    "    spark.readStream.format(\"text\")\n",
    "    .schema(log_schema)\n",
    "    .load(\"/home/jovyan/notebooks/data/logs/\")\n",
    ")"
   ]
  },
  {
   "cell_type": "markdown",
   "metadata": {},
   "source": [
    "Separa las columnas de los logs (timestamp, level, message, server)"
   ]
  },
  {
   "cell_type": "code",
   "execution_count": 7,
   "metadata": {},
   "outputs": [],
   "source": [
    "parsed_df = (\n",
    "    log_df.withColumn(\"parts\", split(col(\"raw\"), \" \\\\| \"))\n",
    "    .withColumn(\"timestamp\", col(\"parts\").getItem(0))\n",
    "    .withColumn(\"level\", col(\"parts\").getItem(1))\n",
    "    .withColumn(\"message\", col(\"parts\").getItem(2))\n",
    "    .withColumn(\"server\", col(\"parts\").getItem(3))\n",
    "    .drop(\"parts\")\n",
    ")"
   ]
  },
  {
   "cell_type": "markdown",
   "metadata": {},
   "source": [
    "Filtra los errores 500 de los logs"
   ]
  },
  {
   "cell_type": "code",
   "execution_count": 10,
   "metadata": {},
   "outputs": [],
   "source": [
    "errors_df = parsed_df.filter(col(\"message\").contains(\"500 Internal Server Error\"))"
   ]
  },
  {
   "cell_type": "markdown",
   "metadata": {},
   "source": [
    "Se ejecuta el stream y se detiene manualmente con 30 segundos "
   ]
  },
  {
   "cell_type": "code",
   "execution_count": 12,
   "metadata": {},
   "outputs": [
    {
     "name": "stderr",
     "output_type": "stream",
     "text": [
      "25/04/04 14:34:45 WARN ResolveWriteToStream: Temporary checkpoint location created which is deleted normally when the query didn't fail: /tmp/temporary-98837ea7-f455-4f6e-868d-0a8d3d1d99e2. If it's required to delete it under any circumstances, please set spark.sql.streaming.forceDeleteTempCheckpointLocation to true. Important to know deleting temp checkpoint folder is best effort.\n",
      "25/04/04 14:34:45 WARN ResolveWriteToStream: spark.sql.adaptive.enabled is not supported in streaming DataFrames/Datasets and will be disabled.\n"
     ]
    },
    {
     "name": "stdout",
     "output_type": "stream",
     "text": [
      "Query started: 25079c4f-92b4-4b34-8f53-5bd10aa9342d\n"
     ]
    },
    {
     "name": "stderr",
     "output_type": "stream",
     "text": [
      "                                                                                \r"
     ]
    },
    {
     "name": "stdout",
     "output_type": "stream",
     "text": [
      "-------------------------------------------\n",
      "Batch: 0\n",
      "-------------------------------------------\n",
      "+-----------------------------------------------------------------------+-------------------+-----+-------------------------+-------------+\n",
      "|raw                                                                    |timestamp          |level|message                  |server       |\n",
      "+-----------------------------------------------------------------------+-------------------+-----+-------------------------+-------------+\n",
      "|2025-03-31 22:20:56 | ERROR | 500 Internal Server Error | server-node-3|2025-03-31 22:20:56|ERROR|500 Internal Server Error|server-node-3|\n",
      "|2025-03-31 22:20:56 | ERROR | 500 Internal Server Error | server-node-3|2025-03-31 22:20:56|ERROR|500 Internal Server Error|server-node-3|\n",
      "|2025-03-31 22:20:56 | ERROR | 500 Internal Server Error | server-node-1|2025-03-31 22:20:56|ERROR|500 Internal Server Error|server-node-1|\n",
      "|2025-03-31 22:20:56 | ERROR | 500 Internal Server Error | server-node-3|2025-03-31 22:20:56|ERROR|500 Internal Server Error|server-node-3|\n",
      "|2025-03-31 22:20:56 | ERROR | 500 Internal Server Error | server-node-2|2025-03-31 22:20:56|ERROR|500 Internal Server Error|server-node-2|\n",
      "|2025-03-31 22:20:56 | ERROR | 500 Internal Server Error | server-node-3|2025-03-31 22:20:56|ERROR|500 Internal Server Error|server-node-3|\n",
      "|2025-03-31 22:20:56 | ERROR | 500 Internal Server Error | server-node-3|2025-03-31 22:20:56|ERROR|500 Internal Server Error|server-node-3|\n",
      "|2025-03-31 22:20:56 | ERROR | 500 Internal Server Error | server-node-3|2025-03-31 22:20:56|ERROR|500 Internal Server Error|server-node-3|\n",
      "|2025-03-31 22:20:56 | ERROR | 500 Internal Server Error | server-node-1|2025-03-31 22:20:56|ERROR|500 Internal Server Error|server-node-1|\n",
      "|2025-03-31 22:20:56 | ERROR | 500 Internal Server Error | server-node-2|2025-03-31 22:20:56|ERROR|500 Internal Server Error|server-node-2|\n",
      "|2025-03-31 22:20:56 | ERROR | 500 Internal Server Error | server-node-2|2025-03-31 22:20:56|ERROR|500 Internal Server Error|server-node-2|\n",
      "|2025-03-31 22:20:56 | ERROR | 500 Internal Server Error | server-node-3|2025-03-31 22:20:56|ERROR|500 Internal Server Error|server-node-3|\n",
      "|2025-04-02 21:31:31 | ERROR | 500 Internal Server Error | server-node-2|2025-04-02 21:31:31|ERROR|500 Internal Server Error|server-node-2|\n",
      "|2025-04-02 21:31:31 | ERROR | 500 Internal Server Error | server-node-2|2025-04-02 21:31:31|ERROR|500 Internal Server Error|server-node-2|\n",
      "|2025-04-02 21:31:31 | ERROR | 500 Internal Server Error | server-node-2|2025-04-02 21:31:31|ERROR|500 Internal Server Error|server-node-2|\n",
      "|2025-04-02 21:31:31 | ERROR | 500 Internal Server Error | server-node-2|2025-04-02 21:31:31|ERROR|500 Internal Server Error|server-node-2|\n",
      "|2025-04-02 21:31:31 | ERROR | 500 Internal Server Error | server-node-3|2025-04-02 21:31:31|ERROR|500 Internal Server Error|server-node-3|\n",
      "|2025-04-02 21:31:31 | ERROR | 500 Internal Server Error | server-node-1|2025-04-02 21:31:31|ERROR|500 Internal Server Error|server-node-1|\n",
      "|2025-04-02 21:31:31 | ERROR | 500 Internal Server Error | server-node-3|2025-04-02 21:31:31|ERROR|500 Internal Server Error|server-node-3|\n",
      "|2025-04-02 21:31:31 | ERROR | 500 Internal Server Error | server-node-3|2025-04-02 21:31:31|ERROR|500 Internal Server Error|server-node-3|\n",
      "+-----------------------------------------------------------------------+-------------------+-----+-------------------------+-------------+\n",
      "only showing top 20 rows\n",
      "\n",
      "Query made progress: {\n",
      "  \"id\" : \"25079c4f-92b4-4b34-8f53-5bd10aa9342d\",\n",
      "  \"runId\" : \"ef559f69-5961-443f-a89b-7d391c28935f\",\n",
      "  \"name\" : null,\n",
      "  \"timestamp\" : \"2025-04-04T14:34:45.351Z\",\n",
      "  \"batchId\" : 0,\n",
      "  \"numInputRows\" : 30000,\n",
      "  \"inputRowsPerSecond\" : 0.0,\n",
      "  \"processedRowsPerSecond\" : 6525.995214270176,\n",
      "  \"durationMs\" : {\n",
      "    \"addBatch\" : 1899,\n",
      "    \"commitOffsets\" : 36,\n",
      "    \"getBatch\" : 1962,\n",
      "    \"latestOffset\" : 642,\n",
      "    \"queryPlanning\" : 28,\n",
      "    \"triggerExecution\" : 4597,\n",
      "    \"walCommit\" : 23\n",
      "  },\n",
      "  \"stateOperators\" : [ ],\n",
      "  \"sources\" : [ {\n",
      "    \"description\" : \"FileStreamSource[file:/home/jovyan/notebooks/data/logs]\",\n",
      "    \"startOffset\" : null,\n",
      "    \"endOffset\" : {\n",
      "      \"logOffset\" : 0\n",
      "    },\n",
      "    \"latestOffset\" : null,\n",
      "    \"numInputRows\" : 30000,\n",
      "    \"inputRowsPerSecond\" : 0.0,\n",
      "    \"processedRowsPerSecond\" : 6525.995214270176\n",
      "  } ],\n",
      "  \"sink\" : {\n",
      "    \"description\" : \"org.apache.spark.sql.execution.streaming.ConsoleTable$@232deaa5\",\n",
      "    \"numOutputRows\" : 2492\n",
      "  }\n",
      "}\n",
      "Rows processed in this batch: 30000\n",
      "[ALERTA] ¡Se detectó un alto volumen de datos en este microbatch!\n"
     ]
    },
    {
     "data": {
      "text/plain": [
       "False"
      ]
     },
     "execution_count": 12,
     "metadata": {},
     "output_type": "execute_result"
    }
   ],
   "source": [
    "query = (\n",
    "    errors_df.writeStream.outputMode(\"append\")\n",
    "    .format(\"console\")\n",
    "    .option(\"truncate\", False)\n",
    "    .trigger(processingTime=\"5 seconds\")\n",
    "    .start()\n",
    ")\n",
    "\n",
    "query.awaitTermination(30)"
   ]
  },
  {
   "cell_type": "code",
   "execution_count": 13,
   "metadata": {},
   "outputs": [],
   "source": [
    "# Stop the SparkContext\n",
    "sc.stop()"
   ]
  }
 ],
 "metadata": {
  "kernelspec": {
   "display_name": "Python 3 (ipykernel)",
   "language": "python",
   "name": "python3"
  },
  "language_info": {
   "codemirror_mode": {
    "name": "ipython",
    "version": 3
   },
   "file_extension": ".py",
   "mimetype": "text/x-python",
   "name": "python",
   "nbconvert_exporter": "python",
   "pygments_lexer": "ipython3",
   "version": "3.11.6"
  }
 },
 "nbformat": 4,
 "nbformat_minor": 2
}
