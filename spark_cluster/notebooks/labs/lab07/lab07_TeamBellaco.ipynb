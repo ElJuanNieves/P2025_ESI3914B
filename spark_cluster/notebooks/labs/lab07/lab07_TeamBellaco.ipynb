{
 "cells": [
  {
   "cell_type": "markdown",
   "metadata": {},
   "source": [
    "# <center> <img src=\"../img/ITESOLogo.png\" alt=\"ITESO\" width=\"480\" height=\"130\"> </center>\n",
    "# <center> **Departamento de Electrónica, Sistemas e Informática** </center>\n",
    "---\n",
    "## <center> **Carrera: Ingenieria de Sistemas Computacionales** </center>\n",
    "---\n",
    "### <center> **Primavera 2025** </center>\n",
    "---\n",
    "\n",
    "**Lab 07**: Structured Streaming with Files Description\n",
    "\n",
    "**Fecha**:28/03/2025\n",
    "\n",
    "**Nombre del Estudiante**:David Abraham Naranjo Salgado, Benjamin Leonardo Zarate Solano y Angel David Cortes Pacheco\n",
    "\n",
    "**Profesor**: Pablo Camarillo Ramirez"
   ]
  },
  {
   "cell_type": "code",
   "execution_count": 1,
   "metadata": {},
   "outputs": [],
   "source": [
    "import findspark\n",
    "findspark.init()"
   ]
  },
  {
   "cell_type": "markdown",
   "metadata": {},
   "source": [
    "#### Creacion de la conexión con el cluster de spark\n"
   ]
  },
  {
   "cell_type": "code",
   "execution_count": 2,
   "metadata": {},
   "outputs": [
    {
     "name": "stderr",
     "output_type": "stream",
     "text": [
      "Setting default log level to \"WARN\".\n",
      "To adjust logging level use sc.setLogLevel(newLevel). For SparkR, use setLogLevel(newLevel).\n",
      "25/03/28 14:51:07 WARN NativeCodeLoader: Unable to load native-hadoop library for your platform... using builtin-java classes where applicable\n"
     ]
    }
   ],
   "source": [
    "from pyspark.sql import SparkSession\n",
    "\n",
    "spark = SparkSession.builder \\\n",
    "    .appName(\"SparkSQL-Structured-Streaming\") \\\n",
    "    .master(\"spark://a343afeb5c7a:7077\") \\\n",
    "    .config(\"spark.ui.port\",\"4040\") \\\n",
    "    .getOrCreate()\n",
    "sc = spark.sparkContext"
   ]
  },
  {
   "cell_type": "markdown",
   "metadata": {},
   "source": [
    "### Generate logs"
   ]
  },
  {
   "cell_type": "code",
   "execution_count": null,
   "metadata": {},
   "outputs": [
    {
     "name": "stdout",
     "output_type": "stream",
     "text": [
      "/home/jovyan\n"
     ]
    }
   ],
   "source": [
    "!pwd"
   ]
  },
  {
   "cell_type": "code",
   "execution_count": null,
   "metadata": {},
   "outputs": [
    {
     "ename": "SyntaxError",
     "evalue": "(unicode error) 'unicodeescape' codec can't decode bytes in position 2-3: truncated \\UXXXXXXXX escape (2845462290.py, line 3)",
     "output_type": "error",
     "traceback": [
      "\u001b[0;36m  Cell \u001b[0;32mIn[5], line 3\u001b[0;36m\u001b[0m\n\u001b[0;31m    generate_logs(100,\"C:\\Users\\david\\OneDrive\\ITESO\\PROCESAMIENTO DE DATOS MASIVOS\\P2025_ESI3914B\\spark_cluster\\data\",\"logs1.log\")\u001b[0m\n\u001b[0m                                                                                                                      ^\u001b[0m\n\u001b[0;31mSyntaxError\u001b[0m\u001b[0;31m:\u001b[0m (unicode error) 'unicodeescape' codec can't decode bytes in position 2-3: truncated \\UXXXXXXXX escape\n"
     ]
    }
   ],
   "source": [
    "from team_bellaco.log_gen import generate_logs\n",
    "\n",
    "generate_logs(100,\"../../data\",\"logs1.log\")\n"
   ]
  },
  {
   "cell_type": "markdown",
   "metadata": {},
   "source": [
    "### Limpiar datos"
   ]
  },
  {
   "cell_type": "code",
   "execution_count": 4,
   "metadata": {},
   "outputs": [
    {
     "name": "stdout",
     "output_type": "stream",
     "text": [
      "Number of nulls before cleaning:\n"
     ]
    },
    {
     "name": "stderr",
     "output_type": "stream",
     "text": [
      "                                                                                \r"
     ]
    },
    {
     "name": "stdout",
     "output_type": "stream",
     "text": [
      "+-------+----+-----+--------+-------+----------+------------+------+--------+---------+\n",
      "|show_id|type|title|director|country|date_added|release_year|rating|duration|listed_in|\n",
      "+-------+----+-----+--------+-------+----------+------------+------+--------+---------+\n",
      "|      0|   0|    0|       1|      1|         2|           2|     1|       2|        2|\n",
      "+-------+----+-----+--------+-------+----------+------------+------+--------+---------+\n",
      "\n",
      "Number of nulls after cleaning:\n",
      "+-------+----+-----+--------+-------+----------+------------+------+--------+---------+\n",
      "|show_id|type|title|director|country|date_added|release_year|rating|duration|listed_in|\n",
      "+-------+----+-----+--------+-------+----------+------------+------+--------+---------+\n",
      "|      0|   0|    0|       0|      0|         0|           0|     0|       0|        0|\n",
      "+-------+----+-----+--------+-------+----------+------------+------+--------+---------+\n",
      "\n",
      "Filas originales: 8791, Filas después de limpieza: 8791\n"
     ]
    }
   ],
   "source": [
    "# Limpiar el DataFrame según los requisitos\n",
    "clean_show_df = SparkUtils.clean_df(show_df)\n"
   ]
  },
  {
   "cell_type": "code",
   "execution_count": 5,
   "metadata": {},
   "outputs": [
    {
     "name": "stdout",
     "output_type": "stream",
     "text": [
      "+-------+-------+--------------------------------+---------------+-------------+----------+------------+------+--------+-------------------------------------------------------------+\n",
      "|show_id|type   |title                           |director       |country      |date_added|release_year|rating|duration|listed_in                                                    |\n",
      "+-------+-------+--------------------------------+---------------+-------------+----------+------------+------+--------+-------------------------------------------------------------+\n",
      "|s1     |Movie  |Dick Johnson Is Dead            |Kirsten Johnson|United States|2021-09-25|2020        |PG-13 |90 min  |Documentaries                                                |\n",
      "|s3     |TV Show|Ganglands                       |Julien Leclercq|France       |2021-09-24|2021        |TV-MA |1 Season|Crime TV Shows, International TV Shows, TV Action & Adventure|\n",
      "|s6     |TV Show|Midnight Mass                   |Mike Flanagan  |United States|2021-09-24|2021        |TV-MA |1 Season|TV Dramas, TV Horror, TV Mysteries                           |\n",
      "|s14    |Movie  |Confessions of an Invisible Girl|Bruno Garotti  |Brazil       |2021-09-22|2021        |TV-PG |91 min  |Children & Family Movies, Comedies                           |\n",
      "|s8     |Movie  |Sankofa                         |Haile Gerima   |United States|2021-09-24|1993        |TV-MA |125 min |Dramas, Independent Movies, International Movies             |\n",
      "+-------+-------+--------------------------------+---------------+-------------+----------+------------+------+--------+-------------------------------------------------------------+\n",
      "only showing top 5 rows\n",
      "\n"
     ]
    }
   ],
   "source": [
    "clean_show_df.show(5, truncate=False)"
   ]
  },
  {
   "cell_type": "markdown",
   "metadata": {},
   "source": [
    "### Escribri el esquema"
   ]
  },
  {
   "cell_type": "code",
   "execution_count": 6,
   "metadata": {},
   "outputs": [
    {
     "name": "stderr",
     "output_type": "stream",
     "text": [
      "                                                                                \r"
     ]
    },
    {
     "name": "stdout",
     "output_type": "stream",
     "text": [
      "DataFrame escrito exitosamente en /home/jovyan/notebooks/data/clean_netflix en formato parquet, particionado por release_year\n"
     ]
    }
   ],
   "source": [
    "SparkUtils.write_df(df=clean_show_df, path=\"/home/jovyan/notebooks/data/clean_netflix\", format=\"parquet\", mode=\"overwrite\", partition_by=\"release_year\")"
   ]
  },
  {
   "cell_type": "code",
   "execution_count": 6,
   "metadata": {},
   "outputs": [
    {
     "name": "stdout",
     "output_type": "stream",
     "text": [
      "76\n"
     ]
    }
   ],
   "source": [
    "!ls notebooks/data/clean_netflix/ | wc -l"
   ]
  },
  {
   "cell_type": "code",
   "execution_count": 62,
   "metadata": {},
   "outputs": [],
   "source": [
    "# Stop the SparkContext\n",
    "sc.stop()"
   ]
  }
 ],
 "metadata": {
  "kernelspec": {
   "display_name": "Python 3 (ipykernel)",
   "language": "python",
   "name": "python3"
  },
  "language_info": {
   "codemirror_mode": {
    "name": "ipython",
    "version": 3
   },
   "file_extension": ".py",
   "mimetype": "text/x-python",
   "name": "python",
   "nbconvert_exporter": "python",
   "pygments_lexer": "ipython3",
   "version": "3.11.6"
  }
 },
 "nbformat": 4,
 "nbformat_minor": 2
}
