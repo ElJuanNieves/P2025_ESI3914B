{
 "cells": [
  {
   "cell_type": "markdown",
   "metadata": {},
   "source": [
    "# <center> <img src=\"img/ITESOLogo.png\" alt=\"ITESO\" width=\"480\" height=\"130\"> </center>\n",
    "# <center> **Departamento de Electrónica, Sistemas e Informática** </center>\n",
    "---\n",
    "## <center> **Carrera: <Coloca el nombre de tu carrera aqui>** </center>\n",
    "---\n",
    "### <center> **Primavera 2025** </center>\n",
    "---\n",
    "\n",
    "**Lab 07**\n",
    "\n",
    "**Fecha**: 3 de abril\n",
    " 2025\n",
    "\n",
    "**Nombre del Equipo**: ArribaLinux\n",
    "\n",
    "**Profesor**: Pablo Camarillo Ramirez"
   ]
  },
  {
   "cell_type": "code",
   "execution_count": 1,
   "metadata": {},
   "outputs": [],
   "source": [
    "import findspark\n",
    "findspark.init()"
   ]
  },
  {
   "cell_type": "code",
   "execution_count": 2,
   "metadata": {},
   "outputs": [
    {
     "name": "stderr",
     "output_type": "stream",
     "text": [
      "Setting default log level to \"WARN\".\n",
      "To adjust logging level use sc.setLogLevel(newLevel). For SparkR, use setLogLevel(newLevel).\n",
      "25/04/03 21:33:37 WARN NativeCodeLoader: Unable to load native-hadoop library for your platform... using builtin-java classes where applicable\n"
     ]
    }
   ],
   "source": [
    "from pyspark.sql import SparkSession\n",
    "\n",
    "spark = SparkSession.builder \\\n",
    "    .appName(\"SparkSQLStructuredStreaming-ArribaLinux\") \\\n",
    "    .master(\"spark://ac7f0d7e8e91:7077\") \\\n",
    "    .config(\"spark.ui.port\",\"4040\") \\\n",
    "    .getOrCreate()\n",
    "sc = spark.sparkContext"
   ]
  },
  {
   "cell_type": "markdown",
   "metadata": {},
   "source": [
    "Leer archivos como stream"
   ]
  },
  {
   "cell_type": "code",
   "execution_count": 3,
   "metadata": {},
   "outputs": [],
   "source": [
    "from pyspark.sql.types import StructType, StringType\n",
    "from pyspark.sql.functions import col\n",
    "\n",
    "\n",
    "schema = StructType().add(\"value\", StringType())\n",
    "logs_df = spark.readStream \\\n",
    "    .schema(schema) \\\n",
    "    .text(\"/home/jovyan/notebooks/data/logs\")\n"
   ]
  },
  {
   "cell_type": "markdown",
   "metadata": {},
   "source": [
    "Parsear columnas del log \n"
   ]
  },
  {
   "cell_type": "code",
   "execution_count": 4,
   "metadata": {},
   "outputs": [],
   "source": [
    "from pyspark.sql.functions import split\n",
    "\n",
    "parsed_logs = logs_df \\\n",
    "    .withColumn(\"timestamp\", split(col(\"value\"), \" \\\\| \")[0]) \\\n",
    "    .withColumn(\"level\", split(col(\"value\"), \" \\\\| \")[1]) \\\n",
    "    .withColumn(\"message\", split(col(\"value\"), \" \\\\| \")[2]) \\\n",
    "    .withColumn(\"server\", split(col(\"value\"), \" \\\\| \")[3])\n"
   ]
  },
  {
   "cell_type": "markdown",
   "metadata": {},
   "source": [
    "Filtrar errores críticos (500)"
   ]
  },
  {
   "cell_type": "code",
   "execution_count": 5,
   "metadata": {},
   "outputs": [],
   "source": [
    "critical_errors = parsed_logs \\\n",
    "    .filter(col(\"level\") == \"ERROR\") \\\n",
    "    .filter(col(\"message\").contains(\"500\"))\n"
   ]
  },
  {
   "cell_type": "markdown",
   "metadata": {},
   "source": [
    "Mostrar resultados"
   ]
  },
  {
   "cell_type": "code",
   "execution_count": null,
   "metadata": {},
   "outputs": [
    {
     "name": "stderr",
     "output_type": "stream",
     "text": [
      "25/04/03 21:34:17 WARN ResolveWriteToStream: spark.sql.adaptive.enabled is not supported in streaming DataFrames/Datasets and will be disabled.\n",
      "25/04/03 21:34:17 WARN StreamingQueryManager: Stopping existing streaming query [id=ce9d1f4b-ce85-433c-af5b-f91a6c1d7fa9, runId=3a89ee31-0de4-45fb-8569-59dc5dd68060], as a new run is being started.\n"
     ]
    },
    {
     "name": "stdout",
     "output_type": "stream",
     "text": [
      "-------------------------------------------\n",
      "Batch: 2\n",
      "-------------------------------------------\n",
      "+--------------------+-------------------+-----+--------------------+-------------+\n",
      "|               value|          timestamp|level|             message|       server|\n",
      "+--------------------+-------------------+-----+--------------------+-------------+\n",
      "|2025-04-03 $H:34:...|2025-04-03 $H:34:16|ERROR|500 Internal Serv...|server-node-2|\n",
      "|2025-04-03 $H:34:...|2025-04-03 $H:34:16|ERROR|500 Internal Serv...|server-node-2|\n",
      "|2025-04-03 $H:34:...|2025-04-03 $H:34:16|ERROR|500 Internal Serv...|server-node-1|\n",
      "|2025-04-03 $H:34:...|2025-04-03 $H:34:16|ERROR|500 Internal Serv...|server-node-2|\n",
      "|2025-04-03 $H:34:...|2025-04-03 $H:34:16|ERROR|500 Internal Serv...|server-node-3|\n",
      "|2025-04-03 $H:34:...|2025-04-03 $H:34:16|ERROR|500 Internal Serv...|server-node-2|\n",
      "|2025-04-03 $H:34:...|2025-04-03 $H:34:16|ERROR|500 Internal Serv...|server-node-3|\n",
      "|2025-04-03 $H:34:...|2025-04-03 $H:34:16|ERROR|500 Internal Serv...|server-node-3|\n",
      "|2025-04-03 $H:34:...|2025-04-03 $H:34:16|ERROR|500 Internal Serv...|server-node-3|\n",
      "|2025-04-03 $H:34:...|2025-04-03 $H:34:16|ERROR|500 Internal Serv...|server-node-2|\n",
      "|2025-04-03 $H:34:...|2025-04-03 $H:34:16|ERROR|500 Internal Serv...|server-node-2|\n",
      "|2025-04-03 $H:34:...|2025-04-03 $H:34:16|ERROR|500 Internal Serv...|server-node-2|\n",
      "|2025-04-03 $H:34:...|2025-04-03 $H:34:16|ERROR|500 Internal Serv...|server-node-2|\n",
      "|2025-04-03 $H:34:...|2025-04-03 $H:34:16|ERROR|500 Internal Serv...|server-node-2|\n",
      "|2025-04-03 $H:34:...|2025-04-03 $H:34:16|ERROR|500 Internal Serv...|server-node-1|\n",
      "|2025-04-03 $H:34:...|2025-04-03 $H:34:16|ERROR|500 Internal Serv...|server-node-1|\n",
      "|2025-04-03 $H:34:...|2025-04-03 $H:34:16|ERROR|500 Internal Serv...|server-node-1|\n",
      "|2025-04-03 $H:34:...|2025-04-03 $H:34:16|ERROR|500 Internal Serv...|server-node-1|\n",
      "|2025-04-03 $H:34:...|2025-04-03 $H:34:16|ERROR|500 Internal Serv...|server-node-3|\n",
      "|2025-04-03 $H:34:...|2025-04-03 $H:34:16|ERROR|500 Internal Serv...|server-node-2|\n",
      "+--------------------+-------------------+-----+--------------------+-------------+\n",
      "only showing top 20 rows\n",
      "\n",
      "-------------------------------------------\n",
      "Batch: 3\n",
      "-------------------------------------------\n",
      "+--------------------+-------------------+-----+--------------------+-------------+\n",
      "|               value|          timestamp|level|             message|       server|\n",
      "+--------------------+-------------------+-----+--------------------+-------------+\n",
      "|2025-04-03 $H:34:...|2025-04-03 $H:34:21|ERROR|500 Internal Serv...|server-node-1|\n",
      "|2025-04-03 $H:34:...|2025-04-03 $H:34:21|ERROR|500 Internal Serv...|server-node-3|\n",
      "|2025-04-03 $H:34:...|2025-04-03 $H:34:21|ERROR|500 Internal Serv...|server-node-1|\n",
      "|2025-04-03 $H:34:...|2025-04-03 $H:34:21|ERROR|500 Internal Serv...|server-node-1|\n",
      "|2025-04-03 $H:34:...|2025-04-03 $H:34:21|ERROR|500 Internal Serv...|server-node-1|\n",
      "|2025-04-03 $H:34:...|2025-04-03 $H:34:21|ERROR|500 Internal Serv...|server-node-3|\n",
      "|2025-04-03 $H:34:...|2025-04-03 $H:34:21|ERROR|500 Internal Serv...|server-node-2|\n",
      "|2025-04-03 $H:34:...|2025-04-03 $H:34:21|ERROR|500 Internal Serv...|server-node-1|\n",
      "|2025-04-03 $H:34:...|2025-04-03 $H:34:21|ERROR|500 Internal Serv...|server-node-3|\n",
      "|2025-04-03 $H:34:...|2025-04-03 $H:34:21|ERROR|500 Internal Serv...|server-node-1|\n",
      "|2025-04-03 $H:34:...|2025-04-03 $H:34:21|ERROR|500 Internal Serv...|server-node-1|\n",
      "|2025-04-03 $H:34:...|2025-04-03 $H:34:21|ERROR|500 Internal Serv...|server-node-2|\n",
      "|2025-04-03 $H:34:...|2025-04-03 $H:34:21|ERROR|500 Internal Serv...|server-node-3|\n",
      "|2025-04-03 $H:34:...|2025-04-03 $H:34:21|ERROR|500 Internal Serv...|server-node-3|\n",
      "|2025-04-03 $H:34:...|2025-04-03 $H:34:21|ERROR|500 Internal Serv...|server-node-3|\n",
      "|2025-04-03 $H:34:...|2025-04-03 $H:34:21|ERROR|500 Internal Serv...|server-node-2|\n",
      "|2025-04-03 $H:34:...|2025-04-03 $H:34:21|ERROR|500 Internal Serv...|server-node-2|\n",
      "|2025-04-03 $H:34:...|2025-04-03 $H:34:21|ERROR|500 Internal Serv...|server-node-1|\n",
      "|2025-04-03 $H:34:...|2025-04-03 $H:34:21|ERROR|500 Internal Serv...|server-node-3|\n",
      "|2025-04-03 $H:34:...|2025-04-03 $H:34:21|ERROR|500 Internal Serv...|server-node-1|\n",
      "+--------------------+-------------------+-----+--------------------+-------------+\n",
      "only showing top 20 rows\n",
      "\n"
     ]
    },
    {
     "data": {
      "text/plain": [
       "False"
      ]
     },
     "execution_count": 7,
     "metadata": {},
     "output_type": "execute_result"
    },
    {
     "name": "stdout",
     "output_type": "stream",
     "text": [
      "-------------------------------------------\n",
      "Batch: 4\n",
      "-------------------------------------------\n",
      "+--------------------+-------------------+-----+--------------------+-------------+\n",
      "|               value|          timestamp|level|             message|       server|\n",
      "+--------------------+-------------------+-----+--------------------+-------------+\n",
      "|2025-04-03 $H:34:...|2025-04-03 $H:34:36|ERROR|500 Internal Serv...|server-node-1|\n",
      "|2025-04-03 $H:34:...|2025-04-03 $H:34:36|ERROR|500 Internal Serv...|server-node-3|\n",
      "|2025-04-03 $H:34:...|2025-04-03 $H:34:36|ERROR|500 Internal Serv...|server-node-2|\n",
      "|2025-04-03 $H:34:...|2025-04-03 $H:34:36|ERROR|500 Internal Serv...|server-node-2|\n",
      "|2025-04-03 $H:34:...|2025-04-03 $H:34:36|ERROR|500 Internal Serv...|server-node-1|\n",
      "|2025-04-03 $H:34:...|2025-04-03 $H:34:36|ERROR|500 Internal Serv...|server-node-1|\n",
      "|2025-04-03 $H:34:...|2025-04-03 $H:34:36|ERROR|500 Internal Serv...|server-node-2|\n",
      "|2025-04-03 $H:34:...|2025-04-03 $H:34:36|ERROR|500 Internal Serv...|server-node-3|\n",
      "|2025-04-03 $H:34:...|2025-04-03 $H:34:36|ERROR|500 Internal Serv...|server-node-3|\n",
      "|2025-04-03 $H:34:...|2025-04-03 $H:34:36|ERROR|500 Internal Serv...|server-node-3|\n",
      "|2025-04-03 $H:34:...|2025-04-03 $H:34:36|ERROR|500 Internal Serv...|server-node-1|\n",
      "|2025-04-03 $H:34:...|2025-04-03 $H:34:36|ERROR|500 Internal Serv...|server-node-3|\n",
      "|2025-04-03 $H:34:...|2025-04-03 $H:34:36|ERROR|500 Internal Serv...|server-node-3|\n",
      "|2025-04-03 $H:34:...|2025-04-03 $H:34:36|ERROR|500 Internal Serv...|server-node-3|\n",
      "|2025-04-03 $H:34:...|2025-04-03 $H:34:36|ERROR|500 Internal Serv...|server-node-3|\n",
      "|2025-04-03 $H:34:...|2025-04-03 $H:34:36|ERROR|500 Internal Serv...|server-node-2|\n",
      "|2025-04-03 $H:34:...|2025-04-03 $H:34:36|ERROR|500 Internal Serv...|server-node-2|\n",
      "|2025-04-03 $H:34:...|2025-04-03 $H:34:36|ERROR|500 Internal Serv...|server-node-3|\n",
      "|2025-04-03 $H:34:...|2025-04-03 $H:34:36|ERROR|500 Internal Serv...|server-node-3|\n",
      "|2025-04-03 $H:34:...|2025-04-03 $H:34:36|ERROR|500 Internal Serv...|server-node-1|\n",
      "+--------------------+-------------------+-----+--------------------+-------------+\n",
      "only showing top 20 rows\n",
      "\n",
      "-------------------------------------------\n",
      "Batch: 5\n",
      "-------------------------------------------\n",
      "+--------------------+-------------------+-----+--------------------+-------------+\n",
      "|               value|          timestamp|level|             message|       server|\n",
      "+--------------------+-------------------+-----+--------------------+-------------+\n",
      "|2025-04-03 $H:34:...|2025-04-03 $H:34:46|ERROR|500 Internal Serv...|server-node-3|\n",
      "|2025-04-03 $H:34:...|2025-04-03 $H:34:46|ERROR|500 Internal Serv...|server-node-2|\n",
      "|2025-04-03 $H:34:...|2025-04-03 $H:34:46|ERROR|500 Internal Serv...|server-node-2|\n",
      "|2025-04-03 $H:34:...|2025-04-03 $H:34:46|ERROR|500 Internal Serv...|server-node-1|\n",
      "|2025-04-03 $H:34:...|2025-04-03 $H:34:46|ERROR|500 Internal Serv...|server-node-2|\n",
      "|2025-04-03 $H:34:...|2025-04-03 $H:34:46|ERROR|500 Internal Serv...|server-node-3|\n",
      "|2025-04-03 $H:34:...|2025-04-03 $H:34:46|ERROR|500 Internal Serv...|server-node-2|\n",
      "|2025-04-03 $H:34:...|2025-04-03 $H:34:46|ERROR|500 Internal Serv...|server-node-3|\n",
      "|2025-04-03 $H:34:...|2025-04-03 $H:34:46|ERROR|500 Internal Serv...|server-node-1|\n",
      "|2025-04-03 $H:34:...|2025-04-03 $H:34:46|ERROR|500 Internal Serv...|server-node-3|\n",
      "|2025-04-03 $H:34:...|2025-04-03 $H:34:46|ERROR|500 Internal Serv...|server-node-3|\n",
      "|2025-04-03 $H:34:...|2025-04-03 $H:34:46|ERROR|500 Internal Serv...|server-node-3|\n",
      "|2025-04-03 $H:34:...|2025-04-03 $H:34:46|ERROR|500 Internal Serv...|server-node-2|\n",
      "|2025-04-03 $H:34:...|2025-04-03 $H:34:46|ERROR|500 Internal Serv...|server-node-3|\n",
      "|2025-04-03 $H:34:...|2025-04-03 $H:34:46|ERROR|500 Internal Serv...|server-node-3|\n",
      "|2025-04-03 $H:34:...|2025-04-03 $H:34:46|ERROR|500 Internal Serv...|server-node-3|\n",
      "|2025-04-03 $H:34:...|2025-04-03 $H:34:46|ERROR|500 Internal Serv...|server-node-1|\n",
      "|2025-04-03 $H:34:...|2025-04-03 $H:34:46|ERROR|500 Internal Serv...|server-node-2|\n",
      "|2025-04-03 $H:34:...|2025-04-03 $H:34:46|ERROR|500 Internal Serv...|server-node-1|\n",
      "|2025-04-03 $H:34:...|2025-04-03 $H:34:46|ERROR|500 Internal Serv...|server-node-1|\n",
      "+--------------------+-------------------+-----+--------------------+-------------+\n",
      "only showing top 20 rows\n",
      "\n",
      "-------------------------------------------\n",
      "Batch: 6\n",
      "-------------------------------------------\n",
      "+--------------------+-------------------+-----+--------------------+-------------+\n",
      "|               value|          timestamp|level|             message|       server|\n",
      "+--------------------+-------------------+-----+--------------------+-------------+\n",
      "|2025-04-03 $H:34:...|2025-04-03 $H:34:56|ERROR|500 Internal Serv...|server-node-1|\n",
      "|2025-04-03 $H:34:...|2025-04-03 $H:34:56|ERROR|500 Internal Serv...|server-node-2|\n",
      "|2025-04-03 $H:34:...|2025-04-03 $H:34:56|ERROR|500 Internal Serv...|server-node-3|\n",
      "|2025-04-03 $H:34:...|2025-04-03 $H:34:56|ERROR|500 Internal Serv...|server-node-3|\n",
      "|2025-04-03 $H:34:...|2025-04-03 $H:34:56|ERROR|500 Internal Serv...|server-node-1|\n",
      "|2025-04-03 $H:34:...|2025-04-03 $H:34:56|ERROR|500 Internal Serv...|server-node-1|\n",
      "|2025-04-03 $H:34:...|2025-04-03 $H:34:56|ERROR|500 Internal Serv...|server-node-2|\n",
      "|2025-04-03 $H:34:...|2025-04-03 $H:34:56|ERROR|500 Internal Serv...|server-node-3|\n",
      "|2025-04-03 $H:34:...|2025-04-03 $H:34:56|ERROR|500 Internal Serv...|server-node-3|\n",
      "|2025-04-03 $H:34:...|2025-04-03 $H:34:56|ERROR|500 Internal Serv...|server-node-1|\n",
      "|2025-04-03 $H:34:...|2025-04-03 $H:34:56|ERROR|500 Internal Serv...|server-node-2|\n",
      "|2025-04-03 $H:34:...|2025-04-03 $H:34:56|ERROR|500 Internal Serv...|server-node-1|\n",
      "|2025-04-03 $H:34:...|2025-04-03 $H:34:56|ERROR|500 Internal Serv...|server-node-3|\n",
      "|2025-04-03 $H:34:...|2025-04-03 $H:34:56|ERROR|500 Internal Serv...|server-node-3|\n",
      "|2025-04-03 $H:34:...|2025-04-03 $H:34:56|ERROR|500 Internal Serv...|server-node-2|\n",
      "|2025-04-03 $H:34:...|2025-04-03 $H:34:56|ERROR|500 Internal Serv...|server-node-1|\n",
      "|2025-04-03 $H:34:...|2025-04-03 $H:34:56|ERROR|500 Internal Serv...|server-node-3|\n",
      "|2025-04-03 $H:34:...|2025-04-03 $H:34:56|ERROR|500 Internal Serv...|server-node-2|\n",
      "|2025-04-03 $H:34:...|2025-04-03 $H:34:56|ERROR|500 Internal Serv...|server-node-1|\n",
      "|2025-04-03 $H:34:...|2025-04-03 $H:34:56|ERROR|500 Internal Serv...|server-node-3|\n",
      "+--------------------+-------------------+-----+--------------------+-------------+\n",
      "only showing top 20 rows\n",
      "\n",
      "-------------------------------------------\n",
      "Batch: 7\n",
      "-------------------------------------------\n",
      "+--------------------+-------------------+-----+--------------------+-------------+\n",
      "|               value|          timestamp|level|             message|       server|\n",
      "+--------------------+-------------------+-----+--------------------+-------------+\n",
      "|2025-04-03 $H:35:...|2025-04-03 $H:35:06|ERROR|500 Internal Serv...|server-node-3|\n",
      "|2025-04-03 $H:35:...|2025-04-03 $H:35:06|ERROR|500 Internal Serv...|server-node-3|\n",
      "|2025-04-03 $H:35:...|2025-04-03 $H:35:06|ERROR|500 Internal Serv...|server-node-3|\n",
      "|2025-04-03 $H:35:...|2025-04-03 $H:35:06|ERROR|500 Internal Serv...|server-node-3|\n",
      "|2025-04-03 $H:35:...|2025-04-03 $H:35:06|ERROR|500 Internal Serv...|server-node-3|\n",
      "|2025-04-03 $H:35:...|2025-04-03 $H:35:06|ERROR|500 Internal Serv...|server-node-2|\n",
      "|2025-04-03 $H:35:...|2025-04-03 $H:35:06|ERROR|500 Internal Serv...|server-node-3|\n",
      "|2025-04-03 $H:35:...|2025-04-03 $H:35:06|ERROR|500 Internal Serv...|server-node-2|\n",
      "|2025-04-03 $H:35:...|2025-04-03 $H:35:06|ERROR|500 Internal Serv...|server-node-3|\n",
      "|2025-04-03 $H:35:...|2025-04-03 $H:35:06|ERROR|500 Internal Serv...|server-node-1|\n",
      "|2025-04-03 $H:35:...|2025-04-03 $H:35:06|ERROR|500 Internal Serv...|server-node-1|\n",
      "|2025-04-03 $H:35:...|2025-04-03 $H:35:06|ERROR|500 Internal Serv...|server-node-1|\n",
      "|2025-04-03 $H:35:...|2025-04-03 $H:35:06|ERROR|500 Internal Serv...|server-node-1|\n",
      "|2025-04-03 $H:35:...|2025-04-03 $H:35:06|ERROR|500 Internal Serv...|server-node-1|\n",
      "|2025-04-03 $H:35:...|2025-04-03 $H:35:06|ERROR|500 Internal Serv...|server-node-1|\n",
      "|2025-04-03 $H:35:...|2025-04-03 $H:35:06|ERROR|500 Internal Serv...|server-node-3|\n",
      "|2025-04-03 $H:35:...|2025-04-03 $H:35:06|ERROR|500 Internal Serv...|server-node-2|\n",
      "|2025-04-03 $H:35:...|2025-04-03 $H:35:06|ERROR|500 Internal Serv...|server-node-1|\n",
      "|2025-04-03 $H:35:...|2025-04-03 $H:35:06|ERROR|500 Internal Serv...|server-node-1|\n",
      "|2025-04-03 $H:35:...|2025-04-03 $H:35:06|ERROR|500 Internal Serv...|server-node-3|\n",
      "+--------------------+-------------------+-----+--------------------+-------------+\n",
      "only showing top 20 rows\n",
      "\n"
     ]
    }
   ],
   "source": [
    "query = critical_errors.writeStream \\\n",
    "    .outputMode(\"append\") \\\n",
    "    .format(\"console\") \\\n",
    "    .option(\"checkpointLocation\", \"/home/jovyan/notebooks/data/checkpoint_lab07\") \\\n",
    "    .trigger(processingTime=\"10 seconds\") \\\n",
    "    .start()\n",
    "\n",
    "query.awaitTermination(15)\n"
   ]
  },
  {
   "cell_type": "code",
   "execution_count": 17,
   "metadata": {},
   "outputs": [],
   "source": [
    "query.stop()"
   ]
  }
 ],
 "metadata": {
  "kernelspec": {
   "display_name": "Python 3 (ipykernel)",
   "language": "python",
   "name": "python3"
  },
  "language_info": {
   "codemirror_mode": {
    "name": "ipython",
    "version": 3
   },
   "file_extension": ".py",
   "mimetype": "text/x-python",
   "name": "python",
   "nbconvert_exporter": "python",
   "pygments_lexer": "ipython3",
   "version": "3.11.6"
  }
 },
 "nbformat": 4,
 "nbformat_minor": 2
}
