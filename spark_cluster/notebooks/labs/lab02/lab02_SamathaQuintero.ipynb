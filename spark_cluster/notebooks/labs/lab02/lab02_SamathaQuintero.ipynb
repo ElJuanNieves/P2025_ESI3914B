{
 "cells": [
  {
   "cell_type": "markdown",
   "metadata": {},
   "source": [
    "# <center> <img src=\"img/ITESOLogo.png\" alt=\"ITESO\" width=\"480\" height=\"130\"> </center>\n",
    "# <center> **Departamento de Electrónica, Sistemas e Informática** </center>\n",
    "---\n",
    "## <center> **Carrera: <Coloca el nombre de tu carrera aqui>** </center>\n",
    "---\n",
    "### <center> **Primavera 2025** </center>\n",
    "---\n",
    "\n",
    "**Lab XX**:2\n",
    "\n",
    "**Fecha**:\n",
    "\n",
    "**Nombre del Estudiante**: Samantha Abigail Quintero Valadez\n",
    "\n",
    "**Profesor**: Pablo Camarillo Ramirez"
   ]
  },
  {
   "cell_type": "code",
   "execution_count": 14,
   "metadata": {},
   "outputs": [
    {
     "name": "stdout",
     "output_type": "stream",
     "text": [
      "Hola Mundo\n",
      "16\n",
      "27\n"
     ]
    }
   ],
   "source": [
    "#Functions\n",
    "def greet():\n",
    "    return \"Hola Mundo\"\n",
    "def square(*args):\n",
    "    return args[0]**2\n",
    "def cube(*args):\n",
    "    return args[0]**3\n",
    "\n",
    "#dictionary\n",
    "functions={\n",
    "    \"greet\":greet,\n",
    "    \"square\":square,\n",
    "    \"cube\":cube\n",
    "}\n",
    "\n",
    "def execute_command(*args):\n",
    "    func=functions[args[0]]\n",
    "    if len(args)>1:\n",
    "        print(func(args[1]))\n",
    "    else:\n",
    "        print(func())\n",
    "    \n",
    "    \n",
    "execute_command(\"greet\")\n",
    "execute_command(\"square\",4)\n",
    "execute_command(\"cube\",3)\n"
   ]
  }
 ],
 "metadata": {
  "kernelspec": {
   "display_name": "Python 3 (ipykernel)",
   "language": "python",
   "name": "python3"
  },
  "language_info": {
   "codemirror_mode": {
    "name": "ipython",
    "version": 3
   },
   "file_extension": ".py",
   "mimetype": "text/x-python",
   "name": "python",
   "nbconvert_exporter": "python",
   "pygments_lexer": "ipython3",
   "version": "3.11.6"
  }
 },
 "nbformat": 4,
 "nbformat_minor": 2
}
