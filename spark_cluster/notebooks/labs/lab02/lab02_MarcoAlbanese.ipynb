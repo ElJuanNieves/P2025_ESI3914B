{
 "cells": [
  {
   "cell_type": "markdown",
   "metadata": {},
   "source": [
    "# <center> <img src=\"img/ITESOLogo.png\" alt=\"ITESO\" width=\"480\" height=\"130\"> </center>\n",
    "# <center> **Departamento de Electrónica, Sistemas e Informática** </center>\n",
    "---\n",
    "## <center> **Carrera: <Coloca el nombre de tu carrera aqui>** </center>\n",
    "---\n",
    "### <center> **Primavera 2025** </center>\n",
    "---\n",
    "\n",
    "**Lab 02**: Dynamic Function Execution Using a Dictionary\n",
    "\n",
    "**Fecha**: Martes 4 de febrero del 2025\n",
    "\n",
    "**Nombre del Estudiante**: Marco Albanese\n",
    "\n",
    "**Profesor**: Pablo Camarillo Ramirez"
   ]
  },
  {
   "cell_type": "markdown",
   "metadata": {},
   "source": [
    "##### Create a program that uses a dictionary to map string commands to functions. Allow the user to input a command and execute the corresponding function (e.g., \"greet\", \"square\", \"cube\").\n",
    "##### Example usage:\n",
    "```python\n",
    "execute_command(\"greet\")       # Output: Hello, World!\n",
    "execute_command(\"square\", 4)   # Output: 16\n",
    "execute_command(\"cube\", 3)     # Output: 27\n",
    "```"
   ]
  },
  {
   "cell_type": "markdown",
   "metadata": {},
   "source": [
    "1. Create the three main functions for commands"
   ]
  },
  {
   "cell_type": "code",
   "execution_count": 227,
   "metadata": {},
   "outputs": [],
   "source": [
    "def greet(*args):\n",
    "    # Check if arguments were used for 'greet'\n",
    "    if len(args) > 0:\n",
    "        print(\"Do not use arguments for 'greet'\")\n",
    "        return\n",
    "    # Print message\n",
    "    print(\"Hello, World!\")\n",
    "\n",
    "def square(*args):\n",
    "    x = args[0]\n",
    "    # Square number and print result\n",
    "    print(x ** 2)\n",
    "\n",
    "def cube(*args):\n",
    "    x = args[0]\n",
    "    # Cube number and print result\n",
    "    print(x ** 3)"
   ]
  },
  {
   "cell_type": "markdown",
   "metadata": {},
   "source": [
    "2. Create the dictionary to store the functions"
   ]
  },
  {
   "cell_type": "code",
   "execution_count": 228,
   "metadata": {},
   "outputs": [],
   "source": [
    "# Following example of class slides\n",
    "commands = {\n",
    "    'greet': greet,\n",
    "    'square': square,\n",
    "    'cube': cube\n",
    "}"
   ]
  },
  {
   "cell_type": "markdown",
   "metadata": {},
   "source": [
    "3. Create function to execute commands"
   ]
  },
  {
   "cell_type": "code",
   "execution_count": 229,
   "metadata": {},
   "outputs": [],
   "source": [
    "def execute_commands(command, *args):\n",
    "    # Check if entered command is present in dictionary\n",
    "    if command in commands:\n",
    "        # Check if number of arguments is 1\n",
    "        if len(args) == 1:\n",
    "            # Check if argument is an integer\n",
    "            # (functions that take arguments only take integers)\n",
    "            if isinstance(args[0], int):\n",
    "                commands[command](*args)\n",
    "            # If not an integer, print error\n",
    "            else:\n",
    "                print(\"You may not use non-integers as arguments\")\n",
    "        # If no arguments, proceed as normal\n",
    "        elif len(args) < 1:\n",
    "            commands[command](*args)\n",
    "        # If more than 1 argument, print error\n",
    "        else:\n",
    "            print(\"You used too many arguments. Please try again.\")\n",
    "    # If command not found, print error\n",
    "    else:\n",
    "        print(\"The command was not found. Please try again.\")"
   ]
  },
  {
   "cell_type": "markdown",
   "metadata": {},
   "source": [
    "4. Test the commands (following example usage of class slides)"
   ]
  },
  {
   "cell_type": "code",
   "execution_count": 230,
   "metadata": {},
   "outputs": [
    {
     "name": "stdout",
     "output_type": "stream",
     "text": [
      "Hello, World!\n"
     ]
    }
   ],
   "source": [
    "execute_commands(\"greet\")       # Expected output is: Hello, World!"
   ]
  },
  {
   "cell_type": "code",
   "execution_count": 231,
   "metadata": {},
   "outputs": [
    {
     "name": "stdout",
     "output_type": "stream",
     "text": [
      "16\n"
     ]
    }
   ],
   "source": [
    "execute_commands(\"square\", 4)   # Expected output is: 16"
   ]
  },
  {
   "cell_type": "code",
   "execution_count": 232,
   "metadata": {},
   "outputs": [
    {
     "name": "stdout",
     "output_type": "stream",
     "text": [
      "27\n"
     ]
    }
   ],
   "source": [
    "execute_commands(\"cube\", 3)     # Expected output is: 27"
   ]
  }
 ],
 "metadata": {
  "kernelspec": {
   "display_name": "Python 3 (ipykernel)",
   "language": "python",
   "name": "python3"
  },
  "language_info": {
   "codemirror_mode": {
    "name": "ipython",
    "version": 3
   },
   "file_extension": ".py",
   "mimetype": "text/x-python",
   "name": "python",
   "nbconvert_exporter": "python",
   "pygments_lexer": "ipython3",
   "version": "3.11.6"
  }
 },
 "nbformat": 4,
 "nbformat_minor": 2
}
