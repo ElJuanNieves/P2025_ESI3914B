{
 "cells": [
  {
   "cell_type": "markdown",
   "metadata": {},
   "source": [
    "# <center> <img src=\"../img/ITESOLogo.png\" alt=\"ITESO\" width=\"480\" height=\"130\"> </center>\n",
    "# <center> **Departamento de Electrónica, Sistemas e Informática** </center>\n",
    "---\n",
    "## <center> **Carrera: Ingeniería en Sistemas Computacionales** </center>\n",
    "---\n",
    "### <center> **Primavera 2025** </center>\n",
    "---\n",
    "\n",
    "**Lab 02**: Dynamic Function Execution Using a Dictionary\n",
    "\n",
    "**Fecha**: 04/02/2024\n",
    "\n",
    "**Nombre del Estudiante**: Arturo Benjamin Vergara Romo\n",
    "\n",
    "**Profesor**: Pablo Camarillo Ramirez"
   ]
  },
  {
   "cell_type": "code",
   "execution_count": 21,
   "metadata": {},
   "outputs": [],
   "source": [
    "def execute_command(function_name, *args):\n",
    "    functions = {}\n",
    "\n",
    "    def task(task_fn):\n",
    "        functions[task_fn.__name__] = task_fn\n",
    "    \n",
    "    @task\n",
    "    def greet():\n",
    "        print (\"Hello, World!\")\n",
    "    \n",
    "    @task\n",
    "    def square(length):\n",
    "        print (length ** 2)\n",
    "\n",
    "    @task\n",
    "    def cube(length):\n",
    "        print (length ** 3)\n",
    "    \n",
    "    if function_name in functions:\n",
    "        functions[function_name](*args)\n",
    "    else:\n",
    "        print(\"Function does not exist :(\")"
   ]
  },
  {
   "cell_type": "code",
   "execution_count": 22,
   "metadata": {},
   "outputs": [
    {
     "name": "stdout",
     "output_type": "stream",
     "text": [
      "Hello, World!\n",
      "16\n",
      "27\n"
     ]
    }
   ],
   "source": [
    "execute_command(\"greet\")\n",
    "execute_command(\"square\", 4)\n",
    "execute_command(\"cube\", 3)"
   ]
  }
 ],
 "metadata": {
  "kernelspec": {
   "display_name": "Python 3 (ipykernel)",
   "language": "python",
   "name": "python3"
  },
  "language_info": {
   "codemirror_mode": {
    "name": "ipython",
    "version": 3
   },
   "file_extension": ".py",
   "mimetype": "text/x-python",
   "name": "python",
   "nbconvert_exporter": "python",
   "pygments_lexer": "ipython3",
   "version": "3.11.6"
  }
 },
 "nbformat": 4,
 "nbformat_minor": 2
}
