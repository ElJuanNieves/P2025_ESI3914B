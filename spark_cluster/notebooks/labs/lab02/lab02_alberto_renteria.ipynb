{
 "cells": [
  {
   "cell_type": "markdown",
   "metadata": {},
   "source": [
    "# <center> <img src=\"../img/ITESOLogo.png\" alt=\"ITESO\" width=\"480\" height=\"130\"> </center>\n",
    "# <center> **Departamento de Electrónica, Sistemas e Informática** </center>\n",
    "---\n",
    "## <center> **Carrera: Ingeniería en Sistemas Computacionales** </center>\n",
    "---\n",
    "### <center> **Primavera 2025** </center>\n",
    "---\n",
    "\n",
    "**Lab XX**: 02\n",
    "\n",
    "**Fecha**: 04/02/2025\n",
    "\n",
    "**Nombre del Estudiante**: Alberto Renteria Camacho\n",
    "\n",
    "**Profesor**: Pablo Camarillo Ramirez"
   ]
  },
  {
   "cell_type": "code",
   "execution_count": 7,
   "metadata": {},
   "outputs": [
    {
     "name": "stdout",
     "output_type": "stream",
     "text": [
      "Hello, World!\n",
      "16\n",
      "27\n"
     ]
    }
   ],
   "source": [
    "def excetute_command(*args):\n",
    "    function_dict = {\n",
    "        \"greet\": lambda: \"Hello, World!\",\n",
    "        \"square\": lambda x: x**2,\n",
    "        \"cube\": lambda x: x**3,\n",
    "    }\n",
    "\n",
    "    if len(args) == 1:\n",
    "        print(function_dict[args[0]]())\n",
    "    else:\n",
    "        print(function_dict[args[0]](args[1]))\n",
    "\n",
    "excetute_command('greet')\n",
    "excetute_command('square', 4)\n",
    "excetute_command('cube', 3)\n"
   ]
  }
 ],
 "metadata": {
  "kernelspec": {
   "display_name": "Python 3 (ipykernel)",
   "language": "python",
   "name": "python3"
  },
  "language_info": {
   "codemirror_mode": {
    "name": "ipython",
    "version": 3
   },
   "file_extension": ".py",
   "mimetype": "text/x-python",
   "name": "python",
   "nbconvert_exporter": "python",
   "pygments_lexer": "ipython3",
   "version": "3.11.6"
  }
 },
 "nbformat": 4,
 "nbformat_minor": 2
}
