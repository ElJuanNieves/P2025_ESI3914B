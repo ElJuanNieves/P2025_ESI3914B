{
 "cells": [
  {
   "cell_type": "markdown",
   "id": "06c758ae-b768-428f-b0f3-96e9ae607cab",
   "metadata": {},
   "source": [
    "# <center> <img src=\"../img/ITESOLogo.png\" alt=\"ITESO\" width=\"480\" height=\"130\"> </center>\n",
    "# <center> **Departamento de Electrónica, Sistemas e Informática** </center>\n",
    "---\n",
    "## <center> **Carrera: Ingeniería en Sistemas Computacionales** </center>\n",
    "---\n",
    "### <center> **Primavera 2025** </center>\n",
    "---\n",
    "\n",
    "**Lab 02**: Dynamic Function Execution Using a Dictionary\n",
    "\n",
    "**Fecha**: 04/02/2025\n",
    "\n",
    "**Nombre del Estudiante**: Luis Raúl Acosta Mendoza\n",
    "\n",
    "**Profesor**: Pablo Camarillo Ramirez"
   ]
  },
  {
   "cell_type": "code",
   "execution_count": 25,
   "id": "7d03542b-8337-4bfc-8309-4801236cabeb",
   "metadata": {},
   "outputs": [],
   "source": [
    "def greet():\n",
    "    return \"Hello World!\"\n",
    "\n",
    "\n",
    "def square(n):\n",
    "    return n ** 2\n",
    "\n",
    "\n",
    "def cube(n):\n",
    "    return n ** 3\n",
    "\n",
    "\n",
    "def execute_command(command, *args):\n",
    "    functions = {\n",
    "        \"greet\": greet,\n",
    "        \"square\": square,\n",
    "        \"cube\": cube\n",
    "    }\n",
    "\n",
    "    return functions[command](*args)"
   ]
  },
  {
   "cell_type": "code",
   "execution_count": 29,
   "id": "21e549dc-bad8-459f-ab94-4cd5b2484f1d",
   "metadata": {},
   "outputs": [
    {
     "name": "stdout",
     "output_type": "stream",
     "text": [
      "Hello World!\n",
      "25\n",
      "729\n"
     ]
    }
   ],
   "source": [
    "# Testing the functions\n",
    "print(execute_command(\"greet\"))\n",
    "print(execute_command(\"square\", 5))\n",
    "print(execute_command(\"cube\", 9))"
   ]
  }
 ],
 "metadata": {
  "kernelspec": {
   "display_name": "Python 3 (ipykernel)",
   "language": "python",
   "name": "python3"
  },
  "language_info": {
   "codemirror_mode": {
    "name": "ipython",
    "version": 3
   },
   "file_extension": ".py",
   "mimetype": "text/x-python",
   "name": "python",
   "nbconvert_exporter": "python",
   "pygments_lexer": "ipython3",
   "version": "3.11.6"
  }
 },
 "nbformat": 4,
 "nbformat_minor": 5
}
