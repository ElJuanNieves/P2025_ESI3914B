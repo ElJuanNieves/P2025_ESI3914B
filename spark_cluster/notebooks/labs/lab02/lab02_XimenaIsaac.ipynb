{
 "cells": [
  {
   "cell_type": "markdown",
   "metadata": {},
   "source": [
    "# <center> <img src=\"../img/ITESOLogo.png\" alt=\"ITESO\" width=\"480\" height=\"130\"> </center>\n",
    "# <center> **Departamento de Electrónica, Sistemas e Informática** </center>\n",
    "---\n",
    "## <center> **Carrera: Ingeniería en Sistemas Computacionales** </center>\n",
    "---\n",
    "### <center> **Primavera 2025** </center>\n",
    "---\n",
    "\n",
    "**Lab 02**: Dynamic Function Execution Using a Dictionary\n",
    "\n",
    "**Fecha**: 04/02/2025\n",
    "\n",
    "**Nombre del Estudiante**: Ximena Isaac Horta\n",
    "\n",
    "**Profesor**: Pablo Camarillo Ramirez"
   ]
  },
  {
   "cell_type": "markdown",
   "metadata": {},
   "source": [
    "---\n",
    "\n",
    "Create a program that uses a dictionary to map string commands to functions. Allow the user to input a command and execute the corresponding function (e.g., \"greet\", \"square\", \"cube\")."
   ]
  },
  {
   "attachments": {
    "image.png": {
     "image/png": "[encoded data removed]"
    }
   },
   "cell_type": "markdown",
   "metadata": {},
   "source": [
    "![image.png](attachment:image.png)"
   ]
  },
  {
   "cell_type": "markdown",
   "metadata": {},
   "source": [
    "Funciones:"
   ]
  },
  {
   "cell_type": "code",
   "execution_count": 1,
   "metadata": {},
   "outputs": [],
   "source": [
    "def greet():\n",
    "    return \"Hello, World!\"\n",
    "\n",
    "def square(num):\n",
    "    return num * num\n",
    "\n",
    "def cube(num):\n",
    "    return num * num * num"
   ]
  },
  {
   "cell_type": "markdown",
   "metadata": {},
   "source": [
    "Definición del mapa:"
   ]
  },
  {
   "cell_type": "code",
   "execution_count": 2,
   "metadata": {},
   "outputs": [],
   "source": [
    "map = {\n",
    "    \"greet\": greet,\n",
    "    \"square\": square,\n",
    "    \"cube\": cube\n",
    "}"
   ]
  },
  {
   "cell_type": "markdown",
   "metadata": {},
   "source": [
    "Mapeo:"
   ]
  },
  {
   "cell_type": "code",
   "execution_count": 3,
   "metadata": {},
   "outputs": [],
   "source": [
    "def execute_command(command, arg=None):\n",
    "    if command in map:\n",
    "        func = map[command]\n",
    "        if arg is not None:\n",
    "            return func(arg)\n",
    "        else:\n",
    "            return func()\n",
    "    else:\n",
    "        return \"Invalid command\""
   ]
  },
  {
   "cell_type": "markdown",
   "metadata": {},
   "source": [
    "Impresión en consola:"
   ]
  },
  {
   "cell_type": "code",
   "execution_count": 4,
   "metadata": {},
   "outputs": [
    {
     "name": "stdout",
     "output_type": "stream",
     "text": [
      "Options:\n",
      "------------------------------\n",
      "Hello, World!\n",
      "16\n",
      "27\n",
      "------------------------------\n"
     ]
    }
   ],
   "source": [
    "print(\"-\" * 30)\n",
    "print(execute_command(\"greet\"))\n",
    "print(execute_command(\"square\", 4))\n",
    "print(execute_command(\"cube\", 3))\n",
    "print(\"-\" * 30)"
   ]
  },
  {
   "cell_type": "markdown",
   "metadata": {},
   "source": [
    "Selección de comando:"
   ]
  },
  {
   "cell_type": "code",
   "execution_count": null,
   "metadata": {},
   "outputs": [],
   "source": [
    "while True:\n",
    "    command = input(\"Insert a command or 'exit'): \")\n",
    "    if command == \"exit\":\n",
    "        break\n",
    "\n",
    "    numInput = input(\"Type a number to calculate (to greet press Enter): \")\n",
    "    arg = None\n",
    "    if numInput:\n",
    "        try:\n",
    "            arg = int(numInput)\n",
    "        except ValueError:\n",
    "            print(\"Invalid numbre\")\n",
    "            continue\n"
   ]
  },
  {
   "cell_type": "markdown",
   "metadata": {},
   "source": [
    "Resultados:"
   ]
  },
  {
   "cell_type": "code",
   "execution_count": null,
   "metadata": {},
   "outputs": [],
   "source": [
    "\n",
    "result = execute_command(command, arg)\n",
    "print(\"Output:\", result)"
   ]
  }
 ],
 "metadata": {
  "kernelspec": {
   "display_name": "Python 3",
   "language": "python",
   "name": "python3"
  },
  "language_info": {
   "codemirror_mode": {
    "name": "ipython",
    "version": 3
   },
   "file_extension": ".py",
   "mimetype": "text/x-python",
   "name": "python",
   "nbconvert_exporter": "python",
   "pygments_lexer": "ipython3",
   "version": "3.12.6"
  }
 },
 "nbformat": 4,
 "nbformat_minor": 4
}
