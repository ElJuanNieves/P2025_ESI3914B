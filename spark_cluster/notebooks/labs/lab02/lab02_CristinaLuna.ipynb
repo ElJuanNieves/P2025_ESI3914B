{
 "cells": [
  {
   "cell_type": "markdown",
   "metadata": {},
   "source": [
    "# <center> <img src=\"img/ITESOLogo.png\" alt=\"ITESO\" width=\"480\" height=\"130\"> </center>\n",
    "# <center> **Departamento de Electrónica, Sistemas e Informática** </center>\n",
    "---\n",
    "## <center> **Carrera: <Ing. Sistemas Computacionales>** </center>\n",
    "---\n",
    "### <center> **Primavera 2025** </center>\n",
    "---\n",
    "\n",
    "**Lab 02**: Dynamic Function Execution Using a Dictionary\n",
    "\n",
    "**Fecha**: 04/02/2024\n",
    "\n",
    "**Nombre del Estudiante**: Ana Cristina Luna Arellano\n",
    "\n",
    "**Profesor**: Pablo Camarillo Ramirez"
   ]
  },
  {
   "cell_type": "code",
   "execution_count": 1,
   "metadata": {},
   "outputs": [],
   "source": [
    "def greet():\n",
    "    return \"Hello, World!\"\n",
    "\n",
    "def square(x):\n",
    "    return x ** 2\n",
    "\n",
    "def cube(x):\n",
    "    return x ** 3\n",
    "\n",
    "commands = {\n",
    "    \"greet\": greet,\n",
    "    \"square\": lambda x: square(x),\n",
    "    \"cube\": lambda x: cube(x)\n",
    "}\n",
    "\n",
    "def execute_command(command, *args):\n",
    "    if command in commands:\n",
    "        return commands[command](*args)\n",
    "    else:\n",
    "        return \"Command not found\"\n",
    "\n",
    "\n"
   ]
  },
  {
   "cell_type": "code",
   "execution_count": 2,
   "metadata": {},
   "outputs": [
    {
     "name": "stdout",
     "output_type": "stream",
     "text": [
      "Hello, World!\n",
      "16\n",
      "27\n"
     ]
    }
   ],
   "source": [
    "print(execute_command(\"greet\"))  \n",
    "print(execute_command(\"square\", 4)) \n",
    "print(execute_command(\"cube\", 3)) "
   ]
  }
 ],
 "metadata": {
  "kernelspec": {
   "display_name": "Python 3 (ipykernel)",
   "language": "python",
   "name": "python3"
  },
  "language_info": {
   "codemirror_mode": {
    "name": "ipython",
    "version": 3
   },
   "file_extension": ".py",
   "mimetype": "text/x-python",
   "name": "python",
   "nbconvert_exporter": "python",
   "pygments_lexer": "ipython3",
   "version": "3.11.6"
  }
 },
 "nbformat": 4,
 "nbformat_minor": 2
}
