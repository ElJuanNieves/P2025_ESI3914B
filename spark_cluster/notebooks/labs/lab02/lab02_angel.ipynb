{
 "cells": [
  {
   "cell_type": "markdown",
   "metadata": {},
   "source": [
    "# <center> <img src=\"img/ITESOLogo.png\" alt=\"ITESO\" width=\"480\" height=\"130\"> </center>\n",
    "# <center> **Departamento de Electrónica, Sistemas e Informática** </center>\n",
    "---\n",
    "## <center> **Carrera: <Coloca el nombre de tu carrera aqui>** </center>\n",
    "---\n",
    "### <center> **Primavera 2025** </center>\n",
    "---\n",
    "\n",
    "**Lab XX**:02\n",
    "\n",
    "**Fecha**: 04/02/2025\n",
    "\n",
    "**Nombre del Estudiante**: Ángel Gabriel Ramirez Carrillo\n",
    "\n",
    "**Profesor**: Pablo Camarillo Ramirez"
   ]
  },
  {
   "cell_type": "code",
   "execution_count": 31,
   "metadata": {},
   "outputs": [
    {
     "name": "stdout",
     "output_type": "stream",
     "text": [
      "Hello world\n",
      "4\n",
      "27\n"
     ]
    }
   ],
   "source": [
    "def greet():\n",
    "    print(\"Hello world\")\n",
    "\n",
    "def square(*args):\n",
    "    for x in args:\n",
    "        return x**2\n",
    "\n",
    "\n",
    "def cube(*args):\n",
    "    for x in args:\n",
    "        return x**3\n",
    "\n",
    "\n",
    "execute_command = {\"greet\":greet,\"square\":square,\"cube\":cube}\n",
    "\n",
    "execute_command[\"greet\"]()\n",
    "print(execute_command[\"square\"](2))\n",
    "print(execute_command[\"cube\"](3))\n",
    "\n",
    "\n"
   ]
  },
  {
   "cell_type": "code",
   "execution_count": null,
   "metadata": {},
   "outputs": [],
   "source": []
  }
 ],
 "metadata": {
  "kernelspec": {
   "display_name": "Python 3 (ipykernel)",
   "language": "python",
   "name": "python3"
  },
  "language_info": {
   "codemirror_mode": {
    "name": "ipython",
    "version": 3
   },
   "file_extension": ".py",
   "mimetype": "text/x-python",
   "name": "python",
   "nbconvert_exporter": "python",
   "pygments_lexer": "ipython3",
   "version": "3.11.6"
  }
 },
 "nbformat": 4,
 "nbformat_minor": 2
}
