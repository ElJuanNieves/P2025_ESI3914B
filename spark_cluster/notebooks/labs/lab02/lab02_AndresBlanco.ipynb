{
 "cells": [
  {
   "cell_type": "code",
   "execution_count": 5,
   "metadata": {},
   "outputs": [],
   "source": [
    "# Definición de funciones\n",
    "def greet():\n",
    "    print(\"Hello, World!\")\n",
    "\n",
    "def square(n):\n",
    "    print(n ** 2)\n",
    "\n",
    "def cube(n):\n",
    "    print(n ** 3)"
   ]
  },
  {
   "cell_type": "code",
   "execution_count": 6,
   "metadata": {},
   "outputs": [],
   "source": [
    "# Definición de diccionario\n",
    "command_map = {\n",
    "    \"Saludar\": greet,\n",
    "    \"Cuadrado\": square,\n",
    "    \"Cubo\": cube\n",
    "}"
   ]
  },
  {
   "cell_type": "code",
   "execution_count": 21,
   "metadata": {},
   "outputs": [],
   "source": [
    "# Crear funcion maestra\n",
    "def execute_command(*args):\n",
    "    command = args[0]\n",
    "    if len(args) > 1:\n",
    "        command_map[command](args[1])\n",
    "    else:\n",
    "        command_map[command]()"
   ]
  },
  {
   "cell_type": "code",
   "execution_count": 24,
   "metadata": {},
   "outputs": [
    {
     "name": "stdout",
     "output_type": "stream",
     "text": [
      "Hello, World!\n",
      "4\n",
      "27\n"
     ]
    }
   ],
   "source": [
    "execute_command(\"Saludar\")\n",
    "execute_command(\"Cuadrado\", 2)\n",
    "execute_command(\"Cubo\", 3)"
   ]
  }
 ],
 "metadata": {
  "kernelspec": {
   "display_name": "Python 3 (ipykernel)",
   "language": "python",
   "name": "python3"
  },
  "language_info": {
   "codemirror_mode": {
    "name": "ipython",
    "version": 3
   },
   "file_extension": ".py",
   "mimetype": "text/x-python",
   "name": "python",
   "nbconvert_exporter": "python",
   "pygments_lexer": "ipython3",
   "version": "3.11.6"
  }
 },
 "nbformat": 4,
 "nbformat_minor": 2
}
