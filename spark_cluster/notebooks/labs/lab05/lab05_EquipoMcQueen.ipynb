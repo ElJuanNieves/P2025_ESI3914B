{
 "cells": [
  {
   "cell_type": "markdown",
   "metadata": {},
   "source": [
    "# <center> <img src=\"../img/ITESOLogo.png\" alt=\"ITESO\" width=\"480\" height=\"130\"> </center>\n",
    "# <center> **Departamento de Electrónica, Sistemas e Informática** </center>\n",
    "---\n",
    "## <center> **Carrera: Ing. en Sistemas Computacionales** </center>\n",
    "---\n",
    "### <center> **Primavera 2025** </center>\n",
    "---\n",
    "\n",
    "**Lab 05**: TikTok Tracks Analysis\n",
    "\n",
    "**Fecha**: 21 de febrero del 2025\n",
    "\n",
    "**Nombre del Estudiante**: Marco Albanese, Vicente Siloe\n",
    "\n",
    "**Profesor**: Pablo Camarillo Ramirez"
   ]
  },
  {
   "cell_type": "code",
   "execution_count": 1,
   "metadata": {},
   "outputs": [],
   "source": [
    "import findspark\n",
    "findspark.init()"
   ]
  },
  {
   "cell_type": "code",
   "execution_count": 2,
   "metadata": {},
   "outputs": [
    {
     "name": "stderr",
     "output_type": "stream",
     "text": [
      "Setting default log level to \"WARN\".\n",
      "To adjust logging level use sc.setLogLevel(newLevel). For SparkR, use setLogLevel(newLevel).\n",
      "25/02/21 13:42:22 WARN NativeCodeLoader: Unable to load native-hadoop library for your platform... using builtin-java classes where applicable\n"
     ]
    }
   ],
   "source": [
    "from pyspark.sql import SparkSession\n",
    "\n",
    "spark = SparkSession.builder \\\n",
    "    .appName(\"TikTok Tracks Analysis\") \\\n",
    "    .master(\"spark://cd68d43f7ac6:7077\") \\\n",
    "    .config(\"spark.ui.port\",\"4040\") \\\n",
    "    .getOrCreate()\n",
    "\n",
    "# Create SparkContext\n",
    "sc = spark.sparkContext\n",
    "sc.setLogLevel(\"ERROR\")"
   ]
  },
  {
   "cell_type": "code",
   "execution_count": null,
   "metadata": {},
   "outputs": [],
   "source": [
    "import importlib\n",
    "import equipo_mcqueen.spark_utils\n",
    "\n",
    "columns_info = [ (\"track_id\", \"StringType\"),\n",
    "                (\"track_name\", \"StringType\"),\n",
    "                (\"artist_id\", \"StringType\"),\n",
    "                (\"artist_name\", \"StringType\"),\n",
    "                (\"album_id\", \"StringType\"),\n",
    "                (\"duration\", \"IntegerType\"),\n",
    "                (\"release_date\", \"TimestampType\"),\n",
    "                (\"popularity\", \"IntegerType\"),\n",
    "                (\"danceability\", \"DoubleType\"),\n",
    "                (\"energy\", \"DoubleType\"),\n",
    "                (\"key\", \"IntegerType\"),\n",
    "                (\"loudness\", \"DoubleType\"),\n",
    "                (\"mode\", \"IntegerType\"),\n",
    "                (\"speechiness\", \"DoubleType\"),\n",
    "                (\"acousticness\", \"DoubleType\"),\n",
    "                (\"instrumentalness\", \"DoubleType\"),\n",
    "                (\"liveness\", \"DoubleType\"),\n",
    "                (\"valence\", \"DoubleType\"),\n",
    "                (\"tempo\", \"DoubleType\"),\n",
    "                (\"playlist_id\", \"StringType\"),\n",
    "                (\"playlist_name\", \"StringType\"),\n",
    "                (\"duration_mins\", \"DoubleType\"),\n",
    "                (\"genre\", \"StringType\")]\n",
    "\n",
    "schema = equipo_mcqueen.spark_utils.SparkUtils.generate_schema(columns_info)\n",
    "\n",
    "# Create DataFrame\n",
    "tiktok_df = spark \\\n",
    "                .read \\\n",
    "                .schema(schema) \\\n",
    "                .option(\"header\", \"true\") \\\n",
    "                .csv(\"/home/jovyan/notebooks/data/tiktok.csv\")"
   ]
  },
  {
   "cell_type": "markdown",
   "metadata": {},
   "source": [
    "#### **Filter and Count Popular Tracks:** Filter songs with a popularity score greater than 80 and count the number of such tracks"
   ]
  },
  {
   "cell_type": "code",
   "execution_count": null,
   "metadata": {},
   "outputs": [
    {
     "data": {
      "text/plain": [
       "1023"
      ]
     },
     "execution_count": 10,
     "metadata": {},
     "output_type": "execute_result"
    }
   ],
   "source": [
    "tiktok_df.filter(tiktok_df.popularity > 80).count()"
   ]
  },
  {
   "cell_type": "markdown",
   "metadata": {},
   "source": [
    "#### **Calculate Average Duration of Songs by Genre:** Group songs by genre and calculate the average duration mins for each genre"
   ]
  },
  {
   "cell_type": "code",
   "execution_count": 7,
   "metadata": {},
   "outputs": [
    {
     "name": "stdout",
     "output_type": "stream",
     "text": [
      "+------------------+------------------+\n",
      "|             genre|avg(duration_mins)|\n",
      "+------------------+------------------+\n",
      "|TIKTOK PHILIPPINES|3.2801328435737513|\n",
      "|      TIKTOK DANCE| 3.015020713916861|\n",
      "|           _TIKTOK| 3.251196442168827|\n",
      "|        TIKTOK OPM| 4.257192861885788|\n",
      "+------------------+------------------+\n",
      "\n"
     ]
    }
   ],
   "source": [
    "grouped_df = tiktok_df.groupBy(\"genre\").avg(\"duration_mins\")\n",
    "grouped_df.show()"
   ]
  },
  {
   "cell_type": "markdown",
   "metadata": {},
   "source": [
    "#### **Find the Top 5 Most Energetic Songs:** Sort songs by energy in descending order and retrieve the top 5 songs."
   ]
  },
  {
   "cell_type": "code",
   "execution_count": null,
   "metadata": {},
   "outputs": [
    {
     "name": "stdout",
     "output_type": "stream",
     "text": [
      "+--------------------+--------------------+--------------------+--------------------+--------------------+--------+-------------------+----------+------------------+------------------+---+------------------+----+-----------+--------------------+-------------------+--------+------------------+------------------+--------------------+--------------------+-----------------+----------+\n",
      "|            track_id|          track_name|           artist_id|         artist_name|            album_id|duration|       release_date|popularity|      danceability|            energy|key|          loudness|mode|speechiness|        acousticness|   instrumentalness|liveness|           valence|             tempo|         playlist_id|       playlist_name|    duration_mins|     genre|\n",
      "+--------------------+--------------------+--------------------+--------------------+--------------------+--------+-------------------+----------+------------------+------------------+---+------------------+----+-----------+--------------------+-------------------+--------+------------------+------------------+--------------------+--------------------+-----------------+----------+\n",
      "|7L97IYrrPoodGNTs5...|       Kiat Jud Dong|25p1uAURmIM9Fvf8s...|         DJ Red Core|30uObqEktf9kGc7HT...|  257201|2018-03-21 00:00:00|        36|0.8029999999999999|0.9990000000000001|  5|             1.077|   1|     0.0516|             8.83E-4|               0.11|  0.0673|             0.948|           139.998|7L97IYrrPoodGNTs5...|7L97IYrrPoodGNTs5...|4.286683333333333|TIKTOK OPM|\n",
      "|10ACjcWMiiDzgFARy...|       Bukan untukku|6lh35jTUhuYnyAmrw...|            DJ Viral|6MrVRkcN7n1a2N5v7...|  221562|2019-01-29 00:00:00|         0|              0.65|             0.998|  7|            -9.412|   1|     0.0556|0.006840000000000001|0.43700000000000006|   0.335|             0.494|148.25799999999998|5loEFd02qVUHD7tg5...|DJ Remix TIKTOK💥...|           3.6927|   _TIKTOK|\n",
      "|64112Wjl20AyJnCP5...|    Ritmo Envolvente|3FSl8J1JjlhocB9mF...|DJ Menor 7 DJ Men...|12CBfRWiaozrlU907...|  237846|2021-03-07 00:00:00|        59|             0.736|             0.995|  2|            -4.346|   1|     0.0643|              0.0431|0.28600000000000003|   0.264|0.8109999999999999|           130.088|4nZwtXLKWz0e0FLwf...|Funk Tiktok 2021 ...|           3.9641|   _TIKTOK|\n",
      "|2cTK8esxSbN8l8VoW...|Tante Culik Aku Dong|5KdkevZRYudsUtmTg...|  Iwansteep Official|1od5cXGFk8if2NZek...|  411713|2018-09-29 00:00:00|        34|             0.711|             0.995|  5|            -6.205|   0|     0.0411|             0.00921|              0.204|   0.613|             0.885|           129.993|5loEFd02qVUHD7tg5...|DJ Remix TIKTOK💥...|6.861883333333333|   _TIKTOK|\n",
      "|5vESh0QkUlcbQrYaO...|Biarlah Semua Ber...|0S2deWH67QwQaHV6M...|             DJ Opus|0wCfYhosjZQcUJGDB...|  374057|2020-04-25 00:00:00|         0|             0.748|             0.995|  0|0.7190000000000001|   1|     0.0329|               0.109|             0.0724|   0.247|0.9670000000000001|           120.015|5loEFd02qVUHD7tg5...|DJ Remix TIKTOK💥...|6.234283333333333|   _TIKTOK|\n",
      "+--------------------+--------------------+--------------------+--------------------+--------------------+--------+-------------------+----------+------------------+------------------+---+------------------+----+-----------+--------------------+-------------------+--------+------------------+------------------+--------------------+--------------------+-----------------+----------+\n",
      "only showing top 5 rows\n",
      "\n"
     ]
    }
   ],
   "source": [
    "sorted_energy_df = tiktok_df.sort(tiktok_df[\"energy\"].desc())\n",
    "sorted_energy_df.show(5)"
   ]
  },
  {
   "cell_type": "markdown",
   "metadata": {},
   "source": [
    "#### **Calculate the Total Duration of Songs in Each Playlist:** Group songs by playlist name and calculate the total duration mins for each playlist."
   ]
  },
  {
   "cell_type": "code",
   "execution_count": 9,
   "metadata": {},
   "outputs": [
    {
     "name": "stdout",
     "output_type": "stream",
     "text": [
      "+--------------------+------------------+\n",
      "|       playlist_name|sum(duration_mins)|\n",
      "+--------------------+------------------+\n",
      "|5IZc3KIVFhjzJ0L2k...| 7.474666666666667|\n",
      "|08ia51KbTcfs4QVT5...|            4.1485|\n",
      "|7xVLFuuYdAvcTfcP3...| 9.456433333333333|\n",
      "|2RBILNmyq8p4fqVWO...| 2.162933333333333|\n",
      "|6GdDjthxbTGBV9rl2...|3.3209166666666667|\n",
      "|7krYEnB1OI1RbnJBa...|2.0957666666666666|\n",
      "|1FgPyHX7HruKDL4Tx...|            2.4448|\n",
      "|62RtxFf9epYNWOUHJ...|2.6694333333333335|\n",
      "|5ow0sNF1zSqp71Ix5...|2.7334833333333335|\n",
      "|0LlJbV4lyzJYE14YC...|10.709133333333334|\n",
      "|6NFKf8vBApSvtzkap...|3.7074333333333334|\n",
      "|5P8lyudWE7HQxb4lu...| 4.250666666666667|\n",
      "|2BgEsaKNfHUdlh97K...| 3.116433333333333|\n",
      "|7F9vK8hNFMml4GtHs...| 3.173783333333333|\n",
      "|4vVTI94F9uJ8lHNDW...|3.3657666666666666|\n",
      "|2uULRpRtKhCdojXwo...|               2.2|\n",
      "|1tRlGMHsf21FDo6pj...|           1.79005|\n",
      "|215fAfwkWtlj30ofd...|2.3214166666666665|\n",
      "|3bidbhpOYeV4knp8A...|            4.3057|\n",
      "|0YFocHKmrMme7Isel...| 4.810383333333333|\n",
      "+--------------------+------------------+\n",
      "only showing top 20 rows\n",
      "\n"
     ]
    }
   ],
   "source": [
    "# Group songs by playlit name and calculate the total duration in mins for each playlist\n",
    "grouped_playlist_df = tiktok_df.groupBy(\"playlist_name\").sum(\"duration_mins\")\n",
    "grouped_playlist_df.show()"
   ]
  },
  {
   "cell_type": "code",
   "execution_count": null,
   "metadata": {},
   "outputs": [],
   "source": [
    "# Stop the SparkContext\n",
    "sc.stop()"
   ]
  }
 ],
 "metadata": {
  "kernelspec": {
   "display_name": "Python 3 (ipykernel)",
   "language": "python",
   "name": "python3"
  },
  "language_info": {
   "codemirror_mode": {
    "name": "ipython",
    "version": 3
   },
   "file_extension": ".py",
   "mimetype": "text/x-python",
   "name": "python",
   "nbconvert_exporter": "python",
   "pygments_lexer": "ipython3",
   "version": "3.11.6"
  }
 },
 "nbformat": 4,
 "nbformat_minor": 2
}
