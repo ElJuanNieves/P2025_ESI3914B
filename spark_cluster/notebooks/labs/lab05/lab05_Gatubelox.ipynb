{
 "cells": [
  {
   "cell_type": "markdown",
   "metadata": {},
   "source": [
    "# <center> <img src=\"img/ITESOLogo.png\" alt=\"ITESO\" width=\"480\" height=\"130\"> </center>\n",
    "# <center> **Departamento de Electrónica, Sistemas e Informática** </center>\n",
    "---\n",
    "## <center> **Carrera: Ingeniería en Sistemas Computacionales** </center>\n",
    "---\n",
    "### <center> **Primavera 2025** </center>\n",
    "---\n",
    "\n",
    "**Lab 05**: Transformation and actions\n",
    "\n",
    "**Fecha**: 21/02/2024\n",
    "\n",
    "**Nombre del Estudiante**:\n",
    "    - Luis Acosta\n",
    "    - Samantha Quintero\n",
    "    - Benjamin Vergara\n",
    "\n",
    "**Profesor**: Pablo Camarillo Ramirez"
   ]
  }
 ],
 "metadata": {
  "language_info": {
   "name": "python"
  }
 },
 "nbformat": 4,
 "nbformat_minor": 2
}
