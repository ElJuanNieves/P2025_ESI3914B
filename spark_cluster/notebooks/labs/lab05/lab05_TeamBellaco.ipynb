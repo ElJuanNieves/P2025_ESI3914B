{
 "cells": [
  {
   "cell_type": "markdown",
   "metadata": {},
   "source": [
    "# <center> <img src=\"../img/ITESOLogo.png\" alt=\"ITESO\" width=\"480\" height=\"130\"> </center>\n",
    "# <center> **Departamento de Electrónica, Sistemas e Informática** </center>\n",
    "---\n",
    "## <center> **Carrera: Ingenieria de Sistemas Computacionales** </center>\n",
    "---\n",
    "### <center> **Primavera 2025** </center>\n",
    "---\n",
    "\n",
    "**Lab 05**: Tiktok tracks analysis\n",
    "\n",
    "**Fecha**:21/02/2025\n",
    "\n",
    "**Nombre del Estudiante**:David Abraham Naranjo Salgado, Benjamin Leonardo Zarate Solano y Angel David Cortes Pacheco\n",
    "\n",
    "**Profesor**: Pablo Camarillo Ramirez"
   ]
  },
  {
   "cell_type": "markdown",
   "metadata": {},
   "source": [
    "## Description\n",
    "In teams, write a Jupyter Notebook (spark cluster/notebooks/labs/lab05) to complete the following analysis tasks for the tiktok dataset using PySpark:\n",
    "\n",
    "Filter and Count Popular Tracks. Filter songs with a popularity score greater than 80 and count the number of such tracks.\n",
    "\n",
    "Calculate Average Duration of Songs by Genre. Group songs by genre and calculate the average duration mins for each genre.\n",
    "Find the Top 5 Most Energetic Songs. Sort songs by energy in descending order and retrieve the top 5 songs.\n",
    "\n",
    "Calculate the Total Duration of Songs in Each Playlist. Group songs by playlist name and calculate the total duration mins for\n",
    "each playlist.\n",
    "\n",
    "When you complete you Notebook, please submit a PR with the solution."
   ]
  },
  {
   "cell_type": "markdown",
   "metadata": {},
   "source": []
  },
  {
   "cell_type": "markdown",
   "metadata": {},
   "source": [
    "### Installing spark"
   ]
  },
  {
   "cell_type": "code",
   "execution_count": 1,
   "metadata": {},
   "outputs": [],
   "source": [
    "import findspark\n",
    "findspark.init()"
   ]
  },
  {
   "cell_type": "markdown",
   "metadata": {},
   "source": [
    "### Create connection"
   ]
  },
  {
   "cell_type": "code",
   "execution_count": 2,
   "metadata": {},
   "outputs": [
    {
     "name": "stderr",
     "output_type": "stream",
     "text": [
      "Setting default log level to \"WARN\".\n",
      "To adjust logging level use sc.setLogLevel(newLevel). For SparkR, use setLogLevel(newLevel).\n",
      "25/02/22 01:16:02 WARN NativeCodeLoader: Unable to load native-hadoop library for your platform... using builtin-java classes where applicable\n"
     ]
    }
   ],
   "source": [
    "from pyspark.sql import SparkSession\n",
    "\n",
    "spark = SparkSession.builder \\\n",
    "    .appName(\"Tiktok-tracks-analysis\") \\\n",
    "    .master(\"spark://b631371550f9:7077\") \\\n",
    "    .config(\"spark.ui.port\",\"4040\") \\\n",
    "    .getOrCreate()\n",
    "\n",
    "# Create SparkContext\n",
    "sc = spark.sparkContext\n",
    "sc.setLogLevel(\"ERROR\")"
   ]
  },
  {
   "cell_type": "markdown",
   "metadata": {},
   "source": [
    "### Import Spark_utils"
   ]
  },
  {
   "cell_type": "code",
   "execution_count": 3,
   "metadata": {},
   "outputs": [],
   "source": [
    "from team_bellaco.spark_utils import SparkUtils"
   ]
  },
  {
   "cell_type": "code",
   "execution_count": 4,
   "metadata": {},
   "outputs": [],
   "source": [
    "columns_info = [ (\"track_id\", \"string\"),\n",
    "                (\"track_name\", \"string\"),\n",
    "                (\"artist_id\", \"string\"),\n",
    "                (\"artist_name\", \"string\"),\n",
    "                (\"album_id\", \"string\"),\n",
    "                (\"duration\", \"integer\"),\n",
    "                (\"release_date\", \"timestamp\"),\n",
    "                (\"popularity\", \"integer\"),\n",
    "                (\"danceability\", \"double\"),\n",
    "                (\"energy\", \"double\"),\n",
    "                (\"key\", \"integer\"),\n",
    "                (\"loudness\", \"double\"),\n",
    "                (\"mode\", \"integer\"),\n",
    "                (\"speechiness\", \"double\"),\n",
    "                (\"acousticness\", \"double\"),\n",
    "                (\"instrumentalness\", \"double\"),\n",
    "                (\"liveness\", \"double\"),\n",
    "                (\"valence\", \"double\"),\n",
    "                (\"tempo\", \"double\"),\n",
    "                (\"playlist_id\", \"string\"),\n",
    "                (\"playlist_name\", \"string\"),\n",
    "                (\"duration_mins\", \"double\"),\n",
    "                (\"genre\", \"string\")]\n",
    "\n",
    "schema = SparkUtils.generate_schema(columns_info)\n",
    "\n",
    "# Create DataFrame\n",
    "tiktok_df = spark \\\n",
    "                .read \\\n",
    "                .schema(schema) \\\n",
    "                .option(\"header\", \"true\") \\\n",
    "                .csv(\"/home/jovyan/notebooks/data/tiktok.csv\")"
   ]
  },
  {
   "cell_type": "markdown",
   "metadata": {},
   "source": [
    "### Filter and Count Popular Tracks"
   ]
  },
  {
   "cell_type": "code",
   "execution_count": 5,
   "metadata": {},
   "outputs": [
    {
     "name": "stderr",
     "output_type": "stream",
     "text": [
      "                                                                                \r"
     ]
    },
    {
     "data": {
      "text/plain": [
       "1023"
      ]
     },
     "execution_count": 5,
     "metadata": {},
     "output_type": "execute_result"
    }
   ],
   "source": [
    "filtered_popularity_df = tiktok_df.filter(tiktok_df[\"popularity\"] > 80)\n",
    "row_count = filtered_popularity_df.count()\n",
    "row_count"
   ]
  },
  {
   "cell_type": "markdown",
   "metadata": {},
   "source": [
    "### Calculate Average Duration of Songs by Genre"
   ]
  },
  {
   "cell_type": "code",
   "execution_count": 6,
   "metadata": {},
   "outputs": [
    {
     "name": "stdout",
     "output_type": "stream",
     "text": [
      "+------------------+------------------+------------------+\n",
      "|             genre|     avg(duration)| avg_duration_mins|\n",
      "+------------------+------------------+------------------+\n",
      "|TIKTOK PHILIPPINES|196807.97061442563|3280.1328435737605|\n",
      "|      TIKTOK DANCE|180901.24283501162|3015.0207139168606|\n",
      "|           _TIKTOK|195071.78653012996|3251.1964421688326|\n",
      "|        TIKTOK OPM|255431.57171314742|  4257.19286188579|\n",
      "+------------------+------------------+------------------+\n",
      "\n"
     ]
    }
   ],
   "source": [
    "from pyspark.sql.functions import col\n",
    "grouped_df = tiktok_df.groupBy(\"genre\").avg(\"duration\")\n",
    "grouped_df_with_minutes = grouped_df.withColumn(\"avg_duration_mins\", col(\"avg(duration)\") / 60)\n",
    "grouped_df_with_minutes.show()"
   ]
  },
  {
   "cell_type": "markdown",
   "metadata": {},
   "source": [
    "### Find the Top 5 Most Energetic Songs"
   ]
  },
  {
   "cell_type": "code",
   "execution_count": 8,
   "metadata": {},
   "outputs": [
    {
     "name": "stdout",
     "output_type": "stream",
     "text": [
      "+--------------------+--------------------+--------------------+--------------------+--------------------+--------+-------------------+----------+------------------+------------------+---+------------------+----+-----------+--------------------+-------------------+--------+------------------+------------------+--------------------+--------------------+-----------------+----------+\n",
      "|            track_id|          track_name|           artist_id|         artist_name|            album_id|duration|       release_date|popularity|      danceability|            energy|key|          loudness|mode|speechiness|        acousticness|   instrumentalness|liveness|           valence|             tempo|         playlist_id|       playlist_name|    duration_mins|     genre|\n",
      "+--------------------+--------------------+--------------------+--------------------+--------------------+--------+-------------------+----------+------------------+------------------+---+------------------+----+-----------+--------------------+-------------------+--------+------------------+------------------+--------------------+--------------------+-----------------+----------+\n",
      "|7L97IYrrPoodGNTs5...|       Kiat Jud Dong|25p1uAURmIM9Fvf8s...|         DJ Red Core|30uObqEktf9kGc7HT...|  257201|2018-03-21 00:00:00|        36|0.8029999999999999|0.9990000000000001|  5|             1.077|   1|     0.0516|             8.83E-4|               0.11|  0.0673|             0.948|           139.998|7L97IYrrPoodGNTs5...|7L97IYrrPoodGNTs5...|4.286683333333333|TIKTOK OPM|\n",
      "|10ACjcWMiiDzgFARy...|       Bukan untukku|6lh35jTUhuYnyAmrw...|            DJ Viral|6MrVRkcN7n1a2N5v7...|  221562|2019-01-29 00:00:00|         0|              0.65|             0.998|  7|            -9.412|   1|     0.0556|0.006840000000000001|0.43700000000000006|   0.335|             0.494|148.25799999999998|5loEFd02qVUHD7tg5...|DJ Remix TIKTOK💥...|           3.6927|   _TIKTOK|\n",
      "|64112Wjl20AyJnCP5...|    Ritmo Envolvente|3FSl8J1JjlhocB9mF...|DJ Menor 7 DJ Men...|12CBfRWiaozrlU907...|  237846|2021-03-07 00:00:00|        59|             0.736|             0.995|  2|            -4.346|   1|     0.0643|              0.0431|0.28600000000000003|   0.264|0.8109999999999999|           130.088|4nZwtXLKWz0e0FLwf...|Funk Tiktok 2021 ...|           3.9641|   _TIKTOK|\n",
      "|2cTK8esxSbN8l8VoW...|Tante Culik Aku Dong|5KdkevZRYudsUtmTg...|  Iwansteep Official|1od5cXGFk8if2NZek...|  411713|2018-09-29 00:00:00|        34|             0.711|             0.995|  5|            -6.205|   0|     0.0411|             0.00921|              0.204|   0.613|             0.885|           129.993|5loEFd02qVUHD7tg5...|DJ Remix TIKTOK💥...|6.861883333333333|   _TIKTOK|\n",
      "|5vESh0QkUlcbQrYaO...|Biarlah Semua Ber...|0S2deWH67QwQaHV6M...|             DJ Opus|0wCfYhosjZQcUJGDB...|  374057|2020-04-25 00:00:00|         0|             0.748|             0.995|  0|0.7190000000000001|   1|     0.0329|               0.109|             0.0724|   0.247|0.9670000000000001|           120.015|5loEFd02qVUHD7tg5...|DJ Remix TIKTOK💥...|6.234283333333333|   _TIKTOK|\n",
      "+--------------------+--------------------+--------------------+--------------------+--------------------+--------+-------------------+----------+------------------+------------------+---+------------------+----+-----------+--------------------+-------------------+--------+------------------+------------------+--------------------+--------------------+-----------------+----------+\n",
      "\n"
     ]
    }
   ],
   "source": [
    "from pyspark.sql.functions import desc\n",
    "top5_df = tiktok_df.orderBy(col(\"energy\").desc()).limit(5)\n",
    "top5_df.show()"
   ]
  },
  {
   "cell_type": "markdown",
   "metadata": {},
   "source": [
    "### Calculate the Total Duration of Songs in Each Playlist"
   ]
  },
  {
   "cell_type": "code",
   "execution_count": null,
   "metadata": {},
   "outputs": [
    {
     "name": "stdout",
     "output_type": "stream",
     "text": [
      "+--------------------+-------------+\n",
      "|       playlist_name|sum(duration)|\n",
      "+--------------------+-------------+\n",
      "|5IZc3KIVFhjzJ0L2k...|       448480|\n",
      "|08ia51KbTcfs4QVT5...|       248910|\n",
      "|7xVLFuuYdAvcTfcP3...|       567386|\n",
      "|2RBILNmyq8p4fqVWO...|       129776|\n",
      "|6GdDjthxbTGBV9rl2...|       199255|\n",
      "|7krYEnB1OI1RbnJBa...|       125746|\n",
      "|1FgPyHX7HruKDL4Tx...|       146688|\n",
      "|62RtxFf9epYNWOUHJ...|       160166|\n",
      "|5ow0sNF1zSqp71Ix5...|       164009|\n",
      "|0LlJbV4lyzJYE14YC...|       642548|\n",
      "|6NFKf8vBApSvtzkap...|       222446|\n",
      "|5P8lyudWE7HQxb4lu...|       255040|\n",
      "|2BgEsaKNfHUdlh97K...|       186986|\n",
      "|7F9vK8hNFMml4GtHs...|       190427|\n",
      "|4vVTI94F9uJ8lHNDW...|       201946|\n",
      "|2uULRpRtKhCdojXwo...|       132000|\n",
      "|1tRlGMHsf21FDo6pj...|       107403|\n",
      "|215fAfwkWtlj30ofd...|       139285|\n",
      "|3bidbhpOYeV4knp8A...|       258342|\n",
      "|0YFocHKmrMme7Isel...|       288623|\n",
      "+--------------------+-------------+\n",
      "only showing top 20 rows\n",
      "\n"
     ]
    }
   ],
   "source": [
    "from pyspark.sql.functions import sum\n",
    "total_duracion_df = tiktok_df.groupBy(\"playlist_name\").agg(sum(\"duration\"))\n",
    "total_duracion_df.show()"
   ]
  },
  {
   "cell_type": "code",
   "execution_count": 7,
   "metadata": {},
   "outputs": [],
   "source": [
    "#sc.stop()"
   ]
  }
 ],
 "metadata": {
  "kernelspec": {
   "display_name": "Python 3 (ipykernel)",
   "language": "python",
   "name": "python3"
  },
  "language_info": {
   "codemirror_mode": {
    "name": "ipython",
    "version": 3
   },
   "file_extension": ".py",
   "mimetype": "text/x-python",
   "name": "python",
   "nbconvert_exporter": "python",
   "pygments_lexer": "ipython3",
   "version": "3.11.6"
  }
 },
 "nbformat": 4,
 "nbformat_minor": 2
}
