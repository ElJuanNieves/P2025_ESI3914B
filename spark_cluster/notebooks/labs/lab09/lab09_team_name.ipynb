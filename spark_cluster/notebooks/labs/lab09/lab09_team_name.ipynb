{
 "cells": [
  {
   "cell_type": "markdown",
   "metadata": {},
   "source": [
    "# <center> <img src=\"../labs/img/ITESOLogo.png\" alt=\"ITESO\" width=\"480\" height=\"130\"> </center>\n",
    "# <center> **Departamento de Electrónica, Sistemas e Informática** </center>\n",
    "---\n",
    "## <center> **Procesamiento de Datos Masivos** </center>\n",
    "---\n",
    "### <center> **Primavera 2025** </center>\n",
    "---\n",
    "### <center> **Ejemplos de Spark: Structured Streaming (Kafka + Watermarking)** </center>\n",
    "\n",
    "---\n",
    "**Profesor**: Dr. Pablo Camarillo Ramirez"
   ]
  },
  {
   "cell_type": "code",
   "execution_count": 94,
   "metadata": {},
   "outputs": [],
   "source": [
    "import findspark\n",
    "findspark.init()"
   ]
  },
  {
   "cell_type": "markdown",
   "metadata": {},
   "source": [
    "#### Creacion de la conexión con el cluster de spark\n"
   ]
  },
  {
   "cell_type": "code",
   "execution_count": 95,
   "metadata": {},
   "outputs": [],
   "source": [
    "from pyspark.sql import SparkSession\n",
    "\n",
    "spark = SparkSession.builder \\\n",
    "    .appName(\"SparkSQLStructuredStreaming-Kafka-Watermarking\") \\\n",
    "    .master(\"spark://078b2e28e517:7077\") \\\n",
    "    .config(\"spark.ui.port\",\"4040\") \\\n",
    "    .config(\"spark.jars.packages\", \"org.apache.spark:spark-sql-kafka-0-10_2.13:3.5.4\") \\\n",
    "    .getOrCreate()\n",
    "sc = spark.sparkContext"
   ]
  },
  {
   "cell_type": "markdown",
   "metadata": {},
   "source": [
    "### Creación del Kafka Stream"
   ]
  },
  {
   "cell_type": "code",
   "execution_count": 96,
   "metadata": {},
   "outputs": [
    {
     "name": "stdout",
     "output_type": "stream",
     "text": [
      "root\n",
      " |-- key: binary (nullable = true)\n",
      " |-- value: binary (nullable = true)\n",
      " |-- topic: string (nullable = true)\n",
      " |-- partition: integer (nullable = true)\n",
      " |-- offset: long (nullable = true)\n",
      " |-- timestamp: timestamp (nullable = true)\n",
      " |-- timestampType: integer (nullable = true)\n",
      "\n"
     ]
    }
   ],
   "source": [
    "kafka_lines = spark \\\n",
    "                .readStream \\\n",
    "                .format(\"kafka\") \\\n",
    "                .option(\"kafka.bootstrap.servers\", \"cfb7d55576f2:9093\") \\\n",
    "                .option(\"subscribe\", \"kafka-spark-example\") \\\n",
    "                .load()\n",
    "\n",
    "kafka_lines.printSchema()"
   ]
  },
  {
   "cell_type": "markdown",
   "metadata": {},
   "source": [
    "### Transform binary data into string"
   ]
  },
  {
   "cell_type": "code",
   "execution_count": 97,
   "metadata": {},
   "outputs": [],
   "source": [
    "kafka_df = kafka_lines.withColumn(\"value_str\", kafka_lines.value.cast(\"string\"))"
   ]
  },
  {
   "cell_type": "code",
   "execution_count": 98,
   "metadata": {},
   "outputs": [
    {
     "name": "stdout",
     "output_type": "stream",
     "text": [
      "root\n",
      " |-- word: string (nullable = false)\n",
      " |-- timestamp: timestamp (nullable = true)\n",
      "\n"
     ]
    }
   ],
   "source": [
    "from pyspark.sql.functions import explode, split\n",
    "\n",
    "words = kafka_df.select(explode(split(kafka_df.value, \" \")).alias(\"word\"), \"timestamp\")\n",
    "words.printSchema()"
   ]
  },
  {
   "cell_type": "markdown",
   "metadata": {},
   "source": [
    "### Aplicando el mecanismo para manejar datos tardios con marcas de agua (watermarking)"
   ]
  },
  {
   "cell_type": "code",
   "execution_count": 99,
   "metadata": {},
   "outputs": [
    {
     "name": "stdout",
     "output_type": "stream",
     "text": [
      "root\n",
      " |-- window: struct (nullable = true)\n",
      " |    |-- start: timestamp (nullable = true)\n",
      " |    |-- end: timestamp (nullable = true)\n",
      " |-- word: string (nullable = false)\n",
      " |-- word_count: long (nullable = false)\n",
      "\n",
      "root\n",
      " |-- word: string (nullable = false)\n",
      " |-- min_word_count: long (nullable = true)\n",
      " |-- max_word_count: long (nullable = true)\n",
      "\n"
     ]
    }
   ],
   "source": [
    "from pyspark.sql.functions import window, avg, min, max, count\n",
    "windowed_counts =  words \\\n",
    "                        .withWatermark(\"timestamp\", \"2 minutes\") \\\n",
    "                        .groupBy(window(words.timestamp, \n",
    "                                        \"30 seconds\", # Window duration \n",
    "                                        \"5 seconds\"), # Slide duration\n",
    "                                 words.word) \\\n",
    "                        .agg(count(\"*\").alias(\"word_count\"))\n",
    "\n",
    "windowed_counts.printSchema()\n",
    "\n",
    "result = windowed_counts \\\n",
    "              .groupBy(\"word\") \\\n",
    "              .agg(min(\"word_count\").alias(\"min_word_count\"), max(\"word_count\").alias(\"max_word_count\"))\n",
    "\n",
    "result.printSchema()\n"
   ]
  },
  {
   "cell_type": "markdown",
   "metadata": {},
   "source": [
    "### Configuración del \"Sink\" del stream"
   ]
  },
  {
   "cell_type": "code",
   "execution_count": 100,
   "metadata": {},
   "outputs": [
    {
     "name": "stderr",
     "output_type": "stream",
     "text": [
      "25/04/08 14:43:26 WARN ResolveWriteToStream: Temporary checkpoint location created which is deleted normally when the query didn't fail: /tmp/temporary-2ef9f94b-6361-4a4d-a5e4-ff902f75c15a. If it's required to delete it under any circumstances, please set spark.sql.streaming.forceDeleteTempCheckpointLocation to true. Important to know deleting temp checkpoint folder is best effort.\n",
      "25/04/08 14:43:26 WARN ResolveWriteToStream: spark.sql.adaptive.enabled is not supported in streaming DataFrames/Datasets and will be disabled.\n",
      "25/04/08 14:43:26 WARN UnsupportedOperationChecker: Detected pattern of possible 'correctness' issue due to global watermark. The query contains stateful operation which can emit rows older than the current watermark plus allowed late record delay, which are \"late rows\" in downstream stateful operations and these rows can be discarded. Please refer the programming guide doc for more details. If you understand the possible risk of correctness issue and still need to run the query, you can disable this check by setting the config `spark.sql.streaming.statefulOperator.checkCorrectness.enabled` to false.;\n",
      "Aggregate [word#1159], [word#1159, min(word_count#1166L) AS min_word_count#1175L, max(word_count#1166L) AS max_word_count#1177L]\n",
      "+- Aggregate [window#1167, word#1159], [window#1167 AS window#1162, word#1159, count(1) AS word_count#1166L]\n",
      "   +- Filter isnotnull(timestamp#1140)\n",
      "      +- Expand [[named_struct(start, knownnullable(precisetimestampconversion(((precisetimestampconversion(timestamp#1140, TimestampType, LongType) - CASE WHEN (((precisetimestampconversion(timestamp#1140, TimestampType, LongType) - 0) % 5000000) < cast(0 as bigint)) THEN (((precisetimestampconversion(timestamp#1140, TimestampType, LongType) - 0) % 5000000) + 5000000) ELSE ((precisetimestampconversion(timestamp#1140, TimestampType, LongType) - 0) % 5000000) END) - 0), LongType, TimestampType)), end, knownnullable(precisetimestampconversion((((precisetimestampconversion(timestamp#1140, TimestampType, LongType) - CASE WHEN (((precisetimestampconversion(timestamp#1140, TimestampType, LongType) - 0) % 5000000) < cast(0 as bigint)) THEN (((precisetimestampconversion(timestamp#1140, TimestampType, LongType) - 0) % 5000000) + 5000000) ELSE ((precisetimestampconversion(timestamp#1140, TimestampType, LongType) - 0) % 5000000) END) - 0) + 30000000), LongType, TimestampType))), word#1159, timestamp#1140-T120000ms], [named_struct(start, knownnullable(precisetimestampconversion(((precisetimestampconversion(timestamp#1140, TimestampType, LongType) - CASE WHEN (((precisetimestampconversion(timestamp#1140, TimestampType, LongType) - 0) % 5000000) < cast(0 as bigint)) THEN (((precisetimestampconversion(timestamp#1140, TimestampType, LongType) - 0) % 5000000) + 5000000) ELSE ((precisetimestampconversion(timestamp#1140, TimestampType, LongType) - 0) % 5000000) END) - 5000000), LongType, TimestampType)), end, knownnullable(precisetimestampconversion((((precisetimestampconversion(timestamp#1140, TimestampType, LongType) - CASE WHEN (((precisetimestampconversion(timestamp#1140, TimestampType, LongType) - 0) % 5000000) < cast(0 as bigint)) THEN (((precisetimestampconversion(timestamp#1140, TimestampType, LongType) - 0) % 5000000) + 5000000) ELSE ((precisetimestampconversion(timestamp#1140, TimestampType, LongType) - 0) % 5000000) END) - 5000000) + 30000000), LongType, TimestampType))), word#1159, timestamp#1140-T120000ms], [named_struct(start, knownnullable(precisetimestampconversion(((precisetimestampconversion(timestamp#1140, TimestampType, LongType) - CASE WHEN (((precisetimestampconversion(timestamp#1140, TimestampType, LongType) - 0) % 5000000) < cast(0 as bigint)) THEN (((precisetimestampconversion(timestamp#1140, TimestampType, LongType) - 0) % 5000000) + 5000000) ELSE ((precisetimestampconversion(timestamp#1140, TimestampType, LongType) - 0) % 5000000) END) - 10000000), LongType, TimestampType)), end, knownnullable(precisetimestampconversion((((precisetimestampconversion(timestamp#1140, TimestampType, LongType) - CASE WHEN (((precisetimestampconversion(timestamp#1140, TimestampType, LongType) - 0) % 5000000) < cast(0 as bigint)) THEN (((precisetimestampconversion(timestamp#1140, TimestampType, LongType) - 0) % 5000000) + 5000000) ELSE ((precisetimestampconversion(timestamp#1140, TimestampType, LongType) - 0) % 5000000) END) - 10000000) + 30000000), LongType, TimestampType))), word#1159, timestamp#1140-T120000ms], [named_struct(start, knownnullable(precisetimestampconversion(((precisetimestampconversion(timestamp#1140, TimestampType, LongType) - CASE WHEN (((precisetimestampconversion(timestamp#1140, TimestampType, LongType) - 0) % 5000000) < cast(0 as bigint)) THEN (((precisetimestampconversion(timestamp#1140, TimestampType, LongType) - 0) % 5000000) + 5000000) ELSE ((precisetimestampconversion(timestamp#1140, TimestampType, LongType) - 0) % 5000000) END) - 15000000), LongType, TimestampType)), end, knownnullable(precisetimestampconversion((((precisetimestampconversion(timestamp#1140, TimestampType, LongType) - CASE WHEN (((precisetimestampconversion(timestamp#1140, TimestampType, LongType) - 0) % 5000000) < cast(0 as bigint)) THEN (((precisetimestampconversion(timestamp#1140, TimestampType, LongType) - 0) % 5000000) + 5000000) ELSE ((precisetimestampconversion(timestamp#1140, TimestampType, LongType) - 0) % 5000000) END) - 15000000) + 30000000), LongType, TimestampType))), word#1159, timestamp#1140-T120000ms], [named_struct(start, knownnullable(precisetimestampconversion(((precisetimestampconversion(timestamp#1140, TimestampType, LongType) - CASE WHEN (((precisetimestampconversion(timestamp#1140, TimestampType, LongType) - 0) % 5000000) < cast(0 as bigint)) THEN (((precisetimestampconversion(timestamp#1140, TimestampType, LongType) - 0) % 5000000) + 5000000) ELSE ((precisetimestampconversion(timestamp#1140, TimestampType, LongType) - 0) % 5000000) END) - 20000000), LongType, TimestampType)), end, knownnullable(precisetimestampconversion((((precisetimestampconversion(timestamp#1140, TimestampType, LongType) - CASE WHEN (((precisetimestampconversion(timestamp#1140, TimestampType, LongType) - 0) % 5000000) < cast(0 as bigint)) THEN (((precisetimestampconversion(timestamp#1140, TimestampType, LongType) - 0) % 5000000) + 5000000) ELSE ((precisetimestampconversion(timestamp#1140, TimestampType, LongType) - 0) % 5000000) END) - 20000000) + 30000000), LongType, TimestampType))), word#1159, timestamp#1140-T120000ms], [named_struct(start, knownnullable(precisetimestampconversion(((precisetimestampconversion(timestamp#1140, TimestampType, LongType) - CASE WHEN (((precisetimestampconversion(timestamp#1140, TimestampType, LongType) - 0) % 5000000) < cast(0 as bigint)) THEN (((precisetimestampconversion(timestamp#1140, TimestampType, LongType) - 0) % 5000000) + 5000000) ELSE ((precisetimestampconversion(timestamp#1140, TimestampType, LongType) - 0) % 5000000) END) - 25000000), LongType, TimestampType)), end, knownnullable(precisetimestampconversion((((precisetimestampconversion(timestamp#1140, TimestampType, LongType) - CASE WHEN (((precisetimestampconversion(timestamp#1140, TimestampType, LongType) - 0) % 5000000) < cast(0 as bigint)) THEN (((precisetimestampconversion(timestamp#1140, TimestampType, LongType) - 0) % 5000000) + 5000000) ELSE ((precisetimestampconversion(timestamp#1140, TimestampType, LongType) - 0) % 5000000) END) - 25000000) + 30000000), LongType, TimestampType))), word#1159, timestamp#1140-T120000ms]], [window#1167, word#1159, timestamp#1140-T120000ms]\n",
      "         +- EventTimeWatermark timestamp#1140: timestamp, 2 minutes\n",
      "            +- Project [word#1159, timestamp#1140]\n",
      "               +- Generate explode(split(cast(value#1136 as string),  , -1)), false, [word#1159]\n",
      "                  +- Project [key#1135, value#1136, topic#1137, partition#1138, offset#1139L, timestamp#1140, timestampType#1141, cast(value#1136 as string) AS value_str#1149]\n",
      "                     +- StreamingRelationV2 org.apache.spark.sql.kafka010.KafkaSourceProvider@2aba9b4, kafka, org.apache.spark.sql.kafka010.KafkaSourceProvider$KafkaTable@59e288c, [kafka.bootstrap.servers=cfb7d55576f2:9093, subscribe=kafka-spark-example], [key#1135, value#1136, topic#1137, partition#1138, offset#1139L, timestamp#1140, timestampType#1141], StreamingRelation DataSource(org.apache.spark.sql.SparkSession@2df48de3,kafka,List(),None,List(),None,Map(kafka.bootstrap.servers -> cfb7d55576f2:9093, subscribe -> kafka-spark-example),None), kafka, [key#1128, value#1129, topic#1130, partition#1131, offset#1132L, timestamp#1133, timestampType#1134]\n",
      "\n",
      "25/04/08 14:43:26 WARN AdminClientConfig: These configurations '[key.deserializer, value.deserializer, enable.auto.commit, max.poll.records, auto.offset.reset]' were supplied but are not used yet.\n",
      "                                                                                \r"
     ]
    },
    {
     "name": "stdout",
     "output_type": "stream",
     "text": [
      "-------------------------------------------\n",
      "Batch: 0\n",
      "-------------------------------------------\n",
      "+----+--------------+--------------+\n",
      "|word|min_word_count|max_word_count|\n",
      "+----+--------------+--------------+\n",
      "+----+--------------+--------------+\n",
      "\n"
     ]
    },
    {
     "name": "stderr",
     "output_type": "stream",
     "text": [
      "                                                                                \r"
     ]
    },
    {
     "name": "stdout",
     "output_type": "stream",
     "text": [
      "-------------------------------------------\n",
      "Batch: 1\n",
      "-------------------------------------------\n",
      "+----+--------------+--------------+\n",
      "|word|min_word_count|max_word_count|\n",
      "+----+--------------+--------------+\n",
      "|hola|1             |1             |\n",
      "+----+--------------+--------------+\n",
      "\n"
     ]
    },
    {
     "name": "stderr",
     "output_type": "stream",
     "text": [
      "                                                                                \r"
     ]
    },
    {
     "name": "stdout",
     "output_type": "stream",
     "text": [
      "-------------------------------------------\n",
      "Batch: 2\n",
      "-------------------------------------------\n",
      "+----+--------------+--------------+\n",
      "|word|min_word_count|max_word_count|\n",
      "+----+--------------+--------------+\n",
      "|cat |1             |1             |\n",
      "|dog |1             |1             |\n",
      "|hola|1             |3             |\n",
      "+----+--------------+--------------+\n",
      "\n"
     ]
    },
    {
     "data": {
      "text/plain": [
       "False"
      ]
     },
     "execution_count": 100,
     "metadata": {},
     "output_type": "execute_result"
    }
   ],
   "source": [
    "spark.conf.set(\"spark.sql.shuffle.partitions\", \"5\")\n",
    "spark.conf.set(\"spark.sql.streaming.statefulOperator.checkCorrectness.enabled\", \"false\")\n",
    "\n",
    "query = result \\\n",
    "                .writeStream \\\n",
    "                .outputMode(\"complete\") \\\n",
    "                .trigger(processingTime='5 seconds') \\\n",
    "                .format(\"console\") \\\n",
    "                .option(\"truncate\", \"false\") \\\n",
    "                .start()\n",
    "\n",
    "query.awaitTermination(30)"
   ]
  },
  {
   "cell_type": "code",
   "execution_count": 102,
   "metadata": {},
   "outputs": [],
   "source": [
    "query.stop()\n",
    "sc.stop()"
   ]
  }
 ],
 "metadata": {
  "kernelspec": {
   "display_name": "Python 3 (ipykernel)",
   "language": "python",
   "name": "python3"
  },
  "language_info": {
   "codemirror_mode": {
    "name": "ipython",
    "version": 3
   },
   "file_extension": ".py",
   "mimetype": "text/x-python",
   "name": "python",
   "nbconvert_exporter": "python",
   "pygments_lexer": "ipython3",
   "version": "3.11.6"
  }
 },
 "nbformat": 4,
 "nbformat_minor": 2
}
