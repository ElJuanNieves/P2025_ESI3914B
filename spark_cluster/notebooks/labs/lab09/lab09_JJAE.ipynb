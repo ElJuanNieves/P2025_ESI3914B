{
 "cells": [
  {
   "cell_type": "markdown",
   "metadata": {},
   "source": [
    "# <center> **Departamento de Electrónica, Sistemas e Informática** </center>\n",
    "---\n",
    "## <center> **Procesamiento de Datos Masivos** </center>\n",
    "---\n",
    "### <center> **Primavera 2025** </center>\n",
    "---\n",
    "### <center> **Ejemplos de Spark: Structured Streaming (Kafka + Watermarking)** </center>\n",
    "\n",
    "---\n",
    "**Profesor**: Dr. Pablo Camarillo Ramirez"
   ]
  },
  {
   "cell_type": "code",
   "execution_count": 10,
   "metadata": {},
   "outputs": [],
   "source": [
    "import findspark\n",
    "findspark.init()"
   ]
  },
  {
   "cell_type": "markdown",
   "metadata": {},
   "source": [
    "#### Creacion de la conexión con el cluster de spark\n"
   ]
  },
  {
   "cell_type": "code",
   "execution_count": 11,
   "metadata": {},
   "outputs": [],
   "source": [
    "from pyspark.sql import SparkSession\n",
    "\n",
    "spark = SparkSession.builder \\\n",
    "    .appName(\"SparkSQLStructuredStreaming-Kafka-Watermarking\") \\\n",
    "    .master(\"spark://dc612074df78:7077\") \\\n",
    "    .config(\"spark.ui.port\",\"4040\") \\\n",
    "    .config(\"spark.jars.packages\", \"org.apache.spark:spark-sql-kafka-0-10_2.13:3.5.4\") \\\n",
    "    .getOrCreate()\n",
    "sc = spark.sparkContext"
   ]
  },
  {
   "cell_type": "markdown",
   "metadata": {},
   "source": [
    "### Creación del Kafka Stream"
   ]
  },
  {
   "cell_type": "code",
   "execution_count": 12,
   "metadata": {},
   "outputs": [
    {
     "name": "stdout",
     "output_type": "stream",
     "text": [
      "root\n",
      " |-- key: binary (nullable = true)\n",
      " |-- value: binary (nullable = true)\n",
      " |-- topic: string (nullable = true)\n",
      " |-- partition: integer (nullable = true)\n",
      " |-- offset: long (nullable = true)\n",
      " |-- timestamp: timestamp (nullable = true)\n",
      " |-- timestampType: integer (nullable = true)\n",
      "\n"
     ]
    }
   ],
   "source": [
    "kafka_lines = spark \\\n",
    "                .readStream \\\n",
    "                .format(\"kafka\") \\\n",
    "                .option(\"kafka.bootstrap.servers\", \"7d9f66003388:9093\") \\\n",
    "                .option(\"subscribe\", \"kafka-spark-example\") \\\n",
    "                .load()\n",
    "\n",
    "kafka_lines.printSchema()"
   ]
  },
  {
   "cell_type": "markdown",
   "metadata": {},
   "source": [
    "### Transform binary data into string"
   ]
  },
  {
   "cell_type": "code",
   "execution_count": 13,
   "metadata": {},
   "outputs": [],
   "source": [
    "kafka_df = kafka_lines.withColumn(\"value_str\", kafka_lines.value.cast(\"string\"))"
   ]
  },
  {
   "cell_type": "code",
   "execution_count": 14,
   "metadata": {},
   "outputs": [
    {
     "name": "stdout",
     "output_type": "stream",
     "text": [
      "root\n",
      " |-- word: string (nullable = false)\n",
      " |-- timestamp: timestamp (nullable = true)\n",
      "\n"
     ]
    }
   ],
   "source": [
    "from pyspark.sql.functions import explode, split\n",
    "\n",
    "words = kafka_df.select(explode(split(kafka_df.value, \" \")).alias(\"word\"), \"timestamp\")\n",
    "words.printSchema()"
   ]
  },
  {
   "cell_type": "markdown",
   "metadata": {},
   "source": [
    "### Aplicando el mecanismo para manejar datos tardios con marcas de agua (watermarking)"
   ]
  },
  {
   "cell_type": "code",
   "execution_count": 15,
   "metadata": {},
   "outputs": [
    {
     "name": "stdout",
     "output_type": "stream",
     "text": [
      "root\n",
      " |-- word: string (nullable = false)\n",
      " |-- timestamp: timestamp (nullable = true)\n",
      " |-- word_length: integer (nullable = false)\n",
      "\n"
     ]
    }
   ],
   "source": [
    "from pyspark.sql.functions import length\n",
    "\n",
    "words_with_length = words.withColumn(\"word_length\", length(\"word\"))\n",
    "words_with_length.printSchema()"
   ]
  },
  {
   "cell_type": "code",
   "execution_count": 17,
   "metadata": {},
   "outputs": [],
   "source": [
    "from pyspark.sql.functions import window, avg, max, min\n",
    "\n",
    "# 1. Word count with 2-minute tumbling window (modified from original)\n",
    "windowed_counts = words \\\n",
    "                    .withWatermark(\"timestamp\", \"3 minutes\") \\\n",
    "                    .groupBy(window(words.timestamp, \n",
    "                                    \"120 seconds\", \n",
    "                                    \"60 seconds\"),\n",
    "                             words.word) \\\n",
    "                    .count()\n",
    "\n",
    "# 2. Average word length with 90-second sliding window\n",
    "avg_word_length = words_with_length \\\n",
    "                    .withWatermark(\"timestamp\", \"2 minutes\") \\\n",
    "                    .groupBy(window(words_with_length.timestamp, \n",
    "                                    \"90 seconds\",\n",
    "                                    \"45 seconds\")) \\\n",
    "                    .agg(avg(\"word_length\").alias(\"avg_length\"))\n",
    "\n",
    "# 3. Maximum and minimum word length with 3-minute tumbling window\n",
    "word_length_extremes = words_with_length \\\n",
    "                    .withWatermark(\"timestamp\", \"4 minutes\") \\\n",
    "                    .groupBy(window(words_with_length.timestamp, \n",
    "                                    \"180 seconds\",\n",
    "                                    \"180 seconds\")) \\\n",
    "                    .agg(\n",
    "                        max(\"word_length\").alias(\"max_length\"),\n",
    "                        min(\"word_length\").alias(\"min_length\")\n",
    "                    )"
   ]
  },
  {
   "cell_type": "markdown",
   "metadata": {},
   "source": [
    "### Configuración del \"Sink\" del stream"
   ]
  },
  {
   "cell_type": "code",
   "execution_count": 18,
   "metadata": {},
   "outputs": [
    {
     "name": "stderr",
     "output_type": "stream",
     "text": [
      "25/04/08 18:26:40 WARN ResolveWriteToStream: Temporary checkpoint location created which is deleted normally when the query didn't fail: /tmp/temporary-41e14f3a-82c2-4d65-b8ae-3d8bf39249e9. If it's required to delete it under any circumstances, please set spark.sql.streaming.forceDeleteTempCheckpointLocation to true. Important to know deleting temp checkpoint folder is best effort.\n",
      "25/04/08 18:26:40 WARN ResolveWriteToStream: spark.sql.adaptive.enabled is not supported in streaming DataFrames/Datasets and will be disabled.\n",
      "25/04/08 18:26:40 WARN ResolveWriteToStream: Temporary checkpoint location created which is deleted normally when the query didn't fail: /tmp/temporary-7f51574b-31f9-44c0-9d58-1355c6a8a70f. If it's required to delete it under any circumstances, please set spark.sql.streaming.forceDeleteTempCheckpointLocation to true. Important to know deleting temp checkpoint folder is best effort.\n",
      "25/04/08 18:26:40 WARN AdminClientConfig: These configurations '[key.deserializer, value.deserializer, enable.auto.commit, max.poll.records, auto.offset.reset]' were supplied but are not used yet.\n",
      "25/04/08 18:26:40 WARN ResolveWriteToStream: spark.sql.adaptive.enabled is not supported in streaming DataFrames/Datasets and will be disabled.\n",
      "25/04/08 18:26:40 WARN AdminClientConfig: These configurations '[key.deserializer, value.deserializer, enable.auto.commit, max.poll.records, auto.offset.reset]' were supplied but are not used yet.\n",
      "25/04/08 18:26:40 WARN ResolveWriteToStream: Temporary checkpoint location created which is deleted normally when the query didn't fail: /tmp/temporary-31174027-966a-4b26-b1da-095d765be988. If it's required to delete it under any circumstances, please set spark.sql.streaming.forceDeleteTempCheckpointLocation to true. Important to know deleting temp checkpoint folder is best effort.\n",
      "25/04/08 18:26:40 WARN ResolveWriteToStream: spark.sql.adaptive.enabled is not supported in streaming DataFrames/Datasets and will be disabled.\n",
      "25/04/08 18:26:40 WARN AdminClientConfig: These configurations '[key.deserializer, value.deserializer, enable.auto.commit, max.poll.records, auto.offset.reset]' were supplied but are not used yet.\n",
      "                                                                                \r"
     ]
    },
    {
     "name": "stdout",
     "output_type": "stream",
     "text": [
      "-------------------------------------------\n",
      "Batch: 0\n",
      "-------------------------------------------\n",
      "+------+----+-----+\n",
      "|window|word|count|\n",
      "+------+----+-----+\n",
      "+------+----+-----+\n",
      "\n",
      "-------------------------------------------\n",
      "Batch: 0\n",
      "-------------------------------------------\n",
      "+------+----------+\n",
      "|window|avg_length|\n",
      "+------+----------+\n",
      "+------+----------+\n",
      "\n",
      "-------------------------------------------\n",
      "Batch: 0\n",
      "-------------------------------------------\n",
      "+------+----------+----------+\n",
      "|window|max_length|min_length|\n",
      "+------+----------+----------+\n",
      "+------+----------+----------+\n",
      "\n"
     ]
    },
    {
     "name": "stderr",
     "output_type": "stream",
     "text": [
      "                                                                                \r"
     ]
    },
    {
     "name": "stdout",
     "output_type": "stream",
     "text": [
      "-------------------------------------------\n",
      "Batch: 1\n",
      "-------------------------------------------\n",
      "-------------------------------------------\n",
      "Batch: 1\n",
      "-------------------------------------------\n",
      "+------------------------------------------+-----------------+\n",
      "|window                                    |avg_length       |\n",
      "+------------------------------------------+-----------------+\n",
      "|{2025-04-08 18:26:15, 2025-04-08 18:27:45}|4.181818181818182|\n",
      "|{2025-04-08 18:27:00, 2025-04-08 18:28:30}|4.181818181818182|\n",
      "+------------------------------------------+-----------------+\n",
      "\n",
      "+------------------------------------------+-------+-----+\n",
      "|window                                    |word   |count|\n",
      "+------------------------------------------+-------+-----+\n",
      "|{2025-04-08 18:26:00, 2025-04-08 18:28:00}|hola   |2    |\n",
      "|{2025-04-08 18:26:00, 2025-04-08 18:28:00}|cat    |2    |\n",
      "|{2025-04-08 18:26:00, 2025-04-08 18:28:00}|texto  |1    |\n",
      "|{2025-04-08 18:27:00, 2025-04-08 18:29:00}|de     |1    |\n",
      "|{2025-04-08 18:27:00, 2025-04-08 18:29:00}|hola   |2    |\n",
      "|{2025-04-08 18:26:00, 2025-04-08 18:28:00}|buenas |1    |\n",
      "|{2025-04-08 18:26:00, 2025-04-08 18:28:00}|tardes |1    |\n",
      "|{2025-04-08 18:27:00, 2025-04-08 18:29:00}|buenas |1    |\n",
      "|{2025-04-08 18:27:00, 2025-04-08 18:29:00}|cat    |2    |\n",
      "|{2025-04-08 18:27:00, 2025-04-08 18:29:00}|ejemplo|1    |\n",
      "|{2025-04-08 18:26:00, 2025-04-08 18:28:00}|ejemplo|1    |\n",
      "|{2025-04-08 18:27:00, 2025-04-08 18:29:00}|tardes |1    |\n",
      "|{2025-04-08 18:27:00, 2025-04-08 18:29:00}|dog    |2    |\n",
      "|{2025-04-08 18:26:00, 2025-04-08 18:28:00}|dog    |2    |\n",
      "|{2025-04-08 18:27:00, 2025-04-08 18:29:00}|texto  |1    |\n",
      "|{2025-04-08 18:26:00, 2025-04-08 18:28:00}|de     |1    |\n",
      "+------------------------------------------+-------+-----+\n",
      "\n",
      "-------------------------------------------\n",
      "Batch: 1\n",
      "-------------------------------------------\n",
      "+------------------------------------------+----------+----------+\n",
      "|window                                    |max_length|min_length|\n",
      "+------------------------------------------+----------+----------+\n",
      "|{2025-04-08 18:27:00, 2025-04-08 18:30:00}|7         |2         |\n",
      "+------------------------------------------+----------+----------+\n",
      "\n"
     ]
    },
    {
     "name": "stderr",
     "output_type": "stream",
     "text": [
      "                                                                                \r"
     ]
    },
    {
     "name": "stdout",
     "output_type": "stream",
     "text": [
      "-------------------------------------------\n",
      "Batch: 2\n",
      "-------------------------------------------\n",
      "+------------------------------------------+-----------------+\n",
      "|window                                    |avg_length       |\n",
      "+------------------------------------------+-----------------+\n",
      "|{2025-04-08 18:26:15, 2025-04-08 18:27:45}|4.153846153846154|\n",
      "|{2025-04-08 18:27:00, 2025-04-08 18:28:30}|4.153846153846154|\n",
      "+------------------------------------------+-----------------+\n",
      "\n",
      "-------------------------------------------\n",
      "Batch: 2\n",
      "-------------------------------------------\n",
      "+------------------------------------------+-----+-----+\n",
      "|window                                    |word |count|\n",
      "+------------------------------------------+-----+-----+\n",
      "|{2025-04-08 18:26:00, 2025-04-08 18:28:00}|texto|2    |\n",
      "|{2025-04-08 18:26:00, 2025-04-08 18:28:00}|mas  |1    |\n",
      "|{2025-04-08 18:27:00, 2025-04-08 18:29:00}|texto|2    |\n",
      "|{2025-04-08 18:27:00, 2025-04-08 18:29:00}|mas  |1    |\n",
      "+------------------------------------------+-----+-----+\n",
      "\n",
      "-------------------------------------------\n",
      "Batch: 2\n",
      "-------------------------------------------\n",
      "+------------------------------------------+----------+----------+\n",
      "|window                                    |max_length|min_length|\n",
      "+------------------------------------------+----------+----------+\n",
      "|{2025-04-08 18:27:00, 2025-04-08 18:30:00}|7         |2         |\n",
      "+------------------------------------------+----------+----------+\n",
      "\n",
      "-------------------------------------------\n",
      "Batch: 3\n",
      "-------------------------------------------\n",
      "+------+----------+----------+\n",
      "|window|max_length|min_length|\n",
      "+------+----------+----------+\n",
      "+------+----------+----------+\n",
      "\n",
      "-------------------------------------------\n",
      "Batch: 3\n",
      "-------------------------------------------\n",
      "+------+----+-----+\n",
      "|window|word|count|\n",
      "+------+----+-----+\n",
      "+------+----+-----+\n",
      "\n",
      "-------------------------------------------\n",
      "Batch: 3\n",
      "-------------------------------------------\n",
      "+------+----------+\n",
      "|window|avg_length|\n",
      "+------+----------+\n",
      "+------+----------+\n",
      "\n"
     ]
    }
   ],
   "source": [
    "spark.conf.set(\"spark.sql.shuffle.partitions\", \"5\")\n",
    "\n",
    "# Start count query\n",
    "count_query = windowed_counts \\\n",
    "                .writeStream \\\n",
    "                .outputMode(\"update\") \\\n",
    "                .trigger(processingTime='30 seconds') \\\n",
    "                .format(\"console\") \\\n",
    "                .option(\"truncate\", \"false\") \\\n",
    "                .start()\n",
    "\n",
    "# Start avg length query\n",
    "avg_query = avg_word_length \\\n",
    "                .writeStream \\\n",
    "                .outputMode(\"update\") \\\n",
    "                .trigger(processingTime='30 seconds') \\\n",
    "                .format(\"console\") \\\n",
    "                .option(\"truncate\", \"false\") \\\n",
    "                .start()\n",
    "\n",
    "# Start min/max length query\n",
    "extremes_query = word_length_extremes \\\n",
    "                .writeStream \\\n",
    "                .outputMode(\"update\") \\\n",
    "                .trigger(processingTime='30 seconds') \\\n",
    "                .format(\"console\") \\\n",
    "                .option(\"truncate\", \"false\") \\\n",
    "                .start()\n",
    "k\n",
    "# Wait for a short time to see results\n",
    "import time\n",
    "time.sleep(120)\n",
    "\n",
    "# Stop all queries\n",
    "count_query.stop()\n",
    "avg_query.stop()\n",
    "extremes_query.stop()\n",
    "sc.stop()"
   ]
  }
 ],
 "metadata": {
  "kernelspec": {
   "display_name": "Python 3 (ipykernel)",
   "language": "python",
   "name": "python3"
  }
 },
 "nbformat": 4,
 "nbformat_minor": 2
}
