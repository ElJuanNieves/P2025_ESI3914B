{
 "cells": [
  {
   "cell_type": "markdown",
   "metadata": {},
   "source": [
    "# <center> <img src=\"../img/ITESOLogo.png\" alt=\"ITESO\" width=\"480\" height=\"130\"> </center>\n",
    "# <center> **Departamento de Electrónica, Sistemas e Informática** </center>\n",
    "---\n",
    "## <center> **Carrera: <Coloca el nombre de tu carrera aqui>** </center>\n",
    "---\n",
    "### <center> **Primavera 2025** </center>\n",
    "---\n",
    "\n",
    "**Lab 09**\n",
    "\n",
    "**Fecha**: 8/04/2025\n",
    "\n",
    "**Nombre del Estudiante**:\n",
    "- Alberto Renteria Camacho\n",
    "- Ximena Isaac Horta\n",
    "- Lorena Ruelas Gaytán\n",
    "- Yael Alejandro Rodríguez Barreto\n",
    "\n",
    "**Profesor**: Pablo Camarillo Ramirez"
   ]
  },
  {
   "cell_type": "code",
   "execution_count": 49,
   "metadata": {},
   "outputs": [],
   "source": [
    "import findspark\n",
    "findspark.init()"
   ]
  },
  {
   "cell_type": "markdown",
   "metadata": {},
   "source": [
    "#### Creacion de la conexión con el cluster de spark\n"
   ]
  },
  {
   "cell_type": "code",
   "execution_count": 50,
   "metadata": {},
   "outputs": [],
   "source": [
    "from pyspark.sql import SparkSession\n",
    "\n",
    "spark = SparkSession.builder \\\n",
    "    .appName(\"SparkSQLStructuredStreaming-Kafka-Watermarking\") \\\n",
    "    .master(\"spark://3e150af84880:7077\") \\\n",
    "    .config(\"spark.ui.port\",\"4040\") \\\n",
    "    .config(\"spark.jars.packages\", \"org.apache.spark:spark-sql-kafka-0-10_2.13:3.5.4\") \\\n",
    "    .getOrCreate()\n",
    "sc = spark.sparkContext"
   ]
  },
  {
   "cell_type": "markdown",
   "metadata": {},
   "source": [
    "### Creación del Kafka Stream"
   ]
  },
  {
   "cell_type": "code",
   "execution_count": 51,
   "metadata": {},
   "outputs": [
    {
     "name": "stdout",
     "output_type": "stream",
     "text": [
      "root\n",
      " |-- key: binary (nullable = true)\n",
      " |-- value: binary (nullable = true)\n",
      " |-- topic: string (nullable = true)\n",
      " |-- partition: integer (nullable = true)\n",
      " |-- offset: long (nullable = true)\n",
      " |-- timestamp: timestamp (nullable = true)\n",
      " |-- timestampType: integer (nullable = true)\n",
      "\n"
     ]
    }
   ],
   "source": [
    "kafka_lines = spark \\\n",
    "                .readStream \\\n",
    "                .format(\"kafka\") \\\n",
    "                .option(\"kafka.bootstrap.servers\", \"b2513693f9e5:9093\") \\\n",
    "                .option(\"subscribe\", \"kafka-spark-example\") \\\n",
    "                .load()\n",
    "\n",
    "kafka_lines.printSchema()"
   ]
  },
  {
   "cell_type": "markdown",
   "metadata": {},
   "source": [
    "### Transform binary data into string"
   ]
  },
  {
   "cell_type": "code",
   "execution_count": 52,
   "metadata": {},
   "outputs": [],
   "source": [
    "kafka_df = kafka_lines.withColumn(\"value_str\", kafka_lines.value.cast(\"string\"))"
   ]
  },
  {
   "cell_type": "code",
   "execution_count": 53,
   "metadata": {},
   "outputs": [
    {
     "name": "stdout",
     "output_type": "stream",
     "text": [
      "root\n",
      " |-- word: string (nullable = false)\n",
      " |-- timestamp: timestamp (nullable = true)\n",
      " |-- lenght: integer (nullable = false)\n",
      "\n"
     ]
    }
   ],
   "source": [
    "from pyspark.sql.functions import explode, split, length\n",
    "\n",
    "words = kafka_df.select(explode(split(kafka_df.value, \" \")).alias(\"word\"), \"timestamp\")\n",
    "words = words.withColumn(\"lenght\", length(words.word))\n",
    "words.printSchema()"
   ]
  },
  {
   "cell_type": "markdown",
   "metadata": {},
   "source": [
    "### Opción 1"
   ]
  },
  {
   "cell_type": "code",
   "execution_count": 46,
   "metadata": {},
   "outputs": [],
   "source": [
    "from pyspark.sql.functions import window, avg, sum, max, min, count\n",
    "windowed_counts =  words \\\n",
    "                        .withWatermark(\"timestamp\", \"1 minutes\") \\\n",
    "                        .groupBy(window(words.timestamp, \n",
    "                                        \"40 seconds\", # Window duration \n",
    "                                        \"20 seconds\"), # Slide duration\n",
    "                            words.word) \\\n",
    "                        .agg(avg(\"lenght\").alias(\"Average\"), \\\n",
    "                            sum(\"lenght\").alias(\"Total\"), \\\n",
    "                            min(\"lenght\").alias(\"Min\"), \\\n",
    "                            max(\"lenght\").alias(\"Max\"),\n",
    "                            count(\"word\").alias(\"Count\")) "
   ]
  },
  {
   "cell_type": "markdown",
   "metadata": {},
   "source": [
    "### Opción 2"
   ]
  },
  {
   "cell_type": "code",
   "execution_count": 54,
   "metadata": {},
   "outputs": [],
   "source": [
    "from pyspark.sql.functions import window, avg, sum, max, min, count\n",
    "windowed_counts =  words \\\n",
    "                        .withWatermark(\"timestamp\", \"1 minutes\") \\\n",
    "                        .groupBy(window(words.timestamp, \n",
    "                                        \"40 seconds\", # Window duration \n",
    "                                        \"20 seconds\"), # Slide duration\n",
    "                            ) \\\n",
    "                        .agg(avg(\"lenght\").alias(\"Average\"), \\\n",
    "                            sum(\"lenght\").alias(\"Total\"), \\\n",
    "                            min(\"lenght\").alias(\"Min\"), \\\n",
    "                            max(\"lenght\").alias(\"Max\")) "
   ]
  },
  {
   "cell_type": "markdown",
   "metadata": {},
   "source": [
    "### Configuración del \"Sink\" del stream"
   ]
  },
  {
   "cell_type": "code",
   "execution_count": 47,
   "metadata": {},
   "outputs": [
    {
     "name": "stderr",
     "output_type": "stream",
     "text": [
      "25/04/10 00:37:52 WARN ResolveWriteToStream: Temporary checkpoint location created which is deleted normally when the query didn't fail: /tmp/temporary-0ead325c-e094-48ba-8aa4-ef000df6bca1. If it's required to delete it under any circumstances, please set spark.sql.streaming.forceDeleteTempCheckpointLocation to true. Important to know deleting temp checkpoint folder is best effort.\n",
      "25/04/10 00:37:52 WARN ResolveWriteToStream: spark.sql.adaptive.enabled is not supported in streaming DataFrames/Datasets and will be disabled.\n",
      "25/04/10 00:37:52 WARN AdminClientConfig: These configurations '[key.deserializer, value.deserializer, enable.auto.commit, max.poll.records, auto.offset.reset]' were supplied but are not used yet.\n",
      "                                                                                \r"
     ]
    },
    {
     "name": "stdout",
     "output_type": "stream",
     "text": [
      "-------------------------------------------\n",
      "Batch: 0\n",
      "-------------------------------------------\n",
      "+------+----+-------+-----+---+---+-----+\n",
      "|window|word|Average|Total|Min|Max|Count|\n",
      "+------+----+-------+-----+---+---+-----+\n",
      "+------+----+-------+-----+---+---+-----+\n",
      "\n"
     ]
    },
    {
     "name": "stderr",
     "output_type": "stream",
     "text": [
      "                                                                                \r"
     ]
    },
    {
     "name": "stdout",
     "output_type": "stream",
     "text": [
      "-------------------------------------------\n",
      "Batch: 1\n",
      "-------------------------------------------\n",
      "+------------------------------------------+--------+-------+-----+---+---+-----+\n",
      "|window                                    |word    |Average|Total|Min|Max|Count|\n",
      "+------------------------------------------+--------+-------+-----+---+---+-----+\n",
      "|{2025-04-10 00:37:40, 2025-04-10 00:38:20}|palabras|8.0    |16   |8  |8  |2    |\n",
      "|{2025-04-10 00:37:20, 2025-04-10 00:38:00}|palabras|8.0    |16   |8  |8  |2    |\n",
      "+------------------------------------------+--------+-------+-----+---+---+-----+\n",
      "\n"
     ]
    },
    {
     "name": "stderr",
     "output_type": "stream",
     "text": [
      "                                                                                \r"
     ]
    },
    {
     "name": "stdout",
     "output_type": "stream",
     "text": [
      "-------------------------------------------\n",
      "Batch: 2\n",
      "-------------------------------------------\n",
      "+------------------------------------------+--------+-------+-----+---+---+-----+\n",
      "|window                                    |word    |Average|Total|Min|Max|Count|\n",
      "+------------------------------------------+--------+-------+-----+---+---+-----+\n",
      "|{2025-04-10 00:38:00, 2025-04-10 00:38:40}|palabras|8.0    |8    |8  |8  |1    |\n",
      "|{2025-04-10 00:37:40, 2025-04-10 00:38:20}|palabras|8.0    |24   |8  |8  |3    |\n",
      "|{2025-04-10 00:38:00, 2025-04-10 00:38:40}|apra    |4.0    |8    |4  |4  |2    |\n",
      "|{2025-04-10 00:37:40, 2025-04-10 00:38:20}|lo      |2.0    |2    |2  |2  |1    |\n",
      "|{2025-04-10 00:38:00, 2025-04-10 00:38:40}|hay     |3.0    |3    |3  |3  |1    |\n",
      "|{2025-04-10 00:38:00, 2025-04-10 00:38:40}|en      |2.0    |2    |2  |2  |1    |\n",
      "|{2025-04-10 00:37:40, 2025-04-10 00:38:20}|en      |2.0    |2    |2  |2  |1    |\n",
      "|{2025-04-10 00:38:00, 2025-04-10 00:38:40}|para    |4.0    |4    |4  |4  |1    |\n",
      "|{2025-04-10 00:38:00, 2025-04-10 00:38:40}|muchas  |6.0    |6    |6  |6  |1    |\n",
      "|{2025-04-10 00:38:00, 2025-04-10 00:38:40}|XD      |2.0    |2    |2  |2  |1    |\n",
      "|{2025-04-10 00:37:40, 2025-04-10 00:38:20}|ver     |3.0    |12   |3  |3  |4    |\n",
      "|{2025-04-10 00:38:00, 2025-04-10 00:38:40}|que     |3.0    |6    |3  |3  |2    |\n",
      "|{2025-04-10 00:37:40, 2025-04-10 00:38:20}|que     |3.0    |6    |3  |3  |2    |\n",
      "|{2025-04-10 00:38:00, 2025-04-10 00:38:40}|ver     |3.0    |12   |3  |3  |4    |\n",
      "|{2025-04-10 00:37:40, 2025-04-10 00:38:20}|muchas  |6.0    |6    |6  |6  |1    |\n",
      "|{2025-04-10 00:37:40, 2025-04-10 00:38:20}|hay     |3.0    |3    |3  |3  |1    |\n",
      "|{2025-04-10 00:38:00, 2025-04-10 00:38:40}|de      |2.0    |2    |2  |2  |1    |\n",
      "|{2025-04-10 00:37:40, 2025-04-10 00:38:20}|apra    |4.0    |8    |4  |4  |2    |\n",
      "|{2025-04-10 00:38:00, 2025-04-10 00:38:40}|lo      |2.0    |2    |2  |2  |1    |\n",
      "|{2025-04-10 00:38:00, 2025-04-10 00:38:40}|vez     |3.0    |3    |3  |3  |1    |\n",
      "+------------------------------------------+--------+-------+-----+---+---+-----+\n",
      "only showing top 20 rows\n",
      "\n"
     ]
    },
    {
     "name": "stderr",
     "output_type": "stream",
     "text": [
      "                                                                                \r"
     ]
    },
    {
     "name": "stdout",
     "output_type": "stream",
     "text": [
      "-------------------------------------------\n",
      "Batch: 3\n",
      "-------------------------------------------\n",
      "+------+----+-------+-----+---+---+-----+\n",
      "|window|word|Average|Total|Min|Max|Count|\n",
      "+------+----+-------+-----+---+---+-----+\n",
      "+------+----+-------+-----+---+---+-----+\n",
      "\n"
     ]
    },
    {
     "data": {
      "text/plain": [
       "False"
      ]
     },
     "execution_count": 47,
     "metadata": {},
     "output_type": "execute_result"
    }
   ],
   "source": [
    "spark.conf.set(\"spark.sql.shuffle.partitions\", \"5\")\n",
    "\n",
    "query = windowed_counts \\\n",
    "                .writeStream \\\n",
    "                .outputMode(\"update\") \\\n",
    "                .trigger(processingTime='30 seconds') \\\n",
    "                .format(\"console\") \\\n",
    "                .option(\"truncate\", \"false\") \\\n",
    "                .start()\n",
    "\n",
    "query.awaitTermination(100)"
   ]
  },
  {
   "cell_type": "code",
   "execution_count": 55,
   "metadata": {},
   "outputs": [
    {
     "name": "stderr",
     "output_type": "stream",
     "text": [
      "25/04/10 00:40:18 WARN ResolveWriteToStream: Temporary checkpoint location created which is deleted normally when the query didn't fail: /tmp/temporary-f7156eb3-ec24-47bf-8b48-d3a17356fb58. If it's required to delete it under any circumstances, please set spark.sql.streaming.forceDeleteTempCheckpointLocation to true. Important to know deleting temp checkpoint folder is best effort.\n",
      "25/04/10 00:40:18 WARN ResolveWriteToStream: spark.sql.adaptive.enabled is not supported in streaming DataFrames/Datasets and will be disabled.\n",
      "25/04/10 00:40:18 WARN AdminClientConfig: These configurations '[key.deserializer, value.deserializer, enable.auto.commit, max.poll.records, auto.offset.reset]' were supplied but are not used yet.\n",
      "                                                                                \r"
     ]
    },
    {
     "name": "stdout",
     "output_type": "stream",
     "text": [
      "-------------------------------------------\n",
      "Batch: 0\n",
      "-------------------------------------------\n",
      "+------+-------+-----+---+---+\n",
      "|window|Average|Total|Min|Max|\n",
      "+------+-------+-----+---+---+\n",
      "+------+-------+-----+---+---+\n",
      "\n"
     ]
    },
    {
     "name": "stderr",
     "output_type": "stream",
     "text": [
      "                                                                                \r"
     ]
    },
    {
     "name": "stdout",
     "output_type": "stream",
     "text": [
      "-------------------------------------------\n",
      "Batch: 1\n",
      "-------------------------------------------\n",
      "+------------------------------------------+-------+-----+---+---+\n",
      "|window                                    |Average|Total|Min|Max|\n",
      "+------------------------------------------+-------+-----+---+---+\n",
      "|{2025-04-10 00:40:20, 2025-04-10 00:41:00}|6.5    |39   |6  |7  |\n",
      "|{2025-04-10 00:40:00, 2025-04-10 00:40:40}|6.5    |39   |6  |7  |\n",
      "+------------------------------------------+-------+-----+---+---+\n",
      "\n"
     ]
    },
    {
     "data": {
      "text/plain": [
       "False"
      ]
     },
     "execution_count": 55,
     "metadata": {},
     "output_type": "execute_result"
    },
    {
     "name": "stderr",
     "output_type": "stream",
     "text": [
      "                                                                                \r"
     ]
    },
    {
     "name": "stdout",
     "output_type": "stream",
     "text": [
      "-------------------------------------------\n",
      "Batch: 2\n",
      "-------------------------------------------\n",
      "+------------------------------------------+------------------+-----+---+---+\n",
      "|window                                    |Average           |Total|Min|Max|\n",
      "+------------------------------------------+------------------+-----+---+---+\n",
      "|{2025-04-10 00:40:40, 2025-04-10 00:41:20}|3.4285714285714284|24   |1  |7  |\n",
      "|{2025-04-10 00:41:20, 2025-04-10 00:42:00}|22.0              |22   |22 |22 |\n",
      "|{2025-04-10 00:41:00, 2025-04-10 00:41:40}|5.75              |46   |1  |22 |\n",
      "+------------------------------------------+------------------+-----+---+---+\n",
      "\n"
     ]
    },
    {
     "name": "stderr",
     "output_type": "stream",
     "text": [
      "                                                                                \r"
     ]
    },
    {
     "name": "stdout",
     "output_type": "stream",
     "text": [
      "-------------------------------------------\n",
      "Batch: 3\n",
      "-------------------------------------------\n",
      "+------+-------+-----+---+---+\n",
      "|window|Average|Total|Min|Max|\n",
      "+------+-------+-----+---+---+\n",
      "+------+-------+-----+---+---+\n",
      "\n"
     ]
    }
   ],
   "source": [
    "spark.conf.set(\"spark.sql.shuffle.partitions\", \"5\")\n",
    "\n",
    "query = windowed_counts \\\n",
    "                .writeStream \\\n",
    "                .outputMode(\"update\") \\\n",
    "                .trigger(processingTime='30 seconds') \\\n",
    "                .format(\"console\") \\\n",
    "                .option(\"truncate\", \"false\") \\\n",
    "                .start()\n",
    "\n",
    "query.awaitTermination(60)"
   ]
  },
  {
   "cell_type": "code",
   "execution_count": 48,
   "metadata": {},
   "outputs": [],
   "source": [
    "query.stop()\n",
    "sc.stop()"
   ]
  }
 ],
 "metadata": {
  "kernelspec": {
   "display_name": "Python 3 (ipykernel)",
   "language": "python",
   "name": "python3"
  },
  "language_info": {
   "codemirror_mode": {
    "name": "ipython",
    "version": 3
   },
   "file_extension": ".py",
   "mimetype": "text/x-python",
   "name": "python",
   "nbconvert_exporter": "python",
   "pygments_lexer": "ipython3",
   "version": "3.11.6"
  }
 },
 "nbformat": 4,
 "nbformat_minor": 2
}
