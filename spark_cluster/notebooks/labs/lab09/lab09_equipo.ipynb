{
 "cells": [
  {
   "cell_type": "markdown",
   "metadata": {},
   "source": [
    "# <center> <img src=\"../img/ITESOLogo.png\" alt=\"ITESO\" width=\"480\" height=\"130\"> </center>\n",
    "# <center> **Departamento de Electrónica, Sistemas e Informática** </center>\n",
    "---\n",
    "## <center> **Carrera: <Coloca el nombre de tu carrera aqui>** </center>\n",
    "---\n",
    "### <center> **Primavera 2025** </center>\n",
    "---\n",
    "\n",
    "**Lab XX**:\n",
    "\n",
    "**Fecha**:\n",
    "\n",
    "**Nombre del Estudiante**:\n",
    "\n",
    "**Profesor**: Pablo Camarillo Ramirez"
   ]
  },
  {
   "cell_type": "code",
   "execution_count": 29,
   "metadata": {},
   "outputs": [],
   "source": [
    "import findspark\n",
    "findspark.init()"
   ]
  },
  {
   "cell_type": "markdown",
   "metadata": {},
   "source": [
    "#### Creacion de la conexión con el cluster de spark\n"
   ]
  },
  {
   "cell_type": "code",
   "execution_count": 30,
   "metadata": {},
   "outputs": [],
   "source": [
    "from pyspark.sql import SparkSession\n",
    "\n",
    "spark = SparkSession.builder \\\n",
    "    .appName(\"SparkSQLStructuredStreaming-Kafka-Watermarking\") \\\n",
    "    .master(\"spark://22b4d5547f27:7077\") \\\n",
    "    .config(\"spark.ui.port\",\"4040\") \\\n",
    "    .config(\"spark.jars.packages\", \"org.apache.spark:spark-sql-kafka-0-10_2.13:3.5.4\") \\\n",
    "    .getOrCreate()\n",
    "sc = spark.sparkContext"
   ]
  },
  {
   "cell_type": "markdown",
   "metadata": {},
   "source": [
    "### Creación del Kafka Stream"
   ]
  },
  {
   "cell_type": "code",
   "execution_count": 31,
   "metadata": {},
   "outputs": [
    {
     "name": "stdout",
     "output_type": "stream",
     "text": [
      "root\n",
      " |-- key: binary (nullable = true)\n",
      " |-- value: binary (nullable = true)\n",
      " |-- topic: string (nullable = true)\n",
      " |-- partition: integer (nullable = true)\n",
      " |-- offset: long (nullable = true)\n",
      " |-- timestamp: timestamp (nullable = true)\n",
      " |-- timestampType: integer (nullable = true)\n",
      "\n"
     ]
    }
   ],
   "source": [
    "kafka_lines = spark \\\n",
    "                .readStream \\\n",
    "                .format(\"kafka\") \\\n",
    "                .option(\"kafka.bootstrap.servers\", \"87e989446b6a:9093\") \\\n",
    "                .option(\"subscribe\", \"kafka-spark-example\") \\\n",
    "                .load()\n",
    "\n",
    "kafka_lines.printSchema()"
   ]
  },
  {
   "cell_type": "markdown",
   "metadata": {},
   "source": [
    "### Transform binary data into string"
   ]
  },
  {
   "cell_type": "code",
   "execution_count": 32,
   "metadata": {},
   "outputs": [],
   "source": [
    "from pyspark.sql.functions import col, split\n",
    "\n",
    "kafka_df = kafka_lines.withColumn(\"value_str\", kafka_lines.value.cast(\"string\"))\n",
    "\n",
    "parsed_df = kafka_df.withColumn(\"word\", split(col(\"value_str\"), \",\").getItem(0)) \\\n",
    "                    .withColumn(\"num\", split(col(\"value_str\"), \",\").getItem(1).cast(\"int\")) \\\n",
    "                    .withColumn(\"timestamp\", col(\"timestamp\"))"
   ]
  },
  {
   "cell_type": "markdown",
   "metadata": {},
   "source": [
    "### Aplicando el mecanismo para manejar datos tardios con marcas de agua (watermarking)"
   ]
  },
  {
   "cell_type": "code",
   "execution_count": 35,
   "metadata": {},
   "outputs": [],
   "source": [
    "\n",
    "from pyspark.sql.functions import window, count, sum, max\n",
    "windowed_counts = parsed_df \\\n",
    "                    .withWatermark(\"timestamp\", \"3 minutes\") \\\n",
    "                    .groupBy(\n",
    "                        window(col(\"timestamp\"), \"90 seconds\", \"45 seconds\"),\n",
    "                        col(\"word\")\n",
    "                    ) \\\n",
    "                    .agg(count(\"*\"), sum(\"num\"), max(\"num\"))"
   ]
  },
  {
   "cell_type": "markdown",
   "metadata": {},
   "source": [
    "### Configuración del \"Sink\" del stream"
   ]
  },
  {
   "cell_type": "code",
   "execution_count": 36,
   "metadata": {},
   "outputs": [
    {
     "name": "stderr",
     "output_type": "stream",
     "text": [
      "25/04/08 14:46:20 WARN ResolveWriteToStream: Temporary checkpoint location created which is deleted normally when the query didn't fail: /tmp/temporary-de8bde9e-1544-4b83-9ca6-057b10441483. If it's required to delete it under any circumstances, please set spark.sql.streaming.forceDeleteTempCheckpointLocation to true. Important to know deleting temp checkpoint folder is best effort.\n",
      "25/04/08 14:46:20 WARN ResolveWriteToStream: spark.sql.adaptive.enabled is not supported in streaming DataFrames/Datasets and will be disabled.\n",
      "25/04/08 14:46:20 WARN AdminClientConfig: These configurations '[key.deserializer, value.deserializer, enable.auto.commit, max.poll.records, auto.offset.reset]' were supplied but are not used yet.\n",
      "                                                                                \r"
     ]
    },
    {
     "name": "stdout",
     "output_type": "stream",
     "text": [
      "-------------------------------------------\n",
      "Batch: 0\n",
      "-------------------------------------------\n",
      "+------+----+--------+--------+--------+\n",
      "|window|word|count(1)|sum(num)|max(num)|\n",
      "+------+----+--------+--------+--------+\n",
      "+------+----+--------+--------+--------+\n",
      "\n"
     ]
    },
    {
     "name": "stderr",
     "output_type": "stream",
     "text": [
      "                                                                                \r"
     ]
    },
    {
     "name": "stdout",
     "output_type": "stream",
     "text": [
      "-------------------------------------------\n",
      "Batch: 1\n",
      "-------------------------------------------\n",
      "+------------------------------------------+-----+--------+--------+--------+\n",
      "|window                                    |word |count(1)|sum(num)|max(num)|\n",
      "+------------------------------------------+-----+--------+--------+--------+\n",
      "|{2025-04-08 14:45:45, 2025-04-08 14:47:15}|pedro|1       |1       |1       |\n",
      "|{2025-04-08 14:46:30, 2025-04-08 14:48:00}|hola |1       |2       |2       |\n",
      "|{2025-04-08 14:45:45, 2025-04-08 14:47:15}|hola |1       |2       |2       |\n",
      "|{2025-04-08 14:46:30, 2025-04-08 14:48:00}|pedro|1       |1       |1       |\n",
      "+------------------------------------------+-----+--------+--------+--------+\n",
      "\n"
     ]
    },
    {
     "name": "stderr",
     "output_type": "stream",
     "text": [
      "                                                                                \r"
     ]
    },
    {
     "name": "stdout",
     "output_type": "stream",
     "text": [
      "-------------------------------------------\n",
      "Batch: 4\n",
      "-------------------------------------------\n",
      "+------------------------------------------+-----+-----+-------+-------+\n",
      "|window                                    |word |count|sum_num|max_num|\n",
      "+------------------------------------------+-----+-----+-------+-------+\n",
      "|{2025-04-08 14:46:30, 2025-04-08 14:47:30}|hola |1    |2      |2      |\n",
      "|{2025-04-08 14:46:30, 2025-04-08 14:47:30}|pedro|1    |1      |1      |\n",
      "|{2025-04-08 14:46:00, 2025-04-08 14:47:00}|pedro|1    |1      |1      |\n",
      "|{2025-04-08 14:46:00, 2025-04-08 14:47:00}|hola |1    |2      |2      |\n",
      "+------------------------------------------+-----+-----+-------+-------+\n",
      "\n"
     ]
    },
    {
     "name": "stderr",
     "output_type": "stream",
     "text": [
      "                                                                                \r"
     ]
    },
    {
     "name": "stdout",
     "output_type": "stream",
     "text": [
      "-------------------------------------------\n",
      "Batch: 2\n",
      "-------------------------------------------\n",
      "+------------------------------------------+-----+--------+--------+--------+\n",
      "|window                                    |word |count(1)|sum(num)|max(num)|\n",
      "+------------------------------------------+-----+--------+--------+--------+\n",
      "|{2025-04-08 14:45:45, 2025-04-08 14:47:15}|pedro|2       |20      |19      |\n",
      "|{2025-04-08 14:46:30, 2025-04-08 14:48:00}|hola |3       |416     |399     |\n",
      "|{2025-04-08 14:45:45, 2025-04-08 14:47:15}|hola |3       |416     |399     |\n",
      "|{2025-04-08 14:46:30, 2025-04-08 14:48:00}|pedro|2       |20      |19      |\n",
      "+------------------------------------------+-----+--------+--------+--------+\n",
      "\n"
     ]
    },
    {
     "name": "stderr",
     "output_type": "stream",
     "text": [
      "                                                                                \r"
     ]
    },
    {
     "name": "stdout",
     "output_type": "stream",
     "text": [
      "-------------------------------------------\n",
      "Batch: 5\n",
      "-------------------------------------------\n",
      "+------------------------------------------+-----+-----+-------+-------+\n",
      "|window                                    |word |count|sum_num|max_num|\n",
      "+------------------------------------------+-----+-----+-------+-------+\n",
      "|{2025-04-08 14:47:00, 2025-04-08 14:48:00}|pedro|1    |19     |19     |\n",
      "|{2025-04-08 14:46:30, 2025-04-08 14:47:30}|pedro|2    |20     |19     |\n",
      "|{2025-04-08 14:46:30, 2025-04-08 14:47:30}|hola |3    |416    |399    |\n",
      "|{2025-04-08 14:47:00, 2025-04-08 14:48:00}|hola |2    |414    |399    |\n",
      "+------------------------------------------+-----+-----+-------+-------+\n",
      "\n"
     ]
    },
    {
     "name": "stderr",
     "output_type": "stream",
     "text": [
      "                                                                                \r"
     ]
    },
    {
     "name": "stdout",
     "output_type": "stream",
     "text": [
      "-------------------------------------------\n",
      "Batch: 6\n",
      "-------------------------------------------\n",
      "+------+----+-----+-------+-------+\n",
      "|window|word|count|sum_num|max_num|\n",
      "+------+----+-----+-------+-------+\n",
      "+------+----+-----+-------+-------+\n",
      "\n"
     ]
    },
    {
     "name": "stderr",
     "output_type": "stream",
     "text": [
      "                                                                                \r"
     ]
    },
    {
     "name": "stdout",
     "output_type": "stream",
     "text": [
      "-------------------------------------------\n",
      "Batch: 3\n",
      "-------------------------------------------\n",
      "+------+----+--------+--------+--------+\n",
      "|window|word|count(1)|sum(num)|max(num)|\n",
      "+------+----+--------+--------+--------+\n",
      "+------+----+--------+--------+--------+\n",
      "\n"
     ]
    },
    {
     "data": {
      "text/plain": [
       "False"
      ]
     },
     "execution_count": 36,
     "metadata": {},
     "output_type": "execute_result"
    }
   ],
   "source": [
    "spark.conf.set(\"spark.sql.shuffle.partitions\", \"5\")\n",
    "\n",
    "query = windowed_counts \\\n",
    "                .writeStream \\\n",
    "                .outputMode(\"update\") \\\n",
    "                .trigger(processingTime='30 seconds') \\\n",
    "                .format(\"console\") \\\n",
    "                .option(\"truncate\", \"false\") \\\n",
    "                .start()\n",
    "\n",
    "query.awaitTermination(300)"
   ]
  },
  {
   "cell_type": "code",
   "execution_count": 28,
   "metadata": {},
   "outputs": [],
   "source": [
    "query.stop()\n",
    "sc.stop()"
   ]
  }
 ],
 "metadata": {
  "kernelspec": {
   "display_name": "Python 3 (ipykernel)",
   "language": "python",
   "name": "python3"
  },
  "language_info": {
   "codemirror_mode": {
    "name": "ipython",
    "version": 3
   },
   "file_extension": ".py",
   "mimetype": "text/x-python",
   "name": "python",
   "nbconvert_exporter": "python",
   "pygments_lexer": "ipython3",
   "version": "3.11.6"
  }
 },
 "nbformat": 4,
 "nbformat_minor": 2
}
