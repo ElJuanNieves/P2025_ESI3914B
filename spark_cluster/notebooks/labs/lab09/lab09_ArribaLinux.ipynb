{
 "cells": [
  {
   "cell_type": "markdown",
   "metadata": {},
   "source": [
    "# <center> <img src=\"../labs/img/ITESOLogo.png\" alt=\"ITESO\" width=\"480\" height=\"130\"> </center>\n",
    "# <center> **Departamento de Electrónica, Sistemas e Informática** </center>\n",
    "---\n",
    "## <center> **Procesamiento de Datos Masivos** </center>\n",
    "---\n",
    "### <center> **Primavera 2025** </center>\n",
    "---\n",
    "### <center> **Ejemplos de Spark: Structured Streaming (Kafka + Watermarking)** </center>\n",
    "\n",
    "---\n",
    "\n",
    "**Lab 09**\n",
    "\n",
    "**Fecha**: 08 abril 2025\n",
    "\n",
    "**Nombre del Equipo**: Arriba Linux\n",
    "\n",
    "**Integrantes del Equipo**: Tirzah Peniche Barba / Ana Cristina Luna Arellano / Juan Pedro Bihouet\n",
    "\n",
    "**Profesor**: Dr. Pablo Camarillo Ramirez"
   ]
  },
  {
   "cell_type": "code",
   "execution_count": 3,
   "metadata": {},
   "outputs": [],
   "source": [
    "import findspark\n",
    "findspark.init()"
   ]
  },
  {
   "cell_type": "markdown",
   "metadata": {},
   "source": [
    "#### Creacion de la conexión con el cluster de spark\n"
   ]
  },
  {
   "cell_type": "code",
   "execution_count": 4,
   "metadata": {},
   "outputs": [
    {
     "name": "stdout",
     "output_type": "stream",
     "text": [
      ":: loading settings :: url = jar:file:/opt/conda/spark-3.5.4-bin-hadoop3-scala2.13/jars/ivy-2.5.1.jar!/org/apache/ivy/core/settings/ivysettings.xml\n"
     ]
    },
    {
     "name": "stderr",
     "output_type": "stream",
     "text": [
      "Ivy Default Cache set to: /root/.ivy2/cache\n",
      "The jars for the packages stored in: /root/.ivy2/jars\n",
      "org.apache.spark#spark-sql-kafka-0-10_2.13 added as a dependency\n",
      ":: resolving dependencies :: org.apache.spark#spark-submit-parent-2c5ca1fe-22b6-47c9-b868-53dc85d9263b;1.0\n",
      "\tconfs: [default]\n",
      "\tfound org.apache.spark#spark-sql-kafka-0-10_2.13;3.5.4 in central\n",
      "\tfound org.apache.spark#spark-token-provider-kafka-0-10_2.13;3.5.4 in central\n",
      "\tfound org.apache.kafka#kafka-clients;3.4.1 in central\n",
      "\tfound org.lz4#lz4-java;1.8.0 in central\n",
      "\tfound org.xerial.snappy#snappy-java;1.1.10.5 in central\n",
      "\tfound org.slf4j#slf4j-api;2.0.7 in central\n",
      "\tfound org.apache.hadoop#hadoop-client-runtime;3.3.4 in central\n",
      "\tfound org.apache.hadoop#hadoop-client-api;3.3.4 in central\n",
      "\tfound commons-logging#commons-logging;1.1.3 in central\n",
      "\tfound com.google.code.findbugs#jsr305;3.0.0 in central\n",
      "\tfound org.scala-lang.modules#scala-parallel-collections_2.13;1.0.4 in central\n",
      "\tfound org.apache.commons#commons-pool2;2.11.1 in central\n",
      ":: resolution report :: resolve 1707ms :: artifacts dl 29ms\n",
      "\t:: modules in use:\n",
      "\tcom.google.code.findbugs#jsr305;3.0.0 from central in [default]\n",
      "\tcommons-logging#commons-logging;1.1.3 from central in [default]\n",
      "\torg.apache.commons#commons-pool2;2.11.1 from central in [default]\n",
      "\torg.apache.hadoop#hadoop-client-api;3.3.4 from central in [default]\n",
      "\torg.apache.hadoop#hadoop-client-runtime;3.3.4 from central in [default]\n",
      "\torg.apache.kafka#kafka-clients;3.4.1 from central in [default]\n",
      "\torg.apache.spark#spark-sql-kafka-0-10_2.13;3.5.4 from central in [default]\n",
      "\torg.apache.spark#spark-token-provider-kafka-0-10_2.13;3.5.4 from central in [default]\n",
      "\torg.lz4#lz4-java;1.8.0 from central in [default]\n",
      "\torg.scala-lang.modules#scala-parallel-collections_2.13;1.0.4 from central in [default]\n",
      "\torg.slf4j#slf4j-api;2.0.7 from central in [default]\n",
      "\torg.xerial.snappy#snappy-java;1.1.10.5 from central in [default]\n",
      "\t---------------------------------------------------------------------\n",
      "\t|                  |            modules            ||   artifacts   |\n",
      "\t|       conf       | number| search|dwnlded|evicted|| number|dwnlded|\n",
      "\t---------------------------------------------------------------------\n",
      "\t|      default     |   12  |   0   |   0   |   0   ||   12  |   0   |\n",
      "\t---------------------------------------------------------------------\n",
      ":: retrieving :: org.apache.spark#spark-submit-parent-2c5ca1fe-22b6-47c9-b868-53dc85d9263b\n",
      "\tconfs: [default]\n",
      "\t0 artifacts copied, 12 already retrieved (0kB/29ms)\n",
      "25/04/10 04:35:27 WARN NativeCodeLoader: Unable to load native-hadoop library for your platform... using builtin-java classes where applicable\n",
      "Setting default log level to \"WARN\".\n",
      "To adjust logging level use sc.setLogLevel(newLevel). For SparkR, use setLogLevel(newLevel).\n"
     ]
    }
   ],
   "source": [
    "from pyspark.sql import SparkSession\n",
    "\n",
    "spark = SparkSession.builder \\\n",
    "    .appName(\"SparkSQLStructuredStreaming-Kafka-Watermarking\") \\\n",
    "    .master(\"spark://d9c3cc2bade8:7077\") \\\n",
    "    .config(\"spark.ui.port\",\"4040\") \\\n",
    "    .config(\"spark.jars.packages\", \"org.apache.spark:spark-sql-kafka-0-10_2.13:3.5.4\") \\\n",
    "    .getOrCreate()\n",
    "sc = spark.sparkContext"
   ]
  },
  {
   "cell_type": "markdown",
   "metadata": {},
   "source": [
    "### Creación del Kafka Stream"
   ]
  },
  {
   "cell_type": "code",
   "execution_count": 5,
   "metadata": {},
   "outputs": [
    {
     "name": "stdout",
     "output_type": "stream",
     "text": [
      "root\n",
      " |-- key: binary (nullable = true)\n",
      " |-- value: binary (nullable = true)\n",
      " |-- topic: string (nullable = true)\n",
      " |-- partition: integer (nullable = true)\n",
      " |-- offset: long (nullable = true)\n",
      " |-- timestamp: timestamp (nullable = true)\n",
      " |-- timestampType: integer (nullable = true)\n",
      "\n"
     ]
    }
   ],
   "source": [
    "kafka_lines = spark \\\n",
    "                .readStream \\\n",
    "                .format(\"kafka\") \\\n",
    "                .option(\"kafka.bootstrap.servers\", \"49917d1b98f5:9093\") \\\n",
    "                .option(\"subscribe\", \"kafka-spark-example\") \\\n",
    "                .load()\n",
    "\n",
    "kafka_lines.printSchema()"
   ]
  },
  {
   "cell_type": "markdown",
   "metadata": {},
   "source": [
    "### Transform binary data into string"
   ]
  },
  {
   "cell_type": "code",
   "execution_count": 6,
   "metadata": {},
   "outputs": [],
   "source": [
    "kafka_df = kafka_lines.withColumn(\"value_str\", kafka_lines.value.cast(\"string\"))"
   ]
  },
  {
   "cell_type": "code",
   "execution_count": 7,
   "metadata": {},
   "outputs": [
    {
     "name": "stdout",
     "output_type": "stream",
     "text": [
      "root\n",
      " |-- word: string (nullable = false)\n",
      " |-- timestamp: timestamp (nullable = true)\n",
      "\n"
     ]
    }
   ],
   "source": [
    "from pyspark.sql.functions import explode, split\n",
    "\n",
    "words = kafka_df.select(explode(split(kafka_df.value, \" \")).alias(\"word\"), \"timestamp\")\n",
    "words.printSchema()"
   ]
  },
  {
   "cell_type": "markdown",
   "metadata": {},
   "source": [
    "### Aplicando el mecanismo para manejar datos tardios con marcas de agua (watermarking)"
   ]
  },
  {
   "cell_type": "code",
   "execution_count": 8,
   "metadata": {},
   "outputs": [],
   "source": [
    "from pyspark.sql.functions import window, col\n",
    "windowed_counts =  words \\\n",
    "                        .withWatermark(\"timestamp\", \"2 minutes\") \\\n",
    "                        .groupBy(window(words.timestamp, \n",
    "                                        \"30 seconds\", # Window duration \n",
    "                                        \"5 seconds\"), # Slide duration\n",
    "                                 words.word) \\\n",
    "                        .count()"
   ]
  },
  {
   "cell_type": "markdown",
   "metadata": {},
   "source": [
    "### Configuración del \"Sink\" del stream"
   ]
  },
  {
   "cell_type": "code",
   "execution_count": 8,
   "metadata": {},
   "outputs": [
    {
     "name": "stderr",
     "output_type": "stream",
     "text": [
      "25/04/08 13:53:01 WARN ResolveWriteToStream: Temporary checkpoint location created which is deleted normally when the query didn't fail: /tmp/temporary-6cdc5767-44b3-4e06-9b4b-84804a7fa472. If it's required to delete it under any circumstances, please set spark.sql.streaming.forceDeleteTempCheckpointLocation to true. Important to know deleting temp checkpoint folder is best effort.\n",
      "25/04/08 13:53:01 WARN ResolveWriteToStream: spark.sql.adaptive.enabled is not supported in streaming DataFrames/Datasets and will be disabled.\n",
      "25/04/08 13:53:02 WARN AdminClientConfig: These configurations '[key.deserializer, value.deserializer, enable.auto.commit, max.poll.records, auto.offset.reset]' were supplied but are not used yet.\n",
      "                                                                                \r"
     ]
    },
    {
     "name": "stdout",
     "output_type": "stream",
     "text": [
      "-------------------------------------------\n",
      "Batch: 0\n",
      "-------------------------------------------\n",
      "+------+----+-----+\n",
      "|window|word|count|\n",
      "+------+----+-----+\n",
      "+------+----+-----+\n",
      "\n"
     ]
    },
    {
     "name": "stderr",
     "output_type": "stream",
     "text": [
      "                                                                                \r"
     ]
    },
    {
     "name": "stdout",
     "output_type": "stream",
     "text": [
      "-------------------------------------------\n",
      "Batch: 1\n",
      "-------------------------------------------\n",
      "+------------------------------------------+------+-----+\n",
      "|window                                    |word  |count|\n",
      "+------------------------------------------+------+-----+\n",
      "|{2025-04-08 13:54:30, 2025-04-08 13:55:30}|holaaa|1    |\n",
      "|{2025-04-08 13:54:00, 2025-04-08 13:55:00}|holaaa|1    |\n",
      "+------------------------------------------+------+-----+\n",
      "\n"
     ]
    },
    {
     "name": "stderr",
     "output_type": "stream",
     "text": [
      "                                                                                \r"
     ]
    },
    {
     "name": "stdout",
     "output_type": "stream",
     "text": [
      "-------------------------------------------\n",
      "Batch: 2\n",
      "-------------------------------------------\n",
      "+------------------------------------------+--------+-----+\n",
      "|window                                    |word    |count|\n",
      "+------------------------------------------+--------+-----+\n",
      "|{2025-04-08 13:54:30, 2025-04-08 13:55:30}|jajaajaa|1    |\n",
      "|{2025-04-08 13:54:00, 2025-04-08 13:55:00}|jajaajaa|1    |\n",
      "+------------------------------------------+--------+-----+\n",
      "\n",
      "-------------------------------------------\n",
      "Batch: 3\n",
      "-------------------------------------------\n",
      "+------+----+-----+\n",
      "|window|word|count|\n",
      "+------+----+-----+\n",
      "+------+----+-----+\n",
      "\n"
     ]
    },
    {
     "name": "stderr",
     "output_type": "stream",
     "text": [
      "                                                                                \r"
     ]
    },
    {
     "name": "stdout",
     "output_type": "stream",
     "text": [
      "-------------------------------------------\n",
      "Batch: 4\n",
      "-------------------------------------------\n",
      "+------------------------------------------+------+-----+\n",
      "|window                                    |word  |count|\n",
      "+------------------------------------------+------+-----+\n",
      "|{2025-04-08 13:56:30, 2025-04-08 13:57:30}|srgf  |1    |\n",
      "|{2025-04-08 13:56:30, 2025-04-08 13:57:30}|wesrfe|1    |\n",
      "|{2025-04-08 13:56:00, 2025-04-08 13:57:00}|srgf  |1    |\n",
      "|{2025-04-08 13:56:00, 2025-04-08 13:57:00}|wesrfe|1    |\n",
      "+------------------------------------------+------+-----+\n",
      "\n",
      "-------------------------------------------\n",
      "Batch: 5\n",
      "-------------------------------------------\n",
      "+------+----+-----+\n",
      "|window|word|count|\n",
      "+------+----+-----+\n",
      "+------+----+-----+\n",
      "\n"
     ]
    },
    {
     "data": {
      "text/plain": [
       "False"
      ]
     },
     "execution_count": 8,
     "metadata": {},
     "output_type": "execute_result"
    }
   ],
   "source": [
    "spark.conf.set(\"spark.sql.shuffle.partitions\", \"5\")\n",
    "\n",
    "query = windowed_counts \\\n",
    "                .writeStream \\\n",
    "                .outputMode(\"update\") \\\n",
    "                .trigger(processingTime='30 seconds') \\\n",
    "                .format(\"console\") \\\n",
    "                .option(\"truncate\", \"false\") \\\n",
    "                .start()\n",
    "\n",
    "query.awaitTermination(300)"
   ]
  },
  {
   "cell_type": "markdown",
   "metadata": {},
   "source": [
    "AVG"
   ]
  },
  {
   "cell_type": "code",
   "execution_count": 9,
   "metadata": {},
   "outputs": [],
   "source": [
    "kafka_df = kafka_lines.selectExpr(\"CAST(value AS STRING) AS value_str\", \"timestamp\")"
   ]
  },
  {
   "cell_type": "code",
   "execution_count": 10,
   "metadata": {},
   "outputs": [],
   "source": [
    "words = kafka_df.select(explode(split(col(\"value_str\"), \" \")).alias(\"word\"), \"timestamp\")"
   ]
  },
  {
   "cell_type": "code",
   "execution_count": 11,
   "metadata": {},
   "outputs": [],
   "source": [
    "numerical_words = words.withColumn(\"reading\", col(\"word\").cast(\"double\"))"
   ]
  },
  {
   "cell_type": "code",
   "execution_count": 12,
   "metadata": {},
   "outputs": [],
   "source": [
    "windowed_avg = numerical_words \\\n",
    "    .withWatermark(\"timestamp\", \"2 minutes\") \\\n",
    "    .groupBy(window(col(\"timestamp\"), \n",
    "                    \"40 minute\", \n",
    "                    \"20 seconds\")) \\\n",
    "    .avg(\"reading\")"
   ]
  },
  {
   "cell_type": "code",
   "execution_count": null,
   "metadata": {},
   "outputs": [
    {
     "name": "stderr",
     "output_type": "stream",
     "text": [
      "25/04/08 14:41:54 WARN ResolveWriteToStream: Temporary checkpoint location created which is deleted normally when the query didn't fail: /tmp/temporary-fddc006a-8ec3-434a-a032-721de47d5291. If it's required to delete it under any circumstances, please set spark.sql.streaming.forceDeleteTempCheckpointLocation to true. Important to know deleting temp checkpoint folder is best effort.\n",
      "25/04/08 14:41:54 WARN ResolveWriteToStream: spark.sql.adaptive.enabled is not supported in streaming DataFrames/Datasets and will be disabled.\n",
      "25/04/08 14:41:55 WARN AdminClientConfig: These configurations '[key.deserializer, value.deserializer, enable.auto.commit, max.poll.records, auto.offset.reset]' were supplied but are not used yet.\n",
      "25/04/08 14:41:57 WARN SparkStringUtils: Truncated the string representation of a plan since it was too large. This behavior can be adjusted by setting 'spark.sql.debug.maxToStringFields'.\n",
      "                                                                                \r"
     ]
    },
    {
     "name": "stdout",
     "output_type": "stream",
     "text": [
      "-------------------------------------------\n",
      "Batch: 0\n",
      "-------------------------------------------\n",
      "+------+------------+\n",
      "|window|avg(reading)|\n",
      "+------+------------+\n",
      "+------+------------+\n",
      "\n"
     ]
    },
    {
     "name": "stderr",
     "output_type": "stream",
     "text": [
      "                                                                                \r"
     ]
    },
    {
     "name": "stdout",
     "output_type": "stream",
     "text": [
      "-------------------------------------------\n",
      "Batch: 1\n",
      "-------------------------------------------\n",
      "+------------------------------------------+-----------------+\n",
      "|window                                    |avg(reading)     |\n",
      "+------------------------------------------+-----------------+\n",
      "|{2025-04-08 14:40:20, 2025-04-08 15:20:20}|26.66666666666667|\n",
      "|{2025-04-08 14:40:00, 2025-04-08 15:20:00}|26.66666666666667|\n",
      "|{2025-04-08 14:39:20, 2025-04-08 15:19:20}|26.66666666666667|\n",
      "|{2025-04-08 14:39:00, 2025-04-08 15:19:00}|26.66666666666667|\n",
      "|{2025-04-08 14:35:20, 2025-04-08 15:15:20}|26.66666666666667|\n",
      "|{2025-04-08 14:34:00, 2025-04-08 15:14:00}|26.66666666666667|\n",
      "|{2025-04-08 14:33:40, 2025-04-08 15:13:40}|26.66666666666667|\n",
      "|{2025-04-08 14:32:20, 2025-04-08 15:12:20}|26.66666666666667|\n",
      "|{2025-04-08 14:29:20, 2025-04-08 15:09:20}|26.66666666666667|\n",
      "|{2025-04-08 14:21:40, 2025-04-08 15:01:40}|26.66666666666667|\n",
      "|{2025-04-08 14:21:00, 2025-04-08 15:01:00}|26.66666666666667|\n",
      "|{2025-04-08 14:20:00, 2025-04-08 15:00:00}|26.66666666666667|\n",
      "|{2025-04-08 14:19:40, 2025-04-08 14:59:40}|26.66666666666667|\n",
      "|{2025-04-08 14:17:00, 2025-04-08 14:57:00}|26.66666666666667|\n",
      "|{2025-04-08 14:16:20, 2025-04-08 14:56:20}|26.66666666666667|\n",
      "|{2025-04-08 14:16:00, 2025-04-08 14:56:00}|26.66666666666667|\n",
      "|{2025-04-08 14:15:20, 2025-04-08 14:55:20}|26.66666666666667|\n",
      "|{2025-04-08 14:13:20, 2025-04-08 14:53:20}|26.66666666666667|\n",
      "|{2025-04-08 14:12:40, 2025-04-08 14:52:40}|26.66666666666667|\n",
      "|{2025-04-08 14:11:20, 2025-04-08 14:51:20}|26.66666666666667|\n",
      "+------------------------------------------+-----------------+\n",
      "only showing top 20 rows\n",
      "\n"
     ]
    },
    {
     "name": "stderr",
     "output_type": "stream",
     "text": [
      "                                                                                \r"
     ]
    },
    {
     "name": "stdout",
     "output_type": "stream",
     "text": [
      "-------------------------------------------\n",
      "Batch: 2\n",
      "-------------------------------------------\n",
      "+------+------------+\n",
      "|window|avg(reading)|\n",
      "+------+------------+\n",
      "+------+------------+\n",
      "\n"
     ]
    }
   ],
   "source": [
    "spark.conf.set(\"spark.sql.shuffle.partitions\", \"5\")\n",
    "\n",
    "query = windowed_avg \\\n",
    "                .writeStream \\\n",
    "                .outputMode(\"update\") \\\n",
    "                .trigger(processingTime='30 seconds') \\\n",
    "                .format(\"console\") \\\n",
    "                .option(\"truncate\", \"false\") \\\n",
    "                .start()\n",
    "\n",
    "query.awaitTermination(150)"
   ]
  },
  {
   "cell_type": "code",
   "execution_count": 31,
   "metadata": {},
   "outputs": [],
   "source": [
    "query.stop()\n",
    "sc.stop()"
   ]
  },
  {
   "cell_type": "markdown",
   "metadata": {},
   "source": [
    "SUM"
   ]
  },
  {
   "cell_type": "code",
   "execution_count": 9,
   "metadata": {},
   "outputs": [],
   "source": [
    "kafka_df = kafka_lines.selectExpr(\"CAST(value AS STRING) AS value_str\", \"timestamp\")\n"
   ]
  },
  {
   "cell_type": "code",
   "execution_count": 10,
   "metadata": {},
   "outputs": [],
   "source": [
    "words = kafka_df.select(explode(split(col(\"value_str\"), \" \")).alias(\"word\"), \"timestamp\")\n"
   ]
  },
  {
   "cell_type": "code",
   "execution_count": 11,
   "metadata": {},
   "outputs": [],
   "source": [
    "numerical_words = words.withColumn(\"reading\", col(\"word\").cast(\"double\"))\n"
   ]
  },
  {
   "cell_type": "code",
   "execution_count": 12,
   "metadata": {},
   "outputs": [],
   "source": [
    "windowed_sum = numerical_words \\\n",
    "    .withWatermark(\"timestamp\", \"2 minutes\") \\\n",
    "    .groupBy(\n",
    "        window(col(\"timestamp\"), \"40 minute\", \"20 seconds\")\n",
    "    ) \\\n",
    "    .sum(\"reading\")\n"
   ]
  },
  {
   "cell_type": "code",
   "execution_count": 13,
   "metadata": {},
   "outputs": [],
   "source": [
    "spark.conf.set(\"spark.sql.shuffle.partitions\", \"5\")\n"
   ]
  },
  {
   "cell_type": "code",
   "execution_count": 16,
   "metadata": {},
   "outputs": [
    {
     "name": "stderr",
     "output_type": "stream",
     "text": [
      "25/04/10 04:47:07 WARN ResolveWriteToStream: Temporary checkpoint location created which is deleted normally when the query didn't fail: /tmp/temporary-5ad410ac-102e-46e4-958c-a8e078115c31. If it's required to delete it under any circumstances, please set spark.sql.streaming.forceDeleteTempCheckpointLocation to true. Important to know deleting temp checkpoint folder is best effort.\n",
      "25/04/10 04:47:07 WARN ResolveWriteToStream: spark.sql.adaptive.enabled is not supported in streaming DataFrames/Datasets and will be disabled.\n",
      "25/04/10 04:47:07 WARN AdminClientConfig: These configurations '[key.deserializer, value.deserializer, enable.auto.commit, max.poll.records, auto.offset.reset]' were supplied but are not used yet.\n",
      "                                                                                \r"
     ]
    },
    {
     "name": "stdout",
     "output_type": "stream",
     "text": [
      "-------------------------------------------\n",
      "Batch: 0\n",
      "-------------------------------------------\n",
      "+------+------------+\n",
      "|window|sum(reading)|\n",
      "+------+------------+\n",
      "+------+------------+\n",
      "\n"
     ]
    },
    {
     "name": "stderr",
     "output_type": "stream",
     "text": [
      "                                                                                \r"
     ]
    },
    {
     "name": "stdout",
     "output_type": "stream",
     "text": [
      "-------------------------------------------\n",
      "Batch: 1\n",
      "-------------------------------------------\n",
      "+------------------------------------------+------------+\n",
      "|window                                    |sum(reading)|\n",
      "+------------------------------------------+------------+\n",
      "|{2025-04-10 04:46:00, 2025-04-10 05:26:00}|95.0        |\n",
      "|{2025-04-10 04:41:00, 2025-04-10 05:21:00}|95.0        |\n",
      "|{2025-04-10 04:40:40, 2025-04-10 05:20:40}|95.0        |\n",
      "|{2025-04-10 04:39:40, 2025-04-10 05:19:40}|95.0        |\n",
      "|{2025-04-10 04:38:20, 2025-04-10 05:18:20}|95.0        |\n",
      "|{2025-04-10 04:36:40, 2025-04-10 05:16:40}|95.0        |\n",
      "|{2025-04-10 04:35:40, 2025-04-10 05:15:40}|95.0        |\n",
      "|{2025-04-10 04:33:20, 2025-04-10 05:13:20}|95.0        |\n",
      "|{2025-04-10 04:30:00, 2025-04-10 05:10:00}|95.0        |\n",
      "|{2025-04-10 04:29:00, 2025-04-10 05:09:00}|95.0        |\n",
      "|{2025-04-10 04:27:40, 2025-04-10 05:07:40}|95.0        |\n",
      "|{2025-04-10 04:27:00, 2025-04-10 05:07:00}|95.0        |\n",
      "|{2025-04-10 04:26:20, 2025-04-10 05:06:20}|95.0        |\n",
      "|{2025-04-10 04:25:00, 2025-04-10 05:05:00}|95.0        |\n",
      "|{2025-04-10 04:18:40, 2025-04-10 04:58:40}|95.0        |\n",
      "|{2025-04-10 04:17:40, 2025-04-10 04:57:40}|95.0        |\n",
      "|{2025-04-10 04:15:20, 2025-04-10 04:55:20}|95.0        |\n",
      "|{2025-04-10 04:14:40, 2025-04-10 04:54:40}|95.0        |\n",
      "|{2025-04-10 04:14:00, 2025-04-10 04:54:00}|95.0        |\n",
      "|{2025-04-10 04:13:40, 2025-04-10 04:53:40}|95.0        |\n",
      "+------------------------------------------+------------+\n",
      "only showing top 20 rows\n",
      "\n"
     ]
    },
    {
     "name": "stderr",
     "output_type": "stream",
     "text": [
      "                                                                                \r"
     ]
    },
    {
     "name": "stdout",
     "output_type": "stream",
     "text": [
      "-------------------------------------------\n",
      "Batch: 8\n",
      "-------------------------------------------\n",
      "+------------------------------------------+------------+\n",
      "|window                                    |sum(reading)|\n",
      "+------------------------------------------+------------+\n",
      "|{2025-04-10 04:46:00, 2025-04-10 05:26:00}|95.0        |\n",
      "|{2025-04-10 04:41:00, 2025-04-10 05:21:00}|1303.0      |\n",
      "|{2025-04-10 04:40:40, 2025-04-10 05:20:40}|1303.0      |\n",
      "|{2025-04-10 04:39:40, 2025-04-10 05:19:40}|1303.0      |\n",
      "|{2025-04-10 04:38:20, 2025-04-10 05:18:20}|1303.0      |\n",
      "|{2025-04-10 04:36:40, 2025-04-10 05:16:40}|1303.0      |\n",
      "|{2025-04-10 04:35:40, 2025-04-10 05:15:40}|1303.0      |\n",
      "|{2025-04-10 04:33:20, 2025-04-10 05:13:20}|1303.0      |\n",
      "|{2025-04-10 04:30:00, 2025-04-10 05:10:00}|1303.0      |\n",
      "|{2025-04-10 04:29:00, 2025-04-10 05:09:00}|1303.0      |\n",
      "|{2025-04-10 04:27:40, 2025-04-10 05:07:40}|1303.0      |\n",
      "|{2025-04-10 04:27:00, 2025-04-10 05:07:00}|1303.0      |\n",
      "|{2025-04-10 04:26:20, 2025-04-10 05:06:20}|1303.0      |\n",
      "|{2025-04-10 04:25:00, 2025-04-10 05:05:00}|1303.0      |\n",
      "|{2025-04-10 04:18:40, 2025-04-10 04:58:40}|1303.0      |\n",
      "|{2025-04-10 04:17:40, 2025-04-10 04:57:40}|1303.0      |\n",
      "|{2025-04-10 04:15:20, 2025-04-10 04:55:20}|1303.0      |\n",
      "|{2025-04-10 04:14:40, 2025-04-10 04:54:40}|1303.0      |\n",
      "|{2025-04-10 04:14:00, 2025-04-10 04:54:00}|1303.0      |\n",
      "|{2025-04-10 04:13:40, 2025-04-10 04:53:40}|1303.0      |\n",
      "+------------------------------------------+------------+\n",
      "only showing top 20 rows\n",
      "\n"
     ]
    },
    {
     "name": "stderr",
     "output_type": "stream",
     "text": [
      "25/04/10 04:48:22 WARN ProcessingTimeExecutor: Current batch is falling behind. The trigger interval is 30000 milliseconds, but spent 52459 milliseconds\n",
      "[Stage 27:===>(4 + 1) / 5][Stage 32:>   (0 + 0) / 1][Stage 34:>   (0 + 0) / 1]1]\r"
     ]
    },
    {
     "name": "stdout",
     "output_type": "stream",
     "text": [
      "-------------------------------------------\n",
      "Batch: 4\n",
      "-------------------------------------------\n",
      "+------------------------------------------+------------+\n",
      "|window                                    |sum(reading)|\n",
      "+------------------------------------------+------------+\n",
      "|{2025-04-10 04:46:00, 2025-04-10 05:26:00}|95.0        |\n",
      "|{2025-04-10 04:41:00, 2025-04-10 05:21:00}|1303.0      |\n",
      "|{2025-04-10 04:40:40, 2025-04-10 05:20:40}|1303.0      |\n",
      "|{2025-04-10 04:39:40, 2025-04-10 05:19:40}|1303.0      |\n",
      "|{2025-04-10 04:38:20, 2025-04-10 05:18:20}|1303.0      |\n",
      "|{2025-04-10 04:36:40, 2025-04-10 05:16:40}|1303.0      |\n",
      "|{2025-04-10 04:35:40, 2025-04-10 05:15:40}|1303.0      |\n",
      "|{2025-04-10 04:33:20, 2025-04-10 05:13:20}|1303.0      |\n",
      "|{2025-04-10 04:30:00, 2025-04-10 05:10:00}|1303.0      |\n",
      "|{2025-04-10 04:29:00, 2025-04-10 05:09:00}|1303.0      |\n",
      "|{2025-04-10 04:27:40, 2025-04-10 05:07:40}|1303.0      |\n",
      "|{2025-04-10 04:27:00, 2025-04-10 05:07:00}|1303.0      |\n",
      "|{2025-04-10 04:26:20, 2025-04-10 05:06:20}|1303.0      |\n",
      "|{2025-04-10 04:25:00, 2025-04-10 05:05:00}|1303.0      |\n",
      "|{2025-04-10 04:18:40, 2025-04-10 04:58:40}|1303.0      |\n",
      "|{2025-04-10 04:17:40, 2025-04-10 04:57:40}|1303.0      |\n",
      "|{2025-04-10 04:15:20, 2025-04-10 04:55:20}|1303.0      |\n",
      "|{2025-04-10 04:14:40, 2025-04-10 04:54:40}|1303.0      |\n",
      "|{2025-04-10 04:14:00, 2025-04-10 04:54:00}|1303.0      |\n",
      "|{2025-04-10 04:13:40, 2025-04-10 04:53:40}|1303.0      |\n",
      "+------------------------------------------+------------+\n",
      "only showing top 20 rows\n",
      "\n"
     ]
    },
    {
     "name": "stderr",
     "output_type": "stream",
     "text": [
      "25/04/10 04:50:06 WARN ProcessingTimeExecutor: Current batch is falling behind. The trigger interval is 30000 milliseconds, but spent 156084 milliseconds\n",
      "[Stage 33:=>  (2 + 1) / 5][Stage 35:>   (0 + 0) / 5][Stage 36:>   (0 + 0) / 1]5]\r"
     ]
    },
    {
     "data": {
      "text/plain": [
       "False"
      ]
     },
     "execution_count": 16,
     "metadata": {},
     "output_type": "execute_result"
    }
   ],
   "source": [
    "query = windowed_sum \\\n",
    "    .writeStream \\\n",
    "    .outputMode(\"update\") \\\n",
    "    .trigger(processingTime='30 seconds') \\\n",
    "    .format(\"console\") \\\n",
    "    .option(\"truncate\", \"false\") \\\n",
    "    .start()\n",
    "\n",
    "query.awaitTermination(150)\n"
   ]
  },
  {
   "cell_type": "code",
   "execution_count": null,
   "metadata": {},
   "outputs": [],
   "source": [
    "query.stop()\n",
    "sc.stop()"
   ]
  }
 ],
 "metadata": {
  "kernelspec": {
   "display_name": "Python 3 (ipykernel)",
   "language": "python",
   "name": "python3"
  },
  "language_info": {
   "codemirror_mode": {
    "name": "ipython",
    "version": 3
   },
   "file_extension": ".py",
   "mimetype": "text/x-python",
   "name": "python",
   "nbconvert_exporter": "python",
   "pygments_lexer": "ipython3",
   "version": "3.11.6"
  }
 },
 "nbformat": 4,
 "nbformat_minor": 2
}
