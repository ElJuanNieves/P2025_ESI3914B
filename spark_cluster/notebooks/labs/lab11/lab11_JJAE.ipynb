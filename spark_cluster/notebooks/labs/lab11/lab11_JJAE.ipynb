{
 "cells": [
  {
   "cell_type": "markdown",
   "id": "c14054b8",
   "metadata": {},
   "source": [
    "# <center> <img src=\"../img/ITESOLogo.png\" alt=\"ITESO\" width=\"480\" height=\"130\"> </center>\n",
    "# <center> **Departamento de Electrónica, Sistemas e Informática** </center>\n",
    "---\n",
    "## <center> **Carrera: <Coloca el nombre de tu carrera aqui>** </center>\n",
    "---\n",
    "### <center> **Primavera 2025** </center>\n",
    "---\n",
    "\n",
    "**Lab 11**: Multi classification (Decision Trees & SVM)\n",
    "\n",
    "**Fecha**: 10/05/2025\n",
    "\n",
    "**Nombre del Estudiante**:\n",
    "Jose Cota\n",
    "Andres Blanco\n",
    "Jose Hurtado\n",
    "Jose Mendoza\n",
    "\n",
    "**Profesor**: Pablo Camarillo Ramirez"
   ]
  }
 ],
 "metadata": {
  "language_info": {
   "name": "python"
  }
 },
 "nbformat": 4,
 "nbformat_minor": 5
}
