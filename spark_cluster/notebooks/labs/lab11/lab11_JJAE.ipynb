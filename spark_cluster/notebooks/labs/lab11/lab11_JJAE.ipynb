{
 "cells": [
  {
   "cell_type": "markdown",
   "metadata": {},
   "source": [
    "# <center> <img src=\"../img/ITESOLogo.png\" alt=\"ITESO\" width=\"480\" height=\"130\"> </center>\n",
    "# <center> **Departamento de Electrónica, Sistemas e Informática** </center>\n",
    "---\n",
    "## <center> **Carrera:** Ing. Sistemas Computacionales </center>\n",
    "---\n",
    "### <center> **Primavera 2025** </center>\n",
    "---\n",
    "\n",
    "**Lab 11**: Multi classification (Decision Trees & SVM)\n",
    "\n",
    "**Fecha**: 10/05/2025\n",
    "\n",
    "**Nombre del Estudiante**:\n",
    "- Jose Cota \n",
    "- Andres Blanco\n",
    "- Jose Hurtado\n",
    "- Jose Mendoza\n",
    "\n",
    "**Profesor**: Pablo Camarillo Ramirez"
   ]
  },
  {
   "cell_type": "code",
   "execution_count": 32,
   "metadata": {},
   "outputs": [],
   "source": [
    "import findspark\n",
    "findspark.init()"
   ]
  },
  {
   "cell_type": "markdown",
   "metadata": {},
   "source": [
    "#### Creacion de la conexión con el cluster de spark\n"
   ]
  },
  {
   "cell_type": "code",
   "execution_count": 33,
   "metadata": {},
   "outputs": [],
   "source": [
    "from pyspark.sql import SparkSession\n",
    "\n",
    "spark = SparkSession.builder \\\n",
    "    .appName(\"MLSpark-Decision-Trees\") \\\n",
    "    .master(\"spark://2815f8f35b28:7077\") \\\n",
    "    .config(\"spark.ui.port\",\"4040\") \\\n",
    "    .getOrCreate()\n",
    "sc = spark.sparkContext\n",
    "spark.conf.set(\"spark.sql.shuffle.partitions\", \"5\")"
   ]
  },
  {
   "cell_type": "markdown",
   "metadata": {},
   "source": [
    "### Preparación de Datos"
   ]
  },
  {
   "cell_type": "code",
   "execution_count": 34,
   "metadata": {},
   "outputs": [
    {
     "name": "stderr",
     "output_type": "stream",
     "text": [
      "[Stage 0:>                                                          (0 + 1) / 1]\r"
     ]
    },
    {
     "name": "stdout",
     "output_type": "stream",
     "text": [
      "+---+-------------+------------+-------------+------------+------------+\n",
      "| Id|SepalLengthCm|SepalWidthCm|PetalLengthCm|PetalWidthCm|     Species|\n",
      "+---+-------------+------------+-------------+------------+------------+\n",
      "|  1|          5.1|         3.5|          1.4|         0.2| Iris-setosa|\n",
      "|  2|          4.9|         3.0|          1.4|         0.2| Iris-setosa|\n",
      "|  3|          4.7|         3.2|          1.3|         0.2| Iris-setosa|\n",
      "|  4|          4.6|         3.1|          1.5|         0.2| Iris-setosa|\n",
      "|  5|          5.0|         3.6|          1.4|         0.2| Iris-setosa|\n",
      "|  6|          5.4|         3.9|          1.7|         0.4| Iris-setosa|\n",
      "|  7|          4.6|         3.4|          1.4|         0.3| Iris-setosa|\n",
      "|  8|          5.0|         3.4|          1.5|         0.2| Iris-setosa|\n",
      "|  9|          4.4|         2.9|          1.4|         0.2| Iris-setosa|\n",
      "| 10|          4.9|         3.1|          1.5|         0.1| Iris-setosa|\n",
      "| 11|          5.4|         3.7|          1.5|         0.2| Iris-setosa|\n",
      "| 12|          4.8|         3.4|          1.6|         0.2| Iris-setosa|\n",
      "| 13|          4.8|         3.0|          1.4|         0.1| Iris-setosa|\n",
      "| 14|          4.3|         3.0|          1.1|         0.1| Iris-setosa|\n",
      "| 15|          5.8|         4.0|          1.2|         0.2| Iris-setosa|\n",
      "| 16|          5.7|         4.4|          1.5|         0.4| Iris-setosa|\n",
      "| 17|          5.4|         3.9|          1.3|         0.4| Iris-setosa|\n",
      "| 18|          5.1|         3.5|          1.4|         0.3| Iris-setosa|\n",
      "| 19|          5.7|         3.8|          1.7|         0.3| Iris-setosa|\n",
      "| 20|          5.1|         3.8|          1.5|         0.3| Iris-setosa|\n",
      "+---+-------------+------------+-------------+------------+------------+\n",
      "only showing top 20 rows\n",
      "\n"
     ]
    },
    {
     "name": "stderr",
     "output_type": "stream",
     "text": [
      "                                                                                \r"
     ]
    }
   ],
   "source": [
    "from team_name.spark_utils import SparkUtils\n",
    "from pyspark.sql.functions import col, trim\n",
    "\n",
    "# Define schema for the DataFrame\n",
    "schema = SparkUtils.generate_schema([(\"Id\", \"string\"), (\"SepalLengthCm\", \"float\"), (\"SepalWidthCm\", \"float\"),\n",
    "                                    (\"PetalLengthCm\", \"float\"), (\"PetalWidthCm\", \"float\"), (\"Species\", \"string\")])\n",
    "\n",
    "# Read data Iris CSV\n",
    "iris_data = spark.read \\\n",
    "                .schema(schema) \\\n",
    "                .option(\"header\", \"true\") \\\n",
    "                .csv(\"/home/jovyan/notebooks/data/Iris.csv\")\n",
    "\n",
    "# Cast del id string a int y a df\n",
    "df = iris_data.withColumn(\"Id\", trim(col(\"Id\")).cast(\"int\"))\n",
    "df.show()"
   ]
  },
  {
   "cell_type": "markdown",
   "metadata": {},
   "source": [
    "## String to numeric label\n"
   ]
  },
  {
   "cell_type": "code",
   "execution_count": 35,
   "metadata": {},
   "outputs": [
    {
     "name": "stderr",
     "output_type": "stream",
     "text": [
      "                                                                                \r"
     ]
    },
    {
     "name": "stdout",
     "output_type": "stream",
     "text": [
      "+---+-------------+------------+-------------+------------+------------+-----+\n",
      "| Id|SepalLengthCm|SepalWidthCm|PetalLengthCm|PetalWidthCm|     Species|label|\n",
      "+---+-------------+------------+-------------+------------+------------+-----+\n",
      "|  1|          5.1|         3.5|          1.4|         0.2| Iris-setosa|  0.0|\n",
      "|  2|          4.9|         3.0|          1.4|         0.2| Iris-setosa|  0.0|\n",
      "|  3|          4.7|         3.2|          1.3|         0.2| Iris-setosa|  0.0|\n",
      "|  4|          4.6|         3.1|          1.5|         0.2| Iris-setosa|  0.0|\n",
      "|  5|          5.0|         3.6|          1.4|         0.2| Iris-setosa|  0.0|\n",
      "|  6|          5.4|         3.9|          1.7|         0.4| Iris-setosa|  0.0|\n",
      "|  7|          4.6|         3.4|          1.4|         0.3| Iris-setosa|  0.0|\n",
      "|  8|          5.0|         3.4|          1.5|         0.2| Iris-setosa|  0.0|\n",
      "|  9|          4.4|         2.9|          1.4|         0.2| Iris-setosa|  0.0|\n",
      "| 10|          4.9|         3.1|          1.5|         0.1| Iris-setosa|  0.0|\n",
      "| 11|          5.4|         3.7|          1.5|         0.2| Iris-setosa|  0.0|\n",
      "| 12|          4.8|         3.4|          1.6|         0.2| Iris-setosa|  0.0|\n",
      "| 13|          4.8|         3.0|          1.4|         0.1| Iris-setosa|  0.0|\n",
      "| 14|          4.3|         3.0|          1.1|         0.1| Iris-setosa|  0.0|\n",
      "| 15|          5.8|         4.0|          1.2|         0.2| Iris-setosa|  0.0|\n",
      "+---+-------------+------------+-------------+------------+------------+-----+\n",
      "only showing top 15 rows\n",
      "\n"
     ]
    }
   ],
   "source": [
    "from pyspark.ml.feature import StringIndexer\n",
    "\n",
    "label_indexer = StringIndexer(inputCol=\"Species\", outputCol=\"label\")\n",
    "data = label_indexer.fit(df).transform(df)\n",
    "data.show(15) # Para comprobar el label a valor numerico"
   ]
  },
  {
   "cell_type": "markdown",
   "metadata": {},
   "source": [
    "### Assemble the features into a single vector column"
   ]
  },
  {
   "cell_type": "code",
   "execution_count": 36,
   "metadata": {},
   "outputs": [
    {
     "name": "stdout",
     "output_type": "stream",
     "text": [
      "+-----+--------------------+\n",
      "|label|            features|\n",
      "+-----+--------------------+\n",
      "|  0.0|[5.09999990463256...|\n",
      "|  0.0|[4.90000009536743...|\n",
      "|  0.0|[4.69999980926513...|\n",
      "|  0.0|[4.59999990463256...|\n",
      "|  0.0|[5.0,3.5999999046...|\n",
      "+-----+--------------------+\n",
      "only showing top 5 rows\n",
      "\n"
     ]
    }
   ],
   "source": [
    "from pyspark.ml.feature import VectorAssembler\n",
    "\n",
    "assembler = VectorAssembler(inputCols=[\"SepalLengthCm\", \"SepalWidthCm\", \"PetalLengthCm\", \"PetalWidthCm\"], outputCol=\"features\" )\n",
    "data_with_features = assembler.transform(data).select(\"label\", \"features\")\n",
    "data_with_features.show(5)"
   ]
  },
  {
   "cell_type": "markdown",
   "metadata": {},
   "source": [
    "### Split the data into training and test sets 80% training data and 20% testing data"
   ]
  },
  {
   "cell_type": "code",
   "execution_count": 37,
   "metadata": {},
   "outputs": [],
   "source": [
    "train_df, test_df = data_with_features.randomSplit([0.8, 0.2], seed=57)"
   ]
  },
  {
   "cell_type": "markdown",
   "metadata": {},
   "source": [
    "### Show the whole dataset"
   ]
  },
  {
   "cell_type": "code",
   "execution_count": 38,
   "metadata": {},
   "outputs": [
    {
     "name": "stdout",
     "output_type": "stream",
     "text": [
      "Original Dataset\n",
      "+-----+--------------------+\n",
      "|label|            features|\n",
      "+-----+--------------------+\n",
      "|  0.0|[5.09999990463256...|\n",
      "|  0.0|[4.90000009536743...|\n",
      "|  0.0|[4.69999980926513...|\n",
      "|  0.0|[4.59999990463256...|\n",
      "|  0.0|[5.0,3.5999999046...|\n",
      "|  0.0|[5.40000009536743...|\n",
      "|  0.0|[4.59999990463256...|\n",
      "|  0.0|[5.0,3.4000000953...|\n",
      "|  0.0|[4.40000009536743...|\n",
      "|  0.0|[4.90000009536743...|\n",
      "|  0.0|[5.40000009536743...|\n",
      "|  0.0|[4.80000019073486...|\n",
      "|  0.0|[4.80000019073486...|\n",
      "|  0.0|[4.30000019073486...|\n",
      "|  0.0|[5.80000019073486...|\n",
      "|  0.0|[5.69999980926513...|\n",
      "|  0.0|[5.40000009536743...|\n",
      "|  0.0|[5.09999990463256...|\n",
      "|  0.0|[5.69999980926513...|\n",
      "|  0.0|[5.09999990463256...|\n",
      "+-----+--------------------+\n",
      "only showing top 20 rows\n",
      "\n",
      "train set\n",
      "+-----+--------------------+\n",
      "|label|            features|\n",
      "+-----+--------------------+\n",
      "|  0.0|[4.30000019073486...|\n",
      "|  0.0|[4.40000009536743...|\n",
      "|  0.0|[4.40000009536743...|\n",
      "|  0.0|[4.40000009536743...|\n",
      "|  0.0|[4.5,2.2999999523...|\n",
      "|  0.0|[4.59999990463256...|\n",
      "|  0.0|[4.59999990463256...|\n",
      "|  0.0|[4.59999990463256...|\n",
      "|  0.0|[4.59999990463256...|\n",
      "|  0.0|[4.69999980926513...|\n",
      "|  0.0|[4.69999980926513...|\n",
      "|  0.0|[4.80000019073486...|\n",
      "|  0.0|[4.80000019073486...|\n",
      "|  0.0|[4.80000019073486...|\n",
      "|  0.0|[4.80000019073486...|\n",
      "|  0.0|[4.80000019073486...|\n",
      "|  0.0|[4.90000009536743...|\n",
      "|  0.0|[4.90000009536743...|\n",
      "|  0.0|[4.90000009536743...|\n",
      "|  0.0|[4.90000009536743...|\n",
      "+-----+--------------------+\n",
      "only showing top 20 rows\n",
      "\n"
     ]
    }
   ],
   "source": [
    "print(\"Original Dataset\")\n",
    "data_with_features.show()\n",
    "\n",
    "# Print train dataset\n",
    "print(\"train set\")\n",
    "train_df.show()"
   ]
  },
  {
   "cell_type": "markdown",
   "metadata": {},
   "source": [
    "# Decision Tree Model (Training and Predictions) - Iris"
   ]
  },
  {
   "cell_type": "code",
   "execution_count": 39,
   "metadata": {},
   "outputs": [
    {
     "name": "stdout",
     "output_type": "stream",
     "text": [
      "Decision Tree model summary:DecisionTreeClassificationModel: uid=DecisionTreeClassifier_f0e8794db825, depth=5, numNodes=15, numClasses=3, numFeatures=4\n",
      "  If (feature 2 <= 2.449999988079071)\n",
      "   Predict: 0.0\n",
      "  Else (feature 2 > 2.449999988079071)\n",
      "   If (feature 2 <= 4.8500001430511475)\n",
      "    If (feature 3 <= 1.6500000357627869)\n",
      "     Predict: 1.0\n",
      "    Else (feature 3 > 1.6500000357627869)\n",
      "     If (feature 0 <= 5.950000047683716)\n",
      "      Predict: 1.0\n",
      "     Else (feature 0 > 5.950000047683716)\n",
      "      Predict: 2.0\n",
      "   Else (feature 2 > 4.8500001430511475)\n",
      "    If (feature 3 <= 1.75)\n",
      "     If (feature 2 <= 4.950000047683716)\n",
      "      Predict: 1.0\n",
      "     Else (feature 2 > 4.950000047683716)\n",
      "      If (feature 3 <= 1.550000011920929)\n",
      "       Predict: 2.0\n",
      "      Else (feature 3 > 1.550000011920929)\n",
      "       Predict: 1.0\n",
      "    Else (feature 3 > 1.75)\n",
      "     Predict: 2.0\n",
      "\n",
      "PREDICTIONS\n",
      "+--------------------+----------+\n",
      "|            features|prediction|\n",
      "+--------------------+----------+\n",
      "|[5.0,3.4000000953...|       0.0|\n",
      "|[5.0,3.5,1.299999...|       0.0|\n",
      "|[5.09999990463256...|       0.0|\n",
      "|[5.19999980926513...|       0.0|\n",
      "|[5.40000009536743...|       0.0|\n",
      "|[5.69999980926513...|       1.0|\n",
      "|[5.80000019073486...|       1.0|\n",
      "|[5.80000019073486...|       1.0|\n",
      "|[6.09999990463256...|       1.0|\n",
      "|[6.09999990463256...|       1.0|\n",
      "|[6.19999980926513...|       1.0|\n",
      "|[6.30000019073486...|       1.0|\n",
      "|[6.69999980926513...|       1.0|\n",
      "|[4.90000009536743...|       1.0|\n",
      "|[6.0,3.0,4.800000...|       2.0|\n",
      "|[6.09999990463256...|       2.0|\n",
      "|[6.19999980926513...|       2.0|\n",
      "|[6.30000019073486...|       2.0|\n",
      "|[6.30000019073486...|       2.0|\n",
      "|[6.40000009536743...|       2.0|\n",
      "|[6.80000019073486...|       2.0|\n",
      "|[7.69999980926513...|       2.0|\n",
      "+--------------------+----------+\n",
      "\n"
     ]
    }
   ],
   "source": [
    "from pyspark.ml.classification import DecisionTreeClassifier\n",
    "\n",
    "# Initialize and train the Decision Tree model\n",
    "dt = DecisionTreeClassifier(labelCol=\"label\", featuresCol=\"features\")\n",
    "\n",
    "# Training\n",
    "dt_model = dt.fit(train_df)\n",
    "\n",
    "# Display model summary\n",
    "print(\"Decision Tree model summary:{0}\".format(dt_model.toDebugString))\n",
    "\n",
    "\n",
    "# Predict\n",
    "# Use the trained model to make predictions on the test data\n",
    "predictions = dt_model.transform(test_df)\n",
    "\n",
    "# Show predictions\n",
    "print(\"PREDICTIONS\")\n",
    "predictions.select(\"features\", \"prediction\").show(30)"
   ]
  },
  {
   "cell_type": "markdown",
   "metadata": {},
   "source": [
    "# Decision Tree - MODEL TESTING"
   ]
  },
  {
   "cell_type": "code",
   "execution_count": 40,
   "metadata": {},
   "outputs": [
    {
     "name": "stdout",
     "output_type": "stream",
     "text": [
      "Accuracy: 0.9545454545454546\n",
      "Precision: 0.9595959595959596\n",
      "Recall: 0.9545454545454546\n",
      "F1 Score: 0.9545454545454545\n"
     ]
    }
   ],
   "source": [
    "from pyspark.ml.evaluation import MulticlassClassificationEvaluator\n",
    "\n",
    "evaluator_dtree = MulticlassClassificationEvaluator(labelCol=\"label\",\n",
    "                            predictionCol=\"prediction\")\n",
    "\n",
    "accuracy_dtree = evaluator_dtree.evaluate(predictions, \n",
    "                  {evaluator_dtree.metricName: \"accuracy\"})\n",
    "print(f\"Accuracy: {accuracy_dtree}\")\n",
    "precision_dtree = evaluator_dtree.evaluate(predictions,\n",
    "                  {evaluator_dtree.metricName: \"weightedPrecision\"})\n",
    "print(f\"Precision: {precision_dtree}\")\n",
    "recall_dtree = evaluator_dtree.evaluate(predictions,\n",
    "                  {evaluator_dtree.metricName: \"weightedRecall\"})\n",
    "print(f\"Recall: {recall_dtree}\")\n",
    "f1_dtree = evaluator_dtree.evaluate(predictions,\n",
    "                {evaluator_dtree.metricName: \"f1\"})\n",
    "print(f\"F1 Score: {f1_dtree}\")   "
   ]
  },
  {
   "cell_type": "markdown",
   "metadata": {},
   "source": [
    "# SVM - Iris"
   ]
  },
  {
   "cell_type": "code",
   "execution_count": 41,
   "metadata": {},
   "outputs": [],
   "source": [
    "from pyspark.ml.classification import LinearSVC, OneVsRest\n",
    "\n",
    "# Initialize and configure the LinearSVC model ADD oneVsRest\n",
    "lsvc = LinearSVC(maxIter=10, regParam=0.01) # regParam para el overfitting <= 10% o 0.1\n",
    "ovr = OneVsRest(classifier=lsvc)\n",
    "\n",
    "# Train SVM Model\n",
    "iris_svm_model = ovr.fit(train_df)\n",
    "\n",
    "# Predictions\n",
    "predictions_svm = iris_svm_model.transform(test_df)\n"
   ]
  },
  {
   "cell_type": "markdown",
   "metadata": {},
   "source": [
    "# Evaluate predictions SVM"
   ]
  },
  {
   "cell_type": "code",
   "execution_count": 43,
   "metadata": {},
   "outputs": [
    {
     "name": "stderr",
     "output_type": "stream",
     "text": [
      "                                                                                \r"
     ]
    },
    {
     "name": "stdout",
     "output_type": "stream",
     "text": [
      "SVM Accuracy:  0.8636\n",
      "SVM Precision: 0.8662\n",
      "SVM Recall:    0.8636\n",
      "SVM F1 Score:  0.8627\n"
     ]
    }
   ],
   "source": [
    "evaluator = MulticlassClassificationEvaluator(labelCol=\"label\", predictionCol=\"prediction\")\n",
    "\n",
    "accuracy_svm = evaluator.evaluate(predictions_svm, {evaluator.metricName: \"accuracy\"})\n",
    "print(f\"SVM Accuracy:  {accuracy_svm:.4f}\")\n",
    "\n",
    "precision_svm = evaluator.evaluate(predictions_svm, {evaluator.metricName: \"weightedPrecision\"})\n",
    "print(f\"SVM Precision: {precision_svm:.4f}\")\n",
    "\n",
    "recall_svm = evaluator.evaluate(predictions_svm, {evaluator.metricName: \"weightedRecall\"})\n",
    "print(f\"SVM Recall:    {recall_svm:.4f}\")\n",
    "\n",
    "f1_svm = evaluator.evaluate(predictions_svm, {evaluator.metricName: \"f1\"})\n",
    "print(f\"SVM F1 Score:  {f1_svm:.4f}\")\n"
   ]
  },
  {
   "cell_type": "markdown",
   "metadata": {},
   "source": [
    "# Comparisons F1 Score"
   ]
  },
  {
   "cell_type": "code",
   "execution_count": 44,
   "metadata": {},
   "outputs": [
    {
     "name": "stdout",
     "output_type": "stream",
     "text": [
      "F1 Score SVM: 0.8627\n",
      "F1 Score Decision Tree: 0.9545\n"
     ]
    }
   ],
   "source": [
    "print(f\"F1 Score SVM: {f1_svm:.4f}\")\n",
    "print(f\"F1 Score Decision Tree: {f1_dtree:.4f}\")\n"
   ]
  },
  {
   "cell_type": "code",
   "execution_count": 30,
   "metadata": {},
   "outputs": [],
   "source": [
    "sc.stop()"
   ]
  }
 ],
 "metadata": {
  "kernelspec": {
   "display_name": "Python 3 (ipykernel)",
   "language": "python",
   "name": "python3"
  },
  "language_info": {
   "codemirror_mode": {
    "name": "ipython",
    "version": 3
   },
   "file_extension": ".py",
   "mimetype": "text/x-python",
   "name": "python",
   "nbconvert_exporter": "python",
   "pygments_lexer": "ipython3",
   "version": "3.11.6"
  }
 },
 "nbformat": 4,
 "nbformat_minor": 4
}
