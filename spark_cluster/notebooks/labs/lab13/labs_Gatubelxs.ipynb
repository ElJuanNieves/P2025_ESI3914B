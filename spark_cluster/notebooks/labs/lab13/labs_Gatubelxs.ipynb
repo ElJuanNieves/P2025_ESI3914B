{
 "cells": [
  {
   "cell_type": "markdown",
   "metadata": {},
   "source": [
    "# <center> <img src=\"img/ITESOLogo.png\" alt=\"ITESO\" width=\"480\" height=\"130\"> </center>\n",
    "# <center> **Departamento de Electrónica, Sistemas e Informática** </center>\n",
    "---\n",
    "## <center> **Carrera: <Coloca el nombre de tu carrera aqui>** </center>\n",
    "---\n",
    "### <center> **Primavera 2025** </center>\n",
    "---\n",
    "\n",
    "**Lab 13**: Clustering with k-means\n",
    "\n",
    "**Fecha**: 08/05/2025\n",
    "\n",
    "**Equipo**:\n",
    "- Luis Raúl Acosta Mendoza\n",
    "- Samantha Abigail Quintero Valadez \n",
    "- Arturo Benjamin Vergara Romo\n",
    "\n",
    "**Profesor**: Pablo Camarillo Ramirez"
   ]
  },
  {
   "cell_type": "code",
   "execution_count": 8,
   "metadata": {},
   "outputs": [],
   "source": [
    "import findspark\n",
    "findspark.init()"
   ]
  },
  {
   "cell_type": "code",
   "execution_count": 9,
   "metadata": {},
   "outputs": [
    {
     "name": "stderr",
     "output_type": "stream",
     "text": [
      "25/05/08 20:19:01 WARN Utils: Service 'SparkUI' could not bind on port 4040. Attempting port 4041.\n"
     ]
    }
   ],
   "source": [
    "from pyspark.sql import SparkSession\n",
    "\n",
    "spark = SparkSession.builder \\\n",
    "    .appName(\"MLSpark-Wine-K-means-Gatubelxs\") \\\n",
    "    .master(\"spark://b33dcc1265b4:7077\") \\\n",
    "    .config(\"spark.ui.port\", \"4040\") \\\n",
    "    .getOrCreate()\n",
    "sc = spark.sparkContext\n",
    "spark.conf.set(\"spark.sql.shuffle.partitions\", \"5\")"
   ]
  },
  {
   "cell_type": "code",
   "execution_count": 12,
   "metadata": {},
   "outputs": [],
   "source": [
    "from gatubelxs.spark_utils import SparkUtils\n",
    "\n",
    "def generate_schema(columns):\n",
    "    return [(col, \"float\") for col in columns]"
   ]
  },
  {
   "cell_type": "code",
   "execution_count": 15,
   "metadata": {},
   "outputs": [
    {
     "name": "stdout",
     "output_type": "stream",
     "text": [
      "+-------+----------+----+------------+---------+-------------+----------+--------------------+---------------+---------------+----+-----+-------+\n",
      "|Alcohol|Malic_Acid| Ash|Ash_Alcanity|Magnesium|Total_Phenols|Flavanoids|Nonflavanoid_Phenols|Proanthocyanins|Color_Intensity| Hue|OD280|Proline|\n",
      "+-------+----------+----+------------+---------+-------------+----------+--------------------+---------------+---------------+----+-----+-------+\n",
      "|  14.23|      1.71|2.43|        15.6|    127.0|          2.8|      3.06|                0.28|           2.29|           5.64|1.04| 3.92| 1065.0|\n",
      "|   13.2|      1.78|2.14|        11.2|    100.0|         2.65|      2.76|                0.26|           1.28|           4.38|1.05|  3.4| 1050.0|\n",
      "|  13.16|      2.36|2.67|        18.6|    101.0|          2.8|      3.24|                 0.3|           2.81|           5.68|1.03| 3.17| 1185.0|\n",
      "|  14.37|      1.95| 2.5|        16.8|    113.0|         3.85|      3.49|                0.24|           2.18|            7.8|0.86| 3.45| 1480.0|\n",
      "|  13.24|      2.59|2.87|        21.0|    118.0|          2.8|      2.69|                0.39|           1.82|           4.32|1.04| 2.93|  735.0|\n",
      "|   14.2|      1.76|2.45|        15.2|    112.0|         3.27|      3.39|                0.34|           1.97|           6.75|1.05| 2.85| 1450.0|\n",
      "|  14.39|      1.87|2.45|        14.6|     96.0|          2.5|      2.52|                 0.3|           1.98|           5.25|1.02| 3.58| 1290.0|\n",
      "|  14.06|      2.15|2.61|        17.6|    121.0|          2.6|      2.51|                0.31|           1.25|           5.05|1.06| 3.58| 1295.0|\n",
      "|  14.83|      1.64|2.17|        14.0|     97.0|          2.8|      2.98|                0.29|           1.98|            5.2|1.08| 2.85| 1045.0|\n",
      "|  13.86|      1.35|2.27|        16.0|     98.0|         2.98|      3.15|                0.22|           1.85|           7.22|1.01| 3.55| 1045.0|\n",
      "|   14.1|      2.16| 2.3|        18.0|    105.0|         2.95|      3.32|                0.22|           2.38|           5.75|1.25| 3.17| 1510.0|\n",
      "|  14.12|      1.48|2.32|        16.8|     95.0|          2.2|      2.43|                0.26|           1.57|            5.0|1.17| 2.82| 1280.0|\n",
      "|  13.75|      1.73|2.41|        16.0|     89.0|          2.6|      2.76|                0.29|           1.81|            5.6|1.15|  2.9| 1320.0|\n",
      "|  14.75|      1.73|2.39|        11.4|     91.0|          3.1|      3.69|                0.43|           2.81|            5.4|1.25| 2.73| 1150.0|\n",
      "|  14.38|      1.87|2.38|        12.0|    102.0|          3.3|      3.64|                0.29|           2.96|            7.5| 1.2|  3.0| 1547.0|\n",
      "|  13.63|      1.81| 2.7|        17.2|    112.0|         2.85|      2.91|                 0.3|           1.46|            7.3|1.28| 2.88| 1310.0|\n",
      "|   14.3|      1.92|2.72|        20.0|    120.0|          2.8|      3.14|                0.33|           1.97|            6.2|1.07| 2.65| 1280.0|\n",
      "|  13.83|      1.57|2.62|        20.0|    115.0|         2.95|       3.4|                 0.4|           1.72|            6.6|1.13| 2.57| 1130.0|\n",
      "|  14.19|      1.59|2.48|        16.5|    108.0|          3.3|      3.93|                0.32|           1.86|            8.7|1.23| 2.82| 1680.0|\n",
      "|  13.64|       3.1|2.56|        15.2|    116.0|          2.7|      3.03|                0.17|           1.66|            5.1|0.96| 3.36|  845.0|\n",
      "|  14.06|      1.63|2.28|        16.0|    126.0|          3.0|      3.17|                0.24|            2.1|           5.65|1.09| 3.71|  780.0|\n",
      "|  12.93|       3.8|2.65|        18.6|    102.0|         2.41|      2.41|                0.25|           1.98|            4.5|1.03| 3.52|  770.0|\n",
      "|  13.71|      1.86|2.36|        16.6|    101.0|         2.61|      2.88|                0.27|           1.69|            3.8|1.11|  4.0| 1035.0|\n",
      "|  12.85|       1.6|2.52|        17.8|     95.0|         2.48|      2.37|                0.26|           1.46|           3.93|1.09| 3.63| 1015.0|\n",
      "|   13.5|      1.81|2.61|        20.0|     96.0|         2.53|      2.61|                0.28|           1.66|           3.52|1.12| 3.82|  845.0|\n",
      "|  13.05|      2.05|3.22|        25.0|    124.0|         2.63|      2.68|                0.47|           1.92|           3.58|1.13|  3.2|  830.0|\n",
      "|  13.39|      1.77|2.62|        16.1|     93.0|         2.85|      2.94|                0.34|           1.45|            4.8|0.92| 3.22| 1195.0|\n",
      "|   13.3|      1.72|2.14|        17.0|     94.0|          2.4|      2.19|                0.27|           1.35|           3.95|1.02| 2.77| 1285.0|\n",
      "|  13.87|       1.9| 2.8|        19.4|    107.0|         2.95|      2.97|                0.37|           1.76|            4.5|1.25|  3.4|  915.0|\n",
      "|  14.02|      1.68|2.21|        16.0|     96.0|         2.65|      2.33|                0.26|           1.98|            4.7|1.04| 3.59| 1035.0|\n",
      "|  13.73|       1.5| 2.7|        22.5|    101.0|          3.0|      3.25|                0.29|           2.38|            5.7|1.19| 2.71| 1285.0|\n",
      "|  13.58|      1.66|2.36|        19.1|    106.0|         2.86|      3.19|                0.22|           1.95|            6.9|1.09| 2.88| 1515.0|\n",
      "|  13.68|      1.83|2.36|        17.2|    104.0|         2.42|      2.69|                0.42|           1.97|           3.84|1.23| 2.87|  990.0|\n",
      "|  13.76|      1.53| 2.7|        19.5|    132.0|         2.95|      2.74|                 0.5|           1.35|            5.4|1.25|  3.0| 1235.0|\n",
      "|  13.51|       1.8|2.65|        19.0|    110.0|         2.35|      2.53|                0.29|           1.54|            4.2| 1.1| 2.87| 1095.0|\n",
      "|  13.48|      1.81|2.41|        20.5|    100.0|          2.7|      2.98|                0.26|           1.86|            5.1|1.04| 3.47|  920.0|\n",
      "|  13.28|      1.64|2.84|        15.5|    110.0|          2.6|      2.68|                0.34|           1.36|            4.6|1.09| 2.78|  880.0|\n",
      "|  13.05|      1.65|2.55|        18.0|     98.0|         2.45|      2.43|                0.29|           1.44|           4.25|1.12| 2.51| 1105.0|\n",
      "|  13.07|       1.5| 2.1|        15.5|     98.0|          2.4|      2.64|                0.28|           1.37|            3.7|1.18| 2.69| 1020.0|\n",
      "|  14.22|      3.99|2.51|        13.2|    128.0|          3.0|      3.04|                 0.2|           2.08|            5.1|0.89| 3.53|  760.0|\n",
      "+-------+----------+----+------------+---------+-------------+----------+--------------------+---------------+---------------+----+-----+-------+\n",
      "only showing top 40 rows\n",
      "\n"
     ]
    }
   ],
   "source": [
    "columns = [\n",
    "    \"Alcohol\",\"Malic_Acid\",\"Ash\",\"Ash_Alcanity\",\"Magnesium\",\"Total_Phenols\",\"Flavanoids\",\"Nonflavanoid_Phenols\",\"Proanthocyanins\",\"Color_Intensity\",\"Hue\",\"OD280\",\"Proline\"\n",
    "]\n",
    "\n",
    "schema = SparkUtils.generate_schema(generate_schema(columns))\n",
    "\n",
    "wine_df = spark \\\n",
    "    .read \\\n",
    "    .schema(schema) \\\n",
    "    .option(\"header\", \"true\") \\\n",
    "    .csv(\"/home/jovyan/notebooks/data/wine-clustering.csv\")\n",
    "\n",
    "wine_df.show(40)"
   ]
  },
  {
   "cell_type": "markdown",
   "metadata": {},
   "source": [
    "#### Assemble features into a single vector"
   ]
  },
  {
   "cell_type": "code",
   "execution_count": 16,
   "metadata": {},
   "outputs": [],
   "source": [
    "from pyspark.ml.feature import VectorAssembler\n",
    "\n",
    "assembler = VectorAssembler(inputCols=columns, outputCol=\"features\")\n",
    "assembled_win_df = assembler.transform(wine_df)"
   ]
  },
  {
   "cell_type": "markdown",
   "metadata": {},
   "source": [
    "#### K-Means"
   ]
  },
  {
   "cell_type": "code",
   "execution_count": 22,
   "metadata": {},
   "outputs": [],
   "source": [
    "from pyspark.ml.clustering import KMeans\n",
    "from pyspark.ml.evaluation import ClusteringEvaluator\n",
    "\n",
    "def eval_k_means(k):\n",
    "    k_means = KMeans().setK(k).setSeed(19)\n",
    "    model = k_means.fit(assembled_win_df)\n",
    "    predictions = model.transform(assembled_win_df)\n",
    "\n",
    "    evaluator = ClusteringEvaluator()\n",
    "    silhouette = evaluator.evaluate(predictions)\n",
    "    print(f\"Silhoutte score: {silhouette}\")"
   ]
  },
  {
   "cell_type": "code",
   "execution_count": 23,
   "metadata": {},
   "outputs": [
    {
     "name": "stdout",
     "output_type": "stream",
     "text": [
      "Silhoutte score: 0.821360351333219\n",
      "Silhoutte score: 0.6099911274077665\n",
      "Silhoutte score: 0.6663309347635443\n",
      "Silhoutte score: 0.6341822740902026\n"
     ]
    }
   ],
   "source": [
    "k_values = [2,10,15,20]\n",
    "\n",
    "for k in k_values:\n",
    "    eval_k_means(k)"
   ]
  },
  {
   "cell_type": "code",
   "execution_count": 7,
   "metadata": {},
   "outputs": [],
   "source": [
    "sc.stop()"
   ]
  }
 ],
 "metadata": {
  "kernelspec": {
   "display_name": "Python 3 (ipykernel)",
   "language": "python",
   "name": "python3"
  },
  "language_info": {
   "codemirror_mode": {
    "name": "ipython",
    "version": 3
   },
   "file_extension": ".py",
   "mimetype": "text/x-python",
   "name": "python",
   "nbconvert_exporter": "python",
   "pygments_lexer": "ipython3",
   "version": "3.11.6"
  }
 },
 "nbformat": 4,
 "nbformat_minor": 2
}
