{
 "cells": [
  {
   "cell_type": "markdown",
   "metadata": {},
   "source": [
    "# <center> <img src=\"../img/ITESOLogo.png\" alt=\"ITESO\" width=\"480\" height=\"130\"> </center>\n",
    "# <center> **Departamento de Electrónica, Sistemas e Informática** </center>\n",
    "---\n",
    "## <center> **Procesamiento de Datos Masivos** </center>\n",
    "---\n",
    "### <center> **Primavera 2025** </center>\n",
    "---\n",
    "### <center> **Code Lab 13: Wine** </center>\n",
    "\n",
    "---\n",
    "**Profesor**: Dr. Pablo Camarillo Ramirez<br />\n",
    "**Equipo**: JJAE<br />\n",
    "**Integrantes**: Jose Cota, Jose Hurtado, Jose Mendoza, Andres Blanco"
   ]
  },
  {
   "cell_type": "code",
   "execution_count": 1,
   "metadata": {},
   "outputs": [],
   "source": [
    "import findspark\n",
    "findspark.init()"
   ]
  },
  {
   "cell_type": "markdown",
   "metadata": {},
   "source": [
    "#### Creacion de la conexión con el cluster de spark\n"
   ]
  },
  {
   "cell_type": "code",
   "execution_count": 2,
   "metadata": {},
   "outputs": [
    {
     "name": "stderr",
     "output_type": "stream",
     "text": [
      "Setting default log level to \"WARN\".\n",
      "To adjust logging level use sc.setLogLevel(newLevel). For SparkR, use setLogLevel(newLevel).\n",
      "25/05/09 17:09:02 WARN NativeCodeLoader: Unable to load native-hadoop library for your platform... using builtin-java classes where applicable\n"
     ]
    }
   ],
   "source": [
    "from pyspark.sql import SparkSession\n",
    "\n",
    "spark = SparkSession.builder \\\n",
    "    .appName(\"WineLab\") \\\n",
    "    .master(\"spark://dc612074df78:7077\") \\\n",
    "    .config(\"spark.ui.port\",\"4040\") \\\n",
    "    .getOrCreate()\n",
    "sc = spark.sparkContext\n",
    "spark.conf.set(\"spark.sql.shuffle.partitions\", \"5\")"
   ]
  },
  {
   "cell_type": "code",
   "execution_count": 7,
   "metadata": {},
   "outputs": [
    {
     "name": "stdout",
     "output_type": "stream",
     "text": [
      "StructType([StructField('Alcohol', FloatType(), True), StructField('Malic_Acid', FloatType(), True), StructField('Ash', FloatType(), True), StructField('Ash_Alcanity', FloatType(), True), StructField('Magnesium', FloatType(), True), StructField('Total_Phenols', FloatType(), True), StructField('Flavanoids', FloatType(), True), StructField('Nonflavanoid_Phenols', FloatType(), True), StructField('Proanthocyanins', FloatType(), True), StructField('Color_Intensity', FloatType(), True), StructField('Hue', FloatType(), True), StructField('OD280', FloatType(), True), StructField('Proline', FloatType(), True)])\n"
     ]
    }
   ],
   "source": [
    "from JJAE.spark_utils import SparkUtils\n",
    "\n",
    "columns = [\n",
    "    \"Alcohol\", \"Malic_Acid\", \"Ash\", \"Ash_Alcanity\", \"Magnesium\",\n",
    "    \"Total_Phenols\", \"Flavanoids\", \"Nonflavanoid_Phenols\", \"Proanthocyanins\",\n",
    "    \"Color_Intensity\", \"Hue\", \"OD280\", \"Proline\"\n",
    "]\n",
    "\n",
    "column_data_types = [\"FloatType\"] * len(columns)\n",
    "columns_info = list(zip(columns, column_data_types))\n",
    "\n",
    "schema = SparkUtils.generate_schema(columns_info)\n",
    "print(schema)"
   ]
  },
  {
   "cell_type": "code",
   "execution_count": 16,
   "metadata": {},
   "outputs": [
    {
     "name": "stdout",
     "output_type": "stream",
     "text": [
      "root\n",
      " |-- Alcohol: float (nullable = true)\n",
      " |-- Malic_Acid: float (nullable = true)\n",
      " |-- Ash: float (nullable = true)\n",
      " |-- Ash_Alcanity: float (nullable = true)\n",
      " |-- Magnesium: float (nullable = true)\n",
      " |-- Total_Phenols: float (nullable = true)\n",
      " |-- Flavanoids: float (nullable = true)\n",
      " |-- Nonflavanoid_Phenols: float (nullable = true)\n",
      " |-- Proanthocyanins: float (nullable = true)\n",
      " |-- Color_Intensity: float (nullable = true)\n",
      " |-- Hue: float (nullable = true)\n",
      " |-- OD280: float (nullable = true)\n",
      " |-- Proline: float (nullable = true)\n",
      "\n",
      "+-------+----------+----+------------+---------+-------------+----------+--------------------+---------------+---------------+----+-----+-------+\n",
      "|Alcohol|Malic_Acid| Ash|Ash_Alcanity|Magnesium|Total_Phenols|Flavanoids|Nonflavanoid_Phenols|Proanthocyanins|Color_Intensity| Hue|OD280|Proline|\n",
      "+-------+----------+----+------------+---------+-------------+----------+--------------------+---------------+---------------+----+-----+-------+\n",
      "|  14.23|      1.71|2.43|        15.6|    127.0|          2.8|      3.06|                0.28|           2.29|           5.64|1.04| 3.92| 1065.0|\n",
      "|   13.2|      1.78|2.14|        11.2|    100.0|         2.65|      2.76|                0.26|           1.28|           4.38|1.05|  3.4| 1050.0|\n",
      "|  13.16|      2.36|2.67|        18.6|    101.0|          2.8|      3.24|                 0.3|           2.81|           5.68|1.03| 3.17| 1185.0|\n",
      "|  14.37|      1.95| 2.5|        16.8|    113.0|         3.85|      3.49|                0.24|           2.18|            7.8|0.86| 3.45| 1480.0|\n",
      "|  13.24|      2.59|2.87|        21.0|    118.0|          2.8|      2.69|                0.39|           1.82|           4.32|1.04| 2.93|  735.0|\n",
      "+-------+----------+----+------------+---------+-------------+----------+--------------------+---------------+---------------+----+-----+-------+\n",
      "only showing top 5 rows\n",
      "\n"
     ]
    }
   ],
   "source": [
    "wine_df = spark.read.schema(schema).option(\"header\", \"true\").csv(\"/home/jovyan/notebooks/data/wine-clustering.csv\")\n",
    "wine_df.printSchema()\n",
    "wine_df.show(5)"
   ]
  },
  {
   "cell_type": "markdown",
   "metadata": {},
   "source": [
    "# ML vector\n"
   ]
  },
  {
   "cell_type": "code",
   "execution_count": 20,
   "metadata": {},
   "outputs": [
    {
     "name": "stdout",
     "output_type": "stream",
     "text": [
      "\n",
      "Silhouette score for k = 2: 0.821360351333219\n",
      "Silhouette score for k = 10: 0.6810238482372347\n",
      "Silhouette score for k = 15: 0.6844672307118249\n",
      "Silhouette score for k = 20: 0.6393344257369509\n"
     ]
    }
   ],
   "source": [
    "from pyspark.ml.feature import VectorAssembler\n",
    "from pyspark.ml.clustering import KMeans\n",
    "from pyspark.ml.evaluation import ClusteringEvaluator\n",
    "\n",
    "assembler = VectorAssembler(inputCols=columns, outputCol=\"Resultados\")\n",
    "assembled_df = assembler.transform(wine_df)\n",
    "\n",
    "# Tomamos los valores\n",
    "k_values = [2, 10, 15, 20]\n",
    "models = []\n",
    "predictions_list = []\n",
    "silhouette_scores = []\n",
    "\n",
    "evaluator = ClusteringEvaluator(featuresCol=\"Resultados\", metricName=\"silhouette\", distanceMeasure=\"squaredEuclidean\")\n",
    "print()\n",
    "\n",
    "for k in k_values:\n",
    "    kmeans = KMeans(featuresCol=\"Resultados\", k=k, seed=1)\n",
    "    model = kmeans.fit(assembled_df)\n",
    "    models.append(model)\n",
    "    \n",
    "    predictions = model.transform(assembled_df)\n",
    "    predictions_list.append(predictions)\n",
    "    \n",
    "    silhouette = evaluator.evaluate(predictions)\n",
    "    silhouette_scores.append(silhouette)\n",
    "    \n",
    "    print(f\"Silhouette score for k = {k}: {silhouette}\")"
   ]
  },
  {
   "cell_type": "code",
   "execution_count": 21,
   "metadata": {},
   "outputs": [],
   "source": [
    "sc.stop()"
   ]
  }
 ],
 "metadata": {
  "kernelspec": {
   "display_name": "Python 3 (ipykernel)",
   "language": "python",
   "name": "python3"
  },
  "language_info": {
   "codemirror_mode": {
    "name": "ipython",
    "version": 3
   },
   "file_extension": ".py",
   "mimetype": "text/x-python",
   "name": "python",
   "nbconvert_exporter": "python",
   "pygments_lexer": "ipython3",
   "version": "3.11.6"
  }
 },
 "nbformat": 4,
 "nbformat_minor": 2
}
