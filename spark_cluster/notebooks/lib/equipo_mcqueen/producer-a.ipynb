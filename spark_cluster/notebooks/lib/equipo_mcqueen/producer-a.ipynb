{
 "cells": [
  {
   "cell_type": "markdown",
   "id": "526ae9f6",
   "metadata": {},
   "source": [
    "# <center> <img src=\"./img/ITESOLogo.png\" alt=\"ITESO\" width=\"480\" height=\"130\"> </center>\n",
    "# <center> **Departamento de Electrónica, Sistemas e Informática** </center>\n",
    "---\n",
    "## <center> **Proyecto Final: Productor A** </center>\n",
    "---\n",
    "\n",
    "<center>\n",
    "\n",
    "**Equipo McQueen**: Marco Albanese, Vicente Siloe\n",
    "\n",
    "**Carrera**: Ingeniería en Sistemas Computacionales\n",
    "\n",
    "**Fecha**: 13 de mayo del 2025\n",
    "\n",
    "**Profesor**: Pablo Camarillo Ramirez\n",
    "\n",
    "</center>\n",
    "\n",
    "---\n",
    "### <center> **Primavera 2025** </center>\n",
    "---"
   ]
  },
  {
   "cell_type": "markdown",
   "id": "7463c41c",
   "metadata": {},
   "source": [
    "Este productor requiere el uso de las librerías `kafka-python` y `faker`. Si no se encuentran instaladas, crea dos celdas de código y ejecuta los siguientes comandos:\n",
    "\n",
    "`!pip install kafka-python`\n",
    "\n",
    "`!pip install faker`"
   ]
  },
  {
   "cell_type": "code",
   "execution_count": null,
   "id": "6c366db0",
   "metadata": {},
   "outputs": [],
   "source": [
    "# Importar librerías necesarias\n",
    "from equipo_mcqueen.website_activity import generate_website_event\n",
    "from kafka import KafkaProducer\n",
    "import time\n",
    "import json\n",
    "import random\n",
    "\n",
    "# Configuración de Kafka (servidor y tópico)\n",
    "KAFKA_SERVER = 'dd45a1cb237c:9093'\n",
    "TOPIC_NAME = 'producer-a'\n",
    "\n",
    "# Inicializar el productor de Kafka\n",
    "producer = KafkaProducer(\n",
    "    bootstrap_servers = KAFKA_SERVER,\n",
    "    # Serializar datos como JSON\n",
    "    value_serializer = lambda v: json.dumps(v).encode('utf-8')\n",
    ")\n",
    "\n",
    "# Variable para contar los mensajes enviados\n",
    "message_count = 0\n",
    "\n",
    "# Generar y enviar eventos de actividad del sitio web\n",
    "try:\n",
    "    print(f\"Starting producer for topic: {TOPIC_NAME}\")\n",
    "    while True:\n",
    "        # Generar un evento de actividad del sitio web\n",
    "        event = generate_website_event()\n",
    "        producer.send(TOPIC_NAME, event)\n",
    "        \n",
    "        # Contar el número de mensajes enviados\n",
    "        message_count += 1\n",
    "        if message_count % 10 == 0:\n",
    "            print(f\"Sent {message_count} messages...\")\n",
    "        \n",
    "        # Delay aleatorio entre 0.1 y 1 segundo\n",
    "        time.sleep(random.uniform(0.1, 1))\n",
    "\n",
    "# Si se interrumpe el proceso, mostrar el número total de mensajes enviados\n",
    "except KeyboardInterrupt:\n",
    "    print(f\"\\nTotal messages sent: {message_count}\")\n",
    "# Cerrar el productor de Kafka\n",
    "finally:\n",
    "    producer.close()"
   ]
  }
 ],
 "metadata": {
  "kernelspec": {
   "display_name": "Python 3 (ipykernel)",
   "language": "python",
   "name": "python3"
  }
 },
 "nbformat": 4,
 "nbformat_minor": 5
}
