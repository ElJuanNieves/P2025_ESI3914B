{
 "cells": [
  {
   "cell_type": "markdown",
   "id": "526ae9f6",
   "metadata": {},
   "source": [
    "# <center> <img src=\"./img/ITESOLogo.png\" alt=\"ITESO\" width=\"480\" height=\"130\"> </center>\n",
    "# <center> **Departamento de Electrónica, Sistemas e Informática** </center>\n",
    "---\n",
    "## <center> **Proyecto Final: Productor A** </center>\n",
    "---\n",
    "\n",
    "<center>\n",
    "\n",
    "**Equipo McQueen**: Marco Albanese, Vicente Siloe\n",
    "\n",
    "**Carrera**: Ingeniería en Sistemas Computacionales\n",
    "\n",
    "**Fecha**: 13 de mayo del 2025\n",
    "\n",
    "**Profesor**: Pablo Camarillo Ramirez\n",
    "\n",
    "</center>\n",
    "\n",
    "---\n",
    "### <center> **Primavera 2025** </center>\n",
    "---"
   ]
  },
  {
   "cell_type": "markdown",
   "id": "7463c41c",
   "metadata": {},
   "source": [
    "Este productor requiere el uso de las librerías `kafka-python` y `faker`. Si no se encuentran instaladas, crea dos celdas de código y ejecuta los siguientes comandos:\n",
    "\n",
    "`!pip install kafka-python`\n",
    "\n",
    "`!pip install faker`"
   ]
  },
  {
   "cell_type": "code",
   "execution_count": 1,
   "id": "3ff038e9",
   "metadata": {},
   "outputs": [
    {
     "name": "stdout",
     "output_type": "stream",
     "text": [
      "\u001b[33mWARNING: The directory '/home/jovyan/.cache/pip' or its parent directory is not owned or is not writable by the current user. The cache has been disabled. Check the permissions and owner of that directory. If executing pip with sudo, you should use sudo's -H flag.\u001b[0m\u001b[33m\n",
      "\u001b[0mCollecting kafka-python\n",
      "  Downloading kafka_python-2.2.6-py2.py3-none-any.whl.metadata (10.0 kB)\n",
      "Downloading kafka_python-2.2.6-py2.py3-none-any.whl (308 kB)\n",
      "\u001b[2K   \u001b[90m━━━━━━━━━━━━━━━━━━━━━━━━━━━━━━━━━━━━━━━━\u001b[0m \u001b[32m308.2/308.2 kB\u001b[0m \u001b[31m2.8 MB/s\u001b[0m eta \u001b[36m0:00:00\u001b[0ma \u001b[36m0:00:01\u001b[0m\n",
      "\u001b[?25hInstalling collected packages: kafka-python\n",
      "Successfully installed kafka-python-2.2.6\n",
      "\u001b[33mWARNING: Running pip as the 'root' user can result in broken permissions and conflicting behaviour with the system package manager. It is recommended to use a virtual environment instead: https://pip.pypa.io/warnings/venv\u001b[0m\u001b[33m\n",
      "\u001b[0m"
     ]
    }
   ],
   "source": [
    "!pip install kafka-python"
   ]
  },
  {
   "cell_type": "code",
   "execution_count": 2,
   "id": "8c281193",
   "metadata": {},
   "outputs": [
    {
     "name": "stdout",
     "output_type": "stream",
     "text": [
      "\u001b[33mWARNING: The directory '/home/jovyan/.cache/pip' or its parent directory is not owned or is not writable by the current user. The cache has been disabled. Check the permissions and owner of that directory. If executing pip with sudo, you should use sudo's -H flag.\u001b[0m\u001b[33m\n",
      "\u001b[0mCollecting faker\n",
      "  Downloading faker-37.1.0-py3-none-any.whl.metadata (15 kB)\n",
      "Collecting tzdata (from faker)\n",
      "  Downloading tzdata-2025.2-py2.py3-none-any.whl.metadata (1.4 kB)\n",
      "Downloading faker-37.1.0-py3-none-any.whl (1.9 MB)\n",
      "\u001b[2K   \u001b[90m━━━━━━━━━━━━━━━━━━━━━━━━━━━━━━━━━━━━━━━━\u001b[0m \u001b[32m1.9/1.9 MB\u001b[0m \u001b[31m6.7 MB/s\u001b[0m eta \u001b[36m0:00:00\u001b[0ma \u001b[36m0:00:01\u001b[0m\n",
      "\u001b[?25hDownloading tzdata-2025.2-py2.py3-none-any.whl (347 kB)\n",
      "\u001b[2K   \u001b[90m━━━━━━━━━━━━━━━━━━━━━━━━━━━━━━━━━━━━━━━━\u001b[0m \u001b[32m347.8/347.8 kB\u001b[0m \u001b[31m12.6 MB/s\u001b[0m eta \u001b[36m0:00:00\u001b[0m\n",
      "\u001b[?25hInstalling collected packages: tzdata, faker\n",
      "Successfully installed faker-37.1.0 tzdata-2025.2\n",
      "\u001b[33mWARNING: Running pip as the 'root' user can result in broken permissions and conflicting behaviour with the system package manager. It is recommended to use a virtual environment instead: https://pip.pypa.io/warnings/venv\u001b[0m\u001b[33m\n",
      "\u001b[0m"
     ]
    }
   ],
   "source": [
    "!pip install faker"
   ]
  },
  {
   "cell_type": "code",
   "execution_count": 3,
   "id": "6c366db0",
   "metadata": {},
   "outputs": [
    {
     "name": "stdout",
     "output_type": "stream",
     "text": [
      "Starting producer for topic: producer-a\n",
      "Sent 10 messages...\n",
      "Sent 20 messages...\n",
      "Sent 30 messages...\n",
      "Sent 40 messages...\n",
      "Sent 50 messages...\n",
      "Sent 60 messages...\n",
      "Sent 70 messages...\n",
      "Sent 80 messages...\n",
      "Sent 90 messages...\n",
      "Sent 100 messages...\n",
      "Sent 110 messages...\n",
      "Sent 120 messages...\n",
      "Sent 130 messages...\n",
      "Sent 140 messages...\n",
      "Sent 150 messages...\n",
      "Sent 160 messages...\n",
      "Sent 170 messages...\n",
      "Sent 180 messages...\n",
      "Sent 190 messages...\n",
      "Sent 200 messages...\n",
      "Sent 210 messages...\n",
      "Sent 220 messages...\n",
      "Sent 230 messages...\n",
      "Sent 240 messages...\n",
      "Sent 250 messages...\n",
      "Sent 260 messages...\n",
      "Sent 270 messages...\n",
      "Sent 280 messages...\n",
      "\n",
      "Total messages sent: 288\n"
     ]
    }
   ],
   "source": [
    "# Importar librerías necesarias\n",
    "from equipo_mcqueen.website_activity import generate_website_event\n",
    "from kafka import KafkaProducer\n",
    "import time\n",
    "import json\n",
    "import random\n",
    "\n",
    "# Configuración de Kafka (servidor y tópico)\n",
    "KAFKA_SERVER = '4fcb95a9039f:9093'\n",
    "TOPIC_NAME = 'producer-a'\n",
    "\n",
    "# Inicializar el productor de Kafka\n",
    "producer = KafkaProducer(\n",
    "    bootstrap_servers = KAFKA_SERVER,\n",
    "    # Serializar datos como JSON\n",
    "    value_serializer = lambda v: json.dumps(v).encode('utf-8')\n",
    ")\n",
    "\n",
    "# Variable para contar los mensajes enviados\n",
    "message_count = 0\n",
    "\n",
    "# Generar y enviar eventos de actividad del sitio web\n",
    "try:\n",
    "    print(f\"Starting producer for topic: {TOPIC_NAME}\")\n",
    "    while True:\n",
    "        # Generar un evento de actividad del sitio web\n",
    "        event = generate_website_event()\n",
    "        producer.send(TOPIC_NAME, event)\n",
    "        \n",
    "        # Contar el número de mensajes enviados\n",
    "        message_count += 1\n",
    "        if message_count % 10 == 0:\n",
    "            print(f\"Sent {message_count} messages...\")\n",
    "        \n",
    "        # Delay aleatorio entre 0.1 y 1 segundo\n",
    "        time.sleep(random.uniform(0.1, 1))\n",
    "\n",
    "# Si se interrumpe el proceso, mostrar el número total de mensajes enviados\n",
    "except KeyboardInterrupt:\n",
    "    print(f\"\\nTotal messages sent: {message_count}\")\n",
    "# Cerrar el productor de Kafka\n",
    "finally:\n",
    "    producer.close()"
   ]
  }
 ],
 "metadata": {
  "kernelspec": {
   "display_name": "Python 3 (ipykernel)",
   "language": "python",
   "name": "python3"
  },
  "language_info": {
   "codemirror_mode": {
    "name": "ipython",
    "version": 3
   },
   "file_extension": ".py",
   "mimetype": "text/x-python",
   "name": "python",
   "nbconvert_exporter": "python",
   "pygments_lexer": "ipython3",
   "version": "3.11.6"
  }
 },
 "nbformat": 4,
 "nbformat_minor": 5
}
